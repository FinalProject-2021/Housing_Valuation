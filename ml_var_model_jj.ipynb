{
 "metadata": {
  "language_info": {
   "codemirror_mode": {
    "name": "ipython",
    "version": 3
   },
   "file_extension": ".py",
   "mimetype": "text/x-python",
   "name": "python",
   "nbconvert_exporter": "python",
   "pygments_lexer": "ipython3",
   "version": "3.6.10"
  },
  "orig_nbformat": 2,
  "kernelspec": {
   "name": "python3610jvsc74a57bd0832a58595f549721e5808a4f038b9464c2d8e6e19db5e8e2fb21cf5b549373c5",
   "display_name": "Python 3.6.10 64-bit ('PythonData': conda)"
  }
 },
 "nbformat": 4,
 "nbformat_minor": 2,
 "cells": [
  {
   "cell_type": "code",
   "execution_count": 20,
   "metadata": {},
   "outputs": [],
   "source": [
    "import pandas as pd\n",
    "import numpy as np\n",
    "from sklearn import metrics\n",
    "from sklearn.metrics import confusion_matrix\n",
    "from sklearn.metrics import accuracy_score\n",
    "from sklearn.model_selection import train_test_split\n",
    "from sklearn.metrics import mean_squared_log_error\n",
    "from math import sqrt\n",
    "\n",
    "from statsmodels.tsa.vector_ar.var_model import VAR"
   ]
  },
  {
   "source": [
    "# Bring in raw data and prepare for VAR model"
   ],
   "cell_type": "markdown",
   "metadata": {}
  },
  {
   "cell_type": "code",
   "execution_count": 22,
   "metadata": {},
   "outputs": [
    {
     "output_type": "execute_result",
     "data": {
      "text/plain": [
       "   Zip_Code        Date  Date_Code  Year  Month  Sale_Price  Interest_Rate  \\\n",
       "0     32003  2019-01-01     201901  2019      1    244950.0         4.4640   \n",
       "1     32003  2019-02-01     201902  2019      2    270000.0         4.3700   \n",
       "2     32003  2019-03-01     201903  2019      3    275000.0         4.2650   \n",
       "3     32003  2019-04-01     201904  2019      4    264500.0         4.1425   \n",
       "4     32003  2019-05-01     201905  2019      5    281000.0         4.0720   \n",
       "\n",
       "   Property_Tax  Rent_Price  Household_Income  ...  FTE_Employed  Unemployed  \\\n",
       "0          3778        1113           94154.0  ...         10671        1069   \n",
       "1          3778        1113           94154.0  ...         10671        1069   \n",
       "2          3778        1113           94154.0  ...         10671        1069   \n",
       "3          3778        1113           94154.0  ...         10671        1069   \n",
       "4          3778        1113           94154.0  ...         10671        1069   \n",
       "\n",
       "   Expense_Index  Average_Commute  Crime_Index Loan_Amount  Loan_Term  \\\n",
       "0            104               35           28    195960.0      360.0   \n",
       "1            104               35           28    216000.0      360.0   \n",
       "2            104               35           28    220000.0      360.0   \n",
       "3            104               35           28    211600.0      360.0   \n",
       "4            104               35           28    224800.0      360.0   \n",
       "\n",
       "     Loan_R  Loan_Payment  Home_Affordability  \n",
       "0  1.003720    988.713278            0.126012  \n",
       "1  1.003642   1077.819242            0.137369  \n",
       "2  1.003554   1084.200547            0.138182  \n",
       "3  1.003452   1027.671397            0.130978  \n",
       "4  1.003393   1082.581718            0.137976  \n",
       "\n",
       "[5 rows x 30 columns]"
      ],
      "text/html": "<div>\n<style scoped>\n    .dataframe tbody tr th:only-of-type {\n        vertical-align: middle;\n    }\n\n    .dataframe tbody tr th {\n        vertical-align: top;\n    }\n\n    .dataframe thead th {\n        text-align: right;\n    }\n</style>\n<table border=\"1\" class=\"dataframe\">\n  <thead>\n    <tr style=\"text-align: right;\">\n      <th></th>\n      <th>Zip_Code</th>\n      <th>Date</th>\n      <th>Date_Code</th>\n      <th>Year</th>\n      <th>Month</th>\n      <th>Sale_Price</th>\n      <th>Interest_Rate</th>\n      <th>Property_Tax</th>\n      <th>Rent_Price</th>\n      <th>Household_Income</th>\n      <th>...</th>\n      <th>FTE_Employed</th>\n      <th>Unemployed</th>\n      <th>Expense_Index</th>\n      <th>Average_Commute</th>\n      <th>Crime_Index</th>\n      <th>Loan_Amount</th>\n      <th>Loan_Term</th>\n      <th>Loan_R</th>\n      <th>Loan_Payment</th>\n      <th>Home_Affordability</th>\n    </tr>\n  </thead>\n  <tbody>\n    <tr>\n      <th>0</th>\n      <td>32003</td>\n      <td>2019-01-01</td>\n      <td>201901</td>\n      <td>2019</td>\n      <td>1</td>\n      <td>244950.0</td>\n      <td>4.4640</td>\n      <td>3778</td>\n      <td>1113</td>\n      <td>94154.0</td>\n      <td>...</td>\n      <td>10671</td>\n      <td>1069</td>\n      <td>104</td>\n      <td>35</td>\n      <td>28</td>\n      <td>195960.0</td>\n      <td>360.0</td>\n      <td>1.003720</td>\n      <td>988.713278</td>\n      <td>0.126012</td>\n    </tr>\n    <tr>\n      <th>1</th>\n      <td>32003</td>\n      <td>2019-02-01</td>\n      <td>201902</td>\n      <td>2019</td>\n      <td>2</td>\n      <td>270000.0</td>\n      <td>4.3700</td>\n      <td>3778</td>\n      <td>1113</td>\n      <td>94154.0</td>\n      <td>...</td>\n      <td>10671</td>\n      <td>1069</td>\n      <td>104</td>\n      <td>35</td>\n      <td>28</td>\n      <td>216000.0</td>\n      <td>360.0</td>\n      <td>1.003642</td>\n      <td>1077.819242</td>\n      <td>0.137369</td>\n    </tr>\n    <tr>\n      <th>2</th>\n      <td>32003</td>\n      <td>2019-03-01</td>\n      <td>201903</td>\n      <td>2019</td>\n      <td>3</td>\n      <td>275000.0</td>\n      <td>4.2650</td>\n      <td>3778</td>\n      <td>1113</td>\n      <td>94154.0</td>\n      <td>...</td>\n      <td>10671</td>\n      <td>1069</td>\n      <td>104</td>\n      <td>35</td>\n      <td>28</td>\n      <td>220000.0</td>\n      <td>360.0</td>\n      <td>1.003554</td>\n      <td>1084.200547</td>\n      <td>0.138182</td>\n    </tr>\n    <tr>\n      <th>3</th>\n      <td>32003</td>\n      <td>2019-04-01</td>\n      <td>201904</td>\n      <td>2019</td>\n      <td>4</td>\n      <td>264500.0</td>\n      <td>4.1425</td>\n      <td>3778</td>\n      <td>1113</td>\n      <td>94154.0</td>\n      <td>...</td>\n      <td>10671</td>\n      <td>1069</td>\n      <td>104</td>\n      <td>35</td>\n      <td>28</td>\n      <td>211600.0</td>\n      <td>360.0</td>\n      <td>1.003452</td>\n      <td>1027.671397</td>\n      <td>0.130978</td>\n    </tr>\n    <tr>\n      <th>4</th>\n      <td>32003</td>\n      <td>2019-05-01</td>\n      <td>201905</td>\n      <td>2019</td>\n      <td>5</td>\n      <td>281000.0</td>\n      <td>4.0720</td>\n      <td>3778</td>\n      <td>1113</td>\n      <td>94154.0</td>\n      <td>...</td>\n      <td>10671</td>\n      <td>1069</td>\n      <td>104</td>\n      <td>35</td>\n      <td>28</td>\n      <td>224800.0</td>\n      <td>360.0</td>\n      <td>1.003393</td>\n      <td>1082.581718</td>\n      <td>0.137976</td>\n    </tr>\n  </tbody>\n</table>\n<p>5 rows × 30 columns</p>\n</div>"
     },
     "metadata": {},
     "execution_count": 22
    }
   ],
   "source": [
    "data = pd.read_csv('Resources/Clean_Data/Final_Data.csv')\n",
    "data.head()"
   ]
  },
  {
   "cell_type": "code",
   "execution_count": 23,
   "metadata": {},
   "outputs": [
    {
     "output_type": "execute_result",
     "data": {
      "text/plain": [
       "   Zip_Code  Date_Code  Mobility_Rate  Expense_Index  Crime_Index  \\\n",
       "0     32003     201901       0.182327            104           28   \n",
       "1     32003     201902       0.182327            104           28   \n",
       "2     32003     201903       0.182327            104           28   \n",
       "3     32003     201904       0.182327            104           28   \n",
       "4     32003     201905       0.182327            104           28   \n",
       "\n",
       "   Total_Vacant  Total_Dwellings  Total_Sales  FHA_Count  Home_Affordability  \\\n",
       "0           704            11724           32          7            0.126012   \n",
       "1           704            11724           41          2            0.137369   \n",
       "2           704            11724           21          7            0.138182   \n",
       "3           704            11724           42          3            0.130978   \n",
       "4           704            11724           66          8            0.137976   \n",
       "\n",
       "   Rent_Affordability  Sale_Price  \n",
       "0            0.141853    244950.0  \n",
       "1            0.141853    270000.0  \n",
       "2            0.141853    275000.0  \n",
       "3            0.141853    264500.0  \n",
       "4            0.141853    281000.0  "
      ],
      "text/html": "<div>\n<style scoped>\n    .dataframe tbody tr th:only-of-type {\n        vertical-align: middle;\n    }\n\n    .dataframe tbody tr th {\n        vertical-align: top;\n    }\n\n    .dataframe thead th {\n        text-align: right;\n    }\n</style>\n<table border=\"1\" class=\"dataframe\">\n  <thead>\n    <tr style=\"text-align: right;\">\n      <th></th>\n      <th>Zip_Code</th>\n      <th>Date_Code</th>\n      <th>Mobility_Rate</th>\n      <th>Expense_Index</th>\n      <th>Crime_Index</th>\n      <th>Total_Vacant</th>\n      <th>Total_Dwellings</th>\n      <th>Total_Sales</th>\n      <th>FHA_Count</th>\n      <th>Home_Affordability</th>\n      <th>Rent_Affordability</th>\n      <th>Sale_Price</th>\n    </tr>\n  </thead>\n  <tbody>\n    <tr>\n      <th>0</th>\n      <td>32003</td>\n      <td>201901</td>\n      <td>0.182327</td>\n      <td>104</td>\n      <td>28</td>\n      <td>704</td>\n      <td>11724</td>\n      <td>32</td>\n      <td>7</td>\n      <td>0.126012</td>\n      <td>0.141853</td>\n      <td>244950.0</td>\n    </tr>\n    <tr>\n      <th>1</th>\n      <td>32003</td>\n      <td>201902</td>\n      <td>0.182327</td>\n      <td>104</td>\n      <td>28</td>\n      <td>704</td>\n      <td>11724</td>\n      <td>41</td>\n      <td>2</td>\n      <td>0.137369</td>\n      <td>0.141853</td>\n      <td>270000.0</td>\n    </tr>\n    <tr>\n      <th>2</th>\n      <td>32003</td>\n      <td>201903</td>\n      <td>0.182327</td>\n      <td>104</td>\n      <td>28</td>\n      <td>704</td>\n      <td>11724</td>\n      <td>21</td>\n      <td>7</td>\n      <td>0.138182</td>\n      <td>0.141853</td>\n      <td>275000.0</td>\n    </tr>\n    <tr>\n      <th>3</th>\n      <td>32003</td>\n      <td>201904</td>\n      <td>0.182327</td>\n      <td>104</td>\n      <td>28</td>\n      <td>704</td>\n      <td>11724</td>\n      <td>42</td>\n      <td>3</td>\n      <td>0.130978</td>\n      <td>0.141853</td>\n      <td>264500.0</td>\n    </tr>\n    <tr>\n      <th>4</th>\n      <td>32003</td>\n      <td>201905</td>\n      <td>0.182327</td>\n      <td>104</td>\n      <td>28</td>\n      <td>704</td>\n      <td>11724</td>\n      <td>66</td>\n      <td>8</td>\n      <td>0.137976</td>\n      <td>0.141853</td>\n      <td>281000.0</td>\n    </tr>\n  </tbody>\n</table>\n</div>"
     },
     "metadata": {},
     "execution_count": 23
    }
   ],
   "source": [
    "ml_data = data[['Zip_Code', 'Date_Code', 'Mobility_Rate', 'Expense_Index', 'Crime_Index' , 'Total_Vacant', 'Total_Dwellings', 'Total_Sales', 'FHA_Count', 'Home_Affordability', 'Rent_Affordability', 'Sale_Price' ]]\n",
    "ml_data.head()"
   ]
  },
  {
   "cell_type": "code",
   "execution_count": 24,
   "metadata": {},
   "outputs": [
    {
     "output_type": "execute_result",
     "data": {
      "text/plain": [
       "          Date_Code  Mobility_Rate  Expense_Index  Crime_Index  Total_Vacant  \\\n",
       "Zip_Code                                                                       \n",
       "32003        201901       0.182327            104           28           704   \n",
       "32003        201902       0.182327            104           28           704   \n",
       "32003        201903       0.182327            104           28           704   \n",
       "32003        201904       0.182327            104           28           704   \n",
       "32003        201905       0.182327            104           28           704   \n",
       "...             ...            ...            ...          ...           ...   \n",
       "34997        202011       0.143471             91          113          2976   \n",
       "34997        202012       0.143471             91          113          2976   \n",
       "34997        202101       0.143471             91          113          2976   \n",
       "34997        202102       0.143471             91          113          2976   \n",
       "34997        202103       0.143471             91          113          2976   \n",
       "\n",
       "          Total_Dwellings  Total_Sales  FHA_Count  Home_Affordability  \\\n",
       "Zip_Code                                                                \n",
       "32003               11724           32          7            0.126012   \n",
       "32003               11724           41          2            0.137369   \n",
       "32003               11724           21          7            0.138182   \n",
       "32003               11724           42          3            0.130978   \n",
       "32003               11724           66          8            0.137976   \n",
       "...                   ...          ...        ...                 ...   \n",
       "34997               21551          132         11            0.173497   \n",
       "34997               21551          142         16            0.196301   \n",
       "34997               21551           81         10            0.202930   \n",
       "34997               21551          116          7            0.201553   \n",
       "34997               21551            7         12            0.416754   \n",
       "\n",
       "          Rent_Affordability  Sale_Price  \n",
       "Zip_Code                                  \n",
       "32003               0.141853    244950.0  \n",
       "32003               0.141853    270000.0  \n",
       "32003               0.141853    275000.0  \n",
       "32003               0.141853    264500.0  \n",
       "32003               0.141853    281000.0  \n",
       "...                      ...         ...  \n",
       "34997               0.247189    259750.0  \n",
       "34997               0.247189    297000.0  \n",
       "34997               0.247189    305000.0  \n",
       "34997               0.247189    300000.0  \n",
       "34997               0.247189    599000.0  \n",
       "\n",
       "[23477 rows x 11 columns]"
      ],
      "text/html": "<div>\n<style scoped>\n    .dataframe tbody tr th:only-of-type {\n        vertical-align: middle;\n    }\n\n    .dataframe tbody tr th {\n        vertical-align: top;\n    }\n\n    .dataframe thead th {\n        text-align: right;\n    }\n</style>\n<table border=\"1\" class=\"dataframe\">\n  <thead>\n    <tr style=\"text-align: right;\">\n      <th></th>\n      <th>Date_Code</th>\n      <th>Mobility_Rate</th>\n      <th>Expense_Index</th>\n      <th>Crime_Index</th>\n      <th>Total_Vacant</th>\n      <th>Total_Dwellings</th>\n      <th>Total_Sales</th>\n      <th>FHA_Count</th>\n      <th>Home_Affordability</th>\n      <th>Rent_Affordability</th>\n      <th>Sale_Price</th>\n    </tr>\n    <tr>\n      <th>Zip_Code</th>\n      <th></th>\n      <th></th>\n      <th></th>\n      <th></th>\n      <th></th>\n      <th></th>\n      <th></th>\n      <th></th>\n      <th></th>\n      <th></th>\n      <th></th>\n    </tr>\n  </thead>\n  <tbody>\n    <tr>\n      <th>32003</th>\n      <td>201901</td>\n      <td>0.182327</td>\n      <td>104</td>\n      <td>28</td>\n      <td>704</td>\n      <td>11724</td>\n      <td>32</td>\n      <td>7</td>\n      <td>0.126012</td>\n      <td>0.141853</td>\n      <td>244950.0</td>\n    </tr>\n    <tr>\n      <th>32003</th>\n      <td>201902</td>\n      <td>0.182327</td>\n      <td>104</td>\n      <td>28</td>\n      <td>704</td>\n      <td>11724</td>\n      <td>41</td>\n      <td>2</td>\n      <td>0.137369</td>\n      <td>0.141853</td>\n      <td>270000.0</td>\n    </tr>\n    <tr>\n      <th>32003</th>\n      <td>201903</td>\n      <td>0.182327</td>\n      <td>104</td>\n      <td>28</td>\n      <td>704</td>\n      <td>11724</td>\n      <td>21</td>\n      <td>7</td>\n      <td>0.138182</td>\n      <td>0.141853</td>\n      <td>275000.0</td>\n    </tr>\n    <tr>\n      <th>32003</th>\n      <td>201904</td>\n      <td>0.182327</td>\n      <td>104</td>\n      <td>28</td>\n      <td>704</td>\n      <td>11724</td>\n      <td>42</td>\n      <td>3</td>\n      <td>0.130978</td>\n      <td>0.141853</td>\n      <td>264500.0</td>\n    </tr>\n    <tr>\n      <th>32003</th>\n      <td>201905</td>\n      <td>0.182327</td>\n      <td>104</td>\n      <td>28</td>\n      <td>704</td>\n      <td>11724</td>\n      <td>66</td>\n      <td>8</td>\n      <td>0.137976</td>\n      <td>0.141853</td>\n      <td>281000.0</td>\n    </tr>\n    <tr>\n      <th>...</th>\n      <td>...</td>\n      <td>...</td>\n      <td>...</td>\n      <td>...</td>\n      <td>...</td>\n      <td>...</td>\n      <td>...</td>\n      <td>...</td>\n      <td>...</td>\n      <td>...</td>\n      <td>...</td>\n    </tr>\n    <tr>\n      <th>34997</th>\n      <td>202011</td>\n      <td>0.143471</td>\n      <td>91</td>\n      <td>113</td>\n      <td>2976</td>\n      <td>21551</td>\n      <td>132</td>\n      <td>11</td>\n      <td>0.173497</td>\n      <td>0.247189</td>\n      <td>259750.0</td>\n    </tr>\n    <tr>\n      <th>34997</th>\n      <td>202012</td>\n      <td>0.143471</td>\n      <td>91</td>\n      <td>113</td>\n      <td>2976</td>\n      <td>21551</td>\n      <td>142</td>\n      <td>16</td>\n      <td>0.196301</td>\n      <td>0.247189</td>\n      <td>297000.0</td>\n    </tr>\n    <tr>\n      <th>34997</th>\n      <td>202101</td>\n      <td>0.143471</td>\n      <td>91</td>\n      <td>113</td>\n      <td>2976</td>\n      <td>21551</td>\n      <td>81</td>\n      <td>10</td>\n      <td>0.202930</td>\n      <td>0.247189</td>\n      <td>305000.0</td>\n    </tr>\n    <tr>\n      <th>34997</th>\n      <td>202102</td>\n      <td>0.143471</td>\n      <td>91</td>\n      <td>113</td>\n      <td>2976</td>\n      <td>21551</td>\n      <td>116</td>\n      <td>7</td>\n      <td>0.201553</td>\n      <td>0.247189</td>\n      <td>300000.0</td>\n    </tr>\n    <tr>\n      <th>34997</th>\n      <td>202103</td>\n      <td>0.143471</td>\n      <td>91</td>\n      <td>113</td>\n      <td>2976</td>\n      <td>21551</td>\n      <td>7</td>\n      <td>12</td>\n      <td>0.416754</td>\n      <td>0.247189</td>\n      <td>599000.0</td>\n    </tr>\n  </tbody>\n</table>\n<p>23477 rows × 11 columns</p>\n</div>"
     },
     "metadata": {},
     "execution_count": 24
    }
   ],
   "source": [
    "var_data = ml_data.sort_values(by = ['Zip_Code','Date_Code'], ascending = [True, True])\n",
    "var_data['Zip_Code'] = var_data['Zip_Code'].astype(str)\n",
    "var_data = var_data.set_index('Zip_Code')\n",
    "\n",
    "# Drop zipcodes with no 2021 data\n",
    "var_data = var_data.drop(['32061', '32072', '32079', '32332', '32361', '32426',\n",
    "                        '32449', '32463', '32542', '32639', '32697', '33122'])\n",
    "var_data"
   ]
  },
  {
   "source": [
    "# Loop through and run VAR model on all Florida Zip Codes"
   ],
   "cell_type": "markdown",
   "metadata": {}
  },
  {
   "cell_type": "code",
   "execution_count": 25,
   "metadata": {},
   "outputs": [],
   "source": [
    "zip_codes = var_data.index.unique()"
   ]
  },
  {
   "cell_type": "code",
   "execution_count": 36,
   "metadata": {},
   "outputs": [
    {
     "output_type": "stream",
     "name": "stderr",
     "text": [
      "/Users/jjwilliams/anaconda3/envs/PythonData/lib/python3.6/site-packages/statsmodels/tsa/vector_ar/var_model.py:711: RuntimeWarning: divide by zero encountered in true_divide\n  omega = sse / df_resid\n/Users/jjwilliams/anaconda3/envs/PythonData/lib/python3.6/site-packages/statsmodels/tsa/vector_ar/var_model.py:711: RuntimeWarning: invalid value encountered in true_divide\n  omega = sse / df_resid\n"
     ]
    }
   ],
   "source": [
    "final_data = []\n",
    "skipped_zipcodes = []\n",
    "\n",
    "for code in zip_codes:\n",
    "    try:\n",
    "        # Drop unneeded columns for model\n",
    "        var_data_slim = var_data.loc[code].drop(columns=['Mobility_Rate',\n",
    "                'Expense_Index', 'Crime_Index', 'Total_Vacant', 'Total_Dwellings',\n",
    "                'Rent_Affordability', \n",
    "                'Home_Affordability'])\n",
    "       \n",
    "    \n",
    "        X = var_data_slim.values\n",
    "\n",
    "        train= X[:24]\n",
    "        test = X[24:]\n",
    "\n",
    "        # Create model and fit\n",
    "        ar_model = VAR(endog=train)\n",
    "        ar_model_fit = ar_model.fit()\n",
    "\n",
    "        # Run prediction model to extend to April \n",
    "        prediction = ar_model_fit.forecast(ar_model_fit.endog, steps=4)\n",
    "\n",
    "        pred = pd.DataFrame(prediction)\n",
    "\n",
    "        pred.rename(columns = {0: 'Date_Code', 1: 'Prediction_Sales',\n",
    "                    2:'Prediction_Count', 3: 'Prediction_Price'}, inplace=True)\n",
    "        pred = pred.drop(columns='Date_Code')\n",
    "\n",
    "        #Extract April data prediction for later calculation\n",
    "        april = pred.iloc[-1]\n",
    "        index = pd.Series([0])\n",
    "\n",
    "        april_predict = pd.DataFrame(april).transpose().set_index([index])\n",
    "\n",
    "        # Create false data to fill in columns where no data to compare\n",
    "        april_false = {'Date_Code':202104, 'Testing_Sales': 0, \n",
    "                                'Testing_Count': 0, 'Testing_Price':0}\n",
    "        april_series = pd.Series(data=april_false, index=['Date_Code', 'Testing_Sales',\n",
    "                                'Testing_Count', 'Testing_Price'])\n",
    "        april_testing = pd.DataFrame(april_series).transpose()\n",
    "\n",
    "        # Joint the two dataframes to create complete row\n",
    "        april_data = april_testing.join(april_predict, lsuffix='test', rsuffix='pre')\n",
    "\n",
    "\n",
    "        # Establish \n",
    "        zip_df = pd.DataFrame(test)\n",
    "        zip_df.rename(columns = {0: 'Date_Code', 1:'Testing_Sales', 2: 'Testing_Count',\n",
    "                    3:'Testing_Price'}, inplace=True)\n",
    "        \n",
    "\n",
    "        zip_df['Prediction_Sales'] = pred['Prediction_Sales']\n",
    "        zip_df['Prediction_Count'] = pred['Prediction_Count']\n",
    "        zip_df['Prediction_Price'] = pred['Prediction_Price']\n",
    "\n",
    "\n",
    "        # Create Variables\n",
    "        prediction_total_sales = []\n",
    "        prediction_fha_count = []\n",
    "        prediction_sales_price = []\n",
    "        sales_mean_error = []\n",
    "        count_mean_error = []\n",
    "        price_mean_error = []\n",
    "        zipcode.append(code)\n",
    "\n",
    "        \n",
    "        \n",
    "        # Loop through dataframe to calculate mean error for our predictions\n",
    "        for column in zip_df[['Testing_Sales', 'Testing_Count', 'Testing_Price',\n",
    "                                'Prediction_Sales', 'Prediction_Count', 'Prediction_Price']]:\n",
    "                \n",
    "                testing_sales = zip_df['Testing_Sales'].values\n",
    "                pred_sales = zip_df['Prediction_Sales'].values\n",
    "                testing_count = zip_df['Testing_Count'].values\n",
    "                pred_count = zip_df['Prediction_Count'].values\n",
    "                testing_price = zip_df['Testing_Price'].values\n",
    "                pred_price = zip_df['Prediction_Price'].values\n",
    "  \n",
    "\n",
    "                prediction_total_sales.append(pred_sales)\n",
    "                prediction_fha_count.append(pred_count)\n",
    "                prediction_sales_price.append(pred_price)\n",
    "                sales_mean_error.append(np.sqrt(mean_squared_log_error(testing_sales, pred_sales)))\n",
    "                count_mean_error.append(np.sqrt(mean_squared_log_error(testing_count, pred_count)))\n",
    "                price_mean_error.append(np.sqrt(mean_squared_log_error(testing_price, pred_price)))\n",
    "                \n",
    "                \n",
    "        # Add new colums to datafram for mean errors and add row with April predictions\n",
    "        zip_df['Sales_Mean_Error'] = sales_mean_error[0]\n",
    "        zip_df['Count_Mean_Error'] = count_mean_error[0]\n",
    "        zip_df['Price_Mean_Error'] = price_mean_error[0]\n",
    "        zip_df = zip_df.append(april_data, ignore_index=True)\n",
    "        zip_df['Zip_Code'] = code\n",
    "        \n",
    "       # Append final datframe to variable \n",
    "        final_data.append(zip_df.values)\n",
    "\n",
    "    except:\n",
    "        skipped_zipcodes.append(code)"
   ]
  },
  {
   "source": [
    "# Loop through Final Data and append to variables"
   ],
   "cell_type": "markdown",
   "metadata": {}
  },
  {
   "cell_type": "code",
   "execution_count": 37,
   "metadata": {},
   "outputs": [],
   "source": [
    "testing_total_sales = []\n",
    "testing__fha_count = []\n",
    "testing_sales_price = []\n",
    "prediction_total_sales = []\n",
    "prediction_fha_count = []\n",
    "prediction_sales_price = []\n",
    "sales_mean_error = []\n",
    "count_mean_error = []\n",
    "price_mean_error = []\n",
    "zipcode = []\n",
    "date = []\n",
    "\n",
    "for i in final_data:\n",
    "    for row in i:\n",
    "        date.append(row[0])\n",
    "        testing_total_sales.append(row[1])\n",
    "        testing__fha_count.append(row[2])\n",
    "        testing_sales_price.append(row[3])\n",
    "        prediction_total_sales.append(row[4])\n",
    "        prediction_fha_count.append(row[5])\n",
    "        prediction_sales_price.append(row[6])\n",
    "        sales_mean_error.append(row[7])\n",
    "        count_mean_error.append(row[8])\n",
    "        price_mean_error.append(row[9])\n",
    "        zipcode.append(row[10])"
   ]
  },
  {
   "source": [
    "# Create DataFrame with all final data"
   ],
   "cell_type": "markdown",
   "metadata": {}
  },
  {
   "cell_type": "code",
   "execution_count": 38,
   "metadata": {},
   "outputs": [
    {
     "output_type": "execute_result",
     "data": {
      "text/plain": [
       "     Zip_Code  Date_Code  Testing_Total_Sales  Testing_FHA_Count  \\\n",
       "0       32003   202101.0                 39.0                6.0   \n",
       "1       32003   202102.0                 30.0                8.0   \n",
       "2       32003   202103.0                 70.0                4.0   \n",
       "3       32003   202104.0                  0.0                0.0   \n",
       "4       32011   202101.0                 28.0                4.0   \n",
       "...       ...        ...                  ...                ...   \n",
       "3110    34996   202104.0                  0.0                0.0   \n",
       "3111    34997   202101.0                 81.0               10.0   \n",
       "3112    34997   202102.0                116.0                7.0   \n",
       "3113    34997   202103.0                  7.0               12.0   \n",
       "3114    34997   202104.0                  0.0                0.0   \n",
       "\n",
       "      Testing_Sale_Price  Total_Sales_Prediction  FHA_Count_Prediction  \\\n",
       "0               299900.0               46.486150              7.030309   \n",
       "1               333800.0               46.310881              7.919587   \n",
       "2               339950.0               46.392005              7.691014   \n",
       "3                    0.0               46.335468              7.811788   \n",
       "4               220450.0               24.836821              5.108163   \n",
       "...                  ...                     ...                   ...   \n",
       "3110                 0.0               51.033321              0.348912   \n",
       "3111            305000.0              124.397458             13.576777   \n",
       "3112            300000.0              123.990744             12.454764   \n",
       "3113            599000.0              124.546443             12.513559   \n",
       "3114                 0.0              125.340499             12.688883   \n",
       "\n",
       "      Sale_Price_Prediction  Sales_Mean_Error  FHA_Count_Mean_Error  \\\n",
       "0             298619.427118          0.351924              0.328928   \n",
       "1             299917.831882          0.351924              0.328928   \n",
       "2             300696.568632          0.351924              0.328928   \n",
       "3             301194.146141               NaN                   NaN   \n",
       "4             205008.521054          0.250680              0.156858   \n",
       "...                     ...               ...                   ...   \n",
       "3110          339190.742927               NaN                   NaN   \n",
       "3111          276938.709501          1.608839              0.342077   \n",
       "3112          271037.002628          1.608839              0.342077   \n",
       "3113          269696.282665          1.608839              0.342077   \n",
       "3114          269885.815833               NaN                   NaN   \n",
       "\n",
       "      Sale_Price_Mean_Error  \n",
       "0                  0.094037  \n",
       "1                  0.094037  \n",
       "2                  0.094037  \n",
       "3                       NaN  \n",
       "4                  0.313080  \n",
       "...                     ...  \n",
       "3110                    NaN  \n",
       "3111               0.467749  \n",
       "3112               0.467749  \n",
       "3113               0.467749  \n",
       "3114                    NaN  \n",
       "\n",
       "[3115 rows x 11 columns]"
      ],
      "text/html": "<div>\n<style scoped>\n    .dataframe tbody tr th:only-of-type {\n        vertical-align: middle;\n    }\n\n    .dataframe tbody tr th {\n        vertical-align: top;\n    }\n\n    .dataframe thead th {\n        text-align: right;\n    }\n</style>\n<table border=\"1\" class=\"dataframe\">\n  <thead>\n    <tr style=\"text-align: right;\">\n      <th></th>\n      <th>Zip_Code</th>\n      <th>Date_Code</th>\n      <th>Testing_Total_Sales</th>\n      <th>Testing_FHA_Count</th>\n      <th>Testing_Sale_Price</th>\n      <th>Total_Sales_Prediction</th>\n      <th>FHA_Count_Prediction</th>\n      <th>Sale_Price_Prediction</th>\n      <th>Sales_Mean_Error</th>\n      <th>FHA_Count_Mean_Error</th>\n      <th>Sale_Price_Mean_Error</th>\n    </tr>\n  </thead>\n  <tbody>\n    <tr>\n      <th>0</th>\n      <td>32003</td>\n      <td>202101.0</td>\n      <td>39.0</td>\n      <td>6.0</td>\n      <td>299900.0</td>\n      <td>46.486150</td>\n      <td>7.030309</td>\n      <td>298619.427118</td>\n      <td>0.351924</td>\n      <td>0.328928</td>\n      <td>0.094037</td>\n    </tr>\n    <tr>\n      <th>1</th>\n      <td>32003</td>\n      <td>202102.0</td>\n      <td>30.0</td>\n      <td>8.0</td>\n      <td>333800.0</td>\n      <td>46.310881</td>\n      <td>7.919587</td>\n      <td>299917.831882</td>\n      <td>0.351924</td>\n      <td>0.328928</td>\n      <td>0.094037</td>\n    </tr>\n    <tr>\n      <th>2</th>\n      <td>32003</td>\n      <td>202103.0</td>\n      <td>70.0</td>\n      <td>4.0</td>\n      <td>339950.0</td>\n      <td>46.392005</td>\n      <td>7.691014</td>\n      <td>300696.568632</td>\n      <td>0.351924</td>\n      <td>0.328928</td>\n      <td>0.094037</td>\n    </tr>\n    <tr>\n      <th>3</th>\n      <td>32003</td>\n      <td>202104.0</td>\n      <td>0.0</td>\n      <td>0.0</td>\n      <td>0.0</td>\n      <td>46.335468</td>\n      <td>7.811788</td>\n      <td>301194.146141</td>\n      <td>NaN</td>\n      <td>NaN</td>\n      <td>NaN</td>\n    </tr>\n    <tr>\n      <th>4</th>\n      <td>32011</td>\n      <td>202101.0</td>\n      <td>28.0</td>\n      <td>4.0</td>\n      <td>220450.0</td>\n      <td>24.836821</td>\n      <td>5.108163</td>\n      <td>205008.521054</td>\n      <td>0.250680</td>\n      <td>0.156858</td>\n      <td>0.313080</td>\n    </tr>\n    <tr>\n      <th>...</th>\n      <td>...</td>\n      <td>...</td>\n      <td>...</td>\n      <td>...</td>\n      <td>...</td>\n      <td>...</td>\n      <td>...</td>\n      <td>...</td>\n      <td>...</td>\n      <td>...</td>\n      <td>...</td>\n    </tr>\n    <tr>\n      <th>3110</th>\n      <td>34996</td>\n      <td>202104.0</td>\n      <td>0.0</td>\n      <td>0.0</td>\n      <td>0.0</td>\n      <td>51.033321</td>\n      <td>0.348912</td>\n      <td>339190.742927</td>\n      <td>NaN</td>\n      <td>NaN</td>\n      <td>NaN</td>\n    </tr>\n    <tr>\n      <th>3111</th>\n      <td>34997</td>\n      <td>202101.0</td>\n      <td>81.0</td>\n      <td>10.0</td>\n      <td>305000.0</td>\n      <td>124.397458</td>\n      <td>13.576777</td>\n      <td>276938.709501</td>\n      <td>1.608839</td>\n      <td>0.342077</td>\n      <td>0.467749</td>\n    </tr>\n    <tr>\n      <th>3112</th>\n      <td>34997</td>\n      <td>202102.0</td>\n      <td>116.0</td>\n      <td>7.0</td>\n      <td>300000.0</td>\n      <td>123.990744</td>\n      <td>12.454764</td>\n      <td>271037.002628</td>\n      <td>1.608839</td>\n      <td>0.342077</td>\n      <td>0.467749</td>\n    </tr>\n    <tr>\n      <th>3113</th>\n      <td>34997</td>\n      <td>202103.0</td>\n      <td>7.0</td>\n      <td>12.0</td>\n      <td>599000.0</td>\n      <td>124.546443</td>\n      <td>12.513559</td>\n      <td>269696.282665</td>\n      <td>1.608839</td>\n      <td>0.342077</td>\n      <td>0.467749</td>\n    </tr>\n    <tr>\n      <th>3114</th>\n      <td>34997</td>\n      <td>202104.0</td>\n      <td>0.0</td>\n      <td>0.0</td>\n      <td>0.0</td>\n      <td>125.340499</td>\n      <td>12.688883</td>\n      <td>269885.815833</td>\n      <td>NaN</td>\n      <td>NaN</td>\n      <td>NaN</td>\n    </tr>\n  </tbody>\n</table>\n<p>3115 rows × 11 columns</p>\n</div>"
     },
     "metadata": {},
     "execution_count": 38
    }
   ],
   "source": [
    "var_model_predict = pd.DataFrame({'Zip_Code':zipcode, 'Date_Code':date, \n",
    "                                'Testing_Total_Sales': testing_total_sales,\n",
    "                                'Testing_FHA_Count': testing__fha_count,\n",
    "                                'Testing_Sale_Price':testing_sales_price,\n",
    "                                'Total_Sales_Prediction':prediction_total_sales,\n",
    "                                'FHA_Count_Prediction': prediction_fha_count,\n",
    "                                'Sale_Price_Prediction':prediction_sales_price,\n",
    "                                'Sales_Mean_Error':sales_mean_error,\n",
    "                                'FHA_Count_Mean_Error':count_mean_error, 'Sale_Price_Mean_Error': price_mean_error})\n",
    "var_model_predict"
   ]
  },
  {
   "source": [
    "# Export Final DataFrame to CSV"
   ],
   "cell_type": "markdown",
   "metadata": {}
  },
  {
   "cell_type": "code",
   "execution_count": 29,
   "metadata": {},
   "outputs": [],
   "source": [
    "var_model_predict.to_csv('Resources/ML_Outputs/var_model_predict.csv')"
   ]
  },
  {
   "cell_type": "code",
   "execution_count": null,
   "metadata": {},
   "outputs": [],
   "source": []
  }
 ]
}