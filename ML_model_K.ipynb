{
 "cells": [
  {
   "cell_type": "code",
   "execution_count": 151,
   "metadata": {},
   "outputs": [],
   "source": [
    "# Import dependencies\n",
    "import pandas as pd\n",
    "import numpy as np\n",
    "%matplotlib inline\n",
    "\n",
    "from sklearn.metrics import mean_squared_log_error\n",
    "from sklearn.ensemble import RandomForestRegressor\n",
    "from lightgbm import LGBMRegressor"
   ]
  },
  {
   "cell_type": "code",
   "execution_count": 152,
   "metadata": {},
   "outputs": [
    {
     "ename": "FileNotFoundError",
     "evalue": "[Errno 2] File ./Resources/Final_Data.csv does not exist: './Resources/Final_Data.csv'",
     "output_type": "error",
     "traceback": [
      "\u001b[1;31m---------------------------------------------------------------------------\u001b[0m",
      "\u001b[1;31mFileNotFoundError\u001b[0m                         Traceback (most recent call last)",
      "\u001b[1;32m<ipython-input-152-325f4cea49b2>\u001b[0m in \u001b[0;36m<module>\u001b[1;34m\u001b[0m\n\u001b[0;32m      1\u001b[0m \u001b[1;31m# Read csv file\u001b[0m\u001b[1;33m\u001b[0m\u001b[1;33m\u001b[0m\u001b[1;33m\u001b[0m\u001b[0m\n\u001b[1;32m----> 2\u001b[1;33m \u001b[0mdata\u001b[0m \u001b[1;33m=\u001b[0m \u001b[0mpd\u001b[0m\u001b[1;33m.\u001b[0m\u001b[0mread_csv\u001b[0m\u001b[1;33m(\u001b[0m\u001b[1;34m'./Resources/Final_Data.csv'\u001b[0m\u001b[1;33m)\u001b[0m\u001b[1;33m\u001b[0m\u001b[1;33m\u001b[0m\u001b[0m\n\u001b[0m\u001b[0;32m      3\u001b[0m \u001b[1;33m\u001b[0m\u001b[0m\n\u001b[0;32m      4\u001b[0m \u001b[1;31m# Keep only rows from 2019 for training; drop 2020 and 2021 data\u001b[0m\u001b[1;33m\u001b[0m\u001b[1;33m\u001b[0m\u001b[1;33m\u001b[0m\u001b[0m\n\u001b[0;32m      5\u001b[0m \u001b[0mindex_names\u001b[0m \u001b[1;33m=\u001b[0m \u001b[0mdata\u001b[0m\u001b[1;33m[\u001b[0m\u001b[0mdata\u001b[0m\u001b[1;33m[\u001b[0m\u001b[1;34m'year'\u001b[0m\u001b[1;33m]\u001b[0m \u001b[1;33m!=\u001b[0m \u001b[1;36m2019\u001b[0m \u001b[1;33m|\u001b[0m \u001b[1;36m2020\u001b[0m\u001b[1;33m]\u001b[0m\u001b[1;33m.\u001b[0m\u001b[0mindex\u001b[0m\u001b[1;33m\u001b[0m\u001b[1;33m\u001b[0m\u001b[0m\n",
      "\u001b[1;32m~\\.conda\\envs\\PythonData\\lib\\site-packages\\pandas\\io\\parsers.py\u001b[0m in \u001b[0;36mparser_f\u001b[1;34m(filepath_or_buffer, sep, delimiter, header, names, index_col, usecols, squeeze, prefix, mangle_dupe_cols, dtype, engine, converters, true_values, false_values, skipinitialspace, skiprows, skipfooter, nrows, na_values, keep_default_na, na_filter, verbose, skip_blank_lines, parse_dates, infer_datetime_format, keep_date_col, date_parser, dayfirst, cache_dates, iterator, chunksize, compression, thousands, decimal, lineterminator, quotechar, quoting, doublequote, escapechar, comment, encoding, dialect, error_bad_lines, warn_bad_lines, delim_whitespace, low_memory, memory_map, float_precision)\u001b[0m\n\u001b[0;32m    674\u001b[0m         )\n\u001b[0;32m    675\u001b[0m \u001b[1;33m\u001b[0m\u001b[0m\n\u001b[1;32m--> 676\u001b[1;33m         \u001b[1;32mreturn\u001b[0m \u001b[0m_read\u001b[0m\u001b[1;33m(\u001b[0m\u001b[0mfilepath_or_buffer\u001b[0m\u001b[1;33m,\u001b[0m \u001b[0mkwds\u001b[0m\u001b[1;33m)\u001b[0m\u001b[1;33m\u001b[0m\u001b[1;33m\u001b[0m\u001b[0m\n\u001b[0m\u001b[0;32m    677\u001b[0m \u001b[1;33m\u001b[0m\u001b[0m\n\u001b[0;32m    678\u001b[0m     \u001b[0mparser_f\u001b[0m\u001b[1;33m.\u001b[0m\u001b[0m__name__\u001b[0m \u001b[1;33m=\u001b[0m \u001b[0mname\u001b[0m\u001b[1;33m\u001b[0m\u001b[1;33m\u001b[0m\u001b[0m\n",
      "\u001b[1;32m~\\.conda\\envs\\PythonData\\lib\\site-packages\\pandas\\io\\parsers.py\u001b[0m in \u001b[0;36m_read\u001b[1;34m(filepath_or_buffer, kwds)\u001b[0m\n\u001b[0;32m    446\u001b[0m \u001b[1;33m\u001b[0m\u001b[0m\n\u001b[0;32m    447\u001b[0m     \u001b[1;31m# Create the parser.\u001b[0m\u001b[1;33m\u001b[0m\u001b[1;33m\u001b[0m\u001b[1;33m\u001b[0m\u001b[0m\n\u001b[1;32m--> 448\u001b[1;33m     \u001b[0mparser\u001b[0m \u001b[1;33m=\u001b[0m \u001b[0mTextFileReader\u001b[0m\u001b[1;33m(\u001b[0m\u001b[0mfp_or_buf\u001b[0m\u001b[1;33m,\u001b[0m \u001b[1;33m**\u001b[0m\u001b[0mkwds\u001b[0m\u001b[1;33m)\u001b[0m\u001b[1;33m\u001b[0m\u001b[1;33m\u001b[0m\u001b[0m\n\u001b[0m\u001b[0;32m    449\u001b[0m \u001b[1;33m\u001b[0m\u001b[0m\n\u001b[0;32m    450\u001b[0m     \u001b[1;32mif\u001b[0m \u001b[0mchunksize\u001b[0m \u001b[1;32mor\u001b[0m \u001b[0miterator\u001b[0m\u001b[1;33m:\u001b[0m\u001b[1;33m\u001b[0m\u001b[1;33m\u001b[0m\u001b[0m\n",
      "\u001b[1;32m~\\.conda\\envs\\PythonData\\lib\\site-packages\\pandas\\io\\parsers.py\u001b[0m in \u001b[0;36m__init__\u001b[1;34m(self, f, engine, **kwds)\u001b[0m\n\u001b[0;32m    878\u001b[0m             \u001b[0mself\u001b[0m\u001b[1;33m.\u001b[0m\u001b[0moptions\u001b[0m\u001b[1;33m[\u001b[0m\u001b[1;34m\"has_index_names\"\u001b[0m\u001b[1;33m]\u001b[0m \u001b[1;33m=\u001b[0m \u001b[0mkwds\u001b[0m\u001b[1;33m[\u001b[0m\u001b[1;34m\"has_index_names\"\u001b[0m\u001b[1;33m]\u001b[0m\u001b[1;33m\u001b[0m\u001b[1;33m\u001b[0m\u001b[0m\n\u001b[0;32m    879\u001b[0m \u001b[1;33m\u001b[0m\u001b[0m\n\u001b[1;32m--> 880\u001b[1;33m         \u001b[0mself\u001b[0m\u001b[1;33m.\u001b[0m\u001b[0m_make_engine\u001b[0m\u001b[1;33m(\u001b[0m\u001b[0mself\u001b[0m\u001b[1;33m.\u001b[0m\u001b[0mengine\u001b[0m\u001b[1;33m)\u001b[0m\u001b[1;33m\u001b[0m\u001b[1;33m\u001b[0m\u001b[0m\n\u001b[0m\u001b[0;32m    881\u001b[0m \u001b[1;33m\u001b[0m\u001b[0m\n\u001b[0;32m    882\u001b[0m     \u001b[1;32mdef\u001b[0m \u001b[0mclose\u001b[0m\u001b[1;33m(\u001b[0m\u001b[0mself\u001b[0m\u001b[1;33m)\u001b[0m\u001b[1;33m:\u001b[0m\u001b[1;33m\u001b[0m\u001b[1;33m\u001b[0m\u001b[0m\n",
      "\u001b[1;32m~\\.conda\\envs\\PythonData\\lib\\site-packages\\pandas\\io\\parsers.py\u001b[0m in \u001b[0;36m_make_engine\u001b[1;34m(self, engine)\u001b[0m\n\u001b[0;32m   1112\u001b[0m     \u001b[1;32mdef\u001b[0m \u001b[0m_make_engine\u001b[0m\u001b[1;33m(\u001b[0m\u001b[0mself\u001b[0m\u001b[1;33m,\u001b[0m \u001b[0mengine\u001b[0m\u001b[1;33m=\u001b[0m\u001b[1;34m\"c\"\u001b[0m\u001b[1;33m)\u001b[0m\u001b[1;33m:\u001b[0m\u001b[1;33m\u001b[0m\u001b[1;33m\u001b[0m\u001b[0m\n\u001b[0;32m   1113\u001b[0m         \u001b[1;32mif\u001b[0m \u001b[0mengine\u001b[0m \u001b[1;33m==\u001b[0m \u001b[1;34m\"c\"\u001b[0m\u001b[1;33m:\u001b[0m\u001b[1;33m\u001b[0m\u001b[1;33m\u001b[0m\u001b[0m\n\u001b[1;32m-> 1114\u001b[1;33m             \u001b[0mself\u001b[0m\u001b[1;33m.\u001b[0m\u001b[0m_engine\u001b[0m \u001b[1;33m=\u001b[0m \u001b[0mCParserWrapper\u001b[0m\u001b[1;33m(\u001b[0m\u001b[0mself\u001b[0m\u001b[1;33m.\u001b[0m\u001b[0mf\u001b[0m\u001b[1;33m,\u001b[0m \u001b[1;33m**\u001b[0m\u001b[0mself\u001b[0m\u001b[1;33m.\u001b[0m\u001b[0moptions\u001b[0m\u001b[1;33m)\u001b[0m\u001b[1;33m\u001b[0m\u001b[1;33m\u001b[0m\u001b[0m\n\u001b[0m\u001b[0;32m   1115\u001b[0m         \u001b[1;32melse\u001b[0m\u001b[1;33m:\u001b[0m\u001b[1;33m\u001b[0m\u001b[1;33m\u001b[0m\u001b[0m\n\u001b[0;32m   1116\u001b[0m             \u001b[1;32mif\u001b[0m \u001b[0mengine\u001b[0m \u001b[1;33m==\u001b[0m \u001b[1;34m\"python\"\u001b[0m\u001b[1;33m:\u001b[0m\u001b[1;33m\u001b[0m\u001b[1;33m\u001b[0m\u001b[0m\n",
      "\u001b[1;32m~\\.conda\\envs\\PythonData\\lib\\site-packages\\pandas\\io\\parsers.py\u001b[0m in \u001b[0;36m__init__\u001b[1;34m(self, src, **kwds)\u001b[0m\n\u001b[0;32m   1889\u001b[0m         \u001b[0mkwds\u001b[0m\u001b[1;33m[\u001b[0m\u001b[1;34m\"usecols\"\u001b[0m\u001b[1;33m]\u001b[0m \u001b[1;33m=\u001b[0m \u001b[0mself\u001b[0m\u001b[1;33m.\u001b[0m\u001b[0musecols\u001b[0m\u001b[1;33m\u001b[0m\u001b[1;33m\u001b[0m\u001b[0m\n\u001b[0;32m   1890\u001b[0m \u001b[1;33m\u001b[0m\u001b[0m\n\u001b[1;32m-> 1891\u001b[1;33m         \u001b[0mself\u001b[0m\u001b[1;33m.\u001b[0m\u001b[0m_reader\u001b[0m \u001b[1;33m=\u001b[0m \u001b[0mparsers\u001b[0m\u001b[1;33m.\u001b[0m\u001b[0mTextReader\u001b[0m\u001b[1;33m(\u001b[0m\u001b[0msrc\u001b[0m\u001b[1;33m,\u001b[0m \u001b[1;33m**\u001b[0m\u001b[0mkwds\u001b[0m\u001b[1;33m)\u001b[0m\u001b[1;33m\u001b[0m\u001b[1;33m\u001b[0m\u001b[0m\n\u001b[0m\u001b[0;32m   1892\u001b[0m         \u001b[0mself\u001b[0m\u001b[1;33m.\u001b[0m\u001b[0munnamed_cols\u001b[0m \u001b[1;33m=\u001b[0m \u001b[0mself\u001b[0m\u001b[1;33m.\u001b[0m\u001b[0m_reader\u001b[0m\u001b[1;33m.\u001b[0m\u001b[0munnamed_cols\u001b[0m\u001b[1;33m\u001b[0m\u001b[1;33m\u001b[0m\u001b[0m\n\u001b[0;32m   1893\u001b[0m \u001b[1;33m\u001b[0m\u001b[0m\n",
      "\u001b[1;32mpandas\\_libs\\parsers.pyx\u001b[0m in \u001b[0;36mpandas._libs.parsers.TextReader.__cinit__\u001b[1;34m()\u001b[0m\n",
      "\u001b[1;32mpandas\\_libs\\parsers.pyx\u001b[0m in \u001b[0;36mpandas._libs.parsers.TextReader._setup_parser_source\u001b[1;34m()\u001b[0m\n",
      "\u001b[1;31mFileNotFoundError\u001b[0m: [Errno 2] File ./Resources/Final_Data.csv does not exist: './Resources/Final_Data.csv'"
     ]
    }
   ],
   "source": [
    "# Read csv file\n",
    "data = pd.read_csv('./Resources/Final_Data.csv')\n",
    "\n",
    "# Keep only rows from 2019 for training; drop 2020 and 2021 data\n",
    "index_names = data[data['year'] != 2019 | 2020].index\n",
    "data.drop(index_names, inplace = True)\n",
    "\n",
    "data = data.sort_values(by=['year', 'month'], axis=0)\n",
    "  \n",
    "data.head()"
   ]
  },
  {
   "cell_type": "code",
   "execution_count": 103,
   "metadata": {},
   "outputs": [
    {
     "data": {
      "text/html": [
       "<div>\n",
       "<style scoped>\n",
       "    .dataframe tbody tr th:only-of-type {\n",
       "        vertical-align: middle;\n",
       "    }\n",
       "\n",
       "    .dataframe tbody tr th {\n",
       "        vertical-align: top;\n",
       "    }\n",
       "\n",
       "    .dataframe thead th {\n",
       "        text-align: right;\n",
       "    }\n",
       "</style>\n",
       "<table border=\"1\" class=\"dataframe\">\n",
       "  <thead>\n",
       "    <tr style=\"text-align: right;\">\n",
       "      <th></th>\n",
       "      <th>zipcode</th>\n",
       "      <th>1</th>\n",
       "      <th>2</th>\n",
       "      <th>3</th>\n",
       "      <th>4</th>\n",
       "      <th>5</th>\n",
       "      <th>6</th>\n",
       "      <th>7</th>\n",
       "      <th>8</th>\n",
       "      <th>9</th>\n",
       "      <th>10</th>\n",
       "      <th>11</th>\n",
       "      <th>12</th>\n",
       "    </tr>\n",
       "  </thead>\n",
       "  <tbody>\n",
       "    <tr>\n",
       "      <th>0</th>\n",
       "      <td>32003</td>\n",
       "      <td>289290.0</td>\n",
       "      <td>286173.0</td>\n",
       "      <td>301620.0</td>\n",
       "      <td>263475.0</td>\n",
       "      <td>293816.0</td>\n",
       "      <td>298865.0</td>\n",
       "      <td>295053.0</td>\n",
       "      <td>280793.0</td>\n",
       "      <td>299109.0</td>\n",
       "      <td>293246.0</td>\n",
       "      <td>307094.0</td>\n",
       "      <td>312718.0</td>\n",
       "    </tr>\n",
       "    <tr>\n",
       "      <th>1</th>\n",
       "      <td>32008</td>\n",
       "      <td>94875.0</td>\n",
       "      <td>106250.0</td>\n",
       "      <td>NaN</td>\n",
       "      <td>132475.0</td>\n",
       "      <td>76825.0</td>\n",
       "      <td>153000.0</td>\n",
       "      <td>131322.0</td>\n",
       "      <td>168143.0</td>\n",
       "      <td>126875.0</td>\n",
       "      <td>104500.0</td>\n",
       "      <td>139929.0</td>\n",
       "      <td>178917.0</td>\n",
       "    </tr>\n",
       "    <tr>\n",
       "      <th>2</th>\n",
       "      <td>32009</td>\n",
       "      <td>275000.0</td>\n",
       "      <td>99000.0</td>\n",
       "      <td>112000.0</td>\n",
       "      <td>NaN</td>\n",
       "      <td>113994.0</td>\n",
       "      <td>150220.0</td>\n",
       "      <td>227400.0</td>\n",
       "      <td>NaN</td>\n",
       "      <td>150333.0</td>\n",
       "      <td>201667.0</td>\n",
       "      <td>177115.0</td>\n",
       "      <td>352500.0</td>\n",
       "    </tr>\n",
       "    <tr>\n",
       "      <th>3</th>\n",
       "      <td>32011</td>\n",
       "      <td>219310.0</td>\n",
       "      <td>152160.0</td>\n",
       "      <td>160508.0</td>\n",
       "      <td>171022.0</td>\n",
       "      <td>210804.0</td>\n",
       "      <td>144637.0</td>\n",
       "      <td>220224.0</td>\n",
       "      <td>170269.0</td>\n",
       "      <td>214582.0</td>\n",
       "      <td>193573.0</td>\n",
       "      <td>146888.0</td>\n",
       "      <td>150112.0</td>\n",
       "    </tr>\n",
       "    <tr>\n",
       "      <th>4</th>\n",
       "      <td>32024</td>\n",
       "      <td>252829.0</td>\n",
       "      <td>114341.0</td>\n",
       "      <td>87738.0</td>\n",
       "      <td>157358.0</td>\n",
       "      <td>147920.0</td>\n",
       "      <td>137455.0</td>\n",
       "      <td>157163.0</td>\n",
       "      <td>108509.0</td>\n",
       "      <td>145418.0</td>\n",
       "      <td>170477.0</td>\n",
       "      <td>192769.0</td>\n",
       "      <td>150936.0</td>\n",
       "    </tr>\n",
       "  </tbody>\n",
       "</table>\n",
       "</div>"
      ],
      "text/plain": [
       "   zipcode         1         2         3         4         5         6  \\\n",
       "0    32003  289290.0  286173.0  301620.0  263475.0  293816.0  298865.0   \n",
       "1    32008   94875.0  106250.0       NaN  132475.0   76825.0  153000.0   \n",
       "2    32009  275000.0   99000.0  112000.0       NaN  113994.0  150220.0   \n",
       "3    32011  219310.0  152160.0  160508.0  171022.0  210804.0  144637.0   \n",
       "4    32024  252829.0  114341.0   87738.0  157358.0  147920.0  137455.0   \n",
       "\n",
       "          7         8         9        10        11        12  \n",
       "0  295053.0  280793.0  299109.0  293246.0  307094.0  312718.0  \n",
       "1  131322.0  168143.0  126875.0  104500.0  139929.0  178917.0  \n",
       "2  227400.0       NaN  150333.0  201667.0  177115.0  352500.0  \n",
       "3  220224.0  170269.0  214582.0  193573.0  146888.0  150112.0  \n",
       "4  157163.0  108509.0  145418.0  170477.0  192769.0  150936.0  "
      ]
     },
     "execution_count": 103,
     "metadata": {},
     "output_type": "execute_result"
    }
   ],
   "source": [
    "data = data.groupby(['zipcode','month'])['avg_sale_price'].agg(['sum']).reset_index()\n",
    "data = data.pivot_table(values='sum', columns='month', index='zipcode')\n",
    "data.columns.name = None\n",
    "data = data.reset_index()\n",
    "\n",
    "data.head()"
   ]
  },
  {
   "cell_type": "code",
   "execution_count": 104,
   "metadata": {},
   "outputs": [
    {
     "data": {
      "text/plain": [
       "zipcode      int64\n",
       "1          float64\n",
       "2          float64\n",
       "3          float64\n",
       "4          float64\n",
       "5          float64\n",
       "6          float64\n",
       "7          float64\n",
       "8          float64\n",
       "9          float64\n",
       "10         float64\n",
       "11         float64\n",
       "12         float64\n",
       "dtype: object"
      ]
     },
     "execution_count": 104,
     "metadata": {},
     "output_type": "execute_result"
    }
   ],
   "source": [
    "data.dtypes"
   ]
  },
  {
   "cell_type": "code",
   "execution_count": 105,
   "metadata": {},
   "outputs": [
    {
     "data": {
      "text/html": [
       "<div>\n",
       "<style scoped>\n",
       "    .dataframe tbody tr th:only-of-type {\n",
       "        vertical-align: middle;\n",
       "    }\n",
       "\n",
       "    .dataframe tbody tr th {\n",
       "        vertical-align: top;\n",
       "    }\n",
       "\n",
       "    .dataframe thead th {\n",
       "        text-align: right;\n",
       "    }\n",
       "</style>\n",
       "<table border=\"1\" class=\"dataframe\">\n",
       "  <thead>\n",
       "    <tr style=\"text-align: right;\">\n",
       "      <th></th>\n",
       "      <th>zipcode</th>\n",
       "      <th>month</th>\n",
       "      <th>avg_sale_price</th>\n",
       "    </tr>\n",
       "  </thead>\n",
       "  <tbody>\n",
       "    <tr>\n",
       "      <th>0</th>\n",
       "      <td>32003</td>\n",
       "      <td>1</td>\n",
       "      <td>289290.0</td>\n",
       "    </tr>\n",
       "    <tr>\n",
       "      <th>1</th>\n",
       "      <td>32008</td>\n",
       "      <td>1</td>\n",
       "      <td>94875.0</td>\n",
       "    </tr>\n",
       "    <tr>\n",
       "      <th>2</th>\n",
       "      <td>32009</td>\n",
       "      <td>1</td>\n",
       "      <td>275000.0</td>\n",
       "    </tr>\n",
       "    <tr>\n",
       "      <th>3</th>\n",
       "      <td>32011</td>\n",
       "      <td>1</td>\n",
       "      <td>219310.0</td>\n",
       "    </tr>\n",
       "    <tr>\n",
       "      <th>4</th>\n",
       "      <td>32024</td>\n",
       "      <td>1</td>\n",
       "      <td>252829.0</td>\n",
       "    </tr>\n",
       "    <tr>\n",
       "      <th>...</th>\n",
       "      <td>...</td>\n",
       "      <td>...</td>\n",
       "      <td>...</td>\n",
       "    </tr>\n",
       "    <tr>\n",
       "      <th>2995</th>\n",
       "      <td>32343</td>\n",
       "      <td>4</td>\n",
       "      <td>136365.0</td>\n",
       "    </tr>\n",
       "    <tr>\n",
       "      <th>2996</th>\n",
       "      <td>32344</td>\n",
       "      <td>4</td>\n",
       "      <td>146219.0</td>\n",
       "    </tr>\n",
       "    <tr>\n",
       "      <th>2997</th>\n",
       "      <td>32346</td>\n",
       "      <td>4</td>\n",
       "      <td>214350.0</td>\n",
       "    </tr>\n",
       "    <tr>\n",
       "      <th>2998</th>\n",
       "      <td>32347</td>\n",
       "      <td>4</td>\n",
       "      <td>87338.0</td>\n",
       "    </tr>\n",
       "    <tr>\n",
       "      <th>2999</th>\n",
       "      <td>32348</td>\n",
       "      <td>4</td>\n",
       "      <td>93948.0</td>\n",
       "    </tr>\n",
       "  </tbody>\n",
       "</table>\n",
       "<p>3000 rows × 3 columns</p>\n",
       "</div>"
      ],
      "text/plain": [
       "      zipcode month  avg_sale_price\n",
       "0       32003     1        289290.0\n",
       "1       32008     1         94875.0\n",
       "2       32009     1        275000.0\n",
       "3       32011     1        219310.0\n",
       "4       32024     1        252829.0\n",
       "...       ...   ...             ...\n",
       "2995    32343     4        136365.0\n",
       "2996    32344     4        146219.0\n",
       "2997    32346     4        214350.0\n",
       "2998    32347     4         87338.0\n",
       "2999    32348     4         93948.0\n",
       "\n",
       "[3000 rows x 3 columns]"
      ]
     },
     "execution_count": 105,
     "metadata": {},
     "output_type": "execute_result"
    }
   ],
   "source": [
    "melt = data.melt(id_vars='zipcode', var_name='month', value_name='avg_sale_price')\n",
    "\n",
    "melt['zipcode'] = melt['zipcode']\n",
    "melt['month'] = melt['month']\n",
    "\n",
    "melt = melt.sort_values(['month', 'zipcode'])\n",
    "melt.head(3000)"
   ]
  },
  {
   "cell_type": "code",
   "execution_count": 106,
   "metadata": {},
   "outputs": [
    {
     "data": {
      "text/plain": [
       "zipcode             int64\n",
       "month              object\n",
       "avg_sale_price    float64\n",
       "dtype: object"
      ]
     },
     "execution_count": 106,
     "metadata": {},
     "output_type": "execute_result"
    }
   ],
   "source": [
    "melt.dtypes"
   ]
  },
  {
   "cell_type": "code",
   "execution_count": 107,
   "metadata": {},
   "outputs": [
    {
     "data": {
      "text/plain": [
       "zipcode             int64\n",
       "month             float64\n",
       "avg_sale_price    float64\n",
       "dtype: object"
      ]
     },
     "execution_count": 107,
     "metadata": {},
     "output_type": "execute_result"
    }
   ],
   "source": [
    "melt.astype({'month': 'float64'}).dtypes\n"
   ]
  },
  {
   "cell_type": "code",
   "execution_count": 108,
   "metadata": {},
   "outputs": [
    {
     "name": "stdout",
     "output_type": "stream",
     "text": [
      "11412\n"
     ]
    }
   ],
   "source": [
    "index = melt.index\n",
    "number_of_rows = len(index)\n",
    " \n",
    "print(number_of_rows)"
   ]
  },
  {
   "cell_type": "code",
   "execution_count": 109,
   "metadata": {},
   "outputs": [
    {
     "data": {
      "text/html": [
       "<div>\n",
       "<style scoped>\n",
       "    .dataframe tbody tr th:only-of-type {\n",
       "        vertical-align: middle;\n",
       "    }\n",
       "\n",
       "    .dataframe tbody tr th {\n",
       "        vertical-align: top;\n",
       "    }\n",
       "\n",
       "    .dataframe thead th {\n",
       "        text-align: right;\n",
       "    }\n",
       "</style>\n",
       "<table border=\"1\" class=\"dataframe\">\n",
       "  <thead>\n",
       "    <tr style=\"text-align: right;\">\n",
       "      <th></th>\n",
       "      <th>zipcode</th>\n",
       "      <th>month</th>\n",
       "      <th>avg_sale_price</th>\n",
       "      <th>last_month_sales</th>\n",
       "      <th>last_month_diff</th>\n",
       "    </tr>\n",
       "  </thead>\n",
       "  <tbody>\n",
       "    <tr>\n",
       "      <th>1902</th>\n",
       "      <td>32003</td>\n",
       "      <td>3</td>\n",
       "      <td>301620.0</td>\n",
       "      <td>286173.0</td>\n",
       "      <td>-3117.0</td>\n",
       "    </tr>\n",
       "    <tr>\n",
       "      <th>1904</th>\n",
       "      <td>32009</td>\n",
       "      <td>3</td>\n",
       "      <td>112000.0</td>\n",
       "      <td>99000.0</td>\n",
       "      <td>-176000.0</td>\n",
       "    </tr>\n",
       "    <tr>\n",
       "      <th>1905</th>\n",
       "      <td>32011</td>\n",
       "      <td>3</td>\n",
       "      <td>160508.0</td>\n",
       "      <td>152160.0</td>\n",
       "      <td>-67150.0</td>\n",
       "    </tr>\n",
       "    <tr>\n",
       "      <th>1906</th>\n",
       "      <td>32024</td>\n",
       "      <td>3</td>\n",
       "      <td>87738.0</td>\n",
       "      <td>114341.0</td>\n",
       "      <td>-138488.0</td>\n",
       "    </tr>\n",
       "    <tr>\n",
       "      <th>1907</th>\n",
       "      <td>32025</td>\n",
       "      <td>3</td>\n",
       "      <td>100786.0</td>\n",
       "      <td>118032.0</td>\n",
       "      <td>16522.0</td>\n",
       "    </tr>\n",
       "  </tbody>\n",
       "</table>\n",
       "</div>"
      ],
      "text/plain": [
       "      zipcode month  avg_sale_price  last_month_sales  last_month_diff\n",
       "1902    32003     3        301620.0          286173.0          -3117.0\n",
       "1904    32009     3        112000.0           99000.0        -176000.0\n",
       "1905    32011     3        160508.0          152160.0         -67150.0\n",
       "1906    32024     3         87738.0          114341.0        -138488.0\n",
       "1907    32025     3        100786.0          118032.0          16522.0"
      ]
     },
     "execution_count": 109,
     "metadata": {},
     "output_type": "execute_result"
    }
   ],
   "source": [
    "melt2 = melt.copy()\n",
    "melt2['last_month_sales'] = melt2.groupby(['zipcode'])['avg_sale_price'].shift()\n",
    "melt2['last_month_diff'] = melt2.groupby(['zipcode'])['last_month_sales'].diff()\n",
    "melt2 = melt2.dropna()\n",
    "melt2.head()"
   ]
  },
  {
   "cell_type": "code",
   "execution_count": 110,
   "metadata": {},
   "outputs": [
    {
     "name": "stdout",
     "output_type": "stream",
     "text": [
      "8762\n"
     ]
    }
   ],
   "source": [
    "index = melt2.index\n",
    "number_of_rows = len(index)\n",
    " \n",
    "print(number_of_rows)"
   ]
  },
  {
   "cell_type": "code",
   "execution_count": 111,
   "metadata": {},
   "outputs": [],
   "source": [
    "def rmsle(ytrue, ypred):\n",
    "    return np.sqrt(mean_squared_log_error(ytrue, ypred))"
   ]
  },
  {
   "cell_type": "markdown",
   "metadata": {},
   "source": [
    "### Establishing Baseline"
   ]
  },
  {
   "cell_type": "code",
   "execution_count": 112,
   "metadata": {},
   "outputs": [
    {
     "name": "stdout",
     "output_type": "stream",
     "text": [
      "Month 11 - Error 0.26051\n",
      "Month 12 - Error 0.28529\n",
      "Mean Error = 0.27290\n"
     ]
    }
   ],
   "source": [
    "mean_error = []\n",
    "for month in range(11,13):\n",
    "    train = melt2[melt2['month'] < month]\n",
    "    val = melt2[melt2['month'] == month]\n",
    "\n",
    "    p = val['last_month_sales'].values\n",
    "\n",
    "    error = rmsle(val['avg_sale_price'].values, p)\n",
    "    print('Month %d - Error %.5f' % (month, error))\n",
    "    mean_error.append(error)\n",
    "\n",
    "print('Mean Error = %.5f' % np.mean(mean_error))"
   ]
  },
  {
   "cell_type": "code",
   "execution_count": 113,
   "metadata": {},
   "outputs": [
    {
     "data": {
      "text/plain": [
       "zipcode               int64\n",
       "month                object\n",
       "avg_sale_price      float64\n",
       "last_month_sales    float64\n",
       "last_month_diff     float64\n",
       "dtype: object"
      ]
     },
     "execution_count": 113,
     "metadata": {},
     "output_type": "execute_result"
    }
   ],
   "source": [
    "melt2.dtypes"
   ]
  },
  {
   "cell_type": "markdown",
   "metadata": {},
   "source": [
    "### Training"
   ]
  },
  {
   "cell_type": "code",
   "execution_count": 114,
   "metadata": {},
   "outputs": [
    {
     "name": "stdout",
     "output_type": "stream",
     "text": [
      "Month 11 - Error 0.24223\n",
      "Month 12 - Error 0.24292\n",
      "Mean Error = 0.24258\n"
     ]
    }
   ],
   "source": [
    "mean_error = []\n",
    "for month in range(11,13):\n",
    "    train = melt2[melt2['month'] < month]\n",
    "    val = melt2[melt2['month'] == month]\n",
    "\n",
    "    xtr, xts = train.drop(['avg_sale_price'], axis=1), val.drop(['avg_sale_price'], axis=1)\n",
    "    ytr, yts = train['avg_sale_price'].values, val['avg_sale_price'].values\n",
    "\n",
    "    model = RandomForestRegressor(n_estimators=1000, n_jobs=-1, random_state=0)\n",
    "    model.fit(xtr, ytr)\n",
    "\n",
    "    p = model.predict(xts)\n",
    "\n",
    "    error = rmsle(yts, p)\n",
    "    print('Month %d - Error %.5f' % (month, error))\n",
    "    mean_error.append(error)\n",
    "print('Mean Error = %.5f' % np.mean(mean_error))"
   ]
  },
  {
   "cell_type": "code",
   "execution_count": 115,
   "metadata": {},
   "outputs": [
    {
     "data": {
      "text/html": [
       "<div>\n",
       "<style scoped>\n",
       "    .dataframe tbody tr th:only-of-type {\n",
       "        vertical-align: middle;\n",
       "    }\n",
       "\n",
       "    .dataframe tbody tr th {\n",
       "        vertical-align: top;\n",
       "    }\n",
       "\n",
       "    .dataframe thead th {\n",
       "        text-align: right;\n",
       "    }\n",
       "</style>\n",
       "<table border=\"1\" class=\"dataframe\">\n",
       "  <thead>\n",
       "    <tr style=\"text-align: right;\">\n",
       "      <th></th>\n",
       "      <th>zipcode</th>\n",
       "      <th>month</th>\n",
       "      <th>avg_sale_price</th>\n",
       "      <th>Last_Month_Sales</th>\n",
       "      <th>Last_Month_Diff</th>\n",
       "      <th>Last-1_Month_Sales</th>\n",
       "      <th>Last-1_Month_Diff</th>\n",
       "    </tr>\n",
       "  </thead>\n",
       "  <tbody>\n",
       "    <tr>\n",
       "      <th>2853</th>\n",
       "      <td>32003</td>\n",
       "      <td>4</td>\n",
       "      <td>263475.0</td>\n",
       "      <td>301620.0</td>\n",
       "      <td>15447.0</td>\n",
       "      <td>286173.0</td>\n",
       "      <td>-3117.0</td>\n",
       "    </tr>\n",
       "    <tr>\n",
       "      <th>2856</th>\n",
       "      <td>32011</td>\n",
       "      <td>4</td>\n",
       "      <td>171022.0</td>\n",
       "      <td>160508.0</td>\n",
       "      <td>8348.0</td>\n",
       "      <td>152160.0</td>\n",
       "      <td>-67150.0</td>\n",
       "    </tr>\n",
       "    <tr>\n",
       "      <th>2857</th>\n",
       "      <td>32024</td>\n",
       "      <td>4</td>\n",
       "      <td>157358.0</td>\n",
       "      <td>87738.0</td>\n",
       "      <td>-26603.0</td>\n",
       "      <td>114341.0</td>\n",
       "      <td>-138488.0</td>\n",
       "    </tr>\n",
       "    <tr>\n",
       "      <th>2858</th>\n",
       "      <td>32025</td>\n",
       "      <td>4</td>\n",
       "      <td>110079.0</td>\n",
       "      <td>100786.0</td>\n",
       "      <td>-17246.0</td>\n",
       "      <td>118032.0</td>\n",
       "      <td>16522.0</td>\n",
       "    </tr>\n",
       "    <tr>\n",
       "      <th>2859</th>\n",
       "      <td>32033</td>\n",
       "      <td>4</td>\n",
       "      <td>121500.0</td>\n",
       "      <td>243000.0</td>\n",
       "      <td>-5794.0</td>\n",
       "      <td>248794.0</td>\n",
       "      <td>69419.0</td>\n",
       "    </tr>\n",
       "  </tbody>\n",
       "</table>\n",
       "</div>"
      ],
      "text/plain": [
       "      zipcode month  avg_sale_price  Last_Month_Sales  Last_Month_Diff  \\\n",
       "2853    32003     4        263475.0          301620.0          15447.0   \n",
       "2856    32011     4        171022.0          160508.0           8348.0   \n",
       "2857    32024     4        157358.0           87738.0         -26603.0   \n",
       "2858    32025     4        110079.0          100786.0         -17246.0   \n",
       "2859    32033     4        121500.0          243000.0          -5794.0   \n",
       "\n",
       "      Last-1_Month_Sales  Last-1_Month_Diff  \n",
       "2853            286173.0            -3117.0  \n",
       "2856            152160.0           -67150.0  \n",
       "2857            114341.0          -138488.0  \n",
       "2858            118032.0            16522.0  \n",
       "2859            248794.0            69419.0  "
      ]
     },
     "execution_count": 115,
     "metadata": {},
     "output_type": "execute_result"
    }
   ],
   "source": [
    "melt3 = melt.copy()\n",
    "melt3['Last_Month_Sales'] = melt3.groupby(['zipcode'])['avg_sale_price'].shift()\n",
    "melt3['Last_Month_Diff'] = melt3.groupby(['zipcode'])['Last_Month_Sales'].diff()\n",
    "melt3['Last-1_Month_Sales'] = melt3.groupby(['zipcode'])['avg_sale_price'].shift(2)\n",
    "melt3['Last-1_Month_Diff'] = melt3.groupby(['zipcode'])['Last-1_Month_Sales'].diff()\n",
    "melt3 = melt3.dropna()\n",
    "melt3.head()"
   ]
  },
  {
   "cell_type": "code",
   "execution_count": 116,
   "metadata": {},
   "outputs": [
    {
     "name": "stdout",
     "output_type": "stream",
     "text": [
      "Month 11 - Error 0.23398\n",
      "Month 12 - Error 0.21673\n",
      "Mean Error = 0.22536\n"
     ]
    }
   ],
   "source": [
    "mean_error = []\n",
    "for month in range(11,13):\n",
    "    train = melt3[melt3['month'] < month]\n",
    "    val = melt3[melt3['month'] == month]\n",
    "\n",
    "    xtr, xts = train.drop(['avg_sale_price'], axis=1), val.drop(['avg_sale_price'], axis=1)\n",
    "    ytr, yts = train['avg_sale_price'].values, val['avg_sale_price'].values\n",
    "\n",
    "    model = RandomForestRegressor(n_estimators=1000, n_jobs=-1, random_state=0)\n",
    "    model.fit(xtr, ytr)\n",
    "\n",
    "    p = model.predict(xts)\n",
    "\n",
    "    error = rmsle(yts, p)\n",
    "    print('Month %d - Error %.5f' % (month, error))\n",
    "    mean_error.append(error)\n",
    "print('Mean Error = %.5f' % np.mean(mean_error))"
   ]
  },
  {
   "cell_type": "code",
   "execution_count": 117,
   "metadata": {},
   "outputs": [
    {
     "data": {
      "text/html": [
       "<div>\n",
       "<style scoped>\n",
       "    .dataframe tbody tr th:only-of-type {\n",
       "        vertical-align: middle;\n",
       "    }\n",
       "\n",
       "    .dataframe tbody tr th {\n",
       "        vertical-align: top;\n",
       "    }\n",
       "\n",
       "    .dataframe thead th {\n",
       "        text-align: right;\n",
       "    }\n",
       "</style>\n",
       "<table border=\"1\" class=\"dataframe\">\n",
       "  <thead>\n",
       "    <tr style=\"text-align: right;\">\n",
       "      <th></th>\n",
       "      <th>zipcode</th>\n",
       "      <th>month</th>\n",
       "      <th>avg_sale_price</th>\n",
       "      <th>Last_Month_Sales</th>\n",
       "      <th>Last_Month_Diff</th>\n",
       "      <th>Last-1_Month_Sales</th>\n",
       "      <th>Last-1_Month_Diff</th>\n",
       "      <th>Last-2_Month_Sales</th>\n",
       "      <th>Last-2_Month_Diff</th>\n",
       "    </tr>\n",
       "  </thead>\n",
       "  <tbody>\n",
       "    <tr>\n",
       "      <th>3804</th>\n",
       "      <td>32003</td>\n",
       "      <td>5</td>\n",
       "      <td>293816.0</td>\n",
       "      <td>263475.0</td>\n",
       "      <td>-38145.0</td>\n",
       "      <td>301620.0</td>\n",
       "      <td>15447.0</td>\n",
       "      <td>286173.0</td>\n",
       "      <td>-3117.0</td>\n",
       "    </tr>\n",
       "    <tr>\n",
       "      <th>3807</th>\n",
       "      <td>32011</td>\n",
       "      <td>5</td>\n",
       "      <td>210804.0</td>\n",
       "      <td>171022.0</td>\n",
       "      <td>10514.0</td>\n",
       "      <td>160508.0</td>\n",
       "      <td>8348.0</td>\n",
       "      <td>152160.0</td>\n",
       "      <td>-67150.0</td>\n",
       "    </tr>\n",
       "    <tr>\n",
       "      <th>3808</th>\n",
       "      <td>32024</td>\n",
       "      <td>5</td>\n",
       "      <td>147920.0</td>\n",
       "      <td>157358.0</td>\n",
       "      <td>69620.0</td>\n",
       "      <td>87738.0</td>\n",
       "      <td>-26603.0</td>\n",
       "      <td>114341.0</td>\n",
       "      <td>-138488.0</td>\n",
       "    </tr>\n",
       "    <tr>\n",
       "      <th>3809</th>\n",
       "      <td>32025</td>\n",
       "      <td>5</td>\n",
       "      <td>156524.0</td>\n",
       "      <td>110079.0</td>\n",
       "      <td>9293.0</td>\n",
       "      <td>100786.0</td>\n",
       "      <td>-17246.0</td>\n",
       "      <td>118032.0</td>\n",
       "      <td>16522.0</td>\n",
       "    </tr>\n",
       "    <tr>\n",
       "      <th>3810</th>\n",
       "      <td>32033</td>\n",
       "      <td>5</td>\n",
       "      <td>156700.0</td>\n",
       "      <td>121500.0</td>\n",
       "      <td>-121500.0</td>\n",
       "      <td>243000.0</td>\n",
       "      <td>-5794.0</td>\n",
       "      <td>248794.0</td>\n",
       "      <td>69419.0</td>\n",
       "    </tr>\n",
       "  </tbody>\n",
       "</table>\n",
       "</div>"
      ],
      "text/plain": [
       "      zipcode month  avg_sale_price  Last_Month_Sales  Last_Month_Diff  \\\n",
       "3804    32003     5        293816.0          263475.0         -38145.0   \n",
       "3807    32011     5        210804.0          171022.0          10514.0   \n",
       "3808    32024     5        147920.0          157358.0          69620.0   \n",
       "3809    32025     5        156524.0          110079.0           9293.0   \n",
       "3810    32033     5        156700.0          121500.0        -121500.0   \n",
       "\n",
       "      Last-1_Month_Sales  Last-1_Month_Diff  Last-2_Month_Sales  \\\n",
       "3804            301620.0            15447.0            286173.0   \n",
       "3807            160508.0             8348.0            152160.0   \n",
       "3808             87738.0           -26603.0            114341.0   \n",
       "3809            100786.0           -17246.0            118032.0   \n",
       "3810            243000.0            -5794.0            248794.0   \n",
       "\n",
       "      Last-2_Month_Diff  \n",
       "3804            -3117.0  \n",
       "3807           -67150.0  \n",
       "3808          -138488.0  \n",
       "3809            16522.0  \n",
       "3810            69419.0  "
      ]
     },
     "execution_count": 117,
     "metadata": {},
     "output_type": "execute_result"
    }
   ],
   "source": [
    "melt4 = melt.copy()\n",
    "melt4['Last_Month_Sales'] = melt4.groupby(['zipcode'])['avg_sale_price'].shift()\n",
    "melt4['Last_Month_Diff'] = melt4.groupby(['zipcode'])['Last_Month_Sales'].diff()\n",
    "melt4['Last-1_Month_Sales'] = melt4.groupby(['zipcode'])['avg_sale_price'].shift(2)\n",
    "melt4['Last-1_Month_Diff'] = melt4.groupby(['zipcode'])['Last-1_Month_Sales'].diff()\n",
    "melt4['Last-2_Month_Sales'] = melt4.groupby(['zipcode'])['avg_sale_price'].shift(3)\n",
    "melt4['Last-2_Month_Diff'] = melt4.groupby(['zipcode'])['Last-2_Month_Sales'].diff()\n",
    "melt4 = melt4.dropna()\n",
    "melt4.head()"
   ]
  },
  {
   "cell_type": "code",
   "execution_count": 118,
   "metadata": {},
   "outputs": [
    {
     "name": "stdout",
     "output_type": "stream",
     "text": [
      "Month 11 - Error 0.21861\n",
      "Month 12 - Error 0.21076\n",
      "Mean Error = 0.21468\n"
     ]
    }
   ],
   "source": [
    "mean_error = []\n",
    "for month in range(11,13):\n",
    "    train = melt4[melt4['month'] < month]\n",
    "    val = melt4[melt4['month'] == month]\n",
    "\n",
    "    xtr, xts = train.drop(['avg_sale_price'], axis=1), val.drop(['avg_sale_price'], axis=1)\n",
    "    ytr, yts = train['avg_sale_price'].values, val['avg_sale_price'].values\n",
    "\n",
    "    model = RandomForestRegressor(n_estimators=1000, n_jobs=-1, random_state=0)\n",
    "    model.fit(xtr, ytr)\n",
    "\n",
    "    p = model.predict(xts)\n",
    "\n",
    "    error = rmsle(yts, p)\n",
    "    print('Month %d - Error %.5f' % (month, error))\n",
    "    mean_error.append(error)\n",
    "print('Mean Error = %.5f' % np.mean(mean_error))"
   ]
  },
  {
   "cell_type": "code",
   "execution_count": 119,
   "metadata": {},
   "outputs": [
    {
     "data": {
      "text/html": [
       "<div>\n",
       "<style scoped>\n",
       "    .dataframe tbody tr th:only-of-type {\n",
       "        vertical-align: middle;\n",
       "    }\n",
       "\n",
       "    .dataframe tbody tr th {\n",
       "        vertical-align: top;\n",
       "    }\n",
       "\n",
       "    .dataframe thead th {\n",
       "        text-align: right;\n",
       "    }\n",
       "</style>\n",
       "<table border=\"1\" class=\"dataframe\">\n",
       "  <thead>\n",
       "    <tr style=\"text-align: right;\">\n",
       "      <th></th>\n",
       "      <th>zipcode</th>\n",
       "      <th>month</th>\n",
       "      <th>avg_sale_price</th>\n",
       "      <th>Last_Month_Sales</th>\n",
       "      <th>Last_Month_Diff</th>\n",
       "      <th>Last-1_Month_Sales</th>\n",
       "      <th>Last-1_Month_Diff</th>\n",
       "      <th>Last-2_Month_Sales</th>\n",
       "      <th>Last-2_Month_Diff</th>\n",
       "      <th>Last-3_Month_Sales</th>\n",
       "      <th>Last-3_Month_Diff</th>\n",
       "    </tr>\n",
       "  </thead>\n",
       "  <tbody>\n",
       "    <tr>\n",
       "      <th>4755</th>\n",
       "      <td>32003</td>\n",
       "      <td>6</td>\n",
       "      <td>298865.0</td>\n",
       "      <td>293816.0</td>\n",
       "      <td>30341.0</td>\n",
       "      <td>263475.0</td>\n",
       "      <td>-38145.0</td>\n",
       "      <td>301620.0</td>\n",
       "      <td>15447.0</td>\n",
       "      <td>286173.0</td>\n",
       "      <td>-3117.0</td>\n",
       "    </tr>\n",
       "    <tr>\n",
       "      <th>4758</th>\n",
       "      <td>32011</td>\n",
       "      <td>6</td>\n",
       "      <td>144637.0</td>\n",
       "      <td>210804.0</td>\n",
       "      <td>39782.0</td>\n",
       "      <td>171022.0</td>\n",
       "      <td>10514.0</td>\n",
       "      <td>160508.0</td>\n",
       "      <td>8348.0</td>\n",
       "      <td>152160.0</td>\n",
       "      <td>-67150.0</td>\n",
       "    </tr>\n",
       "    <tr>\n",
       "      <th>4759</th>\n",
       "      <td>32024</td>\n",
       "      <td>6</td>\n",
       "      <td>137455.0</td>\n",
       "      <td>147920.0</td>\n",
       "      <td>-9438.0</td>\n",
       "      <td>157358.0</td>\n",
       "      <td>69620.0</td>\n",
       "      <td>87738.0</td>\n",
       "      <td>-26603.0</td>\n",
       "      <td>114341.0</td>\n",
       "      <td>-138488.0</td>\n",
       "    </tr>\n",
       "    <tr>\n",
       "      <th>4760</th>\n",
       "      <td>32025</td>\n",
       "      <td>6</td>\n",
       "      <td>139078.0</td>\n",
       "      <td>156524.0</td>\n",
       "      <td>46445.0</td>\n",
       "      <td>110079.0</td>\n",
       "      <td>9293.0</td>\n",
       "      <td>100786.0</td>\n",
       "      <td>-17246.0</td>\n",
       "      <td>118032.0</td>\n",
       "      <td>16522.0</td>\n",
       "    </tr>\n",
       "    <tr>\n",
       "      <th>4761</th>\n",
       "      <td>32033</td>\n",
       "      <td>6</td>\n",
       "      <td>180849.0</td>\n",
       "      <td>156700.0</td>\n",
       "      <td>35200.0</td>\n",
       "      <td>121500.0</td>\n",
       "      <td>-121500.0</td>\n",
       "      <td>243000.0</td>\n",
       "      <td>-5794.0</td>\n",
       "      <td>248794.0</td>\n",
       "      <td>69419.0</td>\n",
       "    </tr>\n",
       "  </tbody>\n",
       "</table>\n",
       "</div>"
      ],
      "text/plain": [
       "      zipcode month  avg_sale_price  Last_Month_Sales  Last_Month_Diff  \\\n",
       "4755    32003     6        298865.0          293816.0          30341.0   \n",
       "4758    32011     6        144637.0          210804.0          39782.0   \n",
       "4759    32024     6        137455.0          147920.0          -9438.0   \n",
       "4760    32025     6        139078.0          156524.0          46445.0   \n",
       "4761    32033     6        180849.0          156700.0          35200.0   \n",
       "\n",
       "      Last-1_Month_Sales  Last-1_Month_Diff  Last-2_Month_Sales  \\\n",
       "4755            263475.0           -38145.0            301620.0   \n",
       "4758            171022.0            10514.0            160508.0   \n",
       "4759            157358.0            69620.0             87738.0   \n",
       "4760            110079.0             9293.0            100786.0   \n",
       "4761            121500.0          -121500.0            243000.0   \n",
       "\n",
       "      Last-2_Month_Diff  Last-3_Month_Sales  Last-3_Month_Diff  \n",
       "4755            15447.0            286173.0            -3117.0  \n",
       "4758             8348.0            152160.0           -67150.0  \n",
       "4759           -26603.0            114341.0          -138488.0  \n",
       "4760           -17246.0            118032.0            16522.0  \n",
       "4761            -5794.0            248794.0            69419.0  "
      ]
     },
     "execution_count": 119,
     "metadata": {},
     "output_type": "execute_result"
    }
   ],
   "source": [
    "melt5 = melt.copy()\n",
    "melt5['Last_Month_Sales'] = melt5.groupby(['zipcode'])['avg_sale_price'].shift()\n",
    "melt5['Last_Month_Diff'] = melt5.groupby(['zipcode'])['Last_Month_Sales'].diff()\n",
    "melt5['Last-1_Month_Sales'] = melt5.groupby(['zipcode'])['avg_sale_price'].shift(2)\n",
    "melt5['Last-1_Month_Diff'] = melt5.groupby(['zipcode'])['Last-1_Month_Sales'].diff()\n",
    "melt5['Last-2_Month_Sales'] = melt5.groupby(['zipcode'])['avg_sale_price'].shift(3)\n",
    "melt5['Last-2_Month_Diff'] = melt5.groupby(['zipcode'])['Last-2_Month_Sales'].diff()\n",
    "melt5['Last-3_Month_Sales'] = melt5.groupby(['zipcode'])['avg_sale_price'].shift(4)\n",
    "melt5['Last-3_Month_Diff'] = melt5.groupby(['zipcode'])['Last-3_Month_Sales'].diff()\n",
    "melt5 = melt5.dropna()\n",
    "melt5.head()"
   ]
  },
  {
   "cell_type": "code",
   "execution_count": 120,
   "metadata": {},
   "outputs": [
    {
     "name": "stdout",
     "output_type": "stream",
     "text": [
      "Month 11 - Error 0.21694\n",
      "Month 12 - Error 0.20501\n",
      "Mean Error = 0.21097\n"
     ]
    }
   ],
   "source": [
    "mean_error = []\n",
    "for month in range(11,13):\n",
    "    train = melt5[melt5['month'] < month]\n",
    "    val = melt5[melt5['month'] == month]\n",
    "\n",
    "    xtr, xts = train.drop(['avg_sale_price'], axis=1), val.drop(['avg_sale_price'], axis=1)\n",
    "    ytr, yts = train['avg_sale_price'].values, val['avg_sale_price'].values\n",
    "\n",
    "    model = RandomForestRegressor(n_estimators=1000, n_jobs=-1, random_state=0)\n",
    "    model.fit(xtr, ytr)\n",
    "\n",
    "    p = model.predict(xts)\n",
    "\n",
    "    error = rmsle(yts, p)\n",
    "    print('Month %d - Error %.5f' % (month, error))\n",
    "    mean_error.append(error)\n",
    "print('Mean Error = %.5f' % np.mean(mean_error))"
   ]
  },
  {
   "cell_type": "code",
   "execution_count": 121,
   "metadata": {},
   "outputs": [
    {
     "data": {
      "text/html": [
       "<div>\n",
       "<style scoped>\n",
       "    .dataframe tbody tr th:only-of-type {\n",
       "        vertical-align: middle;\n",
       "    }\n",
       "\n",
       "    .dataframe tbody tr th {\n",
       "        vertical-align: top;\n",
       "    }\n",
       "\n",
       "    .dataframe thead th {\n",
       "        text-align: right;\n",
       "    }\n",
       "</style>\n",
       "<table border=\"1\" class=\"dataframe\">\n",
       "  <thead>\n",
       "    <tr style=\"text-align: right;\">\n",
       "      <th></th>\n",
       "      <th>zipcode</th>\n",
       "      <th>month</th>\n",
       "      <th>avg_sale_price</th>\n",
       "      <th>Last_Month_Sales</th>\n",
       "      <th>Last_Month_Diff</th>\n",
       "      <th>Last-1_Month_Sales</th>\n",
       "      <th>Last-1_Month_Diff</th>\n",
       "      <th>Last-2_Month_Sales</th>\n",
       "      <th>Last-2_Month_Diff</th>\n",
       "      <th>Last-3_Month_Sales</th>\n",
       "      <th>Last-3_Month_Diff</th>\n",
       "      <th>Last-4_Month_Sales</th>\n",
       "      <th>Last-4_Month_Diff</th>\n",
       "    </tr>\n",
       "  </thead>\n",
       "  <tbody>\n",
       "    <tr>\n",
       "      <th>5706</th>\n",
       "      <td>32003</td>\n",
       "      <td>7</td>\n",
       "      <td>295053.0</td>\n",
       "      <td>298865.0</td>\n",
       "      <td>5049.0</td>\n",
       "      <td>293816.0</td>\n",
       "      <td>30341.0</td>\n",
       "      <td>263475.0</td>\n",
       "      <td>-38145.0</td>\n",
       "      <td>301620.0</td>\n",
       "      <td>15447.0</td>\n",
       "      <td>286173.0</td>\n",
       "      <td>-3117.0</td>\n",
       "    </tr>\n",
       "    <tr>\n",
       "      <th>5709</th>\n",
       "      <td>32011</td>\n",
       "      <td>7</td>\n",
       "      <td>220224.0</td>\n",
       "      <td>144637.0</td>\n",
       "      <td>-66167.0</td>\n",
       "      <td>210804.0</td>\n",
       "      <td>39782.0</td>\n",
       "      <td>171022.0</td>\n",
       "      <td>10514.0</td>\n",
       "      <td>160508.0</td>\n",
       "      <td>8348.0</td>\n",
       "      <td>152160.0</td>\n",
       "      <td>-67150.0</td>\n",
       "    </tr>\n",
       "    <tr>\n",
       "      <th>5710</th>\n",
       "      <td>32024</td>\n",
       "      <td>7</td>\n",
       "      <td>157163.0</td>\n",
       "      <td>137455.0</td>\n",
       "      <td>-10465.0</td>\n",
       "      <td>147920.0</td>\n",
       "      <td>-9438.0</td>\n",
       "      <td>157358.0</td>\n",
       "      <td>69620.0</td>\n",
       "      <td>87738.0</td>\n",
       "      <td>-26603.0</td>\n",
       "      <td>114341.0</td>\n",
       "      <td>-138488.0</td>\n",
       "    </tr>\n",
       "    <tr>\n",
       "      <th>5711</th>\n",
       "      <td>32025</td>\n",
       "      <td>7</td>\n",
       "      <td>128616.0</td>\n",
       "      <td>139078.0</td>\n",
       "      <td>-17446.0</td>\n",
       "      <td>156524.0</td>\n",
       "      <td>46445.0</td>\n",
       "      <td>110079.0</td>\n",
       "      <td>9293.0</td>\n",
       "      <td>100786.0</td>\n",
       "      <td>-17246.0</td>\n",
       "      <td>118032.0</td>\n",
       "      <td>16522.0</td>\n",
       "    </tr>\n",
       "    <tr>\n",
       "      <th>5712</th>\n",
       "      <td>32033</td>\n",
       "      <td>7</td>\n",
       "      <td>241143.0</td>\n",
       "      <td>180849.0</td>\n",
       "      <td>24149.0</td>\n",
       "      <td>156700.0</td>\n",
       "      <td>35200.0</td>\n",
       "      <td>121500.0</td>\n",
       "      <td>-121500.0</td>\n",
       "      <td>243000.0</td>\n",
       "      <td>-5794.0</td>\n",
       "      <td>248794.0</td>\n",
       "      <td>69419.0</td>\n",
       "    </tr>\n",
       "  </tbody>\n",
       "</table>\n",
       "</div>"
      ],
      "text/plain": [
       "      zipcode month  avg_sale_price  Last_Month_Sales  Last_Month_Diff  \\\n",
       "5706    32003     7        295053.0          298865.0           5049.0   \n",
       "5709    32011     7        220224.0          144637.0         -66167.0   \n",
       "5710    32024     7        157163.0          137455.0         -10465.0   \n",
       "5711    32025     7        128616.0          139078.0         -17446.0   \n",
       "5712    32033     7        241143.0          180849.0          24149.0   \n",
       "\n",
       "      Last-1_Month_Sales  Last-1_Month_Diff  Last-2_Month_Sales  \\\n",
       "5706            293816.0            30341.0            263475.0   \n",
       "5709            210804.0            39782.0            171022.0   \n",
       "5710            147920.0            -9438.0            157358.0   \n",
       "5711            156524.0            46445.0            110079.0   \n",
       "5712            156700.0            35200.0            121500.0   \n",
       "\n",
       "      Last-2_Month_Diff  Last-3_Month_Sales  Last-3_Month_Diff  \\\n",
       "5706           -38145.0            301620.0            15447.0   \n",
       "5709            10514.0            160508.0             8348.0   \n",
       "5710            69620.0             87738.0           -26603.0   \n",
       "5711             9293.0            100786.0           -17246.0   \n",
       "5712          -121500.0            243000.0            -5794.0   \n",
       "\n",
       "      Last-4_Month_Sales  Last-4_Month_Diff  \n",
       "5706            286173.0            -3117.0  \n",
       "5709            152160.0           -67150.0  \n",
       "5710            114341.0          -138488.0  \n",
       "5711            118032.0            16522.0  \n",
       "5712            248794.0            69419.0  "
      ]
     },
     "execution_count": 121,
     "metadata": {},
     "output_type": "execute_result"
    }
   ],
   "source": [
    "melt6 = melt.copy()\n",
    "melt6['Last_Month_Sales'] = melt6.groupby(['zipcode'])['avg_sale_price'].shift()\n",
    "melt6['Last_Month_Diff'] = melt6.groupby(['zipcode'])['Last_Month_Sales'].diff()\n",
    "melt6['Last-1_Month_Sales'] = melt6.groupby(['zipcode'])['avg_sale_price'].shift(2)\n",
    "melt6['Last-1_Month_Diff'] = melt6.groupby(['zipcode'])['Last-1_Month_Sales'].diff()\n",
    "melt6['Last-2_Month_Sales'] = melt6.groupby(['zipcode'])['avg_sale_price'].shift(3)\n",
    "melt6['Last-2_Month_Diff'] = melt6.groupby(['zipcode'])['Last-2_Month_Sales'].diff()\n",
    "melt6['Last-3_Month_Sales'] = melt6.groupby(['zipcode'])['avg_sale_price'].shift(4)\n",
    "melt6['Last-3_Month_Diff'] = melt6.groupby(['zipcode'])['Last-3_Month_Sales'].diff()\n",
    "melt6['Last-4_Month_Sales'] = melt6.groupby(['zipcode'])['avg_sale_price'].shift(5)\n",
    "melt6['Last-4_Month_Diff'] = melt6.groupby(['zipcode'])['Last-4_Month_Sales'].diff()\n",
    "\n",
    "melt6 = melt6.dropna()\n",
    "melt6.head()"
   ]
  },
  {
   "cell_type": "code",
   "execution_count": 122,
   "metadata": {},
   "outputs": [
    {
     "name": "stdout",
     "output_type": "stream",
     "text": [
      "Month 11 - Error 0.21520\n",
      "Month 12 - Error 0.20217\n",
      "Mean Error = 0.20869\n"
     ]
    }
   ],
   "source": [
    "mean_error = []\n",
    "for month in range(11,13):\n",
    "    train = melt6[melt6['month'] < month]\n",
    "    val = melt6[melt6['month'] == month]\n",
    "\n",
    "    xtr, xts = train.drop(['avg_sale_price'], axis=1), val.drop(['avg_sale_price'], axis=1)\n",
    "    ytr, yts = train['avg_sale_price'].values, val['avg_sale_price'].values\n",
    "\n",
    "    model = RandomForestRegressor(n_estimators=1000, n_jobs=-1, random_state=0)\n",
    "    model.fit(xtr, ytr)\n",
    "\n",
    "    p = model.predict(xts)\n",
    "\n",
    "    error = rmsle(yts, p)\n",
    "    print('Month %d - Error %.5f' % (month, error))\n",
    "    mean_error.append(error)\n",
    "print('Mean Error = %.5f' % np.mean(mean_error))"
   ]
  },
  {
   "cell_type": "markdown",
   "metadata": {},
   "source": [
    "### Changing the fit"
   ]
  },
  {
   "cell_type": "code",
   "execution_count": 123,
   "metadata": {},
   "outputs": [
    {
     "name": "stdout",
     "output_type": "stream",
     "text": [
      "Month 11 - Error 0.20669\n",
      "Month 12 - Error 0.20384\n",
      "Mean Error = 0.20526\n"
     ]
    }
   ],
   "source": [
    "mean_error = []\n",
    "for month in range(11,13):\n",
    "    train = melt6[melt6['month'] < month]\n",
    "    val = melt6[melt6['month'] == month]\n",
    "\n",
    "    xtr, xts = train.drop(['avg_sale_price'], axis=1), val.drop(['avg_sale_price'], axis=1)\n",
    "    ytr, yts = train['avg_sale_price'].values, val['avg_sale_price'].values\n",
    "\n",
    "    model = RandomForestRegressor(n_estimators=1000, n_jobs=-1, random_state=0)\n",
    "    model.fit(xtr, np.log1p(ytr))\n",
    "\n",
    "    p = np.expm1(model.predict(xts))\n",
    "\n",
    "    error = rmsle(yts, p)\n",
    "    print('Month %d - Error %.5f' % (month, error))\n",
    "    mean_error.append(error)\n",
    "print('Mean Error = %.5f' % np.mean(mean_error))"
   ]
  },
  {
   "cell_type": "code",
   "execution_count": 150,
   "metadata": {},
   "outputs": [
    {
     "ename": "ValueError",
     "evalue": "Must have equal len keys and value when setting with an iterable",
     "output_type": "error",
     "traceback": [
      "\u001b[1;31m---------------------------------------------------------------------------\u001b[0m",
      "\u001b[1;31mValueError\u001b[0m                                Traceback (most recent call last)",
      "\u001b[1;32m<ipython-input-150-033593129839>\u001b[0m in \u001b[0;36m<module>\u001b[1;34m\u001b[0m\n\u001b[1;32m----> 1\u001b[1;33m \u001b[0mval\u001b[0m\u001b[1;33m.\u001b[0m\u001b[0mloc\u001b[0m\u001b[1;33m[\u001b[0m\u001b[1;33m:\u001b[0m\u001b[1;33m,\u001b[0m \u001b[1;34m'Prediction'\u001b[0m\u001b[1;33m]\u001b[0m \u001b[1;33m=\u001b[0m \u001b[0mnp\u001b[0m\u001b[1;33m.\u001b[0m\u001b[0mround\u001b[0m\u001b[1;33m(\u001b[0m\u001b[0mp\u001b[0m\u001b[1;33m)\u001b[0m\u001b[1;33m\u001b[0m\u001b[1;33m\u001b[0m\u001b[0m\n\u001b[0m\u001b[0;32m      2\u001b[0m val.plot.scatter(x='Prediction', y='avg_sale_price', figsize=(15,10), title='Prediction vs Sales', \n\u001b[0;32m      3\u001b[0m                  ylim=(0,11), xlim=(0,11))\n",
      "\u001b[1;32m~\\.conda\\envs\\PythonData\\lib\\site-packages\\pandas\\core\\indexing.py\u001b[0m in \u001b[0;36m__setitem__\u001b[1;34m(self, key, value)\u001b[0m\n\u001b[0;32m    669\u001b[0m             \u001b[0mkey\u001b[0m \u001b[1;33m=\u001b[0m \u001b[0mcom\u001b[0m\u001b[1;33m.\u001b[0m\u001b[0mapply_if_callable\u001b[0m\u001b[1;33m(\u001b[0m\u001b[0mkey\u001b[0m\u001b[1;33m,\u001b[0m \u001b[0mself\u001b[0m\u001b[1;33m.\u001b[0m\u001b[0mobj\u001b[0m\u001b[1;33m)\u001b[0m\u001b[1;33m\u001b[0m\u001b[1;33m\u001b[0m\u001b[0m\n\u001b[0;32m    670\u001b[0m         \u001b[0mindexer\u001b[0m \u001b[1;33m=\u001b[0m \u001b[0mself\u001b[0m\u001b[1;33m.\u001b[0m\u001b[0m_get_setitem_indexer\u001b[0m\u001b[1;33m(\u001b[0m\u001b[0mkey\u001b[0m\u001b[1;33m)\u001b[0m\u001b[1;33m\u001b[0m\u001b[1;33m\u001b[0m\u001b[0m\n\u001b[1;32m--> 671\u001b[1;33m         \u001b[0mself\u001b[0m\u001b[1;33m.\u001b[0m\u001b[0m_setitem_with_indexer\u001b[0m\u001b[1;33m(\u001b[0m\u001b[0mindexer\u001b[0m\u001b[1;33m,\u001b[0m \u001b[0mvalue\u001b[0m\u001b[1;33m)\u001b[0m\u001b[1;33m\u001b[0m\u001b[1;33m\u001b[0m\u001b[0m\n\u001b[0m\u001b[0;32m    672\u001b[0m \u001b[1;33m\u001b[0m\u001b[0m\n\u001b[0;32m    673\u001b[0m     \u001b[1;32mdef\u001b[0m \u001b[0m_validate_key\u001b[0m\u001b[1;33m(\u001b[0m\u001b[0mself\u001b[0m\u001b[1;33m,\u001b[0m \u001b[0mkey\u001b[0m\u001b[1;33m,\u001b[0m \u001b[0maxis\u001b[0m\u001b[1;33m:\u001b[0m \u001b[0mint\u001b[0m\u001b[1;33m)\u001b[0m\u001b[1;33m:\u001b[0m\u001b[1;33m\u001b[0m\u001b[1;33m\u001b[0m\u001b[0m\n",
      "\u001b[1;32m~\\.conda\\envs\\PythonData\\lib\\site-packages\\pandas\\core\\indexing.py\u001b[0m in \u001b[0;36m_setitem_with_indexer\u001b[1;34m(self, indexer, value)\u001b[0m\n\u001b[0;32m   1017\u001b[0m                     \u001b[1;32mif\u001b[0m \u001b[0mlen\u001b[0m\u001b[1;33m(\u001b[0m\u001b[0mlabels\u001b[0m\u001b[1;33m)\u001b[0m \u001b[1;33m!=\u001b[0m \u001b[0mlen\u001b[0m\u001b[1;33m(\u001b[0m\u001b[0mvalue\u001b[0m\u001b[1;33m)\u001b[0m\u001b[1;33m:\u001b[0m\u001b[1;33m\u001b[0m\u001b[1;33m\u001b[0m\u001b[0m\n\u001b[0;32m   1018\u001b[0m                         raise ValueError(\n\u001b[1;32m-> 1019\u001b[1;33m                             \u001b[1;34m\"Must have equal len keys and value \"\u001b[0m\u001b[1;33m\u001b[0m\u001b[1;33m\u001b[0m\u001b[0m\n\u001b[0m\u001b[0;32m   1020\u001b[0m                             \u001b[1;34m\"when setting with an iterable\"\u001b[0m\u001b[1;33m\u001b[0m\u001b[1;33m\u001b[0m\u001b[0m\n\u001b[0;32m   1021\u001b[0m                         )\n",
      "\u001b[1;31mValueError\u001b[0m: Must have equal len keys and value when setting with an iterable"
     ]
    }
   ],
   "source": [
    "val.loc[:, 'Prediction'] = np.round(p)\n",
    "val.plot.scatter(x='Prediction', y='avg_sale_price', figsize=(15,10), title='Prediction vs Sales', \n",
    "                 ylim=(0,11), xlim=(0,11))"
   ]
  },
  {
   "cell_type": "markdown",
   "metadata": {},
   "source": [
    "### Try again later..."
   ]
  },
  {
   "cell_type": "code",
   "execution_count": 135,
   "metadata": {},
   "outputs": [
    {
     "data": {
      "text/plain": [
       "zipcode                 int64\n",
       "month                 float64\n",
       "avg_sale_price        float64\n",
       "Last_Month_Sales      float64\n",
       "Last_Month_Diff       float64\n",
       "Last-1_Month_Sales    float64\n",
       "Last-1_Month_Diff     float64\n",
       "Last-2_Month_Sales    float64\n",
       "Last-2_Month_Diff     float64\n",
       "Last-3_Month_Sales    float64\n",
       "Last-3_Month_Diff     float64\n",
       "Last-4_Month_Sales    float64\n",
       "Last-4_Month_Diff     float64\n",
       "dtype: object"
      ]
     },
     "execution_count": 135,
     "metadata": {},
     "output_type": "execute_result"
    }
   ],
   "source": [
    "melt6.astype({'month': 'float'}).dtypes"
   ]
  },
  {
   "cell_type": "markdown",
   "metadata": {},
   "source": [
    "### Gradient Boosted Trees"
   ]
  },
  {
   "cell_type": "code",
   "execution_count": 136,
   "metadata": {},
   "outputs": [
    {
     "ename": "ValueError",
     "evalue": "DataFrame.dtypes for data must be int, float or bool.\nDid not expect the data types in the following fields: month",
     "output_type": "error",
     "traceback": [
      "\u001b[1;31m---------------------------------------------------------------------------\u001b[0m",
      "\u001b[1;31mValueError\u001b[0m                                Traceback (most recent call last)",
      "\u001b[1;32m<ipython-input-136-28d339f1e4ab>\u001b[0m in \u001b[0;36m<module>\u001b[1;34m\u001b[0m\n\u001b[0;32m      8\u001b[0m \u001b[1;33m\u001b[0m\u001b[0m\n\u001b[0;32m      9\u001b[0m     \u001b[0mmodel\u001b[0m \u001b[1;33m=\u001b[0m \u001b[0mLGBMRegressor\u001b[0m\u001b[1;33m(\u001b[0m\u001b[0mn_estimators\u001b[0m\u001b[1;33m=\u001b[0m\u001b[1;36m1000\u001b[0m\u001b[1;33m,\u001b[0m \u001b[0mlearning_rate\u001b[0m\u001b[1;33m=\u001b[0m\u001b[1;36m0.01\u001b[0m\u001b[1;33m)\u001b[0m\u001b[1;33m\u001b[0m\u001b[1;33m\u001b[0m\u001b[0m\n\u001b[1;32m---> 10\u001b[1;33m     \u001b[0mmodel\u001b[0m\u001b[1;33m.\u001b[0m\u001b[0mfit\u001b[0m\u001b[1;33m(\u001b[0m\u001b[0mxtr\u001b[0m\u001b[1;33m,\u001b[0m \u001b[0mnp\u001b[0m\u001b[1;33m.\u001b[0m\u001b[0mlog1p\u001b[0m\u001b[1;33m(\u001b[0m\u001b[0mytr\u001b[0m\u001b[1;33m)\u001b[0m\u001b[1;33m)\u001b[0m\u001b[1;33m\u001b[0m\u001b[1;33m\u001b[0m\u001b[0m\n\u001b[0m\u001b[0;32m     11\u001b[0m \u001b[1;33m\u001b[0m\u001b[0m\n\u001b[0;32m     12\u001b[0m     \u001b[0mp\u001b[0m \u001b[1;33m=\u001b[0m \u001b[0mnp\u001b[0m\u001b[1;33m.\u001b[0m\u001b[0mexpm1\u001b[0m\u001b[1;33m(\u001b[0m\u001b[0mmodel\u001b[0m\u001b[1;33m.\u001b[0m\u001b[0mpredict\u001b[0m\u001b[1;33m(\u001b[0m\u001b[0mxts\u001b[0m\u001b[1;33m)\u001b[0m\u001b[1;33m)\u001b[0m\u001b[1;33m\u001b[0m\u001b[1;33m\u001b[0m\u001b[0m\n",
      "\u001b[1;32m~\\.conda\\envs\\PythonData\\lib\\site-packages\\lightgbm\\sklearn.py\u001b[0m in \u001b[0;36mfit\u001b[1;34m(self, X, y, sample_weight, init_score, eval_set, eval_names, eval_sample_weight, eval_init_score, eval_metric, early_stopping_rounds, verbose, feature_name, categorical_feature, callbacks, init_model)\u001b[0m\n\u001b[0;32m    820\u001b[0m                     \u001b[0meval_init_score\u001b[0m\u001b[1;33m=\u001b[0m\u001b[0meval_init_score\u001b[0m\u001b[1;33m,\u001b[0m \u001b[0meval_metric\u001b[0m\u001b[1;33m=\u001b[0m\u001b[0meval_metric\u001b[0m\u001b[1;33m,\u001b[0m\u001b[1;33m\u001b[0m\u001b[1;33m\u001b[0m\u001b[0m\n\u001b[0;32m    821\u001b[0m                     \u001b[0mearly_stopping_rounds\u001b[0m\u001b[1;33m=\u001b[0m\u001b[0mearly_stopping_rounds\u001b[0m\u001b[1;33m,\u001b[0m \u001b[0mverbose\u001b[0m\u001b[1;33m=\u001b[0m\u001b[0mverbose\u001b[0m\u001b[1;33m,\u001b[0m \u001b[0mfeature_name\u001b[0m\u001b[1;33m=\u001b[0m\u001b[0mfeature_name\u001b[0m\u001b[1;33m,\u001b[0m\u001b[1;33m\u001b[0m\u001b[1;33m\u001b[0m\u001b[0m\n\u001b[1;32m--> 822\u001b[1;33m                     categorical_feature=categorical_feature, callbacks=callbacks, init_model=init_model)\n\u001b[0m\u001b[0;32m    823\u001b[0m         \u001b[1;32mreturn\u001b[0m \u001b[0mself\u001b[0m\u001b[1;33m\u001b[0m\u001b[1;33m\u001b[0m\u001b[0m\n\u001b[0;32m    824\u001b[0m \u001b[1;33m\u001b[0m\u001b[0m\n",
      "\u001b[1;32m~\\.conda\\envs\\PythonData\\lib\\site-packages\\lightgbm\\sklearn.py\u001b[0m in \u001b[0;36mfit\u001b[1;34m(self, X, y, sample_weight, init_score, group, eval_set, eval_names, eval_sample_weight, eval_class_weight, eval_init_score, eval_group, eval_metric, early_stopping_rounds, verbose, feature_name, categorical_feature, callbacks, init_model)\u001b[0m\n\u001b[0;32m    686\u001b[0m                               \u001b[0mevals_result\u001b[0m\u001b[1;33m=\u001b[0m\u001b[0mevals_result\u001b[0m\u001b[1;33m,\u001b[0m \u001b[0mfobj\u001b[0m\u001b[1;33m=\u001b[0m\u001b[0mself\u001b[0m\u001b[1;33m.\u001b[0m\u001b[0m_fobj\u001b[0m\u001b[1;33m,\u001b[0m \u001b[0mfeval\u001b[0m\u001b[1;33m=\u001b[0m\u001b[0meval_metrics_callable\u001b[0m\u001b[1;33m,\u001b[0m\u001b[1;33m\u001b[0m\u001b[1;33m\u001b[0m\u001b[0m\n\u001b[0;32m    687\u001b[0m                               \u001b[0mverbose_eval\u001b[0m\u001b[1;33m=\u001b[0m\u001b[0mverbose\u001b[0m\u001b[1;33m,\u001b[0m \u001b[0mfeature_name\u001b[0m\u001b[1;33m=\u001b[0m\u001b[0mfeature_name\u001b[0m\u001b[1;33m,\u001b[0m\u001b[1;33m\u001b[0m\u001b[1;33m\u001b[0m\u001b[0m\n\u001b[1;32m--> 688\u001b[1;33m                               callbacks=callbacks, init_model=init_model)\n\u001b[0m\u001b[0;32m    689\u001b[0m \u001b[1;33m\u001b[0m\u001b[0m\n\u001b[0;32m    690\u001b[0m         \u001b[1;32mif\u001b[0m \u001b[0mevals_result\u001b[0m\u001b[1;33m:\u001b[0m\u001b[1;33m\u001b[0m\u001b[1;33m\u001b[0m\u001b[0m\n",
      "\u001b[1;32m~\\.conda\\envs\\PythonData\\lib\\site-packages\\lightgbm\\engine.py\u001b[0m in \u001b[0;36mtrain\u001b[1;34m(params, train_set, num_boost_round, valid_sets, valid_names, fobj, feval, init_model, feature_name, categorical_feature, early_stopping_rounds, evals_result, verbose_eval, learning_rates, keep_training_booster, callbacks)\u001b[0m\n\u001b[0;32m    226\u001b[0m     \u001b[1;31m# construct booster\u001b[0m\u001b[1;33m\u001b[0m\u001b[1;33m\u001b[0m\u001b[1;33m\u001b[0m\u001b[0m\n\u001b[0;32m    227\u001b[0m     \u001b[1;32mtry\u001b[0m\u001b[1;33m:\u001b[0m\u001b[1;33m\u001b[0m\u001b[1;33m\u001b[0m\u001b[0m\n\u001b[1;32m--> 228\u001b[1;33m         \u001b[0mbooster\u001b[0m \u001b[1;33m=\u001b[0m \u001b[0mBooster\u001b[0m\u001b[1;33m(\u001b[0m\u001b[0mparams\u001b[0m\u001b[1;33m=\u001b[0m\u001b[0mparams\u001b[0m\u001b[1;33m,\u001b[0m \u001b[0mtrain_set\u001b[0m\u001b[1;33m=\u001b[0m\u001b[0mtrain_set\u001b[0m\u001b[1;33m)\u001b[0m\u001b[1;33m\u001b[0m\u001b[1;33m\u001b[0m\u001b[0m\n\u001b[0m\u001b[0;32m    229\u001b[0m         \u001b[1;32mif\u001b[0m \u001b[0mis_valid_contain_train\u001b[0m\u001b[1;33m:\u001b[0m\u001b[1;33m\u001b[0m\u001b[1;33m\u001b[0m\u001b[0m\n\u001b[0;32m    230\u001b[0m             \u001b[0mbooster\u001b[0m\u001b[1;33m.\u001b[0m\u001b[0mset_train_data_name\u001b[0m\u001b[1;33m(\u001b[0m\u001b[0mtrain_data_name\u001b[0m\u001b[1;33m)\u001b[0m\u001b[1;33m\u001b[0m\u001b[1;33m\u001b[0m\u001b[0m\n",
      "\u001b[1;32m~\\.conda\\envs\\PythonData\\lib\\site-packages\\lightgbm\\basic.py\u001b[0m in \u001b[0;36m__init__\u001b[1;34m(self, params, train_set, model_file, model_str, silent)\u001b[0m\n\u001b[0;32m   2227\u001b[0m                 )\n\u001b[0;32m   2228\u001b[0m             \u001b[1;31m# construct booster object\u001b[0m\u001b[1;33m\u001b[0m\u001b[1;33m\u001b[0m\u001b[1;33m\u001b[0m\u001b[0m\n\u001b[1;32m-> 2229\u001b[1;33m             \u001b[0mtrain_set\u001b[0m\u001b[1;33m.\u001b[0m\u001b[0mconstruct\u001b[0m\u001b[1;33m(\u001b[0m\u001b[1;33m)\u001b[0m\u001b[1;33m\u001b[0m\u001b[1;33m\u001b[0m\u001b[0m\n\u001b[0m\u001b[0;32m   2230\u001b[0m             \u001b[1;31m# copy the parameters from train_set\u001b[0m\u001b[1;33m\u001b[0m\u001b[1;33m\u001b[0m\u001b[1;33m\u001b[0m\u001b[0m\n\u001b[0;32m   2231\u001b[0m             \u001b[0mparams\u001b[0m\u001b[1;33m.\u001b[0m\u001b[0mupdate\u001b[0m\u001b[1;33m(\u001b[0m\u001b[0mtrain_set\u001b[0m\u001b[1;33m.\u001b[0m\u001b[0mget_params\u001b[0m\u001b[1;33m(\u001b[0m\u001b[1;33m)\u001b[0m\u001b[1;33m)\u001b[0m\u001b[1;33m\u001b[0m\u001b[1;33m\u001b[0m\u001b[0m\n",
      "\u001b[1;32m~\\.conda\\envs\\PythonData\\lib\\site-packages\\lightgbm\\basic.py\u001b[0m in \u001b[0;36mconstruct\u001b[1;34m(self)\u001b[0m\n\u001b[0;32m   1470\u001b[0m                                 \u001b[0minit_score\u001b[0m\u001b[1;33m=\u001b[0m\u001b[0mself\u001b[0m\u001b[1;33m.\u001b[0m\u001b[0minit_score\u001b[0m\u001b[1;33m,\u001b[0m \u001b[0mpredictor\u001b[0m\u001b[1;33m=\u001b[0m\u001b[0mself\u001b[0m\u001b[1;33m.\u001b[0m\u001b[0m_predictor\u001b[0m\u001b[1;33m,\u001b[0m\u001b[1;33m\u001b[0m\u001b[1;33m\u001b[0m\u001b[0m\n\u001b[0;32m   1471\u001b[0m                                 \u001b[0msilent\u001b[0m\u001b[1;33m=\u001b[0m\u001b[0mself\u001b[0m\u001b[1;33m.\u001b[0m\u001b[0msilent\u001b[0m\u001b[1;33m,\u001b[0m \u001b[0mfeature_name\u001b[0m\u001b[1;33m=\u001b[0m\u001b[0mself\u001b[0m\u001b[1;33m.\u001b[0m\u001b[0mfeature_name\u001b[0m\u001b[1;33m,\u001b[0m\u001b[1;33m\u001b[0m\u001b[1;33m\u001b[0m\u001b[0m\n\u001b[1;32m-> 1472\u001b[1;33m                                 categorical_feature=self.categorical_feature, params=self.params)\n\u001b[0m\u001b[0;32m   1473\u001b[0m             \u001b[1;32mif\u001b[0m \u001b[0mself\u001b[0m\u001b[1;33m.\u001b[0m\u001b[0mfree_raw_data\u001b[0m\u001b[1;33m:\u001b[0m\u001b[1;33m\u001b[0m\u001b[1;33m\u001b[0m\u001b[0m\n\u001b[0;32m   1474\u001b[0m                 \u001b[0mself\u001b[0m\u001b[1;33m.\u001b[0m\u001b[0mdata\u001b[0m \u001b[1;33m=\u001b[0m \u001b[1;32mNone\u001b[0m\u001b[1;33m\u001b[0m\u001b[1;33m\u001b[0m\u001b[0m\n",
      "\u001b[1;32m~\\.conda\\envs\\PythonData\\lib\\site-packages\\lightgbm\\basic.py\u001b[0m in \u001b[0;36m_lazy_init\u001b[1;34m(self, data, label, reference, weight, group, init_score, predictor, silent, feature_name, categorical_feature, params)\u001b[0m\n\u001b[0;32m   1210\u001b[0m                                                                                              \u001b[0mfeature_name\u001b[0m\u001b[1;33m,\u001b[0m\u001b[1;33m\u001b[0m\u001b[1;33m\u001b[0m\u001b[0m\n\u001b[0;32m   1211\u001b[0m                                                                                              \u001b[0mcategorical_feature\u001b[0m\u001b[1;33m,\u001b[0m\u001b[1;33m\u001b[0m\u001b[1;33m\u001b[0m\u001b[0m\n\u001b[1;32m-> 1212\u001b[1;33m                                                                                              self.pandas_categorical)\n\u001b[0m\u001b[0;32m   1213\u001b[0m         \u001b[0mlabel\u001b[0m \u001b[1;33m=\u001b[0m \u001b[0m_label_from_pandas\u001b[0m\u001b[1;33m(\u001b[0m\u001b[0mlabel\u001b[0m\u001b[1;33m)\u001b[0m\u001b[1;33m\u001b[0m\u001b[1;33m\u001b[0m\u001b[0m\n\u001b[0;32m   1214\u001b[0m \u001b[1;33m\u001b[0m\u001b[0m\n",
      "\u001b[1;32m~\\.conda\\envs\\PythonData\\lib\\site-packages\\lightgbm\\basic.py\u001b[0m in \u001b[0;36m_data_from_pandas\u001b[1;34m(data, feature_name, categorical_feature, pandas_categorical)\u001b[0m\n\u001b[0;32m    537\u001b[0m             raise ValueError(\"DataFrame.dtypes for data must be int, float or bool.\\n\"\n\u001b[0;32m    538\u001b[0m                              \u001b[1;34m\"Did not expect the data types in the following fields: \"\u001b[0m\u001b[1;33m\u001b[0m\u001b[1;33m\u001b[0m\u001b[0m\n\u001b[1;32m--> 539\u001b[1;33m                              + ', '.join(data.columns[bad_indices]))\n\u001b[0m\u001b[0;32m    540\u001b[0m         \u001b[0mdata\u001b[0m \u001b[1;33m=\u001b[0m \u001b[0mdata\u001b[0m\u001b[1;33m.\u001b[0m\u001b[0mvalues\u001b[0m\u001b[1;33m\u001b[0m\u001b[1;33m\u001b[0m\u001b[0m\n\u001b[0;32m    541\u001b[0m         \u001b[1;32mif\u001b[0m \u001b[0mdata\u001b[0m\u001b[1;33m.\u001b[0m\u001b[0mdtype\u001b[0m \u001b[1;33m!=\u001b[0m \u001b[0mnp\u001b[0m\u001b[1;33m.\u001b[0m\u001b[0mfloat32\u001b[0m \u001b[1;32mand\u001b[0m \u001b[0mdata\u001b[0m\u001b[1;33m.\u001b[0m\u001b[0mdtype\u001b[0m \u001b[1;33m!=\u001b[0m \u001b[0mnp\u001b[0m\u001b[1;33m.\u001b[0m\u001b[0mfloat64\u001b[0m\u001b[1;33m:\u001b[0m\u001b[1;33m\u001b[0m\u001b[1;33m\u001b[0m\u001b[0m\n",
      "\u001b[1;31mValueError\u001b[0m: DataFrame.dtypes for data must be int, float or bool.\nDid not expect the data types in the following fields: month"
     ]
    }
   ],
   "source": [
    "mean_error = []\n",
    "for month in range(11,13):\n",
    "    train = melt6[melt6['month'] < month]\n",
    "    val = melt6[melt6['month'] == month]\n",
    "\n",
    "    xtr, xts = train.drop(['avg_sale_price'], axis=1), val.drop(['avg_sale_price'], axis=1)\n",
    "    ytr, yts = train['avg_sale_price'].values, val['avg_sale_price'].values\n",
    "\n",
    "    model = LGBMRegressor(n_estimators=1000, learning_rate=0.01)\n",
    "    model.fit(xtr, np.log1p(ytr))\n",
    "\n",
    "    p = np.expm1(model.predict(xts))\n",
    "\n",
    "    error = rmsle(yts, p)\n",
    "    print('Month %d - Error %.5f' % (month, error))\n",
    "    mean_error.append(error)\n",
    "print('Mean Error = %.5f' % np.mean(mean_error))"
   ]
  },
  {
   "cell_type": "code",
   "execution_count": null,
   "metadata": {},
   "outputs": [],
   "source": []
  }
 ],
 "metadata": {
  "kernelspec": {
   "display_name": "Python 3",
   "language": "python",
   "name": "python3"
  },
  "language_info": {
   "codemirror_mode": {
    "name": "ipython",
    "version": 3
   },
   "file_extension": ".py",
   "mimetype": "text/x-python",
   "name": "python",
   "nbconvert_exporter": "python",
   "pygments_lexer": "ipython3",
   "version": "3.6.10"
  }
 },
 "nbformat": 4,
 "nbformat_minor": 4
}
