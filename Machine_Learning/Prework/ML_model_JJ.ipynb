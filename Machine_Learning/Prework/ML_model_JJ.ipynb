{
 "metadata": {
  "language_info": {
   "codemirror_mode": {
    "name": "ipython",
    "version": 3
   },
   "file_extension": ".py",
   "mimetype": "text/x-python",
   "name": "python",
   "nbconvert_exporter": "python",
   "pygments_lexer": "ipython3",
   "version": "3.6.10"
  },
  "orig_nbformat": 2,
  "kernelspec": {
   "name": "python3610jvsc74a57bd0832a58595f549721e5808a4f038b9464c2d8e6e19db5e8e2fb21cf5b549373c5",
   "display_name": "Python 3.6.10 64-bit ('PythonData': conda)"
  }
 },
 "nbformat": 4,
 "nbformat_minor": 2,
 "cells": [
  {
   "cell_type": "code",
   "execution_count": 286,
   "metadata": {},
   "outputs": [],
   "source": [
    "# Required Modules\n",
    "import pandas as pd\n",
    "import numpy as np\n"
   ]
  },
  {
   "cell_type": "code",
   "execution_count": 287,
   "metadata": {},
   "outputs": [],
   "source": [
    "import warnings\n",
    "warnings.filterwarnings(\"ignore\")\n",
    "\n",
    "from sklearn import metrics\n",
    "from sklearn.metrics import accuracy_score\n",
    "from sklearn.model_selection import train_test_split\n",
    "\n",
    "from lightgbm import LGBMClassifier"
   ]
  },
  {
   "cell_type": "code",
   "execution_count": 401,
   "metadata": {},
   "outputs": [
    {
     "output_type": "execute_result",
     "data": {
      "text/plain": [
       "   Zip_Code        Date  Year  Month  Sale_Price  Interest_Rate  Property_Tax  \\\n",
       "0     32003  2019-01-01  2019      1   244950.00           4.46          3778   \n",
       "1     32003  2019-02-01  2019      2   270000.00           4.37          3778   \n",
       "2     32003  2019-03-01  2019      3   275000.00           4.26          3778   \n",
       "3     32003  2019-04-01  2019      4   264500.00           4.14          3778   \n",
       "4     32003  2019-05-01  2019      5   281000.00           4.07          3778   \n",
       "\n",
       "   Rent_Price  Household_Income  Rent_Affordability  ...  FTE_Employed  \\\n",
       "0        1113          94154.00                0.14  ...         10671   \n",
       "1        1113          94154.00                0.14  ...         10671   \n",
       "2        1113          94154.00                0.14  ...         10671   \n",
       "3        1113          94154.00                0.14  ...         10671   \n",
       "4        1113          94154.00                0.14  ...         10671   \n",
       "\n",
       "   Unemployed  Expense_Index  Average_Commute Crime_Index  Loan_Amount  \\\n",
       "0        1069            104               35          28    195960.00   \n",
       "1        1069            104               35          28    216000.00   \n",
       "2        1069            104               35          28    220000.00   \n",
       "3        1069            104               35          28    211600.00   \n",
       "4        1069            104               35          28    224800.00   \n",
       "\n",
       "   Loan_Term  Loan_R  Loan_Payment  Home_Affordability  \n",
       "0     360.00    1.00        988.71                0.13  \n",
       "1     360.00    1.00       1077.82                0.14  \n",
       "2     360.00    1.00       1084.20                0.14  \n",
       "3     360.00    1.00       1027.67                0.13  \n",
       "4     360.00    1.00       1082.58                0.14  \n",
       "\n",
       "[5 rows x 29 columns]"
      ],
      "text/html": "<div>\n<style scoped>\n    .dataframe tbody tr th:only-of-type {\n        vertical-align: middle;\n    }\n\n    .dataframe tbody tr th {\n        vertical-align: top;\n    }\n\n    .dataframe thead th {\n        text-align: right;\n    }\n</style>\n<table border=\"1\" class=\"dataframe\">\n  <thead>\n    <tr style=\"text-align: right;\">\n      <th></th>\n      <th>Zip_Code</th>\n      <th>Date</th>\n      <th>Year</th>\n      <th>Month</th>\n      <th>Sale_Price</th>\n      <th>Interest_Rate</th>\n      <th>Property_Tax</th>\n      <th>Rent_Price</th>\n      <th>Household_Income</th>\n      <th>Rent_Affordability</th>\n      <th>...</th>\n      <th>FTE_Employed</th>\n      <th>Unemployed</th>\n      <th>Expense_Index</th>\n      <th>Average_Commute</th>\n      <th>Crime_Index</th>\n      <th>Loan_Amount</th>\n      <th>Loan_Term</th>\n      <th>Loan_R</th>\n      <th>Loan_Payment</th>\n      <th>Home_Affordability</th>\n    </tr>\n  </thead>\n  <tbody>\n    <tr>\n      <th>0</th>\n      <td>32003</td>\n      <td>2019-01-01</td>\n      <td>2019</td>\n      <td>1</td>\n      <td>244950.00</td>\n      <td>4.46</td>\n      <td>3778</td>\n      <td>1113</td>\n      <td>94154.00</td>\n      <td>0.14</td>\n      <td>...</td>\n      <td>10671</td>\n      <td>1069</td>\n      <td>104</td>\n      <td>35</td>\n      <td>28</td>\n      <td>195960.00</td>\n      <td>360.00</td>\n      <td>1.00</td>\n      <td>988.71</td>\n      <td>0.13</td>\n    </tr>\n    <tr>\n      <th>1</th>\n      <td>32003</td>\n      <td>2019-02-01</td>\n      <td>2019</td>\n      <td>2</td>\n      <td>270000.00</td>\n      <td>4.37</td>\n      <td>3778</td>\n      <td>1113</td>\n      <td>94154.00</td>\n      <td>0.14</td>\n      <td>...</td>\n      <td>10671</td>\n      <td>1069</td>\n      <td>104</td>\n      <td>35</td>\n      <td>28</td>\n      <td>216000.00</td>\n      <td>360.00</td>\n      <td>1.00</td>\n      <td>1077.82</td>\n      <td>0.14</td>\n    </tr>\n    <tr>\n      <th>2</th>\n      <td>32003</td>\n      <td>2019-03-01</td>\n      <td>2019</td>\n      <td>3</td>\n      <td>275000.00</td>\n      <td>4.26</td>\n      <td>3778</td>\n      <td>1113</td>\n      <td>94154.00</td>\n      <td>0.14</td>\n      <td>...</td>\n      <td>10671</td>\n      <td>1069</td>\n      <td>104</td>\n      <td>35</td>\n      <td>28</td>\n      <td>220000.00</td>\n      <td>360.00</td>\n      <td>1.00</td>\n      <td>1084.20</td>\n      <td>0.14</td>\n    </tr>\n    <tr>\n      <th>3</th>\n      <td>32003</td>\n      <td>2019-04-01</td>\n      <td>2019</td>\n      <td>4</td>\n      <td>264500.00</td>\n      <td>4.14</td>\n      <td>3778</td>\n      <td>1113</td>\n      <td>94154.00</td>\n      <td>0.14</td>\n      <td>...</td>\n      <td>10671</td>\n      <td>1069</td>\n      <td>104</td>\n      <td>35</td>\n      <td>28</td>\n      <td>211600.00</td>\n      <td>360.00</td>\n      <td>1.00</td>\n      <td>1027.67</td>\n      <td>0.13</td>\n    </tr>\n    <tr>\n      <th>4</th>\n      <td>32003</td>\n      <td>2019-05-01</td>\n      <td>2019</td>\n      <td>5</td>\n      <td>281000.00</td>\n      <td>4.07</td>\n      <td>3778</td>\n      <td>1113</td>\n      <td>94154.00</td>\n      <td>0.14</td>\n      <td>...</td>\n      <td>10671</td>\n      <td>1069</td>\n      <td>104</td>\n      <td>35</td>\n      <td>28</td>\n      <td>224800.00</td>\n      <td>360.00</td>\n      <td>1.00</td>\n      <td>1082.58</td>\n      <td>0.14</td>\n    </tr>\n  </tbody>\n</table>\n<p>5 rows × 29 columns</p>\n</div>"
     },
     "metadata": {},
     "execution_count": 401
    }
   ],
   "source": [
    "data = pd.read_csv('Resources/Final_Data.csv')\n",
    "data.head()"
   ]
  },
  {
   "cell_type": "code",
   "execution_count": 289,
   "metadata": {},
   "outputs": [
    {
     "output_type": "execute_result",
     "data": {
      "text/plain": [
       "Zip_Code                int64\n",
       "Date                   object\n",
       "Year                    int64\n",
       "Month                   int64\n",
       "Sale_Price            float64\n",
       "Interest_Rate         float64\n",
       "Property_Tax            int64\n",
       "Rent_Price              int64\n",
       "Household_Income      float64\n",
       "Rent_Affordability    float64\n",
       "Total_Sales             int64\n",
       "FHA_Count               int64\n",
       "Mobility_Rate         float64\n",
       "School_Rating           int64\n",
       "School_Grade           object\n",
       "Owner_Occupied          int64\n",
       "Renter_Occupied         int64\n",
       "Total_Vacant            int64\n",
       "Total_Dwellings         int64\n",
       "FTE_Employed            int64\n",
       "Unemployed              int64\n",
       "Expense_Index           int64\n",
       "Average_Commute         int64\n",
       "Crime_Index             int64\n",
       "Loan_Amount           float64\n",
       "Loan_Term             float64\n",
       "Loan_R                float64\n",
       "Loan_Payment          float64\n",
       "Home_Affordability    float64\n",
       "dtype: object"
      ]
     },
     "metadata": {},
     "execution_count": 289
    }
   ],
   "source": [
    "data.dtypes"
   ]
  },
  {
   "cell_type": "code",
   "execution_count": 402,
   "metadata": {},
   "outputs": [
    {
     "output_type": "execute_result",
     "data": {
      "text/plain": [
       "       Zip_Code  Year  Month  Mobility_Rate  Expense_Index  Crime_Index  \\\n",
       "0         32003  2019      1           0.18            104           28   \n",
       "1         32003  2019      2           0.18            104           28   \n",
       "2         32003  2019      3           0.18            104           28   \n",
       "3         32003  2019      4           0.18            104           28   \n",
       "4         32003  2019      5           0.18            104           28   \n",
       "...         ...   ...    ...            ...            ...          ...   \n",
       "24466     34997  2021      1           0.14             91          113   \n",
       "24467     34997  2021      2           0.14             91          113   \n",
       "24468     34997  2021      2           0.14             91          113   \n",
       "24469     34997  2021      3           0.14             91          113   \n",
       "24470     34997  2021      3           0.14             91          113   \n",
       "\n",
       "       Total_Vacant  Total_Dwellings  Total_Sales  FHA_Count  \\\n",
       "0               704            11724           32          7   \n",
       "1               704            11724           41          2   \n",
       "2               704            11724           21          7   \n",
       "3               704            11724           42          3   \n",
       "4               704            11724           66          8   \n",
       "...             ...              ...          ...        ...   \n",
       "24466          2976            21551           81         10   \n",
       "24467          2976            21551          116          7   \n",
       "24468          2976            21551          116          7   \n",
       "24469          2976            21551            7         12   \n",
       "24470          2976            21551            7         12   \n",
       "\n",
       "       Home_Affordability  Rent_Affordability  Sale_Price  \n",
       "0                    0.13                0.14   244950.00  \n",
       "1                    0.14                0.14   270000.00  \n",
       "2                    0.14                0.14   275000.00  \n",
       "3                    0.13                0.14   264500.00  \n",
       "4                    0.14                0.14   281000.00  \n",
       "...                   ...                 ...         ...  \n",
       "24466                0.20                0.25   305000.00  \n",
       "24467                0.20                0.25   300000.00  \n",
       "24468                0.20                0.25   300000.00  \n",
       "24469                0.42                0.25   599000.00  \n",
       "24470                0.42                0.25   599000.00  \n",
       "\n",
       "[24471 rows x 13 columns]"
      ],
      "text/html": "<div>\n<style scoped>\n    .dataframe tbody tr th:only-of-type {\n        vertical-align: middle;\n    }\n\n    .dataframe tbody tr th {\n        vertical-align: top;\n    }\n\n    .dataframe thead th {\n        text-align: right;\n    }\n</style>\n<table border=\"1\" class=\"dataframe\">\n  <thead>\n    <tr style=\"text-align: right;\">\n      <th></th>\n      <th>Zip_Code</th>\n      <th>Year</th>\n      <th>Month</th>\n      <th>Mobility_Rate</th>\n      <th>Expense_Index</th>\n      <th>Crime_Index</th>\n      <th>Total_Vacant</th>\n      <th>Total_Dwellings</th>\n      <th>Total_Sales</th>\n      <th>FHA_Count</th>\n      <th>Home_Affordability</th>\n      <th>Rent_Affordability</th>\n      <th>Sale_Price</th>\n    </tr>\n  </thead>\n  <tbody>\n    <tr>\n      <th>0</th>\n      <td>32003</td>\n      <td>2019</td>\n      <td>1</td>\n      <td>0.18</td>\n      <td>104</td>\n      <td>28</td>\n      <td>704</td>\n      <td>11724</td>\n      <td>32</td>\n      <td>7</td>\n      <td>0.13</td>\n      <td>0.14</td>\n      <td>244950.00</td>\n    </tr>\n    <tr>\n      <th>1</th>\n      <td>32003</td>\n      <td>2019</td>\n      <td>2</td>\n      <td>0.18</td>\n      <td>104</td>\n      <td>28</td>\n      <td>704</td>\n      <td>11724</td>\n      <td>41</td>\n      <td>2</td>\n      <td>0.14</td>\n      <td>0.14</td>\n      <td>270000.00</td>\n    </tr>\n    <tr>\n      <th>2</th>\n      <td>32003</td>\n      <td>2019</td>\n      <td>3</td>\n      <td>0.18</td>\n      <td>104</td>\n      <td>28</td>\n      <td>704</td>\n      <td>11724</td>\n      <td>21</td>\n      <td>7</td>\n      <td>0.14</td>\n      <td>0.14</td>\n      <td>275000.00</td>\n    </tr>\n    <tr>\n      <th>3</th>\n      <td>32003</td>\n      <td>2019</td>\n      <td>4</td>\n      <td>0.18</td>\n      <td>104</td>\n      <td>28</td>\n      <td>704</td>\n      <td>11724</td>\n      <td>42</td>\n      <td>3</td>\n      <td>0.13</td>\n      <td>0.14</td>\n      <td>264500.00</td>\n    </tr>\n    <tr>\n      <th>4</th>\n      <td>32003</td>\n      <td>2019</td>\n      <td>5</td>\n      <td>0.18</td>\n      <td>104</td>\n      <td>28</td>\n      <td>704</td>\n      <td>11724</td>\n      <td>66</td>\n      <td>8</td>\n      <td>0.14</td>\n      <td>0.14</td>\n      <td>281000.00</td>\n    </tr>\n    <tr>\n      <th>...</th>\n      <td>...</td>\n      <td>...</td>\n      <td>...</td>\n      <td>...</td>\n      <td>...</td>\n      <td>...</td>\n      <td>...</td>\n      <td>...</td>\n      <td>...</td>\n      <td>...</td>\n      <td>...</td>\n      <td>...</td>\n      <td>...</td>\n    </tr>\n    <tr>\n      <th>24466</th>\n      <td>34997</td>\n      <td>2021</td>\n      <td>1</td>\n      <td>0.14</td>\n      <td>91</td>\n      <td>113</td>\n      <td>2976</td>\n      <td>21551</td>\n      <td>81</td>\n      <td>10</td>\n      <td>0.20</td>\n      <td>0.25</td>\n      <td>305000.00</td>\n    </tr>\n    <tr>\n      <th>24467</th>\n      <td>34997</td>\n      <td>2021</td>\n      <td>2</td>\n      <td>0.14</td>\n      <td>91</td>\n      <td>113</td>\n      <td>2976</td>\n      <td>21551</td>\n      <td>116</td>\n      <td>7</td>\n      <td>0.20</td>\n      <td>0.25</td>\n      <td>300000.00</td>\n    </tr>\n    <tr>\n      <th>24468</th>\n      <td>34997</td>\n      <td>2021</td>\n      <td>2</td>\n      <td>0.14</td>\n      <td>91</td>\n      <td>113</td>\n      <td>2976</td>\n      <td>21551</td>\n      <td>116</td>\n      <td>7</td>\n      <td>0.20</td>\n      <td>0.25</td>\n      <td>300000.00</td>\n    </tr>\n    <tr>\n      <th>24469</th>\n      <td>34997</td>\n      <td>2021</td>\n      <td>3</td>\n      <td>0.14</td>\n      <td>91</td>\n      <td>113</td>\n      <td>2976</td>\n      <td>21551</td>\n      <td>7</td>\n      <td>12</td>\n      <td>0.42</td>\n      <td>0.25</td>\n      <td>599000.00</td>\n    </tr>\n    <tr>\n      <th>24470</th>\n      <td>34997</td>\n      <td>2021</td>\n      <td>3</td>\n      <td>0.14</td>\n      <td>91</td>\n      <td>113</td>\n      <td>2976</td>\n      <td>21551</td>\n      <td>7</td>\n      <td>12</td>\n      <td>0.42</td>\n      <td>0.25</td>\n      <td>599000.00</td>\n    </tr>\n  </tbody>\n</table>\n<p>24471 rows × 13 columns</p>\n</div>"
     },
     "metadata": {},
     "execution_count": 402
    }
   ],
   "source": [
    "ml_data = data[['Zip_Code', 'Year', 'Month', 'Mobility_Rate', 'Expense_Index', 'Crime_Index' , 'Total_Vacant', 'Total_Dwellings', 'Total_Sales', 'FHA_Count', 'Home_Affordability', 'Rent_Affordability', 'Sale_Price' ]]\n",
    "ml_data"
   ]
  },
  {
   "cell_type": "code",
   "execution_count": 291,
   "metadata": {},
   "outputs": [
    {
     "output_type": "stream",
     "name": "stdout",
     "text": [
      "It contains 0 infinite values\n"
     ]
    }
   ],
   "source": [
    "count = np.isinf(ml_data).values.sum()\n",
    "print(\"It contains \" + str(count) + \" infinite values\")"
   ]
  },
  {
   "cell_type": "code",
   "execution_count": 292,
   "metadata": {},
   "outputs": [
    {
     "output_type": "execute_result",
     "data": {
      "text/plain": [
       "   Zip_Code  Year  Month  Mobility_Rate  Expense_Index  Crime_Index  \\\n",
       "0     32003  2019      1           0.18            104           28   \n",
       "1     32003  2019      2           0.18            104           28   \n",
       "2     32003  2019      3           0.18            104           28   \n",
       "3     32003  2019      4           0.18            104           28   \n",
       "4     32003  2019      5           0.18            104           28   \n",
       "\n",
       "   Total_Vacant  Total_Dwellings  Total_Sales  FHA_Count  Home_Affordability  \\\n",
       "0           704            11724           32          7                0.13   \n",
       "1           704            11724           41          2                0.14   \n",
       "2           704            11724           21          7                0.14   \n",
       "3           704            11724           42          3                0.13   \n",
       "4           704            11724           66          8                0.14   \n",
       "\n",
       "   Rent_Affordability  Sale_Price  \n",
       "0                0.14   244950.00  \n",
       "1                0.14   270000.00  \n",
       "2                0.14   275000.00  \n",
       "3                0.14   264500.00  \n",
       "4                0.14   281000.00  "
      ],
      "text/html": "<div>\n<style scoped>\n    .dataframe tbody tr th:only-of-type {\n        vertical-align: middle;\n    }\n\n    .dataframe tbody tr th {\n        vertical-align: top;\n    }\n\n    .dataframe thead th {\n        text-align: right;\n    }\n</style>\n<table border=\"1\" class=\"dataframe\">\n  <thead>\n    <tr style=\"text-align: right;\">\n      <th></th>\n      <th>Zip_Code</th>\n      <th>Year</th>\n      <th>Month</th>\n      <th>Mobility_Rate</th>\n      <th>Expense_Index</th>\n      <th>Crime_Index</th>\n      <th>Total_Vacant</th>\n      <th>Total_Dwellings</th>\n      <th>Total_Sales</th>\n      <th>FHA_Count</th>\n      <th>Home_Affordability</th>\n      <th>Rent_Affordability</th>\n      <th>Sale_Price</th>\n    </tr>\n  </thead>\n  <tbody>\n    <tr>\n      <th>0</th>\n      <td>32003</td>\n      <td>2019</td>\n      <td>1</td>\n      <td>0.18</td>\n      <td>104</td>\n      <td>28</td>\n      <td>704</td>\n      <td>11724</td>\n      <td>32</td>\n      <td>7</td>\n      <td>0.13</td>\n      <td>0.14</td>\n      <td>244950.00</td>\n    </tr>\n    <tr>\n      <th>1</th>\n      <td>32003</td>\n      <td>2019</td>\n      <td>2</td>\n      <td>0.18</td>\n      <td>104</td>\n      <td>28</td>\n      <td>704</td>\n      <td>11724</td>\n      <td>41</td>\n      <td>2</td>\n      <td>0.14</td>\n      <td>0.14</td>\n      <td>270000.00</td>\n    </tr>\n    <tr>\n      <th>2</th>\n      <td>32003</td>\n      <td>2019</td>\n      <td>3</td>\n      <td>0.18</td>\n      <td>104</td>\n      <td>28</td>\n      <td>704</td>\n      <td>11724</td>\n      <td>21</td>\n      <td>7</td>\n      <td>0.14</td>\n      <td>0.14</td>\n      <td>275000.00</td>\n    </tr>\n    <tr>\n      <th>3</th>\n      <td>32003</td>\n      <td>2019</td>\n      <td>4</td>\n      <td>0.18</td>\n      <td>104</td>\n      <td>28</td>\n      <td>704</td>\n      <td>11724</td>\n      <td>42</td>\n      <td>3</td>\n      <td>0.13</td>\n      <td>0.14</td>\n      <td>264500.00</td>\n    </tr>\n    <tr>\n      <th>4</th>\n      <td>32003</td>\n      <td>2019</td>\n      <td>5</td>\n      <td>0.18</td>\n      <td>104</td>\n      <td>28</td>\n      <td>704</td>\n      <td>11724</td>\n      <td>66</td>\n      <td>8</td>\n      <td>0.14</td>\n      <td>0.14</td>\n      <td>281000.00</td>\n    </tr>\n  </tbody>\n</table>\n</div>"
     },
     "metadata": {},
     "execution_count": 292
    }
   ],
   "source": [
    "ml_data_1mo = ml_data.sort_values(by = ['Zip_Code', 'Year', 'Month'], ascending = [True, True, True])\n",
    "ml_data_1mo.head()"
   ]
  },
  {
   "cell_type": "code",
   "execution_count": 293,
   "metadata": {},
   "outputs": [
    {
     "output_type": "execute_result",
     "data": {
      "text/plain": [
       "   Zip_Code  Year  Month  Mobility_Rate  Expense_Index  Crime_Index  \\\n",
       "0     32003  2019      1           0.18            104           28   \n",
       "1     32003  2019      2           0.18            104           28   \n",
       "2     32003  2019      3           0.18            104           28   \n",
       "3     32003  2019      4           0.18            104           28   \n",
       "4     32003  2019      5           0.18            104           28   \n",
       "\n",
       "   Total_Vacant  Total_Dwellings  Total_Sales  FHA_Count  Home_Affordability  \\\n",
       "0           704            11724           32          7                0.13   \n",
       "1           704            11724           41          2                0.14   \n",
       "2           704            11724           21          7                0.14   \n",
       "3           704            11724           42          3                0.13   \n",
       "4           704            11724           66          8                0.14   \n",
       "\n",
       "   Rent_Affordability  Sale_Price  Last_Month_Price  Last_Month_Diff  \n",
       "0                0.14   244950.00               nan              nan  \n",
       "1                0.14   270000.00         244950.00         25050.00  \n",
       "2                0.14   275000.00         270000.00          5000.00  \n",
       "3                0.14   264500.00         275000.00        -10500.00  \n",
       "4                0.14   281000.00         264500.00         16500.00  "
      ],
      "text/html": "<div>\n<style scoped>\n    .dataframe tbody tr th:only-of-type {\n        vertical-align: middle;\n    }\n\n    .dataframe tbody tr th {\n        vertical-align: top;\n    }\n\n    .dataframe thead th {\n        text-align: right;\n    }\n</style>\n<table border=\"1\" class=\"dataframe\">\n  <thead>\n    <tr style=\"text-align: right;\">\n      <th></th>\n      <th>Zip_Code</th>\n      <th>Year</th>\n      <th>Month</th>\n      <th>Mobility_Rate</th>\n      <th>Expense_Index</th>\n      <th>Crime_Index</th>\n      <th>Total_Vacant</th>\n      <th>Total_Dwellings</th>\n      <th>Total_Sales</th>\n      <th>FHA_Count</th>\n      <th>Home_Affordability</th>\n      <th>Rent_Affordability</th>\n      <th>Sale_Price</th>\n      <th>Last_Month_Price</th>\n      <th>Last_Month_Diff</th>\n    </tr>\n  </thead>\n  <tbody>\n    <tr>\n      <th>0</th>\n      <td>32003</td>\n      <td>2019</td>\n      <td>1</td>\n      <td>0.18</td>\n      <td>104</td>\n      <td>28</td>\n      <td>704</td>\n      <td>11724</td>\n      <td>32</td>\n      <td>7</td>\n      <td>0.13</td>\n      <td>0.14</td>\n      <td>244950.00</td>\n      <td>nan</td>\n      <td>nan</td>\n    </tr>\n    <tr>\n      <th>1</th>\n      <td>32003</td>\n      <td>2019</td>\n      <td>2</td>\n      <td>0.18</td>\n      <td>104</td>\n      <td>28</td>\n      <td>704</td>\n      <td>11724</td>\n      <td>41</td>\n      <td>2</td>\n      <td>0.14</td>\n      <td>0.14</td>\n      <td>270000.00</td>\n      <td>244950.00</td>\n      <td>25050.00</td>\n    </tr>\n    <tr>\n      <th>2</th>\n      <td>32003</td>\n      <td>2019</td>\n      <td>3</td>\n      <td>0.18</td>\n      <td>104</td>\n      <td>28</td>\n      <td>704</td>\n      <td>11724</td>\n      <td>21</td>\n      <td>7</td>\n      <td>0.14</td>\n      <td>0.14</td>\n      <td>275000.00</td>\n      <td>270000.00</td>\n      <td>5000.00</td>\n    </tr>\n    <tr>\n      <th>3</th>\n      <td>32003</td>\n      <td>2019</td>\n      <td>4</td>\n      <td>0.18</td>\n      <td>104</td>\n      <td>28</td>\n      <td>704</td>\n      <td>11724</td>\n      <td>42</td>\n      <td>3</td>\n      <td>0.13</td>\n      <td>0.14</td>\n      <td>264500.00</td>\n      <td>275000.00</td>\n      <td>-10500.00</td>\n    </tr>\n    <tr>\n      <th>4</th>\n      <td>32003</td>\n      <td>2019</td>\n      <td>5</td>\n      <td>0.18</td>\n      <td>104</td>\n      <td>28</td>\n      <td>704</td>\n      <td>11724</td>\n      <td>66</td>\n      <td>8</td>\n      <td>0.14</td>\n      <td>0.14</td>\n      <td>281000.00</td>\n      <td>264500.00</td>\n      <td>16500.00</td>\n    </tr>\n  </tbody>\n</table>\n</div>"
     },
     "metadata": {},
     "execution_count": 293
    }
   ],
   "source": [
    "ml_data_1mo['Last_Month_Price'] = ml_data_1mo.groupby(['Zip_Code'])['Sale_Price'].shift()\n",
    "\n",
    "price_difference = []\n",
    "\n",
    "for column in ml_data_1mo[['Sale_Price', 'Last_Month_Price']]:\n",
    "   # Select column contents by column name using [] operator\n",
    "    current_sales = ml_data_1mo['Sale_Price'].values\n",
    "    last_sales = ml_data_1mo['Last_Month_Price'].values\n",
    "    price_difference.append(current_sales-last_sales)\n",
    "\n",
    "ml_data_1mo['Last_Month_Diff'] = price_difference[0]\n",
    "\n",
    "ml_data_1mo.head()"
   ]
  },
  {
   "cell_type": "code",
   "execution_count": 294,
   "metadata": {},
   "outputs": [
    {
     "output_type": "execute_result",
     "data": {
      "text/plain": [
       "   Zip_Code  Year  Month  Mobility_Rate  Expense_Index  Crime_Index  \\\n",
       "0     32003  2019      1           0.18            104           28   \n",
       "1     32003  2019      2           0.18            104           28   \n",
       "2     32003  2019      3           0.18            104           28   \n",
       "3     32003  2019      4           0.18            104           28   \n",
       "4     32003  2019      5           0.18            104           28   \n",
       "\n",
       "   Total_Vacant  Total_Dwellings  Total_Sales  FHA_Count  Home_Affordability  \\\n",
       "0           704            11724           32          7                0.13   \n",
       "1           704            11724           41          2                0.14   \n",
       "2           704            11724           21          7                0.14   \n",
       "3           704            11724           42          3                0.13   \n",
       "4           704            11724           66          8                0.14   \n",
       "\n",
       "   Rent_Affordability  Sale_Price  \n",
       "0                0.14   244950.00  \n",
       "1                0.14   270000.00  \n",
       "2                0.14   275000.00  \n",
       "3                0.14   264500.00  \n",
       "4                0.14   281000.00  "
      ],
      "text/html": "<div>\n<style scoped>\n    .dataframe tbody tr th:only-of-type {\n        vertical-align: middle;\n    }\n\n    .dataframe tbody tr th {\n        vertical-align: top;\n    }\n\n    .dataframe thead th {\n        text-align: right;\n    }\n</style>\n<table border=\"1\" class=\"dataframe\">\n  <thead>\n    <tr style=\"text-align: right;\">\n      <th></th>\n      <th>Zip_Code</th>\n      <th>Year</th>\n      <th>Month</th>\n      <th>Mobility_Rate</th>\n      <th>Expense_Index</th>\n      <th>Crime_Index</th>\n      <th>Total_Vacant</th>\n      <th>Total_Dwellings</th>\n      <th>Total_Sales</th>\n      <th>FHA_Count</th>\n      <th>Home_Affordability</th>\n      <th>Rent_Affordability</th>\n      <th>Sale_Price</th>\n    </tr>\n  </thead>\n  <tbody>\n    <tr>\n      <th>0</th>\n      <td>32003</td>\n      <td>2019</td>\n      <td>1</td>\n      <td>0.18</td>\n      <td>104</td>\n      <td>28</td>\n      <td>704</td>\n      <td>11724</td>\n      <td>32</td>\n      <td>7</td>\n      <td>0.13</td>\n      <td>0.14</td>\n      <td>244950.00</td>\n    </tr>\n    <tr>\n      <th>1</th>\n      <td>32003</td>\n      <td>2019</td>\n      <td>2</td>\n      <td>0.18</td>\n      <td>104</td>\n      <td>28</td>\n      <td>704</td>\n      <td>11724</td>\n      <td>41</td>\n      <td>2</td>\n      <td>0.14</td>\n      <td>0.14</td>\n      <td>270000.00</td>\n    </tr>\n    <tr>\n      <th>2</th>\n      <td>32003</td>\n      <td>2019</td>\n      <td>3</td>\n      <td>0.18</td>\n      <td>104</td>\n      <td>28</td>\n      <td>704</td>\n      <td>11724</td>\n      <td>21</td>\n      <td>7</td>\n      <td>0.14</td>\n      <td>0.14</td>\n      <td>275000.00</td>\n    </tr>\n    <tr>\n      <th>3</th>\n      <td>32003</td>\n      <td>2019</td>\n      <td>4</td>\n      <td>0.18</td>\n      <td>104</td>\n      <td>28</td>\n      <td>704</td>\n      <td>11724</td>\n      <td>42</td>\n      <td>3</td>\n      <td>0.13</td>\n      <td>0.14</td>\n      <td>264500.00</td>\n    </tr>\n    <tr>\n      <th>4</th>\n      <td>32003</td>\n      <td>2019</td>\n      <td>5</td>\n      <td>0.18</td>\n      <td>104</td>\n      <td>28</td>\n      <td>704</td>\n      <td>11724</td>\n      <td>66</td>\n      <td>8</td>\n      <td>0.14</td>\n      <td>0.14</td>\n      <td>281000.00</td>\n    </tr>\n  </tbody>\n</table>\n</div>"
     },
     "metadata": {},
     "execution_count": 294
    }
   ],
   "source": [
    "ml_data_2mo = ml_data.sort_values(by = ['Zip_Code', 'Year', 'Month'], ascending = [True, True, True])\n",
    "ml_data_2mo.head()"
   ]
  },
  {
   "cell_type": "code",
   "execution_count": 295,
   "metadata": {},
   "outputs": [
    {
     "output_type": "execute_result",
     "data": {
      "text/plain": [
       "   Zip_Code  Year  Month  Mobility_Rate  Expense_Index  Crime_Index  \\\n",
       "0     32003  2019      1           0.18            104           28   \n",
       "1     32003  2019      2           0.18            104           28   \n",
       "2     32003  2019      3           0.18            104           28   \n",
       "3     32003  2019      4           0.18            104           28   \n",
       "4     32003  2019      5           0.18            104           28   \n",
       "\n",
       "   Total_Vacant  Total_Dwellings  Total_Sales  FHA_Count  Home_Affordability  \\\n",
       "0           704            11724           32          7                0.13   \n",
       "1           704            11724           41          2                0.14   \n",
       "2           704            11724           21          7                0.14   \n",
       "3           704            11724           42          3                0.13   \n",
       "4           704            11724           66          8                0.14   \n",
       "\n",
       "   Rent_Affordability  Sale_Price  Last_Month_Price  Last_2Month_Price  \\\n",
       "0                0.14   244950.00               nan                nan   \n",
       "1                0.14   270000.00         244950.00                nan   \n",
       "2                0.14   275000.00         270000.00          244950.00   \n",
       "3                0.14   264500.00         275000.00          270000.00   \n",
       "4                0.14   281000.00         264500.00          275000.00   \n",
       "\n",
       "   Last_Month_Diff  Last_2Month_Diff  \n",
       "0              nan               nan  \n",
       "1         25050.00               nan  \n",
       "2          5000.00          30050.00  \n",
       "3        -10500.00          -5500.00  \n",
       "4         16500.00           6000.00  "
      ],
      "text/html": "<div>\n<style scoped>\n    .dataframe tbody tr th:only-of-type {\n        vertical-align: middle;\n    }\n\n    .dataframe tbody tr th {\n        vertical-align: top;\n    }\n\n    .dataframe thead th {\n        text-align: right;\n    }\n</style>\n<table border=\"1\" class=\"dataframe\">\n  <thead>\n    <tr style=\"text-align: right;\">\n      <th></th>\n      <th>Zip_Code</th>\n      <th>Year</th>\n      <th>Month</th>\n      <th>Mobility_Rate</th>\n      <th>Expense_Index</th>\n      <th>Crime_Index</th>\n      <th>Total_Vacant</th>\n      <th>Total_Dwellings</th>\n      <th>Total_Sales</th>\n      <th>FHA_Count</th>\n      <th>Home_Affordability</th>\n      <th>Rent_Affordability</th>\n      <th>Sale_Price</th>\n      <th>Last_Month_Price</th>\n      <th>Last_2Month_Price</th>\n      <th>Last_Month_Diff</th>\n      <th>Last_2Month_Diff</th>\n    </tr>\n  </thead>\n  <tbody>\n    <tr>\n      <th>0</th>\n      <td>32003</td>\n      <td>2019</td>\n      <td>1</td>\n      <td>0.18</td>\n      <td>104</td>\n      <td>28</td>\n      <td>704</td>\n      <td>11724</td>\n      <td>32</td>\n      <td>7</td>\n      <td>0.13</td>\n      <td>0.14</td>\n      <td>244950.00</td>\n      <td>nan</td>\n      <td>nan</td>\n      <td>nan</td>\n      <td>nan</td>\n    </tr>\n    <tr>\n      <th>1</th>\n      <td>32003</td>\n      <td>2019</td>\n      <td>2</td>\n      <td>0.18</td>\n      <td>104</td>\n      <td>28</td>\n      <td>704</td>\n      <td>11724</td>\n      <td>41</td>\n      <td>2</td>\n      <td>0.14</td>\n      <td>0.14</td>\n      <td>270000.00</td>\n      <td>244950.00</td>\n      <td>nan</td>\n      <td>25050.00</td>\n      <td>nan</td>\n    </tr>\n    <tr>\n      <th>2</th>\n      <td>32003</td>\n      <td>2019</td>\n      <td>3</td>\n      <td>0.18</td>\n      <td>104</td>\n      <td>28</td>\n      <td>704</td>\n      <td>11724</td>\n      <td>21</td>\n      <td>7</td>\n      <td>0.14</td>\n      <td>0.14</td>\n      <td>275000.00</td>\n      <td>270000.00</td>\n      <td>244950.00</td>\n      <td>5000.00</td>\n      <td>30050.00</td>\n    </tr>\n    <tr>\n      <th>3</th>\n      <td>32003</td>\n      <td>2019</td>\n      <td>4</td>\n      <td>0.18</td>\n      <td>104</td>\n      <td>28</td>\n      <td>704</td>\n      <td>11724</td>\n      <td>42</td>\n      <td>3</td>\n      <td>0.13</td>\n      <td>0.14</td>\n      <td>264500.00</td>\n      <td>275000.00</td>\n      <td>270000.00</td>\n      <td>-10500.00</td>\n      <td>-5500.00</td>\n    </tr>\n    <tr>\n      <th>4</th>\n      <td>32003</td>\n      <td>2019</td>\n      <td>5</td>\n      <td>0.18</td>\n      <td>104</td>\n      <td>28</td>\n      <td>704</td>\n      <td>11724</td>\n      <td>66</td>\n      <td>8</td>\n      <td>0.14</td>\n      <td>0.14</td>\n      <td>281000.00</td>\n      <td>264500.00</td>\n      <td>275000.00</td>\n      <td>16500.00</td>\n      <td>6000.00</td>\n    </tr>\n  </tbody>\n</table>\n</div>"
     },
     "metadata": {},
     "execution_count": 295
    }
   ],
   "source": [
    "ml_data_2mo['Last_Month_Price'] = ml_data_2mo.groupby(['Zip_Code'])['Sale_Price'].shift()\n",
    "ml_data_2mo['Last_2Month_Price'] = ml_data_2mo.groupby(['Zip_Code'])['Sale_Price'].shift(2)\n",
    "\n",
    "\n",
    "price_difference_1 = []\n",
    "price_difference_2 = []\n",
    "\n",
    "for column in ml_data_2mo[['Sale_Price', 'Last_Month_Price']]:\n",
    "   # Select column contents by column name using [] operator\n",
    "    current_sales = ml_data_2mo['Sale_Price'].values\n",
    "    last_sales = ml_data_2mo['Last_Month_Price'].values\n",
    "    last_2mo_sale = ml_data_2mo['Last_2Month_Price'].values\n",
    "    price_difference.append(current_sales-last_sales)\n",
    "    price_difference_2.append(current_sales-last_2mo_sale)\n",
    "\n",
    "ml_data_2mo['Last_Month_Diff'] = price_difference[0]\n",
    "ml_data_2mo['Last_2Month_Diff'] = price_difference_2[0]\n",
    "\n",
    "ml_data_2mo.head()"
   ]
  },
  {
   "cell_type": "code",
   "execution_count": 414,
   "metadata": {},
   "outputs": [
    {
     "output_type": "execute_result",
     "data": {
      "text/plain": [
       "   Zip_Code  Year  Month  Mobility_Rate  Expense_Index  Crime_Index  \\\n",
       "0     32003  2019      1           0.18            104           28   \n",
       "1     32003  2019      2           0.18            104           28   \n",
       "2     32003  2019      3           0.18            104           28   \n",
       "3     32003  2019      4           0.18            104           28   \n",
       "4     32003  2019      5           0.18            104           28   \n",
       "\n",
       "   Total_Vacant  Total_Dwellings  Total_Sales  FHA_Count  Home_Affordability  \\\n",
       "0           704            11724           32          7                0.13   \n",
       "1           704            11724           41          2                0.14   \n",
       "2           704            11724           21          7                0.14   \n",
       "3           704            11724           42          3                0.13   \n",
       "4           704            11724           66          8                0.14   \n",
       "\n",
       "   Rent_Affordability  Sale_Price  \n",
       "0                0.14   244950.00  \n",
       "1                0.14   270000.00  \n",
       "2                0.14   275000.00  \n",
       "3                0.14   264500.00  \n",
       "4                0.14   281000.00  "
      ],
      "text/html": "<div>\n<style scoped>\n    .dataframe tbody tr th:only-of-type {\n        vertical-align: middle;\n    }\n\n    .dataframe tbody tr th {\n        vertical-align: top;\n    }\n\n    .dataframe thead th {\n        text-align: right;\n    }\n</style>\n<table border=\"1\" class=\"dataframe\">\n  <thead>\n    <tr style=\"text-align: right;\">\n      <th></th>\n      <th>Zip_Code</th>\n      <th>Year</th>\n      <th>Month</th>\n      <th>Mobility_Rate</th>\n      <th>Expense_Index</th>\n      <th>Crime_Index</th>\n      <th>Total_Vacant</th>\n      <th>Total_Dwellings</th>\n      <th>Total_Sales</th>\n      <th>FHA_Count</th>\n      <th>Home_Affordability</th>\n      <th>Rent_Affordability</th>\n      <th>Sale_Price</th>\n    </tr>\n  </thead>\n  <tbody>\n    <tr>\n      <th>0</th>\n      <td>32003</td>\n      <td>2019</td>\n      <td>1</td>\n      <td>0.18</td>\n      <td>104</td>\n      <td>28</td>\n      <td>704</td>\n      <td>11724</td>\n      <td>32</td>\n      <td>7</td>\n      <td>0.13</td>\n      <td>0.14</td>\n      <td>244950.00</td>\n    </tr>\n    <tr>\n      <th>1</th>\n      <td>32003</td>\n      <td>2019</td>\n      <td>2</td>\n      <td>0.18</td>\n      <td>104</td>\n      <td>28</td>\n      <td>704</td>\n      <td>11724</td>\n      <td>41</td>\n      <td>2</td>\n      <td>0.14</td>\n      <td>0.14</td>\n      <td>270000.00</td>\n    </tr>\n    <tr>\n      <th>2</th>\n      <td>32003</td>\n      <td>2019</td>\n      <td>3</td>\n      <td>0.18</td>\n      <td>104</td>\n      <td>28</td>\n      <td>704</td>\n      <td>11724</td>\n      <td>21</td>\n      <td>7</td>\n      <td>0.14</td>\n      <td>0.14</td>\n      <td>275000.00</td>\n    </tr>\n    <tr>\n      <th>3</th>\n      <td>32003</td>\n      <td>2019</td>\n      <td>4</td>\n      <td>0.18</td>\n      <td>104</td>\n      <td>28</td>\n      <td>704</td>\n      <td>11724</td>\n      <td>42</td>\n      <td>3</td>\n      <td>0.13</td>\n      <td>0.14</td>\n      <td>264500.00</td>\n    </tr>\n    <tr>\n      <th>4</th>\n      <td>32003</td>\n      <td>2019</td>\n      <td>5</td>\n      <td>0.18</td>\n      <td>104</td>\n      <td>28</td>\n      <td>704</td>\n      <td>11724</td>\n      <td>66</td>\n      <td>8</td>\n      <td>0.14</td>\n      <td>0.14</td>\n      <td>281000.00</td>\n    </tr>\n  </tbody>\n</table>\n</div>"
     },
     "metadata": {},
     "execution_count": 414
    }
   ],
   "source": [
    "ml_data_3mo = ml_data.sort_values(by = ['Zip_Code', 'Year', 'Month'], ascending = [True, True, True])\n",
    "ml_data_3mo.head()"
   ]
  },
  {
   "cell_type": "code",
   "execution_count": 415,
   "metadata": {},
   "outputs": [
    {
     "output_type": "execute_result",
     "data": {
      "text/plain": [
       "       Zip_Code  Year  Month  Mobility_Rate  Expense_Index  Crime_Index  \\\n",
       "0         32003  2019      1           0.18            104           28   \n",
       "1         32003  2019      2           0.18            104           28   \n",
       "2         32003  2019      3           0.18            104           28   \n",
       "3         32003  2019      4           0.18            104           28   \n",
       "4         32003  2019      5           0.18            104           28   \n",
       "...         ...   ...    ...            ...            ...          ...   \n",
       "24466     34997  2021      1           0.14             91          113   \n",
       "24467     34997  2021      2           0.14             91          113   \n",
       "24468     34997  2021      2           0.14             91          113   \n",
       "24469     34997  2021      3           0.14             91          113   \n",
       "24470     34997  2021      3           0.14             91          113   \n",
       "\n",
       "       Total_Vacant  Total_Dwellings  Total_Sales  FHA_Count  \\\n",
       "0               704            11724           32          7   \n",
       "1               704            11724           41          2   \n",
       "2               704            11724           21          7   \n",
       "3               704            11724           42          3   \n",
       "4               704            11724           66          8   \n",
       "...             ...              ...          ...        ...   \n",
       "24466          2976            21551           81         10   \n",
       "24467          2976            21551          116          7   \n",
       "24468          2976            21551          116          7   \n",
       "24469          2976            21551            7         12   \n",
       "24470          2976            21551            7         12   \n",
       "\n",
       "       Home_Affordability  Rent_Affordability  Sale_Price  Last_Month_Price  \\\n",
       "0                    0.13                0.14   244950.00               nan   \n",
       "1                    0.14                0.14   270000.00         244950.00   \n",
       "2                    0.14                0.14   275000.00         270000.00   \n",
       "3                    0.13                0.14   264500.00         275000.00   \n",
       "4                    0.14                0.14   281000.00         264500.00   \n",
       "...                   ...                 ...         ...               ...   \n",
       "24466                0.20                0.25   305000.00         305000.00   \n",
       "24467                0.20                0.25   300000.00         305000.00   \n",
       "24468                0.20                0.25   300000.00         300000.00   \n",
       "24469                0.42                0.25   599000.00         300000.00   \n",
       "24470                0.42                0.25   599000.00         599000.00   \n",
       "\n",
       "       Future_Month_Price  Future_2Month_Price  Future_3Month_Price  \n",
       "0               270000.00            275000.00            264500.00  \n",
       "1               275000.00            264500.00            281000.00  \n",
       "2               264500.00            281000.00            275000.00  \n",
       "3               281000.00            275000.00            282500.00  \n",
       "4               275000.00            282500.00            269577.00  \n",
       "...                   ...                  ...                  ...  \n",
       "24466           300000.00            300000.00            599000.00  \n",
       "24467           300000.00            599000.00            599000.00  \n",
       "24468           599000.00            599000.00                  nan  \n",
       "24469           599000.00                  nan                  nan  \n",
       "24470                 nan                  nan                  nan  \n",
       "\n",
       "[24471 rows x 17 columns]"
      ],
      "text/html": "<div>\n<style scoped>\n    .dataframe tbody tr th:only-of-type {\n        vertical-align: middle;\n    }\n\n    .dataframe tbody tr th {\n        vertical-align: top;\n    }\n\n    .dataframe thead th {\n        text-align: right;\n    }\n</style>\n<table border=\"1\" class=\"dataframe\">\n  <thead>\n    <tr style=\"text-align: right;\">\n      <th></th>\n      <th>Zip_Code</th>\n      <th>Year</th>\n      <th>Month</th>\n      <th>Mobility_Rate</th>\n      <th>Expense_Index</th>\n      <th>Crime_Index</th>\n      <th>Total_Vacant</th>\n      <th>Total_Dwellings</th>\n      <th>Total_Sales</th>\n      <th>FHA_Count</th>\n      <th>Home_Affordability</th>\n      <th>Rent_Affordability</th>\n      <th>Sale_Price</th>\n      <th>Last_Month_Price</th>\n      <th>Future_Month_Price</th>\n      <th>Future_2Month_Price</th>\n      <th>Future_3Month_Price</th>\n    </tr>\n  </thead>\n  <tbody>\n    <tr>\n      <th>0</th>\n      <td>32003</td>\n      <td>2019</td>\n      <td>1</td>\n      <td>0.18</td>\n      <td>104</td>\n      <td>28</td>\n      <td>704</td>\n      <td>11724</td>\n      <td>32</td>\n      <td>7</td>\n      <td>0.13</td>\n      <td>0.14</td>\n      <td>244950.00</td>\n      <td>nan</td>\n      <td>270000.00</td>\n      <td>275000.00</td>\n      <td>264500.00</td>\n    </tr>\n    <tr>\n      <th>1</th>\n      <td>32003</td>\n      <td>2019</td>\n      <td>2</td>\n      <td>0.18</td>\n      <td>104</td>\n      <td>28</td>\n      <td>704</td>\n      <td>11724</td>\n      <td>41</td>\n      <td>2</td>\n      <td>0.14</td>\n      <td>0.14</td>\n      <td>270000.00</td>\n      <td>244950.00</td>\n      <td>275000.00</td>\n      <td>264500.00</td>\n      <td>281000.00</td>\n    </tr>\n    <tr>\n      <th>2</th>\n      <td>32003</td>\n      <td>2019</td>\n      <td>3</td>\n      <td>0.18</td>\n      <td>104</td>\n      <td>28</td>\n      <td>704</td>\n      <td>11724</td>\n      <td>21</td>\n      <td>7</td>\n      <td>0.14</td>\n      <td>0.14</td>\n      <td>275000.00</td>\n      <td>270000.00</td>\n      <td>264500.00</td>\n      <td>281000.00</td>\n      <td>275000.00</td>\n    </tr>\n    <tr>\n      <th>3</th>\n      <td>32003</td>\n      <td>2019</td>\n      <td>4</td>\n      <td>0.18</td>\n      <td>104</td>\n      <td>28</td>\n      <td>704</td>\n      <td>11724</td>\n      <td>42</td>\n      <td>3</td>\n      <td>0.13</td>\n      <td>0.14</td>\n      <td>264500.00</td>\n      <td>275000.00</td>\n      <td>281000.00</td>\n      <td>275000.00</td>\n      <td>282500.00</td>\n    </tr>\n    <tr>\n      <th>4</th>\n      <td>32003</td>\n      <td>2019</td>\n      <td>5</td>\n      <td>0.18</td>\n      <td>104</td>\n      <td>28</td>\n      <td>704</td>\n      <td>11724</td>\n      <td>66</td>\n      <td>8</td>\n      <td>0.14</td>\n      <td>0.14</td>\n      <td>281000.00</td>\n      <td>264500.00</td>\n      <td>275000.00</td>\n      <td>282500.00</td>\n      <td>269577.00</td>\n    </tr>\n    <tr>\n      <th>...</th>\n      <td>...</td>\n      <td>...</td>\n      <td>...</td>\n      <td>...</td>\n      <td>...</td>\n      <td>...</td>\n      <td>...</td>\n      <td>...</td>\n      <td>...</td>\n      <td>...</td>\n      <td>...</td>\n      <td>...</td>\n      <td>...</td>\n      <td>...</td>\n      <td>...</td>\n      <td>...</td>\n      <td>...</td>\n    </tr>\n    <tr>\n      <th>24466</th>\n      <td>34997</td>\n      <td>2021</td>\n      <td>1</td>\n      <td>0.14</td>\n      <td>91</td>\n      <td>113</td>\n      <td>2976</td>\n      <td>21551</td>\n      <td>81</td>\n      <td>10</td>\n      <td>0.20</td>\n      <td>0.25</td>\n      <td>305000.00</td>\n      <td>305000.00</td>\n      <td>300000.00</td>\n      <td>300000.00</td>\n      <td>599000.00</td>\n    </tr>\n    <tr>\n      <th>24467</th>\n      <td>34997</td>\n      <td>2021</td>\n      <td>2</td>\n      <td>0.14</td>\n      <td>91</td>\n      <td>113</td>\n      <td>2976</td>\n      <td>21551</td>\n      <td>116</td>\n      <td>7</td>\n      <td>0.20</td>\n      <td>0.25</td>\n      <td>300000.00</td>\n      <td>305000.00</td>\n      <td>300000.00</td>\n      <td>599000.00</td>\n      <td>599000.00</td>\n    </tr>\n    <tr>\n      <th>24468</th>\n      <td>34997</td>\n      <td>2021</td>\n      <td>2</td>\n      <td>0.14</td>\n      <td>91</td>\n      <td>113</td>\n      <td>2976</td>\n      <td>21551</td>\n      <td>116</td>\n      <td>7</td>\n      <td>0.20</td>\n      <td>0.25</td>\n      <td>300000.00</td>\n      <td>300000.00</td>\n      <td>599000.00</td>\n      <td>599000.00</td>\n      <td>nan</td>\n    </tr>\n    <tr>\n      <th>24469</th>\n      <td>34997</td>\n      <td>2021</td>\n      <td>3</td>\n      <td>0.14</td>\n      <td>91</td>\n      <td>113</td>\n      <td>2976</td>\n      <td>21551</td>\n      <td>7</td>\n      <td>12</td>\n      <td>0.42</td>\n      <td>0.25</td>\n      <td>599000.00</td>\n      <td>300000.00</td>\n      <td>599000.00</td>\n      <td>nan</td>\n      <td>nan</td>\n    </tr>\n    <tr>\n      <th>24470</th>\n      <td>34997</td>\n      <td>2021</td>\n      <td>3</td>\n      <td>0.14</td>\n      <td>91</td>\n      <td>113</td>\n      <td>2976</td>\n      <td>21551</td>\n      <td>7</td>\n      <td>12</td>\n      <td>0.42</td>\n      <td>0.25</td>\n      <td>599000.00</td>\n      <td>599000.00</td>\n      <td>nan</td>\n      <td>nan</td>\n      <td>nan</td>\n    </tr>\n  </tbody>\n</table>\n<p>24471 rows × 17 columns</p>\n</div>"
     },
     "metadata": {},
     "execution_count": 415
    }
   ],
   "source": [
    "ml_data_3mo['Last_Month_Price'] = ml_data_3mo.groupby(['Zip_Code'])['Sale_Price'].shift()\n",
    "ml_data_3mo['Future_Month_Price'] = ml_data_3mo.groupby(['Zip_Code'])['Sale_Price'].shift(-1)\n",
    "ml_data_3mo['Future_2Month_Price'] = ml_data_3mo.groupby(['Zip_Code'])['Sale_Price'].shift(-2)\n",
    "ml_data_3mo['Future_3Month_Price'] = ml_data_3mo.groupby(['Zip_Code'])['Sale_Price'].shift(-3)\n",
    "\n",
    "\n",
    "# price_difference_1 = []\n",
    "# price_difference_2 = []\n",
    "# price_difference_3 = []\n",
    "\n",
    "\n",
    "# for column in ml_data_3mo[['Sale_Price', 'Last_Month_Price', 'Future_Month_Price',\n",
    "#                     'Future_2Month_Price', 'Future_3Month_Price']]:\n",
    "#    # Select column contents by column name using [] operator\n",
    "#     current_sales = ml_data_3mo['Sale_Price'].values\n",
    "#     last_sales = ml_data_3mo['Future_Month_Price'].values\n",
    "#     last_2mo_sale = ml_data_3mo['Future_2Month_Price'].values\n",
    "#     last_3mo_sale = ml_data_3mo['Future_3Month_Price'].values\n",
    "#     price_difference_1.append(current_sales-last_sales)\n",
    "#     price_difference_2.append(current_sales-last_2mo_sale)\n",
    "#     price_difference_3.append(current_sales-last_3mo_sale)\n",
    "    \n",
    "\n",
    "# ml_data_3mo['Last_Month_Diff'] = price_difference_1[0]\n",
    "# ml_data_3mo['Last_2Month_Diff'] = price_difference_2[0]\n",
    "# ml_data_3mo['Last_3Month_Diff'] = price_difference_3[0]\n",
    "\n",
    "ml_data_3mo"
   ]
  },
  {
   "cell_type": "code",
   "execution_count": 298,
   "metadata": {},
   "outputs": [
    {
     "output_type": "execute_result",
     "data": {
      "text/plain": [
       "   Zip_Code  Year  Month  Mobility_Rate  Expense_Index  Crime_Index  \\\n",
       "0     32003  2019      1           0.18            104           28   \n",
       "1     32003  2019      2           0.18            104           28   \n",
       "2     32003  2019      3           0.18            104           28   \n",
       "3     32003  2019      4           0.18            104           28   \n",
       "4     32003  2019      5           0.18            104           28   \n",
       "\n",
       "   Total_Vacant  Total_Dwellings  Total_Sales  FHA_Count  Home_Affordability  \\\n",
       "0           704            11724           32          7                0.13   \n",
       "1           704            11724           41          2                0.14   \n",
       "2           704            11724           21          7                0.14   \n",
       "3           704            11724           42          3                0.13   \n",
       "4           704            11724           66          8                0.14   \n",
       "\n",
       "   Rent_Affordability  Sale_Price  \n",
       "0                0.14   244950.00  \n",
       "1                0.14   270000.00  \n",
       "2                0.14   275000.00  \n",
       "3                0.14   264500.00  \n",
       "4                0.14   281000.00  "
      ],
      "text/html": "<div>\n<style scoped>\n    .dataframe tbody tr th:only-of-type {\n        vertical-align: middle;\n    }\n\n    .dataframe tbody tr th {\n        vertical-align: top;\n    }\n\n    .dataframe thead th {\n        text-align: right;\n    }\n</style>\n<table border=\"1\" class=\"dataframe\">\n  <thead>\n    <tr style=\"text-align: right;\">\n      <th></th>\n      <th>Zip_Code</th>\n      <th>Year</th>\n      <th>Month</th>\n      <th>Mobility_Rate</th>\n      <th>Expense_Index</th>\n      <th>Crime_Index</th>\n      <th>Total_Vacant</th>\n      <th>Total_Dwellings</th>\n      <th>Total_Sales</th>\n      <th>FHA_Count</th>\n      <th>Home_Affordability</th>\n      <th>Rent_Affordability</th>\n      <th>Sale_Price</th>\n    </tr>\n  </thead>\n  <tbody>\n    <tr>\n      <th>0</th>\n      <td>32003</td>\n      <td>2019</td>\n      <td>1</td>\n      <td>0.18</td>\n      <td>104</td>\n      <td>28</td>\n      <td>704</td>\n      <td>11724</td>\n      <td>32</td>\n      <td>7</td>\n      <td>0.13</td>\n      <td>0.14</td>\n      <td>244950.00</td>\n    </tr>\n    <tr>\n      <th>1</th>\n      <td>32003</td>\n      <td>2019</td>\n      <td>2</td>\n      <td>0.18</td>\n      <td>104</td>\n      <td>28</td>\n      <td>704</td>\n      <td>11724</td>\n      <td>41</td>\n      <td>2</td>\n      <td>0.14</td>\n      <td>0.14</td>\n      <td>270000.00</td>\n    </tr>\n    <tr>\n      <th>2</th>\n      <td>32003</td>\n      <td>2019</td>\n      <td>3</td>\n      <td>0.18</td>\n      <td>104</td>\n      <td>28</td>\n      <td>704</td>\n      <td>11724</td>\n      <td>21</td>\n      <td>7</td>\n      <td>0.14</td>\n      <td>0.14</td>\n      <td>275000.00</td>\n    </tr>\n    <tr>\n      <th>3</th>\n      <td>32003</td>\n      <td>2019</td>\n      <td>4</td>\n      <td>0.18</td>\n      <td>104</td>\n      <td>28</td>\n      <td>704</td>\n      <td>11724</td>\n      <td>42</td>\n      <td>3</td>\n      <td>0.13</td>\n      <td>0.14</td>\n      <td>264500.00</td>\n    </tr>\n    <tr>\n      <th>4</th>\n      <td>32003</td>\n      <td>2019</td>\n      <td>5</td>\n      <td>0.18</td>\n      <td>104</td>\n      <td>28</td>\n      <td>704</td>\n      <td>11724</td>\n      <td>66</td>\n      <td>8</td>\n      <td>0.14</td>\n      <td>0.14</td>\n      <td>281000.00</td>\n    </tr>\n  </tbody>\n</table>\n</div>"
     },
     "metadata": {},
     "execution_count": 298
    }
   ],
   "source": [
    "ml_data_4mo = ml_data.sort_values(by = ['Zip_Code', 'Year', 'Month'], ascending = [True, True, True])\n",
    "ml_data_4mo.head()"
   ]
  },
  {
   "cell_type": "code",
   "execution_count": 299,
   "metadata": {},
   "outputs": [
    {
     "output_type": "execute_result",
     "data": {
      "text/plain": [
       "       Zip_Code  Year  Month  Mobility_Rate  Expense_Index  Crime_Index  \\\n",
       "0         32003  2019      1           0.18            104           28   \n",
       "1         32003  2019      2           0.18            104           28   \n",
       "2         32003  2019      3           0.18            104           28   \n",
       "3         32003  2019      4           0.18            104           28   \n",
       "4         32003  2019      5           0.18            104           28   \n",
       "...         ...   ...    ...            ...            ...          ...   \n",
       "24466     34997  2021      1           0.14             91          113   \n",
       "24467     34997  2021      2           0.14             91          113   \n",
       "24468     34997  2021      2           0.14             91          113   \n",
       "24469     34997  2021      3           0.14             91          113   \n",
       "24470     34997  2021      3           0.14             91          113   \n",
       "\n",
       "       Total_Vacant  Total_Dwellings  Total_Sales  FHA_Count  ...  \\\n",
       "0               704            11724           32          7  ...   \n",
       "1               704            11724           41          2  ...   \n",
       "2               704            11724           21          7  ...   \n",
       "3               704            11724           42          3  ...   \n",
       "4               704            11724           66          8  ...   \n",
       "...             ...              ...          ...        ...  ...   \n",
       "24466          2976            21551           81         10  ...   \n",
       "24467          2976            21551          116          7  ...   \n",
       "24468          2976            21551          116          7  ...   \n",
       "24469          2976            21551            7         12  ...   \n",
       "24470          2976            21551            7         12  ...   \n",
       "\n",
       "       Rent_Affordability  Sale_Price  Last_Month_Price  Last_2Month_Price  \\\n",
       "0                    0.14   244950.00               nan                nan   \n",
       "1                    0.14   270000.00         244950.00                nan   \n",
       "2                    0.14   275000.00         270000.00          244950.00   \n",
       "3                    0.14   264500.00         275000.00          270000.00   \n",
       "4                    0.14   281000.00         264500.00          275000.00   \n",
       "...                   ...         ...               ...                ...   \n",
       "24466                0.25   305000.00         305000.00          297000.00   \n",
       "24467                0.25   300000.00         305000.00          305000.00   \n",
       "24468                0.25   300000.00         300000.00          305000.00   \n",
       "24469                0.25   599000.00         300000.00          300000.00   \n",
       "24470                0.25   599000.00         599000.00          300000.00   \n",
       "\n",
       "       Last_3Month_Price  Last_4Month_Price  Last_Month_Diff  \\\n",
       "0                    nan                nan              nan   \n",
       "1                    nan                nan         25050.00   \n",
       "2                    nan                nan          5000.00   \n",
       "3              244950.00                nan        -10500.00   \n",
       "4              270000.00          244950.00         16500.00   \n",
       "...                  ...                ...              ...   \n",
       "24466          297000.00          259750.00             0.00   \n",
       "24467          297000.00          297000.00         -5000.00   \n",
       "24468          305000.00          297000.00             0.00   \n",
       "24469          305000.00          305000.00        299000.00   \n",
       "24470          300000.00          305000.00             0.00   \n",
       "\n",
       "       Last_2Month_Diff  Last_3Month_Diff  Last_4Month_Diff  \n",
       "0                   nan               nan               nan  \n",
       "1                   nan               nan               nan  \n",
       "2              30050.00               nan               nan  \n",
       "3              -5500.00          19550.00               nan  \n",
       "4               6000.00          11000.00          36050.00  \n",
       "...                 ...               ...               ...  \n",
       "24466           8000.00           8000.00          45250.00  \n",
       "24467          -5000.00           3000.00           3000.00  \n",
       "24468          -5000.00          -5000.00           3000.00  \n",
       "24469         299000.00         294000.00         294000.00  \n",
       "24470         299000.00         299000.00         294000.00  \n",
       "\n",
       "[24471 rows x 21 columns]"
      ],
      "text/html": "<div>\n<style scoped>\n    .dataframe tbody tr th:only-of-type {\n        vertical-align: middle;\n    }\n\n    .dataframe tbody tr th {\n        vertical-align: top;\n    }\n\n    .dataframe thead th {\n        text-align: right;\n    }\n</style>\n<table border=\"1\" class=\"dataframe\">\n  <thead>\n    <tr style=\"text-align: right;\">\n      <th></th>\n      <th>Zip_Code</th>\n      <th>Year</th>\n      <th>Month</th>\n      <th>Mobility_Rate</th>\n      <th>Expense_Index</th>\n      <th>Crime_Index</th>\n      <th>Total_Vacant</th>\n      <th>Total_Dwellings</th>\n      <th>Total_Sales</th>\n      <th>FHA_Count</th>\n      <th>...</th>\n      <th>Rent_Affordability</th>\n      <th>Sale_Price</th>\n      <th>Last_Month_Price</th>\n      <th>Last_2Month_Price</th>\n      <th>Last_3Month_Price</th>\n      <th>Last_4Month_Price</th>\n      <th>Last_Month_Diff</th>\n      <th>Last_2Month_Diff</th>\n      <th>Last_3Month_Diff</th>\n      <th>Last_4Month_Diff</th>\n    </tr>\n  </thead>\n  <tbody>\n    <tr>\n      <th>0</th>\n      <td>32003</td>\n      <td>2019</td>\n      <td>1</td>\n      <td>0.18</td>\n      <td>104</td>\n      <td>28</td>\n      <td>704</td>\n      <td>11724</td>\n      <td>32</td>\n      <td>7</td>\n      <td>...</td>\n      <td>0.14</td>\n      <td>244950.00</td>\n      <td>nan</td>\n      <td>nan</td>\n      <td>nan</td>\n      <td>nan</td>\n      <td>nan</td>\n      <td>nan</td>\n      <td>nan</td>\n      <td>nan</td>\n    </tr>\n    <tr>\n      <th>1</th>\n      <td>32003</td>\n      <td>2019</td>\n      <td>2</td>\n      <td>0.18</td>\n      <td>104</td>\n      <td>28</td>\n      <td>704</td>\n      <td>11724</td>\n      <td>41</td>\n      <td>2</td>\n      <td>...</td>\n      <td>0.14</td>\n      <td>270000.00</td>\n      <td>244950.00</td>\n      <td>nan</td>\n      <td>nan</td>\n      <td>nan</td>\n      <td>25050.00</td>\n      <td>nan</td>\n      <td>nan</td>\n      <td>nan</td>\n    </tr>\n    <tr>\n      <th>2</th>\n      <td>32003</td>\n      <td>2019</td>\n      <td>3</td>\n      <td>0.18</td>\n      <td>104</td>\n      <td>28</td>\n      <td>704</td>\n      <td>11724</td>\n      <td>21</td>\n      <td>7</td>\n      <td>...</td>\n      <td>0.14</td>\n      <td>275000.00</td>\n      <td>270000.00</td>\n      <td>244950.00</td>\n      <td>nan</td>\n      <td>nan</td>\n      <td>5000.00</td>\n      <td>30050.00</td>\n      <td>nan</td>\n      <td>nan</td>\n    </tr>\n    <tr>\n      <th>3</th>\n      <td>32003</td>\n      <td>2019</td>\n      <td>4</td>\n      <td>0.18</td>\n      <td>104</td>\n      <td>28</td>\n      <td>704</td>\n      <td>11724</td>\n      <td>42</td>\n      <td>3</td>\n      <td>...</td>\n      <td>0.14</td>\n      <td>264500.00</td>\n      <td>275000.00</td>\n      <td>270000.00</td>\n      <td>244950.00</td>\n      <td>nan</td>\n      <td>-10500.00</td>\n      <td>-5500.00</td>\n      <td>19550.00</td>\n      <td>nan</td>\n    </tr>\n    <tr>\n      <th>4</th>\n      <td>32003</td>\n      <td>2019</td>\n      <td>5</td>\n      <td>0.18</td>\n      <td>104</td>\n      <td>28</td>\n      <td>704</td>\n      <td>11724</td>\n      <td>66</td>\n      <td>8</td>\n      <td>...</td>\n      <td>0.14</td>\n      <td>281000.00</td>\n      <td>264500.00</td>\n      <td>275000.00</td>\n      <td>270000.00</td>\n      <td>244950.00</td>\n      <td>16500.00</td>\n      <td>6000.00</td>\n      <td>11000.00</td>\n      <td>36050.00</td>\n    </tr>\n    <tr>\n      <th>...</th>\n      <td>...</td>\n      <td>...</td>\n      <td>...</td>\n      <td>...</td>\n      <td>...</td>\n      <td>...</td>\n      <td>...</td>\n      <td>...</td>\n      <td>...</td>\n      <td>...</td>\n      <td>...</td>\n      <td>...</td>\n      <td>...</td>\n      <td>...</td>\n      <td>...</td>\n      <td>...</td>\n      <td>...</td>\n      <td>...</td>\n      <td>...</td>\n      <td>...</td>\n      <td>...</td>\n    </tr>\n    <tr>\n      <th>24466</th>\n      <td>34997</td>\n      <td>2021</td>\n      <td>1</td>\n      <td>0.14</td>\n      <td>91</td>\n      <td>113</td>\n      <td>2976</td>\n      <td>21551</td>\n      <td>81</td>\n      <td>10</td>\n      <td>...</td>\n      <td>0.25</td>\n      <td>305000.00</td>\n      <td>305000.00</td>\n      <td>297000.00</td>\n      <td>297000.00</td>\n      <td>259750.00</td>\n      <td>0.00</td>\n      <td>8000.00</td>\n      <td>8000.00</td>\n      <td>45250.00</td>\n    </tr>\n    <tr>\n      <th>24467</th>\n      <td>34997</td>\n      <td>2021</td>\n      <td>2</td>\n      <td>0.14</td>\n      <td>91</td>\n      <td>113</td>\n      <td>2976</td>\n      <td>21551</td>\n      <td>116</td>\n      <td>7</td>\n      <td>...</td>\n      <td>0.25</td>\n      <td>300000.00</td>\n      <td>305000.00</td>\n      <td>305000.00</td>\n      <td>297000.00</td>\n      <td>297000.00</td>\n      <td>-5000.00</td>\n      <td>-5000.00</td>\n      <td>3000.00</td>\n      <td>3000.00</td>\n    </tr>\n    <tr>\n      <th>24468</th>\n      <td>34997</td>\n      <td>2021</td>\n      <td>2</td>\n      <td>0.14</td>\n      <td>91</td>\n      <td>113</td>\n      <td>2976</td>\n      <td>21551</td>\n      <td>116</td>\n      <td>7</td>\n      <td>...</td>\n      <td>0.25</td>\n      <td>300000.00</td>\n      <td>300000.00</td>\n      <td>305000.00</td>\n      <td>305000.00</td>\n      <td>297000.00</td>\n      <td>0.00</td>\n      <td>-5000.00</td>\n      <td>-5000.00</td>\n      <td>3000.00</td>\n    </tr>\n    <tr>\n      <th>24469</th>\n      <td>34997</td>\n      <td>2021</td>\n      <td>3</td>\n      <td>0.14</td>\n      <td>91</td>\n      <td>113</td>\n      <td>2976</td>\n      <td>21551</td>\n      <td>7</td>\n      <td>12</td>\n      <td>...</td>\n      <td>0.25</td>\n      <td>599000.00</td>\n      <td>300000.00</td>\n      <td>300000.00</td>\n      <td>305000.00</td>\n      <td>305000.00</td>\n      <td>299000.00</td>\n      <td>299000.00</td>\n      <td>294000.00</td>\n      <td>294000.00</td>\n    </tr>\n    <tr>\n      <th>24470</th>\n      <td>34997</td>\n      <td>2021</td>\n      <td>3</td>\n      <td>0.14</td>\n      <td>91</td>\n      <td>113</td>\n      <td>2976</td>\n      <td>21551</td>\n      <td>7</td>\n      <td>12</td>\n      <td>...</td>\n      <td>0.25</td>\n      <td>599000.00</td>\n      <td>599000.00</td>\n      <td>300000.00</td>\n      <td>300000.00</td>\n      <td>305000.00</td>\n      <td>0.00</td>\n      <td>299000.00</td>\n      <td>299000.00</td>\n      <td>294000.00</td>\n    </tr>\n  </tbody>\n</table>\n<p>24471 rows × 21 columns</p>\n</div>"
     },
     "metadata": {},
     "execution_count": 299
    }
   ],
   "source": [
    "ml_data_4mo['Last_Month_Price'] = ml_data_4mo.groupby(['Zip_Code'])['Sale_Price'].shift()\n",
    "ml_data_4mo['Last_2Month_Price'] = ml_data_4mo.groupby(['Zip_Code'])['Sale_Price'].shift(2)\n",
    "ml_data_4mo['Last_3Month_Price'] = ml_data_4mo.groupby(['Zip_Code'])['Sale_Price'].shift(3)\n",
    "ml_data_4mo['Last_4Month_Price'] = ml_data_4mo.groupby(['Zip_Code'])['Sale_Price'].shift(4)\n",
    "\n",
    "\n",
    "price_difference_1 = []\n",
    "price_difference_2 = []\n",
    "price_difference_3 = []\n",
    "price_difference_4 = []\n",
    "\n",
    "\n",
    "for column in ml_data_4mo[['Sale_Price', 'Last_Month_Price', 'Last_2Month_Price',\n",
    "                        'Last_3Month_Price']]:\n",
    "   # Select column contents by column name using [] operator\n",
    "    current_sales = ml_data_4mo['Sale_Price'].values\n",
    "    last_sales = ml_data_4mo['Last_Month_Price'].values\n",
    "    last_2mo_sale = ml_data_4mo['Last_2Month_Price'].values\n",
    "    last_3mo_sale = ml_data_4mo['Last_3Month_Price'].values\n",
    "    last_4mo_sale = ml_data_4mo['Last_4Month_Price'].values\n",
    "    price_difference_1.append(current_sales-last_sales)\n",
    "    price_difference_2.append(current_sales-last_2mo_sale)\n",
    "    price_difference_3.append(current_sales-last_3mo_sale)\n",
    "    price_difference_4.append(current_sales-last_4mo_sale)\n",
    "    \n",
    "\n",
    "ml_data_4mo['Last_Month_Diff'] = price_difference_1[0]\n",
    "ml_data_4mo['Last_2Month_Diff'] = price_difference_2[0]\n",
    "ml_data_4mo['Last_3Month_Diff'] = price_difference_3[0]\n",
    "ml_data_4mo['Last_4Month_Diff'] = price_difference_4[0]\n",
    "\n",
    "ml_data_4mo"
   ]
  },
  {
   "source": [
    "1 Month Data Testing"
   ],
   "cell_type": "markdown",
   "metadata": {}
  },
  {
   "cell_type": "code",
   "execution_count": 300,
   "metadata": {},
   "outputs": [
    {
     "output_type": "execute_result",
     "data": {
      "text/plain": [
       "array([244950., 270000., 275000., ..., 300000., 599000., 599000.])"
      ]
     },
     "metadata": {},
     "execution_count": 300
    }
   ],
   "source": [
    "y_value = ml_data_1mo['Sale_Price'].values\n",
    "\n",
    "x_values = ml_data_1mo.drop(columns='Sale_Price')\n",
    "\n",
    "feature_names = x_values.columns\n",
    "\n",
    "x_values\n",
    "y_value"
   ]
  },
  {
   "cell_type": "code",
   "execution_count": 301,
   "metadata": {},
   "outputs": [],
   "source": [
    "\n",
    "X_train, X_test, y_train, y_test = train_test_split(x_values, y_value, random_state=42)"
   ]
  },
  {
   "cell_type": "code",
   "execution_count": 302,
   "metadata": {},
   "outputs": [
    {
     "output_type": "stream",
     "name": "stdout",
     "text": [
      "Training set - Features:  (18353, 14) Target:  (18353,)\nTest set - Features:  (6118, 14) Target:  (6118,)\n"
     ]
    }
   ],
   "source": [
    "print(\"Training set - Features: \", X_train.shape, \"Target: \", y_train.shape)\n",
    "print(\"Test set - Features: \", X_test.shape, \"Target: \",y_test.shape)"
   ]
  },
  {
   "cell_type": "code",
   "execution_count": 217,
   "metadata": {},
   "outputs": [],
   "source": [
    "import lazypredict\n",
    "from lazypredict.Supervised import LazyRegressor"
   ]
  },
  {
   "cell_type": "code",
   "execution_count": 29,
   "metadata": {},
   "outputs": [
    {
     "output_type": "stream",
     "name": "stderr",
     "text": [
      "100%|██████████| 42/42 [01:40<00:00,  2.39s/it]                               Adjusted R-Squared  R-Squared       RMSE  \\\n",
      "Model                                                                     \n",
      "LassoLarsIC                                  0.97       0.97   25423.17   \n",
      "LassoLarsCV                                  0.97       0.97   25423.17   \n",
      "TransformedTargetRegressor                   0.97       0.97   25423.17   \n",
      "LarsCV                                       0.97       0.97   25423.17   \n",
      "Lars                                         0.97       0.97   25423.17   \n",
      "LinearRegression                             0.97       0.97   25423.17   \n",
      "Lasso                                        0.97       0.97   25423.25   \n",
      "BayesianRidge                                0.97       0.97   25423.88   \n",
      "Ridge                                        0.97       0.97   25424.66   \n",
      "LassoLars                                    0.97       0.97   25430.60   \n",
      "LassoCV                                      0.97       0.97   25430.96   \n",
      "RidgeCV                                      0.97       0.97   25438.50   \n",
      "SGDRegressor                                 0.97       0.97   25452.35   \n",
      "OrthogonalMatchingPursuitCV                  0.97       0.97   25953.32   \n",
      "RANSACRegressor                              0.97       0.97   27871.26   \n",
      "PassiveAggressiveRegressor                   0.97       0.97   28077.15   \n",
      "HuberRegressor                               0.97       0.97   28078.23   \n",
      "XGBRegressor                                 0.94       0.94   37004.10   \n",
      "ExtraTreesRegressor                          0.94       0.94   38458.15   \n",
      "RandomForestRegressor                        0.94       0.94   39364.33   \n",
      "GradientBoostingRegressor                    0.94       0.94   39980.64   \n",
      "BaggingRegressor                             0.93       0.93   40208.13   \n",
      "DecisionTreeRegressor                        0.93       0.93   42058.68   \n",
      "ExtraTreeRegressor                           0.93       0.93   42885.35   \n",
      "LGBMRegressor                                0.92       0.92   45602.61   \n",
      "HistGradientBoostingRegressor                0.91       0.91   48221.96   \n",
      "KNeighborsRegressor                          0.89       0.89   51177.18   \n",
      "ElasticNet                                   0.88       0.88   53822.05   \n",
      "GeneralizedLinearRegressor                   0.78       0.78   73375.75   \n",
      "TweedieRegressor                             0.78       0.78   73375.75   \n",
      "AdaBoostRegressor                            0.74       0.74   80105.91   \n",
      "OrthogonalMatchingPursuit                    0.70       0.70   85680.16   \n",
      "GaussianProcessRegressor                     0.39       0.40  122122.41   \n",
      "ElasticNetCV                                 0.02       0.02  155205.39   \n",
      "DummyRegressor                              -0.00      -0.00  157040.79   \n",
      "NuSVR                                       -0.01      -0.01  158025.59   \n",
      "SVR                                         -0.02      -0.02  158704.87   \n",
      "MLPRegressor                                -0.83      -0.82  212065.10   \n",
      "KernelRidge                                 -1.34      -1.34  240186.44   \n",
      "LinearSVR                                   -2.03      -2.03  273178.81   \n",
      "GammaRegressor                           -1125.73   -1123.24 5265387.35   \n",
      "PoissonRegressor                         -2147.08   -2142.34 7270203.70   \n",
      "\n",
      "                               Time Taken  \n",
      "Model                                      \n",
      "LassoLarsIC                          0.02  \n",
      "LassoLarsCV                          0.07  \n",
      "TransformedTargetRegressor           0.02  \n",
      "LarsCV                               0.06  \n",
      "Lars                                 0.02  \n",
      "LinearRegression                     0.02  \n",
      "Lasso                                0.12  \n",
      "BayesianRidge                        0.02  \n",
      "Ridge                                0.02  \n",
      "LassoLars                            0.03  \n",
      "LassoCV                              0.25  \n",
      "RidgeCV                              0.03  \n",
      "SGDRegressor                         0.05  \n",
      "OrthogonalMatchingPursuitCV          0.04  \n",
      "RANSACRegressor                      0.03  \n",
      "PassiveAggressiveRegressor           0.12  \n",
      "HuberRegressor                       0.33  \n",
      "XGBRegressor                         0.52  \n",
      "ExtraTreesRegressor                  3.74  \n",
      "RandomForestRegressor                7.76  \n",
      "GradientBoostingRegressor            2.18  \n",
      "BaggingRegressor                     0.80  \n",
      "DecisionTreeRegressor                0.17  \n",
      "ExtraTreeRegressor                   0.08  \n",
      "LGBMRegressor                        0.18  \n",
      "HistGradientBoostingRegressor        0.45  \n",
      "KNeighborsRegressor                  0.82  \n",
      "ElasticNet                           0.03  \n",
      "GeneralizedLinearRegressor           0.03  \n",
      "TweedieRegressor                     0.03  \n",
      "AdaBoostRegressor                    0.77  \n",
      "OrthogonalMatchingPursuit            0.02  \n",
      "GaussianProcessRegressor            34.97  \n",
      "ElasticNetCV                         0.18  \n",
      "DummyRegressor                       0.01  \n",
      "NuSVR                                8.47  \n",
      "SVR                                  8.37  \n",
      "MLPRegressor                        10.52  \n",
      "KernelRidge                         18.82  \n",
      "LinearSVR                            0.02  \n",
      "GammaRegressor                       0.03  \n",
      "PoissonRegressor                     0.07  \n",
      "                               Adjusted R-Squared  R-Squared       RMSE  \\\n",
      "Model                                                                     \n",
      "LassoLarsIC                                  0.97       0.97   25423.17   \n",
      "LassoLarsCV                                  0.97       0.97   25423.17   \n",
      "TransformedTargetRegressor                   0.97       0.97   25423.17   \n",
      "LarsCV                                       0.97       0.97   25423.17   \n",
      "Lars                                         0.97       0.97   25423.17   \n",
      "LinearRegression                             0.97       0.97   25423.17   \n",
      "Lasso                                        0.97       0.97   25423.25   \n",
      "BayesianRidge                                0.97       0.97   25423.88   \n",
      "Ridge                                        0.97       0.97   25424.66   \n",
      "LassoLars                                    0.97       0.97   25430.60   \n",
      "LassoCV                                      0.97       0.97   25430.96   \n",
      "RidgeCV                                      0.97       0.97   25438.50   \n",
      "SGDRegressor                                 0.97       0.97   25452.35   \n",
      "OrthogonalMatchingPursuitCV                  0.97       0.97   25953.32   \n",
      "RANSACRegressor                              0.97       0.97   27871.26   \n",
      "PassiveAggressiveRegressor                   0.97       0.97   28077.15   \n",
      "HuberRegressor                               0.97       0.97   28078.23   \n",
      "XGBRegressor                                 0.94       0.94   37004.10   \n",
      "ExtraTreesRegressor                          0.94       0.94   38458.15   \n",
      "RandomForestRegressor                        0.94       0.94   39364.33   \n",
      "GradientBoostingRegressor                    0.94       0.94   39980.64   \n",
      "BaggingRegressor                             0.93       0.93   40208.13   \n",
      "DecisionTreeRegressor                        0.93       0.93   42058.68   \n",
      "ExtraTreeRegressor                           0.93       0.93   42885.35   \n",
      "LGBMRegressor                                0.92       0.92   45602.61   \n",
      "HistGradientBoostingRegressor                0.91       0.91   48221.96   \n",
      "KNeighborsRegressor                          0.89       0.89   51177.18   \n",
      "ElasticNet                                   0.88       0.88   53822.05   \n",
      "GeneralizedLinearRegressor                   0.78       0.78   73375.75   \n",
      "TweedieRegressor                             0.78       0.78   73375.75   \n",
      "AdaBoostRegressor                            0.74       0.74   80105.91   \n",
      "OrthogonalMatchingPursuit                    0.70       0.70   85680.16   \n",
      "GaussianProcessRegressor                     0.39       0.40  122122.41   \n",
      "ElasticNetCV                                 0.02       0.02  155205.39   \n",
      "DummyRegressor                              -0.00      -0.00  157040.79   \n",
      "NuSVR                                       -0.01      -0.01  158025.59   \n",
      "SVR                                         -0.02      -0.02  158704.87   \n",
      "MLPRegressor                                -0.83      -0.82  212065.10   \n",
      "KernelRidge                                 -1.34      -1.34  240186.44   \n",
      "LinearSVR                                   -2.03      -2.03  273178.81   \n",
      "GammaRegressor                           -1125.73   -1123.24 5265387.35   \n",
      "PoissonRegressor                         -2147.08   -2142.34 7270203.70   \n",
      "\n",
      "                               Time Taken  \n",
      "Model                                      \n",
      "LassoLarsIC                          0.02  \n",
      "LassoLarsCV                          0.07  \n",
      "TransformedTargetRegressor           0.02  \n",
      "LarsCV                               0.06  \n",
      "Lars                                 0.02  \n",
      "LinearRegression                     0.02  \n",
      "Lasso                                0.12  \n",
      "BayesianRidge                        0.02  \n",
      "Ridge                                0.02  \n",
      "LassoLars                            0.03  \n",
      "LassoCV                              0.25  \n",
      "RidgeCV                              0.03  \n",
      "SGDRegressor                         0.05  \n",
      "OrthogonalMatchingPursuitCV          0.04  \n",
      "RANSACRegressor                      0.03  \n",
      "PassiveAggressiveRegressor           0.12  \n",
      "HuberRegressor                       0.33  \n",
      "XGBRegressor                         0.52  \n",
      "ExtraTreesRegressor                  3.74  \n",
      "RandomForestRegressor                7.76  \n",
      "GradientBoostingRegressor            2.18  \n",
      "BaggingRegressor                     0.80  \n",
      "DecisionTreeRegressor                0.17  \n",
      "ExtraTreeRegressor                   0.08  \n",
      "LGBMRegressor                        0.18  \n",
      "HistGradientBoostingRegressor        0.45  \n",
      "KNeighborsRegressor                  0.82  \n",
      "ElasticNet                           0.03  \n",
      "GeneralizedLinearRegressor           0.03  \n",
      "TweedieRegressor                     0.03  \n",
      "AdaBoostRegressor                    0.77  \n",
      "OrthogonalMatchingPursuit            0.02  \n",
      "GaussianProcessRegressor            34.97  \n",
      "ElasticNetCV                         0.18  \n",
      "DummyRegressor                       0.01  \n",
      "NuSVR                                8.47  \n",
      "SVR                                  8.37  \n",
      "MLPRegressor                        10.52  \n",
      "KernelRidge                         18.82  \n",
      "LinearSVR                            0.02  \n",
      "GammaRegressor                       0.03  \n",
      "PoissonRegressor                     0.07  \n",
      "\n"
     ]
    }
   ],
   "source": [
    "reg = LazyRegressor(verbose=0, ignore_warnings=False, custom_metric=None)\n",
    "reg_models, reg_predictions = reg.fit(X_train, X_test, y_train, y_test)\n",
    "\n",
    "print(reg_models)\n",
    "print(reg_predictions)"
   ]
  },
  {
   "cell_type": "code",
   "execution_count": null,
   "metadata": {},
   "outputs": [],
   "source": []
  },
  {
   "cell_type": "code",
   "execution_count": 177,
   "metadata": {},
   "outputs": [
    {
     "output_type": "execute_result",
     "data": {
      "text/plain": [
       "       Zip_Code  Year  Month  Mobility_Rate  Expense_Index  Crime_Index  \\\n",
       "0         32003  2019      1           0.18            104           28   \n",
       "1         32003  2019      2           0.18            104           28   \n",
       "2         32003  2019      3           0.18            104           28   \n",
       "3         32003  2019      4           0.18            104           28   \n",
       "4         32003  2019      5           0.18            104           28   \n",
       "...         ...   ...    ...            ...            ...          ...   \n",
       "21759     34997  2020     10           0.14             91          113   \n",
       "21760     34997  2020     11           0.14             91          113   \n",
       "21761     34997  2020     11           0.14             91          113   \n",
       "21762     34997  2020     12           0.14             91          113   \n",
       "21763     34997  2020     12           0.14             91          113   \n",
       "\n",
       "       Total_Vacant  Total_Dwellings  Total_Sales  FHA_Count  \\\n",
       "0               704            11724           32          7   \n",
       "1               704            11724           41          2   \n",
       "2               704            11724           21          7   \n",
       "3               704            11724           42          3   \n",
       "4               704            11724           66          8   \n",
       "...             ...              ...          ...        ...   \n",
       "21759          2976            21551          139         17   \n",
       "21760          2976            21551          132         11   \n",
       "21761          2976            21551          132         11   \n",
       "21762          2976            21551          142         16   \n",
       "21763          2976            21551          142         16   \n",
       "\n",
       "       Home_Affordability  Rent_Affordability  Sale_Price  Last_Month_Price  \\\n",
       "0                    0.13                0.14   244950.00               nan   \n",
       "1                    0.14                0.14   270000.00         244950.00   \n",
       "2                    0.14                0.14   275000.00         270000.00   \n",
       "3                    0.13                0.14   264500.00         275000.00   \n",
       "4                    0.14                0.14   281000.00         264500.00   \n",
       "...                   ...                 ...         ...               ...   \n",
       "21759                0.19                0.25   285000.00         285000.00   \n",
       "21760                0.17                0.25   259750.00         285000.00   \n",
       "21761                0.17                0.25   259750.00         259750.00   \n",
       "21762                0.20                0.25   297000.00         259750.00   \n",
       "21763                0.20                0.25   297000.00         297000.00   \n",
       "\n",
       "       Last_Month_Diff  Price_Change_1mo  \n",
       "0                  nan                 0  \n",
       "1             25050.00                 1  \n",
       "2              5000.00                 1  \n",
       "3            -10500.00                 0  \n",
       "4             16500.00                 1  \n",
       "...                ...               ...  \n",
       "21759             0.00                 0  \n",
       "21760        -25250.00                 0  \n",
       "21761             0.00                 0  \n",
       "21762         37250.00                 1  \n",
       "21763             0.00                 0  \n",
       "\n",
       "[21764 rows x 16 columns]"
      ],
      "text/html": "<div>\n<style scoped>\n    .dataframe tbody tr th:only-of-type {\n        vertical-align: middle;\n    }\n\n    .dataframe tbody tr th {\n        vertical-align: top;\n    }\n\n    .dataframe thead th {\n        text-align: right;\n    }\n</style>\n<table border=\"1\" class=\"dataframe\">\n  <thead>\n    <tr style=\"text-align: right;\">\n      <th></th>\n      <th>Zip_Code</th>\n      <th>Year</th>\n      <th>Month</th>\n      <th>Mobility_Rate</th>\n      <th>Expense_Index</th>\n      <th>Crime_Index</th>\n      <th>Total_Vacant</th>\n      <th>Total_Dwellings</th>\n      <th>Total_Sales</th>\n      <th>FHA_Count</th>\n      <th>Home_Affordability</th>\n      <th>Rent_Affordability</th>\n      <th>Sale_Price</th>\n      <th>Last_Month_Price</th>\n      <th>Last_Month_Diff</th>\n      <th>Price_Change_1mo</th>\n    </tr>\n  </thead>\n  <tbody>\n    <tr>\n      <th>0</th>\n      <td>32003</td>\n      <td>2019</td>\n      <td>1</td>\n      <td>0.18</td>\n      <td>104</td>\n      <td>28</td>\n      <td>704</td>\n      <td>11724</td>\n      <td>32</td>\n      <td>7</td>\n      <td>0.13</td>\n      <td>0.14</td>\n      <td>244950.00</td>\n      <td>nan</td>\n      <td>nan</td>\n      <td>0</td>\n    </tr>\n    <tr>\n      <th>1</th>\n      <td>32003</td>\n      <td>2019</td>\n      <td>2</td>\n      <td>0.18</td>\n      <td>104</td>\n      <td>28</td>\n      <td>704</td>\n      <td>11724</td>\n      <td>41</td>\n      <td>2</td>\n      <td>0.14</td>\n      <td>0.14</td>\n      <td>270000.00</td>\n      <td>244950.00</td>\n      <td>25050.00</td>\n      <td>1</td>\n    </tr>\n    <tr>\n      <th>2</th>\n      <td>32003</td>\n      <td>2019</td>\n      <td>3</td>\n      <td>0.18</td>\n      <td>104</td>\n      <td>28</td>\n      <td>704</td>\n      <td>11724</td>\n      <td>21</td>\n      <td>7</td>\n      <td>0.14</td>\n      <td>0.14</td>\n      <td>275000.00</td>\n      <td>270000.00</td>\n      <td>5000.00</td>\n      <td>1</td>\n    </tr>\n    <tr>\n      <th>3</th>\n      <td>32003</td>\n      <td>2019</td>\n      <td>4</td>\n      <td>0.18</td>\n      <td>104</td>\n      <td>28</td>\n      <td>704</td>\n      <td>11724</td>\n      <td>42</td>\n      <td>3</td>\n      <td>0.13</td>\n      <td>0.14</td>\n      <td>264500.00</td>\n      <td>275000.00</td>\n      <td>-10500.00</td>\n      <td>0</td>\n    </tr>\n    <tr>\n      <th>4</th>\n      <td>32003</td>\n      <td>2019</td>\n      <td>5</td>\n      <td>0.18</td>\n      <td>104</td>\n      <td>28</td>\n      <td>704</td>\n      <td>11724</td>\n      <td>66</td>\n      <td>8</td>\n      <td>0.14</td>\n      <td>0.14</td>\n      <td>281000.00</td>\n      <td>264500.00</td>\n      <td>16500.00</td>\n      <td>1</td>\n    </tr>\n    <tr>\n      <th>...</th>\n      <td>...</td>\n      <td>...</td>\n      <td>...</td>\n      <td>...</td>\n      <td>...</td>\n      <td>...</td>\n      <td>...</td>\n      <td>...</td>\n      <td>...</td>\n      <td>...</td>\n      <td>...</td>\n      <td>...</td>\n      <td>...</td>\n      <td>...</td>\n      <td>...</td>\n      <td>...</td>\n    </tr>\n    <tr>\n      <th>21759</th>\n      <td>34997</td>\n      <td>2020</td>\n      <td>10</td>\n      <td>0.14</td>\n      <td>91</td>\n      <td>113</td>\n      <td>2976</td>\n      <td>21551</td>\n      <td>139</td>\n      <td>17</td>\n      <td>0.19</td>\n      <td>0.25</td>\n      <td>285000.00</td>\n      <td>285000.00</td>\n      <td>0.00</td>\n      <td>0</td>\n    </tr>\n    <tr>\n      <th>21760</th>\n      <td>34997</td>\n      <td>2020</td>\n      <td>11</td>\n      <td>0.14</td>\n      <td>91</td>\n      <td>113</td>\n      <td>2976</td>\n      <td>21551</td>\n      <td>132</td>\n      <td>11</td>\n      <td>0.17</td>\n      <td>0.25</td>\n      <td>259750.00</td>\n      <td>285000.00</td>\n      <td>-25250.00</td>\n      <td>0</td>\n    </tr>\n    <tr>\n      <th>21761</th>\n      <td>34997</td>\n      <td>2020</td>\n      <td>11</td>\n      <td>0.14</td>\n      <td>91</td>\n      <td>113</td>\n      <td>2976</td>\n      <td>21551</td>\n      <td>132</td>\n      <td>11</td>\n      <td>0.17</td>\n      <td>0.25</td>\n      <td>259750.00</td>\n      <td>259750.00</td>\n      <td>0.00</td>\n      <td>0</td>\n    </tr>\n    <tr>\n      <th>21762</th>\n      <td>34997</td>\n      <td>2020</td>\n      <td>12</td>\n      <td>0.14</td>\n      <td>91</td>\n      <td>113</td>\n      <td>2976</td>\n      <td>21551</td>\n      <td>142</td>\n      <td>16</td>\n      <td>0.20</td>\n      <td>0.25</td>\n      <td>297000.00</td>\n      <td>259750.00</td>\n      <td>37250.00</td>\n      <td>1</td>\n    </tr>\n    <tr>\n      <th>21763</th>\n      <td>34997</td>\n      <td>2020</td>\n      <td>12</td>\n      <td>0.14</td>\n      <td>91</td>\n      <td>113</td>\n      <td>2976</td>\n      <td>21551</td>\n      <td>142</td>\n      <td>16</td>\n      <td>0.20</td>\n      <td>0.25</td>\n      <td>297000.00</td>\n      <td>297000.00</td>\n      <td>0.00</td>\n      <td>0</td>\n    </tr>\n  </tbody>\n</table>\n<p>21764 rows × 16 columns</p>\n</div>"
     },
     "metadata": {},
     "execution_count": 177
    }
   ],
   "source": [
    "price_change_1mo = []\n",
    "\n",
    "for row in ml_data_1mo['Last_Month_Diff']:\n",
    "    if row > 0:\n",
    "        price_change_1mo.append(1)\n",
    "    else:\n",
    "        price_change_1mo.append(0)\n",
    "ml_data_1mo['Price_Change_1mo'] = price_change_1mo\n",
    "\n",
    "ml_data_1mo"
   ]
  },
  {
   "cell_type": "code",
   "execution_count": 178,
   "metadata": {},
   "outputs": [
    {
     "output_type": "execute_result",
     "data": {
      "text/plain": [
       "       Mobility_Rate  Expense_Index  Crime_Index  Total_Vacant  \\\n",
       "0               0.18            104           28           704   \n",
       "1               0.18            104           28           704   \n",
       "2               0.18            104           28           704   \n",
       "3               0.18            104           28           704   \n",
       "4               0.18            104           28           704   \n",
       "...              ...            ...          ...           ...   \n",
       "21759           0.14             91          113          2976   \n",
       "21760           0.14             91          113          2976   \n",
       "21761           0.14             91          113          2976   \n",
       "21762           0.14             91          113          2976   \n",
       "21763           0.14             91          113          2976   \n",
       "\n",
       "       Total_Dwellings  Total_Sales  FHA_Count  Home_Affordability  \\\n",
       "0                11724           32          7                0.13   \n",
       "1                11724           41          2                0.14   \n",
       "2                11724           21          7                0.14   \n",
       "3                11724           42          3                0.13   \n",
       "4                11724           66          8                0.14   \n",
       "...                ...          ...        ...                 ...   \n",
       "21759            21551          139         17                0.19   \n",
       "21760            21551          132         11                0.17   \n",
       "21761            21551          132         11                0.17   \n",
       "21762            21551          142         16                0.20   \n",
       "21763            21551          142         16                0.20   \n",
       "\n",
       "       Rent_Affordability  Sale_Price  Price_Change_1mo  \n",
       "0                    0.14   244950.00                 0  \n",
       "1                    0.14   270000.00                 1  \n",
       "2                    0.14   275000.00                 1  \n",
       "3                    0.14   264500.00                 0  \n",
       "4                    0.14   281000.00                 1  \n",
       "...                   ...         ...               ...  \n",
       "21759                0.25   285000.00                 0  \n",
       "21760                0.25   259750.00                 0  \n",
       "21761                0.25   259750.00                 0  \n",
       "21762                0.25   297000.00                 1  \n",
       "21763                0.25   297000.00                 0  \n",
       "\n",
       "[21764 rows x 11 columns]"
      ],
      "text/html": "<div>\n<style scoped>\n    .dataframe tbody tr th:only-of-type {\n        vertical-align: middle;\n    }\n\n    .dataframe tbody tr th {\n        vertical-align: top;\n    }\n\n    .dataframe thead th {\n        text-align: right;\n    }\n</style>\n<table border=\"1\" class=\"dataframe\">\n  <thead>\n    <tr style=\"text-align: right;\">\n      <th></th>\n      <th>Mobility_Rate</th>\n      <th>Expense_Index</th>\n      <th>Crime_Index</th>\n      <th>Total_Vacant</th>\n      <th>Total_Dwellings</th>\n      <th>Total_Sales</th>\n      <th>FHA_Count</th>\n      <th>Home_Affordability</th>\n      <th>Rent_Affordability</th>\n      <th>Sale_Price</th>\n      <th>Price_Change_1mo</th>\n    </tr>\n  </thead>\n  <tbody>\n    <tr>\n      <th>0</th>\n      <td>0.18</td>\n      <td>104</td>\n      <td>28</td>\n      <td>704</td>\n      <td>11724</td>\n      <td>32</td>\n      <td>7</td>\n      <td>0.13</td>\n      <td>0.14</td>\n      <td>244950.00</td>\n      <td>0</td>\n    </tr>\n    <tr>\n      <th>1</th>\n      <td>0.18</td>\n      <td>104</td>\n      <td>28</td>\n      <td>704</td>\n      <td>11724</td>\n      <td>41</td>\n      <td>2</td>\n      <td>0.14</td>\n      <td>0.14</td>\n      <td>270000.00</td>\n      <td>1</td>\n    </tr>\n    <tr>\n      <th>2</th>\n      <td>0.18</td>\n      <td>104</td>\n      <td>28</td>\n      <td>704</td>\n      <td>11724</td>\n      <td>21</td>\n      <td>7</td>\n      <td>0.14</td>\n      <td>0.14</td>\n      <td>275000.00</td>\n      <td>1</td>\n    </tr>\n    <tr>\n      <th>3</th>\n      <td>0.18</td>\n      <td>104</td>\n      <td>28</td>\n      <td>704</td>\n      <td>11724</td>\n      <td>42</td>\n      <td>3</td>\n      <td>0.13</td>\n      <td>0.14</td>\n      <td>264500.00</td>\n      <td>0</td>\n    </tr>\n    <tr>\n      <th>4</th>\n      <td>0.18</td>\n      <td>104</td>\n      <td>28</td>\n      <td>704</td>\n      <td>11724</td>\n      <td>66</td>\n      <td>8</td>\n      <td>0.14</td>\n      <td>0.14</td>\n      <td>281000.00</td>\n      <td>1</td>\n    </tr>\n    <tr>\n      <th>...</th>\n      <td>...</td>\n      <td>...</td>\n      <td>...</td>\n      <td>...</td>\n      <td>...</td>\n      <td>...</td>\n      <td>...</td>\n      <td>...</td>\n      <td>...</td>\n      <td>...</td>\n      <td>...</td>\n    </tr>\n    <tr>\n      <th>21759</th>\n      <td>0.14</td>\n      <td>91</td>\n      <td>113</td>\n      <td>2976</td>\n      <td>21551</td>\n      <td>139</td>\n      <td>17</td>\n      <td>0.19</td>\n      <td>0.25</td>\n      <td>285000.00</td>\n      <td>0</td>\n    </tr>\n    <tr>\n      <th>21760</th>\n      <td>0.14</td>\n      <td>91</td>\n      <td>113</td>\n      <td>2976</td>\n      <td>21551</td>\n      <td>132</td>\n      <td>11</td>\n      <td>0.17</td>\n      <td>0.25</td>\n      <td>259750.00</td>\n      <td>0</td>\n    </tr>\n    <tr>\n      <th>21761</th>\n      <td>0.14</td>\n      <td>91</td>\n      <td>113</td>\n      <td>2976</td>\n      <td>21551</td>\n      <td>132</td>\n      <td>11</td>\n      <td>0.17</td>\n      <td>0.25</td>\n      <td>259750.00</td>\n      <td>0</td>\n    </tr>\n    <tr>\n      <th>21762</th>\n      <td>0.14</td>\n      <td>91</td>\n      <td>113</td>\n      <td>2976</td>\n      <td>21551</td>\n      <td>142</td>\n      <td>16</td>\n      <td>0.20</td>\n      <td>0.25</td>\n      <td>297000.00</td>\n      <td>1</td>\n    </tr>\n    <tr>\n      <th>21763</th>\n      <td>0.14</td>\n      <td>91</td>\n      <td>113</td>\n      <td>2976</td>\n      <td>21551</td>\n      <td>142</td>\n      <td>16</td>\n      <td>0.20</td>\n      <td>0.25</td>\n      <td>297000.00</td>\n      <td>0</td>\n    </tr>\n  </tbody>\n</table>\n<p>21764 rows × 11 columns</p>\n</div>"
     },
     "metadata": {},
     "execution_count": 178
    }
   ],
   "source": [
    "ml_data_1mo = ml_data_1mo.drop(columns=['Zip_Code', 'Year', 'Month','Last_Month_Price', 'Last_Month_Diff'])\n",
    "ml_data_1mo"
   ]
  },
  {
   "cell_type": "code",
   "execution_count": 179,
   "metadata": {},
   "outputs": [],
   "source": [
    "ml_data_1mo.replace([np.inf, -np.inf], np.nan, inplace=True)\n",
    "ml_data_1mo.dropna(inplace=True)"
   ]
  },
  {
   "cell_type": "code",
   "execution_count": 131,
   "metadata": {},
   "outputs": [
    {
     "output_type": "execute_result",
     "data": {
      "text/plain": [
       "       Mobility_Rate  Expense_Index  Crime_Index  Total_Sales  FHA_Count  \\\n",
       "0           0.182327            104           28           32          7   \n",
       "1           0.182327            104           28           41          2   \n",
       "2           0.182327            104           28           21          7   \n",
       "3           0.182327            104           28           42          3   \n",
       "4           0.182327            104           28           66          8   \n",
       "...              ...            ...          ...          ...        ...   \n",
       "21759       0.143471             91          113          139         17   \n",
       "21760       0.143471             91          113          132         11   \n",
       "21761       0.143471             91          113          132         11   \n",
       "21762       0.143471             91          113          142         16   \n",
       "21763       0.143471             91          113          142         16   \n",
       "\n",
       "       Home_Affordability  Rent_Affordability  Sale_Price  \n",
       "0                0.126012            0.141853    244950.0  \n",
       "1                0.137369            0.141853    270000.0  \n",
       "2                0.138182            0.141853    275000.0  \n",
       "3                0.130978            0.141853    264500.0  \n",
       "4                0.137976            0.141853    281000.0  \n",
       "...                   ...                 ...         ...  \n",
       "21759            0.192070            0.247189    285000.0  \n",
       "21760            0.173497            0.247189    259750.0  \n",
       "21761            0.173497            0.247189    259750.0  \n",
       "21762            0.196301            0.247189    297000.0  \n",
       "21763            0.196301            0.247189    297000.0  \n",
       "\n",
       "[21764 rows x 8 columns]"
      ],
      "text/html": "<div>\n<style scoped>\n    .dataframe tbody tr th:only-of-type {\n        vertical-align: middle;\n    }\n\n    .dataframe tbody tr th {\n        vertical-align: top;\n    }\n\n    .dataframe thead th {\n        text-align: right;\n    }\n</style>\n<table border=\"1\" class=\"dataframe\">\n  <thead>\n    <tr style=\"text-align: right;\">\n      <th></th>\n      <th>Mobility_Rate</th>\n      <th>Expense_Index</th>\n      <th>Crime_Index</th>\n      <th>Total_Sales</th>\n      <th>FHA_Count</th>\n      <th>Home_Affordability</th>\n      <th>Rent_Affordability</th>\n      <th>Sale_Price</th>\n    </tr>\n  </thead>\n  <tbody>\n    <tr>\n      <th>0</th>\n      <td>0.182327</td>\n      <td>104</td>\n      <td>28</td>\n      <td>32</td>\n      <td>7</td>\n      <td>0.126012</td>\n      <td>0.141853</td>\n      <td>244950.0</td>\n    </tr>\n    <tr>\n      <th>1</th>\n      <td>0.182327</td>\n      <td>104</td>\n      <td>28</td>\n      <td>41</td>\n      <td>2</td>\n      <td>0.137369</td>\n      <td>0.141853</td>\n      <td>270000.0</td>\n    </tr>\n    <tr>\n      <th>2</th>\n      <td>0.182327</td>\n      <td>104</td>\n      <td>28</td>\n      <td>21</td>\n      <td>7</td>\n      <td>0.138182</td>\n      <td>0.141853</td>\n      <td>275000.0</td>\n    </tr>\n    <tr>\n      <th>3</th>\n      <td>0.182327</td>\n      <td>104</td>\n      <td>28</td>\n      <td>42</td>\n      <td>3</td>\n      <td>0.130978</td>\n      <td>0.141853</td>\n      <td>264500.0</td>\n    </tr>\n    <tr>\n      <th>4</th>\n      <td>0.182327</td>\n      <td>104</td>\n      <td>28</td>\n      <td>66</td>\n      <td>8</td>\n      <td>0.137976</td>\n      <td>0.141853</td>\n      <td>281000.0</td>\n    </tr>\n    <tr>\n      <th>...</th>\n      <td>...</td>\n      <td>...</td>\n      <td>...</td>\n      <td>...</td>\n      <td>...</td>\n      <td>...</td>\n      <td>...</td>\n      <td>...</td>\n    </tr>\n    <tr>\n      <th>21759</th>\n      <td>0.143471</td>\n      <td>91</td>\n      <td>113</td>\n      <td>139</td>\n      <td>17</td>\n      <td>0.192070</td>\n      <td>0.247189</td>\n      <td>285000.0</td>\n    </tr>\n    <tr>\n      <th>21760</th>\n      <td>0.143471</td>\n      <td>91</td>\n      <td>113</td>\n      <td>132</td>\n      <td>11</td>\n      <td>0.173497</td>\n      <td>0.247189</td>\n      <td>259750.0</td>\n    </tr>\n    <tr>\n      <th>21761</th>\n      <td>0.143471</td>\n      <td>91</td>\n      <td>113</td>\n      <td>132</td>\n      <td>11</td>\n      <td>0.173497</td>\n      <td>0.247189</td>\n      <td>259750.0</td>\n    </tr>\n    <tr>\n      <th>21762</th>\n      <td>0.143471</td>\n      <td>91</td>\n      <td>113</td>\n      <td>142</td>\n      <td>16</td>\n      <td>0.196301</td>\n      <td>0.247189</td>\n      <td>297000.0</td>\n    </tr>\n    <tr>\n      <th>21763</th>\n      <td>0.143471</td>\n      <td>91</td>\n      <td>113</td>\n      <td>142</td>\n      <td>16</td>\n      <td>0.196301</td>\n      <td>0.247189</td>\n      <td>297000.0</td>\n    </tr>\n  </tbody>\n</table>\n<p>21764 rows × 8 columns</p>\n</div>"
     },
     "metadata": {},
     "execution_count": 131
    }
   ],
   "source": [
    "y_value = ml_data_1mo['Price_Change_1mo'].values\n",
    "\n",
    "x_values = ml_data_1mo.drop(columns='Price_Change_1mo')\n",
    "\n",
    "feature_names = x_values.columns\n",
    "\n",
    "x_values\n"
   ]
  },
  {
   "cell_type": "code",
   "execution_count": 132,
   "metadata": {},
   "outputs": [],
   "source": [
    "X_train, X_test, y_train, y_test = train_test_split(x_values, y_value, random_state=42)"
   ]
  },
  {
   "cell_type": "code",
   "execution_count": 42,
   "metadata": {},
   "outputs": [
    {
     "output_type": "stream",
     "name": "stderr",
     "text": [
      " 21%|██        | 6/29 [00:04<00:16,  1.42it/s]CategoricalNB model failed to execute\n",
      "Negative values in data passed to CategoricalNB (input X)\n",
      " 90%|████████▉ | 26/29 [01:09<00:09,  3.19s/it]StackingClassifier model failed to execute\n",
      "__init__() missing 1 required positional argument: 'estimators'\n",
      "100%|██████████| 29/29 [01:10<00:00,  2.43s/it]\n"
     ]
    },
    {
     "output_type": "execute_result",
     "data": {
      "text/plain": [
       "                               Accuracy  Balanced Accuracy  ROC AUC  F1 Score  \\\n",
       "Model                                                                           \n",
       "RandomForestClassifier             0.65               0.65     0.65      0.65   \n",
       "LGBMClassifier                     0.65               0.65     0.65      0.65   \n",
       "ExtraTreesClassifier               0.65               0.65     0.65      0.65   \n",
       "XGBClassifier                      0.62               0.62     0.62      0.62   \n",
       "BaggingClassifier                  0.62               0.62     0.62      0.62   \n",
       "SVC                                0.62               0.62     0.62      0.62   \n",
       "AdaBoostClassifier                 0.60               0.60     0.60      0.60   \n",
       "SGDClassifier                      0.60               0.60     0.60      0.60   \n",
       "KNeighborsClassifier               0.60               0.60     0.60      0.60   \n",
       "LabelPropagation                   0.60               0.60     0.60      0.60   \n",
       "LabelSpreading                     0.60               0.60     0.60      0.60   \n",
       "CalibratedClassifierCV             0.59               0.59     0.59      0.59   \n",
       "LogisticRegression                 0.59               0.59     0.59      0.59   \n",
       "LinearSVC                          0.59               0.59     0.59      0.59   \n",
       "NuSVC                              0.59               0.59     0.59      0.59   \n",
       "LinearDiscriminantAnalysis         0.59               0.59     0.59      0.58   \n",
       "RidgeClassifier                    0.59               0.59     0.59      0.58   \n",
       "RidgeClassifierCV                  0.59               0.59     0.59      0.58   \n",
       "DecisionTreeClassifier             0.59               0.59     0.59      0.59   \n",
       "BernoulliNB                        0.59               0.58     0.58      0.58   \n",
       "NearestCentroid                    0.57               0.56     0.56      0.56   \n",
       "ExtraTreeClassifier                0.56               0.56     0.56      0.56   \n",
       "Perceptron                         0.55               0.55     0.55      0.55   \n",
       "QuadraticDiscriminantAnalysis      0.56               0.55     0.55      0.51   \n",
       "PassiveAggressiveClassifier        0.55               0.54     0.54      0.54   \n",
       "GaussianNB                         0.55               0.54     0.54      0.51   \n",
       "DummyClassifier                    0.50               0.50     0.50      0.50   \n",
       "\n",
       "                               Time Taken  \n",
       "Model                                      \n",
       "RandomForestClassifier               1.98  \n",
       "LGBMClassifier                       0.18  \n",
       "ExtraTreesClassifier                 1.19  \n",
       "XGBClassifier                        0.45  \n",
       "BaggingClassifier                    0.59  \n",
       "SVC                                  6.74  \n",
       "AdaBoostClassifier                   0.47  \n",
       "SGDClassifier                        0.07  \n",
       "KNeighborsClassifier                 0.23  \n",
       "LabelPropagation                     6.74  \n",
       "LabelSpreading                      10.22  \n",
       "CalibratedClassifierCV               3.37  \n",
       "LogisticRegression                   0.04  \n",
       "LinearSVC                            0.88  \n",
       "NuSVC                               36.90  \n",
       "LinearDiscriminantAnalysis           0.05  \n",
       "RidgeClassifier                      0.02  \n",
       "RidgeClassifierCV                    0.04  \n",
       "DecisionTreeClassifier               0.14  \n",
       "BernoulliNB                          0.02  \n",
       "NearestCentroid                      0.02  \n",
       "ExtraTreeClassifier                  0.03  \n",
       "Perceptron                           0.03  \n",
       "QuadraticDiscriminantAnalysis        0.02  \n",
       "PassiveAggressiveClassifier          0.03  \n",
       "GaussianNB                           0.02  \n",
       "DummyClassifier                      0.02  "
      ],
      "text/html": "<div>\n<style scoped>\n    .dataframe tbody tr th:only-of-type {\n        vertical-align: middle;\n    }\n\n    .dataframe tbody tr th {\n        vertical-align: top;\n    }\n\n    .dataframe thead th {\n        text-align: right;\n    }\n</style>\n<table border=\"1\" class=\"dataframe\">\n  <thead>\n    <tr style=\"text-align: right;\">\n      <th></th>\n      <th>Accuracy</th>\n      <th>Balanced Accuracy</th>\n      <th>ROC AUC</th>\n      <th>F1 Score</th>\n      <th>Time Taken</th>\n    </tr>\n    <tr>\n      <th>Model</th>\n      <th></th>\n      <th></th>\n      <th></th>\n      <th></th>\n      <th></th>\n    </tr>\n  </thead>\n  <tbody>\n    <tr>\n      <th>RandomForestClassifier</th>\n      <td>0.65</td>\n      <td>0.65</td>\n      <td>0.65</td>\n      <td>0.65</td>\n      <td>1.98</td>\n    </tr>\n    <tr>\n      <th>LGBMClassifier</th>\n      <td>0.65</td>\n      <td>0.65</td>\n      <td>0.65</td>\n      <td>0.65</td>\n      <td>0.18</td>\n    </tr>\n    <tr>\n      <th>ExtraTreesClassifier</th>\n      <td>0.65</td>\n      <td>0.65</td>\n      <td>0.65</td>\n      <td>0.65</td>\n      <td>1.19</td>\n    </tr>\n    <tr>\n      <th>XGBClassifier</th>\n      <td>0.62</td>\n      <td>0.62</td>\n      <td>0.62</td>\n      <td>0.62</td>\n      <td>0.45</td>\n    </tr>\n    <tr>\n      <th>BaggingClassifier</th>\n      <td>0.62</td>\n      <td>0.62</td>\n      <td>0.62</td>\n      <td>0.62</td>\n      <td>0.59</td>\n    </tr>\n    <tr>\n      <th>SVC</th>\n      <td>0.62</td>\n      <td>0.62</td>\n      <td>0.62</td>\n      <td>0.62</td>\n      <td>6.74</td>\n    </tr>\n    <tr>\n      <th>AdaBoostClassifier</th>\n      <td>0.60</td>\n      <td>0.60</td>\n      <td>0.60</td>\n      <td>0.60</td>\n      <td>0.47</td>\n    </tr>\n    <tr>\n      <th>SGDClassifier</th>\n      <td>0.60</td>\n      <td>0.60</td>\n      <td>0.60</td>\n      <td>0.60</td>\n      <td>0.07</td>\n    </tr>\n    <tr>\n      <th>KNeighborsClassifier</th>\n      <td>0.60</td>\n      <td>0.60</td>\n      <td>0.60</td>\n      <td>0.60</td>\n      <td>0.23</td>\n    </tr>\n    <tr>\n      <th>LabelPropagation</th>\n      <td>0.60</td>\n      <td>0.60</td>\n      <td>0.60</td>\n      <td>0.60</td>\n      <td>6.74</td>\n    </tr>\n    <tr>\n      <th>LabelSpreading</th>\n      <td>0.60</td>\n      <td>0.60</td>\n      <td>0.60</td>\n      <td>0.60</td>\n      <td>10.22</td>\n    </tr>\n    <tr>\n      <th>CalibratedClassifierCV</th>\n      <td>0.59</td>\n      <td>0.59</td>\n      <td>0.59</td>\n      <td>0.59</td>\n      <td>3.37</td>\n    </tr>\n    <tr>\n      <th>LogisticRegression</th>\n      <td>0.59</td>\n      <td>0.59</td>\n      <td>0.59</td>\n      <td>0.59</td>\n      <td>0.04</td>\n    </tr>\n    <tr>\n      <th>LinearSVC</th>\n      <td>0.59</td>\n      <td>0.59</td>\n      <td>0.59</td>\n      <td>0.59</td>\n      <td>0.88</td>\n    </tr>\n    <tr>\n      <th>NuSVC</th>\n      <td>0.59</td>\n      <td>0.59</td>\n      <td>0.59</td>\n      <td>0.59</td>\n      <td>36.90</td>\n    </tr>\n    <tr>\n      <th>LinearDiscriminantAnalysis</th>\n      <td>0.59</td>\n      <td>0.59</td>\n      <td>0.59</td>\n      <td>0.58</td>\n      <td>0.05</td>\n    </tr>\n    <tr>\n      <th>RidgeClassifier</th>\n      <td>0.59</td>\n      <td>0.59</td>\n      <td>0.59</td>\n      <td>0.58</td>\n      <td>0.02</td>\n    </tr>\n    <tr>\n      <th>RidgeClassifierCV</th>\n      <td>0.59</td>\n      <td>0.59</td>\n      <td>0.59</td>\n      <td>0.58</td>\n      <td>0.04</td>\n    </tr>\n    <tr>\n      <th>DecisionTreeClassifier</th>\n      <td>0.59</td>\n      <td>0.59</td>\n      <td>0.59</td>\n      <td>0.59</td>\n      <td>0.14</td>\n    </tr>\n    <tr>\n      <th>BernoulliNB</th>\n      <td>0.59</td>\n      <td>0.58</td>\n      <td>0.58</td>\n      <td>0.58</td>\n      <td>0.02</td>\n    </tr>\n    <tr>\n      <th>NearestCentroid</th>\n      <td>0.57</td>\n      <td>0.56</td>\n      <td>0.56</td>\n      <td>0.56</td>\n      <td>0.02</td>\n    </tr>\n    <tr>\n      <th>ExtraTreeClassifier</th>\n      <td>0.56</td>\n      <td>0.56</td>\n      <td>0.56</td>\n      <td>0.56</td>\n      <td>0.03</td>\n    </tr>\n    <tr>\n      <th>Perceptron</th>\n      <td>0.55</td>\n      <td>0.55</td>\n      <td>0.55</td>\n      <td>0.55</td>\n      <td>0.03</td>\n    </tr>\n    <tr>\n      <th>QuadraticDiscriminantAnalysis</th>\n      <td>0.56</td>\n      <td>0.55</td>\n      <td>0.55</td>\n      <td>0.51</td>\n      <td>0.02</td>\n    </tr>\n    <tr>\n      <th>PassiveAggressiveClassifier</th>\n      <td>0.55</td>\n      <td>0.54</td>\n      <td>0.54</td>\n      <td>0.54</td>\n      <td>0.03</td>\n    </tr>\n    <tr>\n      <th>GaussianNB</th>\n      <td>0.55</td>\n      <td>0.54</td>\n      <td>0.54</td>\n      <td>0.51</td>\n      <td>0.02</td>\n    </tr>\n    <tr>\n      <th>DummyClassifier</th>\n      <td>0.50</td>\n      <td>0.50</td>\n      <td>0.50</td>\n      <td>0.50</td>\n      <td>0.02</td>\n    </tr>\n  </tbody>\n</table>\n</div>"
     },
     "metadata": {},
     "execution_count": 42
    }
   ],
   "source": [
    "from lazypredict.Supervised import LazyClassifier\n",
    "\n",
    "clf = LazyClassifier(verbose=0,ignore_warnings=False)\n",
    "models, predictions = clf.fit(X_train, X_test, y_train, y_test)\n",
    "models"
   ]
  },
  {
   "cell_type": "code",
   "execution_count": 133,
   "metadata": {},
   "outputs": [
    {
     "output_type": "execute_result",
     "data": {
      "text/plain": [
       "LGBMClassifier(learning_rate=0.003, max_depth=25, min_data_in_leaf=100,\n",
       "               n_estimators=15000, num_leaves=1000, objective='binary')"
      ]
     },
     "metadata": {},
     "execution_count": 133
    }
   ],
   "source": [
    "LGBMCmodel = LGBMClassifier(boosting_type='gbdt', objective='binary', num_leaves= 1000,\n",
    "                                max_depth=25, min_data_in_leaf=100,\n",
    "                                learning_rate=0.003, n_estimators=15000)\n",
    "LGBMCmodel.fit(X_train, y_train)"
   ]
  },
  {
   "cell_type": "code",
   "execution_count": 134,
   "metadata": {},
   "outputs": [
    {
     "output_type": "stream",
     "name": "stdout",
     "text": [
      "LightGBM Model accuracy score: 0.6514\n"
     ]
    }
   ],
   "source": [
    "predict_test = LGBMCmodel.predict(X_test)\n",
    "\n",
    "accuracy=accuracy_score(predict_test, y_test)\n",
    "print('LightGBM Model accuracy score: {0:0.4f}'.format(accuracy_score(y_test, predict_test)))"
   ]
  },
  {
   "cell_type": "code",
   "execution_count": 135,
   "metadata": {},
   "outputs": [
    {
     "output_type": "stream",
     "name": "stdout",
     "text": [
      "Training-set accuracy score: 0.9246\n"
     ]
    }
   ],
   "source": [
    "predict_train = LGBMCmodel.predict(X_train)\n",
    "\n",
    "print('Training-set accuracy score: {0:0.4f}'. format(accuracy_score(y_train, predict_train)))"
   ]
  },
  {
   "cell_type": "code",
   "execution_count": 136,
   "metadata": {},
   "outputs": [
    {
     "output_type": "stream",
     "name": "stdout",
     "text": [
      "Confusion matrix\n\n [[1829 1002]\n [ 895 1715]]\n\nTrue Positives(TP) =  1829\n\nTrue Negatives(TN) =  1715\n\nFalse Positives(FP) =  1002\n\nFalse Negatives(FN) =  895\n"
     ]
    }
   ],
   "source": [
    "from sklearn.metrics import confusion_matrix\n",
    "cm = confusion_matrix(y_test, predict_test)\n",
    "print('Confusion matrix\\n\\n', cm)\n",
    "print('\\nTrue Positives(TP) = ', cm[0,0])\n",
    "print('\\nTrue Negatives(TN) = ', cm[1,1])\n",
    "print('\\nFalse Positives(FP) = ', cm[0,1])\n",
    "print('\\nFalse Negatives(FN) = ', cm[1,0])"
   ]
  },
  {
   "cell_type": "code",
   "execution_count": 180,
   "metadata": {},
   "outputs": [
    {
     "output_type": "display_data",
     "data": {
      "text/plain": "<IPython.core.display.Javascript object>",
      "application/javascript": "\n        if (window._pyforest_update_imports_cell) { window._pyforest_update_imports_cell('from sklearn.model_selection import train_test_split\\nfrom sklearn.ensemble import RandomForestClassifier'); }\n    "
     },
     "metadata": {}
    },
    {
     "output_type": "stream",
     "name": "stderr",
     "text": [
      "[Parallel(n_jobs=10000)]: Using backend ThreadingBackend with 10000 concurrent workers.\n",
      "building tree 1 of 100building tree 2 of 100building tree 3 of 100building tree 4 of 100building tree 5 of 100building tree 6 of 100building tree 7 of 100building tree 8 of 100building tree 9 of 100building tree 10 of 100building tree 11 of 100building tree 12 of 100building tree 13 of 100building tree 14 of 100building tree 15 of 100building tree 16 of 100building tree 17 of 100building tree 18 of 100building tree 19 of 100building tree 20 of 100building tree 21 of 100building tree 22 of 100building tree 23 of 100building tree 24 of 100building tree 25 of 100building tree 26 of 100building tree 27 of 100building tree 28 of 100building tree 29 of 100building tree 30 of 100building tree 31 of 100building tree 32 of 100\n",
      "\n",
      "\n",
      "\n",
      "\n",
      "\n",
      "\n",
      "\n",
      "building tree 33 of 100building tree 34 of 100building tree 35 of 100building tree 36 of 100building tree 37 of 100building tree 38 of 100building tree 39 of 100\n",
      "\n",
      "\n",
      "\n",
      "\n",
      "\n",
      "\n",
      "\n",
      "building tree 40 of 100building tree 41 of 100building tree 42 of 100building tree 43 of 100building tree 44 of 100building tree 45 of 100building tree 46 of 100building tree 47 of 100building tree 48 of 100building tree 49 of 100building tree 50 of 100building tree 51 of 100building tree 52 of 100building tree 53 of 100building tree 54 of 100building tree 55 of 100building tree 56 of 100building tree 57 of 100building tree 58 of 100building tree 59 of 100building tree 60 of 100building tree 61 of 100building tree 62 of 100building tree 63 of 100building tree 64 of 100building tree 65 of 100building tree 66 of 100building tree 67 of 100building tree 68 of 100\n",
      "\n",
      "\n",
      "\n",
      "\n",
      "\n",
      "building tree 69 of 100\n",
      "\n",
      "\n",
      "\n",
      "\n",
      "\n",
      "\n",
      "\n",
      "\n",
      "\n",
      "\n",
      "\n",
      "building tree 70 of 100building tree 71 of 100building tree 72 of 100\n",
      "building tree 73 of 100\n",
      "\n",
      "building tree 74 of 100\n",
      "\n",
      "building tree 75 of 100building tree 76 of 100\n",
      "building tree 77 of 100\n",
      "building tree 78 of 100building tree 79 of 100building tree 80 of 100\n",
      "\n",
      "building tree 81 of 100\n",
      "\n",
      "\n",
      "\n",
      "\n",
      "\n",
      "\n",
      "\n",
      "\n",
      "building tree 82 of 100building tree 83 of 100building tree 84 of 100building tree 85 of 100\n",
      "building tree 86 of 100building tree 87 of 100\n",
      "building tree 88 of 100building tree 89 of 100building tree 90 of 100building tree 91 of 100building tree 92 of 100building tree 93 of 100\n",
      "\n",
      "\n",
      "\n",
      "\n",
      "\n",
      "\n",
      "\n",
      "\n",
      "\n",
      "\n",
      "\n",
      "\n",
      "\n",
      "\n",
      "\n",
      "\n",
      "\n",
      "building tree 94 of 100\n",
      "\n",
      "\n",
      "\n",
      "\n",
      "\n",
      "\n",
      "\n",
      "\n",
      "building tree 95 of 100building tree 96 of 100building tree 97 of 100\n",
      "building tree 98 of 100building tree 99 of 100\n",
      "\n",
      "\n",
      "\n",
      "\n",
      "\n",
      "\n",
      "\n",
      "\n",
      "\n",
      "\n",
      "building tree 100 of 100\n",
      "\n",
      "\n",
      "\n",
      "\n",
      "\n",
      "\n",
      "[Parallel(n_jobs=10000)]: Done  42 out of 100 | elapsed:    6.6s remaining:    9.1s\n",
      "[Parallel(n_jobs=10000)]: Done  93 out of 100 | elapsed:    6.7s remaining:    0.5s\n",
      "[Parallel(n_jobs=10000)]: Done 100 out of 100 | elapsed:    6.7s finished\n",
      "[Parallel(n_jobs=100)]: Using backend ThreadingBackend with 100 concurrent workers.\n",
      "[Parallel(n_jobs=100)]: Done   3 out of 100 | elapsed:    0.0s remaining:    1.1s\n",
      "[Parallel(n_jobs=100)]: Done  54 out of 100 | elapsed:    0.0s remaining:    0.0s\n",
      "[Parallel(n_jobs=100)]: Done 100 out of 100 | elapsed:    0.0s finished\n"
     ]
    }
   ],
   "source": [
    "rf = RandomForestClassifier(n_estimators=100, max_depth=25, n_jobs=10000, verbose=2)\n",
    "rf.fit(X_train,y_train)\n",
    "\n",
    "predict_rf = rf.predict(X_test)"
   ]
  },
  {
   "cell_type": "code",
   "execution_count": 181,
   "metadata": {},
   "outputs": [
    {
     "output_type": "stream",
     "name": "stdout",
     "text": [
      "Accuracy: 0.6583348649145377\n"
     ]
    }
   ],
   "source": [
    "print(\"Accuracy:\", metrics.accuracy_score(y_test, predict_rf))"
   ]
  },
  {
   "source": [
    "2 month testing"
   ],
   "cell_type": "markdown",
   "metadata": {}
  },
  {
   "cell_type": "code",
   "execution_count": 182,
   "metadata": {},
   "outputs": [
    {
     "output_type": "execute_result",
     "data": {
      "text/plain": [
       "   Zip_Code  Year  Month  Mobility_Rate  Expense_Index  Crime_Index  \\\n",
       "0     32003  2019      1           0.18            104           28   \n",
       "1     32003  2019      2           0.18            104           28   \n",
       "2     32003  2019      3           0.18            104           28   \n",
       "3     32003  2019      4           0.18            104           28   \n",
       "4     32003  2019      5           0.18            104           28   \n",
       "\n",
       "   Total_Vacant  Total_Dwellings  Total_Sales  FHA_Count  Home_Affordability  \\\n",
       "0           704            11724           32          7                0.13   \n",
       "1           704            11724           41          2                0.14   \n",
       "2           704            11724           21          7                0.14   \n",
       "3           704            11724           42          3                0.13   \n",
       "4           704            11724           66          8                0.14   \n",
       "\n",
       "   Rent_Affordability  Sale_Price  Last_Month_Price  Last_2Month_Price  \\\n",
       "0                0.14   244950.00               nan                nan   \n",
       "1                0.14   270000.00         244950.00                nan   \n",
       "2                0.14   275000.00         270000.00          244950.00   \n",
       "3                0.14   264500.00         275000.00          270000.00   \n",
       "4                0.14   281000.00         264500.00          275000.00   \n",
       "\n",
       "   Last_Month_Diff  Last_2Month_Diff  Price_Change_1mo  Price_Change_2mo  \n",
       "0              nan               nan                 0                 0  \n",
       "1         25050.00               nan                 1                 0  \n",
       "2          5000.00          30050.00                 1                 1  \n",
       "3        -10500.00          -5500.00                 0                 0  \n",
       "4         16500.00           6000.00                 1                 1  "
      ],
      "text/html": "<div>\n<style scoped>\n    .dataframe tbody tr th:only-of-type {\n        vertical-align: middle;\n    }\n\n    .dataframe tbody tr th {\n        vertical-align: top;\n    }\n\n    .dataframe thead th {\n        text-align: right;\n    }\n</style>\n<table border=\"1\" class=\"dataframe\">\n  <thead>\n    <tr style=\"text-align: right;\">\n      <th></th>\n      <th>Zip_Code</th>\n      <th>Year</th>\n      <th>Month</th>\n      <th>Mobility_Rate</th>\n      <th>Expense_Index</th>\n      <th>Crime_Index</th>\n      <th>Total_Vacant</th>\n      <th>Total_Dwellings</th>\n      <th>Total_Sales</th>\n      <th>FHA_Count</th>\n      <th>Home_Affordability</th>\n      <th>Rent_Affordability</th>\n      <th>Sale_Price</th>\n      <th>Last_Month_Price</th>\n      <th>Last_2Month_Price</th>\n      <th>Last_Month_Diff</th>\n      <th>Last_2Month_Diff</th>\n      <th>Price_Change_1mo</th>\n      <th>Price_Change_2mo</th>\n    </tr>\n  </thead>\n  <tbody>\n    <tr>\n      <th>0</th>\n      <td>32003</td>\n      <td>2019</td>\n      <td>1</td>\n      <td>0.18</td>\n      <td>104</td>\n      <td>28</td>\n      <td>704</td>\n      <td>11724</td>\n      <td>32</td>\n      <td>7</td>\n      <td>0.13</td>\n      <td>0.14</td>\n      <td>244950.00</td>\n      <td>nan</td>\n      <td>nan</td>\n      <td>nan</td>\n      <td>nan</td>\n      <td>0</td>\n      <td>0</td>\n    </tr>\n    <tr>\n      <th>1</th>\n      <td>32003</td>\n      <td>2019</td>\n      <td>2</td>\n      <td>0.18</td>\n      <td>104</td>\n      <td>28</td>\n      <td>704</td>\n      <td>11724</td>\n      <td>41</td>\n      <td>2</td>\n      <td>0.14</td>\n      <td>0.14</td>\n      <td>270000.00</td>\n      <td>244950.00</td>\n      <td>nan</td>\n      <td>25050.00</td>\n      <td>nan</td>\n      <td>1</td>\n      <td>0</td>\n    </tr>\n    <tr>\n      <th>2</th>\n      <td>32003</td>\n      <td>2019</td>\n      <td>3</td>\n      <td>0.18</td>\n      <td>104</td>\n      <td>28</td>\n      <td>704</td>\n      <td>11724</td>\n      <td>21</td>\n      <td>7</td>\n      <td>0.14</td>\n      <td>0.14</td>\n      <td>275000.00</td>\n      <td>270000.00</td>\n      <td>244950.00</td>\n      <td>5000.00</td>\n      <td>30050.00</td>\n      <td>1</td>\n      <td>1</td>\n    </tr>\n    <tr>\n      <th>3</th>\n      <td>32003</td>\n      <td>2019</td>\n      <td>4</td>\n      <td>0.18</td>\n      <td>104</td>\n      <td>28</td>\n      <td>704</td>\n      <td>11724</td>\n      <td>42</td>\n      <td>3</td>\n      <td>0.13</td>\n      <td>0.14</td>\n      <td>264500.00</td>\n      <td>275000.00</td>\n      <td>270000.00</td>\n      <td>-10500.00</td>\n      <td>-5500.00</td>\n      <td>0</td>\n      <td>0</td>\n    </tr>\n    <tr>\n      <th>4</th>\n      <td>32003</td>\n      <td>2019</td>\n      <td>5</td>\n      <td>0.18</td>\n      <td>104</td>\n      <td>28</td>\n      <td>704</td>\n      <td>11724</td>\n      <td>66</td>\n      <td>8</td>\n      <td>0.14</td>\n      <td>0.14</td>\n      <td>281000.00</td>\n      <td>264500.00</td>\n      <td>275000.00</td>\n      <td>16500.00</td>\n      <td>6000.00</td>\n      <td>1</td>\n      <td>1</td>\n    </tr>\n  </tbody>\n</table>\n</div>"
     },
     "metadata": {},
     "execution_count": 182
    }
   ],
   "source": [
    "price_change_1mo = []\n",
    "price_change_2mo = []\n",
    "\n",
    "for row in ml_data_2mo['Last_Month_Diff']:\n",
    "    if row > 0:\n",
    "        price_change_1mo.append(1)\n",
    "    else:\n",
    "        price_change_1mo.append(0)\n",
    "\n",
    "for row in ml_data_2mo['Last_2Month_Diff']:\n",
    "    if row > 0:\n",
    "        price_change_2mo.append(1)\n",
    "    else:\n",
    "        price_change_2mo.append(0)\n",
    "ml_data_2mo['Price_Change_1mo'] = price_change_1mo\n",
    "ml_data_2mo['Price_Change_2mo'] = price_change_2mo\n",
    "\n",
    "ml_data_2mo.head()"
   ]
  },
  {
   "cell_type": "code",
   "execution_count": 183,
   "metadata": {},
   "outputs": [
    {
     "output_type": "execute_result",
     "data": {
      "text/plain": [
       "   Mobility_Rate  Expense_Index  Crime_Index  Total_Vacant  Total_Dwellings  \\\n",
       "0           0.18            104           28           704            11724   \n",
       "1           0.18            104           28           704            11724   \n",
       "2           0.18            104           28           704            11724   \n",
       "3           0.18            104           28           704            11724   \n",
       "4           0.18            104           28           704            11724   \n",
       "\n",
       "   Total_Sales  FHA_Count  Home_Affordability  Rent_Affordability  Sale_Price  \\\n",
       "0           32          7                0.13                0.14   244950.00   \n",
       "1           41          2                0.14                0.14   270000.00   \n",
       "2           21          7                0.14                0.14   275000.00   \n",
       "3           42          3                0.13                0.14   264500.00   \n",
       "4           66          8                0.14                0.14   281000.00   \n",
       "\n",
       "   Price_Change_2mo  \n",
       "0                 0  \n",
       "1                 0  \n",
       "2                 1  \n",
       "3                 0  \n",
       "4                 1  "
      ],
      "text/html": "<div>\n<style scoped>\n    .dataframe tbody tr th:only-of-type {\n        vertical-align: middle;\n    }\n\n    .dataframe tbody tr th {\n        vertical-align: top;\n    }\n\n    .dataframe thead th {\n        text-align: right;\n    }\n</style>\n<table border=\"1\" class=\"dataframe\">\n  <thead>\n    <tr style=\"text-align: right;\">\n      <th></th>\n      <th>Mobility_Rate</th>\n      <th>Expense_Index</th>\n      <th>Crime_Index</th>\n      <th>Total_Vacant</th>\n      <th>Total_Dwellings</th>\n      <th>Total_Sales</th>\n      <th>FHA_Count</th>\n      <th>Home_Affordability</th>\n      <th>Rent_Affordability</th>\n      <th>Sale_Price</th>\n      <th>Price_Change_2mo</th>\n    </tr>\n  </thead>\n  <tbody>\n    <tr>\n      <th>0</th>\n      <td>0.18</td>\n      <td>104</td>\n      <td>28</td>\n      <td>704</td>\n      <td>11724</td>\n      <td>32</td>\n      <td>7</td>\n      <td>0.13</td>\n      <td>0.14</td>\n      <td>244950.00</td>\n      <td>0</td>\n    </tr>\n    <tr>\n      <th>1</th>\n      <td>0.18</td>\n      <td>104</td>\n      <td>28</td>\n      <td>704</td>\n      <td>11724</td>\n      <td>41</td>\n      <td>2</td>\n      <td>0.14</td>\n      <td>0.14</td>\n      <td>270000.00</td>\n      <td>0</td>\n    </tr>\n    <tr>\n      <th>2</th>\n      <td>0.18</td>\n      <td>104</td>\n      <td>28</td>\n      <td>704</td>\n      <td>11724</td>\n      <td>21</td>\n      <td>7</td>\n      <td>0.14</td>\n      <td>0.14</td>\n      <td>275000.00</td>\n      <td>1</td>\n    </tr>\n    <tr>\n      <th>3</th>\n      <td>0.18</td>\n      <td>104</td>\n      <td>28</td>\n      <td>704</td>\n      <td>11724</td>\n      <td>42</td>\n      <td>3</td>\n      <td>0.13</td>\n      <td>0.14</td>\n      <td>264500.00</td>\n      <td>0</td>\n    </tr>\n    <tr>\n      <th>4</th>\n      <td>0.18</td>\n      <td>104</td>\n      <td>28</td>\n      <td>704</td>\n      <td>11724</td>\n      <td>66</td>\n      <td>8</td>\n      <td>0.14</td>\n      <td>0.14</td>\n      <td>281000.00</td>\n      <td>1</td>\n    </tr>\n  </tbody>\n</table>\n</div>"
     },
     "metadata": {},
     "execution_count": 183
    }
   ],
   "source": [
    "ml_data_2mo = ml_data_2mo.drop(columns=['Zip_Code', 'Year', 'Month','Last_Month_Diff',\n",
    "                            'Last_Month_Price', 'Last_2Month_Price', 'Last_2Month_Diff',\n",
    "                            'Price_Change_1mo',])\n",
    "ml_data_2mo.head()"
   ]
  },
  {
   "cell_type": "code",
   "execution_count": 184,
   "metadata": {},
   "outputs": [],
   "source": [
    "ml_data_2mo.replace([np.inf, -np.inf], np.nan, inplace=True)\n",
    "ml_data_2mo.dropna(inplace=True)"
   ]
  },
  {
   "cell_type": "code",
   "execution_count": 206,
   "metadata": {},
   "outputs": [
    {
     "output_type": "execute_result",
     "data": {
      "text/plain": [
       "       Mobility_Rate  Expense_Index  Crime_Index  Total_Vacant  \\\n",
       "0               0.18            104           28           704   \n",
       "1               0.18            104           28           704   \n",
       "2               0.18            104           28           704   \n",
       "3               0.18            104           28           704   \n",
       "4               0.18            104           28           704   \n",
       "...              ...            ...          ...           ...   \n",
       "21759           0.14             91          113          2976   \n",
       "21760           0.14             91          113          2976   \n",
       "21761           0.14             91          113          2976   \n",
       "21762           0.14             91          113          2976   \n",
       "21763           0.14             91          113          2976   \n",
       "\n",
       "       Total_Dwellings  Total_Sales  FHA_Count  Home_Affordability  \\\n",
       "0                11724           32          7                0.13   \n",
       "1                11724           41          2                0.14   \n",
       "2                11724           21          7                0.14   \n",
       "3                11724           42          3                0.13   \n",
       "4                11724           66          8                0.14   \n",
       "...                ...          ...        ...                 ...   \n",
       "21759            21551          139         17                0.19   \n",
       "21760            21551          132         11                0.17   \n",
       "21761            21551          132         11                0.17   \n",
       "21762            21551          142         16                0.20   \n",
       "21763            21551          142         16                0.20   \n",
       "\n",
       "       Rent_Affordability  Sale_Price  \n",
       "0                    0.14   244950.00  \n",
       "1                    0.14   270000.00  \n",
       "2                    0.14   275000.00  \n",
       "3                    0.14   264500.00  \n",
       "4                    0.14   281000.00  \n",
       "...                   ...         ...  \n",
       "21759                0.25   285000.00  \n",
       "21760                0.25   259750.00  \n",
       "21761                0.25   259750.00  \n",
       "21762                0.25   297000.00  \n",
       "21763                0.25   297000.00  \n",
       "\n",
       "[21764 rows x 10 columns]"
      ],
      "text/html": "<div>\n<style scoped>\n    .dataframe tbody tr th:only-of-type {\n        vertical-align: middle;\n    }\n\n    .dataframe tbody tr th {\n        vertical-align: top;\n    }\n\n    .dataframe thead th {\n        text-align: right;\n    }\n</style>\n<table border=\"1\" class=\"dataframe\">\n  <thead>\n    <tr style=\"text-align: right;\">\n      <th></th>\n      <th>Mobility_Rate</th>\n      <th>Expense_Index</th>\n      <th>Crime_Index</th>\n      <th>Total_Vacant</th>\n      <th>Total_Dwellings</th>\n      <th>Total_Sales</th>\n      <th>FHA_Count</th>\n      <th>Home_Affordability</th>\n      <th>Rent_Affordability</th>\n      <th>Sale_Price</th>\n    </tr>\n  </thead>\n  <tbody>\n    <tr>\n      <th>0</th>\n      <td>0.18</td>\n      <td>104</td>\n      <td>28</td>\n      <td>704</td>\n      <td>11724</td>\n      <td>32</td>\n      <td>7</td>\n      <td>0.13</td>\n      <td>0.14</td>\n      <td>244950.00</td>\n    </tr>\n    <tr>\n      <th>1</th>\n      <td>0.18</td>\n      <td>104</td>\n      <td>28</td>\n      <td>704</td>\n      <td>11724</td>\n      <td>41</td>\n      <td>2</td>\n      <td>0.14</td>\n      <td>0.14</td>\n      <td>270000.00</td>\n    </tr>\n    <tr>\n      <th>2</th>\n      <td>0.18</td>\n      <td>104</td>\n      <td>28</td>\n      <td>704</td>\n      <td>11724</td>\n      <td>21</td>\n      <td>7</td>\n      <td>0.14</td>\n      <td>0.14</td>\n      <td>275000.00</td>\n    </tr>\n    <tr>\n      <th>3</th>\n      <td>0.18</td>\n      <td>104</td>\n      <td>28</td>\n      <td>704</td>\n      <td>11724</td>\n      <td>42</td>\n      <td>3</td>\n      <td>0.13</td>\n      <td>0.14</td>\n      <td>264500.00</td>\n    </tr>\n    <tr>\n      <th>4</th>\n      <td>0.18</td>\n      <td>104</td>\n      <td>28</td>\n      <td>704</td>\n      <td>11724</td>\n      <td>66</td>\n      <td>8</td>\n      <td>0.14</td>\n      <td>0.14</td>\n      <td>281000.00</td>\n    </tr>\n    <tr>\n      <th>...</th>\n      <td>...</td>\n      <td>...</td>\n      <td>...</td>\n      <td>...</td>\n      <td>...</td>\n      <td>...</td>\n      <td>...</td>\n      <td>...</td>\n      <td>...</td>\n      <td>...</td>\n    </tr>\n    <tr>\n      <th>21759</th>\n      <td>0.14</td>\n      <td>91</td>\n      <td>113</td>\n      <td>2976</td>\n      <td>21551</td>\n      <td>139</td>\n      <td>17</td>\n      <td>0.19</td>\n      <td>0.25</td>\n      <td>285000.00</td>\n    </tr>\n    <tr>\n      <th>21760</th>\n      <td>0.14</td>\n      <td>91</td>\n      <td>113</td>\n      <td>2976</td>\n      <td>21551</td>\n      <td>132</td>\n      <td>11</td>\n      <td>0.17</td>\n      <td>0.25</td>\n      <td>259750.00</td>\n    </tr>\n    <tr>\n      <th>21761</th>\n      <td>0.14</td>\n      <td>91</td>\n      <td>113</td>\n      <td>2976</td>\n      <td>21551</td>\n      <td>132</td>\n      <td>11</td>\n      <td>0.17</td>\n      <td>0.25</td>\n      <td>259750.00</td>\n    </tr>\n    <tr>\n      <th>21762</th>\n      <td>0.14</td>\n      <td>91</td>\n      <td>113</td>\n      <td>2976</td>\n      <td>21551</td>\n      <td>142</td>\n      <td>16</td>\n      <td>0.20</td>\n      <td>0.25</td>\n      <td>297000.00</td>\n    </tr>\n    <tr>\n      <th>21763</th>\n      <td>0.14</td>\n      <td>91</td>\n      <td>113</td>\n      <td>2976</td>\n      <td>21551</td>\n      <td>142</td>\n      <td>16</td>\n      <td>0.20</td>\n      <td>0.25</td>\n      <td>297000.00</td>\n    </tr>\n  </tbody>\n</table>\n<p>21764 rows × 10 columns</p>\n</div>"
     },
     "metadata": {},
     "execution_count": 206
    }
   ],
   "source": [
    "y_value = ml_data_2mo['Price_Change_2mo'].values\n",
    "\n",
    "x_values = ml_data_2mo.drop(columns='Price_Change_2mo')\n",
    "\n",
    "feature_names = x_values.columns\n",
    "\n",
    "x_values"
   ]
  },
  {
   "cell_type": "code",
   "execution_count": 207,
   "metadata": {},
   "outputs": [],
   "source": [
    "X_train, X_test, y_train, y_test = train_test_split(x_values, y_value, random_state=42)"
   ]
  },
  {
   "cell_type": "code",
   "execution_count": 208,
   "metadata": {},
   "outputs": [
    {
     "output_type": "execute_result",
     "data": {
      "text/plain": [
       "LGBMClassifier(learning_rate=0.003, max_depth=25, min_data_in_leaf=100,\n",
       "               n_estimators=15000, num_leaves=1000, objective='binary')"
      ]
     },
     "metadata": {},
     "execution_count": 208
    }
   ],
   "source": [
    "LGBMCmodel = LGBMClassifier(boosting_type='gbdt', objective='binary', num_leaves= 1000,\n",
    "                                max_depth=25, min_data_in_leaf=100,\n",
    "                                learning_rate=0.003, n_estimators=15000)\n",
    "LGBMCmodel.fit(X_train, y_train)"
   ]
  },
  {
   "cell_type": "code",
   "execution_count": 209,
   "metadata": {},
   "outputs": [
    {
     "output_type": "stream",
     "name": "stdout",
     "text": [
      "LightGBM Model accuracy score: 0.6694\n"
     ]
    }
   ],
   "source": [
    "predict_test = LGBMCmodel.predict(X_test)\n",
    "\n",
    "accuracy=accuracy_score(predict_test, y_test)\n",
    "print('LightGBM Model accuracy score: {0:0.4f}'.format(accuracy_score(y_test, predict_test)))"
   ]
  },
  {
   "cell_type": "code",
   "execution_count": 210,
   "metadata": {},
   "outputs": [
    {
     "output_type": "stream",
     "name": "stdout",
     "text": [
      "Training-set accuracy score: 0.9409\n"
     ]
    }
   ],
   "source": [
    "predict_train = LGBMCmodel.predict(X_train)\n",
    "\n",
    "print('Training-set accuracy score: {0:0.4f}'. format(accuracy_score(y_train, predict_train)))"
   ]
  },
  {
   "cell_type": "code",
   "execution_count": 211,
   "metadata": {},
   "outputs": [
    {
     "output_type": "stream",
     "name": "stdout",
     "text": [
      "Confusion matrix\n\n [[1738  933]\n [ 866 1904]]\n\nTrue Positives(TP) =  1738\n\nTrue Negatives(TN) =  1904\n\nFalse Positives(FP) =  933\n\nFalse Negatives(FN) =  866\n"
     ]
    }
   ],
   "source": [
    "from sklearn.metrics import confusion_matrix\n",
    "cm = confusion_matrix(y_test, predict_test)\n",
    "print('Confusion matrix\\n\\n', cm)\n",
    "print('\\nTrue Positives(TP) = ', cm[0,0])\n",
    "print('\\nTrue Negatives(TN) = ', cm[1,1])\n",
    "print('\\nFalse Positives(FP) = ', cm[0,1])\n",
    "print('\\nFalse Negatives(FN) = ', cm[1,0])"
   ]
  },
  {
   "cell_type": "code",
   "execution_count": 187,
   "metadata": {},
   "outputs": [
    {
     "output_type": "display_data",
     "data": {
      "text/plain": "<IPython.core.display.Javascript object>",
      "application/javascript": "\n        if (window._pyforest_update_imports_cell) { window._pyforest_update_imports_cell('from sklearn.model_selection import train_test_split\\nfrom sklearn.ensemble import RandomForestClassifier'); }\n    "
     },
     "metadata": {}
    },
    {
     "output_type": "stream",
     "name": "stderr",
     "text": [
      "[Parallel(n_jobs=10000)]: Using backend ThreadingBackend with 10000 concurrent workers.\n",
      "building tree 1 of 100building tree 2 of 100building tree 3 of 100building tree 4 of 100building tree 5 of 100building tree 6 of 100building tree 7 of 100building tree 8 of 100\n",
      "building tree 9 of 100building tree 10 of 100building tree 11 of 100building tree 12 of 100building tree 13 of 100building tree 14 of 100building tree 15 of 100building tree 16 of 100building tree 17 of 100building tree 18 of 100building tree 19 of 100building tree 20 of 100building tree 21 of 100building tree 22 of 100building tree 23 of 100building tree 24 of 100building tree 25 of 100building tree 26 of 100building tree 27 of 100building tree 28 of 100building tree 29 of 100building tree 30 of 100building tree 31 of 100building tree 32 of 100building tree 33 of 100building tree 34 of 100building tree 35 of 100building tree 36 of 100\n",
      "building tree 37 of 100\n",
      "\n",
      "\n",
      "\n",
      "\n",
      "building tree 38 of 100building tree 39 of 100building tree 40 of 100building tree 41 of 100building tree 42 of 100\n",
      "\n",
      "building tree 43 of 100building tree 44 of 100\n",
      "building tree 45 of 100\n",
      "\n",
      "\n",
      "building tree 46 of 100building tree 47 of 100building tree 48 of 100building tree 49 of 100building tree 50 of 100building tree 51 of 100building tree 52 of 100building tree 53 of 100building tree 54 of 100building tree 55 of 100building tree 56 of 100building tree 57 of 100\n",
      "\n",
      "\n",
      "\n",
      "\n",
      "building tree 58 of 100building tree 59 of 100building tree 60 of 100building tree 61 of 100building tree 62 of 100building tree 63 of 100\n",
      "\n",
      "\n",
      "\n",
      "building tree 64 of 100building tree 65 of 100\n",
      "building tree 66 of 100\n",
      "building tree 67 of 100\n",
      "\n",
      "\n",
      "\n",
      "building tree 68 of 100\n",
      "\n",
      "building tree 69 of 100\n",
      "building tree 70 of 100\n",
      "building tree 71 of 100\n",
      "\n",
      "\n",
      "\n",
      "\n",
      "\n",
      "building tree 72 of 100\n",
      "\n",
      "\n",
      "building tree 73 of 100\n",
      "building tree 74 of 100building tree 75 of 100\n",
      "\n",
      "\n",
      "building tree 76 of 100building tree 77 of 100building tree 78 of 100building tree 79 of 100building tree 80 of 100building tree 81 of 100\n",
      "\n",
      "building tree 82 of 100building tree 83 of 100\n",
      "\n",
      "\n",
      "building tree 84 of 100\n",
      "\n",
      "\n",
      "\n",
      "\n",
      "\n",
      "\n",
      "building tree 85 of 100building tree 86 of 100building tree 87 of 100building tree 88 of 100building tree 89 of 100\n",
      "\n",
      "\n",
      "building tree 90 of 100\n",
      "\n",
      "\n",
      "\n",
      "building tree 91 of 100\n",
      "\n",
      "\n",
      "\n",
      "\n",
      "\n",
      "building tree 92 of 100\n",
      "building tree 93 of 100\n",
      "\n",
      "building tree 94 of 100building tree 95 of 100building tree 96 of 100\n",
      "building tree 97 of 100building tree 98 of 100\n",
      "\n",
      "\n",
      "\n",
      "\n",
      "\n",
      "\n",
      "\n",
      "\n",
      "building tree 99 of 100\n",
      "\n",
      "\n",
      "\n",
      "\n",
      "building tree 100 of 100\n",
      "\n",
      "\n",
      "\n",
      "\n",
      "\n",
      "\n",
      "\n",
      "\n",
      "\n",
      "\n",
      "\n",
      "[Parallel(n_jobs=10000)]: Done  42 out of 100 | elapsed:    6.7s remaining:    9.3s\n",
      "[Parallel(n_jobs=10000)]: Done  93 out of 100 | elapsed:    6.8s remaining:    0.5s\n",
      "[Parallel(n_jobs=10000)]: Done 100 out of 100 | elapsed:    6.8s finished\n",
      "[Parallel(n_jobs=100)]: Using backend ThreadingBackend with 100 concurrent workers.\n",
      "[Parallel(n_jobs=100)]: Done   3 out of 100 | elapsed:    0.0s remaining:    1.0s\n",
      "[Parallel(n_jobs=100)]: Done  54 out of 100 | elapsed:    0.0s remaining:    0.0s\n",
      "[Parallel(n_jobs=100)]: Done 100 out of 100 | elapsed:    0.0s finished\n"
     ]
    }
   ],
   "source": [
    "rf = RandomForestClassifier(n_estimators=100, max_depth=25, n_jobs=10000, verbose=2)\n",
    "rf.fit(X_train,y_train)\n",
    "\n",
    "predict_rf = rf.predict(X_test)"
   ]
  },
  {
   "cell_type": "code",
   "execution_count": 188,
   "metadata": {},
   "outputs": [
    {
     "output_type": "stream",
     "name": "stdout",
     "text": [
      "Accuracy: 0.68296269068186\n"
     ]
    }
   ],
   "source": [
    "print(\"Accuracy:\", metrics.accuracy_score(y_test, predict_rf))"
   ]
  },
  {
   "source": [
    "3 month testing"
   ],
   "cell_type": "markdown",
   "metadata": {}
  },
  {
   "cell_type": "code",
   "execution_count": 416,
   "metadata": {},
   "outputs": [
    {
     "output_type": "execute_result",
     "data": {
      "text/plain": [
       "       Zip_Code  Year  Month  Mobility_Rate  Expense_Index  Crime_Index  \\\n",
       "24        32003  2021      1           0.18            104           28   \n",
       "25        32003  2021      2           0.18            104           28   \n",
       "26        32003  2021      3           0.18            104           28   \n",
       "27        32003  2021      4           0.18            104           28   \n",
       "51        32008  2021      1           0.07             82          118   \n",
       "...         ...   ...    ...            ...            ...          ...   \n",
       "24466     34997  2021      1           0.14             91          113   \n",
       "24467     34997  2021      2           0.14             91          113   \n",
       "24468     34997  2021      2           0.14             91          113   \n",
       "24469     34997  2021      3           0.14             91          113   \n",
       "24470     34997  2021      3           0.14             91          113   \n",
       "\n",
       "       Total_Vacant  Total_Dwellings  Total_Sales  FHA_Count  \\\n",
       "24              704            11724           39          6   \n",
       "25              704            11724           30          8   \n",
       "26              704            11724           70          4   \n",
       "27              704            11724            5          8   \n",
       "51              964             3247            6          0   \n",
       "...             ...              ...          ...        ...   \n",
       "24466          2976            21551           81         10   \n",
       "24467          2976            21551          116          7   \n",
       "24468          2976            21551          116          7   \n",
       "24469          2976            21551            7         12   \n",
       "24470          2976            21551            7         12   \n",
       "\n",
       "       Home_Affordability  Rent_Affordability  Sale_Price  Last_Month_Price  \\\n",
       "24                   0.12                0.14   299900.00         294000.00   \n",
       "25                   0.14                0.14   333800.00         299900.00   \n",
       "26                   0.15                0.14   339950.00         333800.00   \n",
       "27                   0.20                0.14   470000.00         339950.00   \n",
       "51                   0.15                0.29   132000.00         169500.00   \n",
       "...                   ...                 ...         ...               ...   \n",
       "24466                0.20                0.25   305000.00         305000.00   \n",
       "24467                0.20                0.25   300000.00         305000.00   \n",
       "24468                0.20                0.25   300000.00         300000.00   \n",
       "24469                0.42                0.25   599000.00         300000.00   \n",
       "24470                0.42                0.25   599000.00         599000.00   \n",
       "\n",
       "       Future_Month_Price  Future_2Month_Price  Future_3Month_Price  \n",
       "24              333800.00            339950.00            470000.00  \n",
       "25              339950.00            470000.00                  nan  \n",
       "26              470000.00                  nan                  nan  \n",
       "27                    nan                  nan                  nan  \n",
       "51               53200.00            140000.00                  nan  \n",
       "...                   ...                  ...                  ...  \n",
       "24466           300000.00            300000.00            599000.00  \n",
       "24467           300000.00            599000.00            599000.00  \n",
       "24468           599000.00            599000.00                  nan  \n",
       "24469           599000.00                  nan                  nan  \n",
       "24470                 nan                  nan                  nan  \n",
       "\n",
       "[2707 rows x 17 columns]"
      ],
      "text/html": "<div>\n<style scoped>\n    .dataframe tbody tr th:only-of-type {\n        vertical-align: middle;\n    }\n\n    .dataframe tbody tr th {\n        vertical-align: top;\n    }\n\n    .dataframe thead th {\n        text-align: right;\n    }\n</style>\n<table border=\"1\" class=\"dataframe\">\n  <thead>\n    <tr style=\"text-align: right;\">\n      <th></th>\n      <th>Zip_Code</th>\n      <th>Year</th>\n      <th>Month</th>\n      <th>Mobility_Rate</th>\n      <th>Expense_Index</th>\n      <th>Crime_Index</th>\n      <th>Total_Vacant</th>\n      <th>Total_Dwellings</th>\n      <th>Total_Sales</th>\n      <th>FHA_Count</th>\n      <th>Home_Affordability</th>\n      <th>Rent_Affordability</th>\n      <th>Sale_Price</th>\n      <th>Last_Month_Price</th>\n      <th>Future_Month_Price</th>\n      <th>Future_2Month_Price</th>\n      <th>Future_3Month_Price</th>\n    </tr>\n  </thead>\n  <tbody>\n    <tr>\n      <th>24</th>\n      <td>32003</td>\n      <td>2021</td>\n      <td>1</td>\n      <td>0.18</td>\n      <td>104</td>\n      <td>28</td>\n      <td>704</td>\n      <td>11724</td>\n      <td>39</td>\n      <td>6</td>\n      <td>0.12</td>\n      <td>0.14</td>\n      <td>299900.00</td>\n      <td>294000.00</td>\n      <td>333800.00</td>\n      <td>339950.00</td>\n      <td>470000.00</td>\n    </tr>\n    <tr>\n      <th>25</th>\n      <td>32003</td>\n      <td>2021</td>\n      <td>2</td>\n      <td>0.18</td>\n      <td>104</td>\n      <td>28</td>\n      <td>704</td>\n      <td>11724</td>\n      <td>30</td>\n      <td>8</td>\n      <td>0.14</td>\n      <td>0.14</td>\n      <td>333800.00</td>\n      <td>299900.00</td>\n      <td>339950.00</td>\n      <td>470000.00</td>\n      <td>nan</td>\n    </tr>\n    <tr>\n      <th>26</th>\n      <td>32003</td>\n      <td>2021</td>\n      <td>3</td>\n      <td>0.18</td>\n      <td>104</td>\n      <td>28</td>\n      <td>704</td>\n      <td>11724</td>\n      <td>70</td>\n      <td>4</td>\n      <td>0.15</td>\n      <td>0.14</td>\n      <td>339950.00</td>\n      <td>333800.00</td>\n      <td>470000.00</td>\n      <td>nan</td>\n      <td>nan</td>\n    </tr>\n    <tr>\n      <th>27</th>\n      <td>32003</td>\n      <td>2021</td>\n      <td>4</td>\n      <td>0.18</td>\n      <td>104</td>\n      <td>28</td>\n      <td>704</td>\n      <td>11724</td>\n      <td>5</td>\n      <td>8</td>\n      <td>0.20</td>\n      <td>0.14</td>\n      <td>470000.00</td>\n      <td>339950.00</td>\n      <td>nan</td>\n      <td>nan</td>\n      <td>nan</td>\n    </tr>\n    <tr>\n      <th>51</th>\n      <td>32008</td>\n      <td>2021</td>\n      <td>1</td>\n      <td>0.07</td>\n      <td>82</td>\n      <td>118</td>\n      <td>964</td>\n      <td>3247</td>\n      <td>6</td>\n      <td>0</td>\n      <td>0.15</td>\n      <td>0.29</td>\n      <td>132000.00</td>\n      <td>169500.00</td>\n      <td>53200.00</td>\n      <td>140000.00</td>\n      <td>nan</td>\n    </tr>\n    <tr>\n      <th>...</th>\n      <td>...</td>\n      <td>...</td>\n      <td>...</td>\n      <td>...</td>\n      <td>...</td>\n      <td>...</td>\n      <td>...</td>\n      <td>...</td>\n      <td>...</td>\n      <td>...</td>\n      <td>...</td>\n      <td>...</td>\n      <td>...</td>\n      <td>...</td>\n      <td>...</td>\n      <td>...</td>\n      <td>...</td>\n    </tr>\n    <tr>\n      <th>24466</th>\n      <td>34997</td>\n      <td>2021</td>\n      <td>1</td>\n      <td>0.14</td>\n      <td>91</td>\n      <td>113</td>\n      <td>2976</td>\n      <td>21551</td>\n      <td>81</td>\n      <td>10</td>\n      <td>0.20</td>\n      <td>0.25</td>\n      <td>305000.00</td>\n      <td>305000.00</td>\n      <td>300000.00</td>\n      <td>300000.00</td>\n      <td>599000.00</td>\n    </tr>\n    <tr>\n      <th>24467</th>\n      <td>34997</td>\n      <td>2021</td>\n      <td>2</td>\n      <td>0.14</td>\n      <td>91</td>\n      <td>113</td>\n      <td>2976</td>\n      <td>21551</td>\n      <td>116</td>\n      <td>7</td>\n      <td>0.20</td>\n      <td>0.25</td>\n      <td>300000.00</td>\n      <td>305000.00</td>\n      <td>300000.00</td>\n      <td>599000.00</td>\n      <td>599000.00</td>\n    </tr>\n    <tr>\n      <th>24468</th>\n      <td>34997</td>\n      <td>2021</td>\n      <td>2</td>\n      <td>0.14</td>\n      <td>91</td>\n      <td>113</td>\n      <td>2976</td>\n      <td>21551</td>\n      <td>116</td>\n      <td>7</td>\n      <td>0.20</td>\n      <td>0.25</td>\n      <td>300000.00</td>\n      <td>300000.00</td>\n      <td>599000.00</td>\n      <td>599000.00</td>\n      <td>nan</td>\n    </tr>\n    <tr>\n      <th>24469</th>\n      <td>34997</td>\n      <td>2021</td>\n      <td>3</td>\n      <td>0.14</td>\n      <td>91</td>\n      <td>113</td>\n      <td>2976</td>\n      <td>21551</td>\n      <td>7</td>\n      <td>12</td>\n      <td>0.42</td>\n      <td>0.25</td>\n      <td>599000.00</td>\n      <td>300000.00</td>\n      <td>599000.00</td>\n      <td>nan</td>\n      <td>nan</td>\n    </tr>\n    <tr>\n      <th>24470</th>\n      <td>34997</td>\n      <td>2021</td>\n      <td>3</td>\n      <td>0.14</td>\n      <td>91</td>\n      <td>113</td>\n      <td>2976</td>\n      <td>21551</td>\n      <td>7</td>\n      <td>12</td>\n      <td>0.42</td>\n      <td>0.25</td>\n      <td>599000.00</td>\n      <td>599000.00</td>\n      <td>nan</td>\n      <td>nan</td>\n      <td>nan</td>\n    </tr>\n  </tbody>\n</table>\n<p>2707 rows × 17 columns</p>\n</div>"
     },
     "metadata": {},
     "execution_count": 416
    }
   ],
   "source": [
    "predict_21 = ml_data_3mo[ml_data_3mo['Year'] == 2021]\n",
    "\n",
    "predict_21"
   ]
  },
  {
   "cell_type": "code",
   "execution_count": 417,
   "metadata": {},
   "outputs": [
    {
     "output_type": "execute_result",
     "data": {
      "text/plain": [
       "   Zip_Code  Year  Month  Mobility_Rate  Expense_Index  Crime_Index  \\\n",
       "0     32003  2019      1           0.18            104           28   \n",
       "1     32003  2019      2           0.18            104           28   \n",
       "2     32003  2019      3           0.18            104           28   \n",
       "3     32003  2019      4           0.18            104           28   \n",
       "4     32003  2019      5           0.18            104           28   \n",
       "\n",
       "   Total_Vacant  Total_Dwellings  Total_Sales  FHA_Count  Home_Affordability  \\\n",
       "0           704            11724           32          7                0.13   \n",
       "1           704            11724           41          2                0.14   \n",
       "2           704            11724           21          7                0.14   \n",
       "3           704            11724           42          3                0.13   \n",
       "4           704            11724           66          8                0.14   \n",
       "\n",
       "   Rent_Affordability  Sale_Price  Last_Month_Price  Future_Month_Price  \\\n",
       "0                0.14   244950.00               nan           270000.00   \n",
       "1                0.14   270000.00         244950.00           275000.00   \n",
       "2                0.14   275000.00         270000.00           264500.00   \n",
       "3                0.14   264500.00         275000.00           281000.00   \n",
       "4                0.14   281000.00         264500.00           275000.00   \n",
       "\n",
       "   Future_2Month_Price  Future_3Month_Price  \n",
       "0            275000.00            264500.00  \n",
       "1            264500.00            281000.00  \n",
       "2            281000.00            275000.00  \n",
       "3            275000.00            282500.00  \n",
       "4            282500.00            269577.00  "
      ],
      "text/html": "<div>\n<style scoped>\n    .dataframe tbody tr th:only-of-type {\n        vertical-align: middle;\n    }\n\n    .dataframe tbody tr th {\n        vertical-align: top;\n    }\n\n    .dataframe thead th {\n        text-align: right;\n    }\n</style>\n<table border=\"1\" class=\"dataframe\">\n  <thead>\n    <tr style=\"text-align: right;\">\n      <th></th>\n      <th>Zip_Code</th>\n      <th>Year</th>\n      <th>Month</th>\n      <th>Mobility_Rate</th>\n      <th>Expense_Index</th>\n      <th>Crime_Index</th>\n      <th>Total_Vacant</th>\n      <th>Total_Dwellings</th>\n      <th>Total_Sales</th>\n      <th>FHA_Count</th>\n      <th>Home_Affordability</th>\n      <th>Rent_Affordability</th>\n      <th>Sale_Price</th>\n      <th>Last_Month_Price</th>\n      <th>Future_Month_Price</th>\n      <th>Future_2Month_Price</th>\n      <th>Future_3Month_Price</th>\n    </tr>\n  </thead>\n  <tbody>\n    <tr>\n      <th>0</th>\n      <td>32003</td>\n      <td>2019</td>\n      <td>1</td>\n      <td>0.18</td>\n      <td>104</td>\n      <td>28</td>\n      <td>704</td>\n      <td>11724</td>\n      <td>32</td>\n      <td>7</td>\n      <td>0.13</td>\n      <td>0.14</td>\n      <td>244950.00</td>\n      <td>nan</td>\n      <td>270000.00</td>\n      <td>275000.00</td>\n      <td>264500.00</td>\n    </tr>\n    <tr>\n      <th>1</th>\n      <td>32003</td>\n      <td>2019</td>\n      <td>2</td>\n      <td>0.18</td>\n      <td>104</td>\n      <td>28</td>\n      <td>704</td>\n      <td>11724</td>\n      <td>41</td>\n      <td>2</td>\n      <td>0.14</td>\n      <td>0.14</td>\n      <td>270000.00</td>\n      <td>244950.00</td>\n      <td>275000.00</td>\n      <td>264500.00</td>\n      <td>281000.00</td>\n    </tr>\n    <tr>\n      <th>2</th>\n      <td>32003</td>\n      <td>2019</td>\n      <td>3</td>\n      <td>0.18</td>\n      <td>104</td>\n      <td>28</td>\n      <td>704</td>\n      <td>11724</td>\n      <td>21</td>\n      <td>7</td>\n      <td>0.14</td>\n      <td>0.14</td>\n      <td>275000.00</td>\n      <td>270000.00</td>\n      <td>264500.00</td>\n      <td>281000.00</td>\n      <td>275000.00</td>\n    </tr>\n    <tr>\n      <th>3</th>\n      <td>32003</td>\n      <td>2019</td>\n      <td>4</td>\n      <td>0.18</td>\n      <td>104</td>\n      <td>28</td>\n      <td>704</td>\n      <td>11724</td>\n      <td>42</td>\n      <td>3</td>\n      <td>0.13</td>\n      <td>0.14</td>\n      <td>264500.00</td>\n      <td>275000.00</td>\n      <td>281000.00</td>\n      <td>275000.00</td>\n      <td>282500.00</td>\n    </tr>\n    <tr>\n      <th>4</th>\n      <td>32003</td>\n      <td>2019</td>\n      <td>5</td>\n      <td>0.18</td>\n      <td>104</td>\n      <td>28</td>\n      <td>704</td>\n      <td>11724</td>\n      <td>66</td>\n      <td>8</td>\n      <td>0.14</td>\n      <td>0.14</td>\n      <td>281000.00</td>\n      <td>264500.00</td>\n      <td>275000.00</td>\n      <td>282500.00</td>\n      <td>269577.00</td>\n    </tr>\n  </tbody>\n</table>\n</div>"
     },
     "metadata": {},
     "execution_count": 417
    }
   ],
   "source": [
    "ml_data_3mo = ml_data_3mo[ml_data_3mo['Year'] < 2021]\n",
    "ml_data_3mo.head()"
   ]
  },
  {
   "cell_type": "code",
   "execution_count": 385,
   "metadata": {},
   "outputs": [
    {
     "output_type": "error",
     "ename": "KeyError",
     "evalue": "'Future_3Month_Diff'",
     "traceback": [
      "\u001b[0;31m---------------------------------------------------------------------------\u001b[0m",
      "\u001b[0;31mKeyError\u001b[0m                                  Traceback (most recent call last)",
      "\u001b[0;32m~/anaconda3/envs/PythonData/lib/python3.6/site-packages/pandas/core/indexes/base.py\u001b[0m in \u001b[0;36mget_loc\u001b[0;34m(self, key, method, tolerance)\u001b[0m\n\u001b[1;32m   2645\u001b[0m             \u001b[0;32mtry\u001b[0m\u001b[0;34m:\u001b[0m\u001b[0;34m\u001b[0m\u001b[0;34m\u001b[0m\u001b[0m\n\u001b[0;32m-> 2646\u001b[0;31m                 \u001b[0;32mreturn\u001b[0m \u001b[0mself\u001b[0m\u001b[0;34m.\u001b[0m\u001b[0m_engine\u001b[0m\u001b[0;34m.\u001b[0m\u001b[0mget_loc\u001b[0m\u001b[0;34m(\u001b[0m\u001b[0mkey\u001b[0m\u001b[0;34m)\u001b[0m\u001b[0;34m\u001b[0m\u001b[0;34m\u001b[0m\u001b[0m\n\u001b[0m\u001b[1;32m   2647\u001b[0m             \u001b[0;32mexcept\u001b[0m \u001b[0mKeyError\u001b[0m\u001b[0;34m:\u001b[0m\u001b[0;34m\u001b[0m\u001b[0;34m\u001b[0m\u001b[0m\n",
      "\u001b[0;32mpandas/_libs/index.pyx\u001b[0m in \u001b[0;36mpandas._libs.index.IndexEngine.get_loc\u001b[0;34m()\u001b[0m\n",
      "\u001b[0;32mpandas/_libs/index.pyx\u001b[0m in \u001b[0;36mpandas._libs.index.IndexEngine.get_loc\u001b[0;34m()\u001b[0m\n",
      "\u001b[0;32mpandas/_libs/hashtable_class_helper.pxi\u001b[0m in \u001b[0;36mpandas._libs.hashtable.PyObjectHashTable.get_item\u001b[0;34m()\u001b[0m\n",
      "\u001b[0;32mpandas/_libs/hashtable_class_helper.pxi\u001b[0m in \u001b[0;36mpandas._libs.hashtable.PyObjectHashTable.get_item\u001b[0;34m()\u001b[0m\n",
      "\u001b[0;31mKeyError\u001b[0m: 'Future_3Month_Diff'",
      "\nDuring handling of the above exception, another exception occurred:\n",
      "\u001b[0;31mKeyError\u001b[0m                                  Traceback (most recent call last)",
      "\u001b[0;32m<ipython-input-385-17572f1b0d2e>\u001b[0m in \u001b[0;36m<module>\u001b[0;34m\u001b[0m\n\u001b[1;32m      1\u001b[0m \u001b[0mprice_change_3mo\u001b[0m \u001b[0;34m=\u001b[0m \u001b[0;34m[\u001b[0m\u001b[0;34m]\u001b[0m\u001b[0;34m\u001b[0m\u001b[0;34m\u001b[0m\u001b[0m\n\u001b[1;32m      2\u001b[0m \u001b[0;34m\u001b[0m\u001b[0m\n\u001b[0;32m----> 3\u001b[0;31m \u001b[0;32mfor\u001b[0m \u001b[0mrow\u001b[0m \u001b[0;32min\u001b[0m \u001b[0mml_data_3mo\u001b[0m\u001b[0;34m[\u001b[0m\u001b[0;34m'Future_3Month_Diff'\u001b[0m\u001b[0;34m]\u001b[0m\u001b[0;34m:\u001b[0m\u001b[0;34m\u001b[0m\u001b[0;34m\u001b[0m\u001b[0m\n\u001b[0m\u001b[1;32m      4\u001b[0m     \u001b[0;32mif\u001b[0m \u001b[0mrow\u001b[0m \u001b[0;34m>\u001b[0m \u001b[0;36m0\u001b[0m\u001b[0;34m:\u001b[0m\u001b[0;34m\u001b[0m\u001b[0;34m\u001b[0m\u001b[0m\n\u001b[1;32m      5\u001b[0m         \u001b[0mprice_change_3mo\u001b[0m\u001b[0;34m.\u001b[0m\u001b[0mappend\u001b[0m\u001b[0;34m(\u001b[0m\u001b[0;36m1\u001b[0m\u001b[0;34m)\u001b[0m\u001b[0;34m\u001b[0m\u001b[0;34m\u001b[0m\u001b[0m\n",
      "\u001b[0;32m~/anaconda3/envs/PythonData/lib/python3.6/site-packages/pandas/core/frame.py\u001b[0m in \u001b[0;36m__getitem__\u001b[0;34m(self, key)\u001b[0m\n\u001b[1;32m   2798\u001b[0m             \u001b[0;32mif\u001b[0m \u001b[0mself\u001b[0m\u001b[0;34m.\u001b[0m\u001b[0mcolumns\u001b[0m\u001b[0;34m.\u001b[0m\u001b[0mnlevels\u001b[0m \u001b[0;34m>\u001b[0m \u001b[0;36m1\u001b[0m\u001b[0;34m:\u001b[0m\u001b[0;34m\u001b[0m\u001b[0;34m\u001b[0m\u001b[0m\n\u001b[1;32m   2799\u001b[0m                 \u001b[0;32mreturn\u001b[0m \u001b[0mself\u001b[0m\u001b[0;34m.\u001b[0m\u001b[0m_getitem_multilevel\u001b[0m\u001b[0;34m(\u001b[0m\u001b[0mkey\u001b[0m\u001b[0;34m)\u001b[0m\u001b[0;34m\u001b[0m\u001b[0;34m\u001b[0m\u001b[0m\n\u001b[0;32m-> 2800\u001b[0;31m             \u001b[0mindexer\u001b[0m \u001b[0;34m=\u001b[0m \u001b[0mself\u001b[0m\u001b[0;34m.\u001b[0m\u001b[0mcolumns\u001b[0m\u001b[0;34m.\u001b[0m\u001b[0mget_loc\u001b[0m\u001b[0;34m(\u001b[0m\u001b[0mkey\u001b[0m\u001b[0;34m)\u001b[0m\u001b[0;34m\u001b[0m\u001b[0;34m\u001b[0m\u001b[0m\n\u001b[0m\u001b[1;32m   2801\u001b[0m             \u001b[0;32mif\u001b[0m \u001b[0mis_integer\u001b[0m\u001b[0;34m(\u001b[0m\u001b[0mindexer\u001b[0m\u001b[0;34m)\u001b[0m\u001b[0;34m:\u001b[0m\u001b[0;34m\u001b[0m\u001b[0;34m\u001b[0m\u001b[0m\n\u001b[1;32m   2802\u001b[0m                 \u001b[0mindexer\u001b[0m \u001b[0;34m=\u001b[0m \u001b[0;34m[\u001b[0m\u001b[0mindexer\u001b[0m\u001b[0;34m]\u001b[0m\u001b[0;34m\u001b[0m\u001b[0;34m\u001b[0m\u001b[0m\n",
      "\u001b[0;32m~/anaconda3/envs/PythonData/lib/python3.6/site-packages/pandas/core/indexes/base.py\u001b[0m in \u001b[0;36mget_loc\u001b[0;34m(self, key, method, tolerance)\u001b[0m\n\u001b[1;32m   2646\u001b[0m                 \u001b[0;32mreturn\u001b[0m \u001b[0mself\u001b[0m\u001b[0;34m.\u001b[0m\u001b[0m_engine\u001b[0m\u001b[0;34m.\u001b[0m\u001b[0mget_loc\u001b[0m\u001b[0;34m(\u001b[0m\u001b[0mkey\u001b[0m\u001b[0;34m)\u001b[0m\u001b[0;34m\u001b[0m\u001b[0;34m\u001b[0m\u001b[0m\n\u001b[1;32m   2647\u001b[0m             \u001b[0;32mexcept\u001b[0m \u001b[0mKeyError\u001b[0m\u001b[0;34m:\u001b[0m\u001b[0;34m\u001b[0m\u001b[0;34m\u001b[0m\u001b[0m\n\u001b[0;32m-> 2648\u001b[0;31m                 \u001b[0;32mreturn\u001b[0m \u001b[0mself\u001b[0m\u001b[0;34m.\u001b[0m\u001b[0m_engine\u001b[0m\u001b[0;34m.\u001b[0m\u001b[0mget_loc\u001b[0m\u001b[0;34m(\u001b[0m\u001b[0mself\u001b[0m\u001b[0;34m.\u001b[0m\u001b[0m_maybe_cast_indexer\u001b[0m\u001b[0;34m(\u001b[0m\u001b[0mkey\u001b[0m\u001b[0;34m)\u001b[0m\u001b[0;34m)\u001b[0m\u001b[0;34m\u001b[0m\u001b[0;34m\u001b[0m\u001b[0m\n\u001b[0m\u001b[1;32m   2649\u001b[0m         \u001b[0mindexer\u001b[0m \u001b[0;34m=\u001b[0m \u001b[0mself\u001b[0m\u001b[0;34m.\u001b[0m\u001b[0mget_indexer\u001b[0m\u001b[0;34m(\u001b[0m\u001b[0;34m[\u001b[0m\u001b[0mkey\u001b[0m\u001b[0;34m]\u001b[0m\u001b[0;34m,\u001b[0m \u001b[0mmethod\u001b[0m\u001b[0;34m=\u001b[0m\u001b[0mmethod\u001b[0m\u001b[0;34m,\u001b[0m \u001b[0mtolerance\u001b[0m\u001b[0;34m=\u001b[0m\u001b[0mtolerance\u001b[0m\u001b[0;34m)\u001b[0m\u001b[0;34m\u001b[0m\u001b[0;34m\u001b[0m\u001b[0m\n\u001b[1;32m   2650\u001b[0m         \u001b[0;32mif\u001b[0m \u001b[0mindexer\u001b[0m\u001b[0;34m.\u001b[0m\u001b[0mndim\u001b[0m \u001b[0;34m>\u001b[0m \u001b[0;36m1\u001b[0m \u001b[0;32mor\u001b[0m \u001b[0mindexer\u001b[0m\u001b[0;34m.\u001b[0m\u001b[0msize\u001b[0m \u001b[0;34m>\u001b[0m \u001b[0;36m1\u001b[0m\u001b[0;34m:\u001b[0m\u001b[0;34m\u001b[0m\u001b[0;34m\u001b[0m\u001b[0m\n",
      "\u001b[0;32mpandas/_libs/index.pyx\u001b[0m in \u001b[0;36mpandas._libs.index.IndexEngine.get_loc\u001b[0;34m()\u001b[0m\n",
      "\u001b[0;32mpandas/_libs/index.pyx\u001b[0m in \u001b[0;36mpandas._libs.index.IndexEngine.get_loc\u001b[0;34m()\u001b[0m\n",
      "\u001b[0;32mpandas/_libs/hashtable_class_helper.pxi\u001b[0m in \u001b[0;36mpandas._libs.hashtable.PyObjectHashTable.get_item\u001b[0;34m()\u001b[0m\n",
      "\u001b[0;32mpandas/_libs/hashtable_class_helper.pxi\u001b[0m in \u001b[0;36mpandas._libs.hashtable.PyObjectHashTable.get_item\u001b[0;34m()\u001b[0m\n",
      "\u001b[0;31mKeyError\u001b[0m: 'Future_3Month_Diff'"
     ]
    }
   ],
   "source": [
    "price_change_3mo = []\n",
    "\n",
    "for row in ml_data_3mo['Future_3Month_Diff']:\n",
    "    if row > 0:\n",
    "        price_change_3mo.append(1)\n",
    "    else:\n",
    "        price_change_3mo.append(0)\n",
    "ml_data_3mo['Price_Change_3mo'] = price_change_3mo\n",
    "\n",
    "ml_data_3mo"
   ]
  },
  {
   "cell_type": "code",
   "execution_count": 418,
   "metadata": {},
   "outputs": [
    {
     "output_type": "execute_result",
     "data": {
      "text/plain": [
       "       Mobility_Rate  Expense_Index  Crime_Index  Total_Vacant  \\\n",
       "0               0.18            104           28           704   \n",
       "1               0.18            104           28           704   \n",
       "2               0.18            104           28           704   \n",
       "3               0.18            104           28           704   \n",
       "4               0.18            104           28           704   \n",
       "...              ...            ...          ...           ...   \n",
       "24460           0.14             91          113          2976   \n",
       "24461           0.14             91          113          2976   \n",
       "24462           0.14             91          113          2976   \n",
       "24463           0.14             91          113          2976   \n",
       "24464           0.14             91          113          2976   \n",
       "\n",
       "       Total_Dwellings  Total_Sales  FHA_Count  Home_Affordability  \\\n",
       "0                11724           32          7                0.13   \n",
       "1                11724           41          2                0.14   \n",
       "2                11724           21          7                0.14   \n",
       "3                11724           42          3                0.13   \n",
       "4                11724           66          8                0.14   \n",
       "...                ...          ...        ...                 ...   \n",
       "24460            21551          139         17                0.19   \n",
       "24461            21551          132         11                0.17   \n",
       "24462            21551          132         11                0.17   \n",
       "24463            21551          142         16                0.20   \n",
       "24464            21551          142         16                0.20   \n",
       "\n",
       "       Rent_Affordability  Sale_Price  Last_Month_Price  Future_3Month_Price  \n",
       "0                    0.14   244950.00               nan            264500.00  \n",
       "1                    0.14   270000.00         244950.00            281000.00  \n",
       "2                    0.14   275000.00         270000.00            275000.00  \n",
       "3                    0.14   264500.00         275000.00            282500.00  \n",
       "4                    0.14   281000.00         264500.00            269577.00  \n",
       "...                   ...         ...               ...                  ...  \n",
       "24460                0.25   285000.00         285000.00            297000.00  \n",
       "24461                0.25   259750.00         285000.00            297000.00  \n",
       "24462                0.25   259750.00         259750.00            305000.00  \n",
       "24463                0.25   297000.00         259750.00            305000.00  \n",
       "24464                0.25   297000.00         297000.00            300000.00  \n",
       "\n",
       "[21764 rows x 12 columns]"
      ],
      "text/html": "<div>\n<style scoped>\n    .dataframe tbody tr th:only-of-type {\n        vertical-align: middle;\n    }\n\n    .dataframe tbody tr th {\n        vertical-align: top;\n    }\n\n    .dataframe thead th {\n        text-align: right;\n    }\n</style>\n<table border=\"1\" class=\"dataframe\">\n  <thead>\n    <tr style=\"text-align: right;\">\n      <th></th>\n      <th>Mobility_Rate</th>\n      <th>Expense_Index</th>\n      <th>Crime_Index</th>\n      <th>Total_Vacant</th>\n      <th>Total_Dwellings</th>\n      <th>Total_Sales</th>\n      <th>FHA_Count</th>\n      <th>Home_Affordability</th>\n      <th>Rent_Affordability</th>\n      <th>Sale_Price</th>\n      <th>Last_Month_Price</th>\n      <th>Future_3Month_Price</th>\n    </tr>\n  </thead>\n  <tbody>\n    <tr>\n      <th>0</th>\n      <td>0.18</td>\n      <td>104</td>\n      <td>28</td>\n      <td>704</td>\n      <td>11724</td>\n      <td>32</td>\n      <td>7</td>\n      <td>0.13</td>\n      <td>0.14</td>\n      <td>244950.00</td>\n      <td>nan</td>\n      <td>264500.00</td>\n    </tr>\n    <tr>\n      <th>1</th>\n      <td>0.18</td>\n      <td>104</td>\n      <td>28</td>\n      <td>704</td>\n      <td>11724</td>\n      <td>41</td>\n      <td>2</td>\n      <td>0.14</td>\n      <td>0.14</td>\n      <td>270000.00</td>\n      <td>244950.00</td>\n      <td>281000.00</td>\n    </tr>\n    <tr>\n      <th>2</th>\n      <td>0.18</td>\n      <td>104</td>\n      <td>28</td>\n      <td>704</td>\n      <td>11724</td>\n      <td>21</td>\n      <td>7</td>\n      <td>0.14</td>\n      <td>0.14</td>\n      <td>275000.00</td>\n      <td>270000.00</td>\n      <td>275000.00</td>\n    </tr>\n    <tr>\n      <th>3</th>\n      <td>0.18</td>\n      <td>104</td>\n      <td>28</td>\n      <td>704</td>\n      <td>11724</td>\n      <td>42</td>\n      <td>3</td>\n      <td>0.13</td>\n      <td>0.14</td>\n      <td>264500.00</td>\n      <td>275000.00</td>\n      <td>282500.00</td>\n    </tr>\n    <tr>\n      <th>4</th>\n      <td>0.18</td>\n      <td>104</td>\n      <td>28</td>\n      <td>704</td>\n      <td>11724</td>\n      <td>66</td>\n      <td>8</td>\n      <td>0.14</td>\n      <td>0.14</td>\n      <td>281000.00</td>\n      <td>264500.00</td>\n      <td>269577.00</td>\n    </tr>\n    <tr>\n      <th>...</th>\n      <td>...</td>\n      <td>...</td>\n      <td>...</td>\n      <td>...</td>\n      <td>...</td>\n      <td>...</td>\n      <td>...</td>\n      <td>...</td>\n      <td>...</td>\n      <td>...</td>\n      <td>...</td>\n      <td>...</td>\n    </tr>\n    <tr>\n      <th>24460</th>\n      <td>0.14</td>\n      <td>91</td>\n      <td>113</td>\n      <td>2976</td>\n      <td>21551</td>\n      <td>139</td>\n      <td>17</td>\n      <td>0.19</td>\n      <td>0.25</td>\n      <td>285000.00</td>\n      <td>285000.00</td>\n      <td>297000.00</td>\n    </tr>\n    <tr>\n      <th>24461</th>\n      <td>0.14</td>\n      <td>91</td>\n      <td>113</td>\n      <td>2976</td>\n      <td>21551</td>\n      <td>132</td>\n      <td>11</td>\n      <td>0.17</td>\n      <td>0.25</td>\n      <td>259750.00</td>\n      <td>285000.00</td>\n      <td>297000.00</td>\n    </tr>\n    <tr>\n      <th>24462</th>\n      <td>0.14</td>\n      <td>91</td>\n      <td>113</td>\n      <td>2976</td>\n      <td>21551</td>\n      <td>132</td>\n      <td>11</td>\n      <td>0.17</td>\n      <td>0.25</td>\n      <td>259750.00</td>\n      <td>259750.00</td>\n      <td>305000.00</td>\n    </tr>\n    <tr>\n      <th>24463</th>\n      <td>0.14</td>\n      <td>91</td>\n      <td>113</td>\n      <td>2976</td>\n      <td>21551</td>\n      <td>142</td>\n      <td>16</td>\n      <td>0.20</td>\n      <td>0.25</td>\n      <td>297000.00</td>\n      <td>259750.00</td>\n      <td>305000.00</td>\n    </tr>\n    <tr>\n      <th>24464</th>\n      <td>0.14</td>\n      <td>91</td>\n      <td>113</td>\n      <td>2976</td>\n      <td>21551</td>\n      <td>142</td>\n      <td>16</td>\n      <td>0.20</td>\n      <td>0.25</td>\n      <td>297000.00</td>\n      <td>297000.00</td>\n      <td>300000.00</td>\n    </tr>\n  </tbody>\n</table>\n<p>21764 rows × 12 columns</p>\n</div>"
     },
     "metadata": {},
     "execution_count": 418
    }
   ],
   "source": [
    "# ml_data_3mo = ml_data_3mo.drop(columns=['Zip_Code', 'Year', 'Month', 'Last_Month_Price',\n",
    "#                         'Last_2Month_Price', 'Last_2Month_Price', 'Last_Month_Diff',\n",
    "#                         'Last_2Month_Diff', 'Last_3Month_Price', 'Last_3Month_Diff'])\n",
    "# ml_data_3mo\n",
    "\n",
    "ml_data_3mo = ml_data_3mo.drop(columns=['Zip_Code', 'Year', 'Month', 'Future_Month_Price', 'Future_2Month_Price' ])\n",
    "ml_data_3mo"
   ]
  },
  {
   "cell_type": "code",
   "execution_count": 419,
   "metadata": {},
   "outputs": [],
   "source": [
    "ml_data_3mo.replace([np.inf, -np.inf], np.nan, inplace=True)\n",
    "ml_data_3mo.dropna(inplace=True)"
   ]
  },
  {
   "cell_type": "code",
   "execution_count": 420,
   "metadata": {},
   "outputs": [
    {
     "output_type": "execute_result",
     "data": {
      "text/plain": [
       "       Mobility_Rate  Expense_Index  Crime_Index  Total_Vacant  \\\n",
       "1               0.18            104           28           704   \n",
       "2               0.18            104           28           704   \n",
       "3               0.18            104           28           704   \n",
       "4               0.18            104           28           704   \n",
       "5               0.18            104           28           704   \n",
       "...              ...            ...          ...           ...   \n",
       "24460           0.14             91          113          2976   \n",
       "24461           0.14             91          113          2976   \n",
       "24462           0.14             91          113          2976   \n",
       "24463           0.14             91          113          2976   \n",
       "24464           0.14             91          113          2976   \n",
       "\n",
       "       Total_Dwellings  Total_Sales  FHA_Count  Home_Affordability  \\\n",
       "1                11724           41          2                0.14   \n",
       "2                11724           21          7                0.14   \n",
       "3                11724           42          3                0.13   \n",
       "4                11724           66          8                0.14   \n",
       "5                11724           43          3                0.13   \n",
       "...                ...          ...        ...                 ...   \n",
       "24460            21551          139         17                0.19   \n",
       "24461            21551          132         11                0.17   \n",
       "24462            21551          132         11                0.17   \n",
       "24463            21551          142         16                0.20   \n",
       "24464            21551          142         16                0.20   \n",
       "\n",
       "       Rent_Affordability  Sale_Price  Last_Month_Price  \n",
       "1                    0.14   270000.00         244950.00  \n",
       "2                    0.14   275000.00         270000.00  \n",
       "3                    0.14   264500.00         275000.00  \n",
       "4                    0.14   281000.00         264500.00  \n",
       "5                    0.14   275000.00         281000.00  \n",
       "...                   ...         ...               ...  \n",
       "24460                0.25   285000.00         285000.00  \n",
       "24461                0.25   259750.00         285000.00  \n",
       "24462                0.25   259750.00         259750.00  \n",
       "24463                0.25   297000.00         259750.00  \n",
       "24464                0.25   297000.00         297000.00  \n",
       "\n",
       "[20710 rows x 11 columns]"
      ],
      "text/html": "<div>\n<style scoped>\n    .dataframe tbody tr th:only-of-type {\n        vertical-align: middle;\n    }\n\n    .dataframe tbody tr th {\n        vertical-align: top;\n    }\n\n    .dataframe thead th {\n        text-align: right;\n    }\n</style>\n<table border=\"1\" class=\"dataframe\">\n  <thead>\n    <tr style=\"text-align: right;\">\n      <th></th>\n      <th>Mobility_Rate</th>\n      <th>Expense_Index</th>\n      <th>Crime_Index</th>\n      <th>Total_Vacant</th>\n      <th>Total_Dwellings</th>\n      <th>Total_Sales</th>\n      <th>FHA_Count</th>\n      <th>Home_Affordability</th>\n      <th>Rent_Affordability</th>\n      <th>Sale_Price</th>\n      <th>Last_Month_Price</th>\n    </tr>\n  </thead>\n  <tbody>\n    <tr>\n      <th>1</th>\n      <td>0.18</td>\n      <td>104</td>\n      <td>28</td>\n      <td>704</td>\n      <td>11724</td>\n      <td>41</td>\n      <td>2</td>\n      <td>0.14</td>\n      <td>0.14</td>\n      <td>270000.00</td>\n      <td>244950.00</td>\n    </tr>\n    <tr>\n      <th>2</th>\n      <td>0.18</td>\n      <td>104</td>\n      <td>28</td>\n      <td>704</td>\n      <td>11724</td>\n      <td>21</td>\n      <td>7</td>\n      <td>0.14</td>\n      <td>0.14</td>\n      <td>275000.00</td>\n      <td>270000.00</td>\n    </tr>\n    <tr>\n      <th>3</th>\n      <td>0.18</td>\n      <td>104</td>\n      <td>28</td>\n      <td>704</td>\n      <td>11724</td>\n      <td>42</td>\n      <td>3</td>\n      <td>0.13</td>\n      <td>0.14</td>\n      <td>264500.00</td>\n      <td>275000.00</td>\n    </tr>\n    <tr>\n      <th>4</th>\n      <td>0.18</td>\n      <td>104</td>\n      <td>28</td>\n      <td>704</td>\n      <td>11724</td>\n      <td>66</td>\n      <td>8</td>\n      <td>0.14</td>\n      <td>0.14</td>\n      <td>281000.00</td>\n      <td>264500.00</td>\n    </tr>\n    <tr>\n      <th>5</th>\n      <td>0.18</td>\n      <td>104</td>\n      <td>28</td>\n      <td>704</td>\n      <td>11724</td>\n      <td>43</td>\n      <td>3</td>\n      <td>0.13</td>\n      <td>0.14</td>\n      <td>275000.00</td>\n      <td>281000.00</td>\n    </tr>\n    <tr>\n      <th>...</th>\n      <td>...</td>\n      <td>...</td>\n      <td>...</td>\n      <td>...</td>\n      <td>...</td>\n      <td>...</td>\n      <td>...</td>\n      <td>...</td>\n      <td>...</td>\n      <td>...</td>\n      <td>...</td>\n    </tr>\n    <tr>\n      <th>24460</th>\n      <td>0.14</td>\n      <td>91</td>\n      <td>113</td>\n      <td>2976</td>\n      <td>21551</td>\n      <td>139</td>\n      <td>17</td>\n      <td>0.19</td>\n      <td>0.25</td>\n      <td>285000.00</td>\n      <td>285000.00</td>\n    </tr>\n    <tr>\n      <th>24461</th>\n      <td>0.14</td>\n      <td>91</td>\n      <td>113</td>\n      <td>2976</td>\n      <td>21551</td>\n      <td>132</td>\n      <td>11</td>\n      <td>0.17</td>\n      <td>0.25</td>\n      <td>259750.00</td>\n      <td>285000.00</td>\n    </tr>\n    <tr>\n      <th>24462</th>\n      <td>0.14</td>\n      <td>91</td>\n      <td>113</td>\n      <td>2976</td>\n      <td>21551</td>\n      <td>132</td>\n      <td>11</td>\n      <td>0.17</td>\n      <td>0.25</td>\n      <td>259750.00</td>\n      <td>259750.00</td>\n    </tr>\n    <tr>\n      <th>24463</th>\n      <td>0.14</td>\n      <td>91</td>\n      <td>113</td>\n      <td>2976</td>\n      <td>21551</td>\n      <td>142</td>\n      <td>16</td>\n      <td>0.20</td>\n      <td>0.25</td>\n      <td>297000.00</td>\n      <td>259750.00</td>\n    </tr>\n    <tr>\n      <th>24464</th>\n      <td>0.14</td>\n      <td>91</td>\n      <td>113</td>\n      <td>2976</td>\n      <td>21551</td>\n      <td>142</td>\n      <td>16</td>\n      <td>0.20</td>\n      <td>0.25</td>\n      <td>297000.00</td>\n      <td>297000.00</td>\n    </tr>\n  </tbody>\n</table>\n<p>20710 rows × 11 columns</p>\n</div>"
     },
     "metadata": {},
     "execution_count": 420
    }
   ],
   "source": [
    "y_value = ml_data_3mo['Future_3Month_Price'].values\n",
    "\n",
    "x_values = ml_data_3mo.drop(columns='Future_3Month_Price')\n",
    "\n",
    "feature_names = x_values.columns\n",
    "\n",
    "x_values"
   ]
  },
  {
   "cell_type": "code",
   "execution_count": 410,
   "metadata": {},
   "outputs": [],
   "source": [
    "X_train, X_test, y_train, y_test = train_test_split(x_values, y_value, random_state=42)"
   ]
  },
  {
   "cell_type": "code",
   "execution_count": 232,
   "metadata": {},
   "outputs": [
    {
     "output_type": "stream",
     "name": "stderr",
     "text": [
      "100%|██████████| 42/42 [01:48<00:00,  2.59s/it]                               Adjusted R-Squared  R-Squared       RMSE  \\\n",
      "Model                                                                     \n",
      "XGBRegressor                                 0.92       0.92   43650.01   \n",
      "RandomForestRegressor                        0.91       0.91   46051.42   \n",
      "BaggingRegressor                             0.91       0.91   47400.16   \n",
      "ExtraTreesRegressor                          0.91       0.91   47992.78   \n",
      "GradientBoostingRegressor                    0.90       0.90   49019.74   \n",
      "ExtraTreeRegressor                           0.89       0.89   52563.07   \n",
      "LGBMRegressor                                0.88       0.88   55091.57   \n",
      "KNeighborsRegressor                          0.87       0.87   56417.21   \n",
      "HistGradientBoostingRegressor                0.87       0.87   56524.50   \n",
      "DecisionTreeRegressor                        0.86       0.86   59701.64   \n",
      "LinearRegression                             0.83       0.83   64377.40   \n",
      "TransformedTargetRegressor                   0.83       0.83   64377.40   \n",
      "LassoLarsIC                                  0.83       0.83   64377.40   \n",
      "LassoLarsCV                                  0.83       0.83   64377.40   \n",
      "Lars                                         0.83       0.83   64377.40   \n",
      "LarsCV                                       0.83       0.83   64377.40   \n",
      "Lasso                                        0.83       0.83   64377.44   \n",
      "Ridge                                        0.83       0.83   64379.27   \n",
      "BayesianRidge                                0.83       0.83   64381.03   \n",
      "LassoCV                                      0.83       0.83   64383.60   \n",
      "LassoLars                                    0.83       0.83   64386.40   \n",
      "RidgeCV                                      0.83       0.83   64396.14   \n",
      "SGDRegressor                                 0.83       0.83   64547.25   \n",
      "OrthogonalMatchingPursuitCV                  0.83       0.83   65465.69   \n",
      "HuberRegressor                               0.82       0.82   66456.45   \n",
      "PassiveAggressiveRegressor                   0.82       0.82   66940.03   \n",
      "RANSACRegressor                              0.80       0.80   70378.80   \n",
      "AdaBoostRegressor                            0.72       0.72   82453.80   \n",
      "ElasticNet                                   0.68       0.68   88443.87   \n",
      "OrthogonalMatchingPursuit                    0.58       0.58  101724.57   \n",
      "GeneralizedLinearRegressor                   0.55       0.55  104898.70   \n",
      "TweedieRegressor                             0.55       0.55  104898.70   \n",
      "ElasticNetCV                                 0.01       0.01  155976.01   \n",
      "DummyRegressor                              -0.00      -0.00  157040.79   \n",
      "NuSVR                                       -0.01      -0.01  158043.27   \n",
      "SVR                                         -0.02      -0.02  158753.36   \n",
      "MLPRegressor                                -1.04      -1.04  224031.23   \n",
      "KernelRidge                                 -1.51      -1.50  248326.68   \n",
      "LinearSVR                                   -2.03      -2.03  273178.81   \n",
      "GammaRegressor                             -16.25     -16.21  651548.85   \n",
      "GaussianProcessRegressor                   -40.79     -40.71 1014191.92   \n",
      "PoissonRegressor                         -1423.74   -1421.12 5922016.35   \n",
      "\n",
      "                               Time Taken  \n",
      "Model                                      \n",
      "XGBRegressor                         0.63  \n",
      "RandomForestRegressor                6.60  \n",
      "BaggingRegressor                     0.69  \n",
      "ExtraTreesRegressor                  3.29  \n",
      "GradientBoostingRegressor            1.83  \n",
      "ExtraTreeRegressor                   0.07  \n",
      "LGBMRegressor                        0.41  \n",
      "KNeighborsRegressor                  0.29  \n",
      "HistGradientBoostingRegressor        1.81  \n",
      "DecisionTreeRegressor                0.14  \n",
      "LinearRegression                     0.02  \n",
      "TransformedTargetRegressor           0.02  \n",
      "LassoLarsIC                          0.02  \n",
      "LassoLarsCV                          0.06  \n",
      "Lars                                 0.02  \n",
      "LarsCV                               0.05  \n",
      "Lasso                                0.09  \n",
      "Ridge                                0.02  \n",
      "BayesianRidge                        0.02  \n",
      "LassoCV                              0.26  \n",
      "LassoLars                            0.03  \n",
      "RidgeCV                              0.03  \n",
      "SGDRegressor                         0.05  \n",
      "OrthogonalMatchingPursuitCV          0.04  \n",
      "HuberRegressor                       0.09  \n",
      "PassiveAggressiveRegressor           0.12  \n",
      "RANSACRegressor                      0.11  \n",
      "AdaBoostRegressor                    0.71  \n",
      "ElasticNet                           0.04  \n",
      "OrthogonalMatchingPursuit            0.02  \n",
      "GeneralizedLinearRegressor           0.03  \n",
      "TweedieRegressor                     0.03  \n",
      "ElasticNetCV                         0.19  \n",
      "DummyRegressor                       0.02  \n",
      "NuSVR                                9.47  \n",
      "SVR                                  9.53  \n",
      "MLPRegressor                        12.44  \n",
      "KernelRidge                         21.26  \n",
      "LinearSVR                            0.02  \n",
      "GammaRegressor                       0.03  \n",
      "GaussianProcessRegressor            37.99  \n",
      "PoissonRegressor                     0.05  \n",
      "                               Adjusted R-Squared  R-Squared       RMSE  \\\n",
      "Model                                                                     \n",
      "XGBRegressor                                 0.92       0.92   43650.01   \n",
      "RandomForestRegressor                        0.91       0.91   46051.42   \n",
      "BaggingRegressor                             0.91       0.91   47400.16   \n",
      "ExtraTreesRegressor                          0.91       0.91   47992.78   \n",
      "GradientBoostingRegressor                    0.90       0.90   49019.74   \n",
      "ExtraTreeRegressor                           0.89       0.89   52563.07   \n",
      "LGBMRegressor                                0.88       0.88   55091.57   \n",
      "KNeighborsRegressor                          0.87       0.87   56417.21   \n",
      "HistGradientBoostingRegressor                0.87       0.87   56524.50   \n",
      "DecisionTreeRegressor                        0.86       0.86   59701.64   \n",
      "LinearRegression                             0.83       0.83   64377.40   \n",
      "TransformedTargetRegressor                   0.83       0.83   64377.40   \n",
      "LassoLarsIC                                  0.83       0.83   64377.40   \n",
      "LassoLarsCV                                  0.83       0.83   64377.40   \n",
      "Lars                                         0.83       0.83   64377.40   \n",
      "LarsCV                                       0.83       0.83   64377.40   \n",
      "Lasso                                        0.83       0.83   64377.44   \n",
      "Ridge                                        0.83       0.83   64379.27   \n",
      "BayesianRidge                                0.83       0.83   64381.03   \n",
      "LassoCV                                      0.83       0.83   64383.60   \n",
      "LassoLars                                    0.83       0.83   64386.40   \n",
      "RidgeCV                                      0.83       0.83   64396.14   \n",
      "SGDRegressor                                 0.83       0.83   64547.25   \n",
      "OrthogonalMatchingPursuitCV                  0.83       0.83   65465.69   \n",
      "HuberRegressor                               0.82       0.82   66456.45   \n",
      "PassiveAggressiveRegressor                   0.82       0.82   66940.03   \n",
      "RANSACRegressor                              0.80       0.80   70378.80   \n",
      "AdaBoostRegressor                            0.72       0.72   82453.80   \n",
      "ElasticNet                                   0.68       0.68   88443.87   \n",
      "OrthogonalMatchingPursuit                    0.58       0.58  101724.57   \n",
      "GeneralizedLinearRegressor                   0.55       0.55  104898.70   \n",
      "TweedieRegressor                             0.55       0.55  104898.70   \n",
      "ElasticNetCV                                 0.01       0.01  155976.01   \n",
      "DummyRegressor                              -0.00      -0.00  157040.79   \n",
      "NuSVR                                       -0.01      -0.01  158043.27   \n",
      "SVR                                         -0.02      -0.02  158753.36   \n",
      "MLPRegressor                                -1.04      -1.04  224031.23   \n",
      "KernelRidge                                 -1.51      -1.50  248326.68   \n",
      "LinearSVR                                   -2.03      -2.03  273178.81   \n",
      "GammaRegressor                             -16.25     -16.21  651548.85   \n",
      "GaussianProcessRegressor                   -40.79     -40.71 1014191.92   \n",
      "PoissonRegressor                         -1423.74   -1421.12 5922016.35   \n",
      "\n",
      "                               Time Taken  \n",
      "Model                                      \n",
      "XGBRegressor                         0.63  \n",
      "RandomForestRegressor                6.60  \n",
      "BaggingRegressor                     0.69  \n",
      "ExtraTreesRegressor                  3.29  \n",
      "GradientBoostingRegressor            1.83  \n",
      "ExtraTreeRegressor                   0.07  \n",
      "LGBMRegressor                        0.41  \n",
      "KNeighborsRegressor                  0.29  \n",
      "HistGradientBoostingRegressor        1.81  \n",
      "DecisionTreeRegressor                0.14  \n",
      "LinearRegression                     0.02  \n",
      "TransformedTargetRegressor           0.02  \n",
      "LassoLarsIC                          0.02  \n",
      "LassoLarsCV                          0.06  \n",
      "Lars                                 0.02  \n",
      "LarsCV                               0.05  \n",
      "Lasso                                0.09  \n",
      "Ridge                                0.02  \n",
      "BayesianRidge                        0.02  \n",
      "LassoCV                              0.26  \n",
      "LassoLars                            0.03  \n",
      "RidgeCV                              0.03  \n",
      "SGDRegressor                         0.05  \n",
      "OrthogonalMatchingPursuitCV          0.04  \n",
      "HuberRegressor                       0.09  \n",
      "PassiveAggressiveRegressor           0.12  \n",
      "RANSACRegressor                      0.11  \n",
      "AdaBoostRegressor                    0.71  \n",
      "ElasticNet                           0.04  \n",
      "OrthogonalMatchingPursuit            0.02  \n",
      "GeneralizedLinearRegressor           0.03  \n",
      "TweedieRegressor                     0.03  \n",
      "ElasticNetCV                         0.19  \n",
      "DummyRegressor                       0.02  \n",
      "NuSVR                                9.47  \n",
      "SVR                                  9.53  \n",
      "MLPRegressor                        12.44  \n",
      "KernelRidge                         21.26  \n",
      "LinearSVR                            0.02  \n",
      "GammaRegressor                       0.03  \n",
      "GaussianProcessRegressor            37.99  \n",
      "PoissonRegressor                     0.05  \n",
      "\n"
     ]
    }
   ],
   "source": [
    "reg = LazyRegressor(verbose=0, ignore_warnings=False, custom_metric=None)\n",
    "reg_models, reg_predictions = reg.fit(X_train, X_test, y_train, y_test)\n",
    "\n",
    "print(reg_models)\n",
    "print(reg_predictions)"
   ]
  },
  {
   "cell_type": "code",
   "execution_count": 347,
   "metadata": {},
   "outputs": [
    {
     "output_type": "stream",
     "name": "stdout",
     "text": [
      "6118\n6118\n"
     ]
    }
   ],
   "source": [
    "print(len(X_test))\n",
    "print(len(y_test))"
   ]
  },
  {
   "cell_type": "code",
   "execution_count": 340,
   "metadata": {},
   "outputs": [
    {
     "output_type": "execute_result",
     "data": {
      "text/plain": [
       "LogisticRegression()"
      ]
     },
     "metadata": {},
     "execution_count": 340
    }
   ],
   "source": [
    "from sklearn.linear_model import LogisticRegression\n",
    "classifier = LogisticRegression()\n",
    "classifier"
   ]
  },
  {
   "cell_type": "code",
   "execution_count": 341,
   "metadata": {},
   "outputs": [
    {
     "output_type": "execute_result",
     "data": {
      "text/plain": [
       "LogisticRegression()"
      ]
     },
     "metadata": {},
     "execution_count": 341
    }
   ],
   "source": [
    "classifier.fit(X_train, y_train)"
   ]
  },
  {
   "cell_type": "code",
   "execution_count": 342,
   "metadata": {},
   "outputs": [
    {
     "output_type": "stream",
     "name": "stdout",
     "text": [
      "Training Data Score: 0.5946166839208848\nTesting Data Score: 0.5823798627002288\n"
     ]
    }
   ],
   "source": [
    "print(f\"Training Data Score: {classifier.score(X_train, y_train)}\")\n",
    "print(f\"Testing Data Score: {classifier.score(X_test, y_test)}\")"
   ]
  },
  {
   "cell_type": "code",
   "execution_count": 421,
   "metadata": {},
   "outputs": [
    {
     "output_type": "execute_result",
     "data": {
      "text/plain": [
       "RandomForestRegressor(n_estimators=1000, n_jobs=-1, random_state=42)"
      ]
     },
     "metadata": {},
     "execution_count": 421
    }
   ],
   "source": [
    "from sklearn.ensemble import RandomForestRegressor\n",
    "\n",
    "rf_regr = RandomForestRegressor(n_estimators=1000, n_jobs=-1, random_state=42)\n",
    "rf_regr.fit(X_train, y_train)"
   ]
  },
  {
   "cell_type": "code",
   "execution_count": 422,
   "metadata": {},
   "outputs": [
    {
     "output_type": "stream",
     "name": "stdout",
     "text": [
      "Training Data Score: 0.9690603920160642\n",
      "Testing Data Score: 0.7905362208246793\n"
     ]
    }
   ],
   "source": [
    "print(f\"Training Data Score: {rf_regr.score(X_train, y_train)}\")\n",
    "print(f\"Testing Data Score: {rf_regr.score(X_test, y_test)}\")"
   ]
  },
  {
   "cell_type": "code",
   "execution_count": 423,
   "metadata": {},
   "outputs": [],
   "source": [
    "from sklearn.metrics import mean_squared_log_error\n",
    "def rmsle(ytrue, ypred):\n",
    "    return np.sqrt(mean_squared_log_error(ytrue, ypred))"
   ]
  },
  {
   "cell_type": "code",
   "execution_count": 424,
   "metadata": {},
   "outputs": [
    {
     "output_type": "stream",
     "name": "stdout",
     "text": [
      "Mean Error = 0.27486\n"
     ]
    }
   ],
   "source": [
    "rf_pred = rf_regr.predict(X_test)\n",
    "\n",
    "error = rmsle(y_test, rf_pred)\n",
    "    \n",
    "print('Mean Error = %.5f' % np.mean(error))"
   ]
  },
  {
   "cell_type": "code",
   "execution_count": null,
   "metadata": {},
   "outputs": [],
   "source": []
  },
  {
   "cell_type": "code",
   "execution_count": 425,
   "metadata": {},
   "outputs": [],
   "source": [
    "from lightgbm import LGBMRegressor"
   ]
  },
  {
   "cell_type": "code",
   "execution_count": 426,
   "metadata": {},
   "outputs": [
    {
     "output_type": "execute_result",
     "data": {
      "text/plain": [
       "LGBMRegressor(learning_rate=0.001, n_estimators=1000)"
      ]
     },
     "metadata": {},
     "execution_count": 426
    }
   ],
   "source": [
    "lgbm_regr = LGBMRegressor(n_estimators=1000, learning_rate=0.001)\n",
    "lgbm_regr.fit(X_train, y_train)"
   ]
  },
  {
   "cell_type": "code",
   "execution_count": 427,
   "metadata": {},
   "outputs": [
    {
     "output_type": "stream",
     "name": "stdout",
     "text": [
      "Training Data Score: 0.6898486182466572\nTesting Data Score: 0.664151329481192\n"
     ]
    }
   ],
   "source": [
    "print(f\"Training Data Score: {lgbm_regr.score(X_train, y_train)}\")\n",
    "print(f\"Testing Data Score: {lgbm_regr.score(X_test, y_test)}\")"
   ]
  },
  {
   "cell_type": "code",
   "execution_count": 314,
   "metadata": {},
   "outputs": [
    {
     "output_type": "error",
     "ename": "ValueError",
     "evalue": "Number of features of the model must match the input. Model n_features_ is 10 and input n_features is 15 ",
     "traceback": [
      "\u001b[0;31m---------------------------------------------------------------------------\u001b[0m",
      "\u001b[0;31mValueError\u001b[0m                                Traceback (most recent call last)",
      "\u001b[0;32m<ipython-input-314-189bffc53a92>\u001b[0m in \u001b[0;36m<module>\u001b[0;34m\u001b[0m\n\u001b[0;32m----> 1\u001b[0;31m \u001b[0mpredict_test\u001b[0m \u001b[0;34m=\u001b[0m \u001b[0mLGBMCmodel\u001b[0m\u001b[0;34m.\u001b[0m\u001b[0mpredict\u001b[0m\u001b[0;34m(\u001b[0m\u001b[0mX_test\u001b[0m\u001b[0;34m)\u001b[0m\u001b[0;34m\u001b[0m\u001b[0;34m\u001b[0m\u001b[0m\n\u001b[0m\u001b[1;32m      2\u001b[0m \u001b[0;34m\u001b[0m\u001b[0m\n\u001b[1;32m      3\u001b[0m \u001b[0maccuracy\u001b[0m\u001b[0;34m=\u001b[0m\u001b[0maccuracy_score\u001b[0m\u001b[0;34m(\u001b[0m\u001b[0mpredict_test\u001b[0m\u001b[0;34m,\u001b[0m \u001b[0my_test\u001b[0m\u001b[0;34m)\u001b[0m\u001b[0;34m\u001b[0m\u001b[0;34m\u001b[0m\u001b[0m\n\u001b[1;32m      4\u001b[0m \u001b[0mprint\u001b[0m\u001b[0;34m(\u001b[0m\u001b[0;34m'LightGBM Model accuracy score: {0:0.4f}'\u001b[0m\u001b[0;34m.\u001b[0m\u001b[0mformat\u001b[0m\u001b[0;34m(\u001b[0m\u001b[0maccuracy_score\u001b[0m\u001b[0;34m(\u001b[0m\u001b[0my_test\u001b[0m\u001b[0;34m,\u001b[0m \u001b[0mpredict_test\u001b[0m\u001b[0;34m)\u001b[0m\u001b[0;34m)\u001b[0m\u001b[0;34m)\u001b[0m\u001b[0;34m\u001b[0m\u001b[0;34m\u001b[0m\u001b[0m\n",
      "\u001b[0;32m~/anaconda3/envs/PythonData/lib/python3.6/site-packages/lightgbm/sklearn.py\u001b[0m in \u001b[0;36mpredict\u001b[0;34m(self, X, raw_score, num_iteration, pred_leaf, pred_contrib, **kwargs)\u001b[0m\n\u001b[1;32m    812\u001b[0m         \u001b[0;34m\"\"\"Docstring is inherited from the LGBMModel.\"\"\"\u001b[0m\u001b[0;34m\u001b[0m\u001b[0;34m\u001b[0m\u001b[0m\n\u001b[1;32m    813\u001b[0m         result = self.predict_proba(X, raw_score, num_iteration,\n\u001b[0;32m--> 814\u001b[0;31m                                     pred_leaf, pred_contrib, **kwargs)\n\u001b[0m\u001b[1;32m    815\u001b[0m         \u001b[0;32mif\u001b[0m \u001b[0mraw_score\u001b[0m \u001b[0;32mor\u001b[0m \u001b[0mpred_leaf\u001b[0m \u001b[0;32mor\u001b[0m \u001b[0mpred_contrib\u001b[0m\u001b[0;34m:\u001b[0m\u001b[0;34m\u001b[0m\u001b[0;34m\u001b[0m\u001b[0m\n\u001b[1;32m    816\u001b[0m             \u001b[0;32mreturn\u001b[0m \u001b[0mresult\u001b[0m\u001b[0;34m\u001b[0m\u001b[0;34m\u001b[0m\u001b[0m\n",
      "\u001b[0;32m~/anaconda3/envs/PythonData/lib/python3.6/site-packages/lightgbm/sklearn.py\u001b[0m in \u001b[0;36mpredict_proba\u001b[0;34m(self, X, raw_score, num_iteration, pred_leaf, pred_contrib, **kwargs)\u001b[0m\n\u001b[1;32m    861\u001b[0m         \"\"\"\n\u001b[1;32m    862\u001b[0m         result = super(LGBMClassifier, self).predict(X, raw_score, num_iteration,\n\u001b[0;32m--> 863\u001b[0;31m                                                      pred_leaf, pred_contrib, **kwargs)\n\u001b[0m\u001b[1;32m    864\u001b[0m         \u001b[0;32mif\u001b[0m \u001b[0mself\u001b[0m\u001b[0;34m.\u001b[0m\u001b[0m_n_classes\u001b[0m \u001b[0;34m>\u001b[0m \u001b[0;36m2\u001b[0m \u001b[0;32mor\u001b[0m \u001b[0mraw_score\u001b[0m \u001b[0;32mor\u001b[0m \u001b[0mpred_leaf\u001b[0m \u001b[0;32mor\u001b[0m \u001b[0mpred_contrib\u001b[0m\u001b[0;34m:\u001b[0m\u001b[0;34m\u001b[0m\u001b[0;34m\u001b[0m\u001b[0m\n\u001b[1;32m    865\u001b[0m             \u001b[0;32mreturn\u001b[0m \u001b[0mresult\u001b[0m\u001b[0;34m\u001b[0m\u001b[0;34m\u001b[0m\u001b[0m\n",
      "\u001b[0;32m~/anaconda3/envs/PythonData/lib/python3.6/site-packages/lightgbm/sklearn.py\u001b[0m in \u001b[0;36mpredict\u001b[0;34m(self, X, raw_score, num_iteration, pred_leaf, pred_contrib, **kwargs)\u001b[0m\n\u001b[1;32m    661\u001b[0m                              \u001b[0;34m\"match the input. Model n_features_ is %s and \"\u001b[0m\u001b[0;34m\u001b[0m\u001b[0;34m\u001b[0m\u001b[0m\n\u001b[1;32m    662\u001b[0m                              \u001b[0;34m\"input n_features is %s \"\u001b[0m\u001b[0;34m\u001b[0m\u001b[0;34m\u001b[0m\u001b[0m\n\u001b[0;32m--> 663\u001b[0;31m                              % (self._n_features, n_features))\n\u001b[0m\u001b[1;32m    664\u001b[0m         return self.booster_.predict(X, raw_score=raw_score, num_iteration=num_iteration,\n\u001b[1;32m    665\u001b[0m                                      pred_leaf=pred_leaf, pred_contrib=pred_contrib, **kwargs)\n",
      "\u001b[0;31mValueError\u001b[0m: Number of features of the model must match the input. Model n_features_ is 10 and input n_features is 15 "
     ]
    }
   ],
   "source": [
    "predict_test = LGBMCmodel.predict(X_test)\n",
    "\n",
    "accuracy=accuracy_score(predict_test, y_test)\n",
    "print('LightGBM Model accuracy score: {0:0.4f}'.format(accuracy_score(y_test, predict_test)))"
   ]
  },
  {
   "cell_type": "code",
   "execution_count": 192,
   "metadata": {},
   "outputs": [
    {
     "output_type": "execute_result",
     "data": {
      "text/plain": [
       "array([0, 0, 0, ..., 0, 1, 1])"
      ]
     },
     "metadata": {},
     "execution_count": 192
    }
   ],
   "source": [
    "y_value = ml_data_3mo['Price_Change_3mo'].values\n",
    "\n",
    "x_values = ml_data_3mo.drop(columns='Price_Change_3mo')\n",
    "\n",
    "feature_names = x_values.columns\n",
    "\n",
    "x_values\n",
    "y_value"
   ]
  },
  {
   "cell_type": "code",
   "execution_count": 193,
   "metadata": {},
   "outputs": [],
   "source": [
    "X_train, X_test, y_train, y_test = train_test_split(x_values, y_value, random_state=42)"
   ]
  },
  {
   "cell_type": "code",
   "execution_count": 169,
   "metadata": {},
   "outputs": [
    {
     "output_type": "stream",
     "name": "stderr",
     "text": [
      " 21%|██        | 6/29 [00:05<00:17,  1.30it/s]CategoricalNB model failed to execute\n",
      "Negative values in data passed to CategoricalNB (input X)\n",
      " 93%|█████████▎| 27/29 [01:23<00:06,  3.17s/it]StackingClassifier model failed to execute\n",
      "__init__() missing 1 required positional argument: 'estimators'\n",
      "100%|██████████| 29/29 [01:24<00:00,  2.91s/it]\n"
     ]
    },
    {
     "output_type": "execute_result",
     "data": {
      "text/plain": [
       "                               Accuracy  Balanced Accuracy  ROC AUC  F1 Score  \\\n",
       "Model                                                                           \n",
       "RandomForestClassifier             0.66               0.66     0.66      0.66   \n",
       "ExtraTreesClassifier               0.65               0.65     0.65      0.65   \n",
       "XGBClassifier                      0.64               0.64     0.64      0.64   \n",
       "LGBMClassifier                     0.64               0.64     0.64      0.64   \n",
       "BaggingClassifier                  0.62               0.62     0.62      0.62   \n",
       "SVC                                0.62               0.62     0.62      0.62   \n",
       "LabelSpreading                     0.61               0.61     0.61      0.61   \n",
       "LabelPropagation                   0.61               0.61     0.61      0.61   \n",
       "NuSVC                              0.60               0.60     0.60      0.60   \n",
       "KNeighborsClassifier               0.60               0.60     0.60      0.60   \n",
       "AdaBoostClassifier                 0.60               0.60     0.60      0.60   \n",
       "LogisticRegression                 0.59               0.59     0.59      0.59   \n",
       "CalibratedClassifierCV             0.59               0.59     0.59      0.59   \n",
       "LinearSVC                          0.59               0.59     0.59      0.59   \n",
       "LinearDiscriminantAnalysis         0.59               0.59     0.59      0.59   \n",
       "RidgeClassifier                    0.59               0.59     0.59      0.59   \n",
       "RidgeClassifierCV                  0.59               0.59     0.59      0.59   \n",
       "DecisionTreeClassifier             0.59               0.59     0.59      0.59   \n",
       "ExtraTreeClassifier                0.58               0.58     0.58      0.58   \n",
       "NearestCentroid                    0.57               0.57     0.57      0.57   \n",
       "BernoulliNB                        0.56               0.56     0.56      0.56   \n",
       "SGDClassifier                      0.56               0.56     0.56      0.55   \n",
       "GaussianNB                         0.56               0.56     0.56      0.54   \n",
       "QuadraticDiscriminantAnalysis      0.55               0.55     0.55      0.53   \n",
       "PassiveAggressiveClassifier        0.54               0.55     0.55      0.53   \n",
       "Perceptron                         0.54               0.54     0.54      0.51   \n",
       "DummyClassifier                    0.50               0.50     0.50      0.50   \n",
       "\n",
       "                               Time Taken  \n",
       "Model                                      \n",
       "RandomForestClassifier               2.17  \n",
       "ExtraTreesClassifier                 1.38  \n",
       "XGBClassifier                        0.65  \n",
       "LGBMClassifier                       0.55  \n",
       "BaggingClassifier                    0.66  \n",
       "SVC                                  7.64  \n",
       "LabelSpreading                      11.26  \n",
       "LabelPropagation                     7.39  \n",
       "NuSVC                               46.45  \n",
       "KNeighborsClassifier                 0.27  \n",
       "AdaBoostClassifier                   0.54  \n",
       "LogisticRegression                   0.04  \n",
       "CalibratedClassifierCV               3.68  \n",
       "LinearSVC                            0.99  \n",
       "LinearDiscriminantAnalysis           0.05  \n",
       "RidgeClassifier                      0.03  \n",
       "RidgeClassifierCV                    0.04  \n",
       "DecisionTreeClassifier               0.13  \n",
       "ExtraTreeClassifier                  0.03  \n",
       "NearestCentroid                      0.02  \n",
       "BernoulliNB                          0.03  \n",
       "SGDClassifier                        0.08  \n",
       "GaussianNB                           0.02  \n",
       "QuadraticDiscriminantAnalysis        0.03  \n",
       "PassiveAggressiveClassifier          0.04  \n",
       "Perceptron                           0.04  \n",
       "DummyClassifier                      0.02  "
      ],
      "text/html": "<div>\n<style scoped>\n    .dataframe tbody tr th:only-of-type {\n        vertical-align: middle;\n    }\n\n    .dataframe tbody tr th {\n        vertical-align: top;\n    }\n\n    .dataframe thead th {\n        text-align: right;\n    }\n</style>\n<table border=\"1\" class=\"dataframe\">\n  <thead>\n    <tr style=\"text-align: right;\">\n      <th></th>\n      <th>Accuracy</th>\n      <th>Balanced Accuracy</th>\n      <th>ROC AUC</th>\n      <th>F1 Score</th>\n      <th>Time Taken</th>\n    </tr>\n    <tr>\n      <th>Model</th>\n      <th></th>\n      <th></th>\n      <th></th>\n      <th></th>\n      <th></th>\n    </tr>\n  </thead>\n  <tbody>\n    <tr>\n      <th>RandomForestClassifier</th>\n      <td>0.66</td>\n      <td>0.66</td>\n      <td>0.66</td>\n      <td>0.66</td>\n      <td>2.17</td>\n    </tr>\n    <tr>\n      <th>ExtraTreesClassifier</th>\n      <td>0.65</td>\n      <td>0.65</td>\n      <td>0.65</td>\n      <td>0.65</td>\n      <td>1.38</td>\n    </tr>\n    <tr>\n      <th>XGBClassifier</th>\n      <td>0.64</td>\n      <td>0.64</td>\n      <td>0.64</td>\n      <td>0.64</td>\n      <td>0.65</td>\n    </tr>\n    <tr>\n      <th>LGBMClassifier</th>\n      <td>0.64</td>\n      <td>0.64</td>\n      <td>0.64</td>\n      <td>0.64</td>\n      <td>0.55</td>\n    </tr>\n    <tr>\n      <th>BaggingClassifier</th>\n      <td>0.62</td>\n      <td>0.62</td>\n      <td>0.62</td>\n      <td>0.62</td>\n      <td>0.66</td>\n    </tr>\n    <tr>\n      <th>SVC</th>\n      <td>0.62</td>\n      <td>0.62</td>\n      <td>0.62</td>\n      <td>0.62</td>\n      <td>7.64</td>\n    </tr>\n    <tr>\n      <th>LabelSpreading</th>\n      <td>0.61</td>\n      <td>0.61</td>\n      <td>0.61</td>\n      <td>0.61</td>\n      <td>11.26</td>\n    </tr>\n    <tr>\n      <th>LabelPropagation</th>\n      <td>0.61</td>\n      <td>0.61</td>\n      <td>0.61</td>\n      <td>0.61</td>\n      <td>7.39</td>\n    </tr>\n    <tr>\n      <th>NuSVC</th>\n      <td>0.60</td>\n      <td>0.60</td>\n      <td>0.60</td>\n      <td>0.60</td>\n      <td>46.45</td>\n    </tr>\n    <tr>\n      <th>KNeighborsClassifier</th>\n      <td>0.60</td>\n      <td>0.60</td>\n      <td>0.60</td>\n      <td>0.60</td>\n      <td>0.27</td>\n    </tr>\n    <tr>\n      <th>AdaBoostClassifier</th>\n      <td>0.60</td>\n      <td>0.60</td>\n      <td>0.60</td>\n      <td>0.60</td>\n      <td>0.54</td>\n    </tr>\n    <tr>\n      <th>LogisticRegression</th>\n      <td>0.59</td>\n      <td>0.59</td>\n      <td>0.59</td>\n      <td>0.59</td>\n      <td>0.04</td>\n    </tr>\n    <tr>\n      <th>CalibratedClassifierCV</th>\n      <td>0.59</td>\n      <td>0.59</td>\n      <td>0.59</td>\n      <td>0.59</td>\n      <td>3.68</td>\n    </tr>\n    <tr>\n      <th>LinearSVC</th>\n      <td>0.59</td>\n      <td>0.59</td>\n      <td>0.59</td>\n      <td>0.59</td>\n      <td>0.99</td>\n    </tr>\n    <tr>\n      <th>LinearDiscriminantAnalysis</th>\n      <td>0.59</td>\n      <td>0.59</td>\n      <td>0.59</td>\n      <td>0.59</td>\n      <td>0.05</td>\n    </tr>\n    <tr>\n      <th>RidgeClassifier</th>\n      <td>0.59</td>\n      <td>0.59</td>\n      <td>0.59</td>\n      <td>0.59</td>\n      <td>0.03</td>\n    </tr>\n    <tr>\n      <th>RidgeClassifierCV</th>\n      <td>0.59</td>\n      <td>0.59</td>\n      <td>0.59</td>\n      <td>0.59</td>\n      <td>0.04</td>\n    </tr>\n    <tr>\n      <th>DecisionTreeClassifier</th>\n      <td>0.59</td>\n      <td>0.59</td>\n      <td>0.59</td>\n      <td>0.59</td>\n      <td>0.13</td>\n    </tr>\n    <tr>\n      <th>ExtraTreeClassifier</th>\n      <td>0.58</td>\n      <td>0.58</td>\n      <td>0.58</td>\n      <td>0.58</td>\n      <td>0.03</td>\n    </tr>\n    <tr>\n      <th>NearestCentroid</th>\n      <td>0.57</td>\n      <td>0.57</td>\n      <td>0.57</td>\n      <td>0.57</td>\n      <td>0.02</td>\n    </tr>\n    <tr>\n      <th>BernoulliNB</th>\n      <td>0.56</td>\n      <td>0.56</td>\n      <td>0.56</td>\n      <td>0.56</td>\n      <td>0.03</td>\n    </tr>\n    <tr>\n      <th>SGDClassifier</th>\n      <td>0.56</td>\n      <td>0.56</td>\n      <td>0.56</td>\n      <td>0.55</td>\n      <td>0.08</td>\n    </tr>\n    <tr>\n      <th>GaussianNB</th>\n      <td>0.56</td>\n      <td>0.56</td>\n      <td>0.56</td>\n      <td>0.54</td>\n      <td>0.02</td>\n    </tr>\n    <tr>\n      <th>QuadraticDiscriminantAnalysis</th>\n      <td>0.55</td>\n      <td>0.55</td>\n      <td>0.55</td>\n      <td>0.53</td>\n      <td>0.03</td>\n    </tr>\n    <tr>\n      <th>PassiveAggressiveClassifier</th>\n      <td>0.54</td>\n      <td>0.55</td>\n      <td>0.55</td>\n      <td>0.53</td>\n      <td>0.04</td>\n    </tr>\n    <tr>\n      <th>Perceptron</th>\n      <td>0.54</td>\n      <td>0.54</td>\n      <td>0.54</td>\n      <td>0.51</td>\n      <td>0.04</td>\n    </tr>\n    <tr>\n      <th>DummyClassifier</th>\n      <td>0.50</td>\n      <td>0.50</td>\n      <td>0.50</td>\n      <td>0.50</td>\n      <td>0.02</td>\n    </tr>\n  </tbody>\n</table>\n</div>"
     },
     "metadata": {},
     "execution_count": 169
    }
   ],
   "source": [
    "from lazypredict.Supervised import LazyClassifier\n",
    "\n",
    "clf = LazyClassifier(verbose=0,ignore_warnings=False)\n",
    "models, predictions = clf.fit(X_train, X_test, y_train, y_test)\n",
    "models"
   ]
  },
  {
   "cell_type": "code",
   "execution_count": 156,
   "metadata": {},
   "outputs": [],
   "source": [
    "from lightgbm import LGBMClassifier"
   ]
  },
  {
   "cell_type": "code",
   "execution_count": 157,
   "metadata": {},
   "outputs": [
    {
     "output_type": "execute_result",
     "data": {
      "text/plain": [
       "0        0\n",
       "1        0\n",
       "2        0\n",
       "3        1\n",
       "4        1\n",
       "        ..\n",
       "21759    1\n",
       "21760    1\n",
       "21761    0\n",
       "21762    1\n",
       "21763    1\n",
       "Name: Price_Change_3mo, Length: 21764, dtype: int64"
      ]
     },
     "metadata": {},
     "execution_count": 157
    }
   ],
   "source": [
    "y_value = ml_data_3mo['Price_Change_3mo']\n",
    "\n",
    "x_values = ml_data_3mo.drop(columns='Price_Change_3mo')\n",
    "\n",
    "feature_names = x_values.columns\n",
    "\n",
    "x_values\n",
    "y_value"
   ]
  },
  {
   "cell_type": "code",
   "execution_count": 158,
   "metadata": {},
   "outputs": [],
   "source": [
    "X_train, X_test, y_train, y_test = train_test_split(x_values, y_value, random_state=42)"
   ]
  },
  {
   "cell_type": "code",
   "execution_count": 159,
   "metadata": {},
   "outputs": [
    {
     "output_type": "execute_result",
     "data": {
      "text/plain": [
       "LGBMClassifier(learning_rate=0.003, max_depth=25, min_data_in_leaf=100,\n",
       "               n_estimators=15000, num_leaves=1000, objective='binary')"
      ]
     },
     "metadata": {},
     "execution_count": 159
    }
   ],
   "source": [
    "LGBMCmodel = LGBMClassifier(boosting_type='gbdt', objective='binary', num_leaves= 1000,\n",
    "                                max_depth=25, min_data_in_leaf=100,\n",
    "                                learning_rate=0.003, n_estimators=15000)\n",
    "LGBMCmodel.fit(X_train, y_train)"
   ]
  },
  {
   "cell_type": "code",
   "execution_count": 160,
   "metadata": {},
   "outputs": [
    {
     "output_type": "stream",
     "name": "stdout",
     "text": [
      "LightGBM Model accuracy score: 0.6558\n"
     ]
    }
   ],
   "source": [
    "predict_test = LGBMCmodel.predict(X_test)\n",
    "\n",
    "accuracy=accuracy_score(predict_test, y_test)\n",
    "print('LightGBM Model accuracy score: {0:0.4f}'.format(accuracy_score(y_test, predict_test)))"
   ]
  },
  {
   "cell_type": "code",
   "execution_count": 161,
   "metadata": {},
   "outputs": [
    {
     "output_type": "stream",
     "name": "stdout",
     "text": [
      "Training-set accuracy score: 0.9339\n"
     ]
    }
   ],
   "source": [
    "predict_train = LGBMCmodel.predict(X_train)\n",
    "\n",
    "print('Training-set accuracy score: {0:0.4f}'. format(accuracy_score(y_train, predict_train)))"
   ]
  },
  {
   "cell_type": "code",
   "execution_count": 252,
   "metadata": {},
   "outputs": [
    {
     "output_type": "stream",
     "name": "stdout",
     "text": [
      "Training set score: 0.9246\n",
      "Test set score: 0.6514\n"
     ]
    }
   ],
   "source": [
    "print('Training set score: {:.4f}'.format(LGBMCmodel.score(X_train, y_train)))\n",
    "\n",
    "print('Test set score: {:.4f}'.format(LGBMCmodel.score(X_test, y_test)))"
   ]
  },
  {
   "cell_type": "code",
   "execution_count": 162,
   "metadata": {},
   "outputs": [
    {
     "output_type": "stream",
     "name": "stdout",
     "text": [
      "Confusion matrix\n\n [[1748  930]\n [ 943 1820]]\n\nTrue Positives(TP) =  1748\n\nTrue Negatives(TN) =  1820\n\nFalse Positives(FP) =  930\n\nFalse Negatives(FN) =  943\n"
     ]
    }
   ],
   "source": [
    "from sklearn.metrics import confusion_matrix\n",
    "cm = confusion_matrix(y_test, predict_test)\n",
    "print('Confusion matrix\\n\\n', cm)\n",
    "print('\\nTrue Positives(TP) = ', cm[0,0])\n",
    "print('\\nTrue Negatives(TN) = ', cm[1,1])\n",
    "print('\\nFalse Positives(FP) = ', cm[0,1])\n",
    "print('\\nFalse Negatives(FN) = ', cm[1,0])"
   ]
  },
  {
   "cell_type": "code",
   "execution_count": 194,
   "metadata": {},
   "outputs": [
    {
     "output_type": "display_data",
     "data": {
      "text/plain": "<IPython.core.display.Javascript object>",
      "application/javascript": "\n        if (window._pyforest_update_imports_cell) { window._pyforest_update_imports_cell('from sklearn.model_selection import train_test_split\\nfrom sklearn.ensemble import RandomForestClassifier'); }\n    "
     },
     "metadata": {}
    },
    {
     "output_type": "stream",
     "name": "stderr",
     "text": [
      "[Parallel(n_jobs=10000)]: Using backend ThreadingBackend with 10000 concurrent workers.\n",
      "building tree 1 of 100building tree 2 of 100building tree 3 of 100building tree 4 of 100building tree 5 of 100building tree 6 of 100building tree 7 of 100building tree 8 of 100building tree 9 of 100building tree 10 of 100building tree 11 of 100building tree 12 of 100building tree 13 of 100building tree 14 of 100building tree 15 of 100building tree 16 of 100building tree 17 of 100building tree 18 of 100building tree 19 of 100building tree 20 of 100building tree 21 of 100building tree 22 of 100building tree 23 of 100building tree 24 of 100building tree 25 of 100building tree 26 of 100building tree 27 of 100building tree 28 of 100building tree 29 of 100building tree 30 of 100building tree 31 of 100building tree 32 of 100building tree 33 of 100building tree 34 of 100building tree 35 of 100building tree 36 of 100building tree 37 of 100building tree 38 of 100\n",
      "\n",
      "building tree 39 of 100\n",
      "building tree 40 of 100building tree 41 of 100building tree 42 of 100\n",
      "\n",
      "\n",
      "\n",
      "\n",
      "\n",
      "\n",
      "building tree 43 of 100building tree 44 of 100building tree 45 of 100building tree 46 of 100\n",
      "building tree 47 of 100\n",
      "\n",
      "\n",
      "\n",
      "\n",
      "\n",
      "\n",
      "\n",
      "building tree 48 of 100building tree 49 of 100building tree 50 of 100building tree 51 of 100building tree 52 of 100\n",
      "building tree 53 of 100building tree 54 of 100building tree 55 of 100building tree 56 of 100building tree 57 of 100\n",
      "\n",
      "building tree 58 of 100building tree 59 of 100building tree 60 of 100\n",
      "\n",
      "building tree 61 of 100building tree 62 of 100\n",
      "\n",
      "\n",
      "building tree 63 of 100building tree 64 of 100\n",
      "\n",
      "\n",
      "\n",
      "building tree 65 of 100\n",
      "\n",
      "building tree 66 of 100building tree 67 of 100building tree 68 of 100building tree 69 of 100building tree 70 of 100building tree 71 of 100building tree 72 of 100\n",
      "building tree 73 of 100building tree 74 of 100\n",
      "\n",
      "\n",
      "\n",
      "\n",
      "\n",
      "building tree 75 of 100\n",
      "\n",
      "\n",
      "building tree 76 of 100building tree 77 of 100building tree 78 of 100building tree 79 of 100building tree 80 of 100building tree 81 of 100building tree 82 of 100\n",
      "building tree 83 of 100building tree 84 of 100building tree 85 of 100\n",
      "\n",
      "building tree 86 of 100building tree 87 of 100\n",
      "building tree 88 of 100\n",
      "\n",
      "\n",
      "\n",
      "\n",
      "\n",
      "building tree 89 of 100building tree 90 of 100\n",
      "\n",
      "\n",
      "\n",
      "building tree 91 of 100building tree 92 of 100building tree 93 of 100\n",
      "\n",
      "\n",
      "\n",
      "\n",
      "\n",
      "\n",
      "\n",
      "\n",
      "building tree 94 of 100building tree 95 of 100\n",
      "\n",
      "\n",
      "\n",
      "\n",
      "building tree 96 of 100\n",
      "\n",
      "\n",
      "\n",
      "\n",
      "building tree 97 of 100building tree 98 of 100building tree 99 of 100\n",
      "\n",
      "\n",
      "\n",
      "\n",
      "\n",
      "\n",
      "\n",
      "\n",
      "\n",
      "\n",
      "\n",
      "\n",
      "\n",
      "\n",
      "\n",
      "building tree 100 of 100\n",
      "\n",
      "\n",
      "\n",
      "\n",
      "\n",
      "\n",
      "\n",
      "[Parallel(n_jobs=10000)]: Done  42 out of 100 | elapsed:    6.5s remaining:    9.0s\n",
      "[Parallel(n_jobs=10000)]: Done  93 out of 100 | elapsed:    6.5s remaining:    0.5s\n",
      "[Parallel(n_jobs=10000)]: Done 100 out of 100 | elapsed:    6.6s finished\n",
      "[Parallel(n_jobs=100)]: Using backend ThreadingBackend with 100 concurrent workers.\n",
      "[Parallel(n_jobs=100)]: Done   3 out of 100 | elapsed:    0.0s remaining:    1.1s\n",
      "[Parallel(n_jobs=100)]: Done  54 out of 100 | elapsed:    0.0s remaining:    0.0s\n",
      "[Parallel(n_jobs=100)]: Done 100 out of 100 | elapsed:    0.0s finished\n"
     ]
    }
   ],
   "source": [
    "rf = RandomForestClassifier(n_estimators=100, max_depth=25, n_jobs=10000, verbose=2)\n",
    "rf.fit(X_train,y_train)\n",
    "\n",
    "predict_rf = rf.predict(X_test)"
   ]
  },
  {
   "cell_type": "code",
   "execution_count": 195,
   "metadata": {},
   "outputs": [
    {
     "output_type": "stream",
     "name": "stdout",
     "text": [
      "Accuracy: 0.668627090608344\n"
     ]
    }
   ],
   "source": [
    "print(\"Accuracy:\", metrics.accuracy_score(y_test, predict_rf))"
   ]
  },
  {
   "cell_type": "code",
   "execution_count": 199,
   "metadata": {},
   "outputs": [
    {
     "output_type": "execute_result",
     "data": {
      "text/plain": [
       "       Zip_Code  Year  Month  Mobility_Rate  Expense_Index  Crime_Index  \\\n",
       "0         32003  2019      1           0.18            104           28   \n",
       "1         32003  2019      2           0.18            104           28   \n",
       "2         32003  2019      3           0.18            104           28   \n",
       "3         32003  2019      4           0.18            104           28   \n",
       "4         32003  2019      5           0.18            104           28   \n",
       "...         ...   ...    ...            ...            ...          ...   \n",
       "21759     34997  2020     10           0.14             91          113   \n",
       "21760     34997  2020     11           0.14             91          113   \n",
       "21761     34997  2020     11           0.14             91          113   \n",
       "21762     34997  2020     12           0.14             91          113   \n",
       "21763     34997  2020     12           0.14             91          113   \n",
       "\n",
       "       Total_Vacant  Total_Dwellings  Total_Sales  FHA_Count  ...  Sale_Price  \\\n",
       "0               704            11724           32          7  ...   244950.00   \n",
       "1               704            11724           41          2  ...   270000.00   \n",
       "2               704            11724           21          7  ...   275000.00   \n",
       "3               704            11724           42          3  ...   264500.00   \n",
       "4               704            11724           66          8  ...   281000.00   \n",
       "...             ...              ...          ...        ...  ...         ...   \n",
       "21759          2976            21551          139         17  ...   285000.00   \n",
       "21760          2976            21551          132         11  ...   259750.00   \n",
       "21761          2976            21551          132         11  ...   259750.00   \n",
       "21762          2976            21551          142         16  ...   297000.00   \n",
       "21763          2976            21551          142         16  ...   297000.00   \n",
       "\n",
       "       Last_Month_Price  Last_2Month_Price  Last_3Month_Price  \\\n",
       "0                   nan                nan                nan   \n",
       "1             244950.00                nan                nan   \n",
       "2             270000.00          244950.00                nan   \n",
       "3             275000.00          270000.00          244950.00   \n",
       "4             264500.00          275000.00          270000.00   \n",
       "...                 ...                ...                ...   \n",
       "21759         285000.00          256000.00          256000.00   \n",
       "21760         285000.00          285000.00          256000.00   \n",
       "21761         259750.00          285000.00          285000.00   \n",
       "21762         259750.00          259750.00          285000.00   \n",
       "21763         297000.00          259750.00          259750.00   \n",
       "\n",
       "       Last_4Month_Price  Last_Month_Diff  Last_2Month_Diff  Last_3Month_Diff  \\\n",
       "0                    nan              nan               nan               nan   \n",
       "1                    nan         25050.00               nan               nan   \n",
       "2                    nan          5000.00          30050.00               nan   \n",
       "3                    nan        -10500.00          -5500.00          19550.00   \n",
       "4              244950.00         16500.00           6000.00          11000.00   \n",
       "...                  ...              ...               ...               ...   \n",
       "21759          251000.00             0.00          29000.00          29000.00   \n",
       "21760          256000.00        -25250.00         -25250.00           3750.00   \n",
       "21761          256000.00             0.00         -25250.00         -25250.00   \n",
       "21762          285000.00         37250.00          37250.00          12000.00   \n",
       "21763          285000.00             0.00          37250.00          37250.00   \n",
       "\n",
       "       Last_4Month_Diff  Price_Change_4mo  \n",
       "0                   nan                 0  \n",
       "1                   nan                 0  \n",
       "2                   nan                 0  \n",
       "3                   nan                 0  \n",
       "4              36050.00                 1  \n",
       "...                 ...               ...  \n",
       "21759          34000.00                 1  \n",
       "21760           3750.00                 1  \n",
       "21761           3750.00                 1  \n",
       "21762          12000.00                 1  \n",
       "21763          12000.00                 1  \n",
       "\n",
       "[21764 rows x 22 columns]"
      ],
      "text/html": "<div>\n<style scoped>\n    .dataframe tbody tr th:only-of-type {\n        vertical-align: middle;\n    }\n\n    .dataframe tbody tr th {\n        vertical-align: top;\n    }\n\n    .dataframe thead th {\n        text-align: right;\n    }\n</style>\n<table border=\"1\" class=\"dataframe\">\n  <thead>\n    <tr style=\"text-align: right;\">\n      <th></th>\n      <th>Zip_Code</th>\n      <th>Year</th>\n      <th>Month</th>\n      <th>Mobility_Rate</th>\n      <th>Expense_Index</th>\n      <th>Crime_Index</th>\n      <th>Total_Vacant</th>\n      <th>Total_Dwellings</th>\n      <th>Total_Sales</th>\n      <th>FHA_Count</th>\n      <th>...</th>\n      <th>Sale_Price</th>\n      <th>Last_Month_Price</th>\n      <th>Last_2Month_Price</th>\n      <th>Last_3Month_Price</th>\n      <th>Last_4Month_Price</th>\n      <th>Last_Month_Diff</th>\n      <th>Last_2Month_Diff</th>\n      <th>Last_3Month_Diff</th>\n      <th>Last_4Month_Diff</th>\n      <th>Price_Change_4mo</th>\n    </tr>\n  </thead>\n  <tbody>\n    <tr>\n      <th>0</th>\n      <td>32003</td>\n      <td>2019</td>\n      <td>1</td>\n      <td>0.18</td>\n      <td>104</td>\n      <td>28</td>\n      <td>704</td>\n      <td>11724</td>\n      <td>32</td>\n      <td>7</td>\n      <td>...</td>\n      <td>244950.00</td>\n      <td>nan</td>\n      <td>nan</td>\n      <td>nan</td>\n      <td>nan</td>\n      <td>nan</td>\n      <td>nan</td>\n      <td>nan</td>\n      <td>nan</td>\n      <td>0</td>\n    </tr>\n    <tr>\n      <th>1</th>\n      <td>32003</td>\n      <td>2019</td>\n      <td>2</td>\n      <td>0.18</td>\n      <td>104</td>\n      <td>28</td>\n      <td>704</td>\n      <td>11724</td>\n      <td>41</td>\n      <td>2</td>\n      <td>...</td>\n      <td>270000.00</td>\n      <td>244950.00</td>\n      <td>nan</td>\n      <td>nan</td>\n      <td>nan</td>\n      <td>25050.00</td>\n      <td>nan</td>\n      <td>nan</td>\n      <td>nan</td>\n      <td>0</td>\n    </tr>\n    <tr>\n      <th>2</th>\n      <td>32003</td>\n      <td>2019</td>\n      <td>3</td>\n      <td>0.18</td>\n      <td>104</td>\n      <td>28</td>\n      <td>704</td>\n      <td>11724</td>\n      <td>21</td>\n      <td>7</td>\n      <td>...</td>\n      <td>275000.00</td>\n      <td>270000.00</td>\n      <td>244950.00</td>\n      <td>nan</td>\n      <td>nan</td>\n      <td>5000.00</td>\n      <td>30050.00</td>\n      <td>nan</td>\n      <td>nan</td>\n      <td>0</td>\n    </tr>\n    <tr>\n      <th>3</th>\n      <td>32003</td>\n      <td>2019</td>\n      <td>4</td>\n      <td>0.18</td>\n      <td>104</td>\n      <td>28</td>\n      <td>704</td>\n      <td>11724</td>\n      <td>42</td>\n      <td>3</td>\n      <td>...</td>\n      <td>264500.00</td>\n      <td>275000.00</td>\n      <td>270000.00</td>\n      <td>244950.00</td>\n      <td>nan</td>\n      <td>-10500.00</td>\n      <td>-5500.00</td>\n      <td>19550.00</td>\n      <td>nan</td>\n      <td>0</td>\n    </tr>\n    <tr>\n      <th>4</th>\n      <td>32003</td>\n      <td>2019</td>\n      <td>5</td>\n      <td>0.18</td>\n      <td>104</td>\n      <td>28</td>\n      <td>704</td>\n      <td>11724</td>\n      <td>66</td>\n      <td>8</td>\n      <td>...</td>\n      <td>281000.00</td>\n      <td>264500.00</td>\n      <td>275000.00</td>\n      <td>270000.00</td>\n      <td>244950.00</td>\n      <td>16500.00</td>\n      <td>6000.00</td>\n      <td>11000.00</td>\n      <td>36050.00</td>\n      <td>1</td>\n    </tr>\n    <tr>\n      <th>...</th>\n      <td>...</td>\n      <td>...</td>\n      <td>...</td>\n      <td>...</td>\n      <td>...</td>\n      <td>...</td>\n      <td>...</td>\n      <td>...</td>\n      <td>...</td>\n      <td>...</td>\n      <td>...</td>\n      <td>...</td>\n      <td>...</td>\n      <td>...</td>\n      <td>...</td>\n      <td>...</td>\n      <td>...</td>\n      <td>...</td>\n      <td>...</td>\n      <td>...</td>\n      <td>...</td>\n    </tr>\n    <tr>\n      <th>21759</th>\n      <td>34997</td>\n      <td>2020</td>\n      <td>10</td>\n      <td>0.14</td>\n      <td>91</td>\n      <td>113</td>\n      <td>2976</td>\n      <td>21551</td>\n      <td>139</td>\n      <td>17</td>\n      <td>...</td>\n      <td>285000.00</td>\n      <td>285000.00</td>\n      <td>256000.00</td>\n      <td>256000.00</td>\n      <td>251000.00</td>\n      <td>0.00</td>\n      <td>29000.00</td>\n      <td>29000.00</td>\n      <td>34000.00</td>\n      <td>1</td>\n    </tr>\n    <tr>\n      <th>21760</th>\n      <td>34997</td>\n      <td>2020</td>\n      <td>11</td>\n      <td>0.14</td>\n      <td>91</td>\n      <td>113</td>\n      <td>2976</td>\n      <td>21551</td>\n      <td>132</td>\n      <td>11</td>\n      <td>...</td>\n      <td>259750.00</td>\n      <td>285000.00</td>\n      <td>285000.00</td>\n      <td>256000.00</td>\n      <td>256000.00</td>\n      <td>-25250.00</td>\n      <td>-25250.00</td>\n      <td>3750.00</td>\n      <td>3750.00</td>\n      <td>1</td>\n    </tr>\n    <tr>\n      <th>21761</th>\n      <td>34997</td>\n      <td>2020</td>\n      <td>11</td>\n      <td>0.14</td>\n      <td>91</td>\n      <td>113</td>\n      <td>2976</td>\n      <td>21551</td>\n      <td>132</td>\n      <td>11</td>\n      <td>...</td>\n      <td>259750.00</td>\n      <td>259750.00</td>\n      <td>285000.00</td>\n      <td>285000.00</td>\n      <td>256000.00</td>\n      <td>0.00</td>\n      <td>-25250.00</td>\n      <td>-25250.00</td>\n      <td>3750.00</td>\n      <td>1</td>\n    </tr>\n    <tr>\n      <th>21762</th>\n      <td>34997</td>\n      <td>2020</td>\n      <td>12</td>\n      <td>0.14</td>\n      <td>91</td>\n      <td>113</td>\n      <td>2976</td>\n      <td>21551</td>\n      <td>142</td>\n      <td>16</td>\n      <td>...</td>\n      <td>297000.00</td>\n      <td>259750.00</td>\n      <td>259750.00</td>\n      <td>285000.00</td>\n      <td>285000.00</td>\n      <td>37250.00</td>\n      <td>37250.00</td>\n      <td>12000.00</td>\n      <td>12000.00</td>\n      <td>1</td>\n    </tr>\n    <tr>\n      <th>21763</th>\n      <td>34997</td>\n      <td>2020</td>\n      <td>12</td>\n      <td>0.14</td>\n      <td>91</td>\n      <td>113</td>\n      <td>2976</td>\n      <td>21551</td>\n      <td>142</td>\n      <td>16</td>\n      <td>...</td>\n      <td>297000.00</td>\n      <td>297000.00</td>\n      <td>259750.00</td>\n      <td>259750.00</td>\n      <td>285000.00</td>\n      <td>0.00</td>\n      <td>37250.00</td>\n      <td>37250.00</td>\n      <td>12000.00</td>\n      <td>1</td>\n    </tr>\n  </tbody>\n</table>\n<p>21764 rows × 22 columns</p>\n</div>"
     },
     "metadata": {},
     "execution_count": 199
    }
   ],
   "source": [
    "price_change_4mo = []\n",
    "\n",
    "for row in ml_data_4mo['Last_4Month_Diff']:\n",
    "    if row > 0:\n",
    "        price_change_4mo.append(1)\n",
    "    else:\n",
    "        price_change_4mo.append(0)\n",
    "ml_data_4mo['Price_Change_4mo'] = price_change_4mo\n",
    "\n",
    "ml_data_4mo"
   ]
  },
  {
   "cell_type": "code",
   "execution_count": 200,
   "metadata": {},
   "outputs": [
    {
     "output_type": "execute_result",
     "data": {
      "text/plain": [
       "       Mobility_Rate  Expense_Index  Crime_Index  Total_Vacant  \\\n",
       "0               0.18            104           28           704   \n",
       "1               0.18            104           28           704   \n",
       "2               0.18            104           28           704   \n",
       "3               0.18            104           28           704   \n",
       "4               0.18            104           28           704   \n",
       "...              ...            ...          ...           ...   \n",
       "21759           0.14             91          113          2976   \n",
       "21760           0.14             91          113          2976   \n",
       "21761           0.14             91          113          2976   \n",
       "21762           0.14             91          113          2976   \n",
       "21763           0.14             91          113          2976   \n",
       "\n",
       "       Total_Dwellings  Total_Sales  FHA_Count  Home_Affordability  \\\n",
       "0                11724           32          7                0.13   \n",
       "1                11724           41          2                0.14   \n",
       "2                11724           21          7                0.14   \n",
       "3                11724           42          3                0.13   \n",
       "4                11724           66          8                0.14   \n",
       "...                ...          ...        ...                 ...   \n",
       "21759            21551          139         17                0.19   \n",
       "21760            21551          132         11                0.17   \n",
       "21761            21551          132         11                0.17   \n",
       "21762            21551          142         16                0.20   \n",
       "21763            21551          142         16                0.20   \n",
       "\n",
       "       Rent_Affordability  Sale_Price  Price_Change_4mo  \n",
       "0                    0.14   244950.00                 0  \n",
       "1                    0.14   270000.00                 0  \n",
       "2                    0.14   275000.00                 0  \n",
       "3                    0.14   264500.00                 0  \n",
       "4                    0.14   281000.00                 1  \n",
       "...                   ...         ...               ...  \n",
       "21759                0.25   285000.00                 1  \n",
       "21760                0.25   259750.00                 1  \n",
       "21761                0.25   259750.00                 1  \n",
       "21762                0.25   297000.00                 1  \n",
       "21763                0.25   297000.00                 1  \n",
       "\n",
       "[21764 rows x 11 columns]"
      ],
      "text/html": "<div>\n<style scoped>\n    .dataframe tbody tr th:only-of-type {\n        vertical-align: middle;\n    }\n\n    .dataframe tbody tr th {\n        vertical-align: top;\n    }\n\n    .dataframe thead th {\n        text-align: right;\n    }\n</style>\n<table border=\"1\" class=\"dataframe\">\n  <thead>\n    <tr style=\"text-align: right;\">\n      <th></th>\n      <th>Mobility_Rate</th>\n      <th>Expense_Index</th>\n      <th>Crime_Index</th>\n      <th>Total_Vacant</th>\n      <th>Total_Dwellings</th>\n      <th>Total_Sales</th>\n      <th>FHA_Count</th>\n      <th>Home_Affordability</th>\n      <th>Rent_Affordability</th>\n      <th>Sale_Price</th>\n      <th>Price_Change_4mo</th>\n    </tr>\n  </thead>\n  <tbody>\n    <tr>\n      <th>0</th>\n      <td>0.18</td>\n      <td>104</td>\n      <td>28</td>\n      <td>704</td>\n      <td>11724</td>\n      <td>32</td>\n      <td>7</td>\n      <td>0.13</td>\n      <td>0.14</td>\n      <td>244950.00</td>\n      <td>0</td>\n    </tr>\n    <tr>\n      <th>1</th>\n      <td>0.18</td>\n      <td>104</td>\n      <td>28</td>\n      <td>704</td>\n      <td>11724</td>\n      <td>41</td>\n      <td>2</td>\n      <td>0.14</td>\n      <td>0.14</td>\n      <td>270000.00</td>\n      <td>0</td>\n    </tr>\n    <tr>\n      <th>2</th>\n      <td>0.18</td>\n      <td>104</td>\n      <td>28</td>\n      <td>704</td>\n      <td>11724</td>\n      <td>21</td>\n      <td>7</td>\n      <td>0.14</td>\n      <td>0.14</td>\n      <td>275000.00</td>\n      <td>0</td>\n    </tr>\n    <tr>\n      <th>3</th>\n      <td>0.18</td>\n      <td>104</td>\n      <td>28</td>\n      <td>704</td>\n      <td>11724</td>\n      <td>42</td>\n      <td>3</td>\n      <td>0.13</td>\n      <td>0.14</td>\n      <td>264500.00</td>\n      <td>0</td>\n    </tr>\n    <tr>\n      <th>4</th>\n      <td>0.18</td>\n      <td>104</td>\n      <td>28</td>\n      <td>704</td>\n      <td>11724</td>\n      <td>66</td>\n      <td>8</td>\n      <td>0.14</td>\n      <td>0.14</td>\n      <td>281000.00</td>\n      <td>1</td>\n    </tr>\n    <tr>\n      <th>...</th>\n      <td>...</td>\n      <td>...</td>\n      <td>...</td>\n      <td>...</td>\n      <td>...</td>\n      <td>...</td>\n      <td>...</td>\n      <td>...</td>\n      <td>...</td>\n      <td>...</td>\n      <td>...</td>\n    </tr>\n    <tr>\n      <th>21759</th>\n      <td>0.14</td>\n      <td>91</td>\n      <td>113</td>\n      <td>2976</td>\n      <td>21551</td>\n      <td>139</td>\n      <td>17</td>\n      <td>0.19</td>\n      <td>0.25</td>\n      <td>285000.00</td>\n      <td>1</td>\n    </tr>\n    <tr>\n      <th>21760</th>\n      <td>0.14</td>\n      <td>91</td>\n      <td>113</td>\n      <td>2976</td>\n      <td>21551</td>\n      <td>132</td>\n      <td>11</td>\n      <td>0.17</td>\n      <td>0.25</td>\n      <td>259750.00</td>\n      <td>1</td>\n    </tr>\n    <tr>\n      <th>21761</th>\n      <td>0.14</td>\n      <td>91</td>\n      <td>113</td>\n      <td>2976</td>\n      <td>21551</td>\n      <td>132</td>\n      <td>11</td>\n      <td>0.17</td>\n      <td>0.25</td>\n      <td>259750.00</td>\n      <td>1</td>\n    </tr>\n    <tr>\n      <th>21762</th>\n      <td>0.14</td>\n      <td>91</td>\n      <td>113</td>\n      <td>2976</td>\n      <td>21551</td>\n      <td>142</td>\n      <td>16</td>\n      <td>0.20</td>\n      <td>0.25</td>\n      <td>297000.00</td>\n      <td>1</td>\n    </tr>\n    <tr>\n      <th>21763</th>\n      <td>0.14</td>\n      <td>91</td>\n      <td>113</td>\n      <td>2976</td>\n      <td>21551</td>\n      <td>142</td>\n      <td>16</td>\n      <td>0.20</td>\n      <td>0.25</td>\n      <td>297000.00</td>\n      <td>1</td>\n    </tr>\n  </tbody>\n</table>\n<p>21764 rows × 11 columns</p>\n</div>"
     },
     "metadata": {},
     "execution_count": 200
    }
   ],
   "source": [
    "ml_data_4mo = ml_data_4mo.drop(columns=['Zip_Code', 'Year', 'Month', 'Last_Month_Price',\n",
    "                        'Last_2Month_Price', 'Last_2Month_Price', 'Last_Month_Diff',\n",
    "                        'Last_2Month_Diff', 'Last_3Month_Price', 'Last_3Month_Diff',\n",
    "                        'Last_4Month_Diff', 'Last_4Month_Price'])\n",
    "ml_data_4mo"
   ]
  },
  {
   "cell_type": "code",
   "execution_count": 201,
   "metadata": {},
   "outputs": [],
   "source": [
    "ml_data_3mo.replace([np.inf, -np.inf], np.nan, inplace=True)\n",
    "ml_data_3mo.dropna(inplace=True)"
   ]
  },
  {
   "cell_type": "code",
   "execution_count": 202,
   "metadata": {},
   "outputs": [
    {
     "output_type": "execute_result",
     "data": {
      "text/plain": [
       "array([0, 0, 0, ..., 0, 1, 1])"
      ]
     },
     "metadata": {},
     "execution_count": 202
    }
   ],
   "source": [
    "y_value = ml_data_3mo['Price_Change_3mo'].values\n",
    "\n",
    "x_values = ml_data_3mo.drop(columns='Price_Change_3mo')\n",
    "\n",
    "feature_names = x_values.columns\n",
    "\n",
    "x_values\n",
    "y_value"
   ]
  },
  {
   "cell_type": "code",
   "execution_count": 203,
   "metadata": {},
   "outputs": [],
   "source": [
    "X_train, X_test, y_train, y_test = train_test_split(x_values, y_value, random_state=42)"
   ]
  },
  {
   "cell_type": "code",
   "execution_count": 204,
   "metadata": {},
   "outputs": [
    {
     "output_type": "display_data",
     "data": {
      "text/plain": "<IPython.core.display.Javascript object>",
      "application/javascript": "\n        if (window._pyforest_update_imports_cell) { window._pyforest_update_imports_cell('from sklearn.model_selection import train_test_split\\nfrom sklearn.ensemble import RandomForestClassifier'); }\n    "
     },
     "metadata": {}
    },
    {
     "output_type": "stream",
     "name": "stderr",
     "text": [
      "[Parallel(n_jobs=10000)]: Using backend ThreadingBackend with 10000 concurrent workers.\n",
      "building tree 1 of 100building tree 2 of 100building tree 3 of 100building tree 4 of 100building tree 5 of 100building tree 6 of 100building tree 7 of 100building tree 8 of 100building tree 9 of 100building tree 10 of 100building tree 11 of 100building tree 12 of 100building tree 13 of 100building tree 14 of 100building tree 15 of 100building tree 16 of 100building tree 17 of 100building tree 18 of 100building tree 19 of 100building tree 20 of 100building tree 21 of 100building tree 22 of 100building tree 23 of 100building tree 24 of 100building tree 25 of 100building tree 26 of 100building tree 27 of 100building tree 28 of 100building tree 29 of 100building tree 30 of 100building tree 31 of 100building tree 32 of 100building tree 33 of 100building tree 34 of 100building tree 35 of 100building tree 36 of 100building tree 37 of 100building tree 38 of 100\n",
      "\n",
      "building tree 39 of 100building tree 40 of 100building tree 41 of 100building tree 42 of 100building tree 43 of 100building tree 44 of 100building tree 45 of 100building tree 46 of 100\n",
      "\n",
      "\n",
      "\n",
      "\n",
      "\n",
      "building tree 47 of 100building tree 48 of 100\n",
      "\n",
      "\n",
      "building tree 49 of 100building tree 50 of 100building tree 51 of 100building tree 52 of 100building tree 53 of 100building tree 54 of 100building tree 55 of 100building tree 56 of 100\n",
      "\n",
      "building tree 57 of 100building tree 58 of 100\n",
      "\n",
      "\n",
      "\n",
      "\n",
      "building tree 59 of 100\n",
      "\n",
      "\n",
      "\n",
      "\n",
      "\n",
      "\n",
      "\n",
      "\n",
      "\n",
      "building tree 60 of 100building tree 61 of 100building tree 62 of 100\n",
      "building tree 63 of 100building tree 64 of 100building tree 65 of 100building tree 66 of 100building tree 67 of 100building tree 68 of 100building tree 69 of 100building tree 70 of 100\n",
      "building tree 71 of 100building tree 72 of 100building tree 73 of 100building tree 74 of 100building tree 75 of 100building tree 76 of 100building tree 77 of 100building tree 78 of 100\n",
      "\n",
      "building tree 79 of 100\n",
      "building tree 80 of 100building tree 81 of 100building tree 82 of 100\n",
      "building tree 83 of 100\n",
      "building tree 84 of 100\n",
      "building tree 85 of 100building tree 86 of 100\n",
      "\n",
      "\n",
      "\n",
      "\n",
      "\n",
      "\n",
      "\n",
      "\n",
      "\n",
      "\n",
      "\n",
      "building tree 87 of 100building tree 88 of 100building tree 89 of 100\n",
      "building tree 90 of 100\n",
      "\n",
      "building tree 91 of 100building tree 92 of 100\n",
      "\n",
      "building tree 93 of 100\n",
      "\n",
      "\n",
      "\n",
      "\n",
      "\n",
      "\n",
      "building tree 94 of 100\n",
      "\n",
      "\n",
      "building tree 95 of 100\n",
      "\n",
      "\n",
      "\n",
      "\n",
      "\n",
      "\n",
      "\n",
      "\n",
      "building tree 96 of 100building tree 97 of 100\n",
      "building tree 98 of 100\n",
      "\n",
      "\n",
      "\n",
      "\n",
      "\n",
      "\n",
      "building tree 99 of 100\n",
      "\n",
      "\n",
      "\n",
      "\n",
      "\n",
      "\n",
      "\n",
      "building tree 100 of 100\n",
      "\n",
      "\n",
      "\n",
      "\n",
      "\n",
      "\n",
      "\n",
      "\n",
      "\n",
      "\n",
      "\n",
      "[Parallel(n_jobs=10000)]: Done  42 out of 100 | elapsed:    7.0s remaining:    9.7s\n",
      "[Parallel(n_jobs=10000)]: Done  93 out of 100 | elapsed:    7.1s remaining:    0.5s\n",
      "[Parallel(n_jobs=10000)]: Done 100 out of 100 | elapsed:    7.1s finished\n",
      "[Parallel(n_jobs=100)]: Using backend ThreadingBackend with 100 concurrent workers.\n",
      "[Parallel(n_jobs=100)]: Done   3 out of 100 | elapsed:    0.0s remaining:    1.0s\n",
      "[Parallel(n_jobs=100)]: Done  54 out of 100 | elapsed:    0.0s remaining:    0.0s\n",
      "[Parallel(n_jobs=100)]: Done 100 out of 100 | elapsed:    0.0s finished\n"
     ]
    }
   ],
   "source": [
    "rf = RandomForestClassifier(n_estimators=100, max_depth=25, n_jobs=10000, verbose=2)\n",
    "rf.fit(X_train,y_train)\n",
    "\n",
    "predict_rf = rf.predict(X_test)"
   ]
  },
  {
   "cell_type": "code",
   "execution_count": 205,
   "metadata": {},
   "outputs": [
    {
     "output_type": "stream",
     "name": "stdout",
     "text": [
      "Accuracy: 0.6706487777981989\n"
     ]
    }
   ],
   "source": [
    "print(\"Accuracy:\", metrics.accuracy_score(y_test, predict_rf))"
   ]
  },
  {
   "cell_type": "code",
   "execution_count": null,
   "metadata": {},
   "outputs": [],
   "source": []
  }
 ]
}