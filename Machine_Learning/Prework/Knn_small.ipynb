{
 "cells": [
  {
   "cell_type": "code",
   "execution_count": 1,
   "metadata": {
    "collapsed": true,
    "jupyter": {
     "outputs_hidden": true
    }
   },
   "outputs": [
    {
     "name": "stdout",
     "output_type": "stream",
     "text": [
      "Collecting sklearn\n",
      "  Downloading sklearn-0.0.tar.gz (1.1 kB)\n",
      "Collecting pip\n",
      "  Downloading pip-21.1.2-py3-none-any.whl (1.5 MB)\n",
      "Requirement already satisfied, skipping upgrade: scikit-learn in c:\\users\\alexm\\anaconda3\\envs\\pythondata\\lib\\site-packages (from sklearn) (0.23.1)\n",
      "Requirement already satisfied, skipping upgrade: threadpoolctl>=2.0.0 in c:\\users\\alexm\\anaconda3\\envs\\pythondata\\lib\\site-packages (from scikit-learn->sklearn) (2.1.0)\n",
      "Requirement already satisfied, skipping upgrade: joblib>=0.11 in c:\\users\\alexm\\anaconda3\\envs\\pythondata\\lib\\site-packages (from scikit-learn->sklearn) (0.16.0)\n",
      "Requirement already satisfied, skipping upgrade: numpy>=1.13.3 in c:\\users\\alexm\\anaconda3\\envs\\pythondata\\lib\\site-packages (from scikit-learn->sklearn) (1.17.0)\n",
      "Requirement already satisfied, skipping upgrade: scipy>=0.19.1 in c:\\users\\alexm\\anaconda3\\envs\\pythondata\\lib\\site-packages (from scikit-learn->sklearn) (1.5.0)\n",
      "Building wheels for collected packages: sklearn\n",
      "  Building wheel for sklearn (setup.py): started\n",
      "  Building wheel for sklearn (setup.py): finished with status 'done'\n",
      "  Created wheel for sklearn: filename=sklearn-0.0-py2.py3-none-any.whl size=1320 sha256=60b2bea1cc80d5745d226946e19ae921a72d7e8d350e8e6572637aefd21eaa7f\n",
      "  Stored in directory: c:\\users\\alexm\\appdata\\local\\pip\\cache\\wheels\\23\\9d\\42\\5ec745cbbb17517000a53cecc49d6a865450d1f5cb16dc8a9c\n",
      "Successfully built sklearn\n",
      "Installing collected packages: sklearn, pip\n",
      "  Attempting uninstall: pip\n",
      "    Found existing installation: pip 20.1.1\n",
      "    Uninstalling pip-20.1.1:\n",
      "      Successfully uninstalled pip-20.1.1\n"
     ]
    },
    {
     "name": "stderr",
     "output_type": "stream",
     "text": [
      "ERROR: Could not install packages due to an EnvironmentError: [WinError 5] Access is denied: 'C:\\\\Users\\\\alexm\\\\AppData\\\\Local\\\\Temp\\\\pip-uninstall-kxyjyt27\\\\pip.exe'\n",
      "Consider using the `--user` option or check the permissions.\n",
      "\n"
     ]
    }
   ],
   "source": [
    "# Update sklearn to prevent version mismatches\n",
    "!pip install sklearn --upgrade pip"
   ]
  },
  {
   "cell_type": "code",
   "execution_count": 2,
   "metadata": {},
   "outputs": [
    {
     "name": "stdout",
     "output_type": "stream",
     "text": [
      "Requirement already satisfied: joblib in c:\\users\\alexm\\anaconda3\\envs\\pythondata\\lib\\site-packages (0.16.0)\n"
     ]
    }
   ],
   "source": [
    "# install joblib. This will be used to save your model. \n",
    "# Restart your kernel after installing \n",
    "!pip install joblib"
   ]
  },
  {
   "cell_type": "code",
   "execution_count": 3,
   "metadata": {},
   "outputs": [],
   "source": [
    "import pandas as pd\n",
    "import matplotlib.pyplot as plt\n",
    "from sklearn.neighbors import KNeighborsClassifier"
   ]
  },
  {
   "cell_type": "markdown",
   "metadata": {},
   "source": [
    "## Read in the data"
   ]
  },
  {
   "cell_type": "code",
   "execution_count": 5,
   "metadata": {},
   "outputs": [
    {
     "data": {
      "text/html": [
       "<div>\n",
       "<style scoped>\n",
       "    .dataframe tbody tr th:only-of-type {\n",
       "        vertical-align: middle;\n",
       "    }\n",
       "\n",
       "    .dataframe tbody tr th {\n",
       "        vertical-align: top;\n",
       "    }\n",
       "\n",
       "    .dataframe thead th {\n",
       "        text-align: right;\n",
       "    }\n",
       "</style>\n",
       "<table border=\"1\" class=\"dataframe\">\n",
       "  <thead>\n",
       "    <tr style=\"text-align: right;\">\n",
       "      <th></th>\n",
       "      <th>Unnamed: 0</th>\n",
       "      <th>Zip_Code</th>\n",
       "      <th>Year</th>\n",
       "      <th>Month</th>\n",
       "      <th>Sale_Price</th>\n",
       "      <th>Property_Tax</th>\n",
       "      <th>Rent_Price</th>\n",
       "      <th>Household_Income</th>\n",
       "      <th>Rent_Affordability</th>\n",
       "      <th>Total_Sales</th>\n",
       "      <th>...</th>\n",
       "      <th>Average_Commute</th>\n",
       "      <th>Crime_Index</th>\n",
       "      <th>Loan_Amount</th>\n",
       "      <th>Loan_Term</th>\n",
       "      <th>Loan_R</th>\n",
       "      <th>Loan_Payment</th>\n",
       "      <th>Home_Affordability</th>\n",
       "      <th>Last_Month_Price</th>\n",
       "      <th>Last_Month_Diff</th>\n",
       "      <th>Price_Change_1mo</th>\n",
       "    </tr>\n",
       "  </thead>\n",
       "  <tbody>\n",
       "    <tr>\n",
       "      <th>0</th>\n",
       "      <td>1</td>\n",
       "      <td>32003</td>\n",
       "      <td>2019</td>\n",
       "      <td>2</td>\n",
       "      <td>270000.0</td>\n",
       "      <td>3778</td>\n",
       "      <td>1113</td>\n",
       "      <td>94154.0</td>\n",
       "      <td>0.141853</td>\n",
       "      <td>41</td>\n",
       "      <td>...</td>\n",
       "      <td>35</td>\n",
       "      <td>28</td>\n",
       "      <td>216000.0</td>\n",
       "      <td>360.0</td>\n",
       "      <td>1.003642</td>\n",
       "      <td>1077.819242</td>\n",
       "      <td>0.137369</td>\n",
       "      <td>244950.0</td>\n",
       "      <td>25050.0</td>\n",
       "      <td>1</td>\n",
       "    </tr>\n",
       "    <tr>\n",
       "      <th>1</th>\n",
       "      <td>2</td>\n",
       "      <td>32003</td>\n",
       "      <td>2019</td>\n",
       "      <td>3</td>\n",
       "      <td>275000.0</td>\n",
       "      <td>3778</td>\n",
       "      <td>1113</td>\n",
       "      <td>94154.0</td>\n",
       "      <td>0.141853</td>\n",
       "      <td>21</td>\n",
       "      <td>...</td>\n",
       "      <td>35</td>\n",
       "      <td>28</td>\n",
       "      <td>220000.0</td>\n",
       "      <td>360.0</td>\n",
       "      <td>1.003554</td>\n",
       "      <td>1084.200547</td>\n",
       "      <td>0.138182</td>\n",
       "      <td>270000.0</td>\n",
       "      <td>5000.0</td>\n",
       "      <td>1</td>\n",
       "    </tr>\n",
       "    <tr>\n",
       "      <th>2</th>\n",
       "      <td>3</td>\n",
       "      <td>32003</td>\n",
       "      <td>2019</td>\n",
       "      <td>4</td>\n",
       "      <td>264500.0</td>\n",
       "      <td>3778</td>\n",
       "      <td>1113</td>\n",
       "      <td>94154.0</td>\n",
       "      <td>0.141853</td>\n",
       "      <td>42</td>\n",
       "      <td>...</td>\n",
       "      <td>35</td>\n",
       "      <td>28</td>\n",
       "      <td>211600.0</td>\n",
       "      <td>360.0</td>\n",
       "      <td>1.003452</td>\n",
       "      <td>1027.671397</td>\n",
       "      <td>0.130978</td>\n",
       "      <td>275000.0</td>\n",
       "      <td>-10500.0</td>\n",
       "      <td>0</td>\n",
       "    </tr>\n",
       "    <tr>\n",
       "      <th>3</th>\n",
       "      <td>4</td>\n",
       "      <td>32003</td>\n",
       "      <td>2019</td>\n",
       "      <td>5</td>\n",
       "      <td>281000.0</td>\n",
       "      <td>3778</td>\n",
       "      <td>1113</td>\n",
       "      <td>94154.0</td>\n",
       "      <td>0.141853</td>\n",
       "      <td>66</td>\n",
       "      <td>...</td>\n",
       "      <td>35</td>\n",
       "      <td>28</td>\n",
       "      <td>224800.0</td>\n",
       "      <td>360.0</td>\n",
       "      <td>1.003393</td>\n",
       "      <td>1082.581718</td>\n",
       "      <td>0.137976</td>\n",
       "      <td>264500.0</td>\n",
       "      <td>16500.0</td>\n",
       "      <td>1</td>\n",
       "    </tr>\n",
       "    <tr>\n",
       "      <th>4</th>\n",
       "      <td>5</td>\n",
       "      <td>32003</td>\n",
       "      <td>2019</td>\n",
       "      <td>6</td>\n",
       "      <td>275000.0</td>\n",
       "      <td>3778</td>\n",
       "      <td>1113</td>\n",
       "      <td>94154.0</td>\n",
       "      <td>0.141853</td>\n",
       "      <td>43</td>\n",
       "      <td>...</td>\n",
       "      <td>35</td>\n",
       "      <td>28</td>\n",
       "      <td>220000.0</td>\n",
       "      <td>360.0</td>\n",
       "      <td>1.003169</td>\n",
       "      <td>1025.419293</td>\n",
       "      <td>0.130690</td>\n",
       "      <td>281000.0</td>\n",
       "      <td>-6000.0</td>\n",
       "      <td>0</td>\n",
       "    </tr>\n",
       "  </tbody>\n",
       "</table>\n",
       "<p>5 rows × 30 columns</p>\n",
       "</div>"
      ],
      "text/plain": [
       "   Unnamed: 0  Zip_Code  Year  Month  Sale_Price  Property_Tax  Rent_Price  \\\n",
       "0           1     32003  2019      2    270000.0          3778        1113   \n",
       "1           2     32003  2019      3    275000.0          3778        1113   \n",
       "2           3     32003  2019      4    264500.0          3778        1113   \n",
       "3           4     32003  2019      5    281000.0          3778        1113   \n",
       "4           5     32003  2019      6    275000.0          3778        1113   \n",
       "\n",
       "   Household_Income  Rent_Affordability  Total_Sales  ...  Average_Commute  \\\n",
       "0           94154.0            0.141853           41  ...               35   \n",
       "1           94154.0            0.141853           21  ...               35   \n",
       "2           94154.0            0.141853           42  ...               35   \n",
       "3           94154.0            0.141853           66  ...               35   \n",
       "4           94154.0            0.141853           43  ...               35   \n",
       "\n",
       "   Crime_Index  Loan_Amount  Loan_Term    Loan_R  Loan_Payment  \\\n",
       "0           28     216000.0      360.0  1.003642   1077.819242   \n",
       "1           28     220000.0      360.0  1.003554   1084.200547   \n",
       "2           28     211600.0      360.0  1.003452   1027.671397   \n",
       "3           28     224800.0      360.0  1.003393   1082.581718   \n",
       "4           28     220000.0      360.0  1.003169   1025.419293   \n",
       "\n",
       "   Home_Affordability  Last_Month_Price  Last_Month_Diff  Price_Change_1mo  \n",
       "0            0.137369          244950.0          25050.0                 1  \n",
       "1            0.138182          270000.0           5000.0                 1  \n",
       "2            0.130978          275000.0         -10500.0                 0  \n",
       "3            0.137976          264500.0          16500.0                 1  \n",
       "4            0.130690          281000.0          -6000.0                 0  \n",
       "\n",
       "[5 rows x 30 columns]"
      ]
     },
     "execution_count": 5,
     "metadata": {},
     "output_type": "execute_result"
    }
   ],
   "source": [
    "df = pd.read_csv(\"big_set_data.csv\")\n",
    "df.head()"
   ]
  },
  {
   "cell_type": "markdown",
   "metadata": {},
   "source": [
    "## Select features"
   ]
  },
  {
   "cell_type": "code",
   "execution_count": 6,
   "metadata": {},
   "outputs": [
    {
     "data": {
      "text/html": [
       "<div>\n",
       "<style scoped>\n",
       "    .dataframe tbody tr th:only-of-type {\n",
       "        vertical-align: middle;\n",
       "    }\n",
       "\n",
       "    .dataframe tbody tr th {\n",
       "        vertical-align: top;\n",
       "    }\n",
       "\n",
       "    .dataframe thead th {\n",
       "        text-align: right;\n",
       "    }\n",
       "</style>\n",
       "<table border=\"1\" class=\"dataframe\">\n",
       "  <thead>\n",
       "    <tr style=\"text-align: right;\">\n",
       "      <th></th>\n",
       "      <th>Zip_Code</th>\n",
       "      <th>Year</th>\n",
       "      <th>Month</th>\n",
       "      <th>Total_Sales</th>\n",
       "      <th>FHA_Count</th>\n",
       "      <th>Home_Affordability</th>\n",
       "      <th>Rent_Affordability</th>\n",
       "      <th>Sale_Price</th>\n",
       "    </tr>\n",
       "  </thead>\n",
       "  <tbody>\n",
       "    <tr>\n",
       "      <th>0</th>\n",
       "      <td>32003</td>\n",
       "      <td>2019</td>\n",
       "      <td>2</td>\n",
       "      <td>41</td>\n",
       "      <td>2</td>\n",
       "      <td>0.137369</td>\n",
       "      <td>0.141853</td>\n",
       "      <td>270000.0</td>\n",
       "    </tr>\n",
       "    <tr>\n",
       "      <th>1</th>\n",
       "      <td>32003</td>\n",
       "      <td>2019</td>\n",
       "      <td>3</td>\n",
       "      <td>21</td>\n",
       "      <td>7</td>\n",
       "      <td>0.138182</td>\n",
       "      <td>0.141853</td>\n",
       "      <td>275000.0</td>\n",
       "    </tr>\n",
       "    <tr>\n",
       "      <th>2</th>\n",
       "      <td>32003</td>\n",
       "      <td>2019</td>\n",
       "      <td>4</td>\n",
       "      <td>42</td>\n",
       "      <td>3</td>\n",
       "      <td>0.130978</td>\n",
       "      <td>0.141853</td>\n",
       "      <td>264500.0</td>\n",
       "    </tr>\n",
       "    <tr>\n",
       "      <th>3</th>\n",
       "      <td>32003</td>\n",
       "      <td>2019</td>\n",
       "      <td>5</td>\n",
       "      <td>66</td>\n",
       "      <td>8</td>\n",
       "      <td>0.137976</td>\n",
       "      <td>0.141853</td>\n",
       "      <td>281000.0</td>\n",
       "    </tr>\n",
       "    <tr>\n",
       "      <th>4</th>\n",
       "      <td>32003</td>\n",
       "      <td>2019</td>\n",
       "      <td>6</td>\n",
       "      <td>43</td>\n",
       "      <td>3</td>\n",
       "      <td>0.130690</td>\n",
       "      <td>0.141853</td>\n",
       "      <td>275000.0</td>\n",
       "    </tr>\n",
       "  </tbody>\n",
       "</table>\n",
       "</div>"
      ],
      "text/plain": [
       "   Zip_Code  Year  Month  Total_Sales  FHA_Count  Home_Affordability  \\\n",
       "0     32003  2019      2           41          2            0.137369   \n",
       "1     32003  2019      3           21          7            0.138182   \n",
       "2     32003  2019      4           42          3            0.130978   \n",
       "3     32003  2019      5           66          8            0.137976   \n",
       "4     32003  2019      6           43          3            0.130690   \n",
       "\n",
       "   Rent_Affordability  Sale_Price  \n",
       "0            0.141853    270000.0  \n",
       "1            0.141853    275000.0  \n",
       "2            0.141853    264500.0  \n",
       "3            0.141853    281000.0  \n",
       "4            0.141853    275000.0  "
      ]
     },
     "execution_count": 6,
     "metadata": {},
     "output_type": "execute_result"
    }
   ],
   "source": [
    "# Set features. \n",
    "X = df[['Zip_Code', 'Year', 'Month', 'Total_Sales', 'FHA_Count', \n",
    "'Home_Affordability', 'Rent_Affordability', 'Sale_Price' ]]\n",
    "X.head()"
   ]
  },
  {
   "cell_type": "code",
   "execution_count": 7,
   "metadata": {},
   "outputs": [],
   "source": [
    "#Set Y values as categorical\n",
    "y=pd.get_dummies(df[\"Price_Change_1mo\"])\n",
    "y\n",
    "target_names = [\"COOL MONTH\", \"HOT MONTH\"]"
   ]
  },
  {
   "cell_type": "code",
   "execution_count": 8,
   "metadata": {},
   "outputs": [
    {
     "name": "stdout",
     "output_type": "stream",
     "text": [
      "(20855, 8) (20855, 2)\n"
     ]
    }
   ],
   "source": [
    "#Check shapes to make sure they align. y.shape \n",
    "print(X.shape, y.shape)"
   ]
  },
  {
   "cell_type": "code",
   "execution_count": 9,
   "metadata": {},
   "outputs": [],
   "source": [
    "# Create a Train Test Split\n",
    "\n",
    "# PROPER COLUMN NAME FOR for the y values -- CREATE A 'BUY' COLUMN BASED ON ABOVE CATEGORIZATION\n",
    "\n",
    "from sklearn.model_selection import train_test_split\n",
    "X_train, X_test, y_train, y_test = train_test_split(X, y[1]) #IF Y WAS 2 COLS, ELSE, JUST Y"
   ]
  },
  {
   "cell_type": "code",
   "execution_count": 10,
   "metadata": {},
   "outputs": [
    {
     "data": {
      "text/html": [
       "<div>\n",
       "<style scoped>\n",
       "    .dataframe tbody tr th:only-of-type {\n",
       "        vertical-align: middle;\n",
       "    }\n",
       "\n",
       "    .dataframe tbody tr th {\n",
       "        vertical-align: top;\n",
       "    }\n",
       "\n",
       "    .dataframe thead th {\n",
       "        text-align: right;\n",
       "    }\n",
       "</style>\n",
       "<table border=\"1\" class=\"dataframe\">\n",
       "  <thead>\n",
       "    <tr style=\"text-align: right;\">\n",
       "      <th></th>\n",
       "      <th>Zip_Code</th>\n",
       "      <th>Year</th>\n",
       "      <th>Month</th>\n",
       "      <th>Total_Sales</th>\n",
       "      <th>FHA_Count</th>\n",
       "      <th>Home_Affordability</th>\n",
       "      <th>Rent_Affordability</th>\n",
       "      <th>Sale_Price</th>\n",
       "    </tr>\n",
       "  </thead>\n",
       "  <tbody>\n",
       "    <tr>\n",
       "      <th>14172</th>\n",
       "      <td>33786</td>\n",
       "      <td>2020</td>\n",
       "      <td>12</td>\n",
       "      <td>6</td>\n",
       "      <td>0</td>\n",
       "      <td>0.256770</td>\n",
       "      <td>0.178386</td>\n",
       "      <td>565000.0</td>\n",
       "    </tr>\n",
       "    <tr>\n",
       "      <th>12750</th>\n",
       "      <td>33603</td>\n",
       "      <td>2019</td>\n",
       "      <td>5</td>\n",
       "      <td>62</td>\n",
       "      <td>6</td>\n",
       "      <td>0.191843</td>\n",
       "      <td>0.316451</td>\n",
       "      <td>200000.0</td>\n",
       "    </tr>\n",
       "    <tr>\n",
       "      <th>16706</th>\n",
       "      <td>34216</td>\n",
       "      <td>2019</td>\n",
       "      <td>6</td>\n",
       "      <td>3</td>\n",
       "      <td>0</td>\n",
       "      <td>0.468619</td>\n",
       "      <td>0.206757</td>\n",
       "      <td>775000.0</td>\n",
       "    </tr>\n",
       "    <tr>\n",
       "      <th>14558</th>\n",
       "      <td>33839</td>\n",
       "      <td>2020</td>\n",
       "      <td>9</td>\n",
       "      <td>9</td>\n",
       "      <td>5</td>\n",
       "      <td>0.033695</td>\n",
       "      <td>0.243886</td>\n",
       "      <td>42500.0</td>\n",
       "    </tr>\n",
       "    <tr>\n",
       "      <th>10362</th>\n",
       "      <td>33324</td>\n",
       "      <td>2020</td>\n",
       "      <td>1</td>\n",
       "      <td>68</td>\n",
       "      <td>7</td>\n",
       "      <td>0.129691</td>\n",
       "      <td>0.257164</td>\n",
       "      <td>208750.0</td>\n",
       "    </tr>\n",
       "  </tbody>\n",
       "</table>\n",
       "</div>"
      ],
      "text/plain": [
       "       Zip_Code  Year  Month  Total_Sales  FHA_Count  Home_Affordability  \\\n",
       "14172     33786  2020     12            6          0            0.256770   \n",
       "12750     33603  2019      5           62          6            0.191843   \n",
       "16706     34216  2019      6            3          0            0.468619   \n",
       "14558     33839  2020      9            9          5            0.033695   \n",
       "10362     33324  2020      1           68          7            0.129691   \n",
       "\n",
       "       Rent_Affordability  Sale_Price  \n",
       "14172            0.178386    565000.0  \n",
       "12750            0.316451    200000.0  \n",
       "16706            0.206757    775000.0  \n",
       "14558            0.243886     42500.0  \n",
       "10362            0.257164    208750.0  "
      ]
     },
     "execution_count": 10,
     "metadata": {},
     "output_type": "execute_result"
    }
   ],
   "source": [
    "#Check training X set\n",
    "X_train.head()"
   ]
  },
  {
   "cell_type": "markdown",
   "metadata": {},
   "source": [
    "## Pre-processing\n"
   ]
  },
  {
   "cell_type": "code",
   "execution_count": 11,
   "metadata": {},
   "outputs": [],
   "source": [
    "# Scale the data\n",
    "from numpy import asarray\n",
    "from sklearn.preprocessing import MinMaxScaler"
   ]
  },
  {
   "cell_type": "code",
   "execution_count": 12,
   "metadata": {},
   "outputs": [],
   "source": [
    "X_scaler = MinMaxScaler().fit(X_train)\n",
    "X_train_scaled = X_scaler.transform(X_train)\n",
    "X_test_scaled = X_scaler.transform(X_test)"
   ]
  },
  {
   "cell_type": "code",
   "execution_count": 13,
   "metadata": {},
   "outputs": [
    {
     "name": "stdout",
     "output_type": "stream",
     "text": [
      "k: 1, Train/Test Score: 0.985/0.523\n",
      "k: 3, Train/Test Score: 0.759/0.530\n",
      "k: 5, Train/Test Score: 0.701/0.535\n",
      "k: 7, Train/Test Score: 0.675/0.532\n",
      "k: 9, Train/Test Score: 0.656/0.533\n",
      "k: 11, Train/Test Score: 0.645/0.537\n",
      "k: 13, Train/Test Score: 0.633/0.539\n",
      "k: 15, Train/Test Score: 0.623/0.540\n",
      "k: 17, Train/Test Score: 0.617/0.538\n",
      "k: 19, Train/Test Score: 0.614/0.538\n"
     ]
    },
    {
     "data": {
      "image/png": "[encoded data removed]",
      "text/plain": [
       "<Figure size 432x288 with 1 Axes>"
      ]
     },
     "metadata": {
      "needs_background": "light"
     },
     "output_type": "display_data"
    }
   ],
   "source": [
    "# Loop through different k values to see which has the highest accuracy\n",
    "# Note: We only use odd numbers because we don't want any ties\n",
    "train_scores = []\n",
    "test_scores = []\n",
    "for k in range(1, 20, 2):\n",
    "    knn = KNeighborsClassifier(n_neighbors=k)\n",
    "    knn.fit(X_train_scaled, y_train)\n",
    "    train_score = knn.score(X_train_scaled, y_train)\n",
    "    test_score = knn.score(X_test_scaled, y_test)\n",
    "    train_scores.append(train_score)\n",
    "    test_scores.append(test_score)\n",
    "    print(f\"k: {k}, Train/Test Score: {train_score:.3f}/{test_score:.3f}\")\n",
    "    \n",
    "    \n",
    "plt.plot(range(1, 20, 2), train_scores, marker='o')\n",
    "plt.plot(range(1, 20, 2), test_scores, marker=\"x\")\n",
    "plt.xlabel(\"k neighbors\")\n",
    "plt.ylabel(\"Testing accuracy Score\")\n",
    "plt.show()"
   ]
  },
  {
   "cell_type": "markdown",
   "metadata": {},
   "source": [
    "## Train the Model"
   ]
  },
  {
   "cell_type": "code",
   "execution_count": 16,
   "metadata": {},
   "outputs": [
    {
     "name": "stdout",
     "output_type": "stream",
     "text": [
      "k=WHAT K WAS CHOSEN???? Test Acc: 0.535\n"
     ]
    }
   ],
   "source": [
    "# Note that k: 3 provides the best accuracy where the classifier starts to stablize\n",
    "knn = KNeighborsClassifier(n_neighbors=5)\n",
    "knn.fit(X_train_scaled, y_train)\n",
    "print('k=WHAT K WAS CHOSEN???? Test Acc: %.3f' % knn.score(X_test_scaled, y_test))"
   ]
  },
  {
   "cell_type": "markdown",
   "metadata": {},
   "source": [
    "## Hyperparameter Tuning\n",
    "\n",
    "Use `GridSearchCV` to tune the model's parameters"
   ]
  },
  {
   "cell_type": "code",
   "execution_count": 17,
   "metadata": {},
   "outputs": [
    {
     "data": {
      "text/plain": [
       "dict_keys(['algorithm', 'leaf_size', 'metric', 'metric_params', 'n_jobs', 'n_neighbors', 'p', 'weights'])"
      ]
     },
     "execution_count": 17,
     "metadata": {},
     "output_type": "execute_result"
    }
   ],
   "source": [
    "knn.get_params().keys()"
   ]
  },
  {
   "cell_type": "code",
   "execution_count": 18,
   "metadata": {},
   "outputs": [],
   "source": [
    "# Create the GridSearchCV model\n",
    "from sklearn.model_selection import GridSearchCV\n",
    "model = knn\n",
    "param_grid = params = [{'n_neighbors': [3, 5, 7, 9],\n",
    "           'weights': ['uniform', 'distance'],\n",
    "           'leaf_size': [15, 20]}]\n",
    "grid = GridSearchCV(model, param_grid, verbose=3)"
   ]
  },
  {
   "cell_type": "code",
   "execution_count": 19,
   "metadata": {},
   "outputs": [
    {
     "name": "stdout",
     "output_type": "stream",
     "text": [
      "Fitting 5 folds for each of 16 candidates, totalling 80 fits\n",
      "[CV] leaf_size=15, n_neighbors=3, weights=uniform ....................\n"
     ]
    },
    {
     "name": "stderr",
     "output_type": "stream",
     "text": [
      "[Parallel(n_jobs=1)]: Using backend SequentialBackend with 1 concurrent workers.\n"
     ]
    },
    {
     "name": "stdout",
     "output_type": "stream",
     "text": [
      "[CV]  leaf_size=15, n_neighbors=3, weights=uniform, score=0.523, total=   0.8s\n",
      "[CV] leaf_size=15, n_neighbors=3, weights=uniform ....................\n"
     ]
    },
    {
     "name": "stderr",
     "output_type": "stream",
     "text": [
      "[Parallel(n_jobs=1)]: Done   1 out of   1 | elapsed:    0.7s remaining:    0.0s\n"
     ]
    },
    {
     "name": "stdout",
     "output_type": "stream",
     "text": [
      "[CV]  leaf_size=15, n_neighbors=3, weights=uniform, score=0.528, total=   0.8s\n",
      "[CV] leaf_size=15, n_neighbors=3, weights=uniform ....................\n"
     ]
    },
    {
     "name": "stderr",
     "output_type": "stream",
     "text": [
      "[Parallel(n_jobs=1)]: Done   2 out of   2 | elapsed:    1.5s remaining:    0.0s\n"
     ]
    },
    {
     "name": "stdout",
     "output_type": "stream",
     "text": [
      "[CV]  leaf_size=15, n_neighbors=3, weights=uniform, score=0.527, total=   0.8s\n",
      "[CV] leaf_size=15, n_neighbors=3, weights=uniform ....................\n",
      "[CV]  leaf_size=15, n_neighbors=3, weights=uniform, score=0.529, total=   0.9s\n",
      "[CV] leaf_size=15, n_neighbors=3, weights=uniform ....................\n",
      "[CV]  leaf_size=15, n_neighbors=3, weights=uniform, score=0.524, total=   0.8s\n",
      "[CV] leaf_size=15, n_neighbors=3, weights=distance ...................\n",
      "[CV]  leaf_size=15, n_neighbors=3, weights=distance, score=0.518, total=   0.4s\n",
      "[CV] leaf_size=15, n_neighbors=3, weights=distance ...................\n",
      "[CV]  leaf_size=15, n_neighbors=3, weights=distance, score=0.520, total=   0.4s\n",
      "[CV] leaf_size=15, n_neighbors=3, weights=distance ...................\n",
      "[CV]  leaf_size=15, n_neighbors=3, weights=distance, score=0.521, total=   0.4s\n",
      "[CV] leaf_size=15, n_neighbors=3, weights=distance ...................\n",
      "[CV]  leaf_size=15, n_neighbors=3, weights=distance, score=0.527, total=   0.5s\n",
      "[CV] leaf_size=15, n_neighbors=3, weights=distance ...................\n",
      "[CV]  leaf_size=15, n_neighbors=3, weights=distance, score=0.523, total=   0.4s\n",
      "[CV] leaf_size=15, n_neighbors=5, weights=uniform ....................\n",
      "[CV]  leaf_size=15, n_neighbors=5, weights=uniform, score=0.531, total=   0.9s\n",
      "[CV] leaf_size=15, n_neighbors=5, weights=uniform ....................\n",
      "[CV]  leaf_size=15, n_neighbors=5, weights=uniform, score=0.533, total=   0.9s\n",
      "[CV] leaf_size=15, n_neighbors=5, weights=uniform ....................\n",
      "[CV]  leaf_size=15, n_neighbors=5, weights=uniform, score=0.525, total=   0.9s\n",
      "[CV] leaf_size=15, n_neighbors=5, weights=uniform ....................\n",
      "[CV]  leaf_size=15, n_neighbors=5, weights=uniform, score=0.528, total=   0.9s\n",
      "[CV] leaf_size=15, n_neighbors=5, weights=uniform ....................\n",
      "[CV]  leaf_size=15, n_neighbors=5, weights=uniform, score=0.527, total=   0.9s\n",
      "[CV] leaf_size=15, n_neighbors=5, weights=distance ...................\n",
      "[CV]  leaf_size=15, n_neighbors=5, weights=distance, score=0.526, total=   0.5s\n",
      "[CV] leaf_size=15, n_neighbors=5, weights=distance ...................\n",
      "[CV]  leaf_size=15, n_neighbors=5, weights=distance, score=0.529, total=   0.6s\n",
      "[CV] leaf_size=15, n_neighbors=5, weights=distance ...................\n",
      "[CV]  leaf_size=15, n_neighbors=5, weights=distance, score=0.517, total=   0.5s\n",
      "[CV] leaf_size=15, n_neighbors=5, weights=distance ...................\n",
      "[CV]  leaf_size=15, n_neighbors=5, weights=distance, score=0.523, total=   0.5s\n",
      "[CV] leaf_size=15, n_neighbors=5, weights=distance ...................\n",
      "[CV]  leaf_size=15, n_neighbors=5, weights=distance, score=0.522, total=   0.5s\n",
      "[CV] leaf_size=15, n_neighbors=7, weights=uniform ....................\n",
      "[CV]  leaf_size=15, n_neighbors=7, weights=uniform, score=0.525, total=   0.9s\n",
      "[CV] leaf_size=15, n_neighbors=7, weights=uniform ....................\n",
      "[CV]  leaf_size=15, n_neighbors=7, weights=uniform, score=0.527, total=   0.9s\n",
      "[CV] leaf_size=15, n_neighbors=7, weights=uniform ....................\n",
      "[CV]  leaf_size=15, n_neighbors=7, weights=uniform, score=0.541, total=   0.9s\n",
      "[CV] leaf_size=15, n_neighbors=7, weights=uniform ....................\n",
      "[CV]  leaf_size=15, n_neighbors=7, weights=uniform, score=0.525, total=   0.9s\n",
      "[CV] leaf_size=15, n_neighbors=7, weights=uniform ....................\n",
      "[CV]  leaf_size=15, n_neighbors=7, weights=uniform, score=0.543, total=   0.9s\n",
      "[CV] leaf_size=15, n_neighbors=7, weights=distance ...................\n",
      "[CV]  leaf_size=15, n_neighbors=7, weights=distance, score=0.523, total=   0.6s\n",
      "[CV] leaf_size=15, n_neighbors=7, weights=distance ...................\n",
      "[CV]  leaf_size=15, n_neighbors=7, weights=distance, score=0.525, total=   0.5s\n",
      "[CV] leaf_size=15, n_neighbors=7, weights=distance ...................\n",
      "[CV]  leaf_size=15, n_neighbors=7, weights=distance, score=0.527, total=   0.5s\n",
      "[CV] leaf_size=15, n_neighbors=7, weights=distance ...................\n",
      "[CV]  leaf_size=15, n_neighbors=7, weights=distance, score=0.514, total=   0.5s\n",
      "[CV] leaf_size=15, n_neighbors=7, weights=distance ...................\n",
      "[CV]  leaf_size=15, n_neighbors=7, weights=distance, score=0.537, total=   0.5s\n",
      "[CV] leaf_size=15, n_neighbors=9, weights=uniform ....................\n",
      "[CV]  leaf_size=15, n_neighbors=9, weights=uniform, score=0.527, total=   1.0s\n",
      "[CV] leaf_size=15, n_neighbors=9, weights=uniform ....................\n",
      "[CV]  leaf_size=15, n_neighbors=9, weights=uniform, score=0.532, total=   0.9s\n",
      "[CV] leaf_size=15, n_neighbors=9, weights=uniform ....................\n",
      "[CV]  leaf_size=15, n_neighbors=9, weights=uniform, score=0.530, total=   0.9s\n",
      "[CV] leaf_size=15, n_neighbors=9, weights=uniform ....................\n",
      "[CV]  leaf_size=15, n_neighbors=9, weights=uniform, score=0.520, total=   0.9s\n",
      "[CV] leaf_size=15, n_neighbors=9, weights=uniform ....................\n",
      "[CV]  leaf_size=15, n_neighbors=9, weights=uniform, score=0.537, total=   1.0s\n",
      "[CV] leaf_size=15, n_neighbors=9, weights=distance ...................\n",
      "[CV]  leaf_size=15, n_neighbors=9, weights=distance, score=0.521, total=   0.6s\n",
      "[CV] leaf_size=15, n_neighbors=9, weights=distance ...................\n",
      "[CV]  leaf_size=15, n_neighbors=9, weights=distance, score=0.528, total=   0.7s\n",
      "[CV] leaf_size=15, n_neighbors=9, weights=distance ...................\n",
      "[CV]  leaf_size=15, n_neighbors=9, weights=distance, score=0.525, total=   0.6s\n",
      "[CV] leaf_size=15, n_neighbors=9, weights=distance ...................\n",
      "[CV]  leaf_size=15, n_neighbors=9, weights=distance, score=0.510, total=   0.6s\n",
      "[CV] leaf_size=15, n_neighbors=9, weights=distance ...................\n",
      "[CV]  leaf_size=15, n_neighbors=9, weights=distance, score=0.530, total=   0.6s\n",
      "[CV] leaf_size=20, n_neighbors=3, weights=uniform ....................\n",
      "[CV]  leaf_size=20, n_neighbors=3, weights=uniform, score=0.523, total=   0.8s\n",
      "[CV] leaf_size=20, n_neighbors=3, weights=uniform ....................\n",
      "[CV]  leaf_size=20, n_neighbors=3, weights=uniform, score=0.528, total=   0.9s\n",
      "[CV] leaf_size=20, n_neighbors=3, weights=uniform ....................\n",
      "[CV]  leaf_size=20, n_neighbors=3, weights=uniform, score=0.527, total=   0.8s\n",
      "[CV] leaf_size=20, n_neighbors=3, weights=uniform ....................\n",
      "[CV]  leaf_size=20, n_neighbors=3, weights=uniform, score=0.529, total=   0.8s\n",
      "[CV] leaf_size=20, n_neighbors=3, weights=uniform ....................\n",
      "[CV]  leaf_size=20, n_neighbors=3, weights=uniform, score=0.524, total=   0.8s\n",
      "[CV] leaf_size=20, n_neighbors=3, weights=distance ...................\n",
      "[CV]  leaf_size=20, n_neighbors=3, weights=distance, score=0.518, total=   0.5s\n",
      "[CV] leaf_size=20, n_neighbors=3, weights=distance ...................\n",
      "[CV]  leaf_size=20, n_neighbors=3, weights=distance, score=0.520, total=   0.4s\n",
      "[CV] leaf_size=20, n_neighbors=3, weights=distance ...................\n",
      "[CV]  leaf_size=20, n_neighbors=3, weights=distance, score=0.521, total=   0.5s\n",
      "[CV] leaf_size=20, n_neighbors=3, weights=distance ...................\n",
      "[CV]  leaf_size=20, n_neighbors=3, weights=distance, score=0.527, total=   0.4s\n",
      "[CV] leaf_size=20, n_neighbors=3, weights=distance ...................\n",
      "[CV]  leaf_size=20, n_neighbors=3, weights=distance, score=0.523, total=   0.5s\n",
      "[CV] leaf_size=20, n_neighbors=5, weights=uniform ....................\n",
      "[CV]  leaf_size=20, n_neighbors=5, weights=uniform, score=0.531, total=   1.2s\n",
      "[CV] leaf_size=20, n_neighbors=5, weights=uniform ....................\n",
      "[CV]  leaf_size=20, n_neighbors=5, weights=uniform, score=0.533, total=   0.9s\n",
      "[CV] leaf_size=20, n_neighbors=5, weights=uniform ....................\n",
      "[CV]  leaf_size=20, n_neighbors=5, weights=uniform, score=0.525, total=   0.9s\n",
      "[CV] leaf_size=20, n_neighbors=5, weights=uniform ....................\n",
      "[CV]  leaf_size=20, n_neighbors=5, weights=uniform, score=0.528, total=   0.9s\n",
      "[CV] leaf_size=20, n_neighbors=5, weights=uniform ....................\n",
      "[CV]  leaf_size=20, n_neighbors=5, weights=uniform, score=0.527, total=   0.8s\n",
      "[CV] leaf_size=20, n_neighbors=5, weights=distance ...................\n",
      "[CV]  leaf_size=20, n_neighbors=5, weights=distance, score=0.526, total=   0.5s\n",
      "[CV] leaf_size=20, n_neighbors=5, weights=distance ...................\n",
      "[CV]  leaf_size=20, n_neighbors=5, weights=distance, score=0.529, total=   0.6s\n",
      "[CV] leaf_size=20, n_neighbors=5, weights=distance ...................\n",
      "[CV]  leaf_size=20, n_neighbors=5, weights=distance, score=0.517, total=   0.5s\n",
      "[CV] leaf_size=20, n_neighbors=5, weights=distance ...................\n",
      "[CV]  leaf_size=20, n_neighbors=5, weights=distance, score=0.523, total=   0.5s\n",
      "[CV] leaf_size=20, n_neighbors=5, weights=distance ...................\n",
      "[CV]  leaf_size=20, n_neighbors=5, weights=distance, score=0.522, total=   0.5s\n",
      "[CV] leaf_size=20, n_neighbors=7, weights=uniform ....................\n",
      "[CV]  leaf_size=20, n_neighbors=7, weights=uniform, score=0.525, total=   0.9s\n",
      "[CV] leaf_size=20, n_neighbors=7, weights=uniform ....................\n",
      "[CV]  leaf_size=20, n_neighbors=7, weights=uniform, score=0.527, total=   0.9s\n",
      "[CV] leaf_size=20, n_neighbors=7, weights=uniform ....................\n",
      "[CV]  leaf_size=20, n_neighbors=7, weights=uniform, score=0.541, total=   0.8s\n",
      "[CV] leaf_size=20, n_neighbors=7, weights=uniform ....................\n",
      "[CV]  leaf_size=20, n_neighbors=7, weights=uniform, score=0.525, total=   0.8s\n",
      "[CV] leaf_size=20, n_neighbors=7, weights=uniform ....................\n",
      "[CV]  leaf_size=20, n_neighbors=7, weights=uniform, score=0.543, total=   0.9s\n",
      "[CV] leaf_size=20, n_neighbors=7, weights=distance ...................\n",
      "[CV]  leaf_size=20, n_neighbors=7, weights=distance, score=0.523, total=   0.6s\n",
      "[CV] leaf_size=20, n_neighbors=7, weights=distance ...................\n",
      "[CV]  leaf_size=20, n_neighbors=7, weights=distance, score=0.525, total=   0.5s\n",
      "[CV] leaf_size=20, n_neighbors=7, weights=distance ...................\n",
      "[CV]  leaf_size=20, n_neighbors=7, weights=distance, score=0.527, total=   0.5s\n",
      "[CV] leaf_size=20, n_neighbors=7, weights=distance ...................\n",
      "[CV]  leaf_size=20, n_neighbors=7, weights=distance, score=0.514, total=   0.5s\n",
      "[CV] leaf_size=20, n_neighbors=7, weights=distance ...................\n",
      "[CV]  leaf_size=20, n_neighbors=7, weights=distance, score=0.537, total=   0.6s\n",
      "[CV] leaf_size=20, n_neighbors=9, weights=uniform ....................\n",
      "[CV]  leaf_size=20, n_neighbors=9, weights=uniform, score=0.527, total=   0.9s\n",
      "[CV] leaf_size=20, n_neighbors=9, weights=uniform ....................\n",
      "[CV]  leaf_size=20, n_neighbors=9, weights=uniform, score=0.532, total=   0.9s\n",
      "[CV] leaf_size=20, n_neighbors=9, weights=uniform ....................\n",
      "[CV]  leaf_size=20, n_neighbors=9, weights=uniform, score=0.530, total=   0.9s\n",
      "[CV] leaf_size=20, n_neighbors=9, weights=uniform ....................\n",
      "[CV]  leaf_size=20, n_neighbors=9, weights=uniform, score=0.520, total=   0.9s\n",
      "[CV] leaf_size=20, n_neighbors=9, weights=uniform ....................\n",
      "[CV]  leaf_size=20, n_neighbors=9, weights=uniform, score=0.537, total=   0.9s\n",
      "[CV] leaf_size=20, n_neighbors=9, weights=distance ...................\n",
      "[CV]  leaf_size=20, n_neighbors=9, weights=distance, score=0.521, total=   0.5s\n",
      "[CV] leaf_size=20, n_neighbors=9, weights=distance ...................\n",
      "[CV]  leaf_size=20, n_neighbors=9, weights=distance, score=0.528, total=   0.5s\n",
      "[CV] leaf_size=20, n_neighbors=9, weights=distance ...................\n",
      "[CV]  leaf_size=20, n_neighbors=9, weights=distance, score=0.525, total=   0.5s\n",
      "[CV] leaf_size=20, n_neighbors=9, weights=distance ...................\n",
      "[CV]  leaf_size=20, n_neighbors=9, weights=distance, score=0.510, total=   0.5s\n",
      "[CV] leaf_size=20, n_neighbors=9, weights=distance ...................\n",
      "[CV]  leaf_size=20, n_neighbors=9, weights=distance, score=0.530, total=   0.6s\n"
     ]
    },
    {
     "name": "stderr",
     "output_type": "stream",
     "text": [
      "[Parallel(n_jobs=1)]: Done  80 out of  80 | elapsed:   55.9s finished\n"
     ]
    },
    {
     "data": {
      "text/plain": [
       "GridSearchCV(estimator=KNeighborsClassifier(),\n",
       "             param_grid=[{'leaf_size': [15, 20], 'n_neighbors': [3, 5, 7, 9],\n",
       "                          'weights': ['uniform', 'distance']}],\n",
       "             verbose=3)"
      ]
     },
     "execution_count": 19,
     "metadata": {},
     "output_type": "execute_result"
    }
   ],
   "source": [
    "grid.fit(X_train_scaled, y_train)"
   ]
  },
  {
   "cell_type": "code",
   "execution_count": 20,
   "metadata": {},
   "outputs": [
    {
     "name": "stdout",
     "output_type": "stream",
     "text": [
      "{'leaf_size': 15, 'n_neighbors': 7, 'weights': 'uniform'}\n",
      "0.5322554087290008\n"
     ]
    }
   ],
   "source": [
    "print(grid.best_params_)\n",
    "print(grid.best_score_)"
   ]
  },
  {
   "cell_type": "markdown",
   "metadata": {},
   "source": [
    "## Save the Model"
   ]
  },
  {
   "cell_type": "code",
   "execution_count": null,
   "metadata": {},
   "outputs": [],
   "source": [
    "# save your model by updating \"your_name\" with your name\n",
    "# and \"your_model\" with your model variable\n",
    "# be sure to turn this in to BCS\n",
    "# if joblib fails to import, try running the command to install in terminal/git-bash\n",
    "import joblib\n",
    "filename = 'K Nearest Neighbors.sav'\n",
    "joblib.dump(grid.best_score_, filename)"
   ]
  }
 ],
 "metadata": {
  "kernelspec": {
   "display_name": "Python 3",
   "language": "python",
   "name": "python3"
  },
  "language_info": {
   "codemirror_mode": {
    "name": "ipython",
    "version": 3
   },
   "file_extension": ".py",
   "mimetype": "text/x-python",
   "name": "python",
   "nbconvert_exporter": "python",
   "pygments_lexer": "ipython3",
   "version": "3.6.10"
  }
 },
 "nbformat": 4,
 "nbformat_minor": 4
}
