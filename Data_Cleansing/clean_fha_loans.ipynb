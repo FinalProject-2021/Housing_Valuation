{
 "cells": [
  {
   "cell_type": "code",
   "execution_count": 1,
   "metadata": {},
   "outputs": [],
   "source": [
    "# Import Dependencies\n",
    "import pandas as pd\n",
    "import os"
   ]
  },
  {
   "cell_type": "code",
   "execution_count": 2,
   "metadata": {},
   "outputs": [],
   "source": [
    "# Change working directory to FHA_loans folder\n",
    "os.chdir('../Resources/Outside_Resources/FHA_loans')\n",
    "\n",
    "# Create path to new current working directory\n",
    "path = os.getcwd()\n",
    "\n",
    "# List files found in current path\n",
    "files = os.listdir(path)"
   ]
  },
  {
   "cell_type": "code",
   "execution_count": 3,
   "metadata": {},
   "outputs": [],
   "source": [
    "# Find all excel files from folder\n",
    "excel_files = [f for f in files if f[-4:] == 'xlsx']"
   ]
  },
  {
   "cell_type": "code",
   "execution_count": 8,
   "metadata": {},
   "outputs": [
    {
     "output_type": "execute_result",
     "data": {
      "text/plain": [
       "  Property State Property City Property County Property Zip  \\\n",
       "0             AK     ANCHORAGE       ANCHORAGE        99501   \n",
       "1             AK     ANCHORAGE       ANCHORAGE        99501   \n",
       "2             AK     ANCHORAGE       ANCHORAGE        99502   \n",
       "3             AK     ANCHORAGE       ANCHORAGE        99502   \n",
       "4             AK     ANCHORAGE       ANCHORAGE        99502   \n",
       "\n",
       "  Origination Mortgagee/Sponsor Originator  Originating Mortgagee Number  \\\n",
       "0                      FIRST RATE FINANCIAL                Not Available   \n",
       "1                  RESIDENTIAL MORTGAGE LLC                        12511   \n",
       "2            ALASKAUSA MORTGAGE COMPANY LLC                        75641   \n",
       "3                     MOVEMENT MORTGAGE LLC                        26264   \n",
       "4                  RESIDENTIAL MORTGAGE LLC                        12511   \n",
       "\n",
       "                      Sponsor Name Sponsor Number Down Payment Source  \\\n",
       "0           CALIBER HOME LOANS INC          30992            Borrower   \n",
       "1                    Not Available  Not Available            Borrower   \n",
       "2  ALASKA USA FEDERAL CREDIT UNION          59034            Borrower   \n",
       "3                    Not Available  Not Available            Borrower   \n",
       "4                    Not Available  Not Available            Borrower   \n",
       "\n",
       "  Non Profit Number Product Type Loan Purpose  Property Type Interest Rate  \\\n",
       "0         Not Avail   Fixed Rate     Purchase  Single Family         3.875   \n",
       "1         Not Avail   Fixed Rate     Purchase          Condo         4.375   \n",
       "2         Not Avail   Fixed Rate     Purchase          Condo         4.875   \n",
       "3         Not Avail   Fixed Rate     Purchase  Single Family         4.375   \n",
       "4         Not Avail   Fixed Rate     Purchase          Condo           4.5   \n",
       "\n",
       "  Original Mortgage Amount Endorsement  Year Endorsement Month   \n",
       "0                   343660              2019                  4  \n",
       "1                   245471              2019                  4  \n",
       "2                   157102              2019                  4  \n",
       "3                   140409              2019                  4  \n",
       "4                   191468              2019                  4  "
      ],
      "text/html": "<div>\n<style scoped>\n    .dataframe tbody tr th:only-of-type {\n        vertical-align: middle;\n    }\n\n    .dataframe tbody tr th {\n        vertical-align: top;\n    }\n\n    .dataframe thead th {\n        text-align: right;\n    }\n</style>\n<table border=\"1\" class=\"dataframe\">\n  <thead>\n    <tr style=\"text-align: right;\">\n      <th></th>\n      <th>Property State</th>\n      <th>Property City</th>\n      <th>Property County</th>\n      <th>Property Zip</th>\n      <th>Origination Mortgagee/Sponsor Originator</th>\n      <th>Originating Mortgagee Number</th>\n      <th>Sponsor Name</th>\n      <th>Sponsor Number</th>\n      <th>Down Payment Source</th>\n      <th>Non Profit Number</th>\n      <th>Product Type</th>\n      <th>Loan Purpose</th>\n      <th>Property Type</th>\n      <th>Interest Rate</th>\n      <th>Original Mortgage Amount</th>\n      <th>Endorsement  Year</th>\n      <th>Endorsement Month</th>\n    </tr>\n  </thead>\n  <tbody>\n    <tr>\n      <th>0</th>\n      <td>AK</td>\n      <td>ANCHORAGE</td>\n      <td>ANCHORAGE</td>\n      <td>99501</td>\n      <td>FIRST RATE FINANCIAL</td>\n      <td>Not Available</td>\n      <td>CALIBER HOME LOANS INC</td>\n      <td>30992</td>\n      <td>Borrower</td>\n      <td>Not Avail</td>\n      <td>Fixed Rate</td>\n      <td>Purchase</td>\n      <td>Single Family</td>\n      <td>3.875</td>\n      <td>343660</td>\n      <td>2019</td>\n      <td>4</td>\n    </tr>\n    <tr>\n      <th>1</th>\n      <td>AK</td>\n      <td>ANCHORAGE</td>\n      <td>ANCHORAGE</td>\n      <td>99501</td>\n      <td>RESIDENTIAL MORTGAGE LLC</td>\n      <td>12511</td>\n      <td>Not Available</td>\n      <td>Not Available</td>\n      <td>Borrower</td>\n      <td>Not Avail</td>\n      <td>Fixed Rate</td>\n      <td>Purchase</td>\n      <td>Condo</td>\n      <td>4.375</td>\n      <td>245471</td>\n      <td>2019</td>\n      <td>4</td>\n    </tr>\n    <tr>\n      <th>2</th>\n      <td>AK</td>\n      <td>ANCHORAGE</td>\n      <td>ANCHORAGE</td>\n      <td>99502</td>\n      <td>ALASKAUSA MORTGAGE COMPANY LLC</td>\n      <td>75641</td>\n      <td>ALASKA USA FEDERAL CREDIT UNION</td>\n      <td>59034</td>\n      <td>Borrower</td>\n      <td>Not Avail</td>\n      <td>Fixed Rate</td>\n      <td>Purchase</td>\n      <td>Condo</td>\n      <td>4.875</td>\n      <td>157102</td>\n      <td>2019</td>\n      <td>4</td>\n    </tr>\n    <tr>\n      <th>3</th>\n      <td>AK</td>\n      <td>ANCHORAGE</td>\n      <td>ANCHORAGE</td>\n      <td>99502</td>\n      <td>MOVEMENT MORTGAGE LLC</td>\n      <td>26264</td>\n      <td>Not Available</td>\n      <td>Not Available</td>\n      <td>Borrower</td>\n      <td>Not Avail</td>\n      <td>Fixed Rate</td>\n      <td>Purchase</td>\n      <td>Single Family</td>\n      <td>4.375</td>\n      <td>140409</td>\n      <td>2019</td>\n      <td>4</td>\n    </tr>\n    <tr>\n      <th>4</th>\n      <td>AK</td>\n      <td>ANCHORAGE</td>\n      <td>ANCHORAGE</td>\n      <td>99502</td>\n      <td>RESIDENTIAL MORTGAGE LLC</td>\n      <td>12511</td>\n      <td>Not Available</td>\n      <td>Not Available</td>\n      <td>Borrower</td>\n      <td>Not Avail</td>\n      <td>Fixed Rate</td>\n      <td>Purchase</td>\n      <td>Condo</td>\n      <td>4.5</td>\n      <td>191468</td>\n      <td>2019</td>\n      <td>4</td>\n    </tr>\n  </tbody>\n</table>\n</div>"
     },
     "metadata": {},
     "execution_count": 8
    }
   ],
   "source": [
    "# Create empty DataFrame\n",
    "df = pd.DataFrame()\n",
    "\n",
    "# Create for loop to append the data into one DataFrame\n",
    "for e in excel_files:\n",
    "    data = pd.read_excel(e)\n",
    "    df = df.append(data)\n",
    "\n",
    "# Print DataFrame (Takes a while to load all the data from excel, over 2+ million rows) \n",
    "df.head()"
   ]
  },
  {
   "cell_type": "code",
   "execution_count": 9,
   "metadata": {},
   "outputs": [
    {
     "output_type": "execute_result",
     "data": {
      "text/plain": [
       "      Property State Property City Property County Property Zip  \\\n",
       "10404             FL   GAINESVILLE         ALACHUA        32605   \n",
       "10405             FL   GAINESVILLE         ALACHUA        32605   \n",
       "10406             FL   GAINESVILLE         ALACHUA        32606   \n",
       "10407             FL   GAINESVILLE         ALACHUA        32606   \n",
       "10408             FL   GAINESVILLE         ALACHUA        32606   \n",
       "\n",
       "      Origination Mortgagee/Sponsor Originator  Originating Mortgagee Number  \\\n",
       "10404            AMERICAN FINANCIAL NETWORK INC                        18352   \n",
       "10405              FIRST GUARANTY MORTGAGE CORP                        75168   \n",
       "10406            FIDELITY MORTGAGE SERVICES INC                Not Available   \n",
       "10407               ADVISORS MORTGAGE GROUP LLC                        15483   \n",
       "10408              FIRST GUARANTY MORTGAGE CORP                        75168   \n",
       "\n",
       "                       Sponsor Name Sponsor Number Down Payment Source  \\\n",
       "10404                 Not Available  Not Available            Borrower   \n",
       "10405                 Not Available  Not Available            Borrower   \n",
       "10406  FREEDOM MORTGAGE CORPORATION          75159            Relative   \n",
       "10407                 Not Available  Not Available            Relative   \n",
       "10408                 Not Available  Not Available            Relative   \n",
       "\n",
       "      Non Profit Number Product Type Loan Purpose  Property Type  \\\n",
       "10404         Not Avail   Fixed Rate     Purchase  Single Family   \n",
       "10405         Not Avail   Fixed Rate     Purchase  Single Family   \n",
       "10406         Not Avail   Fixed Rate     Purchase          Condo   \n",
       "10407         Not Avail   Fixed Rate     Purchase  Single Family   \n",
       "10408         Not Avail   Fixed Rate     Purchase  Single Family   \n",
       "\n",
       "      Interest Rate Original Mortgage Amount Endorsement  Year  \\\n",
       "10404         5.125                   161029              2019   \n",
       "10405         4.125                   270019              2019   \n",
       "10406         3.875                    93279              2019   \n",
       "10407         4.375                    96662              2019   \n",
       "10408         4.375                   228779              2019   \n",
       "\n",
       "      Endorsement Month   \n",
       "10404                  4  \n",
       "10405                  4  \n",
       "10406                  4  \n",
       "10407                  4  \n",
       "10408                  4  "
      ],
      "text/html": "<div>\n<style scoped>\n    .dataframe tbody tr th:only-of-type {\n        vertical-align: middle;\n    }\n\n    .dataframe tbody tr th {\n        vertical-align: top;\n    }\n\n    .dataframe thead th {\n        text-align: right;\n    }\n</style>\n<table border=\"1\" class=\"dataframe\">\n  <thead>\n    <tr style=\"text-align: right;\">\n      <th></th>\n      <th>Property State</th>\n      <th>Property City</th>\n      <th>Property County</th>\n      <th>Property Zip</th>\n      <th>Origination Mortgagee/Sponsor Originator</th>\n      <th>Originating Mortgagee Number</th>\n      <th>Sponsor Name</th>\n      <th>Sponsor Number</th>\n      <th>Down Payment Source</th>\n      <th>Non Profit Number</th>\n      <th>Product Type</th>\n      <th>Loan Purpose</th>\n      <th>Property Type</th>\n      <th>Interest Rate</th>\n      <th>Original Mortgage Amount</th>\n      <th>Endorsement  Year</th>\n      <th>Endorsement Month</th>\n    </tr>\n  </thead>\n  <tbody>\n    <tr>\n      <th>10404</th>\n      <td>FL</td>\n      <td>GAINESVILLE</td>\n      <td>ALACHUA</td>\n      <td>32605</td>\n      <td>AMERICAN FINANCIAL NETWORK INC</td>\n      <td>18352</td>\n      <td>Not Available</td>\n      <td>Not Available</td>\n      <td>Borrower</td>\n      <td>Not Avail</td>\n      <td>Fixed Rate</td>\n      <td>Purchase</td>\n      <td>Single Family</td>\n      <td>5.125</td>\n      <td>161029</td>\n      <td>2019</td>\n      <td>4</td>\n    </tr>\n    <tr>\n      <th>10405</th>\n      <td>FL</td>\n      <td>GAINESVILLE</td>\n      <td>ALACHUA</td>\n      <td>32605</td>\n      <td>FIRST GUARANTY MORTGAGE CORP</td>\n      <td>75168</td>\n      <td>Not Available</td>\n      <td>Not Available</td>\n      <td>Borrower</td>\n      <td>Not Avail</td>\n      <td>Fixed Rate</td>\n      <td>Purchase</td>\n      <td>Single Family</td>\n      <td>4.125</td>\n      <td>270019</td>\n      <td>2019</td>\n      <td>4</td>\n    </tr>\n    <tr>\n      <th>10406</th>\n      <td>FL</td>\n      <td>GAINESVILLE</td>\n      <td>ALACHUA</td>\n      <td>32606</td>\n      <td>FIDELITY MORTGAGE SERVICES INC</td>\n      <td>Not Available</td>\n      <td>FREEDOM MORTGAGE CORPORATION</td>\n      <td>75159</td>\n      <td>Relative</td>\n      <td>Not Avail</td>\n      <td>Fixed Rate</td>\n      <td>Purchase</td>\n      <td>Condo</td>\n      <td>3.875</td>\n      <td>93279</td>\n      <td>2019</td>\n      <td>4</td>\n    </tr>\n    <tr>\n      <th>10407</th>\n      <td>FL</td>\n      <td>GAINESVILLE</td>\n      <td>ALACHUA</td>\n      <td>32606</td>\n      <td>ADVISORS MORTGAGE GROUP LLC</td>\n      <td>15483</td>\n      <td>Not Available</td>\n      <td>Not Available</td>\n      <td>Relative</td>\n      <td>Not Avail</td>\n      <td>Fixed Rate</td>\n      <td>Purchase</td>\n      <td>Single Family</td>\n      <td>4.375</td>\n      <td>96662</td>\n      <td>2019</td>\n      <td>4</td>\n    </tr>\n    <tr>\n      <th>10408</th>\n      <td>FL</td>\n      <td>GAINESVILLE</td>\n      <td>ALACHUA</td>\n      <td>32606</td>\n      <td>FIRST GUARANTY MORTGAGE CORP</td>\n      <td>75168</td>\n      <td>Not Available</td>\n      <td>Not Available</td>\n      <td>Relative</td>\n      <td>Not Avail</td>\n      <td>Fixed Rate</td>\n      <td>Purchase</td>\n      <td>Single Family</td>\n      <td>4.375</td>\n      <td>228779</td>\n      <td>2019</td>\n      <td>4</td>\n    </tr>\n  </tbody>\n</table>\n</div>"
     },
     "metadata": {},
     "execution_count": 9
    }
   ],
   "source": [
    "# Create a filter for the state of Florida\n",
    "florida_filter = df[df[\"Property State\"] == \"FL\"]\n",
    "florida_filter.head()"
   ]
  },
  {
   "cell_type": "code",
   "execution_count": 10,
   "metadata": {},
   "outputs": [
    {
     "output_type": "execute_result",
     "data": {
      "text/plain": [
       "913"
      ]
     },
     "metadata": {},
     "execution_count": 10
    }
   ],
   "source": [
    "# Number of unique zip codes in the state of Florida\n",
    "florida_filter['Property Zip'].nunique()"
   ]
  },
  {
   "cell_type": "code",
   "execution_count": 11,
   "metadata": {},
   "outputs": [
    {
     "output_type": "execute_result",
     "data": {
      "text/plain": [
       "Property Zip\n",
       "32003    174\n",
       "32008     28\n",
       "32009     36\n",
       "32011    139\n",
       "32024    148\n",
       "        ... \n",
       "34987    356\n",
       "34990    114\n",
       "34994     49\n",
       "34996     21\n",
       "34997    292\n",
       "Name: Property State, Length: 913, dtype: int64"
      ]
     },
     "metadata": {},
     "execution_count": 11
    }
   ],
   "source": [
    "# Total count of FHA loans taken by zip code (2019-2020)\n",
    "zip_total_count = florida_filter['Property State'].groupby(florida_filter['Property Zip']).count()\n",
    "zip_total_count"
   ]
  },
  {
   "cell_type": "code",
   "execution_count": 12,
   "metadata": {},
   "outputs": [
    {
     "output_type": "stream",
     "name": "stdout",
     "text": [
      "Endorsement  Year\n2019    73425\n2020    85410\n2021    26998\nName: Property State, dtype: int64\n-------------------------------------\nEndorsement Month \n1     20669\n2     15639\n3     19096\n4     20088\n5     13020\n6     13078\n7     15309\n8     15314\n9     13373\n10    13830\n11    12369\n12    14048\nName: Property State, dtype: int64\n"
     ]
    }
   ],
   "source": [
    "# Finding year and monthly totals for reference later if needed\n",
    "year = florida_filter['Property State'].groupby(florida_filter['Endorsement  Year']).count()\n",
    "month = florida_filter['Property State'].groupby(florida_filter['Endorsement Month ']).count()\n",
    "print(year)\n",
    "print(\"-------------------------------------\")\n",
    "print(month)"
   ]
  },
  {
   "cell_type": "code",
   "execution_count": 13,
   "metadata": {},
   "outputs": [],
   "source": [
    "# # Seperate the DataFrame into 2 seperate years\n",
    "# fl_2019 = df[(df[\"Property State\"] == \"FL\") & (df['Endorsement  Year'] == 2019)]\n",
    "# fl_2020 = df[(df[\"Property State\"] == \"FL\") & (df['Endorsement  Year'] == 2020)]\n",
    "\n",
    "# # Create new DataFrames for each year\n",
    "# df2019 = fl_2019.groupby(['Property Zip', 'Endorsement Month ']).size().reset_index(name='FHA_2019')\n",
    "# df2020 = fl_2020.groupby(['Property Zip', 'Endorsement Month ']).size().reset_index(name='FHA_2020')"
   ]
  },
  {
   "cell_type": "code",
   "execution_count": 14,
   "metadata": {},
   "outputs": [],
   "source": [
    "# # Merge the two DataFrames back together with seperate counts per month\n",
    "# merge_col = df2020.columns.difference(df2019.columns)\n",
    "# total_counts = pd.merge(df2019, df2020[merge_col], left_index=True, right_index=True)\n",
    "# total_counts.head()"
   ]
  },
  {
   "cell_type": "code",
   "execution_count": 15,
   "metadata": {},
   "outputs": [
    {
     "output_type": "execute_result",
     "data": {
      "text/plain": [
       "913"
      ]
     },
     "metadata": {},
     "execution_count": 15
    }
   ],
   "source": [
    "sql_table = df[(df[\"Property State\"] == \"FL\") & ((df['Endorsement  Year'] == 2019) | (df['Endorsement  Year'] == 2020) | (df['Endorsement  Year'] == 2021))]\n",
    "sql_table = sql_table.groupby(['Property Zip', 'Endorsement Month ','Endorsement  Year']).size().reset_index(name='fha')\n",
    "sql_table = sql_table.rename(columns={'Property Zip':'zipcode', 'Endorsement Month ':'month','Endorsement  Year':'year'})\n",
    "sql_table = sql_table.sort_values(['zipcode','year','month']).reset_index()\n",
    "sql_table = sql_table[['zipcode','month','year','fha']]\n",
    "# sql_table.head()\n",
    "sql_table['zipcode'].nunique()"
   ]
  },
  {
   "cell_type": "code",
   "execution_count": 16,
   "metadata": {},
   "outputs": [],
   "source": [
    "# # Create engine for sql db\n",
    "# from sqlalchemy import create_engine\n",
    "# e = create_engine('sqlite:///../sqlite.db')\n",
    "\n",
    "# # Push above DataFrame into sqlite\n",
    "# total_counts.to_sql(name='fha_loans', con=e)\n",
    "\n",
    "import sqlite3\n",
    "from sqlite3 import Error\n",
    "\n",
    "# Identify database path\n",
    "db_path = os.path.abspath('./../../../sqlite.db')\n",
    "\n",
    "# Connect to SQLite Database\n",
    "conn = sqlite3.connect(db_path)\n",
    "cursor = conn.cursor()\n",
    "# Drop table if it exist\n",
    "cursor.execute(\"DROP TABLE IF EXISTS fha_loans\")\n",
    "\n",
    "# Create table\n",
    "sql_table.to_sql('fha_loans', conn, if_exists='replace', index=False)\n",
    "\n",
    "# Close connection to SQLite Database\n",
    "if conn:\n",
    "    conn.close()"
   ]
  },
  {
   "cell_type": "code",
   "execution_count": null,
   "metadata": {},
   "outputs": [],
   "source": []
  }
 ],
 "metadata": {
  "kernelspec": {
   "name": "python383jvsc74a57bd0c72a629dba5ae9edebcad565c17c3988d814021371aabb3db62cb04d2b10dbfe",
   "display_name": "Python 3.8.3 64-bit ('base': conda)"
  },
  "language_info": {
   "codemirror_mode": {
    "name": "ipython",
    "version": 3
   },
   "file_extension": ".py",
   "mimetype": "text/x-python",
   "name": "python",
   "nbconvert_exporter": "python",
   "pygments_lexer": "ipython3",
   "version": "3.8.3"
  }
 },
 "nbformat": 4,
 "nbformat_minor": 4
}