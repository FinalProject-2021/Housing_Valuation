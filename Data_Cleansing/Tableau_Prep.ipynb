{
 "metadata": {
  "language_info": {
   "codemirror_mode": {
    "name": "ipython",
    "version": 3
   },
   "file_extension": ".py",
   "mimetype": "text/x-python",
   "name": "python",
   "nbconvert_exporter": "python",
   "pygments_lexer": "ipython3",
   "version": "3.8.3"
  },
  "orig_nbformat": 2,
  "kernelspec": {
   "name": "python383jvsc74a57bd0c72a629dba5ae9edebcad565c17c3988d814021371aabb3db62cb04d2b10dbfe",
   "display_name": "Python 3.8.3 64-bit ('base': conda)"
  }
 },
 "nbformat": 4,
 "nbformat_minor": 2,
 "cells": [
  {
   "cell_type": "code",
   "execution_count": 564,
   "metadata": {},
   "outputs": [],
   "source": [
    "# Required Modules\n",
    "import pandas as pd\n",
    "import sqlite3\n",
    "import os\n",
    "import datetime as dt\n",
    "\n",
    "# ML Input Data\n",
    "input_path = os.path.abspath('Resources/Final_Data.csv')\n",
    "input_df = pd.read_csv(input_path, header=0)\n",
    "\n",
    "# ML VAR Model Output\n",
    "VAR_path = os.path.abspath('Resources/ML_Outputs/var_model_predict.csv')\n",
    "VAR_df = pd.read_csv(VAR_path, header=0).drop(columns={'Unnamed: 0'})\n",
    "\n",
    "# ML ARIMA Model Output\n",
    "ARIMA_path = os.path.abspath('Resources/ML_Outputs/April_2021_preds_by_zip.csv')\n",
    "ARIMA_df = pd.read_csv(ARIMA_path, header=0)\n",
    "\n",
    "# Tableau Data\n",
    "tableau_path = os.path.abspath('Resources/Tableau_Data.csv')"
   ]
  },
  {
   "cell_type": "code",
   "execution_count": 565,
   "metadata": {},
   "outputs": [
    {
     "output_type": "execute_result",
     "data": {
      "text/plain": [
       "Index(['Zip_Code', 'Date', 'Date_Code', 'Year', 'Month', 'Sale_Price',\n",
       "       'Interest_Rate', 'Property_Tax', 'Rent_Price', 'Household_Income',\n",
       "       'Rent_Affordability', 'Total_Sales', 'FHA_Count', 'Mobility_Rate',\n",
       "       'School_Rating', 'School_Grade', 'Owner_Occupied', 'Renter_Occupied',\n",
       "       'Total_Vacant', 'Total_Dwellings', 'FTE_Employed', 'Unemployed',\n",
       "       'Expense_Index', 'Average_Commute', 'Crime_Index', 'Loan_Amount',\n",
       "       'Loan_Term', 'Loan_R', 'Loan_Payment', 'Home_Affordability'],\n",
       "      dtype='object')"
      ]
     },
     "metadata": {},
     "execution_count": 565
    }
   ],
   "source": [
    "input_df.columns"
   ]
  },
  {
   "cell_type": "code",
   "execution_count": 566,
   "metadata": {},
   "outputs": [
    {
     "output_type": "execute_result",
     "data": {
      "text/plain": [
       "Index(['Zip_Code', 'ARIMA_Sales_Price', 'Date_Code'], dtype='object')"
      ]
     },
     "metadata": {},
     "execution_count": 566
    }
   ],
   "source": [
    "ARIMA_df['Date_Code'] = 202104\n",
    "ARIMA_df.columns"
   ]
  },
  {
   "cell_type": "code",
   "execution_count": 567,
   "metadata": {},
   "outputs": [
    {
     "output_type": "execute_result",
     "data": {
      "text/plain": [
       "Index(['Zip_Code', 'Month', 'Testing_Total_Sales', 'Testing_FHA_Count',\n",
       "       'Testing_Sale_Price', 'Total_Sales_Prediction', 'FHA_Count_Prediction',\n",
       "       'Sale_Price_Prediction', 'Sales_Mean_Error', 'FHA_Count_Mean_Error',\n",
       "       'Sale_Price_Mean_Error'],\n",
       "      dtype='object')"
      ]
     },
     "metadata": {},
     "execution_count": 567
    }
   ],
   "source": [
    "VAR_df.columns"
   ]
  },
  {
   "cell_type": "code",
   "execution_count": 568,
   "metadata": {},
   "outputs": [
    {
     "output_type": "execute_result",
     "data": {
      "text/plain": [
       "array([201901, 201902, 201903, 201904, 201905, 201906, 201907, 201908,\n",
       "       201909, 201910, 201911, 201912, 202001, 202002, 202003, 202004,\n",
       "       202005, 202006, 202007, 202008, 202009, 202010, 202011, 202012,\n",
       "       202101, 202102, 202103], dtype=int64)"
      ]
     },
     "metadata": {},
     "execution_count": 568
    }
   ],
   "source": [
    "input_df['Date_Code'].sort_values().unique()"
   ]
  },
  {
   "cell_type": "code",
   "execution_count": 569,
   "metadata": {},
   "outputs": [],
   "source": [
    "VAR_df['Date_Code'] = 202101\r\n",
    "\r\n",
    "input_df['State'] = 'Florida'\r\n",
    "input_df = input_df[['State','Zip_Code','Date','Date_Code','Sale_Price','Interest_Rate', 'Property_Tax', 'Rent_Price', 'Household_Income', 'Rent_Affordability', 'Total_Sales', 'FHA_Count', 'Mobility_Rate', 'School_Rating', 'School_Grade', 'Owner_Occupied', 'Renter_Occupied', 'Total_Vacant', 'Total_Dwellings', 'FTE_Employed', 'Unemployed', 'Expense_Index', 'Average_Commute', 'Crime_Index', 'Loan_Amount', 'Loan_Term', 'Loan_R', 'Loan_Payment', 'Home_Affordability']]\r\n",
    "VAR_df = VAR_df[['Zip_Code','Date_Code','Testing_Total_Sales', 'Testing_FHA_Count', 'Testing_Sale_Price', 'Total_Sales_Prediction', 'FHA_Count_Prediction', 'Sale_Price_Prediction', 'Sales_Mean_Error', 'FHA_Count_Mean_Error', 'Sale_Price_Mean_Error']]"
   ]
  },
  {
   "cell_type": "code",
   "execution_count": 570,
   "metadata": {
    "tags": []
   },
   "outputs": [
    {
     "output_type": "stream",
     "name": "stderr",
     "text": [
      "<ipython-input-570-3771faac8711>:9: SettingWithCopyWarning: \nA value is trying to be set on a copy of a slice from a DataFrame.\nTry using .loc[row_indexer,col_indexer] = value instead\n\nSee the caveats in the documentation: https://pandas.pydata.org/pandas-docs/stable/user_guide/indexing.html#returning-a-view-versus-a-copy\n  final_df[final_df['Date_Code']==date_code]['Date'] = dt.datetime.strptime(str(date_code)[:4]+'-'+str(date_code)[4:]+'-01','%Y-%m-%d')\n"
     ]
    },
    {
     "output_type": "execute_result",
     "data": {
      "text/plain": [
       "      State  Zip_Code Date  Date_Code  Sale_Price  Interest_Rate  \\\n",
       "23510   NaN     32003  NaN     202104         NaN            NaN   \n",
       "23511   NaN     32011  NaN     202104         NaN            NaN   \n",
       "23512   NaN     32024  NaN     202104         NaN            NaN   \n",
       "23513   NaN     32025  NaN     202104         NaN            NaN   \n",
       "23514   NaN     32033  NaN     202104         NaN            NaN   \n",
       "...     ...       ...  ...        ...         ...            ...   \n",
       "24300   NaN     34987  NaN     202104         NaN            NaN   \n",
       "24301   NaN     34990  NaN     202104         NaN            NaN   \n",
       "24302   NaN     34994  NaN     202104         NaN            NaN   \n",
       "24303   NaN     34996  NaN     202104         NaN            NaN   \n",
       "24304   NaN     34997  NaN     202104         NaN            NaN   \n",
       "\n",
       "       Property_Tax  Rent_Price  Household_Income  Rent_Affordability  ...  \\\n",
       "23510           NaN         NaN               NaN                 NaN  ...   \n",
       "23511           NaN         NaN               NaN                 NaN  ...   \n",
       "23512           NaN         NaN               NaN                 NaN  ...   \n",
       "23513           NaN         NaN               NaN                 NaN  ...   \n",
       "23514           NaN         NaN               NaN                 NaN  ...   \n",
       "...             ...         ...               ...                 ...  ...   \n",
       "24300           NaN         NaN               NaN                 NaN  ...   \n",
       "24301           NaN         NaN               NaN                 NaN  ...   \n",
       "24302           NaN         NaN               NaN                 NaN  ...   \n",
       "24303           NaN         NaN               NaN                 NaN  ...   \n",
       "24304           NaN         NaN               NaN                 NaN  ...   \n",
       "\n",
       "       Unemployed  Expense_Index  Average_Commute  Crime_Index Loan_Amount  \\\n",
       "23510         NaN            NaN              NaN          NaN         NaN   \n",
       "23511         NaN            NaN              NaN          NaN         NaN   \n",
       "23512         NaN            NaN              NaN          NaN         NaN   \n",
       "23513         NaN            NaN              NaN          NaN         NaN   \n",
       "23514         NaN            NaN              NaN          NaN         NaN   \n",
       "...           ...            ...              ...          ...         ...   \n",
       "24300         NaN            NaN              NaN          NaN         NaN   \n",
       "24301         NaN            NaN              NaN          NaN         NaN   \n",
       "24302         NaN            NaN              NaN          NaN         NaN   \n",
       "24303         NaN            NaN              NaN          NaN         NaN   \n",
       "24304         NaN            NaN              NaN          NaN         NaN   \n",
       "\n",
       "       Loan_Term  Loan_R  Loan_Payment  Home_Affordability  ARIMA_Sales_Price  \n",
       "23510        NaN     NaN           NaN                 NaN      332455.527071  \n",
       "23511        NaN     NaN           NaN                 NaN      251787.582929  \n",
       "23512        NaN     NaN           NaN                 NaN      175045.008608  \n",
       "23513        NaN     NaN           NaN                 NaN      138263.066335  \n",
       "23514        NaN     NaN           NaN                 NaN      240471.399966  \n",
       "...          ...     ...           ...                 ...                ...  \n",
       "24300        NaN     NaN           NaN                 NaN      309888.600689  \n",
       "24301        NaN     NaN           NaN                 NaN      301394.143065  \n",
       "24302        NaN     NaN           NaN                 NaN      162946.277908  \n",
       "24303        NaN     NaN           NaN                 NaN      438297.153365  \n",
       "24304        NaN     NaN           NaN                 NaN      588170.163156  \n",
       "\n",
       "[795 rows x 30 columns]"
      ],
      "text/html": "<div>\n<style scoped>\n    .dataframe tbody tr th:only-of-type {\n        vertical-align: middle;\n    }\n\n    .dataframe tbody tr th {\n        vertical-align: top;\n    }\n\n    .dataframe thead th {\n        text-align: right;\n    }\n</style>\n<table border=\"1\" class=\"dataframe\">\n  <thead>\n    <tr style=\"text-align: right;\">\n      <th></th>\n      <th>State</th>\n      <th>Zip_Code</th>\n      <th>Date</th>\n      <th>Date_Code</th>\n      <th>Sale_Price</th>\n      <th>Interest_Rate</th>\n      <th>Property_Tax</th>\n      <th>Rent_Price</th>\n      <th>Household_Income</th>\n      <th>Rent_Affordability</th>\n      <th>...</th>\n      <th>Unemployed</th>\n      <th>Expense_Index</th>\n      <th>Average_Commute</th>\n      <th>Crime_Index</th>\n      <th>Loan_Amount</th>\n      <th>Loan_Term</th>\n      <th>Loan_R</th>\n      <th>Loan_Payment</th>\n      <th>Home_Affordability</th>\n      <th>ARIMA_Sales_Price</th>\n    </tr>\n  </thead>\n  <tbody>\n    <tr>\n      <th>23510</th>\n      <td>NaN</td>\n      <td>32003</td>\n      <td>NaN</td>\n      <td>202104</td>\n      <td>NaN</td>\n      <td>NaN</td>\n      <td>NaN</td>\n      <td>NaN</td>\n      <td>NaN</td>\n      <td>NaN</td>\n      <td>...</td>\n      <td>NaN</td>\n      <td>NaN</td>\n      <td>NaN</td>\n      <td>NaN</td>\n      <td>NaN</td>\n      <td>NaN</td>\n      <td>NaN</td>\n      <td>NaN</td>\n      <td>NaN</td>\n      <td>332455.527071</td>\n    </tr>\n    <tr>\n      <th>23511</th>\n      <td>NaN</td>\n      <td>32011</td>\n      <td>NaN</td>\n      <td>202104</td>\n      <td>NaN</td>\n      <td>NaN</td>\n      <td>NaN</td>\n      <td>NaN</td>\n      <td>NaN</td>\n      <td>NaN</td>\n      <td>...</td>\n      <td>NaN</td>\n      <td>NaN</td>\n      <td>NaN</td>\n      <td>NaN</td>\n      <td>NaN</td>\n      <td>NaN</td>\n      <td>NaN</td>\n      <td>NaN</td>\n      <td>NaN</td>\n      <td>251787.582929</td>\n    </tr>\n    <tr>\n      <th>23512</th>\n      <td>NaN</td>\n      <td>32024</td>\n      <td>NaN</td>\n      <td>202104</td>\n      <td>NaN</td>\n      <td>NaN</td>\n      <td>NaN</td>\n      <td>NaN</td>\n      <td>NaN</td>\n      <td>NaN</td>\n      <td>...</td>\n      <td>NaN</td>\n      <td>NaN</td>\n      <td>NaN</td>\n      <td>NaN</td>\n      <td>NaN</td>\n      <td>NaN</td>\n      <td>NaN</td>\n      <td>NaN</td>\n      <td>NaN</td>\n      <td>175045.008608</td>\n    </tr>\n    <tr>\n      <th>23513</th>\n      <td>NaN</td>\n      <td>32025</td>\n      <td>NaN</td>\n      <td>202104</td>\n      <td>NaN</td>\n      <td>NaN</td>\n      <td>NaN</td>\n      <td>NaN</td>\n      <td>NaN</td>\n      <td>NaN</td>\n      <td>...</td>\n      <td>NaN</td>\n      <td>NaN</td>\n      <td>NaN</td>\n      <td>NaN</td>\n      <td>NaN</td>\n      <td>NaN</td>\n      <td>NaN</td>\n      <td>NaN</td>\n      <td>NaN</td>\n      <td>138263.066335</td>\n    </tr>\n    <tr>\n      <th>23514</th>\n      <td>NaN</td>\n      <td>32033</td>\n      <td>NaN</td>\n      <td>202104</td>\n      <td>NaN</td>\n      <td>NaN</td>\n      <td>NaN</td>\n      <td>NaN</td>\n      <td>NaN</td>\n      <td>NaN</td>\n      <td>...</td>\n      <td>NaN</td>\n      <td>NaN</td>\n      <td>NaN</td>\n      <td>NaN</td>\n      <td>NaN</td>\n      <td>NaN</td>\n      <td>NaN</td>\n      <td>NaN</td>\n      <td>NaN</td>\n      <td>240471.399966</td>\n    </tr>\n    <tr>\n      <th>...</th>\n      <td>...</td>\n      <td>...</td>\n      <td>...</td>\n      <td>...</td>\n      <td>...</td>\n      <td>...</td>\n      <td>...</td>\n      <td>...</td>\n      <td>...</td>\n      <td>...</td>\n      <td>...</td>\n      <td>...</td>\n      <td>...</td>\n      <td>...</td>\n      <td>...</td>\n      <td>...</td>\n      <td>...</td>\n      <td>...</td>\n      <td>...</td>\n      <td>...</td>\n      <td>...</td>\n    </tr>\n    <tr>\n      <th>24300</th>\n      <td>NaN</td>\n      <td>34987</td>\n      <td>NaN</td>\n      <td>202104</td>\n      <td>NaN</td>\n      <td>NaN</td>\n      <td>NaN</td>\n      <td>NaN</td>\n      <td>NaN</td>\n      <td>NaN</td>\n      <td>...</td>\n      <td>NaN</td>\n      <td>NaN</td>\n      <td>NaN</td>\n      <td>NaN</td>\n      <td>NaN</td>\n      <td>NaN</td>\n      <td>NaN</td>\n      <td>NaN</td>\n      <td>NaN</td>\n      <td>309888.600689</td>\n    </tr>\n    <tr>\n      <th>24301</th>\n      <td>NaN</td>\n      <td>34990</td>\n      <td>NaN</td>\n      <td>202104</td>\n      <td>NaN</td>\n      <td>NaN</td>\n      <td>NaN</td>\n      <td>NaN</td>\n      <td>NaN</td>\n      <td>NaN</td>\n      <td>...</td>\n      <td>NaN</td>\n      <td>NaN</td>\n      <td>NaN</td>\n      <td>NaN</td>\n      <td>NaN</td>\n      <td>NaN</td>\n      <td>NaN</td>\n      <td>NaN</td>\n      <td>NaN</td>\n      <td>301394.143065</td>\n    </tr>\n    <tr>\n      <th>24302</th>\n      <td>NaN</td>\n      <td>34994</td>\n      <td>NaN</td>\n      <td>202104</td>\n      <td>NaN</td>\n      <td>NaN</td>\n      <td>NaN</td>\n      <td>NaN</td>\n      <td>NaN</td>\n      <td>NaN</td>\n      <td>...</td>\n      <td>NaN</td>\n      <td>NaN</td>\n      <td>NaN</td>\n      <td>NaN</td>\n      <td>NaN</td>\n      <td>NaN</td>\n      <td>NaN</td>\n      <td>NaN</td>\n      <td>NaN</td>\n      <td>162946.277908</td>\n    </tr>\n    <tr>\n      <th>24303</th>\n      <td>NaN</td>\n      <td>34996</td>\n      <td>NaN</td>\n      <td>202104</td>\n      <td>NaN</td>\n      <td>NaN</td>\n      <td>NaN</td>\n      <td>NaN</td>\n      <td>NaN</td>\n      <td>NaN</td>\n      <td>...</td>\n      <td>NaN</td>\n      <td>NaN</td>\n      <td>NaN</td>\n      <td>NaN</td>\n      <td>NaN</td>\n      <td>NaN</td>\n      <td>NaN</td>\n      <td>NaN</td>\n      <td>NaN</td>\n      <td>438297.153365</td>\n    </tr>\n    <tr>\n      <th>24304</th>\n      <td>NaN</td>\n      <td>34997</td>\n      <td>NaN</td>\n      <td>202104</td>\n      <td>NaN</td>\n      <td>NaN</td>\n      <td>NaN</td>\n      <td>NaN</td>\n      <td>NaN</td>\n      <td>NaN</td>\n      <td>...</td>\n      <td>NaN</td>\n      <td>NaN</td>\n      <td>NaN</td>\n      <td>NaN</td>\n      <td>NaN</td>\n      <td>NaN</td>\n      <td>NaN</td>\n      <td>NaN</td>\n      <td>NaN</td>\n      <td>588170.163156</td>\n    </tr>\n  </tbody>\n</table>\n<p>795 rows × 30 columns</p>\n</div>"
     },
     "metadata": {},
     "execution_count": 570
    }
   ],
   "source": [
    "# Merge into one DataFrame\n",
    "final_df = input_df.merge(ARIMA_df, how='outer' ,on=['Zip_Code','Date_Code'])\n",
    "\n",
    "# final_df['Str_Year'] = final_df['Date_Code'].astype('str')[4:]\n",
    "# final_df['Str_Month'] = final_df['Date_Code'].astype('str')[:4]\n",
    "\n",
    "\n",
    "for date_code in final_df['Date_Code']:\n",
    "    final_df[final_df['Date_Code']==date_code]['Date'] = dt.datetime.strptime(str(date_code)[:4]+'-'+str(date_code)[4:]+'-01','%Y-%m-%d')\n",
    "    # print(date_code)\n",
    "\n",
    "\n",
    "# final_df = df_1.merge(df_2, how='left' ,on=['Zip_Code','Date_Code'])\n",
    "# final_df['Date_Code'].sort_values().unique()\n",
    "# final_df[['Date_Code','Date']].sort_values(by='Date_Code')\n",
    "\n",
    "final_df[final_df['Date_Code']==202104]"
   ]
  },
  {
   "cell_type": "code",
   "execution_count": 571,
   "metadata": {},
   "outputs": [],
   "source": [
    "# Write combined data to csv\n",
    "final_df.to_csv(tableau_path, index=False)"
   ]
  }
 ]
}