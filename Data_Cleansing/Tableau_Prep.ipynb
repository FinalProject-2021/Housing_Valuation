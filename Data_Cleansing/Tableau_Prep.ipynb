{
 "metadata": {
  "language_info": {
   "codemirror_mode": {
    "name": "ipython",
    "version": 3
   },
   "file_extension": ".py",
   "mimetype": "text/x-python",
   "name": "python",
   "nbconvert_exporter": "python",
   "pygments_lexer": "ipython3",
   "version": "3.8.3"
  },
  "orig_nbformat": 2,
  "kernelspec": {
   "name": "python383jvsc74a57bd0c72a629dba5ae9edebcad565c17c3988d814021371aabb3db62cb04d2b10dbfe",
   "display_name": "Python 3.8.3 64-bit ('base': conda)"
  }
 },
 "nbformat": 4,
 "nbformat_minor": 2,
 "cells": [
  {
   "cell_type": "code",
   "execution_count": 217,
   "metadata": {},
   "outputs": [],
   "source": [
    "# Required Modules\n",
    "import pandas as pd\n",
    "import sqlite3\n",
    "import os\n",
    "import datetime as dt\n",
    "\n",
    "# ML Input Data\n",
    "input_path = os.path.abspath('../Resources/Clean_Data/Final_Data.csv')\n",
    "input_df = pd.read_csv(input_path, header=0)\n",
    "\n",
    "# ML VAR Model Output\n",
    "VAR_path = os.path.abspath('../Resources/ML_Outputs/var_model_predict.csv')\n",
    "VAR_df = pd.read_csv(VAR_path, header=0).drop(columns={'Unnamed: 0'})\n",
    "\n",
    "# ML ARIMA Model Output\n",
    "ARIMA_path = os.path.abspath('../Resources/ML_Outputs/April_2021_preds_by_zip.csv')\n",
    "ARIMA_df = pd.read_csv(ARIMA_path, header=0)\n",
    "\n",
    "# Tableau Data\n",
    "tableau_path = os.path.abspath('../Resources/Clean_Data/Tableau_Data.csv')"
   ]
  },
  {
   "cell_type": "code",
   "execution_count": 218,
   "metadata": {},
   "outputs": [
    {
     "output_type": "execute_result",
     "data": {
      "text/plain": [
       "State                         object\n",
       "Zip_Code                       int64\n",
       "Date                  datetime64[ns]\n",
       "Date_Code                      int64\n",
       "Sale_Price                   float64\n",
       "Interest_Rate                float64\n",
       "Property_Tax                   int64\n",
       "Rent_Price                     int64\n",
       "Household_Income             float64\n",
       "Rent_Affordability           float64\n",
       "Total_Sales                    int64\n",
       "FHA_Count                      int64\n",
       "Mobility_Rate                float64\n",
       "School_Rating                  int64\n",
       "School_Grade                  object\n",
       "Owner_Occupied                 int64\n",
       "Renter_Occupied                int64\n",
       "Total_Vacant                   int64\n",
       "Total_Dwellings                int64\n",
       "FTE_Employed                   int64\n",
       "Unemployed                     int64\n",
       "Expense_Index                  int64\n",
       "Average_Commute                int64\n",
       "Crime_Index                    int64\n",
       "Loan_Amount                  float64\n",
       "Loan_Term                    float64\n",
       "Loan_R                       float64\n",
       "Loan_Payment                 float64\n",
       "Home_Affordability           float64\n",
       "dtype: object"
      ]
     },
     "metadata": {},
     "execution_count": 218
    }
   ],
   "source": [
    "# Set Input file column order\n",
    "input_df['State'] = 'Florida'\n",
    "input_df = input_df[['State','Zip_Code','Date','Date_Code','Sale_Price','Interest_Rate', 'Property_Tax', 'Rent_Price', 'Household_Income', 'Rent_Affordability', 'Total_Sales', 'FHA_Count', 'Mobility_Rate', 'School_Rating', 'School_Grade', 'Owner_Occupied', 'Renter_Occupied', 'Total_Vacant', 'Total_Dwellings', 'FTE_Employed', 'Unemployed', 'Expense_Index', 'Average_Commute', 'Crime_Index', 'Loan_Amount', 'Loan_Term', 'Loan_R', 'Loan_Payment', 'Home_Affordability']]\n",
    "input_df['Date'] = pd.to_datetime(input_df['Date'])\n",
    "input_df.dtypes"
   ]
  },
  {
   "cell_type": "code",
   "execution_count": 219,
   "metadata": {},
   "outputs": [
    {
     "output_type": "execute_result",
     "data": {
      "text/plain": [
       "State                object\n",
       "Zip_Code              int64\n",
       "Date         datetime64[ns]\n",
       "Date_Code             int64\n",
       "dtype: object"
      ]
     },
     "metadata": {},
     "execution_count": 219
    }
   ],
   "source": [
    "# Set ARIMA model columns\n",
    "ARIMA_df['Date_Code'] = 202104\n",
    "ARIMA_df['Date'] = dt.datetime.strptime('2021-04-01','%Y-%m-%d')\n",
    "ARIMA_df['State'] = 'Florida'\n",
    "ARIMA_df = ARIMA_df[['State','Zip_Code','Date','Date_Code']]\n",
    "ARIMA_df.dtypes"
   ]
  },
  {
   "cell_type": "code",
   "execution_count": 220,
   "metadata": {},
   "outputs": [
    {
     "output_type": "execute_result",
     "data": {
      "text/plain": [
       "State                             object\n",
       "Zip_Code                           int64\n",
       "Date                      datetime64[ns]\n",
       "Date_Code                          int64\n",
       "Testing_Total_Sales              float64\n",
       "Testing_FHA_Count                float64\n",
       "Testing_Sale_Price               float64\n",
       "Total_Sales_Prediction           float64\n",
       "FHA_Count_Prediction             float64\n",
       "Sale_Price_Prediction            float64\n",
       "Sales_Mean_Error                 float64\n",
       "FHA_Count_Mean_Error             float64\n",
       "Sale_Price_Mean_Error            float64\n",
       "dtype: object"
      ]
     },
     "metadata": {},
     "execution_count": 220
    }
   ],
   "source": [
    "# Set VAR model columns\n",
    "VAR_df['Date_Code'] = 202101\n",
    "VAR_df['Date'] = dt.datetime.strptime('2021-01-01','%Y-%m-%d')\n",
    "VAR_df['State'] = 'Florida'\n",
    "# VAR_df = VAR_df.rename(columns={})\n",
    "VAR_df = VAR_df[['State','Zip_Code','Date','Date_Code',\n",
    "                'Testing_Total_Sales', 'Testing_FHA_Count',\n",
    "                'Testing_Sale_Price', 'Total_Sales_Prediction', 'FHA_Count_Prediction',\n",
    "                'Sale_Price_Prediction', 'Sales_Mean_Error', 'FHA_Count_Mean_Error',\n",
    "                'Sale_Price_Mean_Error']]\n",
    "VAR_df.dtypes"
   ]
  },
  {
   "cell_type": "code",
   "execution_count": 221,
   "metadata": {
    "tags": []
   },
   "outputs": [
    {
     "output_type": "execute_result",
     "data": {
      "text/plain": [
       "State                             object\n",
       "Zip_Code                           int64\n",
       "Date                      datetime64[ns]\n",
       "Date_Code                          int64\n",
       "Sale_Price                       float64\n",
       "Interest_Rate                    float64\n",
       "Property_Tax                     float64\n",
       "Rent_Price                       float64\n",
       "Household_Income                 float64\n",
       "Rent_Affordability               float64\n",
       "Total_Sales                      float64\n",
       "FHA_Count                        float64\n",
       "Mobility_Rate                    float64\n",
       "School_Rating                    float64\n",
       "School_Grade                      object\n",
       "Owner_Occupied                   float64\n",
       "Renter_Occupied                  float64\n",
       "Total_Vacant                     float64\n",
       "Total_Dwellings                  float64\n",
       "FTE_Employed                     float64\n",
       "Unemployed                       float64\n",
       "Expense_Index                    float64\n",
       "Average_Commute                  float64\n",
       "Crime_Index                      float64\n",
       "Loan_Amount                      float64\n",
       "Loan_Term                        float64\n",
       "Loan_R                           float64\n",
       "Loan_Payment                     float64\n",
       "Home_Affordability               float64\n",
       "Testing_Total_Sales              float64\n",
       "Testing_FHA_Count                float64\n",
       "Testing_Sale_Price               float64\n",
       "Total_Sales_Prediction           float64\n",
       "FHA_Count_Prediction             float64\n",
       "Sale_Price_Prediction            float64\n",
       "Sales_Mean_Error                 float64\n",
       "FHA_Count_Mean_Error             float64\n",
       "Sale_Price_Mean_Error            float64\n",
       "dtype: object"
      ]
     },
     "metadata": {},
     "execution_count": 221
    }
   ],
   "source": [
    "# Merge into one DataFrame\n",
    "final_df = input_df.merge(ARIMA_df, how='outer' ,on=['State','Zip_Code','Date','Date_Code'], suffixes=('','_ARIMA'))\n",
    "final_df = final_df.merge(VAR_df, how='outer' ,on=['State','Zip_Code','Date','Date_Code'], suffixes=('','_VAR'))\n",
    "final_df.dtypes"
   ]
  },
  {
   "cell_type": "code",
   "execution_count": 222,
   "metadata": {},
   "outputs": [
    {
     "output_type": "execute_result",
     "data": {
      "text/plain": [
       "         State  Zip_Code       Date  Date_Code  Sale_Price  Interest_Rate  \\\n",
       "26575  Florida     34994 2021-04-01     202104         NaN            NaN   \n",
       "26576  Florida     34996 2021-04-01     202104         NaN            NaN   \n",
       "26577  Florida     34997 2021-04-01     202104         NaN            NaN   \n",
       "26578  Florida     32680 2021-01-01     202101         NaN            NaN   \n",
       "26579  Florida     32680 2021-01-01     202101         NaN            NaN   \n",
       "\n",
       "       Property_Tax  Rent_Price  Household_Income  Rent_Affordability  ...  \\\n",
       "26575           NaN         NaN               NaN                 NaN  ...   \n",
       "26576           NaN         NaN               NaN                 NaN  ...   \n",
       "26577           NaN         NaN               NaN                 NaN  ...   \n",
       "26578           NaN         NaN               NaN                 NaN  ...   \n",
       "26579           NaN         NaN               NaN                 NaN  ...   \n",
       "\n",
       "       Home_Affordability  Testing_Total_Sales  Testing_FHA_Count  \\\n",
       "26575                 NaN                  NaN                NaN   \n",
       "26576                 NaN                  NaN                NaN   \n",
       "26577                 NaN                  NaN                NaN   \n",
       "26578                 NaN                  5.0                0.0   \n",
       "26579                 NaN                  2.0                2.0   \n",
       "\n",
       "       Testing_Sale_Price Total_Sales_Prediction  FHA_Count_Prediction  \\\n",
       "26575                 NaN                    NaN                   NaN   \n",
       "26576                 NaN                    NaN                   NaN   \n",
       "26577                 NaN                    NaN                   NaN   \n",
       "26578            130000.0               9.510791              1.347094   \n",
       "26579             50000.0               9.492123              1.143768   \n",
       "\n",
       "       Sale_Price_Prediction  Sales_Mean_Error  FHA_Count_Mean_Error  \\\n",
       "26575                    NaN               NaN                   NaN   \n",
       "26576                    NaN               NaN                   NaN   \n",
       "26577                    NaN               NaN                   NaN   \n",
       "26578           62420.910488          0.970014              0.648398   \n",
       "26579           69327.495238          0.970014              0.648398   \n",
       "\n",
       "       Sale_Price_Mean_Error  \n",
       "26575                    NaN  \n",
       "26576                    NaN  \n",
       "26577                    NaN  \n",
       "26578               0.567897  \n",
       "26579               0.567897  \n",
       "\n",
       "[5 rows x 38 columns]"
      ],
      "text/html": "<div>\n<style scoped>\n    .dataframe tbody tr th:only-of-type {\n        vertical-align: middle;\n    }\n\n    .dataframe tbody tr th {\n        vertical-align: top;\n    }\n\n    .dataframe thead th {\n        text-align: right;\n    }\n</style>\n<table border=\"1\" class=\"dataframe\">\n  <thead>\n    <tr style=\"text-align: right;\">\n      <th></th>\n      <th>State</th>\n      <th>Zip_Code</th>\n      <th>Date</th>\n      <th>Date_Code</th>\n      <th>Sale_Price</th>\n      <th>Interest_Rate</th>\n      <th>Property_Tax</th>\n      <th>Rent_Price</th>\n      <th>Household_Income</th>\n      <th>Rent_Affordability</th>\n      <th>...</th>\n      <th>Home_Affordability</th>\n      <th>Testing_Total_Sales</th>\n      <th>Testing_FHA_Count</th>\n      <th>Testing_Sale_Price</th>\n      <th>Total_Sales_Prediction</th>\n      <th>FHA_Count_Prediction</th>\n      <th>Sale_Price_Prediction</th>\n      <th>Sales_Mean_Error</th>\n      <th>FHA_Count_Mean_Error</th>\n      <th>Sale_Price_Mean_Error</th>\n    </tr>\n  </thead>\n  <tbody>\n    <tr>\n      <th>26575</th>\n      <td>Florida</td>\n      <td>34994</td>\n      <td>2021-04-01</td>\n      <td>202104</td>\n      <td>NaN</td>\n      <td>NaN</td>\n      <td>NaN</td>\n      <td>NaN</td>\n      <td>NaN</td>\n      <td>NaN</td>\n      <td>...</td>\n      <td>NaN</td>\n      <td>NaN</td>\n      <td>NaN</td>\n      <td>NaN</td>\n      <td>NaN</td>\n      <td>NaN</td>\n      <td>NaN</td>\n      <td>NaN</td>\n      <td>NaN</td>\n      <td>NaN</td>\n    </tr>\n    <tr>\n      <th>26576</th>\n      <td>Florida</td>\n      <td>34996</td>\n      <td>2021-04-01</td>\n      <td>202104</td>\n      <td>NaN</td>\n      <td>NaN</td>\n      <td>NaN</td>\n      <td>NaN</td>\n      <td>NaN</td>\n      <td>NaN</td>\n      <td>...</td>\n      <td>NaN</td>\n      <td>NaN</td>\n      <td>NaN</td>\n      <td>NaN</td>\n      <td>NaN</td>\n      <td>NaN</td>\n      <td>NaN</td>\n      <td>NaN</td>\n      <td>NaN</td>\n      <td>NaN</td>\n    </tr>\n    <tr>\n      <th>26577</th>\n      <td>Florida</td>\n      <td>34997</td>\n      <td>2021-04-01</td>\n      <td>202104</td>\n      <td>NaN</td>\n      <td>NaN</td>\n      <td>NaN</td>\n      <td>NaN</td>\n      <td>NaN</td>\n      <td>NaN</td>\n      <td>...</td>\n      <td>NaN</td>\n      <td>NaN</td>\n      <td>NaN</td>\n      <td>NaN</td>\n      <td>NaN</td>\n      <td>NaN</td>\n      <td>NaN</td>\n      <td>NaN</td>\n      <td>NaN</td>\n      <td>NaN</td>\n    </tr>\n    <tr>\n      <th>26578</th>\n      <td>Florida</td>\n      <td>32680</td>\n      <td>2021-01-01</td>\n      <td>202101</td>\n      <td>NaN</td>\n      <td>NaN</td>\n      <td>NaN</td>\n      <td>NaN</td>\n      <td>NaN</td>\n      <td>NaN</td>\n      <td>...</td>\n      <td>NaN</td>\n      <td>5.0</td>\n      <td>0.0</td>\n      <td>130000.0</td>\n      <td>9.510791</td>\n      <td>1.347094</td>\n      <td>62420.910488</td>\n      <td>0.970014</td>\n      <td>0.648398</td>\n      <td>0.567897</td>\n    </tr>\n    <tr>\n      <th>26579</th>\n      <td>Florida</td>\n      <td>32680</td>\n      <td>2021-01-01</td>\n      <td>202101</td>\n      <td>NaN</td>\n      <td>NaN</td>\n      <td>NaN</td>\n      <td>NaN</td>\n      <td>NaN</td>\n      <td>NaN</td>\n      <td>...</td>\n      <td>NaN</td>\n      <td>2.0</td>\n      <td>2.0</td>\n      <td>50000.0</td>\n      <td>9.492123</td>\n      <td>1.143768</td>\n      <td>69327.495238</td>\n      <td>0.970014</td>\n      <td>0.648398</td>\n      <td>0.567897</td>\n    </tr>\n  </tbody>\n</table>\n<p>5 rows × 38 columns</p>\n</div>"
     },
     "metadata": {},
     "execution_count": 222
    }
   ],
   "source": [
    "final_df.tail()"
   ]
  },
  {
   "cell_type": "code",
   "execution_count": 223,
   "metadata": {},
   "outputs": [],
   "source": [
    "# Write combined data to csv\n",
    "final_df.to_csv(tableau_path, index=False)"
   ]
  }
 ]
}