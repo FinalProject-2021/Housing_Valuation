{
 "metadata": {
  "language_info": {
   "codemirror_mode": {
    "name": "ipython",
    "version": 3
   },
   "file_extension": ".py",
   "mimetype": "text/x-python",
   "name": "python",
   "nbconvert_exporter": "python",
   "pygments_lexer": "ipython3",
   "version": "3.8.3"
  },
  "orig_nbformat": 2,
  "kernelspec": {
   "name": "python383jvsc74a57bd0c72a629dba5ae9edebcad565c17c3988d814021371aabb3db62cb04d2b10dbfe",
   "display_name": "Python 3.8.3 64-bit ('base': conda)"
  }
 },
 "nbformat": 4,
 "nbformat_minor": 2,
 "cells": [
  {
   "cell_type": "code",
   "execution_count": 160,
   "metadata": {},
   "outputs": [],
   "source": [
    "# Required Modules\n",
    "import pandas as pd\n",
    "import sqlite3\n",
    "import os\n",
    "import datetime as dt\n",
    "\n",
    "# ML Input Data\n",
    "input_path = os.path.abspath('../Resources/Clean_Data/Final_Data.csv')\n",
    "input_df = pd.read_csv(input_path, header=0)\n",
    "\n",
    "# ML VAR Model Output\n",
    "VAR_path = os.path.abspath('../Resources/ML_Outputs/var_model_predict.csv')\n",
    "VAR_df = pd.read_csv(VAR_path, header=0).drop(columns={'Unnamed: 0'})\n",
    "\n",
    "# ML ARIMA Model Output\n",
    "ARIMA_Price_path = os.path.abspath('../Resources/ML_Outputs/April_2021_preds_by_zip.csv')\n",
    "ARIMA_Price_df = pd.read_csv(ARIMA_Price_path, header=0)\n",
    "ARIMA_Sales_path = os.path.abspath('../Resources/ML_Outputs/April_2021_total_preds_by_zip.csv')\n",
    "ARIMA_Sales_df = pd.read_csv(ARIMA_Sales_path, header=0)\n",
    "ARIMA_FHA_path = os.path.abspath('../Resources/ML_Outputs/April_2021_FHA_preds_by_zip.csv')\n",
    "ARIMA_FHA_df = pd.read_csv(ARIMA_FHA_path, header=0)\n",
    "\n",
    "# Random Forest Model Output\n",
    "RF_path = os.path.abspath('../Resources/ML_Outputs/random_forest_model.csv')\n",
    "RF_df = pd.read_csv(RF_path, header=0)\n",
    "\n",
    "# Tableau Data\n",
    "tableau_path = os.path.abspath('../Resources/Clean_Data/Tableau_Data.csv')"
   ]
  },
  {
   "cell_type": "code",
   "execution_count": 161,
   "metadata": {},
   "outputs": [],
   "source": [
    "# Input Data\n",
    "input_df['State'] = 'Florida'\n",
    "input_df = input_df[['State','Zip_Code','Date','Date_Code','Sale_Price','Interest_Rate', 'Property_Tax', 'Rent_Price', 'Household_Income', 'Rent_Affordability', 'Total_Sales', 'FHA_Count', 'Mobility_Rate', 'School_Rating', 'School_Grade', 'Owner_Occupied', 'Renter_Occupied', 'Total_Vacant', 'Total_Dwellings', 'FTE_Employed', 'Unemployed', 'Expense_Index', 'Average_Commute', 'Crime_Index', 'Loan_Amount', 'Loan_Term', 'Loan_R', 'Loan_Payment', 'Home_Affordability']]\n",
    "input_df['Date'] = pd.to_datetime(input_df['Date'])\n",
    "# input_df.dtypes"
   ]
  },
  {
   "cell_type": "code",
   "execution_count": 162,
   "metadata": {},
   "outputs": [
    {
     "output_type": "stream",
     "name": "stderr",
     "text": [
      "C:\\Users\\chris\\anaconda3\\lib\\site-packages\\pandas\\core\\ops\\array_ops.py:253: FutureWarning: elementwise comparison failed; returning scalar instead, but in the future will perform elementwise comparison\n  res_values = method(rvalues)\n"
     ]
    }
   ],
   "source": [
    "# Random Forest Model DataFrame\n",
    "df_date = pd.DataFrame()\n",
    "for Date_Code in VAR_df['Date_Code'].unique():\n",
    "    Date_Code = int(Date_Code)\n",
    "    Date_Code = str(Date_Code)\n",
    "    year = Date_Code[:4]\n",
    "    month = Date_Code[4:]\n",
    "    date = dt.datetime.strptime(f'{year}-{month}-1','%Y-%m-%d')\n",
    "    RF_df.loc[VAR_df['Date_Code'] == Date_Code]['Date'] = date\n",
    "    df_date = df_date.append(pd.DataFrame({'Date_Code':[int(Date_Code)],'Date':[date]}),ignore_index=True)\n",
    "RF_df = RF_df.merge(df_date, how='left', on='Date_Code')\n",
    "RF_df['State'] = 'Florida'\n",
    "\n",
    "RF_df = RF_df.rename(columns={'Sale_Price_Prediction':'RF_Sale_Price',\n",
    "                              'Sale_Price_RMSLE':'RF_Sale_Price_RMSLE',\n",
    "                              'FHA_Count_Prediction':'RF_FHA_Count',\n",
    "                              'FHA_Count_RMSLE':'RF_FHA_Count_RMSLE',\n",
    "                              'Total_Sales_Predicted':'RF_Total_Sales',\n",
    "                              'Total_Sales_Predicted_RMSLE':'RF_Total_Sales_Predicted_RMSLE'})\n",
    "\n",
    "RF_df = RF_df[['State','Zip_Code','Date','Date_Code',\n",
    "                'RF_Sale_Price', 'RF_Sale_Price_RMSLE',\n",
    "                'RF_FHA_Count', 'RF_FHA_Count_RMSLE',\n",
    "                'RF_Total_Sales', 'RF_Total_Sales_Predicted_RMSLE']]\n",
    "# RF_df.dtypes"
   ]
  },
  {
   "cell_type": "code",
   "execution_count": 163,
   "metadata": {},
   "outputs": [],
   "source": [
    "# ARIMA model DataFrame(s)\n",
    "\n",
    "# Sales Price\n",
    "ARIMA_Price_df['Date_Code'] = 202104\n",
    "ARIMA_Price_df['Date'] = dt.datetime.strptime('2021-04-01','%Y-%m-%d')\n",
    "ARIMA_Price_df['State'] = 'Florida'\n",
    "ARIMA_Price_df = ARIMA_Price_df[['State','Zip_Code','Date','Date_Code','ARIMA_Sales_Price']]\n",
    "\n",
    "# Sales Count\n",
    "ARIMA_Sales_df['Date_Code'] = 202104\n",
    "ARIMA_Sales_df['Date'] = dt.datetime.strptime('2021-04-01','%Y-%m-%d')\n",
    "ARIMA_Sales_df['State'] = 'Florida'\n",
    "ARIMA_Sales_df = ARIMA_Sales_df[['State','Zip_Code','Date','Date_Code','ARIMA_Total_Sales']]\n",
    "\n",
    "# FHA Counts\n",
    "ARIMA_FHA_df['Date_Code'] = 202104\n",
    "ARIMA_FHA_df['Date'] = dt.datetime.strptime('2021-04-01','%Y-%m-%d')\n",
    "ARIMA_FHA_df['State'] = 'Florida'\n",
    "ARIMA_FHA_df = ARIMA_FHA_df[['State','Zip_Code','Date','Date_Code','ARIMA_FHA_Counts']]"
   ]
  },
  {
   "cell_type": "code",
   "execution_count": 164,
   "metadata": {
    "tags": []
   },
   "outputs": [],
   "source": [
    "# VAR model DataFrame(s)\n",
    "df_date = pd.DataFrame()\n",
    "for Date_Code in VAR_df['Date_Code'].unique():\n",
    "    Date_Code = int(Date_Code)\n",
    "    Date_Code = str(Date_Code)\n",
    "    year = Date_Code[:4]\n",
    "    month = Date_Code[4:]\n",
    "    date = dt.datetime.strptime(f'{year}-{month}-1','%Y-%m-%d')\n",
    "    VAR_df.loc[VAR_df['Date_Code'] == Date_Code]['Date'] = date\n",
    "    df_date = df_date.append(pd.DataFrame({'Date_Code':[int(Date_Code)],'Date':[date]}),ignore_index=True)\n",
    "\n",
    "VAR_df = VAR_df.merge(df_date, how='left', on='Date_Code')\n",
    "VAR_df['State'] = 'Florida'\n",
    "VAR_df = VAR_df[['State','Zip_Code','Date','Date_Code',\n",
    "                'Total_Sales_Prediction', 'Total_ Sales_RMSLE',\n",
    "                'FHA_Count_Prediction', 'FHA_Count_RMSLE',\n",
    "                'Sale_Price_Prediction', 'Sale_Price_RMSLE'\n",
    "                ]]\n",
    "VAR_df = VAR_df.rename(columns={'Total_Sales_Prediction':'VAR_Total_Sales',\n",
    "                                'FHA_Count_Prediction':'VAR_FHA_Count',\n",
    "                                'Sale_Price_Prediction':'VAR_Sale_Price',\n",
    "                                'Total_ Sales_RMSLE':'VAR_Sales_RMSLE',\n",
    "                                'FHA_Count_RMSLE':'VAR_FHA_Count_RMSLE',\n",
    "                                'Sale_Price_RMSLE':'VAR_Sale_Price_RMSLE'\n",
    "                                })\n",
    "# VAR_df.columns"
   ]
  },
  {
   "cell_type": "code",
   "execution_count": 165,
   "metadata": {},
   "outputs": [],
   "source": [
    "# VAR_df.dtypes"
   ]
  },
  {
   "cell_type": "code",
   "execution_count": 166,
   "metadata": {
    "tags": []
   },
   "outputs": [
    {
     "output_type": "execute_result",
     "data": {
      "text/plain": [
       "State                                     object\n",
       "Zip_Code                                   int64\n",
       "Date                              datetime64[ns]\n",
       "Date_Code                                  int64\n",
       "Sale_Price                               float64\n",
       "Interest_Rate                            float64\n",
       "Property_Tax                             float64\n",
       "Rent_Price                               float64\n",
       "Household_Income                         float64\n",
       "Rent_Affordability                       float64\n",
       "Total_Sales                              float64\n",
       "FHA_Count                                float64\n",
       "Mobility_Rate                            float64\n",
       "School_Rating                            float64\n",
       "School_Grade                              object\n",
       "Owner_Occupied                           float64\n",
       "Renter_Occupied                          float64\n",
       "Total_Vacant                             float64\n",
       "Total_Dwellings                          float64\n",
       "FTE_Employed                             float64\n",
       "Unemployed                               float64\n",
       "Expense_Index                            float64\n",
       "Average_Commute                          float64\n",
       "Crime_Index                              float64\n",
       "Loan_Amount                              float64\n",
       "Loan_Term                                float64\n",
       "Loan_R                                   float64\n",
       "Loan_Payment                             float64\n",
       "Home_Affordability                       float64\n",
       "ARIMA_Sales_Price                        float64\n",
       "ARIMA_Total_Sales                        float64\n",
       "ARIMA_FHA_Counts                         float64\n",
       "RF_Sale_Price                            float64\n",
       "RF_Sale_Price_RMSLE                      float64\n",
       "RF_FHA_Count                             float64\n",
       "RF_FHA_Count_RMSLE                       float64\n",
       "RF_Total_Sales                           float64\n",
       "RF_Total_Sales_Predicted_RMSLE           float64\n",
       "VAR_Total_Sales                          float64\n",
       "VAR_Sales_RMSLE                          float64\n",
       "VAR_FHA_Count                            float64\n",
       "VAR_FHA_Count_RMSLE                      float64\n",
       "VAR_Sale_Price                           float64\n",
       "VAR_Sale_Price_RMSLE                     float64\n",
       "dtype: object"
      ]
     },
     "metadata": {},
     "execution_count": 166
    }
   ],
   "source": [
    "# Merge into one DataFrame\n",
    "final_df = input_df.merge(ARIMA_Price_df, how='outer' ,on=['State','Zip_Code','Date','Date_Code'], suffixes=('','_ARIMA'))\n",
    "final_df = final_df.merge(ARIMA_Sales_df, how='outer' ,on=['State','Zip_Code','Date','Date_Code'], suffixes=('','_ARIMA'))\n",
    "final_df = final_df.merge(ARIMA_FHA_df, how='outer' ,on=['State','Zip_Code','Date','Date_Code'], suffixes=('','_ARIMA'))\n",
    "final_df = final_df.merge(RF_df, how='outer' ,on=['State','Zip_Code','Date','Date_Code'], suffixes=('','_RF'))\n",
    "final_df = final_df.merge(VAR_df, how='outer' ,on=['State','Zip_Code','Date','Date_Code'], suffixes=('','_VAR'))\n",
    "\n",
    "final_df.dtypes"
   ]
  },
  {
   "cell_type": "code",
   "execution_count": 167,
   "metadata": {},
   "outputs": [],
   "source": [
    "# Write combined data to csv\n",
    "final_df.to_csv(tableau_path, index=False)"
   ]
  }
 ]
}