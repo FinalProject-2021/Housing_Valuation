{
 "metadata": {
  "language_info": {
   "codemirror_mode": {
    "name": "ipython",
    "version": 3
   },
   "file_extension": ".py",
   "mimetype": "text/x-python",
   "name": "python",
   "nbconvert_exporter": "python",
   "pygments_lexer": "ipython3",
   "version": "3.6.10"
  },
  "orig_nbformat": 2,
  "kernelspec": {
   "name": "python3610jvsc74a57bd0a7795a94fcb98f890ecfbefedba6c51e1f5a02e9905bd71b2049174ccd39ef45",
   "display_name": "Python 3.6.10 64-bit ('PythonData': conda)"
  }
 },
 "nbformat": 4,
 "nbformat_minor": 2,
 "cells": [
  {
   "cell_type": "code",
   "execution_count": 1,
   "metadata": {},
   "outputs": [],
   "source": [
    "import pandas as pd"
   ]
  },
  {
   "cell_type": "code",
   "execution_count": 2,
   "metadata": {},
   "outputs": [],
   "source": [
    "# Read .csv files of household income and mobility by zip code from census\n",
    "file = \"./Resources/Census_Data/household_income_census.csv\"\n",
    "household_income = pd.read_csv(file)\n",
    "\n",
    "file2 = \"./Resources/Census_Data/mobility_census.csv\"\n",
    "mobility = pd.read_csv(file2)"
   ]
  },
  {
   "cell_type": "code",
   "execution_count": 3,
   "metadata": {},
   "outputs": [
    {
     "output_type": "execute_result",
     "data": {
      "text/plain": [
       "      name  B19013001  B19013001, Error\n",
       "0  Florida    55660.0             220.0\n",
       "1    32003    94154.0           13447.0\n",
       "2    32008    33663.0            6751.0\n",
       "3    32009    68929.0           10413.0\n",
       "4    32011    63772.0            5213.0"
      ],
      "text/html": "<div>\n<style scoped>\n    .dataframe tbody tr th:only-of-type {\n        vertical-align: middle;\n    }\n\n    .dataframe tbody tr th {\n        vertical-align: top;\n    }\n\n    .dataframe thead th {\n        text-align: right;\n    }\n</style>\n<table border=\"1\" class=\"dataframe\">\n  <thead>\n    <tr style=\"text-align: right;\">\n      <th></th>\n      <th>name</th>\n      <th>B19013001</th>\n      <th>B19013001, Error</th>\n    </tr>\n  </thead>\n  <tbody>\n    <tr>\n      <th>0</th>\n      <td>Florida</td>\n      <td>55660.0</td>\n      <td>220.0</td>\n    </tr>\n    <tr>\n      <th>1</th>\n      <td>32003</td>\n      <td>94154.0</td>\n      <td>13447.0</td>\n    </tr>\n    <tr>\n      <th>2</th>\n      <td>32008</td>\n      <td>33663.0</td>\n      <td>6751.0</td>\n    </tr>\n    <tr>\n      <th>3</th>\n      <td>32009</td>\n      <td>68929.0</td>\n      <td>10413.0</td>\n    </tr>\n    <tr>\n      <th>4</th>\n      <td>32011</td>\n      <td>63772.0</td>\n      <td>5213.0</td>\n    </tr>\n  </tbody>\n</table>\n</div>"
     },
     "metadata": {},
     "execution_count": 3
    }
   ],
   "source": [
    "#Drop first column from household_income dataframe\n",
    "household_income = household_income.drop(columns=[\"geoid\"])\n",
    "household_income.head()"
   ]
  },
  {
   "cell_type": "code",
   "execution_count": 4,
   "metadata": {},
   "outputs": [],
   "source": [
    "#Drop error columns from household_income dataframe\n",
    "household_income = household_income.drop(columns=[\"B19013001, Error\"])"
   ]
  },
  {
   "cell_type": "code",
   "execution_count": 5,
   "metadata": {},
   "outputs": [
    {
     "output_type": "execute_result",
     "data": {
      "text/plain": [
       "      name  B19013001\n",
       "0  Florida    55660.0\n",
       "1    32003    94154.0\n",
       "2    32008    33663.0\n",
       "3    32009    68929.0\n",
       "4    32011    63772.0"
      ],
      "text/html": "<div>\n<style scoped>\n    .dataframe tbody tr th:only-of-type {\n        vertical-align: middle;\n    }\n\n    .dataframe tbody tr th {\n        vertical-align: top;\n    }\n\n    .dataframe thead th {\n        text-align: right;\n    }\n</style>\n<table border=\"1\" class=\"dataframe\">\n  <thead>\n    <tr style=\"text-align: right;\">\n      <th></th>\n      <th>name</th>\n      <th>B19013001</th>\n    </tr>\n  </thead>\n  <tbody>\n    <tr>\n      <th>0</th>\n      <td>Florida</td>\n      <td>55660.0</td>\n    </tr>\n    <tr>\n      <th>1</th>\n      <td>32003</td>\n      <td>94154.0</td>\n    </tr>\n    <tr>\n      <th>2</th>\n      <td>32008</td>\n      <td>33663.0</td>\n    </tr>\n    <tr>\n      <th>3</th>\n      <td>32009</td>\n      <td>68929.0</td>\n    </tr>\n    <tr>\n      <th>4</th>\n      <td>32011</td>\n      <td>63772.0</td>\n    </tr>\n  </tbody>\n</table>\n</div>"
     },
     "metadata": {},
     "execution_count": 5
    }
   ],
   "source": [
    "household_income.head()"
   ]
  },
  {
   "cell_type": "code",
   "execution_count": 6,
   "metadata": {},
   "outputs": [
    {
     "output_type": "execute_result",
     "data": {
      "text/plain": [
       "          geoid           name  B07003001  B07003001, Error  B07003002  \\\n",
       "0       01000US  United States  320984519             12103  157985702   \n",
       "1     04000US12        Florida   20691583              2955   10113248   \n",
       "2  86000US32003          32003      28564              1612      14221   \n",
       "3  86000US32008          32008       4326               776       2070   \n",
       "4  86000US32009          32009       3573               289       1834   \n",
       "\n",
       "   B07003002, Error  B07003003  B07003003, Error  B07003004  B07003004, Error  \\\n",
       "0              9703  162998817             11328  275328008            182093   \n",
       "1              2801   10578335              2416   17479613             23723   \n",
       "2               997      14343               812      23356              1612   \n",
       "3               416       2256               445       4036               744   \n",
       "4               252       1739               186       3426               302   \n",
       "\n",
       "   ...  B07003014  B07003014, Error  B07003015  B07003015, Error  B07003016  \\\n",
       "0  ...    3799158             20414    3675880             22226    2063988   \n",
       "1  ...     291709              5487     296039              5728     226110   \n",
       "2  ...        800               327        835               433        332   \n",
       "3  ...         13                21          0                14         14   \n",
       "4  ...          0                14          5                 8          0   \n",
       "\n",
       "   B07003016, Error  B07003017  B07003017, Error  B07003018  B07003018, Error  \n",
       "0             17801    1040035              9061    1023953             11085  \n",
       "1              6556     111108              3697     115002              3720  \n",
       "2               263        112               125        220               189  \n",
       "3                25          3                 5         11                25  \n",
       "4                14          0                14          0                14  \n",
       "\n",
       "[5 rows x 38 columns]"
      ],
      "text/html": "<div>\n<style scoped>\n    .dataframe tbody tr th:only-of-type {\n        vertical-align: middle;\n    }\n\n    .dataframe tbody tr th {\n        vertical-align: top;\n    }\n\n    .dataframe thead th {\n        text-align: right;\n    }\n</style>\n<table border=\"1\" class=\"dataframe\">\n  <thead>\n    <tr style=\"text-align: right;\">\n      <th></th>\n      <th>geoid</th>\n      <th>name</th>\n      <th>B07003001</th>\n      <th>B07003001, Error</th>\n      <th>B07003002</th>\n      <th>B07003002, Error</th>\n      <th>B07003003</th>\n      <th>B07003003, Error</th>\n      <th>B07003004</th>\n      <th>B07003004, Error</th>\n      <th>...</th>\n      <th>B07003014</th>\n      <th>B07003014, Error</th>\n      <th>B07003015</th>\n      <th>B07003015, Error</th>\n      <th>B07003016</th>\n      <th>B07003016, Error</th>\n      <th>B07003017</th>\n      <th>B07003017, Error</th>\n      <th>B07003018</th>\n      <th>B07003018, Error</th>\n    </tr>\n  </thead>\n  <tbody>\n    <tr>\n      <th>0</th>\n      <td>01000US</td>\n      <td>United States</td>\n      <td>320984519</td>\n      <td>12103</td>\n      <td>157985702</td>\n      <td>9703</td>\n      <td>162998817</td>\n      <td>11328</td>\n      <td>275328008</td>\n      <td>182093</td>\n      <td>...</td>\n      <td>3799158</td>\n      <td>20414</td>\n      <td>3675880</td>\n      <td>22226</td>\n      <td>2063988</td>\n      <td>17801</td>\n      <td>1040035</td>\n      <td>9061</td>\n      <td>1023953</td>\n      <td>11085</td>\n    </tr>\n    <tr>\n      <th>1</th>\n      <td>04000US12</td>\n      <td>Florida</td>\n      <td>20691583</td>\n      <td>2955</td>\n      <td>10113248</td>\n      <td>2801</td>\n      <td>10578335</td>\n      <td>2416</td>\n      <td>17479613</td>\n      <td>23723</td>\n      <td>...</td>\n      <td>291709</td>\n      <td>5487</td>\n      <td>296039</td>\n      <td>5728</td>\n      <td>226110</td>\n      <td>6556</td>\n      <td>111108</td>\n      <td>3697</td>\n      <td>115002</td>\n      <td>3720</td>\n    </tr>\n    <tr>\n      <th>2</th>\n      <td>86000US32003</td>\n      <td>32003</td>\n      <td>28564</td>\n      <td>1612</td>\n      <td>14221</td>\n      <td>997</td>\n      <td>14343</td>\n      <td>812</td>\n      <td>23356</td>\n      <td>1612</td>\n      <td>...</td>\n      <td>800</td>\n      <td>327</td>\n      <td>835</td>\n      <td>433</td>\n      <td>332</td>\n      <td>263</td>\n      <td>112</td>\n      <td>125</td>\n      <td>220</td>\n      <td>189</td>\n    </tr>\n    <tr>\n      <th>3</th>\n      <td>86000US32008</td>\n      <td>32008</td>\n      <td>4326</td>\n      <td>776</td>\n      <td>2070</td>\n      <td>416</td>\n      <td>2256</td>\n      <td>445</td>\n      <td>4036</td>\n      <td>744</td>\n      <td>...</td>\n      <td>13</td>\n      <td>21</td>\n      <td>0</td>\n      <td>14</td>\n      <td>14</td>\n      <td>25</td>\n      <td>3</td>\n      <td>5</td>\n      <td>11</td>\n      <td>25</td>\n    </tr>\n    <tr>\n      <th>4</th>\n      <td>86000US32009</td>\n      <td>32009</td>\n      <td>3573</td>\n      <td>289</td>\n      <td>1834</td>\n      <td>252</td>\n      <td>1739</td>\n      <td>186</td>\n      <td>3426</td>\n      <td>302</td>\n      <td>...</td>\n      <td>0</td>\n      <td>14</td>\n      <td>5</td>\n      <td>8</td>\n      <td>0</td>\n      <td>14</td>\n      <td>0</td>\n      <td>14</td>\n      <td>0</td>\n      <td>14</td>\n    </tr>\n  </tbody>\n</table>\n<p>5 rows × 38 columns</p>\n</div>"
     },
     "metadata": {},
     "execution_count": 6
    }
   ],
   "source": [
    "#Look at mobility dataframe\n",
    "mobility.head()"
   ]
  },
  {
   "cell_type": "code",
   "execution_count": 7,
   "metadata": {},
   "outputs": [
    {
     "output_type": "execute_result",
     "data": {
      "text/plain": [
       "            name  B07003001  B07003001, Error  B07003002  B07003002, Error  \\\n",
       "0  United States  320984519             12103  157985702              9703   \n",
       "1        Florida   20691583              2955   10113248              2801   \n",
       "2          32003      28564              1612      14221               997   \n",
       "3          32008       4326               776       2070               416   \n",
       "4          32009       3573               289       1834               252   \n",
       "\n",
       "   B07003003  B07003003, Error  B07003004  B07003004, Error  B07003005  ...  \\\n",
       "0  162998817             11328  275328008            182093  135064244  ...   \n",
       "1   10578335              2416   17479613             23723    8507345  ...   \n",
       "2      14343               812      23356              1612      11544  ...   \n",
       "3       2256               445       4036               744       1981  ...   \n",
       "4       1739               186       3426               302       1773  ...   \n",
       "\n",
       "   B07003014  B07003014, Error  B07003015  B07003015, Error  B07003016  \\\n",
       "0    3799158             20414    3675880             22226    2063988   \n",
       "1     291709              5487     296039              5728     226110   \n",
       "2        800               327        835               433        332   \n",
       "3         13                21          0                14         14   \n",
       "4          0                14          5                 8          0   \n",
       "\n",
       "   B07003016, Error  B07003017  B07003017, Error  B07003018  B07003018, Error  \n",
       "0             17801    1040035              9061    1023953             11085  \n",
       "1              6556     111108              3697     115002              3720  \n",
       "2               263        112               125        220               189  \n",
       "3                25          3                 5         11                25  \n",
       "4                14          0                14          0                14  \n",
       "\n",
       "[5 rows x 37 columns]"
      ],
      "text/html": "<div>\n<style scoped>\n    .dataframe tbody tr th:only-of-type {\n        vertical-align: middle;\n    }\n\n    .dataframe tbody tr th {\n        vertical-align: top;\n    }\n\n    .dataframe thead th {\n        text-align: right;\n    }\n</style>\n<table border=\"1\" class=\"dataframe\">\n  <thead>\n    <tr style=\"text-align: right;\">\n      <th></th>\n      <th>name</th>\n      <th>B07003001</th>\n      <th>B07003001, Error</th>\n      <th>B07003002</th>\n      <th>B07003002, Error</th>\n      <th>B07003003</th>\n      <th>B07003003, Error</th>\n      <th>B07003004</th>\n      <th>B07003004, Error</th>\n      <th>B07003005</th>\n      <th>...</th>\n      <th>B07003014</th>\n      <th>B07003014, Error</th>\n      <th>B07003015</th>\n      <th>B07003015, Error</th>\n      <th>B07003016</th>\n      <th>B07003016, Error</th>\n      <th>B07003017</th>\n      <th>B07003017, Error</th>\n      <th>B07003018</th>\n      <th>B07003018, Error</th>\n    </tr>\n  </thead>\n  <tbody>\n    <tr>\n      <th>0</th>\n      <td>United States</td>\n      <td>320984519</td>\n      <td>12103</td>\n      <td>157985702</td>\n      <td>9703</td>\n      <td>162998817</td>\n      <td>11328</td>\n      <td>275328008</td>\n      <td>182093</td>\n      <td>135064244</td>\n      <td>...</td>\n      <td>3799158</td>\n      <td>20414</td>\n      <td>3675880</td>\n      <td>22226</td>\n      <td>2063988</td>\n      <td>17801</td>\n      <td>1040035</td>\n      <td>9061</td>\n      <td>1023953</td>\n      <td>11085</td>\n    </tr>\n    <tr>\n      <th>1</th>\n      <td>Florida</td>\n      <td>20691583</td>\n      <td>2955</td>\n      <td>10113248</td>\n      <td>2801</td>\n      <td>10578335</td>\n      <td>2416</td>\n      <td>17479613</td>\n      <td>23723</td>\n      <td>8507345</td>\n      <td>...</td>\n      <td>291709</td>\n      <td>5487</td>\n      <td>296039</td>\n      <td>5728</td>\n      <td>226110</td>\n      <td>6556</td>\n      <td>111108</td>\n      <td>3697</td>\n      <td>115002</td>\n      <td>3720</td>\n    </tr>\n    <tr>\n      <th>2</th>\n      <td>32003</td>\n      <td>28564</td>\n      <td>1612</td>\n      <td>14221</td>\n      <td>997</td>\n      <td>14343</td>\n      <td>812</td>\n      <td>23356</td>\n      <td>1612</td>\n      <td>11544</td>\n      <td>...</td>\n      <td>800</td>\n      <td>327</td>\n      <td>835</td>\n      <td>433</td>\n      <td>332</td>\n      <td>263</td>\n      <td>112</td>\n      <td>125</td>\n      <td>220</td>\n      <td>189</td>\n    </tr>\n    <tr>\n      <th>3</th>\n      <td>32008</td>\n      <td>4326</td>\n      <td>776</td>\n      <td>2070</td>\n      <td>416</td>\n      <td>2256</td>\n      <td>445</td>\n      <td>4036</td>\n      <td>744</td>\n      <td>1981</td>\n      <td>...</td>\n      <td>13</td>\n      <td>21</td>\n      <td>0</td>\n      <td>14</td>\n      <td>14</td>\n      <td>25</td>\n      <td>3</td>\n      <td>5</td>\n      <td>11</td>\n      <td>25</td>\n    </tr>\n    <tr>\n      <th>4</th>\n      <td>32009</td>\n      <td>3573</td>\n      <td>289</td>\n      <td>1834</td>\n      <td>252</td>\n      <td>1739</td>\n      <td>186</td>\n      <td>3426</td>\n      <td>302</td>\n      <td>1773</td>\n      <td>...</td>\n      <td>0</td>\n      <td>14</td>\n      <td>5</td>\n      <td>8</td>\n      <td>0</td>\n      <td>14</td>\n      <td>0</td>\n      <td>14</td>\n      <td>0</td>\n      <td>14</td>\n    </tr>\n  </tbody>\n</table>\n<p>5 rows × 37 columns</p>\n</div>"
     },
     "metadata": {},
     "execution_count": 7
    }
   ],
   "source": [
    "#Drop first column from mobility dataframe\n",
    "mobility = mobility.drop(columns=[\"geoid\"])\n",
    "mobility.head()"
   ]
  },
  {
   "cell_type": "code",
   "execution_count": 8,
   "metadata": {},
   "outputs": [
    {
     "output_type": "execute_result",
     "data": {
      "text/plain": [
       "            name  B07003001  B07003002  B07003003  B07003004  B07003005  \\\n",
       "0  United States  320984519  157985702  162998817  275328008  135064244   \n",
       "1        Florida   20691583   10113248   10578335   17479613    8507345   \n",
       "2          32003      28564      14221      14343      23356      11544   \n",
       "3          32008       4326       2070       2256       4036       1981   \n",
       "4          32009       3573       1834       1739       3426       1773   \n",
       "\n",
       "   B07003006  B07003007  B07003008  B07003009  B07003010  B07003011  \\\n",
       "0  140263764   25736976   12692364   13044612   10380509    5389901   \n",
       "1    8972268    1753656     859791     893865     644456     343295   \n",
       "2      11812       1625        877        748       1616        888   \n",
       "3       2055         88         15         73        175         58   \n",
       "4       1653        142         61         81          0          0   \n",
       "\n",
       "   B07003012  B07003013  B07003014  B07003015  B07003016  B07003017  B07003018  \n",
       "0    4990608    7475038    3799158    3675880    2063988    1040035    1023953  \n",
       "1     301161     587748     291709     296039     226110     111108     115002  \n",
       "2        728       1635        800        835        332        112        220  \n",
       "3        117         13         13          0         14          3         11  \n",
       "4          0          5          0          5          0          0          0  "
      ],
      "text/html": "<div>\n<style scoped>\n    .dataframe tbody tr th:only-of-type {\n        vertical-align: middle;\n    }\n\n    .dataframe tbody tr th {\n        vertical-align: top;\n    }\n\n    .dataframe thead th {\n        text-align: right;\n    }\n</style>\n<table border=\"1\" class=\"dataframe\">\n  <thead>\n    <tr style=\"text-align: right;\">\n      <th></th>\n      <th>name</th>\n      <th>B07003001</th>\n      <th>B07003002</th>\n      <th>B07003003</th>\n      <th>B07003004</th>\n      <th>B07003005</th>\n      <th>B07003006</th>\n      <th>B07003007</th>\n      <th>B07003008</th>\n      <th>B07003009</th>\n      <th>B07003010</th>\n      <th>B07003011</th>\n      <th>B07003012</th>\n      <th>B07003013</th>\n      <th>B07003014</th>\n      <th>B07003015</th>\n      <th>B07003016</th>\n      <th>B07003017</th>\n      <th>B07003018</th>\n    </tr>\n  </thead>\n  <tbody>\n    <tr>\n      <th>0</th>\n      <td>United States</td>\n      <td>320984519</td>\n      <td>157985702</td>\n      <td>162998817</td>\n      <td>275328008</td>\n      <td>135064244</td>\n      <td>140263764</td>\n      <td>25736976</td>\n      <td>12692364</td>\n      <td>13044612</td>\n      <td>10380509</td>\n      <td>5389901</td>\n      <td>4990608</td>\n      <td>7475038</td>\n      <td>3799158</td>\n      <td>3675880</td>\n      <td>2063988</td>\n      <td>1040035</td>\n      <td>1023953</td>\n    </tr>\n    <tr>\n      <th>1</th>\n      <td>Florida</td>\n      <td>20691583</td>\n      <td>10113248</td>\n      <td>10578335</td>\n      <td>17479613</td>\n      <td>8507345</td>\n      <td>8972268</td>\n      <td>1753656</td>\n      <td>859791</td>\n      <td>893865</td>\n      <td>644456</td>\n      <td>343295</td>\n      <td>301161</td>\n      <td>587748</td>\n      <td>291709</td>\n      <td>296039</td>\n      <td>226110</td>\n      <td>111108</td>\n      <td>115002</td>\n    </tr>\n    <tr>\n      <th>2</th>\n      <td>32003</td>\n      <td>28564</td>\n      <td>14221</td>\n      <td>14343</td>\n      <td>23356</td>\n      <td>11544</td>\n      <td>11812</td>\n      <td>1625</td>\n      <td>877</td>\n      <td>748</td>\n      <td>1616</td>\n      <td>888</td>\n      <td>728</td>\n      <td>1635</td>\n      <td>800</td>\n      <td>835</td>\n      <td>332</td>\n      <td>112</td>\n      <td>220</td>\n    </tr>\n    <tr>\n      <th>3</th>\n      <td>32008</td>\n      <td>4326</td>\n      <td>2070</td>\n      <td>2256</td>\n      <td>4036</td>\n      <td>1981</td>\n      <td>2055</td>\n      <td>88</td>\n      <td>15</td>\n      <td>73</td>\n      <td>175</td>\n      <td>58</td>\n      <td>117</td>\n      <td>13</td>\n      <td>13</td>\n      <td>0</td>\n      <td>14</td>\n      <td>3</td>\n      <td>11</td>\n    </tr>\n    <tr>\n      <th>4</th>\n      <td>32009</td>\n      <td>3573</td>\n      <td>1834</td>\n      <td>1739</td>\n      <td>3426</td>\n      <td>1773</td>\n      <td>1653</td>\n      <td>142</td>\n      <td>61</td>\n      <td>81</td>\n      <td>0</td>\n      <td>0</td>\n      <td>0</td>\n      <td>5</td>\n      <td>0</td>\n      <td>5</td>\n      <td>0</td>\n      <td>0</td>\n      <td>0</td>\n    </tr>\n  </tbody>\n</table>\n</div>"
     },
     "metadata": {},
     "execution_count": 8
    }
   ],
   "source": [
    "#Drop out error columns\n",
    "mobility = mobility.drop(columns=[\"B07003001, Error\", \"B07003002, Error\", \"B07003003, Error\", \"B07003004, Error\", \"B07003005, Error\", \"B07003006, Error\", \"B07003007, Error\", \"B07003008, Error\", \"B07003009, Error\", \"B07003010, Error\", \"B07003011, Error\", \"B07003012, Error\", \"B07003013, Error\", \"B07003014, Error\", \"B07003015, Error\", \"B07003016, Error\", \"B07003017, Error\", \"B07003018, Error\"])\n",
    "mobility.head()"
   ]
  },
  {
   "cell_type": "code",
   "execution_count": 9,
   "metadata": {},
   "outputs": [
    {
     "output_type": "execute_result",
     "data": {
      "text/plain": [
       "            name  B07003001  B07003002  B07003003  B07003004  B07003005  \\\n",
       "0  United States  320984519  157985702  162998817  275328008  135064244   \n",
       "1        Florida   20691583   10113248   10578335   17479613    8507345   \n",
       "2          32003      28564      14221      14343      23356      11544   \n",
       "3          32008       4326       2070       2256       4036       1981   \n",
       "4          32009       3573       1834       1739       3426       1773   \n",
       "\n",
       "   B07003006  B07003007  B07003008  B07003009  B07003010  B07003011  \\\n",
       "0  140263764   25736976   12692364   13044612   10380509    5389901   \n",
       "1    8972268    1753656     859791     893865     644456     343295   \n",
       "2      11812       1625        877        748       1616        888   \n",
       "3       2055         88         15         73        175         58   \n",
       "4       1653        142         61         81          0          0   \n",
       "\n",
       "   B07003012  B07003013  B07003014  B07003015  B07003016  B07003017  \\\n",
       "0    4990608    7475038    3799158    3675880    2063988    1040035   \n",
       "1     301161     587748     291709     296039     226110     111108   \n",
       "2        728       1635        800        835        332        112   \n",
       "3        117         13         13          0         14          3   \n",
       "4          0          5          0          5          0          0   \n",
       "\n",
       "   B07003018  mobility_rate  \n",
       "0    1023953       0.142239  \n",
       "1     115002       0.155231  \n",
       "2        220       0.182327  \n",
       "3         11       0.067037  \n",
       "4          0       0.041142  "
      ],
      "text/html": "<div>\n<style scoped>\n    .dataframe tbody tr th:only-of-type {\n        vertical-align: middle;\n    }\n\n    .dataframe tbody tr th {\n        vertical-align: top;\n    }\n\n    .dataframe thead th {\n        text-align: right;\n    }\n</style>\n<table border=\"1\" class=\"dataframe\">\n  <thead>\n    <tr style=\"text-align: right;\">\n      <th></th>\n      <th>name</th>\n      <th>B07003001</th>\n      <th>B07003002</th>\n      <th>B07003003</th>\n      <th>B07003004</th>\n      <th>B07003005</th>\n      <th>B07003006</th>\n      <th>B07003007</th>\n      <th>B07003008</th>\n      <th>B07003009</th>\n      <th>B07003010</th>\n      <th>B07003011</th>\n      <th>B07003012</th>\n      <th>B07003013</th>\n      <th>B07003014</th>\n      <th>B07003015</th>\n      <th>B07003016</th>\n      <th>B07003017</th>\n      <th>B07003018</th>\n      <th>mobility_rate</th>\n    </tr>\n  </thead>\n  <tbody>\n    <tr>\n      <th>0</th>\n      <td>United States</td>\n      <td>320984519</td>\n      <td>157985702</td>\n      <td>162998817</td>\n      <td>275328008</td>\n      <td>135064244</td>\n      <td>140263764</td>\n      <td>25736976</td>\n      <td>12692364</td>\n      <td>13044612</td>\n      <td>10380509</td>\n      <td>5389901</td>\n      <td>4990608</td>\n      <td>7475038</td>\n      <td>3799158</td>\n      <td>3675880</td>\n      <td>2063988</td>\n      <td>1040035</td>\n      <td>1023953</td>\n      <td>0.142239</td>\n    </tr>\n    <tr>\n      <th>1</th>\n      <td>Florida</td>\n      <td>20691583</td>\n      <td>10113248</td>\n      <td>10578335</td>\n      <td>17479613</td>\n      <td>8507345</td>\n      <td>8972268</td>\n      <td>1753656</td>\n      <td>859791</td>\n      <td>893865</td>\n      <td>644456</td>\n      <td>343295</td>\n      <td>301161</td>\n      <td>587748</td>\n      <td>291709</td>\n      <td>296039</td>\n      <td>226110</td>\n      <td>111108</td>\n      <td>115002</td>\n      <td>0.155231</td>\n    </tr>\n    <tr>\n      <th>2</th>\n      <td>32003</td>\n      <td>28564</td>\n      <td>14221</td>\n      <td>14343</td>\n      <td>23356</td>\n      <td>11544</td>\n      <td>11812</td>\n      <td>1625</td>\n      <td>877</td>\n      <td>748</td>\n      <td>1616</td>\n      <td>888</td>\n      <td>728</td>\n      <td>1635</td>\n      <td>800</td>\n      <td>835</td>\n      <td>332</td>\n      <td>112</td>\n      <td>220</td>\n      <td>0.182327</td>\n    </tr>\n    <tr>\n      <th>3</th>\n      <td>32008</td>\n      <td>4326</td>\n      <td>2070</td>\n      <td>2256</td>\n      <td>4036</td>\n      <td>1981</td>\n      <td>2055</td>\n      <td>88</td>\n      <td>15</td>\n      <td>73</td>\n      <td>175</td>\n      <td>58</td>\n      <td>117</td>\n      <td>13</td>\n      <td>13</td>\n      <td>0</td>\n      <td>14</td>\n      <td>3</td>\n      <td>11</td>\n      <td>0.067037</td>\n    </tr>\n    <tr>\n      <th>4</th>\n      <td>32009</td>\n      <td>3573</td>\n      <td>1834</td>\n      <td>1739</td>\n      <td>3426</td>\n      <td>1773</td>\n      <td>1653</td>\n      <td>142</td>\n      <td>61</td>\n      <td>81</td>\n      <td>0</td>\n      <td>0</td>\n      <td>0</td>\n      <td>5</td>\n      <td>0</td>\n      <td>5</td>\n      <td>0</td>\n      <td>0</td>\n      <td>0</td>\n      <td>0.041142</td>\n    </tr>\n  </tbody>\n</table>\n</div>"
     },
     "metadata": {},
     "execution_count": 9
    }
   ],
   "source": [
    "mobility_rate = 1- (mobility.B07003004/mobility.B07003001)\n",
    "mobility[\"mobility_rate\"]=mobility_rate\n",
    "mobility.head()"
   ]
  },
  {
   "cell_type": "code",
   "execution_count": 11,
   "metadata": {},
   "outputs": [
    {
     "output_type": "execute_result",
     "data": {
      "text/plain": [
       "            name  mobility_rate\n",
       "0  United States       0.142239\n",
       "1        Florida       0.155231\n",
       "2          32003       0.182327\n",
       "3          32008       0.067037\n",
       "4          32009       0.041142"
      ],
      "text/html": "<div>\n<style scoped>\n    .dataframe tbody tr th:only-of-type {\n        vertical-align: middle;\n    }\n\n    .dataframe tbody tr th {\n        vertical-align: top;\n    }\n\n    .dataframe thead th {\n        text-align: right;\n    }\n</style>\n<table border=\"1\" class=\"dataframe\">\n  <thead>\n    <tr style=\"text-align: right;\">\n      <th></th>\n      <th>name</th>\n      <th>mobility_rate</th>\n    </tr>\n  </thead>\n  <tbody>\n    <tr>\n      <th>0</th>\n      <td>United States</td>\n      <td>0.142239</td>\n    </tr>\n    <tr>\n      <th>1</th>\n      <td>Florida</td>\n      <td>0.155231</td>\n    </tr>\n    <tr>\n      <th>2</th>\n      <td>32003</td>\n      <td>0.182327</td>\n    </tr>\n    <tr>\n      <th>3</th>\n      <td>32008</td>\n      <td>0.067037</td>\n    </tr>\n    <tr>\n      <th>4</th>\n      <td>32009</td>\n      <td>0.041142</td>\n    </tr>\n  </tbody>\n</table>\n</div>"
     },
     "metadata": {},
     "execution_count": 11
    }
   ],
   "source": [
    "mobility = mobility.filter([\"name\", \"mobility_rate\"], axis=1)\n",
    "mobility.head()"
   ]
  },
  {
   "cell_type": "code",
   "execution_count": 12,
   "metadata": {},
   "outputs": [],
   "source": [
    "mobility = mobility.dropna()\n",
    "mobility = mobility.drop_duplicates()\n",
    "household_income = household_income.dropna()\n",
    "household_income = household_income.drop_duplicates()"
   ]
  },
  {
   "cell_type": "code",
   "execution_count": 13,
   "metadata": {},
   "outputs": [],
   "source": [
    "mobility.to_csv('./Resources/Census_Data/mobility_census_clean.csv')\n",
    "household_income.to_csv('./Resources/Census_Data/household_income_census_clean.csv')"
   ]
  },
  {
   "cell_type": "code",
   "execution_count": 16,
   "metadata": {},
   "outputs": [
    {
     "output_type": "error",
     "ename": "ValueError",
     "evalue": "Table 'mobility_slim' already exists.",
     "traceback": [
      "\u001b[1;31m---------------------------------------------------------------------------\u001b[0m",
      "\u001b[1;31mValueError\u001b[0m                                Traceback (most recent call last)",
      "\u001b[1;32m<ipython-input-16-3cd66d6c9259>\u001b[0m in \u001b[0;36m<module>\u001b[1;34m\u001b[0m\n\u001b[0;32m      2\u001b[0m \u001b[0me\u001b[0m \u001b[1;33m=\u001b[0m \u001b[0mcreate_engine\u001b[0m\u001b[1;33m(\u001b[0m\u001b[1;34m'sqlite:///sqlite.db'\u001b[0m\u001b[1;33m)\u001b[0m  \u001b[1;31m# pass your db url\u001b[0m\u001b[1;33m\u001b[0m\u001b[1;33m\u001b[0m\u001b[0m\n\u001b[0;32m      3\u001b[0m \u001b[1;33m\u001b[0m\u001b[0m\n\u001b[1;32m----> 4\u001b[1;33m \u001b[0mmobility\u001b[0m\u001b[1;33m.\u001b[0m\u001b[0mto_sql\u001b[0m\u001b[1;33m(\u001b[0m\u001b[0mname\u001b[0m\u001b[1;33m=\u001b[0m\u001b[1;34m'mobility_slim'\u001b[0m\u001b[1;33m,\u001b[0m \u001b[0mcon\u001b[0m\u001b[1;33m=\u001b[0m\u001b[0me\u001b[0m\u001b[1;33m)\u001b[0m\u001b[1;33m\u001b[0m\u001b[1;33m\u001b[0m\u001b[0m\n\u001b[0m\u001b[0;32m      5\u001b[0m \u001b[1;31m#household_income.to_sql(name='household_income', con=e)\u001b[0m\u001b[1;33m\u001b[0m\u001b[1;33m\u001b[0m\u001b[1;33m\u001b[0m\u001b[0m\n",
      "\u001b[1;32m~\\Anaconda3\\envs\\PythonData\\lib\\site-packages\\pandas\\core\\generic.py\u001b[0m in \u001b[0;36mto_sql\u001b[1;34m(self, name, con, schema, if_exists, index, index_label, chunksize, dtype, method)\u001b[0m\n\u001b[0;32m   2661\u001b[0m             \u001b[0mchunksize\u001b[0m\u001b[1;33m=\u001b[0m\u001b[0mchunksize\u001b[0m\u001b[1;33m,\u001b[0m\u001b[1;33m\u001b[0m\u001b[1;33m\u001b[0m\u001b[0m\n\u001b[0;32m   2662\u001b[0m             \u001b[0mdtype\u001b[0m\u001b[1;33m=\u001b[0m\u001b[0mdtype\u001b[0m\u001b[1;33m,\u001b[0m\u001b[1;33m\u001b[0m\u001b[1;33m\u001b[0m\u001b[0m\n\u001b[1;32m-> 2663\u001b[1;33m             \u001b[0mmethod\u001b[0m\u001b[1;33m=\u001b[0m\u001b[0mmethod\u001b[0m\u001b[1;33m,\u001b[0m\u001b[1;33m\u001b[0m\u001b[1;33m\u001b[0m\u001b[0m\n\u001b[0m\u001b[0;32m   2664\u001b[0m         )\n\u001b[0;32m   2665\u001b[0m \u001b[1;33m\u001b[0m\u001b[0m\n",
      "\u001b[1;32m~\\Anaconda3\\envs\\PythonData\\lib\\site-packages\\pandas\\io\\sql.py\u001b[0m in \u001b[0;36mto_sql\u001b[1;34m(frame, name, con, schema, if_exists, index, index_label, chunksize, dtype, method)\u001b[0m\n\u001b[0;32m    519\u001b[0m         \u001b[0mchunksize\u001b[0m\u001b[1;33m=\u001b[0m\u001b[0mchunksize\u001b[0m\u001b[1;33m,\u001b[0m\u001b[1;33m\u001b[0m\u001b[1;33m\u001b[0m\u001b[0m\n\u001b[0;32m    520\u001b[0m         \u001b[0mdtype\u001b[0m\u001b[1;33m=\u001b[0m\u001b[0mdtype\u001b[0m\u001b[1;33m,\u001b[0m\u001b[1;33m\u001b[0m\u001b[1;33m\u001b[0m\u001b[0m\n\u001b[1;32m--> 521\u001b[1;33m         \u001b[0mmethod\u001b[0m\u001b[1;33m=\u001b[0m\u001b[0mmethod\u001b[0m\u001b[1;33m,\u001b[0m\u001b[1;33m\u001b[0m\u001b[1;33m\u001b[0m\u001b[0m\n\u001b[0m\u001b[0;32m    522\u001b[0m     )\n\u001b[0;32m    523\u001b[0m \u001b[1;33m\u001b[0m\u001b[0m\n",
      "\u001b[1;32m~\\Anaconda3\\envs\\PythonData\\lib\\site-packages\\pandas\\io\\sql.py\u001b[0m in \u001b[0;36mto_sql\u001b[1;34m(self, frame, name, if_exists, index, index_label, schema, chunksize, dtype, method)\u001b[0m\n\u001b[0;32m   1314\u001b[0m             \u001b[0mdtype\u001b[0m\u001b[1;33m=\u001b[0m\u001b[0mdtype\u001b[0m\u001b[1;33m,\u001b[0m\u001b[1;33m\u001b[0m\u001b[1;33m\u001b[0m\u001b[0m\n\u001b[0;32m   1315\u001b[0m         )\n\u001b[1;32m-> 1316\u001b[1;33m         \u001b[0mtable\u001b[0m\u001b[1;33m.\u001b[0m\u001b[0mcreate\u001b[0m\u001b[1;33m(\u001b[0m\u001b[1;33m)\u001b[0m\u001b[1;33m\u001b[0m\u001b[1;33m\u001b[0m\u001b[0m\n\u001b[0m\u001b[0;32m   1317\u001b[0m         \u001b[0mtable\u001b[0m\u001b[1;33m.\u001b[0m\u001b[0minsert\u001b[0m\u001b[1;33m(\u001b[0m\u001b[0mchunksize\u001b[0m\u001b[1;33m,\u001b[0m \u001b[0mmethod\u001b[0m\u001b[1;33m=\u001b[0m\u001b[0mmethod\u001b[0m\u001b[1;33m)\u001b[0m\u001b[1;33m\u001b[0m\u001b[1;33m\u001b[0m\u001b[0m\n\u001b[0;32m   1318\u001b[0m         \u001b[1;32mif\u001b[0m \u001b[1;32mnot\u001b[0m \u001b[0mname\u001b[0m\u001b[1;33m.\u001b[0m\u001b[0misdigit\u001b[0m\u001b[1;33m(\u001b[0m\u001b[1;33m)\u001b[0m \u001b[1;32mand\u001b[0m \u001b[1;32mnot\u001b[0m \u001b[0mname\u001b[0m\u001b[1;33m.\u001b[0m\u001b[0mislower\u001b[0m\u001b[1;33m(\u001b[0m\u001b[1;33m)\u001b[0m\u001b[1;33m:\u001b[0m\u001b[1;33m\u001b[0m\u001b[1;33m\u001b[0m\u001b[0m\n",
      "\u001b[1;32m~\\Anaconda3\\envs\\PythonData\\lib\\site-packages\\pandas\\io\\sql.py\u001b[0m in \u001b[0;36mcreate\u001b[1;34m(self)\u001b[0m\n\u001b[0;32m    644\u001b[0m         \u001b[1;32mif\u001b[0m \u001b[0mself\u001b[0m\u001b[1;33m.\u001b[0m\u001b[0mexists\u001b[0m\u001b[1;33m(\u001b[0m\u001b[1;33m)\u001b[0m\u001b[1;33m:\u001b[0m\u001b[1;33m\u001b[0m\u001b[1;33m\u001b[0m\u001b[0m\n\u001b[0;32m    645\u001b[0m             \u001b[1;32mif\u001b[0m \u001b[0mself\u001b[0m\u001b[1;33m.\u001b[0m\u001b[0mif_exists\u001b[0m \u001b[1;33m==\u001b[0m \u001b[1;34m\"fail\"\u001b[0m\u001b[1;33m:\u001b[0m\u001b[1;33m\u001b[0m\u001b[1;33m\u001b[0m\u001b[0m\n\u001b[1;32m--> 646\u001b[1;33m                 \u001b[1;32mraise\u001b[0m \u001b[0mValueError\u001b[0m\u001b[1;33m(\u001b[0m\u001b[1;34mf\"Table '{self.name}' already exists.\"\u001b[0m\u001b[1;33m)\u001b[0m\u001b[1;33m\u001b[0m\u001b[1;33m\u001b[0m\u001b[0m\n\u001b[0m\u001b[0;32m    647\u001b[0m             \u001b[1;32melif\u001b[0m \u001b[0mself\u001b[0m\u001b[1;33m.\u001b[0m\u001b[0mif_exists\u001b[0m \u001b[1;33m==\u001b[0m \u001b[1;34m\"replace\"\u001b[0m\u001b[1;33m:\u001b[0m\u001b[1;33m\u001b[0m\u001b[1;33m\u001b[0m\u001b[0m\n\u001b[0;32m    648\u001b[0m                 \u001b[0mself\u001b[0m\u001b[1;33m.\u001b[0m\u001b[0mpd_sql\u001b[0m\u001b[1;33m.\u001b[0m\u001b[0mdrop_table\u001b[0m\u001b[1;33m(\u001b[0m\u001b[0mself\u001b[0m\u001b[1;33m.\u001b[0m\u001b[0mname\u001b[0m\u001b[1;33m,\u001b[0m \u001b[0mself\u001b[0m\u001b[1;33m.\u001b[0m\u001b[0mschema\u001b[0m\u001b[1;33m)\u001b[0m\u001b[1;33m\u001b[0m\u001b[1;33m\u001b[0m\u001b[0m\n",
      "\u001b[1;31mValueError\u001b[0m: Table 'mobility_slim' already exists."
     ]
    }
   ],
   "source": [
    "\n",
    "from sqlalchemy import create_engine\n",
    "e = create_engine('sqlite:///sqlite.db')  # pass your db url\n",
    "\n",
    "mobility.to_sql(name='mobility_slim', con=e)\n",
    "#household_income.to_sql(name='household_income', con=e)"
   ]
  },
  {
   "cell_type": "code",
   "execution_count": null,
   "metadata": {},
   "outputs": [],
   "source": [
    "git status"
   ]
  }
 ]
}