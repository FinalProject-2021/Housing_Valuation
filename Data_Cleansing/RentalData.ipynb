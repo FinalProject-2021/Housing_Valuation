{
 "metadata": {
  "language_info": {
   "codemirror_mode": {
    "name": "ipython",
    "version": 3
   },
   "file_extension": ".py",
   "mimetype": "text/x-python",
   "name": "python",
   "nbconvert_exporter": "python",
   "pygments_lexer": "ipython3",
   "version": "3.8.3"
  },
  "orig_nbformat": 2,
  "kernelspec": {
   "name": "python383jvsc74a57bd0c72a629dba5ae9edebcad565c17c3988d814021371aabb3db62cb04d2b10dbfe",
   "display_name": "Python 3.8.3 64-bit ('base': conda)"
  }
 },
 "nbformat": 4,
 "nbformat_minor": 2,
 "cells": [
  {
   "cell_type": "code",
   "execution_count": 216,
   "metadata": {},
   "outputs": [],
   "source": [
    "# Import modules needed\n",
    "import pandas as pd\n",
    "import os\n",
    "import sqlite3\n",
    "from sqlite3 import Error\n",
    "# import requests\n",
    "# from config import rapidapi_host, rapidapi_key\n",
    "# import pprint\n",
    "\n",
    "# # Identify database path\n",
    "# db_path = os.path.abspath('./../static/data/sqlite.db')\n",
    "# db_path\n",
    "\n",
    "# Web scraping modules\n",
    "from webdriver_manager.chrome import ChromeDriverManager\n",
    "from splinter import Browser\n",
    "from bs4 import BeautifulSoup as soup"
   ]
  },
  {
   "cell_type": "code",
   "execution_count": 217,
   "metadata": {},
   "outputs": [],
   "source": [
    "# Read in Florida Zip Code list\n",
    "# This list was manually copied from https://www.zipcodestogo.com/Florida/ into a csv\n",
    "file_path = os.path.abspath('./../static/data/FloridaZipCodes.csv')\n",
    "zipcode_ls = pd.read_csv(file_path)['Zip Code'].unique().tolist()\n",
    "# zipcode_ls"
   ]
  },
  {
   "cell_type": "code",
   "execution_count": 215,
   "metadata": {},
   "outputs": [
    {
     "output_type": "error",
     "ename": "SyntaxError",
     "evalue": "EOL while scanning string literal (<ipython-input-215-c862789586f1>, line 59)",
     "traceback": [
      "\u001b[1;36m  File \u001b[1;32m\"<ipython-input-215-c862789586f1>\"\u001b[1;36m, line \u001b[1;32m59\u001b[0m\n\u001b[1;33m    print(f'{zipcode} failed)\u001b[0m\n\u001b[1;37m                             ^\u001b[0m\n\u001b[1;31mSyntaxError\u001b[0m\u001b[1;31m:\u001b[0m EOL while scanning string literal\n"
     ]
    }
   ],
   "source": [
    "# Loop through zip code list & scrape rent data\n",
    "base_url = 'https://www.rentdata.org/lookup?zip='\n",
    "\n",
    "# Set up Splinter\n",
    "executable_path = {'executable_path': ChromeDriverManager().install()}\n",
    "browser = Browser('chrome', **executable_path, headless=False)\n",
    "\n",
    "# zipcode_ls = [32004]\n",
    "\n",
    "zipcode_df = pd.DataFrame()\n",
    "for zipcode in zipcode_ls:\n",
    "    \n",
    "    try: \n",
    "        browser.visit(f'{base_url}{zipcode}')\n",
    "        # Convert the browser html to a soup object\n",
    "        html = browser.html\n",
    "        soup = soup(html, 'html.parser')\n",
    "\n",
    "        # Find the div with the table\n",
    "        calc_results = soup.select_one('div.calc-results')\n",
    "\n",
    "        # Find metro & year\n",
    "        metro = calc_results.find('h4',class_='calc-title').text\n",
    "\n",
    "        # Find table\n",
    "        table_html = soup.select_one('table.text-center')\n",
    "        table_rows = table_html.find('tbody').find_all('tr')\n",
    "        for row in table_rows:\n",
    "            # Reset variables\n",
    "            rent_0b = ''\n",
    "            rent_1b = ''\n",
    "            rent_2b = ''\n",
    "            rent_3b = ''\n",
    "            rent_4b = ''\n",
    "\n",
    "            if row == '<tr></tr>':\n",
    "                pass\n",
    "            else:\n",
    "                th = row.find('th',class_='show-for-small-only')\n",
    "                td = row.find('td')\n",
    "                if th == None:\n",
    "                    th = ''\n",
    "                elif th.text == '0-BR':\n",
    "                    rent_0b = td.text\n",
    "                elif th.text == '1-BR':\n",
    "                    rent_1b = td.text\n",
    "                elif th.text == '2-BR':\n",
    "                    rent_2b = td.text\n",
    "                elif th.text == '3-BR':\n",
    "                    rent_3b = td.text\n",
    "                elif th.text == '4-BR':\n",
    "                    rent_4b = td.text\n",
    "\n",
    "        df = pd.DataFrame({'zipcode' : [zipcode]\n",
    "                        ,'metro' : [metro]\n",
    "                        ,'rent_0b' : [rent_0b]\n",
    "                        ,'rent_1b' : [rent_1b]\n",
    "                        ,'rent_2b' : [rent_2b]\n",
    "                        ,'rent_3b' : [rent_3b]\n",
    "                        ,'rent_4b' : [rent_4b]})\n",
    "        zipcode_df = zipcode_df.append(df)\n",
    "\n",
    "        browser.quit()\n",
    "    except:\n",
    "        print(f'{zipcode} failed')"
   ]
  },
  {
   "cell_type": "code",
   "execution_count": 22,
   "metadata": {},
   "outputs": [
    {
     "output_type": "execute_result",
     "data": {
      "text/plain": [
       "'c:\\\\Users\\\\chris\\\\dev\\\\cgangi2216\\\\Housing_Valuation\\\\Data_Cleansing\\\\static\\\\data\\\\sqlite.db'"
      ]
     },
     "metadata": {},
     "execution_count": 22
    }
   ],
   "source": [
    "zipcode_df"
   ]
  },
  {
   "cell_type": "code",
   "execution_count": null,
   "metadata": {},
   "outputs": [],
   "source": [
    "zipcode_df.to_csv('cleaned_csv', index=False)"
   ]
  }
 ]
}