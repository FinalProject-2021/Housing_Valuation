{
 "metadata": {
  "language_info": {
   "codemirror_mode": {
    "name": "ipython",
    "version": 3
   },
   "file_extension": ".py",
   "mimetype": "text/x-python",
   "name": "python",
   "nbconvert_exporter": "python",
   "pygments_lexer": "ipython3",
   "version": "3.6.10"
  },
  "orig_nbformat": 2,
  "kernelspec": {
   "name": "python3610jvsc74a57bd0832a58595f549721e5808a4f038b9464c2d8e6e19db5e8e2fb21cf5b549373c5",
   "display_name": "Python 3.6.10 64-bit ('PythonData': conda)"
  }
 },
 "nbformat": 4,
 "nbformat_minor": 2,
 "cells": [
  {
   "cell_type": "code",
   "execution_count": 1,
   "metadata": {},
   "outputs": [],
   "source": [
    "# Required Modules\n",
    "import pandas as pd\n",
    "import numpy as np\n",
    "import lazypredict\n",
    "import warnings\n",
    "warnings.filterwarnings(\"ignore\")\n",
    "\n",
    "from scipy import stats\n",
    "\n",
    "from sklearn import metrics\n",
    "from sklearn.metrics import confusion_matrix\n",
    "from sklearn.metrics import accuracy_score\n",
    "from sklearn.model_selection import train_test_split\n",
    "from sklearn.metrics import mean_squared_log_error\n",
    "from math import sqrt\n",
    "\n",
    "\n",
    "from lazypredict.Supervised import LazyRegressor\n",
    "from lazypredict.Supervised import LazyClassifier\n"
   ]
  },
  {
   "cell_type": "code",
   "execution_count": 2,
   "metadata": {},
   "outputs": [
    {
     "output_type": "execute_result",
     "data": {
      "text/plain": [
       "   Zip_Code        Date  Date_Code  ...  Loan_R  Loan_Payment  Home_Affordability\n",
       "0     32003  2019-01-01     201901  ...    1.00        988.71                0.13\n",
       "1     32003  2019-02-01     201902  ...    1.00       1077.82                0.14\n",
       "2     32003  2019-03-01     201903  ...    1.00       1084.20                0.14\n",
       "3     32003  2019-04-01     201904  ...    1.00       1027.67                0.13\n",
       "4     32003  2019-05-01     201905  ...    1.00       1082.58                0.14\n",
       "\n",
       "[5 rows x 30 columns]"
      ],
      "text/html": "<div>\n<style scoped>\n    .dataframe tbody tr th:only-of-type {\n        vertical-align: middle;\n    }\n\n    .dataframe tbody tr th {\n        vertical-align: top;\n    }\n\n    .dataframe thead th {\n        text-align: right;\n    }\n</style>\n<table border=\"1\" class=\"dataframe\">\n  <thead>\n    <tr style=\"text-align: right;\">\n      <th></th>\n      <th>Zip_Code</th>\n      <th>Date</th>\n      <th>Date_Code</th>\n      <th>Year</th>\n      <th>Month</th>\n      <th>Sale_Price</th>\n      <th>Interest_Rate</th>\n      <th>Property_Tax</th>\n      <th>Rent_Price</th>\n      <th>Household_Income</th>\n      <th>Rent_Affordability</th>\n      <th>Total_Sales</th>\n      <th>FHA_Count</th>\n      <th>Mobility_Rate</th>\n      <th>School_Rating</th>\n      <th>School_Grade</th>\n      <th>Owner_Occupied</th>\n      <th>Renter_Occupied</th>\n      <th>Total_Vacant</th>\n      <th>Total_Dwellings</th>\n      <th>FTE_Employed</th>\n      <th>Unemployed</th>\n      <th>Expense_Index</th>\n      <th>Average_Commute</th>\n      <th>Crime_Index</th>\n      <th>Loan_Amount</th>\n      <th>Loan_Term</th>\n      <th>Loan_R</th>\n      <th>Loan_Payment</th>\n      <th>Home_Affordability</th>\n    </tr>\n  </thead>\n  <tbody>\n    <tr>\n      <th>0</th>\n      <td>32003</td>\n      <td>2019-01-01</td>\n      <td>201901</td>\n      <td>2019</td>\n      <td>1</td>\n      <td>244950.00</td>\n      <td>4.46</td>\n      <td>3778</td>\n      <td>1113</td>\n      <td>94154.00</td>\n      <td>0.14</td>\n      <td>32</td>\n      <td>7</td>\n      <td>0.18</td>\n      <td>0</td>\n      <td>Unknown</td>\n      <td>8834</td>\n      <td>2186</td>\n      <td>704</td>\n      <td>11724</td>\n      <td>10671</td>\n      <td>1069</td>\n      <td>104</td>\n      <td>35</td>\n      <td>28</td>\n      <td>195960.00</td>\n      <td>360.00</td>\n      <td>1.00</td>\n      <td>988.71</td>\n      <td>0.13</td>\n    </tr>\n    <tr>\n      <th>1</th>\n      <td>32003</td>\n      <td>2019-02-01</td>\n      <td>201902</td>\n      <td>2019</td>\n      <td>2</td>\n      <td>270000.00</td>\n      <td>4.37</td>\n      <td>3778</td>\n      <td>1113</td>\n      <td>94154.00</td>\n      <td>0.14</td>\n      <td>41</td>\n      <td>2</td>\n      <td>0.18</td>\n      <td>0</td>\n      <td>Unknown</td>\n      <td>8834</td>\n      <td>2186</td>\n      <td>704</td>\n      <td>11724</td>\n      <td>10671</td>\n      <td>1069</td>\n      <td>104</td>\n      <td>35</td>\n      <td>28</td>\n      <td>216000.00</td>\n      <td>360.00</td>\n      <td>1.00</td>\n      <td>1077.82</td>\n      <td>0.14</td>\n    </tr>\n    <tr>\n      <th>2</th>\n      <td>32003</td>\n      <td>2019-03-01</td>\n      <td>201903</td>\n      <td>2019</td>\n      <td>3</td>\n      <td>275000.00</td>\n      <td>4.26</td>\n      <td>3778</td>\n      <td>1113</td>\n      <td>94154.00</td>\n      <td>0.14</td>\n      <td>21</td>\n      <td>7</td>\n      <td>0.18</td>\n      <td>0</td>\n      <td>Unknown</td>\n      <td>8834</td>\n      <td>2186</td>\n      <td>704</td>\n      <td>11724</td>\n      <td>10671</td>\n      <td>1069</td>\n      <td>104</td>\n      <td>35</td>\n      <td>28</td>\n      <td>220000.00</td>\n      <td>360.00</td>\n      <td>1.00</td>\n      <td>1084.20</td>\n      <td>0.14</td>\n    </tr>\n    <tr>\n      <th>3</th>\n      <td>32003</td>\n      <td>2019-04-01</td>\n      <td>201904</td>\n      <td>2019</td>\n      <td>4</td>\n      <td>264500.00</td>\n      <td>4.14</td>\n      <td>3778</td>\n      <td>1113</td>\n      <td>94154.00</td>\n      <td>0.14</td>\n      <td>42</td>\n      <td>3</td>\n      <td>0.18</td>\n      <td>0</td>\n      <td>Unknown</td>\n      <td>8834</td>\n      <td>2186</td>\n      <td>704</td>\n      <td>11724</td>\n      <td>10671</td>\n      <td>1069</td>\n      <td>104</td>\n      <td>35</td>\n      <td>28</td>\n      <td>211600.00</td>\n      <td>360.00</td>\n      <td>1.00</td>\n      <td>1027.67</td>\n      <td>0.13</td>\n    </tr>\n    <tr>\n      <th>4</th>\n      <td>32003</td>\n      <td>2019-05-01</td>\n      <td>201905</td>\n      <td>2019</td>\n      <td>5</td>\n      <td>281000.00</td>\n      <td>4.07</td>\n      <td>3778</td>\n      <td>1113</td>\n      <td>94154.00</td>\n      <td>0.14</td>\n      <td>66</td>\n      <td>8</td>\n      <td>0.18</td>\n      <td>0</td>\n      <td>Unknown</td>\n      <td>8834</td>\n      <td>2186</td>\n      <td>704</td>\n      <td>11724</td>\n      <td>10671</td>\n      <td>1069</td>\n      <td>104</td>\n      <td>35</td>\n      <td>28</td>\n      <td>224800.00</td>\n      <td>360.00</td>\n      <td>1.00</td>\n      <td>1082.58</td>\n      <td>0.14</td>\n    </tr>\n  </tbody>\n</table>\n</div>"
     },
     "metadata": {},
     "execution_count": 2
    }
   ],
   "source": [
    "data = pd.read_csv('Resources/Clean_Data/Final_Data.csv')\n",
    "data.head()"
   ]
  },
  {
   "cell_type": "code",
   "execution_count": 24,
   "metadata": {},
   "outputs": [
    {
     "output_type": "execute_result",
     "data": {
      "text/plain": [
       "   Zip_Code  Year  Month  ...  Home_Affordability  Rent_Affordability  Sale_Price\n",
       "0     32003  2019      1  ...                0.13                0.14   244950.00\n",
       "1     32003  2019      2  ...                0.14                0.14   270000.00\n",
       "2     32003  2019      3  ...                0.14                0.14   275000.00\n",
       "3     32003  2019      4  ...                0.13                0.14   264500.00\n",
       "4     32003  2019      5  ...                0.14                0.14   281000.00\n",
       "\n",
       "[5 rows x 13 columns]"
      ],
      "text/html": "<div>\n<style scoped>\n    .dataframe tbody tr th:only-of-type {\n        vertical-align: middle;\n    }\n\n    .dataframe tbody tr th {\n        vertical-align: top;\n    }\n\n    .dataframe thead th {\n        text-align: right;\n    }\n</style>\n<table border=\"1\" class=\"dataframe\">\n  <thead>\n    <tr style=\"text-align: right;\">\n      <th></th>\n      <th>Zip_Code</th>\n      <th>Year</th>\n      <th>Month</th>\n      <th>Mobility_Rate</th>\n      <th>Expense_Index</th>\n      <th>Crime_Index</th>\n      <th>Total_Vacant</th>\n      <th>Total_Dwellings</th>\n      <th>Total_Sales</th>\n      <th>FHA_Count</th>\n      <th>Home_Affordability</th>\n      <th>Rent_Affordability</th>\n      <th>Sale_Price</th>\n    </tr>\n  </thead>\n  <tbody>\n    <tr>\n      <th>0</th>\n      <td>32003</td>\n      <td>2019</td>\n      <td>1</td>\n      <td>0.18</td>\n      <td>104</td>\n      <td>28</td>\n      <td>704</td>\n      <td>11724</td>\n      <td>32</td>\n      <td>7</td>\n      <td>0.13</td>\n      <td>0.14</td>\n      <td>244950.00</td>\n    </tr>\n    <tr>\n      <th>1</th>\n      <td>32003</td>\n      <td>2019</td>\n      <td>2</td>\n      <td>0.18</td>\n      <td>104</td>\n      <td>28</td>\n      <td>704</td>\n      <td>11724</td>\n      <td>41</td>\n      <td>2</td>\n      <td>0.14</td>\n      <td>0.14</td>\n      <td>270000.00</td>\n    </tr>\n    <tr>\n      <th>2</th>\n      <td>32003</td>\n      <td>2019</td>\n      <td>3</td>\n      <td>0.18</td>\n      <td>104</td>\n      <td>28</td>\n      <td>704</td>\n      <td>11724</td>\n      <td>21</td>\n      <td>7</td>\n      <td>0.14</td>\n      <td>0.14</td>\n      <td>275000.00</td>\n    </tr>\n    <tr>\n      <th>3</th>\n      <td>32003</td>\n      <td>2019</td>\n      <td>4</td>\n      <td>0.18</td>\n      <td>104</td>\n      <td>28</td>\n      <td>704</td>\n      <td>11724</td>\n      <td>42</td>\n      <td>3</td>\n      <td>0.13</td>\n      <td>0.14</td>\n      <td>264500.00</td>\n    </tr>\n    <tr>\n      <th>4</th>\n      <td>32003</td>\n      <td>2019</td>\n      <td>5</td>\n      <td>0.18</td>\n      <td>104</td>\n      <td>28</td>\n      <td>704</td>\n      <td>11724</td>\n      <td>66</td>\n      <td>8</td>\n      <td>0.14</td>\n      <td>0.14</td>\n      <td>281000.00</td>\n    </tr>\n  </tbody>\n</table>\n</div>"
     },
     "metadata": {},
     "execution_count": 24
    }
   ],
   "source": [
    "ml_data = data[['Zip_Code', 'Year', 'Month', 'Mobility_Rate', 'Expense_Index', 'Crime_Index' , 'Total_Vacant', 'Total_Dwellings', 'Total_Sales', 'FHA_Count', 'Home_Affordability', 'Rent_Affordability', 'Sale_Price' ]]\n",
    "# ml_data.index = ml_data['Zip_Code']\n",
    "ml_data.head()"
   ]
  },
  {
   "cell_type": "code",
   "execution_count": 25,
   "metadata": {},
   "outputs": [
    {
     "output_type": "execute_result",
     "data": {
      "text/plain": [
       "   Zip_Code  Year  Month  ...  Home_Affordability  Rent_Affordability  Sale_Price\n",
       "0     32003  2019      1  ...                0.13                0.14   244950.00\n",
       "1     32003  2019      2  ...                0.14                0.14   270000.00\n",
       "2     32003  2019      3  ...                0.14                0.14   275000.00\n",
       "3     32003  2019      4  ...                0.13                0.14   264500.00\n",
       "4     32003  2019      5  ...                0.14                0.14   281000.00\n",
       "\n",
       "[5 rows x 13 columns]"
      ],
      "text/html": "<div>\n<style scoped>\n    .dataframe tbody tr th:only-of-type {\n        vertical-align: middle;\n    }\n\n    .dataframe tbody tr th {\n        vertical-align: top;\n    }\n\n    .dataframe thead th {\n        text-align: right;\n    }\n</style>\n<table border=\"1\" class=\"dataframe\">\n  <thead>\n    <tr style=\"text-align: right;\">\n      <th></th>\n      <th>Zip_Code</th>\n      <th>Year</th>\n      <th>Month</th>\n      <th>Mobility_Rate</th>\n      <th>Expense_Index</th>\n      <th>Crime_Index</th>\n      <th>Total_Vacant</th>\n      <th>Total_Dwellings</th>\n      <th>Total_Sales</th>\n      <th>FHA_Count</th>\n      <th>Home_Affordability</th>\n      <th>Rent_Affordability</th>\n      <th>Sale_Price</th>\n    </tr>\n  </thead>\n  <tbody>\n    <tr>\n      <th>0</th>\n      <td>32003</td>\n      <td>2019</td>\n      <td>1</td>\n      <td>0.18</td>\n      <td>104</td>\n      <td>28</td>\n      <td>704</td>\n      <td>11724</td>\n      <td>32</td>\n      <td>7</td>\n      <td>0.13</td>\n      <td>0.14</td>\n      <td>244950.00</td>\n    </tr>\n    <tr>\n      <th>1</th>\n      <td>32003</td>\n      <td>2019</td>\n      <td>2</td>\n      <td>0.18</td>\n      <td>104</td>\n      <td>28</td>\n      <td>704</td>\n      <td>11724</td>\n      <td>41</td>\n      <td>2</td>\n      <td>0.14</td>\n      <td>0.14</td>\n      <td>270000.00</td>\n    </tr>\n    <tr>\n      <th>2</th>\n      <td>32003</td>\n      <td>2019</td>\n      <td>3</td>\n      <td>0.18</td>\n      <td>104</td>\n      <td>28</td>\n      <td>704</td>\n      <td>11724</td>\n      <td>21</td>\n      <td>7</td>\n      <td>0.14</td>\n      <td>0.14</td>\n      <td>275000.00</td>\n    </tr>\n    <tr>\n      <th>3</th>\n      <td>32003</td>\n      <td>2019</td>\n      <td>4</td>\n      <td>0.18</td>\n      <td>104</td>\n      <td>28</td>\n      <td>704</td>\n      <td>11724</td>\n      <td>42</td>\n      <td>3</td>\n      <td>0.13</td>\n      <td>0.14</td>\n      <td>264500.00</td>\n    </tr>\n    <tr>\n      <th>4</th>\n      <td>32003</td>\n      <td>2019</td>\n      <td>5</td>\n      <td>0.18</td>\n      <td>104</td>\n      <td>28</td>\n      <td>704</td>\n      <td>11724</td>\n      <td>66</td>\n      <td>8</td>\n      <td>0.14</td>\n      <td>0.14</td>\n      <td>281000.00</td>\n    </tr>\n  </tbody>\n</table>\n</div>"
     },
     "metadata": {},
     "execution_count": 25
    }
   ],
   "source": [
    "ml_data_3mo = ml_data.sort_values(by = ['Zip_Code', 'Year', 'Month'], ascending = [True, True, True])\n",
    "ml_data_3mo.head()"
   ]
  },
  {
   "cell_type": "code",
   "execution_count": 26,
   "metadata": {},
   "outputs": [
    {
     "output_type": "execute_result",
     "data": {
      "text/plain": [
       "   Zip_Code  Year  Month  ...  Last_Month_Diff  Last_2Month_Diff  Last_3Month_Diff\n",
       "0     32003  2019      1  ...              nan               nan               nan\n",
       "1     32003  2019      2  ...         25050.00               nan               nan\n",
       "2     32003  2019      3  ...          5000.00          25050.00               nan\n",
       "3     32003  2019      4  ...        -10500.00           5000.00          25050.00\n",
       "4     32003  2019      5  ...         16500.00         -10500.00           5000.00\n",
       "\n",
       "[5 rows x 19 columns]"
      ],
      "text/html": "<div>\n<style scoped>\n    .dataframe tbody tr th:only-of-type {\n        vertical-align: middle;\n    }\n\n    .dataframe tbody tr th {\n        vertical-align: top;\n    }\n\n    .dataframe thead th {\n        text-align: right;\n    }\n</style>\n<table border=\"1\" class=\"dataframe\">\n  <thead>\n    <tr style=\"text-align: right;\">\n      <th></th>\n      <th>Zip_Code</th>\n      <th>Year</th>\n      <th>Month</th>\n      <th>Mobility_Rate</th>\n      <th>Expense_Index</th>\n      <th>Crime_Index</th>\n      <th>Total_Vacant</th>\n      <th>Total_Dwellings</th>\n      <th>Total_Sales</th>\n      <th>FHA_Count</th>\n      <th>Home_Affordability</th>\n      <th>Rent_Affordability</th>\n      <th>Sale_Price</th>\n      <th>Last_Month_Price</th>\n      <th>Last_2Month_Price</th>\n      <th>Last_3Month_Price</th>\n      <th>Last_Month_Diff</th>\n      <th>Last_2Month_Diff</th>\n      <th>Last_3Month_Diff</th>\n    </tr>\n  </thead>\n  <tbody>\n    <tr>\n      <th>0</th>\n      <td>32003</td>\n      <td>2019</td>\n      <td>1</td>\n      <td>0.18</td>\n      <td>104</td>\n      <td>28</td>\n      <td>704</td>\n      <td>11724</td>\n      <td>32</td>\n      <td>7</td>\n      <td>0.13</td>\n      <td>0.14</td>\n      <td>244950.00</td>\n      <td>nan</td>\n      <td>nan</td>\n      <td>nan</td>\n      <td>nan</td>\n      <td>nan</td>\n      <td>nan</td>\n    </tr>\n    <tr>\n      <th>1</th>\n      <td>32003</td>\n      <td>2019</td>\n      <td>2</td>\n      <td>0.18</td>\n      <td>104</td>\n      <td>28</td>\n      <td>704</td>\n      <td>11724</td>\n      <td>41</td>\n      <td>2</td>\n      <td>0.14</td>\n      <td>0.14</td>\n      <td>270000.00</td>\n      <td>244950.00</td>\n      <td>nan</td>\n      <td>nan</td>\n      <td>25050.00</td>\n      <td>nan</td>\n      <td>nan</td>\n    </tr>\n    <tr>\n      <th>2</th>\n      <td>32003</td>\n      <td>2019</td>\n      <td>3</td>\n      <td>0.18</td>\n      <td>104</td>\n      <td>28</td>\n      <td>704</td>\n      <td>11724</td>\n      <td>21</td>\n      <td>7</td>\n      <td>0.14</td>\n      <td>0.14</td>\n      <td>275000.00</td>\n      <td>270000.00</td>\n      <td>244950.00</td>\n      <td>nan</td>\n      <td>5000.00</td>\n      <td>25050.00</td>\n      <td>nan</td>\n    </tr>\n    <tr>\n      <th>3</th>\n      <td>32003</td>\n      <td>2019</td>\n      <td>4</td>\n      <td>0.18</td>\n      <td>104</td>\n      <td>28</td>\n      <td>704</td>\n      <td>11724</td>\n      <td>42</td>\n      <td>3</td>\n      <td>0.13</td>\n      <td>0.14</td>\n      <td>264500.00</td>\n      <td>275000.00</td>\n      <td>270000.00</td>\n      <td>244950.00</td>\n      <td>-10500.00</td>\n      <td>5000.00</td>\n      <td>25050.00</td>\n    </tr>\n    <tr>\n      <th>4</th>\n      <td>32003</td>\n      <td>2019</td>\n      <td>5</td>\n      <td>0.18</td>\n      <td>104</td>\n      <td>28</td>\n      <td>704</td>\n      <td>11724</td>\n      <td>66</td>\n      <td>8</td>\n      <td>0.14</td>\n      <td>0.14</td>\n      <td>281000.00</td>\n      <td>264500.00</td>\n      <td>275000.00</td>\n      <td>270000.00</td>\n      <td>16500.00</td>\n      <td>-10500.00</td>\n      <td>5000.00</td>\n    </tr>\n  </tbody>\n</table>\n</div>"
     },
     "metadata": {},
     "execution_count": 26
    }
   ],
   "source": [
    "ml_data_3mo['Last_Month_Price'] = ml_data_3mo.groupby(['Zip_Code'])['Sale_Price'].shift()\n",
    "ml_data_3mo['Last_2Month_Price'] = ml_data_3mo.groupby(['Zip_Code'])['Sale_Price'].shift(2)\n",
    "ml_data_3mo['Last_3Month_Price'] = ml_data_3mo.groupby(['Zip_Code'])['Sale_Price'].shift(3)\n",
    "\n",
    "\n",
    "price_difference_1 = []\n",
    "price_difference_2 = []\n",
    "price_difference_3 = []\n",
    "\n",
    "\n",
    "for column in ml_data_3mo[['Sale_Price', 'Last_Month_Price', 'Last_2Month_Price',\n",
    "                    'Last_3Month_Price']]:\n",
    "   # Select column contents by column name using [] operator\n",
    "    current_sales = ml_data_3mo['Sale_Price'].values\n",
    "    last_sales = ml_data_3mo['Last_Month_Price'].values\n",
    "    last_2mo_sale = ml_data_3mo['Last_2Month_Price'].values\n",
    "    last_3mo_sale = ml_data_3mo['Last_3Month_Price'].values\n",
    "    price_difference_1.append(current_sales-last_sales)\n",
    "    price_difference_2.append(last_sales-last_2mo_sale)\n",
    "    price_difference_3.append(last_2mo_sale-last_3mo_sale)\n",
    "    \n",
    "\n",
    "ml_data_3mo['Last_Month_Diff'] = price_difference_1[0]\n",
    "ml_data_3mo['Last_2Month_Diff'] = price_difference_2[0]\n",
    "ml_data_3mo['Last_3Month_Diff'] = price_difference_3[0]\n",
    "\n",
    "ml_data_3mo.head()"
   ]
  },
  {
   "cell_type": "code",
   "execution_count": 8,
   "metadata": {},
   "outputs": [
    {
     "output_type": "execute_result",
     "data": {
      "text/plain": [
       "   Zip_Code  Year  Month  ...  Last_Month_Diff  Last_2Month_Diff  Last_3Month_Diff\n",
       "3     32003  2019      4  ...        -10500.00           5000.00          25050.00\n",
       "4     32003  2019      5  ...         16500.00         -10500.00           5000.00\n",
       "5     32003  2019      6  ...         -6000.00          16500.00         -10500.00\n",
       "6     32003  2019      7  ...          7500.00          -6000.00          16500.00\n",
       "7     32003  2019      8  ...        -12923.00           7500.00          -6000.00\n",
       "\n",
       "[5 rows x 19 columns]"
      ],
      "text/html": "<div>\n<style scoped>\n    .dataframe tbody tr th:only-of-type {\n        vertical-align: middle;\n    }\n\n    .dataframe tbody tr th {\n        vertical-align: top;\n    }\n\n    .dataframe thead th {\n        text-align: right;\n    }\n</style>\n<table border=\"1\" class=\"dataframe\">\n  <thead>\n    <tr style=\"text-align: right;\">\n      <th></th>\n      <th>Zip_Code</th>\n      <th>Year</th>\n      <th>Month</th>\n      <th>Mobility_Rate</th>\n      <th>Expense_Index</th>\n      <th>Crime_Index</th>\n      <th>Total_Vacant</th>\n      <th>Total_Dwellings</th>\n      <th>Total_Sales</th>\n      <th>FHA_Count</th>\n      <th>Home_Affordability</th>\n      <th>Rent_Affordability</th>\n      <th>Sale_Price</th>\n      <th>Last_Month_Price</th>\n      <th>Last_2Month_Price</th>\n      <th>Last_3Month_Price</th>\n      <th>Last_Month_Diff</th>\n      <th>Last_2Month_Diff</th>\n      <th>Last_3Month_Diff</th>\n    </tr>\n  </thead>\n  <tbody>\n    <tr>\n      <th>3</th>\n      <td>32003</td>\n      <td>2019</td>\n      <td>4</td>\n      <td>0.18</td>\n      <td>104</td>\n      <td>28</td>\n      <td>704</td>\n      <td>11724</td>\n      <td>42</td>\n      <td>3</td>\n      <td>0.13</td>\n      <td>0.14</td>\n      <td>264500.00</td>\n      <td>275000.00</td>\n      <td>270000.00</td>\n      <td>244950.00</td>\n      <td>-10500.00</td>\n      <td>5000.00</td>\n      <td>25050.00</td>\n    </tr>\n    <tr>\n      <th>4</th>\n      <td>32003</td>\n      <td>2019</td>\n      <td>5</td>\n      <td>0.18</td>\n      <td>104</td>\n      <td>28</td>\n      <td>704</td>\n      <td>11724</td>\n      <td>66</td>\n      <td>8</td>\n      <td>0.14</td>\n      <td>0.14</td>\n      <td>281000.00</td>\n      <td>264500.00</td>\n      <td>275000.00</td>\n      <td>270000.00</td>\n      <td>16500.00</td>\n      <td>-10500.00</td>\n      <td>5000.00</td>\n    </tr>\n    <tr>\n      <th>5</th>\n      <td>32003</td>\n      <td>2019</td>\n      <td>6</td>\n      <td>0.18</td>\n      <td>104</td>\n      <td>28</td>\n      <td>704</td>\n      <td>11724</td>\n      <td>43</td>\n      <td>3</td>\n      <td>0.13</td>\n      <td>0.14</td>\n      <td>275000.00</td>\n      <td>281000.00</td>\n      <td>264500.00</td>\n      <td>275000.00</td>\n      <td>-6000.00</td>\n      <td>16500.00</td>\n      <td>-10500.00</td>\n    </tr>\n    <tr>\n      <th>6</th>\n      <td>32003</td>\n      <td>2019</td>\n      <td>7</td>\n      <td>0.18</td>\n      <td>104</td>\n      <td>28</td>\n      <td>704</td>\n      <td>11724</td>\n      <td>90</td>\n      <td>7</td>\n      <td>0.13</td>\n      <td>0.14</td>\n      <td>282500.00</td>\n      <td>275000.00</td>\n      <td>281000.00</td>\n      <td>264500.00</td>\n      <td>7500.00</td>\n      <td>-6000.00</td>\n      <td>16500.00</td>\n    </tr>\n    <tr>\n      <th>7</th>\n      <td>32003</td>\n      <td>2019</td>\n      <td>8</td>\n      <td>0.18</td>\n      <td>104</td>\n      <td>28</td>\n      <td>704</td>\n      <td>11724</td>\n      <td>64</td>\n      <td>5</td>\n      <td>0.13</td>\n      <td>0.14</td>\n      <td>269577.00</td>\n      <td>282500.00</td>\n      <td>275000.00</td>\n      <td>281000.00</td>\n      <td>-12923.00</td>\n      <td>7500.00</td>\n      <td>-6000.00</td>\n    </tr>\n  </tbody>\n</table>\n</div>"
     },
     "metadata": {},
     "execution_count": 8
    }
   ],
   "source": [
    "ml_data_3mo.replace([np.inf, -np.inf], np.nan, inplace=True)\n",
    "ml_data_3mo.dropna(inplace=True)\n",
    "ml_data_3mo.head()"
   ]
  },
  {
   "cell_type": "code",
   "execution_count": 10,
   "metadata": {},
   "outputs": [
    {
     "output_type": "execute_result",
     "data": {
      "text/plain": [
       "       Zip_Code  Year  ...  Last_2Month_Diff  Last_3Month_Diff\n",
       "3         32003  2019  ...           5000.00          25050.00\n",
       "4         32003  2019  ...         -10500.00           5000.00\n",
       "5         32003  2019  ...          16500.00         -10500.00\n",
       "6         32003  2019  ...          -6000.00          16500.00\n",
       "7         32003  2019  ...           7500.00          -6000.00\n",
       "...         ...   ...  ...               ...               ...\n",
       "23505     34997  2020  ...          29000.00           5000.00\n",
       "23506     34997  2020  ...         -25250.00          29000.00\n",
       "23507     34997  2021  ...          37250.00         -25250.00\n",
       "23508     34997  2021  ...           8000.00          37250.00\n",
       "23509     34997  2021  ...          -5000.00           8000.00\n",
       "\n",
       "[20794 rows x 18 columns]"
      ],
      "text/html": "<div>\n<style scoped>\n    .dataframe tbody tr th:only-of-type {\n        vertical-align: middle;\n    }\n\n    .dataframe tbody tr th {\n        vertical-align: top;\n    }\n\n    .dataframe thead th {\n        text-align: right;\n    }\n</style>\n<table border=\"1\" class=\"dataframe\">\n  <thead>\n    <tr style=\"text-align: right;\">\n      <th></th>\n      <th>Zip_Code</th>\n      <th>Year</th>\n      <th>Month</th>\n      <th>Mobility_Rate</th>\n      <th>Expense_Index</th>\n      <th>Crime_Index</th>\n      <th>Total_Vacant</th>\n      <th>Total_Dwellings</th>\n      <th>Total_Sales</th>\n      <th>FHA_Count</th>\n      <th>Home_Affordability</th>\n      <th>Rent_Affordability</th>\n      <th>Last_Month_Price</th>\n      <th>Last_2Month_Price</th>\n      <th>Last_3Month_Price</th>\n      <th>Last_Month_Diff</th>\n      <th>Last_2Month_Diff</th>\n      <th>Last_3Month_Diff</th>\n    </tr>\n  </thead>\n  <tbody>\n    <tr>\n      <th>3</th>\n      <td>32003</td>\n      <td>2019</td>\n      <td>4</td>\n      <td>0.18</td>\n      <td>104</td>\n      <td>28</td>\n      <td>704</td>\n      <td>11724</td>\n      <td>42</td>\n      <td>3</td>\n      <td>0.13</td>\n      <td>0.14</td>\n      <td>275000.00</td>\n      <td>270000.00</td>\n      <td>244950.00</td>\n      <td>-10500.00</td>\n      <td>5000.00</td>\n      <td>25050.00</td>\n    </tr>\n    <tr>\n      <th>4</th>\n      <td>32003</td>\n      <td>2019</td>\n      <td>5</td>\n      <td>0.18</td>\n      <td>104</td>\n      <td>28</td>\n      <td>704</td>\n      <td>11724</td>\n      <td>66</td>\n      <td>8</td>\n      <td>0.14</td>\n      <td>0.14</td>\n      <td>264500.00</td>\n      <td>275000.00</td>\n      <td>270000.00</td>\n      <td>16500.00</td>\n      <td>-10500.00</td>\n      <td>5000.00</td>\n    </tr>\n    <tr>\n      <th>5</th>\n      <td>32003</td>\n      <td>2019</td>\n      <td>6</td>\n      <td>0.18</td>\n      <td>104</td>\n      <td>28</td>\n      <td>704</td>\n      <td>11724</td>\n      <td>43</td>\n      <td>3</td>\n      <td>0.13</td>\n      <td>0.14</td>\n      <td>281000.00</td>\n      <td>264500.00</td>\n      <td>275000.00</td>\n      <td>-6000.00</td>\n      <td>16500.00</td>\n      <td>-10500.00</td>\n    </tr>\n    <tr>\n      <th>6</th>\n      <td>32003</td>\n      <td>2019</td>\n      <td>7</td>\n      <td>0.18</td>\n      <td>104</td>\n      <td>28</td>\n      <td>704</td>\n      <td>11724</td>\n      <td>90</td>\n      <td>7</td>\n      <td>0.13</td>\n      <td>0.14</td>\n      <td>275000.00</td>\n      <td>281000.00</td>\n      <td>264500.00</td>\n      <td>7500.00</td>\n      <td>-6000.00</td>\n      <td>16500.00</td>\n    </tr>\n    <tr>\n      <th>7</th>\n      <td>32003</td>\n      <td>2019</td>\n      <td>8</td>\n      <td>0.18</td>\n      <td>104</td>\n      <td>28</td>\n      <td>704</td>\n      <td>11724</td>\n      <td>64</td>\n      <td>5</td>\n      <td>0.13</td>\n      <td>0.14</td>\n      <td>282500.00</td>\n      <td>275000.00</td>\n      <td>281000.00</td>\n      <td>-12923.00</td>\n      <td>7500.00</td>\n      <td>-6000.00</td>\n    </tr>\n    <tr>\n      <th>...</th>\n      <td>...</td>\n      <td>...</td>\n      <td>...</td>\n      <td>...</td>\n      <td>...</td>\n      <td>...</td>\n      <td>...</td>\n      <td>...</td>\n      <td>...</td>\n      <td>...</td>\n      <td>...</td>\n      <td>...</td>\n      <td>...</td>\n      <td>...</td>\n      <td>...</td>\n      <td>...</td>\n      <td>...</td>\n      <td>...</td>\n    </tr>\n    <tr>\n      <th>23505</th>\n      <td>34997</td>\n      <td>2020</td>\n      <td>11</td>\n      <td>0.14</td>\n      <td>91</td>\n      <td>113</td>\n      <td>2976</td>\n      <td>21551</td>\n      <td>132</td>\n      <td>11</td>\n      <td>0.17</td>\n      <td>0.25</td>\n      <td>285000.00</td>\n      <td>256000.00</td>\n      <td>251000.00</td>\n      <td>-25250.00</td>\n      <td>29000.00</td>\n      <td>5000.00</td>\n    </tr>\n    <tr>\n      <th>23506</th>\n      <td>34997</td>\n      <td>2020</td>\n      <td>12</td>\n      <td>0.14</td>\n      <td>91</td>\n      <td>113</td>\n      <td>2976</td>\n      <td>21551</td>\n      <td>142</td>\n      <td>16</td>\n      <td>0.20</td>\n      <td>0.25</td>\n      <td>259750.00</td>\n      <td>285000.00</td>\n      <td>256000.00</td>\n      <td>37250.00</td>\n      <td>-25250.00</td>\n      <td>29000.00</td>\n    </tr>\n    <tr>\n      <th>23507</th>\n      <td>34997</td>\n      <td>2021</td>\n      <td>1</td>\n      <td>0.14</td>\n      <td>91</td>\n      <td>113</td>\n      <td>2976</td>\n      <td>21551</td>\n      <td>81</td>\n      <td>10</td>\n      <td>0.20</td>\n      <td>0.25</td>\n      <td>297000.00</td>\n      <td>259750.00</td>\n      <td>285000.00</td>\n      <td>8000.00</td>\n      <td>37250.00</td>\n      <td>-25250.00</td>\n    </tr>\n    <tr>\n      <th>23508</th>\n      <td>34997</td>\n      <td>2021</td>\n      <td>2</td>\n      <td>0.14</td>\n      <td>91</td>\n      <td>113</td>\n      <td>2976</td>\n      <td>21551</td>\n      <td>116</td>\n      <td>7</td>\n      <td>0.20</td>\n      <td>0.25</td>\n      <td>305000.00</td>\n      <td>297000.00</td>\n      <td>259750.00</td>\n      <td>-5000.00</td>\n      <td>8000.00</td>\n      <td>37250.00</td>\n    </tr>\n    <tr>\n      <th>23509</th>\n      <td>34997</td>\n      <td>2021</td>\n      <td>3</td>\n      <td>0.14</td>\n      <td>91</td>\n      <td>113</td>\n      <td>2976</td>\n      <td>21551</td>\n      <td>7</td>\n      <td>12</td>\n      <td>0.42</td>\n      <td>0.25</td>\n      <td>300000.00</td>\n      <td>305000.00</td>\n      <td>297000.00</td>\n      <td>299000.00</td>\n      <td>-5000.00</td>\n      <td>8000.00</td>\n    </tr>\n  </tbody>\n</table>\n<p>20794 rows × 18 columns</p>\n</div>"
     },
     "metadata": {},
     "execution_count": 10
    }
   ],
   "source": [
    "y_value = ml_data_3mo['Sale_Price'].values\n",
    "\n",
    "x_values = ml_data_3mo.drop(columns='Sale_Price')\n",
    "\n",
    "feature_names = x_values.columns\n",
    "\n",
    "x_values"
   ]
  },
  {
   "cell_type": "code",
   "execution_count": 11,
   "metadata": {},
   "outputs": [],
   "source": [
    "X_train, X_test, y_train, y_test = train_test_split(x_values, y_value, random_state=42)"
   ]
  },
  {
   "cell_type": "code",
   "execution_count": 12,
   "metadata": {},
   "outputs": [
    {
     "output_type": "stream",
     "name": "stderr",
     "text": [
      "100%|██████████| 42/42 [01:49<00:00,  2.60s/it]\n",
      "                               Adjusted R-Squared  ...  Time Taken\n",
      "Model                                              ...            \n",
      "OrthogonalMatchingPursuitCV                  1.00  ...        0.06\n",
      "HuberRegressor                               1.00  ...        0.45\n",
      "TransformedTargetRegressor                   1.00  ...        0.02\n",
      "LarsCV                                       1.00  ...        0.06\n",
      "Lars                                         1.00  ...        0.03\n",
      "RANSACRegressor                              1.00  ...        0.03\n",
      "LassoLarsCV                                  1.00  ...        0.07\n",
      "LassoLarsIC                                  1.00  ...        0.02\n",
      "LinearRegression                             1.00  ...        0.03\n",
      "PassiveAggressiveRegressor                   1.00  ...        0.11\n",
      "RidgeCV                                      1.00  ...        0.06\n",
      "Ridge                                        1.00  ...        0.02\n",
      "SGDRegressor                                 1.00  ...        0.09\n",
      "Lasso                                        1.00  ...        0.14\n",
      "LassoLars                                    1.00  ...        0.03\n",
      "LassoCV                                      1.00  ...        0.52\n",
      "ExtraTreesRegressor                          0.99  ...        4.84\n",
      "RandomForestRegressor                        0.99  ...       11.13\n",
      "XGBRegressor                                 0.99  ...        0.52\n",
      "HistGradientBoostingRegressor                0.99  ...        0.74\n",
      "GradientBoostingRegressor                    0.98  ...        3.50\n",
      "BaggingRegressor                             0.98  ...        1.19\n",
      "LGBMRegressor                                0.98  ...        0.19\n",
      "DecisionTreeRegressor                        0.98  ...        0.22\n",
      "ElasticNet                                   0.95  ...        0.05\n",
      "ExtraTreeRegressor                           0.94  ...        0.10\n",
      "KNeighborsRegressor                          0.93  ...        1.96\n",
      "TweedieRegressor                             0.90  ...        0.05\n",
      "GeneralizedLinearRegressor                   0.90  ...        0.04\n",
      "AdaBoostRegressor                            0.79  ...        1.10\n",
      "OrthogonalMatchingPursuit                    0.77  ...        0.03\n",
      "PoissonRegressor                             0.69  ...        0.07\n",
      "BayesianRidge                                0.50  ...        0.08\n",
      "ElasticNetCV                                 0.04  ...        0.20\n",
      "DummyRegressor                              -0.00  ...        0.02\n",
      "NuSVR                                       -0.02  ...        9.40\n",
      "SVR                                         -0.03  ...        9.50\n",
      "GaussianProcessRegressor                    -0.06  ...       34.68\n",
      "GammaRegressor                              -0.07  ...        0.04\n",
      "MLPRegressor                                -0.87  ...       10.63\n",
      "KernelRidge                                 -1.90  ...       17.32\n",
      "LinearSVR                                   -2.53  ...        0.03\n",
      "\n",
      "[42 rows x 4 columns]\n"
     ]
    }
   ],
   "source": [
    "reg = LazyRegressor(verbose=0, ignore_warnings=False, custom_metric=None)\n",
    "reg_models, reg_predictions = reg.fit(X_train, X_test, y_train, y_test)\n",
    "\n",
    "print(reg_models)"
   ]
  },
  {
   "cell_type": "code",
   "execution_count": 27,
   "metadata": {},
   "outputs": [
    {
     "output_type": "execute_result",
     "data": {
      "text/plain": [
       "       Zip_Code  Year  ...  Last_3Month_Diff  Price_Change_1mo\n",
       "0         32003  2019  ...               nan                 0\n",
       "1         32003  2019  ...               nan                 1\n",
       "2         32003  2019  ...               nan                 1\n",
       "3         32003  2019  ...          25050.00                 0\n",
       "4         32003  2019  ...           5000.00                 1\n",
       "...         ...   ...  ...               ...               ...\n",
       "23505     34997  2020  ...           5000.00                 0\n",
       "23506     34997  2020  ...          29000.00                 1\n",
       "23507     34997  2021  ...         -25250.00                 1\n",
       "23508     34997  2021  ...          37250.00                 0\n",
       "23509     34997  2021  ...           8000.00                 1\n",
       "\n",
       "[23510 rows x 20 columns]"
      ],
      "text/html": "<div>\n<style scoped>\n    .dataframe tbody tr th:only-of-type {\n        vertical-align: middle;\n    }\n\n    .dataframe tbody tr th {\n        vertical-align: top;\n    }\n\n    .dataframe thead th {\n        text-align: right;\n    }\n</style>\n<table border=\"1\" class=\"dataframe\">\n  <thead>\n    <tr style=\"text-align: right;\">\n      <th></th>\n      <th>Zip_Code</th>\n      <th>Year</th>\n      <th>Month</th>\n      <th>Mobility_Rate</th>\n      <th>Expense_Index</th>\n      <th>Crime_Index</th>\n      <th>Total_Vacant</th>\n      <th>Total_Dwellings</th>\n      <th>Total_Sales</th>\n      <th>FHA_Count</th>\n      <th>Home_Affordability</th>\n      <th>Rent_Affordability</th>\n      <th>Sale_Price</th>\n      <th>Last_Month_Price</th>\n      <th>Last_2Month_Price</th>\n      <th>Last_3Month_Price</th>\n      <th>Last_Month_Diff</th>\n      <th>Last_2Month_Diff</th>\n      <th>Last_3Month_Diff</th>\n      <th>Price_Change_1mo</th>\n    </tr>\n  </thead>\n  <tbody>\n    <tr>\n      <th>0</th>\n      <td>32003</td>\n      <td>2019</td>\n      <td>1</td>\n      <td>0.18</td>\n      <td>104</td>\n      <td>28</td>\n      <td>704</td>\n      <td>11724</td>\n      <td>32</td>\n      <td>7</td>\n      <td>0.13</td>\n      <td>0.14</td>\n      <td>244950.00</td>\n      <td>nan</td>\n      <td>nan</td>\n      <td>nan</td>\n      <td>nan</td>\n      <td>nan</td>\n      <td>nan</td>\n      <td>0</td>\n    </tr>\n    <tr>\n      <th>1</th>\n      <td>32003</td>\n      <td>2019</td>\n      <td>2</td>\n      <td>0.18</td>\n      <td>104</td>\n      <td>28</td>\n      <td>704</td>\n      <td>11724</td>\n      <td>41</td>\n      <td>2</td>\n      <td>0.14</td>\n      <td>0.14</td>\n      <td>270000.00</td>\n      <td>244950.00</td>\n      <td>nan</td>\n      <td>nan</td>\n      <td>25050.00</td>\n      <td>nan</td>\n      <td>nan</td>\n      <td>1</td>\n    </tr>\n    <tr>\n      <th>2</th>\n      <td>32003</td>\n      <td>2019</td>\n      <td>3</td>\n      <td>0.18</td>\n      <td>104</td>\n      <td>28</td>\n      <td>704</td>\n      <td>11724</td>\n      <td>21</td>\n      <td>7</td>\n      <td>0.14</td>\n      <td>0.14</td>\n      <td>275000.00</td>\n      <td>270000.00</td>\n      <td>244950.00</td>\n      <td>nan</td>\n      <td>5000.00</td>\n      <td>25050.00</td>\n      <td>nan</td>\n      <td>1</td>\n    </tr>\n    <tr>\n      <th>3</th>\n      <td>32003</td>\n      <td>2019</td>\n      <td>4</td>\n      <td>0.18</td>\n      <td>104</td>\n      <td>28</td>\n      <td>704</td>\n      <td>11724</td>\n      <td>42</td>\n      <td>3</td>\n      <td>0.13</td>\n      <td>0.14</td>\n      <td>264500.00</td>\n      <td>275000.00</td>\n      <td>270000.00</td>\n      <td>244950.00</td>\n      <td>-10500.00</td>\n      <td>5000.00</td>\n      <td>25050.00</td>\n      <td>0</td>\n    </tr>\n    <tr>\n      <th>4</th>\n      <td>32003</td>\n      <td>2019</td>\n      <td>5</td>\n      <td>0.18</td>\n      <td>104</td>\n      <td>28</td>\n      <td>704</td>\n      <td>11724</td>\n      <td>66</td>\n      <td>8</td>\n      <td>0.14</td>\n      <td>0.14</td>\n      <td>281000.00</td>\n      <td>264500.00</td>\n      <td>275000.00</td>\n      <td>270000.00</td>\n      <td>16500.00</td>\n      <td>-10500.00</td>\n      <td>5000.00</td>\n      <td>1</td>\n    </tr>\n    <tr>\n      <th>...</th>\n      <td>...</td>\n      <td>...</td>\n      <td>...</td>\n      <td>...</td>\n      <td>...</td>\n      <td>...</td>\n      <td>...</td>\n      <td>...</td>\n      <td>...</td>\n      <td>...</td>\n      <td>...</td>\n      <td>...</td>\n      <td>...</td>\n      <td>...</td>\n      <td>...</td>\n      <td>...</td>\n      <td>...</td>\n      <td>...</td>\n      <td>...</td>\n      <td>...</td>\n    </tr>\n    <tr>\n      <th>23505</th>\n      <td>34997</td>\n      <td>2020</td>\n      <td>11</td>\n      <td>0.14</td>\n      <td>91</td>\n      <td>113</td>\n      <td>2976</td>\n      <td>21551</td>\n      <td>132</td>\n      <td>11</td>\n      <td>0.17</td>\n      <td>0.25</td>\n      <td>259750.00</td>\n      <td>285000.00</td>\n      <td>256000.00</td>\n      <td>251000.00</td>\n      <td>-25250.00</td>\n      <td>29000.00</td>\n      <td>5000.00</td>\n      <td>0</td>\n    </tr>\n    <tr>\n      <th>23506</th>\n      <td>34997</td>\n      <td>2020</td>\n      <td>12</td>\n      <td>0.14</td>\n      <td>91</td>\n      <td>113</td>\n      <td>2976</td>\n      <td>21551</td>\n      <td>142</td>\n      <td>16</td>\n      <td>0.20</td>\n      <td>0.25</td>\n      <td>297000.00</td>\n      <td>259750.00</td>\n      <td>285000.00</td>\n      <td>256000.00</td>\n      <td>37250.00</td>\n      <td>-25250.00</td>\n      <td>29000.00</td>\n      <td>1</td>\n    </tr>\n    <tr>\n      <th>23507</th>\n      <td>34997</td>\n      <td>2021</td>\n      <td>1</td>\n      <td>0.14</td>\n      <td>91</td>\n      <td>113</td>\n      <td>2976</td>\n      <td>21551</td>\n      <td>81</td>\n      <td>10</td>\n      <td>0.20</td>\n      <td>0.25</td>\n      <td>305000.00</td>\n      <td>297000.00</td>\n      <td>259750.00</td>\n      <td>285000.00</td>\n      <td>8000.00</td>\n      <td>37250.00</td>\n      <td>-25250.00</td>\n      <td>1</td>\n    </tr>\n    <tr>\n      <th>23508</th>\n      <td>34997</td>\n      <td>2021</td>\n      <td>2</td>\n      <td>0.14</td>\n      <td>91</td>\n      <td>113</td>\n      <td>2976</td>\n      <td>21551</td>\n      <td>116</td>\n      <td>7</td>\n      <td>0.20</td>\n      <td>0.25</td>\n      <td>300000.00</td>\n      <td>305000.00</td>\n      <td>297000.00</td>\n      <td>259750.00</td>\n      <td>-5000.00</td>\n      <td>8000.00</td>\n      <td>37250.00</td>\n      <td>0</td>\n    </tr>\n    <tr>\n      <th>23509</th>\n      <td>34997</td>\n      <td>2021</td>\n      <td>3</td>\n      <td>0.14</td>\n      <td>91</td>\n      <td>113</td>\n      <td>2976</td>\n      <td>21551</td>\n      <td>7</td>\n      <td>12</td>\n      <td>0.42</td>\n      <td>0.25</td>\n      <td>599000.00</td>\n      <td>300000.00</td>\n      <td>305000.00</td>\n      <td>297000.00</td>\n      <td>299000.00</td>\n      <td>-5000.00</td>\n      <td>8000.00</td>\n      <td>1</td>\n    </tr>\n  </tbody>\n</table>\n<p>23510 rows × 20 columns</p>\n</div>"
     },
     "metadata": {},
     "execution_count": 27
    }
   ],
   "source": [
    "price_change_1mo = []\n",
    "\n",
    "for row in ml_data_3mo['Last_Month_Diff']:\n",
    "    if row > 0:\n",
    "        price_change_1mo.append(1)\n",
    "    else:\n",
    "        price_change_1mo.append(0)\n",
    "ml_data_3mo['Price_Change_1mo'] = price_change_1mo\n",
    "\n",
    "ml_data_3mo"
   ]
  },
  {
   "cell_type": "code",
   "execution_count": 28,
   "metadata": {},
   "outputs": [
    {
     "output_type": "execute_result",
     "data": {
      "text/plain": [
       "   Mobility_Rate  Expense_Index  ...  Sale_Price  Price_Change_1mo\n",
       "0           0.18            104  ...   244950.00                 0\n",
       "1           0.18            104  ...   270000.00                 1\n",
       "2           0.18            104  ...   275000.00                 1\n",
       "3           0.18            104  ...   264500.00                 0\n",
       "4           0.18            104  ...   281000.00                 1\n",
       "\n",
       "[5 rows x 11 columns]"
      ],
      "text/html": "<div>\n<style scoped>\n    .dataframe tbody tr th:only-of-type {\n        vertical-align: middle;\n    }\n\n    .dataframe tbody tr th {\n        vertical-align: top;\n    }\n\n    .dataframe thead th {\n        text-align: right;\n    }\n</style>\n<table border=\"1\" class=\"dataframe\">\n  <thead>\n    <tr style=\"text-align: right;\">\n      <th></th>\n      <th>Mobility_Rate</th>\n      <th>Expense_Index</th>\n      <th>Crime_Index</th>\n      <th>Total_Vacant</th>\n      <th>Total_Dwellings</th>\n      <th>Total_Sales</th>\n      <th>FHA_Count</th>\n      <th>Home_Affordability</th>\n      <th>Rent_Affordability</th>\n      <th>Sale_Price</th>\n      <th>Price_Change_1mo</th>\n    </tr>\n  </thead>\n  <tbody>\n    <tr>\n      <th>0</th>\n      <td>0.18</td>\n      <td>104</td>\n      <td>28</td>\n      <td>704</td>\n      <td>11724</td>\n      <td>32</td>\n      <td>7</td>\n      <td>0.13</td>\n      <td>0.14</td>\n      <td>244950.00</td>\n      <td>0</td>\n    </tr>\n    <tr>\n      <th>1</th>\n      <td>0.18</td>\n      <td>104</td>\n      <td>28</td>\n      <td>704</td>\n      <td>11724</td>\n      <td>41</td>\n      <td>2</td>\n      <td>0.14</td>\n      <td>0.14</td>\n      <td>270000.00</td>\n      <td>1</td>\n    </tr>\n    <tr>\n      <th>2</th>\n      <td>0.18</td>\n      <td>104</td>\n      <td>28</td>\n      <td>704</td>\n      <td>11724</td>\n      <td>21</td>\n      <td>7</td>\n      <td>0.14</td>\n      <td>0.14</td>\n      <td>275000.00</td>\n      <td>1</td>\n    </tr>\n    <tr>\n      <th>3</th>\n      <td>0.18</td>\n      <td>104</td>\n      <td>28</td>\n      <td>704</td>\n      <td>11724</td>\n      <td>42</td>\n      <td>3</td>\n      <td>0.13</td>\n      <td>0.14</td>\n      <td>264500.00</td>\n      <td>0</td>\n    </tr>\n    <tr>\n      <th>4</th>\n      <td>0.18</td>\n      <td>104</td>\n      <td>28</td>\n      <td>704</td>\n      <td>11724</td>\n      <td>66</td>\n      <td>8</td>\n      <td>0.14</td>\n      <td>0.14</td>\n      <td>281000.00</td>\n      <td>1</td>\n    </tr>\n  </tbody>\n</table>\n</div>"
     },
     "metadata": {},
     "execution_count": 28
    }
   ],
   "source": [
    "ml_data_3mo = ml_data_3mo.drop(columns=['Zip_Code', 'Year', 'Month','Last_Month_Price', 'Last_Month_Diff', 'Last_2Month_Price', 'Last_2Month_Diff', 'Last_3Month_Price', 'Last_3Month_Diff'])\n",
    "ml_data_3mo.head()"
   ]
  },
  {
   "cell_type": "code",
   "execution_count": 29,
   "metadata": {},
   "outputs": [],
   "source": [
    "ml_data_3mo.replace([np.inf, -np.inf], np.nan, inplace=True)\n",
    "ml_data_3mo.dropna(inplace=True)"
   ]
  },
  {
   "cell_type": "code",
   "execution_count": 30,
   "metadata": {},
   "outputs": [
    {
     "output_type": "execute_result",
     "data": {
      "text/plain": [
       "       Mobility_Rate  Expense_Index  ...  Rent_Affordability  Sale_Price\n",
       "0               0.18            104  ...                0.14   244950.00\n",
       "1               0.18            104  ...                0.14   270000.00\n",
       "2               0.18            104  ...                0.14   275000.00\n",
       "3               0.18            104  ...                0.14   264500.00\n",
       "4               0.18            104  ...                0.14   281000.00\n",
       "...              ...            ...  ...                 ...         ...\n",
       "23505           0.14             91  ...                0.25   259750.00\n",
       "23506           0.14             91  ...                0.25   297000.00\n",
       "23507           0.14             91  ...                0.25   305000.00\n",
       "23508           0.14             91  ...                0.25   300000.00\n",
       "23509           0.14             91  ...                0.25   599000.00\n",
       "\n",
       "[23510 rows x 10 columns]"
      ],
      "text/html": "<div>\n<style scoped>\n    .dataframe tbody tr th:only-of-type {\n        vertical-align: middle;\n    }\n\n    .dataframe tbody tr th {\n        vertical-align: top;\n    }\n\n    .dataframe thead th {\n        text-align: right;\n    }\n</style>\n<table border=\"1\" class=\"dataframe\">\n  <thead>\n    <tr style=\"text-align: right;\">\n      <th></th>\n      <th>Mobility_Rate</th>\n      <th>Expense_Index</th>\n      <th>Crime_Index</th>\n      <th>Total_Vacant</th>\n      <th>Total_Dwellings</th>\n      <th>Total_Sales</th>\n      <th>FHA_Count</th>\n      <th>Home_Affordability</th>\n      <th>Rent_Affordability</th>\n      <th>Sale_Price</th>\n    </tr>\n  </thead>\n  <tbody>\n    <tr>\n      <th>0</th>\n      <td>0.18</td>\n      <td>104</td>\n      <td>28</td>\n      <td>704</td>\n      <td>11724</td>\n      <td>32</td>\n      <td>7</td>\n      <td>0.13</td>\n      <td>0.14</td>\n      <td>244950.00</td>\n    </tr>\n    <tr>\n      <th>1</th>\n      <td>0.18</td>\n      <td>104</td>\n      <td>28</td>\n      <td>704</td>\n      <td>11724</td>\n      <td>41</td>\n      <td>2</td>\n      <td>0.14</td>\n      <td>0.14</td>\n      <td>270000.00</td>\n    </tr>\n    <tr>\n      <th>2</th>\n      <td>0.18</td>\n      <td>104</td>\n      <td>28</td>\n      <td>704</td>\n      <td>11724</td>\n      <td>21</td>\n      <td>7</td>\n      <td>0.14</td>\n      <td>0.14</td>\n      <td>275000.00</td>\n    </tr>\n    <tr>\n      <th>3</th>\n      <td>0.18</td>\n      <td>104</td>\n      <td>28</td>\n      <td>704</td>\n      <td>11724</td>\n      <td>42</td>\n      <td>3</td>\n      <td>0.13</td>\n      <td>0.14</td>\n      <td>264500.00</td>\n    </tr>\n    <tr>\n      <th>4</th>\n      <td>0.18</td>\n      <td>104</td>\n      <td>28</td>\n      <td>704</td>\n      <td>11724</td>\n      <td>66</td>\n      <td>8</td>\n      <td>0.14</td>\n      <td>0.14</td>\n      <td>281000.00</td>\n    </tr>\n    <tr>\n      <th>...</th>\n      <td>...</td>\n      <td>...</td>\n      <td>...</td>\n      <td>...</td>\n      <td>...</td>\n      <td>...</td>\n      <td>...</td>\n      <td>...</td>\n      <td>...</td>\n      <td>...</td>\n    </tr>\n    <tr>\n      <th>23505</th>\n      <td>0.14</td>\n      <td>91</td>\n      <td>113</td>\n      <td>2976</td>\n      <td>21551</td>\n      <td>132</td>\n      <td>11</td>\n      <td>0.17</td>\n      <td>0.25</td>\n      <td>259750.00</td>\n    </tr>\n    <tr>\n      <th>23506</th>\n      <td>0.14</td>\n      <td>91</td>\n      <td>113</td>\n      <td>2976</td>\n      <td>21551</td>\n      <td>142</td>\n      <td>16</td>\n      <td>0.20</td>\n      <td>0.25</td>\n      <td>297000.00</td>\n    </tr>\n    <tr>\n      <th>23507</th>\n      <td>0.14</td>\n      <td>91</td>\n      <td>113</td>\n      <td>2976</td>\n      <td>21551</td>\n      <td>81</td>\n      <td>10</td>\n      <td>0.20</td>\n      <td>0.25</td>\n      <td>305000.00</td>\n    </tr>\n    <tr>\n      <th>23508</th>\n      <td>0.14</td>\n      <td>91</td>\n      <td>113</td>\n      <td>2976</td>\n      <td>21551</td>\n      <td>116</td>\n      <td>7</td>\n      <td>0.20</td>\n      <td>0.25</td>\n      <td>300000.00</td>\n    </tr>\n    <tr>\n      <th>23509</th>\n      <td>0.14</td>\n      <td>91</td>\n      <td>113</td>\n      <td>2976</td>\n      <td>21551</td>\n      <td>7</td>\n      <td>12</td>\n      <td>0.42</td>\n      <td>0.25</td>\n      <td>599000.00</td>\n    </tr>\n  </tbody>\n</table>\n<p>23510 rows × 10 columns</p>\n</div>"
     },
     "metadata": {},
     "execution_count": 30
    }
   ],
   "source": [
    "y_value = ml_data_3mo['Price_Change_1mo'].values\n",
    "\n",
    "x_values = ml_data_3mo.drop(columns='Price_Change_1mo')\n",
    "\n",
    "feature_names = x_values.columns\n",
    "\n",
    "x_values"
   ]
  },
  {
   "cell_type": "code",
   "execution_count": 32,
   "metadata": {},
   "outputs": [],
   "source": [
    "X_train, X_test, y_train, y_test = train_test_split(x_values, y_value, random_state=42)"
   ]
  },
  {
   "cell_type": "code",
   "execution_count": 33,
   "metadata": {},
   "outputs": [
    {
     "output_type": "stream",
     "name": "stderr",
     "text": [
      " 21%|██        | 6/29 [00:05<00:19,  1.19it/s]CategoricalNB model failed to execute\n",
      "Negative values in data passed to CategoricalNB (input X)\n",
      " 90%|████████▉ | 26/29 [01:40<00:13,  4.65s/it]StackingClassifier model failed to execute\n",
      "__init__() missing 1 required positional argument: 'estimators'\n",
      "100%|██████████| 29/29 [01:41<00:00,  3.50s/it]\n"
     ]
    },
    {
     "output_type": "execute_result",
     "data": {
      "text/plain": [
       "                               Accuracy  ...  Time Taken\n",
       "Model                                    ...            \n",
       "RandomForestClassifier             0.66  ...        2.66\n",
       "ExtraTreesClassifier               0.66  ...        1.49\n",
       "XGBClassifier                      0.65  ...        0.51\n",
       "LGBMClassifier                     0.64  ...        0.18\n",
       "BaggingClassifier                  0.64  ...        0.74\n",
       "NuSVC                              0.63  ...       59.86\n",
       "SVC                                0.63  ...        8.59\n",
       "CalibratedClassifierCV             0.62  ...        4.02\n",
       "LogisticRegression                 0.61  ...        0.05\n",
       "LinearSVC                          0.61  ...        1.08\n",
       "LinearDiscriminantAnalysis         0.61  ...        0.05\n",
       "RidgeClassifierCV                  0.61  ...        0.05\n",
       "RidgeClassifier                    0.61  ...        0.03\n",
       "KNeighborsClassifier               0.61  ...        0.28\n",
       "AdaBoostClassifier                 0.61  ...        0.55\n",
       "DecisionTreeClassifier             0.60  ...        0.14\n",
       "SGDClassifier                      0.59  ...        0.08\n",
       "LabelSpreading                     0.59  ...       12.80\n",
       "LabelPropagation                   0.59  ...        8.08\n",
       "ExtraTreeClassifier                0.59  ...        0.03\n",
       "BernoulliNB                        0.58  ...        0.03\n",
       "NearestCentroid                    0.57  ...        0.03\n",
       "QuadraticDiscriminantAnalysis      0.55  ...        0.03\n",
       "GaussianNB                         0.54  ...        0.02\n",
       "PassiveAggressiveClassifier        0.54  ...        0.03\n",
       "DummyClassifier                    0.51  ...        0.02\n",
       "Perceptron                         0.50  ...        0.04\n",
       "\n",
       "[27 rows x 5 columns]"
      ],
      "text/html": "<div>\n<style scoped>\n    .dataframe tbody tr th:only-of-type {\n        vertical-align: middle;\n    }\n\n    .dataframe tbody tr th {\n        vertical-align: top;\n    }\n\n    .dataframe thead th {\n        text-align: right;\n    }\n</style>\n<table border=\"1\" class=\"dataframe\">\n  <thead>\n    <tr style=\"text-align: right;\">\n      <th></th>\n      <th>Accuracy</th>\n      <th>Balanced Accuracy</th>\n      <th>ROC AUC</th>\n      <th>F1 Score</th>\n      <th>Time Taken</th>\n    </tr>\n    <tr>\n      <th>Model</th>\n      <th></th>\n      <th></th>\n      <th></th>\n      <th></th>\n      <th></th>\n    </tr>\n  </thead>\n  <tbody>\n    <tr>\n      <th>RandomForestClassifier</th>\n      <td>0.66</td>\n      <td>0.66</td>\n      <td>0.66</td>\n      <td>0.66</td>\n      <td>2.66</td>\n    </tr>\n    <tr>\n      <th>ExtraTreesClassifier</th>\n      <td>0.66</td>\n      <td>0.66</td>\n      <td>0.66</td>\n      <td>0.66</td>\n      <td>1.49</td>\n    </tr>\n    <tr>\n      <th>XGBClassifier</th>\n      <td>0.65</td>\n      <td>0.65</td>\n      <td>0.65</td>\n      <td>0.65</td>\n      <td>0.51</td>\n    </tr>\n    <tr>\n      <th>LGBMClassifier</th>\n      <td>0.64</td>\n      <td>0.64</td>\n      <td>0.64</td>\n      <td>0.64</td>\n      <td>0.18</td>\n    </tr>\n    <tr>\n      <th>BaggingClassifier</th>\n      <td>0.64</td>\n      <td>0.64</td>\n      <td>0.64</td>\n      <td>0.64</td>\n      <td>0.74</td>\n    </tr>\n    <tr>\n      <th>NuSVC</th>\n      <td>0.63</td>\n      <td>0.63</td>\n      <td>0.63</td>\n      <td>0.63</td>\n      <td>59.86</td>\n    </tr>\n    <tr>\n      <th>SVC</th>\n      <td>0.63</td>\n      <td>0.63</td>\n      <td>0.63</td>\n      <td>0.63</td>\n      <td>8.59</td>\n    </tr>\n    <tr>\n      <th>CalibratedClassifierCV</th>\n      <td>0.62</td>\n      <td>0.61</td>\n      <td>0.61</td>\n      <td>0.61</td>\n      <td>4.02</td>\n    </tr>\n    <tr>\n      <th>LogisticRegression</th>\n      <td>0.61</td>\n      <td>0.61</td>\n      <td>0.61</td>\n      <td>0.61</td>\n      <td>0.05</td>\n    </tr>\n    <tr>\n      <th>LinearSVC</th>\n      <td>0.61</td>\n      <td>0.61</td>\n      <td>0.61</td>\n      <td>0.61</td>\n      <td>1.08</td>\n    </tr>\n    <tr>\n      <th>LinearDiscriminantAnalysis</th>\n      <td>0.61</td>\n      <td>0.61</td>\n      <td>0.61</td>\n      <td>0.61</td>\n      <td>0.05</td>\n    </tr>\n    <tr>\n      <th>RidgeClassifierCV</th>\n      <td>0.61</td>\n      <td>0.61</td>\n      <td>0.61</td>\n      <td>0.61</td>\n      <td>0.05</td>\n    </tr>\n    <tr>\n      <th>RidgeClassifier</th>\n      <td>0.61</td>\n      <td>0.61</td>\n      <td>0.61</td>\n      <td>0.61</td>\n      <td>0.03</td>\n    </tr>\n    <tr>\n      <th>KNeighborsClassifier</th>\n      <td>0.61</td>\n      <td>0.61</td>\n      <td>0.61</td>\n      <td>0.61</td>\n      <td>0.28</td>\n    </tr>\n    <tr>\n      <th>AdaBoostClassifier</th>\n      <td>0.61</td>\n      <td>0.61</td>\n      <td>0.61</td>\n      <td>0.61</td>\n      <td>0.55</td>\n    </tr>\n    <tr>\n      <th>DecisionTreeClassifier</th>\n      <td>0.60</td>\n      <td>0.60</td>\n      <td>0.60</td>\n      <td>0.60</td>\n      <td>0.14</td>\n    </tr>\n    <tr>\n      <th>SGDClassifier</th>\n      <td>0.59</td>\n      <td>0.59</td>\n      <td>0.59</td>\n      <td>0.59</td>\n      <td>0.08</td>\n    </tr>\n    <tr>\n      <th>LabelSpreading</th>\n      <td>0.59</td>\n      <td>0.59</td>\n      <td>0.59</td>\n      <td>0.59</td>\n      <td>12.80</td>\n    </tr>\n    <tr>\n      <th>LabelPropagation</th>\n      <td>0.59</td>\n      <td>0.59</td>\n      <td>0.59</td>\n      <td>0.59</td>\n      <td>8.08</td>\n    </tr>\n    <tr>\n      <th>ExtraTreeClassifier</th>\n      <td>0.59</td>\n      <td>0.59</td>\n      <td>0.59</td>\n      <td>0.59</td>\n      <td>0.03</td>\n    </tr>\n    <tr>\n      <th>BernoulliNB</th>\n      <td>0.58</td>\n      <td>0.58</td>\n      <td>0.58</td>\n      <td>0.58</td>\n      <td>0.03</td>\n    </tr>\n    <tr>\n      <th>NearestCentroid</th>\n      <td>0.57</td>\n      <td>0.57</td>\n      <td>0.57</td>\n      <td>0.57</td>\n      <td>0.03</td>\n    </tr>\n    <tr>\n      <th>QuadraticDiscriminantAnalysis</th>\n      <td>0.55</td>\n      <td>0.55</td>\n      <td>0.55</td>\n      <td>0.51</td>\n      <td>0.03</td>\n    </tr>\n    <tr>\n      <th>GaussianNB</th>\n      <td>0.54</td>\n      <td>0.55</td>\n      <td>0.55</td>\n      <td>0.50</td>\n      <td>0.02</td>\n    </tr>\n    <tr>\n      <th>PassiveAggressiveClassifier</th>\n      <td>0.54</td>\n      <td>0.54</td>\n      <td>0.54</td>\n      <td>0.52</td>\n      <td>0.03</td>\n    </tr>\n    <tr>\n      <th>DummyClassifier</th>\n      <td>0.51</td>\n      <td>0.51</td>\n      <td>0.51</td>\n      <td>0.51</td>\n      <td>0.02</td>\n    </tr>\n    <tr>\n      <th>Perceptron</th>\n      <td>0.50</td>\n      <td>0.50</td>\n      <td>0.50</td>\n      <td>0.49</td>\n      <td>0.04</td>\n    </tr>\n  </tbody>\n</table>\n</div>"
     },
     "metadata": {},
     "execution_count": 33
    }
   ],
   "source": [
    "from lazypredict.Supervised import LazyClassifier\n",
    "\n",
    "clf = LazyClassifier(verbose=0,ignore_warnings=False)\n",
    "models, predictions = clf.fit(X_train, X_test, y_train, y_test)\n",
    "models"
   ]
  },
  {
   "cell_type": "code",
   "execution_count": null,
   "metadata": {},
   "outputs": [],
   "source": []
  }
 ]
}