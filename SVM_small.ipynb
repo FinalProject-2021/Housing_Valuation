{
 "metadata": {
  "language_info": {
   "codemirror_mode": {
    "name": "ipython",
    "version": 3
   },
   "file_extension": ".py",
   "mimetype": "text/x-python",
   "name": "python",
   "nbconvert_exporter": "python",
   "pygments_lexer": "ipython3",
   "version": "3.6.10"
  },
  "orig_nbformat": 2,
  "kernelspec": {
   "name": "python3610jvsc74a57bd0a7795a94fcb98f890ecfbefedba6c51e1f5a02e9905bd71b2049174ccd39ef45",
   "display_name": "Python 3.6.10 64-bit ('PythonData': conda)"
  }
 },
 "nbformat": 4,
 "nbformat_minor": 2,
 "cells": [
  {
   "cell_type": "code",
   "execution_count": 1,
   "metadata": {},
   "outputs": [
    {
     "output_type": "stream",
     "name": "stdout",
     "text": [
      "Requirement already satisfied: sklearn in c:\\users\\mille\\anaconda3\\envs\\pythondata\\lib\\site-packages (0.0)\n",
      "Requirement already satisfied: scikit-learn in c:\\users\\mille\\anaconda3\\envs\\pythondata\\lib\\site-packages (from sklearn) (0.23.1)\n",
      "Requirement already satisfied: numpy>=1.13.3 in c:\\users\\mille\\anaconda3\\envs\\pythondata\\lib\\site-packages (from scikit-learn->sklearn) (1.19.5)\n",
      "Requirement already satisfied: scipy>=0.19.1 in c:\\users\\mille\\anaconda3\\envs\\pythondata\\lib\\site-packages (from scikit-learn->sklearn) (1.5.0)\n",
      "Requirement already satisfied: joblib>=0.11 in c:\\users\\mille\\anaconda3\\envs\\pythondata\\lib\\site-packages (from scikit-learn->sklearn) (0.16.0)\n",
      "Requirement already satisfied: threadpoolctl>=2.0.0 in c:\\users\\mille\\anaconda3\\envs\\pythondata\\lib\\site-packages (from scikit-learn->sklearn) (2.1.0)\n",
      "WARNING: Ignoring invalid distribution -umpy (c:\\users\\mille\\anaconda3\\envs\\pythondata\\lib\\site-packages)\n",
      "WARNING: Ignoring invalid distribution -umpy (c:\\users\\mille\\anaconda3\\envs\\pythondata\\lib\\site-packages)\n",
      "WARNING: Ignoring invalid distribution -umpy (c:\\users\\mille\\anaconda3\\envs\\pythondata\\lib\\site-packages)\n",
      "WARNING: Ignoring invalid distribution -umpy (c:\\users\\mille\\anaconda3\\envs\\pythondata\\lib\\site-packages)\n",
      "WARNING: Ignoring invalid distribution -umpy (c:\\users\\mille\\anaconda3\\envs\\pythondata\\lib\\site-packages)\n",
      "WARNING: Ignoring invalid distribution -umpy (c:\\users\\mille\\anaconda3\\envs\\pythondata\\lib\\site-packages)\n",
      "WARNING: You are using pip version 21.1.1; however, version 21.1.2 is available.\n",
      "You should consider upgrading via the 'c:\\users\\mille\\anaconda3\\envs\\pythondata\\python.exe -m pip install --upgrade pip' command.\n"
     ]
    }
   ],
   "source": [
    "# Update sklearn to prevent version mismatches\n",
    "!pip install sklearn --upgrade"
   ]
  },
  {
   "cell_type": "code",
   "execution_count": 2,
   "metadata": {},
   "outputs": [
    {
     "output_type": "stream",
     "name": "stdout",
     "text": [
      "Requirement already satisfied: joblib in c:\\users\\mille\\anaconda3\\envs\\pythondata\\lib\\site-packages (0.16.0)\n",
      "WARNING: Ignoring invalid distribution -umpy (c:\\users\\mille\\anaconda3\\envs\\pythondata\\lib\\site-packages)\n",
      "WARNING: Ignoring invalid distribution -umpy (c:\\users\\mille\\anaconda3\\envs\\pythondata\\lib\\site-packages)\n",
      "WARNING: Ignoring invalid distribution -umpy (c:\\users\\mille\\anaconda3\\envs\\pythondata\\lib\\site-packages)\n",
      "WARNING: Ignoring invalid distribution -umpy (c:\\users\\mille\\anaconda3\\envs\\pythondata\\lib\\site-packages)\n",
      "WARNING: Ignoring invalid distribution -umpy (c:\\users\\mille\\anaconda3\\envs\\pythondata\\lib\\site-packages)\n",
      "WARNING: Ignoring invalid distribution -umpy (c:\\users\\mille\\anaconda3\\envs\\pythondata\\lib\\site-packages)\n",
      "WARNING: You are using pip version 21.1.1; however, version 21.1.2 is available.\n",
      "You should consider upgrading via the 'c:\\users\\mille\\anaconda3\\envs\\pythondata\\python.exe -m pip install --upgrade pip' command.\n"
     ]
    }
   ],
   "source": [
    "# install joblib. This will be used to save your model. \n",
    "# Restart your kernel after installing \n",
    "!pip install joblib"
   ]
  },
  {
   "cell_type": "code",
   "execution_count": 1,
   "metadata": {},
   "outputs": [],
   "source": [
    "import pandas as pd"
   ]
  },
  {
   "source": [
    "## Read in the data"
   ],
   "cell_type": "markdown",
   "metadata": {}
  },
  {
   "cell_type": "code",
   "execution_count": 2,
   "metadata": {},
   "outputs": [
    {
     "output_type": "execute_result",
     "data": {
      "text/plain": [
       "   Unnamed: 0  Zip_Code  Year  Month  Sale_Price  Property_Tax  Rent_Price  \\\n",
       "0           1     32003  2019      2    270000.0          3778        1113   \n",
       "1           2     32003  2019      3    275000.0          3778        1113   \n",
       "2           3     32003  2019      4    264500.0          3778        1113   \n",
       "3           4     32003  2019      5    281000.0          3778        1113   \n",
       "4           5     32003  2019      6    275000.0          3778        1113   \n",
       "\n",
       "   Household_Income  Rent_Affordability  Total_Sales  ...  Average_Commute  \\\n",
       "0           94154.0            0.141853           41  ...               35   \n",
       "1           94154.0            0.141853           21  ...               35   \n",
       "2           94154.0            0.141853           42  ...               35   \n",
       "3           94154.0            0.141853           66  ...               35   \n",
       "4           94154.0            0.141853           43  ...               35   \n",
       "\n",
       "   Crime_Index  Loan_Amount  Loan_Term    Loan_R  Loan_Payment  \\\n",
       "0           28     216000.0      360.0  1.003642   1077.819242   \n",
       "1           28     220000.0      360.0  1.003554   1084.200547   \n",
       "2           28     211600.0      360.0  1.003452   1027.671397   \n",
       "3           28     224800.0      360.0  1.003393   1082.581718   \n",
       "4           28     220000.0      360.0  1.003169   1025.419293   \n",
       "\n",
       "   Home_Affordability  Last_Month_Price  Last_Month_Diff  Price_Change_1mo  \n",
       "0            0.137369          244950.0          25050.0                 1  \n",
       "1            0.138182          270000.0           5000.0                 1  \n",
       "2            0.130978          275000.0         -10500.0                 0  \n",
       "3            0.137976          264500.0          16500.0                 1  \n",
       "4            0.130690          281000.0          -6000.0                 0  \n",
       "\n",
       "[5 rows x 30 columns]"
      ],
      "text/html": "<div>\n<style scoped>\n    .dataframe tbody tr th:only-of-type {\n        vertical-align: middle;\n    }\n\n    .dataframe tbody tr th {\n        vertical-align: top;\n    }\n\n    .dataframe thead th {\n        text-align: right;\n    }\n</style>\n<table border=\"1\" class=\"dataframe\">\n  <thead>\n    <tr style=\"text-align: right;\">\n      <th></th>\n      <th>Unnamed: 0</th>\n      <th>Zip_Code</th>\n      <th>Year</th>\n      <th>Month</th>\n      <th>Sale_Price</th>\n      <th>Property_Tax</th>\n      <th>Rent_Price</th>\n      <th>Household_Income</th>\n      <th>Rent_Affordability</th>\n      <th>Total_Sales</th>\n      <th>...</th>\n      <th>Average_Commute</th>\n      <th>Crime_Index</th>\n      <th>Loan_Amount</th>\n      <th>Loan_Term</th>\n      <th>Loan_R</th>\n      <th>Loan_Payment</th>\n      <th>Home_Affordability</th>\n      <th>Last_Month_Price</th>\n      <th>Last_Month_Diff</th>\n      <th>Price_Change_1mo</th>\n    </tr>\n  </thead>\n  <tbody>\n    <tr>\n      <th>0</th>\n      <td>1</td>\n      <td>32003</td>\n      <td>2019</td>\n      <td>2</td>\n      <td>270000.0</td>\n      <td>3778</td>\n      <td>1113</td>\n      <td>94154.0</td>\n      <td>0.141853</td>\n      <td>41</td>\n      <td>...</td>\n      <td>35</td>\n      <td>28</td>\n      <td>216000.0</td>\n      <td>360.0</td>\n      <td>1.003642</td>\n      <td>1077.819242</td>\n      <td>0.137369</td>\n      <td>244950.0</td>\n      <td>25050.0</td>\n      <td>1</td>\n    </tr>\n    <tr>\n      <th>1</th>\n      <td>2</td>\n      <td>32003</td>\n      <td>2019</td>\n      <td>3</td>\n      <td>275000.0</td>\n      <td>3778</td>\n      <td>1113</td>\n      <td>94154.0</td>\n      <td>0.141853</td>\n      <td>21</td>\n      <td>...</td>\n      <td>35</td>\n      <td>28</td>\n      <td>220000.0</td>\n      <td>360.0</td>\n      <td>1.003554</td>\n      <td>1084.200547</td>\n      <td>0.138182</td>\n      <td>270000.0</td>\n      <td>5000.0</td>\n      <td>1</td>\n    </tr>\n    <tr>\n      <th>2</th>\n      <td>3</td>\n      <td>32003</td>\n      <td>2019</td>\n      <td>4</td>\n      <td>264500.0</td>\n      <td>3778</td>\n      <td>1113</td>\n      <td>94154.0</td>\n      <td>0.141853</td>\n      <td>42</td>\n      <td>...</td>\n      <td>35</td>\n      <td>28</td>\n      <td>211600.0</td>\n      <td>360.0</td>\n      <td>1.003452</td>\n      <td>1027.671397</td>\n      <td>0.130978</td>\n      <td>275000.0</td>\n      <td>-10500.0</td>\n      <td>0</td>\n    </tr>\n    <tr>\n      <th>3</th>\n      <td>4</td>\n      <td>32003</td>\n      <td>2019</td>\n      <td>5</td>\n      <td>281000.0</td>\n      <td>3778</td>\n      <td>1113</td>\n      <td>94154.0</td>\n      <td>0.141853</td>\n      <td>66</td>\n      <td>...</td>\n      <td>35</td>\n      <td>28</td>\n      <td>224800.0</td>\n      <td>360.0</td>\n      <td>1.003393</td>\n      <td>1082.581718</td>\n      <td>0.137976</td>\n      <td>264500.0</td>\n      <td>16500.0</td>\n      <td>1</td>\n    </tr>\n    <tr>\n      <th>4</th>\n      <td>5</td>\n      <td>32003</td>\n      <td>2019</td>\n      <td>6</td>\n      <td>275000.0</td>\n      <td>3778</td>\n      <td>1113</td>\n      <td>94154.0</td>\n      <td>0.141853</td>\n      <td>43</td>\n      <td>...</td>\n      <td>35</td>\n      <td>28</td>\n      <td>220000.0</td>\n      <td>360.0</td>\n      <td>1.003169</td>\n      <td>1025.419293</td>\n      <td>0.130690</td>\n      <td>281000.0</td>\n      <td>-6000.0</td>\n      <td>0</td>\n    </tr>\n  </tbody>\n</table>\n<p>5 rows × 30 columns</p>\n</div>"
     },
     "metadata": {},
     "execution_count": 2
    }
   ],
   "source": [
    "df = pd.read_csv(\"big_set_data.csv\")\n",
    "df.head()"
   ]
  },
  {
   "cell_type": "code",
   "execution_count": 3,
   "metadata": {},
   "outputs": [],
   "source": [
    "df['Zip_Code'] = df['Zip_Code'].astype(str)"
   ]
  },
  {
   "cell_type": "code",
   "execution_count": 4,
   "metadata": {},
   "outputs": [
    {
     "output_type": "execute_result",
     "data": {
      "text/plain": [
       "         Unnamed: 0          Year         Month    Sale_Price  Property_Tax  \\\n",
       "count  20855.000000  20855.000000  20855.000000  2.085500e+04  20855.000000   \n",
       "mean   10905.583793   2019.522369      6.745720  2.403817e+05   2954.421961   \n",
       "std     6289.144300      0.499511      3.329097  1.454232e+05   2198.004325   \n",
       "min        1.000000   2019.000000      1.000000  2.500000e+04    345.000000   \n",
       "25%     5466.000000   2019.000000      4.000000  1.560500e+05   1643.000000   \n",
       "50%    10909.000000   2020.000000      7.000000  2.150000e+05   2449.000000   \n",
       "75%    16356.500000   2020.000000     10.000000  2.874750e+05   3565.000000   \n",
       "max    21763.000000   2020.000000     12.000000  4.700000e+06  31044.000000   \n",
       "\n",
       "         Rent_Price  Household_Income  Rent_Affordability   Total_Sales  \\\n",
       "count  20855.000000      20855.000000        20855.000000  20855.000000   \n",
       "mean    1207.070631      58603.951858            0.269328     43.719731   \n",
       "std      227.047691      20077.467222            0.093885     34.209730   \n",
       "min      734.000000      13375.000000            0.109051      1.000000   \n",
       "25%     1050.000000      44577.000000            0.209436     16.000000   \n",
       "50%     1271.000000      54362.000000            0.250272     38.000000   \n",
       "75%     1321.000000      68929.000000            0.309503     63.000000   \n",
       "max     1744.000000     170673.000000            0.955343    365.000000   \n",
       "\n",
       "          FHA_Count  ...  Average_Commute   Crime_Index   Loan_Amount  \\\n",
       "count  20855.000000  ...     20855.000000  20855.000000  2.085500e+04   \n",
       "mean       7.739343  ...        25.944618    271.290770  1.923054e+05   \n",
       "std       10.383717  ...         4.811509    309.238619  1.163386e+05   \n",
       "min        0.000000  ...         7.000000      5.000000  2.000000e+04   \n",
       "25%        1.000000  ...        22.000000    105.000000  1.248400e+05   \n",
       "50%        4.000000  ...        25.000000    174.000000  1.720000e+05   \n",
       "75%       10.000000  ...        29.000000    309.000000  2.299800e+05   \n",
       "max      130.000000  ...        58.000000   2888.000000  3.760000e+06   \n",
       "\n",
       "       Loan_Term        Loan_R  Loan_Payment  Home_Affordability  \\\n",
       "count    20855.0  20855.000000  20855.000000        20855.000000   \n",
       "mean       360.0      1.002901    859.357310            0.174372   \n",
       "std          0.0      0.000396    519.712721            0.078871   \n",
       "min        360.0      1.002237     83.621306            0.012912   \n",
       "25%        360.0      1.002513    561.087047            0.134708   \n",
       "50%        360.0      1.003004    769.349300            0.161944   \n",
       "75%        360.0      1.003138   1025.419293            0.195395   \n",
       "max        360.0      1.003720  18529.972980            2.600698   \n",
       "\n",
       "       Last_Month_Price  Last_Month_Diff  Price_Change_1mo  \n",
       "count      2.085500e+04     2.085500e+04      20855.000000  \n",
       "mean       2.377437e+05     2.638005e+03          0.507648  \n",
       "std        1.439671e+05     7.972409e+04          0.499953  \n",
       "min        2.500000e+04    -4.100000e+06          0.000000  \n",
       "25%        1.549000e+05    -1.800000e+04          0.000000  \n",
       "50%        2.130000e+05     9.430000e+02          1.000000  \n",
       "75%        2.850000e+05     2.295000e+04          1.000000  \n",
       "max        4.700000e+06     3.195000e+06          1.000000  \n",
       "\n",
       "[8 rows x 29 columns]"
      ],
      "text/html": "<div>\n<style scoped>\n    .dataframe tbody tr th:only-of-type {\n        vertical-align: middle;\n    }\n\n    .dataframe tbody tr th {\n        vertical-align: top;\n    }\n\n    .dataframe thead th {\n        text-align: right;\n    }\n</style>\n<table border=\"1\" class=\"dataframe\">\n  <thead>\n    <tr style=\"text-align: right;\">\n      <th></th>\n      <th>Unnamed: 0</th>\n      <th>Year</th>\n      <th>Month</th>\n      <th>Sale_Price</th>\n      <th>Property_Tax</th>\n      <th>Rent_Price</th>\n      <th>Household_Income</th>\n      <th>Rent_Affordability</th>\n      <th>Total_Sales</th>\n      <th>FHA_Count</th>\n      <th>...</th>\n      <th>Average_Commute</th>\n      <th>Crime_Index</th>\n      <th>Loan_Amount</th>\n      <th>Loan_Term</th>\n      <th>Loan_R</th>\n      <th>Loan_Payment</th>\n      <th>Home_Affordability</th>\n      <th>Last_Month_Price</th>\n      <th>Last_Month_Diff</th>\n      <th>Price_Change_1mo</th>\n    </tr>\n  </thead>\n  <tbody>\n    <tr>\n      <th>count</th>\n      <td>20855.000000</td>\n      <td>20855.000000</td>\n      <td>20855.000000</td>\n      <td>2.085500e+04</td>\n      <td>20855.000000</td>\n      <td>20855.000000</td>\n      <td>20855.000000</td>\n      <td>20855.000000</td>\n      <td>20855.000000</td>\n      <td>20855.000000</td>\n      <td>...</td>\n      <td>20855.000000</td>\n      <td>20855.000000</td>\n      <td>2.085500e+04</td>\n      <td>20855.0</td>\n      <td>20855.000000</td>\n      <td>20855.000000</td>\n      <td>20855.000000</td>\n      <td>2.085500e+04</td>\n      <td>2.085500e+04</td>\n      <td>20855.000000</td>\n    </tr>\n    <tr>\n      <th>mean</th>\n      <td>10905.583793</td>\n      <td>2019.522369</td>\n      <td>6.745720</td>\n      <td>2.403817e+05</td>\n      <td>2954.421961</td>\n      <td>1207.070631</td>\n      <td>58603.951858</td>\n      <td>0.269328</td>\n      <td>43.719731</td>\n      <td>7.739343</td>\n      <td>...</td>\n      <td>25.944618</td>\n      <td>271.290770</td>\n      <td>1.923054e+05</td>\n      <td>360.0</td>\n      <td>1.002901</td>\n      <td>859.357310</td>\n      <td>0.174372</td>\n      <td>2.377437e+05</td>\n      <td>2.638005e+03</td>\n      <td>0.507648</td>\n    </tr>\n    <tr>\n      <th>std</th>\n      <td>6289.144300</td>\n      <td>0.499511</td>\n      <td>3.329097</td>\n      <td>1.454232e+05</td>\n      <td>2198.004325</td>\n      <td>227.047691</td>\n      <td>20077.467222</td>\n      <td>0.093885</td>\n      <td>34.209730</td>\n      <td>10.383717</td>\n      <td>...</td>\n      <td>4.811509</td>\n      <td>309.238619</td>\n      <td>1.163386e+05</td>\n      <td>0.0</td>\n      <td>0.000396</td>\n      <td>519.712721</td>\n      <td>0.078871</td>\n      <td>1.439671e+05</td>\n      <td>7.972409e+04</td>\n      <td>0.499953</td>\n    </tr>\n    <tr>\n      <th>min</th>\n      <td>1.000000</td>\n      <td>2019.000000</td>\n      <td>1.000000</td>\n      <td>2.500000e+04</td>\n      <td>345.000000</td>\n      <td>734.000000</td>\n      <td>13375.000000</td>\n      <td>0.109051</td>\n      <td>1.000000</td>\n      <td>0.000000</td>\n      <td>...</td>\n      <td>7.000000</td>\n      <td>5.000000</td>\n      <td>2.000000e+04</td>\n      <td>360.0</td>\n      <td>1.002237</td>\n      <td>83.621306</td>\n      <td>0.012912</td>\n      <td>2.500000e+04</td>\n      <td>-4.100000e+06</td>\n      <td>0.000000</td>\n    </tr>\n    <tr>\n      <th>25%</th>\n      <td>5466.000000</td>\n      <td>2019.000000</td>\n      <td>4.000000</td>\n      <td>1.560500e+05</td>\n      <td>1643.000000</td>\n      <td>1050.000000</td>\n      <td>44577.000000</td>\n      <td>0.209436</td>\n      <td>16.000000</td>\n      <td>1.000000</td>\n      <td>...</td>\n      <td>22.000000</td>\n      <td>105.000000</td>\n      <td>1.248400e+05</td>\n      <td>360.0</td>\n      <td>1.002513</td>\n      <td>561.087047</td>\n      <td>0.134708</td>\n      <td>1.549000e+05</td>\n      <td>-1.800000e+04</td>\n      <td>0.000000</td>\n    </tr>\n    <tr>\n      <th>50%</th>\n      <td>10909.000000</td>\n      <td>2020.000000</td>\n      <td>7.000000</td>\n      <td>2.150000e+05</td>\n      <td>2449.000000</td>\n      <td>1271.000000</td>\n      <td>54362.000000</td>\n      <td>0.250272</td>\n      <td>38.000000</td>\n      <td>4.000000</td>\n      <td>...</td>\n      <td>25.000000</td>\n      <td>174.000000</td>\n      <td>1.720000e+05</td>\n      <td>360.0</td>\n      <td>1.003004</td>\n      <td>769.349300</td>\n      <td>0.161944</td>\n      <td>2.130000e+05</td>\n      <td>9.430000e+02</td>\n      <td>1.000000</td>\n    </tr>\n    <tr>\n      <th>75%</th>\n      <td>16356.500000</td>\n      <td>2020.000000</td>\n      <td>10.000000</td>\n      <td>2.874750e+05</td>\n      <td>3565.000000</td>\n      <td>1321.000000</td>\n      <td>68929.000000</td>\n      <td>0.309503</td>\n      <td>63.000000</td>\n      <td>10.000000</td>\n      <td>...</td>\n      <td>29.000000</td>\n      <td>309.000000</td>\n      <td>2.299800e+05</td>\n      <td>360.0</td>\n      <td>1.003138</td>\n      <td>1025.419293</td>\n      <td>0.195395</td>\n      <td>2.850000e+05</td>\n      <td>2.295000e+04</td>\n      <td>1.000000</td>\n    </tr>\n    <tr>\n      <th>max</th>\n      <td>21763.000000</td>\n      <td>2020.000000</td>\n      <td>12.000000</td>\n      <td>4.700000e+06</td>\n      <td>31044.000000</td>\n      <td>1744.000000</td>\n      <td>170673.000000</td>\n      <td>0.955343</td>\n      <td>365.000000</td>\n      <td>130.000000</td>\n      <td>...</td>\n      <td>58.000000</td>\n      <td>2888.000000</td>\n      <td>3.760000e+06</td>\n      <td>360.0</td>\n      <td>1.003720</td>\n      <td>18529.972980</td>\n      <td>2.600698</td>\n      <td>4.700000e+06</td>\n      <td>3.195000e+06</td>\n      <td>1.000000</td>\n    </tr>\n  </tbody>\n</table>\n<p>8 rows × 29 columns</p>\n</div>"
     },
     "metadata": {},
     "execution_count": 4
    }
   ],
   "source": [
    "## Select features\n",
    "df.describe()"
   ]
  },
  {
   "cell_type": "code",
   "execution_count": 5,
   "metadata": {},
   "outputs": [
    {
     "output_type": "execute_result",
     "data": {
      "text/plain": [
       "  Zip_Code  Year  Month  Total_Sales  FHA_Count  Home_Affordability  \\\n",
       "0    32003  2019      2           41          2            0.137369   \n",
       "1    32003  2019      3           21          7            0.138182   \n",
       "2    32003  2019      4           42          3            0.130978   \n",
       "3    32003  2019      5           66          8            0.137976   \n",
       "4    32003  2019      6           43          3            0.130690   \n",
       "\n",
       "   Rent_Affordability  Sale_Price  \n",
       "0            0.141853    270000.0  \n",
       "1            0.141853    275000.0  \n",
       "2            0.141853    264500.0  \n",
       "3            0.141853    281000.0  \n",
       "4            0.141853    275000.0  "
      ],
      "text/html": "<div>\n<style scoped>\n    .dataframe tbody tr th:only-of-type {\n        vertical-align: middle;\n    }\n\n    .dataframe tbody tr th {\n        vertical-align: top;\n    }\n\n    .dataframe thead th {\n        text-align: right;\n    }\n</style>\n<table border=\"1\" class=\"dataframe\">\n  <thead>\n    <tr style=\"text-align: right;\">\n      <th></th>\n      <th>Zip_Code</th>\n      <th>Year</th>\n      <th>Month</th>\n      <th>Total_Sales</th>\n      <th>FHA_Count</th>\n      <th>Home_Affordability</th>\n      <th>Rent_Affordability</th>\n      <th>Sale_Price</th>\n    </tr>\n  </thead>\n  <tbody>\n    <tr>\n      <th>0</th>\n      <td>32003</td>\n      <td>2019</td>\n      <td>2</td>\n      <td>41</td>\n      <td>2</td>\n      <td>0.137369</td>\n      <td>0.141853</td>\n      <td>270000.0</td>\n    </tr>\n    <tr>\n      <th>1</th>\n      <td>32003</td>\n      <td>2019</td>\n      <td>3</td>\n      <td>21</td>\n      <td>7</td>\n      <td>0.138182</td>\n      <td>0.141853</td>\n      <td>275000.0</td>\n    </tr>\n    <tr>\n      <th>2</th>\n      <td>32003</td>\n      <td>2019</td>\n      <td>4</td>\n      <td>42</td>\n      <td>3</td>\n      <td>0.130978</td>\n      <td>0.141853</td>\n      <td>264500.0</td>\n    </tr>\n    <tr>\n      <th>3</th>\n      <td>32003</td>\n      <td>2019</td>\n      <td>5</td>\n      <td>66</td>\n      <td>8</td>\n      <td>0.137976</td>\n      <td>0.141853</td>\n      <td>281000.0</td>\n    </tr>\n    <tr>\n      <th>4</th>\n      <td>32003</td>\n      <td>2019</td>\n      <td>6</td>\n      <td>43</td>\n      <td>3</td>\n      <td>0.130690</td>\n      <td>0.141853</td>\n      <td>275000.0</td>\n    </tr>\n  </tbody>\n</table>\n</div>"
     },
     "metadata": {},
     "execution_count": 5
    }
   ],
   "source": [
    "# Set features. \n",
    "X = df[['Zip_Code', 'Year', 'Month', 'Total_Sales', 'FHA_Count', \n",
    "'Home_Affordability', 'Rent_Affordability', 'Sale_Price' ]]\n",
    "X.head()"
   ]
  },
  {
   "cell_type": "code",
   "execution_count": 6,
   "metadata": {},
   "outputs": [],
   "source": [
    "#Set Y values as categorical\n",
    "y=pd.get_dummies(df[\"Price_Change_1mo\"])\n",
    "y\n",
    "target_names = [\"COOL MONTH\", \"HOT MONTH\"]"
   ]
  },
  {
   "cell_type": "code",
   "execution_count": 7,
   "metadata": {},
   "outputs": [
    {
     "output_type": "stream",
     "name": "stdout",
     "text": [
      "(20855, 8) (20855, 2)\n"
     ]
    }
   ],
   "source": [
    "#Check shapes to make sure they align. y.shape \n",
    "print(X.shape, y.shape)"
   ]
  },
  {
   "cell_type": "code",
   "execution_count": 8,
   "metadata": {},
   "outputs": [
    {
     "output_type": "execute_result",
     "data": {
      "text/plain": [
       "   0  1\n",
       "0  0  1\n",
       "1  0  1\n",
       "2  1  0\n",
       "3  0  1\n",
       "4  1  0"
      ],
      "text/html": "<div>\n<style scoped>\n    .dataframe tbody tr th:only-of-type {\n        vertical-align: middle;\n    }\n\n    .dataframe tbody tr th {\n        vertical-align: top;\n    }\n\n    .dataframe thead th {\n        text-align: right;\n    }\n</style>\n<table border=\"1\" class=\"dataframe\">\n  <thead>\n    <tr style=\"text-align: right;\">\n      <th></th>\n      <th>0</th>\n      <th>1</th>\n    </tr>\n  </thead>\n  <tbody>\n    <tr>\n      <th>0</th>\n      <td>0</td>\n      <td>1</td>\n    </tr>\n    <tr>\n      <th>1</th>\n      <td>0</td>\n      <td>1</td>\n    </tr>\n    <tr>\n      <th>2</th>\n      <td>1</td>\n      <td>0</td>\n    </tr>\n    <tr>\n      <th>3</th>\n      <td>0</td>\n      <td>1</td>\n    </tr>\n    <tr>\n      <th>4</th>\n      <td>1</td>\n      <td>0</td>\n    </tr>\n  </tbody>\n</table>\n</div>"
     },
     "metadata": {},
     "execution_count": 8
    }
   ],
   "source": [
    "y.head()"
   ]
  },
  {
   "cell_type": "code",
   "execution_count": 9,
   "metadata": {},
   "outputs": [],
   "source": [
    "# Create a Train Test Split\n",
    "\n",
    "# PROPER COLUMN NAME FOR for the y values -- CREATE A 'BUY' COLUMN BASED ON ABOVE CATEGORIZATION\n",
    "\n",
    "from sklearn.model_selection import train_test_split\n",
    "X_train, X_test, y_train, y_test = train_test_split(X, y[1]) #IF Y WAS 2 COLS, ELSE, JUST Y"
   ]
  },
  {
   "cell_type": "code",
   "execution_count": 10,
   "metadata": {},
   "outputs": [
    {
     "output_type": "execute_result",
     "data": {
      "text/plain": [
       "      Zip_Code  Year  Month  Total_Sales  FHA_Count  Home_Affordability  \\\n",
       "7436     32962  2020      9           42         16            0.132774   \n",
       "12334    33563  2020      8           37         12            0.133639   \n",
       "3163     32413  2019      6          108          5            0.218683   \n",
       "11357    33460  2019     11           55          5            0.208547   \n",
       "2450     32308  2019      9           32          5            0.147345   \n",
       "\n",
       "       Rent_Affordability  Sale_Price  \n",
       "7436             0.260191    162500.0  \n",
       "12334            0.327620    155000.0  \n",
       "3163             0.194567    327950.0  \n",
       "11357            0.416169    199900.0  \n",
       "2450             0.186326    222500.0  "
      ],
      "text/html": "<div>\n<style scoped>\n    .dataframe tbody tr th:only-of-type {\n        vertical-align: middle;\n    }\n\n    .dataframe tbody tr th {\n        vertical-align: top;\n    }\n\n    .dataframe thead th {\n        text-align: right;\n    }\n</style>\n<table border=\"1\" class=\"dataframe\">\n  <thead>\n    <tr style=\"text-align: right;\">\n      <th></th>\n      <th>Zip_Code</th>\n      <th>Year</th>\n      <th>Month</th>\n      <th>Total_Sales</th>\n      <th>FHA_Count</th>\n      <th>Home_Affordability</th>\n      <th>Rent_Affordability</th>\n      <th>Sale_Price</th>\n    </tr>\n  </thead>\n  <tbody>\n    <tr>\n      <th>7436</th>\n      <td>32962</td>\n      <td>2020</td>\n      <td>9</td>\n      <td>42</td>\n      <td>16</td>\n      <td>0.132774</td>\n      <td>0.260191</td>\n      <td>162500.0</td>\n    </tr>\n    <tr>\n      <th>12334</th>\n      <td>33563</td>\n      <td>2020</td>\n      <td>8</td>\n      <td>37</td>\n      <td>12</td>\n      <td>0.133639</td>\n      <td>0.327620</td>\n      <td>155000.0</td>\n    </tr>\n    <tr>\n      <th>3163</th>\n      <td>32413</td>\n      <td>2019</td>\n      <td>6</td>\n      <td>108</td>\n      <td>5</td>\n      <td>0.218683</td>\n      <td>0.194567</td>\n      <td>327950.0</td>\n    </tr>\n    <tr>\n      <th>11357</th>\n      <td>33460</td>\n      <td>2019</td>\n      <td>11</td>\n      <td>55</td>\n      <td>5</td>\n      <td>0.208547</td>\n      <td>0.416169</td>\n      <td>199900.0</td>\n    </tr>\n    <tr>\n      <th>2450</th>\n      <td>32308</td>\n      <td>2019</td>\n      <td>9</td>\n      <td>32</td>\n      <td>5</td>\n      <td>0.147345</td>\n      <td>0.186326</td>\n      <td>222500.0</td>\n    </tr>\n  </tbody>\n</table>\n</div>"
     },
     "metadata": {},
     "execution_count": 10
    }
   ],
   "source": [
    "X_train.head()"
   ]
  },
  {
   "cell_type": "code",
   "execution_count": null,
   "metadata": {},
   "outputs": [],
   "source": [
    "## Pre-processing"
   ]
  },
  {
   "cell_type": "code",
   "execution_count": 11,
   "metadata": {},
   "outputs": [],
   "source": [
    "# Scale the data\n",
    "from numpy import asarray\n",
    "from sklearn.preprocessing import MinMaxScaler"
   ]
  },
  {
   "cell_type": "code",
   "execution_count": 12,
   "metadata": {},
   "outputs": [],
   "source": [
    "X_scaler = MinMaxScaler().fit(X_train)\n",
    "X_train_scaled = X_scaler.transform(X_train)\n",
    "X_test_scaled = X_scaler.transform(X_test)"
   ]
  },
  {
   "cell_type": "code",
   "execution_count": null,
   "metadata": {},
   "outputs": [],
   "source": [
    "## Train the Model"
   ]
  },
  {
   "cell_type": "code",
   "execution_count": 13,
   "metadata": {},
   "outputs": [
    {
     "output_type": "execute_result",
     "data": {
      "text/plain": [
       "SVC(kernel='linear')"
      ]
     },
     "metadata": {},
     "execution_count": 13
    }
   ],
   "source": [
    "from sklearn.svm import SVC \n",
    "model = SVC(kernel='linear')\n",
    "model.fit(X_train_scaled, y_train)"
   ]
  },
  {
   "cell_type": "code",
   "execution_count": 14,
   "metadata": {},
   "outputs": [
    {
     "output_type": "stream",
     "name": "stdout",
     "text": [
      "Test Acc: 0.581\n"
     ]
    }
   ],
   "source": [
    "# Model Accuracy\n",
    "print('Test Acc: %.3f' % model.score(X_test_scaled, y_test))"
   ]
  },
  {
   "cell_type": "code",
   "execution_count": 15,
   "metadata": {},
   "outputs": [
    {
     "output_type": "stream",
     "name": "stdout",
     "text": [
      "              precision    recall  f1-score   support\n",
      "\n",
      "  COOL MONTH       0.00      0.00      0.00      2584\n",
      "   HOT MONTH       0.50      1.00      0.67      2630\n",
      "\n",
      "    accuracy                           0.50      5214\n",
      "   macro avg       0.25      0.50      0.34      5214\n",
      "weighted avg       0.25      0.50      0.34      5214\n",
      "\n",
      "C:\\Users\\mille\\Anaconda3\\envs\\PythonData\\lib\\site-packages\\sklearn\\metrics\\_classification.py:1221: UndefinedMetricWarning: Precision and F-score are ill-defined and being set to 0.0 in labels with no predicted samples. Use `zero_division` parameter to control this behavior.\n",
      "  _warn_prf(average, modifier, msg_start, len(result))\n"
     ]
    }
   ],
   "source": [
    "# Calculate classification report\n",
    "from sklearn.metrics import classification_report\n",
    "predictions = model.predict(X_test)\n",
    "print(classification_report(y_test, predictions,\n",
    "                            target_names=target_names))"
   ]
  },
  {
   "cell_type": "code",
   "execution_count": null,
   "metadata": {},
   "outputs": [],
   "source": [
    "## Hyperparameter Tuning\n",
    "\n",
    "Use `GridSearchCV` to tune the model's parameters"
   ]
  },
  {
   "cell_type": "code",
   "execution_count": 16,
   "metadata": {},
   "outputs": [
    {
     "output_type": "execute_result",
     "data": {
      "text/plain": [
       "dict_keys(['C', 'break_ties', 'cache_size', 'class_weight', 'coef0', 'decision_function_shape', 'degree', 'gamma', 'kernel', 'max_iter', 'probability', 'random_state', 'shrinking', 'tol', 'verbose'])"
      ]
     },
     "metadata": {},
     "execution_count": 16
    }
   ],
   "source": [
    "model.get_params().keys()"
   ]
  },
  {
   "cell_type": "code",
   "execution_count": 17,
   "metadata": {},
   "outputs": [],
   "source": [
    "# Create the GridSearchCV model\n",
    "from sklearn.model_selection import GridSearchCV\n",
    "param_grid = {'C': [1, 5, 10, 50],\n",
    "              'gamma': [0.0001, 0.0005, 0.001, 0.005]}\n",
    "grid = GridSearchCV(model, param_grid, verbose=3)"
   ]
  },
  {
   "cell_type": "code",
   "execution_count": 18,
   "metadata": {},
   "outputs": [
    {
     "output_type": "stream",
     "name": "stdout",
     "text": [
      "Fitting 5 folds for each of 16 candidates, totalling 80 fits\n",
      "[CV] C=1, gamma=0.0001 ...............................................\n",
      "[Parallel(n_jobs=1)]: Using backend SequentialBackend with 1 concurrent workers.\n",
      "[CV] ................... C=1, gamma=0.0001, score=0.573, total=  13.8s\n",
      "[CV] C=1, gamma=0.0001 ...............................................\n",
      "[Parallel(n_jobs=1)]: Done   1 out of   1 | elapsed:   13.7s remaining:    0.0s\n",
      "[CV] ................... C=1, gamma=0.0001, score=0.581, total=  14.7s\n",
      "[CV] C=1, gamma=0.0001 ...............................................\n",
      "[Parallel(n_jobs=1)]: Done   2 out of   2 | elapsed:   28.4s remaining:    0.0s\n",
      "[CV] ................... C=1, gamma=0.0001, score=0.578, total=  13.5s\n",
      "[CV] C=1, gamma=0.0001 ...............................................\n",
      "[CV] ................... C=1, gamma=0.0001, score=0.574, total=  10.5s\n",
      "[CV] C=1, gamma=0.0001 ...............................................\n",
      "[CV] ................... C=1, gamma=0.0001, score=0.580, total=  10.0s\n",
      "[CV] C=1, gamma=0.0005 ...............................................\n",
      "[CV] ................... C=1, gamma=0.0005, score=0.573, total=  14.0s\n",
      "[CV] C=1, gamma=0.0005 ...............................................\n",
      "[CV] ................... C=1, gamma=0.0005, score=0.581, total=  13.3s\n",
      "[CV] C=1, gamma=0.0005 ...............................................\n",
      "[CV] ................... C=1, gamma=0.0005, score=0.578, total=   7.8s\n",
      "[CV] C=1, gamma=0.0005 ...............................................\n",
      "[CV] ................... C=1, gamma=0.0005, score=0.574, total=   6.5s\n",
      "[CV] C=1, gamma=0.0005 ...............................................\n",
      "[CV] ................... C=1, gamma=0.0005, score=0.580, total=   6.0s\n",
      "[CV] C=1, gamma=0.001 ................................................\n",
      "[CV] .................... C=1, gamma=0.001, score=0.573, total=  11.6s\n",
      "[CV] C=1, gamma=0.001 ................................................\n",
      "[CV] .................... C=1, gamma=0.001, score=0.581, total=   7.8s\n",
      "[CV] C=1, gamma=0.001 ................................................\n",
      "[CV] .................... C=1, gamma=0.001, score=0.578, total=   6.1s\n",
      "[CV] C=1, gamma=0.001 ................................................\n",
      "[CV] .................... C=1, gamma=0.001, score=0.574, total=   6.5s\n",
      "[CV] C=1, gamma=0.001 ................................................\n",
      "[CV] .................... C=1, gamma=0.001, score=0.580, total=   6.1s\n",
      "[CV] C=1, gamma=0.005 ................................................\n",
      "[CV] .................... C=1, gamma=0.005, score=0.573, total=   7.7s\n",
      "[CV] C=1, gamma=0.005 ................................................\n",
      "[CV] .................... C=1, gamma=0.005, score=0.581, total=  11.4s\n",
      "[CV] C=1, gamma=0.005 ................................................\n",
      "[CV] .................... C=1, gamma=0.005, score=0.578, total=   7.7s\n",
      "[CV] C=1, gamma=0.005 ................................................\n",
      "[CV] .................... C=1, gamma=0.005, score=0.574, total=   6.8s\n",
      "[CV] C=1, gamma=0.005 ................................................\n",
      "[CV] .................... C=1, gamma=0.005, score=0.580, total=   6.5s\n",
      "[CV] C=5, gamma=0.0001 ...............................................\n",
      "[CV] ................... C=5, gamma=0.0001, score=0.585, total=   6.1s\n",
      "[CV] C=5, gamma=0.0001 ...............................................\n",
      "[CV] ................... C=5, gamma=0.0001, score=0.589, total=   6.9s\n",
      "[CV] C=5, gamma=0.0001 ...............................................\n",
      "[CV] ................... C=5, gamma=0.0001, score=0.594, total=   6.1s\n",
      "[CV] C=5, gamma=0.0001 ...............................................\n",
      "[CV] ................... C=5, gamma=0.0001, score=0.585, total=   7.4s\n",
      "[CV] C=5, gamma=0.0001 ...............................................\n",
      "[CV] ................... C=5, gamma=0.0001, score=0.594, total=   6.9s\n",
      "[CV] C=5, gamma=0.0005 ...............................................\n",
      "[CV] ................... C=5, gamma=0.0005, score=0.585, total=   6.0s\n",
      "[CV] C=5, gamma=0.0005 ...............................................\n",
      "[CV] ................... C=5, gamma=0.0005, score=0.589, total=   6.9s\n",
      "[CV] C=5, gamma=0.0005 ...............................................\n",
      "[CV] ................... C=5, gamma=0.0005, score=0.594, total=  10.9s\n",
      "[CV] C=5, gamma=0.0005 ...............................................\n",
      "[CV] ................... C=5, gamma=0.0005, score=0.585, total=  17.8s\n",
      "[CV] C=5, gamma=0.0005 ...............................................\n",
      "[CV] ................... C=5, gamma=0.0005, score=0.594, total=  17.8s\n",
      "[CV] C=5, gamma=0.001 ................................................\n",
      "[CV] .................... C=5, gamma=0.001, score=0.585, total=  17.9s\n",
      "[CV] C=5, gamma=0.001 ................................................\n",
      "[CV] .................... C=5, gamma=0.001, score=0.589, total=  17.5s\n",
      "[CV] C=5, gamma=0.001 ................................................\n",
      "[CV] .................... C=5, gamma=0.001, score=0.594, total=  20.4s\n",
      "[CV] C=5, gamma=0.001 ................................................\n",
      "[CV] .................... C=5, gamma=0.001, score=0.585, total=  13.5s\n",
      "[CV] C=5, gamma=0.001 ................................................\n",
      "[CV] .................... C=5, gamma=0.001, score=0.594, total=   8.0s\n",
      "[CV] C=5, gamma=0.005 ................................................\n",
      "[CV] .................... C=5, gamma=0.005, score=0.585, total=   7.9s\n",
      "[CV] C=5, gamma=0.005 ................................................\n",
      "[CV] .................... C=5, gamma=0.005, score=0.589, total=   7.8s\n",
      "[CV] C=5, gamma=0.005 ................................................\n",
      "[CV] .................... C=5, gamma=0.005, score=0.594, total=   7.8s\n",
      "[CV] C=5, gamma=0.005 ................................................\n",
      "[CV] .................... C=5, gamma=0.005, score=0.585, total=   7.8s\n",
      "[CV] C=5, gamma=0.005 ................................................\n",
      "[CV] .................... C=5, gamma=0.005, score=0.594, total=   7.5s\n",
      "[CV] C=10, gamma=0.0001 ..............................................\n",
      "[CV] .................. C=10, gamma=0.0001, score=0.589, total=   7.9s\n",
      "[CV] C=10, gamma=0.0001 ..............................................\n",
      "[CV] .................. C=10, gamma=0.0001, score=0.592, total=   8.0s\n",
      "[CV] C=10, gamma=0.0001 ..............................................\n",
      "[CV] .................. C=10, gamma=0.0001, score=0.598, total=   6.5s\n",
      "[CV] C=10, gamma=0.0001 ..............................................\n",
      "[CV] .................. C=10, gamma=0.0001, score=0.591, total=   6.6s\n",
      "[CV] C=10, gamma=0.0001 ..............................................\n",
      "[CV] .................. C=10, gamma=0.0001, score=0.601, total=   6.0s\n",
      "[CV] C=10, gamma=0.0005 ..............................................\n",
      "[CV] .................. C=10, gamma=0.0005, score=0.589, total=   6.1s\n",
      "[CV] C=10, gamma=0.0005 ..............................................\n",
      "[CV] .................. C=10, gamma=0.0005, score=0.592, total=   6.3s\n",
      "[CV] C=10, gamma=0.0005 ..............................................\n",
      "[CV] .................. C=10, gamma=0.0005, score=0.598, total=  10.4s\n",
      "[CV] C=10, gamma=0.0005 ..............................................\n",
      "[CV] .................. C=10, gamma=0.0005, score=0.591, total=  14.4s\n",
      "[CV] C=10, gamma=0.0005 ..............................................\n",
      "[CV] .................. C=10, gamma=0.0005, score=0.601, total=   9.0s\n",
      "[CV] C=10, gamma=0.001 ...............................................\n",
      "[CV] ................... C=10, gamma=0.001, score=0.589, total=  16.4s\n",
      "[CV] C=10, gamma=0.001 ...............................................\n",
      "[CV] ................... C=10, gamma=0.001, score=0.592, total=  16.4s\n",
      "[CV] C=10, gamma=0.001 ...............................................\n",
      "[CV] ................... C=10, gamma=0.001, score=0.598, total=  11.6s\n",
      "[CV] C=10, gamma=0.001 ...............................................\n",
      "[CV] ................... C=10, gamma=0.001, score=0.591, total=   9.7s\n",
      "[CV] C=10, gamma=0.001 ...............................................\n",
      "[CV] ................... C=10, gamma=0.001, score=0.601, total=  11.8s\n",
      "[CV] C=10, gamma=0.005 ...............................................\n",
      "[CV] ................... C=10, gamma=0.005, score=0.589, total=  10.6s\n",
      "[CV] C=10, gamma=0.005 ...............................................\n",
      "[CV] ................... C=10, gamma=0.005, score=0.592, total=   8.1s\n",
      "[CV] C=10, gamma=0.005 ...............................................\n",
      "[CV] ................... C=10, gamma=0.005, score=0.598, total=   9.7s\n",
      "[CV] C=10, gamma=0.005 ...............................................\n",
      "[CV] ................... C=10, gamma=0.005, score=0.591, total=  10.8s\n",
      "[CV] C=10, gamma=0.005 ...............................................\n",
      "[CV] ................... C=10, gamma=0.005, score=0.601, total=  16.8s\n",
      "[CV] C=50, gamma=0.0001 ..............................................\n",
      "[CV] .................. C=50, gamma=0.0001, score=0.589, total=  16.2s\n",
      "[CV] C=50, gamma=0.0001 ..............................................\n",
      "[CV] .................. C=50, gamma=0.0001, score=0.594, total=  17.2s\n",
      "[CV] C=50, gamma=0.0001 ..............................................\n",
      "[CV] .................. C=50, gamma=0.0001, score=0.603, total=  16.0s\n",
      "[CV] C=50, gamma=0.0001 ..............................................\n",
      "[CV] .................. C=50, gamma=0.0001, score=0.592, total=  12.9s\n",
      "[CV] C=50, gamma=0.0001 ..............................................\n",
      "[CV] .................. C=50, gamma=0.0001, score=0.599, total=  11.5s\n",
      "[CV] C=50, gamma=0.0005 ..............................................\n",
      "[CV] .................. C=50, gamma=0.0005, score=0.589, total=  13.2s\n",
      "[CV] C=50, gamma=0.0005 ..............................................\n",
      "[CV] .................. C=50, gamma=0.0005, score=0.594, total=  20.3s\n",
      "[CV] C=50, gamma=0.0005 ..............................................\n",
      "[CV] .................. C=50, gamma=0.0005, score=0.603, total=   9.7s\n",
      "[CV] C=50, gamma=0.0005 ..............................................\n",
      "[CV] .................. C=50, gamma=0.0005, score=0.592, total=   9.3s\n",
      "[CV] C=50, gamma=0.0005 ..............................................\n",
      "[CV] .................. C=50, gamma=0.0005, score=0.599, total=  10.7s\n",
      "[CV] C=50, gamma=0.001 ...............................................\n",
      "[CV] ................... C=50, gamma=0.001, score=0.589, total=   9.7s\n",
      "[CV] C=50, gamma=0.001 ...............................................\n",
      "[CV] ................... C=50, gamma=0.001, score=0.594, total=   8.5s\n",
      "[CV] C=50, gamma=0.001 ...............................................\n",
      "[CV] ................... C=50, gamma=0.001, score=0.603, total=   9.0s\n",
      "[CV] C=50, gamma=0.001 ...............................................\n",
      "[CV] ................... C=50, gamma=0.001, score=0.592, total=   9.1s\n",
      "[CV] C=50, gamma=0.001 ...............................................\n",
      "[CV] ................... C=50, gamma=0.001, score=0.599, total=   9.1s\n",
      "[CV] C=50, gamma=0.005 ...............................................\n",
      "[CV] ................... C=50, gamma=0.005, score=0.589, total=   8.3s\n",
      "[CV] C=50, gamma=0.005 ...............................................\n",
      "[CV] ................... C=50, gamma=0.005, score=0.594, total=   8.7s\n",
      "[CV] C=50, gamma=0.005 ...............................................\n",
      "[CV] ................... C=50, gamma=0.005, score=0.603, total=  10.5s\n",
      "[CV] C=50, gamma=0.005 ...............................................\n",
      "[CV] ................... C=50, gamma=0.005, score=0.592, total=   9.6s\n",
      "[CV] C=50, gamma=0.005 ...............................................\n",
      "[CV] ................... C=50, gamma=0.005, score=0.599, total=   9.6s\n",
      "[Parallel(n_jobs=1)]: Done  80 out of  80 | elapsed: 13.8min finished\n"
     ]
    },
    {
     "output_type": "execute_result",
     "data": {
      "text/plain": [
       "GridSearchCV(estimator=SVC(kernel='linear'),\n",
       "             param_grid={'C': [1, 5, 10, 50],\n",
       "                         'gamma': [0.0001, 0.0005, 0.001, 0.005]},\n",
       "             verbose=3)"
      ]
     },
     "metadata": {},
     "execution_count": 18
    }
   ],
   "source": [
    "grid.fit(X_train_scaled, y_train)"
   ]
  },
  {
   "cell_type": "code",
   "execution_count": 19,
   "metadata": {},
   "outputs": [
    {
     "output_type": "stream",
     "name": "stdout",
     "text": [
      "{'C': 50, 'gamma': 0.0001}\n0.5955505750593205\n"
     ]
    }
   ],
   "source": [
    "print(grid.best_params_)\n",
    "print(grid.best_score_)"
   ]
  },
  {
   "source": [
    "## Save the Model"
   ],
   "cell_type": "markdown",
   "metadata": {}
  },
  {
   "cell_type": "code",
   "execution_count": 20,
   "metadata": {},
   "outputs": [
    {
     "output_type": "execute_result",
     "data": {
      "text/plain": [
       "['SVM small model.sav']"
      ]
     },
     "metadata": {},
     "execution_count": 20
    }
   ],
   "source": [
    "import joblib\n",
    "filename = 'SVM small model.sav'\n",
    "joblib.dump(grid.best_score_, filename)"
   ]
  },
  {
   "cell_type": "code",
   "execution_count": null,
   "metadata": {},
   "outputs": [],
   "source": []
  }
 ]
}