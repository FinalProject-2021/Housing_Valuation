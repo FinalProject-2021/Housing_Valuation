{
 "metadata": {
  "language_info": {
   "codemirror_mode": {
    "name": "ipython",
    "version": 3
   },
   "file_extension": ".py",
   "mimetype": "text/x-python",
   "name": "python",
   "nbconvert_exporter": "python",
   "pygments_lexer": "ipython3",
   "version": "3.7.1"
  },
  "orig_nbformat": 2,
  "kernelspec": {
   "name": "python371jvsc74a57bd07dbb69f2fe16ee411a1d001fc5a919d66021ed1f9a71b5ac22cd67380668a935",
   "display_name": "Python 3.7.1 64-bit"
  }
 },
 "nbformat": 4,
 "nbformat_minor": 2,
 "cells": [
  {
   "cell_type": "code",
   "execution_count": 761,
   "metadata": {},
   "outputs": [
    {
     "output_type": "execute_result",
     "data": {
      "text/plain": [
       "'3.26.0'"
      ]
     },
     "metadata": {},
     "execution_count": 761
    }
   ],
   "source": [
    "# Required Modules\n",
    "import pandas as pd\n",
    "import sqlite3\n",
    "from sqlite3 import Error\n",
    "import os\n",
    "\n",
    "# Identify database path\n",
    "db_path = os.path.abspath('./sqlite.db')\n",
    "\n",
    "# Connect to SQLite Database\n",
    "conn = sqlite3.connect(db_path)\n",
    "cursor = conn.cursor()\n",
    "\n",
    "sqlite3.sqlite_version"
   ]
  },
  {
   "cell_type": "code",
   "execution_count": 762,
   "metadata": {},
   "outputs": [
    {
     "output_type": "execute_result",
     "data": {
      "text/plain": [
       "984"
      ]
     },
     "metadata": {},
     "execution_count": 762
    }
   ],
   "source": [
    "# FL Zip Codes from Census data for reference\n",
    "fl_census_path = os.path.abspath('Resources/ACSST5Y2019.S1901_data_with_overlays_2021-05-24T165952.csv')\n",
    "fl_census_df = pd.read_csv(fl_census_path, header=1)\n",
    "fl_codes = []\n",
    "\n",
    "for i,j in fl_census_df.iterrows():\n",
    "    fl_codes.append(j['Geographic Area Name'][6:11])\n",
    "\n",
    "fl_zipcodes = pd.DataFrame(fl_codes)\n",
    "fl_zipcodes = fl_zipcodes.rename(columns={0:'zipcode'})\n",
    "\n",
    "# Drop table if it exist\n",
    "cursor.execute(\"DROP TABLE IF EXISTS zipcode\")\n",
    "\n",
    "# Create table\n",
    "fl_zipcodes.to_sql('zipcode', conn, if_exists='replace', index=False)\n",
    "fl_zipcodes['zipcode'].nunique()"
   ]
  },
  {
   "cell_type": "code",
   "execution_count": 763,
   "metadata": {},
   "outputs": [
    {
     "output_type": "execute_result",
     "data": {
      "text/plain": [
       "962"
      ]
     },
     "metadata": {},
     "execution_count": 763
    }
   ],
   "source": [
    "# Sales data\n",
    "sales_path = os.path.abspath('Resources/Sales_Area_Data/Sales/final_sales_data.csv')\n",
    "sales_data_df = pd.read_csv(sales_path, header=0)\n",
    "sales_data_df = sales_data_df[['zipcode','year','month','total_sales','avg_sale_price','med_sale_price','mortgage_rate']]\n",
    "\n",
    "# Drop table if it exist\n",
    "cursor.execute(\"DROP TABLE IF EXISTS sales\")\n",
    "\n",
    "# Create table\n",
    "sales_data_df.to_sql('sales', conn, if_exists='replace', index=False)\n",
    "sales_data_df['zipcode'].nunique()"
   ]
  },
  {
   "cell_type": "code",
   "execution_count": 764,
   "metadata": {},
   "outputs": [
    {
     "output_type": "execute_result",
     "data": {
      "text/plain": [
       "949"
      ]
     },
     "metadata": {},
     "execution_count": 764
    }
   ],
   "source": [
    "# Sales data\n",
    "area_path = os.path.abspath('Resources/Sales_Area_Data/Area/final_area_data.csv')\n",
    "area_data_df = pd.read_csv(area_path, header=0)\n",
    "area_data_df = area_data_df[['zipcode','property_tax','owner_occupied','renter_occupied','total_vacant','total_dwellings','studio_rent','one_bed_rent','two_bed_rent','three_bed_rent','four_bed_rent','fte_employed','unemployed','average_income','projected_income','expense_index','average_commute','crime_index']]\n",
    "area_data_df.head()\n",
    "\n",
    "# Drop table if it exist\n",
    "cursor.execute(\"DROP TABLE IF EXISTS area\")\n",
    "\n",
    "# Create table\n",
    "area_data_df.to_sql('area', conn, if_exists='replace', index=False)\n",
    "area_data_df['zipcode'].nunique()"
   ]
  },
  {
   "cell_type": "code",
   "execution_count": 765,
   "metadata": {},
   "outputs": [
    {
     "output_type": "execute_result",
     "data": {
      "text/plain": [
       "               name\n",
       "0          mobility\n",
       "1  household_income\n",
       "2     mobility_slim\n",
       "3            grades\n",
       "4         fha_loans\n",
       "5           zipcode\n",
       "6             sales\n",
       "7              area"
      ],
      "text/html": "<div>\n<style scoped>\n    .dataframe tbody tr th:only-of-type {\n        vertical-align: middle;\n    }\n\n    .dataframe tbody tr th {\n        vertical-align: top;\n    }\n\n    .dataframe thead th {\n        text-align: right;\n    }\n</style>\n<table border=\"1\" class=\"dataframe\">\n  <thead>\n    <tr style=\"text-align: right;\">\n      <th></th>\n      <th>name</th>\n    </tr>\n  </thead>\n  <tbody>\n    <tr>\n      <th>0</th>\n      <td>mobility</td>\n    </tr>\n    <tr>\n      <th>1</th>\n      <td>household_income</td>\n    </tr>\n    <tr>\n      <th>2</th>\n      <td>mobility_slim</td>\n    </tr>\n    <tr>\n      <th>3</th>\n      <td>grades</td>\n    </tr>\n    <tr>\n      <th>4</th>\n      <td>fha_loans</td>\n    </tr>\n    <tr>\n      <th>5</th>\n      <td>zipcode</td>\n    </tr>\n    <tr>\n      <th>6</th>\n      <td>sales</td>\n    </tr>\n    <tr>\n      <th>7</th>\n      <td>area</td>\n    </tr>\n  </tbody>\n</table>\n</div>"
     },
     "metadata": {},
     "execution_count": 765
    }
   ],
   "source": [
    "tables_ls = pd.read_sql(\"SELECT name FROM sqlite_master WHERE type='table'\", conn)\n",
    "tables_ls"
   ]
  },
  {
   "cell_type": "code",
   "execution_count": 766,
   "metadata": {},
   "outputs": [
    {
     "output_type": "execute_result",
     "data": {
      "text/plain": [
       "  Zip_Code        Date  Year  Month  Sale_Price  Interest_Rate  Property_Tax  \\\n",
       "0    32003  2019-01-01  2019      1    244950.0         4.4640          3778   \n",
       "1    32003  2019-02-01  2019      2    270000.0         4.3700          3778   \n",
       "2    32003  2019-03-01  2019      3    275000.0         4.2650          3778   \n",
       "3    32003  2019-04-01  2019      4    264500.0         4.1425          3778   \n",
       "4    32003  2019-05-01  2019      5    281000.0         4.0720          3778   \n",
       "\n",
       "   Rent_Price  Household_Income  Rent_Affordability     ...       \\\n",
       "0        1113           94154.0            0.141853     ...        \n",
       "1        1113           94154.0            0.141853     ...        \n",
       "2        1113           94154.0            0.141853     ...        \n",
       "3        1113           94154.0            0.141853     ...        \n",
       "4        1113           94154.0            0.141853     ...        \n",
       "\n",
       "   School_Grade  Owner_Occupied  Renter_Occupied  Total_Vacant  \\\n",
       "0       Unknown            8834             2186           704   \n",
       "1       Unknown            8834             2186           704   \n",
       "2       Unknown            8834             2186           704   \n",
       "3       Unknown            8834             2186           704   \n",
       "4       Unknown            8834             2186           704   \n",
       "\n",
       "  Total_Dwellings  FTE_Employed  Unemployed  Expense_Index  Average_Commute  \\\n",
       "0           11724         10671        1069            104               35   \n",
       "1           11724         10671        1069            104               35   \n",
       "2           11724         10671        1069            104               35   \n",
       "3           11724         10671        1069            104               35   \n",
       "4           11724         10671        1069            104               35   \n",
       "\n",
       "   Crime_Index  \n",
       "0           28  \n",
       "1           28  \n",
       "2           28  \n",
       "3           28  \n",
       "4           28  \n",
       "\n",
       "[5 rows x 24 columns]"
      ],
      "text/html": "<div>\n<style scoped>\n    .dataframe tbody tr th:only-of-type {\n        vertical-align: middle;\n    }\n\n    .dataframe tbody tr th {\n        vertical-align: top;\n    }\n\n    .dataframe thead th {\n        text-align: right;\n    }\n</style>\n<table border=\"1\" class=\"dataframe\">\n  <thead>\n    <tr style=\"text-align: right;\">\n      <th></th>\n      <th>Zip_Code</th>\n      <th>Date</th>\n      <th>Year</th>\n      <th>Month</th>\n      <th>Sale_Price</th>\n      <th>Interest_Rate</th>\n      <th>Property_Tax</th>\n      <th>Rent_Price</th>\n      <th>Household_Income</th>\n      <th>Rent_Affordability</th>\n      <th>...</th>\n      <th>School_Grade</th>\n      <th>Owner_Occupied</th>\n      <th>Renter_Occupied</th>\n      <th>Total_Vacant</th>\n      <th>Total_Dwellings</th>\n      <th>FTE_Employed</th>\n      <th>Unemployed</th>\n      <th>Expense_Index</th>\n      <th>Average_Commute</th>\n      <th>Crime_Index</th>\n    </tr>\n  </thead>\n  <tbody>\n    <tr>\n      <th>0</th>\n      <td>32003</td>\n      <td>2019-01-01</td>\n      <td>2019</td>\n      <td>1</td>\n      <td>244950.0</td>\n      <td>4.4640</td>\n      <td>3778</td>\n      <td>1113</td>\n      <td>94154.0</td>\n      <td>0.141853</td>\n      <td>...</td>\n      <td>Unknown</td>\n      <td>8834</td>\n      <td>2186</td>\n      <td>704</td>\n      <td>11724</td>\n      <td>10671</td>\n      <td>1069</td>\n      <td>104</td>\n      <td>35</td>\n      <td>28</td>\n    </tr>\n    <tr>\n      <th>1</th>\n      <td>32003</td>\n      <td>2019-02-01</td>\n      <td>2019</td>\n      <td>2</td>\n      <td>270000.0</td>\n      <td>4.3700</td>\n      <td>3778</td>\n      <td>1113</td>\n      <td>94154.0</td>\n      <td>0.141853</td>\n      <td>...</td>\n      <td>Unknown</td>\n      <td>8834</td>\n      <td>2186</td>\n      <td>704</td>\n      <td>11724</td>\n      <td>10671</td>\n      <td>1069</td>\n      <td>104</td>\n      <td>35</td>\n      <td>28</td>\n    </tr>\n    <tr>\n      <th>2</th>\n      <td>32003</td>\n      <td>2019-03-01</td>\n      <td>2019</td>\n      <td>3</td>\n      <td>275000.0</td>\n      <td>4.2650</td>\n      <td>3778</td>\n      <td>1113</td>\n      <td>94154.0</td>\n      <td>0.141853</td>\n      <td>...</td>\n      <td>Unknown</td>\n      <td>8834</td>\n      <td>2186</td>\n      <td>704</td>\n      <td>11724</td>\n      <td>10671</td>\n      <td>1069</td>\n      <td>104</td>\n      <td>35</td>\n      <td>28</td>\n    </tr>\n    <tr>\n      <th>3</th>\n      <td>32003</td>\n      <td>2019-04-01</td>\n      <td>2019</td>\n      <td>4</td>\n      <td>264500.0</td>\n      <td>4.1425</td>\n      <td>3778</td>\n      <td>1113</td>\n      <td>94154.0</td>\n      <td>0.141853</td>\n      <td>...</td>\n      <td>Unknown</td>\n      <td>8834</td>\n      <td>2186</td>\n      <td>704</td>\n      <td>11724</td>\n      <td>10671</td>\n      <td>1069</td>\n      <td>104</td>\n      <td>35</td>\n      <td>28</td>\n    </tr>\n    <tr>\n      <th>4</th>\n      <td>32003</td>\n      <td>2019-05-01</td>\n      <td>2019</td>\n      <td>5</td>\n      <td>281000.0</td>\n      <td>4.0720</td>\n      <td>3778</td>\n      <td>1113</td>\n      <td>94154.0</td>\n      <td>0.141853</td>\n      <td>...</td>\n      <td>Unknown</td>\n      <td>8834</td>\n      <td>2186</td>\n      <td>704</td>\n      <td>11724</td>\n      <td>10671</td>\n      <td>1069</td>\n      <td>104</td>\n      <td>35</td>\n      <td>28</td>\n    </tr>\n  </tbody>\n</table>\n<p>5 rows × 24 columns</p>\n</div>"
     },
     "metadata": {},
     "execution_count": 766
    }
   ],
   "source": [
    "df = pd.read_sql('''SELECT      zip.zipcode AS Zip_Code, \n",
    "                                date((cast(y.year as text)||\"-\"||substr(\"0\"||cast(m.month as text),-2,2)||\"-01\")) AS Date,\n",
    "                                y.year AS Year, \n",
    "                                m.month AS Month,\n",
    "                                ifnull(s.med_sale_price,0) AS Sale_Price,\n",
    "                                ifnull(s.mortgage_rate,0) AS Interest_Rate,\n",
    "                                ifnull(a.property_tax,0) AS Property_Tax,\n",
    "                                ifnull(a.two_bed_rent,0) AS Rent_Price,\n",
    "                                ifnull(inc.B19013001,0) AS Household_Income,\n",
    "                                ifnull(a.two_bed_rent/(inc.B19013001/12),0) AS Rent_Affordability,\n",
    "                                ifnull(s.total_sales,0) AS Total_Sales,\n",
    "                                ifnull(fha.fha,0) AS FHA_Count,\n",
    "                                ifnull(mob.mobility_rate,0) AS Mobility_Rate, \n",
    "                                ifnull(g.percent_total_points,0) AS School_Rating,\n",
    "                                ifnull(g.letter_grade,\"Unknown\") AS School_Grade,\n",
    "                                ifnull(a.owner_occupied,0) AS Owner_Occupied,\n",
    "                                ifnull(a.renter_occupied,0) AS Renter_Occupied,\n",
    "                                ifnull(a.total_vacant,0) AS Total_Vacant,\n",
    "                                ifnull(a.total_dwellings,0) AS Total_Dwellings,\n",
    "                                ifnull(a.fte_employed,0) AS FTE_Employed,\n",
    "                                ifnull(a.unemployed,0) AS Unemployed,\n",
    "                                ifnull(a.expense_index,0) AS Expense_Index,\n",
    "                                ifnull(a.average_commute,0) AS Average_Commute,\n",
    "                                ifnull(a.crime_index,0) AS Crime_Index\n",
    "                        FROM zipcode AS zip\n",
    "                        CROSS JOIN (SELECT 2019 AS year UNION SELECT 2020 AS year) AS y\n",
    "                        CROSS JOIN (SELECT 1 AS month UNION SELECT 2 AS month UNION SELECT 3 AS month\n",
    "                                UNION SELECT 4 AS month UNION SELECT 5 AS month UNION SELECT 6 AS month\n",
    "                                UNION SELECT 7 AS month UNION SELECT 8 AS month UNION SELECT 9 AS month\n",
    "                                UNION SELECT 10 AS month UNION SELECT 11 AS month UNION SELECT 12 AS month) AS m\n",
    "                        LEFT JOIN fha_loans AS fha ON zip.zipcode = fha.zipcode AND y.year = fha.year AND m.month = fha.month\n",
    "                        LEFT JOIN mobility_slim AS mob ON zip.zipcode = mob.name\n",
    "                        LEFT JOIN household_income AS inc ON zip.zipcode = inc.name\n",
    "                        LEFT JOIN grades AS g ON zip.zipcode = g.zip\n",
    "                        LEFT JOIN sales AS s ON zip.zipcode = s.zipcode AND y.year = s.year AND m.month = s.month\n",
    "                        LEFT JOIN area AS a ON zip.zipcode = a.zipcode\n",
    "                        WHERE s.med_sale_price IS NOT NULL\n",
    "                        AND s.mortgage_rate IS NOT NULL\n",
    "                        AND y.year IS NOT NULL\n",
    "                        AND m.month IS NOT NULL\n",
    "                ''', conn)\n",
    "df.head()"
   ]
  },
  {
   "cell_type": "code",
   "execution_count": 767,
   "metadata": {},
   "outputs": [
    {
     "output_type": "execute_result",
     "data": {
      "text/plain": [
       "      Zip_Code        Date  Year  Month  Sale_Price  Interest_Rate  \\\n",
       "22618    34997  2020-10-01  2020     10    285000.0          2.834   \n",
       "22619    34997  2020-11-01  2020     11    259750.0          2.765   \n",
       "22620    34997  2020-11-01  2020     11    259750.0          2.765   \n",
       "22621    34997  2020-12-01  2020     12    297000.0          2.684   \n",
       "22622    34997  2020-12-01  2020     12    297000.0          2.684   \n",
       "\n",
       "       Property_Tax  Rent_Price  Household_Income  Rent_Affordability  \\\n",
       "22618          3067        1211           58789.0            0.247189   \n",
       "22619          3067        1211           58789.0            0.247189   \n",
       "22620          3067        1211           58789.0            0.247189   \n",
       "22621          3067        1211           58789.0            0.247189   \n",
       "22622          3067        1211           58789.0            0.247189   \n",
       "\n",
       "              ...          FTE_Employed  Unemployed  Expense_Index  \\\n",
       "22618         ...                 15421        1267             91   \n",
       "22619         ...                 15421        1267             91   \n",
       "22620         ...                 15421        1267             91   \n",
       "22621         ...                 15421        1267             91   \n",
       "22622         ...                 15421        1267             91   \n",
       "\n",
       "       Average_Commute Crime_Index  Loan_Amount  Loan_Term    Loan_R  \\\n",
       "22618               24         113     228000.0      360.0  1.002362   \n",
       "22619               24         113     207800.0      360.0  1.002304   \n",
       "22620               24         113     207800.0      360.0  1.002304   \n",
       "22621               24         113     237600.0      360.0  1.002237   \n",
       "22622               24         113     237600.0      360.0  1.002237   \n",
       "\n",
       "       Loan_Payment  Home_Affordability  \n",
       "22618    940.965557            0.020353  \n",
       "22619    849.977103            0.018806  \n",
       "22620    849.977103            0.018806  \n",
       "22621    961.694879            0.020706  \n",
       "22622    961.694879            0.020706  \n",
       "\n",
       "[5 rows x 29 columns]"
      ],
      "text/html": "<div>\n<style scoped>\n    .dataframe tbody tr th:only-of-type {\n        vertical-align: middle;\n    }\n\n    .dataframe tbody tr th {\n        vertical-align: top;\n    }\n\n    .dataframe thead th {\n        text-align: right;\n    }\n</style>\n<table border=\"1\" class=\"dataframe\">\n  <thead>\n    <tr style=\"text-align: right;\">\n      <th></th>\n      <th>Zip_Code</th>\n      <th>Date</th>\n      <th>Year</th>\n      <th>Month</th>\n      <th>Sale_Price</th>\n      <th>Interest_Rate</th>\n      <th>Property_Tax</th>\n      <th>Rent_Price</th>\n      <th>Household_Income</th>\n      <th>Rent_Affordability</th>\n      <th>...</th>\n      <th>FTE_Employed</th>\n      <th>Unemployed</th>\n      <th>Expense_Index</th>\n      <th>Average_Commute</th>\n      <th>Crime_Index</th>\n      <th>Loan_Amount</th>\n      <th>Loan_Term</th>\n      <th>Loan_R</th>\n      <th>Loan_Payment</th>\n      <th>Home_Affordability</th>\n    </tr>\n  </thead>\n  <tbody>\n    <tr>\n      <th>22618</th>\n      <td>34997</td>\n      <td>2020-10-01</td>\n      <td>2020</td>\n      <td>10</td>\n      <td>285000.0</td>\n      <td>2.834</td>\n      <td>3067</td>\n      <td>1211</td>\n      <td>58789.0</td>\n      <td>0.247189</td>\n      <td>...</td>\n      <td>15421</td>\n      <td>1267</td>\n      <td>91</td>\n      <td>24</td>\n      <td>113</td>\n      <td>228000.0</td>\n      <td>360.0</td>\n      <td>1.002362</td>\n      <td>940.965557</td>\n      <td>0.020353</td>\n    </tr>\n    <tr>\n      <th>22619</th>\n      <td>34997</td>\n      <td>2020-11-01</td>\n      <td>2020</td>\n      <td>11</td>\n      <td>259750.0</td>\n      <td>2.765</td>\n      <td>3067</td>\n      <td>1211</td>\n      <td>58789.0</td>\n      <td>0.247189</td>\n      <td>...</td>\n      <td>15421</td>\n      <td>1267</td>\n      <td>91</td>\n      <td>24</td>\n      <td>113</td>\n      <td>207800.0</td>\n      <td>360.0</td>\n      <td>1.002304</td>\n      <td>849.977103</td>\n      <td>0.018806</td>\n    </tr>\n    <tr>\n      <th>22620</th>\n      <td>34997</td>\n      <td>2020-11-01</td>\n      <td>2020</td>\n      <td>11</td>\n      <td>259750.0</td>\n      <td>2.765</td>\n      <td>3067</td>\n      <td>1211</td>\n      <td>58789.0</td>\n      <td>0.247189</td>\n      <td>...</td>\n      <td>15421</td>\n      <td>1267</td>\n      <td>91</td>\n      <td>24</td>\n      <td>113</td>\n      <td>207800.0</td>\n      <td>360.0</td>\n      <td>1.002304</td>\n      <td>849.977103</td>\n      <td>0.018806</td>\n    </tr>\n    <tr>\n      <th>22621</th>\n      <td>34997</td>\n      <td>2020-12-01</td>\n      <td>2020</td>\n      <td>12</td>\n      <td>297000.0</td>\n      <td>2.684</td>\n      <td>3067</td>\n      <td>1211</td>\n      <td>58789.0</td>\n      <td>0.247189</td>\n      <td>...</td>\n      <td>15421</td>\n      <td>1267</td>\n      <td>91</td>\n      <td>24</td>\n      <td>113</td>\n      <td>237600.0</td>\n      <td>360.0</td>\n      <td>1.002237</td>\n      <td>961.694879</td>\n      <td>0.020706</td>\n    </tr>\n    <tr>\n      <th>22622</th>\n      <td>34997</td>\n      <td>2020-12-01</td>\n      <td>2020</td>\n      <td>12</td>\n      <td>297000.0</td>\n      <td>2.684</td>\n      <td>3067</td>\n      <td>1211</td>\n      <td>58789.0</td>\n      <td>0.247189</td>\n      <td>...</td>\n      <td>15421</td>\n      <td>1267</td>\n      <td>91</td>\n      <td>24</td>\n      <td>113</td>\n      <td>237600.0</td>\n      <td>360.0</td>\n      <td>1.002237</td>\n      <td>961.694879</td>\n      <td>0.020706</td>\n    </tr>\n  </tbody>\n</table>\n<p>5 rows × 29 columns</p>\n</div>"
     },
     "metadata": {},
     "execution_count": 767
    }
   ],
   "source": [
    "# Calculate Home Affordability\n",
    "\n",
    "# Loan Payment calc source: https://medium.com/personal-finance-analytics/mortgage-calculator-python-code-94d976d25a27\n",
    "# df = df.append({'Zip_Code':32792,'Year':2011,'Month':10,'Sale_Price':178750,'Interest_Rate':2.875}, ignore_index=True) # PMT should = 593\n",
    "df['Loan_Amount'] = df['Sale_Price']*.80 # Assuming 20% down payment\n",
    "df['Loan_Term'] = float(30*12) # Assuming 30 year loan\n",
    "df['Loan_R'] = 1+(df['Interest_Rate']/100/12)\n",
    "df['Loan_Payment'] = df['Loan_Amount']*(df['Loan_R']**df['Loan_Term'])*(1-df['Loan_R'])/(1-df['Loan_R']**df['Loan_Term'])\n",
    "df['Home_Affordability'] = (df['Loan_Payment']+(df['Property_Tax']/12))/df['Household_Income']\n",
    "\n",
    "df.tail()"
   ]
  },
  {
   "cell_type": "code",
   "execution_count": 768,
   "metadata": {},
   "outputs": [],
   "source": [
    "# Push to CSV\n",
    "csv_path = os.path.abspath('Resources/Final_Data.csv')\n",
    "df.to_csv(csv_path)"
   ]
  },
  {
   "cell_type": "code",
   "execution_count": 769,
   "metadata": {},
   "outputs": [],
   "source": [
    "# Close connection to SQLite Database\n",
    "if conn:\n",
    "    conn.close()"
   ]
  },
  {
   "cell_type": "code",
   "execution_count": 770,
   "metadata": {},
   "outputs": [
    {
     "output_type": "execute_result",
     "data": {
      "text/plain": [
       "Zip_Code                961\n",
       "Date                     24\n",
       "Year                      2\n",
       "Month                    12\n",
       "Sale_Price             4538\n",
       "Interest_Rate            24\n",
       "Property_Tax            846\n",
       "Rent_Price               41\n",
       "Household_Income        933\n",
       "Rent_Affordability      910\n",
       "Total_Sales             215\n",
       "FHA_Count                95\n",
       "Mobility_Rate           940\n",
       "School_Rating            52\n",
       "School_Grade              5\n",
       "Owner_Occupied          900\n",
       "Renter_Occupied         859\n",
       "Total_Vacant            813\n",
       "Total_Dwellings         914\n",
       "FTE_Employed            896\n",
       "Unemployed              752\n",
       "Expense_Index            96\n",
       "Average_Commute          34\n",
       "Crime_Index             441\n",
       "Loan_Amount            4538\n",
       "Loan_Term                 1\n",
       "Loan_R                   24\n",
       "Loan_Payment          14092\n",
       "Home_Affordability    21656\n",
       "dtype: int64"
      ]
     },
     "metadata": {},
     "execution_count": 770
    }
   ],
   "source": [
    "# Check unique counts\n",
    "df.nunique()"
   ]
  },
  {
   "cell_type": "code",
   "execution_count": 771,
   "metadata": {},
   "outputs": [
    {
     "output_type": "execute_result",
     "data": {
      "text/plain": [
       "Zip_Code              0\n",
       "Date                  0\n",
       "Year                  0\n",
       "Month                 0\n",
       "Sale_Price            0\n",
       "Interest_Rate         0\n",
       "Property_Tax          0\n",
       "Rent_Price            0\n",
       "Household_Income      0\n",
       "Rent_Affordability    0\n",
       "Total_Sales           0\n",
       "FHA_Count             0\n",
       "Mobility_Rate         0\n",
       "School_Rating         0\n",
       "School_Grade          0\n",
       "Owner_Occupied        0\n",
       "Renter_Occupied       0\n",
       "Total_Vacant          0\n",
       "Total_Dwellings       0\n",
       "FTE_Employed          0\n",
       "Unemployed            0\n",
       "Expense_Index         0\n",
       "Average_Commute       0\n",
       "Crime_Index           0\n",
       "Loan_Amount           0\n",
       "Loan_Term             0\n",
       "Loan_R                0\n",
       "Loan_Payment          0\n",
       "Home_Affordability    0\n",
       "dtype: int64"
      ]
     },
     "metadata": {},
     "execution_count": 771
    }
   ],
   "source": [
    "# Check for nulls\n",
    "df.isnull().sum()"
   ]
  },
  {
   "cell_type": "code",
   "execution_count": null,
   "metadata": {},
   "outputs": [],
   "source": []
  }
 ]
}