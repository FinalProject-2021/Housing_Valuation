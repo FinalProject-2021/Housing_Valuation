{
 "metadata": {
  "language_info": {
   "codemirror_mode": {
    "name": "ipython",
    "version": 3
   },
   "file_extension": ".py",
   "mimetype": "text/x-python",
   "name": "python",
   "nbconvert_exporter": "python",
   "pygments_lexer": "ipython3",
   "version": "3.6.10"
  },
  "orig_nbformat": 2,
  "kernelspec": {
   "name": "python3610jvsc74a57bd0e94d89c61edb7043d9dc1b3e1ce26d28166b8b6282f4d8bdddba238f6ca3cf12",
   "display_name": "Python 3.6.10 64-bit ('PythonData': conda)"
  }
 },
 "nbformat": 4,
 "nbformat_minor": 2,
 "cells": [
  {
   "cell_type": "code",
   "execution_count": 67,
   "metadata": {},
   "outputs": [
    {
     "output_type": "execute_result",
     "data": {
      "text/plain": [
       "'3.32.3'"
      ]
     },
     "metadata": {},
     "execution_count": 67
    }
   ],
   "source": [
    "# Required Modules\n",
    "import pandas as pd\n",
    "import sqlite3\n",
    "from sqlite3 import Error\n",
    "import os\n",
    "\n",
    "# Identify database path\n",
    "db_path = os.path.abspath('./sqlite.db')\n",
    "\n",
    "# Connect to SQLite Database\n",
    "conn = sqlite3.connect(db_path)\n",
    "cursor = conn.cursor()\n",
    "\n",
    "sqlite3.sqlite_version"
   ]
  },
  {
   "cell_type": "code",
   "execution_count": 68,
   "metadata": {},
   "outputs": [
    {
     "output_type": "execute_result",
     "data": {
      "text/plain": [
       "984"
      ]
     },
     "metadata": {},
     "execution_count": 68
    }
   ],
   "source": [
    "# FL Zip Codes from Census data for reference\n",
    "fl_census_path = os.path.abspath('Resources/ACSST5Y2019.S1901_data_with_overlays_2021-05-24T165952.csv')\n",
    "fl_census_df = pd.read_csv(fl_census_path, header=1)\n",
    "fl_codes = []\n",
    "\n",
    "for i,j in fl_census_df.iterrows():\n",
    "    fl_codes.append(j['Geographic Area Name'][6:11])\n",
    "\n",
    "fl_zipcodes = pd.DataFrame(fl_codes)\n",
    "fl_zipcodes = fl_zipcodes.rename(columns={0:'zipcode'})\n",
    "\n",
    "# Drop table if it exist\n",
    "cursor.execute(\"DROP TABLE IF EXISTS zipcode\")\n",
    "\n",
    "# Create table\n",
    "fl_zipcodes.to_sql('zipcode', conn, if_exists='replace', index=False)\n",
    "fl_zipcodes['zipcode'].nunique()"
   ]
  },
  {
   "cell_type": "code",
   "execution_count": 69,
   "metadata": {},
   "outputs": [
    {
     "output_type": "execute_result",
     "data": {
      "text/plain": [
       "962"
      ]
     },
     "metadata": {},
     "execution_count": 69
    }
   ],
   "source": [
    "# Sales data\n",
    "sales_path = os.path.abspath('Resources/Sales_Area_Data/Sales/final_sales_data.csv')\n",
    "sales_data_df = pd.read_csv(sales_path, header=0)\n",
    "sales_data_df = sales_data_df[['zipcode','year','month','total_sales','avg_sale_price','med_sale_price','mortgage_rate']]\n",
    "\n",
    "# Drop table if it exist\n",
    "cursor.execute(\"DROP TABLE IF EXISTS sales\")\n",
    "\n",
    "# Create table\n",
    "sales_data_df.to_sql('sales', conn, if_exists='replace', index=False)\n",
    "sales_data_df['zipcode'].nunique()"
   ]
  },
  {
   "cell_type": "code",
   "execution_count": 70,
   "metadata": {},
   "outputs": [
    {
     "output_type": "execute_result",
     "data": {
      "text/plain": [
       "949"
      ]
     },
     "metadata": {},
     "execution_count": 70
    }
   ],
   "source": [
    "# Sales data\n",
    "area_path = os.path.abspath('Resources/Sales_Area_Data/Area/final_area_data.csv')\n",
    "area_data_df = pd.read_csv(area_path, header=0)\n",
    "area_data_df = area_data_df[['zipcode','property_tax','owner_occupied','renter_occupied','total_vacant','total_dwellings','studio_rent','one_bed_rent','two_bed_rent','three_bed_rent','four_bed_rent','fte_employed','unemployed','average_income','projected_income','expense_index','average_commute','crime_index']]\n",
    "area_data_df.head()\n",
    "\n",
    "# Drop table if it exist\n",
    "cursor.execute(\"DROP TABLE IF EXISTS area\")\n",
    "\n",
    "# Create table\n",
    "area_data_df.to_sql('area', conn, if_exists='replace', index=False)\n",
    "area_data_df['zipcode'].nunique()"
   ]
  },
  {
   "cell_type": "code",
   "execution_count": 71,
   "metadata": {},
   "outputs": [
    {
     "output_type": "execute_result",
     "data": {
      "text/plain": [
       "               name\n",
       "0          mobility\n",
       "1  household_income\n",
       "2     mobility_slim\n",
       "3            grades\n",
       "4         fha_loans\n",
       "5           zipcode\n",
       "6             sales\n",
       "7              area"
      ],
      "text/html": "<div>\n<style scoped>\n    .dataframe tbody tr th:only-of-type {\n        vertical-align: middle;\n    }\n\n    .dataframe tbody tr th {\n        vertical-align: top;\n    }\n\n    .dataframe thead th {\n        text-align: right;\n    }\n</style>\n<table border=\"1\" class=\"dataframe\">\n  <thead>\n    <tr style=\"text-align: right;\">\n      <th></th>\n      <th>name</th>\n    </tr>\n  </thead>\n  <tbody>\n    <tr>\n      <th>0</th>\n      <td>mobility</td>\n    </tr>\n    <tr>\n      <th>1</th>\n      <td>household_income</td>\n    </tr>\n    <tr>\n      <th>2</th>\n      <td>mobility_slim</td>\n    </tr>\n    <tr>\n      <th>3</th>\n      <td>grades</td>\n    </tr>\n    <tr>\n      <th>4</th>\n      <td>fha_loans</td>\n    </tr>\n    <tr>\n      <th>5</th>\n      <td>zipcode</td>\n    </tr>\n    <tr>\n      <th>6</th>\n      <td>sales</td>\n    </tr>\n    <tr>\n      <th>7</th>\n      <td>area</td>\n    </tr>\n  </tbody>\n</table>\n</div>"
     },
     "metadata": {},
     "execution_count": 71
    }
   ],
   "source": [
    "tables_ls = pd.read_sql(\"SELECT name FROM sqlite_master WHERE type='table'\", conn)\n",
    "tables_ls"
   ]
  },
  {
   "cell_type": "code",
   "execution_count": 72,
   "metadata": {},
   "outputs": [
    {
     "output_type": "execute_result",
     "data": {
      "text/plain": [
       "  Zip_Code        Date  Year  Month  Sale_Price  Interest_Rate  Property_Tax  \\\n",
       "0    32003  2019-01-01  2019      1    244950.0         4.4640          3778   \n",
       "1    32003  2019-02-01  2019      2    270000.0         4.3700          3778   \n",
       "2    32003  2019-03-01  2019      3    275000.0         4.2650          3778   \n",
       "3    32003  2019-04-01  2019      4    264500.0         4.1425          3778   \n",
       "4    32003  2019-05-01  2019      5    281000.0         4.0720          3778   \n",
       "\n",
       "   Rent_Price  Household_Income  Rent_Affordability  ...  School_Grade  \\\n",
       "0        1113           94154.0            0.141853  ...       Unknown   \n",
       "1        1113           94154.0            0.141853  ...       Unknown   \n",
       "2        1113           94154.0            0.141853  ...       Unknown   \n",
       "3        1113           94154.0            0.141853  ...       Unknown   \n",
       "4        1113           94154.0            0.141853  ...       Unknown   \n",
       "\n",
       "   Owner_Occupied  Renter_Occupied  Total_Vacant Total_Dwellings  \\\n",
       "0            8834             2186           704           11724   \n",
       "1            8834             2186           704           11724   \n",
       "2            8834             2186           704           11724   \n",
       "3            8834             2186           704           11724   \n",
       "4            8834             2186           704           11724   \n",
       "\n",
       "   FTE_Employed  Unemployed  Expense_Index  Average_Commute  Crime_Index  \n",
       "0         10671        1069            104               35           28  \n",
       "1         10671        1069            104               35           28  \n",
       "2         10671        1069            104               35           28  \n",
       "3         10671        1069            104               35           28  \n",
       "4         10671        1069            104               35           28  \n",
       "\n",
       "[5 rows x 24 columns]"
      ],
      "text/html": "<div>\n<style scoped>\n    .dataframe tbody tr th:only-of-type {\n        vertical-align: middle;\n    }\n\n    .dataframe tbody tr th {\n        vertical-align: top;\n    }\n\n    .dataframe thead th {\n        text-align: right;\n    }\n</style>\n<table border=\"1\" class=\"dataframe\">\n  <thead>\n    <tr style=\"text-align: right;\">\n      <th></th>\n      <th>Zip_Code</th>\n      <th>Date</th>\n      <th>Year</th>\n      <th>Month</th>\n      <th>Sale_Price</th>\n      <th>Interest_Rate</th>\n      <th>Property_Tax</th>\n      <th>Rent_Price</th>\n      <th>Household_Income</th>\n      <th>Rent_Affordability</th>\n      <th>...</th>\n      <th>School_Grade</th>\n      <th>Owner_Occupied</th>\n      <th>Renter_Occupied</th>\n      <th>Total_Vacant</th>\n      <th>Total_Dwellings</th>\n      <th>FTE_Employed</th>\n      <th>Unemployed</th>\n      <th>Expense_Index</th>\n      <th>Average_Commute</th>\n      <th>Crime_Index</th>\n    </tr>\n  </thead>\n  <tbody>\n    <tr>\n      <th>0</th>\n      <td>32003</td>\n      <td>2019-01-01</td>\n      <td>2019</td>\n      <td>1</td>\n      <td>244950.0</td>\n      <td>4.4640</td>\n      <td>3778</td>\n      <td>1113</td>\n      <td>94154.0</td>\n      <td>0.141853</td>\n      <td>...</td>\n      <td>Unknown</td>\n      <td>8834</td>\n      <td>2186</td>\n      <td>704</td>\n      <td>11724</td>\n      <td>10671</td>\n      <td>1069</td>\n      <td>104</td>\n      <td>35</td>\n      <td>28</td>\n    </tr>\n    <tr>\n      <th>1</th>\n      <td>32003</td>\n      <td>2019-02-01</td>\n      <td>2019</td>\n      <td>2</td>\n      <td>270000.0</td>\n      <td>4.3700</td>\n      <td>3778</td>\n      <td>1113</td>\n      <td>94154.0</td>\n      <td>0.141853</td>\n      <td>...</td>\n      <td>Unknown</td>\n      <td>8834</td>\n      <td>2186</td>\n      <td>704</td>\n      <td>11724</td>\n      <td>10671</td>\n      <td>1069</td>\n      <td>104</td>\n      <td>35</td>\n      <td>28</td>\n    </tr>\n    <tr>\n      <th>2</th>\n      <td>32003</td>\n      <td>2019-03-01</td>\n      <td>2019</td>\n      <td>3</td>\n      <td>275000.0</td>\n      <td>4.2650</td>\n      <td>3778</td>\n      <td>1113</td>\n      <td>94154.0</td>\n      <td>0.141853</td>\n      <td>...</td>\n      <td>Unknown</td>\n      <td>8834</td>\n      <td>2186</td>\n      <td>704</td>\n      <td>11724</td>\n      <td>10671</td>\n      <td>1069</td>\n      <td>104</td>\n      <td>35</td>\n      <td>28</td>\n    </tr>\n    <tr>\n      <th>3</th>\n      <td>32003</td>\n      <td>2019-04-01</td>\n      <td>2019</td>\n      <td>4</td>\n      <td>264500.0</td>\n      <td>4.1425</td>\n      <td>3778</td>\n      <td>1113</td>\n      <td>94154.0</td>\n      <td>0.141853</td>\n      <td>...</td>\n      <td>Unknown</td>\n      <td>8834</td>\n      <td>2186</td>\n      <td>704</td>\n      <td>11724</td>\n      <td>10671</td>\n      <td>1069</td>\n      <td>104</td>\n      <td>35</td>\n      <td>28</td>\n    </tr>\n    <tr>\n      <th>4</th>\n      <td>32003</td>\n      <td>2019-05-01</td>\n      <td>2019</td>\n      <td>5</td>\n      <td>281000.0</td>\n      <td>4.0720</td>\n      <td>3778</td>\n      <td>1113</td>\n      <td>94154.0</td>\n      <td>0.141853</td>\n      <td>...</td>\n      <td>Unknown</td>\n      <td>8834</td>\n      <td>2186</td>\n      <td>704</td>\n      <td>11724</td>\n      <td>10671</td>\n      <td>1069</td>\n      <td>104</td>\n      <td>35</td>\n      <td>28</td>\n    </tr>\n  </tbody>\n</table>\n<p>5 rows × 24 columns</p>\n</div>"
     },
     "metadata": {},
     "execution_count": 72
    }
   ],
   "source": [
    "df = pd.read_sql('''SELECT      zip.zipcode AS Zip_Code, \n",
    "                                date((cast(y.year as text)||\"-\"||substr(\"0\"||cast(m.month as text),-2,2)||\"-01\")) AS Date,\n",
    "                                y.year AS Year, \n",
    "                                m.month AS Month,\n",
    "                                ifnull(s.med_sale_price,0) AS Sale_Price,\n",
    "                                ifnull(s.mortgage_rate,0) AS Interest_Rate,\n",
    "                                ifnull(a.property_tax,0) AS Property_Tax,\n",
    "                                ifnull(a.two_bed_rent,0) AS Rent_Price,\n",
    "                                ifnull(inc.B19013001,0) AS Household_Income,\n",
    "                                ifnull(a.two_bed_rent/(inc.B19013001/12),0) AS Rent_Affordability,\n",
    "                                ifnull(s.total_sales,0) AS Total_Sales,\n",
    "                                ifnull(fha.fha,0) AS FHA_Count,\n",
    "                                ifnull(mob.mobility_rate,0) AS Mobility_Rate, \n",
    "                                ifnull(g.percent_total_points,0) AS School_Rating,\n",
    "                                ifnull(g.letter_grade,\"Unknown\") AS School_Grade,\n",
    "                                ifnull(a.owner_occupied,0) AS Owner_Occupied,\n",
    "                                ifnull(a.renter_occupied,0) AS Renter_Occupied,\n",
    "                                ifnull(a.total_vacant,0) AS Total_Vacant,\n",
    "                                ifnull(a.total_dwellings,0) AS Total_Dwellings,\n",
    "                                ifnull(a.fte_employed,0) AS FTE_Employed,\n",
    "                                ifnull(a.unemployed,0) AS Unemployed,\n",
    "                                ifnull(a.expense_index,0) AS Expense_Index,\n",
    "                                ifnull(a.average_commute,0) AS Average_Commute,\n",
    "                                ifnull(a.crime_index,0) AS Crime_Index\n",
    "                        FROM zipcode AS zip\n",
    "                        CROSS JOIN (SELECT 2019 AS year UNION SELECT 2020 AS year UNION SELECT 2021 AS year) AS y\n",
    "                        CROSS JOIN (SELECT 1 AS month UNION SELECT 2 AS month UNION SELECT 3 AS month\n",
    "                                UNION SELECT 4 AS month UNION SELECT 5 AS month UNION SELECT 6 AS month\n",
    "                                UNION SELECT 7 AS month UNION SELECT 8 AS month UNION SELECT 9 AS month\n",
    "                                UNION SELECT 10 AS month UNION SELECT 11 AS month UNION SELECT 12 AS month) AS m\n",
    "                        LEFT JOIN fha_loans AS fha ON zip.zipcode = fha.zipcode AND y.year = fha.year AND m.month = fha.month\n",
    "                        LEFT JOIN mobility_slim AS mob ON zip.zipcode = mob.name\n",
    "                        LEFT JOIN household_income AS inc ON zip.zipcode = inc.name\n",
    "                        LEFT JOIN grades AS g ON zip.zipcode = g.zip\n",
    "                        LEFT JOIN sales AS s ON zip.zipcode = s.zipcode AND y.year = s.year AND m.month = s.month\n",
    "                        LEFT JOIN area AS a ON zip.zipcode = a.zipcode\n",
    "                        WHERE s.med_sale_price IS NOT NULL\n",
    "                        AND s.mortgage_rate IS NOT NULL\n",
    "                        AND IFNULL(inc.B19013001,0) > 0\n",
    "                        AND a.two_bed_rent IS NOT NULL\n",
    "                        AND y.year IS NOT NULL\n",
    "                        AND m.month IS NOT NULL\n",
    "                        AND NOT (y.year = 2021 AND m.month = 4)\n",
    "                ''', conn)\n",
    "df.head()"
   ]
  },
  {
   "cell_type": "code",
   "execution_count": 73,
   "metadata": {},
   "outputs": [
    {
     "output_type": "execute_result",
     "data": {
      "text/plain": [
       "      Zip_Code        Date  Year  Month  Sale_Price  Interest_Rate  \\\n",
       "24377    34997  2021-01-01  2021      1    305000.0         2.7350   \n",
       "24378    34997  2021-02-01  2021      2    300000.0         2.8100   \n",
       "24379    34997  2021-02-01  2021      2    300000.0         2.8100   \n",
       "24380    34997  2021-03-01  2021      3    599000.0         3.0825   \n",
       "24381    34997  2021-03-01  2021      3    599000.0         3.0825   \n",
       "\n",
       "       Property_Tax  Rent_Price  Household_Income  Rent_Affordability  ...  \\\n",
       "24377          3067        1211           58789.0            0.247189  ...   \n",
       "24378          3067        1211           58789.0            0.247189  ...   \n",
       "24379          3067        1211           58789.0            0.247189  ...   \n",
       "24380          3067        1211           58789.0            0.247189  ...   \n",
       "24381          3067        1211           58789.0            0.247189  ...   \n",
       "\n",
       "       FTE_Employed  Unemployed  Expense_Index  Average_Commute Crime_Index  \\\n",
       "24377         15421        1267             91               24         113   \n",
       "24378         15421        1267             91               24         113   \n",
       "24379         15421        1267             91               24         113   \n",
       "24380         15421        1267             91               24         113   \n",
       "24381         15421        1267             91               24         113   \n",
       "\n",
       "       Loan_Amount  Loan_Term    Loan_R  Loan_Payment  Home_Affordability  \n",
       "24377     244000.0      360.0  1.002279    994.170908            0.202930  \n",
       "24378     240000.0      360.0  1.002342    987.423019            0.201553  \n",
       "24379     240000.0      360.0  1.002342    987.423019            0.201553  \n",
       "24380     479200.0      360.0  1.002569   2041.710565            0.416754  \n",
       "24381     479200.0      360.0  1.002569   2041.710565            0.416754  \n",
       "\n",
       "[5 rows x 29 columns]"
      ],
      "text/html": "<div>\n<style scoped>\n    .dataframe tbody tr th:only-of-type {\n        vertical-align: middle;\n    }\n\n    .dataframe tbody tr th {\n        vertical-align: top;\n    }\n\n    .dataframe thead th {\n        text-align: right;\n    }\n</style>\n<table border=\"1\" class=\"dataframe\">\n  <thead>\n    <tr style=\"text-align: right;\">\n      <th></th>\n      <th>Zip_Code</th>\n      <th>Date</th>\n      <th>Year</th>\n      <th>Month</th>\n      <th>Sale_Price</th>\n      <th>Interest_Rate</th>\n      <th>Property_Tax</th>\n      <th>Rent_Price</th>\n      <th>Household_Income</th>\n      <th>Rent_Affordability</th>\n      <th>...</th>\n      <th>FTE_Employed</th>\n      <th>Unemployed</th>\n      <th>Expense_Index</th>\n      <th>Average_Commute</th>\n      <th>Crime_Index</th>\n      <th>Loan_Amount</th>\n      <th>Loan_Term</th>\n      <th>Loan_R</th>\n      <th>Loan_Payment</th>\n      <th>Home_Affordability</th>\n    </tr>\n  </thead>\n  <tbody>\n    <tr>\n      <th>24377</th>\n      <td>34997</td>\n      <td>2021-01-01</td>\n      <td>2021</td>\n      <td>1</td>\n      <td>305000.0</td>\n      <td>2.7350</td>\n      <td>3067</td>\n      <td>1211</td>\n      <td>58789.0</td>\n      <td>0.247189</td>\n      <td>...</td>\n      <td>15421</td>\n      <td>1267</td>\n      <td>91</td>\n      <td>24</td>\n      <td>113</td>\n      <td>244000.0</td>\n      <td>360.0</td>\n      <td>1.002279</td>\n      <td>994.170908</td>\n      <td>0.202930</td>\n    </tr>\n    <tr>\n      <th>24378</th>\n      <td>34997</td>\n      <td>2021-02-01</td>\n      <td>2021</td>\n      <td>2</td>\n      <td>300000.0</td>\n      <td>2.8100</td>\n      <td>3067</td>\n      <td>1211</td>\n      <td>58789.0</td>\n      <td>0.247189</td>\n      <td>...</td>\n      <td>15421</td>\n      <td>1267</td>\n      <td>91</td>\n      <td>24</td>\n      <td>113</td>\n      <td>240000.0</td>\n      <td>360.0</td>\n      <td>1.002342</td>\n      <td>987.423019</td>\n      <td>0.201553</td>\n    </tr>\n    <tr>\n      <th>24379</th>\n      <td>34997</td>\n      <td>2021-02-01</td>\n      <td>2021</td>\n      <td>2</td>\n      <td>300000.0</td>\n      <td>2.8100</td>\n      <td>3067</td>\n      <td>1211</td>\n      <td>58789.0</td>\n      <td>0.247189</td>\n      <td>...</td>\n      <td>15421</td>\n      <td>1267</td>\n      <td>91</td>\n      <td>24</td>\n      <td>113</td>\n      <td>240000.0</td>\n      <td>360.0</td>\n      <td>1.002342</td>\n      <td>987.423019</td>\n      <td>0.201553</td>\n    </tr>\n    <tr>\n      <th>24380</th>\n      <td>34997</td>\n      <td>2021-03-01</td>\n      <td>2021</td>\n      <td>3</td>\n      <td>599000.0</td>\n      <td>3.0825</td>\n      <td>3067</td>\n      <td>1211</td>\n      <td>58789.0</td>\n      <td>0.247189</td>\n      <td>...</td>\n      <td>15421</td>\n      <td>1267</td>\n      <td>91</td>\n      <td>24</td>\n      <td>113</td>\n      <td>479200.0</td>\n      <td>360.0</td>\n      <td>1.002569</td>\n      <td>2041.710565</td>\n      <td>0.416754</td>\n    </tr>\n    <tr>\n      <th>24381</th>\n      <td>34997</td>\n      <td>2021-03-01</td>\n      <td>2021</td>\n      <td>3</td>\n      <td>599000.0</td>\n      <td>3.0825</td>\n      <td>3067</td>\n      <td>1211</td>\n      <td>58789.0</td>\n      <td>0.247189</td>\n      <td>...</td>\n      <td>15421</td>\n      <td>1267</td>\n      <td>91</td>\n      <td>24</td>\n      <td>113</td>\n      <td>479200.0</td>\n      <td>360.0</td>\n      <td>1.002569</td>\n      <td>2041.710565</td>\n      <td>0.416754</td>\n    </tr>\n  </tbody>\n</table>\n<p>5 rows × 29 columns</p>\n</div>"
     },
     "metadata": {},
     "execution_count": 73
    }
   ],
   "source": [
    "# Calculate Home Affordability\n",
    "\n",
    "# Loan Payment calc source: https://medium.com/personal-finance-analytics/mortgage-calculator-python-code-94d976d25a27\n",
    "# df = df.append({'Zip_Code':32792,'Year':2011,'Month':10,'Sale_Price':178750,'Interest_Rate':2.875}, ignore_index=True) # PMT should = 593\n",
    "df['Loan_Amount'] = df['Sale_Price']*.80 # Assuming 20% down payment\n",
    "df['Loan_Term'] = float(30*12) # Assuming 30 year loan\n",
    "df['Loan_R'] = 1+(df['Interest_Rate']/100/12)\n",
    "df['Loan_Payment'] = df['Loan_Amount']*(df['Loan_R']**df['Loan_Term'])*(1-df['Loan_R'])/(1-df['Loan_R']**df['Loan_Term'])\n",
    "# df['Home_Affordability'] = (df['Loan_Payment']+(df['Property_Tax']/12))/df['Household_Income']\n",
    "df['Home_Affordability'] = (df['Loan_Payment']*12)/df['Household_Income']\n",
    "\n",
    "df.tail()"
   ]
  },
  {
   "cell_type": "code",
   "execution_count": 74,
   "metadata": {},
   "outputs": [],
   "source": [
    "# Push to CSV\n",
    "csv_path = os.path.abspath('Resources/Final_Data.csv')\n",
    "df.to_csv(csv_path, index=False)"
   ]
  },
  {
   "cell_type": "code",
   "execution_count": 75,
   "metadata": {},
   "outputs": [],
   "source": [
    "# Close connection to SQLite Database\n",
    "if conn:\n",
    "    conn.close()"
   ]
  },
  {
   "cell_type": "code",
   "execution_count": 76,
   "metadata": {},
   "outputs": [
    {
     "output_type": "execute_result",
     "data": {
      "text/plain": [
       "Zip_Code                909\n",
       "Date                     27\n",
       "Year                      3\n",
       "Month                    12\n",
       "Sale_Price             4736\n",
       "Interest_Rate            27\n",
       "Property_Tax            828\n",
       "Rent_Price               40\n",
       "Household_Income        903\n",
       "Rent_Affordability      909\n",
       "Total_Sales             216\n",
       "FHA_Count                98\n",
       "Mobility_Rate           900\n",
       "School_Rating            52\n",
       "School_Grade              5\n",
       "Owner_Occupied          881\n",
       "Renter_Occupied         846\n",
       "Total_Vacant            803\n",
       "Total_Dwellings         896\n",
       "FTE_Employed            882\n",
       "Unemployed              748\n",
       "Expense_Index            92\n",
       "Average_Commute          32\n",
       "Crime_Index             439\n",
       "Loan_Amount            4736\n",
       "Loan_Term                 1\n",
       "Loan_R                   27\n",
       "Loan_Payment          15335\n",
       "Home_Affordability    23507\n",
       "dtype: int64"
      ]
     },
     "metadata": {},
     "execution_count": 76
    }
   ],
   "source": [
    "# Check unique counts\n",
    "df.nunique()"
   ]
  },
  {
   "cell_type": "code",
   "execution_count": 77,
   "metadata": {},
   "outputs": [
    {
     "output_type": "execute_result",
     "data": {
      "text/plain": [
       "Zip_Code              0\n",
       "Date                  0\n",
       "Year                  0\n",
       "Month                 0\n",
       "Sale_Price            0\n",
       "Interest_Rate         0\n",
       "Property_Tax          0\n",
       "Rent_Price            0\n",
       "Household_Income      0\n",
       "Rent_Affordability    0\n",
       "Total_Sales           0\n",
       "FHA_Count             0\n",
       "Mobility_Rate         0\n",
       "School_Rating         0\n",
       "School_Grade          0\n",
       "Owner_Occupied        0\n",
       "Renter_Occupied       0\n",
       "Total_Vacant          0\n",
       "Total_Dwellings       0\n",
       "FTE_Employed          0\n",
       "Unemployed            0\n",
       "Expense_Index         0\n",
       "Average_Commute       0\n",
       "Crime_Index           0\n",
       "Loan_Amount           0\n",
       "Loan_Term             0\n",
       "Loan_R                0\n",
       "Loan_Payment          0\n",
       "Home_Affordability    0\n",
       "dtype: int64"
      ]
     },
     "metadata": {},
     "execution_count": 77
    }
   ],
   "source": [
    "# Check for nulls\n",
    "df.isnull().sum()"
   ]
  },
  {
   "cell_type": "code",
   "execution_count": null,
   "metadata": {},
   "outputs": [],
   "source": []
  }
 ]
}