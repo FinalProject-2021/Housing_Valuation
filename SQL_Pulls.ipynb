{
 "metadata": {
  "language_info": {
   "codemirror_mode": {
    "name": "ipython",
    "version": 3
   },
   "file_extension": ".py",
   "mimetype": "text/x-python",
   "name": "python",
   "nbconvert_exporter": "python",
   "pygments_lexer": "ipython3",
   "version": "3.7.1"
  },
  "orig_nbformat": 2,
  "kernelspec": {
   "name": "python371jvsc74a57bd07dbb69f2fe16ee411a1d001fc5a919d66021ed1f9a71b5ac22cd67380668a935",
   "display_name": "Python 3.7.1 64-bit"
  }
 },
 "nbformat": 4,
 "nbformat_minor": 2,
 "cells": [
  {
   "cell_type": "code",
   "execution_count": 230,
   "metadata": {},
   "outputs": [],
   "source": [
    "# Required Modules\n",
    "import pandas as pd\n",
    "import sqlite3\n",
    "from sqlite3 import Error\n",
    "import os\n",
    "\n",
    "# Identify database path\n",
    "db_path = os.path.abspath('./sqlite.db')\n",
    "\n",
    "# Connect to SQLite Database\n",
    "conn = sqlite3.connect(db_path)\n",
    "cursor = conn.cursor()"
   ]
  },
  {
   "cell_type": "code",
   "execution_count": 231,
   "metadata": {},
   "outputs": [],
   "source": [
    "# FL Zip Codes from Census data for reference\n",
    "fl_census_data = pd.read_csv('Resources/ACSST5Y2019.S1901_data_with_overlays_2021-05-24T165952.csv', header=1)\n",
    "fl_codes = []\n",
    "\n",
    "for i,j in fl_census_data.iterrows():\n",
    "    fl_codes.append(j['Geographic Area Name'][6:11])\n",
    "\n",
    "fl_zipcodes = pd.DataFrame(fl_codes)\n",
    "fl_zipcodes = fl_zipcodes.rename(columns={0:'zipcode'})\n",
    "\n",
    "# Drop table if it exist\n",
    "cursor.execute(\"DROP TABLE IF EXISTS zipcode\")\n",
    "\n",
    "# Create table\n",
    "sql_table.to_sql('zipcode', conn, if_exists='replace', index=False)"
   ]
  },
  {
   "cell_type": "code",
   "execution_count": null,
   "metadata": {},
   "outputs": [],
   "source": []
  },
  {
   "cell_type": "code",
   "execution_count": 232,
   "metadata": {},
   "outputs": [
    {
     "output_type": "execute_result",
     "data": {
      "text/plain": [
       "               name\n",
       "0          mobility\n",
       "1  household_income\n",
       "2     mobility_slim\n",
       "3            grades\n",
       "4         fha_loans\n",
       "5           zipcode"
      ],
      "text/html": "<div>\n<style scoped>\n    .dataframe tbody tr th:only-of-type {\n        vertical-align: middle;\n    }\n\n    .dataframe tbody tr th {\n        vertical-align: top;\n    }\n\n    .dataframe thead th {\n        text-align: right;\n    }\n</style>\n<table border=\"1\" class=\"dataframe\">\n  <thead>\n    <tr style=\"text-align: right;\">\n      <th></th>\n      <th>name</th>\n    </tr>\n  </thead>\n  <tbody>\n    <tr>\n      <th>0</th>\n      <td>mobility</td>\n    </tr>\n    <tr>\n      <th>1</th>\n      <td>household_income</td>\n    </tr>\n    <tr>\n      <th>2</th>\n      <td>mobility_slim</td>\n    </tr>\n    <tr>\n      <th>3</th>\n      <td>grades</td>\n    </tr>\n    <tr>\n      <th>4</th>\n      <td>fha_loans</td>\n    </tr>\n    <tr>\n      <th>5</th>\n      <td>zipcode</td>\n    </tr>\n  </tbody>\n</table>\n</div>"
     },
     "metadata": {},
     "execution_count": 232
    }
   ],
   "source": [
    "tables_ls = pd.read_sql(\"SELECT name FROM sqlite_master WHERE type='table'\", conn)\n",
    "tables_ls"
   ]
  },
  {
   "cell_type": "code",
   "execution_count": 233,
   "metadata": {},
   "outputs": [],
   "source": [
    "fha_loans = pd.read_sql(\"SELECT * FROM fha_loans\", conn)\n",
    "mobility_slim = pd.read_sql(\"SELECT * FROM mobility_slim\", conn)\n",
    "mobility = pd.read_sql(\"SELECT * FROM mobility\", conn)\n",
    "household_income = pd.read_sql(\"SELECT * FROM household_income\", conn)\n",
    "grades = pd.read_sql(\"SELECT * FROM grades\", conn)"
   ]
  },
  {
   "cell_type": "code",
   "execution_count": 234,
   "metadata": {},
   "outputs": [],
   "source": [
    "all_data = pd.read_sql('''SELECT    zip.zipcode, \n",
    "                                    fha.year, \n",
    "                                    fha.month, \n",
    "                                    fha.fha, \n",
    "                                    mob.mobility_rate, \n",
    "                                    inc.B19013001 AS household_income, \n",
    "                                    g.percent_total_points AS school_rating, \n",
    "                                    g.letter_grade AS school_grade\n",
    "                                FROM zipcode AS zip\n",
    "                                LEFT JOIN fha_loans AS fha ON zip.zipcode = fha.zipcode\n",
    "                                LEFT JOIN mobility_slim AS mob ON zip.zipcode = mob.name\n",
    "                                LEFT JOIN household_income AS inc ON zip.zipcode = inc.name\n",
    "                                LEFT JOIN grades AS g ON zip.zipcode = g.zip\n",
    "                        ''', conn)"
   ]
  },
  {
   "cell_type": "code",
   "execution_count": 235,
   "metadata": {},
   "outputs": [
    {
     "output_type": "execute_result",
     "data": {
      "text/plain": [
       "   zipcode  year  month  fha  mobility_rate  household_income school_rating  \\\n",
       "0    32003  2019      1    7       0.182327           94154.0          None   \n",
       "1    32003  2020      1    3       0.182327           94154.0          None   \n",
       "2    32003  2019      2    2       0.182327           94154.0          None   \n",
       "3    32003  2020      2    5       0.182327           94154.0          None   \n",
       "4    32003  2019      3    7       0.182327           94154.0          None   \n",
       "\n",
       "  school_grade  \n",
       "0         None  \n",
       "1         None  \n",
       "2         None  \n",
       "3         None  \n",
       "4         None  "
      ],
      "text/html": "<div>\n<style scoped>\n    .dataframe tbody tr th:only-of-type {\n        vertical-align: middle;\n    }\n\n    .dataframe tbody tr th {\n        vertical-align: top;\n    }\n\n    .dataframe thead th {\n        text-align: right;\n    }\n</style>\n<table border=\"1\" class=\"dataframe\">\n  <thead>\n    <tr style=\"text-align: right;\">\n      <th></th>\n      <th>zipcode</th>\n      <th>year</th>\n      <th>month</th>\n      <th>fha</th>\n      <th>mobility_rate</th>\n      <th>household_income</th>\n      <th>school_rating</th>\n      <th>school_grade</th>\n    </tr>\n  </thead>\n  <tbody>\n    <tr>\n      <th>0</th>\n      <td>32003</td>\n      <td>2019</td>\n      <td>1</td>\n      <td>7</td>\n      <td>0.182327</td>\n      <td>94154.0</td>\n      <td>None</td>\n      <td>None</td>\n    </tr>\n    <tr>\n      <th>1</th>\n      <td>32003</td>\n      <td>2020</td>\n      <td>1</td>\n      <td>3</td>\n      <td>0.182327</td>\n      <td>94154.0</td>\n      <td>None</td>\n      <td>None</td>\n    </tr>\n    <tr>\n      <th>2</th>\n      <td>32003</td>\n      <td>2019</td>\n      <td>2</td>\n      <td>2</td>\n      <td>0.182327</td>\n      <td>94154.0</td>\n      <td>None</td>\n      <td>None</td>\n    </tr>\n    <tr>\n      <th>3</th>\n      <td>32003</td>\n      <td>2020</td>\n      <td>2</td>\n      <td>5</td>\n      <td>0.182327</td>\n      <td>94154.0</td>\n      <td>None</td>\n      <td>None</td>\n    </tr>\n    <tr>\n      <th>4</th>\n      <td>32003</td>\n      <td>2019</td>\n      <td>3</td>\n      <td>7</td>\n      <td>0.182327</td>\n      <td>94154.0</td>\n      <td>None</td>\n      <td>None</td>\n    </tr>\n  </tbody>\n</table>\n</div>"
     },
     "metadata": {},
     "execution_count": 235
    }
   ],
   "source": [
    "all_data.head()"
   ]
  },
  {
   "cell_type": "code",
   "execution_count": 236,
   "metadata": {},
   "outputs": [],
   "source": [
    "# Close connection to SQLite Database\n",
    "if conn:\n",
    "    conn.close()"
   ]
  },
  {
   "cell_type": "code",
   "execution_count": 237,
   "metadata": {},
   "outputs": [
    {
     "output_type": "stream",
     "name": "stdout",
     "text": [
      "FHA Loans: zipcode    909\nmonth       12\nyear         2\ndtype: int64\nMobility Slim: 977\nMobility: 977\nGrades: 477\nIncome: 947\n"
     ]
    }
   ],
   "source": [
    "print(f\"FHA Loans: {fha_loans[['zipcode','month','year']].nunique()}\")\n",
    "print(f\"Mobility Slim: {mobility_slim['name'].nunique()}\")\n",
    "print(f\"Mobility: {mobility['name'].nunique()}\")\n",
    "print(f\"Grades: {grades['zip'].nunique()}\")\n",
    "print(f\"Income: {household_income['name'].nunique()}\")"
   ]
  },
  {
   "cell_type": "code",
   "execution_count": 238,
   "metadata": {},
   "outputs": [
    {
     "output_type": "execute_result",
     "data": {
      "text/plain": [
       "984"
      ]
     },
     "metadata": {},
     "execution_count": 238
    }
   ],
   "source": [
    "# FL Zip Codes from Census data for reference\n",
    "fl_census_data = pd.read_csv('Resources/ACSST5Y2019.S1901_data_with_overlays_2021-05-24T165952.csv', header=1)\n",
    "fl_codes = []\n",
    "\n",
    "for i,j in fl_census_data.iterrows():\n",
    "    fl_codes.append(j['Geographic Area Name'][6:11])\n",
    "\n",
    "len(fl_codes)"
   ]
  }
 ]
}