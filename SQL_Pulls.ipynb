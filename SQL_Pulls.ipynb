{
 "metadata": {
  "language_info": {
   "codemirror_mode": {
    "name": "ipython",
    "version": 3
   },
   "file_extension": ".py",
   "mimetype": "text/x-python",
   "name": "python",
   "nbconvert_exporter": "python",
   "pygments_lexer": "ipython3",
   "version": "3.7.1"
  },
  "orig_nbformat": 2,
  "kernelspec": {
   "name": "python371jvsc74a57bd07dbb69f2fe16ee411a1d001fc5a919d66021ed1f9a71b5ac22cd67380668a935",
   "display_name": "Python 3.7.1 64-bit"
  }
 },
 "nbformat": 4,
 "nbformat_minor": 2,
 "cells": [
  {
   "cell_type": "code",
   "execution_count": 261,
   "metadata": {},
   "outputs": [],
   "source": [
    "# Required Modules\n",
    "import pandas as pd\n",
    "import sqlite3\n",
    "from sqlite3 import Error\n",
    "import os\n",
    "\n",
    "# Identify database path\n",
    "db_path = os.path.abspath('./sqlite.db')\n",
    "\n",
    "# Connect to SQLite Database\n",
    "conn = sqlite3.connect(db_path)\n",
    "cursor = conn.cursor()"
   ]
  },
  {
   "cell_type": "code",
   "execution_count": 262,
   "metadata": {},
   "outputs": [
    {
     "output_type": "execute_result",
     "data": {
      "text/plain": [
       "984"
      ]
     },
     "metadata": {},
     "execution_count": 262
    }
   ],
   "source": [
    "# FL Zip Codes from Census data for reference\n",
    "fl_census_path = os.path.abspath('Resources/ACSST5Y2019.S1901_data_with_overlays_2021-05-24T165952.csv')\n",
    "fl_census_df = pd.read_csv(fl_census_path, header=1)\n",
    "fl_codes = []\n",
    "\n",
    "for i,j in fl_census_df.iterrows():\n",
    "    fl_codes.append(j['Geographic Area Name'][6:11])\n",
    "\n",
    "fl_zipcodes = pd.DataFrame(fl_codes)\n",
    "fl_zipcodes = fl_zipcodes.rename(columns={0:'zipcode'})\n",
    "\n",
    "# Drop table if it exist\n",
    "cursor.execute(\"DROP TABLE IF EXISTS zipcode\")\n",
    "\n",
    "# Create table\n",
    "fl_zipcodes.to_sql('zipcode', conn, if_exists='replace', index=False)\n",
    "fl_zipcodes['zipcode'].nunique()"
   ]
  },
  {
   "cell_type": "code",
   "execution_count": 263,
   "metadata": {},
   "outputs": [
    {
     "output_type": "execute_result",
     "data": {
      "text/plain": [
       "962"
      ]
     },
     "metadata": {},
     "execution_count": 263
    }
   ],
   "source": [
    "# Sales data\n",
    "sales_path = os.path.abspath('Resources/Sales_Area_Data/Sales/final_sales_data.csv')\n",
    "sales_data_df = pd.read_csv(sales_path, header=0)\n",
    "sales_data_df = sales_data_df[['zipcode','year','month','total_sales','avg_sale_price','med_sale_price','mortgage_rate']]\n",
    "\n",
    "# Drop table if it exist\n",
    "cursor.execute(\"DROP TABLE IF EXISTS sales\")\n",
    "\n",
    "# Create table\n",
    "sales_data_df.to_sql('sales', conn, if_exists='replace', index=False)\n",
    "sales_data_df['zipcode'].nunique()"
   ]
  },
  {
   "cell_type": "code",
   "execution_count": 264,
   "metadata": {},
   "outputs": [
    {
     "output_type": "execute_result",
     "data": {
      "text/plain": [
       "949"
      ]
     },
     "metadata": {},
     "execution_count": 264
    }
   ],
   "source": [
    "# Sales data\n",
    "area_path = os.path.abspath('Resources/Sales_Area_Data/Area/final_area_data.csv')\n",
    "area_data_df = pd.read_csv(area_path, header=0)\n",
    "area_data_df = area_data_df[['zipcode','property_tax','owner_occupied','renter_occupied','total_vacant','total_dwellings','studio_rent','one_bed_rent','two_bed_rent','three_bed_rent','four_bed_rent','fte_employed','unemployed','average_income','projected_income','expense_index','average_commute','crime_index']]\n",
    "area_data_df.head()\n",
    "\n",
    "# Drop table if it exist\n",
    "cursor.execute(\"DROP TABLE IF EXISTS area\")\n",
    "\n",
    "# Create table\n",
    "area_data_df.to_sql('area', conn, if_exists='replace', index=False)\n",
    "area_data_df['zipcode'].nunique()"
   ]
  },
  {
   "cell_type": "code",
   "execution_count": 265,
   "metadata": {},
   "outputs": [
    {
     "output_type": "execute_result",
     "data": {
      "text/plain": [
       "               name\n",
       "0          mobility\n",
       "1  household_income\n",
       "2     mobility_slim\n",
       "3            grades\n",
       "4         fha_loans\n",
       "5           zipcode\n",
       "6             sales\n",
       "7              area"
      ],
      "text/html": "<div>\n<style scoped>\n    .dataframe tbody tr th:only-of-type {\n        vertical-align: middle;\n    }\n\n    .dataframe tbody tr th {\n        vertical-align: top;\n    }\n\n    .dataframe thead th {\n        text-align: right;\n    }\n</style>\n<table border=\"1\" class=\"dataframe\">\n  <thead>\n    <tr style=\"text-align: right;\">\n      <th></th>\n      <th>name</th>\n    </tr>\n  </thead>\n  <tbody>\n    <tr>\n      <th>0</th>\n      <td>mobility</td>\n    </tr>\n    <tr>\n      <th>1</th>\n      <td>household_income</td>\n    </tr>\n    <tr>\n      <th>2</th>\n      <td>mobility_slim</td>\n    </tr>\n    <tr>\n      <th>3</th>\n      <td>grades</td>\n    </tr>\n    <tr>\n      <th>4</th>\n      <td>fha_loans</td>\n    </tr>\n    <tr>\n      <th>5</th>\n      <td>zipcode</td>\n    </tr>\n    <tr>\n      <th>6</th>\n      <td>sales</td>\n    </tr>\n    <tr>\n      <th>7</th>\n      <td>area</td>\n    </tr>\n  </tbody>\n</table>\n</div>"
     },
     "metadata": {},
     "execution_count": 265
    }
   ],
   "source": [
    "tables_ls = pd.read_sql(\"SELECT name FROM sqlite_master WHERE type='table'\", conn)\n",
    "tables_ls"
   ]
  },
  {
   "cell_type": "code",
   "execution_count": 266,
   "metadata": {},
   "outputs": [
    {
     "output_type": "execute_result",
     "data": {
      "text/plain": [
       "  zipcode  year  month  home_affordability  rent_affordability  total_sales  \\\n",
       "0   32003  2019      1                   0                   0           32   \n",
       "1   32003  2019      2                   0                   0           41   \n",
       "2   32003  2019      3                   0                   0           21   \n",
       "3   32003  2019      4                   0                   0           42   \n",
       "4   32003  2019      5                   0                   0           66   \n",
       "\n",
       "   fha  avg_sale_price  \n",
       "0    7        289290.0  \n",
       "1    2        286173.0  \n",
       "2    7        301620.0  \n",
       "3    3        263475.0  \n",
       "4    8        293816.0  "
      ],
      "text/html": "<div>\n<style scoped>\n    .dataframe tbody tr th:only-of-type {\n        vertical-align: middle;\n    }\n\n    .dataframe tbody tr th {\n        vertical-align: top;\n    }\n\n    .dataframe thead th {\n        text-align: right;\n    }\n</style>\n<table border=\"1\" class=\"dataframe\">\n  <thead>\n    <tr style=\"text-align: right;\">\n      <th></th>\n      <th>zipcode</th>\n      <th>year</th>\n      <th>month</th>\n      <th>home_affordability</th>\n      <th>rent_affordability</th>\n      <th>total_sales</th>\n      <th>fha</th>\n      <th>avg_sale_price</th>\n    </tr>\n  </thead>\n  <tbody>\n    <tr>\n      <th>0</th>\n      <td>32003</td>\n      <td>2019</td>\n      <td>1</td>\n      <td>0</td>\n      <td>0</td>\n      <td>32</td>\n      <td>7</td>\n      <td>289290.0</td>\n    </tr>\n    <tr>\n      <th>1</th>\n      <td>32003</td>\n      <td>2019</td>\n      <td>2</td>\n      <td>0</td>\n      <td>0</td>\n      <td>41</td>\n      <td>2</td>\n      <td>286173.0</td>\n    </tr>\n    <tr>\n      <th>2</th>\n      <td>32003</td>\n      <td>2019</td>\n      <td>3</td>\n      <td>0</td>\n      <td>0</td>\n      <td>21</td>\n      <td>7</td>\n      <td>301620.0</td>\n    </tr>\n    <tr>\n      <th>3</th>\n      <td>32003</td>\n      <td>2019</td>\n      <td>4</td>\n      <td>0</td>\n      <td>0</td>\n      <td>42</td>\n      <td>3</td>\n      <td>263475.0</td>\n    </tr>\n    <tr>\n      <th>4</th>\n      <td>32003</td>\n      <td>2019</td>\n      <td>5</td>\n      <td>0</td>\n      <td>0</td>\n      <td>66</td>\n      <td>8</td>\n      <td>293816.0</td>\n    </tr>\n  </tbody>\n</table>\n</div>"
     },
     "metadata": {},
     "execution_count": 266
    }
   ],
   "source": [
    "ml_data = pd.read_sql('''SELECT zip.zipcode, \n",
    "                                y.year, \n",
    "                                m.month,\n",
    "                                0 AS home_affordability,\n",
    "                                0 AS rent_affordability,\n",
    "                                s.total_sales,\n",
    "                                fha.fha, \n",
    "                                s.avg_sale_price\n",
    "                            FROM zipcode AS zip\n",
    "                            CROSS JOIN (SELECT 2019 AS year UNION SELECT 2020 AS year) AS y\n",
    "                            CROSS JOIN (SELECT 1 AS month UNION SELECT 2 AS month UNION SELECT 3 AS month\n",
    "                                    UNION SELECT 4 AS month UNION SELECT 5 AS month UNION SELECT 6 AS month\n",
    "                                    UNION SELECT 7 AS month UNION SELECT 8 AS month UNION SELECT 9 AS month\n",
    "                                    UNION SELECT 10 AS month UNION SELECT 11 AS month UNION SELECT 12 AS month) AS m\n",
    "                            LEFT JOIN fha_loans AS fha ON zip.zipcode = fha.zipcode AND y.year = fha.year AND m.month = fha.month\n",
    "                            LEFT JOIN mobility_slim AS mob ON zip.zipcode = mob.name\n",
    "                            LEFT JOIN household_income AS inc ON zip.zipcode = inc.name\n",
    "                            LEFT JOIN grades AS g ON zip.zipcode = g.zip\n",
    "                            LEFT JOIN sales AS s ON zip.zipcode = s.zipcode AND y.year = s.year AND m.month = s.month\n",
    "                            LEFT JOIN area AS a ON zip.zipcode = a.zipcode\n",
    "                            WHERE s.total_sales IS NOT NULL\n",
    "                            AND fha.fha IS NOT NULL\n",
    "                            AND s.avg_sale_price IS NOT NULL\n",
    "                    ''', conn)\n",
    "ml_data.head()"
   ]
  },
  {
   "cell_type": "code",
   "execution_count": 267,
   "metadata": {},
   "outputs": [
    {
     "output_type": "execute_result",
     "data": {
      "text/plain": [
       "  zipcode  year  month  fha  mobility_rate  household_income  school_rating  \\\n",
       "0   32003  2019      1  7.0       0.182327           94154.0            NaN   \n",
       "1   32003  2019      2  2.0       0.182327           94154.0            NaN   \n",
       "2   32003  2019      3  7.0       0.182327           94154.0            NaN   \n",
       "3   32003  2019      4  3.0       0.182327           94154.0            NaN   \n",
       "4   32003  2019      5  8.0       0.182327           94154.0            NaN   \n",
       "\n",
       "  school_grade  total_sales  avg_sale_price     ...       two_bed_rent  \\\n",
       "0         None         32.0        289290.0     ...             1113.0   \n",
       "1         None         41.0        286173.0     ...             1113.0   \n",
       "2         None         21.0        301620.0     ...             1113.0   \n",
       "3         None         42.0        263475.0     ...             1113.0   \n",
       "4         None         66.0        293816.0     ...             1113.0   \n",
       "\n",
       "   three_bed_rent  four_bed_rent  fte_employed  unemployed  average_income  \\\n",
       "0          1455.0         1852.0       10671.0      1069.0        110116.0   \n",
       "1          1455.0         1852.0       10671.0      1069.0        110116.0   \n",
       "2          1455.0         1852.0       10671.0      1069.0        110116.0   \n",
       "3          1455.0         1852.0       10671.0      1069.0        110116.0   \n",
       "4          1455.0         1852.0       10671.0      1069.0        110116.0   \n",
       "\n",
       "   projected_income  expense_index  average_commute  crime_index  \n",
       "0          119505.0          104.0             35.0         28.0  \n",
       "1          119505.0          104.0             35.0         28.0  \n",
       "2          119505.0          104.0             35.0         28.0  \n",
       "3          119505.0          104.0             35.0         28.0  \n",
       "4          119505.0          104.0             35.0         28.0  \n",
       "\n",
       "[5 rows x 29 columns]"
      ],
      "text/html": "<div>\n<style scoped>\n    .dataframe tbody tr th:only-of-type {\n        vertical-align: middle;\n    }\n\n    .dataframe tbody tr th {\n        vertical-align: top;\n    }\n\n    .dataframe thead th {\n        text-align: right;\n    }\n</style>\n<table border=\"1\" class=\"dataframe\">\n  <thead>\n    <tr style=\"text-align: right;\">\n      <th></th>\n      <th>zipcode</th>\n      <th>year</th>\n      <th>month</th>\n      <th>fha</th>\n      <th>mobility_rate</th>\n      <th>household_income</th>\n      <th>school_rating</th>\n      <th>school_grade</th>\n      <th>total_sales</th>\n      <th>avg_sale_price</th>\n      <th>...</th>\n      <th>two_bed_rent</th>\n      <th>three_bed_rent</th>\n      <th>four_bed_rent</th>\n      <th>fte_employed</th>\n      <th>unemployed</th>\n      <th>average_income</th>\n      <th>projected_income</th>\n      <th>expense_index</th>\n      <th>average_commute</th>\n      <th>crime_index</th>\n    </tr>\n  </thead>\n  <tbody>\n    <tr>\n      <th>0</th>\n      <td>32003</td>\n      <td>2019</td>\n      <td>1</td>\n      <td>7.0</td>\n      <td>0.182327</td>\n      <td>94154.0</td>\n      <td>NaN</td>\n      <td>None</td>\n      <td>32.0</td>\n      <td>289290.0</td>\n      <td>...</td>\n      <td>1113.0</td>\n      <td>1455.0</td>\n      <td>1852.0</td>\n      <td>10671.0</td>\n      <td>1069.0</td>\n      <td>110116.0</td>\n      <td>119505.0</td>\n      <td>104.0</td>\n      <td>35.0</td>\n      <td>28.0</td>\n    </tr>\n    <tr>\n      <th>1</th>\n      <td>32003</td>\n      <td>2019</td>\n      <td>2</td>\n      <td>2.0</td>\n      <td>0.182327</td>\n      <td>94154.0</td>\n      <td>NaN</td>\n      <td>None</td>\n      <td>41.0</td>\n      <td>286173.0</td>\n      <td>...</td>\n      <td>1113.0</td>\n      <td>1455.0</td>\n      <td>1852.0</td>\n      <td>10671.0</td>\n      <td>1069.0</td>\n      <td>110116.0</td>\n      <td>119505.0</td>\n      <td>104.0</td>\n      <td>35.0</td>\n      <td>28.0</td>\n    </tr>\n    <tr>\n      <th>2</th>\n      <td>32003</td>\n      <td>2019</td>\n      <td>3</td>\n      <td>7.0</td>\n      <td>0.182327</td>\n      <td>94154.0</td>\n      <td>NaN</td>\n      <td>None</td>\n      <td>21.0</td>\n      <td>301620.0</td>\n      <td>...</td>\n      <td>1113.0</td>\n      <td>1455.0</td>\n      <td>1852.0</td>\n      <td>10671.0</td>\n      <td>1069.0</td>\n      <td>110116.0</td>\n      <td>119505.0</td>\n      <td>104.0</td>\n      <td>35.0</td>\n      <td>28.0</td>\n    </tr>\n    <tr>\n      <th>3</th>\n      <td>32003</td>\n      <td>2019</td>\n      <td>4</td>\n      <td>3.0</td>\n      <td>0.182327</td>\n      <td>94154.0</td>\n      <td>NaN</td>\n      <td>None</td>\n      <td>42.0</td>\n      <td>263475.0</td>\n      <td>...</td>\n      <td>1113.0</td>\n      <td>1455.0</td>\n      <td>1852.0</td>\n      <td>10671.0</td>\n      <td>1069.0</td>\n      <td>110116.0</td>\n      <td>119505.0</td>\n      <td>104.0</td>\n      <td>35.0</td>\n      <td>28.0</td>\n    </tr>\n    <tr>\n      <th>4</th>\n      <td>32003</td>\n      <td>2019</td>\n      <td>5</td>\n      <td>8.0</td>\n      <td>0.182327</td>\n      <td>94154.0</td>\n      <td>NaN</td>\n      <td>None</td>\n      <td>66.0</td>\n      <td>293816.0</td>\n      <td>...</td>\n      <td>1113.0</td>\n      <td>1455.0</td>\n      <td>1852.0</td>\n      <td>10671.0</td>\n      <td>1069.0</td>\n      <td>110116.0</td>\n      <td>119505.0</td>\n      <td>104.0</td>\n      <td>35.0</td>\n      <td>28.0</td>\n    </tr>\n  </tbody>\n</table>\n<p>5 rows × 29 columns</p>\n</div>"
     },
     "metadata": {},
     "execution_count": 267
    }
   ],
   "source": [
    "tableau_data = pd.read_sql('''SELECT    zip.zipcode, \n",
    "                                        y.year, \n",
    "                                        m.month,\n",
    "                                        fha.fha, \n",
    "                                        mob.mobility_rate, \n",
    "                                        inc.B19013001 AS household_income, \n",
    "                                        g.percent_total_points AS school_rating, \n",
    "                                        g.letter_grade AS school_grade,\n",
    "                                        s.total_sales,\n",
    "                                        s.avg_sale_price,\n",
    "                                        s.med_sale_price,\n",
    "                                        s.mortgage_rate,\n",
    "                                        a.property_tax,\n",
    "                                        a.owner_occupied,\n",
    "                                        a.renter_occupied,\n",
    "                                        a.total_vacant,\n",
    "                                        a.total_dwellings,\n",
    "                                        a.studio_rent,\n",
    "                                        a.one_bed_rent,\n",
    "                                        a.two_bed_rent,\n",
    "                                        a.three_bed_rent,\n",
    "                                        a.four_bed_rent,\n",
    "                                        a.fte_employed,\n",
    "                                        a.unemployed,\n",
    "                                        a.average_income,\n",
    "                                        a.projected_income,\n",
    "                                        a.expense_index,\n",
    "                                        a.average_commute,\n",
    "                                        a.crime_index\n",
    "                                        FROM zipcode AS zip\n",
    "                                        CROSS JOIN (SELECT 2019 AS year UNION SELECT 2020 AS year) AS y\n",
    "                                        CROSS JOIN (SELECT 1 AS month UNION SELECT 2 AS month UNION SELECT 3 AS month\n",
    "                                                UNION SELECT 4 AS month UNION SELECT 5 AS month UNION SELECT 6 AS month\n",
    "                                                UNION SELECT 7 AS month UNION SELECT 8 AS month UNION SELECT 9 AS month\n",
    "                                                UNION SELECT 10 AS month UNION SELECT 11 AS month UNION SELECT 12 AS month) AS m\n",
    "                                        LEFT JOIN fha_loans AS fha ON zip.zipcode = fha.zipcode AND y.year = fha.year AND m.month = fha.month\n",
    "                                        LEFT JOIN mobility_slim AS mob ON zip.zipcode = mob.name\n",
    "                                        LEFT JOIN household_income AS inc ON zip.zipcode = inc.name\n",
    "                                        LEFT JOIN grades AS g ON zip.zipcode = g.zip\n",
    "                                        LEFT JOIN sales AS s ON zip.zipcode = s.zipcode AND y.year = s.year AND m.month = s.month\n",
    "                                        LEFT JOIN area AS a ON zip.zipcode = a.zipcode\n",
    "                                ''', conn)\n",
    "all_data.head()"
   ]
  },
  {
   "cell_type": "code",
   "execution_count": 268,
   "metadata": {},
   "outputs": [],
   "source": [
    "# Close connection to SQLite Database\n",
    "if conn:\n",
    "    conn.close()"
   ]
  },
  {
   "cell_type": "code",
   "execution_count": 269,
   "metadata": {},
   "outputs": [
    {
     "output_type": "execute_result",
     "data": {
      "text/plain": [
       "zipcode               984\n",
       "year                    2\n",
       "month                  12\n",
       "fha                    94\n",
       "mobility_rate         953\n",
       "household_income      937\n",
       "school_rating          51\n",
       "school_grade            4\n",
       "total_sales           215\n",
       "avg_sale_price      20342\n",
       "med_sale_price       4538\n",
       "mortgage_rate          24\n",
       "property_tax          851\n",
       "owner_occupied        913\n",
       "renter_occupied       870\n",
       "total_vacant          822\n",
       "total_dwellings       930\n",
       "studio_rent            40\n",
       "one_bed_rent           42\n",
       "two_bed_rent           40\n",
       "three_bed_rent         47\n",
       "four_bed_rent          48\n",
       "fte_employed          910\n",
       "unemployed            756\n",
       "average_income        942\n",
       "projected_income      940\n",
       "expense_index          97\n",
       "average_commute        35\n",
       "crime_index           445\n",
       "dtype: int64"
      ]
     },
     "metadata": {},
     "execution_count": 269
    }
   ],
   "source": [
    "tableau_data.nunique()"
   ]
  },
  {
   "cell_type": "code",
   "execution_count": 270,
   "metadata": {},
   "outputs": [
    {
     "output_type": "execute_result",
     "data": {
      "text/plain": [
       "zipcode                 0\n",
       "year                    0\n",
       "month                   0\n",
       "fha                  5919\n",
       "mobility_rate         216\n",
       "household_income      912\n",
       "school_rating       12744\n",
       "school_grade        12744\n",
       "total_sales          1809\n",
       "avg_sale_price       1809\n",
       "med_sale_price       1809\n",
       "mortgage_rate        1809\n",
       "property_tax          840\n",
       "owner_occupied        840\n",
       "renter_occupied       840\n",
       "total_vacant          840\n",
       "total_dwellings       840\n",
       "studio_rent           840\n",
       "one_bed_rent          840\n",
       "two_bed_rent          840\n",
       "three_bed_rent        840\n",
       "four_bed_rent         840\n",
       "fte_employed          840\n",
       "unemployed            840\n",
       "average_income        840\n",
       "projected_income      840\n",
       "expense_index         840\n",
       "average_commute       840\n",
       "crime_index           840\n",
       "dtype: int64"
      ]
     },
     "metadata": {},
     "execution_count": 270
    }
   ],
   "source": [
    "tableau_data.isnull().sum()"
   ]
  }
 ]
}