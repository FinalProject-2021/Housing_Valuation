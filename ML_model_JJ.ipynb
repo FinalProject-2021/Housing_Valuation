{
 "metadata": {
  "language_info": {
   "codemirror_mode": {
    "name": "ipython",
    "version": 3
   },
   "file_extension": ".py",
   "mimetype": "text/x-python",
   "name": "python",
   "nbconvert_exporter": "python",
   "pygments_lexer": "ipython3",
   "version": "3.6.10"
  },
  "orig_nbformat": 2,
  "kernelspec": {
   "name": "python3610jvsc74a57bd0832a58595f549721e5808a4f038b9464c2d8e6e19db5e8e2fb21cf5b549373c5",
   "display_name": "Python 3.6.10 64-bit ('PythonData': conda)"
  }
 },
 "nbformat": 4,
 "nbformat_minor": 2,
 "cells": [
  {
   "cell_type": "code",
   "execution_count": 9,
   "metadata": {},
   "outputs": [],
   "source": [
    "# Required Modules\n",
    "import pandas as pd\n",
    "import numpy as np\n"
   ]
  },
  {
   "cell_type": "code",
   "execution_count": 29,
   "metadata": {},
   "outputs": [
    {
     "output_type": "execute_result",
     "data": {
      "text/plain": [
       "   Zip_Code        Date  Year  Month  Sale_Price  Interest_Rate  Property_Tax  \\\n",
       "0     32003  2019-01-01  2019      1   244950.00           4.46          3778   \n",
       "1     32003  2019-02-01  2019      2   270000.00           4.37          3778   \n",
       "2     32003  2019-03-01  2019      3   275000.00           4.26          3778   \n",
       "3     32003  2019-04-01  2019      4   264500.00           4.14          3778   \n",
       "4     32003  2019-05-01  2019      5   281000.00           4.07          3778   \n",
       "\n",
       "   Rent_Price  Household_Income  Rent_Affordability  ...  FTE_Employed  \\\n",
       "0        1113          94154.00                0.14  ...         10671   \n",
       "1        1113          94154.00                0.14  ...         10671   \n",
       "2        1113          94154.00                0.14  ...         10671   \n",
       "3        1113          94154.00                0.14  ...         10671   \n",
       "4        1113          94154.00                0.14  ...         10671   \n",
       "\n",
       "   Unemployed  Expense_Index  Average_Commute Crime_Index  Loan_Amount  \\\n",
       "0        1069            104               35          28    195960.00   \n",
       "1        1069            104               35          28    216000.00   \n",
       "2        1069            104               35          28    220000.00   \n",
       "3        1069            104               35          28    211600.00   \n",
       "4        1069            104               35          28    224800.00   \n",
       "\n",
       "   Loan_Term  Loan_R  Loan_Payment  Home_Affordability  \n",
       "0     360.00    1.00        988.71                0.13  \n",
       "1     360.00    1.00       1077.82                0.14  \n",
       "2     360.00    1.00       1084.20                0.14  \n",
       "3     360.00    1.00       1027.67                0.13  \n",
       "4     360.00    1.00       1082.58                0.14  \n",
       "\n",
       "[5 rows x 29 columns]"
      ],
      "text/html": "<div>\n<style scoped>\n    .dataframe tbody tr th:only-of-type {\n        vertical-align: middle;\n    }\n\n    .dataframe tbody tr th {\n        vertical-align: top;\n    }\n\n    .dataframe thead th {\n        text-align: right;\n    }\n</style>\n<table border=\"1\" class=\"dataframe\">\n  <thead>\n    <tr style=\"text-align: right;\">\n      <th></th>\n      <th>Zip_Code</th>\n      <th>Date</th>\n      <th>Year</th>\n      <th>Month</th>\n      <th>Sale_Price</th>\n      <th>Interest_Rate</th>\n      <th>Property_Tax</th>\n      <th>Rent_Price</th>\n      <th>Household_Income</th>\n      <th>Rent_Affordability</th>\n      <th>...</th>\n      <th>FTE_Employed</th>\n      <th>Unemployed</th>\n      <th>Expense_Index</th>\n      <th>Average_Commute</th>\n      <th>Crime_Index</th>\n      <th>Loan_Amount</th>\n      <th>Loan_Term</th>\n      <th>Loan_R</th>\n      <th>Loan_Payment</th>\n      <th>Home_Affordability</th>\n    </tr>\n  </thead>\n  <tbody>\n    <tr>\n      <th>0</th>\n      <td>32003</td>\n      <td>2019-01-01</td>\n      <td>2019</td>\n      <td>1</td>\n      <td>244950.00</td>\n      <td>4.46</td>\n      <td>3778</td>\n      <td>1113</td>\n      <td>94154.00</td>\n      <td>0.14</td>\n      <td>...</td>\n      <td>10671</td>\n      <td>1069</td>\n      <td>104</td>\n      <td>35</td>\n      <td>28</td>\n      <td>195960.00</td>\n      <td>360.00</td>\n      <td>1.00</td>\n      <td>988.71</td>\n      <td>0.13</td>\n    </tr>\n    <tr>\n      <th>1</th>\n      <td>32003</td>\n      <td>2019-02-01</td>\n      <td>2019</td>\n      <td>2</td>\n      <td>270000.00</td>\n      <td>4.37</td>\n      <td>3778</td>\n      <td>1113</td>\n      <td>94154.00</td>\n      <td>0.14</td>\n      <td>...</td>\n      <td>10671</td>\n      <td>1069</td>\n      <td>104</td>\n      <td>35</td>\n      <td>28</td>\n      <td>216000.00</td>\n      <td>360.00</td>\n      <td>1.00</td>\n      <td>1077.82</td>\n      <td>0.14</td>\n    </tr>\n    <tr>\n      <th>2</th>\n      <td>32003</td>\n      <td>2019-03-01</td>\n      <td>2019</td>\n      <td>3</td>\n      <td>275000.00</td>\n      <td>4.26</td>\n      <td>3778</td>\n      <td>1113</td>\n      <td>94154.00</td>\n      <td>0.14</td>\n      <td>...</td>\n      <td>10671</td>\n      <td>1069</td>\n      <td>104</td>\n      <td>35</td>\n      <td>28</td>\n      <td>220000.00</td>\n      <td>360.00</td>\n      <td>1.00</td>\n      <td>1084.20</td>\n      <td>0.14</td>\n    </tr>\n    <tr>\n      <th>3</th>\n      <td>32003</td>\n      <td>2019-04-01</td>\n      <td>2019</td>\n      <td>4</td>\n      <td>264500.00</td>\n      <td>4.14</td>\n      <td>3778</td>\n      <td>1113</td>\n      <td>94154.00</td>\n      <td>0.14</td>\n      <td>...</td>\n      <td>10671</td>\n      <td>1069</td>\n      <td>104</td>\n      <td>35</td>\n      <td>28</td>\n      <td>211600.00</td>\n      <td>360.00</td>\n      <td>1.00</td>\n      <td>1027.67</td>\n      <td>0.13</td>\n    </tr>\n    <tr>\n      <th>4</th>\n      <td>32003</td>\n      <td>2019-05-01</td>\n      <td>2019</td>\n      <td>5</td>\n      <td>281000.00</td>\n      <td>4.07</td>\n      <td>3778</td>\n      <td>1113</td>\n      <td>94154.00</td>\n      <td>0.14</td>\n      <td>...</td>\n      <td>10671</td>\n      <td>1069</td>\n      <td>104</td>\n      <td>35</td>\n      <td>28</td>\n      <td>224800.00</td>\n      <td>360.00</td>\n      <td>1.00</td>\n      <td>1082.58</td>\n      <td>0.14</td>\n    </tr>\n  </tbody>\n</table>\n<p>5 rows × 29 columns</p>\n</div>"
     },
     "metadata": {},
     "execution_count": 29
    }
   ],
   "source": [
    "data = pd.read_csv('Resources/Final_Data.csv')\n",
    "data.head()"
   ]
  },
  {
   "cell_type": "code",
   "execution_count": 30,
   "metadata": {},
   "outputs": [
    {
     "output_type": "execute_result",
     "data": {
      "text/plain": [
       "Zip_Code                int64\n",
       "Date                   object\n",
       "Year                    int64\n",
       "Month                   int64\n",
       "Sale_Price            float64\n",
       "Interest_Rate         float64\n",
       "Property_Tax            int64\n",
       "Rent_Price              int64\n",
       "Household_Income      float64\n",
       "Rent_Affordability    float64\n",
       "Total_Sales             int64\n",
       "FHA_Count               int64\n",
       "Mobility_Rate         float64\n",
       "School_Rating           int64\n",
       "School_Grade           object\n",
       "Owner_Occupied          int64\n",
       "Renter_Occupied         int64\n",
       "Total_Vacant            int64\n",
       "Total_Dwellings         int64\n",
       "FTE_Employed            int64\n",
       "Unemployed              int64\n",
       "Expense_Index           int64\n",
       "Average_Commute         int64\n",
       "Crime_Index             int64\n",
       "Loan_Amount           float64\n",
       "Loan_Term             float64\n",
       "Loan_R                float64\n",
       "Loan_Payment          float64\n",
       "Home_Affordability    float64\n",
       "dtype: object"
      ]
     },
     "metadata": {},
     "execution_count": 30
    }
   ],
   "source": [
    "data.dtypes"
   ]
  },
  {
   "cell_type": "code",
   "execution_count": 66,
   "metadata": {},
   "outputs": [
    {
     "output_type": "execute_result",
     "data": {
      "text/plain": [
       "       Zip_Code  Year  Month  Mobility_Rate  Expense_Index  Crime_Index  \\\n",
       "0         32003  2019      1           0.18            104           28   \n",
       "1         32003  2019      2           0.18            104           28   \n",
       "2         32003  2019      3           0.18            104           28   \n",
       "3         32003  2019      4           0.18            104           28   \n",
       "4         32003  2019      5           0.18            104           28   \n",
       "...         ...   ...    ...            ...            ...          ...   \n",
       "21759     34997  2020     10           0.14             91          113   \n",
       "21760     34997  2020     11           0.14             91          113   \n",
       "21761     34997  2020     11           0.14             91          113   \n",
       "21762     34997  2020     12           0.14             91          113   \n",
       "21763     34997  2020     12           0.14             91          113   \n",
       "\n",
       "       Total_Sales  FHA_Count  Home_Affordability  Rent_Affordability  \\\n",
       "0               32          7                0.13                0.14   \n",
       "1               41          2                0.14                0.14   \n",
       "2               21          7                0.14                0.14   \n",
       "3               42          3                0.13                0.14   \n",
       "4               66          8                0.14                0.14   \n",
       "...            ...        ...                 ...                 ...   \n",
       "21759          139         17                0.19                0.25   \n",
       "21760          132         11                0.17                0.25   \n",
       "21761          132         11                0.17                0.25   \n",
       "21762          142         16                0.20                0.25   \n",
       "21763          142         16                0.20                0.25   \n",
       "\n",
       "       Sale_Price  \n",
       "0       244950.00  \n",
       "1       270000.00  \n",
       "2       275000.00  \n",
       "3       264500.00  \n",
       "4       281000.00  \n",
       "...           ...  \n",
       "21759   285000.00  \n",
       "21760   259750.00  \n",
       "21761   259750.00  \n",
       "21762   297000.00  \n",
       "21763   297000.00  \n",
       "\n",
       "[21764 rows x 11 columns]"
      ],
      "text/html": "<div>\n<style scoped>\n    .dataframe tbody tr th:only-of-type {\n        vertical-align: middle;\n    }\n\n    .dataframe tbody tr th {\n        vertical-align: top;\n    }\n\n    .dataframe thead th {\n        text-align: right;\n    }\n</style>\n<table border=\"1\" class=\"dataframe\">\n  <thead>\n    <tr style=\"text-align: right;\">\n      <th></th>\n      <th>Zip_Code</th>\n      <th>Year</th>\n      <th>Month</th>\n      <th>Mobility_Rate</th>\n      <th>Expense_Index</th>\n      <th>Crime_Index</th>\n      <th>Total_Sales</th>\n      <th>FHA_Count</th>\n      <th>Home_Affordability</th>\n      <th>Rent_Affordability</th>\n      <th>Sale_Price</th>\n    </tr>\n  </thead>\n  <tbody>\n    <tr>\n      <th>0</th>\n      <td>32003</td>\n      <td>2019</td>\n      <td>1</td>\n      <td>0.18</td>\n      <td>104</td>\n      <td>28</td>\n      <td>32</td>\n      <td>7</td>\n      <td>0.13</td>\n      <td>0.14</td>\n      <td>244950.00</td>\n    </tr>\n    <tr>\n      <th>1</th>\n      <td>32003</td>\n      <td>2019</td>\n      <td>2</td>\n      <td>0.18</td>\n      <td>104</td>\n      <td>28</td>\n      <td>41</td>\n      <td>2</td>\n      <td>0.14</td>\n      <td>0.14</td>\n      <td>270000.00</td>\n    </tr>\n    <tr>\n      <th>2</th>\n      <td>32003</td>\n      <td>2019</td>\n      <td>3</td>\n      <td>0.18</td>\n      <td>104</td>\n      <td>28</td>\n      <td>21</td>\n      <td>7</td>\n      <td>0.14</td>\n      <td>0.14</td>\n      <td>275000.00</td>\n    </tr>\n    <tr>\n      <th>3</th>\n      <td>32003</td>\n      <td>2019</td>\n      <td>4</td>\n      <td>0.18</td>\n      <td>104</td>\n      <td>28</td>\n      <td>42</td>\n      <td>3</td>\n      <td>0.13</td>\n      <td>0.14</td>\n      <td>264500.00</td>\n    </tr>\n    <tr>\n      <th>4</th>\n      <td>32003</td>\n      <td>2019</td>\n      <td>5</td>\n      <td>0.18</td>\n      <td>104</td>\n      <td>28</td>\n      <td>66</td>\n      <td>8</td>\n      <td>0.14</td>\n      <td>0.14</td>\n      <td>281000.00</td>\n    </tr>\n    <tr>\n      <th>...</th>\n      <td>...</td>\n      <td>...</td>\n      <td>...</td>\n      <td>...</td>\n      <td>...</td>\n      <td>...</td>\n      <td>...</td>\n      <td>...</td>\n      <td>...</td>\n      <td>...</td>\n      <td>...</td>\n    </tr>\n    <tr>\n      <th>21759</th>\n      <td>34997</td>\n      <td>2020</td>\n      <td>10</td>\n      <td>0.14</td>\n      <td>91</td>\n      <td>113</td>\n      <td>139</td>\n      <td>17</td>\n      <td>0.19</td>\n      <td>0.25</td>\n      <td>285000.00</td>\n    </tr>\n    <tr>\n      <th>21760</th>\n      <td>34997</td>\n      <td>2020</td>\n      <td>11</td>\n      <td>0.14</td>\n      <td>91</td>\n      <td>113</td>\n      <td>132</td>\n      <td>11</td>\n      <td>0.17</td>\n      <td>0.25</td>\n      <td>259750.00</td>\n    </tr>\n    <tr>\n      <th>21761</th>\n      <td>34997</td>\n      <td>2020</td>\n      <td>11</td>\n      <td>0.14</td>\n      <td>91</td>\n      <td>113</td>\n      <td>132</td>\n      <td>11</td>\n      <td>0.17</td>\n      <td>0.25</td>\n      <td>259750.00</td>\n    </tr>\n    <tr>\n      <th>21762</th>\n      <td>34997</td>\n      <td>2020</td>\n      <td>12</td>\n      <td>0.14</td>\n      <td>91</td>\n      <td>113</td>\n      <td>142</td>\n      <td>16</td>\n      <td>0.20</td>\n      <td>0.25</td>\n      <td>297000.00</td>\n    </tr>\n    <tr>\n      <th>21763</th>\n      <td>34997</td>\n      <td>2020</td>\n      <td>12</td>\n      <td>0.14</td>\n      <td>91</td>\n      <td>113</td>\n      <td>142</td>\n      <td>16</td>\n      <td>0.20</td>\n      <td>0.25</td>\n      <td>297000.00</td>\n    </tr>\n  </tbody>\n</table>\n<p>21764 rows × 11 columns</p>\n</div>"
     },
     "metadata": {},
     "execution_count": 66
    }
   ],
   "source": [
    "ml_data = data[['Zip_Code', 'Year', 'Month', 'Mobility_Rate', 'Expense_Index', 'Crime_Index' ,'Total_Sales', 'FHA_Count', 'Home_Affordability', 'Rent_Affordability', 'Sale_Price' ]]\n",
    "ml_data"
   ]
  },
  {
   "cell_type": "code",
   "execution_count": 56,
   "metadata": {},
   "outputs": [
    {
     "output_type": "stream",
     "name": "stdout",
     "text": [
      "It contains 0 infinite values\n"
     ]
    }
   ],
   "source": [
    "count = np.isinf(ml_data).values.sum()\n",
    "print(\"It contains \" + str(count) + \" infinite values\")"
   ]
  },
  {
   "cell_type": "code",
   "execution_count": 109,
   "metadata": {},
   "outputs": [
    {
     "output_type": "execute_result",
     "data": {
      "text/plain": [
       "       Zip_Code  Year  Month  Mobility_Rate  Expense_Index  Crime_Index  \\\n",
       "0         32003  2019      1           0.18            104           28   \n",
       "1         32003  2019      2           0.18            104           28   \n",
       "2         32003  2019      3           0.18            104           28   \n",
       "3         32003  2019      4           0.18            104           28   \n",
       "4         32003  2019      5           0.18            104           28   \n",
       "...         ...   ...    ...            ...            ...          ...   \n",
       "21759     34997  2020     10           0.14             91          113   \n",
       "21760     34997  2020     11           0.14             91          113   \n",
       "21761     34997  2020     11           0.14             91          113   \n",
       "21762     34997  2020     12           0.14             91          113   \n",
       "21763     34997  2020     12           0.14             91          113   \n",
       "\n",
       "       Total_Sales  FHA_Count  Home_Affordability  Rent_Affordability  \\\n",
       "0               32          7                0.13                0.14   \n",
       "1               41          2                0.14                0.14   \n",
       "2               21          7                0.14                0.14   \n",
       "3               42          3                0.13                0.14   \n",
       "4               66          8                0.14                0.14   \n",
       "...            ...        ...                 ...                 ...   \n",
       "21759          139         17                0.19                0.25   \n",
       "21760          132         11                0.17                0.25   \n",
       "21761          132         11                0.17                0.25   \n",
       "21762          142         16                0.20                0.25   \n",
       "21763          142         16                0.20                0.25   \n",
       "\n",
       "       Sale_Price  \n",
       "0       244950.00  \n",
       "1       270000.00  \n",
       "2       275000.00  \n",
       "3       264500.00  \n",
       "4       281000.00  \n",
       "...           ...  \n",
       "21759   285000.00  \n",
       "21760   259750.00  \n",
       "21761   259750.00  \n",
       "21762   297000.00  \n",
       "21763   297000.00  \n",
       "\n",
       "[21764 rows x 11 columns]"
      ],
      "text/html": "<div>\n<style scoped>\n    .dataframe tbody tr th:only-of-type {\n        vertical-align: middle;\n    }\n\n    .dataframe tbody tr th {\n        vertical-align: top;\n    }\n\n    .dataframe thead th {\n        text-align: right;\n    }\n</style>\n<table border=\"1\" class=\"dataframe\">\n  <thead>\n    <tr style=\"text-align: right;\">\n      <th></th>\n      <th>Zip_Code</th>\n      <th>Year</th>\n      <th>Month</th>\n      <th>Mobility_Rate</th>\n      <th>Expense_Index</th>\n      <th>Crime_Index</th>\n      <th>Total_Sales</th>\n      <th>FHA_Count</th>\n      <th>Home_Affordability</th>\n      <th>Rent_Affordability</th>\n      <th>Sale_Price</th>\n    </tr>\n  </thead>\n  <tbody>\n    <tr>\n      <th>0</th>\n      <td>32003</td>\n      <td>2019</td>\n      <td>1</td>\n      <td>0.18</td>\n      <td>104</td>\n      <td>28</td>\n      <td>32</td>\n      <td>7</td>\n      <td>0.13</td>\n      <td>0.14</td>\n      <td>244950.00</td>\n    </tr>\n    <tr>\n      <th>1</th>\n      <td>32003</td>\n      <td>2019</td>\n      <td>2</td>\n      <td>0.18</td>\n      <td>104</td>\n      <td>28</td>\n      <td>41</td>\n      <td>2</td>\n      <td>0.14</td>\n      <td>0.14</td>\n      <td>270000.00</td>\n    </tr>\n    <tr>\n      <th>2</th>\n      <td>32003</td>\n      <td>2019</td>\n      <td>3</td>\n      <td>0.18</td>\n      <td>104</td>\n      <td>28</td>\n      <td>21</td>\n      <td>7</td>\n      <td>0.14</td>\n      <td>0.14</td>\n      <td>275000.00</td>\n    </tr>\n    <tr>\n      <th>3</th>\n      <td>32003</td>\n      <td>2019</td>\n      <td>4</td>\n      <td>0.18</td>\n      <td>104</td>\n      <td>28</td>\n      <td>42</td>\n      <td>3</td>\n      <td>0.13</td>\n      <td>0.14</td>\n      <td>264500.00</td>\n    </tr>\n    <tr>\n      <th>4</th>\n      <td>32003</td>\n      <td>2019</td>\n      <td>5</td>\n      <td>0.18</td>\n      <td>104</td>\n      <td>28</td>\n      <td>66</td>\n      <td>8</td>\n      <td>0.14</td>\n      <td>0.14</td>\n      <td>281000.00</td>\n    </tr>\n    <tr>\n      <th>...</th>\n      <td>...</td>\n      <td>...</td>\n      <td>...</td>\n      <td>...</td>\n      <td>...</td>\n      <td>...</td>\n      <td>...</td>\n      <td>...</td>\n      <td>...</td>\n      <td>...</td>\n      <td>...</td>\n    </tr>\n    <tr>\n      <th>21759</th>\n      <td>34997</td>\n      <td>2020</td>\n      <td>10</td>\n      <td>0.14</td>\n      <td>91</td>\n      <td>113</td>\n      <td>139</td>\n      <td>17</td>\n      <td>0.19</td>\n      <td>0.25</td>\n      <td>285000.00</td>\n    </tr>\n    <tr>\n      <th>21760</th>\n      <td>34997</td>\n      <td>2020</td>\n      <td>11</td>\n      <td>0.14</td>\n      <td>91</td>\n      <td>113</td>\n      <td>132</td>\n      <td>11</td>\n      <td>0.17</td>\n      <td>0.25</td>\n      <td>259750.00</td>\n    </tr>\n    <tr>\n      <th>21761</th>\n      <td>34997</td>\n      <td>2020</td>\n      <td>11</td>\n      <td>0.14</td>\n      <td>91</td>\n      <td>113</td>\n      <td>132</td>\n      <td>11</td>\n      <td>0.17</td>\n      <td>0.25</td>\n      <td>259750.00</td>\n    </tr>\n    <tr>\n      <th>21762</th>\n      <td>34997</td>\n      <td>2020</td>\n      <td>12</td>\n      <td>0.14</td>\n      <td>91</td>\n      <td>113</td>\n      <td>142</td>\n      <td>16</td>\n      <td>0.20</td>\n      <td>0.25</td>\n      <td>297000.00</td>\n    </tr>\n    <tr>\n      <th>21763</th>\n      <td>34997</td>\n      <td>2020</td>\n      <td>12</td>\n      <td>0.14</td>\n      <td>91</td>\n      <td>113</td>\n      <td>142</td>\n      <td>16</td>\n      <td>0.20</td>\n      <td>0.25</td>\n      <td>297000.00</td>\n    </tr>\n  </tbody>\n</table>\n<p>21764 rows × 11 columns</p>\n</div>"
     },
     "metadata": {},
     "execution_count": 109
    }
   ],
   "source": [
    "ml_data_1mo = ml_data.sort_values(by = ['Zip_Code', 'Year', 'Month'], ascending = [True, True, True])\n",
    "ml_data_1mo"
   ]
  },
  {
   "cell_type": "code",
   "execution_count": 110,
   "metadata": {},
   "outputs": [
    {
     "output_type": "execute_result",
     "data": {
      "text/plain": [
       "       Zip_Code  Year  Month  Mobility_Rate  Expense_Index  Crime_Index  \\\n",
       "0         32003  2019      1           0.18            104           28   \n",
       "1         32003  2019      2           0.18            104           28   \n",
       "2         32003  2019      3           0.18            104           28   \n",
       "3         32003  2019      4           0.18            104           28   \n",
       "4         32003  2019      5           0.18            104           28   \n",
       "...         ...   ...    ...            ...            ...          ...   \n",
       "21759     34997  2020     10           0.14             91          113   \n",
       "21760     34997  2020     11           0.14             91          113   \n",
       "21761     34997  2020     11           0.14             91          113   \n",
       "21762     34997  2020     12           0.14             91          113   \n",
       "21763     34997  2020     12           0.14             91          113   \n",
       "\n",
       "       Total_Sales  FHA_Count  Home_Affordability  Rent_Affordability  \\\n",
       "0               32          7                0.13                0.14   \n",
       "1               41          2                0.14                0.14   \n",
       "2               21          7                0.14                0.14   \n",
       "3               42          3                0.13                0.14   \n",
       "4               66          8                0.14                0.14   \n",
       "...            ...        ...                 ...                 ...   \n",
       "21759          139         17                0.19                0.25   \n",
       "21760          132         11                0.17                0.25   \n",
       "21761          132         11                0.17                0.25   \n",
       "21762          142         16                0.20                0.25   \n",
       "21763          142         16                0.20                0.25   \n",
       "\n",
       "       Sale_Price  Last_Month_Price  Last_Month_Diff  \n",
       "0       244950.00               nan              nan  \n",
       "1       270000.00         244950.00         25050.00  \n",
       "2       275000.00         270000.00          5000.00  \n",
       "3       264500.00         275000.00        -10500.00  \n",
       "4       281000.00         264500.00         16500.00  \n",
       "...           ...               ...              ...  \n",
       "21759   285000.00         285000.00             0.00  \n",
       "21760   259750.00         285000.00        -25250.00  \n",
       "21761   259750.00         259750.00             0.00  \n",
       "21762   297000.00         259750.00         37250.00  \n",
       "21763   297000.00         297000.00             0.00  \n",
       "\n",
       "[21764 rows x 13 columns]"
      ],
      "text/html": "<div>\n<style scoped>\n    .dataframe tbody tr th:only-of-type {\n        vertical-align: middle;\n    }\n\n    .dataframe tbody tr th {\n        vertical-align: top;\n    }\n\n    .dataframe thead th {\n        text-align: right;\n    }\n</style>\n<table border=\"1\" class=\"dataframe\">\n  <thead>\n    <tr style=\"text-align: right;\">\n      <th></th>\n      <th>Zip_Code</th>\n      <th>Year</th>\n      <th>Month</th>\n      <th>Mobility_Rate</th>\n      <th>Expense_Index</th>\n      <th>Crime_Index</th>\n      <th>Total_Sales</th>\n      <th>FHA_Count</th>\n      <th>Home_Affordability</th>\n      <th>Rent_Affordability</th>\n      <th>Sale_Price</th>\n      <th>Last_Month_Price</th>\n      <th>Last_Month_Diff</th>\n    </tr>\n  </thead>\n  <tbody>\n    <tr>\n      <th>0</th>\n      <td>32003</td>\n      <td>2019</td>\n      <td>1</td>\n      <td>0.18</td>\n      <td>104</td>\n      <td>28</td>\n      <td>32</td>\n      <td>7</td>\n      <td>0.13</td>\n      <td>0.14</td>\n      <td>244950.00</td>\n      <td>nan</td>\n      <td>nan</td>\n    </tr>\n    <tr>\n      <th>1</th>\n      <td>32003</td>\n      <td>2019</td>\n      <td>2</td>\n      <td>0.18</td>\n      <td>104</td>\n      <td>28</td>\n      <td>41</td>\n      <td>2</td>\n      <td>0.14</td>\n      <td>0.14</td>\n      <td>270000.00</td>\n      <td>244950.00</td>\n      <td>25050.00</td>\n    </tr>\n    <tr>\n      <th>2</th>\n      <td>32003</td>\n      <td>2019</td>\n      <td>3</td>\n      <td>0.18</td>\n      <td>104</td>\n      <td>28</td>\n      <td>21</td>\n      <td>7</td>\n      <td>0.14</td>\n      <td>0.14</td>\n      <td>275000.00</td>\n      <td>270000.00</td>\n      <td>5000.00</td>\n    </tr>\n    <tr>\n      <th>3</th>\n      <td>32003</td>\n      <td>2019</td>\n      <td>4</td>\n      <td>0.18</td>\n      <td>104</td>\n      <td>28</td>\n      <td>42</td>\n      <td>3</td>\n      <td>0.13</td>\n      <td>0.14</td>\n      <td>264500.00</td>\n      <td>275000.00</td>\n      <td>-10500.00</td>\n    </tr>\n    <tr>\n      <th>4</th>\n      <td>32003</td>\n      <td>2019</td>\n      <td>5</td>\n      <td>0.18</td>\n      <td>104</td>\n      <td>28</td>\n      <td>66</td>\n      <td>8</td>\n      <td>0.14</td>\n      <td>0.14</td>\n      <td>281000.00</td>\n      <td>264500.00</td>\n      <td>16500.00</td>\n    </tr>\n    <tr>\n      <th>...</th>\n      <td>...</td>\n      <td>...</td>\n      <td>...</td>\n      <td>...</td>\n      <td>...</td>\n      <td>...</td>\n      <td>...</td>\n      <td>...</td>\n      <td>...</td>\n      <td>...</td>\n      <td>...</td>\n      <td>...</td>\n      <td>...</td>\n    </tr>\n    <tr>\n      <th>21759</th>\n      <td>34997</td>\n      <td>2020</td>\n      <td>10</td>\n      <td>0.14</td>\n      <td>91</td>\n      <td>113</td>\n      <td>139</td>\n      <td>17</td>\n      <td>0.19</td>\n      <td>0.25</td>\n      <td>285000.00</td>\n      <td>285000.00</td>\n      <td>0.00</td>\n    </tr>\n    <tr>\n      <th>21760</th>\n      <td>34997</td>\n      <td>2020</td>\n      <td>11</td>\n      <td>0.14</td>\n      <td>91</td>\n      <td>113</td>\n      <td>132</td>\n      <td>11</td>\n      <td>0.17</td>\n      <td>0.25</td>\n      <td>259750.00</td>\n      <td>285000.00</td>\n      <td>-25250.00</td>\n    </tr>\n    <tr>\n      <th>21761</th>\n      <td>34997</td>\n      <td>2020</td>\n      <td>11</td>\n      <td>0.14</td>\n      <td>91</td>\n      <td>113</td>\n      <td>132</td>\n      <td>11</td>\n      <td>0.17</td>\n      <td>0.25</td>\n      <td>259750.00</td>\n      <td>259750.00</td>\n      <td>0.00</td>\n    </tr>\n    <tr>\n      <th>21762</th>\n      <td>34997</td>\n      <td>2020</td>\n      <td>12</td>\n      <td>0.14</td>\n      <td>91</td>\n      <td>113</td>\n      <td>142</td>\n      <td>16</td>\n      <td>0.20</td>\n      <td>0.25</td>\n      <td>297000.00</td>\n      <td>259750.00</td>\n      <td>37250.00</td>\n    </tr>\n    <tr>\n      <th>21763</th>\n      <td>34997</td>\n      <td>2020</td>\n      <td>12</td>\n      <td>0.14</td>\n      <td>91</td>\n      <td>113</td>\n      <td>142</td>\n      <td>16</td>\n      <td>0.20</td>\n      <td>0.25</td>\n      <td>297000.00</td>\n      <td>297000.00</td>\n      <td>0.00</td>\n    </tr>\n  </tbody>\n</table>\n<p>21764 rows × 13 columns</p>\n</div>"
     },
     "metadata": {},
     "execution_count": 110
    }
   ],
   "source": [
    "ml_data_1mo['Last_Month_Price'] = ml_data_1mo.groupby(['Zip_Code'])['Sale_Price'].shift()\n",
    "\n",
    "\n",
    "\n",
    "price_difference = []\n",
    "\n",
    "# for (Sale_Price, Last_Month_Price) in test.iteritems():\n",
    "#     # sale = row.Sale_Price\n",
    "#     # last = row.Last_Month_Price\n",
    "#     price_difference.append(row)\n",
    "\n",
    "for column in ml_data_1mo[['Sale_Price', 'Last_Month_Price']]:\n",
    "   # Select column contents by column name using [] operator\n",
    "    current_sales = ml_data_1mo['Sale_Price'].values\n",
    "    last_sales = ml_data_1mo['Last_Month_Price'].values\n",
    "    price_difference.append(current_sales-last_sales)\n",
    "\n",
    "ml_data_1mo['Last_Month_Diff'] = price_difference[0]\n",
    "\n",
    "ml_data_1mo"
   ]
  },
  {
   "cell_type": "code",
   "execution_count": 185,
   "metadata": {},
   "outputs": [
    {
     "output_type": "execute_result",
     "data": {
      "text/plain": [
       "   Zip_Code  Year  Month  Mobility_Rate  Expense_Index  Crime_Index  \\\n",
       "0     32003  2019      1           0.18            104           28   \n",
       "1     32003  2019      2           0.18            104           28   \n",
       "2     32003  2019      3           0.18            104           28   \n",
       "3     32003  2019      4           0.18            104           28   \n",
       "4     32003  2019      5           0.18            104           28   \n",
       "\n",
       "   Total_Sales  FHA_Count  Home_Affordability  Rent_Affordability  Sale_Price  \n",
       "0           32          7                0.13                0.14   244950.00  \n",
       "1           41          2                0.14                0.14   270000.00  \n",
       "2           21          7                0.14                0.14   275000.00  \n",
       "3           42          3                0.13                0.14   264500.00  \n",
       "4           66          8                0.14                0.14   281000.00  "
      ],
      "text/html": "<div>\n<style scoped>\n    .dataframe tbody tr th:only-of-type {\n        vertical-align: middle;\n    }\n\n    .dataframe tbody tr th {\n        vertical-align: top;\n    }\n\n    .dataframe thead th {\n        text-align: right;\n    }\n</style>\n<table border=\"1\" class=\"dataframe\">\n  <thead>\n    <tr style=\"text-align: right;\">\n      <th></th>\n      <th>Zip_Code</th>\n      <th>Year</th>\n      <th>Month</th>\n      <th>Mobility_Rate</th>\n      <th>Expense_Index</th>\n      <th>Crime_Index</th>\n      <th>Total_Sales</th>\n      <th>FHA_Count</th>\n      <th>Home_Affordability</th>\n      <th>Rent_Affordability</th>\n      <th>Sale_Price</th>\n    </tr>\n  </thead>\n  <tbody>\n    <tr>\n      <th>0</th>\n      <td>32003</td>\n      <td>2019</td>\n      <td>1</td>\n      <td>0.18</td>\n      <td>104</td>\n      <td>28</td>\n      <td>32</td>\n      <td>7</td>\n      <td>0.13</td>\n      <td>0.14</td>\n      <td>244950.00</td>\n    </tr>\n    <tr>\n      <th>1</th>\n      <td>32003</td>\n      <td>2019</td>\n      <td>2</td>\n      <td>0.18</td>\n      <td>104</td>\n      <td>28</td>\n      <td>41</td>\n      <td>2</td>\n      <td>0.14</td>\n      <td>0.14</td>\n      <td>270000.00</td>\n    </tr>\n    <tr>\n      <th>2</th>\n      <td>32003</td>\n      <td>2019</td>\n      <td>3</td>\n      <td>0.18</td>\n      <td>104</td>\n      <td>28</td>\n      <td>21</td>\n      <td>7</td>\n      <td>0.14</td>\n      <td>0.14</td>\n      <td>275000.00</td>\n    </tr>\n    <tr>\n      <th>3</th>\n      <td>32003</td>\n      <td>2019</td>\n      <td>4</td>\n      <td>0.18</td>\n      <td>104</td>\n      <td>28</td>\n      <td>42</td>\n      <td>3</td>\n      <td>0.13</td>\n      <td>0.14</td>\n      <td>264500.00</td>\n    </tr>\n    <tr>\n      <th>4</th>\n      <td>32003</td>\n      <td>2019</td>\n      <td>5</td>\n      <td>0.18</td>\n      <td>104</td>\n      <td>28</td>\n      <td>66</td>\n      <td>8</td>\n      <td>0.14</td>\n      <td>0.14</td>\n      <td>281000.00</td>\n    </tr>\n  </tbody>\n</table>\n</div>"
     },
     "metadata": {},
     "execution_count": 185
    }
   ],
   "source": [
    "ml_data_3mo = ml_data.sort_values(by = ['Zip_Code', 'Year', 'Month'], ascending = [True, True, True])\n",
    "ml_data_3mo.head()"
   ]
  },
  {
   "cell_type": "code",
   "execution_count": 186,
   "metadata": {},
   "outputs": [
    {
     "output_type": "execute_result",
     "data": {
      "text/plain": [
       "       Zip_Code  Year  Month  Mobility_Rate  Expense_Index  Crime_Index  \\\n",
       "0         32003  2019      1           0.18            104           28   \n",
       "1         32003  2019      2           0.18            104           28   \n",
       "2         32003  2019      3           0.18            104           28   \n",
       "3         32003  2019      4           0.18            104           28   \n",
       "4         32003  2019      5           0.18            104           28   \n",
       "...         ...   ...    ...            ...            ...          ...   \n",
       "21759     34997  2020     10           0.14             91          113   \n",
       "21760     34997  2020     11           0.14             91          113   \n",
       "21761     34997  2020     11           0.14             91          113   \n",
       "21762     34997  2020     12           0.14             91          113   \n",
       "21763     34997  2020     12           0.14             91          113   \n",
       "\n",
       "       Total_Sales  FHA_Count  Home_Affordability  Rent_Affordability  \\\n",
       "0               32          7                0.13                0.14   \n",
       "1               41          2                0.14                0.14   \n",
       "2               21          7                0.14                0.14   \n",
       "3               42          3                0.13                0.14   \n",
       "4               66          8                0.14                0.14   \n",
       "...            ...        ...                 ...                 ...   \n",
       "21759          139         17                0.19                0.25   \n",
       "21760          132         11                0.17                0.25   \n",
       "21761          132         11                0.17                0.25   \n",
       "21762          142         16                0.20                0.25   \n",
       "21763          142         16                0.20                0.25   \n",
       "\n",
       "       Sale_Price  Last_Month_Price  Last_2Month_Price  Last_3Month_Price  \\\n",
       "0       244950.00               nan                nan                nan   \n",
       "1       270000.00         244950.00                nan                nan   \n",
       "2       275000.00         270000.00          244950.00                nan   \n",
       "3       264500.00         275000.00          270000.00          244950.00   \n",
       "4       281000.00         264500.00          275000.00          270000.00   \n",
       "...           ...               ...                ...                ...   \n",
       "21759   285000.00         285000.00          256000.00          256000.00   \n",
       "21760   259750.00         285000.00          285000.00          256000.00   \n",
       "21761   259750.00         259750.00          285000.00          285000.00   \n",
       "21762   297000.00         259750.00          259750.00          285000.00   \n",
       "21763   297000.00         297000.00          259750.00          259750.00   \n",
       "\n",
       "       Last_Month_Diff  Last_2Month_Diff  Last_3Month_Diff  \n",
       "0                  nan               nan               nan  \n",
       "1             25050.00               nan               nan  \n",
       "2              5000.00          30050.00               nan  \n",
       "3            -10500.00          -5500.00          19550.00  \n",
       "4             16500.00           6000.00          11000.00  \n",
       "...                ...               ...               ...  \n",
       "21759             0.00          29000.00          29000.00  \n",
       "21760        -25250.00         -25250.00           3750.00  \n",
       "21761             0.00         -25250.00         -25250.00  \n",
       "21762         37250.00          37250.00          12000.00  \n",
       "21763             0.00          37250.00          37250.00  \n",
       "\n",
       "[21764 rows x 17 columns]"
      ],
      "text/html": "<div>\n<style scoped>\n    .dataframe tbody tr th:only-of-type {\n        vertical-align: middle;\n    }\n\n    .dataframe tbody tr th {\n        vertical-align: top;\n    }\n\n    .dataframe thead th {\n        text-align: right;\n    }\n</style>\n<table border=\"1\" class=\"dataframe\">\n  <thead>\n    <tr style=\"text-align: right;\">\n      <th></th>\n      <th>Zip_Code</th>\n      <th>Year</th>\n      <th>Month</th>\n      <th>Mobility_Rate</th>\n      <th>Expense_Index</th>\n      <th>Crime_Index</th>\n      <th>Total_Sales</th>\n      <th>FHA_Count</th>\n      <th>Home_Affordability</th>\n      <th>Rent_Affordability</th>\n      <th>Sale_Price</th>\n      <th>Last_Month_Price</th>\n      <th>Last_2Month_Price</th>\n      <th>Last_3Month_Price</th>\n      <th>Last_Month_Diff</th>\n      <th>Last_2Month_Diff</th>\n      <th>Last_3Month_Diff</th>\n    </tr>\n  </thead>\n  <tbody>\n    <tr>\n      <th>0</th>\n      <td>32003</td>\n      <td>2019</td>\n      <td>1</td>\n      <td>0.18</td>\n      <td>104</td>\n      <td>28</td>\n      <td>32</td>\n      <td>7</td>\n      <td>0.13</td>\n      <td>0.14</td>\n      <td>244950.00</td>\n      <td>nan</td>\n      <td>nan</td>\n      <td>nan</td>\n      <td>nan</td>\n      <td>nan</td>\n      <td>nan</td>\n    </tr>\n    <tr>\n      <th>1</th>\n      <td>32003</td>\n      <td>2019</td>\n      <td>2</td>\n      <td>0.18</td>\n      <td>104</td>\n      <td>28</td>\n      <td>41</td>\n      <td>2</td>\n      <td>0.14</td>\n      <td>0.14</td>\n      <td>270000.00</td>\n      <td>244950.00</td>\n      <td>nan</td>\n      <td>nan</td>\n      <td>25050.00</td>\n      <td>nan</td>\n      <td>nan</td>\n    </tr>\n    <tr>\n      <th>2</th>\n      <td>32003</td>\n      <td>2019</td>\n      <td>3</td>\n      <td>0.18</td>\n      <td>104</td>\n      <td>28</td>\n      <td>21</td>\n      <td>7</td>\n      <td>0.14</td>\n      <td>0.14</td>\n      <td>275000.00</td>\n      <td>270000.00</td>\n      <td>244950.00</td>\n      <td>nan</td>\n      <td>5000.00</td>\n      <td>30050.00</td>\n      <td>nan</td>\n    </tr>\n    <tr>\n      <th>3</th>\n      <td>32003</td>\n      <td>2019</td>\n      <td>4</td>\n      <td>0.18</td>\n      <td>104</td>\n      <td>28</td>\n      <td>42</td>\n      <td>3</td>\n      <td>0.13</td>\n      <td>0.14</td>\n      <td>264500.00</td>\n      <td>275000.00</td>\n      <td>270000.00</td>\n      <td>244950.00</td>\n      <td>-10500.00</td>\n      <td>-5500.00</td>\n      <td>19550.00</td>\n    </tr>\n    <tr>\n      <th>4</th>\n      <td>32003</td>\n      <td>2019</td>\n      <td>5</td>\n      <td>0.18</td>\n      <td>104</td>\n      <td>28</td>\n      <td>66</td>\n      <td>8</td>\n      <td>0.14</td>\n      <td>0.14</td>\n      <td>281000.00</td>\n      <td>264500.00</td>\n      <td>275000.00</td>\n      <td>270000.00</td>\n      <td>16500.00</td>\n      <td>6000.00</td>\n      <td>11000.00</td>\n    </tr>\n    <tr>\n      <th>...</th>\n      <td>...</td>\n      <td>...</td>\n      <td>...</td>\n      <td>...</td>\n      <td>...</td>\n      <td>...</td>\n      <td>...</td>\n      <td>...</td>\n      <td>...</td>\n      <td>...</td>\n      <td>...</td>\n      <td>...</td>\n      <td>...</td>\n      <td>...</td>\n      <td>...</td>\n      <td>...</td>\n      <td>...</td>\n    </tr>\n    <tr>\n      <th>21759</th>\n      <td>34997</td>\n      <td>2020</td>\n      <td>10</td>\n      <td>0.14</td>\n      <td>91</td>\n      <td>113</td>\n      <td>139</td>\n      <td>17</td>\n      <td>0.19</td>\n      <td>0.25</td>\n      <td>285000.00</td>\n      <td>285000.00</td>\n      <td>256000.00</td>\n      <td>256000.00</td>\n      <td>0.00</td>\n      <td>29000.00</td>\n      <td>29000.00</td>\n    </tr>\n    <tr>\n      <th>21760</th>\n      <td>34997</td>\n      <td>2020</td>\n      <td>11</td>\n      <td>0.14</td>\n      <td>91</td>\n      <td>113</td>\n      <td>132</td>\n      <td>11</td>\n      <td>0.17</td>\n      <td>0.25</td>\n      <td>259750.00</td>\n      <td>285000.00</td>\n      <td>285000.00</td>\n      <td>256000.00</td>\n      <td>-25250.00</td>\n      <td>-25250.00</td>\n      <td>3750.00</td>\n    </tr>\n    <tr>\n      <th>21761</th>\n      <td>34997</td>\n      <td>2020</td>\n      <td>11</td>\n      <td>0.14</td>\n      <td>91</td>\n      <td>113</td>\n      <td>132</td>\n      <td>11</td>\n      <td>0.17</td>\n      <td>0.25</td>\n      <td>259750.00</td>\n      <td>259750.00</td>\n      <td>285000.00</td>\n      <td>285000.00</td>\n      <td>0.00</td>\n      <td>-25250.00</td>\n      <td>-25250.00</td>\n    </tr>\n    <tr>\n      <th>21762</th>\n      <td>34997</td>\n      <td>2020</td>\n      <td>12</td>\n      <td>0.14</td>\n      <td>91</td>\n      <td>113</td>\n      <td>142</td>\n      <td>16</td>\n      <td>0.20</td>\n      <td>0.25</td>\n      <td>297000.00</td>\n      <td>259750.00</td>\n      <td>259750.00</td>\n      <td>285000.00</td>\n      <td>37250.00</td>\n      <td>37250.00</td>\n      <td>12000.00</td>\n    </tr>\n    <tr>\n      <th>21763</th>\n      <td>34997</td>\n      <td>2020</td>\n      <td>12</td>\n      <td>0.14</td>\n      <td>91</td>\n      <td>113</td>\n      <td>142</td>\n      <td>16</td>\n      <td>0.20</td>\n      <td>0.25</td>\n      <td>297000.00</td>\n      <td>297000.00</td>\n      <td>259750.00</td>\n      <td>259750.00</td>\n      <td>0.00</td>\n      <td>37250.00</td>\n      <td>37250.00</td>\n    </tr>\n  </tbody>\n</table>\n<p>21764 rows × 17 columns</p>\n</div>"
     },
     "metadata": {},
     "execution_count": 186
    }
   ],
   "source": [
    "ml_data_3mo['Last_Month_Price'] = ml_data_3mo.groupby(['Zip_Code'])['Sale_Price'].shift()\n",
    "ml_data_3mo['Last_2Month_Price'] = ml_data_3mo.groupby(['Zip_Code'])['Sale_Price'].shift(2)\n",
    "ml_data_3mo['Last_3Month_Price'] = ml_data_3mo.groupby(['Zip_Code'])['Sale_Price'].shift(3)\n",
    "\n",
    "\n",
    "price_difference_1 = []\n",
    "price_difference_2 = []\n",
    "price_difference_3 = []\n",
    "\n",
    "\n",
    "for column in ml_data_3mo[['Sale_Price', 'Last_Month_Price', 'Last_2Month_Price',\n",
    "                        'Last_3Month_Price']]:\n",
    "   # Select column contents by column name using [] operator\n",
    "    current_sales = ml_data_3mo['Sale_Price'].values\n",
    "    last_sales = ml_data_3mo['Last_Month_Price'].values\n",
    "    last_2mo_sale = ml_data_3mo['Last_2Month_Price'].values\n",
    "    last_3mo_sale = ml_data_3mo['Last_3Month_Price'].values\n",
    "    price_difference_1.append(current_sales-last_sales)\n",
    "    price_difference_2.append(current_sales-last_2mo_sale)\n",
    "    price_difference_3.append(current_sales-last_3mo_sale)\n",
    "    \n",
    "\n",
    "ml_data_3mo['Last_Month_Diff'] = price_difference[0]\n",
    "ml_data_3mo['Last_2Month_Diff'] = price_difference_2[0]\n",
    "ml_data_3mo['Last_3Month_Diff'] = price_difference_3[0]\n",
    "\n",
    "ml_data_3mo"
   ]
  },
  {
   "cell_type": "code",
   "execution_count": 111,
   "metadata": {},
   "outputs": [],
   "source": [
    "import warnings\n",
    "warnings.filterwarnings(\"ignore\")\n",
    "\n",
    "from sklearn import metrics\n",
    "from sklearn.metrics import accuracy_score\n",
    "from sklearn.model_selection import train_test_split"
   ]
  },
  {
   "source": [
    "1 Month Data Testing"
   ],
   "cell_type": "markdown",
   "metadata": {}
  },
  {
   "cell_type": "code",
   "execution_count": 112,
   "metadata": {},
   "outputs": [
    {
     "output_type": "execute_result",
     "data": {
      "text/plain": [
       "array([244950., 270000., 275000., ..., 259750., 297000., 297000.])"
      ]
     },
     "metadata": {},
     "execution_count": 112
    }
   ],
   "source": [
    "y_value = ml_data_1mo['Sale_Price'].values\n",
    "\n",
    "x_values = ml_data_1mo.drop(columns='Sale_Price')\n",
    "\n",
    "feature_names = x_values.columns\n",
    "\n",
    "x_values\n",
    "y_value"
   ]
  },
  {
   "cell_type": "code",
   "execution_count": 113,
   "metadata": {},
   "outputs": [],
   "source": [
    "\n"
   ]
  },
  {
   "cell_type": "code",
   "execution_count": 114,
   "metadata": {},
   "outputs": [
    {
     "output_type": "stream",
     "name": "stdout",
     "text": [
      "Training set - Features:  (16323, 12) Target:  (16323,)\nTest set - Features:  (5441, 12) Target:  (5441,)\n"
     ]
    }
   ],
   "source": [
    "print(\"Training set - Features: \", X_train.shape, \"Target: \", y_train.shape)\n",
    "print(\"Test set - Features: \", X_test.shape, \"Target: \",y_test.shape)"
   ]
  },
  {
   "cell_type": "code",
   "execution_count": 115,
   "metadata": {},
   "outputs": [],
   "source": [
    "import lazypredict\n",
    "from lazypredict.Supervised import LazyRegressor"
   ]
  },
  {
   "cell_type": "code",
   "execution_count": 116,
   "metadata": {},
   "outputs": [
    {
     "output_type": "stream",
     "name": "stderr",
     "text": [
      "100%|██████████| 42/42 [01:39<00:00,  2.36s/it]                               Adjusted R-Squared  R-Squared       RMSE  \\\n",
      "Model                                                                     \n",
      "LassoLarsIC                                  0.97       0.97   25423.17   \n",
      "LassoLarsCV                                  0.97       0.97   25423.17   \n",
      "TransformedTargetRegressor                   0.97       0.97   25423.17   \n",
      "LarsCV                                       0.97       0.97   25423.17   \n",
      "Lars                                         0.97       0.97   25423.17   \n",
      "LinearRegression                             0.97       0.97   25423.17   \n",
      "Lasso                                        0.97       0.97   25423.25   \n",
      "BayesianRidge                                0.97       0.97   25423.88   \n",
      "Ridge                                        0.97       0.97   25424.66   \n",
      "LassoLars                                    0.97       0.97   25430.60   \n",
      "LassoCV                                      0.97       0.97   25430.96   \n",
      "RidgeCV                                      0.97       0.97   25438.50   \n",
      "SGDRegressor                                 0.97       0.97   25452.35   \n",
      "OrthogonalMatchingPursuitCV                  0.97       0.97   25953.32   \n",
      "RANSACRegressor                              0.97       0.97   27871.26   \n",
      "PassiveAggressiveRegressor                   0.97       0.97   28077.15   \n",
      "HuberRegressor                               0.97       0.97   28078.23   \n",
      "XGBRegressor                                 0.94       0.94   37004.10   \n",
      "ExtraTreesRegressor                          0.94       0.94   38458.15   \n",
      "RandomForestRegressor                        0.94       0.94   39364.33   \n",
      "GradientBoostingRegressor                    0.94       0.94   39980.64   \n",
      "BaggingRegressor                             0.93       0.93   40208.13   \n",
      "DecisionTreeRegressor                        0.93       0.93   42058.68   \n",
      "ExtraTreeRegressor                           0.93       0.93   42885.35   \n",
      "LGBMRegressor                                0.92       0.92   45602.61   \n",
      "HistGradientBoostingRegressor                0.91       0.91   48221.96   \n",
      "KNeighborsRegressor                          0.89       0.89   51177.18   \n",
      "ElasticNet                                   0.88       0.88   53822.05   \n",
      "GeneralizedLinearRegressor                   0.78       0.78   73375.75   \n",
      "TweedieRegressor                             0.78       0.78   73375.75   \n",
      "AdaBoostRegressor                            0.74       0.74   80105.91   \n",
      "OrthogonalMatchingPursuit                    0.70       0.70   85680.16   \n",
      "GaussianProcessRegressor                     0.39       0.40  122122.41   \n",
      "ElasticNetCV                                 0.02       0.02  155205.39   \n",
      "DummyRegressor                              -0.00      -0.00  157040.79   \n",
      "NuSVR                                       -0.01      -0.01  158025.59   \n",
      "SVR                                         -0.02      -0.02  158704.87   \n",
      "MLPRegressor                                -0.83      -0.82  212065.10   \n",
      "KernelRidge                                 -1.34      -1.34  240186.44   \n",
      "LinearSVR                                   -2.03      -2.03  273178.81   \n",
      "GammaRegressor                           -1125.73   -1123.24 5265387.35   \n",
      "PoissonRegressor                         -2147.08   -2142.34 7270203.70   \n",
      "\n",
      "                               Time Taken  \n",
      "Model                                      \n",
      "LassoLarsIC                          0.02  \n",
      "LassoLarsCV                          0.07  \n",
      "TransformedTargetRegressor           0.02  \n",
      "LarsCV                               0.05  \n",
      "Lars                                 0.03  \n",
      "LinearRegression                     0.02  \n",
      "Lasso                                0.12  \n",
      "BayesianRidge                        0.04  \n",
      "Ridge                                0.02  \n",
      "LassoLars                            0.02  \n",
      "LassoCV                              0.23  \n",
      "RidgeCV                              0.02  \n",
      "SGDRegressor                         0.05  \n",
      "OrthogonalMatchingPursuitCV          0.04  \n",
      "RANSACRegressor                      0.03  \n",
      "PassiveAggressiveRegressor           0.12  \n",
      "HuberRegressor                       0.34  \n",
      "XGBRegressor                         0.50  \n",
      "ExtraTreesRegressor                  3.66  \n",
      "RandomForestRegressor                7.68  \n",
      "GradientBoostingRegressor            2.16  \n",
      "BaggingRegressor                     0.80  \n",
      "DecisionTreeRegressor                0.18  \n",
      "ExtraTreeRegressor                   0.08  \n",
      "LGBMRegressor                        0.17  \n",
      "HistGradientBoostingRegressor        0.37  \n",
      "KNeighborsRegressor                  0.81  \n",
      "ElasticNet                           0.03  \n",
      "GeneralizedLinearRegressor           0.03  \n",
      "TweedieRegressor                     0.04  \n",
      "AdaBoostRegressor                    0.76  \n",
      "OrthogonalMatchingPursuit            0.02  \n",
      "GaussianProcessRegressor            34.62  \n",
      "ElasticNetCV                         0.19  \n",
      "DummyRegressor                       0.01  \n",
      "NuSVR                                8.13  \n",
      "SVR                                  8.20  \n",
      "MLPRegressor                        10.60  \n",
      "KernelRidge                         18.68  \n",
      "LinearSVR                            0.02  \n",
      "GammaRegressor                       0.03  \n",
      "PoissonRegressor                     0.06  \n",
      "                               Adjusted R-Squared  R-Squared       RMSE  \\\n",
      "Model                                                                     \n",
      "LassoLarsIC                                  0.97       0.97   25423.17   \n",
      "LassoLarsCV                                  0.97       0.97   25423.17   \n",
      "TransformedTargetRegressor                   0.97       0.97   25423.17   \n",
      "LarsCV                                       0.97       0.97   25423.17   \n",
      "Lars                                         0.97       0.97   25423.17   \n",
      "LinearRegression                             0.97       0.97   25423.17   \n",
      "Lasso                                        0.97       0.97   25423.25   \n",
      "BayesianRidge                                0.97       0.97   25423.88   \n",
      "Ridge                                        0.97       0.97   25424.66   \n",
      "LassoLars                                    0.97       0.97   25430.60   \n",
      "LassoCV                                      0.97       0.97   25430.96   \n",
      "RidgeCV                                      0.97       0.97   25438.50   \n",
      "SGDRegressor                                 0.97       0.97   25452.35   \n",
      "OrthogonalMatchingPursuitCV                  0.97       0.97   25953.32   \n",
      "RANSACRegressor                              0.97       0.97   27871.26   \n",
      "PassiveAggressiveRegressor                   0.97       0.97   28077.15   \n",
      "HuberRegressor                               0.97       0.97   28078.23   \n",
      "XGBRegressor                                 0.94       0.94   37004.10   \n",
      "ExtraTreesRegressor                          0.94       0.94   38458.15   \n",
      "RandomForestRegressor                        0.94       0.94   39364.33   \n",
      "GradientBoostingRegressor                    0.94       0.94   39980.64   \n",
      "BaggingRegressor                             0.93       0.93   40208.13   \n",
      "DecisionTreeRegressor                        0.93       0.93   42058.68   \n",
      "ExtraTreeRegressor                           0.93       0.93   42885.35   \n",
      "LGBMRegressor                                0.92       0.92   45602.61   \n",
      "HistGradientBoostingRegressor                0.91       0.91   48221.96   \n",
      "KNeighborsRegressor                          0.89       0.89   51177.18   \n",
      "ElasticNet                                   0.88       0.88   53822.05   \n",
      "GeneralizedLinearRegressor                   0.78       0.78   73375.75   \n",
      "TweedieRegressor                             0.78       0.78   73375.75   \n",
      "AdaBoostRegressor                            0.74       0.74   80105.91   \n",
      "OrthogonalMatchingPursuit                    0.70       0.70   85680.16   \n",
      "GaussianProcessRegressor                     0.39       0.40  122122.41   \n",
      "ElasticNetCV                                 0.02       0.02  155205.39   \n",
      "DummyRegressor                              -0.00      -0.00  157040.79   \n",
      "NuSVR                                       -0.01      -0.01  158025.59   \n",
      "SVR                                         -0.02      -0.02  158704.87   \n",
      "MLPRegressor                                -0.83      -0.82  212065.10   \n",
      "KernelRidge                                 -1.34      -1.34  240186.44   \n",
      "LinearSVR                                   -2.03      -2.03  273178.81   \n",
      "GammaRegressor                           -1125.73   -1123.24 5265387.35   \n",
      "PoissonRegressor                         -2147.08   -2142.34 7270203.70   \n",
      "\n",
      "                               Time Taken  \n",
      "Model                                      \n",
      "LassoLarsIC                          0.02  \n",
      "LassoLarsCV                          0.07  \n",
      "TransformedTargetRegressor           0.02  \n",
      "LarsCV                               0.05  \n",
      "Lars                                 0.03  \n",
      "LinearRegression                     0.02  \n",
      "Lasso                                0.12  \n",
      "BayesianRidge                        0.04  \n",
      "Ridge                                0.02  \n",
      "LassoLars                            0.02  \n",
      "LassoCV                              0.23  \n",
      "RidgeCV                              0.02  \n",
      "SGDRegressor                         0.05  \n",
      "OrthogonalMatchingPursuitCV          0.04  \n",
      "RANSACRegressor                      0.03  \n",
      "PassiveAggressiveRegressor           0.12  \n",
      "HuberRegressor                       0.34  \n",
      "XGBRegressor                         0.50  \n",
      "ExtraTreesRegressor                  3.66  \n",
      "RandomForestRegressor                7.68  \n",
      "GradientBoostingRegressor            2.16  \n",
      "BaggingRegressor                     0.80  \n",
      "DecisionTreeRegressor                0.18  \n",
      "ExtraTreeRegressor                   0.08  \n",
      "LGBMRegressor                        0.17  \n",
      "HistGradientBoostingRegressor        0.37  \n",
      "KNeighborsRegressor                  0.81  \n",
      "ElasticNet                           0.03  \n",
      "GeneralizedLinearRegressor           0.03  \n",
      "TweedieRegressor                     0.04  \n",
      "AdaBoostRegressor                    0.76  \n",
      "OrthogonalMatchingPursuit            0.02  \n",
      "GaussianProcessRegressor            34.62  \n",
      "ElasticNetCV                         0.19  \n",
      "DummyRegressor                       0.01  \n",
      "NuSVR                                8.13  \n",
      "SVR                                  8.20  \n",
      "MLPRegressor                        10.60  \n",
      "KernelRidge                         18.68  \n",
      "LinearSVR                            0.02  \n",
      "GammaRegressor                       0.03  \n",
      "PoissonRegressor                     0.06  \n",
      "\n"
     ]
    }
   ],
   "source": [
    "reg = LazyRegressor(verbose=0, ignore_warnings=False, custom_metric=None)\n",
    "reg_models, reg_predictions = reg.fit(X_train, X_test, y_train, y_test)\n",
    "\n",
    "print(reg_models)\n",
    "print(reg_predictions)"
   ]
  },
  {
   "cell_type": "code",
   "execution_count": 117,
   "metadata": {},
   "outputs": [
    {
     "output_type": "execute_result",
     "data": {
      "text/plain": [
       "       Zip_Code  Year  Month  Mobility_Rate  Expense_Index  Crime_Index  \\\n",
       "0         32003  2019      1           0.18            104           28   \n",
       "1         32003  2019      2           0.18            104           28   \n",
       "2         32003  2019      3           0.18            104           28   \n",
       "3         32003  2019      4           0.18            104           28   \n",
       "4         32003  2019      5           0.18            104           28   \n",
       "...         ...   ...    ...            ...            ...          ...   \n",
       "21759     34997  2020     10           0.14             91          113   \n",
       "21760     34997  2020     11           0.14             91          113   \n",
       "21761     34997  2020     11           0.14             91          113   \n",
       "21762     34997  2020     12           0.14             91          113   \n",
       "21763     34997  2020     12           0.14             91          113   \n",
       "\n",
       "       Total_Sales  FHA_Count  Home_Affordability  Rent_Affordability  \\\n",
       "0               32          7                0.13                0.14   \n",
       "1               41          2                0.14                0.14   \n",
       "2               21          7                0.14                0.14   \n",
       "3               42          3                0.13                0.14   \n",
       "4               66          8                0.14                0.14   \n",
       "...            ...        ...                 ...                 ...   \n",
       "21759          139         17                0.19                0.25   \n",
       "21760          132         11                0.17                0.25   \n",
       "21761          132         11                0.17                0.25   \n",
       "21762          142         16                0.20                0.25   \n",
       "21763          142         16                0.20                0.25   \n",
       "\n",
       "       Sale_Price  Last_Month_Price  Last_Month_Diff  Price_Change_1mo  \n",
       "0       244950.00               nan              nan                 0  \n",
       "1       270000.00         244950.00         25050.00                 1  \n",
       "2       275000.00         270000.00          5000.00                 1  \n",
       "3       264500.00         275000.00        -10500.00                 0  \n",
       "4       281000.00         264500.00         16500.00                 1  \n",
       "...           ...               ...              ...               ...  \n",
       "21759   285000.00         285000.00             0.00                 0  \n",
       "21760   259750.00         285000.00        -25250.00                 0  \n",
       "21761   259750.00         259750.00             0.00                 0  \n",
       "21762   297000.00         259750.00         37250.00                 1  \n",
       "21763   297000.00         297000.00             0.00                 0  \n",
       "\n",
       "[21764 rows x 14 columns]"
      ],
      "text/html": "<div>\n<style scoped>\n    .dataframe tbody tr th:only-of-type {\n        vertical-align: middle;\n    }\n\n    .dataframe tbody tr th {\n        vertical-align: top;\n    }\n\n    .dataframe thead th {\n        text-align: right;\n    }\n</style>\n<table border=\"1\" class=\"dataframe\">\n  <thead>\n    <tr style=\"text-align: right;\">\n      <th></th>\n      <th>Zip_Code</th>\n      <th>Year</th>\n      <th>Month</th>\n      <th>Mobility_Rate</th>\n      <th>Expense_Index</th>\n      <th>Crime_Index</th>\n      <th>Total_Sales</th>\n      <th>FHA_Count</th>\n      <th>Home_Affordability</th>\n      <th>Rent_Affordability</th>\n      <th>Sale_Price</th>\n      <th>Last_Month_Price</th>\n      <th>Last_Month_Diff</th>\n      <th>Price_Change_1mo</th>\n    </tr>\n  </thead>\n  <tbody>\n    <tr>\n      <th>0</th>\n      <td>32003</td>\n      <td>2019</td>\n      <td>1</td>\n      <td>0.18</td>\n      <td>104</td>\n      <td>28</td>\n      <td>32</td>\n      <td>7</td>\n      <td>0.13</td>\n      <td>0.14</td>\n      <td>244950.00</td>\n      <td>nan</td>\n      <td>nan</td>\n      <td>0</td>\n    </tr>\n    <tr>\n      <th>1</th>\n      <td>32003</td>\n      <td>2019</td>\n      <td>2</td>\n      <td>0.18</td>\n      <td>104</td>\n      <td>28</td>\n      <td>41</td>\n      <td>2</td>\n      <td>0.14</td>\n      <td>0.14</td>\n      <td>270000.00</td>\n      <td>244950.00</td>\n      <td>25050.00</td>\n      <td>1</td>\n    </tr>\n    <tr>\n      <th>2</th>\n      <td>32003</td>\n      <td>2019</td>\n      <td>3</td>\n      <td>0.18</td>\n      <td>104</td>\n      <td>28</td>\n      <td>21</td>\n      <td>7</td>\n      <td>0.14</td>\n      <td>0.14</td>\n      <td>275000.00</td>\n      <td>270000.00</td>\n      <td>5000.00</td>\n      <td>1</td>\n    </tr>\n    <tr>\n      <th>3</th>\n      <td>32003</td>\n      <td>2019</td>\n      <td>4</td>\n      <td>0.18</td>\n      <td>104</td>\n      <td>28</td>\n      <td>42</td>\n      <td>3</td>\n      <td>0.13</td>\n      <td>0.14</td>\n      <td>264500.00</td>\n      <td>275000.00</td>\n      <td>-10500.00</td>\n      <td>0</td>\n    </tr>\n    <tr>\n      <th>4</th>\n      <td>32003</td>\n      <td>2019</td>\n      <td>5</td>\n      <td>0.18</td>\n      <td>104</td>\n      <td>28</td>\n      <td>66</td>\n      <td>8</td>\n      <td>0.14</td>\n      <td>0.14</td>\n      <td>281000.00</td>\n      <td>264500.00</td>\n      <td>16500.00</td>\n      <td>1</td>\n    </tr>\n    <tr>\n      <th>...</th>\n      <td>...</td>\n      <td>...</td>\n      <td>...</td>\n      <td>...</td>\n      <td>...</td>\n      <td>...</td>\n      <td>...</td>\n      <td>...</td>\n      <td>...</td>\n      <td>...</td>\n      <td>...</td>\n      <td>...</td>\n      <td>...</td>\n      <td>...</td>\n    </tr>\n    <tr>\n      <th>21759</th>\n      <td>34997</td>\n      <td>2020</td>\n      <td>10</td>\n      <td>0.14</td>\n      <td>91</td>\n      <td>113</td>\n      <td>139</td>\n      <td>17</td>\n      <td>0.19</td>\n      <td>0.25</td>\n      <td>285000.00</td>\n      <td>285000.00</td>\n      <td>0.00</td>\n      <td>0</td>\n    </tr>\n    <tr>\n      <th>21760</th>\n      <td>34997</td>\n      <td>2020</td>\n      <td>11</td>\n      <td>0.14</td>\n      <td>91</td>\n      <td>113</td>\n      <td>132</td>\n      <td>11</td>\n      <td>0.17</td>\n      <td>0.25</td>\n      <td>259750.00</td>\n      <td>285000.00</td>\n      <td>-25250.00</td>\n      <td>0</td>\n    </tr>\n    <tr>\n      <th>21761</th>\n      <td>34997</td>\n      <td>2020</td>\n      <td>11</td>\n      <td>0.14</td>\n      <td>91</td>\n      <td>113</td>\n      <td>132</td>\n      <td>11</td>\n      <td>0.17</td>\n      <td>0.25</td>\n      <td>259750.00</td>\n      <td>259750.00</td>\n      <td>0.00</td>\n      <td>0</td>\n    </tr>\n    <tr>\n      <th>21762</th>\n      <td>34997</td>\n      <td>2020</td>\n      <td>12</td>\n      <td>0.14</td>\n      <td>91</td>\n      <td>113</td>\n      <td>142</td>\n      <td>16</td>\n      <td>0.20</td>\n      <td>0.25</td>\n      <td>297000.00</td>\n      <td>259750.00</td>\n      <td>37250.00</td>\n      <td>1</td>\n    </tr>\n    <tr>\n      <th>21763</th>\n      <td>34997</td>\n      <td>2020</td>\n      <td>12</td>\n      <td>0.14</td>\n      <td>91</td>\n      <td>113</td>\n      <td>142</td>\n      <td>16</td>\n      <td>0.20</td>\n      <td>0.25</td>\n      <td>297000.00</td>\n      <td>297000.00</td>\n      <td>0.00</td>\n      <td>0</td>\n    </tr>\n  </tbody>\n</table>\n<p>21764 rows × 14 columns</p>\n</div>"
     },
     "metadata": {},
     "execution_count": 117
    }
   ],
   "source": [
    "price_change_1mo = []\n",
    "\n",
    "for row in ml_data_1mo['Last_Month_Diff']:\n",
    "    if row > 0:\n",
    "        price_change_1mo.append(1)\n",
    "    else:\n",
    "        price_change_1mo.append(0)\n",
    "ml_data_1mo['Price_Change_1mo'] = price_change_1mo\n",
    "\n",
    "ml_data_1mo"
   ]
  },
  {
   "cell_type": "code",
   "execution_count": 118,
   "metadata": {},
   "outputs": [
    {
     "output_type": "execute_result",
     "data": {
      "text/plain": [
       "       Zip_Code  Year  Month  Mobility_Rate  Expense_Index  Crime_Index  \\\n",
       "0         32003  2019      1           0.18            104           28   \n",
       "1         32003  2019      2           0.18            104           28   \n",
       "2         32003  2019      3           0.18            104           28   \n",
       "3         32003  2019      4           0.18            104           28   \n",
       "4         32003  2019      5           0.18            104           28   \n",
       "...         ...   ...    ...            ...            ...          ...   \n",
       "21759     34997  2020     10           0.14             91          113   \n",
       "21760     34997  2020     11           0.14             91          113   \n",
       "21761     34997  2020     11           0.14             91          113   \n",
       "21762     34997  2020     12           0.14             91          113   \n",
       "21763     34997  2020     12           0.14             91          113   \n",
       "\n",
       "       Total_Sales  FHA_Count  Home_Affordability  Rent_Affordability  \\\n",
       "0               32          7                0.13                0.14   \n",
       "1               41          2                0.14                0.14   \n",
       "2               21          7                0.14                0.14   \n",
       "3               42          3                0.13                0.14   \n",
       "4               66          8                0.14                0.14   \n",
       "...            ...        ...                 ...                 ...   \n",
       "21759          139         17                0.19                0.25   \n",
       "21760          132         11                0.17                0.25   \n",
       "21761          132         11                0.17                0.25   \n",
       "21762          142         16                0.20                0.25   \n",
       "21763          142         16                0.20                0.25   \n",
       "\n",
       "       Sale_Price  Price_Change_1mo  \n",
       "0       244950.00                 0  \n",
       "1       270000.00                 1  \n",
       "2       275000.00                 1  \n",
       "3       264500.00                 0  \n",
       "4       281000.00                 1  \n",
       "...           ...               ...  \n",
       "21759   285000.00                 0  \n",
       "21760   259750.00                 0  \n",
       "21761   259750.00                 0  \n",
       "21762   297000.00                 1  \n",
       "21763   297000.00                 0  \n",
       "\n",
       "[21764 rows x 12 columns]"
      ],
      "text/html": "<div>\n<style scoped>\n    .dataframe tbody tr th:only-of-type {\n        vertical-align: middle;\n    }\n\n    .dataframe tbody tr th {\n        vertical-align: top;\n    }\n\n    .dataframe thead th {\n        text-align: right;\n    }\n</style>\n<table border=\"1\" class=\"dataframe\">\n  <thead>\n    <tr style=\"text-align: right;\">\n      <th></th>\n      <th>Zip_Code</th>\n      <th>Year</th>\n      <th>Month</th>\n      <th>Mobility_Rate</th>\n      <th>Expense_Index</th>\n      <th>Crime_Index</th>\n      <th>Total_Sales</th>\n      <th>FHA_Count</th>\n      <th>Home_Affordability</th>\n      <th>Rent_Affordability</th>\n      <th>Sale_Price</th>\n      <th>Price_Change_1mo</th>\n    </tr>\n  </thead>\n  <tbody>\n    <tr>\n      <th>0</th>\n      <td>32003</td>\n      <td>2019</td>\n      <td>1</td>\n      <td>0.18</td>\n      <td>104</td>\n      <td>28</td>\n      <td>32</td>\n      <td>7</td>\n      <td>0.13</td>\n      <td>0.14</td>\n      <td>244950.00</td>\n      <td>0</td>\n    </tr>\n    <tr>\n      <th>1</th>\n      <td>32003</td>\n      <td>2019</td>\n      <td>2</td>\n      <td>0.18</td>\n      <td>104</td>\n      <td>28</td>\n      <td>41</td>\n      <td>2</td>\n      <td>0.14</td>\n      <td>0.14</td>\n      <td>270000.00</td>\n      <td>1</td>\n    </tr>\n    <tr>\n      <th>2</th>\n      <td>32003</td>\n      <td>2019</td>\n      <td>3</td>\n      <td>0.18</td>\n      <td>104</td>\n      <td>28</td>\n      <td>21</td>\n      <td>7</td>\n      <td>0.14</td>\n      <td>0.14</td>\n      <td>275000.00</td>\n      <td>1</td>\n    </tr>\n    <tr>\n      <th>3</th>\n      <td>32003</td>\n      <td>2019</td>\n      <td>4</td>\n      <td>0.18</td>\n      <td>104</td>\n      <td>28</td>\n      <td>42</td>\n      <td>3</td>\n      <td>0.13</td>\n      <td>0.14</td>\n      <td>264500.00</td>\n      <td>0</td>\n    </tr>\n    <tr>\n      <th>4</th>\n      <td>32003</td>\n      <td>2019</td>\n      <td>5</td>\n      <td>0.18</td>\n      <td>104</td>\n      <td>28</td>\n      <td>66</td>\n      <td>8</td>\n      <td>0.14</td>\n      <td>0.14</td>\n      <td>281000.00</td>\n      <td>1</td>\n    </tr>\n    <tr>\n      <th>...</th>\n      <td>...</td>\n      <td>...</td>\n      <td>...</td>\n      <td>...</td>\n      <td>...</td>\n      <td>...</td>\n      <td>...</td>\n      <td>...</td>\n      <td>...</td>\n      <td>...</td>\n      <td>...</td>\n      <td>...</td>\n    </tr>\n    <tr>\n      <th>21759</th>\n      <td>34997</td>\n      <td>2020</td>\n      <td>10</td>\n      <td>0.14</td>\n      <td>91</td>\n      <td>113</td>\n      <td>139</td>\n      <td>17</td>\n      <td>0.19</td>\n      <td>0.25</td>\n      <td>285000.00</td>\n      <td>0</td>\n    </tr>\n    <tr>\n      <th>21760</th>\n      <td>34997</td>\n      <td>2020</td>\n      <td>11</td>\n      <td>0.14</td>\n      <td>91</td>\n      <td>113</td>\n      <td>132</td>\n      <td>11</td>\n      <td>0.17</td>\n      <td>0.25</td>\n      <td>259750.00</td>\n      <td>0</td>\n    </tr>\n    <tr>\n      <th>21761</th>\n      <td>34997</td>\n      <td>2020</td>\n      <td>11</td>\n      <td>0.14</td>\n      <td>91</td>\n      <td>113</td>\n      <td>132</td>\n      <td>11</td>\n      <td>0.17</td>\n      <td>0.25</td>\n      <td>259750.00</td>\n      <td>0</td>\n    </tr>\n    <tr>\n      <th>21762</th>\n      <td>34997</td>\n      <td>2020</td>\n      <td>12</td>\n      <td>0.14</td>\n      <td>91</td>\n      <td>113</td>\n      <td>142</td>\n      <td>16</td>\n      <td>0.20</td>\n      <td>0.25</td>\n      <td>297000.00</td>\n      <td>1</td>\n    </tr>\n    <tr>\n      <th>21763</th>\n      <td>34997</td>\n      <td>2020</td>\n      <td>12</td>\n      <td>0.14</td>\n      <td>91</td>\n      <td>113</td>\n      <td>142</td>\n      <td>16</td>\n      <td>0.20</td>\n      <td>0.25</td>\n      <td>297000.00</td>\n      <td>0</td>\n    </tr>\n  </tbody>\n</table>\n<p>21764 rows × 12 columns</p>\n</div>"
     },
     "metadata": {},
     "execution_count": 118
    }
   ],
   "source": [
    "ml_data_1mo = ml_data_1mo.drop(columns=['Last_Month_Diff', 'Last_Month_Price'])\n",
    "ml_data_1mo"
   ]
  },
  {
   "cell_type": "code",
   "execution_count": 119,
   "metadata": {},
   "outputs": [
    {
     "output_type": "execute_result",
     "data": {
      "text/plain": [
       "array([0, 1, 1, ..., 0, 1, 0])"
      ]
     },
     "metadata": {},
     "execution_count": 119
    }
   ],
   "source": [
    "y_value = ml_data_1mo['Price_Change_1mo'].values\n",
    "\n",
    "x_values = ml_data_1mo.drop(columns='Price_Change_1mo')\n",
    "\n",
    "feature_names = x_values.columns\n",
    "\n",
    "x_values\n",
    "y_value"
   ]
  },
  {
   "cell_type": "code",
   "execution_count": 120,
   "metadata": {},
   "outputs": [],
   "source": [
    "X_train, X_test, y_train, y_test = train_test_split(x_values, y_value, random_state=42)"
   ]
  },
  {
   "cell_type": "code",
   "execution_count": 121,
   "metadata": {},
   "outputs": [
    {
     "output_type": "stream",
     "name": "stderr",
     "text": [
      " 21%|██        | 6/29 [00:05<00:19,  1.20it/s]CategoricalNB model failed to execute\n",
      "Negative values in data passed to CategoricalNB (input X)\n",
      " 90%|████████▉ | 26/29 [01:51<00:15,  5.16s/it]StackingClassifier model failed to execute\n",
      "__init__() missing 1 required positional argument: 'estimators'\n",
      "100%|██████████| 29/29 [01:52<00:00,  3.88s/it]\n"
     ]
    },
    {
     "output_type": "execute_result",
     "data": {
      "text/plain": [
       "                               Accuracy  Balanced Accuracy  ROC AUC  F1 Score  \\\n",
       "Model                                                                           \n",
       "LGBMClassifier                     0.68               0.68     0.68      0.67   \n",
       "XGBClassifier                      0.67               0.67     0.67      0.67   \n",
       "RandomForestClassifier             0.66               0.67     0.67      0.67   \n",
       "SVC                                0.65               0.65     0.65      0.65   \n",
       "AdaBoostClassifier                 0.64               0.64     0.64      0.64   \n",
       "BaggingClassifier                  0.63               0.63     0.63      0.63   \n",
       "ExtraTreesClassifier               0.62               0.62     0.62      0.62   \n",
       "LogisticRegression                 0.62               0.62     0.62      0.62   \n",
       "CalibratedClassifierCV             0.62               0.62     0.62      0.62   \n",
       "LinearSVC                          0.62               0.61     0.61      0.61   \n",
       "RidgeClassifierCV                  0.62               0.61     0.61      0.61   \n",
       "RidgeClassifier                    0.61               0.61     0.61      0.61   \n",
       "LinearDiscriminantAnalysis         0.61               0.61     0.61      0.61   \n",
       "NuSVC                              0.61               0.61     0.61      0.61   \n",
       "DecisionTreeClassifier             0.61               0.61     0.61      0.61   \n",
       "NearestCentroid                    0.59               0.59     0.59      0.59   \n",
       "BernoulliNB                        0.59               0.58     0.58      0.58   \n",
       "SGDClassifier                      0.57               0.57     0.57      0.56   \n",
       "ExtraTreeClassifier                0.57               0.57     0.57      0.57   \n",
       "QuadraticDiscriminantAnalysis      0.57               0.56     0.56      0.53   \n",
       "PassiveAggressiveClassifier        0.55               0.55     0.55      0.55   \n",
       "GaussianNB                         0.55               0.54     0.54      0.51   \n",
       "KNeighborsClassifier               0.52               0.52     0.52      0.52   \n",
       "Perceptron                         0.50               0.51     0.51      0.50   \n",
       "DummyClassifier                    0.50               0.50     0.50      0.50   \n",
       "LabelPropagation                   0.47               0.47     0.47      0.47   \n",
       "LabelSpreading                     0.47               0.47     0.47      0.47   \n",
       "\n",
       "                               Time Taken  \n",
       "Model                                      \n",
       "LGBMClassifier                       0.24  \n",
       "XGBClassifier                        0.50  \n",
       "RandomForestClassifier               2.51  \n",
       "SVC                                  7.75  \n",
       "AdaBoostClassifier                   0.52  \n",
       "BaggingClassifier                    0.71  \n",
       "ExtraTreesClassifier                 1.37  \n",
       "LogisticRegression                   0.04  \n",
       "CalibratedClassifierCV               4.04  \n",
       "LinearSVC                            1.04  \n",
       "RidgeClassifierCV                    0.04  \n",
       "RidgeClassifier                      0.03  \n",
       "LinearDiscriminantAnalysis           0.05  \n",
       "NuSVC                               74.86  \n",
       "DecisionTreeClassifier               0.14  \n",
       "NearestCentroid                      0.03  \n",
       "BernoulliNB                          0.03  \n",
       "SGDClassifier                        0.10  \n",
       "ExtraTreeClassifier                  0.03  \n",
       "QuadraticDiscriminantAnalysis        0.03  \n",
       "PassiveAggressiveClassifier          0.03  \n",
       "GaussianNB                           0.03  \n",
       "KNeighborsClassifier                 0.58  \n",
       "Perceptron                           0.03  \n",
       "DummyClassifier                      0.02  \n",
       "LabelPropagation                     7.07  \n",
       "LabelSpreading                      10.53  "
      ],
      "text/html": "<div>\n<style scoped>\n    .dataframe tbody tr th:only-of-type {\n        vertical-align: middle;\n    }\n\n    .dataframe tbody tr th {\n        vertical-align: top;\n    }\n\n    .dataframe thead th {\n        text-align: right;\n    }\n</style>\n<table border=\"1\" class=\"dataframe\">\n  <thead>\n    <tr style=\"text-align: right;\">\n      <th></th>\n      <th>Accuracy</th>\n      <th>Balanced Accuracy</th>\n      <th>ROC AUC</th>\n      <th>F1 Score</th>\n      <th>Time Taken</th>\n    </tr>\n    <tr>\n      <th>Model</th>\n      <th></th>\n      <th></th>\n      <th></th>\n      <th></th>\n      <th></th>\n    </tr>\n  </thead>\n  <tbody>\n    <tr>\n      <th>LGBMClassifier</th>\n      <td>0.68</td>\n      <td>0.68</td>\n      <td>0.68</td>\n      <td>0.67</td>\n      <td>0.24</td>\n    </tr>\n    <tr>\n      <th>XGBClassifier</th>\n      <td>0.67</td>\n      <td>0.67</td>\n      <td>0.67</td>\n      <td>0.67</td>\n      <td>0.50</td>\n    </tr>\n    <tr>\n      <th>RandomForestClassifier</th>\n      <td>0.66</td>\n      <td>0.67</td>\n      <td>0.67</td>\n      <td>0.67</td>\n      <td>2.51</td>\n    </tr>\n    <tr>\n      <th>SVC</th>\n      <td>0.65</td>\n      <td>0.65</td>\n      <td>0.65</td>\n      <td>0.65</td>\n      <td>7.75</td>\n    </tr>\n    <tr>\n      <th>AdaBoostClassifier</th>\n      <td>0.64</td>\n      <td>0.64</td>\n      <td>0.64</td>\n      <td>0.64</td>\n      <td>0.52</td>\n    </tr>\n    <tr>\n      <th>BaggingClassifier</th>\n      <td>0.63</td>\n      <td>0.63</td>\n      <td>0.63</td>\n      <td>0.63</td>\n      <td>0.71</td>\n    </tr>\n    <tr>\n      <th>ExtraTreesClassifier</th>\n      <td>0.62</td>\n      <td>0.62</td>\n      <td>0.62</td>\n      <td>0.62</td>\n      <td>1.37</td>\n    </tr>\n    <tr>\n      <th>LogisticRegression</th>\n      <td>0.62</td>\n      <td>0.62</td>\n      <td>0.62</td>\n      <td>0.62</td>\n      <td>0.04</td>\n    </tr>\n    <tr>\n      <th>CalibratedClassifierCV</th>\n      <td>0.62</td>\n      <td>0.62</td>\n      <td>0.62</td>\n      <td>0.62</td>\n      <td>4.04</td>\n    </tr>\n    <tr>\n      <th>LinearSVC</th>\n      <td>0.62</td>\n      <td>0.61</td>\n      <td>0.61</td>\n      <td>0.61</td>\n      <td>1.04</td>\n    </tr>\n    <tr>\n      <th>RidgeClassifierCV</th>\n      <td>0.62</td>\n      <td>0.61</td>\n      <td>0.61</td>\n      <td>0.61</td>\n      <td>0.04</td>\n    </tr>\n    <tr>\n      <th>RidgeClassifier</th>\n      <td>0.61</td>\n      <td>0.61</td>\n      <td>0.61</td>\n      <td>0.61</td>\n      <td>0.03</td>\n    </tr>\n    <tr>\n      <th>LinearDiscriminantAnalysis</th>\n      <td>0.61</td>\n      <td>0.61</td>\n      <td>0.61</td>\n      <td>0.61</td>\n      <td>0.05</td>\n    </tr>\n    <tr>\n      <th>NuSVC</th>\n      <td>0.61</td>\n      <td>0.61</td>\n      <td>0.61</td>\n      <td>0.61</td>\n      <td>74.86</td>\n    </tr>\n    <tr>\n      <th>DecisionTreeClassifier</th>\n      <td>0.61</td>\n      <td>0.61</td>\n      <td>0.61</td>\n      <td>0.61</td>\n      <td>0.14</td>\n    </tr>\n    <tr>\n      <th>NearestCentroid</th>\n      <td>0.59</td>\n      <td>0.59</td>\n      <td>0.59</td>\n      <td>0.59</td>\n      <td>0.03</td>\n    </tr>\n    <tr>\n      <th>BernoulliNB</th>\n      <td>0.59</td>\n      <td>0.58</td>\n      <td>0.58</td>\n      <td>0.58</td>\n      <td>0.03</td>\n    </tr>\n    <tr>\n      <th>SGDClassifier</th>\n      <td>0.57</td>\n      <td>0.57</td>\n      <td>0.57</td>\n      <td>0.56</td>\n      <td>0.10</td>\n    </tr>\n    <tr>\n      <th>ExtraTreeClassifier</th>\n      <td>0.57</td>\n      <td>0.57</td>\n      <td>0.57</td>\n      <td>0.57</td>\n      <td>0.03</td>\n    </tr>\n    <tr>\n      <th>QuadraticDiscriminantAnalysis</th>\n      <td>0.57</td>\n      <td>0.56</td>\n      <td>0.56</td>\n      <td>0.53</td>\n      <td>0.03</td>\n    </tr>\n    <tr>\n      <th>PassiveAggressiveClassifier</th>\n      <td>0.55</td>\n      <td>0.55</td>\n      <td>0.55</td>\n      <td>0.55</td>\n      <td>0.03</td>\n    </tr>\n    <tr>\n      <th>GaussianNB</th>\n      <td>0.55</td>\n      <td>0.54</td>\n      <td>0.54</td>\n      <td>0.51</td>\n      <td>0.03</td>\n    </tr>\n    <tr>\n      <th>KNeighborsClassifier</th>\n      <td>0.52</td>\n      <td>0.52</td>\n      <td>0.52</td>\n      <td>0.52</td>\n      <td>0.58</td>\n    </tr>\n    <tr>\n      <th>Perceptron</th>\n      <td>0.50</td>\n      <td>0.51</td>\n      <td>0.51</td>\n      <td>0.50</td>\n      <td>0.03</td>\n    </tr>\n    <tr>\n      <th>DummyClassifier</th>\n      <td>0.50</td>\n      <td>0.50</td>\n      <td>0.50</td>\n      <td>0.50</td>\n      <td>0.02</td>\n    </tr>\n    <tr>\n      <th>LabelPropagation</th>\n      <td>0.47</td>\n      <td>0.47</td>\n      <td>0.47</td>\n      <td>0.47</td>\n      <td>7.07</td>\n    </tr>\n    <tr>\n      <th>LabelSpreading</th>\n      <td>0.47</td>\n      <td>0.47</td>\n      <td>0.47</td>\n      <td>0.47</td>\n      <td>10.53</td>\n    </tr>\n  </tbody>\n</table>\n</div>"
     },
     "metadata": {},
     "execution_count": 121
    }
   ],
   "source": [
    "from lazypredict.Supervised import LazyClassifier\n",
    "\n",
    "clf = LazyClassifier(verbose=0,ignore_warnings=False)\n",
    "models, predictions = clf.fit(X_train, X_test, y_train, y_test)\n",
    "models"
   ]
  },
  {
   "source": [
    "3 month testing"
   ],
   "cell_type": "markdown",
   "metadata": {}
  },
  {
   "cell_type": "code",
   "execution_count": 122,
   "metadata": {},
   "outputs": [
    {
     "output_type": "execute_result",
     "data": {
      "text/plain": [
       "array([244950., 270000., 275000., ..., 259750., 297000., 297000.])"
      ]
     },
     "metadata": {},
     "execution_count": 122
    }
   ],
   "source": [
    "y_value = ml_data_3mo['Sale_Price'].values\n",
    "\n",
    "x_values = ml_data_3mo.drop(columns='Sale_Price')\n",
    "\n",
    "feature_names = x_values.columns\n",
    "\n",
    "x_values\n",
    "y_value"
   ]
  },
  {
   "cell_type": "code",
   "execution_count": 123,
   "metadata": {},
   "outputs": [],
   "source": [
    "X_train, X_test, y_train, y_test = train_test_split(x_values, y_value, random_state=42)"
   ]
  },
  {
   "cell_type": "code",
   "execution_count": 124,
   "metadata": {},
   "outputs": [
    {
     "output_type": "stream",
     "name": "stderr",
     "text": [
      "100%|██████████| 42/42 [01:52<00:00,  2.69s/it]                               Adjusted R-Squared  R-Squared       RMSE  \\\n",
      "Model                                                                     \n",
      "LassoLarsIC                                  0.97       0.97   25649.99   \n",
      "LassoLarsCV                                  0.97       0.97   25651.29   \n",
      "Lasso                                        0.97       0.97   25661.43   \n",
      "TransformedTargetRegressor                   0.97       0.97   25662.77   \n",
      "LinearRegression                             0.97       0.97   25662.77   \n",
      "BayesianRidge                                0.97       0.97   25664.54   \n",
      "Ridge                                        0.97       0.97   25665.31   \n",
      "RidgeCV                                      0.97       0.97   25665.31   \n",
      "LassoLars                                    0.97       0.97   25665.67   \n",
      "LassoCV                                      0.97       0.97   25672.69   \n",
      "SGDRegressor                                 0.97       0.97   25753.27   \n",
      "RANSACRegressor                              0.97       0.97   27866.56   \n",
      "PassiveAggressiveRegressor                   0.97       0.97   28077.28   \n",
      "HuberRegressor                               0.96       0.96   29616.12   \n",
      "OrthogonalMatchingPursuitCV                  0.95       0.95   35204.93   \n",
      "XGBRegressor                                 0.93       0.93   40453.29   \n",
      "ExtraTreesRegressor                          0.93       0.93   41933.98   \n",
      "GradientBoostingRegressor                    0.93       0.93   42544.09   \n",
      "ElasticNet                                   0.92       0.92   44129.08   \n",
      "RandomForestRegressor                        0.92       0.92   45168.76   \n",
      "BaggingRegressor                             0.92       0.92   45646.47   \n",
      "LGBMRegressor                                0.91       0.91   46182.92   \n",
      "ExtraTreeRegressor                           0.90       0.90   49403.06   \n",
      "HistGradientBoostingRegressor                0.90       0.90   50385.91   \n",
      "KNeighborsRegressor                          0.89       0.89   52305.73   \n",
      "DecisionTreeRegressor                        0.88       0.88   53769.71   \n",
      "GeneralizedLinearRegressor                   0.87       0.87   56454.91   \n",
      "TweedieRegressor                             0.87       0.87   56454.91   \n",
      "AdaBoostRegressor                            0.74       0.75   79258.00   \n",
      "OrthogonalMatchingPursuit                    0.51       0.51  109682.36   \n",
      "LarsCV                                       0.26       0.26  134904.01   \n",
      "ElasticNetCV                                 0.04       0.04  153561.83   \n",
      "DummyRegressor                              -0.00      -0.00  157040.79   \n",
      "NuSVR                                       -0.01      -0.01  157963.93   \n",
      "SVR                                         -0.02      -0.02  158618.95   \n",
      "GaussianProcessRegressor                    -0.04      -0.03  159570.32   \n",
      "MLPRegressor                                -0.51      -0.50  192416.21   \n",
      "Lars                                        -0.51      -0.50  192572.24   \n",
      "KernelRidge                                 -1.35      -1.34  240289.53   \n",
      "LinearSVR                                   -2.04      -2.03  273178.81   \n",
      "PoissonRegressor                          -258.18    -257.41 2524400.51   \n",
      "GammaRegressor                           -1787.13   -1781.87 6630712.36   \n",
      "\n",
      "                               Time Taken  \n",
      "Model                                      \n",
      "LassoLarsIC                          0.03  \n",
      "LassoLarsCV                          0.09  \n",
      "Lasso                                0.51  \n",
      "TransformedTargetRegressor           0.02  \n",
      "LinearRegression                     0.02  \n",
      "BayesianRidge                        0.03  \n",
      "Ridge                                0.02  \n",
      "RidgeCV                              0.04  \n",
      "LassoLars                            0.05  \n",
      "LassoCV                              0.43  \n",
      "SGDRegressor                         0.08  \n",
      "RANSACRegressor                      0.03  \n",
      "PassiveAggressiveRegressor           0.52  \n",
      "HuberRegressor                       0.49  \n",
      "OrthogonalMatchingPursuitCV          0.05  \n",
      "XGBRegressor                         0.57  \n",
      "ExtraTreesRegressor                  4.66  \n",
      "GradientBoostingRegressor            3.27  \n",
      "ElasticNet                           0.05  \n",
      "RandomForestRegressor               10.89  \n",
      "BaggingRegressor                     1.10  \n",
      "LGBMRegressor                        0.21  \n",
      "ExtraTreeRegressor                   0.11  \n",
      "HistGradientBoostingRegressor        0.81  \n",
      "KNeighborsRegressor                  1.79  \n",
      "DecisionTreeRegressor                0.22  \n",
      "GeneralizedLinearRegressor           0.03  \n",
      "TweedieRegressor                     0.03  \n",
      "AdaBoostRegressor                    1.03  \n",
      "OrthogonalMatchingPursuit            0.02  \n",
      "LarsCV                               0.10  \n",
      "ElasticNetCV                         0.17  \n",
      "DummyRegressor                       0.02  \n",
      "NuSVR                                9.71  \n",
      "SVR                                  9.56  \n",
      "GaussianProcessRegressor            36.15  \n",
      "MLPRegressor                        11.64  \n",
      "Lars                                 0.02  \n",
      "KernelRidge                         18.19  \n",
      "LinearSVR                            0.03  \n",
      "PoissonRegressor                     0.08  \n",
      "GammaRegressor                       0.03  \n",
      "                               Adjusted R-Squared  R-Squared       RMSE  \\\n",
      "Model                                                                     \n",
      "LassoLarsIC                                  0.97       0.97   25649.99   \n",
      "LassoLarsCV                                  0.97       0.97   25651.29   \n",
      "Lasso                                        0.97       0.97   25661.43   \n",
      "TransformedTargetRegressor                   0.97       0.97   25662.77   \n",
      "LinearRegression                             0.97       0.97   25662.77   \n",
      "BayesianRidge                                0.97       0.97   25664.54   \n",
      "Ridge                                        0.97       0.97   25665.31   \n",
      "RidgeCV                                      0.97       0.97   25665.31   \n",
      "LassoLars                                    0.97       0.97   25665.67   \n",
      "LassoCV                                      0.97       0.97   25672.69   \n",
      "SGDRegressor                                 0.97       0.97   25753.27   \n",
      "RANSACRegressor                              0.97       0.97   27866.56   \n",
      "PassiveAggressiveRegressor                   0.97       0.97   28077.28   \n",
      "HuberRegressor                               0.96       0.96   29616.12   \n",
      "OrthogonalMatchingPursuitCV                  0.95       0.95   35204.93   \n",
      "XGBRegressor                                 0.93       0.93   40453.29   \n",
      "ExtraTreesRegressor                          0.93       0.93   41933.98   \n",
      "GradientBoostingRegressor                    0.93       0.93   42544.09   \n",
      "ElasticNet                                   0.92       0.92   44129.08   \n",
      "RandomForestRegressor                        0.92       0.92   45168.76   \n",
      "BaggingRegressor                             0.92       0.92   45646.47   \n",
      "LGBMRegressor                                0.91       0.91   46182.92   \n",
      "ExtraTreeRegressor                           0.90       0.90   49403.06   \n",
      "HistGradientBoostingRegressor                0.90       0.90   50385.91   \n",
      "KNeighborsRegressor                          0.89       0.89   52305.73   \n",
      "DecisionTreeRegressor                        0.88       0.88   53769.71   \n",
      "GeneralizedLinearRegressor                   0.87       0.87   56454.91   \n",
      "TweedieRegressor                             0.87       0.87   56454.91   \n",
      "AdaBoostRegressor                            0.74       0.75   79258.00   \n",
      "OrthogonalMatchingPursuit                    0.51       0.51  109682.36   \n",
      "LarsCV                                       0.26       0.26  134904.01   \n",
      "ElasticNetCV                                 0.04       0.04  153561.83   \n",
      "DummyRegressor                              -0.00      -0.00  157040.79   \n",
      "NuSVR                                       -0.01      -0.01  157963.93   \n",
      "SVR                                         -0.02      -0.02  158618.95   \n",
      "GaussianProcessRegressor                    -0.04      -0.03  159570.32   \n",
      "MLPRegressor                                -0.51      -0.50  192416.21   \n",
      "Lars                                        -0.51      -0.50  192572.24   \n",
      "KernelRidge                                 -1.35      -1.34  240289.53   \n",
      "LinearSVR                                   -2.04      -2.03  273178.81   \n",
      "PoissonRegressor                          -258.18    -257.41 2524400.51   \n",
      "GammaRegressor                           -1787.13   -1781.87 6630712.36   \n",
      "\n",
      "                               Time Taken  \n",
      "Model                                      \n",
      "LassoLarsIC                          0.03  \n",
      "LassoLarsCV                          0.09  \n",
      "Lasso                                0.51  \n",
      "TransformedTargetRegressor           0.02  \n",
      "LinearRegression                     0.02  \n",
      "BayesianRidge                        0.03  \n",
      "Ridge                                0.02  \n",
      "RidgeCV                              0.04  \n",
      "LassoLars                            0.05  \n",
      "LassoCV                              0.43  \n",
      "SGDRegressor                         0.08  \n",
      "RANSACRegressor                      0.03  \n",
      "PassiveAggressiveRegressor           0.52  \n",
      "HuberRegressor                       0.49  \n",
      "OrthogonalMatchingPursuitCV          0.05  \n",
      "XGBRegressor                         0.57  \n",
      "ExtraTreesRegressor                  4.66  \n",
      "GradientBoostingRegressor            3.27  \n",
      "ElasticNet                           0.05  \n",
      "RandomForestRegressor               10.89  \n",
      "BaggingRegressor                     1.10  \n",
      "LGBMRegressor                        0.21  \n",
      "ExtraTreeRegressor                   0.11  \n",
      "HistGradientBoostingRegressor        0.81  \n",
      "KNeighborsRegressor                  1.79  \n",
      "DecisionTreeRegressor                0.22  \n",
      "GeneralizedLinearRegressor           0.03  \n",
      "TweedieRegressor                     0.03  \n",
      "AdaBoostRegressor                    1.03  \n",
      "OrthogonalMatchingPursuit            0.02  \n",
      "LarsCV                               0.10  \n",
      "ElasticNetCV                         0.17  \n",
      "DummyRegressor                       0.02  \n",
      "NuSVR                                9.71  \n",
      "SVR                                  9.56  \n",
      "GaussianProcessRegressor            36.15  \n",
      "MLPRegressor                        11.64  \n",
      "Lars                                 0.02  \n",
      "KernelRidge                         18.19  \n",
      "LinearSVR                            0.03  \n",
      "PoissonRegressor                     0.08  \n",
      "GammaRegressor                       0.03  \n",
      "\n"
     ]
    }
   ],
   "source": [
    "reg = LazyRegressor(verbose=0, ignore_warnings=False, custom_metric=None)\n",
    "reg_models, reg_predictions = reg.fit(X_train, X_test, y_train, y_test)\n",
    "\n",
    "print(reg_models)\n",
    "print(reg_predictions)"
   ]
  },
  {
   "cell_type": "code",
   "execution_count": 187,
   "metadata": {},
   "outputs": [
    {
     "output_type": "execute_result",
     "data": {
      "text/plain": [
       "       Zip_Code  Year  Month  Mobility_Rate  Expense_Index  Crime_Index  \\\n",
       "0         32003  2019      1           0.18            104           28   \n",
       "1         32003  2019      2           0.18            104           28   \n",
       "2         32003  2019      3           0.18            104           28   \n",
       "3         32003  2019      4           0.18            104           28   \n",
       "4         32003  2019      5           0.18            104           28   \n",
       "...         ...   ...    ...            ...            ...          ...   \n",
       "21759     34997  2020     10           0.14             91          113   \n",
       "21760     34997  2020     11           0.14             91          113   \n",
       "21761     34997  2020     11           0.14             91          113   \n",
       "21762     34997  2020     12           0.14             91          113   \n",
       "21763     34997  2020     12           0.14             91          113   \n",
       "\n",
       "       Total_Sales  FHA_Count  Home_Affordability  Rent_Affordability  \\\n",
       "0               32          7                0.13                0.14   \n",
       "1               41          2                0.14                0.14   \n",
       "2               21          7                0.14                0.14   \n",
       "3               42          3                0.13                0.14   \n",
       "4               66          8                0.14                0.14   \n",
       "...            ...        ...                 ...                 ...   \n",
       "21759          139         17                0.19                0.25   \n",
       "21760          132         11                0.17                0.25   \n",
       "21761          132         11                0.17                0.25   \n",
       "21762          142         16                0.20                0.25   \n",
       "21763          142         16                0.20                0.25   \n",
       "\n",
       "       Sale_Price  Last_Month_Price  Last_2Month_Price  Last_3Month_Price  \\\n",
       "0       244950.00               nan                nan                nan   \n",
       "1       270000.00         244950.00                nan                nan   \n",
       "2       275000.00         270000.00          244950.00                nan   \n",
       "3       264500.00         275000.00          270000.00          244950.00   \n",
       "4       281000.00         264500.00          275000.00          270000.00   \n",
       "...           ...               ...                ...                ...   \n",
       "21759   285000.00         285000.00          256000.00          256000.00   \n",
       "21760   259750.00         285000.00          285000.00          256000.00   \n",
       "21761   259750.00         259750.00          285000.00          285000.00   \n",
       "21762   297000.00         259750.00          259750.00          285000.00   \n",
       "21763   297000.00         297000.00          259750.00          259750.00   \n",
       "\n",
       "       Last_Month_Diff  Last_2Month_Diff  Last_3Month_Diff  Price_Change_3mo  \n",
       "0                  nan               nan               nan                 0  \n",
       "1             25050.00               nan               nan                 1  \n",
       "2              5000.00          30050.00               nan                 1  \n",
       "3            -10500.00          -5500.00          19550.00                 0  \n",
       "4             16500.00           6000.00          11000.00                 1  \n",
       "...                ...               ...               ...               ...  \n",
       "21759             0.00          29000.00          29000.00                 0  \n",
       "21760        -25250.00         -25250.00           3750.00                 0  \n",
       "21761             0.00         -25250.00         -25250.00                 0  \n",
       "21762         37250.00          37250.00          12000.00                 1  \n",
       "21763             0.00          37250.00          37250.00                 0  \n",
       "\n",
       "[21764 rows x 18 columns]"
      ],
      "text/html": "<div>\n<style scoped>\n    .dataframe tbody tr th:only-of-type {\n        vertical-align: middle;\n    }\n\n    .dataframe tbody tr th {\n        vertical-align: top;\n    }\n\n    .dataframe thead th {\n        text-align: right;\n    }\n</style>\n<table border=\"1\" class=\"dataframe\">\n  <thead>\n    <tr style=\"text-align: right;\">\n      <th></th>\n      <th>Zip_Code</th>\n      <th>Year</th>\n      <th>Month</th>\n      <th>Mobility_Rate</th>\n      <th>Expense_Index</th>\n      <th>Crime_Index</th>\n      <th>Total_Sales</th>\n      <th>FHA_Count</th>\n      <th>Home_Affordability</th>\n      <th>Rent_Affordability</th>\n      <th>Sale_Price</th>\n      <th>Last_Month_Price</th>\n      <th>Last_2Month_Price</th>\n      <th>Last_3Month_Price</th>\n      <th>Last_Month_Diff</th>\n      <th>Last_2Month_Diff</th>\n      <th>Last_3Month_Diff</th>\n      <th>Price_Change_3mo</th>\n    </tr>\n  </thead>\n  <tbody>\n    <tr>\n      <th>0</th>\n      <td>32003</td>\n      <td>2019</td>\n      <td>1</td>\n      <td>0.18</td>\n      <td>104</td>\n      <td>28</td>\n      <td>32</td>\n      <td>7</td>\n      <td>0.13</td>\n      <td>0.14</td>\n      <td>244950.00</td>\n      <td>nan</td>\n      <td>nan</td>\n      <td>nan</td>\n      <td>nan</td>\n      <td>nan</td>\n      <td>nan</td>\n      <td>0</td>\n    </tr>\n    <tr>\n      <th>1</th>\n      <td>32003</td>\n      <td>2019</td>\n      <td>2</td>\n      <td>0.18</td>\n      <td>104</td>\n      <td>28</td>\n      <td>41</td>\n      <td>2</td>\n      <td>0.14</td>\n      <td>0.14</td>\n      <td>270000.00</td>\n      <td>244950.00</td>\n      <td>nan</td>\n      <td>nan</td>\n      <td>25050.00</td>\n      <td>nan</td>\n      <td>nan</td>\n      <td>1</td>\n    </tr>\n    <tr>\n      <th>2</th>\n      <td>32003</td>\n      <td>2019</td>\n      <td>3</td>\n      <td>0.18</td>\n      <td>104</td>\n      <td>28</td>\n      <td>21</td>\n      <td>7</td>\n      <td>0.14</td>\n      <td>0.14</td>\n      <td>275000.00</td>\n      <td>270000.00</td>\n      <td>244950.00</td>\n      <td>nan</td>\n      <td>5000.00</td>\n      <td>30050.00</td>\n      <td>nan</td>\n      <td>1</td>\n    </tr>\n    <tr>\n      <th>3</th>\n      <td>32003</td>\n      <td>2019</td>\n      <td>4</td>\n      <td>0.18</td>\n      <td>104</td>\n      <td>28</td>\n      <td>42</td>\n      <td>3</td>\n      <td>0.13</td>\n      <td>0.14</td>\n      <td>264500.00</td>\n      <td>275000.00</td>\n      <td>270000.00</td>\n      <td>244950.00</td>\n      <td>-10500.00</td>\n      <td>-5500.00</td>\n      <td>19550.00</td>\n      <td>0</td>\n    </tr>\n    <tr>\n      <th>4</th>\n      <td>32003</td>\n      <td>2019</td>\n      <td>5</td>\n      <td>0.18</td>\n      <td>104</td>\n      <td>28</td>\n      <td>66</td>\n      <td>8</td>\n      <td>0.14</td>\n      <td>0.14</td>\n      <td>281000.00</td>\n      <td>264500.00</td>\n      <td>275000.00</td>\n      <td>270000.00</td>\n      <td>16500.00</td>\n      <td>6000.00</td>\n      <td>11000.00</td>\n      <td>1</td>\n    </tr>\n    <tr>\n      <th>...</th>\n      <td>...</td>\n      <td>...</td>\n      <td>...</td>\n      <td>...</td>\n      <td>...</td>\n      <td>...</td>\n      <td>...</td>\n      <td>...</td>\n      <td>...</td>\n      <td>...</td>\n      <td>...</td>\n      <td>...</td>\n      <td>...</td>\n      <td>...</td>\n      <td>...</td>\n      <td>...</td>\n      <td>...</td>\n      <td>...</td>\n    </tr>\n    <tr>\n      <th>21759</th>\n      <td>34997</td>\n      <td>2020</td>\n      <td>10</td>\n      <td>0.14</td>\n      <td>91</td>\n      <td>113</td>\n      <td>139</td>\n      <td>17</td>\n      <td>0.19</td>\n      <td>0.25</td>\n      <td>285000.00</td>\n      <td>285000.00</td>\n      <td>256000.00</td>\n      <td>256000.00</td>\n      <td>0.00</td>\n      <td>29000.00</td>\n      <td>29000.00</td>\n      <td>0</td>\n    </tr>\n    <tr>\n      <th>21760</th>\n      <td>34997</td>\n      <td>2020</td>\n      <td>11</td>\n      <td>0.14</td>\n      <td>91</td>\n      <td>113</td>\n      <td>132</td>\n      <td>11</td>\n      <td>0.17</td>\n      <td>0.25</td>\n      <td>259750.00</td>\n      <td>285000.00</td>\n      <td>285000.00</td>\n      <td>256000.00</td>\n      <td>-25250.00</td>\n      <td>-25250.00</td>\n      <td>3750.00</td>\n      <td>0</td>\n    </tr>\n    <tr>\n      <th>21761</th>\n      <td>34997</td>\n      <td>2020</td>\n      <td>11</td>\n      <td>0.14</td>\n      <td>91</td>\n      <td>113</td>\n      <td>132</td>\n      <td>11</td>\n      <td>0.17</td>\n      <td>0.25</td>\n      <td>259750.00</td>\n      <td>259750.00</td>\n      <td>285000.00</td>\n      <td>285000.00</td>\n      <td>0.00</td>\n      <td>-25250.00</td>\n      <td>-25250.00</td>\n      <td>0</td>\n    </tr>\n    <tr>\n      <th>21762</th>\n      <td>34997</td>\n      <td>2020</td>\n      <td>12</td>\n      <td>0.14</td>\n      <td>91</td>\n      <td>113</td>\n      <td>142</td>\n      <td>16</td>\n      <td>0.20</td>\n      <td>0.25</td>\n      <td>297000.00</td>\n      <td>259750.00</td>\n      <td>259750.00</td>\n      <td>285000.00</td>\n      <td>37250.00</td>\n      <td>37250.00</td>\n      <td>12000.00</td>\n      <td>1</td>\n    </tr>\n    <tr>\n      <th>21763</th>\n      <td>34997</td>\n      <td>2020</td>\n      <td>12</td>\n      <td>0.14</td>\n      <td>91</td>\n      <td>113</td>\n      <td>142</td>\n      <td>16</td>\n      <td>0.20</td>\n      <td>0.25</td>\n      <td>297000.00</td>\n      <td>297000.00</td>\n      <td>259750.00</td>\n      <td>259750.00</td>\n      <td>0.00</td>\n      <td>37250.00</td>\n      <td>37250.00</td>\n      <td>0</td>\n    </tr>\n  </tbody>\n</table>\n<p>21764 rows × 18 columns</p>\n</div>"
     },
     "metadata": {},
     "execution_count": 187
    }
   ],
   "source": [
    "price_change_3mo = []\n",
    "\n",
    "for row in ml_data_3mo['Last_3Month_Diff']:\n",
    "    if row > 0:\n",
    "        price_change_3mo.append(1)\n",
    "    else:\n",
    "        price_change_3mo.append(0)\n",
    "ml_data_3mo['Price_Change_3mo'] = price_change_1mo\n",
    "\n",
    "ml_data_3mo"
   ]
  },
  {
   "cell_type": "code",
   "execution_count": 188,
   "metadata": {},
   "outputs": [
    {
     "output_type": "execute_result",
     "data": {
      "text/plain": [
       "       Mobility_Rate  Expense_Index  Crime_Index  Total_Sales  FHA_Count  \\\n",
       "0               0.18            104           28           32          7   \n",
       "1               0.18            104           28           41          2   \n",
       "2               0.18            104           28           21          7   \n",
       "3               0.18            104           28           42          3   \n",
       "4               0.18            104           28           66          8   \n",
       "...              ...            ...          ...          ...        ...   \n",
       "21759           0.14             91          113          139         17   \n",
       "21760           0.14             91          113          132         11   \n",
       "21761           0.14             91          113          132         11   \n",
       "21762           0.14             91          113          142         16   \n",
       "21763           0.14             91          113          142         16   \n",
       "\n",
       "       Home_Affordability  Rent_Affordability  Sale_Price  Price_Change_3mo  \n",
       "0                    0.13                0.14   244950.00                 0  \n",
       "1                    0.14                0.14   270000.00                 1  \n",
       "2                    0.14                0.14   275000.00                 1  \n",
       "3                    0.13                0.14   264500.00                 0  \n",
       "4                    0.14                0.14   281000.00                 1  \n",
       "...                   ...                 ...         ...               ...  \n",
       "21759                0.19                0.25   285000.00                 0  \n",
       "21760                0.17                0.25   259750.00                 0  \n",
       "21761                0.17                0.25   259750.00                 0  \n",
       "21762                0.20                0.25   297000.00                 1  \n",
       "21763                0.20                0.25   297000.00                 0  \n",
       "\n",
       "[21764 rows x 9 columns]"
      ],
      "text/html": "<div>\n<style scoped>\n    .dataframe tbody tr th:only-of-type {\n        vertical-align: middle;\n    }\n\n    .dataframe tbody tr th {\n        vertical-align: top;\n    }\n\n    .dataframe thead th {\n        text-align: right;\n    }\n</style>\n<table border=\"1\" class=\"dataframe\">\n  <thead>\n    <tr style=\"text-align: right;\">\n      <th></th>\n      <th>Mobility_Rate</th>\n      <th>Expense_Index</th>\n      <th>Crime_Index</th>\n      <th>Total_Sales</th>\n      <th>FHA_Count</th>\n      <th>Home_Affordability</th>\n      <th>Rent_Affordability</th>\n      <th>Sale_Price</th>\n      <th>Price_Change_3mo</th>\n    </tr>\n  </thead>\n  <tbody>\n    <tr>\n      <th>0</th>\n      <td>0.18</td>\n      <td>104</td>\n      <td>28</td>\n      <td>32</td>\n      <td>7</td>\n      <td>0.13</td>\n      <td>0.14</td>\n      <td>244950.00</td>\n      <td>0</td>\n    </tr>\n    <tr>\n      <th>1</th>\n      <td>0.18</td>\n      <td>104</td>\n      <td>28</td>\n      <td>41</td>\n      <td>2</td>\n      <td>0.14</td>\n      <td>0.14</td>\n      <td>270000.00</td>\n      <td>1</td>\n    </tr>\n    <tr>\n      <th>2</th>\n      <td>0.18</td>\n      <td>104</td>\n      <td>28</td>\n      <td>21</td>\n      <td>7</td>\n      <td>0.14</td>\n      <td>0.14</td>\n      <td>275000.00</td>\n      <td>1</td>\n    </tr>\n    <tr>\n      <th>3</th>\n      <td>0.18</td>\n      <td>104</td>\n      <td>28</td>\n      <td>42</td>\n      <td>3</td>\n      <td>0.13</td>\n      <td>0.14</td>\n      <td>264500.00</td>\n      <td>0</td>\n    </tr>\n    <tr>\n      <th>4</th>\n      <td>0.18</td>\n      <td>104</td>\n      <td>28</td>\n      <td>66</td>\n      <td>8</td>\n      <td>0.14</td>\n      <td>0.14</td>\n      <td>281000.00</td>\n      <td>1</td>\n    </tr>\n    <tr>\n      <th>...</th>\n      <td>...</td>\n      <td>...</td>\n      <td>...</td>\n      <td>...</td>\n      <td>...</td>\n      <td>...</td>\n      <td>...</td>\n      <td>...</td>\n      <td>...</td>\n    </tr>\n    <tr>\n      <th>21759</th>\n      <td>0.14</td>\n      <td>91</td>\n      <td>113</td>\n      <td>139</td>\n      <td>17</td>\n      <td>0.19</td>\n      <td>0.25</td>\n      <td>285000.00</td>\n      <td>0</td>\n    </tr>\n    <tr>\n      <th>21760</th>\n      <td>0.14</td>\n      <td>91</td>\n      <td>113</td>\n      <td>132</td>\n      <td>11</td>\n      <td>0.17</td>\n      <td>0.25</td>\n      <td>259750.00</td>\n      <td>0</td>\n    </tr>\n    <tr>\n      <th>21761</th>\n      <td>0.14</td>\n      <td>91</td>\n      <td>113</td>\n      <td>132</td>\n      <td>11</td>\n      <td>0.17</td>\n      <td>0.25</td>\n      <td>259750.00</td>\n      <td>0</td>\n    </tr>\n    <tr>\n      <th>21762</th>\n      <td>0.14</td>\n      <td>91</td>\n      <td>113</td>\n      <td>142</td>\n      <td>16</td>\n      <td>0.20</td>\n      <td>0.25</td>\n      <td>297000.00</td>\n      <td>1</td>\n    </tr>\n    <tr>\n      <th>21763</th>\n      <td>0.14</td>\n      <td>91</td>\n      <td>113</td>\n      <td>142</td>\n      <td>16</td>\n      <td>0.20</td>\n      <td>0.25</td>\n      <td>297000.00</td>\n      <td>0</td>\n    </tr>\n  </tbody>\n</table>\n<p>21764 rows × 9 columns</p>\n</div>"
     },
     "metadata": {},
     "execution_count": 188
    }
   ],
   "source": [
    "ml_data_3mo = ml_data_3mo.drop(columns=['Zip_Code', 'Year', 'Month', 'Last_Month_Diff', 'Last_Month_Price', 'Last_2Month_Diff', 'Last_2Month_Price', 'Last_3Month_Diff', 'Last_3Month_Price'])\n",
    "ml_data_3mo"
   ]
  },
  {
   "cell_type": "code",
   "execution_count": 189,
   "metadata": {},
   "outputs": [
    {
     "output_type": "execute_result",
     "data": {
      "text/plain": [
       "array([0, 1, 1, ..., 0, 1, 0])"
      ]
     },
     "metadata": {},
     "execution_count": 189
    }
   ],
   "source": [
    "y_value = ml_data_3mo['Price_Change_3mo'].values\n",
    "\n",
    "x_values = ml_data_3mo.drop(columns='Price_Change_3mo')\n",
    "\n",
    "feature_names = x_values.columns\n",
    "\n",
    "x_values\n",
    "y_value"
   ]
  },
  {
   "cell_type": "code",
   "execution_count": 160,
   "metadata": {},
   "outputs": [],
   "source": [
    "X_train, X_test, y_train, y_test = train_test_split(x_values, y_value, random_state=42)"
   ]
  },
  {
   "cell_type": "code",
   "execution_count": 161,
   "metadata": {},
   "outputs": [
    {
     "output_type": "stream",
     "name": "stderr",
     "text": [
      " 21%|██        | 6/29 [00:04<00:15,  1.46it/s]CategoricalNB model failed to execute\n",
      "Negative values in data passed to CategoricalNB (input X)\n",
      " 90%|████████▉ | 26/29 [01:09<00:09,  3.16s/it]StackingClassifier model failed to execute\n",
      "__init__() missing 1 required positional argument: 'estimators'\n",
      "100%|██████████| 29/29 [01:09<00:00,  2.41s/it]\n"
     ]
    },
    {
     "output_type": "execute_result",
     "data": {
      "text/plain": [
       "                               Accuracy  Balanced Accuracy  ROC AUC  F1 Score  \\\n",
       "Model                                                                           \n",
       "RandomForestClassifier             0.65               0.65     0.65      0.65   \n",
       "LGBMClassifier                     0.65               0.65     0.65      0.65   \n",
       "ExtraTreesClassifier               0.65               0.65     0.65      0.65   \n",
       "XGBClassifier                      0.62               0.62     0.62      0.62   \n",
       "BaggingClassifier                  0.62               0.62     0.62      0.62   \n",
       "SVC                                0.62               0.62     0.62      0.62   \n",
       "AdaBoostClassifier                 0.60               0.60     0.60      0.60   \n",
       "SGDClassifier                      0.60               0.60     0.60      0.60   \n",
       "KNeighborsClassifier               0.60               0.60     0.60      0.60   \n",
       "LabelPropagation                   0.60               0.60     0.60      0.60   \n",
       "LabelSpreading                     0.60               0.60     0.60      0.60   \n",
       "CalibratedClassifierCV             0.59               0.59     0.59      0.59   \n",
       "LogisticRegression                 0.59               0.59     0.59      0.59   \n",
       "LinearSVC                          0.59               0.59     0.59      0.59   \n",
       "NuSVC                              0.59               0.59     0.59      0.59   \n",
       "LinearDiscriminantAnalysis         0.59               0.59     0.59      0.58   \n",
       "RidgeClassifier                    0.59               0.59     0.59      0.58   \n",
       "RidgeClassifierCV                  0.59               0.59     0.59      0.58   \n",
       "DecisionTreeClassifier             0.59               0.59     0.59      0.59   \n",
       "BernoulliNB                        0.59               0.58     0.58      0.58   \n",
       "NearestCentroid                    0.57               0.56     0.56      0.56   \n",
       "ExtraTreeClassifier                0.56               0.56     0.56      0.56   \n",
       "Perceptron                         0.55               0.55     0.55      0.55   \n",
       "QuadraticDiscriminantAnalysis      0.56               0.55     0.55      0.51   \n",
       "PassiveAggressiveClassifier        0.55               0.54     0.54      0.54   \n",
       "GaussianNB                         0.55               0.54     0.54      0.51   \n",
       "DummyClassifier                    0.50               0.50     0.50      0.50   \n",
       "\n",
       "                               Time Taken  \n",
       "Model                                      \n",
       "RandomForestClassifier               1.97  \n",
       "LGBMClassifier                       0.17  \n",
       "ExtraTreesClassifier                 1.18  \n",
       "XGBClassifier                        0.44  \n",
       "BaggingClassifier                    0.59  \n",
       "SVC                                  6.62  \n",
       "AdaBoostClassifier                   0.47  \n",
       "SGDClassifier                        0.07  \n",
       "KNeighborsClassifier                 0.23  \n",
       "LabelPropagation                     6.68  \n",
       "LabelSpreading                      10.22  \n",
       "CalibratedClassifierCV               3.27  \n",
       "LogisticRegression                   0.04  \n",
       "LinearSVC                            0.89  \n",
       "NuSVC                               36.62  \n",
       "LinearDiscriminantAnalysis           0.04  \n",
       "RidgeClassifier                      0.02  \n",
       "RidgeClassifierCV                    0.04  \n",
       "DecisionTreeClassifier               0.13  \n",
       "BernoulliNB                          0.02  \n",
       "NearestCentroid                      0.02  \n",
       "ExtraTreeClassifier                  0.03  \n",
       "Perceptron                           0.03  \n",
       "QuadraticDiscriminantAnalysis        0.03  \n",
       "PassiveAggressiveClassifier          0.03  \n",
       "GaussianNB                           0.02  \n",
       "DummyClassifier                      0.02  "
      ],
      "text/html": "<div>\n<style scoped>\n    .dataframe tbody tr th:only-of-type {\n        vertical-align: middle;\n    }\n\n    .dataframe tbody tr th {\n        vertical-align: top;\n    }\n\n    .dataframe thead th {\n        text-align: right;\n    }\n</style>\n<table border=\"1\" class=\"dataframe\">\n  <thead>\n    <tr style=\"text-align: right;\">\n      <th></th>\n      <th>Accuracy</th>\n      <th>Balanced Accuracy</th>\n      <th>ROC AUC</th>\n      <th>F1 Score</th>\n      <th>Time Taken</th>\n    </tr>\n    <tr>\n      <th>Model</th>\n      <th></th>\n      <th></th>\n      <th></th>\n      <th></th>\n      <th></th>\n    </tr>\n  </thead>\n  <tbody>\n    <tr>\n      <th>RandomForestClassifier</th>\n      <td>0.65</td>\n      <td>0.65</td>\n      <td>0.65</td>\n      <td>0.65</td>\n      <td>1.97</td>\n    </tr>\n    <tr>\n      <th>LGBMClassifier</th>\n      <td>0.65</td>\n      <td>0.65</td>\n      <td>0.65</td>\n      <td>0.65</td>\n      <td>0.17</td>\n    </tr>\n    <tr>\n      <th>ExtraTreesClassifier</th>\n      <td>0.65</td>\n      <td>0.65</td>\n      <td>0.65</td>\n      <td>0.65</td>\n      <td>1.18</td>\n    </tr>\n    <tr>\n      <th>XGBClassifier</th>\n      <td>0.62</td>\n      <td>0.62</td>\n      <td>0.62</td>\n      <td>0.62</td>\n      <td>0.44</td>\n    </tr>\n    <tr>\n      <th>BaggingClassifier</th>\n      <td>0.62</td>\n      <td>0.62</td>\n      <td>0.62</td>\n      <td>0.62</td>\n      <td>0.59</td>\n    </tr>\n    <tr>\n      <th>SVC</th>\n      <td>0.62</td>\n      <td>0.62</td>\n      <td>0.62</td>\n      <td>0.62</td>\n      <td>6.62</td>\n    </tr>\n    <tr>\n      <th>AdaBoostClassifier</th>\n      <td>0.60</td>\n      <td>0.60</td>\n      <td>0.60</td>\n      <td>0.60</td>\n      <td>0.47</td>\n    </tr>\n    <tr>\n      <th>SGDClassifier</th>\n      <td>0.60</td>\n      <td>0.60</td>\n      <td>0.60</td>\n      <td>0.60</td>\n      <td>0.07</td>\n    </tr>\n    <tr>\n      <th>KNeighborsClassifier</th>\n      <td>0.60</td>\n      <td>0.60</td>\n      <td>0.60</td>\n      <td>0.60</td>\n      <td>0.23</td>\n    </tr>\n    <tr>\n      <th>LabelPropagation</th>\n      <td>0.60</td>\n      <td>0.60</td>\n      <td>0.60</td>\n      <td>0.60</td>\n      <td>6.68</td>\n    </tr>\n    <tr>\n      <th>LabelSpreading</th>\n      <td>0.60</td>\n      <td>0.60</td>\n      <td>0.60</td>\n      <td>0.60</td>\n      <td>10.22</td>\n    </tr>\n    <tr>\n      <th>CalibratedClassifierCV</th>\n      <td>0.59</td>\n      <td>0.59</td>\n      <td>0.59</td>\n      <td>0.59</td>\n      <td>3.27</td>\n    </tr>\n    <tr>\n      <th>LogisticRegression</th>\n      <td>0.59</td>\n      <td>0.59</td>\n      <td>0.59</td>\n      <td>0.59</td>\n      <td>0.04</td>\n    </tr>\n    <tr>\n      <th>LinearSVC</th>\n      <td>0.59</td>\n      <td>0.59</td>\n      <td>0.59</td>\n      <td>0.59</td>\n      <td>0.89</td>\n    </tr>\n    <tr>\n      <th>NuSVC</th>\n      <td>0.59</td>\n      <td>0.59</td>\n      <td>0.59</td>\n      <td>0.59</td>\n      <td>36.62</td>\n    </tr>\n    <tr>\n      <th>LinearDiscriminantAnalysis</th>\n      <td>0.59</td>\n      <td>0.59</td>\n      <td>0.59</td>\n      <td>0.58</td>\n      <td>0.04</td>\n    </tr>\n    <tr>\n      <th>RidgeClassifier</th>\n      <td>0.59</td>\n      <td>0.59</td>\n      <td>0.59</td>\n      <td>0.58</td>\n      <td>0.02</td>\n    </tr>\n    <tr>\n      <th>RidgeClassifierCV</th>\n      <td>0.59</td>\n      <td>0.59</td>\n      <td>0.59</td>\n      <td>0.58</td>\n      <td>0.04</td>\n    </tr>\n    <tr>\n      <th>DecisionTreeClassifier</th>\n      <td>0.59</td>\n      <td>0.59</td>\n      <td>0.59</td>\n      <td>0.59</td>\n      <td>0.13</td>\n    </tr>\n    <tr>\n      <th>BernoulliNB</th>\n      <td>0.59</td>\n      <td>0.58</td>\n      <td>0.58</td>\n      <td>0.58</td>\n      <td>0.02</td>\n    </tr>\n    <tr>\n      <th>NearestCentroid</th>\n      <td>0.57</td>\n      <td>0.56</td>\n      <td>0.56</td>\n      <td>0.56</td>\n      <td>0.02</td>\n    </tr>\n    <tr>\n      <th>ExtraTreeClassifier</th>\n      <td>0.56</td>\n      <td>0.56</td>\n      <td>0.56</td>\n      <td>0.56</td>\n      <td>0.03</td>\n    </tr>\n    <tr>\n      <th>Perceptron</th>\n      <td>0.55</td>\n      <td>0.55</td>\n      <td>0.55</td>\n      <td>0.55</td>\n      <td>0.03</td>\n    </tr>\n    <tr>\n      <th>QuadraticDiscriminantAnalysis</th>\n      <td>0.56</td>\n      <td>0.55</td>\n      <td>0.55</td>\n      <td>0.51</td>\n      <td>0.03</td>\n    </tr>\n    <tr>\n      <th>PassiveAggressiveClassifier</th>\n      <td>0.55</td>\n      <td>0.54</td>\n      <td>0.54</td>\n      <td>0.54</td>\n      <td>0.03</td>\n    </tr>\n    <tr>\n      <th>GaussianNB</th>\n      <td>0.55</td>\n      <td>0.54</td>\n      <td>0.54</td>\n      <td>0.51</td>\n      <td>0.02</td>\n    </tr>\n    <tr>\n      <th>DummyClassifier</th>\n      <td>0.50</td>\n      <td>0.50</td>\n      <td>0.50</td>\n      <td>0.50</td>\n      <td>0.02</td>\n    </tr>\n  </tbody>\n</table>\n</div>"
     },
     "metadata": {},
     "execution_count": 161
    }
   ],
   "source": [
    "from lazypredict.Supervised import LazyClassifier\n",
    "\n",
    "clf = LazyClassifier(verbose=0,ignore_warnings=False)\n",
    "models, predictions = clf.fit(X_train, X_test, y_train, y_test)\n",
    "models"
   ]
  },
  {
   "cell_type": "code",
   "execution_count": 151,
   "metadata": {},
   "outputs": [
    {
     "output_type": "stream",
     "name": "stdout",
     "text": [
      "32003\n34997\n"
     ]
    }
   ],
   "source": [
    "print(ml_data_1mo['Zip_Code'].min())\n",
    "print(ml_data_1mo['Zip_Code'].max())"
   ]
  },
  {
   "cell_type": "code",
   "execution_count": 190,
   "metadata": {},
   "outputs": [],
   "source": [
    "from lightgbm import LGBMClassifier"
   ]
  },
  {
   "cell_type": "code",
   "execution_count": 191,
   "metadata": {},
   "outputs": [
    {
     "output_type": "execute_result",
     "data": {
      "text/plain": [
       "0        0\n",
       "1        1\n",
       "2        1\n",
       "3        0\n",
       "4        1\n",
       "        ..\n",
       "21759    0\n",
       "21760    0\n",
       "21761    0\n",
       "21762    1\n",
       "21763    0\n",
       "Name: Price_Change_3mo, Length: 21764, dtype: int64"
      ]
     },
     "metadata": {},
     "execution_count": 191
    }
   ],
   "source": [
    "y_value = ml_data_3mo['Price_Change_3mo']\n",
    "\n",
    "x_values = ml_data_3mo.drop(columns='Price_Change_3mo')\n",
    "\n",
    "feature_names = x_values.columns\n",
    "\n",
    "x_values\n",
    "y_value"
   ]
  },
  {
   "cell_type": "code",
   "execution_count": 226,
   "metadata": {},
   "outputs": [],
   "source": [
    "X_train, X_test, y_train, y_test = train_test_split(x_values, y_value, random_state=42)"
   ]
  },
  {
   "cell_type": "code",
   "execution_count": 267,
   "metadata": {},
   "outputs": [
    {
     "output_type": "execute_result",
     "data": {
      "text/plain": [
       "LGBMClassifier(boosting_type='dart', learning_rate=0.003, max_depth=25,\n",
       "               min_data_in_leaf=100, n_estimators=15000, num_leaves=10000,\n",
       "               objective='binary')"
      ]
     },
     "metadata": {},
     "execution_count": 267
    }
   ],
   "source": [
    "LGBMCmodel = LGBMClassifier(boosting_type='dart', objective='binary', num_leaves= 10000,\n",
    "                                max_depth=25, min_data_in_leaf=100,\n",
    "                                learning_rate=0.003, n_estimators=15000)\n",
    "LGBMCmodel.fit(X_train, y_train)"
   ]
  },
  {
   "cell_type": "code",
   "execution_count": 268,
   "metadata": {},
   "outputs": [
    {
     "output_type": "stream",
     "name": "stdout",
     "text": [
      "LightGBM Model accuracy score: 0.6565\n"
     ]
    }
   ],
   "source": [
    "predict_test = LGBMCmodel.predict(X_test)\n",
    "\n",
    "accuracy=accuracy_score(predict_test, y_test)\n",
    "print('LightGBM Model accuracy score: {0:0.4f}'.format(accuracy_score(y_test, predict_test)))"
   ]
  },
  {
   "cell_type": "code",
   "execution_count": 269,
   "metadata": {},
   "outputs": [
    {
     "output_type": "stream",
     "name": "stdout",
     "text": [
      "Training-set accuracy score: 0.8726\n"
     ]
    }
   ],
   "source": [
    "predict_train = LGBMCmodel.predict(X_train)\n",
    "\n",
    "print('Training-set accuracy score: {0:0.4f}'. format(accuracy_score(y_train, predict_train)))"
   ]
  },
  {
   "cell_type": "code",
   "execution_count": 252,
   "metadata": {},
   "outputs": [
    {
     "output_type": "stream",
     "name": "stdout",
     "text": [
      "Training set score: 0.9246\n",
      "Test set score: 0.6514\n"
     ]
    }
   ],
   "source": [
    "print('Training set score: {:.4f}'.format(LGBMCmodel.score(X_train, y_train)))\n",
    "\n",
    "print('Test set score: {:.4f}'.format(LGBMCmodel.score(X_test, y_test)))"
   ]
  },
  {
   "cell_type": "code",
   "execution_count": 270,
   "metadata": {},
   "outputs": [
    {
     "output_type": "stream",
     "name": "stdout",
     "text": [
      "Confusion matrix\n\n [[1848  983]\n [ 886 1724]]\n\nTrue Positives(TP) =  1848\n\nTrue Negatives(TN) =  1724\n\nFalse Positives(FP) =  983\n\nFalse Negatives(FN) =  886\n"
     ]
    }
   ],
   "source": [
    "from sklearn.metrics import confusion_matrix\n",
    "cm = confusion_matrix(y_test, predict_test)\n",
    "print('Confusion matrix\\n\\n', cm)\n",
    "print('\\nTrue Positives(TP) = ', cm[0,0])\n",
    "print('\\nTrue Negatives(TN) = ', cm[1,1])\n",
    "print('\\nFalse Positives(FP) = ', cm[0,1])\n",
    "print('\\nFalse Negatives(FN) = ', cm[1,0])"
   ]
  },
  {
   "cell_type": "code",
   "execution_count": 291,
   "metadata": {},
   "outputs": [
    {
     "output_type": "display_data",
     "data": {
      "text/plain": "<IPython.core.display.Javascript object>",
      "application/javascript": "\n        if (window._pyforest_update_imports_cell) { window._pyforest_update_imports_cell('from sklearn.ensemble import RandomForestRegressor\\nfrom sklearn.ensemble import RandomForestClassifier\\nimport sklearn'); }\n    "
     },
     "metadata": {}
    },
    {
     "output_type": "stream",
     "name": "stderr",
     "text": [
      "[Parallel(n_jobs=10000)]: Using backend ThreadingBackend with 10000 concurrent workers.\n",
      "building tree 1 of 100building tree 2 of 100building tree 3 of 100building tree 4 of 100building tree 5 of 100building tree 6 of 100building tree 7 of 100building tree 8 of 100building tree 9 of 100building tree 10 of 100building tree 11 of 100building tree 12 of 100building tree 13 of 100building tree 14 of 100building tree 15 of 100building tree 16 of 100building tree 17 of 100building tree 18 of 100building tree 19 of 100building tree 20 of 100building tree 21 of 100building tree 22 of 100building tree 23 of 100building tree 24 of 100building tree 25 of 100building tree 26 of 100building tree 27 of 100building tree 28 of 100building tree 29 of 100building tree 30 of 100building tree 31 of 100building tree 32 of 100building tree 33 of 100building tree 34 of 100building tree 35 of 100building tree 36 of 100building tree 37 of 100building tree 38 of 100building tree 39 of 100\n",
      "\n",
      "\n",
      "\n",
      "\n",
      "\n",
      "\n",
      "\n",
      "\n",
      "\n",
      "\n",
      "\n",
      "\n",
      "building tree 40 of 100building tree 41 of 100building tree 42 of 100\n",
      "\n",
      "building tree 43 of 100building tree 44 of 100building tree 45 of 100building tree 46 of 100building tree 47 of 100building tree 48 of 100building tree 49 of 100building tree 50 of 100building tree 51 of 100building tree 52 of 100building tree 53 of 100building tree 54 of 100building tree 55 of 100\n",
      "\n",
      "building tree 56 of 100building tree 57 of 100building tree 58 of 100\n",
      "building tree 59 of 100building tree 60 of 100building tree 61 of 100\n",
      "building tree 62 of 100building tree 63 of 100\n",
      "\n",
      "\n",
      "building tree 64 of 100building tree 65 of 100building tree 66 of 100\n",
      "building tree 67 of 100building tree 68 of 100\n",
      "building tree 69 of 100\n",
      "\n",
      "\n",
      "\n",
      "\n",
      "building tree 70 of 100\n",
      "\n",
      "\n",
      "\n",
      "\n",
      "\n",
      "\n",
      "\n",
      "\n",
      "\n",
      "\n",
      "building tree 71 of 100building tree 72 of 100\n",
      "\n",
      "building tree 73 of 100\n",
      "\n",
      "\n",
      "building tree 74 of 100building tree 75 of 100building tree 76 of 100building tree 77 of 100\n",
      "\n",
      "building tree 78 of 100building tree 79 of 100\n",
      "building tree 80 of 100building tree 81 of 100building tree 82 of 100building tree 83 of 100\n",
      "\n",
      "\n",
      "building tree 84 of 100building tree 85 of 100building tree 86 of 100building tree 87 of 100building tree 88 of 100building tree 89 of 100\n",
      "\n",
      "\n",
      "\n",
      "building tree 90 of 100\n",
      "\n",
      "\n",
      "building tree 91 of 100building tree 92 of 100building tree 93 of 100building tree 94 of 100building tree 95 of 100\n",
      "\n",
      "building tree 96 of 100\n",
      "\n",
      "\n",
      "\n",
      "building tree 97 of 100building tree 98 of 100\n",
      "\n",
      "\n",
      "\n",
      "\n",
      "\n",
      "\n",
      "\n",
      "\n",
      "\n",
      "\n",
      "\n",
      "\n",
      "\n",
      "\n",
      "\n",
      "\n",
      "\n",
      "\n",
      "\n",
      "\n",
      "\n",
      "\n",
      "\n",
      "\n",
      "\n",
      "\n",
      "\n",
      "\n",
      "\n",
      "building tree 99 of 100building tree 100 of 100\n",
      "\n",
      "\n",
      "\n",
      "\n",
      "\n",
      "[Parallel(n_jobs=10000)]: Done  42 out of 100 | elapsed:    5.4s remaining:    7.4s\n",
      "[Parallel(n_jobs=10000)]: Done  93 out of 100 | elapsed:    5.4s remaining:    0.4s\n",
      "[Parallel(n_jobs=10000)]: Done 100 out of 100 | elapsed:    5.4s finished\n",
      "[Parallel(n_jobs=100)]: Using backend ThreadingBackend with 100 concurrent workers.\n",
      "[Parallel(n_jobs=100)]: Done   3 out of 100 | elapsed:    0.0s remaining:    0.9s\n",
      "[Parallel(n_jobs=100)]: Done  54 out of 100 | elapsed:    0.0s remaining:    0.0s\n",
      "[Parallel(n_jobs=100)]: Done 100 out of 100 | elapsed:    0.0s finished\n"
     ]
    }
   ],
   "source": [
    "rf = RandomForestClassifier(n_estimators=100, max_depth=25, n_jobs=10000, verbose=2)\n",
    "rf.fit(X_train,y_train)\n",
    "\n",
    "predict_rf = rf.predict(X_test)"
   ]
  },
  {
   "cell_type": "code",
   "execution_count": 292,
   "metadata": {},
   "outputs": [
    {
     "output_type": "stream",
     "name": "stdout",
     "text": [
      "Accuracy: 0.6370152545487962\n"
     ]
    }
   ],
   "source": [
    "print(\"Accuracy:\", metrics.accuracy_score(y_test, predict_rf))"
   ]
  },
  {
   "cell_type": "code",
   "execution_count": null,
   "metadata": {},
   "outputs": [],
   "source": []
  }
 ]
}