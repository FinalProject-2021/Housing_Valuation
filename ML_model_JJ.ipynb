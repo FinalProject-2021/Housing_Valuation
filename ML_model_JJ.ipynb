{
 "metadata": {
  "language_info": {
   "codemirror_mode": {
    "name": "ipython",
    "version": 3
   },
   "file_extension": ".py",
   "mimetype": "text/x-python",
   "name": "python",
   "nbconvert_exporter": "python",
   "pygments_lexer": "ipython3",
   "version": "3.6.10"
  },
  "orig_nbformat": 2,
  "kernelspec": {
   "name": "python3610jvsc74a57bd0832a58595f549721e5808a4f038b9464c2d8e6e19db5e8e2fb21cf5b549373c5",
   "display_name": "Python 3.6.10 64-bit ('PythonData': conda)"
  }
 },
 "nbformat": 4,
 "nbformat_minor": 2,
 "cells": [
  {
   "cell_type": "code",
   "execution_count": 173,
   "metadata": {},
   "outputs": [],
   "source": [
    "# Required Modules\n",
    "import pandas as pd\n",
    "import numpy as np\n"
   ]
  },
  {
   "cell_type": "code",
   "execution_count": 174,
   "metadata": {},
   "outputs": [
    {
     "output_type": "execute_result",
     "data": {
      "text/plain": [
       "   Zip_Code        Date  Year  Month  Sale_Price  Interest_Rate  Property_Tax  \\\n",
       "0     32003  2019-01-01  2019      1   244950.00           4.46          3778   \n",
       "1     32003  2019-02-01  2019      2   270000.00           4.37          3778   \n",
       "2     32003  2019-03-01  2019      3   275000.00           4.26          3778   \n",
       "3     32003  2019-04-01  2019      4   264500.00           4.14          3778   \n",
       "4     32003  2019-05-01  2019      5   281000.00           4.07          3778   \n",
       "\n",
       "   Rent_Price  Household_Income  Rent_Affordability  ...  FTE_Employed  \\\n",
       "0        1113          94154.00                0.14  ...         10671   \n",
       "1        1113          94154.00                0.14  ...         10671   \n",
       "2        1113          94154.00                0.14  ...         10671   \n",
       "3        1113          94154.00                0.14  ...         10671   \n",
       "4        1113          94154.00                0.14  ...         10671   \n",
       "\n",
       "   Unemployed  Expense_Index  Average_Commute Crime_Index  Loan_Amount  \\\n",
       "0        1069            104               35          28    195960.00   \n",
       "1        1069            104               35          28    216000.00   \n",
       "2        1069            104               35          28    220000.00   \n",
       "3        1069            104               35          28    211600.00   \n",
       "4        1069            104               35          28    224800.00   \n",
       "\n",
       "   Loan_Term  Loan_R  Loan_Payment  Home_Affordability  \n",
       "0     360.00    1.00        988.71                0.13  \n",
       "1     360.00    1.00       1077.82                0.14  \n",
       "2     360.00    1.00       1084.20                0.14  \n",
       "3     360.00    1.00       1027.67                0.13  \n",
       "4     360.00    1.00       1082.58                0.14  \n",
       "\n",
       "[5 rows x 29 columns]"
      ],
      "text/html": "<div>\n<style scoped>\n    .dataframe tbody tr th:only-of-type {\n        vertical-align: middle;\n    }\n\n    .dataframe tbody tr th {\n        vertical-align: top;\n    }\n\n    .dataframe thead th {\n        text-align: right;\n    }\n</style>\n<table border=\"1\" class=\"dataframe\">\n  <thead>\n    <tr style=\"text-align: right;\">\n      <th></th>\n      <th>Zip_Code</th>\n      <th>Date</th>\n      <th>Year</th>\n      <th>Month</th>\n      <th>Sale_Price</th>\n      <th>Interest_Rate</th>\n      <th>Property_Tax</th>\n      <th>Rent_Price</th>\n      <th>Household_Income</th>\n      <th>Rent_Affordability</th>\n      <th>...</th>\n      <th>FTE_Employed</th>\n      <th>Unemployed</th>\n      <th>Expense_Index</th>\n      <th>Average_Commute</th>\n      <th>Crime_Index</th>\n      <th>Loan_Amount</th>\n      <th>Loan_Term</th>\n      <th>Loan_R</th>\n      <th>Loan_Payment</th>\n      <th>Home_Affordability</th>\n    </tr>\n  </thead>\n  <tbody>\n    <tr>\n      <th>0</th>\n      <td>32003</td>\n      <td>2019-01-01</td>\n      <td>2019</td>\n      <td>1</td>\n      <td>244950.00</td>\n      <td>4.46</td>\n      <td>3778</td>\n      <td>1113</td>\n      <td>94154.00</td>\n      <td>0.14</td>\n      <td>...</td>\n      <td>10671</td>\n      <td>1069</td>\n      <td>104</td>\n      <td>35</td>\n      <td>28</td>\n      <td>195960.00</td>\n      <td>360.00</td>\n      <td>1.00</td>\n      <td>988.71</td>\n      <td>0.13</td>\n    </tr>\n    <tr>\n      <th>1</th>\n      <td>32003</td>\n      <td>2019-02-01</td>\n      <td>2019</td>\n      <td>2</td>\n      <td>270000.00</td>\n      <td>4.37</td>\n      <td>3778</td>\n      <td>1113</td>\n      <td>94154.00</td>\n      <td>0.14</td>\n      <td>...</td>\n      <td>10671</td>\n      <td>1069</td>\n      <td>104</td>\n      <td>35</td>\n      <td>28</td>\n      <td>216000.00</td>\n      <td>360.00</td>\n      <td>1.00</td>\n      <td>1077.82</td>\n      <td>0.14</td>\n    </tr>\n    <tr>\n      <th>2</th>\n      <td>32003</td>\n      <td>2019-03-01</td>\n      <td>2019</td>\n      <td>3</td>\n      <td>275000.00</td>\n      <td>4.26</td>\n      <td>3778</td>\n      <td>1113</td>\n      <td>94154.00</td>\n      <td>0.14</td>\n      <td>...</td>\n      <td>10671</td>\n      <td>1069</td>\n      <td>104</td>\n      <td>35</td>\n      <td>28</td>\n      <td>220000.00</td>\n      <td>360.00</td>\n      <td>1.00</td>\n      <td>1084.20</td>\n      <td>0.14</td>\n    </tr>\n    <tr>\n      <th>3</th>\n      <td>32003</td>\n      <td>2019-04-01</td>\n      <td>2019</td>\n      <td>4</td>\n      <td>264500.00</td>\n      <td>4.14</td>\n      <td>3778</td>\n      <td>1113</td>\n      <td>94154.00</td>\n      <td>0.14</td>\n      <td>...</td>\n      <td>10671</td>\n      <td>1069</td>\n      <td>104</td>\n      <td>35</td>\n      <td>28</td>\n      <td>211600.00</td>\n      <td>360.00</td>\n      <td>1.00</td>\n      <td>1027.67</td>\n      <td>0.13</td>\n    </tr>\n    <tr>\n      <th>4</th>\n      <td>32003</td>\n      <td>2019-05-01</td>\n      <td>2019</td>\n      <td>5</td>\n      <td>281000.00</td>\n      <td>4.07</td>\n      <td>3778</td>\n      <td>1113</td>\n      <td>94154.00</td>\n      <td>0.14</td>\n      <td>...</td>\n      <td>10671</td>\n      <td>1069</td>\n      <td>104</td>\n      <td>35</td>\n      <td>28</td>\n      <td>224800.00</td>\n      <td>360.00</td>\n      <td>1.00</td>\n      <td>1082.58</td>\n      <td>0.14</td>\n    </tr>\n  </tbody>\n</table>\n<p>5 rows × 29 columns</p>\n</div>"
     },
     "metadata": {},
     "execution_count": 174
    }
   ],
   "source": [
    "data = pd.read_csv('Resources/Final_Data.csv')\n",
    "data.head()"
   ]
  },
  {
   "cell_type": "code",
   "execution_count": 175,
   "metadata": {},
   "outputs": [
    {
     "output_type": "execute_result",
     "data": {
      "text/plain": [
       "Zip_Code                int64\n",
       "Date                   object\n",
       "Year                    int64\n",
       "Month                   int64\n",
       "Sale_Price            float64\n",
       "Interest_Rate         float64\n",
       "Property_Tax            int64\n",
       "Rent_Price              int64\n",
       "Household_Income      float64\n",
       "Rent_Affordability    float64\n",
       "Total_Sales             int64\n",
       "FHA_Count               int64\n",
       "Mobility_Rate         float64\n",
       "School_Rating           int64\n",
       "School_Grade           object\n",
       "Owner_Occupied          int64\n",
       "Renter_Occupied         int64\n",
       "Total_Vacant            int64\n",
       "Total_Dwellings         int64\n",
       "FTE_Employed            int64\n",
       "Unemployed              int64\n",
       "Expense_Index           int64\n",
       "Average_Commute         int64\n",
       "Crime_Index             int64\n",
       "Loan_Amount           float64\n",
       "Loan_Term             float64\n",
       "Loan_R                float64\n",
       "Loan_Payment          float64\n",
       "Home_Affordability    float64\n",
       "dtype: object"
      ]
     },
     "metadata": {},
     "execution_count": 175
    }
   ],
   "source": [
    "data.dtypes"
   ]
  },
  {
   "cell_type": "code",
   "execution_count": 176,
   "metadata": {},
   "outputs": [
    {
     "output_type": "execute_result",
     "data": {
      "text/plain": [
       "       Zip_Code  Year  Month  Total_Sales  FHA_Count  Home_Affordability  \\\n",
       "0         32003  2019      1           32          7                0.13   \n",
       "1         32003  2019      2           41          2                0.14   \n",
       "2         32003  2019      3           21          7                0.14   \n",
       "3         32003  2019      4           42          3                0.13   \n",
       "4         32003  2019      5           66          8                0.14   \n",
       "...         ...   ...    ...          ...        ...                 ...   \n",
       "22618     34997  2020     10          139         17                0.19   \n",
       "22619     34997  2020     11          132         11                0.17   \n",
       "22620     34997  2020     11          132         11                0.17   \n",
       "22621     34997  2020     12          142         16                0.20   \n",
       "22622     34997  2020     12          142         16                0.20   \n",
       "\n",
       "       Rent_Affordability  Sale_Price  \n",
       "0                    0.14   244950.00  \n",
       "1                    0.14   270000.00  \n",
       "2                    0.14   275000.00  \n",
       "3                    0.14   264500.00  \n",
       "4                    0.14   281000.00  \n",
       "...                   ...         ...  \n",
       "22618                0.25   285000.00  \n",
       "22619                0.25   259750.00  \n",
       "22620                0.25   259750.00  \n",
       "22621                0.25   297000.00  \n",
       "22622                0.25   297000.00  \n",
       "\n",
       "[22623 rows x 8 columns]"
      ],
      "text/html": "<div>\n<style scoped>\n    .dataframe tbody tr th:only-of-type {\n        vertical-align: middle;\n    }\n\n    .dataframe tbody tr th {\n        vertical-align: top;\n    }\n\n    .dataframe thead th {\n        text-align: right;\n    }\n</style>\n<table border=\"1\" class=\"dataframe\">\n  <thead>\n    <tr style=\"text-align: right;\">\n      <th></th>\n      <th>Zip_Code</th>\n      <th>Year</th>\n      <th>Month</th>\n      <th>Total_Sales</th>\n      <th>FHA_Count</th>\n      <th>Home_Affordability</th>\n      <th>Rent_Affordability</th>\n      <th>Sale_Price</th>\n    </tr>\n  </thead>\n  <tbody>\n    <tr>\n      <th>0</th>\n      <td>32003</td>\n      <td>2019</td>\n      <td>1</td>\n      <td>32</td>\n      <td>7</td>\n      <td>0.13</td>\n      <td>0.14</td>\n      <td>244950.00</td>\n    </tr>\n    <tr>\n      <th>1</th>\n      <td>32003</td>\n      <td>2019</td>\n      <td>2</td>\n      <td>41</td>\n      <td>2</td>\n      <td>0.14</td>\n      <td>0.14</td>\n      <td>270000.00</td>\n    </tr>\n    <tr>\n      <th>2</th>\n      <td>32003</td>\n      <td>2019</td>\n      <td>3</td>\n      <td>21</td>\n      <td>7</td>\n      <td>0.14</td>\n      <td>0.14</td>\n      <td>275000.00</td>\n    </tr>\n    <tr>\n      <th>3</th>\n      <td>32003</td>\n      <td>2019</td>\n      <td>4</td>\n      <td>42</td>\n      <td>3</td>\n      <td>0.13</td>\n      <td>0.14</td>\n      <td>264500.00</td>\n    </tr>\n    <tr>\n      <th>4</th>\n      <td>32003</td>\n      <td>2019</td>\n      <td>5</td>\n      <td>66</td>\n      <td>8</td>\n      <td>0.14</td>\n      <td>0.14</td>\n      <td>281000.00</td>\n    </tr>\n    <tr>\n      <th>...</th>\n      <td>...</td>\n      <td>...</td>\n      <td>...</td>\n      <td>...</td>\n      <td>...</td>\n      <td>...</td>\n      <td>...</td>\n      <td>...</td>\n    </tr>\n    <tr>\n      <th>22618</th>\n      <td>34997</td>\n      <td>2020</td>\n      <td>10</td>\n      <td>139</td>\n      <td>17</td>\n      <td>0.19</td>\n      <td>0.25</td>\n      <td>285000.00</td>\n    </tr>\n    <tr>\n      <th>22619</th>\n      <td>34997</td>\n      <td>2020</td>\n      <td>11</td>\n      <td>132</td>\n      <td>11</td>\n      <td>0.17</td>\n      <td>0.25</td>\n      <td>259750.00</td>\n    </tr>\n    <tr>\n      <th>22620</th>\n      <td>34997</td>\n      <td>2020</td>\n      <td>11</td>\n      <td>132</td>\n      <td>11</td>\n      <td>0.17</td>\n      <td>0.25</td>\n      <td>259750.00</td>\n    </tr>\n    <tr>\n      <th>22621</th>\n      <td>34997</td>\n      <td>2020</td>\n      <td>12</td>\n      <td>142</td>\n      <td>16</td>\n      <td>0.20</td>\n      <td>0.25</td>\n      <td>297000.00</td>\n    </tr>\n    <tr>\n      <th>22622</th>\n      <td>34997</td>\n      <td>2020</td>\n      <td>12</td>\n      <td>142</td>\n      <td>16</td>\n      <td>0.20</td>\n      <td>0.25</td>\n      <td>297000.00</td>\n    </tr>\n  </tbody>\n</table>\n<p>22623 rows × 8 columns</p>\n</div>"
     },
     "metadata": {},
     "execution_count": 176
    }
   ],
   "source": [
    "ml_data = data[['Zip_Code', 'Year', 'Month', 'Total_Sales', 'FHA_Count', \n",
    "'Home_Affordability', 'Rent_Affordability', 'Sale_Price' ]]\n",
    "ml_data"
   ]
  },
  {
   "cell_type": "code",
   "execution_count": 177,
   "metadata": {},
   "outputs": [
    {
     "output_type": "stream",
     "name": "stdout",
     "text": [
      "It contains 171 infinite values\n"
     ]
    }
   ],
   "source": [
    "count = np.isinf(ml_data).values.sum()\n",
    "print(\"It contains \" + str(count) + \" infinite values\")"
   ]
  },
  {
   "cell_type": "code",
   "execution_count": 178,
   "metadata": {},
   "outputs": [
    {
     "output_type": "execute_result",
     "data": {
      "text/plain": [
       "       Zip_Code  Year  Month  Total_Sales  FHA_Count  Home_Affordability  \\\n",
       "0         32003  2019      1           32          7                0.13   \n",
       "1         32003  2019      2           41          2                0.14   \n",
       "2         32003  2019      3           21          7                0.14   \n",
       "3         32003  2019      4           42          3                0.13   \n",
       "4         32003  2019      5           66          8                0.14   \n",
       "...         ...   ...    ...          ...        ...                 ...   \n",
       "22618     34997  2020     10          139         17                0.19   \n",
       "22619     34997  2020     11          132         11                0.17   \n",
       "22620     34997  2020     11          132         11                0.17   \n",
       "22621     34997  2020     12          142         16                0.20   \n",
       "22622     34997  2020     12          142         16                0.20   \n",
       "\n",
       "       Rent_Affordability  Sale_Price  \n",
       "0                    0.14   244950.00  \n",
       "1                    0.14   270000.00  \n",
       "2                    0.14   275000.00  \n",
       "3                    0.14   264500.00  \n",
       "4                    0.14   281000.00  \n",
       "...                   ...         ...  \n",
       "22618                0.25   285000.00  \n",
       "22619                0.25   259750.00  \n",
       "22620                0.25   259750.00  \n",
       "22621                0.25   297000.00  \n",
       "22622                0.25   297000.00  \n",
       "\n",
       "[22452 rows x 8 columns]"
      ],
      "text/html": "<div>\n<style scoped>\n    .dataframe tbody tr th:only-of-type {\n        vertical-align: middle;\n    }\n\n    .dataframe tbody tr th {\n        vertical-align: top;\n    }\n\n    .dataframe thead th {\n        text-align: right;\n    }\n</style>\n<table border=\"1\" class=\"dataframe\">\n  <thead>\n    <tr style=\"text-align: right;\">\n      <th></th>\n      <th>Zip_Code</th>\n      <th>Year</th>\n      <th>Month</th>\n      <th>Total_Sales</th>\n      <th>FHA_Count</th>\n      <th>Home_Affordability</th>\n      <th>Rent_Affordability</th>\n      <th>Sale_Price</th>\n    </tr>\n  </thead>\n  <tbody>\n    <tr>\n      <th>0</th>\n      <td>32003</td>\n      <td>2019</td>\n      <td>1</td>\n      <td>32</td>\n      <td>7</td>\n      <td>0.13</td>\n      <td>0.14</td>\n      <td>244950.00</td>\n    </tr>\n    <tr>\n      <th>1</th>\n      <td>32003</td>\n      <td>2019</td>\n      <td>2</td>\n      <td>41</td>\n      <td>2</td>\n      <td>0.14</td>\n      <td>0.14</td>\n      <td>270000.00</td>\n    </tr>\n    <tr>\n      <th>2</th>\n      <td>32003</td>\n      <td>2019</td>\n      <td>3</td>\n      <td>21</td>\n      <td>7</td>\n      <td>0.14</td>\n      <td>0.14</td>\n      <td>275000.00</td>\n    </tr>\n    <tr>\n      <th>3</th>\n      <td>32003</td>\n      <td>2019</td>\n      <td>4</td>\n      <td>42</td>\n      <td>3</td>\n      <td>0.13</td>\n      <td>0.14</td>\n      <td>264500.00</td>\n    </tr>\n    <tr>\n      <th>4</th>\n      <td>32003</td>\n      <td>2019</td>\n      <td>5</td>\n      <td>66</td>\n      <td>8</td>\n      <td>0.14</td>\n      <td>0.14</td>\n      <td>281000.00</td>\n    </tr>\n    <tr>\n      <th>...</th>\n      <td>...</td>\n      <td>...</td>\n      <td>...</td>\n      <td>...</td>\n      <td>...</td>\n      <td>...</td>\n      <td>...</td>\n      <td>...</td>\n    </tr>\n    <tr>\n      <th>22618</th>\n      <td>34997</td>\n      <td>2020</td>\n      <td>10</td>\n      <td>139</td>\n      <td>17</td>\n      <td>0.19</td>\n      <td>0.25</td>\n      <td>285000.00</td>\n    </tr>\n    <tr>\n      <th>22619</th>\n      <td>34997</td>\n      <td>2020</td>\n      <td>11</td>\n      <td>132</td>\n      <td>11</td>\n      <td>0.17</td>\n      <td>0.25</td>\n      <td>259750.00</td>\n    </tr>\n    <tr>\n      <th>22620</th>\n      <td>34997</td>\n      <td>2020</td>\n      <td>11</td>\n      <td>132</td>\n      <td>11</td>\n      <td>0.17</td>\n      <td>0.25</td>\n      <td>259750.00</td>\n    </tr>\n    <tr>\n      <th>22621</th>\n      <td>34997</td>\n      <td>2020</td>\n      <td>12</td>\n      <td>142</td>\n      <td>16</td>\n      <td>0.20</td>\n      <td>0.25</td>\n      <td>297000.00</td>\n    </tr>\n    <tr>\n      <th>22622</th>\n      <td>34997</td>\n      <td>2020</td>\n      <td>12</td>\n      <td>142</td>\n      <td>16</td>\n      <td>0.20</td>\n      <td>0.25</td>\n      <td>297000.00</td>\n    </tr>\n  </tbody>\n</table>\n<p>22452 rows × 8 columns</p>\n</div>"
     },
     "metadata": {},
     "execution_count": 178
    }
   ],
   "source": [
    "# Replacing infinite with nan\n",
    "ml_data.replace([np.inf, -np.inf], np.nan, inplace=True)\n",
    "  \n",
    "# Dropping all the rows with nan values\n",
    "ml_data.dropna(inplace=True)\n",
    "  \n",
    "# Printing df\n",
    "ml_data"
   ]
  },
  {
   "cell_type": "code",
   "execution_count": 241,
   "metadata": {},
   "outputs": [
    {
     "output_type": "execute_result",
     "data": {
      "text/plain": [
       "       Zip_Code  Year  Month  Total_Sales  FHA_Count  Home_Affordability  \\\n",
       "0         32003  2019      1           32          7                0.13   \n",
       "1         32003  2019      2           41          2                0.14   \n",
       "2         32003  2019      3           21          7                0.14   \n",
       "3         32003  2019      4           42          3                0.13   \n",
       "4         32003  2019      5           66          8                0.14   \n",
       "...         ...   ...    ...          ...        ...                 ...   \n",
       "22618     34997  2020     10          139         17                0.19   \n",
       "22619     34997  2020     11          132         11                0.17   \n",
       "22620     34997  2020     11          132         11                0.17   \n",
       "22621     34997  2020     12          142         16                0.20   \n",
       "22622     34997  2020     12          142         16                0.20   \n",
       "\n",
       "       Rent_Affordability  Sale_Price  Last_Month_Price  Last_Month_Diff  \\\n",
       "0                    0.14   244950.00               nan              nan   \n",
       "1                    0.14   270000.00         244950.00              nan   \n",
       "2                    0.14   275000.00         270000.00         25050.00   \n",
       "3                    0.14   264500.00         275000.00          5000.00   \n",
       "4                    0.14   281000.00         264500.00        -10500.00   \n",
       "...                   ...         ...               ...              ...   \n",
       "22618                0.25   285000.00         285000.00         29000.00   \n",
       "22619                0.25   259750.00         285000.00             0.00   \n",
       "22620                0.25   259750.00         259750.00        -25250.00   \n",
       "22621                0.25   297000.00         259750.00             0.00   \n",
       "22622                0.25   297000.00         297000.00         37250.00   \n",
       "\n",
       "       Price_Change  \n",
       "0                 0  \n",
       "1                 0  \n",
       "2                 1  \n",
       "3                 1  \n",
       "4                 0  \n",
       "...             ...  \n",
       "22618             1  \n",
       "22619             0  \n",
       "22620             0  \n",
       "22621             0  \n",
       "22622             1  \n",
       "\n",
       "[22452 rows x 11 columns]"
      ],
      "text/html": "<div>\n<style scoped>\n    .dataframe tbody tr th:only-of-type {\n        vertical-align: middle;\n    }\n\n    .dataframe tbody tr th {\n        vertical-align: top;\n    }\n\n    .dataframe thead th {\n        text-align: right;\n    }\n</style>\n<table border=\"1\" class=\"dataframe\">\n  <thead>\n    <tr style=\"text-align: right;\">\n      <th></th>\n      <th>Zip_Code</th>\n      <th>Year</th>\n      <th>Month</th>\n      <th>Total_Sales</th>\n      <th>FHA_Count</th>\n      <th>Home_Affordability</th>\n      <th>Rent_Affordability</th>\n      <th>Sale_Price</th>\n      <th>Last_Month_Price</th>\n      <th>Last_Month_Diff</th>\n      <th>Price_Change</th>\n    </tr>\n  </thead>\n  <tbody>\n    <tr>\n      <th>0</th>\n      <td>32003</td>\n      <td>2019</td>\n      <td>1</td>\n      <td>32</td>\n      <td>7</td>\n      <td>0.13</td>\n      <td>0.14</td>\n      <td>244950.00</td>\n      <td>nan</td>\n      <td>nan</td>\n      <td>0</td>\n    </tr>\n    <tr>\n      <th>1</th>\n      <td>32003</td>\n      <td>2019</td>\n      <td>2</td>\n      <td>41</td>\n      <td>2</td>\n      <td>0.14</td>\n      <td>0.14</td>\n      <td>270000.00</td>\n      <td>244950.00</td>\n      <td>nan</td>\n      <td>0</td>\n    </tr>\n    <tr>\n      <th>2</th>\n      <td>32003</td>\n      <td>2019</td>\n      <td>3</td>\n      <td>21</td>\n      <td>7</td>\n      <td>0.14</td>\n      <td>0.14</td>\n      <td>275000.00</td>\n      <td>270000.00</td>\n      <td>25050.00</td>\n      <td>1</td>\n    </tr>\n    <tr>\n      <th>3</th>\n      <td>32003</td>\n      <td>2019</td>\n      <td>4</td>\n      <td>42</td>\n      <td>3</td>\n      <td>0.13</td>\n      <td>0.14</td>\n      <td>264500.00</td>\n      <td>275000.00</td>\n      <td>5000.00</td>\n      <td>1</td>\n    </tr>\n    <tr>\n      <th>4</th>\n      <td>32003</td>\n      <td>2019</td>\n      <td>5</td>\n      <td>66</td>\n      <td>8</td>\n      <td>0.14</td>\n      <td>0.14</td>\n      <td>281000.00</td>\n      <td>264500.00</td>\n      <td>-10500.00</td>\n      <td>0</td>\n    </tr>\n    <tr>\n      <th>...</th>\n      <td>...</td>\n      <td>...</td>\n      <td>...</td>\n      <td>...</td>\n      <td>...</td>\n      <td>...</td>\n      <td>...</td>\n      <td>...</td>\n      <td>...</td>\n      <td>...</td>\n      <td>...</td>\n    </tr>\n    <tr>\n      <th>22618</th>\n      <td>34997</td>\n      <td>2020</td>\n      <td>10</td>\n      <td>139</td>\n      <td>17</td>\n      <td>0.19</td>\n      <td>0.25</td>\n      <td>285000.00</td>\n      <td>285000.00</td>\n      <td>29000.00</td>\n      <td>1</td>\n    </tr>\n    <tr>\n      <th>22619</th>\n      <td>34997</td>\n      <td>2020</td>\n      <td>11</td>\n      <td>132</td>\n      <td>11</td>\n      <td>0.17</td>\n      <td>0.25</td>\n      <td>259750.00</td>\n      <td>285000.00</td>\n      <td>0.00</td>\n      <td>0</td>\n    </tr>\n    <tr>\n      <th>22620</th>\n      <td>34997</td>\n      <td>2020</td>\n      <td>11</td>\n      <td>132</td>\n      <td>11</td>\n      <td>0.17</td>\n      <td>0.25</td>\n      <td>259750.00</td>\n      <td>259750.00</td>\n      <td>-25250.00</td>\n      <td>0</td>\n    </tr>\n    <tr>\n      <th>22621</th>\n      <td>34997</td>\n      <td>2020</td>\n      <td>12</td>\n      <td>142</td>\n      <td>16</td>\n      <td>0.20</td>\n      <td>0.25</td>\n      <td>297000.00</td>\n      <td>259750.00</td>\n      <td>0.00</td>\n      <td>0</td>\n    </tr>\n    <tr>\n      <th>22622</th>\n      <td>34997</td>\n      <td>2020</td>\n      <td>12</td>\n      <td>142</td>\n      <td>16</td>\n      <td>0.20</td>\n      <td>0.25</td>\n      <td>297000.00</td>\n      <td>297000.00</td>\n      <td>37250.00</td>\n      <td>1</td>\n    </tr>\n  </tbody>\n</table>\n<p>22452 rows × 11 columns</p>\n</div>"
     },
     "metadata": {},
     "execution_count": 241
    }
   ],
   "source": [
    "ml_data.sort_values(by = ['Zip_Code', 'Year', 'Month'], ascending = [True, True, True])\n",
    "ml_data"
   ]
  },
  {
   "cell_type": "code",
   "execution_count": 255,
   "metadata": {},
   "outputs": [
    {
     "output_type": "execute_result",
     "data": {
      "text/plain": [
       "       Zip_Code  Year  Month  Total_Sales  FHA_Count  Home_Affordability  \\\n",
       "0         32003  2019      1           32          7                0.13   \n",
       "1         32003  2019      2           41          2                0.14   \n",
       "2         32003  2019      3           21          7                0.14   \n",
       "3         32003  2019      4           42          3                0.13   \n",
       "4         32003  2019      5           66          8                0.14   \n",
       "...         ...   ...    ...          ...        ...                 ...   \n",
       "22618     34997  2020     10          139         17                0.19   \n",
       "22619     34997  2020     11          132         11                0.17   \n",
       "22620     34997  2020     11          132         11                0.17   \n",
       "22621     34997  2020     12          142         16                0.20   \n",
       "22622     34997  2020     12          142         16                0.20   \n",
       "\n",
       "       Rent_Affordability  Sale_Price  Last_Month_Price  Last_Month_Diff  \\\n",
       "0                    0.14   244950.00               nan              nan   \n",
       "1                    0.14   270000.00         244950.00         25050.00   \n",
       "2                    0.14   275000.00         270000.00          5000.00   \n",
       "3                    0.14   264500.00         275000.00        -10500.00   \n",
       "4                    0.14   281000.00         264500.00         16500.00   \n",
       "...                   ...         ...               ...              ...   \n",
       "22618                0.25   285000.00         285000.00             0.00   \n",
       "22619                0.25   259750.00         285000.00        -25250.00   \n",
       "22620                0.25   259750.00         259750.00             0.00   \n",
       "22621                0.25   297000.00         259750.00         37250.00   \n",
       "22622                0.25   297000.00         297000.00             0.00   \n",
       "\n",
       "       Price_Change  \n",
       "0                 0  \n",
       "1                 1  \n",
       "2                 1  \n",
       "3                 0  \n",
       "4                 1  \n",
       "...             ...  \n",
       "22618             0  \n",
       "22619             0  \n",
       "22620             0  \n",
       "22621             1  \n",
       "22622             0  \n",
       "\n",
       "[22452 rows x 11 columns]"
      ],
      "text/html": "<div>\n<style scoped>\n    .dataframe tbody tr th:only-of-type {\n        vertical-align: middle;\n    }\n\n    .dataframe tbody tr th {\n        vertical-align: top;\n    }\n\n    .dataframe thead th {\n        text-align: right;\n    }\n</style>\n<table border=\"1\" class=\"dataframe\">\n  <thead>\n    <tr style=\"text-align: right;\">\n      <th></th>\n      <th>Zip_Code</th>\n      <th>Year</th>\n      <th>Month</th>\n      <th>Total_Sales</th>\n      <th>FHA_Count</th>\n      <th>Home_Affordability</th>\n      <th>Rent_Affordability</th>\n      <th>Sale_Price</th>\n      <th>Last_Month_Price</th>\n      <th>Last_Month_Diff</th>\n      <th>Price_Change</th>\n    </tr>\n  </thead>\n  <tbody>\n    <tr>\n      <th>0</th>\n      <td>32003</td>\n      <td>2019</td>\n      <td>1</td>\n      <td>32</td>\n      <td>7</td>\n      <td>0.13</td>\n      <td>0.14</td>\n      <td>244950.00</td>\n      <td>nan</td>\n      <td>nan</td>\n      <td>0</td>\n    </tr>\n    <tr>\n      <th>1</th>\n      <td>32003</td>\n      <td>2019</td>\n      <td>2</td>\n      <td>41</td>\n      <td>2</td>\n      <td>0.14</td>\n      <td>0.14</td>\n      <td>270000.00</td>\n      <td>244950.00</td>\n      <td>25050.00</td>\n      <td>1</td>\n    </tr>\n    <tr>\n      <th>2</th>\n      <td>32003</td>\n      <td>2019</td>\n      <td>3</td>\n      <td>21</td>\n      <td>7</td>\n      <td>0.14</td>\n      <td>0.14</td>\n      <td>275000.00</td>\n      <td>270000.00</td>\n      <td>5000.00</td>\n      <td>1</td>\n    </tr>\n    <tr>\n      <th>3</th>\n      <td>32003</td>\n      <td>2019</td>\n      <td>4</td>\n      <td>42</td>\n      <td>3</td>\n      <td>0.13</td>\n      <td>0.14</td>\n      <td>264500.00</td>\n      <td>275000.00</td>\n      <td>-10500.00</td>\n      <td>0</td>\n    </tr>\n    <tr>\n      <th>4</th>\n      <td>32003</td>\n      <td>2019</td>\n      <td>5</td>\n      <td>66</td>\n      <td>8</td>\n      <td>0.14</td>\n      <td>0.14</td>\n      <td>281000.00</td>\n      <td>264500.00</td>\n      <td>16500.00</td>\n      <td>1</td>\n    </tr>\n    <tr>\n      <th>...</th>\n      <td>...</td>\n      <td>...</td>\n      <td>...</td>\n      <td>...</td>\n      <td>...</td>\n      <td>...</td>\n      <td>...</td>\n      <td>...</td>\n      <td>...</td>\n      <td>...</td>\n      <td>...</td>\n    </tr>\n    <tr>\n      <th>22618</th>\n      <td>34997</td>\n      <td>2020</td>\n      <td>10</td>\n      <td>139</td>\n      <td>17</td>\n      <td>0.19</td>\n      <td>0.25</td>\n      <td>285000.00</td>\n      <td>285000.00</td>\n      <td>0.00</td>\n      <td>0</td>\n    </tr>\n    <tr>\n      <th>22619</th>\n      <td>34997</td>\n      <td>2020</td>\n      <td>11</td>\n      <td>132</td>\n      <td>11</td>\n      <td>0.17</td>\n      <td>0.25</td>\n      <td>259750.00</td>\n      <td>285000.00</td>\n      <td>-25250.00</td>\n      <td>0</td>\n    </tr>\n    <tr>\n      <th>22620</th>\n      <td>34997</td>\n      <td>2020</td>\n      <td>11</td>\n      <td>132</td>\n      <td>11</td>\n      <td>0.17</td>\n      <td>0.25</td>\n      <td>259750.00</td>\n      <td>259750.00</td>\n      <td>0.00</td>\n      <td>0</td>\n    </tr>\n    <tr>\n      <th>22621</th>\n      <td>34997</td>\n      <td>2020</td>\n      <td>12</td>\n      <td>142</td>\n      <td>16</td>\n      <td>0.20</td>\n      <td>0.25</td>\n      <td>297000.00</td>\n      <td>259750.00</td>\n      <td>37250.00</td>\n      <td>1</td>\n    </tr>\n    <tr>\n      <th>22622</th>\n      <td>34997</td>\n      <td>2020</td>\n      <td>12</td>\n      <td>142</td>\n      <td>16</td>\n      <td>0.20</td>\n      <td>0.25</td>\n      <td>297000.00</td>\n      <td>297000.00</td>\n      <td>0.00</td>\n      <td>0</td>\n    </tr>\n  </tbody>\n</table>\n<p>22452 rows × 11 columns</p>\n</div>"
     },
     "metadata": {},
     "execution_count": 255
    }
   ],
   "source": [
    "test = ml_data\n",
    "test['Last_Month_Price'] = test.groupby(['Zip_Code'])['Sale_Price'].shift()\n",
    "\n",
    "\n",
    "\n",
    "price_difference = []\n",
    "\n",
    "# for (Sale_Price, Last_Month_Price) in test.iteritems():\n",
    "#     # sale = row.Sale_Price\n",
    "#     # last = row.Last_Month_Price\n",
    "#     price_difference.append(row)\n",
    "\n",
    "for column in test[['Sale_Price', 'Last_Month_Price']]:\n",
    "   # Select column contents by column name using [] operator\n",
    "    current_sales = test['Sale_Price'].values\n",
    "    last_sales = test['Last_Month_Price'].values\n",
    "    price_difference.append(current_sales-last_sales)\n",
    "\n",
    "test['Last_Month_Diff'] = price_difference[0]\n",
    "\n",
    "price_change = []\n",
    "\n",
    "for row in test['Last_Month_Diff']:\n",
    "    if row > 0:\n",
    "        price_change.append(1)\n",
    "    else:\n",
    "        price_change.append(0)\n",
    "test['Price_Change'] = price_change\n",
    "\n",
    "test"
   ]
  },
  {
   "cell_type": "code",
   "execution_count": 118,
   "metadata": {},
   "outputs": [],
   "source": [
    "import warnings\n",
    "warnings.filterwarnings(\"ignore\")\n",
    "\n",
    "from sklearn import metrics\n",
    "from sklearn.metrics import accuracy_score\n",
    "from sklearn.model_selection import train_test_split"
   ]
  },
  {
   "cell_type": "code",
   "execution_count": 256,
   "metadata": {},
   "outputs": [
    {
     "output_type": "execute_result",
     "data": {
      "text/plain": [
       "array([244950., 270000., 275000., ..., 259750., 297000., 297000.])"
      ]
     },
     "metadata": {},
     "execution_count": 256
    }
   ],
   "source": [
    "y_value = test['Sale_Price'].values\n",
    "\n",
    "x_values = test.drop(columns='Sale_Price')\n",
    "\n",
    "feature_names = x_values.columns\n",
    "\n",
    "x_values\n",
    "y_value"
   ]
  },
  {
   "cell_type": "code",
   "execution_count": 257,
   "metadata": {},
   "outputs": [],
   "source": [
    "\n",
    "X_train, X_test, y_train, y_test = train_test_split(x_values, y_value, random_state=42)"
   ]
  },
  {
   "cell_type": "code",
   "execution_count": 258,
   "metadata": {},
   "outputs": [
    {
     "output_type": "stream",
     "name": "stdout",
     "text": [
      "Training set - Features:  (16839, 10) Target:  (16839,)\nTest set - Features:  (5613, 10) Target:  (5613,)\n"
     ]
    }
   ],
   "source": [
    "print(\"Training set - Features: \", X_train.shape, \"Target: \", y_train.shape)\n",
    "print(\"Test set - Features: \", X_test.shape, \"Target: \",y_test.shape)"
   ]
  },
  {
   "cell_type": "code",
   "execution_count": 259,
   "metadata": {},
   "outputs": [],
   "source": [
    "import lazypredict\n",
    "from lazypredict.Supervised import LazyRegressor"
   ]
  },
  {
   "cell_type": "code",
   "execution_count": 260,
   "metadata": {},
   "outputs": [
    {
     "output_type": "stream",
     "name": "stderr",
     "text": [
      "100%|██████████| 42/42 [01:50<00:00,  2.64s/it]                               Adjusted R-Squared  R-Squared      RMSE  \\\n",
      "Model                                                                    \n",
      "XGBRegressor                                 0.98       0.98  23293.22   \n",
      "RandomForestRegressor                        0.97       0.97  24142.53   \n",
      "ExtraTreesRegressor                          0.97       0.97  24218.52   \n",
      "BaggingRegressor                             0.96       0.96  29782.57   \n",
      "DecisionTreeRegressor                        0.96       0.96  30007.30   \n",
      "GradientBoostingRegressor                    0.95       0.95  34459.59   \n",
      "LassoCV                                      0.95       0.95  34616.25   \n",
      "LassoLars                                    0.95       0.95  34620.63   \n",
      "Ridge                                        0.95       0.95  34621.31   \n",
      "BayesianRidge                                0.95       0.95  34624.39   \n",
      "RidgeCV                                      0.95       0.95  34624.63   \n",
      "Lasso                                        0.95       0.95  34624.78   \n",
      "TransformedTargetRegressor                   0.95       0.95  34625.00   \n",
      "LinearRegression                             0.95       0.95  34625.00   \n",
      "LassoLarsCV                                  0.95       0.95  34625.00   \n",
      "Lars                                         0.95       0.95  34625.00   \n",
      "LarsCV                                       0.95       0.95  34625.00   \n",
      "SGDRegressor                                 0.95       0.95  34639.24   \n",
      "LassoLarsIC                                  0.95       0.95  34663.85   \n",
      "OrthogonalMatchingPursuitCV                  0.95       0.95  34704.11   \n",
      "RANSACRegressor                              0.94       0.94  36776.97   \n",
      "ExtraTreeRegressor                           0.94       0.94  36782.33   \n",
      "PassiveAggressiveRegressor                   0.94       0.94  36870.97   \n",
      "HuberRegressor                               0.94       0.94  36871.01   \n",
      "KNeighborsRegressor                          0.93       0.94  38091.75   \n",
      "HistGradientBoostingRegressor                0.91       0.91  45242.12   \n",
      "ElasticNet                                   0.88       0.88  52386.79   \n",
      "LGBMRegressor                                0.87       0.87  53930.01   \n",
      "GeneralizedLinearRegressor                   0.79       0.79  68970.40   \n",
      "TweedieRegressor                             0.79       0.79  68970.40   \n",
      "GammaRegressor                               0.66       0.66  86645.21   \n",
      "OrthogonalMatchingPursuit                    0.65       0.66  87804.96   \n",
      "GaussianProcessRegressor                     0.57       0.57  98476.09   \n",
      "PoissonRegressor                             0.55       0.55 100191.53   \n",
      "ElasticNetCV                                 0.02       0.02 148117.50   \n",
      "DummyRegressor                              -0.00      -0.00 149520.41   \n",
      "NuSVR                                       -0.02      -0.02 150746.24   \n",
      "SVR                                         -0.03      -0.03 151545.33   \n",
      "AdaBoostRegressor                           -0.62      -0.62 190148.67   \n",
      "MLPRegressor                                -1.34      -1.33 228269.13   \n",
      "KernelRidge                                 -1.70      -1.70 245541.01   \n",
      "LinearSVR                                   -2.27      -2.26 269942.89   \n",
      "\n",
      "                               Time Taken  \n",
      "Model                                      \n",
      "XGBRegressor                         0.60  \n",
      "RandomForestRegressor                6.72  \n",
      "ExtraTreesRegressor                  3.49  \n",
      "BaggingRegressor                     0.70  \n",
      "DecisionTreeRegressor                0.15  \n",
      "GradientBoostingRegressor            1.96  \n",
      "LassoCV                              0.25  \n",
      "LassoLars                            0.02  \n",
      "Ridge                                0.02  \n",
      "BayesianRidge                        0.02  \n",
      "RidgeCV                              0.03  \n",
      "Lasso                                0.11  \n",
      "TransformedTargetRegressor           0.02  \n",
      "LinearRegression                     0.02  \n",
      "LassoLarsCV                          0.06  \n",
      "Lars                                 0.02  \n",
      "LarsCV                               0.05  \n",
      "SGDRegressor                         0.04  \n",
      "LassoLarsIC                          0.02  \n",
      "OrthogonalMatchingPursuitCV          0.04  \n",
      "RANSACRegressor                      0.03  \n",
      "ExtraTreeRegressor                   0.07  \n",
      "PassiveAggressiveRegressor           0.13  \n",
      "HuberRegressor                       0.31  \n",
      "KNeighborsRegressor                  0.42  \n",
      "HistGradientBoostingRegressor        0.92  \n",
      "ElasticNet                           0.03  \n",
      "LGBMRegressor                        0.24  \n",
      "GeneralizedLinearRegressor           0.03  \n",
      "TweedieRegressor                     0.03  \n",
      "GammaRegressor                       0.03  \n",
      "OrthogonalMatchingPursuit            0.02  \n",
      "GaussianProcessRegressor            39.48  \n",
      "PoissonRegressor                     0.06  \n",
      "ElasticNetCV                         0.22  \n",
      "DummyRegressor                       0.01  \n",
      "NuSVR                                9.38  \n",
      "SVR                                  9.24  \n",
      "AdaBoostRegressor                    0.61  \n",
      "MLPRegressor                        12.66  \n",
      "KernelRidge                         22.42  \n",
      "LinearSVR                            0.02  \n",
      "                               Adjusted R-Squared  R-Squared      RMSE  \\\n",
      "Model                                                                    \n",
      "XGBRegressor                                 0.98       0.98  23293.22   \n",
      "RandomForestRegressor                        0.97       0.97  24142.53   \n",
      "ExtraTreesRegressor                          0.97       0.97  24218.52   \n",
      "BaggingRegressor                             0.96       0.96  29782.57   \n",
      "DecisionTreeRegressor                        0.96       0.96  30007.30   \n",
      "GradientBoostingRegressor                    0.95       0.95  34459.59   \n",
      "LassoCV                                      0.95       0.95  34616.25   \n",
      "LassoLars                                    0.95       0.95  34620.63   \n",
      "Ridge                                        0.95       0.95  34621.31   \n",
      "BayesianRidge                                0.95       0.95  34624.39   \n",
      "RidgeCV                                      0.95       0.95  34624.63   \n",
      "Lasso                                        0.95       0.95  34624.78   \n",
      "TransformedTargetRegressor                   0.95       0.95  34625.00   \n",
      "LinearRegression                             0.95       0.95  34625.00   \n",
      "LassoLarsCV                                  0.95       0.95  34625.00   \n",
      "Lars                                         0.95       0.95  34625.00   \n",
      "LarsCV                                       0.95       0.95  34625.00   \n",
      "SGDRegressor                                 0.95       0.95  34639.24   \n",
      "LassoLarsIC                                  0.95       0.95  34663.85   \n",
      "OrthogonalMatchingPursuitCV                  0.95       0.95  34704.11   \n",
      "RANSACRegressor                              0.94       0.94  36776.97   \n",
      "ExtraTreeRegressor                           0.94       0.94  36782.33   \n",
      "PassiveAggressiveRegressor                   0.94       0.94  36870.97   \n",
      "HuberRegressor                               0.94       0.94  36871.01   \n",
      "KNeighborsRegressor                          0.93       0.94  38091.75   \n",
      "HistGradientBoostingRegressor                0.91       0.91  45242.12   \n",
      "ElasticNet                                   0.88       0.88  52386.79   \n",
      "LGBMRegressor                                0.87       0.87  53930.01   \n",
      "GeneralizedLinearRegressor                   0.79       0.79  68970.40   \n",
      "TweedieRegressor                             0.79       0.79  68970.40   \n",
      "GammaRegressor                               0.66       0.66  86645.21   \n",
      "OrthogonalMatchingPursuit                    0.65       0.66  87804.96   \n",
      "GaussianProcessRegressor                     0.57       0.57  98476.09   \n",
      "PoissonRegressor                             0.55       0.55 100191.53   \n",
      "ElasticNetCV                                 0.02       0.02 148117.50   \n",
      "DummyRegressor                              -0.00      -0.00 149520.41   \n",
      "NuSVR                                       -0.02      -0.02 150746.24   \n",
      "SVR                                         -0.03      -0.03 151545.33   \n",
      "AdaBoostRegressor                           -0.62      -0.62 190148.67   \n",
      "MLPRegressor                                -1.34      -1.33 228269.13   \n",
      "KernelRidge                                 -1.70      -1.70 245541.01   \n",
      "LinearSVR                                   -2.27      -2.26 269942.89   \n",
      "\n",
      "                               Time Taken  \n",
      "Model                                      \n",
      "XGBRegressor                         0.60  \n",
      "RandomForestRegressor                6.72  \n",
      "ExtraTreesRegressor                  3.49  \n",
      "BaggingRegressor                     0.70  \n",
      "DecisionTreeRegressor                0.15  \n",
      "GradientBoostingRegressor            1.96  \n",
      "LassoCV                              0.25  \n",
      "LassoLars                            0.02  \n",
      "Ridge                                0.02  \n",
      "BayesianRidge                        0.02  \n",
      "RidgeCV                              0.03  \n",
      "Lasso                                0.11  \n",
      "TransformedTargetRegressor           0.02  \n",
      "LinearRegression                     0.02  \n",
      "LassoLarsCV                          0.06  \n",
      "Lars                                 0.02  \n",
      "LarsCV                               0.05  \n",
      "SGDRegressor                         0.04  \n",
      "LassoLarsIC                          0.02  \n",
      "OrthogonalMatchingPursuitCV          0.04  \n",
      "RANSACRegressor                      0.03  \n",
      "ExtraTreeRegressor                   0.07  \n",
      "PassiveAggressiveRegressor           0.13  \n",
      "HuberRegressor                       0.31  \n",
      "KNeighborsRegressor                  0.42  \n",
      "HistGradientBoostingRegressor        0.92  \n",
      "ElasticNet                           0.03  \n",
      "LGBMRegressor                        0.24  \n",
      "GeneralizedLinearRegressor           0.03  \n",
      "TweedieRegressor                     0.03  \n",
      "GammaRegressor                       0.03  \n",
      "OrthogonalMatchingPursuit            0.02  \n",
      "GaussianProcessRegressor            39.48  \n",
      "PoissonRegressor                     0.06  \n",
      "ElasticNetCV                         0.22  \n",
      "DummyRegressor                       0.01  \n",
      "NuSVR                                9.38  \n",
      "SVR                                  9.24  \n",
      "AdaBoostRegressor                    0.61  \n",
      "MLPRegressor                        12.66  \n",
      "KernelRidge                         22.42  \n",
      "LinearSVR                            0.02  \n",
      "\n"
     ]
    }
   ],
   "source": [
    "reg = LazyRegressor(verbose=0, ignore_warnings=False, custom_metric=None)\n",
    "reg_models, reg_predictions = reg.fit(X_train, X_test, y_train, y_test)\n",
    "\n",
    "print(reg_models)\n",
    "print(reg_predictions)"
   ]
  },
  {
   "cell_type": "code",
   "execution_count": 261,
   "metadata": {},
   "outputs": [
    {
     "output_type": "execute_result",
     "data": {
      "text/plain": [
       "array([0, 1, 1, ..., 0, 1, 0])"
      ]
     },
     "metadata": {},
     "execution_count": 261
    }
   ],
   "source": [
    "y_value = ml_data['Price_Change'].values\n",
    "\n",
    "x_values = ml_data.drop(columns='Price_Change')\n",
    "\n",
    "feature_names = x_values.columns\n",
    "\n",
    "x_values\n",
    "y_value"
   ]
  },
  {
   "cell_type": "code",
   "execution_count": 262,
   "metadata": {},
   "outputs": [],
   "source": [
    "X_train, X_test, y_train, y_test = train_test_split(x_values, y_value, random_state=42)"
   ]
  },
  {
   "cell_type": "code",
   "execution_count": 263,
   "metadata": {},
   "outputs": [
    {
     "output_type": "stream",
     "name": "stderr",
     "text": [
      " 28%|██▊       | 8/29 [00:01<00:03,  6.33it/s]CategoricalNB model failed to execute\n",
      "Negative values in data passed to CategoricalNB (input X)\n",
      " 97%|█████████▋| 28/29 [00:34<00:00,  1.08it/s]StackingClassifier model failed to execute\n",
      "__init__() missing 1 required positional argument: 'estimators'\n",
      "100%|██████████| 29/29 [00:35<00:00,  1.21s/it]\n"
     ]
    },
    {
     "output_type": "execute_result",
     "data": {
      "text/plain": [
       "                               Accuracy  Balanced Accuracy  ROC AUC  F1 Score  \\\n",
       "Model                                                                           \n",
       "AdaBoostClassifier                 1.00               1.00     1.00      1.00   \n",
       "DecisionTreeClassifier             1.00               1.00     1.00      1.00   \n",
       "XGBClassifier                      1.00               1.00     1.00      1.00   \n",
       "BaggingClassifier                  1.00               1.00     1.00      1.00   \n",
       "LGBMClassifier                     1.00               1.00     1.00      1.00   \n",
       "RandomForestClassifier             1.00               1.00     1.00      1.00   \n",
       "ExtraTreesClassifier               0.98               0.98     0.98      0.98   \n",
       "LinearSVC                          0.98               0.98     0.98      0.98   \n",
       "LogisticRegression                 0.97               0.97     0.97      0.97   \n",
       "BernoulliNB                        0.97               0.97     0.97      0.97   \n",
       "SGDClassifier                      0.97               0.97     0.97      0.97   \n",
       "SVC                                0.97               0.96     0.96      0.97   \n",
       "Perceptron                         0.96               0.96     0.96      0.96   \n",
       "NuSVC                              0.94               0.94     0.94      0.94   \n",
       "ExtraTreeClassifier                0.93               0.93     0.93      0.93   \n",
       "PassiveAggressiveClassifier        0.92               0.92     0.92      0.92   \n",
       "CalibratedClassifierCV             0.90               0.90     0.90      0.90   \n",
       "KNeighborsClassifier               0.79               0.79     0.79      0.79   \n",
       "NearestCentroid                    0.77               0.77     0.77      0.77   \n",
       "LabelPropagation                   0.77               0.77     0.77      0.77   \n",
       "LabelSpreading                     0.77               0.77     0.77      0.77   \n",
       "RidgeClassifier                    0.77               0.77     0.77      0.77   \n",
       "RidgeClassifierCV                  0.77               0.77     0.77      0.77   \n",
       "LinearDiscriminantAnalysis         0.77               0.77     0.77      0.77   \n",
       "GaussianNB                         0.64               0.63     0.63      0.60   \n",
       "QuadraticDiscriminantAnalysis      0.52               0.54     0.54      0.40   \n",
       "DummyClassifier                    0.51               0.51     0.51      0.51   \n",
       "\n",
       "                               Time Taken  \n",
       "Model                                      \n",
       "AdaBoostClassifier                   0.59  \n",
       "DecisionTreeClassifier               0.04  \n",
       "XGBClassifier                        0.19  \n",
       "BaggingClassifier                    0.13  \n",
       "LGBMClassifier                       0.19  \n",
       "RandomForestClassifier               0.94  \n",
       "ExtraTreesClassifier                 0.94  \n",
       "LinearSVC                            0.24  \n",
       "LogisticRegression                   0.06  \n",
       "BernoulliNB                          0.03  \n",
       "SGDClassifier                        0.07  \n",
       "SVC                                  2.95  \n",
       "Perceptron                           0.04  \n",
       "NuSVC                                8.04  \n",
       "ExtraTreeClassifier                  0.03  \n",
       "PassiveAggressiveClassifier          0.05  \n",
       "CalibratedClassifierCV               0.84  \n",
       "KNeighborsClassifier                 0.58  \n",
       "NearestCentroid                      0.03  \n",
       "LabelPropagation                     7.53  \n",
       "LabelSpreading                      11.41  \n",
       "RidgeClassifier                      0.03  \n",
       "RidgeClassifierCV                    0.04  \n",
       "LinearDiscriminantAnalysis           0.05  \n",
       "GaussianNB                           0.02  \n",
       "QuadraticDiscriminantAnalysis        0.03  \n",
       "DummyClassifier                      0.02  "
      ],
      "text/html": "<div>\n<style scoped>\n    .dataframe tbody tr th:only-of-type {\n        vertical-align: middle;\n    }\n\n    .dataframe tbody tr th {\n        vertical-align: top;\n    }\n\n    .dataframe thead th {\n        text-align: right;\n    }\n</style>\n<table border=\"1\" class=\"dataframe\">\n  <thead>\n    <tr style=\"text-align: right;\">\n      <th></th>\n      <th>Accuracy</th>\n      <th>Balanced Accuracy</th>\n      <th>ROC AUC</th>\n      <th>F1 Score</th>\n      <th>Time Taken</th>\n    </tr>\n    <tr>\n      <th>Model</th>\n      <th></th>\n      <th></th>\n      <th></th>\n      <th></th>\n      <th></th>\n    </tr>\n  </thead>\n  <tbody>\n    <tr>\n      <th>AdaBoostClassifier</th>\n      <td>1.00</td>\n      <td>1.00</td>\n      <td>1.00</td>\n      <td>1.00</td>\n      <td>0.59</td>\n    </tr>\n    <tr>\n      <th>DecisionTreeClassifier</th>\n      <td>1.00</td>\n      <td>1.00</td>\n      <td>1.00</td>\n      <td>1.00</td>\n      <td>0.04</td>\n    </tr>\n    <tr>\n      <th>XGBClassifier</th>\n      <td>1.00</td>\n      <td>1.00</td>\n      <td>1.00</td>\n      <td>1.00</td>\n      <td>0.19</td>\n    </tr>\n    <tr>\n      <th>BaggingClassifier</th>\n      <td>1.00</td>\n      <td>1.00</td>\n      <td>1.00</td>\n      <td>1.00</td>\n      <td>0.13</td>\n    </tr>\n    <tr>\n      <th>LGBMClassifier</th>\n      <td>1.00</td>\n      <td>1.00</td>\n      <td>1.00</td>\n      <td>1.00</td>\n      <td>0.19</td>\n    </tr>\n    <tr>\n      <th>RandomForestClassifier</th>\n      <td>1.00</td>\n      <td>1.00</td>\n      <td>1.00</td>\n      <td>1.00</td>\n      <td>0.94</td>\n    </tr>\n    <tr>\n      <th>ExtraTreesClassifier</th>\n      <td>0.98</td>\n      <td>0.98</td>\n      <td>0.98</td>\n      <td>0.98</td>\n      <td>0.94</td>\n    </tr>\n    <tr>\n      <th>LinearSVC</th>\n      <td>0.98</td>\n      <td>0.98</td>\n      <td>0.98</td>\n      <td>0.98</td>\n      <td>0.24</td>\n    </tr>\n    <tr>\n      <th>LogisticRegression</th>\n      <td>0.97</td>\n      <td>0.97</td>\n      <td>0.97</td>\n      <td>0.97</td>\n      <td>0.06</td>\n    </tr>\n    <tr>\n      <th>BernoulliNB</th>\n      <td>0.97</td>\n      <td>0.97</td>\n      <td>0.97</td>\n      <td>0.97</td>\n      <td>0.03</td>\n    </tr>\n    <tr>\n      <th>SGDClassifier</th>\n      <td>0.97</td>\n      <td>0.97</td>\n      <td>0.97</td>\n      <td>0.97</td>\n      <td>0.07</td>\n    </tr>\n    <tr>\n      <th>SVC</th>\n      <td>0.97</td>\n      <td>0.96</td>\n      <td>0.96</td>\n      <td>0.97</td>\n      <td>2.95</td>\n    </tr>\n    <tr>\n      <th>Perceptron</th>\n      <td>0.96</td>\n      <td>0.96</td>\n      <td>0.96</td>\n      <td>0.96</td>\n      <td>0.04</td>\n    </tr>\n    <tr>\n      <th>NuSVC</th>\n      <td>0.94</td>\n      <td>0.94</td>\n      <td>0.94</td>\n      <td>0.94</td>\n      <td>8.04</td>\n    </tr>\n    <tr>\n      <th>ExtraTreeClassifier</th>\n      <td>0.93</td>\n      <td>0.93</td>\n      <td>0.93</td>\n      <td>0.93</td>\n      <td>0.03</td>\n    </tr>\n    <tr>\n      <th>PassiveAggressiveClassifier</th>\n      <td>0.92</td>\n      <td>0.92</td>\n      <td>0.92</td>\n      <td>0.92</td>\n      <td>0.05</td>\n    </tr>\n    <tr>\n      <th>CalibratedClassifierCV</th>\n      <td>0.90</td>\n      <td>0.90</td>\n      <td>0.90</td>\n      <td>0.90</td>\n      <td>0.84</td>\n    </tr>\n    <tr>\n      <th>KNeighborsClassifier</th>\n      <td>0.79</td>\n      <td>0.79</td>\n      <td>0.79</td>\n      <td>0.79</td>\n      <td>0.58</td>\n    </tr>\n    <tr>\n      <th>NearestCentroid</th>\n      <td>0.77</td>\n      <td>0.77</td>\n      <td>0.77</td>\n      <td>0.77</td>\n      <td>0.03</td>\n    </tr>\n    <tr>\n      <th>LabelPropagation</th>\n      <td>0.77</td>\n      <td>0.77</td>\n      <td>0.77</td>\n      <td>0.77</td>\n      <td>7.53</td>\n    </tr>\n    <tr>\n      <th>LabelSpreading</th>\n      <td>0.77</td>\n      <td>0.77</td>\n      <td>0.77</td>\n      <td>0.77</td>\n      <td>11.41</td>\n    </tr>\n    <tr>\n      <th>RidgeClassifier</th>\n      <td>0.77</td>\n      <td>0.77</td>\n      <td>0.77</td>\n      <td>0.77</td>\n      <td>0.03</td>\n    </tr>\n    <tr>\n      <th>RidgeClassifierCV</th>\n      <td>0.77</td>\n      <td>0.77</td>\n      <td>0.77</td>\n      <td>0.77</td>\n      <td>0.04</td>\n    </tr>\n    <tr>\n      <th>LinearDiscriminantAnalysis</th>\n      <td>0.77</td>\n      <td>0.77</td>\n      <td>0.77</td>\n      <td>0.77</td>\n      <td>0.05</td>\n    </tr>\n    <tr>\n      <th>GaussianNB</th>\n      <td>0.64</td>\n      <td>0.63</td>\n      <td>0.63</td>\n      <td>0.60</td>\n      <td>0.02</td>\n    </tr>\n    <tr>\n      <th>QuadraticDiscriminantAnalysis</th>\n      <td>0.52</td>\n      <td>0.54</td>\n      <td>0.54</td>\n      <td>0.40</td>\n      <td>0.03</td>\n    </tr>\n    <tr>\n      <th>DummyClassifier</th>\n      <td>0.51</td>\n      <td>0.51</td>\n      <td>0.51</td>\n      <td>0.51</td>\n      <td>0.02</td>\n    </tr>\n  </tbody>\n</table>\n</div>"
     },
     "metadata": {},
     "execution_count": 263
    }
   ],
   "source": [
    "from lazypredict.Supervised import LazyClassifier\n",
    "\n",
    "clf = LazyClassifier(verbose=0,ignore_warnings=False)\n",
    "models, predictions = clf.fit(X_train, X_test, y_train, y_test)\n",
    "models"
   ]
  },
  {
   "cell_type": "code",
   "execution_count": null,
   "metadata": {},
   "outputs": [],
   "source": []
  }
 ]
}