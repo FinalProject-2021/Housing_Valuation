{
 "metadata": {
  "language_info": {
   "codemirror_mode": {
    "name": "ipython",
    "version": 3
   },
   "file_extension": ".py",
   "mimetype": "text/x-python",
   "name": "python",
   "nbconvert_exporter": "python",
   "pygments_lexer": "ipython3",
   "version": "3.6.10"
  },
  "orig_nbformat": 2,
  "kernelspec": {
   "name": "python3610jvsc74a57bd0832a58595f549721e5808a4f038b9464c2d8e6e19db5e8e2fb21cf5b549373c5",
   "display_name": "Python 3.6.10 64-bit ('PythonData': conda)"
  }
 },
 "nbformat": 4,
 "nbformat_minor": 2,
 "cells": [
  {
   "cell_type": "code",
   "execution_count": 9,
   "metadata": {},
   "outputs": [],
   "source": [
    "# Required Modules\n",
    "import pandas as pd\n",
    "import numpy as np\n"
   ]
  },
  {
   "cell_type": "code",
   "execution_count": 29,
   "metadata": {},
   "outputs": [
    {
     "output_type": "execute_result",
     "data": {
      "text/plain": [
       "   Zip_Code        Date  Year  Month  Sale_Price  Interest_Rate  Property_Tax  \\\n",
       "0     32003  2019-01-01  2019      1   244950.00           4.46          3778   \n",
       "1     32003  2019-02-01  2019      2   270000.00           4.37          3778   \n",
       "2     32003  2019-03-01  2019      3   275000.00           4.26          3778   \n",
       "3     32003  2019-04-01  2019      4   264500.00           4.14          3778   \n",
       "4     32003  2019-05-01  2019      5   281000.00           4.07          3778   \n",
       "\n",
       "   Rent_Price  Household_Income  Rent_Affordability  ...  FTE_Employed  \\\n",
       "0        1113          94154.00                0.14  ...         10671   \n",
       "1        1113          94154.00                0.14  ...         10671   \n",
       "2        1113          94154.00                0.14  ...         10671   \n",
       "3        1113          94154.00                0.14  ...         10671   \n",
       "4        1113          94154.00                0.14  ...         10671   \n",
       "\n",
       "   Unemployed  Expense_Index  Average_Commute Crime_Index  Loan_Amount  \\\n",
       "0        1069            104               35          28    195960.00   \n",
       "1        1069            104               35          28    216000.00   \n",
       "2        1069            104               35          28    220000.00   \n",
       "3        1069            104               35          28    211600.00   \n",
       "4        1069            104               35          28    224800.00   \n",
       "\n",
       "   Loan_Term  Loan_R  Loan_Payment  Home_Affordability  \n",
       "0     360.00    1.00        988.71                0.13  \n",
       "1     360.00    1.00       1077.82                0.14  \n",
       "2     360.00    1.00       1084.20                0.14  \n",
       "3     360.00    1.00       1027.67                0.13  \n",
       "4     360.00    1.00       1082.58                0.14  \n",
       "\n",
       "[5 rows x 29 columns]"
      ],
      "text/html": "<div>\n<style scoped>\n    .dataframe tbody tr th:only-of-type {\n        vertical-align: middle;\n    }\n\n    .dataframe tbody tr th {\n        vertical-align: top;\n    }\n\n    .dataframe thead th {\n        text-align: right;\n    }\n</style>\n<table border=\"1\" class=\"dataframe\">\n  <thead>\n    <tr style=\"text-align: right;\">\n      <th></th>\n      <th>Zip_Code</th>\n      <th>Date</th>\n      <th>Year</th>\n      <th>Month</th>\n      <th>Sale_Price</th>\n      <th>Interest_Rate</th>\n      <th>Property_Tax</th>\n      <th>Rent_Price</th>\n      <th>Household_Income</th>\n      <th>Rent_Affordability</th>\n      <th>...</th>\n      <th>FTE_Employed</th>\n      <th>Unemployed</th>\n      <th>Expense_Index</th>\n      <th>Average_Commute</th>\n      <th>Crime_Index</th>\n      <th>Loan_Amount</th>\n      <th>Loan_Term</th>\n      <th>Loan_R</th>\n      <th>Loan_Payment</th>\n      <th>Home_Affordability</th>\n    </tr>\n  </thead>\n  <tbody>\n    <tr>\n      <th>0</th>\n      <td>32003</td>\n      <td>2019-01-01</td>\n      <td>2019</td>\n      <td>1</td>\n      <td>244950.00</td>\n      <td>4.46</td>\n      <td>3778</td>\n      <td>1113</td>\n      <td>94154.00</td>\n      <td>0.14</td>\n      <td>...</td>\n      <td>10671</td>\n      <td>1069</td>\n      <td>104</td>\n      <td>35</td>\n      <td>28</td>\n      <td>195960.00</td>\n      <td>360.00</td>\n      <td>1.00</td>\n      <td>988.71</td>\n      <td>0.13</td>\n    </tr>\n    <tr>\n      <th>1</th>\n      <td>32003</td>\n      <td>2019-02-01</td>\n      <td>2019</td>\n      <td>2</td>\n      <td>270000.00</td>\n      <td>4.37</td>\n      <td>3778</td>\n      <td>1113</td>\n      <td>94154.00</td>\n      <td>0.14</td>\n      <td>...</td>\n      <td>10671</td>\n      <td>1069</td>\n      <td>104</td>\n      <td>35</td>\n      <td>28</td>\n      <td>216000.00</td>\n      <td>360.00</td>\n      <td>1.00</td>\n      <td>1077.82</td>\n      <td>0.14</td>\n    </tr>\n    <tr>\n      <th>2</th>\n      <td>32003</td>\n      <td>2019-03-01</td>\n      <td>2019</td>\n      <td>3</td>\n      <td>275000.00</td>\n      <td>4.26</td>\n      <td>3778</td>\n      <td>1113</td>\n      <td>94154.00</td>\n      <td>0.14</td>\n      <td>...</td>\n      <td>10671</td>\n      <td>1069</td>\n      <td>104</td>\n      <td>35</td>\n      <td>28</td>\n      <td>220000.00</td>\n      <td>360.00</td>\n      <td>1.00</td>\n      <td>1084.20</td>\n      <td>0.14</td>\n    </tr>\n    <tr>\n      <th>3</th>\n      <td>32003</td>\n      <td>2019-04-01</td>\n      <td>2019</td>\n      <td>4</td>\n      <td>264500.00</td>\n      <td>4.14</td>\n      <td>3778</td>\n      <td>1113</td>\n      <td>94154.00</td>\n      <td>0.14</td>\n      <td>...</td>\n      <td>10671</td>\n      <td>1069</td>\n      <td>104</td>\n      <td>35</td>\n      <td>28</td>\n      <td>211600.00</td>\n      <td>360.00</td>\n      <td>1.00</td>\n      <td>1027.67</td>\n      <td>0.13</td>\n    </tr>\n    <tr>\n      <th>4</th>\n      <td>32003</td>\n      <td>2019-05-01</td>\n      <td>2019</td>\n      <td>5</td>\n      <td>281000.00</td>\n      <td>4.07</td>\n      <td>3778</td>\n      <td>1113</td>\n      <td>94154.00</td>\n      <td>0.14</td>\n      <td>...</td>\n      <td>10671</td>\n      <td>1069</td>\n      <td>104</td>\n      <td>35</td>\n      <td>28</td>\n      <td>224800.00</td>\n      <td>360.00</td>\n      <td>1.00</td>\n      <td>1082.58</td>\n      <td>0.14</td>\n    </tr>\n  </tbody>\n</table>\n<p>5 rows × 29 columns</p>\n</div>"
     },
     "metadata": {},
     "execution_count": 29
    }
   ],
   "source": [
    "data = pd.read_csv('Resources/Final_Data.csv')\n",
    "data.head()"
   ]
  },
  {
   "cell_type": "code",
   "execution_count": 30,
   "metadata": {},
   "outputs": [
    {
     "output_type": "execute_result",
     "data": {
      "text/plain": [
       "Zip_Code                int64\n",
       "Date                   object\n",
       "Year                    int64\n",
       "Month                   int64\n",
       "Sale_Price            float64\n",
       "Interest_Rate         float64\n",
       "Property_Tax            int64\n",
       "Rent_Price              int64\n",
       "Household_Income      float64\n",
       "Rent_Affordability    float64\n",
       "Total_Sales             int64\n",
       "FHA_Count               int64\n",
       "Mobility_Rate         float64\n",
       "School_Rating           int64\n",
       "School_Grade           object\n",
       "Owner_Occupied          int64\n",
       "Renter_Occupied         int64\n",
       "Total_Vacant            int64\n",
       "Total_Dwellings         int64\n",
       "FTE_Employed            int64\n",
       "Unemployed              int64\n",
       "Expense_Index           int64\n",
       "Average_Commute         int64\n",
       "Crime_Index             int64\n",
       "Loan_Amount           float64\n",
       "Loan_Term             float64\n",
       "Loan_R                float64\n",
       "Loan_Payment          float64\n",
       "Home_Affordability    float64\n",
       "dtype: object"
      ]
     },
     "metadata": {},
     "execution_count": 30
    }
   ],
   "source": [
    "data.dtypes"
   ]
  },
  {
   "cell_type": "code",
   "execution_count": 48,
   "metadata": {},
   "outputs": [
    {
     "output_type": "execute_result",
     "data": {
      "text/plain": [
       "       Zip_Code  Year  Month  Total_Sales  FHA_Count  Home_Affordability  \\\n",
       "0         32003  2019      1           32          7                0.13   \n",
       "1         32003  2019      2           41          2                0.14   \n",
       "2         32003  2019      3           21          7                0.14   \n",
       "3         32003  2019      4           42          3                0.13   \n",
       "4         32003  2019      5           66          8                0.14   \n",
       "...         ...   ...    ...          ...        ...                 ...   \n",
       "21759     34997  2020     10          139         17                0.19   \n",
       "21760     34997  2020     11          132         11                0.17   \n",
       "21761     34997  2020     11          132         11                0.17   \n",
       "21762     34997  2020     12          142         16                0.20   \n",
       "21763     34997  2020     12          142         16                0.20   \n",
       "\n",
       "       Rent_Affordability  Sale_Price  \n",
       "0                    0.14   244950.00  \n",
       "1                    0.14   270000.00  \n",
       "2                    0.14   275000.00  \n",
       "3                    0.14   264500.00  \n",
       "4                    0.14   281000.00  \n",
       "...                   ...         ...  \n",
       "21759                0.25   285000.00  \n",
       "21760                0.25   259750.00  \n",
       "21761                0.25   259750.00  \n",
       "21762                0.25   297000.00  \n",
       "21763                0.25   297000.00  \n",
       "\n",
       "[21764 rows x 8 columns]"
      ],
      "text/html": "<div>\n<style scoped>\n    .dataframe tbody tr th:only-of-type {\n        vertical-align: middle;\n    }\n\n    .dataframe tbody tr th {\n        vertical-align: top;\n    }\n\n    .dataframe thead th {\n        text-align: right;\n    }\n</style>\n<table border=\"1\" class=\"dataframe\">\n  <thead>\n    <tr style=\"text-align: right;\">\n      <th></th>\n      <th>Zip_Code</th>\n      <th>Year</th>\n      <th>Month</th>\n      <th>Total_Sales</th>\n      <th>FHA_Count</th>\n      <th>Home_Affordability</th>\n      <th>Rent_Affordability</th>\n      <th>Sale_Price</th>\n    </tr>\n  </thead>\n  <tbody>\n    <tr>\n      <th>0</th>\n      <td>32003</td>\n      <td>2019</td>\n      <td>1</td>\n      <td>32</td>\n      <td>7</td>\n      <td>0.13</td>\n      <td>0.14</td>\n      <td>244950.00</td>\n    </tr>\n    <tr>\n      <th>1</th>\n      <td>32003</td>\n      <td>2019</td>\n      <td>2</td>\n      <td>41</td>\n      <td>2</td>\n      <td>0.14</td>\n      <td>0.14</td>\n      <td>270000.00</td>\n    </tr>\n    <tr>\n      <th>2</th>\n      <td>32003</td>\n      <td>2019</td>\n      <td>3</td>\n      <td>21</td>\n      <td>7</td>\n      <td>0.14</td>\n      <td>0.14</td>\n      <td>275000.00</td>\n    </tr>\n    <tr>\n      <th>3</th>\n      <td>32003</td>\n      <td>2019</td>\n      <td>4</td>\n      <td>42</td>\n      <td>3</td>\n      <td>0.13</td>\n      <td>0.14</td>\n      <td>264500.00</td>\n    </tr>\n    <tr>\n      <th>4</th>\n      <td>32003</td>\n      <td>2019</td>\n      <td>5</td>\n      <td>66</td>\n      <td>8</td>\n      <td>0.14</td>\n      <td>0.14</td>\n      <td>281000.00</td>\n    </tr>\n    <tr>\n      <th>...</th>\n      <td>...</td>\n      <td>...</td>\n      <td>...</td>\n      <td>...</td>\n      <td>...</td>\n      <td>...</td>\n      <td>...</td>\n      <td>...</td>\n    </tr>\n    <tr>\n      <th>21759</th>\n      <td>34997</td>\n      <td>2020</td>\n      <td>10</td>\n      <td>139</td>\n      <td>17</td>\n      <td>0.19</td>\n      <td>0.25</td>\n      <td>285000.00</td>\n    </tr>\n    <tr>\n      <th>21760</th>\n      <td>34997</td>\n      <td>2020</td>\n      <td>11</td>\n      <td>132</td>\n      <td>11</td>\n      <td>0.17</td>\n      <td>0.25</td>\n      <td>259750.00</td>\n    </tr>\n    <tr>\n      <th>21761</th>\n      <td>34997</td>\n      <td>2020</td>\n      <td>11</td>\n      <td>132</td>\n      <td>11</td>\n      <td>0.17</td>\n      <td>0.25</td>\n      <td>259750.00</td>\n    </tr>\n    <tr>\n      <th>21762</th>\n      <td>34997</td>\n      <td>2020</td>\n      <td>12</td>\n      <td>142</td>\n      <td>16</td>\n      <td>0.20</td>\n      <td>0.25</td>\n      <td>297000.00</td>\n    </tr>\n    <tr>\n      <th>21763</th>\n      <td>34997</td>\n      <td>2020</td>\n      <td>12</td>\n      <td>142</td>\n      <td>16</td>\n      <td>0.20</td>\n      <td>0.25</td>\n      <td>297000.00</td>\n    </tr>\n  </tbody>\n</table>\n<p>21764 rows × 8 columns</p>\n</div>"
     },
     "metadata": {},
     "execution_count": 48
    }
   ],
   "source": [
    "ml_data = data[['Zip_Code', 'Year', 'Month', 'Total_Sales', 'FHA_Count', \n",
    "'Home_Affordability', 'Rent_Affordability', 'Sale_Price' ]]\n",
    "ml_data"
   ]
  },
  {
   "cell_type": "code",
   "execution_count": 33,
   "metadata": {},
   "outputs": [
    {
     "output_type": "stream",
     "name": "stdout",
     "text": [
      "It contains 0 infinite values\n"
     ]
    }
   ],
   "source": [
    "count = np.isinf(ml_data).values.sum()\n",
    "print(\"It contains \" + str(count) + \" infinite values\")"
   ]
  },
  {
   "cell_type": "code",
   "execution_count": 34,
   "metadata": {},
   "outputs": [],
   "source": [
    "# # Replacing infinite with nan\n",
    "# ml_data.replace([np.inf, -np.inf], np.nan, inplace=True)\n",
    "  \n",
    "# # Dropping all the rows with nan values\n",
    "# ml_data.dropna(inplace=True)\n",
    "  \n",
    "# # Printing df\n",
    "# ml_data"
   ]
  },
  {
   "cell_type": "code",
   "execution_count": 49,
   "metadata": {},
   "outputs": [
    {
     "output_type": "execute_result",
     "data": {
      "text/plain": [
       "       Zip_Code  Year  Month  Total_Sales  FHA_Count  Home_Affordability  \\\n",
       "0         32003  2019      1           32          7                0.13   \n",
       "1         32003  2019      2           41          2                0.14   \n",
       "2         32003  2019      3           21          7                0.14   \n",
       "3         32003  2019      4           42          3                0.13   \n",
       "4         32003  2019      5           66          8                0.14   \n",
       "...         ...   ...    ...          ...        ...                 ...   \n",
       "21759     34997  2020     10          139         17                0.19   \n",
       "21760     34997  2020     11          132         11                0.17   \n",
       "21761     34997  2020     11          132         11                0.17   \n",
       "21762     34997  2020     12          142         16                0.20   \n",
       "21763     34997  2020     12          142         16                0.20   \n",
       "\n",
       "       Rent_Affordability  Sale_Price  \n",
       "0                    0.14   244950.00  \n",
       "1                    0.14   270000.00  \n",
       "2                    0.14   275000.00  \n",
       "3                    0.14   264500.00  \n",
       "4                    0.14   281000.00  \n",
       "...                   ...         ...  \n",
       "21759                0.25   285000.00  \n",
       "21760                0.25   259750.00  \n",
       "21761                0.25   259750.00  \n",
       "21762                0.25   297000.00  \n",
       "21763                0.25   297000.00  \n",
       "\n",
       "[21764 rows x 8 columns]"
      ],
      "text/html": "<div>\n<style scoped>\n    .dataframe tbody tr th:only-of-type {\n        vertical-align: middle;\n    }\n\n    .dataframe tbody tr th {\n        vertical-align: top;\n    }\n\n    .dataframe thead th {\n        text-align: right;\n    }\n</style>\n<table border=\"1\" class=\"dataframe\">\n  <thead>\n    <tr style=\"text-align: right;\">\n      <th></th>\n      <th>Zip_Code</th>\n      <th>Year</th>\n      <th>Month</th>\n      <th>Total_Sales</th>\n      <th>FHA_Count</th>\n      <th>Home_Affordability</th>\n      <th>Rent_Affordability</th>\n      <th>Sale_Price</th>\n    </tr>\n  </thead>\n  <tbody>\n    <tr>\n      <th>0</th>\n      <td>32003</td>\n      <td>2019</td>\n      <td>1</td>\n      <td>32</td>\n      <td>7</td>\n      <td>0.13</td>\n      <td>0.14</td>\n      <td>244950.00</td>\n    </tr>\n    <tr>\n      <th>1</th>\n      <td>32003</td>\n      <td>2019</td>\n      <td>2</td>\n      <td>41</td>\n      <td>2</td>\n      <td>0.14</td>\n      <td>0.14</td>\n      <td>270000.00</td>\n    </tr>\n    <tr>\n      <th>2</th>\n      <td>32003</td>\n      <td>2019</td>\n      <td>3</td>\n      <td>21</td>\n      <td>7</td>\n      <td>0.14</td>\n      <td>0.14</td>\n      <td>275000.00</td>\n    </tr>\n    <tr>\n      <th>3</th>\n      <td>32003</td>\n      <td>2019</td>\n      <td>4</td>\n      <td>42</td>\n      <td>3</td>\n      <td>0.13</td>\n      <td>0.14</td>\n      <td>264500.00</td>\n    </tr>\n    <tr>\n      <th>4</th>\n      <td>32003</td>\n      <td>2019</td>\n      <td>5</td>\n      <td>66</td>\n      <td>8</td>\n      <td>0.14</td>\n      <td>0.14</td>\n      <td>281000.00</td>\n    </tr>\n    <tr>\n      <th>...</th>\n      <td>...</td>\n      <td>...</td>\n      <td>...</td>\n      <td>...</td>\n      <td>...</td>\n      <td>...</td>\n      <td>...</td>\n      <td>...</td>\n    </tr>\n    <tr>\n      <th>21759</th>\n      <td>34997</td>\n      <td>2020</td>\n      <td>10</td>\n      <td>139</td>\n      <td>17</td>\n      <td>0.19</td>\n      <td>0.25</td>\n      <td>285000.00</td>\n    </tr>\n    <tr>\n      <th>21760</th>\n      <td>34997</td>\n      <td>2020</td>\n      <td>11</td>\n      <td>132</td>\n      <td>11</td>\n      <td>0.17</td>\n      <td>0.25</td>\n      <td>259750.00</td>\n    </tr>\n    <tr>\n      <th>21761</th>\n      <td>34997</td>\n      <td>2020</td>\n      <td>11</td>\n      <td>132</td>\n      <td>11</td>\n      <td>0.17</td>\n      <td>0.25</td>\n      <td>259750.00</td>\n    </tr>\n    <tr>\n      <th>21762</th>\n      <td>34997</td>\n      <td>2020</td>\n      <td>12</td>\n      <td>142</td>\n      <td>16</td>\n      <td>0.20</td>\n      <td>0.25</td>\n      <td>297000.00</td>\n    </tr>\n    <tr>\n      <th>21763</th>\n      <td>34997</td>\n      <td>2020</td>\n      <td>12</td>\n      <td>142</td>\n      <td>16</td>\n      <td>0.20</td>\n      <td>0.25</td>\n      <td>297000.00</td>\n    </tr>\n  </tbody>\n</table>\n<p>21764 rows × 8 columns</p>\n</div>"
     },
     "metadata": {},
     "execution_count": 49
    }
   ],
   "source": [
    "ml_data.sort_values(by = ['Zip_Code', 'Year', 'Month'], ascending = [True, True, True])\n",
    "ml_data"
   ]
  },
  {
   "cell_type": "code",
   "execution_count": 50,
   "metadata": {},
   "outputs": [
    {
     "output_type": "execute_result",
     "data": {
      "text/plain": [
       "       Zip_Code  Year  Month  Total_Sales  FHA_Count  Home_Affordability  \\\n",
       "0         32003  2019      1           32          7                0.13   \n",
       "1         32003  2019      2           41          2                0.14   \n",
       "2         32003  2019      3           21          7                0.14   \n",
       "3         32003  2019      4           42          3                0.13   \n",
       "4         32003  2019      5           66          8                0.14   \n",
       "...         ...   ...    ...          ...        ...                 ...   \n",
       "21759     34997  2020     10          139         17                0.19   \n",
       "21760     34997  2020     11          132         11                0.17   \n",
       "21761     34997  2020     11          132         11                0.17   \n",
       "21762     34997  2020     12          142         16                0.20   \n",
       "21763     34997  2020     12          142         16                0.20   \n",
       "\n",
       "       Rent_Affordability  Sale_Price  Last_Month_Price  Last_Month_Diff  \\\n",
       "0                    0.14   244950.00               nan              nan   \n",
       "1                    0.14   270000.00         244950.00         25050.00   \n",
       "2                    0.14   275000.00         270000.00          5000.00   \n",
       "3                    0.14   264500.00         275000.00        -10500.00   \n",
       "4                    0.14   281000.00         264500.00         16500.00   \n",
       "...                   ...         ...               ...              ...   \n",
       "21759                0.25   285000.00         285000.00             0.00   \n",
       "21760                0.25   259750.00         285000.00        -25250.00   \n",
       "21761                0.25   259750.00         259750.00             0.00   \n",
       "21762                0.25   297000.00         259750.00         37250.00   \n",
       "21763                0.25   297000.00         297000.00             0.00   \n",
       "\n",
       "       Price_Change_1mo  \n",
       "0                     0  \n",
       "1                     1  \n",
       "2                     1  \n",
       "3                     0  \n",
       "4                     1  \n",
       "...                 ...  \n",
       "21759                 0  \n",
       "21760                 0  \n",
       "21761                 0  \n",
       "21762                 1  \n",
       "21763                 0  \n",
       "\n",
       "[21764 rows x 11 columns]"
      ],
      "text/html": "<div>\n<style scoped>\n    .dataframe tbody tr th:only-of-type {\n        vertical-align: middle;\n    }\n\n    .dataframe tbody tr th {\n        vertical-align: top;\n    }\n\n    .dataframe thead th {\n        text-align: right;\n    }\n</style>\n<table border=\"1\" class=\"dataframe\">\n  <thead>\n    <tr style=\"text-align: right;\">\n      <th></th>\n      <th>Zip_Code</th>\n      <th>Year</th>\n      <th>Month</th>\n      <th>Total_Sales</th>\n      <th>FHA_Count</th>\n      <th>Home_Affordability</th>\n      <th>Rent_Affordability</th>\n      <th>Sale_Price</th>\n      <th>Last_Month_Price</th>\n      <th>Last_Month_Diff</th>\n      <th>Price_Change_1mo</th>\n    </tr>\n  </thead>\n  <tbody>\n    <tr>\n      <th>0</th>\n      <td>32003</td>\n      <td>2019</td>\n      <td>1</td>\n      <td>32</td>\n      <td>7</td>\n      <td>0.13</td>\n      <td>0.14</td>\n      <td>244950.00</td>\n      <td>nan</td>\n      <td>nan</td>\n      <td>0</td>\n    </tr>\n    <tr>\n      <th>1</th>\n      <td>32003</td>\n      <td>2019</td>\n      <td>2</td>\n      <td>41</td>\n      <td>2</td>\n      <td>0.14</td>\n      <td>0.14</td>\n      <td>270000.00</td>\n      <td>244950.00</td>\n      <td>25050.00</td>\n      <td>1</td>\n    </tr>\n    <tr>\n      <th>2</th>\n      <td>32003</td>\n      <td>2019</td>\n      <td>3</td>\n      <td>21</td>\n      <td>7</td>\n      <td>0.14</td>\n      <td>0.14</td>\n      <td>275000.00</td>\n      <td>270000.00</td>\n      <td>5000.00</td>\n      <td>1</td>\n    </tr>\n    <tr>\n      <th>3</th>\n      <td>32003</td>\n      <td>2019</td>\n      <td>4</td>\n      <td>42</td>\n      <td>3</td>\n      <td>0.13</td>\n      <td>0.14</td>\n      <td>264500.00</td>\n      <td>275000.00</td>\n      <td>-10500.00</td>\n      <td>0</td>\n    </tr>\n    <tr>\n      <th>4</th>\n      <td>32003</td>\n      <td>2019</td>\n      <td>5</td>\n      <td>66</td>\n      <td>8</td>\n      <td>0.14</td>\n      <td>0.14</td>\n      <td>281000.00</td>\n      <td>264500.00</td>\n      <td>16500.00</td>\n      <td>1</td>\n    </tr>\n    <tr>\n      <th>...</th>\n      <td>...</td>\n      <td>...</td>\n      <td>...</td>\n      <td>...</td>\n      <td>...</td>\n      <td>...</td>\n      <td>...</td>\n      <td>...</td>\n      <td>...</td>\n      <td>...</td>\n      <td>...</td>\n    </tr>\n    <tr>\n      <th>21759</th>\n      <td>34997</td>\n      <td>2020</td>\n      <td>10</td>\n      <td>139</td>\n      <td>17</td>\n      <td>0.19</td>\n      <td>0.25</td>\n      <td>285000.00</td>\n      <td>285000.00</td>\n      <td>0.00</td>\n      <td>0</td>\n    </tr>\n    <tr>\n      <th>21760</th>\n      <td>34997</td>\n      <td>2020</td>\n      <td>11</td>\n      <td>132</td>\n      <td>11</td>\n      <td>0.17</td>\n      <td>0.25</td>\n      <td>259750.00</td>\n      <td>285000.00</td>\n      <td>-25250.00</td>\n      <td>0</td>\n    </tr>\n    <tr>\n      <th>21761</th>\n      <td>34997</td>\n      <td>2020</td>\n      <td>11</td>\n      <td>132</td>\n      <td>11</td>\n      <td>0.17</td>\n      <td>0.25</td>\n      <td>259750.00</td>\n      <td>259750.00</td>\n      <td>0.00</td>\n      <td>0</td>\n    </tr>\n    <tr>\n      <th>21762</th>\n      <td>34997</td>\n      <td>2020</td>\n      <td>12</td>\n      <td>142</td>\n      <td>16</td>\n      <td>0.20</td>\n      <td>0.25</td>\n      <td>297000.00</td>\n      <td>259750.00</td>\n      <td>37250.00</td>\n      <td>1</td>\n    </tr>\n    <tr>\n      <th>21763</th>\n      <td>34997</td>\n      <td>2020</td>\n      <td>12</td>\n      <td>142</td>\n      <td>16</td>\n      <td>0.20</td>\n      <td>0.25</td>\n      <td>297000.00</td>\n      <td>297000.00</td>\n      <td>0.00</td>\n      <td>0</td>\n    </tr>\n  </tbody>\n</table>\n<p>21764 rows × 11 columns</p>\n</div>"
     },
     "metadata": {},
     "execution_count": 50
    }
   ],
   "source": [
    "ml_data['Last_Month_Price'] = ml_data.groupby(['Zip_Code'])['Sale_Price'].shift()\n",
    "\n",
    "\n",
    "\n",
    "price_difference = []\n",
    "\n",
    "# for (Sale_Price, Last_Month_Price) in test.iteritems():\n",
    "#     # sale = row.Sale_Price\n",
    "#     # last = row.Last_Month_Price\n",
    "#     price_difference.append(row)\n",
    "\n",
    "for column in ml_data[['Sale_Price', 'Last_Month_Price']]:\n",
    "   # Select column contents by column name using [] operator\n",
    "    current_sales = ml_data['Sale_Price'].values\n",
    "    last_sales = ml_data['Last_Month_Price'].values\n",
    "    price_difference.append(current_sales-last_sales)\n",
    "\n",
    "ml_data['Last_Month_Diff'] = price_difference[0]\n",
    "\n",
    "price_change = []\n",
    "\n",
    "for row in ml_data['Last_Month_Diff']:\n",
    "    if row > 0:\n",
    "        price_change.append(1)\n",
    "    else:\n",
    "        price_change.append(0)\n",
    "ml_data['Price_Change_1mo'] = price_change\n",
    "\n",
    "ml_data"
   ]
  },
  {
   "cell_type": "code",
   "execution_count": 38,
   "metadata": {},
   "outputs": [],
   "source": [
    "import warnings\n",
    "warnings.filterwarnings(\"ignore\")\n",
    "\n",
    "from sklearn import metrics\n",
    "from sklearn.metrics import accuracy_score\n",
    "from sklearn.model_selection import train_test_split"
   ]
  },
  {
   "cell_type": "code",
   "execution_count": 18,
   "metadata": {},
   "outputs": [
    {
     "output_type": "execute_result",
     "data": {
      "text/plain": [
       "array([244950., 270000., 275000., ..., 259750., 297000., 297000.])"
      ]
     },
     "metadata": {},
     "execution_count": 18
    }
   ],
   "source": [
    "y_value = test['Sale_Price'].values\n",
    "\n",
    "x_values = test.drop(columns='Sale_Price')\n",
    "\n",
    "feature_names = x_values.columns\n",
    "\n",
    "x_values\n",
    "y_value"
   ]
  },
  {
   "cell_type": "code",
   "execution_count": 19,
   "metadata": {},
   "outputs": [],
   "source": [
    "\n",
    "X_train, X_test, y_train, y_test = train_test_split(x_values, y_value, random_state=42)"
   ]
  },
  {
   "cell_type": "code",
   "execution_count": 20,
   "metadata": {},
   "outputs": [
    {
     "output_type": "stream",
     "name": "stdout",
     "text": [
      "Training set - Features:  (16323, 10) Target:  (16323,)\nTest set - Features:  (5441, 10) Target:  (5441,)\n"
     ]
    }
   ],
   "source": [
    "print(\"Training set - Features: \", X_train.shape, \"Target: \", y_train.shape)\n",
    "print(\"Test set - Features: \", X_test.shape, \"Target: \",y_test.shape)"
   ]
  },
  {
   "cell_type": "code",
   "execution_count": 21,
   "metadata": {},
   "outputs": [],
   "source": [
    "import lazypredict\n",
    "from lazypredict.Supervised import LazyRegressor"
   ]
  },
  {
   "cell_type": "code",
   "execution_count": 22,
   "metadata": {},
   "outputs": [
    {
     "output_type": "stream",
     "name": "stderr",
     "text": [
      "100%|██████████| 42/42 [01:34<00:00,  2.24s/it]                               Adjusted R-Squared  R-Squared       RMSE  \\\n",
      "Model                                                                     \n",
      "LassoLarsCV                                  0.97       0.97   25774.54   \n",
      "LassoLarsIC                                  0.97       0.97   25774.54   \n",
      "TransformedTargetRegressor                   0.97       0.97   25774.54   \n",
      "LarsCV                                       0.97       0.97   25774.54   \n",
      "Lars                                         0.97       0.97   25774.54   \n",
      "LinearRegression                             0.97       0.97   25774.54   \n",
      "Lasso                                        0.97       0.97   25774.63   \n",
      "BayesianRidge                                0.97       0.97   25775.00   \n",
      "Ridge                                        0.97       0.97   25775.72   \n",
      "SGDRegressor                                 0.97       0.97   25780.64   \n",
      "LassoCV                                      0.97       0.97   25784.20   \n",
      "LassoLars                                    0.97       0.97   25784.25   \n",
      "RidgeCV                                      0.97       0.97   25786.82   \n",
      "OrthogonalMatchingPursuitCV                  0.97       0.97   26002.95   \n",
      "RANSACRegressor                              0.97       0.97   27893.38   \n",
      "PassiveAggressiveRegressor                   0.97       0.97   28077.39   \n",
      "HuberRegressor                               0.97       0.97   28078.23   \n",
      "XGBRegressor                                 0.95       0.95   36303.16   \n",
      "ExtraTreesRegressor                          0.95       0.95   36607.91   \n",
      "RandomForestRegressor                        0.94       0.94   39402.67   \n",
      "BaggingRegressor                             0.93       0.93   40201.56   \n",
      "GradientBoostingRegressor                    0.93       0.93   40234.13   \n",
      "DecisionTreeRegressor                        0.93       0.93   42798.71   \n",
      "LGBMRegressor                                0.92       0.92   45607.09   \n",
      "HistGradientBoostingRegressor                0.91       0.91   46465.43   \n",
      "KNeighborsRegressor                          0.90       0.90   50196.20   \n",
      "ExtraTreeRegressor                           0.89       0.89   51292.96   \n",
      "ElasticNet                                   0.88       0.88   54948.59   \n",
      "GeneralizedLinearRegressor                   0.77       0.78   74467.87   \n",
      "TweedieRegressor                             0.77       0.78   74467.87   \n",
      "AdaBoostRegressor                            0.73       0.73   81204.92   \n",
      "OrthogonalMatchingPursuit                    0.70       0.70   85680.16   \n",
      "GaussianProcessRegressor                     0.42       0.42  119474.22   \n",
      "ElasticNetCV                                 0.02       0.02  155245.46   \n",
      "DummyRegressor                              -0.00      -0.00  157040.79   \n",
      "NuSVR                                       -0.01      -0.01  158017.12   \n",
      "SVR                                         -0.02      -0.02  158693.61   \n",
      "MLPRegressor                                -0.90      -0.90  216467.37   \n",
      "KernelRidge                                 -1.34      -1.34  240210.70   \n",
      "LinearSVR                                   -2.03      -2.03  273178.81   \n",
      "GammaRegressor                            -848.99    -847.43 4574129.64   \n",
      "PoissonRegressor                         -1881.84   -1878.38 6807818.24   \n",
      "\n",
      "                               Time Taken  \n",
      "Model                                      \n",
      "LassoLarsCV                          0.06  \n",
      "LassoLarsIC                          0.02  \n",
      "TransformedTargetRegressor           0.02  \n",
      "LarsCV                               0.05  \n",
      "Lars                                 0.02  \n",
      "LinearRegression                     0.02  \n",
      "Lasso                                0.10  \n",
      "BayesianRidge                        0.02  \n",
      "Ridge                                0.01  \n",
      "SGDRegressor                         0.06  \n",
      "LassoCV                              0.23  \n",
      "LassoLars                            0.02  \n",
      "RidgeCV                              0.03  \n",
      "OrthogonalMatchingPursuitCV          0.04  \n",
      "RANSACRegressor                      0.03  \n",
      "PassiveAggressiveRegressor           0.11  \n",
      "HuberRegressor                       0.30  \n",
      "XGBRegressor                         0.50  \n",
      "ExtraTreesRegressor                  3.14  \n",
      "RandomForestRegressor                5.99  \n",
      "BaggingRegressor                     0.62  \n",
      "GradientBoostingRegressor            1.77  \n",
      "DecisionTreeRegressor                0.14  \n",
      "LGBMRegressor                        0.18  \n",
      "HistGradientBoostingRegressor        0.53  \n",
      "KNeighborsRegressor                  0.35  \n",
      "ExtraTreeRegressor                   0.07  \n",
      "ElasticNet                           0.03  \n",
      "GeneralizedLinearRegressor           0.03  \n",
      "TweedieRegressor                     0.02  \n",
      "AdaBoostRegressor                    0.64  \n",
      "OrthogonalMatchingPursuit            0.02  \n",
      "GaussianProcessRegressor            33.87  \n",
      "ElasticNetCV                         0.17  \n",
      "DummyRegressor                       0.01  \n",
      "NuSVR                                8.19  \n",
      "SVR                                  8.04  \n",
      "MLPRegressor                        10.24  \n",
      "KernelRidge                         18.29  \n",
      "LinearSVR                            0.02  \n",
      "GammaRegressor                       0.03  \n",
      "PoissonRegressor                     0.05  \n",
      "                               Adjusted R-Squared  R-Squared       RMSE  \\\n",
      "Model                                                                     \n",
      "LassoLarsCV                                  0.97       0.97   25774.54   \n",
      "LassoLarsIC                                  0.97       0.97   25774.54   \n",
      "TransformedTargetRegressor                   0.97       0.97   25774.54   \n",
      "LarsCV                                       0.97       0.97   25774.54   \n",
      "Lars                                         0.97       0.97   25774.54   \n",
      "LinearRegression                             0.97       0.97   25774.54   \n",
      "Lasso                                        0.97       0.97   25774.63   \n",
      "BayesianRidge                                0.97       0.97   25775.00   \n",
      "Ridge                                        0.97       0.97   25775.72   \n",
      "SGDRegressor                                 0.97       0.97   25780.64   \n",
      "LassoCV                                      0.97       0.97   25784.20   \n",
      "LassoLars                                    0.97       0.97   25784.25   \n",
      "RidgeCV                                      0.97       0.97   25786.82   \n",
      "OrthogonalMatchingPursuitCV                  0.97       0.97   26002.95   \n",
      "RANSACRegressor                              0.97       0.97   27893.38   \n",
      "PassiveAggressiveRegressor                   0.97       0.97   28077.39   \n",
      "HuberRegressor                               0.97       0.97   28078.23   \n",
      "XGBRegressor                                 0.95       0.95   36303.16   \n",
      "ExtraTreesRegressor                          0.95       0.95   36607.91   \n",
      "RandomForestRegressor                        0.94       0.94   39402.67   \n",
      "BaggingRegressor                             0.93       0.93   40201.56   \n",
      "GradientBoostingRegressor                    0.93       0.93   40234.13   \n",
      "DecisionTreeRegressor                        0.93       0.93   42798.71   \n",
      "LGBMRegressor                                0.92       0.92   45607.09   \n",
      "HistGradientBoostingRegressor                0.91       0.91   46465.43   \n",
      "KNeighborsRegressor                          0.90       0.90   50196.20   \n",
      "ExtraTreeRegressor                           0.89       0.89   51292.96   \n",
      "ElasticNet                                   0.88       0.88   54948.59   \n",
      "GeneralizedLinearRegressor                   0.77       0.78   74467.87   \n",
      "TweedieRegressor                             0.77       0.78   74467.87   \n",
      "AdaBoostRegressor                            0.73       0.73   81204.92   \n",
      "OrthogonalMatchingPursuit                    0.70       0.70   85680.16   \n",
      "GaussianProcessRegressor                     0.42       0.42  119474.22   \n",
      "ElasticNetCV                                 0.02       0.02  155245.46   \n",
      "DummyRegressor                              -0.00      -0.00  157040.79   \n",
      "NuSVR                                       -0.01      -0.01  158017.12   \n",
      "SVR                                         -0.02      -0.02  158693.61   \n",
      "MLPRegressor                                -0.90      -0.90  216467.37   \n",
      "KernelRidge                                 -1.34      -1.34  240210.70   \n",
      "LinearSVR                                   -2.03      -2.03  273178.81   \n",
      "GammaRegressor                            -848.99    -847.43 4574129.64   \n",
      "PoissonRegressor                         -1881.84   -1878.38 6807818.24   \n",
      "\n",
      "                               Time Taken  \n",
      "Model                                      \n",
      "LassoLarsCV                          0.06  \n",
      "LassoLarsIC                          0.02  \n",
      "TransformedTargetRegressor           0.02  \n",
      "LarsCV                               0.05  \n",
      "Lars                                 0.02  \n",
      "LinearRegression                     0.02  \n",
      "Lasso                                0.10  \n",
      "BayesianRidge                        0.02  \n",
      "Ridge                                0.01  \n",
      "SGDRegressor                         0.06  \n",
      "LassoCV                              0.23  \n",
      "LassoLars                            0.02  \n",
      "RidgeCV                              0.03  \n",
      "OrthogonalMatchingPursuitCV          0.04  \n",
      "RANSACRegressor                      0.03  \n",
      "PassiveAggressiveRegressor           0.11  \n",
      "HuberRegressor                       0.30  \n",
      "XGBRegressor                         0.50  \n",
      "ExtraTreesRegressor                  3.14  \n",
      "RandomForestRegressor                5.99  \n",
      "BaggingRegressor                     0.62  \n",
      "GradientBoostingRegressor            1.77  \n",
      "DecisionTreeRegressor                0.14  \n",
      "LGBMRegressor                        0.18  \n",
      "HistGradientBoostingRegressor        0.53  \n",
      "KNeighborsRegressor                  0.35  \n",
      "ExtraTreeRegressor                   0.07  \n",
      "ElasticNet                           0.03  \n",
      "GeneralizedLinearRegressor           0.03  \n",
      "TweedieRegressor                     0.02  \n",
      "AdaBoostRegressor                    0.64  \n",
      "OrthogonalMatchingPursuit            0.02  \n",
      "GaussianProcessRegressor            33.87  \n",
      "ElasticNetCV                         0.17  \n",
      "DummyRegressor                       0.01  \n",
      "NuSVR                                8.19  \n",
      "SVR                                  8.04  \n",
      "MLPRegressor                        10.24  \n",
      "KernelRidge                         18.29  \n",
      "LinearSVR                            0.02  \n",
      "GammaRegressor                       0.03  \n",
      "PoissonRegressor                     0.05  \n",
      "\n"
     ]
    }
   ],
   "source": [
    "reg = LazyRegressor(verbose=0, ignore_warnings=False, custom_metric=None)\n",
    "reg_models, reg_predictions = reg.fit(X_train, X_test, y_train, y_test)\n",
    "\n",
    "print(reg_models)\n",
    "print(reg_predictions)"
   ]
  },
  {
   "cell_type": "code",
   "execution_count": 51,
   "metadata": {},
   "outputs": [
    {
     "output_type": "execute_result",
     "data": {
      "text/plain": [
       "       Zip_Code  Year  Month  Total_Sales  FHA_Count  Home_Affordability  \\\n",
       "0         32003  2019      1           32          7                0.13   \n",
       "1         32003  2019      2           41          2                0.14   \n",
       "2         32003  2019      3           21          7                0.14   \n",
       "3         32003  2019      4           42          3                0.13   \n",
       "4         32003  2019      5           66          8                0.14   \n",
       "...         ...   ...    ...          ...        ...                 ...   \n",
       "21759     34997  2020     10          139         17                0.19   \n",
       "21760     34997  2020     11          132         11                0.17   \n",
       "21761     34997  2020     11          132         11                0.17   \n",
       "21762     34997  2020     12          142         16                0.20   \n",
       "21763     34997  2020     12          142         16                0.20   \n",
       "\n",
       "       Rent_Affordability  Sale_Price  Price_Change_1mo  \n",
       "0                    0.14   244950.00                 0  \n",
       "1                    0.14   270000.00                 1  \n",
       "2                    0.14   275000.00                 1  \n",
       "3                    0.14   264500.00                 0  \n",
       "4                    0.14   281000.00                 1  \n",
       "...                   ...         ...               ...  \n",
       "21759                0.25   285000.00                 0  \n",
       "21760                0.25   259750.00                 0  \n",
       "21761                0.25   259750.00                 0  \n",
       "21762                0.25   297000.00                 1  \n",
       "21763                0.25   297000.00                 0  \n",
       "\n",
       "[21764 rows x 9 columns]"
      ],
      "text/html": "<div>\n<style scoped>\n    .dataframe tbody tr th:only-of-type {\n        vertical-align: middle;\n    }\n\n    .dataframe tbody tr th {\n        vertical-align: top;\n    }\n\n    .dataframe thead th {\n        text-align: right;\n    }\n</style>\n<table border=\"1\" class=\"dataframe\">\n  <thead>\n    <tr style=\"text-align: right;\">\n      <th></th>\n      <th>Zip_Code</th>\n      <th>Year</th>\n      <th>Month</th>\n      <th>Total_Sales</th>\n      <th>FHA_Count</th>\n      <th>Home_Affordability</th>\n      <th>Rent_Affordability</th>\n      <th>Sale_Price</th>\n      <th>Price_Change_1mo</th>\n    </tr>\n  </thead>\n  <tbody>\n    <tr>\n      <th>0</th>\n      <td>32003</td>\n      <td>2019</td>\n      <td>1</td>\n      <td>32</td>\n      <td>7</td>\n      <td>0.13</td>\n      <td>0.14</td>\n      <td>244950.00</td>\n      <td>0</td>\n    </tr>\n    <tr>\n      <th>1</th>\n      <td>32003</td>\n      <td>2019</td>\n      <td>2</td>\n      <td>41</td>\n      <td>2</td>\n      <td>0.14</td>\n      <td>0.14</td>\n      <td>270000.00</td>\n      <td>1</td>\n    </tr>\n    <tr>\n      <th>2</th>\n      <td>32003</td>\n      <td>2019</td>\n      <td>3</td>\n      <td>21</td>\n      <td>7</td>\n      <td>0.14</td>\n      <td>0.14</td>\n      <td>275000.00</td>\n      <td>1</td>\n    </tr>\n    <tr>\n      <th>3</th>\n      <td>32003</td>\n      <td>2019</td>\n      <td>4</td>\n      <td>42</td>\n      <td>3</td>\n      <td>0.13</td>\n      <td>0.14</td>\n      <td>264500.00</td>\n      <td>0</td>\n    </tr>\n    <tr>\n      <th>4</th>\n      <td>32003</td>\n      <td>2019</td>\n      <td>5</td>\n      <td>66</td>\n      <td>8</td>\n      <td>0.14</td>\n      <td>0.14</td>\n      <td>281000.00</td>\n      <td>1</td>\n    </tr>\n    <tr>\n      <th>...</th>\n      <td>...</td>\n      <td>...</td>\n      <td>...</td>\n      <td>...</td>\n      <td>...</td>\n      <td>...</td>\n      <td>...</td>\n      <td>...</td>\n      <td>...</td>\n    </tr>\n    <tr>\n      <th>21759</th>\n      <td>34997</td>\n      <td>2020</td>\n      <td>10</td>\n      <td>139</td>\n      <td>17</td>\n      <td>0.19</td>\n      <td>0.25</td>\n      <td>285000.00</td>\n      <td>0</td>\n    </tr>\n    <tr>\n      <th>21760</th>\n      <td>34997</td>\n      <td>2020</td>\n      <td>11</td>\n      <td>132</td>\n      <td>11</td>\n      <td>0.17</td>\n      <td>0.25</td>\n      <td>259750.00</td>\n      <td>0</td>\n    </tr>\n    <tr>\n      <th>21761</th>\n      <td>34997</td>\n      <td>2020</td>\n      <td>11</td>\n      <td>132</td>\n      <td>11</td>\n      <td>0.17</td>\n      <td>0.25</td>\n      <td>259750.00</td>\n      <td>0</td>\n    </tr>\n    <tr>\n      <th>21762</th>\n      <td>34997</td>\n      <td>2020</td>\n      <td>12</td>\n      <td>142</td>\n      <td>16</td>\n      <td>0.20</td>\n      <td>0.25</td>\n      <td>297000.00</td>\n      <td>1</td>\n    </tr>\n    <tr>\n      <th>21763</th>\n      <td>34997</td>\n      <td>2020</td>\n      <td>12</td>\n      <td>142</td>\n      <td>16</td>\n      <td>0.20</td>\n      <td>0.25</td>\n      <td>297000.00</td>\n      <td>0</td>\n    </tr>\n  </tbody>\n</table>\n<p>21764 rows × 9 columns</p>\n</div>"
     },
     "metadata": {},
     "execution_count": 51
    }
   ],
   "source": [
    "ml_data = ml_data.drop(columns=['Last_Month_Diff', 'Last_Month_Price'])\n",
    "ml_data"
   ]
  },
  {
   "cell_type": "code",
   "execution_count": 52,
   "metadata": {},
   "outputs": [
    {
     "output_type": "execute_result",
     "data": {
      "text/plain": [
       "array([0, 1, 1, ..., 0, 1, 0])"
      ]
     },
     "metadata": {},
     "execution_count": 52
    }
   ],
   "source": [
    "y_value = ml_data['Price_Change_1mo'].values\n",
    "\n",
    "x_values = ml_data.drop(columns='Price_Change_1mo')\n",
    "\n",
    "feature_names = x_values.columns\n",
    "\n",
    "x_values\n",
    "y_value"
   ]
  },
  {
   "cell_type": "code",
   "execution_count": 53,
   "metadata": {},
   "outputs": [],
   "source": [
    "X_train, X_test, y_train, y_test = train_test_split(x_values, y_value, random_state=42)"
   ]
  },
  {
   "cell_type": "code",
   "execution_count": 54,
   "metadata": {},
   "outputs": [
    {
     "output_type": "stream",
     "name": "stderr",
     "text": [
      " 21%|██        | 6/29 [00:04<00:17,  1.32it/s]CategoricalNB model failed to execute\n",
      "Negative values in data passed to CategoricalNB (input X)\n",
      " 90%|████████▉ | 26/29 [01:25<00:11,  3.89s/it]StackingClassifier model failed to execute\n",
      "__init__() missing 1 required positional argument: 'estimators'\n",
      "100%|██████████| 29/29 [01:26<00:00,  2.97s/it]\n"
     ]
    },
    {
     "output_type": "execute_result",
     "data": {
      "text/plain": [
       "                               Accuracy  Balanced Accuracy  ROC AUC  F1 Score  \\\n",
       "Model                                                                           \n",
       "LGBMClassifier                     0.66               0.67     0.67      0.66   \n",
       "XGBClassifier                      0.65               0.65     0.65      0.65   \n",
       "SVC                                0.65               0.65     0.65      0.65   \n",
       "AdaBoostClassifier                 0.64               0.64     0.64      0.64   \n",
       "RandomForestClassifier             0.64               0.64     0.64      0.64   \n",
       "BaggingClassifier                  0.62               0.62     0.62      0.62   \n",
       "LogisticRegression                 0.61               0.61     0.61      0.61   \n",
       "CalibratedClassifierCV             0.61               0.61     0.61      0.61   \n",
       "ExtraTreesClassifier               0.61               0.61     0.61      0.61   \n",
       "LinearSVC                          0.61               0.61     0.61      0.61   \n",
       "RidgeClassifier                    0.61               0.61     0.61      0.61   \n",
       "LinearDiscriminantAnalysis         0.61               0.61     0.61      0.61   \n",
       "RidgeClassifierCV                  0.61               0.61     0.61      0.61   \n",
       "NearestCentroid                    0.59               0.59     0.59      0.59   \n",
       "BernoulliNB                        0.59               0.58     0.58      0.58   \n",
       "SGDClassifier                      0.59               0.58     0.58      0.58   \n",
       "DecisionTreeClassifier             0.58               0.58     0.58      0.58   \n",
       "ExtraTreeClassifier                0.57               0.57     0.57      0.57   \n",
       "NuSVC                              0.57               0.57     0.57      0.57   \n",
       "QuadraticDiscriminantAnalysis      0.57               0.56     0.56      0.53   \n",
       "KNeighborsClassifier               0.55               0.55     0.55      0.55   \n",
       "GaussianNB                         0.55               0.54     0.54      0.52   \n",
       "Perceptron                         0.54               0.54     0.54      0.54   \n",
       "PassiveAggressiveClassifier        0.54               0.54     0.54      0.54   \n",
       "LabelPropagation                   0.52               0.52     0.52      0.52   \n",
       "LabelSpreading                     0.52               0.52     0.52      0.52   \n",
       "DummyClassifier                    0.50               0.50     0.50      0.50   \n",
       "\n",
       "                               Time Taken  \n",
       "Model                                      \n",
       "LGBMClassifier                       0.44  \n",
       "XGBClassifier                        0.58  \n",
       "SVC                                  7.29  \n",
       "AdaBoostClassifier                   0.50  \n",
       "RandomForestClassifier               2.04  \n",
       "BaggingClassifier                    0.60  \n",
       "LogisticRegression                   0.04  \n",
       "CalibratedClassifierCV               3.67  \n",
       "ExtraTreesClassifier                 1.26  \n",
       "LinearSVC                            0.99  \n",
       "RidgeClassifier                      0.03  \n",
       "LinearDiscriminantAnalysis           0.05  \n",
       "RidgeClassifierCV                    0.04  \n",
       "NearestCentroid                      0.02  \n",
       "BernoulliNB                          0.03  \n",
       "SGDClassifier                        0.08  \n",
       "DecisionTreeClassifier               0.13  \n",
       "ExtraTreeClassifier                  0.03  \n",
       "NuSVC                               49.58  \n",
       "QuadraticDiscriminantAnalysis        0.03  \n",
       "KNeighborsClassifier                 0.30  \n",
       "GaussianNB                           0.02  \n",
       "Perceptron                           0.03  \n",
       "PassiveAggressiveClassifier          0.03  \n",
       "LabelPropagation                     7.26  \n",
       "LabelSpreading                      11.12  \n",
       "DummyClassifier                      0.02  "
      ],
      "text/html": "<div>\n<style scoped>\n    .dataframe tbody tr th:only-of-type {\n        vertical-align: middle;\n    }\n\n    .dataframe tbody tr th {\n        vertical-align: top;\n    }\n\n    .dataframe thead th {\n        text-align: right;\n    }\n</style>\n<table border=\"1\" class=\"dataframe\">\n  <thead>\n    <tr style=\"text-align: right;\">\n      <th></th>\n      <th>Accuracy</th>\n      <th>Balanced Accuracy</th>\n      <th>ROC AUC</th>\n      <th>F1 Score</th>\n      <th>Time Taken</th>\n    </tr>\n    <tr>\n      <th>Model</th>\n      <th></th>\n      <th></th>\n      <th></th>\n      <th></th>\n      <th></th>\n    </tr>\n  </thead>\n  <tbody>\n    <tr>\n      <th>LGBMClassifier</th>\n      <td>0.66</td>\n      <td>0.67</td>\n      <td>0.67</td>\n      <td>0.66</td>\n      <td>0.44</td>\n    </tr>\n    <tr>\n      <th>XGBClassifier</th>\n      <td>0.65</td>\n      <td>0.65</td>\n      <td>0.65</td>\n      <td>0.65</td>\n      <td>0.58</td>\n    </tr>\n    <tr>\n      <th>SVC</th>\n      <td>0.65</td>\n      <td>0.65</td>\n      <td>0.65</td>\n      <td>0.65</td>\n      <td>7.29</td>\n    </tr>\n    <tr>\n      <th>AdaBoostClassifier</th>\n      <td>0.64</td>\n      <td>0.64</td>\n      <td>0.64</td>\n      <td>0.64</td>\n      <td>0.50</td>\n    </tr>\n    <tr>\n      <th>RandomForestClassifier</th>\n      <td>0.64</td>\n      <td>0.64</td>\n      <td>0.64</td>\n      <td>0.64</td>\n      <td>2.04</td>\n    </tr>\n    <tr>\n      <th>BaggingClassifier</th>\n      <td>0.62</td>\n      <td>0.62</td>\n      <td>0.62</td>\n      <td>0.62</td>\n      <td>0.60</td>\n    </tr>\n    <tr>\n      <th>LogisticRegression</th>\n      <td>0.61</td>\n      <td>0.61</td>\n      <td>0.61</td>\n      <td>0.61</td>\n      <td>0.04</td>\n    </tr>\n    <tr>\n      <th>CalibratedClassifierCV</th>\n      <td>0.61</td>\n      <td>0.61</td>\n      <td>0.61</td>\n      <td>0.61</td>\n      <td>3.67</td>\n    </tr>\n    <tr>\n      <th>ExtraTreesClassifier</th>\n      <td>0.61</td>\n      <td>0.61</td>\n      <td>0.61</td>\n      <td>0.61</td>\n      <td>1.26</td>\n    </tr>\n    <tr>\n      <th>LinearSVC</th>\n      <td>0.61</td>\n      <td>0.61</td>\n      <td>0.61</td>\n      <td>0.61</td>\n      <td>0.99</td>\n    </tr>\n    <tr>\n      <th>RidgeClassifier</th>\n      <td>0.61</td>\n      <td>0.61</td>\n      <td>0.61</td>\n      <td>0.61</td>\n      <td>0.03</td>\n    </tr>\n    <tr>\n      <th>LinearDiscriminantAnalysis</th>\n      <td>0.61</td>\n      <td>0.61</td>\n      <td>0.61</td>\n      <td>0.61</td>\n      <td>0.05</td>\n    </tr>\n    <tr>\n      <th>RidgeClassifierCV</th>\n      <td>0.61</td>\n      <td>0.61</td>\n      <td>0.61</td>\n      <td>0.61</td>\n      <td>0.04</td>\n    </tr>\n    <tr>\n      <th>NearestCentroid</th>\n      <td>0.59</td>\n      <td>0.59</td>\n      <td>0.59</td>\n      <td>0.59</td>\n      <td>0.02</td>\n    </tr>\n    <tr>\n      <th>BernoulliNB</th>\n      <td>0.59</td>\n      <td>0.58</td>\n      <td>0.58</td>\n      <td>0.58</td>\n      <td>0.03</td>\n    </tr>\n    <tr>\n      <th>SGDClassifier</th>\n      <td>0.59</td>\n      <td>0.58</td>\n      <td>0.58</td>\n      <td>0.58</td>\n      <td>0.08</td>\n    </tr>\n    <tr>\n      <th>DecisionTreeClassifier</th>\n      <td>0.58</td>\n      <td>0.58</td>\n      <td>0.58</td>\n      <td>0.58</td>\n      <td>0.13</td>\n    </tr>\n    <tr>\n      <th>ExtraTreeClassifier</th>\n      <td>0.57</td>\n      <td>0.57</td>\n      <td>0.57</td>\n      <td>0.57</td>\n      <td>0.03</td>\n    </tr>\n    <tr>\n      <th>NuSVC</th>\n      <td>0.57</td>\n      <td>0.57</td>\n      <td>0.57</td>\n      <td>0.57</td>\n      <td>49.58</td>\n    </tr>\n    <tr>\n      <th>QuadraticDiscriminantAnalysis</th>\n      <td>0.57</td>\n      <td>0.56</td>\n      <td>0.56</td>\n      <td>0.53</td>\n      <td>0.03</td>\n    </tr>\n    <tr>\n      <th>KNeighborsClassifier</th>\n      <td>0.55</td>\n      <td>0.55</td>\n      <td>0.55</td>\n      <td>0.55</td>\n      <td>0.30</td>\n    </tr>\n    <tr>\n      <th>GaussianNB</th>\n      <td>0.55</td>\n      <td>0.54</td>\n      <td>0.54</td>\n      <td>0.52</td>\n      <td>0.02</td>\n    </tr>\n    <tr>\n      <th>Perceptron</th>\n      <td>0.54</td>\n      <td>0.54</td>\n      <td>0.54</td>\n      <td>0.54</td>\n      <td>0.03</td>\n    </tr>\n    <tr>\n      <th>PassiveAggressiveClassifier</th>\n      <td>0.54</td>\n      <td>0.54</td>\n      <td>0.54</td>\n      <td>0.54</td>\n      <td>0.03</td>\n    </tr>\n    <tr>\n      <th>LabelPropagation</th>\n      <td>0.52</td>\n      <td>0.52</td>\n      <td>0.52</td>\n      <td>0.52</td>\n      <td>7.26</td>\n    </tr>\n    <tr>\n      <th>LabelSpreading</th>\n      <td>0.52</td>\n      <td>0.52</td>\n      <td>0.52</td>\n      <td>0.52</td>\n      <td>11.12</td>\n    </tr>\n    <tr>\n      <th>DummyClassifier</th>\n      <td>0.50</td>\n      <td>0.50</td>\n      <td>0.50</td>\n      <td>0.50</td>\n      <td>0.02</td>\n    </tr>\n  </tbody>\n</table>\n</div>"
     },
     "metadata": {},
     "execution_count": 54
    }
   ],
   "source": [
    "from lazypredict.Supervised import LazyClassifier\n",
    "\n",
    "clf = LazyClassifier(verbose=0,ignore_warnings=False)\n",
    "models, predictions = clf.fit(X_train, X_test, y_train, y_test)\n",
    "models"
   ]
  },
  {
   "cell_type": "code",
   "execution_count": null,
   "metadata": {},
   "outputs": [],
   "source": []
  },
  {
   "cell_type": "code",
   "execution_count": null,
   "metadata": {},
   "outputs": [],
   "source": []
  },
  {
   "cell_type": "code",
   "execution_count": null,
   "metadata": {},
   "outputs": [],
   "source": []
  }
 ]
}