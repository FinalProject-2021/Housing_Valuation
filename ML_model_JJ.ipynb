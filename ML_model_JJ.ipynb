{
 "metadata": {
  "language_info": {
   "codemirror_mode": {
    "name": "ipython",
    "version": 3
   },
   "file_extension": ".py",
   "mimetype": "text/x-python",
   "name": "python",
   "nbconvert_exporter": "python",
   "pygments_lexer": "ipython3",
   "version": "3.6.10"
  },
  "orig_nbformat": 2,
  "kernelspec": {
   "name": "python3610jvsc74a57bd0832a58595f549721e5808a4f038b9464c2d8e6e19db5e8e2fb21cf5b549373c5",
   "display_name": "Python 3.6.10 64-bit ('PythonData': conda)"
  }
 },
 "nbformat": 4,
 "nbformat_minor": 2,
 "cells": [
  {
   "cell_type": "code",
   "execution_count": 34,
   "metadata": {},
   "outputs": [],
   "source": [
    "# Required Modules\n",
    "import pandas as pd\n",
    "import numpy as np\n",
    "import sqlite3\n",
    "from sqlite3 import Error\n",
    "import os\n",
    "\n",
    "# Identify database path\n",
    "db_path = os.path.abspath('./sqlite.db')\n",
    "\n",
    "# Connect to SQLite Database\n",
    "conn = sqlite3.connect(db_path)\n",
    "cursor = conn.cursor()"
   ]
  },
  {
   "cell_type": "code",
   "execution_count": 35,
   "metadata": {},
   "outputs": [
    {
     "output_type": "execute_result",
     "data": {
      "text/plain": [
       "984"
      ]
     },
     "metadata": {},
     "execution_count": 35
    }
   ],
   "source": [
    "# FL Zip Codes from Census data for reference\n",
    "fl_census_path = os.path.abspath('Resources/ACSST5Y2019.S1901_data_with_overlays_2021-05-24T165952.csv')\n",
    "fl_census_df = pd.read_csv(fl_census_path, header=1)\n",
    "fl_codes = []\n",
    "\n",
    "for i,j in fl_census_df.iterrows():\n",
    "    fl_codes.append(j['Geographic Area Name'][6:11])\n",
    "\n",
    "fl_zipcodes = pd.DataFrame(fl_codes)\n",
    "fl_zipcodes = fl_zipcodes.rename(columns={0:'zipcode'})\n",
    "\n",
    "# Drop table if it exist\n",
    "cursor.execute(\"DROP TABLE IF EXISTS zipcode\")\n",
    "\n",
    "# Create table\n",
    "fl_zipcodes.to_sql('zipcode', conn, if_exists='replace', index=False)\n",
    "fl_zipcodes['zipcode'].nunique()"
   ]
  },
  {
   "cell_type": "code",
   "execution_count": 36,
   "metadata": {},
   "outputs": [
    {
     "output_type": "execute_result",
     "data": {
      "text/plain": [
       "962"
      ]
     },
     "metadata": {},
     "execution_count": 36
    }
   ],
   "source": [
    "# Sales data\n",
    "sales_path = os.path.abspath('Resources/Sales_Area_Data/Sales/final_sales_data.csv')\n",
    "sales_data_df = pd.read_csv(sales_path, header=0)\n",
    "sales_data_df = sales_data_df[['zipcode','year','month','total_sales','avg_sale_price','med_sale_price','mortgage_rate']]\n",
    "\n",
    "# Drop table if it exist\n",
    "cursor.execute(\"DROP TABLE IF EXISTS sales\")\n",
    "\n",
    "# Create table\n",
    "sales_data_df.to_sql('sales', conn, if_exists='replace', index=False)\n",
    "sales_data_df['zipcode'].nunique()"
   ]
  },
  {
   "cell_type": "code",
   "execution_count": 37,
   "metadata": {},
   "outputs": [
    {
     "output_type": "execute_result",
     "data": {
      "text/plain": [
       "949"
      ]
     },
     "metadata": {},
     "execution_count": 37
    }
   ],
   "source": [
    "# Sales data\n",
    "area_path = os.path.abspath('Resources/Sales_Area_Data/Area/final_area_data.csv')\n",
    "area_data_df = pd.read_csv(area_path, header=0)\n",
    "area_data_df = area_data_df[['zipcode','property_tax','owner_occupied','renter_occupied','total_vacant','total_dwellings','studio_rent','one_bed_rent','two_bed_rent','three_bed_rent','four_bed_rent','fte_employed','unemployed','average_income','projected_income','expense_index','average_commute','crime_index']]\n",
    "area_data_df.head()\n",
    "\n",
    "# Drop table if it exist\n",
    "cursor.execute(\"DROP TABLE IF EXISTS area\")\n",
    "\n",
    "# Create table\n",
    "area_data_df.to_sql('area', conn, if_exists='replace', index=False)\n",
    "area_data_df['zipcode'].nunique()"
   ]
  },
  {
   "cell_type": "code",
   "execution_count": 38,
   "metadata": {},
   "outputs": [
    {
     "output_type": "execute_result",
     "data": {
      "text/plain": [
       "  Zip_Code        Date  Year  Month  Sale_Price  Interest_Rate  Property_Tax  \\\n",
       "0    32003  2019-01-01  2019      1   244950.00           4.46          3778   \n",
       "1    32003  2019-02-01  2019      2   270000.00           4.37          3778   \n",
       "2    32003  2019-03-01  2019      3   275000.00           4.26          3778   \n",
       "3    32003  2019-04-01  2019      4   264500.00           4.14          3778   \n",
       "4    32003  2019-05-01  2019      5   281000.00           4.07          3778   \n",
       "\n",
       "   Rent_Price  Household_Income  Rent_Affordability  ...  School_Grade  \\\n",
       "0        1113          94154.00                0.14  ...       Unknown   \n",
       "1        1113          94154.00                0.14  ...       Unknown   \n",
       "2        1113          94154.00                0.14  ...       Unknown   \n",
       "3        1113          94154.00                0.14  ...       Unknown   \n",
       "4        1113          94154.00                0.14  ...       Unknown   \n",
       "\n",
       "   Owner_Occupied  Renter_Occupied  Total_Vacant Total_Dwellings  \\\n",
       "0            8834             2186           704           11724   \n",
       "1            8834             2186           704           11724   \n",
       "2            8834             2186           704           11724   \n",
       "3            8834             2186           704           11724   \n",
       "4            8834             2186           704           11724   \n",
       "\n",
       "   FTE_Employed  Unemployed  Expense_Index  Average_Commute  Crime_Index  \n",
       "0         10671        1069            104               35           28  \n",
       "1         10671        1069            104               35           28  \n",
       "2         10671        1069            104               35           28  \n",
       "3         10671        1069            104               35           28  \n",
       "4         10671        1069            104               35           28  \n",
       "\n",
       "[5 rows x 24 columns]"
      ],
      "text/html": "<div>\n<style scoped>\n    .dataframe tbody tr th:only-of-type {\n        vertical-align: middle;\n    }\n\n    .dataframe tbody tr th {\n        vertical-align: top;\n    }\n\n    .dataframe thead th {\n        text-align: right;\n    }\n</style>\n<table border=\"1\" class=\"dataframe\">\n  <thead>\n    <tr style=\"text-align: right;\">\n      <th></th>\n      <th>Zip_Code</th>\n      <th>Date</th>\n      <th>Year</th>\n      <th>Month</th>\n      <th>Sale_Price</th>\n      <th>Interest_Rate</th>\n      <th>Property_Tax</th>\n      <th>Rent_Price</th>\n      <th>Household_Income</th>\n      <th>Rent_Affordability</th>\n      <th>...</th>\n      <th>School_Grade</th>\n      <th>Owner_Occupied</th>\n      <th>Renter_Occupied</th>\n      <th>Total_Vacant</th>\n      <th>Total_Dwellings</th>\n      <th>FTE_Employed</th>\n      <th>Unemployed</th>\n      <th>Expense_Index</th>\n      <th>Average_Commute</th>\n      <th>Crime_Index</th>\n    </tr>\n  </thead>\n  <tbody>\n    <tr>\n      <th>0</th>\n      <td>32003</td>\n      <td>2019-01-01</td>\n      <td>2019</td>\n      <td>1</td>\n      <td>244950.00</td>\n      <td>4.46</td>\n      <td>3778</td>\n      <td>1113</td>\n      <td>94154.00</td>\n      <td>0.14</td>\n      <td>...</td>\n      <td>Unknown</td>\n      <td>8834</td>\n      <td>2186</td>\n      <td>704</td>\n      <td>11724</td>\n      <td>10671</td>\n      <td>1069</td>\n      <td>104</td>\n      <td>35</td>\n      <td>28</td>\n    </tr>\n    <tr>\n      <th>1</th>\n      <td>32003</td>\n      <td>2019-02-01</td>\n      <td>2019</td>\n      <td>2</td>\n      <td>270000.00</td>\n      <td>4.37</td>\n      <td>3778</td>\n      <td>1113</td>\n      <td>94154.00</td>\n      <td>0.14</td>\n      <td>...</td>\n      <td>Unknown</td>\n      <td>8834</td>\n      <td>2186</td>\n      <td>704</td>\n      <td>11724</td>\n      <td>10671</td>\n      <td>1069</td>\n      <td>104</td>\n      <td>35</td>\n      <td>28</td>\n    </tr>\n    <tr>\n      <th>2</th>\n      <td>32003</td>\n      <td>2019-03-01</td>\n      <td>2019</td>\n      <td>3</td>\n      <td>275000.00</td>\n      <td>4.26</td>\n      <td>3778</td>\n      <td>1113</td>\n      <td>94154.00</td>\n      <td>0.14</td>\n      <td>...</td>\n      <td>Unknown</td>\n      <td>8834</td>\n      <td>2186</td>\n      <td>704</td>\n      <td>11724</td>\n      <td>10671</td>\n      <td>1069</td>\n      <td>104</td>\n      <td>35</td>\n      <td>28</td>\n    </tr>\n    <tr>\n      <th>3</th>\n      <td>32003</td>\n      <td>2019-04-01</td>\n      <td>2019</td>\n      <td>4</td>\n      <td>264500.00</td>\n      <td>4.14</td>\n      <td>3778</td>\n      <td>1113</td>\n      <td>94154.00</td>\n      <td>0.14</td>\n      <td>...</td>\n      <td>Unknown</td>\n      <td>8834</td>\n      <td>2186</td>\n      <td>704</td>\n      <td>11724</td>\n      <td>10671</td>\n      <td>1069</td>\n      <td>104</td>\n      <td>35</td>\n      <td>28</td>\n    </tr>\n    <tr>\n      <th>4</th>\n      <td>32003</td>\n      <td>2019-05-01</td>\n      <td>2019</td>\n      <td>5</td>\n      <td>281000.00</td>\n      <td>4.07</td>\n      <td>3778</td>\n      <td>1113</td>\n      <td>94154.00</td>\n      <td>0.14</td>\n      <td>...</td>\n      <td>Unknown</td>\n      <td>8834</td>\n      <td>2186</td>\n      <td>704</td>\n      <td>11724</td>\n      <td>10671</td>\n      <td>1069</td>\n      <td>104</td>\n      <td>35</td>\n      <td>28</td>\n    </tr>\n  </tbody>\n</table>\n<p>5 rows × 24 columns</p>\n</div>"
     },
     "metadata": {},
     "execution_count": 38
    }
   ],
   "source": [
    "df = pd.read_sql('''SELECT      zip.zipcode AS Zip_Code, \n",
    "                                date((cast(y.year as text)||\"-\"||substr(\"0\"||cast(m.month as text),-2,2)||\"-01\")) AS Date,\n",
    "                                y.year AS Year, \n",
    "                                m.month AS Month,\n",
    "                                ifnull(s.med_sale_price,0) AS Sale_Price,\n",
    "                                ifnull(s.mortgage_rate,0) AS Interest_Rate,\n",
    "                                ifnull(a.property_tax,0) AS Property_Tax,\n",
    "                                ifnull(a.two_bed_rent,0) AS Rent_Price,\n",
    "                                ifnull(inc.B19013001,0) AS Household_Income,\n",
    "                                ifnull(a.two_bed_rent/(inc.B19013001/12),0) AS Rent_Affordability,\n",
    "                                ifnull(s.total_sales,0) AS Total_Sales,\n",
    "                                ifnull(fha.fha,0) AS FHA_Count,\n",
    "                                ifnull(mob.mobility_rate,0) AS Mobility_Rate, \n",
    "                                ifnull(g.percent_total_points,0) AS School_Rating,\n",
    "                                ifnull(g.letter_grade,\"Unknown\") AS School_Grade,\n",
    "                                ifnull(a.owner_occupied,0) AS Owner_Occupied,\n",
    "                                ifnull(a.renter_occupied,0) AS Renter_Occupied,\n",
    "                                ifnull(a.total_vacant,0) AS Total_Vacant,\n",
    "                                ifnull(a.total_dwellings,0) AS Total_Dwellings,\n",
    "                                ifnull(a.fte_employed,0) AS FTE_Employed,\n",
    "                                ifnull(a.unemployed,0) AS Unemployed,\n",
    "                                ifnull(a.expense_index,0) AS Expense_Index,\n",
    "                                ifnull(a.average_commute,0) AS Average_Commute,\n",
    "                                ifnull(a.crime_index,0) AS Crime_Index\n",
    "                        FROM zipcode AS zip\n",
    "                        CROSS JOIN (SELECT 2019 AS year UNION SELECT 2020 AS year) AS y\n",
    "                        CROSS JOIN (SELECT 1 AS month UNION SELECT 2 AS month UNION SELECT 3 AS month\n",
    "                                UNION SELECT 4 AS month UNION SELECT 5 AS month UNION SELECT 6 AS month\n",
    "                                UNION SELECT 7 AS month UNION SELECT 8 AS month UNION SELECT 9 AS month\n",
    "                                UNION SELECT 10 AS month UNION SELECT 11 AS month UNION SELECT 12 AS month) AS m\n",
    "                        LEFT JOIN fha_loans AS fha ON zip.zipcode = fha.zipcode AND y.year = fha.year AND m.month = fha.month\n",
    "                        LEFT JOIN mobility_slim AS mob ON zip.zipcode = mob.name\n",
    "                        LEFT JOIN household_income AS inc ON zip.zipcode = inc.name\n",
    "                        LEFT JOIN grades AS g ON zip.zipcode = g.zip\n",
    "                        LEFT JOIN sales AS s ON zip.zipcode = s.zipcode AND y.year = s.year AND m.month = s.month\n",
    "                        LEFT JOIN area AS a ON zip.zipcode = a.zipcode\n",
    "                        WHERE s.med_sale_price IS NOT NULL\n",
    "                        AND s.mortgage_rate IS NOT NULL\n",
    "                        AND y.year IS NOT NULL\n",
    "                        AND m.month IS NOT NULL\n",
    "                ''', conn)\n",
    "df.head()"
   ]
  },
  {
   "cell_type": "code",
   "execution_count": 42,
   "metadata": {},
   "outputs": [
    {
     "output_type": "execute_result",
     "data": {
      "text/plain": [
       "      Zip_Code        Date  Year  Month  Sale_Price  Interest_Rate  \\\n",
       "22618    34997  2020-10-01  2020     10   285000.00           2.83   \n",
       "22619    34997  2020-11-01  2020     11   259750.00           2.77   \n",
       "22620    34997  2020-11-01  2020     11   259750.00           2.77   \n",
       "22621    34997  2020-12-01  2020     12   297000.00           2.68   \n",
       "22622    34997  2020-12-01  2020     12   297000.00           2.68   \n",
       "\n",
       "       Property_Tax  Rent_Price  Household_Income  Rent_Affordability  ...  \\\n",
       "22618          3067        1211          58789.00                0.25  ...   \n",
       "22619          3067        1211          58789.00                0.25  ...   \n",
       "22620          3067        1211          58789.00                0.25  ...   \n",
       "22621          3067        1211          58789.00                0.25  ...   \n",
       "22622          3067        1211          58789.00                0.25  ...   \n",
       "\n",
       "       FTE_Employed  Unemployed  Expense_Index  Average_Commute Crime_Index  \\\n",
       "22618         15421        1267             91               24         113   \n",
       "22619         15421        1267             91               24         113   \n",
       "22620         15421        1267             91               24         113   \n",
       "22621         15421        1267             91               24         113   \n",
       "22622         15421        1267             91               24         113   \n",
       "\n",
       "       Loan_Amount  Loan_Term  Loan_R  Loan_Payment  Home_Affordability  \n",
       "22618    228000.00     360.00    1.00        940.97                0.19  \n",
       "22619    207800.00     360.00    1.00        849.98                0.17  \n",
       "22620    207800.00     360.00    1.00        849.98                0.17  \n",
       "22621    237600.00     360.00    1.00        961.69                0.20  \n",
       "22622    237600.00     360.00    1.00        961.69                0.20  \n",
       "\n",
       "[5 rows x 29 columns]"
      ],
      "text/html": "<div>\n<style scoped>\n    .dataframe tbody tr th:only-of-type {\n        vertical-align: middle;\n    }\n\n    .dataframe tbody tr th {\n        vertical-align: top;\n    }\n\n    .dataframe thead th {\n        text-align: right;\n    }\n</style>\n<table border=\"1\" class=\"dataframe\">\n  <thead>\n    <tr style=\"text-align: right;\">\n      <th></th>\n      <th>Zip_Code</th>\n      <th>Date</th>\n      <th>Year</th>\n      <th>Month</th>\n      <th>Sale_Price</th>\n      <th>Interest_Rate</th>\n      <th>Property_Tax</th>\n      <th>Rent_Price</th>\n      <th>Household_Income</th>\n      <th>Rent_Affordability</th>\n      <th>...</th>\n      <th>FTE_Employed</th>\n      <th>Unemployed</th>\n      <th>Expense_Index</th>\n      <th>Average_Commute</th>\n      <th>Crime_Index</th>\n      <th>Loan_Amount</th>\n      <th>Loan_Term</th>\n      <th>Loan_R</th>\n      <th>Loan_Payment</th>\n      <th>Home_Affordability</th>\n    </tr>\n  </thead>\n  <tbody>\n    <tr>\n      <th>22618</th>\n      <td>34997</td>\n      <td>2020-10-01</td>\n      <td>2020</td>\n      <td>10</td>\n      <td>285000.00</td>\n      <td>2.83</td>\n      <td>3067</td>\n      <td>1211</td>\n      <td>58789.00</td>\n      <td>0.25</td>\n      <td>...</td>\n      <td>15421</td>\n      <td>1267</td>\n      <td>91</td>\n      <td>24</td>\n      <td>113</td>\n      <td>228000.00</td>\n      <td>360.00</td>\n      <td>1.00</td>\n      <td>940.97</td>\n      <td>0.19</td>\n    </tr>\n    <tr>\n      <th>22619</th>\n      <td>34997</td>\n      <td>2020-11-01</td>\n      <td>2020</td>\n      <td>11</td>\n      <td>259750.00</td>\n      <td>2.77</td>\n      <td>3067</td>\n      <td>1211</td>\n      <td>58789.00</td>\n      <td>0.25</td>\n      <td>...</td>\n      <td>15421</td>\n      <td>1267</td>\n      <td>91</td>\n      <td>24</td>\n      <td>113</td>\n      <td>207800.00</td>\n      <td>360.00</td>\n      <td>1.00</td>\n      <td>849.98</td>\n      <td>0.17</td>\n    </tr>\n    <tr>\n      <th>22620</th>\n      <td>34997</td>\n      <td>2020-11-01</td>\n      <td>2020</td>\n      <td>11</td>\n      <td>259750.00</td>\n      <td>2.77</td>\n      <td>3067</td>\n      <td>1211</td>\n      <td>58789.00</td>\n      <td>0.25</td>\n      <td>...</td>\n      <td>15421</td>\n      <td>1267</td>\n      <td>91</td>\n      <td>24</td>\n      <td>113</td>\n      <td>207800.00</td>\n      <td>360.00</td>\n      <td>1.00</td>\n      <td>849.98</td>\n      <td>0.17</td>\n    </tr>\n    <tr>\n      <th>22621</th>\n      <td>34997</td>\n      <td>2020-12-01</td>\n      <td>2020</td>\n      <td>12</td>\n      <td>297000.00</td>\n      <td>2.68</td>\n      <td>3067</td>\n      <td>1211</td>\n      <td>58789.00</td>\n      <td>0.25</td>\n      <td>...</td>\n      <td>15421</td>\n      <td>1267</td>\n      <td>91</td>\n      <td>24</td>\n      <td>113</td>\n      <td>237600.00</td>\n      <td>360.00</td>\n      <td>1.00</td>\n      <td>961.69</td>\n      <td>0.20</td>\n    </tr>\n    <tr>\n      <th>22622</th>\n      <td>34997</td>\n      <td>2020-12-01</td>\n      <td>2020</td>\n      <td>12</td>\n      <td>297000.00</td>\n      <td>2.68</td>\n      <td>3067</td>\n      <td>1211</td>\n      <td>58789.00</td>\n      <td>0.25</td>\n      <td>...</td>\n      <td>15421</td>\n      <td>1267</td>\n      <td>91</td>\n      <td>24</td>\n      <td>113</td>\n      <td>237600.00</td>\n      <td>360.00</td>\n      <td>1.00</td>\n      <td>961.69</td>\n      <td>0.20</td>\n    </tr>\n  </tbody>\n</table>\n<p>5 rows × 29 columns</p>\n</div>"
     },
     "metadata": {},
     "execution_count": 42
    }
   ],
   "source": [
    "# Calculate Home Affordability\n",
    "\n",
    "# Loan Payment calc source: https://medium.com/personal-finance-analytics/mortgage-calculator-python-code-94d976d25a27\n",
    "# df = df.append({'Zip_Code':32792,'Year':2011,'Month':10,'Sale_Price':178750,'Interest_Rate':2.875}, ignore_index=True) # PMT should = 593\n",
    "df['Loan_Amount'] = df['Sale_Price']*.80 # Assuming 20% down payment\n",
    "df['Loan_Term'] = float(30*12) # Assuming 30 year loan\n",
    "df['Loan_R'] = 1+(df['Interest_Rate']/100/12)\n",
    "df['Loan_Payment'] = df['Loan_Amount']*(df['Loan_R']**df['Loan_Term'])*(1-df['Loan_R'])/(1-df['Loan_R']**df['Loan_Term'])\n",
    "# df['Home_Affordability'] = (df['Loan_Payment']+(df['Property_Tax']/12))/(df['Household_Income']/12)\n",
    "df['Home_Affordability'] = (df['Loan_Payment']*12)/df['Household_Income']\n",
    "df.tail()"
   ]
  },
  {
   "cell_type": "code",
   "execution_count": 26,
   "metadata": {},
   "outputs": [
    {
     "output_type": "execute_result",
     "data": {
      "text/plain": [
       "   Unnamed: 0  Zip_Code        Date  Year  Month  Sale_Price  Interest_Rate  \\\n",
       "0           0     32003  2019-01-01  2019      1   244950.00           4.46   \n",
       "1           1     32003  2019-02-01  2019      2   270000.00           4.37   \n",
       "2           2     32003  2019-03-01  2019      3   275000.00           4.26   \n",
       "3           3     32003  2019-04-01  2019      4   264500.00           4.14   \n",
       "4           4     32003  2019-05-01  2019      5   281000.00           4.07   \n",
       "\n",
       "   Property_Tax  Rent_Price  Household_Income  ...  FTE_Employed  Unemployed  \\\n",
       "0          3778        1113          94154.00  ...         10671        1069   \n",
       "1          3778        1113          94154.00  ...         10671        1069   \n",
       "2          3778        1113          94154.00  ...         10671        1069   \n",
       "3          3778        1113          94154.00  ...         10671        1069   \n",
       "4          3778        1113          94154.00  ...         10671        1069   \n",
       "\n",
       "   Expense_Index  Average_Commute  Crime_Index Loan_Amount  Loan_Term  Loan_R  \\\n",
       "0            104               35           28   195960.00     360.00    1.00   \n",
       "1            104               35           28   216000.00     360.00    1.00   \n",
       "2            104               35           28   220000.00     360.00    1.00   \n",
       "3            104               35           28   211600.00     360.00    1.00   \n",
       "4            104               35           28   224800.00     360.00    1.00   \n",
       "\n",
       "   Loan_Payment  Home_Affordability  \n",
       "0        988.71                0.01  \n",
       "1       1077.82                0.01  \n",
       "2       1084.20                0.01  \n",
       "3       1027.67                0.01  \n",
       "4       1082.58                0.01  \n",
       "\n",
       "[5 rows x 30 columns]"
      ],
      "text/html": "<div>\n<style scoped>\n    .dataframe tbody tr th:only-of-type {\n        vertical-align: middle;\n    }\n\n    .dataframe tbody tr th {\n        vertical-align: top;\n    }\n\n    .dataframe thead th {\n        text-align: right;\n    }\n</style>\n<table border=\"1\" class=\"dataframe\">\n  <thead>\n    <tr style=\"text-align: right;\">\n      <th></th>\n      <th>Unnamed: 0</th>\n      <th>Zip_Code</th>\n      <th>Date</th>\n      <th>Year</th>\n      <th>Month</th>\n      <th>Sale_Price</th>\n      <th>Interest_Rate</th>\n      <th>Property_Tax</th>\n      <th>Rent_Price</th>\n      <th>Household_Income</th>\n      <th>...</th>\n      <th>FTE_Employed</th>\n      <th>Unemployed</th>\n      <th>Expense_Index</th>\n      <th>Average_Commute</th>\n      <th>Crime_Index</th>\n      <th>Loan_Amount</th>\n      <th>Loan_Term</th>\n      <th>Loan_R</th>\n      <th>Loan_Payment</th>\n      <th>Home_Affordability</th>\n    </tr>\n  </thead>\n  <tbody>\n    <tr>\n      <th>0</th>\n      <td>0</td>\n      <td>32003</td>\n      <td>2019-01-01</td>\n      <td>2019</td>\n      <td>1</td>\n      <td>244950.00</td>\n      <td>4.46</td>\n      <td>3778</td>\n      <td>1113</td>\n      <td>94154.00</td>\n      <td>...</td>\n      <td>10671</td>\n      <td>1069</td>\n      <td>104</td>\n      <td>35</td>\n      <td>28</td>\n      <td>195960.00</td>\n      <td>360.00</td>\n      <td>1.00</td>\n      <td>988.71</td>\n      <td>0.01</td>\n    </tr>\n    <tr>\n      <th>1</th>\n      <td>1</td>\n      <td>32003</td>\n      <td>2019-02-01</td>\n      <td>2019</td>\n      <td>2</td>\n      <td>270000.00</td>\n      <td>4.37</td>\n      <td>3778</td>\n      <td>1113</td>\n      <td>94154.00</td>\n      <td>...</td>\n      <td>10671</td>\n      <td>1069</td>\n      <td>104</td>\n      <td>35</td>\n      <td>28</td>\n      <td>216000.00</td>\n      <td>360.00</td>\n      <td>1.00</td>\n      <td>1077.82</td>\n      <td>0.01</td>\n    </tr>\n    <tr>\n      <th>2</th>\n      <td>2</td>\n      <td>32003</td>\n      <td>2019-03-01</td>\n      <td>2019</td>\n      <td>3</td>\n      <td>275000.00</td>\n      <td>4.26</td>\n      <td>3778</td>\n      <td>1113</td>\n      <td>94154.00</td>\n      <td>...</td>\n      <td>10671</td>\n      <td>1069</td>\n      <td>104</td>\n      <td>35</td>\n      <td>28</td>\n      <td>220000.00</td>\n      <td>360.00</td>\n      <td>1.00</td>\n      <td>1084.20</td>\n      <td>0.01</td>\n    </tr>\n    <tr>\n      <th>3</th>\n      <td>3</td>\n      <td>32003</td>\n      <td>2019-04-01</td>\n      <td>2019</td>\n      <td>4</td>\n      <td>264500.00</td>\n      <td>4.14</td>\n      <td>3778</td>\n      <td>1113</td>\n      <td>94154.00</td>\n      <td>...</td>\n      <td>10671</td>\n      <td>1069</td>\n      <td>104</td>\n      <td>35</td>\n      <td>28</td>\n      <td>211600.00</td>\n      <td>360.00</td>\n      <td>1.00</td>\n      <td>1027.67</td>\n      <td>0.01</td>\n    </tr>\n    <tr>\n      <th>4</th>\n      <td>4</td>\n      <td>32003</td>\n      <td>2019-05-01</td>\n      <td>2019</td>\n      <td>5</td>\n      <td>281000.00</td>\n      <td>4.07</td>\n      <td>3778</td>\n      <td>1113</td>\n      <td>94154.00</td>\n      <td>...</td>\n      <td>10671</td>\n      <td>1069</td>\n      <td>104</td>\n      <td>35</td>\n      <td>28</td>\n      <td>224800.00</td>\n      <td>360.00</td>\n      <td>1.00</td>\n      <td>1082.58</td>\n      <td>0.01</td>\n    </tr>\n  </tbody>\n</table>\n<p>5 rows × 30 columns</p>\n</div>"
     },
     "metadata": {},
     "execution_count": 26
    }
   ],
   "source": [
    "data = pd.read_csv('Resources/Final_Data.csv')\n",
    "data.head()"
   ]
  },
  {
   "cell_type": "code",
   "execution_count": 22,
   "metadata": {},
   "outputs": [
    {
     "output_type": "execute_result",
     "data": {
      "text/plain": [
       "Zip_Code                int64\n",
       "Date                   object\n",
       "Year                    int64\n",
       "Month                   int64\n",
       "Sale_Price            float64\n",
       "Interest_Rate         float64\n",
       "Property_Tax            int64\n",
       "Rent_Price              int64\n",
       "Household_Income      float64\n",
       "Rent_Affordability    float64\n",
       "Total_Sales             int64\n",
       "FHA_Count               int64\n",
       "Mobility_Rate         float64\n",
       "School_Rating           int64\n",
       "School_Grade           object\n",
       "Owner_Occupied          int64\n",
       "Renter_Occupied         int64\n",
       "Total_Vacant            int64\n",
       "Total_Dwellings         int64\n",
       "FTE_Employed            int64\n",
       "Unemployed              int64\n",
       "Expense_Index           int64\n",
       "Average_Commute         int64\n",
       "Crime_Index             int64\n",
       "Loan_Amount           float64\n",
       "Loan_Term             float64\n",
       "Loan_R                float64\n",
       "Loan_Payment          float64\n",
       "Home_Affordability    float64\n",
       "dtype: object"
      ]
     },
     "metadata": {},
     "execution_count": 22
    }
   ],
   "source": [
    "ml_data.dtypes"
   ]
  },
  {
   "cell_type": "code",
   "execution_count": 33,
   "metadata": {},
   "outputs": [
    {
     "output_type": "execute_result",
     "data": {
      "text/plain": [
       "       Zip_Code  Household_Income  Year  Month  Total_Sales  FHA_Count  \\\n",
       "0         32003          94154.00  2019      1           32          7   \n",
       "1         32003          94154.00  2019      2           41          2   \n",
       "2         32003          94154.00  2019      3           21          7   \n",
       "3         32003          94154.00  2019      4           42          3   \n",
       "4         32003          94154.00  2019      5           66          8   \n",
       "...         ...               ...   ...    ...          ...        ...   \n",
       "22618     34997          58789.00  2020     10          139         17   \n",
       "22619     34997          58789.00  2020     11          132         11   \n",
       "22620     34997          58789.00  2020     11          132         11   \n",
       "22621     34997          58789.00  2020     12          142         16   \n",
       "22622     34997          58789.00  2020     12          142         16   \n",
       "\n",
       "       Home_Affordability  Rent_Affordability  Loan_Payment  Property_Tax  \\\n",
       "0                    0.01                0.14        988.71          3778   \n",
       "1                    0.01                0.14       1077.82          3778   \n",
       "2                    0.01                0.14       1084.20          3778   \n",
       "3                    0.01                0.14       1027.67          3778   \n",
       "4                    0.01                0.14       1082.58          3778   \n",
       "...                   ...                 ...           ...           ...   \n",
       "22618                0.02                0.25        940.97          3067   \n",
       "22619                0.02                0.25        849.98          3067   \n",
       "22620                0.02                0.25        849.98          3067   \n",
       "22621                0.02                0.25        961.69          3067   \n",
       "22622                0.02                0.25        961.69          3067   \n",
       "\n",
       "       Sale_Price  \n",
       "0       244950.00  \n",
       "1       270000.00  \n",
       "2       275000.00  \n",
       "3       264500.00  \n",
       "4       281000.00  \n",
       "...           ...  \n",
       "22618   285000.00  \n",
       "22619   259750.00  \n",
       "22620   259750.00  \n",
       "22621   297000.00  \n",
       "22622   297000.00  \n",
       "\n",
       "[22623 rows x 11 columns]"
      ],
      "text/html": "<div>\n<style scoped>\n    .dataframe tbody tr th:only-of-type {\n        vertical-align: middle;\n    }\n\n    .dataframe tbody tr th {\n        vertical-align: top;\n    }\n\n    .dataframe thead th {\n        text-align: right;\n    }\n</style>\n<table border=\"1\" class=\"dataframe\">\n  <thead>\n    <tr style=\"text-align: right;\">\n      <th></th>\n      <th>Zip_Code</th>\n      <th>Household_Income</th>\n      <th>Year</th>\n      <th>Month</th>\n      <th>Total_Sales</th>\n      <th>FHA_Count</th>\n      <th>Home_Affordability</th>\n      <th>Rent_Affordability</th>\n      <th>Loan_Payment</th>\n      <th>Property_Tax</th>\n      <th>Sale_Price</th>\n    </tr>\n  </thead>\n  <tbody>\n    <tr>\n      <th>0</th>\n      <td>32003</td>\n      <td>94154.00</td>\n      <td>2019</td>\n      <td>1</td>\n      <td>32</td>\n      <td>7</td>\n      <td>0.01</td>\n      <td>0.14</td>\n      <td>988.71</td>\n      <td>3778</td>\n      <td>244950.00</td>\n    </tr>\n    <tr>\n      <th>1</th>\n      <td>32003</td>\n      <td>94154.00</td>\n      <td>2019</td>\n      <td>2</td>\n      <td>41</td>\n      <td>2</td>\n      <td>0.01</td>\n      <td>0.14</td>\n      <td>1077.82</td>\n      <td>3778</td>\n      <td>270000.00</td>\n    </tr>\n    <tr>\n      <th>2</th>\n      <td>32003</td>\n      <td>94154.00</td>\n      <td>2019</td>\n      <td>3</td>\n      <td>21</td>\n      <td>7</td>\n      <td>0.01</td>\n      <td>0.14</td>\n      <td>1084.20</td>\n      <td>3778</td>\n      <td>275000.00</td>\n    </tr>\n    <tr>\n      <th>3</th>\n      <td>32003</td>\n      <td>94154.00</td>\n      <td>2019</td>\n      <td>4</td>\n      <td>42</td>\n      <td>3</td>\n      <td>0.01</td>\n      <td>0.14</td>\n      <td>1027.67</td>\n      <td>3778</td>\n      <td>264500.00</td>\n    </tr>\n    <tr>\n      <th>4</th>\n      <td>32003</td>\n      <td>94154.00</td>\n      <td>2019</td>\n      <td>5</td>\n      <td>66</td>\n      <td>8</td>\n      <td>0.01</td>\n      <td>0.14</td>\n      <td>1082.58</td>\n      <td>3778</td>\n      <td>281000.00</td>\n    </tr>\n    <tr>\n      <th>...</th>\n      <td>...</td>\n      <td>...</td>\n      <td>...</td>\n      <td>...</td>\n      <td>...</td>\n      <td>...</td>\n      <td>...</td>\n      <td>...</td>\n      <td>...</td>\n      <td>...</td>\n      <td>...</td>\n    </tr>\n    <tr>\n      <th>22618</th>\n      <td>34997</td>\n      <td>58789.00</td>\n      <td>2020</td>\n      <td>10</td>\n      <td>139</td>\n      <td>17</td>\n      <td>0.02</td>\n      <td>0.25</td>\n      <td>940.97</td>\n      <td>3067</td>\n      <td>285000.00</td>\n    </tr>\n    <tr>\n      <th>22619</th>\n      <td>34997</td>\n      <td>58789.00</td>\n      <td>2020</td>\n      <td>11</td>\n      <td>132</td>\n      <td>11</td>\n      <td>0.02</td>\n      <td>0.25</td>\n      <td>849.98</td>\n      <td>3067</td>\n      <td>259750.00</td>\n    </tr>\n    <tr>\n      <th>22620</th>\n      <td>34997</td>\n      <td>58789.00</td>\n      <td>2020</td>\n      <td>11</td>\n      <td>132</td>\n      <td>11</td>\n      <td>0.02</td>\n      <td>0.25</td>\n      <td>849.98</td>\n      <td>3067</td>\n      <td>259750.00</td>\n    </tr>\n    <tr>\n      <th>22621</th>\n      <td>34997</td>\n      <td>58789.00</td>\n      <td>2020</td>\n      <td>12</td>\n      <td>142</td>\n      <td>16</td>\n      <td>0.02</td>\n      <td>0.25</td>\n      <td>961.69</td>\n      <td>3067</td>\n      <td>297000.00</td>\n    </tr>\n    <tr>\n      <th>22622</th>\n      <td>34997</td>\n      <td>58789.00</td>\n      <td>2020</td>\n      <td>12</td>\n      <td>142</td>\n      <td>16</td>\n      <td>0.02</td>\n      <td>0.25</td>\n      <td>961.69</td>\n      <td>3067</td>\n      <td>297000.00</td>\n    </tr>\n  </tbody>\n</table>\n<p>22623 rows × 11 columns</p>\n</div>"
     },
     "metadata": {},
     "execution_count": 33
    }
   ],
   "source": [
    "ml_data = data[['Zip_Code', 'Household_Income', 'Year', 'Month', 'Total_Sales', 'FHA_Count', \n",
    "'Home_Affordability', 'Rent_Affordability', 'Loan_Payment', 'Property_Tax', 'Sale_Price' ]]\n",
    "ml_data"
   ]
  },
  {
   "cell_type": "code",
   "execution_count": 10,
   "metadata": {},
   "outputs": [
    {
     "output_type": "execute_result",
     "data": {
      "text/plain": [
       "zipcode                 int64\n",
       "year                    int64\n",
       "month                   int64\n",
       "home_affordability      int64\n",
       "rent_affordability      int64\n",
       "total_sales             int64\n",
       "fha                     int64\n",
       "avg_sale_price        float64\n",
       "dtype: object"
      ]
     },
     "metadata": {},
     "execution_count": 10
    }
   ],
   "source": [
    "ml_data['zipcode'] = ml_data['zipcode'].astype(int)\n",
    "ml_data.dtypes"
   ]
  },
  {
   "cell_type": "code",
   "execution_count": 59,
   "metadata": {},
   "outputs": [
    {
     "output_type": "execute_result",
     "data": {
      "text/plain": [
       "[1427, 3101, 3102, 7613, 7614, 7615, 7801, 7802, 11081, 14359]"
      ]
     },
     "metadata": {},
     "execution_count": 59
    }
   ],
   "source": [
    "drop_zips = ['33132', '33606', '32190', '34140', '32461', '33154']\n",
    "test = ml_data[ml_data['zipcode'].isin(drop_zips)]\n",
    "drop_index = test.index.tolist()\n",
    "drop_index"
   ]
  },
  {
   "cell_type": "code",
   "execution_count": 60,
   "metadata": {},
   "outputs": [
    {
     "output_type": "execute_result",
     "data": {
      "text/plain": [
       "18371"
      ]
     },
     "metadata": {},
     "execution_count": 60
    }
   ],
   "source": [
    "clean_data = ml_data.drop(drop_index)\n",
    "len(clean_data)"
   ]
  },
  {
   "cell_type": "code",
   "execution_count": null,
   "metadata": {},
   "outputs": [],
   "source": []
  },
  {
   "cell_type": "code",
   "execution_count": 11,
   "metadata": {},
   "outputs": [],
   "source": [
    "import warnings\n",
    "warnings.filterwarnings(\"ignore\")\n",
    "\n",
    "from sklearn import metrics\n",
    "from sklearn.metrics import accuracy_score\n",
    "from sklearn.model_selection import train_test_split"
   ]
  },
  {
   "cell_type": "code",
   "execution_count": 13,
   "metadata": {},
   "outputs": [
    {
     "output_type": "execute_result",
     "data": {
      "text/plain": [
       "array([289290., 286173., 301620., ..., 315426., 350031., 350031.])"
      ]
     },
     "metadata": {},
     "execution_count": 13
    }
   ],
   "source": [
    "y_value = ml_data['avg_sale_price'].values\n",
    "\n",
    "x_values = ml_data.drop(columns='avg_sale_price')\n",
    "\n",
    "feature_names = x_values.columns\n",
    "\n",
    "x_values\n",
    "y_value"
   ]
  },
  {
   "cell_type": "code",
   "execution_count": 14,
   "metadata": {},
   "outputs": [],
   "source": [
    "\n",
    "X_train, X_test, y_train, y_test = train_test_split(x_values, y_value, random_state=42)"
   ]
  },
  {
   "cell_type": "code",
   "execution_count": 15,
   "metadata": {},
   "outputs": [
    {
     "output_type": "stream",
     "name": "stdout",
     "text": [
      "Training set - Features:  (13785, 7) Target:  (13785,)\nTest set - Features:  (4596, 7) Target:  (4596,)\n"
     ]
    }
   ],
   "source": [
    "print(\"Training set - Features: \", X_train.shape, \"Target: \", y_train.shape)\n",
    "print(\"Test set - Features: \", X_test.shape, \"Target: \",y_test.shape)"
   ]
  },
  {
   "cell_type": "code",
   "execution_count": 16,
   "metadata": {},
   "outputs": [],
   "source": [
    "import lazypredict\n",
    "from lazypredict.Supervised import LazyRegressor"
   ]
  },
  {
   "cell_type": "code",
   "execution_count": 17,
   "metadata": {},
   "outputs": [
    {
     "output_type": "stream",
     "name": "stderr",
     "text": [
      "100%|██████████| 42/42 [01:07<00:00,  1.62s/it]                               Adjusted R-Squared  R-Squared        RMSE  \\\n",
      "Model                                                                      \n",
      "XGBRegressor                                 0.65       0.65    85967.56   \n",
      "RandomForestRegressor                        0.59       0.59    93008.05   \n",
      "BaggingRegressor                             0.54       0.54    98971.56   \n",
      "LGBMRegressor                                0.52       0.52   100409.50   \n",
      "HistGradientBoostingRegressor                0.52       0.52   100870.47   \n",
      "ExtraTreesRegressor                          0.48       0.48   104896.20   \n",
      "GradientBoostingRegressor                    0.45       0.45   108197.67   \n",
      "DecisionTreeRegressor                        0.26       0.26   124958.17   \n",
      "KNeighborsRegressor                          0.24       0.24   126908.50   \n",
      "ExtraTreeRegressor                           0.15       0.15   134017.82   \n",
      "PoissonRegressor                             0.11       0.11   136928.20   \n",
      "BayesianRidge                                0.11       0.11   137260.21   \n",
      "RidgeCV                                      0.11       0.11   137260.70   \n",
      "Ridge                                        0.11       0.11   137261.11   \n",
      "LassoCV                                      0.11       0.11   137261.14   \n",
      "Lasso                                        0.11       0.11   137261.15   \n",
      "LassoLarsIC                                  0.11       0.11   137261.15   \n",
      "Lars                                         0.11       0.11   137261.15   \n",
      "LarsCV                                       0.11       0.11   137261.15   \n",
      "LassoLarsCV                                  0.11       0.11   137261.15   \n",
      "OrthogonalMatchingPursuitCV                  0.11       0.11   137261.15   \n",
      "TransformedTargetRegressor                   0.11       0.11   137261.15   \n",
      "LinearRegression                             0.11       0.11   137261.15   \n",
      "LassoLars                                    0.11       0.11   137261.31   \n",
      "SGDRegressor                                 0.11       0.11   137337.39   \n",
      "ElasticNet                                   0.09       0.09   138843.50   \n",
      "HuberRegressor                               0.07       0.07   140104.34   \n",
      "GeneralizedLinearRegressor                   0.07       0.07   140302.78   \n",
      "TweedieRegressor                             0.07       0.07   140302.78   \n",
      "GammaRegressor                               0.07       0.07   140432.08   \n",
      "PassiveAggressiveRegressor                   0.06       0.06   141040.22   \n",
      "OrthogonalMatchingPursuit                    0.05       0.05   141734.75   \n",
      "ElasticNetCV                                 0.00       0.00   145097.57   \n",
      "DummyRegressor                              -0.00      -0.00   145413.92   \n",
      "NuSVR                                       -0.02      -0.02   146908.83   \n",
      "SVR                                         -0.04      -0.04   148276.32   \n",
      "RANSACRegressor                             -0.08      -0.08   150832.67   \n",
      "AdaBoostRegressor                           -0.96      -0.95   203256.08   \n",
      "MLPRegressor                                -2.45      -2.45   270044.39   \n",
      "LinearSVR                                   -2.82      -2.81   283827.84   \n",
      "KernelRidge                                 -3.05      -3.05   292497.86   \n",
      "GaussianProcessRegressor                -23745.06  -23708.89 22390808.26   \n",
      "\n",
      "                               Time Taken  \n",
      "Model                                      \n",
      "XGBRegressor                         0.37  \n",
      "RandomForestRegressor                2.49  \n",
      "BaggingRegressor                     0.27  \n",
      "LGBMRegressor                        0.13  \n",
      "HistGradientBoostingRegressor        1.08  \n",
      "ExtraTreesRegressor                  1.77  \n",
      "GradientBoostingRegressor            0.62  \n",
      "DecisionTreeRegressor                0.07  \n",
      "KNeighborsRegressor                  0.09  \n",
      "ExtraTreeRegressor                   0.04  \n",
      "PoissonRegressor                     0.02  \n",
      "BayesianRidge                        0.02  \n",
      "RidgeCV                              0.02  \n",
      "Ridge                                0.01  \n",
      "LassoCV                              0.19  \n",
      "Lasso                                0.03  \n",
      "LassoLarsIC                          0.02  \n",
      "Lars                                 0.02  \n",
      "LarsCV                               0.03  \n",
      "LassoLarsCV                          0.04  \n",
      "OrthogonalMatchingPursuitCV          0.03  \n",
      "TransformedTargetRegressor           0.01  \n",
      "LinearRegression                     0.02  \n",
      "LassoLars                            0.02  \n",
      "SGDRegressor                         0.05  \n",
      "ElasticNet                           0.03  \n",
      "HuberRegressor                       0.06  \n",
      "GeneralizedLinearRegressor           0.02  \n",
      "TweedieRegressor                     0.03  \n",
      "GammaRegressor                       0.02  \n",
      "PassiveAggressiveRegressor           0.09  \n",
      "OrthogonalMatchingPursuit            0.01  \n",
      "ElasticNetCV                         0.19  \n",
      "DummyRegressor                       0.01  \n",
      "NuSVR                                5.02  \n",
      "SVR                                  5.94  \n",
      "RANSACRegressor                      0.08  \n",
      "AdaBoostRegressor                    0.38  \n",
      "MLPRegressor                        10.48  \n",
      "LinearSVR                            0.02  \n",
      "KernelRidge                         13.78  \n",
      "GaussianProcessRegressor            24.30  \n",
      "\n"
     ]
    }
   ],
   "source": [
    "reg = LazyRegressor(verbose=0, ignore_warnings=False, custom_metric=None)\n",
    "reg_models, reg_predictions = reg.fit(X_train, X_test, y_train, y_test)\n",
    "print(reg_models)"
   ]
  },
  {
   "cell_type": "code",
   "execution_count": null,
   "metadata": {},
   "outputs": [],
   "source": []
  },
  {
   "cell_type": "code",
   "execution_count": 18,
   "metadata": {},
   "outputs": [
    {
     "output_type": "stream",
     "name": "stderr",
     "text": [
      "  0%|          | 0/29 [00:20<?, ?it/s]\n"
     ]
    },
    {
     "output_type": "error",
     "ename": "KeyboardInterrupt",
     "evalue": "",
     "traceback": [
      "\u001b[0;31m---------------------------------------------------------------------------\u001b[0m",
      "\u001b[0;31mKeyboardInterrupt\u001b[0m                         Traceback (most recent call last)",
      "\u001b[0;32m<ipython-input-18-a5449581a179>\u001b[0m in \u001b[0;36m<module>\u001b[0;34m\u001b[0m\n\u001b[1;32m      2\u001b[0m \u001b[0;34m\u001b[0m\u001b[0m\n\u001b[1;32m      3\u001b[0m \u001b[0mclf\u001b[0m \u001b[0;34m=\u001b[0m \u001b[0mLazyClassifier\u001b[0m\u001b[0;34m(\u001b[0m\u001b[0mverbose\u001b[0m\u001b[0;34m=\u001b[0m\u001b[0;36m0\u001b[0m\u001b[0;34m,\u001b[0m\u001b[0mignore_warnings\u001b[0m\u001b[0;34m=\u001b[0m\u001b[0;32mFalse\u001b[0m\u001b[0;34m)\u001b[0m\u001b[0;34m\u001b[0m\u001b[0;34m\u001b[0m\u001b[0m\n\u001b[0;32m----> 4\u001b[0;31m \u001b[0mmodels\u001b[0m\u001b[0;34m,\u001b[0m \u001b[0mpredictions\u001b[0m \u001b[0;34m=\u001b[0m \u001b[0mclf\u001b[0m\u001b[0;34m.\u001b[0m\u001b[0mfit\u001b[0m\u001b[0;34m(\u001b[0m\u001b[0mX_train\u001b[0m\u001b[0;34m,\u001b[0m \u001b[0mX_test\u001b[0m\u001b[0;34m,\u001b[0m \u001b[0my_train\u001b[0m\u001b[0;34m,\u001b[0m \u001b[0my_test\u001b[0m\u001b[0;34m)\u001b[0m\u001b[0;34m\u001b[0m\u001b[0;34m\u001b[0m\u001b[0m\n\u001b[0m\u001b[1;32m      5\u001b[0m \u001b[0mmodels\u001b[0m\u001b[0;34m\u001b[0m\u001b[0;34m\u001b[0m\u001b[0m\n",
      "\u001b[0;32m~/anaconda3/envs/PythonData/lib/python3.6/site-packages/lazypredict/Supervised.py\u001b[0m in \u001b[0;36mfit\u001b[0;34m(self, X_train, X_test, y_train, y_test)\u001b[0m\n\u001b[1;32m    312\u001b[0m                     )\n\u001b[1;32m    313\u001b[0m \u001b[0;34m\u001b[0m\u001b[0m\n\u001b[0;32m--> 314\u001b[0;31m                 \u001b[0mpipe\u001b[0m\u001b[0;34m.\u001b[0m\u001b[0mfit\u001b[0m\u001b[0;34m(\u001b[0m\u001b[0mX_train\u001b[0m\u001b[0;34m,\u001b[0m \u001b[0my_train\u001b[0m\u001b[0;34m)\u001b[0m\u001b[0;34m\u001b[0m\u001b[0;34m\u001b[0m\u001b[0m\n\u001b[0m\u001b[1;32m    315\u001b[0m                 \u001b[0mself\u001b[0m\u001b[0;34m.\u001b[0m\u001b[0mmodels\u001b[0m\u001b[0;34m[\u001b[0m\u001b[0mname\u001b[0m\u001b[0;34m]\u001b[0m \u001b[0;34m=\u001b[0m \u001b[0mpipe\u001b[0m\u001b[0;34m\u001b[0m\u001b[0;34m\u001b[0m\u001b[0m\n\u001b[1;32m    316\u001b[0m                 \u001b[0my_pred\u001b[0m \u001b[0;34m=\u001b[0m \u001b[0mpipe\u001b[0m\u001b[0;34m.\u001b[0m\u001b[0mpredict\u001b[0m\u001b[0;34m(\u001b[0m\u001b[0mX_test\u001b[0m\u001b[0;34m)\u001b[0m\u001b[0;34m\u001b[0m\u001b[0;34m\u001b[0m\u001b[0m\n",
      "\u001b[0;32m~/anaconda3/envs/PythonData/lib/python3.6/site-packages/sklearn/pipeline.py\u001b[0m in \u001b[0;36mfit\u001b[0;34m(self, X, y, **fit_params)\u001b[0m\n\u001b[1;32m    333\u001b[0m             \u001b[0;32mif\u001b[0m \u001b[0mself\u001b[0m\u001b[0;34m.\u001b[0m\u001b[0m_final_estimator\u001b[0m \u001b[0;34m!=\u001b[0m \u001b[0;34m'passthrough'\u001b[0m\u001b[0;34m:\u001b[0m\u001b[0;34m\u001b[0m\u001b[0;34m\u001b[0m\u001b[0m\n\u001b[1;32m    334\u001b[0m                 \u001b[0mfit_params_last_step\u001b[0m \u001b[0;34m=\u001b[0m \u001b[0mfit_params_steps\u001b[0m\u001b[0;34m[\u001b[0m\u001b[0mself\u001b[0m\u001b[0;34m.\u001b[0m\u001b[0msteps\u001b[0m\u001b[0;34m[\u001b[0m\u001b[0;34m-\u001b[0m\u001b[0;36m1\u001b[0m\u001b[0;34m]\u001b[0m\u001b[0;34m[\u001b[0m\u001b[0;36m0\u001b[0m\u001b[0;34m]\u001b[0m\u001b[0;34m]\u001b[0m\u001b[0;34m\u001b[0m\u001b[0;34m\u001b[0m\u001b[0m\n\u001b[0;32m--> 335\u001b[0;31m                 \u001b[0mself\u001b[0m\u001b[0;34m.\u001b[0m\u001b[0m_final_estimator\u001b[0m\u001b[0;34m.\u001b[0m\u001b[0mfit\u001b[0m\u001b[0;34m(\u001b[0m\u001b[0mXt\u001b[0m\u001b[0;34m,\u001b[0m \u001b[0my\u001b[0m\u001b[0;34m,\u001b[0m \u001b[0;34m**\u001b[0m\u001b[0mfit_params_last_step\u001b[0m\u001b[0;34m)\u001b[0m\u001b[0;34m\u001b[0m\u001b[0;34m\u001b[0m\u001b[0m\n\u001b[0m\u001b[1;32m    336\u001b[0m \u001b[0;34m\u001b[0m\u001b[0m\n\u001b[1;32m    337\u001b[0m         \u001b[0;32mreturn\u001b[0m \u001b[0mself\u001b[0m\u001b[0;34m\u001b[0m\u001b[0;34m\u001b[0m\u001b[0m\n",
      "\u001b[0;32m~/anaconda3/envs/PythonData/lib/python3.6/site-packages/sklearn/ensemble/_weight_boosting.py\u001b[0m in \u001b[0;36mfit\u001b[0;34m(self, X, y, sample_weight)\u001b[0m\n\u001b[1;32m    441\u001b[0m \u001b[0;34m\u001b[0m\u001b[0m\n\u001b[1;32m    442\u001b[0m         \u001b[0;31m# Fit\u001b[0m\u001b[0;34m\u001b[0m\u001b[0;34m\u001b[0m\u001b[0;34m\u001b[0m\u001b[0m\n\u001b[0;32m--> 443\u001b[0;31m         \u001b[0;32mreturn\u001b[0m \u001b[0msuper\u001b[0m\u001b[0;34m(\u001b[0m\u001b[0;34m)\u001b[0m\u001b[0;34m.\u001b[0m\u001b[0mfit\u001b[0m\u001b[0;34m(\u001b[0m\u001b[0mX\u001b[0m\u001b[0;34m,\u001b[0m \u001b[0my\u001b[0m\u001b[0;34m,\u001b[0m \u001b[0msample_weight\u001b[0m\u001b[0;34m)\u001b[0m\u001b[0;34m\u001b[0m\u001b[0;34m\u001b[0m\u001b[0m\n\u001b[0m\u001b[1;32m    444\u001b[0m \u001b[0;34m\u001b[0m\u001b[0m\n\u001b[1;32m    445\u001b[0m     \u001b[0;32mdef\u001b[0m \u001b[0m_validate_estimator\u001b[0m\u001b[0;34m(\u001b[0m\u001b[0mself\u001b[0m\u001b[0;34m)\u001b[0m\u001b[0;34m:\u001b[0m\u001b[0;34m\u001b[0m\u001b[0;34m\u001b[0m\u001b[0m\n",
      "\u001b[0;32m~/anaconda3/envs/PythonData/lib/python3.6/site-packages/sklearn/ensemble/_weight_boosting.py\u001b[0m in \u001b[0;36mfit\u001b[0;34m(self, X, y, sample_weight)\u001b[0m\n\u001b[1;32m    132\u001b[0m                 \u001b[0mX\u001b[0m\u001b[0;34m,\u001b[0m \u001b[0my\u001b[0m\u001b[0;34m,\u001b[0m\u001b[0;34m\u001b[0m\u001b[0;34m\u001b[0m\u001b[0m\n\u001b[1;32m    133\u001b[0m                 \u001b[0msample_weight\u001b[0m\u001b[0;34m,\u001b[0m\u001b[0;34m\u001b[0m\u001b[0;34m\u001b[0m\u001b[0m\n\u001b[0;32m--> 134\u001b[0;31m                 random_state)\n\u001b[0m\u001b[1;32m    135\u001b[0m \u001b[0;34m\u001b[0m\u001b[0m\n\u001b[1;32m    136\u001b[0m             \u001b[0;31m# Early termination\u001b[0m\u001b[0;34m\u001b[0m\u001b[0;34m\u001b[0m\u001b[0;34m\u001b[0m\u001b[0m\n",
      "\u001b[0;32m~/anaconda3/envs/PythonData/lib/python3.6/site-packages/sklearn/ensemble/_weight_boosting.py\u001b[0m in \u001b[0;36m_boost\u001b[0;34m(self, iboost, X, y, sample_weight, random_state)\u001b[0m\n\u001b[1;32m    501\u001b[0m         \"\"\"\n\u001b[1;32m    502\u001b[0m         \u001b[0;32mif\u001b[0m \u001b[0mself\u001b[0m\u001b[0;34m.\u001b[0m\u001b[0malgorithm\u001b[0m \u001b[0;34m==\u001b[0m \u001b[0;34m'SAMME.R'\u001b[0m\u001b[0;34m:\u001b[0m\u001b[0;34m\u001b[0m\u001b[0;34m\u001b[0m\u001b[0m\n\u001b[0;32m--> 503\u001b[0;31m             \u001b[0;32mreturn\u001b[0m \u001b[0mself\u001b[0m\u001b[0;34m.\u001b[0m\u001b[0m_boost_real\u001b[0m\u001b[0;34m(\u001b[0m\u001b[0miboost\u001b[0m\u001b[0;34m,\u001b[0m \u001b[0mX\u001b[0m\u001b[0;34m,\u001b[0m \u001b[0my\u001b[0m\u001b[0;34m,\u001b[0m \u001b[0msample_weight\u001b[0m\u001b[0;34m,\u001b[0m \u001b[0mrandom_state\u001b[0m\u001b[0;34m)\u001b[0m\u001b[0;34m\u001b[0m\u001b[0;34m\u001b[0m\u001b[0m\n\u001b[0m\u001b[1;32m    504\u001b[0m \u001b[0;34m\u001b[0m\u001b[0m\n\u001b[1;32m    505\u001b[0m         \u001b[0;32melse\u001b[0m\u001b[0;34m:\u001b[0m  \u001b[0;31m# elif self.algorithm == \"SAMME\":\u001b[0m\u001b[0;34m\u001b[0m\u001b[0;34m\u001b[0m\u001b[0m\n",
      "\u001b[0;32m~/anaconda3/envs/PythonData/lib/python3.6/site-packages/sklearn/ensemble/_weight_boosting.py\u001b[0m in \u001b[0;36m_boost_real\u001b[0;34m(self, iboost, X, y, sample_weight, random_state)\u001b[0m\n\u001b[1;32m    554\u001b[0m         estimator_weight = (-1. * self.learning_rate\n\u001b[1;32m    555\u001b[0m                             \u001b[0;34m*\u001b[0m \u001b[0;34m(\u001b[0m\u001b[0;34m(\u001b[0m\u001b[0mn_classes\u001b[0m \u001b[0;34m-\u001b[0m \u001b[0;36m1.\u001b[0m\u001b[0;34m)\u001b[0m \u001b[0;34m/\u001b[0m \u001b[0mn_classes\u001b[0m\u001b[0;34m)\u001b[0m\u001b[0;34m\u001b[0m\u001b[0;34m\u001b[0m\u001b[0m\n\u001b[0;32m--> 556\u001b[0;31m                             * xlogy(y_coding, y_predict_proba).sum(axis=1))\n\u001b[0m\u001b[1;32m    557\u001b[0m \u001b[0;34m\u001b[0m\u001b[0m\n\u001b[1;32m    558\u001b[0m         \u001b[0;31m# Only boost the weights if it will fit again\u001b[0m\u001b[0;34m\u001b[0m\u001b[0;34m\u001b[0m\u001b[0;34m\u001b[0m\u001b[0m\n",
      "\u001b[0;31mKeyboardInterrupt\u001b[0m: "
     ]
    }
   ],
   "source": [
    "from lazypredict.Supervised import LazyClassifier\n",
    "\n",
    "clf = LazyClassifier(verbose=0,ignore_warnings=False)\n",
    "models, predictions = clf.fit(X_train, X_test, y_train, y_test)\n",
    "models"
   ]
  },
  {
   "cell_type": "code",
   "execution_count": 4,
   "metadata": {},
   "outputs": [
    {
     "output_type": "stream",
     "name": "stdout",
     "text": [
      "1050.3136500240225\n"
     ]
    }
   ],
   "source": [
    "# monthly mortgage payments\n",
    "# price = float(ml_data['avg_sale_price'])\n",
    "price = float(220000)\n",
    "#Estimated 20% down\n",
    "down_payment = float(0)\n",
    "loan_amount = price*(1-down_payment/100)\n",
    "#Estimated 30 year loan\n",
    "loan_type = float(30)\n",
    "loan_term = int(12*loan_type)\n",
    "# interest_rate = float(ml_data['rate'])\n",
    "interest_rate = float(4)\n",
    "# Interest rate calculations\n",
    "R = 1 + (interest_rate)/(12*100)\n",
    "# Monthly Payment\n",
    "X = loan_amount*(R**loan_term)*(1-R)/(1-R**loan_term)\n",
    "F = X + (4000/12)\n",
    "print(X)"
   ]
  },
  {
   "cell_type": "code",
   "execution_count": null,
   "metadata": {},
   "outputs": [],
   "source": []
  }
 ]
}