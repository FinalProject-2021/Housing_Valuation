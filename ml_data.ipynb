{
 "metadata": {
  "language_info": {
   "codemirror_mode": {
    "name": "ipython",
    "version": 3
   },
   "file_extension": ".py",
   "mimetype": "text/x-python",
   "name": "python",
   "nbconvert_exporter": "python",
   "pygments_lexer": "ipython3",
   "version": "3.6.10"
  },
  "orig_nbformat": 2,
  "kernelspec": {
   "name": "python3610jvsc74a57bd0a7795a94fcb98f890ecfbefedba6c51e1f5a02e9905bd71b2049174ccd39ef45",
   "display_name": "Python 3.6.10 64-bit ('PythonData': conda)"
  }
 },
 "nbformat": 4,
 "nbformat_minor": 2,
 "cells": [
  {
   "cell_type": "code",
   "execution_count": 22,
   "metadata": {},
   "outputs": [],
   "source": [
    "import pandas as pd\n",
    "import numpy as np"
   ]
  },
  {
   "cell_type": "code",
   "execution_count": 23,
   "metadata": {},
   "outputs": [],
   "source": [
    "data=pd.read_csv(\"Resources/Final_Data.csv\")"
   ]
  },
  {
   "cell_type": "code",
   "execution_count": 24,
   "metadata": {},
   "outputs": [
    {
     "output_type": "execute_result",
     "data": {
      "text/plain": [
       "   Zip_Code        Date  Year  Month  Sale_Price  Interest_Rate  Property_Tax  \\\n",
       "0     32003  2019-01-01  2019      1    244950.0         4.4640          3778   \n",
       "1     32003  2019-02-01  2019      2    270000.0         4.3700          3778   \n",
       "2     32003  2019-03-01  2019      3    275000.0         4.2650          3778   \n",
       "3     32003  2019-04-01  2019      4    264500.0         4.1425          3778   \n",
       "4     32003  2019-05-01  2019      5    281000.0         4.0720          3778   \n",
       "\n",
       "   Rent_Price  Household_Income  Rent_Affordability  ...  FTE_Employed  \\\n",
       "0        1113           94154.0            0.141853  ...         10671   \n",
       "1        1113           94154.0            0.141853  ...         10671   \n",
       "2        1113           94154.0            0.141853  ...         10671   \n",
       "3        1113           94154.0            0.141853  ...         10671   \n",
       "4        1113           94154.0            0.141853  ...         10671   \n",
       "\n",
       "   Unemployed  Expense_Index  Average_Commute Crime_Index  Loan_Amount  \\\n",
       "0        1069            104               35          28     195960.0   \n",
       "1        1069            104               35          28     216000.0   \n",
       "2        1069            104               35          28     220000.0   \n",
       "3        1069            104               35          28     211600.0   \n",
       "4        1069            104               35          28     224800.0   \n",
       "\n",
       "   Loan_Term    Loan_R  Loan_Payment  Home_Affordability  \n",
       "0      360.0  1.003720    988.713278            0.126012  \n",
       "1      360.0  1.003642   1077.819242            0.137369  \n",
       "2      360.0  1.003554   1084.200547            0.138182  \n",
       "3      360.0  1.003452   1027.671397            0.130978  \n",
       "4      360.0  1.003393   1082.581718            0.137976  \n",
       "\n",
       "[5 rows x 29 columns]"
      ],
      "text/html": "<div>\n<style scoped>\n    .dataframe tbody tr th:only-of-type {\n        vertical-align: middle;\n    }\n\n    .dataframe tbody tr th {\n        vertical-align: top;\n    }\n\n    .dataframe thead th {\n        text-align: right;\n    }\n</style>\n<table border=\"1\" class=\"dataframe\">\n  <thead>\n    <tr style=\"text-align: right;\">\n      <th></th>\n      <th>Zip_Code</th>\n      <th>Date</th>\n      <th>Year</th>\n      <th>Month</th>\n      <th>Sale_Price</th>\n      <th>Interest_Rate</th>\n      <th>Property_Tax</th>\n      <th>Rent_Price</th>\n      <th>Household_Income</th>\n      <th>Rent_Affordability</th>\n      <th>...</th>\n      <th>FTE_Employed</th>\n      <th>Unemployed</th>\n      <th>Expense_Index</th>\n      <th>Average_Commute</th>\n      <th>Crime_Index</th>\n      <th>Loan_Amount</th>\n      <th>Loan_Term</th>\n      <th>Loan_R</th>\n      <th>Loan_Payment</th>\n      <th>Home_Affordability</th>\n    </tr>\n  </thead>\n  <tbody>\n    <tr>\n      <th>0</th>\n      <td>32003</td>\n      <td>2019-01-01</td>\n      <td>2019</td>\n      <td>1</td>\n      <td>244950.0</td>\n      <td>4.4640</td>\n      <td>3778</td>\n      <td>1113</td>\n      <td>94154.0</td>\n      <td>0.141853</td>\n      <td>...</td>\n      <td>10671</td>\n      <td>1069</td>\n      <td>104</td>\n      <td>35</td>\n      <td>28</td>\n      <td>195960.0</td>\n      <td>360.0</td>\n      <td>1.003720</td>\n      <td>988.713278</td>\n      <td>0.126012</td>\n    </tr>\n    <tr>\n      <th>1</th>\n      <td>32003</td>\n      <td>2019-02-01</td>\n      <td>2019</td>\n      <td>2</td>\n      <td>270000.0</td>\n      <td>4.3700</td>\n      <td>3778</td>\n      <td>1113</td>\n      <td>94154.0</td>\n      <td>0.141853</td>\n      <td>...</td>\n      <td>10671</td>\n      <td>1069</td>\n      <td>104</td>\n      <td>35</td>\n      <td>28</td>\n      <td>216000.0</td>\n      <td>360.0</td>\n      <td>1.003642</td>\n      <td>1077.819242</td>\n      <td>0.137369</td>\n    </tr>\n    <tr>\n      <th>2</th>\n      <td>32003</td>\n      <td>2019-03-01</td>\n      <td>2019</td>\n      <td>3</td>\n      <td>275000.0</td>\n      <td>4.2650</td>\n      <td>3778</td>\n      <td>1113</td>\n      <td>94154.0</td>\n      <td>0.141853</td>\n      <td>...</td>\n      <td>10671</td>\n      <td>1069</td>\n      <td>104</td>\n      <td>35</td>\n      <td>28</td>\n      <td>220000.0</td>\n      <td>360.0</td>\n      <td>1.003554</td>\n      <td>1084.200547</td>\n      <td>0.138182</td>\n    </tr>\n    <tr>\n      <th>3</th>\n      <td>32003</td>\n      <td>2019-04-01</td>\n      <td>2019</td>\n      <td>4</td>\n      <td>264500.0</td>\n      <td>4.1425</td>\n      <td>3778</td>\n      <td>1113</td>\n      <td>94154.0</td>\n      <td>0.141853</td>\n      <td>...</td>\n      <td>10671</td>\n      <td>1069</td>\n      <td>104</td>\n      <td>35</td>\n      <td>28</td>\n      <td>211600.0</td>\n      <td>360.0</td>\n      <td>1.003452</td>\n      <td>1027.671397</td>\n      <td>0.130978</td>\n    </tr>\n    <tr>\n      <th>4</th>\n      <td>32003</td>\n      <td>2019-05-01</td>\n      <td>2019</td>\n      <td>5</td>\n      <td>281000.0</td>\n      <td>4.0720</td>\n      <td>3778</td>\n      <td>1113</td>\n      <td>94154.0</td>\n      <td>0.141853</td>\n      <td>...</td>\n      <td>10671</td>\n      <td>1069</td>\n      <td>104</td>\n      <td>35</td>\n      <td>28</td>\n      <td>224800.0</td>\n      <td>360.0</td>\n      <td>1.003393</td>\n      <td>1082.581718</td>\n      <td>0.137976</td>\n    </tr>\n  </tbody>\n</table>\n<p>5 rows × 29 columns</p>\n</div>"
     },
     "metadata": {},
     "execution_count": 24
    }
   ],
   "source": [
    "data.head()"
   ]
  },
  {
   "cell_type": "code",
   "execution_count": 25,
   "metadata": {},
   "outputs": [
    {
     "output_type": "execute_result",
     "data": {
      "text/plain": [
       "21759    A\n",
       "21760    A\n",
       "21761    A\n",
       "21762    A\n",
       "21763    A\n",
       "Name: School_Grade, dtype: object"
      ]
     },
     "metadata": {},
     "execution_count": 25
    }
   ],
   "source": [
    "data[\"School_Grade\"].tail()"
   ]
  },
  {
   "cell_type": "code",
   "execution_count": 26,
   "metadata": {},
   "outputs": [
    {
     "output_type": "execute_result",
     "data": {
      "text/plain": [
       "Zip_Code                int64\n",
       "Date                   object\n",
       "Year                    int64\n",
       "Month                   int64\n",
       "Sale_Price            float64\n",
       "Interest_Rate         float64\n",
       "Property_Tax            int64\n",
       "Rent_Price              int64\n",
       "Household_Income      float64\n",
       "Rent_Affordability    float64\n",
       "Total_Sales             int64\n",
       "FHA_Count               int64\n",
       "Mobility_Rate         float64\n",
       "School_Rating           int64\n",
       "School_Grade           object\n",
       "Owner_Occupied          int64\n",
       "Renter_Occupied         int64\n",
       "Total_Vacant            int64\n",
       "Total_Dwellings         int64\n",
       "FTE_Employed            int64\n",
       "Unemployed              int64\n",
       "Expense_Index           int64\n",
       "Average_Commute         int64\n",
       "Crime_Index             int64\n",
       "Loan_Amount           float64\n",
       "Loan_Term             float64\n",
       "Loan_R                float64\n",
       "Loan_Payment          float64\n",
       "Home_Affordability    float64\n",
       "dtype: object"
      ]
     },
     "metadata": {},
     "execution_count": 26
    }
   ],
   "source": [
    "data.dtypes"
   ]
  },
  {
   "cell_type": "code",
   "execution_count": 27,
   "metadata": {},
   "outputs": [
    {
     "output_type": "stream",
     "name": "stdout",
     "text": [
      "<class 'pandas.core.frame.DataFrame'>\n"
     ]
    }
   ],
   "source": [
    "big_set_data = data.drop(columns = ['Date', 'Interest_Rate', 'School_Grade'])\n",
    "print(type(big_set_data))"
   ]
  },
  {
   "cell_type": "code",
   "execution_count": 28,
   "metadata": {},
   "outputs": [
    {
     "output_type": "execute_result",
     "data": {
      "text/plain": [
       "       Zip_Code  Year  Month  Sale_Price  Property_Tax  Rent_Price  \\\n",
       "0         32003  2019      1    244950.0          3778        1113   \n",
       "1         32003  2019      2    270000.0          3778        1113   \n",
       "2         32003  2019      3    275000.0          3778        1113   \n",
       "3         32003  2019      4    264500.0          3778        1113   \n",
       "4         32003  2019      5    281000.0          3778        1113   \n",
       "...         ...   ...    ...         ...           ...         ...   \n",
       "21759     34997  2020     10    285000.0          3067        1211   \n",
       "21760     34997  2020     11    259750.0          3067        1211   \n",
       "21761     34997  2020     11    259750.0          3067        1211   \n",
       "21762     34997  2020     12    297000.0          3067        1211   \n",
       "21763     34997  2020     12    297000.0          3067        1211   \n",
       "\n",
       "       Household_Income  Rent_Affordability  Total_Sales  FHA_Count  ...  \\\n",
       "0               94154.0            0.141853           32          7  ...   \n",
       "1               94154.0            0.141853           41          2  ...   \n",
       "2               94154.0            0.141853           21          7  ...   \n",
       "3               94154.0            0.141853           42          3  ...   \n",
       "4               94154.0            0.141853           66          8  ...   \n",
       "...                 ...                 ...          ...        ...  ...   \n",
       "21759           58789.0            0.247189          139         17  ...   \n",
       "21760           58789.0            0.247189          132         11  ...   \n",
       "21761           58789.0            0.247189          132         11  ...   \n",
       "21762           58789.0            0.247189          142         16  ...   \n",
       "21763           58789.0            0.247189          142         16  ...   \n",
       "\n",
       "       Average_Commute  Crime_Index  Loan_Amount  Loan_Term    Loan_R  \\\n",
       "0                   35           28     195960.0      360.0  1.003720   \n",
       "1                   35           28     216000.0      360.0  1.003642   \n",
       "2                   35           28     220000.0      360.0  1.003554   \n",
       "3                   35           28     211600.0      360.0  1.003452   \n",
       "4                   35           28     224800.0      360.0  1.003393   \n",
       "...                ...          ...          ...        ...       ...   \n",
       "21759               24          113     228000.0      360.0  1.002362   \n",
       "21760               24          113     207800.0      360.0  1.002304   \n",
       "21761               24          113     207800.0      360.0  1.002304   \n",
       "21762               24          113     237600.0      360.0  1.002237   \n",
       "21763               24          113     237600.0      360.0  1.002237   \n",
       "\n",
       "       Loan_Payment  Home_Affordability  Last_Month_Price  Last_Month_Diff  \\\n",
       "0        988.713278            0.126012               NaN              NaN   \n",
       "1       1077.819242            0.137369          244950.0          25050.0   \n",
       "2       1084.200547            0.138182          270000.0           5000.0   \n",
       "3       1027.671397            0.130978          275000.0         -10500.0   \n",
       "4       1082.581718            0.137976          264500.0          16500.0   \n",
       "...             ...                 ...               ...              ...   \n",
       "21759    940.965557            0.192070          285000.0              0.0   \n",
       "21760    849.977103            0.173497          285000.0         -25250.0   \n",
       "21761    849.977103            0.173497          259750.0              0.0   \n",
       "21762    961.694879            0.196301          259750.0          37250.0   \n",
       "21763    961.694879            0.196301          297000.0              0.0   \n",
       "\n",
       "       Price_Change_1mo  \n",
       "0                     0  \n",
       "1                     1  \n",
       "2                     1  \n",
       "3                     0  \n",
       "4                     1  \n",
       "...                 ...  \n",
       "21759                 0  \n",
       "21760                 0  \n",
       "21761                 0  \n",
       "21762                 1  \n",
       "21763                 0  \n",
       "\n",
       "[21764 rows x 29 columns]"
      ],
      "text/html": "<div>\n<style scoped>\n    .dataframe tbody tr th:only-of-type {\n        vertical-align: middle;\n    }\n\n    .dataframe tbody tr th {\n        vertical-align: top;\n    }\n\n    .dataframe thead th {\n        text-align: right;\n    }\n</style>\n<table border=\"1\" class=\"dataframe\">\n  <thead>\n    <tr style=\"text-align: right;\">\n      <th></th>\n      <th>Zip_Code</th>\n      <th>Year</th>\n      <th>Month</th>\n      <th>Sale_Price</th>\n      <th>Property_Tax</th>\n      <th>Rent_Price</th>\n      <th>Household_Income</th>\n      <th>Rent_Affordability</th>\n      <th>Total_Sales</th>\n      <th>FHA_Count</th>\n      <th>...</th>\n      <th>Average_Commute</th>\n      <th>Crime_Index</th>\n      <th>Loan_Amount</th>\n      <th>Loan_Term</th>\n      <th>Loan_R</th>\n      <th>Loan_Payment</th>\n      <th>Home_Affordability</th>\n      <th>Last_Month_Price</th>\n      <th>Last_Month_Diff</th>\n      <th>Price_Change_1mo</th>\n    </tr>\n  </thead>\n  <tbody>\n    <tr>\n      <th>0</th>\n      <td>32003</td>\n      <td>2019</td>\n      <td>1</td>\n      <td>244950.0</td>\n      <td>3778</td>\n      <td>1113</td>\n      <td>94154.0</td>\n      <td>0.141853</td>\n      <td>32</td>\n      <td>7</td>\n      <td>...</td>\n      <td>35</td>\n      <td>28</td>\n      <td>195960.0</td>\n      <td>360.0</td>\n      <td>1.003720</td>\n      <td>988.713278</td>\n      <td>0.126012</td>\n      <td>NaN</td>\n      <td>NaN</td>\n      <td>0</td>\n    </tr>\n    <tr>\n      <th>1</th>\n      <td>32003</td>\n      <td>2019</td>\n      <td>2</td>\n      <td>270000.0</td>\n      <td>3778</td>\n      <td>1113</td>\n      <td>94154.0</td>\n      <td>0.141853</td>\n      <td>41</td>\n      <td>2</td>\n      <td>...</td>\n      <td>35</td>\n      <td>28</td>\n      <td>216000.0</td>\n      <td>360.0</td>\n      <td>1.003642</td>\n      <td>1077.819242</td>\n      <td>0.137369</td>\n      <td>244950.0</td>\n      <td>25050.0</td>\n      <td>1</td>\n    </tr>\n    <tr>\n      <th>2</th>\n      <td>32003</td>\n      <td>2019</td>\n      <td>3</td>\n      <td>275000.0</td>\n      <td>3778</td>\n      <td>1113</td>\n      <td>94154.0</td>\n      <td>0.141853</td>\n      <td>21</td>\n      <td>7</td>\n      <td>...</td>\n      <td>35</td>\n      <td>28</td>\n      <td>220000.0</td>\n      <td>360.0</td>\n      <td>1.003554</td>\n      <td>1084.200547</td>\n      <td>0.138182</td>\n      <td>270000.0</td>\n      <td>5000.0</td>\n      <td>1</td>\n    </tr>\n    <tr>\n      <th>3</th>\n      <td>32003</td>\n      <td>2019</td>\n      <td>4</td>\n      <td>264500.0</td>\n      <td>3778</td>\n      <td>1113</td>\n      <td>94154.0</td>\n      <td>0.141853</td>\n      <td>42</td>\n      <td>3</td>\n      <td>...</td>\n      <td>35</td>\n      <td>28</td>\n      <td>211600.0</td>\n      <td>360.0</td>\n      <td>1.003452</td>\n      <td>1027.671397</td>\n      <td>0.130978</td>\n      <td>275000.0</td>\n      <td>-10500.0</td>\n      <td>0</td>\n    </tr>\n    <tr>\n      <th>4</th>\n      <td>32003</td>\n      <td>2019</td>\n      <td>5</td>\n      <td>281000.0</td>\n      <td>3778</td>\n      <td>1113</td>\n      <td>94154.0</td>\n      <td>0.141853</td>\n      <td>66</td>\n      <td>8</td>\n      <td>...</td>\n      <td>35</td>\n      <td>28</td>\n      <td>224800.0</td>\n      <td>360.0</td>\n      <td>1.003393</td>\n      <td>1082.581718</td>\n      <td>0.137976</td>\n      <td>264500.0</td>\n      <td>16500.0</td>\n      <td>1</td>\n    </tr>\n    <tr>\n      <th>...</th>\n      <td>...</td>\n      <td>...</td>\n      <td>...</td>\n      <td>...</td>\n      <td>...</td>\n      <td>...</td>\n      <td>...</td>\n      <td>...</td>\n      <td>...</td>\n      <td>...</td>\n      <td>...</td>\n      <td>...</td>\n      <td>...</td>\n      <td>...</td>\n      <td>...</td>\n      <td>...</td>\n      <td>...</td>\n      <td>...</td>\n      <td>...</td>\n      <td>...</td>\n      <td>...</td>\n    </tr>\n    <tr>\n      <th>21759</th>\n      <td>34997</td>\n      <td>2020</td>\n      <td>10</td>\n      <td>285000.0</td>\n      <td>3067</td>\n      <td>1211</td>\n      <td>58789.0</td>\n      <td>0.247189</td>\n      <td>139</td>\n      <td>17</td>\n      <td>...</td>\n      <td>24</td>\n      <td>113</td>\n      <td>228000.0</td>\n      <td>360.0</td>\n      <td>1.002362</td>\n      <td>940.965557</td>\n      <td>0.192070</td>\n      <td>285000.0</td>\n      <td>0.0</td>\n      <td>0</td>\n    </tr>\n    <tr>\n      <th>21760</th>\n      <td>34997</td>\n      <td>2020</td>\n      <td>11</td>\n      <td>259750.0</td>\n      <td>3067</td>\n      <td>1211</td>\n      <td>58789.0</td>\n      <td>0.247189</td>\n      <td>132</td>\n      <td>11</td>\n      <td>...</td>\n      <td>24</td>\n      <td>113</td>\n      <td>207800.0</td>\n      <td>360.0</td>\n      <td>1.002304</td>\n      <td>849.977103</td>\n      <td>0.173497</td>\n      <td>285000.0</td>\n      <td>-25250.0</td>\n      <td>0</td>\n    </tr>\n    <tr>\n      <th>21761</th>\n      <td>34997</td>\n      <td>2020</td>\n      <td>11</td>\n      <td>259750.0</td>\n      <td>3067</td>\n      <td>1211</td>\n      <td>58789.0</td>\n      <td>0.247189</td>\n      <td>132</td>\n      <td>11</td>\n      <td>...</td>\n      <td>24</td>\n      <td>113</td>\n      <td>207800.0</td>\n      <td>360.0</td>\n      <td>1.002304</td>\n      <td>849.977103</td>\n      <td>0.173497</td>\n      <td>259750.0</td>\n      <td>0.0</td>\n      <td>0</td>\n    </tr>\n    <tr>\n      <th>21762</th>\n      <td>34997</td>\n      <td>2020</td>\n      <td>12</td>\n      <td>297000.0</td>\n      <td>3067</td>\n      <td>1211</td>\n      <td>58789.0</td>\n      <td>0.247189</td>\n      <td>142</td>\n      <td>16</td>\n      <td>...</td>\n      <td>24</td>\n      <td>113</td>\n      <td>237600.0</td>\n      <td>360.0</td>\n      <td>1.002237</td>\n      <td>961.694879</td>\n      <td>0.196301</td>\n      <td>259750.0</td>\n      <td>37250.0</td>\n      <td>1</td>\n    </tr>\n    <tr>\n      <th>21763</th>\n      <td>34997</td>\n      <td>2020</td>\n      <td>12</td>\n      <td>297000.0</td>\n      <td>3067</td>\n      <td>1211</td>\n      <td>58789.0</td>\n      <td>0.247189</td>\n      <td>142</td>\n      <td>16</td>\n      <td>...</td>\n      <td>24</td>\n      <td>113</td>\n      <td>237600.0</td>\n      <td>360.0</td>\n      <td>1.002237</td>\n      <td>961.694879</td>\n      <td>0.196301</td>\n      <td>297000.0</td>\n      <td>0.0</td>\n      <td>0</td>\n    </tr>\n  </tbody>\n</table>\n<p>21764 rows × 29 columns</p>\n</div>"
     },
     "metadata": {},
     "execution_count": 28
    }
   ],
   "source": [
    "big_set_data['Last_Month_Price'] = big_set_data.groupby(['Zip_Code'])['Sale_Price'].shift()\n",
    "\n",
    "\n",
    "\n",
    "price_difference = []\n",
    "\n",
    "# for (Sale_Price, Last_Month_Price) in test.iteritems():\n",
    "#     # sale = row.Sale_Price\n",
    "#     # last = row.Last_Month_Price\n",
    "#     price_difference.append(row)\n",
    "\n",
    "for column in big_set_data[['Sale_Price', 'Last_Month_Price']]:\n",
    "   # Select column contents by column name using [] operator\n",
    "    current_sales = big_set_data['Sale_Price'].values\n",
    "    last_sales = big_set_data['Last_Month_Price'].values\n",
    "    price_difference.append(current_sales-last_sales)\n",
    "\n",
    "big_set_data['Last_Month_Diff'] = price_difference[0]\n",
    "\n",
    "price_change = []\n",
    "\n",
    "for row in big_set_data['Last_Month_Diff']:\n",
    "    if row > 0:\n",
    "        price_change.append(1)\n",
    "    else:\n",
    "        price_change.append(0)\n",
    "big_set_data['Price_Change_1mo'] = price_change\n",
    "\n",
    "big_set_data"
   ]
  },
  {
   "cell_type": "code",
   "execution_count": 30,
   "metadata": {},
   "outputs": [],
   "source": [
    "big_set_data.dropna(inplace=True)\n"
   ]
  },
  {
   "cell_type": "code",
   "execution_count": 33,
   "metadata": {},
   "outputs": [],
   "source": [
    "big_set_data.to_csv('big_set_data.csv')"
   ]
  },
  {
   "cell_type": "code",
   "execution_count": 32,
   "metadata": {},
   "outputs": [
    {
     "output_type": "execute_result",
     "data": {
      "text/plain": [
       "   Zip_Code  Year  Month  Sale_Price  Property_Tax  Rent_Price  \\\n",
       "1     32003  2019      2    270000.0          3778        1113   \n",
       "2     32003  2019      3    275000.0          3778        1113   \n",
       "3     32003  2019      4    264500.0          3778        1113   \n",
       "4     32003  2019      5    281000.0          3778        1113   \n",
       "5     32003  2019      6    275000.0          3778        1113   \n",
       "\n",
       "   Household_Income  Rent_Affordability  Total_Sales  FHA_Count  ...  \\\n",
       "1           94154.0            0.141853           41          2  ...   \n",
       "2           94154.0            0.141853           21          7  ...   \n",
       "3           94154.0            0.141853           42          3  ...   \n",
       "4           94154.0            0.141853           66          8  ...   \n",
       "5           94154.0            0.141853           43          3  ...   \n",
       "\n",
       "   Average_Commute  Crime_Index  Loan_Amount  Loan_Term    Loan_R  \\\n",
       "1               35           28     216000.0      360.0  1.003642   \n",
       "2               35           28     220000.0      360.0  1.003554   \n",
       "3               35           28     211600.0      360.0  1.003452   \n",
       "4               35           28     224800.0      360.0  1.003393   \n",
       "5               35           28     220000.0      360.0  1.003169   \n",
       "\n",
       "   Loan_Payment  Home_Affordability  Last_Month_Price  Last_Month_Diff  \\\n",
       "1   1077.819242            0.137369          244950.0          25050.0   \n",
       "2   1084.200547            0.138182          270000.0           5000.0   \n",
       "3   1027.671397            0.130978          275000.0         -10500.0   \n",
       "4   1082.581718            0.137976          264500.0          16500.0   \n",
       "5   1025.419293            0.130690          281000.0          -6000.0   \n",
       "\n",
       "   Price_Change_1mo  \n",
       "1                 1  \n",
       "2                 1  \n",
       "3                 0  \n",
       "4                 1  \n",
       "5                 0  \n",
       "\n",
       "[5 rows x 29 columns]"
      ],
      "text/html": "<div>\n<style scoped>\n    .dataframe tbody tr th:only-of-type {\n        vertical-align: middle;\n    }\n\n    .dataframe tbody tr th {\n        vertical-align: top;\n    }\n\n    .dataframe thead th {\n        text-align: right;\n    }\n</style>\n<table border=\"1\" class=\"dataframe\">\n  <thead>\n    <tr style=\"text-align: right;\">\n      <th></th>\n      <th>Zip_Code</th>\n      <th>Year</th>\n      <th>Month</th>\n      <th>Sale_Price</th>\n      <th>Property_Tax</th>\n      <th>Rent_Price</th>\n      <th>Household_Income</th>\n      <th>Rent_Affordability</th>\n      <th>Total_Sales</th>\n      <th>FHA_Count</th>\n      <th>...</th>\n      <th>Average_Commute</th>\n      <th>Crime_Index</th>\n      <th>Loan_Amount</th>\n      <th>Loan_Term</th>\n      <th>Loan_R</th>\n      <th>Loan_Payment</th>\n      <th>Home_Affordability</th>\n      <th>Last_Month_Price</th>\n      <th>Last_Month_Diff</th>\n      <th>Price_Change_1mo</th>\n    </tr>\n  </thead>\n  <tbody>\n    <tr>\n      <th>1</th>\n      <td>32003</td>\n      <td>2019</td>\n      <td>2</td>\n      <td>270000.0</td>\n      <td>3778</td>\n      <td>1113</td>\n      <td>94154.0</td>\n      <td>0.141853</td>\n      <td>41</td>\n      <td>2</td>\n      <td>...</td>\n      <td>35</td>\n      <td>28</td>\n      <td>216000.0</td>\n      <td>360.0</td>\n      <td>1.003642</td>\n      <td>1077.819242</td>\n      <td>0.137369</td>\n      <td>244950.0</td>\n      <td>25050.0</td>\n      <td>1</td>\n    </tr>\n    <tr>\n      <th>2</th>\n      <td>32003</td>\n      <td>2019</td>\n      <td>3</td>\n      <td>275000.0</td>\n      <td>3778</td>\n      <td>1113</td>\n      <td>94154.0</td>\n      <td>0.141853</td>\n      <td>21</td>\n      <td>7</td>\n      <td>...</td>\n      <td>35</td>\n      <td>28</td>\n      <td>220000.0</td>\n      <td>360.0</td>\n      <td>1.003554</td>\n      <td>1084.200547</td>\n      <td>0.138182</td>\n      <td>270000.0</td>\n      <td>5000.0</td>\n      <td>1</td>\n    </tr>\n    <tr>\n      <th>3</th>\n      <td>32003</td>\n      <td>2019</td>\n      <td>4</td>\n      <td>264500.0</td>\n      <td>3778</td>\n      <td>1113</td>\n      <td>94154.0</td>\n      <td>0.141853</td>\n      <td>42</td>\n      <td>3</td>\n      <td>...</td>\n      <td>35</td>\n      <td>28</td>\n      <td>211600.0</td>\n      <td>360.0</td>\n      <td>1.003452</td>\n      <td>1027.671397</td>\n      <td>0.130978</td>\n      <td>275000.0</td>\n      <td>-10500.0</td>\n      <td>0</td>\n    </tr>\n    <tr>\n      <th>4</th>\n      <td>32003</td>\n      <td>2019</td>\n      <td>5</td>\n      <td>281000.0</td>\n      <td>3778</td>\n      <td>1113</td>\n      <td>94154.0</td>\n      <td>0.141853</td>\n      <td>66</td>\n      <td>8</td>\n      <td>...</td>\n      <td>35</td>\n      <td>28</td>\n      <td>224800.0</td>\n      <td>360.0</td>\n      <td>1.003393</td>\n      <td>1082.581718</td>\n      <td>0.137976</td>\n      <td>264500.0</td>\n      <td>16500.0</td>\n      <td>1</td>\n    </tr>\n    <tr>\n      <th>5</th>\n      <td>32003</td>\n      <td>2019</td>\n      <td>6</td>\n      <td>275000.0</td>\n      <td>3778</td>\n      <td>1113</td>\n      <td>94154.0</td>\n      <td>0.141853</td>\n      <td>43</td>\n      <td>3</td>\n      <td>...</td>\n      <td>35</td>\n      <td>28</td>\n      <td>220000.0</td>\n      <td>360.0</td>\n      <td>1.003169</td>\n      <td>1025.419293</td>\n      <td>0.130690</td>\n      <td>281000.0</td>\n      <td>-6000.0</td>\n      <td>0</td>\n    </tr>\n  </tbody>\n</table>\n<p>5 rows × 29 columns</p>\n</div>"
     },
     "metadata": {},
     "execution_count": 32
    }
   ],
   "source": [
    "big_set_data.head()"
   ]
  },
  {
   "cell_type": "code",
   "execution_count": null,
   "metadata": {},
   "outputs": [],
   "source": [
    "# Compare to available high and low median sales prices in time available\n"
   ]
  },
  {
   "cell_type": "code",
   "execution_count": null,
   "metadata": {},
   "outputs": [],
   "source": [
    "# Compute time since available high and low median sales prices in time available\n"
   ]
  }
 ]
}