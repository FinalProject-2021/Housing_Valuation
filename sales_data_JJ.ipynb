{
 "metadata": {
  "language_info": {
   "codemirror_mode": {
    "name": "ipython",
    "version": 3
   },
   "file_extension": ".py",
   "mimetype": "text/x-python",
   "name": "python",
   "nbconvert_exporter": "python",
   "pygments_lexer": "ipython3",
   "version": "3.6.10"
  },
  "orig_nbformat": 2,
  "kernelspec": {
   "name": "python3610jvsc74a57bd0832a58595f549721e5808a4f038b9464c2d8e6e19db5e8e2fb21cf5b549373c5",
   "display_name": "Python 3.6.10 64-bit ('PythonData': conda)"
  }
 },
 "nbformat": 4,
 "nbformat_minor": 2,
 "cells": [
  {
   "cell_type": "code",
   "execution_count": 100,
   "metadata": {},
   "outputs": [],
   "source": [
    "# Dependencies and Setup\n",
    "import matplotlib.pyplot as plt\n",
    "import pandas as pd\n",
    "import numpy as np\n",
    "import requests\n",
    "import time\n",
    "from scipy.stats import linregress\n",
    "from datetime import datetime\n",
    "from itertools import accumulate\n",
    "\n",
    "# Import API key\n",
    "from config import ATTOM_API"
   ]
  },
  {
   "cell_type": "code",
   "execution_count": 101,
   "metadata": {},
   "outputs": [],
   "source": [
    "fl_census_data = pd.read_csv('Resources/ACSST5Y2019.S1901_data_with_overlays_2021-05-24T165952.csv', header=1)\n",
    "fl_codes = []\n",
    "\n",
    "for i,j in fl_census_data.iterrows():\n",
    "    fl_codes.append(j['Geographic Area Name'][6:11])\n",
    "\n",
    "len(fl_codes)\n",
    "\n",
    "zip_code_split = [123,123,123,123,123,123,123,123]\n",
    "\n",
    "zip_codes = [list(islice(fl_codes, elem))\n",
    "            for elem in zip_code_split]"
   ]
  },
  {
   "cell_type": "code",
   "execution_count": 102,
   "metadata": {},
   "outputs": [
    {
     "output_type": "stream",
     "name": "stdout",
     "text": [
      "['32003', '32008', '32009', '32011', '32024', '32025', '32026', '32033', '32034', '32038', '32040', '32043', '32044', '32046', '32052', '32053', '32054', '32055', '32058', '32059', '32060', '32061', '32062', '32063', '32064', '32065', '32066', '32068', '32071', '32072', '32073', '32079', '32080', '32081', '32082', '32083', '32084', '32086', '32087', '32091', '32092', '32094', '32095', '32096', '32097', '32102', '32110', '32112', '32113', '32114', '32117', '32118', '32119', '32124', '32127', '32128', '32129', '32130', '32131', '32132', '32133', '32134', '32136', '32137', '32139', '32140', '32141', '32145', '32147', '32148', '32157', '32159', '32162', '32164', '32168', '32169', '32174', '32176', '32177', '32179', '32180', '32181', '32187', '32189', '32190', '32193', '32195', '32202', '32204', '32205', '32206', '32207', '32208', '32209', '32210', '32211', '32212', '32216', '32217', '32218', '32219', '32220', '32221', '32222', '32223', '32224', '32225', '32226', '32227', '32228', '32233', '32234', '32244', '32246', '32250', '32254', '32256', '32257', '32258', '32259', '32266', '32277', '32301']\n"
     ]
    }
   ],
   "source": [
    "print(zip_codes[0])"
   ]
  },
  {
   "cell_type": "code",
   "execution_count": 103,
   "metadata": {},
   "outputs": [
    {
     "output_type": "stream",
     "name": "stdout",
     "text": [
      "123\n"
     ]
    }
   ],
   "source": [
    "count = 0\n",
    "for zip in zip_codes[0]:\n",
    "    count += 1\n",
    "\n",
    "print(count)"
   ]
  },
  {
   "cell_type": "code",
   "execution_count": 104,
   "metadata": {},
   "outputs": [],
   "source": [
    "# Read in historical mortgage rate\n",
    "mortgage_data = pd.read_csv('Resources/morgage_rates.csv')\n",
    "year_mortgage = []\n",
    "month_mortgage = []\n",
    "mortgage_rate = []\n",
    "\n",
    "# Loop to limit data for 2019 & 2020\n",
    "for i,j in mortgage_data.iterrows():\n",
    "    if j['DATE']>='2019%' and j['DATE']<'2021%':\n",
    "        year_mortgage.append(pd.to_datetime(j['DATE']).year)\n",
    "        month_mortgage.append(pd.to_datetime(j['DATE']).month)\n",
    "        mortgage_rate.append(j['MORTGAGE30US'])\n",
    "\n",
    "\n",
    "# Create mortgage rate DF grouped by year and month to get the mean\n",
    "mortgage_rates = pd.DataFrame({\"year\":year_mortgage, \"month\":month_mortgage, \n",
    "                        \"mortgage_rate\":mortgage_rate}).groupby(['year', 'month'])\n",
    "\n",
    "# Export csv of calculated monthly rates\n",
    "mortgage_rates.mean().to_csv('Resources/monthly_morgage_rates.csv')"
   ]
  },
  {
   "cell_type": "code",
   "execution_count": 155,
   "metadata": {},
   "outputs": [
    {
     "output_type": "execute_result",
     "data": {
      "text/plain": [
       "   zipcode  year  month  total_sales  avg_sale_price  med_sale_price\n",
       "0    32608  2019      1           50        353490.0        153550.0\n",
       "1    32608  2019      3           42        224033.0        163500.0\n",
       "2    32608  2019      4           95        218566.0        184300.0\n",
       "3    32608  2019      5          102        221271.0        174950.0\n",
       "4    32608  2019      6           91        229545.0        171000.0\n",
       "..     ...   ...    ...          ...             ...             ...\n",
       "67   32603  2020      8            3        400767.0        375000.0\n",
       "68   32603  2020      9            2        298506.0        298506.0\n",
       "69   32603  2020     10            5        365200.0        351000.0\n",
       "70   32603  2020     11            5        336500.0        350000.0\n",
       "71   32603  2020     12            4        508000.0        483500.0\n",
       "\n",
       "[72 rows x 6 columns]"
      ],
      "text/html": "<div>\n<style scoped>\n    .dataframe tbody tr th:only-of-type {\n        vertical-align: middle;\n    }\n\n    .dataframe tbody tr th {\n        vertical-align: top;\n    }\n\n    .dataframe thead th {\n        text-align: right;\n    }\n</style>\n<table border=\"1\" class=\"dataframe\">\n  <thead>\n    <tr style=\"text-align: right;\">\n      <th></th>\n      <th>zipcode</th>\n      <th>year</th>\n      <th>month</th>\n      <th>total_sales</th>\n      <th>avg_sale_price</th>\n      <th>med_sale_price</th>\n    </tr>\n  </thead>\n  <tbody>\n    <tr>\n      <th>0</th>\n      <td>32608</td>\n      <td>2019</td>\n      <td>1</td>\n      <td>50</td>\n      <td>353490.0</td>\n      <td>153550.0</td>\n    </tr>\n    <tr>\n      <th>1</th>\n      <td>32608</td>\n      <td>2019</td>\n      <td>3</td>\n      <td>42</td>\n      <td>224033.0</td>\n      <td>163500.0</td>\n    </tr>\n    <tr>\n      <th>2</th>\n      <td>32608</td>\n      <td>2019</td>\n      <td>4</td>\n      <td>95</td>\n      <td>218566.0</td>\n      <td>184300.0</td>\n    </tr>\n    <tr>\n      <th>3</th>\n      <td>32608</td>\n      <td>2019</td>\n      <td>5</td>\n      <td>102</td>\n      <td>221271.0</td>\n      <td>174950.0</td>\n    </tr>\n    <tr>\n      <th>4</th>\n      <td>32608</td>\n      <td>2019</td>\n      <td>6</td>\n      <td>91</td>\n      <td>229545.0</td>\n      <td>171000.0</td>\n    </tr>\n    <tr>\n      <th>...</th>\n      <td>...</td>\n      <td>...</td>\n      <td>...</td>\n      <td>...</td>\n      <td>...</td>\n      <td>...</td>\n    </tr>\n    <tr>\n      <th>67</th>\n      <td>32603</td>\n      <td>2020</td>\n      <td>8</td>\n      <td>3</td>\n      <td>400767.0</td>\n      <td>375000.0</td>\n    </tr>\n    <tr>\n      <th>68</th>\n      <td>32603</td>\n      <td>2020</td>\n      <td>9</td>\n      <td>2</td>\n      <td>298506.0</td>\n      <td>298506.0</td>\n    </tr>\n    <tr>\n      <th>69</th>\n      <td>32603</td>\n      <td>2020</td>\n      <td>10</td>\n      <td>5</td>\n      <td>365200.0</td>\n      <td>351000.0</td>\n    </tr>\n    <tr>\n      <th>70</th>\n      <td>32603</td>\n      <td>2020</td>\n      <td>11</td>\n      <td>5</td>\n      <td>336500.0</td>\n      <td>350000.0</td>\n    </tr>\n    <tr>\n      <th>71</th>\n      <td>32603</td>\n      <td>2020</td>\n      <td>12</td>\n      <td>4</td>\n      <td>508000.0</td>\n      <td>483500.0</td>\n    </tr>\n  </tbody>\n</table>\n<p>72 rows × 6 columns</p>\n</div>"
     },
     "metadata": {},
     "execution_count": 155
    }
   ],
   "source": [
    "# Establish API URL\n",
    "property_url = \"https://api.gateway.attomdata.com/propertyapi/v1.0.0/\"\n",
    "\n",
    "sales_trend = \"salestrend/snapshot?geoid=ZI\"\n",
    "\n",
    "sales_trend_dates = \"&interval=monthly&startyear=2019&endyear=2020&startmonth=january&endmonth=december\"\n",
    "\n",
    "headers = {'Accept': 'application/json', 'apikey': ATTOM_API}\n",
    "\n",
    "test_zip = ['32608','32601', '32603']\n",
    "\n",
    "# Establish variable for information desired\n",
    "year = []\n",
    "month = []\n",
    "zip_code_sales = []\n",
    "total_sales = []\n",
    "average_price = []\n",
    "median_price = []\n",
    "sales_no_data = []\n",
    "\n",
    "for code in test_zip:\n",
    "    # Make API call\n",
    "    sales_response = requests.post( f'{property_url}{sales_trend}{code}{sales_trend_dates}',\n",
    "                                    headers = headers)\n",
    "    \n",
    "    if sales_response.status_code != 200:\n",
    "        sales_no_data.append(area_response.url)\n",
    "    else:\n",
    "        sales = sales_response.json()\n",
    "\n",
    "    # Loop through API data and append to variables\n",
    "    for i in sales['salestrends']:\n",
    "        year.append(pd.to_datetime(i['daterange']['start']).year)\n",
    "        month.append(pd.to_datetime(i['daterange']['start']).month)\n",
    "        zip_code_sales.append(i['location']['geoID'][2:7])\n",
    "        total_sales.append(i['SalesTrend']['homesalecount'])\n",
    "        average_price.append(i['SalesTrend']['avgsaleprice'])\n",
    "        median_price.append(i['SalesTrend']['medsaleprice'])\n",
    "        \n",
    "    # Set delay based on API call limitations\n",
    "    time.sleep(7)\n",
    "\n",
    "# Create new DF with data\n",
    "sales_data = pd.DataFrame({\"zipcode\": zip_code_sales, \"year\":year, \"month\":month, \n",
    "                        \"total_sales\":total_sales, \"avg_sale_price\":average_price,\n",
    "                        \"med_sale_price\":median_price})\n",
    "\n",
    "sales_data"
   ]
  },
  {
   "cell_type": "code",
   "execution_count": 110,
   "metadata": {},
   "outputs": [
    {
     "output_type": "execute_result",
     "data": {
      "text/plain": [
       "   zipcode  year  month  total_sales  avg_sale_price  med_sale_price  \\\n",
       "0    32608  2019      1           50        353490.0        153550.0   \n",
       "1    32601  2019      1           17        148412.0        105000.0   \n",
       "2    32603  2019      1            5        255607.0        270000.0   \n",
       "3    32608  2019      3           42        224033.0        163500.0   \n",
       "4    32601  2019      3           18        194111.0        183750.0   \n",
       "..     ...   ...    ...          ...             ...             ...   \n",
       "67   32601  2020     11           14        265121.0        220000.0   \n",
       "68   32603  2020     11            5        336500.0        350000.0   \n",
       "69   32608  2020     12           79        232935.0        221000.0   \n",
       "70   32601  2020     12           15        208810.0        159900.0   \n",
       "71   32603  2020     12            4        508000.0        483500.0   \n",
       "\n",
       "    mortgage_rate  \n",
       "0           4.464  \n",
       "1           4.464  \n",
       "2           4.464  \n",
       "3           4.265  \n",
       "4           4.265  \n",
       "..            ...  \n",
       "67          2.765  \n",
       "68          2.765  \n",
       "69          2.684  \n",
       "70          2.684  \n",
       "71          2.684  \n",
       "\n",
       "[72 rows x 7 columns]"
      ],
      "text/html": "<div>\n<style scoped>\n    .dataframe tbody tr th:only-of-type {\n        vertical-align: middle;\n    }\n\n    .dataframe tbody tr th {\n        vertical-align: top;\n    }\n\n    .dataframe thead th {\n        text-align: right;\n    }\n</style>\n<table border=\"1\" class=\"dataframe\">\n  <thead>\n    <tr style=\"text-align: right;\">\n      <th></th>\n      <th>zipcode</th>\n      <th>year</th>\n      <th>month</th>\n      <th>total_sales</th>\n      <th>avg_sale_price</th>\n      <th>med_sale_price</th>\n      <th>mortgage_rate</th>\n    </tr>\n  </thead>\n  <tbody>\n    <tr>\n      <th>0</th>\n      <td>32608</td>\n      <td>2019</td>\n      <td>1</td>\n      <td>50</td>\n      <td>353490.0</td>\n      <td>153550.0</td>\n      <td>4.464</td>\n    </tr>\n    <tr>\n      <th>1</th>\n      <td>32601</td>\n      <td>2019</td>\n      <td>1</td>\n      <td>17</td>\n      <td>148412.0</td>\n      <td>105000.0</td>\n      <td>4.464</td>\n    </tr>\n    <tr>\n      <th>2</th>\n      <td>32603</td>\n      <td>2019</td>\n      <td>1</td>\n      <td>5</td>\n      <td>255607.0</td>\n      <td>270000.0</td>\n      <td>4.464</td>\n    </tr>\n    <tr>\n      <th>3</th>\n      <td>32608</td>\n      <td>2019</td>\n      <td>3</td>\n      <td>42</td>\n      <td>224033.0</td>\n      <td>163500.0</td>\n      <td>4.265</td>\n    </tr>\n    <tr>\n      <th>4</th>\n      <td>32601</td>\n      <td>2019</td>\n      <td>3</td>\n      <td>18</td>\n      <td>194111.0</td>\n      <td>183750.0</td>\n      <td>4.265</td>\n    </tr>\n    <tr>\n      <th>...</th>\n      <td>...</td>\n      <td>...</td>\n      <td>...</td>\n      <td>...</td>\n      <td>...</td>\n      <td>...</td>\n      <td>...</td>\n    </tr>\n    <tr>\n      <th>67</th>\n      <td>32601</td>\n      <td>2020</td>\n      <td>11</td>\n      <td>14</td>\n      <td>265121.0</td>\n      <td>220000.0</td>\n      <td>2.765</td>\n    </tr>\n    <tr>\n      <th>68</th>\n      <td>32603</td>\n      <td>2020</td>\n      <td>11</td>\n      <td>5</td>\n      <td>336500.0</td>\n      <td>350000.0</td>\n      <td>2.765</td>\n    </tr>\n    <tr>\n      <th>69</th>\n      <td>32608</td>\n      <td>2020</td>\n      <td>12</td>\n      <td>79</td>\n      <td>232935.0</td>\n      <td>221000.0</td>\n      <td>2.684</td>\n    </tr>\n    <tr>\n      <th>70</th>\n      <td>32601</td>\n      <td>2020</td>\n      <td>12</td>\n      <td>15</td>\n      <td>208810.0</td>\n      <td>159900.0</td>\n      <td>2.684</td>\n    </tr>\n    <tr>\n      <th>71</th>\n      <td>32603</td>\n      <td>2020</td>\n      <td>12</td>\n      <td>4</td>\n      <td>508000.0</td>\n      <td>483500.0</td>\n      <td>2.684</td>\n    </tr>\n  </tbody>\n</table>\n<p>72 rows × 7 columns</p>\n</div>"
     },
     "metadata": {},
     "execution_count": 110
    }
   ],
   "source": [
    "rates = pd.read_csv('Resources/monthly_morgage_rates.csv')\n",
    "\n",
    "final_sales = pd.merge(sales_data, rates, on=['year','month'])\n",
    "\n",
    "final_sales"
   ]
  },
  {
   "cell_type": "code",
   "execution_count": 179,
   "metadata": {},
   "outputs": [
    {
     "output_type": "execute_result",
     "data": {
      "text/plain": [
       "  zipcode property_tax owner_occupied renter_occupied total_vacant  \\\n",
       "0   32608         3629           9028           13308         2920   \n",
       "1   32601         2350           2101            6151         1125   \n",
       "2   32603         4152            393            1769          209   \n",
       "\n",
       "  total_dwellings studio_rent one_bed_rent two_bed_rent three_bed_rent  \\\n",
       "0           25256         805          897         1083           1415   \n",
       "1            9377         805          897         1083           1415   \n",
       "2            2371         805          897         1083           1415   \n",
       "\n",
       "  four_bed_rent  \n",
       "0          1469  \n",
       "1          1469  \n",
       "2          1469  "
      ],
      "text/html": "<div>\n<style scoped>\n    .dataframe tbody tr th:only-of-type {\n        vertical-align: middle;\n    }\n\n    .dataframe tbody tr th {\n        vertical-align: top;\n    }\n\n    .dataframe thead th {\n        text-align: right;\n    }\n</style>\n<table border=\"1\" class=\"dataframe\">\n  <thead>\n    <tr style=\"text-align: right;\">\n      <th></th>\n      <th>zipcode</th>\n      <th>property_tax</th>\n      <th>owner_occupied</th>\n      <th>renter_occupied</th>\n      <th>total_vacant</th>\n      <th>total_dwellings</th>\n      <th>studio_rent</th>\n      <th>one_bed_rent</th>\n      <th>two_bed_rent</th>\n      <th>three_bed_rent</th>\n      <th>four_bed_rent</th>\n    </tr>\n  </thead>\n  <tbody>\n    <tr>\n      <th>0</th>\n      <td>32608</td>\n      <td>3629</td>\n      <td>9028</td>\n      <td>13308</td>\n      <td>2920</td>\n      <td>25256</td>\n      <td>805</td>\n      <td>897</td>\n      <td>1083</td>\n      <td>1415</td>\n      <td>1469</td>\n    </tr>\n    <tr>\n      <th>1</th>\n      <td>32601</td>\n      <td>2350</td>\n      <td>2101</td>\n      <td>6151</td>\n      <td>1125</td>\n      <td>9377</td>\n      <td>805</td>\n      <td>897</td>\n      <td>1083</td>\n      <td>1415</td>\n      <td>1469</td>\n    </tr>\n    <tr>\n      <th>2</th>\n      <td>32603</td>\n      <td>4152</td>\n      <td>393</td>\n      <td>1769</td>\n      <td>209</td>\n      <td>2371</td>\n      <td>805</td>\n      <td>897</td>\n      <td>1083</td>\n      <td>1415</td>\n      <td>1469</td>\n    </tr>\n  </tbody>\n</table>\n</div>"
     },
     "metadata": {},
     "execution_count": 179
    }
   ],
   "source": [
    "# Establish API URL\n",
    "community_url = \"https://api.gateway.attomdata.com/communityapi/v2.0.0\"\n",
    "\n",
    "area_url = \"/area/full?AreaId=ZI\"\n",
    "\n",
    "\n",
    "# Establish variable for information desired\n",
    "zip_code_area = []\n",
    "prop_tax = []\n",
    "owner_occupied = []\n",
    "renter_occupied = []\n",
    "total_vacant =[]\n",
    "total_dwellings = []\n",
    "area_no_data = []\n",
    "studio_rent = []\n",
    "one_bed_rent = []\n",
    "two_bed_rent = []\n",
    "three_bed_rent = []\n",
    "four_bed_rent = []\n",
    "\n",
    "\n",
    "for code in test_zip:\n",
    "    \n",
    "    # Make API call\n",
    "    area_response = requests.post( f'{community_url}{area_url}{code}', headers = headers)\n",
    "    if area_response.status_code != 200:\n",
    "        area_no_data.append(area_response.url)\n",
    "    else:\n",
    "        area = area_response.json()\n",
    "        for i in area:\n",
    "            zip_code_area.append(area['response']['inputparameter']['AreaId'][2:7])\n",
    "        for i in area['response']['result']['package']['item']:\n",
    "            prop_tax.append(i['avg_prop_tax'])\n",
    "            owner_occupied.append(i['dwlowned'])\n",
    "            renter_occupied.append(i['dwlrent'])\n",
    "            total_vacant.append(i['dwlvacnt'])\n",
    "            total_dwellings.append(i['dwltotal'])\n",
    "            studio_rent.append(i['studio_county'])\n",
    "            one_bed_rent.append(i['one_bed_county'])\n",
    "            two_bed_rent.append(i['two_bed_county'])\n",
    "            three_bed_rent.append(i['three_bed_county'])\n",
    "            four_bed_rent.append(i['four_bed_county'])\n",
    "\n",
    "    # Set delay based on API call limitations\n",
    "    time.sleep(7)\n",
    "\n",
    "area_data = pd.DataFrame({'zipcode': zip_code_area, 'property_tax': prop_tax,\n",
    "                        'owner_occupied': owner_occupied, 'renter_occupied': renter_occupied,\n",
    "                        'total_vacant': total_vacant, 'total_dwellings': total_dwellings,\n",
    "                        'studio_rent': studio_rent, 'one_bed_rent': one_bed_rent,\n",
    "                        'two_bed_rent': two_bed_rent, 'three_bed_rent': three_bed_rent,\n",
    "                        'four_bed_rent': four_bed_rent})\n",
    "area_data"
   ]
  },
  {
   "cell_type": "code",
   "execution_count": 160,
   "metadata": {},
   "outputs": [
    {
     "output_type": "stream",
     "name": "stdout",
     "text": [
      "32608\n"
     ]
    }
   ],
   "source": [
    "for i in area:\n",
    "#     print(['inputparameter']['AreaId'])\n",
    "    print(area['response']['inputparameter']['AreaId'][2:7])"
   ]
  },
  {
   "cell_type": "code",
   "execution_count": 111,
   "metadata": {},
   "outputs": [
    {
     "output_type": "stream",
     "name": "stdout",
     "text": [
      "3629\n"
     ]
    }
   ],
   "source": [
    "print(area['response']['result']['package']['item'][0]['avg_prop_tax'])"
   ]
  },
  {
   "cell_type": "code",
   "execution_count": 112,
   "metadata": {},
   "outputs": [
    {
     "output_type": "stream",
     "name": "stdout",
     "text": [
      "32608\n"
     ]
    }
   ],
   "source": [
    "print(area['response']['inputparameter']['AreaId'][2:7])"
   ]
  },
  {
   "cell_type": "code",
   "execution_count": null,
   "metadata": {},
   "outputs": [],
   "source": []
  }
 ]
}