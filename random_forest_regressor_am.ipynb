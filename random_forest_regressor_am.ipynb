{
 "cells": [
  {
   "cell_type": "code",
   "execution_count": 177,
   "metadata": {},
   "outputs": [],
   "source": [
    "import pandas as pd\n",
    "import numpy as np\n",
    "from sklearn import metrics\n",
    "from sklearn.metrics import confusion_matrix\n",
    "from sklearn.metrics import accuracy_score\n",
    "from sklearn.model_selection import train_test_split\n",
    "from sklearn.metrics import mean_squared_log_error\n",
    "from math import sqrt\n",
    "\n",
    "from sklearn.ensemble import RandomForestRegressor"
   ]
  },
  {
   "cell_type": "code",
   "execution_count": 178,
   "metadata": {},
   "outputs": [
    {
     "output_type": "execute_result",
     "data": {
      "text/plain": [
       "   Zip_Code        Date  Date_Code  Year  Month  Sale_Price  Interest_Rate  \\\n",
       "0     32003  2019-01-01     201901  2019      1    244950.0         4.4640   \n",
       "1     32003  2019-02-01     201902  2019      2    270000.0         4.3700   \n",
       "2     32003  2019-03-01     201903  2019      3    275000.0         4.2650   \n",
       "3     32003  2019-04-01     201904  2019      4    264500.0         4.1425   \n",
       "4     32003  2019-05-01     201905  2019      5    281000.0         4.0720   \n",
       "\n",
       "   Property_Tax  Rent_Price  Household_Income  ...  FTE_Employed  Unemployed  \\\n",
       "0          3778        1113           94154.0  ...         10671        1069   \n",
       "1          3778        1113           94154.0  ...         10671        1069   \n",
       "2          3778        1113           94154.0  ...         10671        1069   \n",
       "3          3778        1113           94154.0  ...         10671        1069   \n",
       "4          3778        1113           94154.0  ...         10671        1069   \n",
       "\n",
       "   Expense_Index  Average_Commute  Crime_Index Loan_Amount  Loan_Term  \\\n",
       "0            104               35           28    195960.0      360.0   \n",
       "1            104               35           28    216000.0      360.0   \n",
       "2            104               35           28    220000.0      360.0   \n",
       "3            104               35           28    211600.0      360.0   \n",
       "4            104               35           28    224800.0      360.0   \n",
       "\n",
       "     Loan_R  Loan_Payment  Home_Affordability  \n",
       "0  1.003720    988.713278            0.126012  \n",
       "1  1.003642   1077.819242            0.137369  \n",
       "2  1.003554   1084.200547            0.138182  \n",
       "3  1.003452   1027.671397            0.130978  \n",
       "4  1.003393   1082.581718            0.137976  \n",
       "\n",
       "[5 rows x 30 columns]"
      ],
      "text/html": "<div>\n<style scoped>\n    .dataframe tbody tr th:only-of-type {\n        vertical-align: middle;\n    }\n\n    .dataframe tbody tr th {\n        vertical-align: top;\n    }\n\n    .dataframe thead th {\n        text-align: right;\n    }\n</style>\n<table border=\"1\" class=\"dataframe\">\n  <thead>\n    <tr style=\"text-align: right;\">\n      <th></th>\n      <th>Zip_Code</th>\n      <th>Date</th>\n      <th>Date_Code</th>\n      <th>Year</th>\n      <th>Month</th>\n      <th>Sale_Price</th>\n      <th>Interest_Rate</th>\n      <th>Property_Tax</th>\n      <th>Rent_Price</th>\n      <th>Household_Income</th>\n      <th>...</th>\n      <th>FTE_Employed</th>\n      <th>Unemployed</th>\n      <th>Expense_Index</th>\n      <th>Average_Commute</th>\n      <th>Crime_Index</th>\n      <th>Loan_Amount</th>\n      <th>Loan_Term</th>\n      <th>Loan_R</th>\n      <th>Loan_Payment</th>\n      <th>Home_Affordability</th>\n    </tr>\n  </thead>\n  <tbody>\n    <tr>\n      <th>0</th>\n      <td>32003</td>\n      <td>2019-01-01</td>\n      <td>201901</td>\n      <td>2019</td>\n      <td>1</td>\n      <td>244950.0</td>\n      <td>4.4640</td>\n      <td>3778</td>\n      <td>1113</td>\n      <td>94154.0</td>\n      <td>...</td>\n      <td>10671</td>\n      <td>1069</td>\n      <td>104</td>\n      <td>35</td>\n      <td>28</td>\n      <td>195960.0</td>\n      <td>360.0</td>\n      <td>1.003720</td>\n      <td>988.713278</td>\n      <td>0.126012</td>\n    </tr>\n    <tr>\n      <th>1</th>\n      <td>32003</td>\n      <td>2019-02-01</td>\n      <td>201902</td>\n      <td>2019</td>\n      <td>2</td>\n      <td>270000.0</td>\n      <td>4.3700</td>\n      <td>3778</td>\n      <td>1113</td>\n      <td>94154.0</td>\n      <td>...</td>\n      <td>10671</td>\n      <td>1069</td>\n      <td>104</td>\n      <td>35</td>\n      <td>28</td>\n      <td>216000.0</td>\n      <td>360.0</td>\n      <td>1.003642</td>\n      <td>1077.819242</td>\n      <td>0.137369</td>\n    </tr>\n    <tr>\n      <th>2</th>\n      <td>32003</td>\n      <td>2019-03-01</td>\n      <td>201903</td>\n      <td>2019</td>\n      <td>3</td>\n      <td>275000.0</td>\n      <td>4.2650</td>\n      <td>3778</td>\n      <td>1113</td>\n      <td>94154.0</td>\n      <td>...</td>\n      <td>10671</td>\n      <td>1069</td>\n      <td>104</td>\n      <td>35</td>\n      <td>28</td>\n      <td>220000.0</td>\n      <td>360.0</td>\n      <td>1.003554</td>\n      <td>1084.200547</td>\n      <td>0.138182</td>\n    </tr>\n    <tr>\n      <th>3</th>\n      <td>32003</td>\n      <td>2019-04-01</td>\n      <td>201904</td>\n      <td>2019</td>\n      <td>4</td>\n      <td>264500.0</td>\n      <td>4.1425</td>\n      <td>3778</td>\n      <td>1113</td>\n      <td>94154.0</td>\n      <td>...</td>\n      <td>10671</td>\n      <td>1069</td>\n      <td>104</td>\n      <td>35</td>\n      <td>28</td>\n      <td>211600.0</td>\n      <td>360.0</td>\n      <td>1.003452</td>\n      <td>1027.671397</td>\n      <td>0.130978</td>\n    </tr>\n    <tr>\n      <th>4</th>\n      <td>32003</td>\n      <td>2019-05-01</td>\n      <td>201905</td>\n      <td>2019</td>\n      <td>5</td>\n      <td>281000.0</td>\n      <td>4.0720</td>\n      <td>3778</td>\n      <td>1113</td>\n      <td>94154.0</td>\n      <td>...</td>\n      <td>10671</td>\n      <td>1069</td>\n      <td>104</td>\n      <td>35</td>\n      <td>28</td>\n      <td>224800.0</td>\n      <td>360.0</td>\n      <td>1.003393</td>\n      <td>1082.581718</td>\n      <td>0.137976</td>\n    </tr>\n  </tbody>\n</table>\n<p>5 rows × 30 columns</p>\n</div>"
     },
     "metadata": {},
     "execution_count": 178
    }
   ],
   "source": [
    "data = pd.read_csv('Resources/Clean_Data/Final_Data.csv')\n",
    "data.head()"
   ]
  },
  {
   "cell_type": "code",
   "execution_count": 179,
   "metadata": {},
   "outputs": [
    {
     "output_type": "execute_result",
     "data": {
      "text/plain": [
       "   Zip_Code  Date_Code  Mobility_Rate  Expense_Index  Crime_Index  \\\n",
       "0     32003     201901       0.182327            104           28   \n",
       "1     32003     201902       0.182327            104           28   \n",
       "2     32003     201903       0.182327            104           28   \n",
       "3     32003     201904       0.182327            104           28   \n",
       "4     32003     201905       0.182327            104           28   \n",
       "\n",
       "   Total_Vacant  Total_Dwellings  Total_Sales  FHA_Count  Home_Affordability  \\\n",
       "0           704            11724           32          7            0.126012   \n",
       "1           704            11724           41          2            0.137369   \n",
       "2           704            11724           21          7            0.138182   \n",
       "3           704            11724           42          3            0.130978   \n",
       "4           704            11724           66          8            0.137976   \n",
       "\n",
       "   Rent_Affordability  Sale_Price  \n",
       "0            0.141853    244950.0  \n",
       "1            0.141853    270000.0  \n",
       "2            0.141853    275000.0  \n",
       "3            0.141853    264500.0  \n",
       "4            0.141853    281000.0  "
      ],
      "text/html": "<div>\n<style scoped>\n    .dataframe tbody tr th:only-of-type {\n        vertical-align: middle;\n    }\n\n    .dataframe tbody tr th {\n        vertical-align: top;\n    }\n\n    .dataframe thead th {\n        text-align: right;\n    }\n</style>\n<table border=\"1\" class=\"dataframe\">\n  <thead>\n    <tr style=\"text-align: right;\">\n      <th></th>\n      <th>Zip_Code</th>\n      <th>Date_Code</th>\n      <th>Mobility_Rate</th>\n      <th>Expense_Index</th>\n      <th>Crime_Index</th>\n      <th>Total_Vacant</th>\n      <th>Total_Dwellings</th>\n      <th>Total_Sales</th>\n      <th>FHA_Count</th>\n      <th>Home_Affordability</th>\n      <th>Rent_Affordability</th>\n      <th>Sale_Price</th>\n    </tr>\n  </thead>\n  <tbody>\n    <tr>\n      <th>0</th>\n      <td>32003</td>\n      <td>201901</td>\n      <td>0.182327</td>\n      <td>104</td>\n      <td>28</td>\n      <td>704</td>\n      <td>11724</td>\n      <td>32</td>\n      <td>7</td>\n      <td>0.126012</td>\n      <td>0.141853</td>\n      <td>244950.0</td>\n    </tr>\n    <tr>\n      <th>1</th>\n      <td>32003</td>\n      <td>201902</td>\n      <td>0.182327</td>\n      <td>104</td>\n      <td>28</td>\n      <td>704</td>\n      <td>11724</td>\n      <td>41</td>\n      <td>2</td>\n      <td>0.137369</td>\n      <td>0.141853</td>\n      <td>270000.0</td>\n    </tr>\n    <tr>\n      <th>2</th>\n      <td>32003</td>\n      <td>201903</td>\n      <td>0.182327</td>\n      <td>104</td>\n      <td>28</td>\n      <td>704</td>\n      <td>11724</td>\n      <td>21</td>\n      <td>7</td>\n      <td>0.138182</td>\n      <td>0.141853</td>\n      <td>275000.0</td>\n    </tr>\n    <tr>\n      <th>3</th>\n      <td>32003</td>\n      <td>201904</td>\n      <td>0.182327</td>\n      <td>104</td>\n      <td>28</td>\n      <td>704</td>\n      <td>11724</td>\n      <td>42</td>\n      <td>3</td>\n      <td>0.130978</td>\n      <td>0.141853</td>\n      <td>264500.0</td>\n    </tr>\n    <tr>\n      <th>4</th>\n      <td>32003</td>\n      <td>201905</td>\n      <td>0.182327</td>\n      <td>104</td>\n      <td>28</td>\n      <td>704</td>\n      <td>11724</td>\n      <td>66</td>\n      <td>8</td>\n      <td>0.137976</td>\n      <td>0.141853</td>\n      <td>281000.0</td>\n    </tr>\n  </tbody>\n</table>\n</div>"
     },
     "metadata": {},
     "execution_count": 179
    }
   ],
   "source": [
    "ml_data = data[['Zip_Code', 'Date_Code', 'Mobility_Rate', 'Expense_Index', 'Crime_Index' , 'Total_Vacant', 'Total_Dwellings', 'Total_Sales', 'FHA_Count', 'Home_Affordability', 'Rent_Affordability', 'Sale_Price' ]]\n",
    "ml_data.head()"
   ]
  },
  {
   "cell_type": "code",
   "execution_count": 180,
   "metadata": {},
   "outputs": [
    {
     "output_type": "execute_result",
     "data": {
      "text/plain": [
       "          Date_Code  Mobility_Rate  Expense_Index  Crime_Index  Total_Vacant  \\\n",
       "Zip_Code                                                                       \n",
       "32003        201901       0.182327            104           28           704   \n",
       "32003        201902       0.182327            104           28           704   \n",
       "32003        201903       0.182327            104           28           704   \n",
       "32003        201904       0.182327            104           28           704   \n",
       "32003        201905       0.182327            104           28           704   \n",
       "...             ...            ...            ...          ...           ...   \n",
       "34997        202011       0.143471             91          113          2976   \n",
       "34997        202012       0.143471             91          113          2976   \n",
       "34997        202101       0.143471             91          113          2976   \n",
       "34997        202102       0.143471             91          113          2976   \n",
       "34997        202103       0.143471             91          113          2976   \n",
       "\n",
       "          Total_Dwellings  Total_Sales  FHA_Count  Home_Affordability  \\\n",
       "Zip_Code                                                                \n",
       "32003               11724           32          7            0.126012   \n",
       "32003               11724           41          2            0.137369   \n",
       "32003               11724           21          7            0.138182   \n",
       "32003               11724           42          3            0.130978   \n",
       "32003               11724           66          8            0.137976   \n",
       "...                   ...          ...        ...                 ...   \n",
       "34997               21551          132         11            0.173497   \n",
       "34997               21551          142         16            0.196301   \n",
       "34997               21551           81         10            0.202930   \n",
       "34997               21551          116          7            0.201553   \n",
       "34997               21551            7         12            0.416754   \n",
       "\n",
       "          Rent_Affordability  Sale_Price  \n",
       "Zip_Code                                  \n",
       "32003               0.141853    244950.0  \n",
       "32003               0.141853    270000.0  \n",
       "32003               0.141853    275000.0  \n",
       "32003               0.141853    264500.0  \n",
       "32003               0.141853    281000.0  \n",
       "...                      ...         ...  \n",
       "34997               0.247189    259750.0  \n",
       "34997               0.247189    297000.0  \n",
       "34997               0.247189    305000.0  \n",
       "34997               0.247189    300000.0  \n",
       "34997               0.247189    599000.0  \n",
       "\n",
       "[23510 rows x 11 columns]"
      ],
      "text/html": "<div>\n<style scoped>\n    .dataframe tbody tr th:only-of-type {\n        vertical-align: middle;\n    }\n\n    .dataframe tbody tr th {\n        vertical-align: top;\n    }\n\n    .dataframe thead th {\n        text-align: right;\n    }\n</style>\n<table border=\"1\" class=\"dataframe\">\n  <thead>\n    <tr style=\"text-align: right;\">\n      <th></th>\n      <th>Date_Code</th>\n      <th>Mobility_Rate</th>\n      <th>Expense_Index</th>\n      <th>Crime_Index</th>\n      <th>Total_Vacant</th>\n      <th>Total_Dwellings</th>\n      <th>Total_Sales</th>\n      <th>FHA_Count</th>\n      <th>Home_Affordability</th>\n      <th>Rent_Affordability</th>\n      <th>Sale_Price</th>\n    </tr>\n    <tr>\n      <th>Zip_Code</th>\n      <th></th>\n      <th></th>\n      <th></th>\n      <th></th>\n      <th></th>\n      <th></th>\n      <th></th>\n      <th></th>\n      <th></th>\n      <th></th>\n      <th></th>\n    </tr>\n  </thead>\n  <tbody>\n    <tr>\n      <th>32003</th>\n      <td>201901</td>\n      <td>0.182327</td>\n      <td>104</td>\n      <td>28</td>\n      <td>704</td>\n      <td>11724</td>\n      <td>32</td>\n      <td>7</td>\n      <td>0.126012</td>\n      <td>0.141853</td>\n      <td>244950.0</td>\n    </tr>\n    <tr>\n      <th>32003</th>\n      <td>201902</td>\n      <td>0.182327</td>\n      <td>104</td>\n      <td>28</td>\n      <td>704</td>\n      <td>11724</td>\n      <td>41</td>\n      <td>2</td>\n      <td>0.137369</td>\n      <td>0.141853</td>\n      <td>270000.0</td>\n    </tr>\n    <tr>\n      <th>32003</th>\n      <td>201903</td>\n      <td>0.182327</td>\n      <td>104</td>\n      <td>28</td>\n      <td>704</td>\n      <td>11724</td>\n      <td>21</td>\n      <td>7</td>\n      <td>0.138182</td>\n      <td>0.141853</td>\n      <td>275000.0</td>\n    </tr>\n    <tr>\n      <th>32003</th>\n      <td>201904</td>\n      <td>0.182327</td>\n      <td>104</td>\n      <td>28</td>\n      <td>704</td>\n      <td>11724</td>\n      <td>42</td>\n      <td>3</td>\n      <td>0.130978</td>\n      <td>0.141853</td>\n      <td>264500.0</td>\n    </tr>\n    <tr>\n      <th>32003</th>\n      <td>201905</td>\n      <td>0.182327</td>\n      <td>104</td>\n      <td>28</td>\n      <td>704</td>\n      <td>11724</td>\n      <td>66</td>\n      <td>8</td>\n      <td>0.137976</td>\n      <td>0.141853</td>\n      <td>281000.0</td>\n    </tr>\n    <tr>\n      <th>...</th>\n      <td>...</td>\n      <td>...</td>\n      <td>...</td>\n      <td>...</td>\n      <td>...</td>\n      <td>...</td>\n      <td>...</td>\n      <td>...</td>\n      <td>...</td>\n      <td>...</td>\n      <td>...</td>\n    </tr>\n    <tr>\n      <th>34997</th>\n      <td>202011</td>\n      <td>0.143471</td>\n      <td>91</td>\n      <td>113</td>\n      <td>2976</td>\n      <td>21551</td>\n      <td>132</td>\n      <td>11</td>\n      <td>0.173497</td>\n      <td>0.247189</td>\n      <td>259750.0</td>\n    </tr>\n    <tr>\n      <th>34997</th>\n      <td>202012</td>\n      <td>0.143471</td>\n      <td>91</td>\n      <td>113</td>\n      <td>2976</td>\n      <td>21551</td>\n      <td>142</td>\n      <td>16</td>\n      <td>0.196301</td>\n      <td>0.247189</td>\n      <td>297000.0</td>\n    </tr>\n    <tr>\n      <th>34997</th>\n      <td>202101</td>\n      <td>0.143471</td>\n      <td>91</td>\n      <td>113</td>\n      <td>2976</td>\n      <td>21551</td>\n      <td>81</td>\n      <td>10</td>\n      <td>0.202930</td>\n      <td>0.247189</td>\n      <td>305000.0</td>\n    </tr>\n    <tr>\n      <th>34997</th>\n      <td>202102</td>\n      <td>0.143471</td>\n      <td>91</td>\n      <td>113</td>\n      <td>2976</td>\n      <td>21551</td>\n      <td>116</td>\n      <td>7</td>\n      <td>0.201553</td>\n      <td>0.247189</td>\n      <td>300000.0</td>\n    </tr>\n    <tr>\n      <th>34997</th>\n      <td>202103</td>\n      <td>0.143471</td>\n      <td>91</td>\n      <td>113</td>\n      <td>2976</td>\n      <td>21551</td>\n      <td>7</td>\n      <td>12</td>\n      <td>0.416754</td>\n      <td>0.247189</td>\n      <td>599000.0</td>\n    </tr>\n  </tbody>\n</table>\n<p>23510 rows × 11 columns</p>\n</div>"
     },
     "metadata": {},
     "execution_count": 180
    }
   ],
   "source": [
    "rf_data = ml_data.sort_values(by = ['Zip_Code','Date_Code'], ascending = [True, True])\n",
    "rf_data['Zip_Code'] = rf_data['Zip_Code'].astype(str)\n",
    "rf_data = rf_data.set_index('Zip_Code')\n",
    "\n",
    "rf_data"
   ]
  },
  {
   "cell_type": "code",
   "execution_count": 181,
   "metadata": {},
   "outputs": [
    {
     "output_type": "execute_result",
     "data": {
      "text/plain": [
       "          Date_Code  Mobility_Rate  Expense_Index  Crime_Index  Total_Vacant  \\\n",
       "Zip_Code                                                                       \n",
       "32003        201901       0.182327            104           28           704   \n",
       "32003        201902       0.182327            104           28           704   \n",
       "32003        201903       0.182327            104           28           704   \n",
       "32003        201904       0.182327            104           28           704   \n",
       "32003        201905       0.182327            104           28           704   \n",
       "...             ...            ...            ...          ...           ...   \n",
       "34997        202011       0.143471             91          113          2976   \n",
       "34997        202012       0.143471             91          113          2976   \n",
       "34997        202101       0.143471             91          113          2976   \n",
       "34997        202102       0.143471             91          113          2976   \n",
       "34997        202103       0.143471             91          113          2976   \n",
       "\n",
       "          Total_Dwellings  Total_Sales  FHA_Count  Home_Affordability  \\\n",
       "Zip_Code                                                                \n",
       "32003               11724           32          7            0.126012   \n",
       "32003               11724           41          2            0.137369   \n",
       "32003               11724           21          7            0.138182   \n",
       "32003               11724           42          3            0.130978   \n",
       "32003               11724           66          8            0.137976   \n",
       "...                   ...          ...        ...                 ...   \n",
       "34997               21551          132         11            0.173497   \n",
       "34997               21551          142         16            0.196301   \n",
       "34997               21551           81         10            0.202930   \n",
       "34997               21551          116          7            0.201553   \n",
       "34997               21551            7         12            0.416754   \n",
       "\n",
       "          Rent_Affordability  Sale_Price  Last_Month_Price  Last_2Month_Price  \\\n",
       "Zip_Code                                                                        \n",
       "32003               0.141853    244950.0               NaN                NaN   \n",
       "32003               0.141853    270000.0          244950.0                NaN   \n",
       "32003               0.141853    275000.0          270000.0           244950.0   \n",
       "32003               0.141853    264500.0          275000.0           270000.0   \n",
       "32003               0.141853    281000.0          264500.0           275000.0   \n",
       "...                      ...         ...               ...                ...   \n",
       "34997               0.247189    259750.0          285000.0           256000.0   \n",
       "34997               0.247189    297000.0          259750.0           285000.0   \n",
       "34997               0.247189    305000.0          297000.0           259750.0   \n",
       "34997               0.247189    300000.0          305000.0           297000.0   \n",
       "34997               0.247189    599000.0          300000.0           305000.0   \n",
       "\n",
       "          Last_3Month_Price  Last_Month_Diff  Last_2Month_Diff  \\\n",
       "Zip_Code                                                         \n",
       "32003                   NaN              NaN               NaN   \n",
       "32003                   NaN          25050.0               NaN   \n",
       "32003                   NaN           5000.0           25050.0   \n",
       "32003              244950.0         -10500.0            5000.0   \n",
       "32003              270000.0          16500.0          -10500.0   \n",
       "...                     ...              ...               ...   \n",
       "34997              251000.0         -25250.0           29000.0   \n",
       "34997              256000.0          37250.0          -25250.0   \n",
       "34997              285000.0           8000.0           37250.0   \n",
       "34997              259750.0          -5000.0            8000.0   \n",
       "34997              297000.0         299000.0           -5000.0   \n",
       "\n",
       "          Last_3Month_Diff  \n",
       "Zip_Code                    \n",
       "32003                  NaN  \n",
       "32003                  NaN  \n",
       "32003                  NaN  \n",
       "32003              25050.0  \n",
       "32003               5000.0  \n",
       "...                    ...  \n",
       "34997               5000.0  \n",
       "34997              29000.0  \n",
       "34997             -25250.0  \n",
       "34997              37250.0  \n",
       "34997               8000.0  \n",
       "\n",
       "[23510 rows x 17 columns]"
      ],
      "text/html": "<div>\n<style scoped>\n    .dataframe tbody tr th:only-of-type {\n        vertical-align: middle;\n    }\n\n    .dataframe tbody tr th {\n        vertical-align: top;\n    }\n\n    .dataframe thead th {\n        text-align: right;\n    }\n</style>\n<table border=\"1\" class=\"dataframe\">\n  <thead>\n    <tr style=\"text-align: right;\">\n      <th></th>\n      <th>Date_Code</th>\n      <th>Mobility_Rate</th>\n      <th>Expense_Index</th>\n      <th>Crime_Index</th>\n      <th>Total_Vacant</th>\n      <th>Total_Dwellings</th>\n      <th>Total_Sales</th>\n      <th>FHA_Count</th>\n      <th>Home_Affordability</th>\n      <th>Rent_Affordability</th>\n      <th>Sale_Price</th>\n      <th>Last_Month_Price</th>\n      <th>Last_2Month_Price</th>\n      <th>Last_3Month_Price</th>\n      <th>Last_Month_Diff</th>\n      <th>Last_2Month_Diff</th>\n      <th>Last_3Month_Diff</th>\n    </tr>\n    <tr>\n      <th>Zip_Code</th>\n      <th></th>\n      <th></th>\n      <th></th>\n      <th></th>\n      <th></th>\n      <th></th>\n      <th></th>\n      <th></th>\n      <th></th>\n      <th></th>\n      <th></th>\n      <th></th>\n      <th></th>\n      <th></th>\n      <th></th>\n      <th></th>\n      <th></th>\n    </tr>\n  </thead>\n  <tbody>\n    <tr>\n      <th>32003</th>\n      <td>201901</td>\n      <td>0.182327</td>\n      <td>104</td>\n      <td>28</td>\n      <td>704</td>\n      <td>11724</td>\n      <td>32</td>\n      <td>7</td>\n      <td>0.126012</td>\n      <td>0.141853</td>\n      <td>244950.0</td>\n      <td>NaN</td>\n      <td>NaN</td>\n      <td>NaN</td>\n      <td>NaN</td>\n      <td>NaN</td>\n      <td>NaN</td>\n    </tr>\n    <tr>\n      <th>32003</th>\n      <td>201902</td>\n      <td>0.182327</td>\n      <td>104</td>\n      <td>28</td>\n      <td>704</td>\n      <td>11724</td>\n      <td>41</td>\n      <td>2</td>\n      <td>0.137369</td>\n      <td>0.141853</td>\n      <td>270000.0</td>\n      <td>244950.0</td>\n      <td>NaN</td>\n      <td>NaN</td>\n      <td>25050.0</td>\n      <td>NaN</td>\n      <td>NaN</td>\n    </tr>\n    <tr>\n      <th>32003</th>\n      <td>201903</td>\n      <td>0.182327</td>\n      <td>104</td>\n      <td>28</td>\n      <td>704</td>\n      <td>11724</td>\n      <td>21</td>\n      <td>7</td>\n      <td>0.138182</td>\n      <td>0.141853</td>\n      <td>275000.0</td>\n      <td>270000.0</td>\n      <td>244950.0</td>\n      <td>NaN</td>\n      <td>5000.0</td>\n      <td>25050.0</td>\n      <td>NaN</td>\n    </tr>\n    <tr>\n      <th>32003</th>\n      <td>201904</td>\n      <td>0.182327</td>\n      <td>104</td>\n      <td>28</td>\n      <td>704</td>\n      <td>11724</td>\n      <td>42</td>\n      <td>3</td>\n      <td>0.130978</td>\n      <td>0.141853</td>\n      <td>264500.0</td>\n      <td>275000.0</td>\n      <td>270000.0</td>\n      <td>244950.0</td>\n      <td>-10500.0</td>\n      <td>5000.0</td>\n      <td>25050.0</td>\n    </tr>\n    <tr>\n      <th>32003</th>\n      <td>201905</td>\n      <td>0.182327</td>\n      <td>104</td>\n      <td>28</td>\n      <td>704</td>\n      <td>11724</td>\n      <td>66</td>\n      <td>8</td>\n      <td>0.137976</td>\n      <td>0.141853</td>\n      <td>281000.0</td>\n      <td>264500.0</td>\n      <td>275000.0</td>\n      <td>270000.0</td>\n      <td>16500.0</td>\n      <td>-10500.0</td>\n      <td>5000.0</td>\n    </tr>\n    <tr>\n      <th>...</th>\n      <td>...</td>\n      <td>...</td>\n      <td>...</td>\n      <td>...</td>\n      <td>...</td>\n      <td>...</td>\n      <td>...</td>\n      <td>...</td>\n      <td>...</td>\n      <td>...</td>\n      <td>...</td>\n      <td>...</td>\n      <td>...</td>\n      <td>...</td>\n      <td>...</td>\n      <td>...</td>\n      <td>...</td>\n    </tr>\n    <tr>\n      <th>34997</th>\n      <td>202011</td>\n      <td>0.143471</td>\n      <td>91</td>\n      <td>113</td>\n      <td>2976</td>\n      <td>21551</td>\n      <td>132</td>\n      <td>11</td>\n      <td>0.173497</td>\n      <td>0.247189</td>\n      <td>259750.0</td>\n      <td>285000.0</td>\n      <td>256000.0</td>\n      <td>251000.0</td>\n      <td>-25250.0</td>\n      <td>29000.0</td>\n      <td>5000.0</td>\n    </tr>\n    <tr>\n      <th>34997</th>\n      <td>202012</td>\n      <td>0.143471</td>\n      <td>91</td>\n      <td>113</td>\n      <td>2976</td>\n      <td>21551</td>\n      <td>142</td>\n      <td>16</td>\n      <td>0.196301</td>\n      <td>0.247189</td>\n      <td>297000.0</td>\n      <td>259750.0</td>\n      <td>285000.0</td>\n      <td>256000.0</td>\n      <td>37250.0</td>\n      <td>-25250.0</td>\n      <td>29000.0</td>\n    </tr>\n    <tr>\n      <th>34997</th>\n      <td>202101</td>\n      <td>0.143471</td>\n      <td>91</td>\n      <td>113</td>\n      <td>2976</td>\n      <td>21551</td>\n      <td>81</td>\n      <td>10</td>\n      <td>0.202930</td>\n      <td>0.247189</td>\n      <td>305000.0</td>\n      <td>297000.0</td>\n      <td>259750.0</td>\n      <td>285000.0</td>\n      <td>8000.0</td>\n      <td>37250.0</td>\n      <td>-25250.0</td>\n    </tr>\n    <tr>\n      <th>34997</th>\n      <td>202102</td>\n      <td>0.143471</td>\n      <td>91</td>\n      <td>113</td>\n      <td>2976</td>\n      <td>21551</td>\n      <td>116</td>\n      <td>7</td>\n      <td>0.201553</td>\n      <td>0.247189</td>\n      <td>300000.0</td>\n      <td>305000.0</td>\n      <td>297000.0</td>\n      <td>259750.0</td>\n      <td>-5000.0</td>\n      <td>8000.0</td>\n      <td>37250.0</td>\n    </tr>\n    <tr>\n      <th>34997</th>\n      <td>202103</td>\n      <td>0.143471</td>\n      <td>91</td>\n      <td>113</td>\n      <td>2976</td>\n      <td>21551</td>\n      <td>7</td>\n      <td>12</td>\n      <td>0.416754</td>\n      <td>0.247189</td>\n      <td>599000.0</td>\n      <td>300000.0</td>\n      <td>305000.0</td>\n      <td>297000.0</td>\n      <td>299000.0</td>\n      <td>-5000.0</td>\n      <td>8000.0</td>\n    </tr>\n  </tbody>\n</table>\n<p>23510 rows × 17 columns</p>\n</div>"
     },
     "metadata": {},
     "execution_count": 181
    }
   ],
   "source": [
    "rf_data['Last_Month_Price'] = rf_data.groupby(['Zip_Code'])['Sale_Price'].shift()\n",
    "rf_data['Last_2Month_Price'] = rf_data.groupby(['Zip_Code'])['Sale_Price'].shift(2)\n",
    "rf_data['Last_3Month_Price'] = rf_data.groupby(['Zip_Code'])['Sale_Price'].shift(3)\n",
    "# ml_data_3mo['Future_Month_Price'] = ml_data_3mo.groupby(['Zip_Code'])['Sale_Price'].shift(-1)\n",
    "# ml_data_3mo['Future_2Month_Price'] = ml_data_3mo.groupby(['Zip_Code'])['Sale_Price'].shift(-2)\n",
    "# ml_data_3mo['Future_3Month_Price'] = ml_data_3mo.groupby(['Zip_Code'])['Sale_Price'].shift(-3)\n",
    "\n",
    "\n",
    "price_difference_1 = []\n",
    "price_difference_2 = []\n",
    "price_difference_3 = []\n",
    "\n",
    "\n",
    "for column in rf_data[['Sale_Price', 'Last_Month_Price', 'Last_2Month_Price',\n",
    "                    'Last_3Month_Price']]:\n",
    "   # Select column contents by column name using [] operator\n",
    "    current_sales = rf_data['Sale_Price'].values\n",
    "    last_sales = rf_data['Last_Month_Price'].values\n",
    "    last_2mo_sale = rf_data['Last_2Month_Price'].values\n",
    "    last_3mo_sale = rf_data['Last_3Month_Price'].values\n",
    "    price_difference_1.append(current_sales-last_sales)\n",
    "    price_difference_2.append(last_sales-last_2mo_sale)\n",
    "    price_difference_3.append(last_2mo_sale-last_3mo_sale)\n",
    "    \n",
    "\n",
    "rf_data['Last_Month_Diff'] = price_difference_1[0]\n",
    "rf_data['Last_2Month_Diff'] = price_difference_2[0]\n",
    "rf_data['Last_3Month_Diff'] = price_difference_3[0]\n",
    "\n",
    "rf_data"
   ]
  },
  {
   "cell_type": "code",
   "execution_count": 182,
   "metadata": {},
   "outputs": [
    {
     "output_type": "execute_result",
     "data": {
      "text/plain": [
       "          Date_Code  Mobility_Rate  Expense_Index  Crime_Index  Total_Vacant  \\\n",
       "Zip_Code                                                                       \n",
       "32003        201904       0.182327            104           28           704   \n",
       "32003        201905       0.182327            104           28           704   \n",
       "32003        201906       0.182327            104           28           704   \n",
       "32003        201907       0.182327            104           28           704   \n",
       "32003        201908       0.182327            104           28           704   \n",
       "\n",
       "          Total_Dwellings  Total_Sales  FHA_Count  Home_Affordability  \\\n",
       "Zip_Code                                                                \n",
       "32003               11724           42          3            0.130978   \n",
       "32003               11724           66          8            0.137976   \n",
       "32003               11724           43          3            0.130690   \n",
       "32003               11724           90          7            0.133641   \n",
       "32003               11724           64          5            0.125212   \n",
       "\n",
       "          Rent_Affordability  Sale_Price  Last_Month_Price  Last_2Month_Price  \\\n",
       "Zip_Code                                                                        \n",
       "32003               0.141853    264500.0          275000.0           270000.0   \n",
       "32003               0.141853    281000.0          264500.0           275000.0   \n",
       "32003               0.141853    275000.0          281000.0           264500.0   \n",
       "32003               0.141853    282500.0          275000.0           281000.0   \n",
       "32003               0.141853    269577.0          282500.0           275000.0   \n",
       "\n",
       "          Last_3Month_Price  Last_Month_Diff  Last_2Month_Diff  \\\n",
       "Zip_Code                                                         \n",
       "32003              244950.0         -10500.0            5000.0   \n",
       "32003              270000.0          16500.0          -10500.0   \n",
       "32003              275000.0          -6000.0           16500.0   \n",
       "32003              264500.0           7500.0           -6000.0   \n",
       "32003              281000.0         -12923.0            7500.0   \n",
       "\n",
       "          Last_3Month_Diff  \n",
       "Zip_Code                    \n",
       "32003              25050.0  \n",
       "32003               5000.0  \n",
       "32003             -10500.0  \n",
       "32003              16500.0  \n",
       "32003              -6000.0  "
      ],
      "text/html": "<div>\n<style scoped>\n    .dataframe tbody tr th:only-of-type {\n        vertical-align: middle;\n    }\n\n    .dataframe tbody tr th {\n        vertical-align: top;\n    }\n\n    .dataframe thead th {\n        text-align: right;\n    }\n</style>\n<table border=\"1\" class=\"dataframe\">\n  <thead>\n    <tr style=\"text-align: right;\">\n      <th></th>\n      <th>Date_Code</th>\n      <th>Mobility_Rate</th>\n      <th>Expense_Index</th>\n      <th>Crime_Index</th>\n      <th>Total_Vacant</th>\n      <th>Total_Dwellings</th>\n      <th>Total_Sales</th>\n      <th>FHA_Count</th>\n      <th>Home_Affordability</th>\n      <th>Rent_Affordability</th>\n      <th>Sale_Price</th>\n      <th>Last_Month_Price</th>\n      <th>Last_2Month_Price</th>\n      <th>Last_3Month_Price</th>\n      <th>Last_Month_Diff</th>\n      <th>Last_2Month_Diff</th>\n      <th>Last_3Month_Diff</th>\n    </tr>\n    <tr>\n      <th>Zip_Code</th>\n      <th></th>\n      <th></th>\n      <th></th>\n      <th></th>\n      <th></th>\n      <th></th>\n      <th></th>\n      <th></th>\n      <th></th>\n      <th></th>\n      <th></th>\n      <th></th>\n      <th></th>\n      <th></th>\n      <th></th>\n      <th></th>\n      <th></th>\n    </tr>\n  </thead>\n  <tbody>\n    <tr>\n      <th>32003</th>\n      <td>201904</td>\n      <td>0.182327</td>\n      <td>104</td>\n      <td>28</td>\n      <td>704</td>\n      <td>11724</td>\n      <td>42</td>\n      <td>3</td>\n      <td>0.130978</td>\n      <td>0.141853</td>\n      <td>264500.0</td>\n      <td>275000.0</td>\n      <td>270000.0</td>\n      <td>244950.0</td>\n      <td>-10500.0</td>\n      <td>5000.0</td>\n      <td>25050.0</td>\n    </tr>\n    <tr>\n      <th>32003</th>\n      <td>201905</td>\n      <td>0.182327</td>\n      <td>104</td>\n      <td>28</td>\n      <td>704</td>\n      <td>11724</td>\n      <td>66</td>\n      <td>8</td>\n      <td>0.137976</td>\n      <td>0.141853</td>\n      <td>281000.0</td>\n      <td>264500.0</td>\n      <td>275000.0</td>\n      <td>270000.0</td>\n      <td>16500.0</td>\n      <td>-10500.0</td>\n      <td>5000.0</td>\n    </tr>\n    <tr>\n      <th>32003</th>\n      <td>201906</td>\n      <td>0.182327</td>\n      <td>104</td>\n      <td>28</td>\n      <td>704</td>\n      <td>11724</td>\n      <td>43</td>\n      <td>3</td>\n      <td>0.130690</td>\n      <td>0.141853</td>\n      <td>275000.0</td>\n      <td>281000.0</td>\n      <td>264500.0</td>\n      <td>275000.0</td>\n      <td>-6000.0</td>\n      <td>16500.0</td>\n      <td>-10500.0</td>\n    </tr>\n    <tr>\n      <th>32003</th>\n      <td>201907</td>\n      <td>0.182327</td>\n      <td>104</td>\n      <td>28</td>\n      <td>704</td>\n      <td>11724</td>\n      <td>90</td>\n      <td>7</td>\n      <td>0.133641</td>\n      <td>0.141853</td>\n      <td>282500.0</td>\n      <td>275000.0</td>\n      <td>281000.0</td>\n      <td>264500.0</td>\n      <td>7500.0</td>\n      <td>-6000.0</td>\n      <td>16500.0</td>\n    </tr>\n    <tr>\n      <th>32003</th>\n      <td>201908</td>\n      <td>0.182327</td>\n      <td>104</td>\n      <td>28</td>\n      <td>704</td>\n      <td>11724</td>\n      <td>64</td>\n      <td>5</td>\n      <td>0.125212</td>\n      <td>0.141853</td>\n      <td>269577.0</td>\n      <td>282500.0</td>\n      <td>275000.0</td>\n      <td>281000.0</td>\n      <td>-12923.0</td>\n      <td>7500.0</td>\n      <td>-6000.0</td>\n    </tr>\n  </tbody>\n</table>\n</div>"
     },
     "metadata": {},
     "execution_count": 182
    }
   ],
   "source": [
    "rf_data.replace([np.inf, -np.inf], np.nan, inplace=True)\n",
    "rf_data.dropna(inplace=True)\n",
    "rf_data.head()"
   ]
  },
  {
   "cell_type": "code",
   "execution_count": 183,
   "metadata": {},
   "outputs": [
    {
     "output_type": "execute_result",
     "data": {
      "text/plain": [
       "         Date_Code  Mobility_Rate  Expense_Index  Crime_Index  Total_Vacant  \\\n",
       "Zip_Code                                                                      \n",
       "32003       201904       0.182327            104           28           704   \n",
       "32003       201905       0.182327            104           28           704   \n",
       "32003       201906       0.182327            104           28           704   \n",
       "32003       201907       0.182327            104           28           704   \n",
       "32003       201908       0.182327            104           28           704   \n",
       "...            ...            ...            ...          ...           ...   \n",
       "34997       202011       0.143471             91          113          2976   \n",
       "34997       202012       0.143471             91          113          2976   \n",
       "34997       202101       0.143471             91          113          2976   \n",
       "34997       202102       0.143471             91          113          2976   \n",
       "34997       202103       0.143471             91          113          2976   \n",
       "\n",
       "          Total_Dwellings  Total_Sales  FHA_Count  Home_Affordability  \\\n",
       "Zip_Code                                                                \n",
       "32003               11724           42          3            0.130978   \n",
       "32003               11724           66          8            0.137976   \n",
       "32003               11724           43          3            0.130690   \n",
       "32003               11724           90          7            0.133641   \n",
       "32003               11724           64          5            0.125212   \n",
       "...                   ...          ...        ...                 ...   \n",
       "34997               21551          132         11            0.173497   \n",
       "34997               21551          142         16            0.196301   \n",
       "34997               21551           81         10            0.202930   \n",
       "34997               21551          116          7            0.201553   \n",
       "34997               21551            7         12            0.416754   \n",
       "\n",
       "          Rent_Affordability  Sale_Price  Last_Month_Price  Last_2Month_Price  \\\n",
       "Zip_Code                                                                        \n",
       "32003               0.141853    264500.0          275000.0           270000.0   \n",
       "32003               0.141853    281000.0          264500.0           275000.0   \n",
       "32003               0.141853    275000.0          281000.0           264500.0   \n",
       "32003               0.141853    282500.0          275000.0           281000.0   \n",
       "32003               0.141853    269577.0          282500.0           275000.0   \n",
       "...                      ...         ...               ...                ...   \n",
       "34997               0.247189    259750.0          285000.0           256000.0   \n",
       "34997               0.247189    297000.0          259750.0           285000.0   \n",
       "34997               0.247189    305000.0          297000.0           259750.0   \n",
       "34997               0.247189    300000.0          305000.0           297000.0   \n",
       "34997               0.247189    599000.0          300000.0           305000.0   \n",
       "\n",
       "          Last_3Month_Price  Last_Month_Diff  Last_2Month_Diff  \\\n",
       "Zip_Code                                                         \n",
       "32003              244950.0         -10500.0            5000.0   \n",
       "32003              270000.0          16500.0          -10500.0   \n",
       "32003              275000.0          -6000.0           16500.0   \n",
       "32003              264500.0           7500.0           -6000.0   \n",
       "32003              281000.0         -12923.0            7500.0   \n",
       "...                     ...              ...               ...   \n",
       "34997              251000.0         -25250.0           29000.0   \n",
       "34997              256000.0          37250.0          -25250.0   \n",
       "34997              285000.0           8000.0           37250.0   \n",
       "34997              259750.0          -5000.0            8000.0   \n",
       "34997              297000.0         299000.0           -5000.0   \n",
       "\n",
       "          Last_3Month_Diff  \n",
       "Zip_Code                    \n",
       "32003              25050.0  \n",
       "32003               5000.0  \n",
       "32003             -10500.0  \n",
       "32003              16500.0  \n",
       "32003              -6000.0  \n",
       "...                    ...  \n",
       "34997               5000.0  \n",
       "34997              29000.0  \n",
       "34997             -25250.0  \n",
       "34997              37250.0  \n",
       "34997               8000.0  \n",
       "\n",
       "[20794 rows x 17 columns]"
      ],
      "text/html": "<div>\n<style scoped>\n    .dataframe tbody tr th:only-of-type {\n        vertical-align: middle;\n    }\n\n    .dataframe tbody tr th {\n        vertical-align: top;\n    }\n\n    .dataframe thead th {\n        text-align: right;\n    }\n</style>\n<table border=\"1\" class=\"dataframe\">\n  <thead>\n    <tr style=\"text-align: right;\">\n      <th></th>\n      <th>Date_Code</th>\n      <th>Mobility_Rate</th>\n      <th>Expense_Index</th>\n      <th>Crime_Index</th>\n      <th>Total_Vacant</th>\n      <th>Total_Dwellings</th>\n      <th>Total_Sales</th>\n      <th>FHA_Count</th>\n      <th>Home_Affordability</th>\n      <th>Rent_Affordability</th>\n      <th>Sale_Price</th>\n      <th>Last_Month_Price</th>\n      <th>Last_2Month_Price</th>\n      <th>Last_3Month_Price</th>\n      <th>Last_Month_Diff</th>\n      <th>Last_2Month_Diff</th>\n      <th>Last_3Month_Diff</th>\n    </tr>\n    <tr>\n      <th>Zip_Code</th>\n      <th></th>\n      <th></th>\n      <th></th>\n      <th></th>\n      <th></th>\n      <th></th>\n      <th></th>\n      <th></th>\n      <th></th>\n      <th></th>\n      <th></th>\n      <th></th>\n      <th></th>\n      <th></th>\n      <th></th>\n      <th></th>\n      <th></th>\n    </tr>\n  </thead>\n  <tbody>\n    <tr>\n      <th>32003</th>\n      <td>201904</td>\n      <td>0.182327</td>\n      <td>104</td>\n      <td>28</td>\n      <td>704</td>\n      <td>11724</td>\n      <td>42</td>\n      <td>3</td>\n      <td>0.130978</td>\n      <td>0.141853</td>\n      <td>264500.0</td>\n      <td>275000.0</td>\n      <td>270000.0</td>\n      <td>244950.0</td>\n      <td>-10500.0</td>\n      <td>5000.0</td>\n      <td>25050.0</td>\n    </tr>\n    <tr>\n      <th>32003</th>\n      <td>201905</td>\n      <td>0.182327</td>\n      <td>104</td>\n      <td>28</td>\n      <td>704</td>\n      <td>11724</td>\n      <td>66</td>\n      <td>8</td>\n      <td>0.137976</td>\n      <td>0.141853</td>\n      <td>281000.0</td>\n      <td>264500.0</td>\n      <td>275000.0</td>\n      <td>270000.0</td>\n      <td>16500.0</td>\n      <td>-10500.0</td>\n      <td>5000.0</td>\n    </tr>\n    <tr>\n      <th>32003</th>\n      <td>201906</td>\n      <td>0.182327</td>\n      <td>104</td>\n      <td>28</td>\n      <td>704</td>\n      <td>11724</td>\n      <td>43</td>\n      <td>3</td>\n      <td>0.130690</td>\n      <td>0.141853</td>\n      <td>275000.0</td>\n      <td>281000.0</td>\n      <td>264500.0</td>\n      <td>275000.0</td>\n      <td>-6000.0</td>\n      <td>16500.0</td>\n      <td>-10500.0</td>\n    </tr>\n    <tr>\n      <th>32003</th>\n      <td>201907</td>\n      <td>0.182327</td>\n      <td>104</td>\n      <td>28</td>\n      <td>704</td>\n      <td>11724</td>\n      <td>90</td>\n      <td>7</td>\n      <td>0.133641</td>\n      <td>0.141853</td>\n      <td>282500.0</td>\n      <td>275000.0</td>\n      <td>281000.0</td>\n      <td>264500.0</td>\n      <td>7500.0</td>\n      <td>-6000.0</td>\n      <td>16500.0</td>\n    </tr>\n    <tr>\n      <th>32003</th>\n      <td>201908</td>\n      <td>0.182327</td>\n      <td>104</td>\n      <td>28</td>\n      <td>704</td>\n      <td>11724</td>\n      <td>64</td>\n      <td>5</td>\n      <td>0.125212</td>\n      <td>0.141853</td>\n      <td>269577.0</td>\n      <td>282500.0</td>\n      <td>275000.0</td>\n      <td>281000.0</td>\n      <td>-12923.0</td>\n      <td>7500.0</td>\n      <td>-6000.0</td>\n    </tr>\n    <tr>\n      <th>...</th>\n      <td>...</td>\n      <td>...</td>\n      <td>...</td>\n      <td>...</td>\n      <td>...</td>\n      <td>...</td>\n      <td>...</td>\n      <td>...</td>\n      <td>...</td>\n      <td>...</td>\n      <td>...</td>\n      <td>...</td>\n      <td>...</td>\n      <td>...</td>\n      <td>...</td>\n      <td>...</td>\n      <td>...</td>\n    </tr>\n    <tr>\n      <th>34997</th>\n      <td>202011</td>\n      <td>0.143471</td>\n      <td>91</td>\n      <td>113</td>\n      <td>2976</td>\n      <td>21551</td>\n      <td>132</td>\n      <td>11</td>\n      <td>0.173497</td>\n      <td>0.247189</td>\n      <td>259750.0</td>\n      <td>285000.0</td>\n      <td>256000.0</td>\n      <td>251000.0</td>\n      <td>-25250.0</td>\n      <td>29000.0</td>\n      <td>5000.0</td>\n    </tr>\n    <tr>\n      <th>34997</th>\n      <td>202012</td>\n      <td>0.143471</td>\n      <td>91</td>\n      <td>113</td>\n      <td>2976</td>\n      <td>21551</td>\n      <td>142</td>\n      <td>16</td>\n      <td>0.196301</td>\n      <td>0.247189</td>\n      <td>297000.0</td>\n      <td>259750.0</td>\n      <td>285000.0</td>\n      <td>256000.0</td>\n      <td>37250.0</td>\n      <td>-25250.0</td>\n      <td>29000.0</td>\n    </tr>\n    <tr>\n      <th>34997</th>\n      <td>202101</td>\n      <td>0.143471</td>\n      <td>91</td>\n      <td>113</td>\n      <td>2976</td>\n      <td>21551</td>\n      <td>81</td>\n      <td>10</td>\n      <td>0.202930</td>\n      <td>0.247189</td>\n      <td>305000.0</td>\n      <td>297000.0</td>\n      <td>259750.0</td>\n      <td>285000.0</td>\n      <td>8000.0</td>\n      <td>37250.0</td>\n      <td>-25250.0</td>\n    </tr>\n    <tr>\n      <th>34997</th>\n      <td>202102</td>\n      <td>0.143471</td>\n      <td>91</td>\n      <td>113</td>\n      <td>2976</td>\n      <td>21551</td>\n      <td>116</td>\n      <td>7</td>\n      <td>0.201553</td>\n      <td>0.247189</td>\n      <td>300000.0</td>\n      <td>305000.0</td>\n      <td>297000.0</td>\n      <td>259750.0</td>\n      <td>-5000.0</td>\n      <td>8000.0</td>\n      <td>37250.0</td>\n    </tr>\n    <tr>\n      <th>34997</th>\n      <td>202103</td>\n      <td>0.143471</td>\n      <td>91</td>\n      <td>113</td>\n      <td>2976</td>\n      <td>21551</td>\n      <td>7</td>\n      <td>12</td>\n      <td>0.416754</td>\n      <td>0.247189</td>\n      <td>599000.0</td>\n      <td>300000.0</td>\n      <td>305000.0</td>\n      <td>297000.0</td>\n      <td>299000.0</td>\n      <td>-5000.0</td>\n      <td>8000.0</td>\n    </tr>\n  </tbody>\n</table>\n<p>20794 rows × 17 columns</p>\n</div>"
     },
     "metadata": {},
     "execution_count": 183
    }
   ],
   "source": [
    "rf_data['Date_Code'] = rf_data['Date_Code'].astype(str)\n",
    "rf_data"
   ]
  },
  {
   "cell_type": "code",
   "execution_count": 261,
   "metadata": {},
   "outputs": [
    {
     "output_type": "execute_result",
     "data": {
      "text/plain": [
       "          Mobility_Rate  Expense_Index  Crime_Index  Total_Vacant  \\\n",
       "Zip_Code                                                            \n",
       "32003          0.182327            104           28           704   \n",
       "32003          0.182327            104           28           704   \n",
       "32003          0.182327            104           28           704   \n",
       "32008          0.067037             82          118           964   \n",
       "32008          0.067037             82          118           964   \n",
       "...                 ...            ...          ...           ...   \n",
       "34996          0.141276             78          140          2780   \n",
       "34996          0.141276             78          140          2780   \n",
       "34997          0.143471             91          113          2976   \n",
       "34997          0.143471             91          113          2976   \n",
       "34997          0.143471             91          113          2976   \n",
       "\n",
       "          Total_Dwellings  Total_Sales  FHA_Count  Home_Affordability  \\\n",
       "Zip_Code                                                                \n",
       "32003               11724           39          6            0.124589   \n",
       "32003               11724           30          8            0.140027   \n",
       "32003               11724           70          4            0.147681   \n",
       "32008                3247            6          0            0.153378   \n",
       "32008                3247            3          1            0.062420   \n",
       "...                   ...          ...        ...                 ...   \n",
       "34996                9249           57          1            0.225364   \n",
       "34996                9249           14          0            0.275304   \n",
       "34997               21551           81         10            0.202930   \n",
       "34997               21551          116          7            0.201553   \n",
       "34997               21551            7         12            0.416754   \n",
       "\n",
       "          Rent_Affordability  Sale_Price  Last_Month_Price  Last_2Month_Price  \\\n",
       "Zip_Code                                                                        \n",
       "32003               0.141853    299900.0          294000.0           336000.0   \n",
       "32003               0.141853    333800.0          299900.0           294000.0   \n",
       "32003               0.141853    339950.0          333800.0           299900.0   \n",
       "32008               0.285180    132000.0          169500.0            72500.0   \n",
       "32008               0.285180     53200.0          132000.0           169500.0   \n",
       "...                      ...         ...               ...                ...   \n",
       "34996               0.209918    395000.0          345000.0           390000.0   \n",
       "34996               0.209918    465950.0          395000.0           345000.0   \n",
       "34997               0.247189    305000.0          297000.0           259750.0   \n",
       "34997               0.247189    300000.0          305000.0           297000.0   \n",
       "34997               0.247189    599000.0          300000.0           305000.0   \n",
       "\n",
       "          Last_3Month_Price  Last_Month_Diff  Last_2Month_Diff  \\\n",
       "Zip_Code                                                         \n",
       "32003              330000.0           5900.0          -42000.0   \n",
       "32003              336000.0          33900.0            5900.0   \n",
       "32003              294000.0           6150.0           33900.0   \n",
       "32008              107000.0         -37500.0           97000.0   \n",
       "32008               72500.0         -78800.0          -37500.0   \n",
       "...                     ...              ...               ...   \n",
       "34996              400000.0          50000.0          -45000.0   \n",
       "34996              390000.0          70950.0           50000.0   \n",
       "34997              285000.0           8000.0           37250.0   \n",
       "34997              259750.0          -5000.0            8000.0   \n",
       "34997              297000.0         299000.0           -5000.0   \n",
       "\n",
       "          Last_3Month_Diff  \n",
       "Zip_Code                    \n",
       "32003               6000.0  \n",
       "32003             -42000.0  \n",
       "32003               5900.0  \n",
       "32008             -34500.0  \n",
       "32008              97000.0  \n",
       "...                    ...  \n",
       "34996             -10000.0  \n",
       "34996             -45000.0  \n",
       "34997             -25250.0  \n",
       "34997              37250.0  \n",
       "34997               8000.0  \n",
       "\n",
       "[2542 rows x 16 columns]"
      ],
      "text/html": "<div>\n<style scoped>\n    .dataframe tbody tr th:only-of-type {\n        vertical-align: middle;\n    }\n\n    .dataframe tbody tr th {\n        vertical-align: top;\n    }\n\n    .dataframe thead th {\n        text-align: right;\n    }\n</style>\n<table border=\"1\" class=\"dataframe\">\n  <thead>\n    <tr style=\"text-align: right;\">\n      <th></th>\n      <th>Mobility_Rate</th>\n      <th>Expense_Index</th>\n      <th>Crime_Index</th>\n      <th>Total_Vacant</th>\n      <th>Total_Dwellings</th>\n      <th>Total_Sales</th>\n      <th>FHA_Count</th>\n      <th>Home_Affordability</th>\n      <th>Rent_Affordability</th>\n      <th>Sale_Price</th>\n      <th>Last_Month_Price</th>\n      <th>Last_2Month_Price</th>\n      <th>Last_3Month_Price</th>\n      <th>Last_Month_Diff</th>\n      <th>Last_2Month_Diff</th>\n      <th>Last_3Month_Diff</th>\n    </tr>\n    <tr>\n      <th>Zip_Code</th>\n      <th></th>\n      <th></th>\n      <th></th>\n      <th></th>\n      <th></th>\n      <th></th>\n      <th></th>\n      <th></th>\n      <th></th>\n      <th></th>\n      <th></th>\n      <th></th>\n      <th></th>\n      <th></th>\n      <th></th>\n      <th></th>\n    </tr>\n  </thead>\n  <tbody>\n    <tr>\n      <th>32003</th>\n      <td>0.182327</td>\n      <td>104</td>\n      <td>28</td>\n      <td>704</td>\n      <td>11724</td>\n      <td>39</td>\n      <td>6</td>\n      <td>0.124589</td>\n      <td>0.141853</td>\n      <td>299900.0</td>\n      <td>294000.0</td>\n      <td>336000.0</td>\n      <td>330000.0</td>\n      <td>5900.0</td>\n      <td>-42000.0</td>\n      <td>6000.0</td>\n    </tr>\n    <tr>\n      <th>32003</th>\n      <td>0.182327</td>\n      <td>104</td>\n      <td>28</td>\n      <td>704</td>\n      <td>11724</td>\n      <td>30</td>\n      <td>8</td>\n      <td>0.140027</td>\n      <td>0.141853</td>\n      <td>333800.0</td>\n      <td>299900.0</td>\n      <td>294000.0</td>\n      <td>336000.0</td>\n      <td>33900.0</td>\n      <td>5900.0</td>\n      <td>-42000.0</td>\n    </tr>\n    <tr>\n      <th>32003</th>\n      <td>0.182327</td>\n      <td>104</td>\n      <td>28</td>\n      <td>704</td>\n      <td>11724</td>\n      <td>70</td>\n      <td>4</td>\n      <td>0.147681</td>\n      <td>0.141853</td>\n      <td>339950.0</td>\n      <td>333800.0</td>\n      <td>299900.0</td>\n      <td>294000.0</td>\n      <td>6150.0</td>\n      <td>33900.0</td>\n      <td>5900.0</td>\n    </tr>\n    <tr>\n      <th>32008</th>\n      <td>0.067037</td>\n      <td>82</td>\n      <td>118</td>\n      <td>964</td>\n      <td>3247</td>\n      <td>6</td>\n      <td>0</td>\n      <td>0.153378</td>\n      <td>0.285180</td>\n      <td>132000.0</td>\n      <td>169500.0</td>\n      <td>72500.0</td>\n      <td>107000.0</td>\n      <td>-37500.0</td>\n      <td>97000.0</td>\n      <td>-34500.0</td>\n    </tr>\n    <tr>\n      <th>32008</th>\n      <td>0.067037</td>\n      <td>82</td>\n      <td>118</td>\n      <td>964</td>\n      <td>3247</td>\n      <td>3</td>\n      <td>1</td>\n      <td>0.062420</td>\n      <td>0.285180</td>\n      <td>53200.0</td>\n      <td>132000.0</td>\n      <td>169500.0</td>\n      <td>72500.0</td>\n      <td>-78800.0</td>\n      <td>-37500.0</td>\n      <td>97000.0</td>\n    </tr>\n    <tr>\n      <th>...</th>\n      <td>...</td>\n      <td>...</td>\n      <td>...</td>\n      <td>...</td>\n      <td>...</td>\n      <td>...</td>\n      <td>...</td>\n      <td>...</td>\n      <td>...</td>\n      <td>...</td>\n      <td>...</td>\n      <td>...</td>\n      <td>...</td>\n      <td>...</td>\n      <td>...</td>\n      <td>...</td>\n    </tr>\n    <tr>\n      <th>34996</th>\n      <td>0.141276</td>\n      <td>78</td>\n      <td>140</td>\n      <td>2780</td>\n      <td>9249</td>\n      <td>57</td>\n      <td>1</td>\n      <td>0.225364</td>\n      <td>0.209918</td>\n      <td>395000.0</td>\n      <td>345000.0</td>\n      <td>390000.0</td>\n      <td>400000.0</td>\n      <td>50000.0</td>\n      <td>-45000.0</td>\n      <td>-10000.0</td>\n    </tr>\n    <tr>\n      <th>34996</th>\n      <td>0.141276</td>\n      <td>78</td>\n      <td>140</td>\n      <td>2780</td>\n      <td>9249</td>\n      <td>14</td>\n      <td>0</td>\n      <td>0.275304</td>\n      <td>0.209918</td>\n      <td>465950.0</td>\n      <td>395000.0</td>\n      <td>345000.0</td>\n      <td>390000.0</td>\n      <td>70950.0</td>\n      <td>50000.0</td>\n      <td>-45000.0</td>\n    </tr>\n    <tr>\n      <th>34997</th>\n      <td>0.143471</td>\n      <td>91</td>\n      <td>113</td>\n      <td>2976</td>\n      <td>21551</td>\n      <td>81</td>\n      <td>10</td>\n      <td>0.202930</td>\n      <td>0.247189</td>\n      <td>305000.0</td>\n      <td>297000.0</td>\n      <td>259750.0</td>\n      <td>285000.0</td>\n      <td>8000.0</td>\n      <td>37250.0</td>\n      <td>-25250.0</td>\n    </tr>\n    <tr>\n      <th>34997</th>\n      <td>0.143471</td>\n      <td>91</td>\n      <td>113</td>\n      <td>2976</td>\n      <td>21551</td>\n      <td>116</td>\n      <td>7</td>\n      <td>0.201553</td>\n      <td>0.247189</td>\n      <td>300000.0</td>\n      <td>305000.0</td>\n      <td>297000.0</td>\n      <td>259750.0</td>\n      <td>-5000.0</td>\n      <td>8000.0</td>\n      <td>37250.0</td>\n    </tr>\n    <tr>\n      <th>34997</th>\n      <td>0.143471</td>\n      <td>91</td>\n      <td>113</td>\n      <td>2976</td>\n      <td>21551</td>\n      <td>7</td>\n      <td>12</td>\n      <td>0.416754</td>\n      <td>0.247189</td>\n      <td>599000.0</td>\n      <td>300000.0</td>\n      <td>305000.0</td>\n      <td>297000.0</td>\n      <td>299000.0</td>\n      <td>-5000.0</td>\n      <td>8000.0</td>\n    </tr>\n  </tbody>\n</table>\n<p>2542 rows × 16 columns</p>\n</div>"
     },
     "metadata": {},
     "execution_count": 261
    }
   ],
   "source": [
    "test = rf_data[rf_data['Date_Code'].str.contains('2021')].drop(columns=['Date_Code'])\n",
    "test"
   ]
  },
  {
   "cell_type": "code",
   "execution_count": 185,
   "metadata": {},
   "outputs": [
    {
     "output_type": "execute_result",
     "data": {
      "text/plain": [
       "          Mobility_Rate  Expense_Index  Crime_Index  Total_Vacant  \\\n",
       "Zip_Code                                                            \n",
       "32003          0.182327            104           28           704   \n",
       "32003          0.182327            104           28           704   \n",
       "32003          0.182327            104           28           704   \n",
       "32008          0.067037             82          118           964   \n",
       "32008          0.067037             82          118           964   \n",
       "\n",
       "          Total_Dwellings  Total_Sales  FHA_Count  Home_Affordability  \\\n",
       "Zip_Code                                                                \n",
       "32003               11724           39          6            0.124589   \n",
       "32003               11724           30          8            0.140027   \n",
       "32003               11724           70          4            0.147681   \n",
       "32008                3247            6          0            0.153378   \n",
       "32008                3247            3          1            0.062420   \n",
       "\n",
       "          Rent_Affordability  Last_Month_Price  Last_2Month_Price  \\\n",
       "Zip_Code                                                            \n",
       "32003               0.141853          294000.0           336000.0   \n",
       "32003               0.141853          299900.0           294000.0   \n",
       "32003               0.141853          333800.0           299900.0   \n",
       "32008               0.285180          169500.0            72500.0   \n",
       "32008               0.285180          132000.0           169500.0   \n",
       "\n",
       "          Last_3Month_Price  Last_Month_Diff  Last_2Month_Diff  \\\n",
       "Zip_Code                                                         \n",
       "32003              330000.0           5900.0          -42000.0   \n",
       "32003              336000.0          33900.0            5900.0   \n",
       "32003              294000.0           6150.0           33900.0   \n",
       "32008              107000.0         -37500.0           97000.0   \n",
       "32008               72500.0         -78800.0          -37500.0   \n",
       "\n",
       "          Last_3Month_Diff  \n",
       "Zip_Code                    \n",
       "32003               6000.0  \n",
       "32003             -42000.0  \n",
       "32003               5900.0  \n",
       "32008             -34500.0  \n",
       "32008              97000.0  "
      ],
      "text/html": "<div>\n<style scoped>\n    .dataframe tbody tr th:only-of-type {\n        vertical-align: middle;\n    }\n\n    .dataframe tbody tr th {\n        vertical-align: top;\n    }\n\n    .dataframe thead th {\n        text-align: right;\n    }\n</style>\n<table border=\"1\" class=\"dataframe\">\n  <thead>\n    <tr style=\"text-align: right;\">\n      <th></th>\n      <th>Mobility_Rate</th>\n      <th>Expense_Index</th>\n      <th>Crime_Index</th>\n      <th>Total_Vacant</th>\n      <th>Total_Dwellings</th>\n      <th>Total_Sales</th>\n      <th>FHA_Count</th>\n      <th>Home_Affordability</th>\n      <th>Rent_Affordability</th>\n      <th>Last_Month_Price</th>\n      <th>Last_2Month_Price</th>\n      <th>Last_3Month_Price</th>\n      <th>Last_Month_Diff</th>\n      <th>Last_2Month_Diff</th>\n      <th>Last_3Month_Diff</th>\n    </tr>\n    <tr>\n      <th>Zip_Code</th>\n      <th></th>\n      <th></th>\n      <th></th>\n      <th></th>\n      <th></th>\n      <th></th>\n      <th></th>\n      <th></th>\n      <th></th>\n      <th></th>\n      <th></th>\n      <th></th>\n      <th></th>\n      <th></th>\n      <th></th>\n    </tr>\n  </thead>\n  <tbody>\n    <tr>\n      <th>32003</th>\n      <td>0.182327</td>\n      <td>104</td>\n      <td>28</td>\n      <td>704</td>\n      <td>11724</td>\n      <td>39</td>\n      <td>6</td>\n      <td>0.124589</td>\n      <td>0.141853</td>\n      <td>294000.0</td>\n      <td>336000.0</td>\n      <td>330000.0</td>\n      <td>5900.0</td>\n      <td>-42000.0</td>\n      <td>6000.0</td>\n    </tr>\n    <tr>\n      <th>32003</th>\n      <td>0.182327</td>\n      <td>104</td>\n      <td>28</td>\n      <td>704</td>\n      <td>11724</td>\n      <td>30</td>\n      <td>8</td>\n      <td>0.140027</td>\n      <td>0.141853</td>\n      <td>299900.0</td>\n      <td>294000.0</td>\n      <td>336000.0</td>\n      <td>33900.0</td>\n      <td>5900.0</td>\n      <td>-42000.0</td>\n    </tr>\n    <tr>\n      <th>32003</th>\n      <td>0.182327</td>\n      <td>104</td>\n      <td>28</td>\n      <td>704</td>\n      <td>11724</td>\n      <td>70</td>\n      <td>4</td>\n      <td>0.147681</td>\n      <td>0.141853</td>\n      <td>333800.0</td>\n      <td>299900.0</td>\n      <td>294000.0</td>\n      <td>6150.0</td>\n      <td>33900.0</td>\n      <td>5900.0</td>\n    </tr>\n    <tr>\n      <th>32008</th>\n      <td>0.067037</td>\n      <td>82</td>\n      <td>118</td>\n      <td>964</td>\n      <td>3247</td>\n      <td>6</td>\n      <td>0</td>\n      <td>0.153378</td>\n      <td>0.285180</td>\n      <td>169500.0</td>\n      <td>72500.0</td>\n      <td>107000.0</td>\n      <td>-37500.0</td>\n      <td>97000.0</td>\n      <td>-34500.0</td>\n    </tr>\n    <tr>\n      <th>32008</th>\n      <td>0.067037</td>\n      <td>82</td>\n      <td>118</td>\n      <td>964</td>\n      <td>3247</td>\n      <td>3</td>\n      <td>1</td>\n      <td>0.062420</td>\n      <td>0.285180</td>\n      <td>132000.0</td>\n      <td>169500.0</td>\n      <td>72500.0</td>\n      <td>-78800.0</td>\n      <td>-37500.0</td>\n      <td>97000.0</td>\n    </tr>\n  </tbody>\n</table>\n</div>"
     },
     "metadata": {},
     "execution_count": 185
    }
   ],
   "source": [
    "sale_y_test = test['Sale_Price'].values\n",
    "\n",
    "sale_X_test = test.drop(columns='Sale_Price')\n",
    "\n",
    "sale_test_names = sale_X_test.columns\n",
    "\n",
    "sale_X_test.head()"
   ]
  },
  {
   "cell_type": "code",
   "execution_count": 186,
   "metadata": {},
   "outputs": [
    {
     "output_type": "execute_result",
     "data": {
      "text/plain": [
       "          Mobility_Rate  Expense_Index  Crime_Index  Total_Vacant  \\\n",
       "Zip_Code                                                            \n",
       "32003          0.182327            104           28           704   \n",
       "32003          0.182327            104           28           704   \n",
       "32003          0.182327            104           28           704   \n",
       "32003          0.182327            104           28           704   \n",
       "32003          0.182327            104           28           704   \n",
       "...                 ...            ...          ...           ...   \n",
       "34997          0.143471             91          113          2976   \n",
       "34997          0.143471             91          113          2976   \n",
       "34997          0.143471             91          113          2976   \n",
       "34997          0.143471             91          113          2976   \n",
       "34997          0.143471             91          113          2976   \n",
       "\n",
       "          Total_Dwellings  Total_Sales  FHA_Count  Home_Affordability  \\\n",
       "Zip_Code                                                                \n",
       "32003               11724           42          3            0.130978   \n",
       "32003               11724           66          8            0.137976   \n",
       "32003               11724           43          3            0.130690   \n",
       "32003               11724           90          7            0.133641   \n",
       "32003               11724           64          5            0.125212   \n",
       "...                   ...          ...        ...                 ...   \n",
       "34997               21551          123         18            0.171370   \n",
       "34997               21551          115         18            0.173776   \n",
       "34997               21551          139         17            0.192070   \n",
       "34997               21551          132         11            0.173497   \n",
       "34997               21551          142         16            0.196301   \n",
       "\n",
       "          Rent_Affordability  Sale_Price  Last_Month_Price  Last_2Month_Price  \\\n",
       "Zip_Code                                                                        \n",
       "32003               0.141853    264500.0          275000.0           270000.0   \n",
       "32003               0.141853    281000.0          264500.0           275000.0   \n",
       "32003               0.141853    275000.0          281000.0           264500.0   \n",
       "32003               0.141853    282500.0          275000.0           281000.0   \n",
       "32003               0.141853    269577.0          282500.0           275000.0   \n",
       "...                      ...         ...               ...                ...   \n",
       "34997               0.247189    251000.0          255000.0           259900.0   \n",
       "34997               0.247189    256000.0          251000.0           255000.0   \n",
       "34997               0.247189    285000.0          256000.0           251000.0   \n",
       "34997               0.247189    259750.0          285000.0           256000.0   \n",
       "34997               0.247189    297000.0          259750.0           285000.0   \n",
       "\n",
       "          Last_3Month_Price  Last_Month_Diff  Last_2Month_Diff  \\\n",
       "Zip_Code                                                         \n",
       "32003              244950.0         -10500.0            5000.0   \n",
       "32003              270000.0          16500.0          -10500.0   \n",
       "32003              275000.0          -6000.0           16500.0   \n",
       "32003              264500.0           7500.0           -6000.0   \n",
       "32003              281000.0         -12923.0            7500.0   \n",
       "...                     ...              ...               ...   \n",
       "34997              240000.0          -4000.0           -4900.0   \n",
       "34997              259900.0           5000.0           -4000.0   \n",
       "34997              255000.0          29000.0            5000.0   \n",
       "34997              251000.0         -25250.0           29000.0   \n",
       "34997              256000.0          37250.0          -25250.0   \n",
       "\n",
       "          Last_3Month_Diff  \n",
       "Zip_Code                    \n",
       "32003              25050.0  \n",
       "32003               5000.0  \n",
       "32003             -10500.0  \n",
       "32003              16500.0  \n",
       "32003              -6000.0  \n",
       "...                    ...  \n",
       "34997              19900.0  \n",
       "34997              -4900.0  \n",
       "34997              -4000.0  \n",
       "34997               5000.0  \n",
       "34997              29000.0  \n",
       "\n",
       "[18252 rows x 16 columns]"
      ],
      "text/html": "<div>\n<style scoped>\n    .dataframe tbody tr th:only-of-type {\n        vertical-align: middle;\n    }\n\n    .dataframe tbody tr th {\n        vertical-align: top;\n    }\n\n    .dataframe thead th {\n        text-align: right;\n    }\n</style>\n<table border=\"1\" class=\"dataframe\">\n  <thead>\n    <tr style=\"text-align: right;\">\n      <th></th>\n      <th>Mobility_Rate</th>\n      <th>Expense_Index</th>\n      <th>Crime_Index</th>\n      <th>Total_Vacant</th>\n      <th>Total_Dwellings</th>\n      <th>Total_Sales</th>\n      <th>FHA_Count</th>\n      <th>Home_Affordability</th>\n      <th>Rent_Affordability</th>\n      <th>Sale_Price</th>\n      <th>Last_Month_Price</th>\n      <th>Last_2Month_Price</th>\n      <th>Last_3Month_Price</th>\n      <th>Last_Month_Diff</th>\n      <th>Last_2Month_Diff</th>\n      <th>Last_3Month_Diff</th>\n    </tr>\n    <tr>\n      <th>Zip_Code</th>\n      <th></th>\n      <th></th>\n      <th></th>\n      <th></th>\n      <th></th>\n      <th></th>\n      <th></th>\n      <th></th>\n      <th></th>\n      <th></th>\n      <th></th>\n      <th></th>\n      <th></th>\n      <th></th>\n      <th></th>\n      <th></th>\n    </tr>\n  </thead>\n  <tbody>\n    <tr>\n      <th>32003</th>\n      <td>0.182327</td>\n      <td>104</td>\n      <td>28</td>\n      <td>704</td>\n      <td>11724</td>\n      <td>42</td>\n      <td>3</td>\n      <td>0.130978</td>\n      <td>0.141853</td>\n      <td>264500.0</td>\n      <td>275000.0</td>\n      <td>270000.0</td>\n      <td>244950.0</td>\n      <td>-10500.0</td>\n      <td>5000.0</td>\n      <td>25050.0</td>\n    </tr>\n    <tr>\n      <th>32003</th>\n      <td>0.182327</td>\n      <td>104</td>\n      <td>28</td>\n      <td>704</td>\n      <td>11724</td>\n      <td>66</td>\n      <td>8</td>\n      <td>0.137976</td>\n      <td>0.141853</td>\n      <td>281000.0</td>\n      <td>264500.0</td>\n      <td>275000.0</td>\n      <td>270000.0</td>\n      <td>16500.0</td>\n      <td>-10500.0</td>\n      <td>5000.0</td>\n    </tr>\n    <tr>\n      <th>32003</th>\n      <td>0.182327</td>\n      <td>104</td>\n      <td>28</td>\n      <td>704</td>\n      <td>11724</td>\n      <td>43</td>\n      <td>3</td>\n      <td>0.130690</td>\n      <td>0.141853</td>\n      <td>275000.0</td>\n      <td>281000.0</td>\n      <td>264500.0</td>\n      <td>275000.0</td>\n      <td>-6000.0</td>\n      <td>16500.0</td>\n      <td>-10500.0</td>\n    </tr>\n    <tr>\n      <th>32003</th>\n      <td>0.182327</td>\n      <td>104</td>\n      <td>28</td>\n      <td>704</td>\n      <td>11724</td>\n      <td>90</td>\n      <td>7</td>\n      <td>0.133641</td>\n      <td>0.141853</td>\n      <td>282500.0</td>\n      <td>275000.0</td>\n      <td>281000.0</td>\n      <td>264500.0</td>\n      <td>7500.0</td>\n      <td>-6000.0</td>\n      <td>16500.0</td>\n    </tr>\n    <tr>\n      <th>32003</th>\n      <td>0.182327</td>\n      <td>104</td>\n      <td>28</td>\n      <td>704</td>\n      <td>11724</td>\n      <td>64</td>\n      <td>5</td>\n      <td>0.125212</td>\n      <td>0.141853</td>\n      <td>269577.0</td>\n      <td>282500.0</td>\n      <td>275000.0</td>\n      <td>281000.0</td>\n      <td>-12923.0</td>\n      <td>7500.0</td>\n      <td>-6000.0</td>\n    </tr>\n    <tr>\n      <th>...</th>\n      <td>...</td>\n      <td>...</td>\n      <td>...</td>\n      <td>...</td>\n      <td>...</td>\n      <td>...</td>\n      <td>...</td>\n      <td>...</td>\n      <td>...</td>\n      <td>...</td>\n      <td>...</td>\n      <td>...</td>\n      <td>...</td>\n      <td>...</td>\n      <td>...</td>\n      <td>...</td>\n    </tr>\n    <tr>\n      <th>34997</th>\n      <td>0.143471</td>\n      <td>91</td>\n      <td>113</td>\n      <td>2976</td>\n      <td>21551</td>\n      <td>123</td>\n      <td>18</td>\n      <td>0.171370</td>\n      <td>0.247189</td>\n      <td>251000.0</td>\n      <td>255000.0</td>\n      <td>259900.0</td>\n      <td>240000.0</td>\n      <td>-4000.0</td>\n      <td>-4900.0</td>\n      <td>19900.0</td>\n    </tr>\n    <tr>\n      <th>34997</th>\n      <td>0.143471</td>\n      <td>91</td>\n      <td>113</td>\n      <td>2976</td>\n      <td>21551</td>\n      <td>115</td>\n      <td>18</td>\n      <td>0.173776</td>\n      <td>0.247189</td>\n      <td>256000.0</td>\n      <td>251000.0</td>\n      <td>255000.0</td>\n      <td>259900.0</td>\n      <td>5000.0</td>\n      <td>-4000.0</td>\n      <td>-4900.0</td>\n    </tr>\n    <tr>\n      <th>34997</th>\n      <td>0.143471</td>\n      <td>91</td>\n      <td>113</td>\n      <td>2976</td>\n      <td>21551</td>\n      <td>139</td>\n      <td>17</td>\n      <td>0.192070</td>\n      <td>0.247189</td>\n      <td>285000.0</td>\n      <td>256000.0</td>\n      <td>251000.0</td>\n      <td>255000.0</td>\n      <td>29000.0</td>\n      <td>5000.0</td>\n      <td>-4000.0</td>\n    </tr>\n    <tr>\n      <th>34997</th>\n      <td>0.143471</td>\n      <td>91</td>\n      <td>113</td>\n      <td>2976</td>\n      <td>21551</td>\n      <td>132</td>\n      <td>11</td>\n      <td>0.173497</td>\n      <td>0.247189</td>\n      <td>259750.0</td>\n      <td>285000.0</td>\n      <td>256000.0</td>\n      <td>251000.0</td>\n      <td>-25250.0</td>\n      <td>29000.0</td>\n      <td>5000.0</td>\n    </tr>\n    <tr>\n      <th>34997</th>\n      <td>0.143471</td>\n      <td>91</td>\n      <td>113</td>\n      <td>2976</td>\n      <td>21551</td>\n      <td>142</td>\n      <td>16</td>\n      <td>0.196301</td>\n      <td>0.247189</td>\n      <td>297000.0</td>\n      <td>259750.0</td>\n      <td>285000.0</td>\n      <td>256000.0</td>\n      <td>37250.0</td>\n      <td>-25250.0</td>\n      <td>29000.0</td>\n    </tr>\n  </tbody>\n</table>\n<p>18252 rows × 16 columns</p>\n</div>"
     },
     "metadata": {},
     "execution_count": 186
    }
   ],
   "source": [
    "training = rf_data[~rf_data['Date_Code'].str.contains('2021')].drop(columns=['Date_Code'])\n",
    "training"
   ]
  },
  {
   "cell_type": "code",
   "execution_count": 187,
   "metadata": {},
   "outputs": [
    {
     "output_type": "execute_result",
     "data": {
      "text/plain": [
       "          Mobility_Rate  Expense_Index  Crime_Index  Total_Vacant  \\\n",
       "Zip_Code                                                            \n",
       "32003          0.182327            104           28           704   \n",
       "32003          0.182327            104           28           704   \n",
       "32003          0.182327            104           28           704   \n",
       "32003          0.182327            104           28           704   \n",
       "32003          0.182327            104           28           704   \n",
       "\n",
       "          Total_Dwellings  Total_Sales  FHA_Count  Home_Affordability  \\\n",
       "Zip_Code                                                                \n",
       "32003               11724           42          3            0.130978   \n",
       "32003               11724           66          8            0.137976   \n",
       "32003               11724           43          3            0.130690   \n",
       "32003               11724           90          7            0.133641   \n",
       "32003               11724           64          5            0.125212   \n",
       "\n",
       "          Rent_Affordability  Last_Month_Price  Last_2Month_Price  \\\n",
       "Zip_Code                                                            \n",
       "32003               0.141853          275000.0           270000.0   \n",
       "32003               0.141853          264500.0           275000.0   \n",
       "32003               0.141853          281000.0           264500.0   \n",
       "32003               0.141853          275000.0           281000.0   \n",
       "32003               0.141853          282500.0           275000.0   \n",
       "\n",
       "          Last_3Month_Price  Last_Month_Diff  Last_2Month_Diff  \\\n",
       "Zip_Code                                                         \n",
       "32003              244950.0         -10500.0            5000.0   \n",
       "32003              270000.0          16500.0          -10500.0   \n",
       "32003              275000.0          -6000.0           16500.0   \n",
       "32003              264500.0           7500.0           -6000.0   \n",
       "32003              281000.0         -12923.0            7500.0   \n",
       "\n",
       "          Last_3Month_Diff  \n",
       "Zip_Code                    \n",
       "32003              25050.0  \n",
       "32003               5000.0  \n",
       "32003             -10500.0  \n",
       "32003              16500.0  \n",
       "32003              -6000.0  "
      ],
      "text/html": "<div>\n<style scoped>\n    .dataframe tbody tr th:only-of-type {\n        vertical-align: middle;\n    }\n\n    .dataframe tbody tr th {\n        vertical-align: top;\n    }\n\n    .dataframe thead th {\n        text-align: right;\n    }\n</style>\n<table border=\"1\" class=\"dataframe\">\n  <thead>\n    <tr style=\"text-align: right;\">\n      <th></th>\n      <th>Mobility_Rate</th>\n      <th>Expense_Index</th>\n      <th>Crime_Index</th>\n      <th>Total_Vacant</th>\n      <th>Total_Dwellings</th>\n      <th>Total_Sales</th>\n      <th>FHA_Count</th>\n      <th>Home_Affordability</th>\n      <th>Rent_Affordability</th>\n      <th>Last_Month_Price</th>\n      <th>Last_2Month_Price</th>\n      <th>Last_3Month_Price</th>\n      <th>Last_Month_Diff</th>\n      <th>Last_2Month_Diff</th>\n      <th>Last_3Month_Diff</th>\n    </tr>\n    <tr>\n      <th>Zip_Code</th>\n      <th></th>\n      <th></th>\n      <th></th>\n      <th></th>\n      <th></th>\n      <th></th>\n      <th></th>\n      <th></th>\n      <th></th>\n      <th></th>\n      <th></th>\n      <th></th>\n      <th></th>\n      <th></th>\n      <th></th>\n    </tr>\n  </thead>\n  <tbody>\n    <tr>\n      <th>32003</th>\n      <td>0.182327</td>\n      <td>104</td>\n      <td>28</td>\n      <td>704</td>\n      <td>11724</td>\n      <td>42</td>\n      <td>3</td>\n      <td>0.130978</td>\n      <td>0.141853</td>\n      <td>275000.0</td>\n      <td>270000.0</td>\n      <td>244950.0</td>\n      <td>-10500.0</td>\n      <td>5000.0</td>\n      <td>25050.0</td>\n    </tr>\n    <tr>\n      <th>32003</th>\n      <td>0.182327</td>\n      <td>104</td>\n      <td>28</td>\n      <td>704</td>\n      <td>11724</td>\n      <td>66</td>\n      <td>8</td>\n      <td>0.137976</td>\n      <td>0.141853</td>\n      <td>264500.0</td>\n      <td>275000.0</td>\n      <td>270000.0</td>\n      <td>16500.0</td>\n      <td>-10500.0</td>\n      <td>5000.0</td>\n    </tr>\n    <tr>\n      <th>32003</th>\n      <td>0.182327</td>\n      <td>104</td>\n      <td>28</td>\n      <td>704</td>\n      <td>11724</td>\n      <td>43</td>\n      <td>3</td>\n      <td>0.130690</td>\n      <td>0.141853</td>\n      <td>281000.0</td>\n      <td>264500.0</td>\n      <td>275000.0</td>\n      <td>-6000.0</td>\n      <td>16500.0</td>\n      <td>-10500.0</td>\n    </tr>\n    <tr>\n      <th>32003</th>\n      <td>0.182327</td>\n      <td>104</td>\n      <td>28</td>\n      <td>704</td>\n      <td>11724</td>\n      <td>90</td>\n      <td>7</td>\n      <td>0.133641</td>\n      <td>0.141853</td>\n      <td>275000.0</td>\n      <td>281000.0</td>\n      <td>264500.0</td>\n      <td>7500.0</td>\n      <td>-6000.0</td>\n      <td>16500.0</td>\n    </tr>\n    <tr>\n      <th>32003</th>\n      <td>0.182327</td>\n      <td>104</td>\n      <td>28</td>\n      <td>704</td>\n      <td>11724</td>\n      <td>64</td>\n      <td>5</td>\n      <td>0.125212</td>\n      <td>0.141853</td>\n      <td>282500.0</td>\n      <td>275000.0</td>\n      <td>281000.0</td>\n      <td>-12923.0</td>\n      <td>7500.0</td>\n      <td>-6000.0</td>\n    </tr>\n  </tbody>\n</table>\n</div>"
     },
     "metadata": {},
     "execution_count": 187
    }
   ],
   "source": [
    "sale_y_train= training['Sale_Price'].values\n",
    "\n",
    "sale_X_train = training.drop(columns='Sale_Price')\n",
    "\n",
    "sale_train_names = sale_X_train.columns\n",
    "\n",
    "sale_X_train.head()"
   ]
  },
  {
   "cell_type": "code",
   "execution_count": 188,
   "metadata": {},
   "outputs": [
    {
     "output_type": "execute_result",
     "data": {
      "text/plain": [
       "RandomForestRegressor(n_estimators=1000, n_jobs=-1, random_state=42)"
      ]
     },
     "metadata": {},
     "execution_count": 188
    }
   ],
   "source": [
    "#Random Forest Regressor\n",
    "rf_regr = RandomForestRegressor(n_estimators=1000, n_jobs=-1, random_state=42)\n",
    "rf_regr.fit(sale_X_train, sale_y_train)"
   ]
  },
  {
   "cell_type": "code",
   "execution_count": 189,
   "metadata": {},
   "outputs": [
    {
     "output_type": "stream",
     "name": "stdout",
     "text": [
      "Training Data Score: 0.9981845826685722\nTesting Data Score: 0.978534981036313\n"
     ]
    }
   ],
   "source": [
    "print(f\"Training Data Score: {rf_regr.score(sale_X_train, sale_y_train)}\")\n",
    "print(f\"Testing Data Score: {rf_regr.score(sale_X_test, sale_y_test)}\")"
   ]
  },
  {
   "cell_type": "code",
   "execution_count": 190,
   "metadata": {},
   "outputs": [
    {
     "output_type": "stream",
     "name": "stdout",
     "text": [
      "Mean Error = 0.07004\n"
     ]
    }
   ],
   "source": [
    "rf_pred = rf_regr.predict(sale_X_test)\n",
    "\n",
    "print('Mean Error = %.5f' % np.sqrt(mean_squared_log_error(sale_y_test, rf_pred)))"
   ]
  },
  {
   "cell_type": "code",
   "execution_count": 263,
   "metadata": {},
   "outputs": [
    {
     "output_type": "execute_result",
     "data": {
      "text/plain": [
       "      Sale_Price_Prediction    Actual\n",
       "0                300813.433  299900.0\n",
       "1                333409.450  333800.0\n",
       "2                339040.001  339950.0\n",
       "3                133453.210  132000.0\n",
       "4                 65845.209   53200.0\n",
       "...                     ...       ...\n",
       "2537             395403.237  395000.0\n",
       "2538             464766.475  465950.0\n",
       "2539             305500.998  305000.0\n",
       "2540             300436.306  300000.0\n",
       "2541             559847.963  599000.0\n",
       "\n",
       "[2542 rows x 2 columns]"
      ],
      "text/html": "<div>\n<style scoped>\n    .dataframe tbody tr th:only-of-type {\n        vertical-align: middle;\n    }\n\n    .dataframe tbody tr th {\n        vertical-align: top;\n    }\n\n    .dataframe thead th {\n        text-align: right;\n    }\n</style>\n<table border=\"1\" class=\"dataframe\">\n  <thead>\n    <tr style=\"text-align: right;\">\n      <th></th>\n      <th>Sale_Price_Prediction</th>\n      <th>Actual</th>\n    </tr>\n  </thead>\n  <tbody>\n    <tr>\n      <th>0</th>\n      <td>300813.433</td>\n      <td>299900.0</td>\n    </tr>\n    <tr>\n      <th>1</th>\n      <td>333409.450</td>\n      <td>333800.0</td>\n    </tr>\n    <tr>\n      <th>2</th>\n      <td>339040.001</td>\n      <td>339950.0</td>\n    </tr>\n    <tr>\n      <th>3</th>\n      <td>133453.210</td>\n      <td>132000.0</td>\n    </tr>\n    <tr>\n      <th>4</th>\n      <td>65845.209</td>\n      <td>53200.0</td>\n    </tr>\n    <tr>\n      <th>...</th>\n      <td>...</td>\n      <td>...</td>\n    </tr>\n    <tr>\n      <th>2537</th>\n      <td>395403.237</td>\n      <td>395000.0</td>\n    </tr>\n    <tr>\n      <th>2538</th>\n      <td>464766.475</td>\n      <td>465950.0</td>\n    </tr>\n    <tr>\n      <th>2539</th>\n      <td>305500.998</td>\n      <td>305000.0</td>\n    </tr>\n    <tr>\n      <th>2540</th>\n      <td>300436.306</td>\n      <td>300000.0</td>\n    </tr>\n    <tr>\n      <th>2541</th>\n      <td>559847.963</td>\n      <td>599000.0</td>\n    </tr>\n  </tbody>\n</table>\n<p>2542 rows × 2 columns</p>\n</div>"
     },
     "metadata": {},
     "execution_count": 263
    }
   ],
   "source": [
    "output_price = pd.DataFrame({'Sale_Price_Prediction':rf_pred, 'Actual': sale_y_test})\n",
    "output_price"
   ]
  },
  {
   "cell_type": "code",
   "execution_count": 264,
   "metadata": {},
   "outputs": [
    {
     "output_type": "execute_result",
     "data": {
      "text/plain": [
       "      Sale_Price_Prediction  Sale_Price_RMSLE\n",
       "0                300813.433          0.070036\n",
       "1                333409.450          0.070036\n",
       "2                339040.001          0.070036\n",
       "3                133453.210          0.070036\n",
       "4                 65845.209          0.070036\n",
       "...                     ...               ...\n",
       "2537             395403.237          0.070036\n",
       "2538             464766.475          0.070036\n",
       "2539             305500.998          0.070036\n",
       "2540             300436.306          0.070036\n",
       "2541             559847.963          0.070036\n",
       "\n",
       "[2542 rows x 2 columns]"
      ],
      "text/html": "<div>\n<style scoped>\n    .dataframe tbody tr th:only-of-type {\n        vertical-align: middle;\n    }\n\n    .dataframe tbody tr th {\n        vertical-align: top;\n    }\n\n    .dataframe thead th {\n        text-align: right;\n    }\n</style>\n<table border=\"1\" class=\"dataframe\">\n  <thead>\n    <tr style=\"text-align: right;\">\n      <th></th>\n      <th>Sale_Price_Prediction</th>\n      <th>Sale_Price_RMSLE</th>\n    </tr>\n  </thead>\n  <tbody>\n    <tr>\n      <th>0</th>\n      <td>300813.433</td>\n      <td>0.070036</td>\n    </tr>\n    <tr>\n      <th>1</th>\n      <td>333409.450</td>\n      <td>0.070036</td>\n    </tr>\n    <tr>\n      <th>2</th>\n      <td>339040.001</td>\n      <td>0.070036</td>\n    </tr>\n    <tr>\n      <th>3</th>\n      <td>133453.210</td>\n      <td>0.070036</td>\n    </tr>\n    <tr>\n      <th>4</th>\n      <td>65845.209</td>\n      <td>0.070036</td>\n    </tr>\n    <tr>\n      <th>...</th>\n      <td>...</td>\n      <td>...</td>\n    </tr>\n    <tr>\n      <th>2537</th>\n      <td>395403.237</td>\n      <td>0.070036</td>\n    </tr>\n    <tr>\n      <th>2538</th>\n      <td>464766.475</td>\n      <td>0.070036</td>\n    </tr>\n    <tr>\n      <th>2539</th>\n      <td>305500.998</td>\n      <td>0.070036</td>\n    </tr>\n    <tr>\n      <th>2540</th>\n      <td>300436.306</td>\n      <td>0.070036</td>\n    </tr>\n    <tr>\n      <th>2541</th>\n      <td>559847.963</td>\n      <td>0.070036</td>\n    </tr>\n  </tbody>\n</table>\n<p>2542 rows × 2 columns</p>\n</div>"
     },
     "metadata": {},
     "execution_count": 264
    }
   ],
   "source": [
    "# Calculate mean error for each row and add to new column\n",
    "output_price['Sale_Price_RMSLE'] = (np.sqrt(mean_squared_log_error(output_price['Actual'], \n",
    "                                    output_price['Sale_Price_Prediction'])))\n",
    "\n",
    "output_price = output_price.drop(columns='Actual')\n",
    "\n",
    "output_price"
   ]
  },
  {
   "cell_type": "code",
   "execution_count": 266,
   "metadata": {},
   "outputs": [
    {
     "output_type": "execute_result",
     "data": {
      "text/plain": [
       "      index Zip_Code  Mobility_Rate  Expense_Index  Crime_Index  Total_Vacant  \\\n",
       "0         0    32003       0.182327            104           28           704   \n",
       "1         1    32003       0.182327            104           28           704   \n",
       "2         2    32003       0.182327            104           28           704   \n",
       "3         3    32008       0.067037             82          118           964   \n",
       "4         4    32008       0.067037             82          118           964   \n",
       "...     ...      ...            ...            ...          ...           ...   \n",
       "2537   2537    34996       0.141276             78          140          2780   \n",
       "2538   2538    34996       0.141276             78          140          2780   \n",
       "2539   2539    34997       0.143471             91          113          2976   \n",
       "2540   2540    34997       0.143471             91          113          2976   \n",
       "2541   2541    34997       0.143471             91          113          2976   \n",
       "\n",
       "      Total_Dwellings  Total_Sales  FHA_Count  Home_Affordability  ...  \\\n",
       "0               11724           39          6            0.124589  ...   \n",
       "1               11724           30          8            0.140027  ...   \n",
       "2               11724           70          4            0.147681  ...   \n",
       "3                3247            6          0            0.153378  ...   \n",
       "4                3247            3          1            0.062420  ...   \n",
       "...               ...          ...        ...                 ...  ...   \n",
       "2537             9249           57          1            0.225364  ...   \n",
       "2538             9249           14          0            0.275304  ...   \n",
       "2539            21551           81         10            0.202930  ...   \n",
       "2540            21551          116          7            0.201553  ...   \n",
       "2541            21551            7         12            0.416754  ...   \n",
       "\n",
       "      Last_Month_Price  Last_2Month_Price  Last_3Month_Price  Last_Month_Diff  \\\n",
       "0             294000.0           336000.0           330000.0           5900.0   \n",
       "1             299900.0           294000.0           336000.0          33900.0   \n",
       "2             333800.0           299900.0           294000.0           6150.0   \n",
       "3             169500.0            72500.0           107000.0         -37500.0   \n",
       "4             132000.0           169500.0            72500.0         -78800.0   \n",
       "...                ...                ...                ...              ...   \n",
       "2537          345000.0           390000.0           400000.0          50000.0   \n",
       "2538          395000.0           345000.0           390000.0          70950.0   \n",
       "2539          297000.0           259750.0           285000.0           8000.0   \n",
       "2540          305000.0           297000.0           259750.0          -5000.0   \n",
       "2541          300000.0           305000.0           297000.0         299000.0   \n",
       "\n",
       "      Last_2Month_Diff  Last_3Month_Diff  level_0  index  \\\n",
       "0             -42000.0            6000.0        0      0   \n",
       "1               5900.0          -42000.0        1      1   \n",
       "2              33900.0            5900.0        2      2   \n",
       "3              97000.0          -34500.0        3      3   \n",
       "4             -37500.0           97000.0        4      4   \n",
       "...                ...               ...      ...    ...   \n",
       "2537          -45000.0          -10000.0     2537   2537   \n",
       "2538           50000.0          -45000.0     2538   2538   \n",
       "2539           37250.0          -25250.0     2539   2539   \n",
       "2540            8000.0           37250.0     2540   2540   \n",
       "2541           -5000.0            8000.0     2541   2541   \n",
       "\n",
       "      Sale_Price_Prediction  Sale_Price_RMSLE  \n",
       "0                300813.433          0.070036  \n",
       "1                333409.450          0.070036  \n",
       "2                339040.001          0.070036  \n",
       "3                133453.210          0.070036  \n",
       "4                 65845.209          0.070036  \n",
       "...                     ...               ...  \n",
       "2537             395403.237          0.070036  \n",
       "2538             464766.475          0.070036  \n",
       "2539             305500.998          0.070036  \n",
       "2540             300436.306          0.070036  \n",
       "2541             559847.963          0.070036  \n",
       "\n",
       "[2542 rows x 22 columns]"
      ],
      "text/html": "<div>\n<style scoped>\n    .dataframe tbody tr th:only-of-type {\n        vertical-align: middle;\n    }\n\n    .dataframe tbody tr th {\n        vertical-align: top;\n    }\n\n    .dataframe thead th {\n        text-align: right;\n    }\n</style>\n<table border=\"1\" class=\"dataframe\">\n  <thead>\n    <tr style=\"text-align: right;\">\n      <th></th>\n      <th>index</th>\n      <th>Zip_Code</th>\n      <th>Mobility_Rate</th>\n      <th>Expense_Index</th>\n      <th>Crime_Index</th>\n      <th>Total_Vacant</th>\n      <th>Total_Dwellings</th>\n      <th>Total_Sales</th>\n      <th>FHA_Count</th>\n      <th>Home_Affordability</th>\n      <th>...</th>\n      <th>Last_Month_Price</th>\n      <th>Last_2Month_Price</th>\n      <th>Last_3Month_Price</th>\n      <th>Last_Month_Diff</th>\n      <th>Last_2Month_Diff</th>\n      <th>Last_3Month_Diff</th>\n      <th>level_0</th>\n      <th>index</th>\n      <th>Sale_Price_Prediction</th>\n      <th>Sale_Price_RMSLE</th>\n    </tr>\n  </thead>\n  <tbody>\n    <tr>\n      <th>0</th>\n      <td>0</td>\n      <td>32003</td>\n      <td>0.182327</td>\n      <td>104</td>\n      <td>28</td>\n      <td>704</td>\n      <td>11724</td>\n      <td>39</td>\n      <td>6</td>\n      <td>0.124589</td>\n      <td>...</td>\n      <td>294000.0</td>\n      <td>336000.0</td>\n      <td>330000.0</td>\n      <td>5900.0</td>\n      <td>-42000.0</td>\n      <td>6000.0</td>\n      <td>0</td>\n      <td>0</td>\n      <td>300813.433</td>\n      <td>0.070036</td>\n    </tr>\n    <tr>\n      <th>1</th>\n      <td>1</td>\n      <td>32003</td>\n      <td>0.182327</td>\n      <td>104</td>\n      <td>28</td>\n      <td>704</td>\n      <td>11724</td>\n      <td>30</td>\n      <td>8</td>\n      <td>0.140027</td>\n      <td>...</td>\n      <td>299900.0</td>\n      <td>294000.0</td>\n      <td>336000.0</td>\n      <td>33900.0</td>\n      <td>5900.0</td>\n      <td>-42000.0</td>\n      <td>1</td>\n      <td>1</td>\n      <td>333409.450</td>\n      <td>0.070036</td>\n    </tr>\n    <tr>\n      <th>2</th>\n      <td>2</td>\n      <td>32003</td>\n      <td>0.182327</td>\n      <td>104</td>\n      <td>28</td>\n      <td>704</td>\n      <td>11724</td>\n      <td>70</td>\n      <td>4</td>\n      <td>0.147681</td>\n      <td>...</td>\n      <td>333800.0</td>\n      <td>299900.0</td>\n      <td>294000.0</td>\n      <td>6150.0</td>\n      <td>33900.0</td>\n      <td>5900.0</td>\n      <td>2</td>\n      <td>2</td>\n      <td>339040.001</td>\n      <td>0.070036</td>\n    </tr>\n    <tr>\n      <th>3</th>\n      <td>3</td>\n      <td>32008</td>\n      <td>0.067037</td>\n      <td>82</td>\n      <td>118</td>\n      <td>964</td>\n      <td>3247</td>\n      <td>6</td>\n      <td>0</td>\n      <td>0.153378</td>\n      <td>...</td>\n      <td>169500.0</td>\n      <td>72500.0</td>\n      <td>107000.0</td>\n      <td>-37500.0</td>\n      <td>97000.0</td>\n      <td>-34500.0</td>\n      <td>3</td>\n      <td>3</td>\n      <td>133453.210</td>\n      <td>0.070036</td>\n    </tr>\n    <tr>\n      <th>4</th>\n      <td>4</td>\n      <td>32008</td>\n      <td>0.067037</td>\n      <td>82</td>\n      <td>118</td>\n      <td>964</td>\n      <td>3247</td>\n      <td>3</td>\n      <td>1</td>\n      <td>0.062420</td>\n      <td>...</td>\n      <td>132000.0</td>\n      <td>169500.0</td>\n      <td>72500.0</td>\n      <td>-78800.0</td>\n      <td>-37500.0</td>\n      <td>97000.0</td>\n      <td>4</td>\n      <td>4</td>\n      <td>65845.209</td>\n      <td>0.070036</td>\n    </tr>\n    <tr>\n      <th>...</th>\n      <td>...</td>\n      <td>...</td>\n      <td>...</td>\n      <td>...</td>\n      <td>...</td>\n      <td>...</td>\n      <td>...</td>\n      <td>...</td>\n      <td>...</td>\n      <td>...</td>\n      <td>...</td>\n      <td>...</td>\n      <td>...</td>\n      <td>...</td>\n      <td>...</td>\n      <td>...</td>\n      <td>...</td>\n      <td>...</td>\n      <td>...</td>\n      <td>...</td>\n      <td>...</td>\n    </tr>\n    <tr>\n      <th>2537</th>\n      <td>2537</td>\n      <td>34996</td>\n      <td>0.141276</td>\n      <td>78</td>\n      <td>140</td>\n      <td>2780</td>\n      <td>9249</td>\n      <td>57</td>\n      <td>1</td>\n      <td>0.225364</td>\n      <td>...</td>\n      <td>345000.0</td>\n      <td>390000.0</td>\n      <td>400000.0</td>\n      <td>50000.0</td>\n      <td>-45000.0</td>\n      <td>-10000.0</td>\n      <td>2537</td>\n      <td>2537</td>\n      <td>395403.237</td>\n      <td>0.070036</td>\n    </tr>\n    <tr>\n      <th>2538</th>\n      <td>2538</td>\n      <td>34996</td>\n      <td>0.141276</td>\n      <td>78</td>\n      <td>140</td>\n      <td>2780</td>\n      <td>9249</td>\n      <td>14</td>\n      <td>0</td>\n      <td>0.275304</td>\n      <td>...</td>\n      <td>395000.0</td>\n      <td>345000.0</td>\n      <td>390000.0</td>\n      <td>70950.0</td>\n      <td>50000.0</td>\n      <td>-45000.0</td>\n      <td>2538</td>\n      <td>2538</td>\n      <td>464766.475</td>\n      <td>0.070036</td>\n    </tr>\n    <tr>\n      <th>2539</th>\n      <td>2539</td>\n      <td>34997</td>\n      <td>0.143471</td>\n      <td>91</td>\n      <td>113</td>\n      <td>2976</td>\n      <td>21551</td>\n      <td>81</td>\n      <td>10</td>\n      <td>0.202930</td>\n      <td>...</td>\n      <td>297000.0</td>\n      <td>259750.0</td>\n      <td>285000.0</td>\n      <td>8000.0</td>\n      <td>37250.0</td>\n      <td>-25250.0</td>\n      <td>2539</td>\n      <td>2539</td>\n      <td>305500.998</td>\n      <td>0.070036</td>\n    </tr>\n    <tr>\n      <th>2540</th>\n      <td>2540</td>\n      <td>34997</td>\n      <td>0.143471</td>\n      <td>91</td>\n      <td>113</td>\n      <td>2976</td>\n      <td>21551</td>\n      <td>116</td>\n      <td>7</td>\n      <td>0.201553</td>\n      <td>...</td>\n      <td>305000.0</td>\n      <td>297000.0</td>\n      <td>259750.0</td>\n      <td>-5000.0</td>\n      <td>8000.0</td>\n      <td>37250.0</td>\n      <td>2540</td>\n      <td>2540</td>\n      <td>300436.306</td>\n      <td>0.070036</td>\n    </tr>\n    <tr>\n      <th>2541</th>\n      <td>2541</td>\n      <td>34997</td>\n      <td>0.143471</td>\n      <td>91</td>\n      <td>113</td>\n      <td>2976</td>\n      <td>21551</td>\n      <td>7</td>\n      <td>12</td>\n      <td>0.416754</td>\n      <td>...</td>\n      <td>300000.0</td>\n      <td>305000.0</td>\n      <td>297000.0</td>\n      <td>299000.0</td>\n      <td>-5000.0</td>\n      <td>8000.0</td>\n      <td>2541</td>\n      <td>2541</td>\n      <td>559847.963</td>\n      <td>0.070036</td>\n    </tr>\n  </tbody>\n</table>\n<p>2542 rows × 22 columns</p>\n</div>"
     },
     "metadata": {},
     "execution_count": 266
    }
   ],
   "source": [
    "full_output_data = test\n",
    "full_output_data.reset_index(inplace=True)\n",
    "output_price.reset_index(inplace=True)\n",
    "\n",
    "price_final = pd.concat((full_output_data, output_price), axis=1)\n",
    "\n",
    "price_final"
   ]
  },
  {
   "cell_type": "code",
   "execution_count": 195,
   "metadata": {},
   "outputs": [
    {
     "output_type": "error",
     "ename": "NameError",
     "evalue": "name 'output' is not defined",
     "traceback": [
      "\u001b[0;31m---------------------------------------------------------------------------\u001b[0m",
      "\u001b[0;31mNameError\u001b[0m                                 Traceback (most recent call last)",
      "\u001b[0;32m<ipython-input-195-05e40f7a4ad4>\u001b[0m in \u001b[0;36m<module>\u001b[0;34m\u001b[0m\n\u001b[0;32m----> 1\u001b[0;31m \u001b[0mprice_output\u001b[0m\u001b[0;34m[\u001b[0m\u001b[0;34m'% Error'\u001b[0m\u001b[0;34m]\u001b[0m \u001b[0;34m=\u001b[0m \u001b[0mabs\u001b[0m\u001b[0;34m(\u001b[0m\u001b[0moutput\u001b[0m\u001b[0;34m[\u001b[0m\u001b[0;34m'Predicted'\u001b[0m\u001b[0;34m]\u001b[0m \u001b[0;34m-\u001b[0m \u001b[0moutput\u001b[0m\u001b[0;34m[\u001b[0m\u001b[0;34m'Actual'\u001b[0m\u001b[0;34m]\u001b[0m\u001b[0;34m)\u001b[0m \u001b[0;34m/\u001b[0m \u001b[0moutput\u001b[0m\u001b[0;34m[\u001b[0m\u001b[0;34m'Actual'\u001b[0m\u001b[0;34m]\u001b[0m \u001b[0;34m*\u001b[0m \u001b[0;36m100\u001b[0m\u001b[0;34m\u001b[0m\u001b[0;34m\u001b[0m\u001b[0m\n\u001b[0m\u001b[1;32m      2\u001b[0m \u001b[0mprice_output\u001b[0m\u001b[0;34m\u001b[0m\u001b[0;34m\u001b[0m\u001b[0m\n",
      "\u001b[0;31mNameError\u001b[0m: name 'output' is not defined"
     ]
    }
   ],
   "source": [
    "price_output['% Error'] = abs(output['Predicted'] - output['Actual']) / output['Actual'] * 100\n",
    "price_output"
   ]
  },
  {
   "cell_type": "markdown",
   "metadata": {},
   "source": [
    "## FHA Data"
   ]
  },
  {
   "cell_type": "code",
   "execution_count": 205,
   "metadata": {},
   "outputs": [
    {
     "output_type": "execute_result",
     "data": {
      "text/plain": [
       "          Mobility_Rate  Expense_Index  Crime_Index  Total_Vacant  \\\n",
       "Zip_Code                                                            \n",
       "32003          0.182327            104           28           704   \n",
       "32003          0.182327            104           28           704   \n",
       "32003          0.182327            104           28           704   \n",
       "32008          0.067037             82          118           964   \n",
       "32008          0.067037             82          118           964   \n",
       "\n",
       "          Total_Dwellings  Total_Sales  Home_Affordability  \\\n",
       "Zip_Code                                                     \n",
       "32003               11724           39            0.124589   \n",
       "32003               11724           30            0.140027   \n",
       "32003               11724           70            0.147681   \n",
       "32008                3247            6            0.153378   \n",
       "32008                3247            3            0.062420   \n",
       "\n",
       "          Rent_Affordability  Sale_Price  Last_Month_Price  Last_2Month_Price  \\\n",
       "Zip_Code                                                                        \n",
       "32003               0.141853    299900.0          294000.0           336000.0   \n",
       "32003               0.141853    333800.0          299900.0           294000.0   \n",
       "32003               0.141853    339950.0          333800.0           299900.0   \n",
       "32008               0.285180    132000.0          169500.0            72500.0   \n",
       "32008               0.285180     53200.0          132000.0           169500.0   \n",
       "\n",
       "          Last_3Month_Price  Last_Month_Diff  Last_2Month_Diff  \\\n",
       "Zip_Code                                                         \n",
       "32003              330000.0           5900.0          -42000.0   \n",
       "32003              336000.0          33900.0            5900.0   \n",
       "32003              294000.0           6150.0           33900.0   \n",
       "32008              107000.0         -37500.0           97000.0   \n",
       "32008               72500.0         -78800.0          -37500.0   \n",
       "\n",
       "          Last_3Month_Diff  \n",
       "Zip_Code                    \n",
       "32003               6000.0  \n",
       "32003             -42000.0  \n",
       "32003               5900.0  \n",
       "32008             -34500.0  \n",
       "32008              97000.0  "
      ],
      "text/html": "<div>\n<style scoped>\n    .dataframe tbody tr th:only-of-type {\n        vertical-align: middle;\n    }\n\n    .dataframe tbody tr th {\n        vertical-align: top;\n    }\n\n    .dataframe thead th {\n        text-align: right;\n    }\n</style>\n<table border=\"1\" class=\"dataframe\">\n  <thead>\n    <tr style=\"text-align: right;\">\n      <th></th>\n      <th>Mobility_Rate</th>\n      <th>Expense_Index</th>\n      <th>Crime_Index</th>\n      <th>Total_Vacant</th>\n      <th>Total_Dwellings</th>\n      <th>Total_Sales</th>\n      <th>Home_Affordability</th>\n      <th>Rent_Affordability</th>\n      <th>Sale_Price</th>\n      <th>Last_Month_Price</th>\n      <th>Last_2Month_Price</th>\n      <th>Last_3Month_Price</th>\n      <th>Last_Month_Diff</th>\n      <th>Last_2Month_Diff</th>\n      <th>Last_3Month_Diff</th>\n    </tr>\n    <tr>\n      <th>Zip_Code</th>\n      <th></th>\n      <th></th>\n      <th></th>\n      <th></th>\n      <th></th>\n      <th></th>\n      <th></th>\n      <th></th>\n      <th></th>\n      <th></th>\n      <th></th>\n      <th></th>\n      <th></th>\n      <th></th>\n      <th></th>\n    </tr>\n  </thead>\n  <tbody>\n    <tr>\n      <th>32003</th>\n      <td>0.182327</td>\n      <td>104</td>\n      <td>28</td>\n      <td>704</td>\n      <td>11724</td>\n      <td>39</td>\n      <td>0.124589</td>\n      <td>0.141853</td>\n      <td>299900.0</td>\n      <td>294000.0</td>\n      <td>336000.0</td>\n      <td>330000.0</td>\n      <td>5900.0</td>\n      <td>-42000.0</td>\n      <td>6000.0</td>\n    </tr>\n    <tr>\n      <th>32003</th>\n      <td>0.182327</td>\n      <td>104</td>\n      <td>28</td>\n      <td>704</td>\n      <td>11724</td>\n      <td>30</td>\n      <td>0.140027</td>\n      <td>0.141853</td>\n      <td>333800.0</td>\n      <td>299900.0</td>\n      <td>294000.0</td>\n      <td>336000.0</td>\n      <td>33900.0</td>\n      <td>5900.0</td>\n      <td>-42000.0</td>\n    </tr>\n    <tr>\n      <th>32003</th>\n      <td>0.182327</td>\n      <td>104</td>\n      <td>28</td>\n      <td>704</td>\n      <td>11724</td>\n      <td>70</td>\n      <td>0.147681</td>\n      <td>0.141853</td>\n      <td>339950.0</td>\n      <td>333800.0</td>\n      <td>299900.0</td>\n      <td>294000.0</td>\n      <td>6150.0</td>\n      <td>33900.0</td>\n      <td>5900.0</td>\n    </tr>\n    <tr>\n      <th>32008</th>\n      <td>0.067037</td>\n      <td>82</td>\n      <td>118</td>\n      <td>964</td>\n      <td>3247</td>\n      <td>6</td>\n      <td>0.153378</td>\n      <td>0.285180</td>\n      <td>132000.0</td>\n      <td>169500.0</td>\n      <td>72500.0</td>\n      <td>107000.0</td>\n      <td>-37500.0</td>\n      <td>97000.0</td>\n      <td>-34500.0</td>\n    </tr>\n    <tr>\n      <th>32008</th>\n      <td>0.067037</td>\n      <td>82</td>\n      <td>118</td>\n      <td>964</td>\n      <td>3247</td>\n      <td>3</td>\n      <td>0.062420</td>\n      <td>0.285180</td>\n      <td>53200.0</td>\n      <td>132000.0</td>\n      <td>169500.0</td>\n      <td>72500.0</td>\n      <td>-78800.0</td>\n      <td>-37500.0</td>\n      <td>97000.0</td>\n    </tr>\n  </tbody>\n</table>\n</div>"
     },
     "metadata": {},
     "execution_count": 205
    }
   ],
   "source": [
    "fha_y_test = test['FHA_Count'].values\n",
    "\n",
    "fha_X_test = test.drop(columns='FHA_Count')\n",
    "\n",
    "fha_test_names = fha_X_test.columns\n",
    "\n",
    "fha_X_test.head()"
   ]
  },
  {
   "cell_type": "code",
   "execution_count": 206,
   "metadata": {},
   "outputs": [
    {
     "output_type": "execute_result",
     "data": {
      "text/plain": [
       "          Mobility_Rate  Expense_Index  Crime_Index  Total_Vacant  \\\n",
       "Zip_Code                                                            \n",
       "32003          0.182327            104           28           704   \n",
       "32003          0.182327            104           28           704   \n",
       "32003          0.182327            104           28           704   \n",
       "32003          0.182327            104           28           704   \n",
       "32003          0.182327            104           28           704   \n",
       "\n",
       "          Total_Dwellings  Total_Sales  Home_Affordability  \\\n",
       "Zip_Code                                                     \n",
       "32003               11724           42            0.130978   \n",
       "32003               11724           66            0.137976   \n",
       "32003               11724           43            0.130690   \n",
       "32003               11724           90            0.133641   \n",
       "32003               11724           64            0.125212   \n",
       "\n",
       "          Rent_Affordability  Sale_Price  Last_Month_Price  Last_2Month_Price  \\\n",
       "Zip_Code                                                                        \n",
       "32003               0.141853    264500.0          275000.0           270000.0   \n",
       "32003               0.141853    281000.0          264500.0           275000.0   \n",
       "32003               0.141853    275000.0          281000.0           264500.0   \n",
       "32003               0.141853    282500.0          275000.0           281000.0   \n",
       "32003               0.141853    269577.0          282500.0           275000.0   \n",
       "\n",
       "          Last_3Month_Price  Last_Month_Diff  Last_2Month_Diff  \\\n",
       "Zip_Code                                                         \n",
       "32003              244950.0         -10500.0            5000.0   \n",
       "32003              270000.0          16500.0          -10500.0   \n",
       "32003              275000.0          -6000.0           16500.0   \n",
       "32003              264500.0           7500.0           -6000.0   \n",
       "32003              281000.0         -12923.0            7500.0   \n",
       "\n",
       "          Last_3Month_Diff  \n",
       "Zip_Code                    \n",
       "32003              25050.0  \n",
       "32003               5000.0  \n",
       "32003             -10500.0  \n",
       "32003              16500.0  \n",
       "32003              -6000.0  "
      ],
      "text/html": "<div>\n<style scoped>\n    .dataframe tbody tr th:only-of-type {\n        vertical-align: middle;\n    }\n\n    .dataframe tbody tr th {\n        vertical-align: top;\n    }\n\n    .dataframe thead th {\n        text-align: right;\n    }\n</style>\n<table border=\"1\" class=\"dataframe\">\n  <thead>\n    <tr style=\"text-align: right;\">\n      <th></th>\n      <th>Mobility_Rate</th>\n      <th>Expense_Index</th>\n      <th>Crime_Index</th>\n      <th>Total_Vacant</th>\n      <th>Total_Dwellings</th>\n      <th>Total_Sales</th>\n      <th>Home_Affordability</th>\n      <th>Rent_Affordability</th>\n      <th>Sale_Price</th>\n      <th>Last_Month_Price</th>\n      <th>Last_2Month_Price</th>\n      <th>Last_3Month_Price</th>\n      <th>Last_Month_Diff</th>\n      <th>Last_2Month_Diff</th>\n      <th>Last_3Month_Diff</th>\n    </tr>\n    <tr>\n      <th>Zip_Code</th>\n      <th></th>\n      <th></th>\n      <th></th>\n      <th></th>\n      <th></th>\n      <th></th>\n      <th></th>\n      <th></th>\n      <th></th>\n      <th></th>\n      <th></th>\n      <th></th>\n      <th></th>\n      <th></th>\n      <th></th>\n    </tr>\n  </thead>\n  <tbody>\n    <tr>\n      <th>32003</th>\n      <td>0.182327</td>\n      <td>104</td>\n      <td>28</td>\n      <td>704</td>\n      <td>11724</td>\n      <td>42</td>\n      <td>0.130978</td>\n      <td>0.141853</td>\n      <td>264500.0</td>\n      <td>275000.0</td>\n      <td>270000.0</td>\n      <td>244950.0</td>\n      <td>-10500.0</td>\n      <td>5000.0</td>\n      <td>25050.0</td>\n    </tr>\n    <tr>\n      <th>32003</th>\n      <td>0.182327</td>\n      <td>104</td>\n      <td>28</td>\n      <td>704</td>\n      <td>11724</td>\n      <td>66</td>\n      <td>0.137976</td>\n      <td>0.141853</td>\n      <td>281000.0</td>\n      <td>264500.0</td>\n      <td>275000.0</td>\n      <td>270000.0</td>\n      <td>16500.0</td>\n      <td>-10500.0</td>\n      <td>5000.0</td>\n    </tr>\n    <tr>\n      <th>32003</th>\n      <td>0.182327</td>\n      <td>104</td>\n      <td>28</td>\n      <td>704</td>\n      <td>11724</td>\n      <td>43</td>\n      <td>0.130690</td>\n      <td>0.141853</td>\n      <td>275000.0</td>\n      <td>281000.0</td>\n      <td>264500.0</td>\n      <td>275000.0</td>\n      <td>-6000.0</td>\n      <td>16500.0</td>\n      <td>-10500.0</td>\n    </tr>\n    <tr>\n      <th>32003</th>\n      <td>0.182327</td>\n      <td>104</td>\n      <td>28</td>\n      <td>704</td>\n      <td>11724</td>\n      <td>90</td>\n      <td>0.133641</td>\n      <td>0.141853</td>\n      <td>282500.0</td>\n      <td>275000.0</td>\n      <td>281000.0</td>\n      <td>264500.0</td>\n      <td>7500.0</td>\n      <td>-6000.0</td>\n      <td>16500.0</td>\n    </tr>\n    <tr>\n      <th>32003</th>\n      <td>0.182327</td>\n      <td>104</td>\n      <td>28</td>\n      <td>704</td>\n      <td>11724</td>\n      <td>64</td>\n      <td>0.125212</td>\n      <td>0.141853</td>\n      <td>269577.0</td>\n      <td>282500.0</td>\n      <td>275000.0</td>\n      <td>281000.0</td>\n      <td>-12923.0</td>\n      <td>7500.0</td>\n      <td>-6000.0</td>\n    </tr>\n  </tbody>\n</table>\n</div>"
     },
     "metadata": {},
     "execution_count": 206
    }
   ],
   "source": [
    "fha_y_train= training['FHA_Count'].values\n",
    "\n",
    "fha_X_train = training.drop(columns='FHA_Count')\n",
    "\n",
    "fha_train_names = fha_X_train.columns\n",
    "\n",
    "fha_X_train.head()"
   ]
  },
  {
   "cell_type": "code",
   "execution_count": 207,
   "metadata": {},
   "outputs": [
    {
     "output_type": "execute_result",
     "data": {
      "text/plain": [
       "RandomForestRegressor(n_estimators=1000, n_jobs=-1, random_state=42)"
      ]
     },
     "metadata": {},
     "execution_count": 207
    }
   ],
   "source": [
    "rf_regr_2 = RandomForestRegressor(n_estimators=1000, n_jobs=-1, random_state=42)\n",
    "rf_regr_2.fit(fha_X_train, fha_y_train)"
   ]
  },
  {
   "cell_type": "code",
   "execution_count": 208,
   "metadata": {},
   "outputs": [
    {
     "output_type": "stream",
     "name": "stdout",
     "text": [
      "Training Data Score: 0.9816220497006619\nTesting Data Score: 0.8574538790391151\n"
     ]
    }
   ],
   "source": [
    "print(f\"Training Data Score: {rf_regr_2.score(fha_X_train, fha_y_train)}\")\n",
    "print(f\"Testing Data Score: {rf_regr_2.score(fha_X_test, fha_y_test)}\")"
   ]
  },
  {
   "cell_type": "code",
   "execution_count": 209,
   "metadata": {},
   "outputs": [
    {
     "output_type": "stream",
     "name": "stdout",
     "text": [
      "Mean Error = 0.47695\n"
     ]
    }
   ],
   "source": [
    "rf_pred_fha = rf_regr_2.predict(fha_X_test)\n",
    "\n",
    "print('Mean Error = %.5f' % np.sqrt(mean_squared_log_error(fha_y_test, rf_pred_fha)))"
   ]
  },
  {
   "cell_type": "code",
   "execution_count": 267,
   "metadata": {},
   "outputs": [
    {
     "output_type": "execute_result",
     "data": {
      "text/plain": [
       "      FHA_Count_Prediction  Actual\n",
       "0                    5.282       6\n",
       "1                    5.363       8\n",
       "2                    6.877       4\n",
       "3                    1.071       0\n",
       "4                    1.237       1\n",
       "...                    ...     ...\n",
       "2537                 0.265       1\n",
       "2538                 0.235       0\n",
       "2539                 8.418      10\n",
       "2540                11.563       7\n",
       "2541                12.149      12\n",
       "\n",
       "[2542 rows x 2 columns]"
      ],
      "text/html": "<div>\n<style scoped>\n    .dataframe tbody tr th:only-of-type {\n        vertical-align: middle;\n    }\n\n    .dataframe tbody tr th {\n        vertical-align: top;\n    }\n\n    .dataframe thead th {\n        text-align: right;\n    }\n</style>\n<table border=\"1\" class=\"dataframe\">\n  <thead>\n    <tr style=\"text-align: right;\">\n      <th></th>\n      <th>FHA_Count_Prediction</th>\n      <th>Actual</th>\n    </tr>\n  </thead>\n  <tbody>\n    <tr>\n      <th>0</th>\n      <td>5.282</td>\n      <td>6</td>\n    </tr>\n    <tr>\n      <th>1</th>\n      <td>5.363</td>\n      <td>8</td>\n    </tr>\n    <tr>\n      <th>2</th>\n      <td>6.877</td>\n      <td>4</td>\n    </tr>\n    <tr>\n      <th>3</th>\n      <td>1.071</td>\n      <td>0</td>\n    </tr>\n    <tr>\n      <th>4</th>\n      <td>1.237</td>\n      <td>1</td>\n    </tr>\n    <tr>\n      <th>...</th>\n      <td>...</td>\n      <td>...</td>\n    </tr>\n    <tr>\n      <th>2537</th>\n      <td>0.265</td>\n      <td>1</td>\n    </tr>\n    <tr>\n      <th>2538</th>\n      <td>0.235</td>\n      <td>0</td>\n    </tr>\n    <tr>\n      <th>2539</th>\n      <td>8.418</td>\n      <td>10</td>\n    </tr>\n    <tr>\n      <th>2540</th>\n      <td>11.563</td>\n      <td>7</td>\n    </tr>\n    <tr>\n      <th>2541</th>\n      <td>12.149</td>\n      <td>12</td>\n    </tr>\n  </tbody>\n</table>\n<p>2542 rows × 2 columns</p>\n</div>"
     },
     "metadata": {},
     "execution_count": 267
    }
   ],
   "source": [
    "output_fha = pd.DataFrame({'FHA_Count_Prediction':rf_pred_fha, 'Actual': fha_y_test})\n",
    "output_fha"
   ]
  },
  {
   "cell_type": "code",
   "execution_count": 268,
   "metadata": {},
   "outputs": [
    {
     "output_type": "execute_result",
     "data": {
      "text/plain": [
       "      FHA_Count_Prediction  FHA_Count_RMSLE\n",
       "0                    5.282         0.476952\n",
       "1                    5.363         0.476952\n",
       "2                    6.877         0.476952\n",
       "3                    1.071         0.476952\n",
       "4                    1.237         0.476952\n",
       "...                    ...              ...\n",
       "2537                 0.265         0.476952\n",
       "2538                 0.235         0.476952\n",
       "2539                 8.418         0.476952\n",
       "2540                11.563         0.476952\n",
       "2541                12.149         0.476952\n",
       "\n",
       "[2542 rows x 2 columns]"
      ],
      "text/html": "<div>\n<style scoped>\n    .dataframe tbody tr th:only-of-type {\n        vertical-align: middle;\n    }\n\n    .dataframe tbody tr th {\n        vertical-align: top;\n    }\n\n    .dataframe thead th {\n        text-align: right;\n    }\n</style>\n<table border=\"1\" class=\"dataframe\">\n  <thead>\n    <tr style=\"text-align: right;\">\n      <th></th>\n      <th>FHA_Count_Prediction</th>\n      <th>FHA_Count_RMSLE</th>\n    </tr>\n  </thead>\n  <tbody>\n    <tr>\n      <th>0</th>\n      <td>5.282</td>\n      <td>0.476952</td>\n    </tr>\n    <tr>\n      <th>1</th>\n      <td>5.363</td>\n      <td>0.476952</td>\n    </tr>\n    <tr>\n      <th>2</th>\n      <td>6.877</td>\n      <td>0.476952</td>\n    </tr>\n    <tr>\n      <th>3</th>\n      <td>1.071</td>\n      <td>0.476952</td>\n    </tr>\n    <tr>\n      <th>4</th>\n      <td>1.237</td>\n      <td>0.476952</td>\n    </tr>\n    <tr>\n      <th>...</th>\n      <td>...</td>\n      <td>...</td>\n    </tr>\n    <tr>\n      <th>2537</th>\n      <td>0.265</td>\n      <td>0.476952</td>\n    </tr>\n    <tr>\n      <th>2538</th>\n      <td>0.235</td>\n      <td>0.476952</td>\n    </tr>\n    <tr>\n      <th>2539</th>\n      <td>8.418</td>\n      <td>0.476952</td>\n    </tr>\n    <tr>\n      <th>2540</th>\n      <td>11.563</td>\n      <td>0.476952</td>\n    </tr>\n    <tr>\n      <th>2541</th>\n      <td>12.149</td>\n      <td>0.476952</td>\n    </tr>\n  </tbody>\n</table>\n<p>2542 rows × 2 columns</p>\n</div>"
     },
     "metadata": {},
     "execution_count": 268
    }
   ],
   "source": [
    "# Calculate mean error for each row and add to new column\n",
    "output_fha['FHA_Count_RMSLE'] = (np.sqrt(mean_squared_log_error(output_fha['Actual'], output_fha['FHA_Count_Prediction'])))\n",
    "\n",
    "output_fha = output_fha.drop(columns='Actual')\n",
    "output_fha\n",
    "# count_pre = output_fha[output_fha['FHA_Count_Prediction']]"
   ]
  },
  {
   "cell_type": "code",
   "execution_count": 269,
   "metadata": {},
   "outputs": [
    {
     "output_type": "execute_result",
     "data": {
      "text/plain": [
       "      index Zip_Code  Mobility_Rate  Expense_Index  Crime_Index  Total_Vacant  \\\n",
       "0         0    32003       0.182327            104           28           704   \n",
       "1         1    32003       0.182327            104           28           704   \n",
       "2         2    32003       0.182327            104           28           704   \n",
       "3         3    32008       0.067037             82          118           964   \n",
       "4         4    32008       0.067037             82          118           964   \n",
       "...     ...      ...            ...            ...          ...           ...   \n",
       "2537   2537    34996       0.141276             78          140          2780   \n",
       "2538   2538    34996       0.141276             78          140          2780   \n",
       "2539   2539    34997       0.143471             91          113          2976   \n",
       "2540   2540    34997       0.143471             91          113          2976   \n",
       "2541   2541    34997       0.143471             91          113          2976   \n",
       "\n",
       "      Total_Dwellings  Total_Sales  FHA_Count  Home_Affordability  ...  \\\n",
       "0               11724           39          6            0.124589  ...   \n",
       "1               11724           30          8            0.140027  ...   \n",
       "2               11724           70          4            0.147681  ...   \n",
       "3                3247            6          0            0.153378  ...   \n",
       "4                3247            3          1            0.062420  ...   \n",
       "...               ...          ...        ...                 ...  ...   \n",
       "2537             9249           57          1            0.225364  ...   \n",
       "2538             9249           14          0            0.275304  ...   \n",
       "2539            21551           81         10            0.202930  ...   \n",
       "2540            21551          116          7            0.201553  ...   \n",
       "2541            21551            7         12            0.416754  ...   \n",
       "\n",
       "      Sale_Price  Last_Month_Price  Last_2Month_Price  Last_3Month_Price  \\\n",
       "0       299900.0          294000.0           336000.0           330000.0   \n",
       "1       333800.0          299900.0           294000.0           336000.0   \n",
       "2       339950.0          333800.0           299900.0           294000.0   \n",
       "3       132000.0          169500.0            72500.0           107000.0   \n",
       "4        53200.0          132000.0           169500.0            72500.0   \n",
       "...          ...               ...                ...                ...   \n",
       "2537    395000.0          345000.0           390000.0           400000.0   \n",
       "2538    465950.0          395000.0           345000.0           390000.0   \n",
       "2539    305000.0          297000.0           259750.0           285000.0   \n",
       "2540    300000.0          305000.0           297000.0           259750.0   \n",
       "2541    599000.0          300000.0           305000.0           297000.0   \n",
       "\n",
       "      Last_Month_Diff  Last_2Month_Diff  Last_3Month_Diff  index  \\\n",
       "0              5900.0          -42000.0            6000.0      0   \n",
       "1             33900.0            5900.0          -42000.0      1   \n",
       "2              6150.0           33900.0            5900.0      2   \n",
       "3            -37500.0           97000.0          -34500.0      3   \n",
       "4            -78800.0          -37500.0           97000.0      4   \n",
       "...               ...               ...               ...    ...   \n",
       "2537          50000.0          -45000.0          -10000.0   2537   \n",
       "2538          70950.0           50000.0          -45000.0   2538   \n",
       "2539           8000.0           37250.0          -25250.0   2539   \n",
       "2540          -5000.0            8000.0           37250.0   2540   \n",
       "2541         299000.0           -5000.0            8000.0   2541   \n",
       "\n",
       "      FHA_Count_Prediction  FHA_Count_RMSLE  \n",
       "0                    5.282         0.476952  \n",
       "1                    5.363         0.476952  \n",
       "2                    6.877         0.476952  \n",
       "3                    1.071         0.476952  \n",
       "4                    1.237         0.476952  \n",
       "...                    ...              ...  \n",
       "2537                 0.265         0.476952  \n",
       "2538                 0.235         0.476952  \n",
       "2539                 8.418         0.476952  \n",
       "2540                11.563         0.476952  \n",
       "2541                12.149         0.476952  \n",
       "\n",
       "[2542 rows x 21 columns]"
      ],
      "text/html": "<div>\n<style scoped>\n    .dataframe tbody tr th:only-of-type {\n        vertical-align: middle;\n    }\n\n    .dataframe tbody tr th {\n        vertical-align: top;\n    }\n\n    .dataframe thead th {\n        text-align: right;\n    }\n</style>\n<table border=\"1\" class=\"dataframe\">\n  <thead>\n    <tr style=\"text-align: right;\">\n      <th></th>\n      <th>index</th>\n      <th>Zip_Code</th>\n      <th>Mobility_Rate</th>\n      <th>Expense_Index</th>\n      <th>Crime_Index</th>\n      <th>Total_Vacant</th>\n      <th>Total_Dwellings</th>\n      <th>Total_Sales</th>\n      <th>FHA_Count</th>\n      <th>Home_Affordability</th>\n      <th>...</th>\n      <th>Sale_Price</th>\n      <th>Last_Month_Price</th>\n      <th>Last_2Month_Price</th>\n      <th>Last_3Month_Price</th>\n      <th>Last_Month_Diff</th>\n      <th>Last_2Month_Diff</th>\n      <th>Last_3Month_Diff</th>\n      <th>index</th>\n      <th>FHA_Count_Prediction</th>\n      <th>FHA_Count_RMSLE</th>\n    </tr>\n  </thead>\n  <tbody>\n    <tr>\n      <th>0</th>\n      <td>0</td>\n      <td>32003</td>\n      <td>0.182327</td>\n      <td>104</td>\n      <td>28</td>\n      <td>704</td>\n      <td>11724</td>\n      <td>39</td>\n      <td>6</td>\n      <td>0.124589</td>\n      <td>...</td>\n      <td>299900.0</td>\n      <td>294000.0</td>\n      <td>336000.0</td>\n      <td>330000.0</td>\n      <td>5900.0</td>\n      <td>-42000.0</td>\n      <td>6000.0</td>\n      <td>0</td>\n      <td>5.282</td>\n      <td>0.476952</td>\n    </tr>\n    <tr>\n      <th>1</th>\n      <td>1</td>\n      <td>32003</td>\n      <td>0.182327</td>\n      <td>104</td>\n      <td>28</td>\n      <td>704</td>\n      <td>11724</td>\n      <td>30</td>\n      <td>8</td>\n      <td>0.140027</td>\n      <td>...</td>\n      <td>333800.0</td>\n      <td>299900.0</td>\n      <td>294000.0</td>\n      <td>336000.0</td>\n      <td>33900.0</td>\n      <td>5900.0</td>\n      <td>-42000.0</td>\n      <td>1</td>\n      <td>5.363</td>\n      <td>0.476952</td>\n    </tr>\n    <tr>\n      <th>2</th>\n      <td>2</td>\n      <td>32003</td>\n      <td>0.182327</td>\n      <td>104</td>\n      <td>28</td>\n      <td>704</td>\n      <td>11724</td>\n      <td>70</td>\n      <td>4</td>\n      <td>0.147681</td>\n      <td>...</td>\n      <td>339950.0</td>\n      <td>333800.0</td>\n      <td>299900.0</td>\n      <td>294000.0</td>\n      <td>6150.0</td>\n      <td>33900.0</td>\n      <td>5900.0</td>\n      <td>2</td>\n      <td>6.877</td>\n      <td>0.476952</td>\n    </tr>\n    <tr>\n      <th>3</th>\n      <td>3</td>\n      <td>32008</td>\n      <td>0.067037</td>\n      <td>82</td>\n      <td>118</td>\n      <td>964</td>\n      <td>3247</td>\n      <td>6</td>\n      <td>0</td>\n      <td>0.153378</td>\n      <td>...</td>\n      <td>132000.0</td>\n      <td>169500.0</td>\n      <td>72500.0</td>\n      <td>107000.0</td>\n      <td>-37500.0</td>\n      <td>97000.0</td>\n      <td>-34500.0</td>\n      <td>3</td>\n      <td>1.071</td>\n      <td>0.476952</td>\n    </tr>\n    <tr>\n      <th>4</th>\n      <td>4</td>\n      <td>32008</td>\n      <td>0.067037</td>\n      <td>82</td>\n      <td>118</td>\n      <td>964</td>\n      <td>3247</td>\n      <td>3</td>\n      <td>1</td>\n      <td>0.062420</td>\n      <td>...</td>\n      <td>53200.0</td>\n      <td>132000.0</td>\n      <td>169500.0</td>\n      <td>72500.0</td>\n      <td>-78800.0</td>\n      <td>-37500.0</td>\n      <td>97000.0</td>\n      <td>4</td>\n      <td>1.237</td>\n      <td>0.476952</td>\n    </tr>\n    <tr>\n      <th>...</th>\n      <td>...</td>\n      <td>...</td>\n      <td>...</td>\n      <td>...</td>\n      <td>...</td>\n      <td>...</td>\n      <td>...</td>\n      <td>...</td>\n      <td>...</td>\n      <td>...</td>\n      <td>...</td>\n      <td>...</td>\n      <td>...</td>\n      <td>...</td>\n      <td>...</td>\n      <td>...</td>\n      <td>...</td>\n      <td>...</td>\n      <td>...</td>\n      <td>...</td>\n      <td>...</td>\n    </tr>\n    <tr>\n      <th>2537</th>\n      <td>2537</td>\n      <td>34996</td>\n      <td>0.141276</td>\n      <td>78</td>\n      <td>140</td>\n      <td>2780</td>\n      <td>9249</td>\n      <td>57</td>\n      <td>1</td>\n      <td>0.225364</td>\n      <td>...</td>\n      <td>395000.0</td>\n      <td>345000.0</td>\n      <td>390000.0</td>\n      <td>400000.0</td>\n      <td>50000.0</td>\n      <td>-45000.0</td>\n      <td>-10000.0</td>\n      <td>2537</td>\n      <td>0.265</td>\n      <td>0.476952</td>\n    </tr>\n    <tr>\n      <th>2538</th>\n      <td>2538</td>\n      <td>34996</td>\n      <td>0.141276</td>\n      <td>78</td>\n      <td>140</td>\n      <td>2780</td>\n      <td>9249</td>\n      <td>14</td>\n      <td>0</td>\n      <td>0.275304</td>\n      <td>...</td>\n      <td>465950.0</td>\n      <td>395000.0</td>\n      <td>345000.0</td>\n      <td>390000.0</td>\n      <td>70950.0</td>\n      <td>50000.0</td>\n      <td>-45000.0</td>\n      <td>2538</td>\n      <td>0.235</td>\n      <td>0.476952</td>\n    </tr>\n    <tr>\n      <th>2539</th>\n      <td>2539</td>\n      <td>34997</td>\n      <td>0.143471</td>\n      <td>91</td>\n      <td>113</td>\n      <td>2976</td>\n      <td>21551</td>\n      <td>81</td>\n      <td>10</td>\n      <td>0.202930</td>\n      <td>...</td>\n      <td>305000.0</td>\n      <td>297000.0</td>\n      <td>259750.0</td>\n      <td>285000.0</td>\n      <td>8000.0</td>\n      <td>37250.0</td>\n      <td>-25250.0</td>\n      <td>2539</td>\n      <td>8.418</td>\n      <td>0.476952</td>\n    </tr>\n    <tr>\n      <th>2540</th>\n      <td>2540</td>\n      <td>34997</td>\n      <td>0.143471</td>\n      <td>91</td>\n      <td>113</td>\n      <td>2976</td>\n      <td>21551</td>\n      <td>116</td>\n      <td>7</td>\n      <td>0.201553</td>\n      <td>...</td>\n      <td>300000.0</td>\n      <td>305000.0</td>\n      <td>297000.0</td>\n      <td>259750.0</td>\n      <td>-5000.0</td>\n      <td>8000.0</td>\n      <td>37250.0</td>\n      <td>2540</td>\n      <td>11.563</td>\n      <td>0.476952</td>\n    </tr>\n    <tr>\n      <th>2541</th>\n      <td>2541</td>\n      <td>34997</td>\n      <td>0.143471</td>\n      <td>91</td>\n      <td>113</td>\n      <td>2976</td>\n      <td>21551</td>\n      <td>7</td>\n      <td>12</td>\n      <td>0.416754</td>\n      <td>...</td>\n      <td>599000.0</td>\n      <td>300000.0</td>\n      <td>305000.0</td>\n      <td>297000.0</td>\n      <td>299000.0</td>\n      <td>-5000.0</td>\n      <td>8000.0</td>\n      <td>2541</td>\n      <td>12.149</td>\n      <td>0.476952</td>\n    </tr>\n  </tbody>\n</table>\n<p>2542 rows × 21 columns</p>\n</div>"
     },
     "metadata": {},
     "execution_count": 269
    }
   ],
   "source": [
    "output_fha.reset_index(inplace=True)\n",
    "\n",
    "fha_final = pd.concat((full_output_data, output_fha), axis=1)\n",
    "\n",
    "fha_final"
   ]
  },
  {
   "cell_type": "code",
   "execution_count": 27,
   "metadata": {},
   "outputs": [
    {
     "data": {
      "text/html": [
       "<div>\n",
       "<style scoped>\n",
       "    .dataframe tbody tr th:only-of-type {\n",
       "        vertical-align: middle;\n",
       "    }\n",
       "\n",
       "    .dataframe tbody tr th {\n",
       "        vertical-align: top;\n",
       "    }\n",
       "\n",
       "    .dataframe thead th {\n",
       "        text-align: right;\n",
       "    }\n",
       "</style>\n",
       "<table border=\"1\" class=\"dataframe\">\n",
       "  <thead>\n",
       "    <tr style=\"text-align: right;\">\n",
       "      <th></th>\n",
       "      <th>Predicted</th>\n",
       "      <th>Actual</th>\n",
       "      <th>RMSLE</th>\n",
       "      <th>% Error</th>\n",
       "    </tr>\n",
       "  </thead>\n",
       "  <tbody>\n",
       "    <tr>\n",
       "      <th>0</th>\n",
       "      <td>5.282</td>\n",
       "      <td>6</td>\n",
       "      <td>0.476952</td>\n",
       "      <td>11.966667</td>\n",
       "    </tr>\n",
       "    <tr>\n",
       "      <th>1</th>\n",
       "      <td>5.363</td>\n",
       "      <td>8</td>\n",
       "      <td>0.476952</td>\n",
       "      <td>32.962500</td>\n",
       "    </tr>\n",
       "    <tr>\n",
       "      <th>2</th>\n",
       "      <td>6.877</td>\n",
       "      <td>4</td>\n",
       "      <td>0.476952</td>\n",
       "      <td>71.925000</td>\n",
       "    </tr>\n",
       "    <tr>\n",
       "      <th>3</th>\n",
       "      <td>1.071</td>\n",
       "      <td>0</td>\n",
       "      <td>0.476952</td>\n",
       "      <td>inf</td>\n",
       "    </tr>\n",
       "    <tr>\n",
       "      <th>4</th>\n",
       "      <td>1.237</td>\n",
       "      <td>1</td>\n",
       "      <td>0.476952</td>\n",
       "      <td>23.700000</td>\n",
       "    </tr>\n",
       "    <tr>\n",
       "      <th>...</th>\n",
       "      <td>...</td>\n",
       "      <td>...</td>\n",
       "      <td>...</td>\n",
       "      <td>...</td>\n",
       "    </tr>\n",
       "    <tr>\n",
       "      <th>2537</th>\n",
       "      <td>0.265</td>\n",
       "      <td>1</td>\n",
       "      <td>0.476952</td>\n",
       "      <td>73.500000</td>\n",
       "    </tr>\n",
       "    <tr>\n",
       "      <th>2538</th>\n",
       "      <td>0.235</td>\n",
       "      <td>0</td>\n",
       "      <td>0.476952</td>\n",
       "      <td>inf</td>\n",
       "    </tr>\n",
       "    <tr>\n",
       "      <th>2539</th>\n",
       "      <td>8.418</td>\n",
       "      <td>10</td>\n",
       "      <td>0.476952</td>\n",
       "      <td>15.820000</td>\n",
       "    </tr>\n",
       "    <tr>\n",
       "      <th>2540</th>\n",
       "      <td>11.563</td>\n",
       "      <td>7</td>\n",
       "      <td>0.476952</td>\n",
       "      <td>65.185714</td>\n",
       "    </tr>\n",
       "    <tr>\n",
       "      <th>2541</th>\n",
       "      <td>12.149</td>\n",
       "      <td>12</td>\n",
       "      <td>0.476952</td>\n",
       "      <td>1.241667</td>\n",
       "    </tr>\n",
       "  </tbody>\n",
       "</table>\n",
       "<p>2542 rows × 4 columns</p>\n",
       "</div>"
      ],
      "text/plain": [
       "      Predicted  Actual     RMSLE    % Error\n",
       "0         5.282       6  0.476952  11.966667\n",
       "1         5.363       8  0.476952  32.962500\n",
       "2         6.877       4  0.476952  71.925000\n",
       "3         1.071       0  0.476952        inf\n",
       "4         1.237       1  0.476952  23.700000\n",
       "...         ...     ...       ...        ...\n",
       "2537      0.265       1  0.476952  73.500000\n",
       "2538      0.235       0  0.476952        inf\n",
       "2539      8.418      10  0.476952  15.820000\n",
       "2540     11.563       7  0.476952  65.185714\n",
       "2541     12.149      12  0.476952   1.241667\n",
       "\n",
       "[2542 rows x 4 columns]"
      ]
     },
     "execution_count": 27,
     "metadata": {},
     "output_type": "execute_result"
    }
   ],
   "source": [
    "output_fha['% Error'] = abs(output_fha['Predicted'] - output_fha['Actual']) / output_fha['Actual'] * 100\n",
    "output_fha"
   ]
  },
  {
   "cell_type": "markdown",
   "metadata": {},
   "source": [
    "## Total Sales Predict"
   ]
  },
  {
   "cell_type": "code",
   "execution_count": 213,
   "metadata": {},
   "outputs": [
    {
     "output_type": "execute_result",
     "data": {
      "text/plain": [
       "(2542, 15)"
      ]
     },
     "metadata": {},
     "execution_count": 213
    }
   ],
   "source": [
    "ts_y_test = test['Total_Sales'].values\n",
    "\n",
    "ts_X_test = test.drop(columns='Total_Sales')\n",
    "\n",
    "ts_test_names = ts_X_test.columns\n",
    "\n",
    "ts_X_test.shape"
   ]
  },
  {
   "cell_type": "code",
   "execution_count": 214,
   "metadata": {},
   "outputs": [
    {
     "output_type": "execute_result",
     "data": {
      "text/plain": [
       "          Mobility_Rate  Expense_Index  Crime_Index  Total_Vacant  \\\n",
       "Zip_Code                                                            \n",
       "32003          0.182327            104           28           704   \n",
       "32003          0.182327            104           28           704   \n",
       "32003          0.182327            104           28           704   \n",
       "32003          0.182327            104           28           704   \n",
       "32003          0.182327            104           28           704   \n",
       "\n",
       "          Total_Dwellings  FHA_Count  Home_Affordability  Rent_Affordability  \\\n",
       "Zip_Code                                                                       \n",
       "32003               11724          3            0.130978            0.141853   \n",
       "32003               11724          8            0.137976            0.141853   \n",
       "32003               11724          3            0.130690            0.141853   \n",
       "32003               11724          7            0.133641            0.141853   \n",
       "32003               11724          5            0.125212            0.141853   \n",
       "\n",
       "          Sale_Price  Last_Month_Price  Last_2Month_Price  Last_3Month_Price  \\\n",
       "Zip_Code                                                                       \n",
       "32003       264500.0          275000.0           270000.0           244950.0   \n",
       "32003       281000.0          264500.0           275000.0           270000.0   \n",
       "32003       275000.0          281000.0           264500.0           275000.0   \n",
       "32003       282500.0          275000.0           281000.0           264500.0   \n",
       "32003       269577.0          282500.0           275000.0           281000.0   \n",
       "\n",
       "          Last_Month_Diff  Last_2Month_Diff  Last_3Month_Diff  \n",
       "Zip_Code                                                       \n",
       "32003            -10500.0            5000.0           25050.0  \n",
       "32003             16500.0          -10500.0            5000.0  \n",
       "32003             -6000.0           16500.0          -10500.0  \n",
       "32003              7500.0           -6000.0           16500.0  \n",
       "32003            -12923.0            7500.0           -6000.0  "
      ],
      "text/html": "<div>\n<style scoped>\n    .dataframe tbody tr th:only-of-type {\n        vertical-align: middle;\n    }\n\n    .dataframe tbody tr th {\n        vertical-align: top;\n    }\n\n    .dataframe thead th {\n        text-align: right;\n    }\n</style>\n<table border=\"1\" class=\"dataframe\">\n  <thead>\n    <tr style=\"text-align: right;\">\n      <th></th>\n      <th>Mobility_Rate</th>\n      <th>Expense_Index</th>\n      <th>Crime_Index</th>\n      <th>Total_Vacant</th>\n      <th>Total_Dwellings</th>\n      <th>FHA_Count</th>\n      <th>Home_Affordability</th>\n      <th>Rent_Affordability</th>\n      <th>Sale_Price</th>\n      <th>Last_Month_Price</th>\n      <th>Last_2Month_Price</th>\n      <th>Last_3Month_Price</th>\n      <th>Last_Month_Diff</th>\n      <th>Last_2Month_Diff</th>\n      <th>Last_3Month_Diff</th>\n    </tr>\n    <tr>\n      <th>Zip_Code</th>\n      <th></th>\n      <th></th>\n      <th></th>\n      <th></th>\n      <th></th>\n      <th></th>\n      <th></th>\n      <th></th>\n      <th></th>\n      <th></th>\n      <th></th>\n      <th></th>\n      <th></th>\n      <th></th>\n      <th></th>\n    </tr>\n  </thead>\n  <tbody>\n    <tr>\n      <th>32003</th>\n      <td>0.182327</td>\n      <td>104</td>\n      <td>28</td>\n      <td>704</td>\n      <td>11724</td>\n      <td>3</td>\n      <td>0.130978</td>\n      <td>0.141853</td>\n      <td>264500.0</td>\n      <td>275000.0</td>\n      <td>270000.0</td>\n      <td>244950.0</td>\n      <td>-10500.0</td>\n      <td>5000.0</td>\n      <td>25050.0</td>\n    </tr>\n    <tr>\n      <th>32003</th>\n      <td>0.182327</td>\n      <td>104</td>\n      <td>28</td>\n      <td>704</td>\n      <td>11724</td>\n      <td>8</td>\n      <td>0.137976</td>\n      <td>0.141853</td>\n      <td>281000.0</td>\n      <td>264500.0</td>\n      <td>275000.0</td>\n      <td>270000.0</td>\n      <td>16500.0</td>\n      <td>-10500.0</td>\n      <td>5000.0</td>\n    </tr>\n    <tr>\n      <th>32003</th>\n      <td>0.182327</td>\n      <td>104</td>\n      <td>28</td>\n      <td>704</td>\n      <td>11724</td>\n      <td>3</td>\n      <td>0.130690</td>\n      <td>0.141853</td>\n      <td>275000.0</td>\n      <td>281000.0</td>\n      <td>264500.0</td>\n      <td>275000.0</td>\n      <td>-6000.0</td>\n      <td>16500.0</td>\n      <td>-10500.0</td>\n    </tr>\n    <tr>\n      <th>32003</th>\n      <td>0.182327</td>\n      <td>104</td>\n      <td>28</td>\n      <td>704</td>\n      <td>11724</td>\n      <td>7</td>\n      <td>0.133641</td>\n      <td>0.141853</td>\n      <td>282500.0</td>\n      <td>275000.0</td>\n      <td>281000.0</td>\n      <td>264500.0</td>\n      <td>7500.0</td>\n      <td>-6000.0</td>\n      <td>16500.0</td>\n    </tr>\n    <tr>\n      <th>32003</th>\n      <td>0.182327</td>\n      <td>104</td>\n      <td>28</td>\n      <td>704</td>\n      <td>11724</td>\n      <td>5</td>\n      <td>0.125212</td>\n      <td>0.141853</td>\n      <td>269577.0</td>\n      <td>282500.0</td>\n      <td>275000.0</td>\n      <td>281000.0</td>\n      <td>-12923.0</td>\n      <td>7500.0</td>\n      <td>-6000.0</td>\n    </tr>\n  </tbody>\n</table>\n</div>"
     },
     "metadata": {},
     "execution_count": 214
    }
   ],
   "source": [
    "ts_y_train= training['Total_Sales'].values\n",
    "\n",
    "ts_X_train = training.drop(columns='Total_Sales')\n",
    "\n",
    "ts_train_names = ts_X_train.columns\n",
    "\n",
    "ts_X_train.head()"
   ]
  },
  {
   "cell_type": "code",
   "execution_count": 215,
   "metadata": {},
   "outputs": [
    {
     "output_type": "execute_result",
     "data": {
      "text/plain": [
       "RandomForestRegressor(n_estimators=1000, n_jobs=-1, random_state=42)"
      ]
     },
     "metadata": {},
     "execution_count": 215
    }
   ],
   "source": [
    "rf_regr_3 = RandomForestRegressor(n_estimators=1000, n_jobs=-1, random_state=42)\n",
    "rf_regr_3.fit(ts_X_train, ts_y_train)"
   ]
  },
  {
   "cell_type": "code",
   "execution_count": 216,
   "metadata": {},
   "outputs": [
    {
     "output_type": "stream",
     "name": "stdout",
     "text": [
      "Training Data Score: 0.9812066037303133\nTesting Data Score: 0.6837658160118194\n"
     ]
    }
   ],
   "source": [
    "print(f\"Training Data Score: {rf_regr_3.score(ts_X_train, ts_y_train)}\")\n",
    "print(f\"Testing Data Score: {rf_regr_3.score(ts_X_test, ts_y_test)}\")"
   ]
  },
  {
   "cell_type": "code",
   "execution_count": 217,
   "metadata": {},
   "outputs": [
    {
     "output_type": "stream",
     "name": "stdout",
     "text": [
      "Mean Error = 0.48731\n"
     ]
    }
   ],
   "source": [
    "rf_pred_ts = rf_regr_3.predict(ts_X_test)\n",
    "\n",
    "print('Mean Error = %.5f' % np.sqrt(mean_squared_log_error(ts_y_test, rf_pred_ts)))"
   ]
  },
  {
   "cell_type": "code",
   "execution_count": 273,
   "metadata": {},
   "outputs": [
    {
     "output_type": "execute_result",
     "data": {
      "text/plain": [
       "      Total_Sales_Predicted  Actual\n",
       "0                    52.966      39\n",
       "1                    41.929      30\n",
       "2                    38.586      70\n",
       "3                     5.823       6\n",
       "4                     5.702       3\n",
       "...                     ...     ...\n",
       "2537                 47.519      57\n",
       "2538                 45.987      14\n",
       "2539                115.985      81\n",
       "2540                116.046     116\n",
       "2541                150.141       7\n",
       "\n",
       "[2542 rows x 2 columns]"
      ],
      "text/html": "<div>\n<style scoped>\n    .dataframe tbody tr th:only-of-type {\n        vertical-align: middle;\n    }\n\n    .dataframe tbody tr th {\n        vertical-align: top;\n    }\n\n    .dataframe thead th {\n        text-align: right;\n    }\n</style>\n<table border=\"1\" class=\"dataframe\">\n  <thead>\n    <tr style=\"text-align: right;\">\n      <th></th>\n      <th>Total_Sales_Predicted</th>\n      <th>Actual</th>\n    </tr>\n  </thead>\n  <tbody>\n    <tr>\n      <th>0</th>\n      <td>52.966</td>\n      <td>39</td>\n    </tr>\n    <tr>\n      <th>1</th>\n      <td>41.929</td>\n      <td>30</td>\n    </tr>\n    <tr>\n      <th>2</th>\n      <td>38.586</td>\n      <td>70</td>\n    </tr>\n    <tr>\n      <th>3</th>\n      <td>5.823</td>\n      <td>6</td>\n    </tr>\n    <tr>\n      <th>4</th>\n      <td>5.702</td>\n      <td>3</td>\n    </tr>\n    <tr>\n      <th>...</th>\n      <td>...</td>\n      <td>...</td>\n    </tr>\n    <tr>\n      <th>2537</th>\n      <td>47.519</td>\n      <td>57</td>\n    </tr>\n    <tr>\n      <th>2538</th>\n      <td>45.987</td>\n      <td>14</td>\n    </tr>\n    <tr>\n      <th>2539</th>\n      <td>115.985</td>\n      <td>81</td>\n    </tr>\n    <tr>\n      <th>2540</th>\n      <td>116.046</td>\n      <td>116</td>\n    </tr>\n    <tr>\n      <th>2541</th>\n      <td>150.141</td>\n      <td>7</td>\n    </tr>\n  </tbody>\n</table>\n<p>2542 rows × 2 columns</p>\n</div>"
     },
     "metadata": {},
     "execution_count": 273
    }
   ],
   "source": [
    "output_ts = pd.DataFrame({'Total_Sales_Predicted':rf_pred_ts, 'Actual': ts_y_test})\n",
    "output_ts"
   ]
  },
  {
   "cell_type": "code",
   "execution_count": 274,
   "metadata": {},
   "outputs": [
    {
     "output_type": "execute_result",
     "data": {
      "text/plain": [
       "      Total_Sales_Predicted  Total_Sales_Predicted_RMSLE\n",
       "0                    52.966                     0.487309\n",
       "1                    41.929                     0.487309\n",
       "2                    38.586                     0.487309\n",
       "3                     5.823                     0.487309\n",
       "4                     5.702                     0.487309\n",
       "...                     ...                          ...\n",
       "2537                 47.519                     0.487309\n",
       "2538                 45.987                     0.487309\n",
       "2539                115.985                     0.487309\n",
       "2540                116.046                     0.487309\n",
       "2541                150.141                     0.487309\n",
       "\n",
       "[2542 rows x 2 columns]"
      ],
      "text/html": "<div>\n<style scoped>\n    .dataframe tbody tr th:only-of-type {\n        vertical-align: middle;\n    }\n\n    .dataframe tbody tr th {\n        vertical-align: top;\n    }\n\n    .dataframe thead th {\n        text-align: right;\n    }\n</style>\n<table border=\"1\" class=\"dataframe\">\n  <thead>\n    <tr style=\"text-align: right;\">\n      <th></th>\n      <th>Total_Sales_Predicted</th>\n      <th>Total_Sales_Predicted_RMSLE</th>\n    </tr>\n  </thead>\n  <tbody>\n    <tr>\n      <th>0</th>\n      <td>52.966</td>\n      <td>0.487309</td>\n    </tr>\n    <tr>\n      <th>1</th>\n      <td>41.929</td>\n      <td>0.487309</td>\n    </tr>\n    <tr>\n      <th>2</th>\n      <td>38.586</td>\n      <td>0.487309</td>\n    </tr>\n    <tr>\n      <th>3</th>\n      <td>5.823</td>\n      <td>0.487309</td>\n    </tr>\n    <tr>\n      <th>4</th>\n      <td>5.702</td>\n      <td>0.487309</td>\n    </tr>\n    <tr>\n      <th>...</th>\n      <td>...</td>\n      <td>...</td>\n    </tr>\n    <tr>\n      <th>2537</th>\n      <td>47.519</td>\n      <td>0.487309</td>\n    </tr>\n    <tr>\n      <th>2538</th>\n      <td>45.987</td>\n      <td>0.487309</td>\n    </tr>\n    <tr>\n      <th>2539</th>\n      <td>115.985</td>\n      <td>0.487309</td>\n    </tr>\n    <tr>\n      <th>2540</th>\n      <td>116.046</td>\n      <td>0.487309</td>\n    </tr>\n    <tr>\n      <th>2541</th>\n      <td>150.141</td>\n      <td>0.487309</td>\n    </tr>\n  </tbody>\n</table>\n<p>2542 rows × 2 columns</p>\n</div>"
     },
     "metadata": {},
     "execution_count": 274
    }
   ],
   "source": [
    "# Calculate mean error for each row and add to new column\n",
    "output_ts['Total_Sales_Predicted_RMSLE'] = (np.sqrt(mean_squared_log_error(output_ts['Actual'], output_ts['Total_Sales_Predicted'])))\n",
    "\n",
    "output_ts = output_ts.drop(columns='Actual')\n",
    "output_ts"
   ]
  },
  {
   "cell_type": "code",
   "execution_count": 275,
   "metadata": {},
   "outputs": [
    {
     "output_type": "execute_result",
     "data": {
      "text/plain": [
       "      index Zip_Code  Mobility_Rate  Expense_Index  Crime_Index  Total_Vacant  \\\n",
       "0         0    32003       0.182327            104           28           704   \n",
       "1         1    32003       0.182327            104           28           704   \n",
       "2         2    32003       0.182327            104           28           704   \n",
       "3         3    32008       0.067037             82          118           964   \n",
       "4         4    32008       0.067037             82          118           964   \n",
       "...     ...      ...            ...            ...          ...           ...   \n",
       "2537   2537    34996       0.141276             78          140          2780   \n",
       "2538   2538    34996       0.141276             78          140          2780   \n",
       "2539   2539    34997       0.143471             91          113          2976   \n",
       "2540   2540    34997       0.143471             91          113          2976   \n",
       "2541   2541    34997       0.143471             91          113          2976   \n",
       "\n",
       "      Total_Dwellings  Total_Sales  FHA_Count  Home_Affordability  ...  \\\n",
       "0               11724           39          6            0.124589  ...   \n",
       "1               11724           30          8            0.140027  ...   \n",
       "2               11724           70          4            0.147681  ...   \n",
       "3                3247            6          0            0.153378  ...   \n",
       "4                3247            3          1            0.062420  ...   \n",
       "...               ...          ...        ...                 ...  ...   \n",
       "2537             9249           57          1            0.225364  ...   \n",
       "2538             9249           14          0            0.275304  ...   \n",
       "2539            21551           81         10            0.202930  ...   \n",
       "2540            21551          116          7            0.201553  ...   \n",
       "2541            21551            7         12            0.416754  ...   \n",
       "\n",
       "      Sale_Price  Last_Month_Price  Last_2Month_Price  Last_3Month_Price  \\\n",
       "0       299900.0          294000.0           336000.0           330000.0   \n",
       "1       333800.0          299900.0           294000.0           336000.0   \n",
       "2       339950.0          333800.0           299900.0           294000.0   \n",
       "3       132000.0          169500.0            72500.0           107000.0   \n",
       "4        53200.0          132000.0           169500.0            72500.0   \n",
       "...          ...               ...                ...                ...   \n",
       "2537    395000.0          345000.0           390000.0           400000.0   \n",
       "2538    465950.0          395000.0           345000.0           390000.0   \n",
       "2539    305000.0          297000.0           259750.0           285000.0   \n",
       "2540    300000.0          305000.0           297000.0           259750.0   \n",
       "2541    599000.0          300000.0           305000.0           297000.0   \n",
       "\n",
       "      Last_Month_Diff  Last_2Month_Diff  Last_3Month_Diff  index  \\\n",
       "0              5900.0          -42000.0            6000.0      0   \n",
       "1             33900.0            5900.0          -42000.0      1   \n",
       "2              6150.0           33900.0            5900.0      2   \n",
       "3            -37500.0           97000.0          -34500.0      3   \n",
       "4            -78800.0          -37500.0           97000.0      4   \n",
       "...               ...               ...               ...    ...   \n",
       "2537          50000.0          -45000.0          -10000.0   2537   \n",
       "2538          70950.0           50000.0          -45000.0   2538   \n",
       "2539           8000.0           37250.0          -25250.0   2539   \n",
       "2540          -5000.0            8000.0           37250.0   2540   \n",
       "2541         299000.0           -5000.0            8000.0   2541   \n",
       "\n",
       "      Total_Sales_Predicted  Total_Sales_Predicted_RMSLE  \n",
       "0                    52.966                     0.487309  \n",
       "1                    41.929                     0.487309  \n",
       "2                    38.586                     0.487309  \n",
       "3                     5.823                     0.487309  \n",
       "4                     5.702                     0.487309  \n",
       "...                     ...                          ...  \n",
       "2537                 47.519                     0.487309  \n",
       "2538                 45.987                     0.487309  \n",
       "2539                115.985                     0.487309  \n",
       "2540                116.046                     0.487309  \n",
       "2541                150.141                     0.487309  \n",
       "\n",
       "[2542 rows x 21 columns]"
      ],
      "text/html": "<div>\n<style scoped>\n    .dataframe tbody tr th:only-of-type {\n        vertical-align: middle;\n    }\n\n    .dataframe tbody tr th {\n        vertical-align: top;\n    }\n\n    .dataframe thead th {\n        text-align: right;\n    }\n</style>\n<table border=\"1\" class=\"dataframe\">\n  <thead>\n    <tr style=\"text-align: right;\">\n      <th></th>\n      <th>index</th>\n      <th>Zip_Code</th>\n      <th>Mobility_Rate</th>\n      <th>Expense_Index</th>\n      <th>Crime_Index</th>\n      <th>Total_Vacant</th>\n      <th>Total_Dwellings</th>\n      <th>Total_Sales</th>\n      <th>FHA_Count</th>\n      <th>Home_Affordability</th>\n      <th>...</th>\n      <th>Sale_Price</th>\n      <th>Last_Month_Price</th>\n      <th>Last_2Month_Price</th>\n      <th>Last_3Month_Price</th>\n      <th>Last_Month_Diff</th>\n      <th>Last_2Month_Diff</th>\n      <th>Last_3Month_Diff</th>\n      <th>index</th>\n      <th>Total_Sales_Predicted</th>\n      <th>Total_Sales_Predicted_RMSLE</th>\n    </tr>\n  </thead>\n  <tbody>\n    <tr>\n      <th>0</th>\n      <td>0</td>\n      <td>32003</td>\n      <td>0.182327</td>\n      <td>104</td>\n      <td>28</td>\n      <td>704</td>\n      <td>11724</td>\n      <td>39</td>\n      <td>6</td>\n      <td>0.124589</td>\n      <td>...</td>\n      <td>299900.0</td>\n      <td>294000.0</td>\n      <td>336000.0</td>\n      <td>330000.0</td>\n      <td>5900.0</td>\n      <td>-42000.0</td>\n      <td>6000.0</td>\n      <td>0</td>\n      <td>52.966</td>\n      <td>0.487309</td>\n    </tr>\n    <tr>\n      <th>1</th>\n      <td>1</td>\n      <td>32003</td>\n      <td>0.182327</td>\n      <td>104</td>\n      <td>28</td>\n      <td>704</td>\n      <td>11724</td>\n      <td>30</td>\n      <td>8</td>\n      <td>0.140027</td>\n      <td>...</td>\n      <td>333800.0</td>\n      <td>299900.0</td>\n      <td>294000.0</td>\n      <td>336000.0</td>\n      <td>33900.0</td>\n      <td>5900.0</td>\n      <td>-42000.0</td>\n      <td>1</td>\n      <td>41.929</td>\n      <td>0.487309</td>\n    </tr>\n    <tr>\n      <th>2</th>\n      <td>2</td>\n      <td>32003</td>\n      <td>0.182327</td>\n      <td>104</td>\n      <td>28</td>\n      <td>704</td>\n      <td>11724</td>\n      <td>70</td>\n      <td>4</td>\n      <td>0.147681</td>\n      <td>...</td>\n      <td>339950.0</td>\n      <td>333800.0</td>\n      <td>299900.0</td>\n      <td>294000.0</td>\n      <td>6150.0</td>\n      <td>33900.0</td>\n      <td>5900.0</td>\n      <td>2</td>\n      <td>38.586</td>\n      <td>0.487309</td>\n    </tr>\n    <tr>\n      <th>3</th>\n      <td>3</td>\n      <td>32008</td>\n      <td>0.067037</td>\n      <td>82</td>\n      <td>118</td>\n      <td>964</td>\n      <td>3247</td>\n      <td>6</td>\n      <td>0</td>\n      <td>0.153378</td>\n      <td>...</td>\n      <td>132000.0</td>\n      <td>169500.0</td>\n      <td>72500.0</td>\n      <td>107000.0</td>\n      <td>-37500.0</td>\n      <td>97000.0</td>\n      <td>-34500.0</td>\n      <td>3</td>\n      <td>5.823</td>\n      <td>0.487309</td>\n    </tr>\n    <tr>\n      <th>4</th>\n      <td>4</td>\n      <td>32008</td>\n      <td>0.067037</td>\n      <td>82</td>\n      <td>118</td>\n      <td>964</td>\n      <td>3247</td>\n      <td>3</td>\n      <td>1</td>\n      <td>0.062420</td>\n      <td>...</td>\n      <td>53200.0</td>\n      <td>132000.0</td>\n      <td>169500.0</td>\n      <td>72500.0</td>\n      <td>-78800.0</td>\n      <td>-37500.0</td>\n      <td>97000.0</td>\n      <td>4</td>\n      <td>5.702</td>\n      <td>0.487309</td>\n    </tr>\n    <tr>\n      <th>...</th>\n      <td>...</td>\n      <td>...</td>\n      <td>...</td>\n      <td>...</td>\n      <td>...</td>\n      <td>...</td>\n      <td>...</td>\n      <td>...</td>\n      <td>...</td>\n      <td>...</td>\n      <td>...</td>\n      <td>...</td>\n      <td>...</td>\n      <td>...</td>\n      <td>...</td>\n      <td>...</td>\n      <td>...</td>\n      <td>...</td>\n      <td>...</td>\n      <td>...</td>\n      <td>...</td>\n    </tr>\n    <tr>\n      <th>2537</th>\n      <td>2537</td>\n      <td>34996</td>\n      <td>0.141276</td>\n      <td>78</td>\n      <td>140</td>\n      <td>2780</td>\n      <td>9249</td>\n      <td>57</td>\n      <td>1</td>\n      <td>0.225364</td>\n      <td>...</td>\n      <td>395000.0</td>\n      <td>345000.0</td>\n      <td>390000.0</td>\n      <td>400000.0</td>\n      <td>50000.0</td>\n      <td>-45000.0</td>\n      <td>-10000.0</td>\n      <td>2537</td>\n      <td>47.519</td>\n      <td>0.487309</td>\n    </tr>\n    <tr>\n      <th>2538</th>\n      <td>2538</td>\n      <td>34996</td>\n      <td>0.141276</td>\n      <td>78</td>\n      <td>140</td>\n      <td>2780</td>\n      <td>9249</td>\n      <td>14</td>\n      <td>0</td>\n      <td>0.275304</td>\n      <td>...</td>\n      <td>465950.0</td>\n      <td>395000.0</td>\n      <td>345000.0</td>\n      <td>390000.0</td>\n      <td>70950.0</td>\n      <td>50000.0</td>\n      <td>-45000.0</td>\n      <td>2538</td>\n      <td>45.987</td>\n      <td>0.487309</td>\n    </tr>\n    <tr>\n      <th>2539</th>\n      <td>2539</td>\n      <td>34997</td>\n      <td>0.143471</td>\n      <td>91</td>\n      <td>113</td>\n      <td>2976</td>\n      <td>21551</td>\n      <td>81</td>\n      <td>10</td>\n      <td>0.202930</td>\n      <td>...</td>\n      <td>305000.0</td>\n      <td>297000.0</td>\n      <td>259750.0</td>\n      <td>285000.0</td>\n      <td>8000.0</td>\n      <td>37250.0</td>\n      <td>-25250.0</td>\n      <td>2539</td>\n      <td>115.985</td>\n      <td>0.487309</td>\n    </tr>\n    <tr>\n      <th>2540</th>\n      <td>2540</td>\n      <td>34997</td>\n      <td>0.143471</td>\n      <td>91</td>\n      <td>113</td>\n      <td>2976</td>\n      <td>21551</td>\n      <td>116</td>\n      <td>7</td>\n      <td>0.201553</td>\n      <td>...</td>\n      <td>300000.0</td>\n      <td>305000.0</td>\n      <td>297000.0</td>\n      <td>259750.0</td>\n      <td>-5000.0</td>\n      <td>8000.0</td>\n      <td>37250.0</td>\n      <td>2540</td>\n      <td>116.046</td>\n      <td>0.487309</td>\n    </tr>\n    <tr>\n      <th>2541</th>\n      <td>2541</td>\n      <td>34997</td>\n      <td>0.143471</td>\n      <td>91</td>\n      <td>113</td>\n      <td>2976</td>\n      <td>21551</td>\n      <td>7</td>\n      <td>12</td>\n      <td>0.416754</td>\n      <td>...</td>\n      <td>599000.0</td>\n      <td>300000.0</td>\n      <td>305000.0</td>\n      <td>297000.0</td>\n      <td>299000.0</td>\n      <td>-5000.0</td>\n      <td>8000.0</td>\n      <td>2541</td>\n      <td>150.141</td>\n      <td>0.487309</td>\n    </tr>\n  </tbody>\n</table>\n<p>2542 rows × 21 columns</p>\n</div>"
     },
     "metadata": {},
     "execution_count": 275
    }
   ],
   "source": [
    "output_ts.reset_index(inplace=True)\n",
    "\n",
    "ts_final = pd.concat((full_output_data, output_ts), axis=1)\n",
    "\n",
    "ts_final"
   ]
  },
  {
   "cell_type": "code",
   "execution_count": 36,
   "metadata": {},
   "outputs": [
    {
     "data": {
      "text/html": [
       "<div>\n",
       "<style scoped>\n",
       "    .dataframe tbody tr th:only-of-type {\n",
       "        vertical-align: middle;\n",
       "    }\n",
       "\n",
       "    .dataframe tbody tr th {\n",
       "        vertical-align: top;\n",
       "    }\n",
       "\n",
       "    .dataframe thead th {\n",
       "        text-align: right;\n",
       "    }\n",
       "</style>\n",
       "<table border=\"1\" class=\"dataframe\">\n",
       "  <thead>\n",
       "    <tr style=\"text-align: right;\">\n",
       "      <th></th>\n",
       "      <th>Predicted</th>\n",
       "      <th>Actual</th>\n",
       "      <th>RMSLE</th>\n",
       "      <th>% Error</th>\n",
       "    </tr>\n",
       "  </thead>\n",
       "  <tbody>\n",
       "    <tr>\n",
       "      <th>0</th>\n",
       "      <td>52.966</td>\n",
       "      <td>39</td>\n",
       "      <td>0.487309</td>\n",
       "      <td>35.810256</td>\n",
       "    </tr>\n",
       "    <tr>\n",
       "      <th>1</th>\n",
       "      <td>41.929</td>\n",
       "      <td>30</td>\n",
       "      <td>0.487309</td>\n",
       "      <td>39.763333</td>\n",
       "    </tr>\n",
       "    <tr>\n",
       "      <th>2</th>\n",
       "      <td>38.586</td>\n",
       "      <td>70</td>\n",
       "      <td>0.487309</td>\n",
       "      <td>44.877143</td>\n",
       "    </tr>\n",
       "    <tr>\n",
       "      <th>3</th>\n",
       "      <td>5.823</td>\n",
       "      <td>6</td>\n",
       "      <td>0.487309</td>\n",
       "      <td>2.950000</td>\n",
       "    </tr>\n",
       "    <tr>\n",
       "      <th>4</th>\n",
       "      <td>5.702</td>\n",
       "      <td>3</td>\n",
       "      <td>0.487309</td>\n",
       "      <td>90.066667</td>\n",
       "    </tr>\n",
       "    <tr>\n",
       "      <th>...</th>\n",
       "      <td>...</td>\n",
       "      <td>...</td>\n",
       "      <td>...</td>\n",
       "      <td>...</td>\n",
       "    </tr>\n",
       "    <tr>\n",
       "      <th>2537</th>\n",
       "      <td>47.519</td>\n",
       "      <td>57</td>\n",
       "      <td>0.487309</td>\n",
       "      <td>16.633333</td>\n",
       "    </tr>\n",
       "    <tr>\n",
       "      <th>2538</th>\n",
       "      <td>45.987</td>\n",
       "      <td>14</td>\n",
       "      <td>0.487309</td>\n",
       "      <td>228.478571</td>\n",
       "    </tr>\n",
       "    <tr>\n",
       "      <th>2539</th>\n",
       "      <td>115.985</td>\n",
       "      <td>81</td>\n",
       "      <td>0.487309</td>\n",
       "      <td>43.191358</td>\n",
       "    </tr>\n",
       "    <tr>\n",
       "      <th>2540</th>\n",
       "      <td>116.046</td>\n",
       "      <td>116</td>\n",
       "      <td>0.487309</td>\n",
       "      <td>0.039655</td>\n",
       "    </tr>\n",
       "    <tr>\n",
       "      <th>2541</th>\n",
       "      <td>150.141</td>\n",
       "      <td>7</td>\n",
       "      <td>0.487309</td>\n",
       "      <td>2044.871429</td>\n",
       "    </tr>\n",
       "  </tbody>\n",
       "</table>\n",
       "<p>2542 rows × 4 columns</p>\n",
       "</div>"
      ],
      "text/plain": [
       "      Predicted  Actual     RMSLE      % Error\n",
       "0        52.966      39  0.487309    35.810256\n",
       "1        41.929      30  0.487309    39.763333\n",
       "2        38.586      70  0.487309    44.877143\n",
       "3         5.823       6  0.487309     2.950000\n",
       "4         5.702       3  0.487309    90.066667\n",
       "...         ...     ...       ...          ...\n",
       "2537     47.519      57  0.487309    16.633333\n",
       "2538     45.987      14  0.487309   228.478571\n",
       "2539    115.985      81  0.487309    43.191358\n",
       "2540    116.046     116  0.487309     0.039655\n",
       "2541    150.141       7  0.487309  2044.871429\n",
       "\n",
       "[2542 rows x 4 columns]"
      ]
     },
     "execution_count": 36,
     "metadata": {},
     "output_type": "execute_result"
    }
   ],
   "source": [
    "output_ts['% Error'] = abs(output_ts['Predicted'] - output_ts['Actual']) / output_ts['Actual'] * 100\n",
    "output_ts"
   ]
  },
  {
   "cell_type": "code",
   "execution_count": 276,
   "metadata": {},
   "outputs": [
    {
     "output_type": "execute_result",
     "data": {
      "text/plain": [
       "      index Zip_Code  Mobility_Rate  Expense_Index  Crime_Index  Total_Vacant  \\\n",
       "0         0    32003       0.182327            104           28           704   \n",
       "1         1    32003       0.182327            104           28           704   \n",
       "2         2    32003       0.182327            104           28           704   \n",
       "3         3    32008       0.067037             82          118           964   \n",
       "4         4    32008       0.067037             82          118           964   \n",
       "...     ...      ...            ...            ...          ...           ...   \n",
       "2537   2537    34996       0.141276             78          140          2780   \n",
       "2538   2538    34996       0.141276             78          140          2780   \n",
       "2539   2539    34997       0.143471             91          113          2976   \n",
       "2540   2540    34997       0.143471             91          113          2976   \n",
       "2541   2541    34997       0.143471             91          113          2976   \n",
       "\n",
       "      Total_Dwellings  Total_Sales  FHA_Count  Home_Affordability  ...  \\\n",
       "0               11724           39          6            0.124589  ...   \n",
       "1               11724           30          8            0.140027  ...   \n",
       "2               11724           70          4            0.147681  ...   \n",
       "3                3247            6          0            0.153378  ...   \n",
       "4                3247            3          1            0.062420  ...   \n",
       "...               ...          ...        ...                 ...  ...   \n",
       "2537             9249           57          1            0.225364  ...   \n",
       "2538             9249           14          0            0.275304  ...   \n",
       "2539            21551           81         10            0.202930  ...   \n",
       "2540            21551          116          7            0.201553  ...   \n",
       "2541            21551            7         12            0.416754  ...   \n",
       "\n",
       "      level_0  index  Sale_Price_Prediction  Sale_Price_RMSLE  index  \\\n",
       "0           0      0             300813.433          0.070036      0   \n",
       "1           1      1             333409.450          0.070036      1   \n",
       "2           2      2             339040.001          0.070036      2   \n",
       "3           3      3             133453.210          0.070036      3   \n",
       "4           4      4              65845.209          0.070036      4   \n",
       "...       ...    ...                    ...               ...    ...   \n",
       "2537     2537   2537             395403.237          0.070036   2537   \n",
       "2538     2538   2538             464766.475          0.070036   2538   \n",
       "2539     2539   2539             305500.998          0.070036   2539   \n",
       "2540     2540   2540             300436.306          0.070036   2540   \n",
       "2541     2541   2541             559847.963          0.070036   2541   \n",
       "\n",
       "      FHA_Count_Prediction  FHA_Count_RMSLE  index  Total_Sales_Predicted  \\\n",
       "0                    5.282         0.476952      0                 52.966   \n",
       "1                    5.363         0.476952      1                 41.929   \n",
       "2                    6.877         0.476952      2                 38.586   \n",
       "3                    1.071         0.476952      3                  5.823   \n",
       "4                    1.237         0.476952      4                  5.702   \n",
       "...                    ...              ...    ...                    ...   \n",
       "2537                 0.265         0.476952   2537                 47.519   \n",
       "2538                 0.235         0.476952   2538                 45.987   \n",
       "2539                 8.418         0.476952   2539                115.985   \n",
       "2540                11.563         0.476952   2540                116.046   \n",
       "2541                12.149         0.476952   2541                150.141   \n",
       "\n",
       "      Total_Sales_Predicted_RMSLE  \n",
       "0                        0.487309  \n",
       "1                        0.487309  \n",
       "2                        0.487309  \n",
       "3                        0.487309  \n",
       "4                        0.487309  \n",
       "...                           ...  \n",
       "2537                     0.487309  \n",
       "2538                     0.487309  \n",
       "2539                     0.487309  \n",
       "2540                     0.487309  \n",
       "2541                     0.487309  \n",
       "\n",
       "[2542 rows x 28 columns]"
      ],
      "text/html": "<div>\n<style scoped>\n    .dataframe tbody tr th:only-of-type {\n        vertical-align: middle;\n    }\n\n    .dataframe tbody tr th {\n        vertical-align: top;\n    }\n\n    .dataframe thead th {\n        text-align: right;\n    }\n</style>\n<table border=\"1\" class=\"dataframe\">\n  <thead>\n    <tr style=\"text-align: right;\">\n      <th></th>\n      <th>index</th>\n      <th>Zip_Code</th>\n      <th>Mobility_Rate</th>\n      <th>Expense_Index</th>\n      <th>Crime_Index</th>\n      <th>Total_Vacant</th>\n      <th>Total_Dwellings</th>\n      <th>Total_Sales</th>\n      <th>FHA_Count</th>\n      <th>Home_Affordability</th>\n      <th>...</th>\n      <th>level_0</th>\n      <th>index</th>\n      <th>Sale_Price_Prediction</th>\n      <th>Sale_Price_RMSLE</th>\n      <th>index</th>\n      <th>FHA_Count_Prediction</th>\n      <th>FHA_Count_RMSLE</th>\n      <th>index</th>\n      <th>Total_Sales_Predicted</th>\n      <th>Total_Sales_Predicted_RMSLE</th>\n    </tr>\n  </thead>\n  <tbody>\n    <tr>\n      <th>0</th>\n      <td>0</td>\n      <td>32003</td>\n      <td>0.182327</td>\n      <td>104</td>\n      <td>28</td>\n      <td>704</td>\n      <td>11724</td>\n      <td>39</td>\n      <td>6</td>\n      <td>0.124589</td>\n      <td>...</td>\n      <td>0</td>\n      <td>0</td>\n      <td>300813.433</td>\n      <td>0.070036</td>\n      <td>0</td>\n      <td>5.282</td>\n      <td>0.476952</td>\n      <td>0</td>\n      <td>52.966</td>\n      <td>0.487309</td>\n    </tr>\n    <tr>\n      <th>1</th>\n      <td>1</td>\n      <td>32003</td>\n      <td>0.182327</td>\n      <td>104</td>\n      <td>28</td>\n      <td>704</td>\n      <td>11724</td>\n      <td>30</td>\n      <td>8</td>\n      <td>0.140027</td>\n      <td>...</td>\n      <td>1</td>\n      <td>1</td>\n      <td>333409.450</td>\n      <td>0.070036</td>\n      <td>1</td>\n      <td>5.363</td>\n      <td>0.476952</td>\n      <td>1</td>\n      <td>41.929</td>\n      <td>0.487309</td>\n    </tr>\n    <tr>\n      <th>2</th>\n      <td>2</td>\n      <td>32003</td>\n      <td>0.182327</td>\n      <td>104</td>\n      <td>28</td>\n      <td>704</td>\n      <td>11724</td>\n      <td>70</td>\n      <td>4</td>\n      <td>0.147681</td>\n      <td>...</td>\n      <td>2</td>\n      <td>2</td>\n      <td>339040.001</td>\n      <td>0.070036</td>\n      <td>2</td>\n      <td>6.877</td>\n      <td>0.476952</td>\n      <td>2</td>\n      <td>38.586</td>\n      <td>0.487309</td>\n    </tr>\n    <tr>\n      <th>3</th>\n      <td>3</td>\n      <td>32008</td>\n      <td>0.067037</td>\n      <td>82</td>\n      <td>118</td>\n      <td>964</td>\n      <td>3247</td>\n      <td>6</td>\n      <td>0</td>\n      <td>0.153378</td>\n      <td>...</td>\n      <td>3</td>\n      <td>3</td>\n      <td>133453.210</td>\n      <td>0.070036</td>\n      <td>3</td>\n      <td>1.071</td>\n      <td>0.476952</td>\n      <td>3</td>\n      <td>5.823</td>\n      <td>0.487309</td>\n    </tr>\n    <tr>\n      <th>4</th>\n      <td>4</td>\n      <td>32008</td>\n      <td>0.067037</td>\n      <td>82</td>\n      <td>118</td>\n      <td>964</td>\n      <td>3247</td>\n      <td>3</td>\n      <td>1</td>\n      <td>0.062420</td>\n      <td>...</td>\n      <td>4</td>\n      <td>4</td>\n      <td>65845.209</td>\n      <td>0.070036</td>\n      <td>4</td>\n      <td>1.237</td>\n      <td>0.476952</td>\n      <td>4</td>\n      <td>5.702</td>\n      <td>0.487309</td>\n    </tr>\n    <tr>\n      <th>...</th>\n      <td>...</td>\n      <td>...</td>\n      <td>...</td>\n      <td>...</td>\n      <td>...</td>\n      <td>...</td>\n      <td>...</td>\n      <td>...</td>\n      <td>...</td>\n      <td>...</td>\n      <td>...</td>\n      <td>...</td>\n      <td>...</td>\n      <td>...</td>\n      <td>...</td>\n      <td>...</td>\n      <td>...</td>\n      <td>...</td>\n      <td>...</td>\n      <td>...</td>\n      <td>...</td>\n    </tr>\n    <tr>\n      <th>2537</th>\n      <td>2537</td>\n      <td>34996</td>\n      <td>0.141276</td>\n      <td>78</td>\n      <td>140</td>\n      <td>2780</td>\n      <td>9249</td>\n      <td>57</td>\n      <td>1</td>\n      <td>0.225364</td>\n      <td>...</td>\n      <td>2537</td>\n      <td>2537</td>\n      <td>395403.237</td>\n      <td>0.070036</td>\n      <td>2537</td>\n      <td>0.265</td>\n      <td>0.476952</td>\n      <td>2537</td>\n      <td>47.519</td>\n      <td>0.487309</td>\n    </tr>\n    <tr>\n      <th>2538</th>\n      <td>2538</td>\n      <td>34996</td>\n      <td>0.141276</td>\n      <td>78</td>\n      <td>140</td>\n      <td>2780</td>\n      <td>9249</td>\n      <td>14</td>\n      <td>0</td>\n      <td>0.275304</td>\n      <td>...</td>\n      <td>2538</td>\n      <td>2538</td>\n      <td>464766.475</td>\n      <td>0.070036</td>\n      <td>2538</td>\n      <td>0.235</td>\n      <td>0.476952</td>\n      <td>2538</td>\n      <td>45.987</td>\n      <td>0.487309</td>\n    </tr>\n    <tr>\n      <th>2539</th>\n      <td>2539</td>\n      <td>34997</td>\n      <td>0.143471</td>\n      <td>91</td>\n      <td>113</td>\n      <td>2976</td>\n      <td>21551</td>\n      <td>81</td>\n      <td>10</td>\n      <td>0.202930</td>\n      <td>...</td>\n      <td>2539</td>\n      <td>2539</td>\n      <td>305500.998</td>\n      <td>0.070036</td>\n      <td>2539</td>\n      <td>8.418</td>\n      <td>0.476952</td>\n      <td>2539</td>\n      <td>115.985</td>\n      <td>0.487309</td>\n    </tr>\n    <tr>\n      <th>2540</th>\n      <td>2540</td>\n      <td>34997</td>\n      <td>0.143471</td>\n      <td>91</td>\n      <td>113</td>\n      <td>2976</td>\n      <td>21551</td>\n      <td>116</td>\n      <td>7</td>\n      <td>0.201553</td>\n      <td>...</td>\n      <td>2540</td>\n      <td>2540</td>\n      <td>300436.306</td>\n      <td>0.070036</td>\n      <td>2540</td>\n      <td>11.563</td>\n      <td>0.476952</td>\n      <td>2540</td>\n      <td>116.046</td>\n      <td>0.487309</td>\n    </tr>\n    <tr>\n      <th>2541</th>\n      <td>2541</td>\n      <td>34997</td>\n      <td>0.143471</td>\n      <td>91</td>\n      <td>113</td>\n      <td>2976</td>\n      <td>21551</td>\n      <td>7</td>\n      <td>12</td>\n      <td>0.416754</td>\n      <td>...</td>\n      <td>2541</td>\n      <td>2541</td>\n      <td>559847.963</td>\n      <td>0.070036</td>\n      <td>2541</td>\n      <td>12.149</td>\n      <td>0.476952</td>\n      <td>2541</td>\n      <td>150.141</td>\n      <td>0.487309</td>\n    </tr>\n  </tbody>\n</table>\n<p>2542 rows × 28 columns</p>\n</div>"
     },
     "metadata": {},
     "execution_count": 276
    }
   ],
   "source": [
    "final_rf_data = pd.concat((full_output_data, output_price, output_fha, output_ts), axis=1)\n",
    "final_rf_data"
   ]
  },
  {
   "cell_type": "code",
   "execution_count": 278,
   "metadata": {},
   "outputs": [],
   "source": [
    "final_rf_data.to_csv('Resources/ML_Outputs/random_forest_model.csv')"
   ]
  },
  {
   "cell_type": "code",
   "execution_count": null,
   "metadata": {},
   "outputs": [],
   "source": []
  }
 ],
 "metadata": {
  "kernelspec": {
   "name": "python385jvsc74a57bd00cfdad5e626f31b4955989c38978bf1f5325b415a10b52ea84b38c33ed3e8b7b",
   "display_name": "Python 3.8.5 64-bit ('base': conda)"
  },
  "language_info": {
   "codemirror_mode": {
    "name": "ipython",
    "version": 3
   },
   "file_extension": ".py",
   "mimetype": "text/x-python",
   "name": "python",
   "nbconvert_exporter": "python",
   "pygments_lexer": "ipython3",
   "version": "3.8.5"
  }
 },
 "nbformat": 4,
 "nbformat_minor": 4
}