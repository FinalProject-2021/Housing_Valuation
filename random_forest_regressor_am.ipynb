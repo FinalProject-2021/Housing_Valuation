{
 "cells": [
  {
   "cell_type": "code",
   "execution_count": 1,
   "metadata": {},
   "outputs": [],
   "source": [
    "import pandas as pd\n",
    "import numpy as np\n",
    "from sklearn import metrics\n",
    "from sklearn.metrics import confusion_matrix\n",
    "from sklearn.metrics import accuracy_score\n",
    "from sklearn.model_selection import train_test_split\n",
    "from sklearn.metrics import mean_squared_log_error\n",
    "from math import sqrt\n",
    "\n",
    "from sklearn.ensemble import RandomForestRegressor"
   ]
  },
  {
   "cell_type": "code",
   "execution_count": 2,
   "metadata": {},
   "outputs": [
    {
     "output_type": "execute_result",
     "data": {
      "text/plain": [
       "   Zip_Code        Date  Date_Code  Year  Month  Sale_Price  Interest_Rate  \\\n",
       "0     32003  2019-01-01     201901  2019      1    244950.0         4.4640   \n",
       "1     32003  2019-02-01     201902  2019      2    270000.0         4.3700   \n",
       "2     32003  2019-03-01     201903  2019      3    275000.0         4.2650   \n",
       "3     32003  2019-04-01     201904  2019      4    264500.0         4.1425   \n",
       "4     32003  2019-05-01     201905  2019      5    281000.0         4.0720   \n",
       "\n",
       "   Property_Tax  Rent_Price  Household_Income  ...  FTE_Employed  Unemployed  \\\n",
       "0          3778        1113           94154.0  ...         10671        1069   \n",
       "1          3778        1113           94154.0  ...         10671        1069   \n",
       "2          3778        1113           94154.0  ...         10671        1069   \n",
       "3          3778        1113           94154.0  ...         10671        1069   \n",
       "4          3778        1113           94154.0  ...         10671        1069   \n",
       "\n",
       "   Expense_Index  Average_Commute  Crime_Index Loan_Amount  Loan_Term  \\\n",
       "0            104               35           28    195960.0      360.0   \n",
       "1            104               35           28    216000.0      360.0   \n",
       "2            104               35           28    220000.0      360.0   \n",
       "3            104               35           28    211600.0      360.0   \n",
       "4            104               35           28    224800.0      360.0   \n",
       "\n",
       "     Loan_R  Loan_Payment  Home_Affordability  \n",
       "0  1.003720    988.713278            0.126012  \n",
       "1  1.003642   1077.819242            0.137369  \n",
       "2  1.003554   1084.200547            0.138182  \n",
       "3  1.003452   1027.671397            0.130978  \n",
       "4  1.003393   1082.581718            0.137976  \n",
       "\n",
       "[5 rows x 30 columns]"
      ],
      "text/html": "<div>\n<style scoped>\n    .dataframe tbody tr th:only-of-type {\n        vertical-align: middle;\n    }\n\n    .dataframe tbody tr th {\n        vertical-align: top;\n    }\n\n    .dataframe thead th {\n        text-align: right;\n    }\n</style>\n<table border=\"1\" class=\"dataframe\">\n  <thead>\n    <tr style=\"text-align: right;\">\n      <th></th>\n      <th>Zip_Code</th>\n      <th>Date</th>\n      <th>Date_Code</th>\n      <th>Year</th>\n      <th>Month</th>\n      <th>Sale_Price</th>\n      <th>Interest_Rate</th>\n      <th>Property_Tax</th>\n      <th>Rent_Price</th>\n      <th>Household_Income</th>\n      <th>...</th>\n      <th>FTE_Employed</th>\n      <th>Unemployed</th>\n      <th>Expense_Index</th>\n      <th>Average_Commute</th>\n      <th>Crime_Index</th>\n      <th>Loan_Amount</th>\n      <th>Loan_Term</th>\n      <th>Loan_R</th>\n      <th>Loan_Payment</th>\n      <th>Home_Affordability</th>\n    </tr>\n  </thead>\n  <tbody>\n    <tr>\n      <th>0</th>\n      <td>32003</td>\n      <td>2019-01-01</td>\n      <td>201901</td>\n      <td>2019</td>\n      <td>1</td>\n      <td>244950.0</td>\n      <td>4.4640</td>\n      <td>3778</td>\n      <td>1113</td>\n      <td>94154.0</td>\n      <td>...</td>\n      <td>10671</td>\n      <td>1069</td>\n      <td>104</td>\n      <td>35</td>\n      <td>28</td>\n      <td>195960.0</td>\n      <td>360.0</td>\n      <td>1.003720</td>\n      <td>988.713278</td>\n      <td>0.126012</td>\n    </tr>\n    <tr>\n      <th>1</th>\n      <td>32003</td>\n      <td>2019-02-01</td>\n      <td>201902</td>\n      <td>2019</td>\n      <td>2</td>\n      <td>270000.0</td>\n      <td>4.3700</td>\n      <td>3778</td>\n      <td>1113</td>\n      <td>94154.0</td>\n      <td>...</td>\n      <td>10671</td>\n      <td>1069</td>\n      <td>104</td>\n      <td>35</td>\n      <td>28</td>\n      <td>216000.0</td>\n      <td>360.0</td>\n      <td>1.003642</td>\n      <td>1077.819242</td>\n      <td>0.137369</td>\n    </tr>\n    <tr>\n      <th>2</th>\n      <td>32003</td>\n      <td>2019-03-01</td>\n      <td>201903</td>\n      <td>2019</td>\n      <td>3</td>\n      <td>275000.0</td>\n      <td>4.2650</td>\n      <td>3778</td>\n      <td>1113</td>\n      <td>94154.0</td>\n      <td>...</td>\n      <td>10671</td>\n      <td>1069</td>\n      <td>104</td>\n      <td>35</td>\n      <td>28</td>\n      <td>220000.0</td>\n      <td>360.0</td>\n      <td>1.003554</td>\n      <td>1084.200547</td>\n      <td>0.138182</td>\n    </tr>\n    <tr>\n      <th>3</th>\n      <td>32003</td>\n      <td>2019-04-01</td>\n      <td>201904</td>\n      <td>2019</td>\n      <td>4</td>\n      <td>264500.0</td>\n      <td>4.1425</td>\n      <td>3778</td>\n      <td>1113</td>\n      <td>94154.0</td>\n      <td>...</td>\n      <td>10671</td>\n      <td>1069</td>\n      <td>104</td>\n      <td>35</td>\n      <td>28</td>\n      <td>211600.0</td>\n      <td>360.0</td>\n      <td>1.003452</td>\n      <td>1027.671397</td>\n      <td>0.130978</td>\n    </tr>\n    <tr>\n      <th>4</th>\n      <td>32003</td>\n      <td>2019-05-01</td>\n      <td>201905</td>\n      <td>2019</td>\n      <td>5</td>\n      <td>281000.0</td>\n      <td>4.0720</td>\n      <td>3778</td>\n      <td>1113</td>\n      <td>94154.0</td>\n      <td>...</td>\n      <td>10671</td>\n      <td>1069</td>\n      <td>104</td>\n      <td>35</td>\n      <td>28</td>\n      <td>224800.0</td>\n      <td>360.0</td>\n      <td>1.003393</td>\n      <td>1082.581718</td>\n      <td>0.137976</td>\n    </tr>\n  </tbody>\n</table>\n<p>5 rows × 30 columns</p>\n</div>"
     },
     "metadata": {},
     "execution_count": 2
    }
   ],
   "source": [
    "data = pd.read_csv('Resources/Clean_Data/Final_Data.csv')\n",
    "data.head()"
   ]
  },
  {
   "cell_type": "code",
   "execution_count": 3,
   "metadata": {},
   "outputs": [
    {
     "output_type": "execute_result",
     "data": {
      "text/plain": [
       "   Zip_Code  Date_Code  Mobility_Rate  Expense_Index  Crime_Index  \\\n",
       "0     32003     201901       0.182327            104           28   \n",
       "1     32003     201902       0.182327            104           28   \n",
       "2     32003     201903       0.182327            104           28   \n",
       "3     32003     201904       0.182327            104           28   \n",
       "4     32003     201905       0.182327            104           28   \n",
       "\n",
       "   Total_Vacant  Total_Dwellings  Total_Sales  FHA_Count  Home_Affordability  \\\n",
       "0           704            11724           32          7            0.126012   \n",
       "1           704            11724           41          2            0.137369   \n",
       "2           704            11724           21          7            0.138182   \n",
       "3           704            11724           42          3            0.130978   \n",
       "4           704            11724           66          8            0.137976   \n",
       "\n",
       "   Rent_Affordability  Sale_Price  \n",
       "0            0.141853    244950.0  \n",
       "1            0.141853    270000.0  \n",
       "2            0.141853    275000.0  \n",
       "3            0.141853    264500.0  \n",
       "4            0.141853    281000.0  "
      ],
      "text/html": "<div>\n<style scoped>\n    .dataframe tbody tr th:only-of-type {\n        vertical-align: middle;\n    }\n\n    .dataframe tbody tr th {\n        vertical-align: top;\n    }\n\n    .dataframe thead th {\n        text-align: right;\n    }\n</style>\n<table border=\"1\" class=\"dataframe\">\n  <thead>\n    <tr style=\"text-align: right;\">\n      <th></th>\n      <th>Zip_Code</th>\n      <th>Date_Code</th>\n      <th>Mobility_Rate</th>\n      <th>Expense_Index</th>\n      <th>Crime_Index</th>\n      <th>Total_Vacant</th>\n      <th>Total_Dwellings</th>\n      <th>Total_Sales</th>\n      <th>FHA_Count</th>\n      <th>Home_Affordability</th>\n      <th>Rent_Affordability</th>\n      <th>Sale_Price</th>\n    </tr>\n  </thead>\n  <tbody>\n    <tr>\n      <th>0</th>\n      <td>32003</td>\n      <td>201901</td>\n      <td>0.182327</td>\n      <td>104</td>\n      <td>28</td>\n      <td>704</td>\n      <td>11724</td>\n      <td>32</td>\n      <td>7</td>\n      <td>0.126012</td>\n      <td>0.141853</td>\n      <td>244950.0</td>\n    </tr>\n    <tr>\n      <th>1</th>\n      <td>32003</td>\n      <td>201902</td>\n      <td>0.182327</td>\n      <td>104</td>\n      <td>28</td>\n      <td>704</td>\n      <td>11724</td>\n      <td>41</td>\n      <td>2</td>\n      <td>0.137369</td>\n      <td>0.141853</td>\n      <td>270000.0</td>\n    </tr>\n    <tr>\n      <th>2</th>\n      <td>32003</td>\n      <td>201903</td>\n      <td>0.182327</td>\n      <td>104</td>\n      <td>28</td>\n      <td>704</td>\n      <td>11724</td>\n      <td>21</td>\n      <td>7</td>\n      <td>0.138182</td>\n      <td>0.141853</td>\n      <td>275000.0</td>\n    </tr>\n    <tr>\n      <th>3</th>\n      <td>32003</td>\n      <td>201904</td>\n      <td>0.182327</td>\n      <td>104</td>\n      <td>28</td>\n      <td>704</td>\n      <td>11724</td>\n      <td>42</td>\n      <td>3</td>\n      <td>0.130978</td>\n      <td>0.141853</td>\n      <td>264500.0</td>\n    </tr>\n    <tr>\n      <th>4</th>\n      <td>32003</td>\n      <td>201905</td>\n      <td>0.182327</td>\n      <td>104</td>\n      <td>28</td>\n      <td>704</td>\n      <td>11724</td>\n      <td>66</td>\n      <td>8</td>\n      <td>0.137976</td>\n      <td>0.141853</td>\n      <td>281000.0</td>\n    </tr>\n  </tbody>\n</table>\n</div>"
     },
     "metadata": {},
     "execution_count": 3
    }
   ],
   "source": [
    "ml_data = data[['Zip_Code', 'Date_Code', 'Mobility_Rate', 'Expense_Index', 'Crime_Index' , 'Total_Vacant', 'Total_Dwellings', 'Total_Sales', 'FHA_Count', 'Home_Affordability', 'Rent_Affordability', 'Sale_Price' ]]\n",
    "ml_data.head()"
   ]
  },
  {
   "cell_type": "code",
   "execution_count": 4,
   "metadata": {},
   "outputs": [
    {
     "output_type": "execute_result",
     "data": {
      "text/plain": [
       "          Date_Code  Mobility_Rate  Expense_Index  Crime_Index  Total_Vacant  \\\n",
       "Zip_Code                                                                       \n",
       "32003        201901       0.182327            104           28           704   \n",
       "32003        201902       0.182327            104           28           704   \n",
       "32003        201903       0.182327            104           28           704   \n",
       "32003        201904       0.182327            104           28           704   \n",
       "32003        201905       0.182327            104           28           704   \n",
       "...             ...            ...            ...          ...           ...   \n",
       "34997        202011       0.143471             91          113          2976   \n",
       "34997        202012       0.143471             91          113          2976   \n",
       "34997        202101       0.143471             91          113          2976   \n",
       "34997        202102       0.143471             91          113          2976   \n",
       "34997        202103       0.143471             91          113          2976   \n",
       "\n",
       "          Total_Dwellings  Total_Sales  FHA_Count  Home_Affordability  \\\n",
       "Zip_Code                                                                \n",
       "32003               11724           32          7            0.126012   \n",
       "32003               11724           41          2            0.137369   \n",
       "32003               11724           21          7            0.138182   \n",
       "32003               11724           42          3            0.130978   \n",
       "32003               11724           66          8            0.137976   \n",
       "...                   ...          ...        ...                 ...   \n",
       "34997               21551          132         11            0.173497   \n",
       "34997               21551          142         16            0.196301   \n",
       "34997               21551           81         10            0.202930   \n",
       "34997               21551          116          7            0.201553   \n",
       "34997               21551            7         12            0.416754   \n",
       "\n",
       "          Rent_Affordability  Sale_Price  \n",
       "Zip_Code                                  \n",
       "32003               0.141853    244950.0  \n",
       "32003               0.141853    270000.0  \n",
       "32003               0.141853    275000.0  \n",
       "32003               0.141853    264500.0  \n",
       "32003               0.141853    281000.0  \n",
       "...                      ...         ...  \n",
       "34997               0.247189    259750.0  \n",
       "34997               0.247189    297000.0  \n",
       "34997               0.247189    305000.0  \n",
       "34997               0.247189    300000.0  \n",
       "34997               0.247189    599000.0  \n",
       "\n",
       "[23510 rows x 11 columns]"
      ],
      "text/html": "<div>\n<style scoped>\n    .dataframe tbody tr th:only-of-type {\n        vertical-align: middle;\n    }\n\n    .dataframe tbody tr th {\n        vertical-align: top;\n    }\n\n    .dataframe thead th {\n        text-align: right;\n    }\n</style>\n<table border=\"1\" class=\"dataframe\">\n  <thead>\n    <tr style=\"text-align: right;\">\n      <th></th>\n      <th>Date_Code</th>\n      <th>Mobility_Rate</th>\n      <th>Expense_Index</th>\n      <th>Crime_Index</th>\n      <th>Total_Vacant</th>\n      <th>Total_Dwellings</th>\n      <th>Total_Sales</th>\n      <th>FHA_Count</th>\n      <th>Home_Affordability</th>\n      <th>Rent_Affordability</th>\n      <th>Sale_Price</th>\n    </tr>\n    <tr>\n      <th>Zip_Code</th>\n      <th></th>\n      <th></th>\n      <th></th>\n      <th></th>\n      <th></th>\n      <th></th>\n      <th></th>\n      <th></th>\n      <th></th>\n      <th></th>\n      <th></th>\n    </tr>\n  </thead>\n  <tbody>\n    <tr>\n      <th>32003</th>\n      <td>201901</td>\n      <td>0.182327</td>\n      <td>104</td>\n      <td>28</td>\n      <td>704</td>\n      <td>11724</td>\n      <td>32</td>\n      <td>7</td>\n      <td>0.126012</td>\n      <td>0.141853</td>\n      <td>244950.0</td>\n    </tr>\n    <tr>\n      <th>32003</th>\n      <td>201902</td>\n      <td>0.182327</td>\n      <td>104</td>\n      <td>28</td>\n      <td>704</td>\n      <td>11724</td>\n      <td>41</td>\n      <td>2</td>\n      <td>0.137369</td>\n      <td>0.141853</td>\n      <td>270000.0</td>\n    </tr>\n    <tr>\n      <th>32003</th>\n      <td>201903</td>\n      <td>0.182327</td>\n      <td>104</td>\n      <td>28</td>\n      <td>704</td>\n      <td>11724</td>\n      <td>21</td>\n      <td>7</td>\n      <td>0.138182</td>\n      <td>0.141853</td>\n      <td>275000.0</td>\n    </tr>\n    <tr>\n      <th>32003</th>\n      <td>201904</td>\n      <td>0.182327</td>\n      <td>104</td>\n      <td>28</td>\n      <td>704</td>\n      <td>11724</td>\n      <td>42</td>\n      <td>3</td>\n      <td>0.130978</td>\n      <td>0.141853</td>\n      <td>264500.0</td>\n    </tr>\n    <tr>\n      <th>32003</th>\n      <td>201905</td>\n      <td>0.182327</td>\n      <td>104</td>\n      <td>28</td>\n      <td>704</td>\n      <td>11724</td>\n      <td>66</td>\n      <td>8</td>\n      <td>0.137976</td>\n      <td>0.141853</td>\n      <td>281000.0</td>\n    </tr>\n    <tr>\n      <th>...</th>\n      <td>...</td>\n      <td>...</td>\n      <td>...</td>\n      <td>...</td>\n      <td>...</td>\n      <td>...</td>\n      <td>...</td>\n      <td>...</td>\n      <td>...</td>\n      <td>...</td>\n      <td>...</td>\n    </tr>\n    <tr>\n      <th>34997</th>\n      <td>202011</td>\n      <td>0.143471</td>\n      <td>91</td>\n      <td>113</td>\n      <td>2976</td>\n      <td>21551</td>\n      <td>132</td>\n      <td>11</td>\n      <td>0.173497</td>\n      <td>0.247189</td>\n      <td>259750.0</td>\n    </tr>\n    <tr>\n      <th>34997</th>\n      <td>202012</td>\n      <td>0.143471</td>\n      <td>91</td>\n      <td>113</td>\n      <td>2976</td>\n      <td>21551</td>\n      <td>142</td>\n      <td>16</td>\n      <td>0.196301</td>\n      <td>0.247189</td>\n      <td>297000.0</td>\n    </tr>\n    <tr>\n      <th>34997</th>\n      <td>202101</td>\n      <td>0.143471</td>\n      <td>91</td>\n      <td>113</td>\n      <td>2976</td>\n      <td>21551</td>\n      <td>81</td>\n      <td>10</td>\n      <td>0.202930</td>\n      <td>0.247189</td>\n      <td>305000.0</td>\n    </tr>\n    <tr>\n      <th>34997</th>\n      <td>202102</td>\n      <td>0.143471</td>\n      <td>91</td>\n      <td>113</td>\n      <td>2976</td>\n      <td>21551</td>\n      <td>116</td>\n      <td>7</td>\n      <td>0.201553</td>\n      <td>0.247189</td>\n      <td>300000.0</td>\n    </tr>\n    <tr>\n      <th>34997</th>\n      <td>202103</td>\n      <td>0.143471</td>\n      <td>91</td>\n      <td>113</td>\n      <td>2976</td>\n      <td>21551</td>\n      <td>7</td>\n      <td>12</td>\n      <td>0.416754</td>\n      <td>0.247189</td>\n      <td>599000.0</td>\n    </tr>\n  </tbody>\n</table>\n<p>23510 rows × 11 columns</p>\n</div>"
     },
     "metadata": {},
     "execution_count": 4
    }
   ],
   "source": [
    "rf_data = ml_data.sort_values(by = ['Zip_Code','Date_Code'], ascending = [True, True])\n",
    "rf_data['Zip_Code'] = rf_data['Zip_Code'].astype(str)\n",
    "rf_data = rf_data.set_index('Zip_Code')\n",
    "\n",
    "rf_data"
   ]
  },
  {
   "cell_type": "code",
   "execution_count": 5,
   "metadata": {},
   "outputs": [
    {
     "output_type": "execute_result",
     "data": {
      "text/plain": [
       "          Date_Code  Mobility_Rate  Expense_Index  Crime_Index  Total_Vacant  \\\n",
       "Zip_Code                                                                       \n",
       "32003        201901       0.182327            104           28           704   \n",
       "32003        201902       0.182327            104           28           704   \n",
       "32003        201903       0.182327            104           28           704   \n",
       "32003        201904       0.182327            104           28           704   \n",
       "32003        201905       0.182327            104           28           704   \n",
       "...             ...            ...            ...          ...           ...   \n",
       "34997        202011       0.143471             91          113          2976   \n",
       "34997        202012       0.143471             91          113          2976   \n",
       "34997        202101       0.143471             91          113          2976   \n",
       "34997        202102       0.143471             91          113          2976   \n",
       "34997        202103       0.143471             91          113          2976   \n",
       "\n",
       "          Total_Dwellings  Total_Sales  FHA_Count  Home_Affordability  \\\n",
       "Zip_Code                                                                \n",
       "32003               11724           32          7            0.126012   \n",
       "32003               11724           41          2            0.137369   \n",
       "32003               11724           21          7            0.138182   \n",
       "32003               11724           42          3            0.130978   \n",
       "32003               11724           66          8            0.137976   \n",
       "...                   ...          ...        ...                 ...   \n",
       "34997               21551          132         11            0.173497   \n",
       "34997               21551          142         16            0.196301   \n",
       "34997               21551           81         10            0.202930   \n",
       "34997               21551          116          7            0.201553   \n",
       "34997               21551            7         12            0.416754   \n",
       "\n",
       "          Rent_Affordability  Sale_Price  Last_Month_Price  Last_2Month_Price  \\\n",
       "Zip_Code                                                                        \n",
       "32003               0.141853    244950.0               NaN                NaN   \n",
       "32003               0.141853    270000.0          244950.0                NaN   \n",
       "32003               0.141853    275000.0          270000.0           244950.0   \n",
       "32003               0.141853    264500.0          275000.0           270000.0   \n",
       "32003               0.141853    281000.0          264500.0           275000.0   \n",
       "...                      ...         ...               ...                ...   \n",
       "34997               0.247189    259750.0          285000.0           256000.0   \n",
       "34997               0.247189    297000.0          259750.0           285000.0   \n",
       "34997               0.247189    305000.0          297000.0           259750.0   \n",
       "34997               0.247189    300000.0          305000.0           297000.0   \n",
       "34997               0.247189    599000.0          300000.0           305000.0   \n",
       "\n",
       "          Last_3Month_Price  Last_Month_Diff  Last_2Month_Diff  \\\n",
       "Zip_Code                                                         \n",
       "32003                   NaN              NaN               NaN   \n",
       "32003                   NaN          25050.0               NaN   \n",
       "32003                   NaN           5000.0           25050.0   \n",
       "32003              244950.0         -10500.0            5000.0   \n",
       "32003              270000.0          16500.0          -10500.0   \n",
       "...                     ...              ...               ...   \n",
       "34997              251000.0         -25250.0           29000.0   \n",
       "34997              256000.0          37250.0          -25250.0   \n",
       "34997              285000.0           8000.0           37250.0   \n",
       "34997              259750.0          -5000.0            8000.0   \n",
       "34997              297000.0         299000.0           -5000.0   \n",
       "\n",
       "          Last_3Month_Diff  \n",
       "Zip_Code                    \n",
       "32003                  NaN  \n",
       "32003                  NaN  \n",
       "32003                  NaN  \n",
       "32003              25050.0  \n",
       "32003               5000.0  \n",
       "...                    ...  \n",
       "34997               5000.0  \n",
       "34997              29000.0  \n",
       "34997             -25250.0  \n",
       "34997              37250.0  \n",
       "34997               8000.0  \n",
       "\n",
       "[23510 rows x 17 columns]"
      ],
      "text/html": "<div>\n<style scoped>\n    .dataframe tbody tr th:only-of-type {\n        vertical-align: middle;\n    }\n\n    .dataframe tbody tr th {\n        vertical-align: top;\n    }\n\n    .dataframe thead th {\n        text-align: right;\n    }\n</style>\n<table border=\"1\" class=\"dataframe\">\n  <thead>\n    <tr style=\"text-align: right;\">\n      <th></th>\n      <th>Date_Code</th>\n      <th>Mobility_Rate</th>\n      <th>Expense_Index</th>\n      <th>Crime_Index</th>\n      <th>Total_Vacant</th>\n      <th>Total_Dwellings</th>\n      <th>Total_Sales</th>\n      <th>FHA_Count</th>\n      <th>Home_Affordability</th>\n      <th>Rent_Affordability</th>\n      <th>Sale_Price</th>\n      <th>Last_Month_Price</th>\n      <th>Last_2Month_Price</th>\n      <th>Last_3Month_Price</th>\n      <th>Last_Month_Diff</th>\n      <th>Last_2Month_Diff</th>\n      <th>Last_3Month_Diff</th>\n    </tr>\n    <tr>\n      <th>Zip_Code</th>\n      <th></th>\n      <th></th>\n      <th></th>\n      <th></th>\n      <th></th>\n      <th></th>\n      <th></th>\n      <th></th>\n      <th></th>\n      <th></th>\n      <th></th>\n      <th></th>\n      <th></th>\n      <th></th>\n      <th></th>\n      <th></th>\n      <th></th>\n    </tr>\n  </thead>\n  <tbody>\n    <tr>\n      <th>32003</th>\n      <td>201901</td>\n      <td>0.182327</td>\n      <td>104</td>\n      <td>28</td>\n      <td>704</td>\n      <td>11724</td>\n      <td>32</td>\n      <td>7</td>\n      <td>0.126012</td>\n      <td>0.141853</td>\n      <td>244950.0</td>\n      <td>NaN</td>\n      <td>NaN</td>\n      <td>NaN</td>\n      <td>NaN</td>\n      <td>NaN</td>\n      <td>NaN</td>\n    </tr>\n    <tr>\n      <th>32003</th>\n      <td>201902</td>\n      <td>0.182327</td>\n      <td>104</td>\n      <td>28</td>\n      <td>704</td>\n      <td>11724</td>\n      <td>41</td>\n      <td>2</td>\n      <td>0.137369</td>\n      <td>0.141853</td>\n      <td>270000.0</td>\n      <td>244950.0</td>\n      <td>NaN</td>\n      <td>NaN</td>\n      <td>25050.0</td>\n      <td>NaN</td>\n      <td>NaN</td>\n    </tr>\n    <tr>\n      <th>32003</th>\n      <td>201903</td>\n      <td>0.182327</td>\n      <td>104</td>\n      <td>28</td>\n      <td>704</td>\n      <td>11724</td>\n      <td>21</td>\n      <td>7</td>\n      <td>0.138182</td>\n      <td>0.141853</td>\n      <td>275000.0</td>\n      <td>270000.0</td>\n      <td>244950.0</td>\n      <td>NaN</td>\n      <td>5000.0</td>\n      <td>25050.0</td>\n      <td>NaN</td>\n    </tr>\n    <tr>\n      <th>32003</th>\n      <td>201904</td>\n      <td>0.182327</td>\n      <td>104</td>\n      <td>28</td>\n      <td>704</td>\n      <td>11724</td>\n      <td>42</td>\n      <td>3</td>\n      <td>0.130978</td>\n      <td>0.141853</td>\n      <td>264500.0</td>\n      <td>275000.0</td>\n      <td>270000.0</td>\n      <td>244950.0</td>\n      <td>-10500.0</td>\n      <td>5000.0</td>\n      <td>25050.0</td>\n    </tr>\n    <tr>\n      <th>32003</th>\n      <td>201905</td>\n      <td>0.182327</td>\n      <td>104</td>\n      <td>28</td>\n      <td>704</td>\n      <td>11724</td>\n      <td>66</td>\n      <td>8</td>\n      <td>0.137976</td>\n      <td>0.141853</td>\n      <td>281000.0</td>\n      <td>264500.0</td>\n      <td>275000.0</td>\n      <td>270000.0</td>\n      <td>16500.0</td>\n      <td>-10500.0</td>\n      <td>5000.0</td>\n    </tr>\n    <tr>\n      <th>...</th>\n      <td>...</td>\n      <td>...</td>\n      <td>...</td>\n      <td>...</td>\n      <td>...</td>\n      <td>...</td>\n      <td>...</td>\n      <td>...</td>\n      <td>...</td>\n      <td>...</td>\n      <td>...</td>\n      <td>...</td>\n      <td>...</td>\n      <td>...</td>\n      <td>...</td>\n      <td>...</td>\n      <td>...</td>\n    </tr>\n    <tr>\n      <th>34997</th>\n      <td>202011</td>\n      <td>0.143471</td>\n      <td>91</td>\n      <td>113</td>\n      <td>2976</td>\n      <td>21551</td>\n      <td>132</td>\n      <td>11</td>\n      <td>0.173497</td>\n      <td>0.247189</td>\n      <td>259750.0</td>\n      <td>285000.0</td>\n      <td>256000.0</td>\n      <td>251000.0</td>\n      <td>-25250.0</td>\n      <td>29000.0</td>\n      <td>5000.0</td>\n    </tr>\n    <tr>\n      <th>34997</th>\n      <td>202012</td>\n      <td>0.143471</td>\n      <td>91</td>\n      <td>113</td>\n      <td>2976</td>\n      <td>21551</td>\n      <td>142</td>\n      <td>16</td>\n      <td>0.196301</td>\n      <td>0.247189</td>\n      <td>297000.0</td>\n      <td>259750.0</td>\n      <td>285000.0</td>\n      <td>256000.0</td>\n      <td>37250.0</td>\n      <td>-25250.0</td>\n      <td>29000.0</td>\n    </tr>\n    <tr>\n      <th>34997</th>\n      <td>202101</td>\n      <td>0.143471</td>\n      <td>91</td>\n      <td>113</td>\n      <td>2976</td>\n      <td>21551</td>\n      <td>81</td>\n      <td>10</td>\n      <td>0.202930</td>\n      <td>0.247189</td>\n      <td>305000.0</td>\n      <td>297000.0</td>\n      <td>259750.0</td>\n      <td>285000.0</td>\n      <td>8000.0</td>\n      <td>37250.0</td>\n      <td>-25250.0</td>\n    </tr>\n    <tr>\n      <th>34997</th>\n      <td>202102</td>\n      <td>0.143471</td>\n      <td>91</td>\n      <td>113</td>\n      <td>2976</td>\n      <td>21551</td>\n      <td>116</td>\n      <td>7</td>\n      <td>0.201553</td>\n      <td>0.247189</td>\n      <td>300000.0</td>\n      <td>305000.0</td>\n      <td>297000.0</td>\n      <td>259750.0</td>\n      <td>-5000.0</td>\n      <td>8000.0</td>\n      <td>37250.0</td>\n    </tr>\n    <tr>\n      <th>34997</th>\n      <td>202103</td>\n      <td>0.143471</td>\n      <td>91</td>\n      <td>113</td>\n      <td>2976</td>\n      <td>21551</td>\n      <td>7</td>\n      <td>12</td>\n      <td>0.416754</td>\n      <td>0.247189</td>\n      <td>599000.0</td>\n      <td>300000.0</td>\n      <td>305000.0</td>\n      <td>297000.0</td>\n      <td>299000.0</td>\n      <td>-5000.0</td>\n      <td>8000.0</td>\n    </tr>\n  </tbody>\n</table>\n<p>23510 rows × 17 columns</p>\n</div>"
     },
     "metadata": {},
     "execution_count": 5
    }
   ],
   "source": [
    "rf_data['Last_Month_Price'] = rf_data.groupby(['Zip_Code'])['Sale_Price'].shift()\n",
    "rf_data['Last_2Month_Price'] = rf_data.groupby(['Zip_Code'])['Sale_Price'].shift(2)\n",
    "rf_data['Last_3Month_Price'] = rf_data.groupby(['Zip_Code'])['Sale_Price'].shift(3)\n",
    "# ml_data_3mo['Future_Month_Price'] = ml_data_3mo.groupby(['Zip_Code'])['Sale_Price'].shift(-1)\n",
    "# ml_data_3mo['Future_2Month_Price'] = ml_data_3mo.groupby(['Zip_Code'])['Sale_Price'].shift(-2)\n",
    "# ml_data_3mo['Future_3Month_Price'] = ml_data_3mo.groupby(['Zip_Code'])['Sale_Price'].shift(-3)\n",
    "\n",
    "\n",
    "price_difference_1 = []\n",
    "price_difference_2 = []\n",
    "price_difference_3 = []\n",
    "\n",
    "\n",
    "for column in rf_data[['Sale_Price', 'Last_Month_Price', 'Last_2Month_Price',\n",
    "                    'Last_3Month_Price']]:\n",
    "   # Select column contents by column name using [] operator\n",
    "    current_sales = rf_data['Sale_Price'].values\n",
    "    last_sales = rf_data['Last_Month_Price'].values\n",
    "    last_2mo_sale = rf_data['Last_2Month_Price'].values\n",
    "    last_3mo_sale = rf_data['Last_3Month_Price'].values\n",
    "    price_difference_1.append(current_sales-last_sales)\n",
    "    price_difference_2.append(last_sales-last_2mo_sale)\n",
    "    price_difference_3.append(last_2mo_sale-last_3mo_sale)\n",
    "    \n",
    "\n",
    "rf_data['Last_Month_Diff'] = price_difference_1[0]\n",
    "rf_data['Last_2Month_Diff'] = price_difference_2[0]\n",
    "rf_data['Last_3Month_Diff'] = price_difference_3[0]\n",
    "\n",
    "rf_data"
   ]
  },
  {
   "cell_type": "code",
   "execution_count": 6,
   "metadata": {},
   "outputs": [
    {
     "output_type": "execute_result",
     "data": {
      "text/plain": [
       "          Date_Code  Mobility_Rate  Expense_Index  Crime_Index  Total_Vacant  \\\n",
       "Zip_Code                                                                       \n",
       "32003        201904       0.182327            104           28           704   \n",
       "32003        201905       0.182327            104           28           704   \n",
       "32003        201906       0.182327            104           28           704   \n",
       "32003        201907       0.182327            104           28           704   \n",
       "32003        201908       0.182327            104           28           704   \n",
       "\n",
       "          Total_Dwellings  Total_Sales  FHA_Count  Home_Affordability  \\\n",
       "Zip_Code                                                                \n",
       "32003               11724           42          3            0.130978   \n",
       "32003               11724           66          8            0.137976   \n",
       "32003               11724           43          3            0.130690   \n",
       "32003               11724           90          7            0.133641   \n",
       "32003               11724           64          5            0.125212   \n",
       "\n",
       "          Rent_Affordability  Sale_Price  Last_Month_Price  Last_2Month_Price  \\\n",
       "Zip_Code                                                                        \n",
       "32003               0.141853    264500.0          275000.0           270000.0   \n",
       "32003               0.141853    281000.0          264500.0           275000.0   \n",
       "32003               0.141853    275000.0          281000.0           264500.0   \n",
       "32003               0.141853    282500.0          275000.0           281000.0   \n",
       "32003               0.141853    269577.0          282500.0           275000.0   \n",
       "\n",
       "          Last_3Month_Price  Last_Month_Diff  Last_2Month_Diff  \\\n",
       "Zip_Code                                                         \n",
       "32003              244950.0         -10500.0            5000.0   \n",
       "32003              270000.0          16500.0          -10500.0   \n",
       "32003              275000.0          -6000.0           16500.0   \n",
       "32003              264500.0           7500.0           -6000.0   \n",
       "32003              281000.0         -12923.0            7500.0   \n",
       "\n",
       "          Last_3Month_Diff  \n",
       "Zip_Code                    \n",
       "32003              25050.0  \n",
       "32003               5000.0  \n",
       "32003             -10500.0  \n",
       "32003              16500.0  \n",
       "32003              -6000.0  "
      ],
      "text/html": "<div>\n<style scoped>\n    .dataframe tbody tr th:only-of-type {\n        vertical-align: middle;\n    }\n\n    .dataframe tbody tr th {\n        vertical-align: top;\n    }\n\n    .dataframe thead th {\n        text-align: right;\n    }\n</style>\n<table border=\"1\" class=\"dataframe\">\n  <thead>\n    <tr style=\"text-align: right;\">\n      <th></th>\n      <th>Date_Code</th>\n      <th>Mobility_Rate</th>\n      <th>Expense_Index</th>\n      <th>Crime_Index</th>\n      <th>Total_Vacant</th>\n      <th>Total_Dwellings</th>\n      <th>Total_Sales</th>\n      <th>FHA_Count</th>\n      <th>Home_Affordability</th>\n      <th>Rent_Affordability</th>\n      <th>Sale_Price</th>\n      <th>Last_Month_Price</th>\n      <th>Last_2Month_Price</th>\n      <th>Last_3Month_Price</th>\n      <th>Last_Month_Diff</th>\n      <th>Last_2Month_Diff</th>\n      <th>Last_3Month_Diff</th>\n    </tr>\n    <tr>\n      <th>Zip_Code</th>\n      <th></th>\n      <th></th>\n      <th></th>\n      <th></th>\n      <th></th>\n      <th></th>\n      <th></th>\n      <th></th>\n      <th></th>\n      <th></th>\n      <th></th>\n      <th></th>\n      <th></th>\n      <th></th>\n      <th></th>\n      <th></th>\n      <th></th>\n    </tr>\n  </thead>\n  <tbody>\n    <tr>\n      <th>32003</th>\n      <td>201904</td>\n      <td>0.182327</td>\n      <td>104</td>\n      <td>28</td>\n      <td>704</td>\n      <td>11724</td>\n      <td>42</td>\n      <td>3</td>\n      <td>0.130978</td>\n      <td>0.141853</td>\n      <td>264500.0</td>\n      <td>275000.0</td>\n      <td>270000.0</td>\n      <td>244950.0</td>\n      <td>-10500.0</td>\n      <td>5000.0</td>\n      <td>25050.0</td>\n    </tr>\n    <tr>\n      <th>32003</th>\n      <td>201905</td>\n      <td>0.182327</td>\n      <td>104</td>\n      <td>28</td>\n      <td>704</td>\n      <td>11724</td>\n      <td>66</td>\n      <td>8</td>\n      <td>0.137976</td>\n      <td>0.141853</td>\n      <td>281000.0</td>\n      <td>264500.0</td>\n      <td>275000.0</td>\n      <td>270000.0</td>\n      <td>16500.0</td>\n      <td>-10500.0</td>\n      <td>5000.0</td>\n    </tr>\n    <tr>\n      <th>32003</th>\n      <td>201906</td>\n      <td>0.182327</td>\n      <td>104</td>\n      <td>28</td>\n      <td>704</td>\n      <td>11724</td>\n      <td>43</td>\n      <td>3</td>\n      <td>0.130690</td>\n      <td>0.141853</td>\n      <td>275000.0</td>\n      <td>281000.0</td>\n      <td>264500.0</td>\n      <td>275000.0</td>\n      <td>-6000.0</td>\n      <td>16500.0</td>\n      <td>-10500.0</td>\n    </tr>\n    <tr>\n      <th>32003</th>\n      <td>201907</td>\n      <td>0.182327</td>\n      <td>104</td>\n      <td>28</td>\n      <td>704</td>\n      <td>11724</td>\n      <td>90</td>\n      <td>7</td>\n      <td>0.133641</td>\n      <td>0.141853</td>\n      <td>282500.0</td>\n      <td>275000.0</td>\n      <td>281000.0</td>\n      <td>264500.0</td>\n      <td>7500.0</td>\n      <td>-6000.0</td>\n      <td>16500.0</td>\n    </tr>\n    <tr>\n      <th>32003</th>\n      <td>201908</td>\n      <td>0.182327</td>\n      <td>104</td>\n      <td>28</td>\n      <td>704</td>\n      <td>11724</td>\n      <td>64</td>\n      <td>5</td>\n      <td>0.125212</td>\n      <td>0.141853</td>\n      <td>269577.0</td>\n      <td>282500.0</td>\n      <td>275000.0</td>\n      <td>281000.0</td>\n      <td>-12923.0</td>\n      <td>7500.0</td>\n      <td>-6000.0</td>\n    </tr>\n  </tbody>\n</table>\n</div>"
     },
     "metadata": {},
     "execution_count": 6
    }
   ],
   "source": [
    "rf_data.replace([np.inf, -np.inf], np.nan, inplace=True)\n",
    "rf_data.dropna(inplace=True)\n",
    "rf_data.head()"
   ]
  },
  {
   "cell_type": "code",
   "execution_count": 8,
   "metadata": {},
   "outputs": [
    {
     "output_type": "execute_result",
     "data": {
      "text/plain": [
       "         Date_Code  Mobility_Rate  Expense_Index  Crime_Index  Total_Vacant  \\\n",
       "Zip_Code                                                                      \n",
       "32003       201904       0.182327            104           28           704   \n",
       "32003       201905       0.182327            104           28           704   \n",
       "32003       201906       0.182327            104           28           704   \n",
       "32003       201907       0.182327            104           28           704   \n",
       "32003       201908       0.182327            104           28           704   \n",
       "...            ...            ...            ...          ...           ...   \n",
       "34997       202011       0.143471             91          113          2976   \n",
       "34997       202012       0.143471             91          113          2976   \n",
       "34997       202101       0.143471             91          113          2976   \n",
       "34997       202102       0.143471             91          113          2976   \n",
       "34997       202103       0.143471             91          113          2976   \n",
       "\n",
       "          Total_Dwellings  Total_Sales  FHA_Count  Home_Affordability  \\\n",
       "Zip_Code                                                                \n",
       "32003               11724           42          3            0.130978   \n",
       "32003               11724           66          8            0.137976   \n",
       "32003               11724           43          3            0.130690   \n",
       "32003               11724           90          7            0.133641   \n",
       "32003               11724           64          5            0.125212   \n",
       "...                   ...          ...        ...                 ...   \n",
       "34997               21551          132         11            0.173497   \n",
       "34997               21551          142         16            0.196301   \n",
       "34997               21551           81         10            0.202930   \n",
       "34997               21551          116          7            0.201553   \n",
       "34997               21551            7         12            0.416754   \n",
       "\n",
       "          Rent_Affordability  Sale_Price  Last_Month_Price  Last_2Month_Price  \\\n",
       "Zip_Code                                                                        \n",
       "32003               0.141853    264500.0          275000.0           270000.0   \n",
       "32003               0.141853    281000.0          264500.0           275000.0   \n",
       "32003               0.141853    275000.0          281000.0           264500.0   \n",
       "32003               0.141853    282500.0          275000.0           281000.0   \n",
       "32003               0.141853    269577.0          282500.0           275000.0   \n",
       "...                      ...         ...               ...                ...   \n",
       "34997               0.247189    259750.0          285000.0           256000.0   \n",
       "34997               0.247189    297000.0          259750.0           285000.0   \n",
       "34997               0.247189    305000.0          297000.0           259750.0   \n",
       "34997               0.247189    300000.0          305000.0           297000.0   \n",
       "34997               0.247189    599000.0          300000.0           305000.0   \n",
       "\n",
       "          Last_3Month_Price  Last_Month_Diff  Last_2Month_Diff  \\\n",
       "Zip_Code                                                         \n",
       "32003              244950.0         -10500.0            5000.0   \n",
       "32003              270000.0          16500.0          -10500.0   \n",
       "32003              275000.0          -6000.0           16500.0   \n",
       "32003              264500.0           7500.0           -6000.0   \n",
       "32003              281000.0         -12923.0            7500.0   \n",
       "...                     ...              ...               ...   \n",
       "34997              251000.0         -25250.0           29000.0   \n",
       "34997              256000.0          37250.0          -25250.0   \n",
       "34997              285000.0           8000.0           37250.0   \n",
       "34997              259750.0          -5000.0            8000.0   \n",
       "34997              297000.0         299000.0           -5000.0   \n",
       "\n",
       "          Last_3Month_Diff  \n",
       "Zip_Code                    \n",
       "32003              25050.0  \n",
       "32003               5000.0  \n",
       "32003             -10500.0  \n",
       "32003              16500.0  \n",
       "32003              -6000.0  \n",
       "...                    ...  \n",
       "34997               5000.0  \n",
       "34997              29000.0  \n",
       "34997             -25250.0  \n",
       "34997              37250.0  \n",
       "34997               8000.0  \n",
       "\n",
       "[20794 rows x 17 columns]"
      ],
      "text/html": "<div>\n<style scoped>\n    .dataframe tbody tr th:only-of-type {\n        vertical-align: middle;\n    }\n\n    .dataframe tbody tr th {\n        vertical-align: top;\n    }\n\n    .dataframe thead th {\n        text-align: right;\n    }\n</style>\n<table border=\"1\" class=\"dataframe\">\n  <thead>\n    <tr style=\"text-align: right;\">\n      <th></th>\n      <th>Date_Code</th>\n      <th>Mobility_Rate</th>\n      <th>Expense_Index</th>\n      <th>Crime_Index</th>\n      <th>Total_Vacant</th>\n      <th>Total_Dwellings</th>\n      <th>Total_Sales</th>\n      <th>FHA_Count</th>\n      <th>Home_Affordability</th>\n      <th>Rent_Affordability</th>\n      <th>Sale_Price</th>\n      <th>Last_Month_Price</th>\n      <th>Last_2Month_Price</th>\n      <th>Last_3Month_Price</th>\n      <th>Last_Month_Diff</th>\n      <th>Last_2Month_Diff</th>\n      <th>Last_3Month_Diff</th>\n    </tr>\n    <tr>\n      <th>Zip_Code</th>\n      <th></th>\n      <th></th>\n      <th></th>\n      <th></th>\n      <th></th>\n      <th></th>\n      <th></th>\n      <th></th>\n      <th></th>\n      <th></th>\n      <th></th>\n      <th></th>\n      <th></th>\n      <th></th>\n      <th></th>\n      <th></th>\n      <th></th>\n    </tr>\n  </thead>\n  <tbody>\n    <tr>\n      <th>32003</th>\n      <td>201904</td>\n      <td>0.182327</td>\n      <td>104</td>\n      <td>28</td>\n      <td>704</td>\n      <td>11724</td>\n      <td>42</td>\n      <td>3</td>\n      <td>0.130978</td>\n      <td>0.141853</td>\n      <td>264500.0</td>\n      <td>275000.0</td>\n      <td>270000.0</td>\n      <td>244950.0</td>\n      <td>-10500.0</td>\n      <td>5000.0</td>\n      <td>25050.0</td>\n    </tr>\n    <tr>\n      <th>32003</th>\n      <td>201905</td>\n      <td>0.182327</td>\n      <td>104</td>\n      <td>28</td>\n      <td>704</td>\n      <td>11724</td>\n      <td>66</td>\n      <td>8</td>\n      <td>0.137976</td>\n      <td>0.141853</td>\n      <td>281000.0</td>\n      <td>264500.0</td>\n      <td>275000.0</td>\n      <td>270000.0</td>\n      <td>16500.0</td>\n      <td>-10500.0</td>\n      <td>5000.0</td>\n    </tr>\n    <tr>\n      <th>32003</th>\n      <td>201906</td>\n      <td>0.182327</td>\n      <td>104</td>\n      <td>28</td>\n      <td>704</td>\n      <td>11724</td>\n      <td>43</td>\n      <td>3</td>\n      <td>0.130690</td>\n      <td>0.141853</td>\n      <td>275000.0</td>\n      <td>281000.0</td>\n      <td>264500.0</td>\n      <td>275000.0</td>\n      <td>-6000.0</td>\n      <td>16500.0</td>\n      <td>-10500.0</td>\n    </tr>\n    <tr>\n      <th>32003</th>\n      <td>201907</td>\n      <td>0.182327</td>\n      <td>104</td>\n      <td>28</td>\n      <td>704</td>\n      <td>11724</td>\n      <td>90</td>\n      <td>7</td>\n      <td>0.133641</td>\n      <td>0.141853</td>\n      <td>282500.0</td>\n      <td>275000.0</td>\n      <td>281000.0</td>\n      <td>264500.0</td>\n      <td>7500.0</td>\n      <td>-6000.0</td>\n      <td>16500.0</td>\n    </tr>\n    <tr>\n      <th>32003</th>\n      <td>201908</td>\n      <td>0.182327</td>\n      <td>104</td>\n      <td>28</td>\n      <td>704</td>\n      <td>11724</td>\n      <td>64</td>\n      <td>5</td>\n      <td>0.125212</td>\n      <td>0.141853</td>\n      <td>269577.0</td>\n      <td>282500.0</td>\n      <td>275000.0</td>\n      <td>281000.0</td>\n      <td>-12923.0</td>\n      <td>7500.0</td>\n      <td>-6000.0</td>\n    </tr>\n    <tr>\n      <th>...</th>\n      <td>...</td>\n      <td>...</td>\n      <td>...</td>\n      <td>...</td>\n      <td>...</td>\n      <td>...</td>\n      <td>...</td>\n      <td>...</td>\n      <td>...</td>\n      <td>...</td>\n      <td>...</td>\n      <td>...</td>\n      <td>...</td>\n      <td>...</td>\n      <td>...</td>\n      <td>...</td>\n      <td>...</td>\n    </tr>\n    <tr>\n      <th>34997</th>\n      <td>202011</td>\n      <td>0.143471</td>\n      <td>91</td>\n      <td>113</td>\n      <td>2976</td>\n      <td>21551</td>\n      <td>132</td>\n      <td>11</td>\n      <td>0.173497</td>\n      <td>0.247189</td>\n      <td>259750.0</td>\n      <td>285000.0</td>\n      <td>256000.0</td>\n      <td>251000.0</td>\n      <td>-25250.0</td>\n      <td>29000.0</td>\n      <td>5000.0</td>\n    </tr>\n    <tr>\n      <th>34997</th>\n      <td>202012</td>\n      <td>0.143471</td>\n      <td>91</td>\n      <td>113</td>\n      <td>2976</td>\n      <td>21551</td>\n      <td>142</td>\n      <td>16</td>\n      <td>0.196301</td>\n      <td>0.247189</td>\n      <td>297000.0</td>\n      <td>259750.0</td>\n      <td>285000.0</td>\n      <td>256000.0</td>\n      <td>37250.0</td>\n      <td>-25250.0</td>\n      <td>29000.0</td>\n    </tr>\n    <tr>\n      <th>34997</th>\n      <td>202101</td>\n      <td>0.143471</td>\n      <td>91</td>\n      <td>113</td>\n      <td>2976</td>\n      <td>21551</td>\n      <td>81</td>\n      <td>10</td>\n      <td>0.202930</td>\n      <td>0.247189</td>\n      <td>305000.0</td>\n      <td>297000.0</td>\n      <td>259750.0</td>\n      <td>285000.0</td>\n      <td>8000.0</td>\n      <td>37250.0</td>\n      <td>-25250.0</td>\n    </tr>\n    <tr>\n      <th>34997</th>\n      <td>202102</td>\n      <td>0.143471</td>\n      <td>91</td>\n      <td>113</td>\n      <td>2976</td>\n      <td>21551</td>\n      <td>116</td>\n      <td>7</td>\n      <td>0.201553</td>\n      <td>0.247189</td>\n      <td>300000.0</td>\n      <td>305000.0</td>\n      <td>297000.0</td>\n      <td>259750.0</td>\n      <td>-5000.0</td>\n      <td>8000.0</td>\n      <td>37250.0</td>\n    </tr>\n    <tr>\n      <th>34997</th>\n      <td>202103</td>\n      <td>0.143471</td>\n      <td>91</td>\n      <td>113</td>\n      <td>2976</td>\n      <td>21551</td>\n      <td>7</td>\n      <td>12</td>\n      <td>0.416754</td>\n      <td>0.247189</td>\n      <td>599000.0</td>\n      <td>300000.0</td>\n      <td>305000.0</td>\n      <td>297000.0</td>\n      <td>299000.0</td>\n      <td>-5000.0</td>\n      <td>8000.0</td>\n    </tr>\n  </tbody>\n</table>\n<p>20794 rows × 17 columns</p>\n</div>"
     },
     "metadata": {},
     "execution_count": 8
    }
   ],
   "source": [
    "rf_data['Date_Code'] = rf_data['Date_Code'].astype(str)\n",
    "rf_data"
   ]
  },
  {
   "cell_type": "code",
   "execution_count": 23,
   "metadata": {},
   "outputs": [
    {
     "output_type": "execute_result",
     "data": {
      "text/plain": [
       "         Date_Code  Mobility_Rate  Expense_Index  Crime_Index  Total_Vacant  \\\n",
       "Zip_Code                                                                      \n",
       "32003       202101       0.182327            104           28           704   \n",
       "32003       202102       0.182327            104           28           704   \n",
       "32003       202103       0.182327            104           28           704   \n",
       "32008       202101       0.067037             82          118           964   \n",
       "32008       202102       0.067037             82          118           964   \n",
       "...            ...            ...            ...          ...           ...   \n",
       "34996       202102       0.141276             78          140          2780   \n",
       "34996       202103       0.141276             78          140          2780   \n",
       "34997       202101       0.143471             91          113          2976   \n",
       "34997       202102       0.143471             91          113          2976   \n",
       "34997       202103       0.143471             91          113          2976   \n",
       "\n",
       "          Total_Dwellings  Total_Sales  FHA_Count  Home_Affordability  \\\n",
       "Zip_Code                                                                \n",
       "32003               11724           39          6            0.124589   \n",
       "32003               11724           30          8            0.140027   \n",
       "32003               11724           70          4            0.147681   \n",
       "32008                3247            6          0            0.153378   \n",
       "32008                3247            3          1            0.062420   \n",
       "...                   ...          ...        ...                 ...   \n",
       "34996                9249           57          1            0.225364   \n",
       "34996                9249           14          0            0.275304   \n",
       "34997               21551           81         10            0.202930   \n",
       "34997               21551          116          7            0.201553   \n",
       "34997               21551            7         12            0.416754   \n",
       "\n",
       "          Rent_Affordability  Sale_Price  Last_Month_Price  Last_2Month_Price  \\\n",
       "Zip_Code                                                                        \n",
       "32003               0.141853    299900.0          294000.0           336000.0   \n",
       "32003               0.141853    333800.0          299900.0           294000.0   \n",
       "32003               0.141853    339950.0          333800.0           299900.0   \n",
       "32008               0.285180    132000.0          169500.0            72500.0   \n",
       "32008               0.285180     53200.0          132000.0           169500.0   \n",
       "...                      ...         ...               ...                ...   \n",
       "34996               0.209918    395000.0          345000.0           390000.0   \n",
       "34996               0.209918    465950.0          395000.0           345000.0   \n",
       "34997               0.247189    305000.0          297000.0           259750.0   \n",
       "34997               0.247189    300000.0          305000.0           297000.0   \n",
       "34997               0.247189    599000.0          300000.0           305000.0   \n",
       "\n",
       "          Last_3Month_Price  Last_Month_Diff  Last_2Month_Diff  \\\n",
       "Zip_Code                                                         \n",
       "32003              330000.0           5900.0          -42000.0   \n",
       "32003              336000.0          33900.0            5900.0   \n",
       "32003              294000.0           6150.0           33900.0   \n",
       "32008              107000.0         -37500.0           97000.0   \n",
       "32008               72500.0         -78800.0          -37500.0   \n",
       "...                     ...              ...               ...   \n",
       "34996              400000.0          50000.0          -45000.0   \n",
       "34996              390000.0          70950.0           50000.0   \n",
       "34997              285000.0           8000.0           37250.0   \n",
       "34997              259750.0          -5000.0            8000.0   \n",
       "34997              297000.0         299000.0           -5000.0   \n",
       "\n",
       "          Last_3Month_Diff  \n",
       "Zip_Code                    \n",
       "32003               6000.0  \n",
       "32003             -42000.0  \n",
       "32003               5900.0  \n",
       "32008             -34500.0  \n",
       "32008              97000.0  \n",
       "...                    ...  \n",
       "34996             -10000.0  \n",
       "34996             -45000.0  \n",
       "34997             -25250.0  \n",
       "34997              37250.0  \n",
       "34997               8000.0  \n",
       "\n",
       "[2542 rows x 17 columns]"
      ],
      "text/html": "<div>\n<style scoped>\n    .dataframe tbody tr th:only-of-type {\n        vertical-align: middle;\n    }\n\n    .dataframe tbody tr th {\n        vertical-align: top;\n    }\n\n    .dataframe thead th {\n        text-align: right;\n    }\n</style>\n<table border=\"1\" class=\"dataframe\">\n  <thead>\n    <tr style=\"text-align: right;\">\n      <th></th>\n      <th>Date_Code</th>\n      <th>Mobility_Rate</th>\n      <th>Expense_Index</th>\n      <th>Crime_Index</th>\n      <th>Total_Vacant</th>\n      <th>Total_Dwellings</th>\n      <th>Total_Sales</th>\n      <th>FHA_Count</th>\n      <th>Home_Affordability</th>\n      <th>Rent_Affordability</th>\n      <th>Sale_Price</th>\n      <th>Last_Month_Price</th>\n      <th>Last_2Month_Price</th>\n      <th>Last_3Month_Price</th>\n      <th>Last_Month_Diff</th>\n      <th>Last_2Month_Diff</th>\n      <th>Last_3Month_Diff</th>\n    </tr>\n    <tr>\n      <th>Zip_Code</th>\n      <th></th>\n      <th></th>\n      <th></th>\n      <th></th>\n      <th></th>\n      <th></th>\n      <th></th>\n      <th></th>\n      <th></th>\n      <th></th>\n      <th></th>\n      <th></th>\n      <th></th>\n      <th></th>\n      <th></th>\n      <th></th>\n      <th></th>\n    </tr>\n  </thead>\n  <tbody>\n    <tr>\n      <th>32003</th>\n      <td>202101</td>\n      <td>0.182327</td>\n      <td>104</td>\n      <td>28</td>\n      <td>704</td>\n      <td>11724</td>\n      <td>39</td>\n      <td>6</td>\n      <td>0.124589</td>\n      <td>0.141853</td>\n      <td>299900.0</td>\n      <td>294000.0</td>\n      <td>336000.0</td>\n      <td>330000.0</td>\n      <td>5900.0</td>\n      <td>-42000.0</td>\n      <td>6000.0</td>\n    </tr>\n    <tr>\n      <th>32003</th>\n      <td>202102</td>\n      <td>0.182327</td>\n      <td>104</td>\n      <td>28</td>\n      <td>704</td>\n      <td>11724</td>\n      <td>30</td>\n      <td>8</td>\n      <td>0.140027</td>\n      <td>0.141853</td>\n      <td>333800.0</td>\n      <td>299900.0</td>\n      <td>294000.0</td>\n      <td>336000.0</td>\n      <td>33900.0</td>\n      <td>5900.0</td>\n      <td>-42000.0</td>\n    </tr>\n    <tr>\n      <th>32003</th>\n      <td>202103</td>\n      <td>0.182327</td>\n      <td>104</td>\n      <td>28</td>\n      <td>704</td>\n      <td>11724</td>\n      <td>70</td>\n      <td>4</td>\n      <td>0.147681</td>\n      <td>0.141853</td>\n      <td>339950.0</td>\n      <td>333800.0</td>\n      <td>299900.0</td>\n      <td>294000.0</td>\n      <td>6150.0</td>\n      <td>33900.0</td>\n      <td>5900.0</td>\n    </tr>\n    <tr>\n      <th>32008</th>\n      <td>202101</td>\n      <td>0.067037</td>\n      <td>82</td>\n      <td>118</td>\n      <td>964</td>\n      <td>3247</td>\n      <td>6</td>\n      <td>0</td>\n      <td>0.153378</td>\n      <td>0.285180</td>\n      <td>132000.0</td>\n      <td>169500.0</td>\n      <td>72500.0</td>\n      <td>107000.0</td>\n      <td>-37500.0</td>\n      <td>97000.0</td>\n      <td>-34500.0</td>\n    </tr>\n    <tr>\n      <th>32008</th>\n      <td>202102</td>\n      <td>0.067037</td>\n      <td>82</td>\n      <td>118</td>\n      <td>964</td>\n      <td>3247</td>\n      <td>3</td>\n      <td>1</td>\n      <td>0.062420</td>\n      <td>0.285180</td>\n      <td>53200.0</td>\n      <td>132000.0</td>\n      <td>169500.0</td>\n      <td>72500.0</td>\n      <td>-78800.0</td>\n      <td>-37500.0</td>\n      <td>97000.0</td>\n    </tr>\n    <tr>\n      <th>...</th>\n      <td>...</td>\n      <td>...</td>\n      <td>...</td>\n      <td>...</td>\n      <td>...</td>\n      <td>...</td>\n      <td>...</td>\n      <td>...</td>\n      <td>...</td>\n      <td>...</td>\n      <td>...</td>\n      <td>...</td>\n      <td>...</td>\n      <td>...</td>\n      <td>...</td>\n      <td>...</td>\n      <td>...</td>\n    </tr>\n    <tr>\n      <th>34996</th>\n      <td>202102</td>\n      <td>0.141276</td>\n      <td>78</td>\n      <td>140</td>\n      <td>2780</td>\n      <td>9249</td>\n      <td>57</td>\n      <td>1</td>\n      <td>0.225364</td>\n      <td>0.209918</td>\n      <td>395000.0</td>\n      <td>345000.0</td>\n      <td>390000.0</td>\n      <td>400000.0</td>\n      <td>50000.0</td>\n      <td>-45000.0</td>\n      <td>-10000.0</td>\n    </tr>\n    <tr>\n      <th>34996</th>\n      <td>202103</td>\n      <td>0.141276</td>\n      <td>78</td>\n      <td>140</td>\n      <td>2780</td>\n      <td>9249</td>\n      <td>14</td>\n      <td>0</td>\n      <td>0.275304</td>\n      <td>0.209918</td>\n      <td>465950.0</td>\n      <td>395000.0</td>\n      <td>345000.0</td>\n      <td>390000.0</td>\n      <td>70950.0</td>\n      <td>50000.0</td>\n      <td>-45000.0</td>\n    </tr>\n    <tr>\n      <th>34997</th>\n      <td>202101</td>\n      <td>0.143471</td>\n      <td>91</td>\n      <td>113</td>\n      <td>2976</td>\n      <td>21551</td>\n      <td>81</td>\n      <td>10</td>\n      <td>0.202930</td>\n      <td>0.247189</td>\n      <td>305000.0</td>\n      <td>297000.0</td>\n      <td>259750.0</td>\n      <td>285000.0</td>\n      <td>8000.0</td>\n      <td>37250.0</td>\n      <td>-25250.0</td>\n    </tr>\n    <tr>\n      <th>34997</th>\n      <td>202102</td>\n      <td>0.143471</td>\n      <td>91</td>\n      <td>113</td>\n      <td>2976</td>\n      <td>21551</td>\n      <td>116</td>\n      <td>7</td>\n      <td>0.201553</td>\n      <td>0.247189</td>\n      <td>300000.0</td>\n      <td>305000.0</td>\n      <td>297000.0</td>\n      <td>259750.0</td>\n      <td>-5000.0</td>\n      <td>8000.0</td>\n      <td>37250.0</td>\n    </tr>\n    <tr>\n      <th>34997</th>\n      <td>202103</td>\n      <td>0.143471</td>\n      <td>91</td>\n      <td>113</td>\n      <td>2976</td>\n      <td>21551</td>\n      <td>7</td>\n      <td>12</td>\n      <td>0.416754</td>\n      <td>0.247189</td>\n      <td>599000.0</td>\n      <td>300000.0</td>\n      <td>305000.0</td>\n      <td>297000.0</td>\n      <td>299000.0</td>\n      <td>-5000.0</td>\n      <td>8000.0</td>\n    </tr>\n  </tbody>\n</table>\n<p>2542 rows × 17 columns</p>\n</div>"
     },
     "metadata": {},
     "execution_count": 23
    }
   ],
   "source": [
    "test = rf_data[rf_data['Date_Code'].str.contains('2021')]\n",
    "test"
   ]
  },
  {
   "cell_type": "code",
   "execution_count": 10,
   "metadata": {},
   "outputs": [
    {
     "output_type": "execute_result",
     "data": {
      "text/plain": [
       "         Date_Code  Mobility_Rate  Expense_Index  Crime_Index  Total_Vacant  \\\n",
       "Zip_Code                                                                      \n",
       "32003       202101       0.182327            104           28           704   \n",
       "32003       202102       0.182327            104           28           704   \n",
       "32003       202103       0.182327            104           28           704   \n",
       "32008       202101       0.067037             82          118           964   \n",
       "32008       202102       0.067037             82          118           964   \n",
       "\n",
       "          Total_Dwellings  Total_Sales  FHA_Count  Home_Affordability  \\\n",
       "Zip_Code                                                                \n",
       "32003               11724           39          6            0.124589   \n",
       "32003               11724           30          8            0.140027   \n",
       "32003               11724           70          4            0.147681   \n",
       "32008                3247            6          0            0.153378   \n",
       "32008                3247            3          1            0.062420   \n",
       "\n",
       "          Rent_Affordability  Last_Month_Price  Last_2Month_Price  \\\n",
       "Zip_Code                                                            \n",
       "32003               0.141853          294000.0           336000.0   \n",
       "32003               0.141853          299900.0           294000.0   \n",
       "32003               0.141853          333800.0           299900.0   \n",
       "32008               0.285180          169500.0            72500.0   \n",
       "32008               0.285180          132000.0           169500.0   \n",
       "\n",
       "          Last_3Month_Price  Last_Month_Diff  Last_2Month_Diff  \\\n",
       "Zip_Code                                                         \n",
       "32003              330000.0           5900.0          -42000.0   \n",
       "32003              336000.0          33900.0            5900.0   \n",
       "32003              294000.0           6150.0           33900.0   \n",
       "32008              107000.0         -37500.0           97000.0   \n",
       "32008               72500.0         -78800.0          -37500.0   \n",
       "\n",
       "          Last_3Month_Diff  \n",
       "Zip_Code                    \n",
       "32003               6000.0  \n",
       "32003             -42000.0  \n",
       "32003               5900.0  \n",
       "32008             -34500.0  \n",
       "32008              97000.0  "
      ],
      "text/html": "<div>\n<style scoped>\n    .dataframe tbody tr th:only-of-type {\n        vertical-align: middle;\n    }\n\n    .dataframe tbody tr th {\n        vertical-align: top;\n    }\n\n    .dataframe thead th {\n        text-align: right;\n    }\n</style>\n<table border=\"1\" class=\"dataframe\">\n  <thead>\n    <tr style=\"text-align: right;\">\n      <th></th>\n      <th>Date_Code</th>\n      <th>Mobility_Rate</th>\n      <th>Expense_Index</th>\n      <th>Crime_Index</th>\n      <th>Total_Vacant</th>\n      <th>Total_Dwellings</th>\n      <th>Total_Sales</th>\n      <th>FHA_Count</th>\n      <th>Home_Affordability</th>\n      <th>Rent_Affordability</th>\n      <th>Last_Month_Price</th>\n      <th>Last_2Month_Price</th>\n      <th>Last_3Month_Price</th>\n      <th>Last_Month_Diff</th>\n      <th>Last_2Month_Diff</th>\n      <th>Last_3Month_Diff</th>\n    </tr>\n    <tr>\n      <th>Zip_Code</th>\n      <th></th>\n      <th></th>\n      <th></th>\n      <th></th>\n      <th></th>\n      <th></th>\n      <th></th>\n      <th></th>\n      <th></th>\n      <th></th>\n      <th></th>\n      <th></th>\n      <th></th>\n      <th></th>\n      <th></th>\n      <th></th>\n    </tr>\n  </thead>\n  <tbody>\n    <tr>\n      <th>32003</th>\n      <td>202101</td>\n      <td>0.182327</td>\n      <td>104</td>\n      <td>28</td>\n      <td>704</td>\n      <td>11724</td>\n      <td>39</td>\n      <td>6</td>\n      <td>0.124589</td>\n      <td>0.141853</td>\n      <td>294000.0</td>\n      <td>336000.0</td>\n      <td>330000.0</td>\n      <td>5900.0</td>\n      <td>-42000.0</td>\n      <td>6000.0</td>\n    </tr>\n    <tr>\n      <th>32003</th>\n      <td>202102</td>\n      <td>0.182327</td>\n      <td>104</td>\n      <td>28</td>\n      <td>704</td>\n      <td>11724</td>\n      <td>30</td>\n      <td>8</td>\n      <td>0.140027</td>\n      <td>0.141853</td>\n      <td>299900.0</td>\n      <td>294000.0</td>\n      <td>336000.0</td>\n      <td>33900.0</td>\n      <td>5900.0</td>\n      <td>-42000.0</td>\n    </tr>\n    <tr>\n      <th>32003</th>\n      <td>202103</td>\n      <td>0.182327</td>\n      <td>104</td>\n      <td>28</td>\n      <td>704</td>\n      <td>11724</td>\n      <td>70</td>\n      <td>4</td>\n      <td>0.147681</td>\n      <td>0.141853</td>\n      <td>333800.0</td>\n      <td>299900.0</td>\n      <td>294000.0</td>\n      <td>6150.0</td>\n      <td>33900.0</td>\n      <td>5900.0</td>\n    </tr>\n    <tr>\n      <th>32008</th>\n      <td>202101</td>\n      <td>0.067037</td>\n      <td>82</td>\n      <td>118</td>\n      <td>964</td>\n      <td>3247</td>\n      <td>6</td>\n      <td>0</td>\n      <td>0.153378</td>\n      <td>0.285180</td>\n      <td>169500.0</td>\n      <td>72500.0</td>\n      <td>107000.0</td>\n      <td>-37500.0</td>\n      <td>97000.0</td>\n      <td>-34500.0</td>\n    </tr>\n    <tr>\n      <th>32008</th>\n      <td>202102</td>\n      <td>0.067037</td>\n      <td>82</td>\n      <td>118</td>\n      <td>964</td>\n      <td>3247</td>\n      <td>3</td>\n      <td>1</td>\n      <td>0.062420</td>\n      <td>0.285180</td>\n      <td>132000.0</td>\n      <td>169500.0</td>\n      <td>72500.0</td>\n      <td>-78800.0</td>\n      <td>-37500.0</td>\n      <td>97000.0</td>\n    </tr>\n  </tbody>\n</table>\n</div>"
     },
     "metadata": {},
     "execution_count": 10
    }
   ],
   "source": [
    "sale_y_test = test['Sale_Price'].values\n",
    "\n",
    "sale_X_test = test.drop(columns='Sale_Price')\n",
    "\n",
    "sale_test_names = sale_X_test.columns\n",
    "\n",
    "sale_X_test.head()"
   ]
  },
  {
   "cell_type": "code",
   "execution_count": 11,
   "metadata": {},
   "outputs": [
    {
     "output_type": "execute_result",
     "data": {
      "text/plain": [
       "         Date_Code  Mobility_Rate  Expense_Index  Crime_Index  Total_Vacant  \\\n",
       "Zip_Code                                                                      \n",
       "32003       201904       0.182327            104           28           704   \n",
       "32003       201905       0.182327            104           28           704   \n",
       "32003       201906       0.182327            104           28           704   \n",
       "32003       201907       0.182327            104           28           704   \n",
       "32003       201908       0.182327            104           28           704   \n",
       "...            ...            ...            ...          ...           ...   \n",
       "34997       202008       0.143471             91          113          2976   \n",
       "34997       202009       0.143471             91          113          2976   \n",
       "34997       202010       0.143471             91          113          2976   \n",
       "34997       202011       0.143471             91          113          2976   \n",
       "34997       202012       0.143471             91          113          2976   \n",
       "\n",
       "          Total_Dwellings  Total_Sales  FHA_Count  Home_Affordability  \\\n",
       "Zip_Code                                                                \n",
       "32003               11724           42          3            0.130978   \n",
       "32003               11724           66          8            0.137976   \n",
       "32003               11724           43          3            0.130690   \n",
       "32003               11724           90          7            0.133641   \n",
       "32003               11724           64          5            0.125212   \n",
       "...                   ...          ...        ...                 ...   \n",
       "34997               21551          123         18            0.171370   \n",
       "34997               21551          115         18            0.173776   \n",
       "34997               21551          139         17            0.192070   \n",
       "34997               21551          132         11            0.173497   \n",
       "34997               21551          142         16            0.196301   \n",
       "\n",
       "          Rent_Affordability  Sale_Price  Last_Month_Price  Last_2Month_Price  \\\n",
       "Zip_Code                                                                        \n",
       "32003               0.141853    264500.0          275000.0           270000.0   \n",
       "32003               0.141853    281000.0          264500.0           275000.0   \n",
       "32003               0.141853    275000.0          281000.0           264500.0   \n",
       "32003               0.141853    282500.0          275000.0           281000.0   \n",
       "32003               0.141853    269577.0          282500.0           275000.0   \n",
       "...                      ...         ...               ...                ...   \n",
       "34997               0.247189    251000.0          255000.0           259900.0   \n",
       "34997               0.247189    256000.0          251000.0           255000.0   \n",
       "34997               0.247189    285000.0          256000.0           251000.0   \n",
       "34997               0.247189    259750.0          285000.0           256000.0   \n",
       "34997               0.247189    297000.0          259750.0           285000.0   \n",
       "\n",
       "          Last_3Month_Price  Last_Month_Diff  Last_2Month_Diff  \\\n",
       "Zip_Code                                                         \n",
       "32003              244950.0         -10500.0            5000.0   \n",
       "32003              270000.0          16500.0          -10500.0   \n",
       "32003              275000.0          -6000.0           16500.0   \n",
       "32003              264500.0           7500.0           -6000.0   \n",
       "32003              281000.0         -12923.0            7500.0   \n",
       "...                     ...              ...               ...   \n",
       "34997              240000.0          -4000.0           -4900.0   \n",
       "34997              259900.0           5000.0           -4000.0   \n",
       "34997              255000.0          29000.0            5000.0   \n",
       "34997              251000.0         -25250.0           29000.0   \n",
       "34997              256000.0          37250.0          -25250.0   \n",
       "\n",
       "          Last_3Month_Diff  \n",
       "Zip_Code                    \n",
       "32003              25050.0  \n",
       "32003               5000.0  \n",
       "32003             -10500.0  \n",
       "32003              16500.0  \n",
       "32003              -6000.0  \n",
       "...                    ...  \n",
       "34997              19900.0  \n",
       "34997              -4900.0  \n",
       "34997              -4000.0  \n",
       "34997               5000.0  \n",
       "34997              29000.0  \n",
       "\n",
       "[18252 rows x 17 columns]"
      ],
      "text/html": "<div>\n<style scoped>\n    .dataframe tbody tr th:only-of-type {\n        vertical-align: middle;\n    }\n\n    .dataframe tbody tr th {\n        vertical-align: top;\n    }\n\n    .dataframe thead th {\n        text-align: right;\n    }\n</style>\n<table border=\"1\" class=\"dataframe\">\n  <thead>\n    <tr style=\"text-align: right;\">\n      <th></th>\n      <th>Date_Code</th>\n      <th>Mobility_Rate</th>\n      <th>Expense_Index</th>\n      <th>Crime_Index</th>\n      <th>Total_Vacant</th>\n      <th>Total_Dwellings</th>\n      <th>Total_Sales</th>\n      <th>FHA_Count</th>\n      <th>Home_Affordability</th>\n      <th>Rent_Affordability</th>\n      <th>Sale_Price</th>\n      <th>Last_Month_Price</th>\n      <th>Last_2Month_Price</th>\n      <th>Last_3Month_Price</th>\n      <th>Last_Month_Diff</th>\n      <th>Last_2Month_Diff</th>\n      <th>Last_3Month_Diff</th>\n    </tr>\n    <tr>\n      <th>Zip_Code</th>\n      <th></th>\n      <th></th>\n      <th></th>\n      <th></th>\n      <th></th>\n      <th></th>\n      <th></th>\n      <th></th>\n      <th></th>\n      <th></th>\n      <th></th>\n      <th></th>\n      <th></th>\n      <th></th>\n      <th></th>\n      <th></th>\n      <th></th>\n    </tr>\n  </thead>\n  <tbody>\n    <tr>\n      <th>32003</th>\n      <td>201904</td>\n      <td>0.182327</td>\n      <td>104</td>\n      <td>28</td>\n      <td>704</td>\n      <td>11724</td>\n      <td>42</td>\n      <td>3</td>\n      <td>0.130978</td>\n      <td>0.141853</td>\n      <td>264500.0</td>\n      <td>275000.0</td>\n      <td>270000.0</td>\n      <td>244950.0</td>\n      <td>-10500.0</td>\n      <td>5000.0</td>\n      <td>25050.0</td>\n    </tr>\n    <tr>\n      <th>32003</th>\n      <td>201905</td>\n      <td>0.182327</td>\n      <td>104</td>\n      <td>28</td>\n      <td>704</td>\n      <td>11724</td>\n      <td>66</td>\n      <td>8</td>\n      <td>0.137976</td>\n      <td>0.141853</td>\n      <td>281000.0</td>\n      <td>264500.0</td>\n      <td>275000.0</td>\n      <td>270000.0</td>\n      <td>16500.0</td>\n      <td>-10500.0</td>\n      <td>5000.0</td>\n    </tr>\n    <tr>\n      <th>32003</th>\n      <td>201906</td>\n      <td>0.182327</td>\n      <td>104</td>\n      <td>28</td>\n      <td>704</td>\n      <td>11724</td>\n      <td>43</td>\n      <td>3</td>\n      <td>0.130690</td>\n      <td>0.141853</td>\n      <td>275000.0</td>\n      <td>281000.0</td>\n      <td>264500.0</td>\n      <td>275000.0</td>\n      <td>-6000.0</td>\n      <td>16500.0</td>\n      <td>-10500.0</td>\n    </tr>\n    <tr>\n      <th>32003</th>\n      <td>201907</td>\n      <td>0.182327</td>\n      <td>104</td>\n      <td>28</td>\n      <td>704</td>\n      <td>11724</td>\n      <td>90</td>\n      <td>7</td>\n      <td>0.133641</td>\n      <td>0.141853</td>\n      <td>282500.0</td>\n      <td>275000.0</td>\n      <td>281000.0</td>\n      <td>264500.0</td>\n      <td>7500.0</td>\n      <td>-6000.0</td>\n      <td>16500.0</td>\n    </tr>\n    <tr>\n      <th>32003</th>\n      <td>201908</td>\n      <td>0.182327</td>\n      <td>104</td>\n      <td>28</td>\n      <td>704</td>\n      <td>11724</td>\n      <td>64</td>\n      <td>5</td>\n      <td>0.125212</td>\n      <td>0.141853</td>\n      <td>269577.0</td>\n      <td>282500.0</td>\n      <td>275000.0</td>\n      <td>281000.0</td>\n      <td>-12923.0</td>\n      <td>7500.0</td>\n      <td>-6000.0</td>\n    </tr>\n    <tr>\n      <th>...</th>\n      <td>...</td>\n      <td>...</td>\n      <td>...</td>\n      <td>...</td>\n      <td>...</td>\n      <td>...</td>\n      <td>...</td>\n      <td>...</td>\n      <td>...</td>\n      <td>...</td>\n      <td>...</td>\n      <td>...</td>\n      <td>...</td>\n      <td>...</td>\n      <td>...</td>\n      <td>...</td>\n      <td>...</td>\n    </tr>\n    <tr>\n      <th>34997</th>\n      <td>202008</td>\n      <td>0.143471</td>\n      <td>91</td>\n      <td>113</td>\n      <td>2976</td>\n      <td>21551</td>\n      <td>123</td>\n      <td>18</td>\n      <td>0.171370</td>\n      <td>0.247189</td>\n      <td>251000.0</td>\n      <td>255000.0</td>\n      <td>259900.0</td>\n      <td>240000.0</td>\n      <td>-4000.0</td>\n      <td>-4900.0</td>\n      <td>19900.0</td>\n    </tr>\n    <tr>\n      <th>34997</th>\n      <td>202009</td>\n      <td>0.143471</td>\n      <td>91</td>\n      <td>113</td>\n      <td>2976</td>\n      <td>21551</td>\n      <td>115</td>\n      <td>18</td>\n      <td>0.173776</td>\n      <td>0.247189</td>\n      <td>256000.0</td>\n      <td>251000.0</td>\n      <td>255000.0</td>\n      <td>259900.0</td>\n      <td>5000.0</td>\n      <td>-4000.0</td>\n      <td>-4900.0</td>\n    </tr>\n    <tr>\n      <th>34997</th>\n      <td>202010</td>\n      <td>0.143471</td>\n      <td>91</td>\n      <td>113</td>\n      <td>2976</td>\n      <td>21551</td>\n      <td>139</td>\n      <td>17</td>\n      <td>0.192070</td>\n      <td>0.247189</td>\n      <td>285000.0</td>\n      <td>256000.0</td>\n      <td>251000.0</td>\n      <td>255000.0</td>\n      <td>29000.0</td>\n      <td>5000.0</td>\n      <td>-4000.0</td>\n    </tr>\n    <tr>\n      <th>34997</th>\n      <td>202011</td>\n      <td>0.143471</td>\n      <td>91</td>\n      <td>113</td>\n      <td>2976</td>\n      <td>21551</td>\n      <td>132</td>\n      <td>11</td>\n      <td>0.173497</td>\n      <td>0.247189</td>\n      <td>259750.0</td>\n      <td>285000.0</td>\n      <td>256000.0</td>\n      <td>251000.0</td>\n      <td>-25250.0</td>\n      <td>29000.0</td>\n      <td>5000.0</td>\n    </tr>\n    <tr>\n      <th>34997</th>\n      <td>202012</td>\n      <td>0.143471</td>\n      <td>91</td>\n      <td>113</td>\n      <td>2976</td>\n      <td>21551</td>\n      <td>142</td>\n      <td>16</td>\n      <td>0.196301</td>\n      <td>0.247189</td>\n      <td>297000.0</td>\n      <td>259750.0</td>\n      <td>285000.0</td>\n      <td>256000.0</td>\n      <td>37250.0</td>\n      <td>-25250.0</td>\n      <td>29000.0</td>\n    </tr>\n  </tbody>\n</table>\n<p>18252 rows × 17 columns</p>\n</div>"
     },
     "metadata": {},
     "execution_count": 11
    }
   ],
   "source": [
    "training = rf_data[~rf_data['Date_Code'].str.contains('2021')]\n",
    "training"
   ]
  },
  {
   "cell_type": "code",
   "execution_count": 12,
   "metadata": {},
   "outputs": [
    {
     "output_type": "execute_result",
     "data": {
      "text/plain": [
       "         Date_Code  Mobility_Rate  Expense_Index  Crime_Index  Total_Vacant  \\\n",
       "Zip_Code                                                                      \n",
       "32003       201904       0.182327            104           28           704   \n",
       "32003       201905       0.182327            104           28           704   \n",
       "32003       201906       0.182327            104           28           704   \n",
       "32003       201907       0.182327            104           28           704   \n",
       "32003       201908       0.182327            104           28           704   \n",
       "\n",
       "          Total_Dwellings  Total_Sales  FHA_Count  Home_Affordability  \\\n",
       "Zip_Code                                                                \n",
       "32003               11724           42          3            0.130978   \n",
       "32003               11724           66          8            0.137976   \n",
       "32003               11724           43          3            0.130690   \n",
       "32003               11724           90          7            0.133641   \n",
       "32003               11724           64          5            0.125212   \n",
       "\n",
       "          Rent_Affordability  Last_Month_Price  Last_2Month_Price  \\\n",
       "Zip_Code                                                            \n",
       "32003               0.141853          275000.0           270000.0   \n",
       "32003               0.141853          264500.0           275000.0   \n",
       "32003               0.141853          281000.0           264500.0   \n",
       "32003               0.141853          275000.0           281000.0   \n",
       "32003               0.141853          282500.0           275000.0   \n",
       "\n",
       "          Last_3Month_Price  Last_Month_Diff  Last_2Month_Diff  \\\n",
       "Zip_Code                                                         \n",
       "32003              244950.0         -10500.0            5000.0   \n",
       "32003              270000.0          16500.0          -10500.0   \n",
       "32003              275000.0          -6000.0           16500.0   \n",
       "32003              264500.0           7500.0           -6000.0   \n",
       "32003              281000.0         -12923.0            7500.0   \n",
       "\n",
       "          Last_3Month_Diff  \n",
       "Zip_Code                    \n",
       "32003              25050.0  \n",
       "32003               5000.0  \n",
       "32003             -10500.0  \n",
       "32003              16500.0  \n",
       "32003              -6000.0  "
      ],
      "text/html": "<div>\n<style scoped>\n    .dataframe tbody tr th:only-of-type {\n        vertical-align: middle;\n    }\n\n    .dataframe tbody tr th {\n        vertical-align: top;\n    }\n\n    .dataframe thead th {\n        text-align: right;\n    }\n</style>\n<table border=\"1\" class=\"dataframe\">\n  <thead>\n    <tr style=\"text-align: right;\">\n      <th></th>\n      <th>Date_Code</th>\n      <th>Mobility_Rate</th>\n      <th>Expense_Index</th>\n      <th>Crime_Index</th>\n      <th>Total_Vacant</th>\n      <th>Total_Dwellings</th>\n      <th>Total_Sales</th>\n      <th>FHA_Count</th>\n      <th>Home_Affordability</th>\n      <th>Rent_Affordability</th>\n      <th>Last_Month_Price</th>\n      <th>Last_2Month_Price</th>\n      <th>Last_3Month_Price</th>\n      <th>Last_Month_Diff</th>\n      <th>Last_2Month_Diff</th>\n      <th>Last_3Month_Diff</th>\n    </tr>\n    <tr>\n      <th>Zip_Code</th>\n      <th></th>\n      <th></th>\n      <th></th>\n      <th></th>\n      <th></th>\n      <th></th>\n      <th></th>\n      <th></th>\n      <th></th>\n      <th></th>\n      <th></th>\n      <th></th>\n      <th></th>\n      <th></th>\n      <th></th>\n      <th></th>\n    </tr>\n  </thead>\n  <tbody>\n    <tr>\n      <th>32003</th>\n      <td>201904</td>\n      <td>0.182327</td>\n      <td>104</td>\n      <td>28</td>\n      <td>704</td>\n      <td>11724</td>\n      <td>42</td>\n      <td>3</td>\n      <td>0.130978</td>\n      <td>0.141853</td>\n      <td>275000.0</td>\n      <td>270000.0</td>\n      <td>244950.0</td>\n      <td>-10500.0</td>\n      <td>5000.0</td>\n      <td>25050.0</td>\n    </tr>\n    <tr>\n      <th>32003</th>\n      <td>201905</td>\n      <td>0.182327</td>\n      <td>104</td>\n      <td>28</td>\n      <td>704</td>\n      <td>11724</td>\n      <td>66</td>\n      <td>8</td>\n      <td>0.137976</td>\n      <td>0.141853</td>\n      <td>264500.0</td>\n      <td>275000.0</td>\n      <td>270000.0</td>\n      <td>16500.0</td>\n      <td>-10500.0</td>\n      <td>5000.0</td>\n    </tr>\n    <tr>\n      <th>32003</th>\n      <td>201906</td>\n      <td>0.182327</td>\n      <td>104</td>\n      <td>28</td>\n      <td>704</td>\n      <td>11724</td>\n      <td>43</td>\n      <td>3</td>\n      <td>0.130690</td>\n      <td>0.141853</td>\n      <td>281000.0</td>\n      <td>264500.0</td>\n      <td>275000.0</td>\n      <td>-6000.0</td>\n      <td>16500.0</td>\n      <td>-10500.0</td>\n    </tr>\n    <tr>\n      <th>32003</th>\n      <td>201907</td>\n      <td>0.182327</td>\n      <td>104</td>\n      <td>28</td>\n      <td>704</td>\n      <td>11724</td>\n      <td>90</td>\n      <td>7</td>\n      <td>0.133641</td>\n      <td>0.141853</td>\n      <td>275000.0</td>\n      <td>281000.0</td>\n      <td>264500.0</td>\n      <td>7500.0</td>\n      <td>-6000.0</td>\n      <td>16500.0</td>\n    </tr>\n    <tr>\n      <th>32003</th>\n      <td>201908</td>\n      <td>0.182327</td>\n      <td>104</td>\n      <td>28</td>\n      <td>704</td>\n      <td>11724</td>\n      <td>64</td>\n      <td>5</td>\n      <td>0.125212</td>\n      <td>0.141853</td>\n      <td>282500.0</td>\n      <td>275000.0</td>\n      <td>281000.0</td>\n      <td>-12923.0</td>\n      <td>7500.0</td>\n      <td>-6000.0</td>\n    </tr>\n  </tbody>\n</table>\n</div>"
     },
     "metadata": {},
     "execution_count": 12
    }
   ],
   "source": [
    "sale_y_train= training['Sale_Price'].values\n",
    "\n",
    "sale_X_train = training.drop(columns='Sale_Price')\n",
    "\n",
    "sale_train_names = sale_X_train.columns\n",
    "\n",
    "sale_X_train.head()"
   ]
  },
  {
   "cell_type": "code",
   "execution_count": 13,
   "metadata": {},
   "outputs": [
    {
     "output_type": "execute_result",
     "data": {
      "text/plain": [
       "RandomForestRegressor(n_estimators=1000, n_jobs=-1, random_state=42)"
      ]
     },
     "metadata": {},
     "execution_count": 13
    }
   ],
   "source": [
    "#Random Forest Regressor\n",
    "rf_regr = RandomForestRegressor(n_estimators=1000, n_jobs=-1, random_state=42)\n",
    "rf_regr.fit(sale_X_train, sale_y_train)"
   ]
  },
  {
   "cell_type": "code",
   "execution_count": 14,
   "metadata": {},
   "outputs": [
    {
     "output_type": "stream",
     "name": "stdout",
     "text": [
      "Training Data Score: 0.9981768655137256\nTesting Data Score: 0.9781503842644864\n"
     ]
    }
   ],
   "source": [
    "print(f\"Training Data Score: {rf_regr.score(sale_X_train, sale_y_train)}\")\n",
    "print(f\"Testing Data Score: {rf_regr.score(sale_X_test, sale_y_test)}\")"
   ]
  },
  {
   "cell_type": "code",
   "execution_count": 15,
   "metadata": {},
   "outputs": [
    {
     "output_type": "stream",
     "name": "stdout",
     "text": [
      "Mean Error = 0.07048\n"
     ]
    }
   ],
   "source": [
    "rf_pred = rf_regr.predict(sale_X_test)\n",
    "\n",
    "print('Mean Error = %.5f' % np.sqrt(mean_squared_log_error(sale_y_test, rf_pred)))"
   ]
  },
  {
   "cell_type": "code",
   "execution_count": 16,
   "metadata": {},
   "outputs": [
    {
     "output_type": "execute_result",
     "data": {
      "text/plain": [
       "      Sale_Price_Prediction    Actual\n",
       "0                300906.904  299900.0\n",
       "1                333540.000  333800.0\n",
       "2                338967.133  339950.0\n",
       "3                133484.625  132000.0\n",
       "4                 67616.395   53200.0\n",
       "...                     ...       ...\n",
       "2537             395200.821  395000.0\n",
       "2538             464942.875  465950.0\n",
       "2539             305423.011  305000.0\n",
       "2540             300499.381  300000.0\n",
       "2541             561616.937  599000.0\n",
       "\n",
       "[2542 rows x 2 columns]"
      ],
      "text/html": "<div>\n<style scoped>\n    .dataframe tbody tr th:only-of-type {\n        vertical-align: middle;\n    }\n\n    .dataframe tbody tr th {\n        vertical-align: top;\n    }\n\n    .dataframe thead th {\n        text-align: right;\n    }\n</style>\n<table border=\"1\" class=\"dataframe\">\n  <thead>\n    <tr style=\"text-align: right;\">\n      <th></th>\n      <th>Sale_Price_Prediction</th>\n      <th>Actual</th>\n    </tr>\n  </thead>\n  <tbody>\n    <tr>\n      <th>0</th>\n      <td>300906.904</td>\n      <td>299900.0</td>\n    </tr>\n    <tr>\n      <th>1</th>\n      <td>333540.000</td>\n      <td>333800.0</td>\n    </tr>\n    <tr>\n      <th>2</th>\n      <td>338967.133</td>\n      <td>339950.0</td>\n    </tr>\n    <tr>\n      <th>3</th>\n      <td>133484.625</td>\n      <td>132000.0</td>\n    </tr>\n    <tr>\n      <th>4</th>\n      <td>67616.395</td>\n      <td>53200.0</td>\n    </tr>\n    <tr>\n      <th>...</th>\n      <td>...</td>\n      <td>...</td>\n    </tr>\n    <tr>\n      <th>2537</th>\n      <td>395200.821</td>\n      <td>395000.0</td>\n    </tr>\n    <tr>\n      <th>2538</th>\n      <td>464942.875</td>\n      <td>465950.0</td>\n    </tr>\n    <tr>\n      <th>2539</th>\n      <td>305423.011</td>\n      <td>305000.0</td>\n    </tr>\n    <tr>\n      <th>2540</th>\n      <td>300499.381</td>\n      <td>300000.0</td>\n    </tr>\n    <tr>\n      <th>2541</th>\n      <td>561616.937</td>\n      <td>599000.0</td>\n    </tr>\n  </tbody>\n</table>\n<p>2542 rows × 2 columns</p>\n</div>"
     },
     "metadata": {},
     "execution_count": 16
    }
   ],
   "source": [
    "output_price = pd.DataFrame({'Sale_Price_Prediction':rf_pred, 'Actual': sale_y_test})\n",
    "output_price"
   ]
  },
  {
   "cell_type": "code",
   "execution_count": 17,
   "metadata": {},
   "outputs": [
    {
     "output_type": "execute_result",
     "data": {
      "text/plain": [
       "      Sale_Price_Prediction  Sale_Price_RMSLE\n",
       "0                300906.904          0.070478\n",
       "1                333540.000          0.070478\n",
       "2                338967.133          0.070478\n",
       "3                133484.625          0.070478\n",
       "4                 67616.395          0.070478\n",
       "...                     ...               ...\n",
       "2537             395200.821          0.070478\n",
       "2538             464942.875          0.070478\n",
       "2539             305423.011          0.070478\n",
       "2540             300499.381          0.070478\n",
       "2541             561616.937          0.070478\n",
       "\n",
       "[2542 rows x 2 columns]"
      ],
      "text/html": "<div>\n<style scoped>\n    .dataframe tbody tr th:only-of-type {\n        vertical-align: middle;\n    }\n\n    .dataframe tbody tr th {\n        vertical-align: top;\n    }\n\n    .dataframe thead th {\n        text-align: right;\n    }\n</style>\n<table border=\"1\" class=\"dataframe\">\n  <thead>\n    <tr style=\"text-align: right;\">\n      <th></th>\n      <th>Sale_Price_Prediction</th>\n      <th>Sale_Price_RMSLE</th>\n    </tr>\n  </thead>\n  <tbody>\n    <tr>\n      <th>0</th>\n      <td>300906.904</td>\n      <td>0.070478</td>\n    </tr>\n    <tr>\n      <th>1</th>\n      <td>333540.000</td>\n      <td>0.070478</td>\n    </tr>\n    <tr>\n      <th>2</th>\n      <td>338967.133</td>\n      <td>0.070478</td>\n    </tr>\n    <tr>\n      <th>3</th>\n      <td>133484.625</td>\n      <td>0.070478</td>\n    </tr>\n    <tr>\n      <th>4</th>\n      <td>67616.395</td>\n      <td>0.070478</td>\n    </tr>\n    <tr>\n      <th>...</th>\n      <td>...</td>\n      <td>...</td>\n    </tr>\n    <tr>\n      <th>2537</th>\n      <td>395200.821</td>\n      <td>0.070478</td>\n    </tr>\n    <tr>\n      <th>2538</th>\n      <td>464942.875</td>\n      <td>0.070478</td>\n    </tr>\n    <tr>\n      <th>2539</th>\n      <td>305423.011</td>\n      <td>0.070478</td>\n    </tr>\n    <tr>\n      <th>2540</th>\n      <td>300499.381</td>\n      <td>0.070478</td>\n    </tr>\n    <tr>\n      <th>2541</th>\n      <td>561616.937</td>\n      <td>0.070478</td>\n    </tr>\n  </tbody>\n</table>\n<p>2542 rows × 2 columns</p>\n</div>"
     },
     "metadata": {},
     "execution_count": 17
    }
   ],
   "source": [
    "# Calculate mean error for each row and add to new column\n",
    "output_price['Sale_Price_RMSLE'] = (np.sqrt(mean_squared_log_error(output_price['Actual'], \n",
    "                                    output_price['Sale_Price_Prediction'])))\n",
    "\n",
    "output_price = output_price.drop(columns='Actual')\n",
    "\n",
    "output_price"
   ]
  },
  {
   "cell_type": "code",
   "execution_count": 18,
   "metadata": {},
   "outputs": [
    {
     "output_type": "execute_result",
     "data": {
      "text/plain": [
       "     Zip_Code Date_Code  Mobility_Rate  Expense_Index  Crime_Index  \\\n",
       "0       32003    202101       0.182327            104           28   \n",
       "1       32003    202102       0.182327            104           28   \n",
       "2       32003    202103       0.182327            104           28   \n",
       "3       32008    202101       0.067037             82          118   \n",
       "4       32008    202102       0.067037             82          118   \n",
       "...       ...       ...            ...            ...          ...   \n",
       "2537    34996    202102       0.141276             78          140   \n",
       "2538    34996    202103       0.141276             78          140   \n",
       "2539    34997    202101       0.143471             91          113   \n",
       "2540    34997    202102       0.143471             91          113   \n",
       "2541    34997    202103       0.143471             91          113   \n",
       "\n",
       "      Total_Vacant  Total_Dwellings  Total_Sales  FHA_Count  \\\n",
       "0              704            11724           39          6   \n",
       "1              704            11724           30          8   \n",
       "2              704            11724           70          4   \n",
       "3              964             3247            6          0   \n",
       "4              964             3247            3          1   \n",
       "...            ...              ...          ...        ...   \n",
       "2537          2780             9249           57          1   \n",
       "2538          2780             9249           14          0   \n",
       "2539          2976            21551           81         10   \n",
       "2540          2976            21551          116          7   \n",
       "2541          2976            21551            7         12   \n",
       "\n",
       "      Home_Affordability  ...  Sale_Price  Last_Month_Price  \\\n",
       "0               0.124589  ...    299900.0          294000.0   \n",
       "1               0.140027  ...    333800.0          299900.0   \n",
       "2               0.147681  ...    339950.0          333800.0   \n",
       "3               0.153378  ...    132000.0          169500.0   \n",
       "4               0.062420  ...     53200.0          132000.0   \n",
       "...                  ...  ...         ...               ...   \n",
       "2537            0.225364  ...    395000.0          345000.0   \n",
       "2538            0.275304  ...    465950.0          395000.0   \n",
       "2539            0.202930  ...    305000.0          297000.0   \n",
       "2540            0.201553  ...    300000.0          305000.0   \n",
       "2541            0.416754  ...    599000.0          300000.0   \n",
       "\n",
       "      Last_2Month_Price  Last_3Month_Price  Last_Month_Diff  Last_2Month_Diff  \\\n",
       "0              336000.0           330000.0           5900.0          -42000.0   \n",
       "1              294000.0           336000.0          33900.0            5900.0   \n",
       "2              299900.0           294000.0           6150.0           33900.0   \n",
       "3               72500.0           107000.0         -37500.0           97000.0   \n",
       "4              169500.0            72500.0         -78800.0          -37500.0   \n",
       "...                 ...                ...              ...               ...   \n",
       "2537           390000.0           400000.0          50000.0          -45000.0   \n",
       "2538           345000.0           390000.0          70950.0           50000.0   \n",
       "2539           259750.0           285000.0           8000.0           37250.0   \n",
       "2540           297000.0           259750.0          -5000.0            8000.0   \n",
       "2541           305000.0           297000.0         299000.0           -5000.0   \n",
       "\n",
       "      Last_3Month_Diff  index  Sale_Price_Prediction  Sale_Price_RMSLE  \n",
       "0               6000.0      0             300906.904          0.070478  \n",
       "1             -42000.0      1             333540.000          0.070478  \n",
       "2               5900.0      2             338967.133          0.070478  \n",
       "3             -34500.0      3             133484.625          0.070478  \n",
       "4              97000.0      4              67616.395          0.070478  \n",
       "...                ...    ...                    ...               ...  \n",
       "2537          -10000.0   2537             395200.821          0.070478  \n",
       "2538          -45000.0   2538             464942.875          0.070478  \n",
       "2539          -25250.0   2539             305423.011          0.070478  \n",
       "2540           37250.0   2540             300499.381          0.070478  \n",
       "2541            8000.0   2541             561616.937          0.070478  \n",
       "\n",
       "[2542 rows x 21 columns]"
      ],
      "text/html": "<div>\n<style scoped>\n    .dataframe tbody tr th:only-of-type {\n        vertical-align: middle;\n    }\n\n    .dataframe tbody tr th {\n        vertical-align: top;\n    }\n\n    .dataframe thead th {\n        text-align: right;\n    }\n</style>\n<table border=\"1\" class=\"dataframe\">\n  <thead>\n    <tr style=\"text-align: right;\">\n      <th></th>\n      <th>Zip_Code</th>\n      <th>Date_Code</th>\n      <th>Mobility_Rate</th>\n      <th>Expense_Index</th>\n      <th>Crime_Index</th>\n      <th>Total_Vacant</th>\n      <th>Total_Dwellings</th>\n      <th>Total_Sales</th>\n      <th>FHA_Count</th>\n      <th>Home_Affordability</th>\n      <th>...</th>\n      <th>Sale_Price</th>\n      <th>Last_Month_Price</th>\n      <th>Last_2Month_Price</th>\n      <th>Last_3Month_Price</th>\n      <th>Last_Month_Diff</th>\n      <th>Last_2Month_Diff</th>\n      <th>Last_3Month_Diff</th>\n      <th>index</th>\n      <th>Sale_Price_Prediction</th>\n      <th>Sale_Price_RMSLE</th>\n    </tr>\n  </thead>\n  <tbody>\n    <tr>\n      <th>0</th>\n      <td>32003</td>\n      <td>202101</td>\n      <td>0.182327</td>\n      <td>104</td>\n      <td>28</td>\n      <td>704</td>\n      <td>11724</td>\n      <td>39</td>\n      <td>6</td>\n      <td>0.124589</td>\n      <td>...</td>\n      <td>299900.0</td>\n      <td>294000.0</td>\n      <td>336000.0</td>\n      <td>330000.0</td>\n      <td>5900.0</td>\n      <td>-42000.0</td>\n      <td>6000.0</td>\n      <td>0</td>\n      <td>300906.904</td>\n      <td>0.070478</td>\n    </tr>\n    <tr>\n      <th>1</th>\n      <td>32003</td>\n      <td>202102</td>\n      <td>0.182327</td>\n      <td>104</td>\n      <td>28</td>\n      <td>704</td>\n      <td>11724</td>\n      <td>30</td>\n      <td>8</td>\n      <td>0.140027</td>\n      <td>...</td>\n      <td>333800.0</td>\n      <td>299900.0</td>\n      <td>294000.0</td>\n      <td>336000.0</td>\n      <td>33900.0</td>\n      <td>5900.0</td>\n      <td>-42000.0</td>\n      <td>1</td>\n      <td>333540.000</td>\n      <td>0.070478</td>\n    </tr>\n    <tr>\n      <th>2</th>\n      <td>32003</td>\n      <td>202103</td>\n      <td>0.182327</td>\n      <td>104</td>\n      <td>28</td>\n      <td>704</td>\n      <td>11724</td>\n      <td>70</td>\n      <td>4</td>\n      <td>0.147681</td>\n      <td>...</td>\n      <td>339950.0</td>\n      <td>333800.0</td>\n      <td>299900.0</td>\n      <td>294000.0</td>\n      <td>6150.0</td>\n      <td>33900.0</td>\n      <td>5900.0</td>\n      <td>2</td>\n      <td>338967.133</td>\n      <td>0.070478</td>\n    </tr>\n    <tr>\n      <th>3</th>\n      <td>32008</td>\n      <td>202101</td>\n      <td>0.067037</td>\n      <td>82</td>\n      <td>118</td>\n      <td>964</td>\n      <td>3247</td>\n      <td>6</td>\n      <td>0</td>\n      <td>0.153378</td>\n      <td>...</td>\n      <td>132000.0</td>\n      <td>169500.0</td>\n      <td>72500.0</td>\n      <td>107000.0</td>\n      <td>-37500.0</td>\n      <td>97000.0</td>\n      <td>-34500.0</td>\n      <td>3</td>\n      <td>133484.625</td>\n      <td>0.070478</td>\n    </tr>\n    <tr>\n      <th>4</th>\n      <td>32008</td>\n      <td>202102</td>\n      <td>0.067037</td>\n      <td>82</td>\n      <td>118</td>\n      <td>964</td>\n      <td>3247</td>\n      <td>3</td>\n      <td>1</td>\n      <td>0.062420</td>\n      <td>...</td>\n      <td>53200.0</td>\n      <td>132000.0</td>\n      <td>169500.0</td>\n      <td>72500.0</td>\n      <td>-78800.0</td>\n      <td>-37500.0</td>\n      <td>97000.0</td>\n      <td>4</td>\n      <td>67616.395</td>\n      <td>0.070478</td>\n    </tr>\n    <tr>\n      <th>...</th>\n      <td>...</td>\n      <td>...</td>\n      <td>...</td>\n      <td>...</td>\n      <td>...</td>\n      <td>...</td>\n      <td>...</td>\n      <td>...</td>\n      <td>...</td>\n      <td>...</td>\n      <td>...</td>\n      <td>...</td>\n      <td>...</td>\n      <td>...</td>\n      <td>...</td>\n      <td>...</td>\n      <td>...</td>\n      <td>...</td>\n      <td>...</td>\n      <td>...</td>\n      <td>...</td>\n    </tr>\n    <tr>\n      <th>2537</th>\n      <td>34996</td>\n      <td>202102</td>\n      <td>0.141276</td>\n      <td>78</td>\n      <td>140</td>\n      <td>2780</td>\n      <td>9249</td>\n      <td>57</td>\n      <td>1</td>\n      <td>0.225364</td>\n      <td>...</td>\n      <td>395000.0</td>\n      <td>345000.0</td>\n      <td>390000.0</td>\n      <td>400000.0</td>\n      <td>50000.0</td>\n      <td>-45000.0</td>\n      <td>-10000.0</td>\n      <td>2537</td>\n      <td>395200.821</td>\n      <td>0.070478</td>\n    </tr>\n    <tr>\n      <th>2538</th>\n      <td>34996</td>\n      <td>202103</td>\n      <td>0.141276</td>\n      <td>78</td>\n      <td>140</td>\n      <td>2780</td>\n      <td>9249</td>\n      <td>14</td>\n      <td>0</td>\n      <td>0.275304</td>\n      <td>...</td>\n      <td>465950.0</td>\n      <td>395000.0</td>\n      <td>345000.0</td>\n      <td>390000.0</td>\n      <td>70950.0</td>\n      <td>50000.0</td>\n      <td>-45000.0</td>\n      <td>2538</td>\n      <td>464942.875</td>\n      <td>0.070478</td>\n    </tr>\n    <tr>\n      <th>2539</th>\n      <td>34997</td>\n      <td>202101</td>\n      <td>0.143471</td>\n      <td>91</td>\n      <td>113</td>\n      <td>2976</td>\n      <td>21551</td>\n      <td>81</td>\n      <td>10</td>\n      <td>0.202930</td>\n      <td>...</td>\n      <td>305000.0</td>\n      <td>297000.0</td>\n      <td>259750.0</td>\n      <td>285000.0</td>\n      <td>8000.0</td>\n      <td>37250.0</td>\n      <td>-25250.0</td>\n      <td>2539</td>\n      <td>305423.011</td>\n      <td>0.070478</td>\n    </tr>\n    <tr>\n      <th>2540</th>\n      <td>34997</td>\n      <td>202102</td>\n      <td>0.143471</td>\n      <td>91</td>\n      <td>113</td>\n      <td>2976</td>\n      <td>21551</td>\n      <td>116</td>\n      <td>7</td>\n      <td>0.201553</td>\n      <td>...</td>\n      <td>300000.0</td>\n      <td>305000.0</td>\n      <td>297000.0</td>\n      <td>259750.0</td>\n      <td>-5000.0</td>\n      <td>8000.0</td>\n      <td>37250.0</td>\n      <td>2540</td>\n      <td>300499.381</td>\n      <td>0.070478</td>\n    </tr>\n    <tr>\n      <th>2541</th>\n      <td>34997</td>\n      <td>202103</td>\n      <td>0.143471</td>\n      <td>91</td>\n      <td>113</td>\n      <td>2976</td>\n      <td>21551</td>\n      <td>7</td>\n      <td>12</td>\n      <td>0.416754</td>\n      <td>...</td>\n      <td>599000.0</td>\n      <td>300000.0</td>\n      <td>305000.0</td>\n      <td>297000.0</td>\n      <td>299000.0</td>\n      <td>-5000.0</td>\n      <td>8000.0</td>\n      <td>2541</td>\n      <td>561616.937</td>\n      <td>0.070478</td>\n    </tr>\n  </tbody>\n</table>\n<p>2542 rows × 21 columns</p>\n</div>"
     },
     "metadata": {},
     "execution_count": 18
    }
   ],
   "source": [
    "full_output_data = test\n",
    "full_output_data.reset_index(inplace=True)\n",
    "output_price.reset_index(inplace=True)\n",
    "\n",
    "price_final = pd.concat((full_output_data, output_price), axis=1)\n",
    "\n",
    "price_final"
   ]
  },
  {
   "cell_type": "markdown",
   "metadata": {},
   "source": [
    "## FHA Data"
   ]
  },
  {
   "cell_type": "code",
   "execution_count": 24,
   "metadata": {},
   "outputs": [
    {
     "output_type": "execute_result",
     "data": {
      "text/plain": [
       "         Date_Code  Mobility_Rate  Expense_Index  Crime_Index  Total_Vacant  \\\n",
       "Zip_Code                                                                      \n",
       "32003       202101       0.182327            104           28           704   \n",
       "32003       202102       0.182327            104           28           704   \n",
       "32003       202103       0.182327            104           28           704   \n",
       "32008       202101       0.067037             82          118           964   \n",
       "32008       202102       0.067037             82          118           964   \n",
       "\n",
       "          Total_Dwellings  Total_Sales  Home_Affordability  \\\n",
       "Zip_Code                                                     \n",
       "32003               11724           39            0.124589   \n",
       "32003               11724           30            0.140027   \n",
       "32003               11724           70            0.147681   \n",
       "32008                3247            6            0.153378   \n",
       "32008                3247            3            0.062420   \n",
       "\n",
       "          Rent_Affordability  Sale_Price  Last_Month_Price  Last_2Month_Price  \\\n",
       "Zip_Code                                                                        \n",
       "32003               0.141853    299900.0          294000.0           336000.0   \n",
       "32003               0.141853    333800.0          299900.0           294000.0   \n",
       "32003               0.141853    339950.0          333800.0           299900.0   \n",
       "32008               0.285180    132000.0          169500.0            72500.0   \n",
       "32008               0.285180     53200.0          132000.0           169500.0   \n",
       "\n",
       "          Last_3Month_Price  Last_Month_Diff  Last_2Month_Diff  \\\n",
       "Zip_Code                                                         \n",
       "32003              330000.0           5900.0          -42000.0   \n",
       "32003              336000.0          33900.0            5900.0   \n",
       "32003              294000.0           6150.0           33900.0   \n",
       "32008              107000.0         -37500.0           97000.0   \n",
       "32008               72500.0         -78800.0          -37500.0   \n",
       "\n",
       "          Last_3Month_Diff  \n",
       "Zip_Code                    \n",
       "32003               6000.0  \n",
       "32003             -42000.0  \n",
       "32003               5900.0  \n",
       "32008             -34500.0  \n",
       "32008              97000.0  "
      ],
      "text/html": "<div>\n<style scoped>\n    .dataframe tbody tr th:only-of-type {\n        vertical-align: middle;\n    }\n\n    .dataframe tbody tr th {\n        vertical-align: top;\n    }\n\n    .dataframe thead th {\n        text-align: right;\n    }\n</style>\n<table border=\"1\" class=\"dataframe\">\n  <thead>\n    <tr style=\"text-align: right;\">\n      <th></th>\n      <th>Date_Code</th>\n      <th>Mobility_Rate</th>\n      <th>Expense_Index</th>\n      <th>Crime_Index</th>\n      <th>Total_Vacant</th>\n      <th>Total_Dwellings</th>\n      <th>Total_Sales</th>\n      <th>Home_Affordability</th>\n      <th>Rent_Affordability</th>\n      <th>Sale_Price</th>\n      <th>Last_Month_Price</th>\n      <th>Last_2Month_Price</th>\n      <th>Last_3Month_Price</th>\n      <th>Last_Month_Diff</th>\n      <th>Last_2Month_Diff</th>\n      <th>Last_3Month_Diff</th>\n    </tr>\n    <tr>\n      <th>Zip_Code</th>\n      <th></th>\n      <th></th>\n      <th></th>\n      <th></th>\n      <th></th>\n      <th></th>\n      <th></th>\n      <th></th>\n      <th></th>\n      <th></th>\n      <th></th>\n      <th></th>\n      <th></th>\n      <th></th>\n      <th></th>\n      <th></th>\n    </tr>\n  </thead>\n  <tbody>\n    <tr>\n      <th>32003</th>\n      <td>202101</td>\n      <td>0.182327</td>\n      <td>104</td>\n      <td>28</td>\n      <td>704</td>\n      <td>11724</td>\n      <td>39</td>\n      <td>0.124589</td>\n      <td>0.141853</td>\n      <td>299900.0</td>\n      <td>294000.0</td>\n      <td>336000.0</td>\n      <td>330000.0</td>\n      <td>5900.0</td>\n      <td>-42000.0</td>\n      <td>6000.0</td>\n    </tr>\n    <tr>\n      <th>32003</th>\n      <td>202102</td>\n      <td>0.182327</td>\n      <td>104</td>\n      <td>28</td>\n      <td>704</td>\n      <td>11724</td>\n      <td>30</td>\n      <td>0.140027</td>\n      <td>0.141853</td>\n      <td>333800.0</td>\n      <td>299900.0</td>\n      <td>294000.0</td>\n      <td>336000.0</td>\n      <td>33900.0</td>\n      <td>5900.0</td>\n      <td>-42000.0</td>\n    </tr>\n    <tr>\n      <th>32003</th>\n      <td>202103</td>\n      <td>0.182327</td>\n      <td>104</td>\n      <td>28</td>\n      <td>704</td>\n      <td>11724</td>\n      <td>70</td>\n      <td>0.147681</td>\n      <td>0.141853</td>\n      <td>339950.0</td>\n      <td>333800.0</td>\n      <td>299900.0</td>\n      <td>294000.0</td>\n      <td>6150.0</td>\n      <td>33900.0</td>\n      <td>5900.0</td>\n    </tr>\n    <tr>\n      <th>32008</th>\n      <td>202101</td>\n      <td>0.067037</td>\n      <td>82</td>\n      <td>118</td>\n      <td>964</td>\n      <td>3247</td>\n      <td>6</td>\n      <td>0.153378</td>\n      <td>0.285180</td>\n      <td>132000.0</td>\n      <td>169500.0</td>\n      <td>72500.0</td>\n      <td>107000.0</td>\n      <td>-37500.0</td>\n      <td>97000.0</td>\n      <td>-34500.0</td>\n    </tr>\n    <tr>\n      <th>32008</th>\n      <td>202102</td>\n      <td>0.067037</td>\n      <td>82</td>\n      <td>118</td>\n      <td>964</td>\n      <td>3247</td>\n      <td>3</td>\n      <td>0.062420</td>\n      <td>0.285180</td>\n      <td>53200.0</td>\n      <td>132000.0</td>\n      <td>169500.0</td>\n      <td>72500.0</td>\n      <td>-78800.0</td>\n      <td>-37500.0</td>\n      <td>97000.0</td>\n    </tr>\n  </tbody>\n</table>\n</div>"
     },
     "metadata": {},
     "execution_count": 24
    }
   ],
   "source": [
    "fha_y_test = test['FHA_Count'].values\n",
    "\n",
    "fha_X_test = test.drop(columns='FHA_Count')\n",
    "\n",
    "fha_test_names = fha_X_test.columns\n",
    "\n",
    "fha_X_test.head()"
   ]
  },
  {
   "cell_type": "code",
   "execution_count": 25,
   "metadata": {},
   "outputs": [
    {
     "output_type": "execute_result",
     "data": {
      "text/plain": [
       "         Date_Code  Mobility_Rate  Expense_Index  Crime_Index  Total_Vacant  \\\n",
       "Zip_Code                                                                      \n",
       "32003       201904       0.182327            104           28           704   \n",
       "32003       201905       0.182327            104           28           704   \n",
       "32003       201906       0.182327            104           28           704   \n",
       "32003       201907       0.182327            104           28           704   \n",
       "32003       201908       0.182327            104           28           704   \n",
       "\n",
       "          Total_Dwellings  Total_Sales  Home_Affordability  \\\n",
       "Zip_Code                                                     \n",
       "32003               11724           42            0.130978   \n",
       "32003               11724           66            0.137976   \n",
       "32003               11724           43            0.130690   \n",
       "32003               11724           90            0.133641   \n",
       "32003               11724           64            0.125212   \n",
       "\n",
       "          Rent_Affordability  Sale_Price  Last_Month_Price  Last_2Month_Price  \\\n",
       "Zip_Code                                                                        \n",
       "32003               0.141853    264500.0          275000.0           270000.0   \n",
       "32003               0.141853    281000.0          264500.0           275000.0   \n",
       "32003               0.141853    275000.0          281000.0           264500.0   \n",
       "32003               0.141853    282500.0          275000.0           281000.0   \n",
       "32003               0.141853    269577.0          282500.0           275000.0   \n",
       "\n",
       "          Last_3Month_Price  Last_Month_Diff  Last_2Month_Diff  \\\n",
       "Zip_Code                                                         \n",
       "32003              244950.0         -10500.0            5000.0   \n",
       "32003              270000.0          16500.0          -10500.0   \n",
       "32003              275000.0          -6000.0           16500.0   \n",
       "32003              264500.0           7500.0           -6000.0   \n",
       "32003              281000.0         -12923.0            7500.0   \n",
       "\n",
       "          Last_3Month_Diff  \n",
       "Zip_Code                    \n",
       "32003              25050.0  \n",
       "32003               5000.0  \n",
       "32003             -10500.0  \n",
       "32003              16500.0  \n",
       "32003              -6000.0  "
      ],
      "text/html": "<div>\n<style scoped>\n    .dataframe tbody tr th:only-of-type {\n        vertical-align: middle;\n    }\n\n    .dataframe tbody tr th {\n        vertical-align: top;\n    }\n\n    .dataframe thead th {\n        text-align: right;\n    }\n</style>\n<table border=\"1\" class=\"dataframe\">\n  <thead>\n    <tr style=\"text-align: right;\">\n      <th></th>\n      <th>Date_Code</th>\n      <th>Mobility_Rate</th>\n      <th>Expense_Index</th>\n      <th>Crime_Index</th>\n      <th>Total_Vacant</th>\n      <th>Total_Dwellings</th>\n      <th>Total_Sales</th>\n      <th>Home_Affordability</th>\n      <th>Rent_Affordability</th>\n      <th>Sale_Price</th>\n      <th>Last_Month_Price</th>\n      <th>Last_2Month_Price</th>\n      <th>Last_3Month_Price</th>\n      <th>Last_Month_Diff</th>\n      <th>Last_2Month_Diff</th>\n      <th>Last_3Month_Diff</th>\n    </tr>\n    <tr>\n      <th>Zip_Code</th>\n      <th></th>\n      <th></th>\n      <th></th>\n      <th></th>\n      <th></th>\n      <th></th>\n      <th></th>\n      <th></th>\n      <th></th>\n      <th></th>\n      <th></th>\n      <th></th>\n      <th></th>\n      <th></th>\n      <th></th>\n      <th></th>\n    </tr>\n  </thead>\n  <tbody>\n    <tr>\n      <th>32003</th>\n      <td>201904</td>\n      <td>0.182327</td>\n      <td>104</td>\n      <td>28</td>\n      <td>704</td>\n      <td>11724</td>\n      <td>42</td>\n      <td>0.130978</td>\n      <td>0.141853</td>\n      <td>264500.0</td>\n      <td>275000.0</td>\n      <td>270000.0</td>\n      <td>244950.0</td>\n      <td>-10500.0</td>\n      <td>5000.0</td>\n      <td>25050.0</td>\n    </tr>\n    <tr>\n      <th>32003</th>\n      <td>201905</td>\n      <td>0.182327</td>\n      <td>104</td>\n      <td>28</td>\n      <td>704</td>\n      <td>11724</td>\n      <td>66</td>\n      <td>0.137976</td>\n      <td>0.141853</td>\n      <td>281000.0</td>\n      <td>264500.0</td>\n      <td>275000.0</td>\n      <td>270000.0</td>\n      <td>16500.0</td>\n      <td>-10500.0</td>\n      <td>5000.0</td>\n    </tr>\n    <tr>\n      <th>32003</th>\n      <td>201906</td>\n      <td>0.182327</td>\n      <td>104</td>\n      <td>28</td>\n      <td>704</td>\n      <td>11724</td>\n      <td>43</td>\n      <td>0.130690</td>\n      <td>0.141853</td>\n      <td>275000.0</td>\n      <td>281000.0</td>\n      <td>264500.0</td>\n      <td>275000.0</td>\n      <td>-6000.0</td>\n      <td>16500.0</td>\n      <td>-10500.0</td>\n    </tr>\n    <tr>\n      <th>32003</th>\n      <td>201907</td>\n      <td>0.182327</td>\n      <td>104</td>\n      <td>28</td>\n      <td>704</td>\n      <td>11724</td>\n      <td>90</td>\n      <td>0.133641</td>\n      <td>0.141853</td>\n      <td>282500.0</td>\n      <td>275000.0</td>\n      <td>281000.0</td>\n      <td>264500.0</td>\n      <td>7500.0</td>\n      <td>-6000.0</td>\n      <td>16500.0</td>\n    </tr>\n    <tr>\n      <th>32003</th>\n      <td>201908</td>\n      <td>0.182327</td>\n      <td>104</td>\n      <td>28</td>\n      <td>704</td>\n      <td>11724</td>\n      <td>64</td>\n      <td>0.125212</td>\n      <td>0.141853</td>\n      <td>269577.0</td>\n      <td>282500.0</td>\n      <td>275000.0</td>\n      <td>281000.0</td>\n      <td>-12923.0</td>\n      <td>7500.0</td>\n      <td>-6000.0</td>\n    </tr>\n  </tbody>\n</table>\n</div>"
     },
     "metadata": {},
     "execution_count": 25
    }
   ],
   "source": [
    "fha_y_train= training['FHA_Count'].values\n",
    "\n",
    "fha_X_train = training.drop(columns='FHA_Count')\n",
    "\n",
    "fha_train_names = fha_X_train.columns\n",
    "\n",
    "fha_X_train.head()"
   ]
  },
  {
   "cell_type": "code",
   "execution_count": 26,
   "metadata": {},
   "outputs": [
    {
     "output_type": "execute_result",
     "data": {
      "text/plain": [
       "RandomForestRegressor(n_estimators=1000, n_jobs=-1, random_state=42)"
      ]
     },
     "metadata": {},
     "execution_count": 26
    }
   ],
   "source": [
    "rf_regr_2 = RandomForestRegressor(n_estimators=1000, n_jobs=-1, random_state=42)\n",
    "rf_regr_2.fit(fha_X_train, fha_y_train)"
   ]
  },
  {
   "cell_type": "code",
   "execution_count": 27,
   "metadata": {},
   "outputs": [
    {
     "output_type": "stream",
     "name": "stdout",
     "text": [
      "Training Data Score: 0.9828581982586339\nTesting Data Score: 0.8628764337929532\n"
     ]
    }
   ],
   "source": [
    "print(f\"Training Data Score: {rf_regr_2.score(fha_X_train, fha_y_train)}\")\n",
    "print(f\"Testing Data Score: {rf_regr_2.score(fha_X_test, fha_y_test)}\")"
   ]
  },
  {
   "cell_type": "code",
   "execution_count": 28,
   "metadata": {},
   "outputs": [
    {
     "output_type": "stream",
     "name": "stdout",
     "text": [
      "Mean Error = 0.49515\n"
     ]
    }
   ],
   "source": [
    "rf_pred_fha = rf_regr_2.predict(fha_X_test)\n",
    "\n",
    "print('Mean Error = %.5f' % np.sqrt(mean_squared_log_error(fha_y_test, rf_pred_fha)))"
   ]
  },
  {
   "cell_type": "code",
   "execution_count": 29,
   "metadata": {},
   "outputs": [
    {
     "output_type": "execute_result",
     "data": {
      "text/plain": [
       "      FHA_Count_Prediction  Actual\n",
       "0                    6.639       6\n",
       "1                    6.177       8\n",
       "2                    7.632       4\n",
       "3                    1.148       0\n",
       "4                    1.107       1\n",
       "...                    ...     ...\n",
       "2537                 0.292       1\n",
       "2538                 0.235       0\n",
       "2539                10.899      10\n",
       "2540                12.718       7\n",
       "2541                12.722      12\n",
       "\n",
       "[2542 rows x 2 columns]"
      ],
      "text/html": "<div>\n<style scoped>\n    .dataframe tbody tr th:only-of-type {\n        vertical-align: middle;\n    }\n\n    .dataframe tbody tr th {\n        vertical-align: top;\n    }\n\n    .dataframe thead th {\n        text-align: right;\n    }\n</style>\n<table border=\"1\" class=\"dataframe\">\n  <thead>\n    <tr style=\"text-align: right;\">\n      <th></th>\n      <th>FHA_Count_Prediction</th>\n      <th>Actual</th>\n    </tr>\n  </thead>\n  <tbody>\n    <tr>\n      <th>0</th>\n      <td>6.639</td>\n      <td>6</td>\n    </tr>\n    <tr>\n      <th>1</th>\n      <td>6.177</td>\n      <td>8</td>\n    </tr>\n    <tr>\n      <th>2</th>\n      <td>7.632</td>\n      <td>4</td>\n    </tr>\n    <tr>\n      <th>3</th>\n      <td>1.148</td>\n      <td>0</td>\n    </tr>\n    <tr>\n      <th>4</th>\n      <td>1.107</td>\n      <td>1</td>\n    </tr>\n    <tr>\n      <th>...</th>\n      <td>...</td>\n      <td>...</td>\n    </tr>\n    <tr>\n      <th>2537</th>\n      <td>0.292</td>\n      <td>1</td>\n    </tr>\n    <tr>\n      <th>2538</th>\n      <td>0.235</td>\n      <td>0</td>\n    </tr>\n    <tr>\n      <th>2539</th>\n      <td>10.899</td>\n      <td>10</td>\n    </tr>\n    <tr>\n      <th>2540</th>\n      <td>12.718</td>\n      <td>7</td>\n    </tr>\n    <tr>\n      <th>2541</th>\n      <td>12.722</td>\n      <td>12</td>\n    </tr>\n  </tbody>\n</table>\n<p>2542 rows × 2 columns</p>\n</div>"
     },
     "metadata": {},
     "execution_count": 29
    }
   ],
   "source": [
    "output_fha = pd.DataFrame({'FHA_Count_Prediction':rf_pred_fha, 'Actual': fha_y_test})\n",
    "output_fha"
   ]
  },
  {
   "cell_type": "code",
   "execution_count": 30,
   "metadata": {},
   "outputs": [
    {
     "output_type": "execute_result",
     "data": {
      "text/plain": [
       "      FHA_Count_Prediction  FHA_Count_RMSLE\n",
       "0                    6.639         0.495148\n",
       "1                    6.177         0.495148\n",
       "2                    7.632         0.495148\n",
       "3                    1.148         0.495148\n",
       "4                    1.107         0.495148\n",
       "...                    ...              ...\n",
       "2537                 0.292         0.495148\n",
       "2538                 0.235         0.495148\n",
       "2539                10.899         0.495148\n",
       "2540                12.718         0.495148\n",
       "2541                12.722         0.495148\n",
       "\n",
       "[2542 rows x 2 columns]"
      ],
      "text/html": "<div>\n<style scoped>\n    .dataframe tbody tr th:only-of-type {\n        vertical-align: middle;\n    }\n\n    .dataframe tbody tr th {\n        vertical-align: top;\n    }\n\n    .dataframe thead th {\n        text-align: right;\n    }\n</style>\n<table border=\"1\" class=\"dataframe\">\n  <thead>\n    <tr style=\"text-align: right;\">\n      <th></th>\n      <th>FHA_Count_Prediction</th>\n      <th>FHA_Count_RMSLE</th>\n    </tr>\n  </thead>\n  <tbody>\n    <tr>\n      <th>0</th>\n      <td>6.639</td>\n      <td>0.495148</td>\n    </tr>\n    <tr>\n      <th>1</th>\n      <td>6.177</td>\n      <td>0.495148</td>\n    </tr>\n    <tr>\n      <th>2</th>\n      <td>7.632</td>\n      <td>0.495148</td>\n    </tr>\n    <tr>\n      <th>3</th>\n      <td>1.148</td>\n      <td>0.495148</td>\n    </tr>\n    <tr>\n      <th>4</th>\n      <td>1.107</td>\n      <td>0.495148</td>\n    </tr>\n    <tr>\n      <th>...</th>\n      <td>...</td>\n      <td>...</td>\n    </tr>\n    <tr>\n      <th>2537</th>\n      <td>0.292</td>\n      <td>0.495148</td>\n    </tr>\n    <tr>\n      <th>2538</th>\n      <td>0.235</td>\n      <td>0.495148</td>\n    </tr>\n    <tr>\n      <th>2539</th>\n      <td>10.899</td>\n      <td>0.495148</td>\n    </tr>\n    <tr>\n      <th>2540</th>\n      <td>12.718</td>\n      <td>0.495148</td>\n    </tr>\n    <tr>\n      <th>2541</th>\n      <td>12.722</td>\n      <td>0.495148</td>\n    </tr>\n  </tbody>\n</table>\n<p>2542 rows × 2 columns</p>\n</div>"
     },
     "metadata": {},
     "execution_count": 30
    }
   ],
   "source": [
    "# Calculate mean error for each row and add to new column\n",
    "output_fha['FHA_Count_RMSLE'] = (np.sqrt(mean_squared_log_error(output_fha['Actual'], output_fha['FHA_Count_Prediction'])))\n",
    "\n",
    "output_fha = output_fha.drop(columns='Actual')\n",
    "output_fha\n",
    "# count_pre = output_fha[output_fha['FHA_Count_Prediction']]"
   ]
  },
  {
   "cell_type": "code",
   "execution_count": 31,
   "metadata": {},
   "outputs": [
    {
     "output_type": "execute_result",
     "data": {
      "text/plain": [
       "     Zip_Code Date_Code  Mobility_Rate  Expense_Index  Crime_Index  \\\n",
       "0       32003    202101       0.182327            104           28   \n",
       "1       32003    202102       0.182327            104           28   \n",
       "2       32003    202103       0.182327            104           28   \n",
       "3       32008    202101       0.067037             82          118   \n",
       "4       32008    202102       0.067037             82          118   \n",
       "...       ...       ...            ...            ...          ...   \n",
       "2537    34996    202102       0.141276             78          140   \n",
       "2538    34996    202103       0.141276             78          140   \n",
       "2539    34997    202101       0.143471             91          113   \n",
       "2540    34997    202102       0.143471             91          113   \n",
       "2541    34997    202103       0.143471             91          113   \n",
       "\n",
       "      Total_Vacant  Total_Dwellings  Total_Sales  FHA_Count  \\\n",
       "0              704            11724           39          6   \n",
       "1              704            11724           30          8   \n",
       "2              704            11724           70          4   \n",
       "3              964             3247            6          0   \n",
       "4              964             3247            3          1   \n",
       "...            ...              ...          ...        ...   \n",
       "2537          2780             9249           57          1   \n",
       "2538          2780             9249           14          0   \n",
       "2539          2976            21551           81         10   \n",
       "2540          2976            21551          116          7   \n",
       "2541          2976            21551            7         12   \n",
       "\n",
       "      Home_Affordability  ...  Sale_Price  Last_Month_Price  \\\n",
       "0               0.124589  ...    299900.0          294000.0   \n",
       "1               0.140027  ...    333800.0          299900.0   \n",
       "2               0.147681  ...    339950.0          333800.0   \n",
       "3               0.153378  ...    132000.0          169500.0   \n",
       "4               0.062420  ...     53200.0          132000.0   \n",
       "...                  ...  ...         ...               ...   \n",
       "2537            0.225364  ...    395000.0          345000.0   \n",
       "2538            0.275304  ...    465950.0          395000.0   \n",
       "2539            0.202930  ...    305000.0          297000.0   \n",
       "2540            0.201553  ...    300000.0          305000.0   \n",
       "2541            0.416754  ...    599000.0          300000.0   \n",
       "\n",
       "      Last_2Month_Price  Last_3Month_Price  Last_Month_Diff  Last_2Month_Diff  \\\n",
       "0              336000.0           330000.0           5900.0          -42000.0   \n",
       "1              294000.0           336000.0          33900.0            5900.0   \n",
       "2              299900.0           294000.0           6150.0           33900.0   \n",
       "3               72500.0           107000.0         -37500.0           97000.0   \n",
       "4              169500.0            72500.0         -78800.0          -37500.0   \n",
       "...                 ...                ...              ...               ...   \n",
       "2537           390000.0           400000.0          50000.0          -45000.0   \n",
       "2538           345000.0           390000.0          70950.0           50000.0   \n",
       "2539           259750.0           285000.0           8000.0           37250.0   \n",
       "2540           297000.0           259750.0          -5000.0            8000.0   \n",
       "2541           305000.0           297000.0         299000.0           -5000.0   \n",
       "\n",
       "      Last_3Month_Diff  index  FHA_Count_Prediction  FHA_Count_RMSLE  \n",
       "0               6000.0      0                 6.639         0.495148  \n",
       "1             -42000.0      1                 6.177         0.495148  \n",
       "2               5900.0      2                 7.632         0.495148  \n",
       "3             -34500.0      3                 1.148         0.495148  \n",
       "4              97000.0      4                 1.107         0.495148  \n",
       "...                ...    ...                   ...              ...  \n",
       "2537          -10000.0   2537                 0.292         0.495148  \n",
       "2538          -45000.0   2538                 0.235         0.495148  \n",
       "2539          -25250.0   2539                10.899         0.495148  \n",
       "2540           37250.0   2540                12.718         0.495148  \n",
       "2541            8000.0   2541                12.722         0.495148  \n",
       "\n",
       "[2542 rows x 21 columns]"
      ],
      "text/html": "<div>\n<style scoped>\n    .dataframe tbody tr th:only-of-type {\n        vertical-align: middle;\n    }\n\n    .dataframe tbody tr th {\n        vertical-align: top;\n    }\n\n    .dataframe thead th {\n        text-align: right;\n    }\n</style>\n<table border=\"1\" class=\"dataframe\">\n  <thead>\n    <tr style=\"text-align: right;\">\n      <th></th>\n      <th>Zip_Code</th>\n      <th>Date_Code</th>\n      <th>Mobility_Rate</th>\n      <th>Expense_Index</th>\n      <th>Crime_Index</th>\n      <th>Total_Vacant</th>\n      <th>Total_Dwellings</th>\n      <th>Total_Sales</th>\n      <th>FHA_Count</th>\n      <th>Home_Affordability</th>\n      <th>...</th>\n      <th>Sale_Price</th>\n      <th>Last_Month_Price</th>\n      <th>Last_2Month_Price</th>\n      <th>Last_3Month_Price</th>\n      <th>Last_Month_Diff</th>\n      <th>Last_2Month_Diff</th>\n      <th>Last_3Month_Diff</th>\n      <th>index</th>\n      <th>FHA_Count_Prediction</th>\n      <th>FHA_Count_RMSLE</th>\n    </tr>\n  </thead>\n  <tbody>\n    <tr>\n      <th>0</th>\n      <td>32003</td>\n      <td>202101</td>\n      <td>0.182327</td>\n      <td>104</td>\n      <td>28</td>\n      <td>704</td>\n      <td>11724</td>\n      <td>39</td>\n      <td>6</td>\n      <td>0.124589</td>\n      <td>...</td>\n      <td>299900.0</td>\n      <td>294000.0</td>\n      <td>336000.0</td>\n      <td>330000.0</td>\n      <td>5900.0</td>\n      <td>-42000.0</td>\n      <td>6000.0</td>\n      <td>0</td>\n      <td>6.639</td>\n      <td>0.495148</td>\n    </tr>\n    <tr>\n      <th>1</th>\n      <td>32003</td>\n      <td>202102</td>\n      <td>0.182327</td>\n      <td>104</td>\n      <td>28</td>\n      <td>704</td>\n      <td>11724</td>\n      <td>30</td>\n      <td>8</td>\n      <td>0.140027</td>\n      <td>...</td>\n      <td>333800.0</td>\n      <td>299900.0</td>\n      <td>294000.0</td>\n      <td>336000.0</td>\n      <td>33900.0</td>\n      <td>5900.0</td>\n      <td>-42000.0</td>\n      <td>1</td>\n      <td>6.177</td>\n      <td>0.495148</td>\n    </tr>\n    <tr>\n      <th>2</th>\n      <td>32003</td>\n      <td>202103</td>\n      <td>0.182327</td>\n      <td>104</td>\n      <td>28</td>\n      <td>704</td>\n      <td>11724</td>\n      <td>70</td>\n      <td>4</td>\n      <td>0.147681</td>\n      <td>...</td>\n      <td>339950.0</td>\n      <td>333800.0</td>\n      <td>299900.0</td>\n      <td>294000.0</td>\n      <td>6150.0</td>\n      <td>33900.0</td>\n      <td>5900.0</td>\n      <td>2</td>\n      <td>7.632</td>\n      <td>0.495148</td>\n    </tr>\n    <tr>\n      <th>3</th>\n      <td>32008</td>\n      <td>202101</td>\n      <td>0.067037</td>\n      <td>82</td>\n      <td>118</td>\n      <td>964</td>\n      <td>3247</td>\n      <td>6</td>\n      <td>0</td>\n      <td>0.153378</td>\n      <td>...</td>\n      <td>132000.0</td>\n      <td>169500.0</td>\n      <td>72500.0</td>\n      <td>107000.0</td>\n      <td>-37500.0</td>\n      <td>97000.0</td>\n      <td>-34500.0</td>\n      <td>3</td>\n      <td>1.148</td>\n      <td>0.495148</td>\n    </tr>\n    <tr>\n      <th>4</th>\n      <td>32008</td>\n      <td>202102</td>\n      <td>0.067037</td>\n      <td>82</td>\n      <td>118</td>\n      <td>964</td>\n      <td>3247</td>\n      <td>3</td>\n      <td>1</td>\n      <td>0.062420</td>\n      <td>...</td>\n      <td>53200.0</td>\n      <td>132000.0</td>\n      <td>169500.0</td>\n      <td>72500.0</td>\n      <td>-78800.0</td>\n      <td>-37500.0</td>\n      <td>97000.0</td>\n      <td>4</td>\n      <td>1.107</td>\n      <td>0.495148</td>\n    </tr>\n    <tr>\n      <th>...</th>\n      <td>...</td>\n      <td>...</td>\n      <td>...</td>\n      <td>...</td>\n      <td>...</td>\n      <td>...</td>\n      <td>...</td>\n      <td>...</td>\n      <td>...</td>\n      <td>...</td>\n      <td>...</td>\n      <td>...</td>\n      <td>...</td>\n      <td>...</td>\n      <td>...</td>\n      <td>...</td>\n      <td>...</td>\n      <td>...</td>\n      <td>...</td>\n      <td>...</td>\n      <td>...</td>\n    </tr>\n    <tr>\n      <th>2537</th>\n      <td>34996</td>\n      <td>202102</td>\n      <td>0.141276</td>\n      <td>78</td>\n      <td>140</td>\n      <td>2780</td>\n      <td>9249</td>\n      <td>57</td>\n      <td>1</td>\n      <td>0.225364</td>\n      <td>...</td>\n      <td>395000.0</td>\n      <td>345000.0</td>\n      <td>390000.0</td>\n      <td>400000.0</td>\n      <td>50000.0</td>\n      <td>-45000.0</td>\n      <td>-10000.0</td>\n      <td>2537</td>\n      <td>0.292</td>\n      <td>0.495148</td>\n    </tr>\n    <tr>\n      <th>2538</th>\n      <td>34996</td>\n      <td>202103</td>\n      <td>0.141276</td>\n      <td>78</td>\n      <td>140</td>\n      <td>2780</td>\n      <td>9249</td>\n      <td>14</td>\n      <td>0</td>\n      <td>0.275304</td>\n      <td>...</td>\n      <td>465950.0</td>\n      <td>395000.0</td>\n      <td>345000.0</td>\n      <td>390000.0</td>\n      <td>70950.0</td>\n      <td>50000.0</td>\n      <td>-45000.0</td>\n      <td>2538</td>\n      <td>0.235</td>\n      <td>0.495148</td>\n    </tr>\n    <tr>\n      <th>2539</th>\n      <td>34997</td>\n      <td>202101</td>\n      <td>0.143471</td>\n      <td>91</td>\n      <td>113</td>\n      <td>2976</td>\n      <td>21551</td>\n      <td>81</td>\n      <td>10</td>\n      <td>0.202930</td>\n      <td>...</td>\n      <td>305000.0</td>\n      <td>297000.0</td>\n      <td>259750.0</td>\n      <td>285000.0</td>\n      <td>8000.0</td>\n      <td>37250.0</td>\n      <td>-25250.0</td>\n      <td>2539</td>\n      <td>10.899</td>\n      <td>0.495148</td>\n    </tr>\n    <tr>\n      <th>2540</th>\n      <td>34997</td>\n      <td>202102</td>\n      <td>0.143471</td>\n      <td>91</td>\n      <td>113</td>\n      <td>2976</td>\n      <td>21551</td>\n      <td>116</td>\n      <td>7</td>\n      <td>0.201553</td>\n      <td>...</td>\n      <td>300000.0</td>\n      <td>305000.0</td>\n      <td>297000.0</td>\n      <td>259750.0</td>\n      <td>-5000.0</td>\n      <td>8000.0</td>\n      <td>37250.0</td>\n      <td>2540</td>\n      <td>12.718</td>\n      <td>0.495148</td>\n    </tr>\n    <tr>\n      <th>2541</th>\n      <td>34997</td>\n      <td>202103</td>\n      <td>0.143471</td>\n      <td>91</td>\n      <td>113</td>\n      <td>2976</td>\n      <td>21551</td>\n      <td>7</td>\n      <td>12</td>\n      <td>0.416754</td>\n      <td>...</td>\n      <td>599000.0</td>\n      <td>300000.0</td>\n      <td>305000.0</td>\n      <td>297000.0</td>\n      <td>299000.0</td>\n      <td>-5000.0</td>\n      <td>8000.0</td>\n      <td>2541</td>\n      <td>12.722</td>\n      <td>0.495148</td>\n    </tr>\n  </tbody>\n</table>\n<p>2542 rows × 21 columns</p>\n</div>"
     },
     "metadata": {},
     "execution_count": 31
    }
   ],
   "source": [
    "output_fha.reset_index(inplace=True)\n",
    "\n",
    "fha_final = pd.concat((full_output_data, output_fha), axis=1)\n",
    "\n",
    "fha_final"
   ]
  },
  {
   "cell_type": "markdown",
   "metadata": {},
   "source": [
    "## Total Sales Predict"
   ]
  },
  {
   "cell_type": "code",
   "execution_count": 33,
   "metadata": {},
   "outputs": [
    {
     "output_type": "execute_result",
     "data": {
      "text/plain": [
       "(2542, 16)"
      ]
     },
     "metadata": {},
     "execution_count": 33
    }
   ],
   "source": [
    "ts_y_test = test['Total_Sales'].values\n",
    "\n",
    "ts_X_test = test.drop(columns='Total_Sales')\n",
    "\n",
    "ts_test_names = ts_X_test.columns\n",
    "\n",
    "ts_X_test.shape"
   ]
  },
  {
   "cell_type": "code",
   "execution_count": 34,
   "metadata": {},
   "outputs": [
    {
     "output_type": "execute_result",
     "data": {
      "text/plain": [
       "         Date_Code  Mobility_Rate  Expense_Index  Crime_Index  Total_Vacant  \\\n",
       "Zip_Code                                                                      \n",
       "32003       201904       0.182327            104           28           704   \n",
       "32003       201905       0.182327            104           28           704   \n",
       "32003       201906       0.182327            104           28           704   \n",
       "32003       201907       0.182327            104           28           704   \n",
       "32003       201908       0.182327            104           28           704   \n",
       "\n",
       "          Total_Dwellings  FHA_Count  Home_Affordability  Rent_Affordability  \\\n",
       "Zip_Code                                                                       \n",
       "32003               11724          3            0.130978            0.141853   \n",
       "32003               11724          8            0.137976            0.141853   \n",
       "32003               11724          3            0.130690            0.141853   \n",
       "32003               11724          7            0.133641            0.141853   \n",
       "32003               11724          5            0.125212            0.141853   \n",
       "\n",
       "          Sale_Price  Last_Month_Price  Last_2Month_Price  Last_3Month_Price  \\\n",
       "Zip_Code                                                                       \n",
       "32003       264500.0          275000.0           270000.0           244950.0   \n",
       "32003       281000.0          264500.0           275000.0           270000.0   \n",
       "32003       275000.0          281000.0           264500.0           275000.0   \n",
       "32003       282500.0          275000.0           281000.0           264500.0   \n",
       "32003       269577.0          282500.0           275000.0           281000.0   \n",
       "\n",
       "          Last_Month_Diff  Last_2Month_Diff  Last_3Month_Diff  \n",
       "Zip_Code                                                       \n",
       "32003            -10500.0            5000.0           25050.0  \n",
       "32003             16500.0          -10500.0            5000.0  \n",
       "32003             -6000.0           16500.0          -10500.0  \n",
       "32003              7500.0           -6000.0           16500.0  \n",
       "32003            -12923.0            7500.0           -6000.0  "
      ],
      "text/html": "<div>\n<style scoped>\n    .dataframe tbody tr th:only-of-type {\n        vertical-align: middle;\n    }\n\n    .dataframe tbody tr th {\n        vertical-align: top;\n    }\n\n    .dataframe thead th {\n        text-align: right;\n    }\n</style>\n<table border=\"1\" class=\"dataframe\">\n  <thead>\n    <tr style=\"text-align: right;\">\n      <th></th>\n      <th>Date_Code</th>\n      <th>Mobility_Rate</th>\n      <th>Expense_Index</th>\n      <th>Crime_Index</th>\n      <th>Total_Vacant</th>\n      <th>Total_Dwellings</th>\n      <th>FHA_Count</th>\n      <th>Home_Affordability</th>\n      <th>Rent_Affordability</th>\n      <th>Sale_Price</th>\n      <th>Last_Month_Price</th>\n      <th>Last_2Month_Price</th>\n      <th>Last_3Month_Price</th>\n      <th>Last_Month_Diff</th>\n      <th>Last_2Month_Diff</th>\n      <th>Last_3Month_Diff</th>\n    </tr>\n    <tr>\n      <th>Zip_Code</th>\n      <th></th>\n      <th></th>\n      <th></th>\n      <th></th>\n      <th></th>\n      <th></th>\n      <th></th>\n      <th></th>\n      <th></th>\n      <th></th>\n      <th></th>\n      <th></th>\n      <th></th>\n      <th></th>\n      <th></th>\n      <th></th>\n    </tr>\n  </thead>\n  <tbody>\n    <tr>\n      <th>32003</th>\n      <td>201904</td>\n      <td>0.182327</td>\n      <td>104</td>\n      <td>28</td>\n      <td>704</td>\n      <td>11724</td>\n      <td>3</td>\n      <td>0.130978</td>\n      <td>0.141853</td>\n      <td>264500.0</td>\n      <td>275000.0</td>\n      <td>270000.0</td>\n      <td>244950.0</td>\n      <td>-10500.0</td>\n      <td>5000.0</td>\n      <td>25050.0</td>\n    </tr>\n    <tr>\n      <th>32003</th>\n      <td>201905</td>\n      <td>0.182327</td>\n      <td>104</td>\n      <td>28</td>\n      <td>704</td>\n      <td>11724</td>\n      <td>8</td>\n      <td>0.137976</td>\n      <td>0.141853</td>\n      <td>281000.0</td>\n      <td>264500.0</td>\n      <td>275000.0</td>\n      <td>270000.0</td>\n      <td>16500.0</td>\n      <td>-10500.0</td>\n      <td>5000.0</td>\n    </tr>\n    <tr>\n      <th>32003</th>\n      <td>201906</td>\n      <td>0.182327</td>\n      <td>104</td>\n      <td>28</td>\n      <td>704</td>\n      <td>11724</td>\n      <td>3</td>\n      <td>0.130690</td>\n      <td>0.141853</td>\n      <td>275000.0</td>\n      <td>281000.0</td>\n      <td>264500.0</td>\n      <td>275000.0</td>\n      <td>-6000.0</td>\n      <td>16500.0</td>\n      <td>-10500.0</td>\n    </tr>\n    <tr>\n      <th>32003</th>\n      <td>201907</td>\n      <td>0.182327</td>\n      <td>104</td>\n      <td>28</td>\n      <td>704</td>\n      <td>11724</td>\n      <td>7</td>\n      <td>0.133641</td>\n      <td>0.141853</td>\n      <td>282500.0</td>\n      <td>275000.0</td>\n      <td>281000.0</td>\n      <td>264500.0</td>\n      <td>7500.0</td>\n      <td>-6000.0</td>\n      <td>16500.0</td>\n    </tr>\n    <tr>\n      <th>32003</th>\n      <td>201908</td>\n      <td>0.182327</td>\n      <td>104</td>\n      <td>28</td>\n      <td>704</td>\n      <td>11724</td>\n      <td>5</td>\n      <td>0.125212</td>\n      <td>0.141853</td>\n      <td>269577.0</td>\n      <td>282500.0</td>\n      <td>275000.0</td>\n      <td>281000.0</td>\n      <td>-12923.0</td>\n      <td>7500.0</td>\n      <td>-6000.0</td>\n    </tr>\n  </tbody>\n</table>\n</div>"
     },
     "metadata": {},
     "execution_count": 34
    }
   ],
   "source": [
    "ts_y_train= training['Total_Sales'].values\n",
    "\n",
    "ts_X_train = training.drop(columns='Total_Sales')\n",
    "\n",
    "ts_train_names = ts_X_train.columns\n",
    "\n",
    "ts_X_train.head()"
   ]
  },
  {
   "cell_type": "code",
   "execution_count": 35,
   "metadata": {},
   "outputs": [
    {
     "output_type": "execute_result",
     "data": {
      "text/plain": [
       "RandomForestRegressor(n_estimators=1000, n_jobs=-1, random_state=42)"
      ]
     },
     "metadata": {},
     "execution_count": 35
    }
   ],
   "source": [
    "rf_regr_3 = RandomForestRegressor(n_estimators=1000, n_jobs=-1, random_state=42)\n",
    "rf_regr_3.fit(ts_X_train, ts_y_train)"
   ]
  },
  {
   "cell_type": "code",
   "execution_count": 36,
   "metadata": {},
   "outputs": [
    {
     "output_type": "stream",
     "name": "stdout",
     "text": [
      "Training Data Score: 0.986467622176216\nTesting Data Score: 0.631339745347925\n"
     ]
    }
   ],
   "source": [
    "print(f\"Training Data Score: {rf_regr_3.score(ts_X_train, ts_y_train)}\")\n",
    "print(f\"Testing Data Score: {rf_regr_3.score(ts_X_test, ts_y_test)}\")"
   ]
  },
  {
   "cell_type": "code",
   "execution_count": 37,
   "metadata": {},
   "outputs": [
    {
     "output_type": "stream",
     "name": "stdout",
     "text": [
      "Mean Error = 0.51120\n"
     ]
    }
   ],
   "source": [
    "rf_pred_ts = rf_regr_3.predict(ts_X_test)\n",
    "\n",
    "print('Mean Error = %.5f' % np.sqrt(mean_squared_log_error(ts_y_test, rf_pred_ts)))"
   ]
  },
  {
   "cell_type": "code",
   "execution_count": 38,
   "metadata": {},
   "outputs": [
    {
     "output_type": "execute_result",
     "data": {
      "text/plain": [
       "      Total_Sales_Predicted  Actual\n",
       "0                    48.214      39\n",
       "1                    43.022      30\n",
       "2                    38.334      70\n",
       "3                     5.095       6\n",
       "4                     5.251       3\n",
       "...                     ...     ...\n",
       "2537                 53.668      57\n",
       "2538                 49.316      14\n",
       "2539                126.088      81\n",
       "2540                130.039     116\n",
       "2541                136.421       7\n",
       "\n",
       "[2542 rows x 2 columns]"
      ],
      "text/html": "<div>\n<style scoped>\n    .dataframe tbody tr th:only-of-type {\n        vertical-align: middle;\n    }\n\n    .dataframe tbody tr th {\n        vertical-align: top;\n    }\n\n    .dataframe thead th {\n        text-align: right;\n    }\n</style>\n<table border=\"1\" class=\"dataframe\">\n  <thead>\n    <tr style=\"text-align: right;\">\n      <th></th>\n      <th>Total_Sales_Predicted</th>\n      <th>Actual</th>\n    </tr>\n  </thead>\n  <tbody>\n    <tr>\n      <th>0</th>\n      <td>48.214</td>\n      <td>39</td>\n    </tr>\n    <tr>\n      <th>1</th>\n      <td>43.022</td>\n      <td>30</td>\n    </tr>\n    <tr>\n      <th>2</th>\n      <td>38.334</td>\n      <td>70</td>\n    </tr>\n    <tr>\n      <th>3</th>\n      <td>5.095</td>\n      <td>6</td>\n    </tr>\n    <tr>\n      <th>4</th>\n      <td>5.251</td>\n      <td>3</td>\n    </tr>\n    <tr>\n      <th>...</th>\n      <td>...</td>\n      <td>...</td>\n    </tr>\n    <tr>\n      <th>2537</th>\n      <td>53.668</td>\n      <td>57</td>\n    </tr>\n    <tr>\n      <th>2538</th>\n      <td>49.316</td>\n      <td>14</td>\n    </tr>\n    <tr>\n      <th>2539</th>\n      <td>126.088</td>\n      <td>81</td>\n    </tr>\n    <tr>\n      <th>2540</th>\n      <td>130.039</td>\n      <td>116</td>\n    </tr>\n    <tr>\n      <th>2541</th>\n      <td>136.421</td>\n      <td>7</td>\n    </tr>\n  </tbody>\n</table>\n<p>2542 rows × 2 columns</p>\n</div>"
     },
     "metadata": {},
     "execution_count": 38
    }
   ],
   "source": [
    "output_ts = pd.DataFrame({'Total_Sales_Predicted':rf_pred_ts, 'Actual': ts_y_test})\n",
    "output_ts"
   ]
  },
  {
   "cell_type": "code",
   "execution_count": 39,
   "metadata": {},
   "outputs": [
    {
     "output_type": "execute_result",
     "data": {
      "text/plain": [
       "      Total_Sales_Predicted  Total_Sales_Predicted_RMSLE\n",
       "0                    48.214                     0.511203\n",
       "1                    43.022                     0.511203\n",
       "2                    38.334                     0.511203\n",
       "3                     5.095                     0.511203\n",
       "4                     5.251                     0.511203\n",
       "...                     ...                          ...\n",
       "2537                 53.668                     0.511203\n",
       "2538                 49.316                     0.511203\n",
       "2539                126.088                     0.511203\n",
       "2540                130.039                     0.511203\n",
       "2541                136.421                     0.511203\n",
       "\n",
       "[2542 rows x 2 columns]"
      ],
      "text/html": "<div>\n<style scoped>\n    .dataframe tbody tr th:only-of-type {\n        vertical-align: middle;\n    }\n\n    .dataframe tbody tr th {\n        vertical-align: top;\n    }\n\n    .dataframe thead th {\n        text-align: right;\n    }\n</style>\n<table border=\"1\" class=\"dataframe\">\n  <thead>\n    <tr style=\"text-align: right;\">\n      <th></th>\n      <th>Total_Sales_Predicted</th>\n      <th>Total_Sales_Predicted_RMSLE</th>\n    </tr>\n  </thead>\n  <tbody>\n    <tr>\n      <th>0</th>\n      <td>48.214</td>\n      <td>0.511203</td>\n    </tr>\n    <tr>\n      <th>1</th>\n      <td>43.022</td>\n      <td>0.511203</td>\n    </tr>\n    <tr>\n      <th>2</th>\n      <td>38.334</td>\n      <td>0.511203</td>\n    </tr>\n    <tr>\n      <th>3</th>\n      <td>5.095</td>\n      <td>0.511203</td>\n    </tr>\n    <tr>\n      <th>4</th>\n      <td>5.251</td>\n      <td>0.511203</td>\n    </tr>\n    <tr>\n      <th>...</th>\n      <td>...</td>\n      <td>...</td>\n    </tr>\n    <tr>\n      <th>2537</th>\n      <td>53.668</td>\n      <td>0.511203</td>\n    </tr>\n    <tr>\n      <th>2538</th>\n      <td>49.316</td>\n      <td>0.511203</td>\n    </tr>\n    <tr>\n      <th>2539</th>\n      <td>126.088</td>\n      <td>0.511203</td>\n    </tr>\n    <tr>\n      <th>2540</th>\n      <td>130.039</td>\n      <td>0.511203</td>\n    </tr>\n    <tr>\n      <th>2541</th>\n      <td>136.421</td>\n      <td>0.511203</td>\n    </tr>\n  </tbody>\n</table>\n<p>2542 rows × 2 columns</p>\n</div>"
     },
     "metadata": {},
     "execution_count": 39
    }
   ],
   "source": [
    "# Calculate mean error for each row and add to new column\n",
    "output_ts['Total_Sales_Predicted_RMSLE'] = (np.sqrt(mean_squared_log_error(output_ts['Actual'], output_ts['Total_Sales_Predicted'])))\n",
    "\n",
    "output_ts = output_ts.drop(columns='Actual')\n",
    "output_ts"
   ]
  },
  {
   "cell_type": "code",
   "execution_count": 40,
   "metadata": {},
   "outputs": [
    {
     "output_type": "execute_result",
     "data": {
      "text/plain": [
       "     Zip_Code Date_Code  Mobility_Rate  Expense_Index  Crime_Index  \\\n",
       "0       32003    202101       0.182327            104           28   \n",
       "1       32003    202102       0.182327            104           28   \n",
       "2       32003    202103       0.182327            104           28   \n",
       "3       32008    202101       0.067037             82          118   \n",
       "4       32008    202102       0.067037             82          118   \n",
       "...       ...       ...            ...            ...          ...   \n",
       "2537    34996    202102       0.141276             78          140   \n",
       "2538    34996    202103       0.141276             78          140   \n",
       "2539    34997    202101       0.143471             91          113   \n",
       "2540    34997    202102       0.143471             91          113   \n",
       "2541    34997    202103       0.143471             91          113   \n",
       "\n",
       "      Total_Vacant  Total_Dwellings  Total_Sales  FHA_Count  \\\n",
       "0              704            11724           39          6   \n",
       "1              704            11724           30          8   \n",
       "2              704            11724           70          4   \n",
       "3              964             3247            6          0   \n",
       "4              964             3247            3          1   \n",
       "...            ...              ...          ...        ...   \n",
       "2537          2780             9249           57          1   \n",
       "2538          2780             9249           14          0   \n",
       "2539          2976            21551           81         10   \n",
       "2540          2976            21551          116          7   \n",
       "2541          2976            21551            7         12   \n",
       "\n",
       "      Home_Affordability  ...  Sale_Price  Last_Month_Price  \\\n",
       "0               0.124589  ...    299900.0          294000.0   \n",
       "1               0.140027  ...    333800.0          299900.0   \n",
       "2               0.147681  ...    339950.0          333800.0   \n",
       "3               0.153378  ...    132000.0          169500.0   \n",
       "4               0.062420  ...     53200.0          132000.0   \n",
       "...                  ...  ...         ...               ...   \n",
       "2537            0.225364  ...    395000.0          345000.0   \n",
       "2538            0.275304  ...    465950.0          395000.0   \n",
       "2539            0.202930  ...    305000.0          297000.0   \n",
       "2540            0.201553  ...    300000.0          305000.0   \n",
       "2541            0.416754  ...    599000.0          300000.0   \n",
       "\n",
       "      Last_2Month_Price  Last_3Month_Price  Last_Month_Diff  Last_2Month_Diff  \\\n",
       "0              336000.0           330000.0           5900.0          -42000.0   \n",
       "1              294000.0           336000.0          33900.0            5900.0   \n",
       "2              299900.0           294000.0           6150.0           33900.0   \n",
       "3               72500.0           107000.0         -37500.0           97000.0   \n",
       "4              169500.0            72500.0         -78800.0          -37500.0   \n",
       "...                 ...                ...              ...               ...   \n",
       "2537           390000.0           400000.0          50000.0          -45000.0   \n",
       "2538           345000.0           390000.0          70950.0           50000.0   \n",
       "2539           259750.0           285000.0           8000.0           37250.0   \n",
       "2540           297000.0           259750.0          -5000.0            8000.0   \n",
       "2541           305000.0           297000.0         299000.0           -5000.0   \n",
       "\n",
       "      Last_3Month_Diff  index  Total_Sales_Predicted  \\\n",
       "0               6000.0      0                 48.214   \n",
       "1             -42000.0      1                 43.022   \n",
       "2               5900.0      2                 38.334   \n",
       "3             -34500.0      3                  5.095   \n",
       "4              97000.0      4                  5.251   \n",
       "...                ...    ...                    ...   \n",
       "2537          -10000.0   2537                 53.668   \n",
       "2538          -45000.0   2538                 49.316   \n",
       "2539          -25250.0   2539                126.088   \n",
       "2540           37250.0   2540                130.039   \n",
       "2541            8000.0   2541                136.421   \n",
       "\n",
       "      Total_Sales_Predicted_RMSLE  \n",
       "0                        0.511203  \n",
       "1                        0.511203  \n",
       "2                        0.511203  \n",
       "3                        0.511203  \n",
       "4                        0.511203  \n",
       "...                           ...  \n",
       "2537                     0.511203  \n",
       "2538                     0.511203  \n",
       "2539                     0.511203  \n",
       "2540                     0.511203  \n",
       "2541                     0.511203  \n",
       "\n",
       "[2542 rows x 21 columns]"
      ],
      "text/html": "<div>\n<style scoped>\n    .dataframe tbody tr th:only-of-type {\n        vertical-align: middle;\n    }\n\n    .dataframe tbody tr th {\n        vertical-align: top;\n    }\n\n    .dataframe thead th {\n        text-align: right;\n    }\n</style>\n<table border=\"1\" class=\"dataframe\">\n  <thead>\n    <tr style=\"text-align: right;\">\n      <th></th>\n      <th>Zip_Code</th>\n      <th>Date_Code</th>\n      <th>Mobility_Rate</th>\n      <th>Expense_Index</th>\n      <th>Crime_Index</th>\n      <th>Total_Vacant</th>\n      <th>Total_Dwellings</th>\n      <th>Total_Sales</th>\n      <th>FHA_Count</th>\n      <th>Home_Affordability</th>\n      <th>...</th>\n      <th>Sale_Price</th>\n      <th>Last_Month_Price</th>\n      <th>Last_2Month_Price</th>\n      <th>Last_3Month_Price</th>\n      <th>Last_Month_Diff</th>\n      <th>Last_2Month_Diff</th>\n      <th>Last_3Month_Diff</th>\n      <th>index</th>\n      <th>Total_Sales_Predicted</th>\n      <th>Total_Sales_Predicted_RMSLE</th>\n    </tr>\n  </thead>\n  <tbody>\n    <tr>\n      <th>0</th>\n      <td>32003</td>\n      <td>202101</td>\n      <td>0.182327</td>\n      <td>104</td>\n      <td>28</td>\n      <td>704</td>\n      <td>11724</td>\n      <td>39</td>\n      <td>6</td>\n      <td>0.124589</td>\n      <td>...</td>\n      <td>299900.0</td>\n      <td>294000.0</td>\n      <td>336000.0</td>\n      <td>330000.0</td>\n      <td>5900.0</td>\n      <td>-42000.0</td>\n      <td>6000.0</td>\n      <td>0</td>\n      <td>48.214</td>\n      <td>0.511203</td>\n    </tr>\n    <tr>\n      <th>1</th>\n      <td>32003</td>\n      <td>202102</td>\n      <td>0.182327</td>\n      <td>104</td>\n      <td>28</td>\n      <td>704</td>\n      <td>11724</td>\n      <td>30</td>\n      <td>8</td>\n      <td>0.140027</td>\n      <td>...</td>\n      <td>333800.0</td>\n      <td>299900.0</td>\n      <td>294000.0</td>\n      <td>336000.0</td>\n      <td>33900.0</td>\n      <td>5900.0</td>\n      <td>-42000.0</td>\n      <td>1</td>\n      <td>43.022</td>\n      <td>0.511203</td>\n    </tr>\n    <tr>\n      <th>2</th>\n      <td>32003</td>\n      <td>202103</td>\n      <td>0.182327</td>\n      <td>104</td>\n      <td>28</td>\n      <td>704</td>\n      <td>11724</td>\n      <td>70</td>\n      <td>4</td>\n      <td>0.147681</td>\n      <td>...</td>\n      <td>339950.0</td>\n      <td>333800.0</td>\n      <td>299900.0</td>\n      <td>294000.0</td>\n      <td>6150.0</td>\n      <td>33900.0</td>\n      <td>5900.0</td>\n      <td>2</td>\n      <td>38.334</td>\n      <td>0.511203</td>\n    </tr>\n    <tr>\n      <th>3</th>\n      <td>32008</td>\n      <td>202101</td>\n      <td>0.067037</td>\n      <td>82</td>\n      <td>118</td>\n      <td>964</td>\n      <td>3247</td>\n      <td>6</td>\n      <td>0</td>\n      <td>0.153378</td>\n      <td>...</td>\n      <td>132000.0</td>\n      <td>169500.0</td>\n      <td>72500.0</td>\n      <td>107000.0</td>\n      <td>-37500.0</td>\n      <td>97000.0</td>\n      <td>-34500.0</td>\n      <td>3</td>\n      <td>5.095</td>\n      <td>0.511203</td>\n    </tr>\n    <tr>\n      <th>4</th>\n      <td>32008</td>\n      <td>202102</td>\n      <td>0.067037</td>\n      <td>82</td>\n      <td>118</td>\n      <td>964</td>\n      <td>3247</td>\n      <td>3</td>\n      <td>1</td>\n      <td>0.062420</td>\n      <td>...</td>\n      <td>53200.0</td>\n      <td>132000.0</td>\n      <td>169500.0</td>\n      <td>72500.0</td>\n      <td>-78800.0</td>\n      <td>-37500.0</td>\n      <td>97000.0</td>\n      <td>4</td>\n      <td>5.251</td>\n      <td>0.511203</td>\n    </tr>\n    <tr>\n      <th>...</th>\n      <td>...</td>\n      <td>...</td>\n      <td>...</td>\n      <td>...</td>\n      <td>...</td>\n      <td>...</td>\n      <td>...</td>\n      <td>...</td>\n      <td>...</td>\n      <td>...</td>\n      <td>...</td>\n      <td>...</td>\n      <td>...</td>\n      <td>...</td>\n      <td>...</td>\n      <td>...</td>\n      <td>...</td>\n      <td>...</td>\n      <td>...</td>\n      <td>...</td>\n      <td>...</td>\n    </tr>\n    <tr>\n      <th>2537</th>\n      <td>34996</td>\n      <td>202102</td>\n      <td>0.141276</td>\n      <td>78</td>\n      <td>140</td>\n      <td>2780</td>\n      <td>9249</td>\n      <td>57</td>\n      <td>1</td>\n      <td>0.225364</td>\n      <td>...</td>\n      <td>395000.0</td>\n      <td>345000.0</td>\n      <td>390000.0</td>\n      <td>400000.0</td>\n      <td>50000.0</td>\n      <td>-45000.0</td>\n      <td>-10000.0</td>\n      <td>2537</td>\n      <td>53.668</td>\n      <td>0.511203</td>\n    </tr>\n    <tr>\n      <th>2538</th>\n      <td>34996</td>\n      <td>202103</td>\n      <td>0.141276</td>\n      <td>78</td>\n      <td>140</td>\n      <td>2780</td>\n      <td>9249</td>\n      <td>14</td>\n      <td>0</td>\n      <td>0.275304</td>\n      <td>...</td>\n      <td>465950.0</td>\n      <td>395000.0</td>\n      <td>345000.0</td>\n      <td>390000.0</td>\n      <td>70950.0</td>\n      <td>50000.0</td>\n      <td>-45000.0</td>\n      <td>2538</td>\n      <td>49.316</td>\n      <td>0.511203</td>\n    </tr>\n    <tr>\n      <th>2539</th>\n      <td>34997</td>\n      <td>202101</td>\n      <td>0.143471</td>\n      <td>91</td>\n      <td>113</td>\n      <td>2976</td>\n      <td>21551</td>\n      <td>81</td>\n      <td>10</td>\n      <td>0.202930</td>\n      <td>...</td>\n      <td>305000.0</td>\n      <td>297000.0</td>\n      <td>259750.0</td>\n      <td>285000.0</td>\n      <td>8000.0</td>\n      <td>37250.0</td>\n      <td>-25250.0</td>\n      <td>2539</td>\n      <td>126.088</td>\n      <td>0.511203</td>\n    </tr>\n    <tr>\n      <th>2540</th>\n      <td>34997</td>\n      <td>202102</td>\n      <td>0.143471</td>\n      <td>91</td>\n      <td>113</td>\n      <td>2976</td>\n      <td>21551</td>\n      <td>116</td>\n      <td>7</td>\n      <td>0.201553</td>\n      <td>...</td>\n      <td>300000.0</td>\n      <td>305000.0</td>\n      <td>297000.0</td>\n      <td>259750.0</td>\n      <td>-5000.0</td>\n      <td>8000.0</td>\n      <td>37250.0</td>\n      <td>2540</td>\n      <td>130.039</td>\n      <td>0.511203</td>\n    </tr>\n    <tr>\n      <th>2541</th>\n      <td>34997</td>\n      <td>202103</td>\n      <td>0.143471</td>\n      <td>91</td>\n      <td>113</td>\n      <td>2976</td>\n      <td>21551</td>\n      <td>7</td>\n      <td>12</td>\n      <td>0.416754</td>\n      <td>...</td>\n      <td>599000.0</td>\n      <td>300000.0</td>\n      <td>305000.0</td>\n      <td>297000.0</td>\n      <td>299000.0</td>\n      <td>-5000.0</td>\n      <td>8000.0</td>\n      <td>2541</td>\n      <td>136.421</td>\n      <td>0.511203</td>\n    </tr>\n  </tbody>\n</table>\n<p>2542 rows × 21 columns</p>\n</div>"
     },
     "metadata": {},
     "execution_count": 40
    }
   ],
   "source": [
    "output_ts.reset_index(inplace=True)\n",
    "\n",
    "ts_final = pd.concat((full_output_data, output_ts), axis=1)\n",
    "\n",
    "ts_final"
   ]
  },
  {
   "cell_type": "code",
   "execution_count": 42,
   "metadata": {},
   "outputs": [
    {
     "output_type": "execute_result",
     "data": {
      "text/plain": [
       "     Zip_Code Date_Code  Mobility_Rate  Expense_Index  Crime_Index  \\\n",
       "0       32003    202101       0.182327            104           28   \n",
       "1       32003    202102       0.182327            104           28   \n",
       "2       32003    202103       0.182327            104           28   \n",
       "3       32008    202101       0.067037             82          118   \n",
       "4       32008    202102       0.067037             82          118   \n",
       "...       ...       ...            ...            ...          ...   \n",
       "2537    34996    202102       0.141276             78          140   \n",
       "2538    34996    202103       0.141276             78          140   \n",
       "2539    34997    202101       0.143471             91          113   \n",
       "2540    34997    202102       0.143471             91          113   \n",
       "2541    34997    202103       0.143471             91          113   \n",
       "\n",
       "      Total_Vacant  Total_Dwellings  Total_Sales  FHA_Count  \\\n",
       "0              704            11724           39          6   \n",
       "1              704            11724           30          8   \n",
       "2              704            11724           70          4   \n",
       "3              964             3247            6          0   \n",
       "4              964             3247            3          1   \n",
       "...            ...              ...          ...        ...   \n",
       "2537          2780             9249           57          1   \n",
       "2538          2780             9249           14          0   \n",
       "2539          2976            21551           81         10   \n",
       "2540          2976            21551          116          7   \n",
       "2541          2976            21551            7         12   \n",
       "\n",
       "      Home_Affordability  ...  Last_3Month_Diff  index  Sale_Price_Prediction  \\\n",
       "0               0.124589  ...            6000.0      0             300906.904   \n",
       "1               0.140027  ...          -42000.0      1             333540.000   \n",
       "2               0.147681  ...            5900.0      2             338967.133   \n",
       "3               0.153378  ...          -34500.0      3             133484.625   \n",
       "4               0.062420  ...           97000.0      4              67616.395   \n",
       "...                  ...  ...               ...    ...                    ...   \n",
       "2537            0.225364  ...          -10000.0   2537             395200.821   \n",
       "2538            0.275304  ...          -45000.0   2538             464942.875   \n",
       "2539            0.202930  ...          -25250.0   2539             305423.011   \n",
       "2540            0.201553  ...           37250.0   2540             300499.381   \n",
       "2541            0.416754  ...            8000.0   2541             561616.937   \n",
       "\n",
       "      Sale_Price_RMSLE  index  FHA_Count_Prediction  FHA_Count_RMSLE  index  \\\n",
       "0             0.070478      0                 6.639         0.495148      0   \n",
       "1             0.070478      1                 6.177         0.495148      1   \n",
       "2             0.070478      2                 7.632         0.495148      2   \n",
       "3             0.070478      3                 1.148         0.495148      3   \n",
       "4             0.070478      4                 1.107         0.495148      4   \n",
       "...                ...    ...                   ...              ...    ...   \n",
       "2537          0.070478   2537                 0.292         0.495148   2537   \n",
       "2538          0.070478   2538                 0.235         0.495148   2538   \n",
       "2539          0.070478   2539                10.899         0.495148   2539   \n",
       "2540          0.070478   2540                12.718         0.495148   2540   \n",
       "2541          0.070478   2541                12.722         0.495148   2541   \n",
       "\n",
       "      Total_Sales_Predicted  Total_Sales_Predicted_RMSLE  \n",
       "0                    48.214                     0.511203  \n",
       "1                    43.022                     0.511203  \n",
       "2                    38.334                     0.511203  \n",
       "3                     5.095                     0.511203  \n",
       "4                     5.251                     0.511203  \n",
       "...                     ...                          ...  \n",
       "2537                 53.668                     0.511203  \n",
       "2538                 49.316                     0.511203  \n",
       "2539                126.088                     0.511203  \n",
       "2540                130.039                     0.511203  \n",
       "2541                136.421                     0.511203  \n",
       "\n",
       "[2542 rows x 27 columns]"
      ],
      "text/html": "<div>\n<style scoped>\n    .dataframe tbody tr th:only-of-type {\n        vertical-align: middle;\n    }\n\n    .dataframe tbody tr th {\n        vertical-align: top;\n    }\n\n    .dataframe thead th {\n        text-align: right;\n    }\n</style>\n<table border=\"1\" class=\"dataframe\">\n  <thead>\n    <tr style=\"text-align: right;\">\n      <th></th>\n      <th>Zip_Code</th>\n      <th>Date_Code</th>\n      <th>Mobility_Rate</th>\n      <th>Expense_Index</th>\n      <th>Crime_Index</th>\n      <th>Total_Vacant</th>\n      <th>Total_Dwellings</th>\n      <th>Total_Sales</th>\n      <th>FHA_Count</th>\n      <th>Home_Affordability</th>\n      <th>...</th>\n      <th>Last_3Month_Diff</th>\n      <th>index</th>\n      <th>Sale_Price_Prediction</th>\n      <th>Sale_Price_RMSLE</th>\n      <th>index</th>\n      <th>FHA_Count_Prediction</th>\n      <th>FHA_Count_RMSLE</th>\n      <th>index</th>\n      <th>Total_Sales_Predicted</th>\n      <th>Total_Sales_Predicted_RMSLE</th>\n    </tr>\n  </thead>\n  <tbody>\n    <tr>\n      <th>0</th>\n      <td>32003</td>\n      <td>202101</td>\n      <td>0.182327</td>\n      <td>104</td>\n      <td>28</td>\n      <td>704</td>\n      <td>11724</td>\n      <td>39</td>\n      <td>6</td>\n      <td>0.124589</td>\n      <td>...</td>\n      <td>6000.0</td>\n      <td>0</td>\n      <td>300906.904</td>\n      <td>0.070478</td>\n      <td>0</td>\n      <td>6.639</td>\n      <td>0.495148</td>\n      <td>0</td>\n      <td>48.214</td>\n      <td>0.511203</td>\n    </tr>\n    <tr>\n      <th>1</th>\n      <td>32003</td>\n      <td>202102</td>\n      <td>0.182327</td>\n      <td>104</td>\n      <td>28</td>\n      <td>704</td>\n      <td>11724</td>\n      <td>30</td>\n      <td>8</td>\n      <td>0.140027</td>\n      <td>...</td>\n      <td>-42000.0</td>\n      <td>1</td>\n      <td>333540.000</td>\n      <td>0.070478</td>\n      <td>1</td>\n      <td>6.177</td>\n      <td>0.495148</td>\n      <td>1</td>\n      <td>43.022</td>\n      <td>0.511203</td>\n    </tr>\n    <tr>\n      <th>2</th>\n      <td>32003</td>\n      <td>202103</td>\n      <td>0.182327</td>\n      <td>104</td>\n      <td>28</td>\n      <td>704</td>\n      <td>11724</td>\n      <td>70</td>\n      <td>4</td>\n      <td>0.147681</td>\n      <td>...</td>\n      <td>5900.0</td>\n      <td>2</td>\n      <td>338967.133</td>\n      <td>0.070478</td>\n      <td>2</td>\n      <td>7.632</td>\n      <td>0.495148</td>\n      <td>2</td>\n      <td>38.334</td>\n      <td>0.511203</td>\n    </tr>\n    <tr>\n      <th>3</th>\n      <td>32008</td>\n      <td>202101</td>\n      <td>0.067037</td>\n      <td>82</td>\n      <td>118</td>\n      <td>964</td>\n      <td>3247</td>\n      <td>6</td>\n      <td>0</td>\n      <td>0.153378</td>\n      <td>...</td>\n      <td>-34500.0</td>\n      <td>3</td>\n      <td>133484.625</td>\n      <td>0.070478</td>\n      <td>3</td>\n      <td>1.148</td>\n      <td>0.495148</td>\n      <td>3</td>\n      <td>5.095</td>\n      <td>0.511203</td>\n    </tr>\n    <tr>\n      <th>4</th>\n      <td>32008</td>\n      <td>202102</td>\n      <td>0.067037</td>\n      <td>82</td>\n      <td>118</td>\n      <td>964</td>\n      <td>3247</td>\n      <td>3</td>\n      <td>1</td>\n      <td>0.062420</td>\n      <td>...</td>\n      <td>97000.0</td>\n      <td>4</td>\n      <td>67616.395</td>\n      <td>0.070478</td>\n      <td>4</td>\n      <td>1.107</td>\n      <td>0.495148</td>\n      <td>4</td>\n      <td>5.251</td>\n      <td>0.511203</td>\n    </tr>\n    <tr>\n      <th>...</th>\n      <td>...</td>\n      <td>...</td>\n      <td>...</td>\n      <td>...</td>\n      <td>...</td>\n      <td>...</td>\n      <td>...</td>\n      <td>...</td>\n      <td>...</td>\n      <td>...</td>\n      <td>...</td>\n      <td>...</td>\n      <td>...</td>\n      <td>...</td>\n      <td>...</td>\n      <td>...</td>\n      <td>...</td>\n      <td>...</td>\n      <td>...</td>\n      <td>...</td>\n      <td>...</td>\n    </tr>\n    <tr>\n      <th>2537</th>\n      <td>34996</td>\n      <td>202102</td>\n      <td>0.141276</td>\n      <td>78</td>\n      <td>140</td>\n      <td>2780</td>\n      <td>9249</td>\n      <td>57</td>\n      <td>1</td>\n      <td>0.225364</td>\n      <td>...</td>\n      <td>-10000.0</td>\n      <td>2537</td>\n      <td>395200.821</td>\n      <td>0.070478</td>\n      <td>2537</td>\n      <td>0.292</td>\n      <td>0.495148</td>\n      <td>2537</td>\n      <td>53.668</td>\n      <td>0.511203</td>\n    </tr>\n    <tr>\n      <th>2538</th>\n      <td>34996</td>\n      <td>202103</td>\n      <td>0.141276</td>\n      <td>78</td>\n      <td>140</td>\n      <td>2780</td>\n      <td>9249</td>\n      <td>14</td>\n      <td>0</td>\n      <td>0.275304</td>\n      <td>...</td>\n      <td>-45000.0</td>\n      <td>2538</td>\n      <td>464942.875</td>\n      <td>0.070478</td>\n      <td>2538</td>\n      <td>0.235</td>\n      <td>0.495148</td>\n      <td>2538</td>\n      <td>49.316</td>\n      <td>0.511203</td>\n    </tr>\n    <tr>\n      <th>2539</th>\n      <td>34997</td>\n      <td>202101</td>\n      <td>0.143471</td>\n      <td>91</td>\n      <td>113</td>\n      <td>2976</td>\n      <td>21551</td>\n      <td>81</td>\n      <td>10</td>\n      <td>0.202930</td>\n      <td>...</td>\n      <td>-25250.0</td>\n      <td>2539</td>\n      <td>305423.011</td>\n      <td>0.070478</td>\n      <td>2539</td>\n      <td>10.899</td>\n      <td>0.495148</td>\n      <td>2539</td>\n      <td>126.088</td>\n      <td>0.511203</td>\n    </tr>\n    <tr>\n      <th>2540</th>\n      <td>34997</td>\n      <td>202102</td>\n      <td>0.143471</td>\n      <td>91</td>\n      <td>113</td>\n      <td>2976</td>\n      <td>21551</td>\n      <td>116</td>\n      <td>7</td>\n      <td>0.201553</td>\n      <td>...</td>\n      <td>37250.0</td>\n      <td>2540</td>\n      <td>300499.381</td>\n      <td>0.070478</td>\n      <td>2540</td>\n      <td>12.718</td>\n      <td>0.495148</td>\n      <td>2540</td>\n      <td>130.039</td>\n      <td>0.511203</td>\n    </tr>\n    <tr>\n      <th>2541</th>\n      <td>34997</td>\n      <td>202103</td>\n      <td>0.143471</td>\n      <td>91</td>\n      <td>113</td>\n      <td>2976</td>\n      <td>21551</td>\n      <td>7</td>\n      <td>12</td>\n      <td>0.416754</td>\n      <td>...</td>\n      <td>8000.0</td>\n      <td>2541</td>\n      <td>561616.937</td>\n      <td>0.070478</td>\n      <td>2541</td>\n      <td>12.722</td>\n      <td>0.495148</td>\n      <td>2541</td>\n      <td>136.421</td>\n      <td>0.511203</td>\n    </tr>\n  </tbody>\n</table>\n<p>2542 rows × 27 columns</p>\n</div>"
     },
     "metadata": {},
     "execution_count": 42
    }
   ],
   "source": [
    "final_rf_data = pd.concat((full_output_data, output_price, output_fha, output_ts), axis=1)\n",
    "final_rf_data"
   ]
  },
  {
   "cell_type": "code",
   "execution_count": 44,
   "metadata": {},
   "outputs": [],
   "source": [
    "final_rf_data.to_csv('Resources/ML_Outputs/random_forest_model.csv', index=False)"
   ]
  },
  {
   "cell_type": "code",
   "execution_count": null,
   "metadata": {},
   "outputs": [],
   "source": []
  }
 ],
 "metadata": {
  "kernelspec": {
   "name": "python385jvsc74a57bd00cfdad5e626f31b4955989c38978bf1f5325b415a10b52ea84b38c33ed3e8b7b",
   "display_name": "Python 3.8.5 64-bit ('base': conda)"
  },
  "language_info": {
   "codemirror_mode": {
    "name": "ipython",
    "version": 3
   },
   "file_extension": ".py",
   "mimetype": "text/x-python",
   "name": "python",
   "nbconvert_exporter": "python",
   "pygments_lexer": "ipython3",
   "version": "3.8.5"
  }
 },
 "nbformat": 4,
 "nbformat_minor": 4
}