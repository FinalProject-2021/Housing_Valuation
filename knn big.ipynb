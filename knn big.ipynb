{
 "metadata": {
  "language_info": {
   "codemirror_mode": {
    "name": "ipython",
    "version": 3
   },
   "file_extension": ".py",
   "mimetype": "text/x-python",
   "name": "python",
   "nbconvert_exporter": "python",
   "pygments_lexer": "ipython3",
   "version": "3.6.10"
  },
  "orig_nbformat": 2,
  "kernelspec": {
   "name": "python3610jvsc74a57bd0a7795a94fcb98f890ecfbefedba6c51e1f5a02e9905bd71b2049174ccd39ef45",
   "display_name": "Python 3.6.10 64-bit ('PythonData': conda)"
  }
 },
 "nbformat": 4,
 "nbformat_minor": 2,
 "cells": [
  {
   "cell_type": "code",
   "execution_count": 3,
   "metadata": {},
   "outputs": [
    {
     "output_type": "stream",
     "name": "stdout",
     "text": [
      "Collecting sklearnERROR: Could not install packages due to an EnvironmentError: [WinError 5] Access is denied: 'c:\\\\python39\\\\lib\\\\site-packages\\\\pip-20.2.3.dist-info\\\\entry_points.txt'\n",
      "Consider using the `--user` option or check the permissions.\n",
      "\n",
      "WARNING: You are using pip version 20.2.3; however, version 21.1.2 is available.\n",
      "You should consider upgrading via the 'c:\\python39\\python.exe -m pip install --upgrade pip' command.\n",
      "\n",
      "  Using cached sklearn-0.0.tar.gz (1.1 kB)\n",
      "Collecting pip\n",
      "  Downloading pip-21.1.2-py3-none-any.whl (1.5 MB)\n",
      "Collecting scikit-learn\n",
      "  Using cached scikit_learn-0.24.2-cp39-cp39-win_amd64.whl (6.9 MB)\n",
      "Requirement already satisfied, skipping upgrade: joblib>=0.11 in c:\\python39\\lib\\site-packages (from scikit-learn->sklearn) (1.0.1)\n",
      "Collecting threadpoolctl>=2.0.0\n",
      "  Using cached threadpoolctl-2.1.0-py3-none-any.whl (12 kB)\n",
      "Collecting scipy>=0.19.1\n",
      "  Using cached scipy-1.6.3-cp39-cp39-win_amd64.whl (32.7 MB)\n",
      "Requirement already satisfied, skipping upgrade: numpy>=1.13.3 in c:\\python39\\lib\\site-packages (from scikit-learn->sklearn) (1.20.3)\n",
      "Using legacy 'setup.py install' for sklearn, since package 'wheel' is not installed.\n",
      "Installing collected packages: threadpoolctl, scipy, scikit-learn, sklearn, pip\n",
      "    Running setup.py install for sklearn: started\n",
      "    Running setup.py install for sklearn: finished with status 'done'\n",
      "  Attempting uninstall: pip\n",
      "    Found existing installation: pip 20.2.3\n",
      "    Uninstalling pip-20.2.3:\n"
     ]
    }
   ],
   "source": [
    "# Update sklearn to prevent version mismatches\n",
    "!pip install sklearn --upgrade pip"
   ]
  },
  {
   "cell_type": "code",
   "execution_count": 1,
   "metadata": {},
   "outputs": [
    {
     "output_type": "stream",
     "name": "stdout",
     "text": [
      "Requirement already satisfied: joblib in c:\\users\\mille\\anaconda3\\envs\\pythondata\\lib\\site-packages (0.16.0)\n",
      "WARNING: Ignoring invalid distribution -umpy (c:\\users\\mille\\anaconda3\\envs\\pythondata\\lib\\site-packages)\n",
      "WARNING: Ignoring invalid distribution -umpy (c:\\users\\mille\\anaconda3\\envs\\pythondata\\lib\\site-packages)\n",
      "WARNING: Ignoring invalid distribution -umpy (c:\\users\\mille\\anaconda3\\envs\\pythondata\\lib\\site-packages)\n",
      "WARNING: Ignoring invalid distribution -umpy (c:\\users\\mille\\anaconda3\\envs\\pythondata\\lib\\site-packages)\n",
      "WARNING: Ignoring invalid distribution -umpy (c:\\users\\mille\\anaconda3\\envs\\pythondata\\lib\\site-packages)\n",
      "WARNING: Ignoring invalid distribution -umpy (c:\\users\\mille\\anaconda3\\envs\\pythondata\\lib\\site-packages)\n",
      "WARNING: You are using pip version 21.1.1; however, version 21.1.2 is available.\n",
      "You should consider upgrading via the 'c:\\users\\mille\\anaconda3\\envs\\pythondata\\python.exe -m pip install --upgrade pip' command.\n"
     ]
    }
   ],
   "source": [
    "# install joblib. This will be used to save your model. \n",
    "# Restart your kernel after installing \n",
    "!pip install joblib"
   ]
  },
  {
   "cell_type": "code",
   "execution_count": 1,
   "metadata": {},
   "outputs": [],
   "source": [
    "import pandas as pd\n",
    "import matplotlib.pyplot as plt\n",
    "from sklearn.neighbors import KNeighborsClassifier"
   ]
  },
  {
   "source": [
    "## Read in the data"
   ],
   "cell_type": "markdown",
   "metadata": {}
  },
  {
   "cell_type": "code",
   "execution_count": 2,
   "metadata": {},
   "outputs": [
    {
     "output_type": "execute_result",
     "data": {
      "text/plain": [
       "   Unnamed: 0  Zip_Code  Year  Month  Sale_Price  Property_Tax  Rent_Price  \\\n",
       "0           1     32003  2019      2    270000.0          3778        1113   \n",
       "1           2     32003  2019      3    275000.0          3778        1113   \n",
       "2           3     32003  2019      4    264500.0          3778        1113   \n",
       "3           4     32003  2019      5    281000.0          3778        1113   \n",
       "4           5     32003  2019      6    275000.0          3778        1113   \n",
       "\n",
       "   Household_Income  Rent_Affordability  Total_Sales  ...  Average_Commute  \\\n",
       "0           94154.0            0.141853           41  ...               35   \n",
       "1           94154.0            0.141853           21  ...               35   \n",
       "2           94154.0            0.141853           42  ...               35   \n",
       "3           94154.0            0.141853           66  ...               35   \n",
       "4           94154.0            0.141853           43  ...               35   \n",
       "\n",
       "   Crime_Index  Loan_Amount  Loan_Term    Loan_R  Loan_Payment  \\\n",
       "0           28     216000.0      360.0  1.003642   1077.819242   \n",
       "1           28     220000.0      360.0  1.003554   1084.200547   \n",
       "2           28     211600.0      360.0  1.003452   1027.671397   \n",
       "3           28     224800.0      360.0  1.003393   1082.581718   \n",
       "4           28     220000.0      360.0  1.003169   1025.419293   \n",
       "\n",
       "   Home_Affordability  Last_Month_Price  Last_Month_Diff  Price_Change_1mo  \n",
       "0            0.137369          244950.0          25050.0                 1  \n",
       "1            0.138182          270000.0           5000.0                 1  \n",
       "2            0.130978          275000.0         -10500.0                 0  \n",
       "3            0.137976          264500.0          16500.0                 1  \n",
       "4            0.130690          281000.0          -6000.0                 0  \n",
       "\n",
       "[5 rows x 30 columns]"
      ],
      "text/html": "<div>\n<style scoped>\n    .dataframe tbody tr th:only-of-type {\n        vertical-align: middle;\n    }\n\n    .dataframe tbody tr th {\n        vertical-align: top;\n    }\n\n    .dataframe thead th {\n        text-align: right;\n    }\n</style>\n<table border=\"1\" class=\"dataframe\">\n  <thead>\n    <tr style=\"text-align: right;\">\n      <th></th>\n      <th>Unnamed: 0</th>\n      <th>Zip_Code</th>\n      <th>Year</th>\n      <th>Month</th>\n      <th>Sale_Price</th>\n      <th>Property_Tax</th>\n      <th>Rent_Price</th>\n      <th>Household_Income</th>\n      <th>Rent_Affordability</th>\n      <th>Total_Sales</th>\n      <th>...</th>\n      <th>Average_Commute</th>\n      <th>Crime_Index</th>\n      <th>Loan_Amount</th>\n      <th>Loan_Term</th>\n      <th>Loan_R</th>\n      <th>Loan_Payment</th>\n      <th>Home_Affordability</th>\n      <th>Last_Month_Price</th>\n      <th>Last_Month_Diff</th>\n      <th>Price_Change_1mo</th>\n    </tr>\n  </thead>\n  <tbody>\n    <tr>\n      <th>0</th>\n      <td>1</td>\n      <td>32003</td>\n      <td>2019</td>\n      <td>2</td>\n      <td>270000.0</td>\n      <td>3778</td>\n      <td>1113</td>\n      <td>94154.0</td>\n      <td>0.141853</td>\n      <td>41</td>\n      <td>...</td>\n      <td>35</td>\n      <td>28</td>\n      <td>216000.0</td>\n      <td>360.0</td>\n      <td>1.003642</td>\n      <td>1077.819242</td>\n      <td>0.137369</td>\n      <td>244950.0</td>\n      <td>25050.0</td>\n      <td>1</td>\n    </tr>\n    <tr>\n      <th>1</th>\n      <td>2</td>\n      <td>32003</td>\n      <td>2019</td>\n      <td>3</td>\n      <td>275000.0</td>\n      <td>3778</td>\n      <td>1113</td>\n      <td>94154.0</td>\n      <td>0.141853</td>\n      <td>21</td>\n      <td>...</td>\n      <td>35</td>\n      <td>28</td>\n      <td>220000.0</td>\n      <td>360.0</td>\n      <td>1.003554</td>\n      <td>1084.200547</td>\n      <td>0.138182</td>\n      <td>270000.0</td>\n      <td>5000.0</td>\n      <td>1</td>\n    </tr>\n    <tr>\n      <th>2</th>\n      <td>3</td>\n      <td>32003</td>\n      <td>2019</td>\n      <td>4</td>\n      <td>264500.0</td>\n      <td>3778</td>\n      <td>1113</td>\n      <td>94154.0</td>\n      <td>0.141853</td>\n      <td>42</td>\n      <td>...</td>\n      <td>35</td>\n      <td>28</td>\n      <td>211600.0</td>\n      <td>360.0</td>\n      <td>1.003452</td>\n      <td>1027.671397</td>\n      <td>0.130978</td>\n      <td>275000.0</td>\n      <td>-10500.0</td>\n      <td>0</td>\n    </tr>\n    <tr>\n      <th>3</th>\n      <td>4</td>\n      <td>32003</td>\n      <td>2019</td>\n      <td>5</td>\n      <td>281000.0</td>\n      <td>3778</td>\n      <td>1113</td>\n      <td>94154.0</td>\n      <td>0.141853</td>\n      <td>66</td>\n      <td>...</td>\n      <td>35</td>\n      <td>28</td>\n      <td>224800.0</td>\n      <td>360.0</td>\n      <td>1.003393</td>\n      <td>1082.581718</td>\n      <td>0.137976</td>\n      <td>264500.0</td>\n      <td>16500.0</td>\n      <td>1</td>\n    </tr>\n    <tr>\n      <th>4</th>\n      <td>5</td>\n      <td>32003</td>\n      <td>2019</td>\n      <td>6</td>\n      <td>275000.0</td>\n      <td>3778</td>\n      <td>1113</td>\n      <td>94154.0</td>\n      <td>0.141853</td>\n      <td>43</td>\n      <td>...</td>\n      <td>35</td>\n      <td>28</td>\n      <td>220000.0</td>\n      <td>360.0</td>\n      <td>1.003169</td>\n      <td>1025.419293</td>\n      <td>0.130690</td>\n      <td>281000.0</td>\n      <td>-6000.0</td>\n      <td>0</td>\n    </tr>\n  </tbody>\n</table>\n<p>5 rows × 30 columns</p>\n</div>"
     },
     "metadata": {},
     "execution_count": 2
    }
   ],
   "source": [
    "df = pd.read_csv(\"big_set_data.csv\")\n",
    "df.head()"
   ]
  },
  {
   "source": [
    "## Select features"
   ],
   "cell_type": "markdown",
   "metadata": {}
  },
  {
   "cell_type": "code",
   "execution_count": 3,
   "metadata": {},
   "outputs": [
    {
     "output_type": "execute_result",
     "data": {
      "text/plain": [
       "         Unnamed: 0      Zip_Code          Year         Month    Sale_Price  \\\n",
       "count  20855.000000  20855.000000  20855.000000  20855.000000  2.085500e+04   \n",
       "mean   10905.583793  33376.995876   2019.522369      6.745720  2.403817e+05   \n",
       "std     6289.144300    843.456552      0.499511      3.329097  1.454232e+05   \n",
       "min        1.000000  32003.000000   2019.000000      1.000000  2.500000e+04   \n",
       "25%     5466.000000  32699.000000   2019.000000      4.000000  1.560500e+05   \n",
       "50%    10909.000000  33327.000000   2020.000000      7.000000  2.150000e+05   \n",
       "75%    16356.500000  33952.000000   2020.000000     10.000000  2.874750e+05   \n",
       "max    21763.000000  34997.000000   2020.000000     12.000000  4.700000e+06   \n",
       "\n",
       "       Property_Tax    Rent_Price  Household_Income  Rent_Affordability  \\\n",
       "count  20855.000000  20855.000000      20855.000000        20855.000000   \n",
       "mean    2954.421961   1207.070631      58603.951858            0.269328   \n",
       "std     2198.004325    227.047691      20077.467222            0.093885   \n",
       "min      345.000000    734.000000      13375.000000            0.109051   \n",
       "25%     1643.000000   1050.000000      44577.000000            0.209436   \n",
       "50%     2449.000000   1271.000000      54362.000000            0.250272   \n",
       "75%     3565.000000   1321.000000      68929.000000            0.309503   \n",
       "max    31044.000000   1744.000000     170673.000000            0.955343   \n",
       "\n",
       "        Total_Sales  ...  Average_Commute   Crime_Index   Loan_Amount  \\\n",
       "count  20855.000000  ...     20855.000000  20855.000000  2.085500e+04   \n",
       "mean      43.719731  ...        25.944618    271.290770  1.923054e+05   \n",
       "std       34.209730  ...         4.811509    309.238619  1.163386e+05   \n",
       "min        1.000000  ...         7.000000      5.000000  2.000000e+04   \n",
       "25%       16.000000  ...        22.000000    105.000000  1.248400e+05   \n",
       "50%       38.000000  ...        25.000000    174.000000  1.720000e+05   \n",
       "75%       63.000000  ...        29.000000    309.000000  2.299800e+05   \n",
       "max      365.000000  ...        58.000000   2888.000000  3.760000e+06   \n",
       "\n",
       "       Loan_Term        Loan_R  Loan_Payment  Home_Affordability  \\\n",
       "count    20855.0  20855.000000  20855.000000        20855.000000   \n",
       "mean       360.0      1.002901    859.357310            0.174372   \n",
       "std          0.0      0.000396    519.712721            0.078871   \n",
       "min        360.0      1.002237     83.621306            0.012912   \n",
       "25%        360.0      1.002513    561.087047            0.134708   \n",
       "50%        360.0      1.003004    769.349300            0.161944   \n",
       "75%        360.0      1.003138   1025.419293            0.195395   \n",
       "max        360.0      1.003720  18529.972980            2.600698   \n",
       "\n",
       "       Last_Month_Price  Last_Month_Diff  Price_Change_1mo  \n",
       "count      2.085500e+04     2.085500e+04      20855.000000  \n",
       "mean       2.377437e+05     2.638005e+03          0.507648  \n",
       "std        1.439671e+05     7.972409e+04          0.499953  \n",
       "min        2.500000e+04    -4.100000e+06          0.000000  \n",
       "25%        1.549000e+05    -1.800000e+04          0.000000  \n",
       "50%        2.130000e+05     9.430000e+02          1.000000  \n",
       "75%        2.850000e+05     2.295000e+04          1.000000  \n",
       "max        4.700000e+06     3.195000e+06          1.000000  \n",
       "\n",
       "[8 rows x 30 columns]"
      ],
      "text/html": "<div>\n<style scoped>\n    .dataframe tbody tr th:only-of-type {\n        vertical-align: middle;\n    }\n\n    .dataframe tbody tr th {\n        vertical-align: top;\n    }\n\n    .dataframe thead th {\n        text-align: right;\n    }\n</style>\n<table border=\"1\" class=\"dataframe\">\n  <thead>\n    <tr style=\"text-align: right;\">\n      <th></th>\n      <th>Unnamed: 0</th>\n      <th>Zip_Code</th>\n      <th>Year</th>\n      <th>Month</th>\n      <th>Sale_Price</th>\n      <th>Property_Tax</th>\n      <th>Rent_Price</th>\n      <th>Household_Income</th>\n      <th>Rent_Affordability</th>\n      <th>Total_Sales</th>\n      <th>...</th>\n      <th>Average_Commute</th>\n      <th>Crime_Index</th>\n      <th>Loan_Amount</th>\n      <th>Loan_Term</th>\n      <th>Loan_R</th>\n      <th>Loan_Payment</th>\n      <th>Home_Affordability</th>\n      <th>Last_Month_Price</th>\n      <th>Last_Month_Diff</th>\n      <th>Price_Change_1mo</th>\n    </tr>\n  </thead>\n  <tbody>\n    <tr>\n      <th>count</th>\n      <td>20855.000000</td>\n      <td>20855.000000</td>\n      <td>20855.000000</td>\n      <td>20855.000000</td>\n      <td>2.085500e+04</td>\n      <td>20855.000000</td>\n      <td>20855.000000</td>\n      <td>20855.000000</td>\n      <td>20855.000000</td>\n      <td>20855.000000</td>\n      <td>...</td>\n      <td>20855.000000</td>\n      <td>20855.000000</td>\n      <td>2.085500e+04</td>\n      <td>20855.0</td>\n      <td>20855.000000</td>\n      <td>20855.000000</td>\n      <td>20855.000000</td>\n      <td>2.085500e+04</td>\n      <td>2.085500e+04</td>\n      <td>20855.000000</td>\n    </tr>\n    <tr>\n      <th>mean</th>\n      <td>10905.583793</td>\n      <td>33376.995876</td>\n      <td>2019.522369</td>\n      <td>6.745720</td>\n      <td>2.403817e+05</td>\n      <td>2954.421961</td>\n      <td>1207.070631</td>\n      <td>58603.951858</td>\n      <td>0.269328</td>\n      <td>43.719731</td>\n      <td>...</td>\n      <td>25.944618</td>\n      <td>271.290770</td>\n      <td>1.923054e+05</td>\n      <td>360.0</td>\n      <td>1.002901</td>\n      <td>859.357310</td>\n      <td>0.174372</td>\n      <td>2.377437e+05</td>\n      <td>2.638005e+03</td>\n      <td>0.507648</td>\n    </tr>\n    <tr>\n      <th>std</th>\n      <td>6289.144300</td>\n      <td>843.456552</td>\n      <td>0.499511</td>\n      <td>3.329097</td>\n      <td>1.454232e+05</td>\n      <td>2198.004325</td>\n      <td>227.047691</td>\n      <td>20077.467222</td>\n      <td>0.093885</td>\n      <td>34.209730</td>\n      <td>...</td>\n      <td>4.811509</td>\n      <td>309.238619</td>\n      <td>1.163386e+05</td>\n      <td>0.0</td>\n      <td>0.000396</td>\n      <td>519.712721</td>\n      <td>0.078871</td>\n      <td>1.439671e+05</td>\n      <td>7.972409e+04</td>\n      <td>0.499953</td>\n    </tr>\n    <tr>\n      <th>min</th>\n      <td>1.000000</td>\n      <td>32003.000000</td>\n      <td>2019.000000</td>\n      <td>1.000000</td>\n      <td>2.500000e+04</td>\n      <td>345.000000</td>\n      <td>734.000000</td>\n      <td>13375.000000</td>\n      <td>0.109051</td>\n      <td>1.000000</td>\n      <td>...</td>\n      <td>7.000000</td>\n      <td>5.000000</td>\n      <td>2.000000e+04</td>\n      <td>360.0</td>\n      <td>1.002237</td>\n      <td>83.621306</td>\n      <td>0.012912</td>\n      <td>2.500000e+04</td>\n      <td>-4.100000e+06</td>\n      <td>0.000000</td>\n    </tr>\n    <tr>\n      <th>25%</th>\n      <td>5466.000000</td>\n      <td>32699.000000</td>\n      <td>2019.000000</td>\n      <td>4.000000</td>\n      <td>1.560500e+05</td>\n      <td>1643.000000</td>\n      <td>1050.000000</td>\n      <td>44577.000000</td>\n      <td>0.209436</td>\n      <td>16.000000</td>\n      <td>...</td>\n      <td>22.000000</td>\n      <td>105.000000</td>\n      <td>1.248400e+05</td>\n      <td>360.0</td>\n      <td>1.002513</td>\n      <td>561.087047</td>\n      <td>0.134708</td>\n      <td>1.549000e+05</td>\n      <td>-1.800000e+04</td>\n      <td>0.000000</td>\n    </tr>\n    <tr>\n      <th>50%</th>\n      <td>10909.000000</td>\n      <td>33327.000000</td>\n      <td>2020.000000</td>\n      <td>7.000000</td>\n      <td>2.150000e+05</td>\n      <td>2449.000000</td>\n      <td>1271.000000</td>\n      <td>54362.000000</td>\n      <td>0.250272</td>\n      <td>38.000000</td>\n      <td>...</td>\n      <td>25.000000</td>\n      <td>174.000000</td>\n      <td>1.720000e+05</td>\n      <td>360.0</td>\n      <td>1.003004</td>\n      <td>769.349300</td>\n      <td>0.161944</td>\n      <td>2.130000e+05</td>\n      <td>9.430000e+02</td>\n      <td>1.000000</td>\n    </tr>\n    <tr>\n      <th>75%</th>\n      <td>16356.500000</td>\n      <td>33952.000000</td>\n      <td>2020.000000</td>\n      <td>10.000000</td>\n      <td>2.874750e+05</td>\n      <td>3565.000000</td>\n      <td>1321.000000</td>\n      <td>68929.000000</td>\n      <td>0.309503</td>\n      <td>63.000000</td>\n      <td>...</td>\n      <td>29.000000</td>\n      <td>309.000000</td>\n      <td>2.299800e+05</td>\n      <td>360.0</td>\n      <td>1.003138</td>\n      <td>1025.419293</td>\n      <td>0.195395</td>\n      <td>2.850000e+05</td>\n      <td>2.295000e+04</td>\n      <td>1.000000</td>\n    </tr>\n    <tr>\n      <th>max</th>\n      <td>21763.000000</td>\n      <td>34997.000000</td>\n      <td>2020.000000</td>\n      <td>12.000000</td>\n      <td>4.700000e+06</td>\n      <td>31044.000000</td>\n      <td>1744.000000</td>\n      <td>170673.000000</td>\n      <td>0.955343</td>\n      <td>365.000000</td>\n      <td>...</td>\n      <td>58.000000</td>\n      <td>2888.000000</td>\n      <td>3.760000e+06</td>\n      <td>360.0</td>\n      <td>1.003720</td>\n      <td>18529.972980</td>\n      <td>2.600698</td>\n      <td>4.700000e+06</td>\n      <td>3.195000e+06</td>\n      <td>1.000000</td>\n    </tr>\n  </tbody>\n</table>\n<p>8 rows × 30 columns</p>\n</div>"
     },
     "metadata": {},
     "execution_count": 3
    }
   ],
   "source": [
    "df.describe()"
   ]
  },
  {
   "cell_type": "code",
   "execution_count": 4,
   "metadata": {},
   "outputs": [
    {
     "output_type": "execute_result",
     "data": {
      "text/plain": [
       "   Zip_Code  Year  Month  Sale_Price  Property_Tax  Rent_Price  \\\n",
       "0     32003  2019      2    270000.0          3778        1113   \n",
       "1     32003  2019      3    275000.0          3778        1113   \n",
       "2     32003  2019      4    264500.0          3778        1113   \n",
       "3     32003  2019      5    281000.0          3778        1113   \n",
       "4     32003  2019      6    275000.0          3778        1113   \n",
       "\n",
       "   Household_Income  Rent_Affordability  Total_Sales  FHA_Count  ...  \\\n",
       "0           94154.0            0.141853           41          2  ...   \n",
       "1           94154.0            0.141853           21          7  ...   \n",
       "2           94154.0            0.141853           42          3  ...   \n",
       "3           94154.0            0.141853           66          8  ...   \n",
       "4           94154.0            0.141853           43          3  ...   \n",
       "\n",
       "   FTE_Employed  Unemployed  Expense_Index  Average_Commute  Crime_Index  \\\n",
       "0         10671        1069            104               35           28   \n",
       "1         10671        1069            104               35           28   \n",
       "2         10671        1069            104               35           28   \n",
       "3         10671        1069            104               35           28   \n",
       "4         10671        1069            104               35           28   \n",
       "\n",
       "   Loan_Amount  Loan_Term    Loan_R  Loan_Payment  Home_Affordability  \n",
       "0     216000.0      360.0  1.003642   1077.819242            0.137369  \n",
       "1     220000.0      360.0  1.003554   1084.200547            0.138182  \n",
       "2     211600.0      360.0  1.003452   1027.671397            0.130978  \n",
       "3     224800.0      360.0  1.003393   1082.581718            0.137976  \n",
       "4     220000.0      360.0  1.003169   1025.419293            0.130690  \n",
       "\n",
       "[5 rows x 26 columns]"
      ],
      "text/html": "<div>\n<style scoped>\n    .dataframe tbody tr th:only-of-type {\n        vertical-align: middle;\n    }\n\n    .dataframe tbody tr th {\n        vertical-align: top;\n    }\n\n    .dataframe thead th {\n        text-align: right;\n    }\n</style>\n<table border=\"1\" class=\"dataframe\">\n  <thead>\n    <tr style=\"text-align: right;\">\n      <th></th>\n      <th>Zip_Code</th>\n      <th>Year</th>\n      <th>Month</th>\n      <th>Sale_Price</th>\n      <th>Property_Tax</th>\n      <th>Rent_Price</th>\n      <th>Household_Income</th>\n      <th>Rent_Affordability</th>\n      <th>Total_Sales</th>\n      <th>FHA_Count</th>\n      <th>...</th>\n      <th>FTE_Employed</th>\n      <th>Unemployed</th>\n      <th>Expense_Index</th>\n      <th>Average_Commute</th>\n      <th>Crime_Index</th>\n      <th>Loan_Amount</th>\n      <th>Loan_Term</th>\n      <th>Loan_R</th>\n      <th>Loan_Payment</th>\n      <th>Home_Affordability</th>\n    </tr>\n  </thead>\n  <tbody>\n    <tr>\n      <th>0</th>\n      <td>32003</td>\n      <td>2019</td>\n      <td>2</td>\n      <td>270000.0</td>\n      <td>3778</td>\n      <td>1113</td>\n      <td>94154.0</td>\n      <td>0.141853</td>\n      <td>41</td>\n      <td>2</td>\n      <td>...</td>\n      <td>10671</td>\n      <td>1069</td>\n      <td>104</td>\n      <td>35</td>\n      <td>28</td>\n      <td>216000.0</td>\n      <td>360.0</td>\n      <td>1.003642</td>\n      <td>1077.819242</td>\n      <td>0.137369</td>\n    </tr>\n    <tr>\n      <th>1</th>\n      <td>32003</td>\n      <td>2019</td>\n      <td>3</td>\n      <td>275000.0</td>\n      <td>3778</td>\n      <td>1113</td>\n      <td>94154.0</td>\n      <td>0.141853</td>\n      <td>21</td>\n      <td>7</td>\n      <td>...</td>\n      <td>10671</td>\n      <td>1069</td>\n      <td>104</td>\n      <td>35</td>\n      <td>28</td>\n      <td>220000.0</td>\n      <td>360.0</td>\n      <td>1.003554</td>\n      <td>1084.200547</td>\n      <td>0.138182</td>\n    </tr>\n    <tr>\n      <th>2</th>\n      <td>32003</td>\n      <td>2019</td>\n      <td>4</td>\n      <td>264500.0</td>\n      <td>3778</td>\n      <td>1113</td>\n      <td>94154.0</td>\n      <td>0.141853</td>\n      <td>42</td>\n      <td>3</td>\n      <td>...</td>\n      <td>10671</td>\n      <td>1069</td>\n      <td>104</td>\n      <td>35</td>\n      <td>28</td>\n      <td>211600.0</td>\n      <td>360.0</td>\n      <td>1.003452</td>\n      <td>1027.671397</td>\n      <td>0.130978</td>\n    </tr>\n    <tr>\n      <th>3</th>\n      <td>32003</td>\n      <td>2019</td>\n      <td>5</td>\n      <td>281000.0</td>\n      <td>3778</td>\n      <td>1113</td>\n      <td>94154.0</td>\n      <td>0.141853</td>\n      <td>66</td>\n      <td>8</td>\n      <td>...</td>\n      <td>10671</td>\n      <td>1069</td>\n      <td>104</td>\n      <td>35</td>\n      <td>28</td>\n      <td>224800.0</td>\n      <td>360.0</td>\n      <td>1.003393</td>\n      <td>1082.581718</td>\n      <td>0.137976</td>\n    </tr>\n    <tr>\n      <th>4</th>\n      <td>32003</td>\n      <td>2019</td>\n      <td>6</td>\n      <td>275000.0</td>\n      <td>3778</td>\n      <td>1113</td>\n      <td>94154.0</td>\n      <td>0.141853</td>\n      <td>43</td>\n      <td>3</td>\n      <td>...</td>\n      <td>10671</td>\n      <td>1069</td>\n      <td>104</td>\n      <td>35</td>\n      <td>28</td>\n      <td>220000.0</td>\n      <td>360.0</td>\n      <td>1.003169</td>\n      <td>1025.419293</td>\n      <td>0.130690</td>\n    </tr>\n  </tbody>\n</table>\n<p>5 rows × 26 columns</p>\n</div>"
     },
     "metadata": {},
     "execution_count": 4
    }
   ],
   "source": [
    "# Set features. \n",
    "X = df.drop([\"Last_Month_Price\", \"Last_Month_Diff\", \"Price_Change_1mo\", \"Unnamed: 0\"], axis = 1)\n",
    "X.head()"
   ]
  },
  {
   "cell_type": "code",
   "execution_count": 5,
   "metadata": {},
   "outputs": [],
   "source": [
    "#Set Y values as categorical\n",
    "y=pd.get_dummies(df[\"Price_Change_1mo\"])\n",
    "y\n",
    "target_names = [\"COOL MONTH\", \"HOT MONTH\"]"
   ]
  },
  {
   "cell_type": "code",
   "execution_count": 6,
   "metadata": {},
   "outputs": [
    {
     "output_type": "stream",
     "name": "stdout",
     "text": [
      "(20855, 26) (20855, 2)\n"
     ]
    }
   ],
   "source": [
    "#Check shapes to make sure they align. y.shape \n",
    "print(X.shape, y.shape)"
   ]
  },
  {
   "cell_type": "code",
   "execution_count": null,
   "metadata": {},
   "outputs": [],
   "source": [
    "# Create a Train Test Split\n",
    "\n",
    "# PROPER COLUMN NAME FOR for the y values -- CREATE A 'BUY' COLUMN BASED ON ABOVE CATEGORIZATION\n",
    "\n",
    "from sklearn.model_selection import train_test_split\n",
    "X_train, X_test, y_train, y_test = train_test_split(X, y.BUYCOLUMN) #IF Y WAS 2 COLS, ELSE, JUST Y"
   ]
  },
  {
   "cell_type": "code",
   "execution_count": 7,
   "metadata": {},
   "outputs": [
    {
     "output_type": "execute_result",
     "data": {
      "text/plain": [
       "   0  1\n",
       "0  0  1\n",
       "1  0  1\n",
       "2  1  0\n",
       "3  0  1\n",
       "4  1  0"
      ],
      "text/html": "<div>\n<style scoped>\n    .dataframe tbody tr th:only-of-type {\n        vertical-align: middle;\n    }\n\n    .dataframe tbody tr th {\n        vertical-align: top;\n    }\n\n    .dataframe thead th {\n        text-align: right;\n    }\n</style>\n<table border=\"1\" class=\"dataframe\">\n  <thead>\n    <tr style=\"text-align: right;\">\n      <th></th>\n      <th>0</th>\n      <th>1</th>\n    </tr>\n  </thead>\n  <tbody>\n    <tr>\n      <th>0</th>\n      <td>0</td>\n      <td>1</td>\n    </tr>\n    <tr>\n      <th>1</th>\n      <td>0</td>\n      <td>1</td>\n    </tr>\n    <tr>\n      <th>2</th>\n      <td>1</td>\n      <td>0</td>\n    </tr>\n    <tr>\n      <th>3</th>\n      <td>0</td>\n      <td>1</td>\n    </tr>\n    <tr>\n      <th>4</th>\n      <td>1</td>\n      <td>0</td>\n    </tr>\n  </tbody>\n</table>\n</div>"
     },
     "metadata": {},
     "execution_count": 7
    }
   ],
   "source": [
    "y.head()"
   ]
  },
  {
   "cell_type": "code",
   "execution_count": null,
   "metadata": {},
   "outputs": [],
   "source": [
    "#Check training X set\n",
    "X_train.head()"
   ]
  },
  {
   "source": [
    "## Pre-processing\n"
   ],
   "cell_type": "markdown",
   "metadata": {}
  },
  {
   "cell_type": "code",
   "execution_count": 11,
   "metadata": {},
   "outputs": [],
   "source": [
    "# Scale the data\n",
    "from sklearn.model_selection import train_test_split\n",
    "from numpy import asarray\n",
    "from sklearn.preprocessing import MinMaxScaler\n",
    "X_train, X_test, y_train, y_test = train_test_split(X, y[1]) #IF Y WAS 2 COLS, ELSE, JUST Y"
   ]
  },
  {
   "cell_type": "code",
   "execution_count": 12,
   "metadata": {},
   "outputs": [],
   "source": [
    "X_scaler = MinMaxScaler().fit(X_train)\n",
    "X_train_scaled = X_scaler.transform(X_train)\n",
    "X_test_scaled = X_scaler.transform(X_test)"
   ]
  },
  {
   "cell_type": "code",
   "execution_count": 13,
   "metadata": {},
   "outputs": [
    {
     "output_type": "stream",
     "name": "stdout",
     "text": [
      "k: 1, Train/Test Score: 0.985/0.399\n",
      "k: 3, Train/Test Score: 0.677/0.429\n",
      "k: 5, Train/Test Score: 0.657/0.452\n",
      "k: 7, Train/Test Score: 0.643/0.473\n",
      "k: 9, Train/Test Score: 0.630/0.483\n",
      "k: 11, Train/Test Score: 0.624/0.497\n",
      "k: 13, Train/Test Score: 0.617/0.503\n",
      "k: 15, Train/Test Score: 0.610/0.511\n",
      "k: 17, Train/Test Score: 0.606/0.516\n",
      "k: 19, Train/Test Score: 0.604/0.512\n"
     ]
    },
    {
     "output_type": "display_data",
     "data": {
      "text/plain": "<Figure size 432x288 with 1 Axes>",
      "image/svg+xml": "<?xml version=\"1.0\" encoding=\"utf-8\" standalone=\"no\"?>\r\n<!DOCTYPE svg PUBLIC \"-//W3C//DTD SVG 1.1//EN\"\r\n  \"http://www.w3.org/Graphics/SVG/1.1/DTD/svg11.dtd\">\r\n<!-- Created with matplotlib (https://matplotlib.org/) -->\r\n<svg height=\"262.19625pt\" version=\"1.1\" viewBox=\"0 0 385.78125 262.19625\" width=\"385.78125pt\" xmlns=\"http://www.w3.org/2000/svg\" xmlns:xlink=\"http://www.w3.org/1999/xlink\">\r\n <defs>\r\n  <style type=\"text/css\">\r\n*{stroke-linecap:butt;stroke-linejoin:round;}\r\n  </style>\r\n </defs>\r\n <g id=\"figure_1\">\r\n  <g id=\"patch_1\">\r\n   <path d=\"M 0 262.19625 \r\nL 385.78125 262.19625 \r\nL 385.78125 0 \r\nL 0 0 \r\nz\r\n\" style=\"fill:none;\"/>\r\n  </g>\r\n  <g id=\"axes_1\">\r\n   <g id=\"patch_2\">\r\n    <path d=\"M 43.78125 224.64 \r\nL 378.58125 224.64 \r\nL 378.58125 7.2 \r\nL 43.78125 7.2 \r\nz\r\n\" style=\"fill:#ffffff;\"/>\r\n   </g>\r\n   <g id=\"matplotlib.axis_1\">\r\n    <g id=\"xtick_1\">\r\n     <g id=\"line2d_1\">\r\n      <defs>\r\n       <path d=\"M 0 0 \r\nL 0 3.5 \r\n\" id=\"mafcea7a240\" style=\"stroke:#000000;stroke-width:0.8;\"/>\r\n      </defs>\r\n      <g>\r\n       <use style=\"stroke:#000000;stroke-width:0.8;\" x=\"84.363068\" xlink:href=\"#mafcea7a240\" y=\"224.64\"/>\r\n      </g>\r\n     </g>\r\n     <g id=\"text_1\">\r\n      <!-- 2.5 -->\r\n      <defs>\r\n       <path d=\"M 19.1875 8.296875 \r\nL 53.609375 8.296875 \r\nL 53.609375 0 \r\nL 7.328125 0 \r\nL 7.328125 8.296875 \r\nQ 12.9375 14.109375 22.625 23.890625 \r\nQ 32.328125 33.6875 34.8125 36.53125 \r\nQ 39.546875 41.84375 41.421875 45.53125 \r\nQ 43.3125 49.21875 43.3125 52.78125 \r\nQ 43.3125 58.59375 39.234375 62.25 \r\nQ 35.15625 65.921875 28.609375 65.921875 \r\nQ 23.96875 65.921875 18.8125 64.3125 \r\nQ 13.671875 62.703125 7.8125 59.421875 \r\nL 7.8125 69.390625 \r\nQ 13.765625 71.78125 18.9375 73 \r\nQ 24.125 74.21875 28.421875 74.21875 \r\nQ 39.75 74.21875 46.484375 68.546875 \r\nQ 53.21875 62.890625 53.21875 53.421875 \r\nQ 53.21875 48.921875 51.53125 44.890625 \r\nQ 49.859375 40.875 45.40625 35.40625 \r\nQ 44.1875 33.984375 37.640625 27.21875 \r\nQ 31.109375 20.453125 19.1875 8.296875 \r\nz\r\n\" id=\"DejaVuSans-50\"/>\r\n       <path d=\"M 10.6875 12.40625 \r\nL 21 12.40625 \r\nL 21 0 \r\nL 10.6875 0 \r\nz\r\n\" id=\"DejaVuSans-46\"/>\r\n       <path d=\"M 10.796875 72.90625 \r\nL 49.515625 72.90625 \r\nL 49.515625 64.59375 \r\nL 19.828125 64.59375 \r\nL 19.828125 46.734375 \r\nQ 21.96875 47.46875 24.109375 47.828125 \r\nQ 26.265625 48.1875 28.421875 48.1875 \r\nQ 40.625 48.1875 47.75 41.5 \r\nQ 54.890625 34.8125 54.890625 23.390625 \r\nQ 54.890625 11.625 47.5625 5.09375 \r\nQ 40.234375 -1.421875 26.90625 -1.421875 \r\nQ 22.3125 -1.421875 17.546875 -0.640625 \r\nQ 12.796875 0.140625 7.71875 1.703125 \r\nL 7.71875 11.625 \r\nQ 12.109375 9.234375 16.796875 8.0625 \r\nQ 21.484375 6.890625 26.703125 6.890625 \r\nQ 35.15625 6.890625 40.078125 11.328125 \r\nQ 45.015625 15.765625 45.015625 23.390625 \r\nQ 45.015625 31 40.078125 35.4375 \r\nQ 35.15625 39.890625 26.703125 39.890625 \r\nQ 22.75 39.890625 18.8125 39.015625 \r\nQ 14.890625 38.140625 10.796875 36.28125 \r\nz\r\n\" id=\"DejaVuSans-53\"/>\r\n      </defs>\r\n      <g transform=\"translate(76.411506 239.238438)scale(0.1 -0.1)\">\r\n       <use xlink:href=\"#DejaVuSans-50\"/>\r\n       <use x=\"63.623047\" xlink:href=\"#DejaVuSans-46\"/>\r\n       <use x=\"95.410156\" xlink:href=\"#DejaVuSans-53\"/>\r\n      </g>\r\n     </g>\r\n    </g>\r\n    <g id=\"xtick_2\">\r\n     <g id=\"line2d_2\">\r\n      <g>\r\n       <use style=\"stroke:#000000;stroke-width:0.8;\" x=\"126.635795\" xlink:href=\"#mafcea7a240\" y=\"224.64\"/>\r\n      </g>\r\n     </g>\r\n     <g id=\"text_2\">\r\n      <!-- 5.0 -->\r\n      <defs>\r\n       <path d=\"M 31.78125 66.40625 \r\nQ 24.171875 66.40625 20.328125 58.90625 \r\nQ 16.5 51.421875 16.5 36.375 \r\nQ 16.5 21.390625 20.328125 13.890625 \r\nQ 24.171875 6.390625 31.78125 6.390625 \r\nQ 39.453125 6.390625 43.28125 13.890625 \r\nQ 47.125 21.390625 47.125 36.375 \r\nQ 47.125 51.421875 43.28125 58.90625 \r\nQ 39.453125 66.40625 31.78125 66.40625 \r\nz\r\nM 31.78125 74.21875 \r\nQ 44.046875 74.21875 50.515625 64.515625 \r\nQ 56.984375 54.828125 56.984375 36.375 \r\nQ 56.984375 17.96875 50.515625 8.265625 \r\nQ 44.046875 -1.421875 31.78125 -1.421875 \r\nQ 19.53125 -1.421875 13.0625 8.265625 \r\nQ 6.59375 17.96875 6.59375 36.375 \r\nQ 6.59375 54.828125 13.0625 64.515625 \r\nQ 19.53125 74.21875 31.78125 74.21875 \r\nz\r\n\" id=\"DejaVuSans-48\"/>\r\n      </defs>\r\n      <g transform=\"translate(118.684233 239.238438)scale(0.1 -0.1)\">\r\n       <use xlink:href=\"#DejaVuSans-53\"/>\r\n       <use x=\"63.623047\" xlink:href=\"#DejaVuSans-46\"/>\r\n       <use x=\"95.410156\" xlink:href=\"#DejaVuSans-48\"/>\r\n      </g>\r\n     </g>\r\n    </g>\r\n    <g id=\"xtick_3\">\r\n     <g id=\"line2d_3\">\r\n      <g>\r\n       <use style=\"stroke:#000000;stroke-width:0.8;\" x=\"168.908523\" xlink:href=\"#mafcea7a240\" y=\"224.64\"/>\r\n      </g>\r\n     </g>\r\n     <g id=\"text_3\">\r\n      <!-- 7.5 -->\r\n      <defs>\r\n       <path d=\"M 8.203125 72.90625 \r\nL 55.078125 72.90625 \r\nL 55.078125 68.703125 \r\nL 28.609375 0 \r\nL 18.3125 0 \r\nL 43.21875 64.59375 \r\nL 8.203125 64.59375 \r\nz\r\n\" id=\"DejaVuSans-55\"/>\r\n      </defs>\r\n      <g transform=\"translate(160.95696 239.238438)scale(0.1 -0.1)\">\r\n       <use xlink:href=\"#DejaVuSans-55\"/>\r\n       <use x=\"63.623047\" xlink:href=\"#DejaVuSans-46\"/>\r\n       <use x=\"95.410156\" xlink:href=\"#DejaVuSans-53\"/>\r\n      </g>\r\n     </g>\r\n    </g>\r\n    <g id=\"xtick_4\">\r\n     <g id=\"line2d_4\">\r\n      <g>\r\n       <use style=\"stroke:#000000;stroke-width:0.8;\" x=\"211.18125\" xlink:href=\"#mafcea7a240\" y=\"224.64\"/>\r\n      </g>\r\n     </g>\r\n     <g id=\"text_4\">\r\n      <!-- 10.0 -->\r\n      <defs>\r\n       <path d=\"M 12.40625 8.296875 \r\nL 28.515625 8.296875 \r\nL 28.515625 63.921875 \r\nL 10.984375 60.40625 \r\nL 10.984375 69.390625 \r\nL 28.421875 72.90625 \r\nL 38.28125 72.90625 \r\nL 38.28125 8.296875 \r\nL 54.390625 8.296875 \r\nL 54.390625 0 \r\nL 12.40625 0 \r\nz\r\n\" id=\"DejaVuSans-49\"/>\r\n      </defs>\r\n      <g transform=\"translate(200.048438 239.238438)scale(0.1 -0.1)\">\r\n       <use xlink:href=\"#DejaVuSans-49\"/>\r\n       <use x=\"63.623047\" xlink:href=\"#DejaVuSans-48\"/>\r\n       <use x=\"127.246094\" xlink:href=\"#DejaVuSans-46\"/>\r\n       <use x=\"159.033203\" xlink:href=\"#DejaVuSans-48\"/>\r\n      </g>\r\n     </g>\r\n    </g>\r\n    <g id=\"xtick_5\">\r\n     <g id=\"line2d_5\">\r\n      <g>\r\n       <use style=\"stroke:#000000;stroke-width:0.8;\" x=\"253.453977\" xlink:href=\"#mafcea7a240\" y=\"224.64\"/>\r\n      </g>\r\n     </g>\r\n     <g id=\"text_5\">\r\n      <!-- 12.5 -->\r\n      <g transform=\"translate(242.321165 239.238438)scale(0.1 -0.1)\">\r\n       <use xlink:href=\"#DejaVuSans-49\"/>\r\n       <use x=\"63.623047\" xlink:href=\"#DejaVuSans-50\"/>\r\n       <use x=\"127.246094\" xlink:href=\"#DejaVuSans-46\"/>\r\n       <use x=\"159.033203\" xlink:href=\"#DejaVuSans-53\"/>\r\n      </g>\r\n     </g>\r\n    </g>\r\n    <g id=\"xtick_6\">\r\n     <g id=\"line2d_6\">\r\n      <g>\r\n       <use style=\"stroke:#000000;stroke-width:0.8;\" x=\"295.726705\" xlink:href=\"#mafcea7a240\" y=\"224.64\"/>\r\n      </g>\r\n     </g>\r\n     <g id=\"text_6\">\r\n      <!-- 15.0 -->\r\n      <g transform=\"translate(284.593892 239.238438)scale(0.1 -0.1)\">\r\n       <use xlink:href=\"#DejaVuSans-49\"/>\r\n       <use x=\"63.623047\" xlink:href=\"#DejaVuSans-53\"/>\r\n       <use x=\"127.246094\" xlink:href=\"#DejaVuSans-46\"/>\r\n       <use x=\"159.033203\" xlink:href=\"#DejaVuSans-48\"/>\r\n      </g>\r\n     </g>\r\n    </g>\r\n    <g id=\"xtick_7\">\r\n     <g id=\"line2d_7\">\r\n      <g>\r\n       <use style=\"stroke:#000000;stroke-width:0.8;\" x=\"337.999432\" xlink:href=\"#mafcea7a240\" y=\"224.64\"/>\r\n      </g>\r\n     </g>\r\n     <g id=\"text_7\">\r\n      <!-- 17.5 -->\r\n      <g transform=\"translate(326.866619 239.238438)scale(0.1 -0.1)\">\r\n       <use xlink:href=\"#DejaVuSans-49\"/>\r\n       <use x=\"63.623047\" xlink:href=\"#DejaVuSans-55\"/>\r\n       <use x=\"127.246094\" xlink:href=\"#DejaVuSans-46\"/>\r\n       <use x=\"159.033203\" xlink:href=\"#DejaVuSans-53\"/>\r\n      </g>\r\n     </g>\r\n    </g>\r\n    <g id=\"text_8\">\r\n     <!-- k neighbors -->\r\n     <defs>\r\n      <path d=\"M 9.078125 75.984375 \r\nL 18.109375 75.984375 \r\nL 18.109375 31.109375 \r\nL 44.921875 54.6875 \r\nL 56.390625 54.6875 \r\nL 27.390625 29.109375 \r\nL 57.625 0 \r\nL 45.90625 0 \r\nL 18.109375 26.703125 \r\nL 18.109375 0 \r\nL 9.078125 0 \r\nz\r\n\" id=\"DejaVuSans-107\"/>\r\n      <path id=\"DejaVuSans-32\"/>\r\n      <path d=\"M 54.890625 33.015625 \r\nL 54.890625 0 \r\nL 45.90625 0 \r\nL 45.90625 32.71875 \r\nQ 45.90625 40.484375 42.875 44.328125 \r\nQ 39.84375 48.1875 33.796875 48.1875 \r\nQ 26.515625 48.1875 22.3125 43.546875 \r\nQ 18.109375 38.921875 18.109375 30.90625 \r\nL 18.109375 0 \r\nL 9.078125 0 \r\nL 9.078125 54.6875 \r\nL 18.109375 54.6875 \r\nL 18.109375 46.1875 \r\nQ 21.34375 51.125 25.703125 53.5625 \r\nQ 30.078125 56 35.796875 56 \r\nQ 45.21875 56 50.046875 50.171875 \r\nQ 54.890625 44.34375 54.890625 33.015625 \r\nz\r\n\" id=\"DejaVuSans-110\"/>\r\n      <path d=\"M 56.203125 29.59375 \r\nL 56.203125 25.203125 \r\nL 14.890625 25.203125 \r\nQ 15.484375 15.921875 20.484375 11.0625 \r\nQ 25.484375 6.203125 34.421875 6.203125 \r\nQ 39.59375 6.203125 44.453125 7.46875 \r\nQ 49.3125 8.734375 54.109375 11.28125 \r\nL 54.109375 2.78125 \r\nQ 49.265625 0.734375 44.1875 -0.34375 \r\nQ 39.109375 -1.421875 33.890625 -1.421875 \r\nQ 20.796875 -1.421875 13.15625 6.1875 \r\nQ 5.515625 13.8125 5.515625 26.8125 \r\nQ 5.515625 40.234375 12.765625 48.109375 \r\nQ 20.015625 56 32.328125 56 \r\nQ 43.359375 56 49.78125 48.890625 \r\nQ 56.203125 41.796875 56.203125 29.59375 \r\nz\r\nM 47.21875 32.234375 \r\nQ 47.125 39.59375 43.09375 43.984375 \r\nQ 39.0625 48.390625 32.421875 48.390625 \r\nQ 24.90625 48.390625 20.390625 44.140625 \r\nQ 15.875 39.890625 15.1875 32.171875 \r\nz\r\n\" id=\"DejaVuSans-101\"/>\r\n      <path d=\"M 9.421875 54.6875 \r\nL 18.40625 54.6875 \r\nL 18.40625 0 \r\nL 9.421875 0 \r\nz\r\nM 9.421875 75.984375 \r\nL 18.40625 75.984375 \r\nL 18.40625 64.59375 \r\nL 9.421875 64.59375 \r\nz\r\n\" id=\"DejaVuSans-105\"/>\r\n      <path d=\"M 45.40625 27.984375 \r\nQ 45.40625 37.75 41.375 43.109375 \r\nQ 37.359375 48.484375 30.078125 48.484375 \r\nQ 22.859375 48.484375 18.828125 43.109375 \r\nQ 14.796875 37.75 14.796875 27.984375 \r\nQ 14.796875 18.265625 18.828125 12.890625 \r\nQ 22.859375 7.515625 30.078125 7.515625 \r\nQ 37.359375 7.515625 41.375 12.890625 \r\nQ 45.40625 18.265625 45.40625 27.984375 \r\nz\r\nM 54.390625 6.78125 \r\nQ 54.390625 -7.171875 48.1875 -13.984375 \r\nQ 42 -20.796875 29.203125 -20.796875 \r\nQ 24.46875 -20.796875 20.265625 -20.09375 \r\nQ 16.0625 -19.390625 12.109375 -17.921875 \r\nL 12.109375 -9.1875 \r\nQ 16.0625 -11.328125 19.921875 -12.34375 \r\nQ 23.78125 -13.375 27.78125 -13.375 \r\nQ 36.625 -13.375 41.015625 -8.765625 \r\nQ 45.40625 -4.15625 45.40625 5.171875 \r\nL 45.40625 9.625 \r\nQ 42.625 4.78125 38.28125 2.390625 \r\nQ 33.9375 0 27.875 0 \r\nQ 17.828125 0 11.671875 7.65625 \r\nQ 5.515625 15.328125 5.515625 27.984375 \r\nQ 5.515625 40.671875 11.671875 48.328125 \r\nQ 17.828125 56 27.875 56 \r\nQ 33.9375 56 38.28125 53.609375 \r\nQ 42.625 51.21875 45.40625 46.390625 \r\nL 45.40625 54.6875 \r\nL 54.390625 54.6875 \r\nz\r\n\" id=\"DejaVuSans-103\"/>\r\n      <path d=\"M 54.890625 33.015625 \r\nL 54.890625 0 \r\nL 45.90625 0 \r\nL 45.90625 32.71875 \r\nQ 45.90625 40.484375 42.875 44.328125 \r\nQ 39.84375 48.1875 33.796875 48.1875 \r\nQ 26.515625 48.1875 22.3125 43.546875 \r\nQ 18.109375 38.921875 18.109375 30.90625 \r\nL 18.109375 0 \r\nL 9.078125 0 \r\nL 9.078125 75.984375 \r\nL 18.109375 75.984375 \r\nL 18.109375 46.1875 \r\nQ 21.34375 51.125 25.703125 53.5625 \r\nQ 30.078125 56 35.796875 56 \r\nQ 45.21875 56 50.046875 50.171875 \r\nQ 54.890625 44.34375 54.890625 33.015625 \r\nz\r\n\" id=\"DejaVuSans-104\"/>\r\n      <path d=\"M 48.6875 27.296875 \r\nQ 48.6875 37.203125 44.609375 42.84375 \r\nQ 40.53125 48.484375 33.40625 48.484375 \r\nQ 26.265625 48.484375 22.1875 42.84375 \r\nQ 18.109375 37.203125 18.109375 27.296875 \r\nQ 18.109375 17.390625 22.1875 11.75 \r\nQ 26.265625 6.109375 33.40625 6.109375 \r\nQ 40.53125 6.109375 44.609375 11.75 \r\nQ 48.6875 17.390625 48.6875 27.296875 \r\nz\r\nM 18.109375 46.390625 \r\nQ 20.953125 51.265625 25.265625 53.625 \r\nQ 29.59375 56 35.59375 56 \r\nQ 45.5625 56 51.78125 48.09375 \r\nQ 58.015625 40.1875 58.015625 27.296875 \r\nQ 58.015625 14.40625 51.78125 6.484375 \r\nQ 45.5625 -1.421875 35.59375 -1.421875 \r\nQ 29.59375 -1.421875 25.265625 0.953125 \r\nQ 20.953125 3.328125 18.109375 8.203125 \r\nL 18.109375 0 \r\nL 9.078125 0 \r\nL 9.078125 75.984375 \r\nL 18.109375 75.984375 \r\nz\r\n\" id=\"DejaVuSans-98\"/>\r\n      <path d=\"M 30.609375 48.390625 \r\nQ 23.390625 48.390625 19.1875 42.75 \r\nQ 14.984375 37.109375 14.984375 27.296875 \r\nQ 14.984375 17.484375 19.15625 11.84375 \r\nQ 23.34375 6.203125 30.609375 6.203125 \r\nQ 37.796875 6.203125 41.984375 11.859375 \r\nQ 46.1875 17.53125 46.1875 27.296875 \r\nQ 46.1875 37.015625 41.984375 42.703125 \r\nQ 37.796875 48.390625 30.609375 48.390625 \r\nz\r\nM 30.609375 56 \r\nQ 42.328125 56 49.015625 48.375 \r\nQ 55.71875 40.765625 55.71875 27.296875 \r\nQ 55.71875 13.875 49.015625 6.21875 \r\nQ 42.328125 -1.421875 30.609375 -1.421875 \r\nQ 18.84375 -1.421875 12.171875 6.21875 \r\nQ 5.515625 13.875 5.515625 27.296875 \r\nQ 5.515625 40.765625 12.171875 48.375 \r\nQ 18.84375 56 30.609375 56 \r\nz\r\n\" id=\"DejaVuSans-111\"/>\r\n      <path d=\"M 41.109375 46.296875 \r\nQ 39.59375 47.171875 37.8125 47.578125 \r\nQ 36.03125 48 33.890625 48 \r\nQ 26.265625 48 22.1875 43.046875 \r\nQ 18.109375 38.09375 18.109375 28.8125 \r\nL 18.109375 0 \r\nL 9.078125 0 \r\nL 9.078125 54.6875 \r\nL 18.109375 54.6875 \r\nL 18.109375 46.1875 \r\nQ 20.953125 51.171875 25.484375 53.578125 \r\nQ 30.03125 56 36.53125 56 \r\nQ 37.453125 56 38.578125 55.875 \r\nQ 39.703125 55.765625 41.0625 55.515625 \r\nz\r\n\" id=\"DejaVuSans-114\"/>\r\n      <path d=\"M 44.28125 53.078125 \r\nL 44.28125 44.578125 \r\nQ 40.484375 46.53125 36.375 47.5 \r\nQ 32.28125 48.484375 27.875 48.484375 \r\nQ 21.1875 48.484375 17.84375 46.4375 \r\nQ 14.5 44.390625 14.5 40.28125 \r\nQ 14.5 37.15625 16.890625 35.375 \r\nQ 19.28125 33.59375 26.515625 31.984375 \r\nL 29.59375 31.296875 \r\nQ 39.15625 29.25 43.1875 25.515625 \r\nQ 47.21875 21.78125 47.21875 15.09375 \r\nQ 47.21875 7.46875 41.1875 3.015625 \r\nQ 35.15625 -1.421875 24.609375 -1.421875 \r\nQ 20.21875 -1.421875 15.453125 -0.5625 \r\nQ 10.6875 0.296875 5.421875 2 \r\nL 5.421875 11.28125 \r\nQ 10.40625 8.6875 15.234375 7.390625 \r\nQ 20.0625 6.109375 24.8125 6.109375 \r\nQ 31.15625 6.109375 34.5625 8.28125 \r\nQ 37.984375 10.453125 37.984375 14.40625 \r\nQ 37.984375 18.0625 35.515625 20.015625 \r\nQ 33.0625 21.96875 24.703125 23.78125 \r\nL 21.578125 24.515625 \r\nQ 13.234375 26.265625 9.515625 29.90625 \r\nQ 5.8125 33.546875 5.8125 39.890625 \r\nQ 5.8125 47.609375 11.28125 51.796875 \r\nQ 16.75 56 26.8125 56 \r\nQ 31.78125 56 36.171875 55.265625 \r\nQ 40.578125 54.546875 44.28125 53.078125 \r\nz\r\n\" id=\"DejaVuSans-115\"/>\r\n     </defs>\r\n     <g transform=\"translate(181.825781 252.916563)scale(0.1 -0.1)\">\r\n      <use xlink:href=\"#DejaVuSans-107\"/>\r\n      <use x=\"57.910156\" xlink:href=\"#DejaVuSans-32\"/>\r\n      <use x=\"89.697266\" xlink:href=\"#DejaVuSans-110\"/>\r\n      <use x=\"153.076172\" xlink:href=\"#DejaVuSans-101\"/>\r\n      <use x=\"214.599609\" xlink:href=\"#DejaVuSans-105\"/>\r\n      <use x=\"242.382812\" xlink:href=\"#DejaVuSans-103\"/>\r\n      <use x=\"305.859375\" xlink:href=\"#DejaVuSans-104\"/>\r\n      <use x=\"369.238281\" xlink:href=\"#DejaVuSans-98\"/>\r\n      <use x=\"432.714844\" xlink:href=\"#DejaVuSans-111\"/>\r\n      <use x=\"493.896484\" xlink:href=\"#DejaVuSans-114\"/>\r\n      <use x=\"535.009766\" xlink:href=\"#DejaVuSans-115\"/>\r\n     </g>\r\n    </g>\r\n   </g>\r\n   <g id=\"matplotlib.axis_2\">\r\n    <g id=\"ytick_1\">\r\n     <g id=\"line2d_8\">\r\n      <defs>\r\n       <path d=\"M 0 0 \r\nL -3.5 0 \r\n\" id=\"mcee2006e70\" style=\"stroke:#000000;stroke-width:0.8;\"/>\r\n      </defs>\r\n      <g>\r\n       <use style=\"stroke:#000000;stroke-width:0.8;\" x=\"43.78125\" xlink:href=\"#mcee2006e70\" y=\"214.523299\"/>\r\n      </g>\r\n     </g>\r\n     <g id=\"text_9\">\r\n      <!-- 0.4 -->\r\n      <defs>\r\n       <path d=\"M 37.796875 64.3125 \r\nL 12.890625 25.390625 \r\nL 37.796875 25.390625 \r\nz\r\nM 35.203125 72.90625 \r\nL 47.609375 72.90625 \r\nL 47.609375 25.390625 \r\nL 58.015625 25.390625 \r\nL 58.015625 17.1875 \r\nL 47.609375 17.1875 \r\nL 47.609375 0 \r\nL 37.796875 0 \r\nL 37.796875 17.1875 \r\nL 4.890625 17.1875 \r\nL 4.890625 26.703125 \r\nz\r\n\" id=\"DejaVuSans-52\"/>\r\n      </defs>\r\n      <g transform=\"translate(20.878125 218.322518)scale(0.1 -0.1)\">\r\n       <use xlink:href=\"#DejaVuSans-48\"/>\r\n       <use x=\"63.623047\" xlink:href=\"#DejaVuSans-46\"/>\r\n       <use x=\"95.410156\" xlink:href=\"#DejaVuSans-52\"/>\r\n      </g>\r\n     </g>\r\n    </g>\r\n    <g id=\"ytick_2\">\r\n     <g id=\"line2d_9\">\r\n      <g>\r\n       <use style=\"stroke:#000000;stroke-width:0.8;\" x=\"43.78125\" xlink:href=\"#mcee2006e70\" y=\"180.76782\"/>\r\n      </g>\r\n     </g>\r\n     <g id=\"text_10\">\r\n      <!-- 0.5 -->\r\n      <g transform=\"translate(20.878125 184.567039)scale(0.1 -0.1)\">\r\n       <use xlink:href=\"#DejaVuSans-48\"/>\r\n       <use x=\"63.623047\" xlink:href=\"#DejaVuSans-46\"/>\r\n       <use x=\"95.410156\" xlink:href=\"#DejaVuSans-53\"/>\r\n      </g>\r\n     </g>\r\n    </g>\r\n    <g id=\"ytick_3\">\r\n     <g id=\"line2d_10\">\r\n      <g>\r\n       <use style=\"stroke:#000000;stroke-width:0.8;\" x=\"43.78125\" xlink:href=\"#mcee2006e70\" y=\"147.012341\"/>\r\n      </g>\r\n     </g>\r\n     <g id=\"text_11\">\r\n      <!-- 0.6 -->\r\n      <defs>\r\n       <path d=\"M 33.015625 40.375 \r\nQ 26.375 40.375 22.484375 35.828125 \r\nQ 18.609375 31.296875 18.609375 23.390625 \r\nQ 18.609375 15.53125 22.484375 10.953125 \r\nQ 26.375 6.390625 33.015625 6.390625 \r\nQ 39.65625 6.390625 43.53125 10.953125 \r\nQ 47.40625 15.53125 47.40625 23.390625 \r\nQ 47.40625 31.296875 43.53125 35.828125 \r\nQ 39.65625 40.375 33.015625 40.375 \r\nz\r\nM 52.59375 71.296875 \r\nL 52.59375 62.3125 \r\nQ 48.875 64.0625 45.09375 64.984375 \r\nQ 41.3125 65.921875 37.59375 65.921875 \r\nQ 27.828125 65.921875 22.671875 59.328125 \r\nQ 17.53125 52.734375 16.796875 39.40625 \r\nQ 19.671875 43.65625 24.015625 45.921875 \r\nQ 28.375 48.1875 33.59375 48.1875 \r\nQ 44.578125 48.1875 50.953125 41.515625 \r\nQ 57.328125 34.859375 57.328125 23.390625 \r\nQ 57.328125 12.15625 50.6875 5.359375 \r\nQ 44.046875 -1.421875 33.015625 -1.421875 \r\nQ 20.359375 -1.421875 13.671875 8.265625 \r\nQ 6.984375 17.96875 6.984375 36.375 \r\nQ 6.984375 53.65625 15.1875 63.9375 \r\nQ 23.390625 74.21875 37.203125 74.21875 \r\nQ 40.921875 74.21875 44.703125 73.484375 \r\nQ 48.484375 72.75 52.59375 71.296875 \r\nz\r\n\" id=\"DejaVuSans-54\"/>\r\n      </defs>\r\n      <g transform=\"translate(20.878125 150.81156)scale(0.1 -0.1)\">\r\n       <use xlink:href=\"#DejaVuSans-48\"/>\r\n       <use x=\"63.623047\" xlink:href=\"#DejaVuSans-46\"/>\r\n       <use x=\"95.410156\" xlink:href=\"#DejaVuSans-54\"/>\r\n      </g>\r\n     </g>\r\n    </g>\r\n    <g id=\"ytick_4\">\r\n     <g id=\"line2d_11\">\r\n      <g>\r\n       <use style=\"stroke:#000000;stroke-width:0.8;\" x=\"43.78125\" xlink:href=\"#mcee2006e70\" y=\"113.256862\"/>\r\n      </g>\r\n     </g>\r\n     <g id=\"text_12\">\r\n      <!-- 0.7 -->\r\n      <g transform=\"translate(20.878125 117.056081)scale(0.1 -0.1)\">\r\n       <use xlink:href=\"#DejaVuSans-48\"/>\r\n       <use x=\"63.623047\" xlink:href=\"#DejaVuSans-46\"/>\r\n       <use x=\"95.410156\" xlink:href=\"#DejaVuSans-55\"/>\r\n      </g>\r\n     </g>\r\n    </g>\r\n    <g id=\"ytick_5\">\r\n     <g id=\"line2d_12\">\r\n      <g>\r\n       <use style=\"stroke:#000000;stroke-width:0.8;\" x=\"43.78125\" xlink:href=\"#mcee2006e70\" y=\"79.501383\"/>\r\n      </g>\r\n     </g>\r\n     <g id=\"text_13\">\r\n      <!-- 0.8 -->\r\n      <defs>\r\n       <path d=\"M 31.78125 34.625 \r\nQ 24.75 34.625 20.71875 30.859375 \r\nQ 16.703125 27.09375 16.703125 20.515625 \r\nQ 16.703125 13.921875 20.71875 10.15625 \r\nQ 24.75 6.390625 31.78125 6.390625 \r\nQ 38.8125 6.390625 42.859375 10.171875 \r\nQ 46.921875 13.96875 46.921875 20.515625 \r\nQ 46.921875 27.09375 42.890625 30.859375 \r\nQ 38.875 34.625 31.78125 34.625 \r\nz\r\nM 21.921875 38.8125 \r\nQ 15.578125 40.375 12.03125 44.71875 \r\nQ 8.5 49.078125 8.5 55.328125 \r\nQ 8.5 64.0625 14.71875 69.140625 \r\nQ 20.953125 74.21875 31.78125 74.21875 \r\nQ 42.671875 74.21875 48.875 69.140625 \r\nQ 55.078125 64.0625 55.078125 55.328125 \r\nQ 55.078125 49.078125 51.53125 44.71875 \r\nQ 48 40.375 41.703125 38.8125 \r\nQ 48.828125 37.15625 52.796875 32.3125 \r\nQ 56.78125 27.484375 56.78125 20.515625 \r\nQ 56.78125 9.90625 50.3125 4.234375 \r\nQ 43.84375 -1.421875 31.78125 -1.421875 \r\nQ 19.734375 -1.421875 13.25 4.234375 \r\nQ 6.78125 9.90625 6.78125 20.515625 \r\nQ 6.78125 27.484375 10.78125 32.3125 \r\nQ 14.796875 37.15625 21.921875 38.8125 \r\nz\r\nM 18.3125 54.390625 \r\nQ 18.3125 48.734375 21.84375 45.5625 \r\nQ 25.390625 42.390625 31.78125 42.390625 \r\nQ 38.140625 42.390625 41.71875 45.5625 \r\nQ 45.3125 48.734375 45.3125 54.390625 \r\nQ 45.3125 60.0625 41.71875 63.234375 \r\nQ 38.140625 66.40625 31.78125 66.40625 \r\nQ 25.390625 66.40625 21.84375 63.234375 \r\nQ 18.3125 60.0625 18.3125 54.390625 \r\nz\r\n\" id=\"DejaVuSans-56\"/>\r\n      </defs>\r\n      <g transform=\"translate(20.878125 83.300601)scale(0.1 -0.1)\">\r\n       <use xlink:href=\"#DejaVuSans-48\"/>\r\n       <use x=\"63.623047\" xlink:href=\"#DejaVuSans-46\"/>\r\n       <use x=\"95.410156\" xlink:href=\"#DejaVuSans-56\"/>\r\n      </g>\r\n     </g>\r\n    </g>\r\n    <g id=\"ytick_6\">\r\n     <g id=\"line2d_13\">\r\n      <g>\r\n       <use style=\"stroke:#000000;stroke-width:0.8;\" x=\"43.78125\" xlink:href=\"#mcee2006e70\" y=\"45.745903\"/>\r\n      </g>\r\n     </g>\r\n     <g id=\"text_14\">\r\n      <!-- 0.9 -->\r\n      <defs>\r\n       <path d=\"M 10.984375 1.515625 \r\nL 10.984375 10.5 \r\nQ 14.703125 8.734375 18.5 7.8125 \r\nQ 22.3125 6.890625 25.984375 6.890625 \r\nQ 35.75 6.890625 40.890625 13.453125 \r\nQ 46.046875 20.015625 46.78125 33.40625 \r\nQ 43.953125 29.203125 39.59375 26.953125 \r\nQ 35.25 24.703125 29.984375 24.703125 \r\nQ 19.046875 24.703125 12.671875 31.3125 \r\nQ 6.296875 37.9375 6.296875 49.421875 \r\nQ 6.296875 60.640625 12.9375 67.421875 \r\nQ 19.578125 74.21875 30.609375 74.21875 \r\nQ 43.265625 74.21875 49.921875 64.515625 \r\nQ 56.59375 54.828125 56.59375 36.375 \r\nQ 56.59375 19.140625 48.40625 8.859375 \r\nQ 40.234375 -1.421875 26.421875 -1.421875 \r\nQ 22.703125 -1.421875 18.890625 -0.6875 \r\nQ 15.09375 0.046875 10.984375 1.515625 \r\nz\r\nM 30.609375 32.421875 \r\nQ 37.25 32.421875 41.125 36.953125 \r\nQ 45.015625 41.5 45.015625 49.421875 \r\nQ 45.015625 57.28125 41.125 61.84375 \r\nQ 37.25 66.40625 30.609375 66.40625 \r\nQ 23.96875 66.40625 20.09375 61.84375 \r\nQ 16.21875 57.28125 16.21875 49.421875 \r\nQ 16.21875 41.5 20.09375 36.953125 \r\nQ 23.96875 32.421875 30.609375 32.421875 \r\nz\r\n\" id=\"DejaVuSans-57\"/>\r\n      </defs>\r\n      <g transform=\"translate(20.878125 49.545122)scale(0.1 -0.1)\">\r\n       <use xlink:href=\"#DejaVuSans-48\"/>\r\n       <use x=\"63.623047\" xlink:href=\"#DejaVuSans-46\"/>\r\n       <use x=\"95.410156\" xlink:href=\"#DejaVuSans-57\"/>\r\n      </g>\r\n     </g>\r\n    </g>\r\n    <g id=\"ytick_7\">\r\n     <g id=\"line2d_14\">\r\n      <g>\r\n       <use style=\"stroke:#000000;stroke-width:0.8;\" x=\"43.78125\" xlink:href=\"#mcee2006e70\" y=\"11.990424\"/>\r\n      </g>\r\n     </g>\r\n     <g id=\"text_15\">\r\n      <!-- 1.0 -->\r\n      <g transform=\"translate(20.878125 15.789643)scale(0.1 -0.1)\">\r\n       <use xlink:href=\"#DejaVuSans-49\"/>\r\n       <use x=\"63.623047\" xlink:href=\"#DejaVuSans-46\"/>\r\n       <use x=\"95.410156\" xlink:href=\"#DejaVuSans-48\"/>\r\n      </g>\r\n     </g>\r\n    </g>\r\n    <g id=\"text_16\">\r\n     <!-- Testing accuracy Score -->\r\n     <defs>\r\n      <path d=\"M -0.296875 72.90625 \r\nL 61.375 72.90625 \r\nL 61.375 64.59375 \r\nL 35.5 64.59375 \r\nL 35.5 0 \r\nL 25.59375 0 \r\nL 25.59375 64.59375 \r\nL -0.296875 64.59375 \r\nz\r\n\" id=\"DejaVuSans-84\"/>\r\n      <path d=\"M 18.3125 70.21875 \r\nL 18.3125 54.6875 \r\nL 36.8125 54.6875 \r\nL 36.8125 47.703125 \r\nL 18.3125 47.703125 \r\nL 18.3125 18.015625 \r\nQ 18.3125 11.328125 20.140625 9.421875 \r\nQ 21.96875 7.515625 27.59375 7.515625 \r\nL 36.8125 7.515625 \r\nL 36.8125 0 \r\nL 27.59375 0 \r\nQ 17.1875 0 13.234375 3.875 \r\nQ 9.28125 7.765625 9.28125 18.015625 \r\nL 9.28125 47.703125 \r\nL 2.6875 47.703125 \r\nL 2.6875 54.6875 \r\nL 9.28125 54.6875 \r\nL 9.28125 70.21875 \r\nz\r\n\" id=\"DejaVuSans-116\"/>\r\n      <path d=\"M 34.28125 27.484375 \r\nQ 23.390625 27.484375 19.1875 25 \r\nQ 14.984375 22.515625 14.984375 16.5 \r\nQ 14.984375 11.71875 18.140625 8.90625 \r\nQ 21.296875 6.109375 26.703125 6.109375 \r\nQ 34.1875 6.109375 38.703125 11.40625 \r\nQ 43.21875 16.703125 43.21875 25.484375 \r\nL 43.21875 27.484375 \r\nz\r\nM 52.203125 31.203125 \r\nL 52.203125 0 \r\nL 43.21875 0 \r\nL 43.21875 8.296875 \r\nQ 40.140625 3.328125 35.546875 0.953125 \r\nQ 30.953125 -1.421875 24.3125 -1.421875 \r\nQ 15.921875 -1.421875 10.953125 3.296875 \r\nQ 6 8.015625 6 15.921875 \r\nQ 6 25.140625 12.171875 29.828125 \r\nQ 18.359375 34.515625 30.609375 34.515625 \r\nL 43.21875 34.515625 \r\nL 43.21875 35.40625 \r\nQ 43.21875 41.609375 39.140625 45 \r\nQ 35.0625 48.390625 27.6875 48.390625 \r\nQ 23 48.390625 18.546875 47.265625 \r\nQ 14.109375 46.140625 10.015625 43.890625 \r\nL 10.015625 52.203125 \r\nQ 14.9375 54.109375 19.578125 55.046875 \r\nQ 24.21875 56 28.609375 56 \r\nQ 40.484375 56 46.34375 49.84375 \r\nQ 52.203125 43.703125 52.203125 31.203125 \r\nz\r\n\" id=\"DejaVuSans-97\"/>\r\n      <path d=\"M 48.78125 52.59375 \r\nL 48.78125 44.1875 \r\nQ 44.96875 46.296875 41.140625 47.34375 \r\nQ 37.3125 48.390625 33.40625 48.390625 \r\nQ 24.65625 48.390625 19.8125 42.84375 \r\nQ 14.984375 37.3125 14.984375 27.296875 \r\nQ 14.984375 17.28125 19.8125 11.734375 \r\nQ 24.65625 6.203125 33.40625 6.203125 \r\nQ 37.3125 6.203125 41.140625 7.25 \r\nQ 44.96875 8.296875 48.78125 10.40625 \r\nL 48.78125 2.09375 \r\nQ 45.015625 0.34375 40.984375 -0.53125 \r\nQ 36.96875 -1.421875 32.421875 -1.421875 \r\nQ 20.0625 -1.421875 12.78125 6.34375 \r\nQ 5.515625 14.109375 5.515625 27.296875 \r\nQ 5.515625 40.671875 12.859375 48.328125 \r\nQ 20.21875 56 33.015625 56 \r\nQ 37.15625 56 41.109375 55.140625 \r\nQ 45.0625 54.296875 48.78125 52.59375 \r\nz\r\n\" id=\"DejaVuSans-99\"/>\r\n      <path d=\"M 8.5 21.578125 \r\nL 8.5 54.6875 \r\nL 17.484375 54.6875 \r\nL 17.484375 21.921875 \r\nQ 17.484375 14.15625 20.5 10.265625 \r\nQ 23.53125 6.390625 29.59375 6.390625 \r\nQ 36.859375 6.390625 41.078125 11.03125 \r\nQ 45.3125 15.671875 45.3125 23.6875 \r\nL 45.3125 54.6875 \r\nL 54.296875 54.6875 \r\nL 54.296875 0 \r\nL 45.3125 0 \r\nL 45.3125 8.40625 \r\nQ 42.046875 3.421875 37.71875 1 \r\nQ 33.40625 -1.421875 27.6875 -1.421875 \r\nQ 18.265625 -1.421875 13.375 4.4375 \r\nQ 8.5 10.296875 8.5 21.578125 \r\nz\r\nM 31.109375 56 \r\nz\r\n\" id=\"DejaVuSans-117\"/>\r\n      <path d=\"M 32.171875 -5.078125 \r\nQ 28.375 -14.84375 24.75 -17.8125 \r\nQ 21.140625 -20.796875 15.09375 -20.796875 \r\nL 7.90625 -20.796875 \r\nL 7.90625 -13.28125 \r\nL 13.1875 -13.28125 \r\nQ 16.890625 -13.28125 18.9375 -11.515625 \r\nQ 21 -9.765625 23.484375 -3.21875 \r\nL 25.09375 0.875 \r\nL 2.984375 54.6875 \r\nL 12.5 54.6875 \r\nL 29.59375 11.921875 \r\nL 46.6875 54.6875 \r\nL 56.203125 54.6875 \r\nz\r\n\" id=\"DejaVuSans-121\"/>\r\n      <path d=\"M 53.515625 70.515625 \r\nL 53.515625 60.890625 \r\nQ 47.90625 63.578125 42.921875 64.890625 \r\nQ 37.9375 66.21875 33.296875 66.21875 \r\nQ 25.25 66.21875 20.875 63.09375 \r\nQ 16.5 59.96875 16.5 54.203125 \r\nQ 16.5 49.359375 19.40625 46.890625 \r\nQ 22.3125 44.4375 30.421875 42.921875 \r\nL 36.375 41.703125 \r\nQ 47.40625 39.59375 52.65625 34.296875 \r\nQ 57.90625 29 57.90625 20.125 \r\nQ 57.90625 9.515625 50.796875 4.046875 \r\nQ 43.703125 -1.421875 29.984375 -1.421875 \r\nQ 24.8125 -1.421875 18.96875 -0.25 \r\nQ 13.140625 0.921875 6.890625 3.21875 \r\nL 6.890625 13.375 \r\nQ 12.890625 10.015625 18.65625 8.296875 \r\nQ 24.421875 6.59375 29.984375 6.59375 \r\nQ 38.421875 6.59375 43.015625 9.90625 \r\nQ 47.609375 13.234375 47.609375 19.390625 \r\nQ 47.609375 24.75 44.3125 27.78125 \r\nQ 41.015625 30.8125 33.5 32.328125 \r\nL 27.484375 33.5 \r\nQ 16.453125 35.6875 11.515625 40.375 \r\nQ 6.59375 45.0625 6.59375 53.421875 \r\nQ 6.59375 63.09375 13.40625 68.65625 \r\nQ 20.21875 74.21875 32.171875 74.21875 \r\nQ 37.3125 74.21875 42.625 73.28125 \r\nQ 47.953125 72.359375 53.515625 70.515625 \r\nz\r\n\" id=\"DejaVuSans-83\"/>\r\n     </defs>\r\n     <g transform=\"translate(14.798438 173.237188)rotate(-90)scale(0.1 -0.1)\">\r\n      <use xlink:href=\"#DejaVuSans-84\"/>\r\n      <use x=\"44.083984\" xlink:href=\"#DejaVuSans-101\"/>\r\n      <use x=\"105.607422\" xlink:href=\"#DejaVuSans-115\"/>\r\n      <use x=\"157.707031\" xlink:href=\"#DejaVuSans-116\"/>\r\n      <use x=\"196.916016\" xlink:href=\"#DejaVuSans-105\"/>\r\n      <use x=\"224.699219\" xlink:href=\"#DejaVuSans-110\"/>\r\n      <use x=\"288.078125\" xlink:href=\"#DejaVuSans-103\"/>\r\n      <use x=\"351.554688\" xlink:href=\"#DejaVuSans-32\"/>\r\n      <use x=\"383.341797\" xlink:href=\"#DejaVuSans-97\"/>\r\n      <use x=\"444.621094\" xlink:href=\"#DejaVuSans-99\"/>\r\n      <use x=\"499.601562\" xlink:href=\"#DejaVuSans-99\"/>\r\n      <use x=\"554.582031\" xlink:href=\"#DejaVuSans-117\"/>\r\n      <use x=\"617.960938\" xlink:href=\"#DejaVuSans-114\"/>\r\n      <use x=\"659.074219\" xlink:href=\"#DejaVuSans-97\"/>\r\n      <use x=\"720.353516\" xlink:href=\"#DejaVuSans-99\"/>\r\n      <use x=\"775.333984\" xlink:href=\"#DejaVuSans-121\"/>\r\n      <use x=\"834.513672\" xlink:href=\"#DejaVuSans-32\"/>\r\n      <use x=\"866.300781\" xlink:href=\"#DejaVuSans-83\"/>\r\n      <use x=\"929.777344\" xlink:href=\"#DejaVuSans-99\"/>\r\n      <use x=\"984.757812\" xlink:href=\"#DejaVuSans-111\"/>\r\n      <use x=\"1045.939453\" xlink:href=\"#DejaVuSans-114\"/>\r\n      <use x=\"1084.802734\" xlink:href=\"#DejaVuSans-101\"/>\r\n     </g>\r\n    </g>\r\n   </g>\r\n   <g id=\"line2d_15\">\r\n    <path clip-path=\"url(#p9539aaeb17)\" d=\"M 58.999432 17.083636 \r\nL 92.817614 120.998113 \r\nL 126.635795 127.774674 \r\nL 160.453977 132.436258 \r\nL 194.272159 136.774121 \r\nL 228.090341 138.845936 \r\nL 261.908523 141.435705 \r\nL 295.726705 143.572265 \r\nL 329.544886 145.104545 \r\nL 363.363068 145.730405 \r\n\" style=\"fill:none;stroke:#1f77b4;stroke-linecap:square;stroke-width:1.5;\"/>\r\n    <defs>\r\n     <path d=\"M 0 3 \r\nC 0.795609 3 1.55874 2.683901 2.12132 2.12132 \r\nC 2.683901 1.55874 3 0.795609 3 0 \r\nC 3 -0.795609 2.683901 -1.55874 2.12132 -2.12132 \r\nC 1.55874 -2.683901 0.795609 -3 0 -3 \r\nC -0.795609 -3 -1.55874 -2.683901 -2.12132 -2.12132 \r\nC -2.683901 -1.55874 -3 -0.795609 -3 0 \r\nC -3 0.795609 -2.683901 1.55874 -2.12132 2.12132 \r\nC -1.55874 2.683901 -0.795609 3 0 3 \r\nz\r\n\" id=\"m000e78cfcd\" style=\"stroke:#1f77b4;\"/>\r\n    </defs>\r\n    <g clip-path=\"url(#p9539aaeb17)\">\r\n     <use style=\"fill:#1f77b4;stroke:#1f77b4;\" x=\"58.999432\" xlink:href=\"#m000e78cfcd\" y=\"17.083636\"/>\r\n     <use style=\"fill:#1f77b4;stroke:#1f77b4;\" x=\"92.817614\" xlink:href=\"#m000e78cfcd\" y=\"120.998113\"/>\r\n     <use style=\"fill:#1f77b4;stroke:#1f77b4;\" x=\"126.635795\" xlink:href=\"#m000e78cfcd\" y=\"127.774674\"/>\r\n     <use style=\"fill:#1f77b4;stroke:#1f77b4;\" x=\"160.453977\" xlink:href=\"#m000e78cfcd\" y=\"132.436258\"/>\r\n     <use style=\"fill:#1f77b4;stroke:#1f77b4;\" x=\"194.272159\" xlink:href=\"#m000e78cfcd\" y=\"136.774121\"/>\r\n     <use style=\"fill:#1f77b4;stroke:#1f77b4;\" x=\"228.090341\" xlink:href=\"#m000e78cfcd\" y=\"138.845936\"/>\r\n     <use style=\"fill:#1f77b4;stroke:#1f77b4;\" x=\"261.908523\" xlink:href=\"#m000e78cfcd\" y=\"141.435705\"/>\r\n     <use style=\"fill:#1f77b4;stroke:#1f77b4;\" x=\"295.726705\" xlink:href=\"#m000e78cfcd\" y=\"143.572265\"/>\r\n     <use style=\"fill:#1f77b4;stroke:#1f77b4;\" x=\"329.544886\" xlink:href=\"#m000e78cfcd\" y=\"145.104545\"/>\r\n     <use style=\"fill:#1f77b4;stroke:#1f77b4;\" x=\"363.363068\" xlink:href=\"#m000e78cfcd\" y=\"145.730405\"/>\r\n    </g>\r\n   </g>\r\n   <g id=\"line2d_16\">\r\n    <path clip-path=\"url(#p9539aaeb17)\" d=\"M 58.999432 214.756364 \r\nL 92.817614 204.592171 \r\nL 126.635795 196.952841 \r\nL 160.453977 189.831432 \r\nL 194.272159 186.400207 \r\nL 228.090341 181.803661 \r\nL 261.908523 179.731979 \r\nL 295.726705 177.077635 \r\nL 329.544886 175.264913 \r\nL 363.363068 176.818675 \r\n\" style=\"fill:none;stroke:#ff7f0e;stroke-linecap:square;stroke-width:1.5;\"/>\r\n    <defs>\r\n     <path d=\"M -3 3 \r\nL 3 -3 \r\nM -3 -3 \r\nL 3 3 \r\n\" id=\"m4f515e5416\" style=\"stroke:#ff7f0e;\"/>\r\n    </defs>\r\n    <g clip-path=\"url(#p9539aaeb17)\">\r\n     <use style=\"fill:#ff7f0e;stroke:#ff7f0e;\" x=\"58.999432\" xlink:href=\"#m4f515e5416\" y=\"214.756364\"/>\r\n     <use style=\"fill:#ff7f0e;stroke:#ff7f0e;\" x=\"92.817614\" xlink:href=\"#m4f515e5416\" y=\"204.592171\"/>\r\n     <use style=\"fill:#ff7f0e;stroke:#ff7f0e;\" x=\"126.635795\" xlink:href=\"#m4f515e5416\" y=\"196.952841\"/>\r\n     <use style=\"fill:#ff7f0e;stroke:#ff7f0e;\" x=\"160.453977\" xlink:href=\"#m4f515e5416\" y=\"189.831432\"/>\r\n     <use style=\"fill:#ff7f0e;stroke:#ff7f0e;\" x=\"194.272159\" xlink:href=\"#m4f515e5416\" y=\"186.400207\"/>\r\n     <use style=\"fill:#ff7f0e;stroke:#ff7f0e;\" x=\"228.090341\" xlink:href=\"#m4f515e5416\" y=\"181.803661\"/>\r\n     <use style=\"fill:#ff7f0e;stroke:#ff7f0e;\" x=\"261.908523\" xlink:href=\"#m4f515e5416\" y=\"179.731979\"/>\r\n     <use style=\"fill:#ff7f0e;stroke:#ff7f0e;\" x=\"295.726705\" xlink:href=\"#m4f515e5416\" y=\"177.077635\"/>\r\n     <use style=\"fill:#ff7f0e;stroke:#ff7f0e;\" x=\"329.544886\" xlink:href=\"#m4f515e5416\" y=\"175.264913\"/>\r\n     <use style=\"fill:#ff7f0e;stroke:#ff7f0e;\" x=\"363.363068\" xlink:href=\"#m4f515e5416\" y=\"176.818675\"/>\r\n    </g>\r\n   </g>\r\n   <g id=\"patch_3\">\r\n    <path d=\"M 43.78125 224.64 \r\nL 43.78125 7.2 \r\n\" style=\"fill:none;stroke:#000000;stroke-linecap:square;stroke-linejoin:miter;stroke-width:0.8;\"/>\r\n   </g>\r\n   <g id=\"patch_4\">\r\n    <path d=\"M 378.58125 224.64 \r\nL 378.58125 7.2 \r\n\" style=\"fill:none;stroke:#000000;stroke-linecap:square;stroke-linejoin:miter;stroke-width:0.8;\"/>\r\n   </g>\r\n   <g id=\"patch_5\">\r\n    <path d=\"M 43.78125 224.64 \r\nL 378.58125 224.64 \r\n\" style=\"fill:none;stroke:#000000;stroke-linecap:square;stroke-linejoin:miter;stroke-width:0.8;\"/>\r\n   </g>\r\n   <g id=\"patch_6\">\r\n    <path d=\"M 43.78125 7.2 \r\nL 378.58125 7.2 \r\n\" style=\"fill:none;stroke:#000000;stroke-linecap:square;stroke-linejoin:miter;stroke-width:0.8;\"/>\r\n   </g>\r\n  </g>\r\n </g>\r\n <defs>\r\n  <clipPath id=\"p9539aaeb17\">\r\n   <rect height=\"217.44\" width=\"334.8\" x=\"43.78125\" y=\"7.2\"/>\r\n  </clipPath>\r\n </defs>\r\n</svg>\r\n",
      "image/png": "[encoded data removed]"
     },
     "metadata": {
      "needs_background": "light"
     }
    }
   ],
   "source": [
    "# Loop through different k values to see which has the highest accuracy\n",
    "# Note: We only use odd numbers because we don't want any ties\n",
    "train_scores = []\n",
    "test_scores = []\n",
    "for k in range(1, 20, 2):\n",
    "    knn = KNeighborsClassifier(n_neighbors=k)\n",
    "    knn.fit(X_train_scaled, y_train)\n",
    "    train_score = knn.score(X_train_scaled, y_train)\n",
    "    test_score = knn.score(X_test_scaled, y_test)\n",
    "    train_scores.append(train_score)\n",
    "    test_scores.append(test_score)\n",
    "    print(f\"k: {k}, Train/Test Score: {train_score:.3f}/{test_score:.3f}\")\n",
    "    \n",
    "    \n",
    "plt.plot(range(1, 20, 2), train_scores, marker='o')\n",
    "plt.plot(range(1, 20, 2), test_scores, marker=\"x\")\n",
    "plt.xlabel(\"k neighbors\")\n",
    "plt.ylabel(\"Testing accuracy Score\")\n",
    "plt.show()"
   ]
  },
  {
   "source": [
    "## Train the Model"
   ],
   "cell_type": "markdown",
   "metadata": {}
  },
  {
   "cell_type": "code",
   "execution_count": 18,
   "metadata": {},
   "outputs": [
    {
     "output_type": "stream",
     "name": "stdout",
     "text": [
      "k=WHAT K WAS CHOSEN???? Test Acc: 0.497\n"
     ]
    }
   ],
   "source": [
    "# Note that k: 3 provides the best accuracy where the classifier starts to stablize\n",
    "knn = KNeighborsClassifier(n_neighbors=11)\n",
    "knn.fit(X_train_scaled, y_train)\n",
    "print('k=WHAT K WAS CHOSEN???? Test Acc: %.3f' % knn.score(X_test_scaled, y_test))"
   ]
  },
  {
   "source": [
    "## Hyperparameter Tuning\n",
    "\n",
    "Use `GridSearchCV` to tune the model's parameters"
   ],
   "cell_type": "markdown",
   "metadata": {}
  },
  {
   "cell_type": "code",
   "execution_count": 19,
   "metadata": {},
   "outputs": [
    {
     "output_type": "execute_result",
     "data": {
      "text/plain": [
       "dict_keys(['algorithm', 'leaf_size', 'metric', 'metric_params', 'n_jobs', 'n_neighbors', 'p', 'weights'])"
      ]
     },
     "metadata": {},
     "execution_count": 19
    }
   ],
   "source": [
    "knn.get_params().keys()"
   ]
  },
  {
   "cell_type": "code",
   "execution_count": 20,
   "metadata": {},
   "outputs": [],
   "source": [
    "# Create the GridSearchCV model\n",
    "from sklearn.model_selection import GridSearchCV\n",
    "model = knn\n",
    "param_grid = params = [{'n_neighbors': [3, 5, 7, 9],\n",
    "           'weights': ['uniform', 'distance'],\n",
    "           'leaf_size': [15, 20]}]\n",
    "grid = GridSearchCV(model, param_grid, verbose=3)"
   ]
  },
  {
   "cell_type": "code",
   "execution_count": 21,
   "metadata": {},
   "outputs": [
    {
     "output_type": "stream",
     "name": "stdout",
     "text": [
      "Fitting 5 folds for each of 16 candidates, totalling 80 fits\n",
      "[CV] leaf_size=15, n_neighbors=3, weights=uniform ....................\n",
      "[Parallel(n_jobs=1)]: Using backend SequentialBackend with 1 concurrent workers.\n",
      "[CV]  leaf_size=15, n_neighbors=3, weights=uniform, score=0.449, total=   1.0s\n",
      "[CV] leaf_size=15, n_neighbors=3, weights=uniform ....................\n",
      "[Parallel(n_jobs=1)]: Done   1 out of   1 | elapsed:    0.9s remaining:    0.0s\n",
      "[CV]  leaf_size=15, n_neighbors=3, weights=uniform, score=0.455, total=   1.2s\n",
      "[CV] leaf_size=15, n_neighbors=3, weights=uniform ....................\n",
      "[Parallel(n_jobs=1)]: Done   2 out of   2 | elapsed:    2.1s remaining:    0.0s\n",
      "[CV]  leaf_size=15, n_neighbors=3, weights=uniform, score=0.436, total=   1.2s\n",
      "[CV] leaf_size=15, n_neighbors=3, weights=uniform ....................\n",
      "[CV]  leaf_size=15, n_neighbors=3, weights=uniform, score=0.445, total=   1.1s\n",
      "[CV] leaf_size=15, n_neighbors=3, weights=uniform ....................\n",
      "[CV]  leaf_size=15, n_neighbors=3, weights=uniform, score=0.447, total=   1.2s\n",
      "[CV] leaf_size=15, n_neighbors=3, weights=distance ...................\n",
      "[CV]  leaf_size=15, n_neighbors=3, weights=distance, score=0.436, total=   1.0s\n",
      "[CV] leaf_size=15, n_neighbors=3, weights=distance ...................\n",
      "[CV]  leaf_size=15, n_neighbors=3, weights=distance, score=0.434, total=   1.0s\n",
      "[CV] leaf_size=15, n_neighbors=3, weights=distance ...................\n",
      "[CV]  leaf_size=15, n_neighbors=3, weights=distance, score=0.425, total=   1.0s\n",
      "[CV] leaf_size=15, n_neighbors=3, weights=distance ...................\n",
      "[CV]  leaf_size=15, n_neighbors=3, weights=distance, score=0.432, total=   1.0s\n",
      "[CV] leaf_size=15, n_neighbors=3, weights=distance ...................\n",
      "[CV]  leaf_size=15, n_neighbors=3, weights=distance, score=0.436, total=   1.0s\n",
      "[CV] leaf_size=15, n_neighbors=5, weights=uniform ....................\n",
      "[CV]  leaf_size=15, n_neighbors=5, weights=uniform, score=0.486, total=   1.5s\n",
      "[CV] leaf_size=15, n_neighbors=5, weights=uniform ....................\n",
      "[CV]  leaf_size=15, n_neighbors=5, weights=uniform, score=0.480, total=   1.5s\n",
      "[CV] leaf_size=15, n_neighbors=5, weights=uniform ....................\n",
      "[CV]  leaf_size=15, n_neighbors=5, weights=uniform, score=0.473, total=   1.1s\n",
      "[CV] leaf_size=15, n_neighbors=5, weights=uniform ....................\n",
      "[CV]  leaf_size=15, n_neighbors=5, weights=uniform, score=0.482, total=   1.7s\n",
      "[CV] leaf_size=15, n_neighbors=5, weights=uniform ....................\n",
      "[CV]  leaf_size=15, n_neighbors=5, weights=uniform, score=0.491, total=   1.3s\n",
      "[CV] leaf_size=15, n_neighbors=5, weights=distance ...................\n",
      "[CV]  leaf_size=15, n_neighbors=5, weights=distance, score=0.448, total=   1.1s\n",
      "[CV] leaf_size=15, n_neighbors=5, weights=distance ...................\n",
      "[CV]  leaf_size=15, n_neighbors=5, weights=distance, score=0.444, total=   0.9s\n",
      "[CV] leaf_size=15, n_neighbors=5, weights=distance ...................\n",
      "[CV]  leaf_size=15, n_neighbors=5, weights=distance, score=0.437, total=   1.0s\n",
      "[CV] leaf_size=15, n_neighbors=5, weights=distance ...................\n",
      "[CV]  leaf_size=15, n_neighbors=5, weights=distance, score=0.445, total=   0.9s\n",
      "[CV] leaf_size=15, n_neighbors=5, weights=distance ...................\n",
      "[CV]  leaf_size=15, n_neighbors=5, weights=distance, score=0.455, total=   0.9s\n",
      "[CV] leaf_size=15, n_neighbors=7, weights=uniform ....................\n",
      "[CV]  leaf_size=15, n_neighbors=7, weights=uniform, score=0.494, total=   1.2s\n",
      "[CV] leaf_size=15, n_neighbors=7, weights=uniform ....................\n",
      "[CV]  leaf_size=15, n_neighbors=7, weights=uniform, score=0.506, total=   1.3s\n",
      "[CV] leaf_size=15, n_neighbors=7, weights=uniform ....................\n",
      "[CV]  leaf_size=15, n_neighbors=7, weights=uniform, score=0.487, total=   1.3s\n",
      "[CV] leaf_size=15, n_neighbors=7, weights=uniform ....................\n",
      "[CV]  leaf_size=15, n_neighbors=7, weights=uniform, score=0.498, total=   1.3s\n",
      "[CV] leaf_size=15, n_neighbors=7, weights=uniform ....................\n",
      "[CV]  leaf_size=15, n_neighbors=7, weights=uniform, score=0.495, total=   1.4s\n",
      "[CV] leaf_size=15, n_neighbors=7, weights=distance ...................\n",
      "[CV]  leaf_size=15, n_neighbors=7, weights=distance, score=0.456, total=   1.3s\n",
      "[CV] leaf_size=15, n_neighbors=7, weights=distance ...................\n",
      "[CV]  leaf_size=15, n_neighbors=7, weights=distance, score=0.452, total=   1.0s\n",
      "[CV] leaf_size=15, n_neighbors=7, weights=distance ...................\n",
      "[CV]  leaf_size=15, n_neighbors=7, weights=distance, score=0.448, total=   1.0s\n",
      "[CV] leaf_size=15, n_neighbors=7, weights=distance ...................\n",
      "[CV]  leaf_size=15, n_neighbors=7, weights=distance, score=0.459, total=   1.1s\n",
      "[CV] leaf_size=15, n_neighbors=7, weights=distance ...................\n",
      "[CV]  leaf_size=15, n_neighbors=7, weights=distance, score=0.453, total=   1.2s\n",
      "[CV] leaf_size=15, n_neighbors=9, weights=uniform ....................\n",
      "[CV]  leaf_size=15, n_neighbors=9, weights=uniform, score=0.505, total=   1.7s\n",
      "[CV] leaf_size=15, n_neighbors=9, weights=uniform ....................\n",
      "[CV]  leaf_size=15, n_neighbors=9, weights=uniform, score=0.513, total=   1.6s\n",
      "[CV] leaf_size=15, n_neighbors=9, weights=uniform ....................\n",
      "[CV]  leaf_size=15, n_neighbors=9, weights=uniform, score=0.494, total=   1.8s\n",
      "[CV] leaf_size=15, n_neighbors=9, weights=uniform ....................\n",
      "[CV]  leaf_size=15, n_neighbors=9, weights=uniform, score=0.507, total=   1.7s\n",
      "[CV] leaf_size=15, n_neighbors=9, weights=uniform ....................\n",
      "[CV]  leaf_size=15, n_neighbors=9, weights=uniform, score=0.507, total=   1.4s\n",
      "[CV] leaf_size=15, n_neighbors=9, weights=distance ...................\n",
      "[CV]  leaf_size=15, n_neighbors=9, weights=distance, score=0.464, total=   1.4s\n",
      "[CV] leaf_size=15, n_neighbors=9, weights=distance ...................\n",
      "[CV]  leaf_size=15, n_neighbors=9, weights=distance, score=0.469, total=   1.4s\n",
      "[CV] leaf_size=15, n_neighbors=9, weights=distance ...................\n",
      "[CV]  leaf_size=15, n_neighbors=9, weights=distance, score=0.450, total=   1.5s\n",
      "[CV] leaf_size=15, n_neighbors=9, weights=distance ...................\n",
      "[CV]  leaf_size=15, n_neighbors=9, weights=distance, score=0.462, total=   1.4s\n",
      "[CV] leaf_size=15, n_neighbors=9, weights=distance ...................\n",
      "[CV]  leaf_size=15, n_neighbors=9, weights=distance, score=0.465, total=   1.4s\n",
      "[CV] leaf_size=20, n_neighbors=3, weights=uniform ....................\n",
      "[CV]  leaf_size=20, n_neighbors=3, weights=uniform, score=0.449, total=   1.2s\n",
      "[CV] leaf_size=20, n_neighbors=3, weights=uniform ....................\n",
      "[CV]  leaf_size=20, n_neighbors=3, weights=uniform, score=0.455, total=   1.2s\n",
      "[CV] leaf_size=20, n_neighbors=3, weights=uniform ....................\n",
      "[CV]  leaf_size=20, n_neighbors=3, weights=uniform, score=0.436, total=   1.1s\n",
      "[CV] leaf_size=20, n_neighbors=3, weights=uniform ....................\n",
      "[CV]  leaf_size=20, n_neighbors=3, weights=uniform, score=0.445, total=   0.9s\n",
      "[CV] leaf_size=20, n_neighbors=3, weights=uniform ....................\n",
      "[CV]  leaf_size=20, n_neighbors=3, weights=uniform, score=0.447, total=   0.9s\n",
      "[CV] leaf_size=20, n_neighbors=3, weights=distance ...................\n",
      "[CV]  leaf_size=20, n_neighbors=3, weights=distance, score=0.436, total=   1.1s\n",
      "[CV] leaf_size=20, n_neighbors=3, weights=distance ...................\n",
      "[CV]  leaf_size=20, n_neighbors=3, weights=distance, score=0.434, total=   1.1s\n",
      "[CV] leaf_size=20, n_neighbors=3, weights=distance ...................\n",
      "[CV]  leaf_size=20, n_neighbors=3, weights=distance, score=0.425, total=   1.0s\n",
      "[CV] leaf_size=20, n_neighbors=3, weights=distance ...................\n",
      "[CV]  leaf_size=20, n_neighbors=3, weights=distance, score=0.432, total=   1.7s\n",
      "[CV] leaf_size=20, n_neighbors=3, weights=distance ...................\n",
      "[CV]  leaf_size=20, n_neighbors=3, weights=distance, score=0.436, total=   1.1s\n",
      "[CV] leaf_size=20, n_neighbors=5, weights=uniform ....................\n",
      "[CV]  leaf_size=20, n_neighbors=5, weights=uniform, score=0.486, total=   1.1s\n",
      "[CV] leaf_size=20, n_neighbors=5, weights=uniform ....................\n",
      "[CV]  leaf_size=20, n_neighbors=5, weights=uniform, score=0.480, total=   1.1s\n",
      "[CV] leaf_size=20, n_neighbors=5, weights=uniform ....................\n",
      "[CV]  leaf_size=20, n_neighbors=5, weights=uniform, score=0.473, total=   1.1s\n",
      "[CV] leaf_size=20, n_neighbors=5, weights=uniform ....................\n",
      "[CV]  leaf_size=20, n_neighbors=5, weights=uniform, score=0.482, total=   1.1s\n",
      "[CV] leaf_size=20, n_neighbors=5, weights=uniform ....................\n",
      "[CV]  leaf_size=20, n_neighbors=5, weights=uniform, score=0.491, total=   1.0s\n",
      "[CV] leaf_size=20, n_neighbors=5, weights=distance ...................\n",
      "[CV]  leaf_size=20, n_neighbors=5, weights=distance, score=0.448, total=   0.9s\n",
      "[CV] leaf_size=20, n_neighbors=5, weights=distance ...................\n",
      "[CV]  leaf_size=20, n_neighbors=5, weights=distance, score=0.444, total=   0.9s\n",
      "[CV] leaf_size=20, n_neighbors=5, weights=distance ...................\n",
      "[CV]  leaf_size=20, n_neighbors=5, weights=distance, score=0.437, total=   1.0s\n",
      "[CV] leaf_size=20, n_neighbors=5, weights=distance ...................\n",
      "[CV]  leaf_size=20, n_neighbors=5, weights=distance, score=0.445, total=   1.1s\n",
      "[CV] leaf_size=20, n_neighbors=5, weights=distance ...................\n",
      "[CV]  leaf_size=20, n_neighbors=5, weights=distance, score=0.455, total=   1.2s\n",
      "[CV] leaf_size=20, n_neighbors=7, weights=uniform ....................\n",
      "[CV]  leaf_size=20, n_neighbors=7, weights=uniform, score=0.494, total=   1.9s\n",
      "[CV] leaf_size=20, n_neighbors=7, weights=uniform ....................\n",
      "[CV]  leaf_size=20, n_neighbors=7, weights=uniform, score=0.506, total=   2.1s\n",
      "[CV] leaf_size=20, n_neighbors=7, weights=uniform ....................\n",
      "[CV]  leaf_size=20, n_neighbors=7, weights=uniform, score=0.487, total=   1.3s\n",
      "[CV] leaf_size=20, n_neighbors=7, weights=uniform ....................\n",
      "[CV]  leaf_size=20, n_neighbors=7, weights=uniform, score=0.498, total=   1.2s\n",
      "[CV] leaf_size=20, n_neighbors=7, weights=uniform ....................\n",
      "[CV]  leaf_size=20, n_neighbors=7, weights=uniform, score=0.495, total=   1.2s\n",
      "[CV] leaf_size=20, n_neighbors=7, weights=distance ...................\n",
      "[CV]  leaf_size=20, n_neighbors=7, weights=distance, score=0.456, total=   1.4s\n",
      "[CV] leaf_size=20, n_neighbors=7, weights=distance ...................\n",
      "[CV]  leaf_size=20, n_neighbors=7, weights=distance, score=0.452, total=   1.4s\n",
      "[CV] leaf_size=20, n_neighbors=7, weights=distance ...................\n",
      "[CV]  leaf_size=20, n_neighbors=7, weights=distance, score=0.448, total=   1.4s\n",
      "[CV] leaf_size=20, n_neighbors=7, weights=distance ...................\n",
      "[CV]  leaf_size=20, n_neighbors=7, weights=distance, score=0.459, total=   1.6s\n",
      "[CV] leaf_size=20, n_neighbors=7, weights=distance ...................\n",
      "[CV]  leaf_size=20, n_neighbors=7, weights=distance, score=0.453, total=   1.4s\n",
      "[CV] leaf_size=20, n_neighbors=9, weights=uniform ....................\n",
      "[CV]  leaf_size=20, n_neighbors=9, weights=uniform, score=0.505, total=   1.8s\n",
      "[CV] leaf_size=20, n_neighbors=9, weights=uniform ....................\n",
      "[CV]  leaf_size=20, n_neighbors=9, weights=uniform, score=0.513, total=   1.6s\n",
      "[CV] leaf_size=20, n_neighbors=9, weights=uniform ....................\n",
      "[CV]  leaf_size=20, n_neighbors=9, weights=uniform, score=0.494, total=   1.6s\n",
      "[CV] leaf_size=20, n_neighbors=9, weights=uniform ....................\n",
      "[CV]  leaf_size=20, n_neighbors=9, weights=uniform, score=0.507, total=   1.5s\n",
      "[CV] leaf_size=20, n_neighbors=9, weights=uniform ....................\n",
      "[CV]  leaf_size=20, n_neighbors=9, weights=uniform, score=0.507, total=   1.2s\n",
      "[CV] leaf_size=20, n_neighbors=9, weights=distance ...................\n",
      "[CV]  leaf_size=20, n_neighbors=9, weights=distance, score=0.464, total=   1.2s\n",
      "[CV] leaf_size=20, n_neighbors=9, weights=distance ...................\n",
      "[CV]  leaf_size=20, n_neighbors=9, weights=distance, score=0.469, total=   1.5s\n",
      "[CV] leaf_size=20, n_neighbors=9, weights=distance ...................\n",
      "[CV]  leaf_size=20, n_neighbors=9, weights=distance, score=0.450, total=   1.6s\n",
      "[CV] leaf_size=20, n_neighbors=9, weights=distance ...................\n",
      "[CV]  leaf_size=20, n_neighbors=9, weights=distance, score=0.462, total=   1.5s\n",
      "[CV] leaf_size=20, n_neighbors=9, weights=distance ...................\n",
      "[CV]  leaf_size=20, n_neighbors=9, weights=distance, score=0.465, total=   1.0s\n",
      "[Parallel(n_jobs=1)]: Done  80 out of  80 | elapsed:  1.7min finished\n"
     ]
    },
    {
     "output_type": "execute_result",
     "data": {
      "text/plain": [
       "GridSearchCV(estimator=KNeighborsClassifier(n_neighbors=11),\n",
       "             param_grid=[{'leaf_size': [15, 20], 'n_neighbors': [3, 5, 7, 9],\n",
       "                          'weights': ['uniform', 'distance']}],\n",
       "             verbose=3)"
      ]
     },
     "metadata": {},
     "execution_count": 21
    }
   ],
   "source": [
    "grid.fit(X_train_scaled, y_train)"
   ]
  },
  {
   "cell_type": "code",
   "execution_count": 22,
   "metadata": {},
   "outputs": [
    {
     "output_type": "stream",
     "name": "stdout",
     "text": [
      "{'leaf_size': 15, 'n_neighbors': 9, 'weights': 'uniform'}\n0.5050828239086705\n"
     ]
    }
   ],
   "source": [
    "print(grid.best_params_)\n",
    "print(grid.best_score_)"
   ]
  },
  {
   "source": [
    "## Save the Model"
   ],
   "cell_type": "markdown",
   "metadata": {}
  },
  {
   "cell_type": "code",
   "execution_count": 23,
   "metadata": {},
   "outputs": [
    {
     "output_type": "execute_result",
     "data": {
      "text/plain": [
       "['K Nearest Neighbors.sav']"
      ]
     },
     "metadata": {},
     "execution_count": 23
    }
   ],
   "source": [
    "# save your model by updating \"your_name\" with your name\n",
    "# and \"your_model\" with your model variable\n",
    "# be sure to turn this in to BCS\n",
    "# if joblib fails to import, try running the command to install in terminal/git-bash\n",
    "import joblib\n",
    "filename = 'K Nearest Neighbors.sav'\n",
    "joblib.dump(grid.best_score_, filename)"
   ]
  },
  {
   "cell_type": "code",
   "execution_count": null,
   "metadata": {},
   "outputs": [],
   "source": []
  }
 ]
}